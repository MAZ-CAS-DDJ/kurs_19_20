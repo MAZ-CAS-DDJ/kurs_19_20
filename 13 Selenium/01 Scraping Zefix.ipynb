{
 "cells": [
  {
   "cell_type": "markdown",
   "metadata": {},
   "source": [
    "## Wo gibt es laut Handelsregister die meisten Bäckereien (und wo gibt es keine mehr?)"
   ]
  },
  {
   "cell_type": "markdown",
   "metadata": {},
   "source": [
    "Wir suchen im Handelsregister zefix.ch nach Beck, Back, Bäckereien, Konditor, Konditorei, Confiseur, Boulanger, etc. Damit erstellen wir ein Datensatz. Wir scrapen hier vorerst mal nach einem Begriff: Bäckerei.\n",
    "- Wo sind am meisten?\n",
    "- Wo fehlen Bäckereien?"
   ]
  },
  {
   "cell_type": "markdown",
   "metadata": {},
   "source": [
    "## Vorgehen"
   ]
  },
  {
   "cell_type": "markdown",
   "metadata": {},
   "source": [
    "1. Wir suchen nachen Begriffen mit [Selenium](https://selenium-python.readthedocs.io/)\n",
    "2. Wir legen den ganzen HTML aller Seiten ab\n",
    "3. Wie erstellen mit BeautifulSoup Dictionieries\n",
    "4. Wir bauen damit ein DataFrame und reinigen falls nötig die Daten\n",
    "5. Wir kombinieren die Daten mit Gemeindedaten\n",
    "6. Wer will, setzt nun einen automatisierte Suche auf, der einmal die Woche die Suche macht. Damit könnte wir das Bäckersterben auszeichnen."
   ]
  },
  {
   "cell_type": "markdown",
   "metadata": {},
   "source": [
    "## Imports"
   ]
  },
  {
   "cell_type": "code",
   "execution_count": 3,
   "metadata": {},
   "outputs": [],
   "source": [
    "from selenium import webdriver\n",
    "from selenium.webdriver.common.keys import Keys\n",
    "from selenium.webdriver.common.by import By\n",
    "from selenium.webdriver.support.ui import Select\n",
    "import time\n",
    "import pandas as pd\n",
    "from bs4 import BeautifulSoup"
   ]
  },
  {
   "cell_type": "markdown",
   "metadata": {},
   "source": [
    "## Seiten besuchen und HTML-Code ablegen"
   ]
  },
  {
   "cell_type": "code",
   "execution_count": null,
   "metadata": {},
   "outputs": [],
   "source": [
    "#Wir starten den BRowser auf\n",
    "driver = webdriver.Chrome(executable_path='/usr/local/bin/chromedriver')"
   ]
  },
  {
   "cell_type": "code",
   "execution_count": null,
   "metadata": {},
   "outputs": [],
   "source": [
    "#Und nun sagen wir dem Browser, welche Seite er besuchen sollte. \n",
    "driver.get('https://www.zefix.ch')"
   ]
  },
  {
   "cell_type": "code",
   "execution_count": null,
   "metadata": {},
   "outputs": [],
   "source": [
    "#Vielleicht möchten wir ihm noch etwas ZEit lassen, weil der BEsuch kann dauern. Genehmigen wir ihm \n",
    "#deshalb 2 Sekunden extra.\n",
    "driver.get('https://www.zefix.ch')\n",
    "time.sleep(2)"
   ]
  },
  {
   "cell_type": "code",
   "execution_count": null,
   "metadata": {},
   "outputs": [],
   "source": [
    "#Und nun geben wir unseren Begriff ein. ZUerst suchen wir das richtige Feld. Wir benutzen dafür den Webinspector.\n",
    "#https://selenium-python.readthedocs.io/locating-elements.html\n",
    "search = driver.find_element_by_id('firm-name-fomfield')"
   ]
  },
  {
   "cell_type": "code",
   "execution_count": null,
   "metadata": {},
   "outputs": [],
   "source": [
    "#Jetzt schicken wir das, was wir suchen wollen\n",
    "search.send_keys('bäckerei')"
   ]
  },
  {
   "cell_type": "code",
   "execution_count": null,
   "metadata": {},
   "outputs": [],
   "source": [
    "#Und jetzt suchen wir nach dem Button\n",
    "click = driver.find_element_by_id('submit-search-btn')"
   ]
  },
  {
   "cell_type": "code",
   "execution_count": null,
   "metadata": {},
   "outputs": [],
   "source": [
    "#Und wir klicken\n",
    "click.click()"
   ]
  },
  {
   "cell_type": "code",
   "execution_count": null,
   "metadata": {},
   "outputs": [],
   "source": [
    "#Das kann dauern, bauen wir zur Not genügend Zeit ein. \n",
    "time.sleep(5)"
   ]
  },
  {
   "cell_type": "code",
   "execution_count": null,
   "metadata": {},
   "outputs": [],
   "source": [
    "#Und jetzt speichern wir diese ganze Seite ab. Den Inhalt rausziehen wollen wir später.\n",
    "page = driver.page_source.encode('utf-8')\n",
    "with open(\"page.htm\", \"wb+\") as file:\n",
    "    file.write(page)\n",
    "    file.close()"
   ]
  },
  {
   "cell_type": "code",
   "execution_count": null,
   "metadata": {},
   "outputs": [],
   "source": [
    "#Jetzt klicken wir auf die nächste Seite\n",
    "#GET PDF: driver.find_elements_by_class_name('btn')[11].click()"
   ]
  },
  {
   "cell_type": "code",
   "execution_count": null,
   "metadata": {},
   "outputs": [],
   "source": [
    "#its the 14th page\n",
    "driver.find_elements_by_class_name('btn')[14].click()"
   ]
  },
  {
   "cell_type": "code",
   "execution_count": null,
   "metadata": {},
   "outputs": [],
   "source": [
    "#Save this one\n",
    "page = driver.page_source.encode('utf-8')\n",
    "with open(\"page.htm\", \"wb+\") as file:\n",
    "    file.write(page)\n",
    "    file.close()"
   ]
  },
  {
   "cell_type": "code",
   "execution_count": null,
   "metadata": {},
   "outputs": [],
   "source": [
    "#Und jetzt hängen wir alles zusammen\n"
   ]
  },
  {
   "cell_type": "code",
   "execution_count": null,
   "metadata": {},
   "outputs": [],
   "source": []
  },
  {
   "cell_type": "code",
   "execution_count": null,
   "metadata": {},
   "outputs": [],
   "source": []
  },
  {
   "cell_type": "code",
   "execution_count": null,
   "metadata": {},
   "outputs": [],
   "source": []
  },
  {
   "cell_type": "code",
   "execution_count": null,
   "metadata": {},
   "outputs": [],
   "source": []
  },
  {
   "cell_type": "markdown",
   "metadata": {},
   "source": [
    "## Alles zusammen"
   ]
  },
  {
   "cell_type": "code",
   "execution_count": 4,
   "metadata": {},
   "outputs": [],
   "source": [
    "#Wir starten den Browser auf\n",
    "driver = webdriver.Chrome(executable_path='/usr/local/bin/chromedriver')\n",
    "#Und nun sagen wir dem Browser, welche Seite er besuchen sollte. \n",
    "driver.get('https://www.zefix.ch')\n",
    "#Geben wir ihm etwas ZEit\n",
    "time.sleep(10)\n",
    "#Und nun geben wir unseren Begriff ein. ZUerst suchen wir das richtige Feld. Wir benutzen dafür den Webinspector.\n",
    "#https://selenium-python.readthedocs.io/locating-elements.html\n",
    "search = driver.find_element_by_id('firm-name-fomfield')\n",
    "#Jetzt schicken wir das, was wir suchen wollen\n",
    "search.send_keys('bäckerei')\n",
    "#Und jetzt suchen wir nach dem Button\n",
    "click = driver.find_element_by_id('submit-search-btn')\n",
    "#Und wir klicken\n",
    "click.click()\n",
    "#Das kann dauern, bauen wir zur Not genügend Zeit ein. \n",
    "time.sleep(5)\n",
    "#Und jetzt speichern wir diese ganze Seite ab. Den Inhalt rausziehen wollen wir später.\n",
    "page = driver.page_source.encode('utf-8')\n",
    "button = driver.find_elements_by_class_name('btn')[14]\n",
    "with open(\"page.htm\", \"wb+\") as file:\n",
    "    file.write(page)\n",
    "    file.close()\n",
    "#its the 14th page\n",
    "for elem in range(35):\n",
    "    driver.find_elements_by_class_name('btn')[14].click()\n",
    "    time.sleep(3)\n",
    "    page = driver.page_source.encode('utf-8')\n",
    "    with open(\"page\"+str(elem)+\".htm\", \"wb+\") as file:\n",
    "        file.write(page)\n",
    "        file.close()\n",
    "    "
   ]
  },
  {
   "cell_type": "code",
   "execution_count": null,
   "metadata": {},
   "outputs": [],
   "source": []
  }
 ],
 "metadata": {
  "kernelspec": {
   "display_name": "Python 3",
   "language": "python",
   "name": "python3"
  },
  "language_info": {
   "codemirror_mode": {
    "name": "ipython",
    "version": 3
   },
   "file_extension": ".py",
   "mimetype": "text/x-python",
   "name": "python",
   "nbconvert_exporter": "python",
   "pygments_lexer": "ipython3",
   "version": "3.7.3"
  }
 },
 "nbformat": 4,
 "nbformat_minor": 2
}
