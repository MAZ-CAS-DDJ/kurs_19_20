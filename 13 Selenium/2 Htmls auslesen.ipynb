{
 "cells": [
  {
   "cell_type": "markdown",
   "metadata": {},
   "source": [
    "## Imports"
   ]
  },
  {
   "cell_type": "code",
   "execution_count": 4,
   "metadata": {},
   "outputs": [],
   "source": [
    "from bs4 import BeautifulSoup\n",
    "import pandas as pd\n",
    "import time\n",
    "import os\n",
    "import re\n",
    "from tqdm import tqdm"
   ]
  },
  {
   "cell_type": "markdown",
   "metadata": {},
   "source": [
    "Liste aller HTMLs"
   ]
  },
  {
   "cell_type": "code",
   "execution_count": 5,
   "metadata": {},
   "outputs": [],
   "source": [
    "lst = os.listdir('pages/')"
   ]
  },
  {
   "cell_type": "markdown",
   "metadata": {},
   "source": [
    "Seiten einlesen, hier zuerst mit einer Seite"
   ]
  },
  {
   "cell_type": "code",
   "execution_count": 7,
   "metadata": {},
   "outputs": [],
   "source": [
    "file = open('pages/' + lst[0], 'r')\n",
    "text = file.read()\n",
    "h = BeautifulSoup(text, 'html.parser')"
   ]
  },
  {
   "cell_type": "markdown",
   "metadata": {},
   "source": [
    "Alle Elemente, die uns interessieren"
   ]
  },
  {
   "cell_type": "code",
   "execution_count": 12,
   "metadata": {},
   "outputs": [
    {
     "data": {
      "text/plain": [
       "[<tr class=\"ng-scope\" ng-repeat=\"row in $data\"><!-- ngRepeat: col in $columns --><!-- ngIf: col.show() --><td class=\"ng-scope\" data-title-text=\"business name\" filter=\"$listCtrl.filters[col.name]\" ng-if=\"col.show()\" ng-repeat=\"col in $columns\"><!-- ngIf: col.name === 'company' --><div class=\"company-name ng-scope\" ng-attr-title=\"{{row.name}}\" ng-if=\"col.name === 'company'\" title=\"Bäckerei zur Kettenbrücke M. Leutwiler\"><a class=\"ng-binding\" href=\"/en/search/entity/list/firm/901417?name=b%C3%A4ckerei&amp;searchType=exact\" ng-bind-html=\"highlight(row.name, $listCtrl.tableParams.filter(), 'name')\" ng-class=\"{ 'strike-thru': row.status === 'GELOESCHT'}\" ui-sref=\".details({ ehraid: row.ehraid })\">Bäckerei zur Kettenbrücke M. Leutwiler</a></div><!-- end ngIf: col.name === 'company' --><!-- ngIf: col.name === 'legalSeat' --><!-- ngIf: col.getValue --></td><!-- end ngIf: col.show() --><!-- end ngRepeat: col in $columns --><!-- ngIf: col.show() --><td class=\"ng-scope\" data-title-text=\"excerpt\" filter=\"$listCtrl.filters[col.name]\" ng-if=\"col.show()\" ng-repeat=\"col in $columns\"><!-- ngIf: col.name === 'company' --><!-- ngIf: col.name === 'legalSeat' --><!-- ngIf: col.getValue --><div class=\"ng-binding ng-scope\" ng-bind-html=\"col.getValue(this, row)\" ng-if=\"col.getValue\"><a href=\"https://ag.chregister.ch/cr-portal/auszug/zefix.xhtml?uid=CHE-107.083.298&amp;lang=de\" style=\"margin: 0em 1em;\" target=\"_blank\" title=\"excerpt (Web)\"><span class=\"icon icon--external\"></span></a> </div><!-- end ngIf: col.getValue --></td><!-- end ngIf: col.show() --><!-- end ngRepeat: col in $columns --><!-- ngIf: col.show() --><td class=\"ng-scope\" data-title-text=\"UID / UID register\" filter=\"$listCtrl.filters[col.name]\" ng-if=\"col.show()\" ng-repeat=\"col in $columns\"><!-- ngIf: col.name === 'company' --><!-- ngIf: col.name === 'legalSeat' --><!-- ngIf: col.getValue --><div class=\"ng-binding ng-scope\" ng-bind-html=\"col.getValue(this, row)\" ng-if=\"col.getValue\"><span class=\"no-wrap\">CHE-107.083.298<a class=\"uid-link\" href=\"https://www.uid.admin.ch/Detail.aspx?uid_id=CHE107083298\" target=\"_blank\"><span class=\"icon icon--external icon--after\"></span></a></span></div><!-- end ngIf: col.getValue --></td><!-- end ngIf: col.show() --><!-- end ngRepeat: col in $columns --><!-- ngIf: col.show() --><!-- end ngRepeat: col in $columns --><!-- ngIf: col.show() --><td class=\"ng-scope\" data-title-text=\"legal form\" filter=\"$listCtrl.filters[col.name]\" ng-if=\"col.show()\" ng-repeat=\"col in $columns\"><!-- ngIf: col.name === 'company' --><!-- ngIf: col.name === 'legalSeat' --><!-- ngIf: col.getValue --><div class=\"ng-binding ng-scope\" ng-bind-html=\"col.getValue(this, row)\" ng-if=\"col.getValue\"><span title=\"Sole proprietorship\">SP</span></div><!-- end ngIf: col.getValue --></td><!-- end ngIf: col.show() --><!-- end ngRepeat: col in $columns --><!-- ngIf: col.show() --><td class=\"ng-scope\" data-title-text=\"seat\" filter=\"$listCtrl.filters[col.name]\" ng-if=\"col.show()\" ng-repeat=\"col in $columns\"><!-- ngIf: col.name === 'company' --><!-- ngIf: col.name === 'legalSeat' --><div class=\"company-seat ng-scope\" ng-if=\"col.name === 'legalSeat'\"><span class=\"ng-binding\" ng-bind-html=\"highlight(row.legalSeat, $listCtrl.tableParams.filter(), 'legalSeat')\">Aarau</span></div><!-- end ngIf: col.name === 'legalSeat' --><!-- ngIf: col.getValue --></td><!-- end ngIf: col.show() --><!-- end ngRepeat: col in $columns --><!-- ngIf: col.show() --><td class=\"ng-scope\" data-title-text=\"canton / rc\" filter=\"$listCtrl.filters[col.name]\" ng-if=\"col.show()\" ng-repeat=\"col in $columns\"><!-- ngIf: col.name === 'company' --><!-- ngIf: col.name === 'legalSeat' --><!-- ngIf: col.getValue --><div class=\"ng-binding ng-scope\" ng-bind-html=\"col.getValue(this, row)\" ng-if=\"col.getValue\"><a href=\"http://www.ag.ch/handelsregisteramt/\" target=\"_blank\" title=\"Handelsregisteramt des Kantons Aargau\">AG - Aargau</a></div><!-- end ngIf: col.getValue --></td><!-- end ngIf: col.show() --><!-- end ngRepeat: col in $columns --><!-- ngIf: col.show() --><!-- end ngRepeat: col in $columns --></tr>,\n",
       " <tr class=\"ng-scope\" ng-repeat=\"row in $data\"><!-- ngRepeat: col in $columns --><!-- ngIf: col.show() --><td class=\"ng-scope\" data-title-text=\"business name\" filter=\"$listCtrl.filters[col.name]\" ng-if=\"col.show()\" ng-repeat=\"col in $columns\"><!-- ngIf: col.name === 'company' --><div class=\"company-name ng-scope\" ng-attr-title=\"{{row.name}}\" ng-if=\"col.name === 'company'\" title=\"Bäckerei, Konditorei Fahrni\"><a class=\"ng-binding\" href=\"/en/search/entity/list/firm/756855?name=b%C3%A4ckerei&amp;searchType=exact\" ng-bind-html=\"highlight(row.name, $listCtrl.tableParams.filter(), 'name')\" ng-class=\"{ 'strike-thru': row.status === 'GELOESCHT'}\" ui-sref=\".details({ ehraid: row.ehraid })\">Bäckerei, Konditorei Fahrni</a></div><!-- end ngIf: col.name === 'company' --><!-- ngIf: col.name === 'legalSeat' --><!-- ngIf: col.getValue --></td><!-- end ngIf: col.show() --><!-- end ngRepeat: col in $columns --><!-- ngIf: col.show() --><td class=\"ng-scope\" data-title-text=\"excerpt\" filter=\"$listCtrl.filters[col.name]\" ng-if=\"col.show()\" ng-repeat=\"col in $columns\"><!-- ngIf: col.name === 'company' --><!-- ngIf: col.name === 'legalSeat' --><!-- ngIf: col.getValue --><div class=\"ng-binding ng-scope\" ng-bind-html=\"col.getValue(this, row)\" ng-if=\"col.getValue\"><a href=\"https://be.chregister.ch/cr-portal/auszug/zefix.xhtml?uid=CHE-107.180.240&amp;lang=de\" style=\"margin: 0em 1em;\" target=\"_blank\" title=\"excerpt (Web)\"><span class=\"icon icon--external\"></span></a> </div><!-- end ngIf: col.getValue --></td><!-- end ngIf: col.show() --><!-- end ngRepeat: col in $columns --><!-- ngIf: col.show() --><td class=\"ng-scope\" data-title-text=\"UID / UID register\" filter=\"$listCtrl.filters[col.name]\" ng-if=\"col.show()\" ng-repeat=\"col in $columns\"><!-- ngIf: col.name === 'company' --><!-- ngIf: col.name === 'legalSeat' --><!-- ngIf: col.getValue --><div class=\"ng-binding ng-scope\" ng-bind-html=\"col.getValue(this, row)\" ng-if=\"col.getValue\"><span class=\"no-wrap\">CHE-107.180.240<a class=\"uid-link\" href=\"https://www.uid.admin.ch/Detail.aspx?uid_id=CHE107180240\" target=\"_blank\"><span class=\"icon icon--external icon--after\"></span></a></span></div><!-- end ngIf: col.getValue --></td><!-- end ngIf: col.show() --><!-- end ngRepeat: col in $columns --><!-- ngIf: col.show() --><!-- end ngRepeat: col in $columns --><!-- ngIf: col.show() --><td class=\"ng-scope\" data-title-text=\"legal form\" filter=\"$listCtrl.filters[col.name]\" ng-if=\"col.show()\" ng-repeat=\"col in $columns\"><!-- ngIf: col.name === 'company' --><!-- ngIf: col.name === 'legalSeat' --><!-- ngIf: col.getValue --><div class=\"ng-binding ng-scope\" ng-bind-html=\"col.getValue(this, row)\" ng-if=\"col.getValue\"><span title=\"Sole proprietorship\">SP</span></div><!-- end ngIf: col.getValue --></td><!-- end ngIf: col.show() --><!-- end ngRepeat: col in $columns --><!-- ngIf: col.show() --><td class=\"ng-scope\" data-title-text=\"seat\" filter=\"$listCtrl.filters[col.name]\" ng-if=\"col.show()\" ng-repeat=\"col in $columns\"><!-- ngIf: col.name === 'company' --><!-- ngIf: col.name === 'legalSeat' --><div class=\"company-seat ng-scope\" ng-if=\"col.name === 'legalSeat'\"><span class=\"ng-binding\" ng-bind-html=\"highlight(row.legalSeat, $listCtrl.tableParams.filter(), 'legalSeat')\">Dotzigen</span></div><!-- end ngIf: col.name === 'legalSeat' --><!-- ngIf: col.getValue --></td><!-- end ngIf: col.show() --><!-- end ngRepeat: col in $columns --><!-- ngIf: col.show() --><td class=\"ng-scope\" data-title-text=\"canton / rc\" filter=\"$listCtrl.filters[col.name]\" ng-if=\"col.show()\" ng-repeat=\"col in $columns\"><!-- ngIf: col.name === 'company' --><!-- ngIf: col.name === 'legalSeat' --><!-- ngIf: col.getValue --><div class=\"ng-binding ng-scope\" ng-bind-html=\"col.getValue(this, row)\" ng-if=\"col.getValue\"><a href=\"http://www.hrabe.ch/\" target=\"_blank\" title=\"Handelsregisteramt des Kantons Bern\">BE - Bern</a></div><!-- end ngIf: col.getValue --></td><!-- end ngIf: col.show() --><!-- end ngRepeat: col in $columns --><!-- ngIf: col.show() --><!-- end ngRepeat: col in $columns --></tr>,\n",
       " <tr class=\"ng-scope\" ng-repeat=\"row in $data\"><!-- ngRepeat: col in $columns --><!-- ngIf: col.show() --><td class=\"ng-scope\" data-title-text=\"business name\" filter=\"$listCtrl.filters[col.name]\" ng-if=\"col.show()\" ng-repeat=\"col in $columns\"><!-- ngIf: col.name === 'company' --><div class=\"company-name ng-scope\" ng-attr-title=\"{{row.name}}\" ng-if=\"col.name === 'company'\" title=\"Bäckerei, Konditorei Winter, Ilic Milovan\"><a class=\"ng-binding\" href=\"/en/search/entity/list/firm/1395769?name=b%C3%A4ckerei&amp;searchType=exact\" ng-bind-html=\"highlight(row.name, $listCtrl.tableParams.filter(), 'name')\" ng-class=\"{ 'strike-thru': row.status === 'GELOESCHT'}\" ui-sref=\".details({ ehraid: row.ehraid })\">Bäckerei, Konditorei Winter, Ilic Milovan</a></div><!-- end ngIf: col.name === 'company' --><!-- ngIf: col.name === 'legalSeat' --><!-- ngIf: col.getValue --></td><!-- end ngIf: col.show() --><!-- end ngRepeat: col in $columns --><!-- ngIf: col.show() --><td class=\"ng-scope\" data-title-text=\"excerpt\" filter=\"$listCtrl.filters[col.name]\" ng-if=\"col.show()\" ng-repeat=\"col in $columns\"><!-- ngIf: col.name === 'company' --><!-- ngIf: col.name === 'legalSeat' --><!-- ngIf: col.getValue --><div class=\"ng-binding ng-scope\" ng-bind-html=\"col.getValue(this, row)\" ng-if=\"col.getValue\"><a href=\"https://zh.chregister.ch/cr-portal/auszug/zefix.xhtml?uid=CHE-189.036.773&amp;lang=de\" style=\"margin: 0em 1em;\" target=\"_blank\" title=\"excerpt (Web)\"><span class=\"icon icon--external\"></span></a> </div><!-- end ngIf: col.getValue --></td><!-- end ngIf: col.show() --><!-- end ngRepeat: col in $columns --><!-- ngIf: col.show() --><td class=\"ng-scope\" data-title-text=\"UID / UID register\" filter=\"$listCtrl.filters[col.name]\" ng-if=\"col.show()\" ng-repeat=\"col in $columns\"><!-- ngIf: col.name === 'company' --><!-- ngIf: col.name === 'legalSeat' --><!-- ngIf: col.getValue --><div class=\"ng-binding ng-scope\" ng-bind-html=\"col.getValue(this, row)\" ng-if=\"col.getValue\"><span class=\"no-wrap\">CHE-189.036.773<a class=\"uid-link\" href=\"https://www.uid.admin.ch/Detail.aspx?uid_id=CHE189036773\" target=\"_blank\"><span class=\"icon icon--external icon--after\"></span></a></span></div><!-- end ngIf: col.getValue --></td><!-- end ngIf: col.show() --><!-- end ngRepeat: col in $columns --><!-- ngIf: col.show() --><!-- end ngRepeat: col in $columns --><!-- ngIf: col.show() --><td class=\"ng-scope\" data-title-text=\"legal form\" filter=\"$listCtrl.filters[col.name]\" ng-if=\"col.show()\" ng-repeat=\"col in $columns\"><!-- ngIf: col.name === 'company' --><!-- ngIf: col.name === 'legalSeat' --><!-- ngIf: col.getValue --><div class=\"ng-binding ng-scope\" ng-bind-html=\"col.getValue(this, row)\" ng-if=\"col.getValue\"><span title=\"Sole proprietorship\">SP</span></div><!-- end ngIf: col.getValue --></td><!-- end ngIf: col.show() --><!-- end ngRepeat: col in $columns --><!-- ngIf: col.show() --><td class=\"ng-scope\" data-title-text=\"seat\" filter=\"$listCtrl.filters[col.name]\" ng-if=\"col.show()\" ng-repeat=\"col in $columns\"><!-- ngIf: col.name === 'company' --><!-- ngIf: col.name === 'legalSeat' --><div class=\"company-seat ng-scope\" ng-if=\"col.name === 'legalSeat'\"><span class=\"ng-binding\" ng-bind-html=\"highlight(row.legalSeat, $listCtrl.tableParams.filter(), 'legalSeat')\">Adliswil</span></div><!-- end ngIf: col.name === 'legalSeat' --><!-- ngIf: col.getValue --></td><!-- end ngIf: col.show() --><!-- end ngRepeat: col in $columns --><!-- ngIf: col.show() --><td class=\"ng-scope\" data-title-text=\"canton / rc\" filter=\"$listCtrl.filters[col.name]\" ng-if=\"col.show()\" ng-repeat=\"col in $columns\"><!-- ngIf: col.name === 'company' --><!-- ngIf: col.name === 'legalSeat' --><!-- ngIf: col.getValue --><div class=\"ng-binding ng-scope\" ng-bind-html=\"col.getValue(this, row)\" ng-if=\"col.getValue\"><a href=\"https://hra.zh.ch/\" target=\"_blank\" title=\"Handelsregisteramt des Kantons Zürich\">ZH - Zürich</a></div><!-- end ngIf: col.getValue --></td><!-- end ngIf: col.show() --><!-- end ngRepeat: col in $columns --><!-- ngIf: col.show() --><!-- end ngRepeat: col in $columns --></tr>,\n",
       " <tr class=\"ng-scope\" ng-repeat=\"row in $data\"><!-- ngRepeat: col in $columns --><!-- ngIf: col.show() --><td class=\"ng-scope\" data-title-text=\"business name\" filter=\"$listCtrl.filters[col.name]\" ng-if=\"col.show()\" ng-repeat=\"col in $columns\"><!-- ngIf: col.name === 'company' --><div class=\"company-name ng-scope\" ng-attr-title=\"{{row.name}}\" ng-if=\"col.name === 'company'\" title='Bäckerei, Konditorei, Café \"Zum Steinenen Trauben\" Walz'><a class=\"ng-binding\" href=\"/en/search/entity/list/firm/569567?name=b%C3%A4ckerei&amp;searchType=exact\" ng-bind-html=\"highlight(row.name, $listCtrl.tableParams.filter(), 'name')\" ng-class=\"{ 'strike-thru': row.status === 'GELOESCHT'}\" ui-sref=\".details({ ehraid: row.ehraid })\">Bäckerei, Konditorei, Café \"Zum Steinenen Trauben\" Walz</a></div><!-- end ngIf: col.name === 'company' --><!-- ngIf: col.name === 'legalSeat' --><!-- ngIf: col.getValue --></td><!-- end ngIf: col.show() --><!-- end ngRepeat: col in $columns --><!-- ngIf: col.show() --><td class=\"ng-scope\" data-title-text=\"excerpt\" filter=\"$listCtrl.filters[col.name]\" ng-if=\"col.show()\" ng-repeat=\"col in $columns\"><!-- ngIf: col.name === 'company' --><!-- ngIf: col.name === 'legalSeat' --><!-- ngIf: col.getValue --><div class=\"ng-binding ng-scope\" ng-bind-html=\"col.getValue(this, row)\" ng-if=\"col.getValue\"><a href=\"https://sh.chregister.ch/cr-portal/auszug/zefix.xhtml?uid=CHE-106.833.950&amp;lang=de\" style=\"margin: 0em 1em;\" target=\"_blank\" title=\"excerpt (Web)\"><span class=\"icon icon--external\"></span></a> </div><!-- end ngIf: col.getValue --></td><!-- end ngIf: col.show() --><!-- end ngRepeat: col in $columns --><!-- ngIf: col.show() --><td class=\"ng-scope\" data-title-text=\"UID / UID register\" filter=\"$listCtrl.filters[col.name]\" ng-if=\"col.show()\" ng-repeat=\"col in $columns\"><!-- ngIf: col.name === 'company' --><!-- ngIf: col.name === 'legalSeat' --><!-- ngIf: col.getValue --><div class=\"ng-binding ng-scope\" ng-bind-html=\"col.getValue(this, row)\" ng-if=\"col.getValue\"><span class=\"no-wrap\">CHE-106.833.950<a class=\"uid-link\" href=\"https://www.uid.admin.ch/Detail.aspx?uid_id=CHE106833950\" target=\"_blank\"><span class=\"icon icon--external icon--after\"></span></a></span></div><!-- end ngIf: col.getValue --></td><!-- end ngIf: col.show() --><!-- end ngRepeat: col in $columns --><!-- ngIf: col.show() --><!-- end ngRepeat: col in $columns --><!-- ngIf: col.show() --><td class=\"ng-scope\" data-title-text=\"legal form\" filter=\"$listCtrl.filters[col.name]\" ng-if=\"col.show()\" ng-repeat=\"col in $columns\"><!-- ngIf: col.name === 'company' --><!-- ngIf: col.name === 'legalSeat' --><!-- ngIf: col.getValue --><div class=\"ng-binding ng-scope\" ng-bind-html=\"col.getValue(this, row)\" ng-if=\"col.getValue\"><span title=\"Sole proprietorship\">SP</span></div><!-- end ngIf: col.getValue --></td><!-- end ngIf: col.show() --><!-- end ngRepeat: col in $columns --><!-- ngIf: col.show() --><td class=\"ng-scope\" data-title-text=\"seat\" filter=\"$listCtrl.filters[col.name]\" ng-if=\"col.show()\" ng-repeat=\"col in $columns\"><!-- ngIf: col.name === 'company' --><!-- ngIf: col.name === 'legalSeat' --><div class=\"company-seat ng-scope\" ng-if=\"col.name === 'legalSeat'\"><span class=\"ng-binding\" ng-bind-html=\"highlight(row.legalSeat, $listCtrl.tableParams.filter(), 'legalSeat')\">Stein am Rhein</span></div><!-- end ngIf: col.name === 'legalSeat' --><!-- ngIf: col.getValue --></td><!-- end ngIf: col.show() --><!-- end ngRepeat: col in $columns --><!-- ngIf: col.show() --><td class=\"ng-scope\" data-title-text=\"canton / rc\" filter=\"$listCtrl.filters[col.name]\" ng-if=\"col.show()\" ng-repeat=\"col in $columns\"><!-- ngIf: col.name === 'company' --><!-- ngIf: col.name === 'legalSeat' --><!-- ngIf: col.getValue --><div class=\"ng-binding ng-scope\" ng-bind-html=\"col.getValue(this, row)\" ng-if=\"col.getValue\"><a href=\"http://www.hrash.ch/\" target=\"_blank\" title=\"Handelsregisteramt des Kantons Schaffhausen\">SH - Schaffhausen</a></div><!-- end ngIf: col.getValue --></td><!-- end ngIf: col.show() --><!-- end ngRepeat: col in $columns --><!-- ngIf: col.show() --><!-- end ngRepeat: col in $columns --></tr>,\n",
       " <tr class=\"ng-scope\" ng-repeat=\"row in $data\"><!-- ngRepeat: col in $columns --><!-- ngIf: col.show() --><td class=\"ng-scope\" data-title-text=\"business name\" filter=\"$listCtrl.filters[col.name]\" ng-if=\"col.show()\" ng-repeat=\"col in $columns\"><!-- ngIf: col.name === 'company' --><div class=\"company-name ng-scope\" ng-attr-title=\"{{row.name}}\" ng-if=\"col.name === 'company'\" title=\"Bäckerei, Konditorei, Confiserie Mock\"><a class=\"ng-binding\" href=\"/en/search/entity/list/firm/741919?name=b%C3%A4ckerei&amp;searchType=exact\" ng-bind-html=\"highlight(row.name, $listCtrl.tableParams.filter(), 'name')\" ng-class=\"{ 'strike-thru': row.status === 'GELOESCHT'}\" ui-sref=\".details({ ehraid: row.ehraid })\">Bäckerei, Konditorei, Confiserie Mock</a></div><!-- end ngIf: col.name === 'company' --><!-- ngIf: col.name === 'legalSeat' --><!-- ngIf: col.getValue --></td><!-- end ngIf: col.show() --><!-- end ngRepeat: col in $columns --><!-- ngIf: col.show() --><td class=\"ng-scope\" data-title-text=\"excerpt\" filter=\"$listCtrl.filters[col.name]\" ng-if=\"col.show()\" ng-repeat=\"col in $columns\"><!-- ngIf: col.name === 'company' --><!-- ngIf: col.name === 'legalSeat' --><!-- ngIf: col.getValue --><div class=\"ng-binding ng-scope\" ng-bind-html=\"col.getValue(this, row)\" ng-if=\"col.getValue\"><a href=\"https://bs.chregister.ch/cr-portal/auszug/zefix.xhtml?uid=CHE-110.597.445&amp;lang=de\" style=\"margin: 0em 1em;\" target=\"_blank\" title=\"excerpt (Web)\"><span class=\"icon icon--external\"></span></a> </div><!-- end ngIf: col.getValue --></td><!-- end ngIf: col.show() --><!-- end ngRepeat: col in $columns --><!-- ngIf: col.show() --><td class=\"ng-scope\" data-title-text=\"UID / UID register\" filter=\"$listCtrl.filters[col.name]\" ng-if=\"col.show()\" ng-repeat=\"col in $columns\"><!-- ngIf: col.name === 'company' --><!-- ngIf: col.name === 'legalSeat' --><!-- ngIf: col.getValue --><div class=\"ng-binding ng-scope\" ng-bind-html=\"col.getValue(this, row)\" ng-if=\"col.getValue\"><span class=\"no-wrap\">CHE-110.597.445<a class=\"uid-link\" href=\"https://www.uid.admin.ch/Detail.aspx?uid_id=CHE110597445\" target=\"_blank\"><span class=\"icon icon--external icon--after\"></span></a></span></div><!-- end ngIf: col.getValue --></td><!-- end ngIf: col.show() --><!-- end ngRepeat: col in $columns --><!-- ngIf: col.show() --><!-- end ngRepeat: col in $columns --><!-- ngIf: col.show() --><td class=\"ng-scope\" data-title-text=\"legal form\" filter=\"$listCtrl.filters[col.name]\" ng-if=\"col.show()\" ng-repeat=\"col in $columns\"><!-- ngIf: col.name === 'company' --><!-- ngIf: col.name === 'legalSeat' --><!-- ngIf: col.getValue --><div class=\"ng-binding ng-scope\" ng-bind-html=\"col.getValue(this, row)\" ng-if=\"col.getValue\"><span title=\"Sole proprietorship\">SP</span></div><!-- end ngIf: col.getValue --></td><!-- end ngIf: col.show() --><!-- end ngRepeat: col in $columns --><!-- ngIf: col.show() --><td class=\"ng-scope\" data-title-text=\"seat\" filter=\"$listCtrl.filters[col.name]\" ng-if=\"col.show()\" ng-repeat=\"col in $columns\"><!-- ngIf: col.name === 'company' --><!-- ngIf: col.name === 'legalSeat' --><div class=\"company-seat ng-scope\" ng-if=\"col.name === 'legalSeat'\"><span class=\"ng-binding\" ng-bind-html=\"highlight(row.legalSeat, $listCtrl.tableParams.filter(), 'legalSeat')\">Basel</span></div><!-- end ngIf: col.name === 'legalSeat' --><!-- ngIf: col.getValue --></td><!-- end ngIf: col.show() --><!-- end ngRepeat: col in $columns --><!-- ngIf: col.show() --><td class=\"ng-scope\" data-title-text=\"canton / rc\" filter=\"$listCtrl.filters[col.name]\" ng-if=\"col.show()\" ng-repeat=\"col in $columns\"><!-- ngIf: col.name === 'company' --><!-- ngIf: col.name === 'legalSeat' --><!-- ngIf: col.getValue --><div class=\"ng-binding ng-scope\" ng-bind-html=\"col.getValue(this, row)\" ng-if=\"col.getValue\"><a href=\"http://www.handelsregisteramt.bs.ch/\" target=\"_blank\" title=\"Handelsregisteramt des Kantons Basel-Stadt\">BS - Basel-Stadt</a></div><!-- end ngIf: col.getValue --></td><!-- end ngIf: col.show() --><!-- end ngRepeat: col in $columns --><!-- ngIf: col.show() --><!-- end ngRepeat: col in $columns --></tr>,\n",
       " <tr class=\"ng-scope\" ng-repeat=\"row in $data\"><!-- ngRepeat: col in $columns --><!-- ngIf: col.show() --><td class=\"ng-scope\" data-title-text=\"business name\" filter=\"$listCtrl.filters[col.name]\" ng-if=\"col.show()\" ng-repeat=\"col in $columns\"><!-- ngIf: col.name === 'company' --><div class=\"company-name ng-scope\" ng-attr-title=\"{{row.name}}\" ng-if=\"col.name === 'company'\" title=\"Bäckerei, Konditorei, Lebensmittel E. Fahrni\"><a class=\"ng-binding\" href=\"/en/search/entity/list/firm/511240?name=b%C3%A4ckerei&amp;searchType=exact\" ng-bind-html=\"highlight(row.name, $listCtrl.tableParams.filter(), 'name')\" ng-class=\"{ 'strike-thru': row.status === 'GELOESCHT'}\" ui-sref=\".details({ ehraid: row.ehraid })\">Bäckerei, Konditorei, Lebensmittel E. Fahrni</a></div><!-- end ngIf: col.name === 'company' --><!-- ngIf: col.name === 'legalSeat' --><!-- ngIf: col.getValue --></td><!-- end ngIf: col.show() --><!-- end ngRepeat: col in $columns --><!-- ngIf: col.show() --><td class=\"ng-scope\" data-title-text=\"excerpt\" filter=\"$listCtrl.filters[col.name]\" ng-if=\"col.show()\" ng-repeat=\"col in $columns\"><!-- ngIf: col.name === 'company' --><!-- ngIf: col.name === 'legalSeat' --><!-- ngIf: col.getValue --><div class=\"ng-binding ng-scope\" ng-bind-html=\"col.getValue(this, row)\" ng-if=\"col.getValue\"><a href=\"https://be.chregister.ch/cr-portal/auszug/zefix.xhtml?uid=CHE-105.384.814&amp;lang=de\" style=\"margin: 0em 1em;\" target=\"_blank\" title=\"excerpt (Web)\"><span class=\"icon icon--external\"></span></a> </div><!-- end ngIf: col.getValue --></td><!-- end ngIf: col.show() --><!-- end ngRepeat: col in $columns --><!-- ngIf: col.show() --><td class=\"ng-scope\" data-title-text=\"UID / UID register\" filter=\"$listCtrl.filters[col.name]\" ng-if=\"col.show()\" ng-repeat=\"col in $columns\"><!-- ngIf: col.name === 'company' --><!-- ngIf: col.name === 'legalSeat' --><!-- ngIf: col.getValue --><div class=\"ng-binding ng-scope\" ng-bind-html=\"col.getValue(this, row)\" ng-if=\"col.getValue\"><span class=\"no-wrap\">CHE-105.384.814<a class=\"uid-link\" href=\"https://www.uid.admin.ch/Detail.aspx?uid_id=CHE105384814\" target=\"_blank\"><span class=\"icon icon--external icon--after\"></span></a></span></div><!-- end ngIf: col.getValue --></td><!-- end ngIf: col.show() --><!-- end ngRepeat: col in $columns --><!-- ngIf: col.show() --><!-- end ngRepeat: col in $columns --><!-- ngIf: col.show() --><td class=\"ng-scope\" data-title-text=\"legal form\" filter=\"$listCtrl.filters[col.name]\" ng-if=\"col.show()\" ng-repeat=\"col in $columns\"><!-- ngIf: col.name === 'company' --><!-- ngIf: col.name === 'legalSeat' --><!-- ngIf: col.getValue --><div class=\"ng-binding ng-scope\" ng-bind-html=\"col.getValue(this, row)\" ng-if=\"col.getValue\"><span title=\"Sole proprietorship\">SP</span></div><!-- end ngIf: col.getValue --></td><!-- end ngIf: col.show() --><!-- end ngRepeat: col in $columns --><!-- ngIf: col.show() --><td class=\"ng-scope\" data-title-text=\"seat\" filter=\"$listCtrl.filters[col.name]\" ng-if=\"col.show()\" ng-repeat=\"col in $columns\"><!-- ngIf: col.name === 'company' --><!-- ngIf: col.name === 'legalSeat' --><div class=\"company-seat ng-scope\" ng-if=\"col.name === 'legalSeat'\"><span class=\"ng-binding\" ng-bind-html=\"highlight(row.legalSeat, $listCtrl.tableParams.filter(), 'legalSeat')\">Sigriswil</span></div><!-- end ngIf: col.name === 'legalSeat' --><!-- ngIf: col.getValue --></td><!-- end ngIf: col.show() --><!-- end ngRepeat: col in $columns --><!-- ngIf: col.show() --><td class=\"ng-scope\" data-title-text=\"canton / rc\" filter=\"$listCtrl.filters[col.name]\" ng-if=\"col.show()\" ng-repeat=\"col in $columns\"><!-- ngIf: col.name === 'company' --><!-- ngIf: col.name === 'legalSeat' --><!-- ngIf: col.getValue --><div class=\"ng-binding ng-scope\" ng-bind-html=\"col.getValue(this, row)\" ng-if=\"col.getValue\"><a href=\"http://www.hrabe.ch/\" target=\"_blank\" title=\"Handelsregisteramt des Kantons Bern\">BE - Bern</a></div><!-- end ngIf: col.getValue --></td><!-- end ngIf: col.show() --><!-- end ngRepeat: col in $columns --><!-- ngIf: col.show() --><!-- end ngRepeat: col in $columns --></tr>,\n",
       " <tr class=\"ng-scope\" ng-repeat=\"row in $data\"><!-- ngRepeat: col in $columns --><!-- ngIf: col.show() --><td class=\"ng-scope\" data-title-text=\"business name\" filter=\"$listCtrl.filters[col.name]\" ng-if=\"col.show()\" ng-repeat=\"col in $columns\"><!-- ngIf: col.name === 'company' --><div class=\"company-name ng-scope\" ng-attr-title=\"{{row.name}}\" ng-if=\"col.name === 'company'\" title=\"Bäckerei, Tea-Room und Garni Imseng\"><a class=\"ng-binding\" href=\"/en/search/entity/list/firm/751633?name=b%C3%A4ckerei&amp;searchType=exact\" ng-bind-html=\"highlight(row.name, $listCtrl.tableParams.filter(), 'name')\" ng-class=\"{ 'strike-thru': row.status === 'GELOESCHT'}\" ui-sref=\".details({ ehraid: row.ehraid })\">Bäckerei, Tea-Room und Garni Imseng</a></div><!-- end ngIf: col.name === 'company' --><!-- ngIf: col.name === 'legalSeat' --><!-- ngIf: col.getValue --></td><!-- end ngIf: col.show() --><!-- end ngRepeat: col in $columns --><!-- ngIf: col.show() --><td class=\"ng-scope\" data-title-text=\"excerpt\" filter=\"$listCtrl.filters[col.name]\" ng-if=\"col.show()\" ng-repeat=\"col in $columns\"><!-- ngIf: col.name === 'company' --><!-- ngIf: col.name === 'legalSeat' --><!-- ngIf: col.getValue --><div class=\"ng-binding ng-scope\" ng-bind-html=\"col.getValue(this, row)\" ng-if=\"col.getValue\"><a href=\"https://vo.chregister.ch/cr-portal/auszug/zefix.xhtml?uid=CHE-106.986.387&amp;lang=de\" style=\"margin: 0em 1em;\" target=\"_blank\" title=\"excerpt (Web)\"><span class=\"icon icon--external\"></span></a> </div><!-- end ngIf: col.getValue --></td><!-- end ngIf: col.show() --><!-- end ngRepeat: col in $columns --><!-- ngIf: col.show() --><td class=\"ng-scope\" data-title-text=\"UID / UID register\" filter=\"$listCtrl.filters[col.name]\" ng-if=\"col.show()\" ng-repeat=\"col in $columns\"><!-- ngIf: col.name === 'company' --><!-- ngIf: col.name === 'legalSeat' --><!-- ngIf: col.getValue --><div class=\"ng-binding ng-scope\" ng-bind-html=\"col.getValue(this, row)\" ng-if=\"col.getValue\"><span class=\"no-wrap\">CHE-106.986.387<a class=\"uid-link\" href=\"https://www.uid.admin.ch/Detail.aspx?uid_id=CHE106986387\" target=\"_blank\"><span class=\"icon icon--external icon--after\"></span></a></span></div><!-- end ngIf: col.getValue --></td><!-- end ngIf: col.show() --><!-- end ngRepeat: col in $columns --><!-- ngIf: col.show() --><!-- end ngRepeat: col in $columns --><!-- ngIf: col.show() --><td class=\"ng-scope\" data-title-text=\"legal form\" filter=\"$listCtrl.filters[col.name]\" ng-if=\"col.show()\" ng-repeat=\"col in $columns\"><!-- ngIf: col.name === 'company' --><!-- ngIf: col.name === 'legalSeat' --><!-- ngIf: col.getValue --><div class=\"ng-binding ng-scope\" ng-bind-html=\"col.getValue(this, row)\" ng-if=\"col.getValue\"><span title=\"Sole proprietorship\">SP</span></div><!-- end ngIf: col.getValue --></td><!-- end ngIf: col.show() --><!-- end ngRepeat: col in $columns --><!-- ngIf: col.show() --><td class=\"ng-scope\" data-title-text=\"seat\" filter=\"$listCtrl.filters[col.name]\" ng-if=\"col.show()\" ng-repeat=\"col in $columns\"><!-- ngIf: col.name === 'company' --><!-- ngIf: col.name === 'legalSeat' --><div class=\"company-seat ng-scope\" ng-if=\"col.name === 'legalSeat'\"><span class=\"ng-binding\" ng-bind-html=\"highlight(row.legalSeat, $listCtrl.tableParams.filter(), 'legalSeat')\">Saas-Fee</span></div><!-- end ngIf: col.name === 'legalSeat' --><!-- ngIf: col.getValue --></td><!-- end ngIf: col.show() --><!-- end ngRepeat: col in $columns --><!-- ngIf: col.show() --><td class=\"ng-scope\" data-title-text=\"canton / rc\" filter=\"$listCtrl.filters[col.name]\" ng-if=\"col.show()\" ng-repeat=\"col in $columns\"><!-- ngIf: col.name === 'company' --><!-- ngIf: col.name === 'legalSeat' --><!-- ngIf: col.getValue --><div class=\"ng-binding ng-scope\" ng-bind-html=\"col.getValue(this, row)\" ng-if=\"col.getValue\"><a href=\"https://www.vs.ch/de/web/ext-rc/\" target=\"_blank\" title=\"Handelsregisteramt Oberwallis\">VS - Brig (Oberwallis)</a></div><!-- end ngIf: col.getValue --></td><!-- end ngIf: col.show() --><!-- end ngRepeat: col in $columns --><!-- ngIf: col.show() --><!-- end ngRepeat: col in $columns --></tr>,\n",
       " <tr class=\"ng-scope\" ng-repeat=\"row in $data\"><!-- ngRepeat: col in $columns --><!-- ngIf: col.show() --><td class=\"ng-scope\" data-title-text=\"business name\" filter=\"$listCtrl.filters[col.name]\" ng-if=\"col.show()\" ng-repeat=\"col in $columns\"><!-- ngIf: col.name === 'company' --><div class=\"company-name ng-scope\" ng-attr-title=\"{{row.name}}\" ng-if=\"col.name === 'company'\" title=\"Bäckerei-Café Betschart\"><a class=\"ng-binding\" href=\"/en/search/entity/list/firm/984857?name=b%C3%A4ckerei&amp;searchType=exact\" ng-bind-html=\"highlight(row.name, $listCtrl.tableParams.filter(), 'name')\" ng-class=\"{ 'strike-thru': row.status === 'GELOESCHT'}\" ui-sref=\".details({ ehraid: row.ehraid })\">Bäckerei-Café Betschart</a></div><!-- end ngIf: col.name === 'company' --><!-- ngIf: col.name === 'legalSeat' --><!-- ngIf: col.getValue --></td><!-- end ngIf: col.show() --><!-- end ngRepeat: col in $columns --><!-- ngIf: col.show() --><td class=\"ng-scope\" data-title-text=\"excerpt\" filter=\"$listCtrl.filters[col.name]\" ng-if=\"col.show()\" ng-repeat=\"col in $columns\"><!-- ngIf: col.name === 'company' --><!-- ngIf: col.name === 'legalSeat' --><!-- ngIf: col.getValue --><div class=\"ng-binding ng-scope\" ng-bind-html=\"col.getValue(this, row)\" ng-if=\"col.getValue\"><a href=\"https://zh.chregister.ch/cr-portal/auszug/zefix.xhtml?uid=CHE-115.764.041&amp;lang=de\" style=\"margin: 0em 1em;\" target=\"_blank\" title=\"excerpt (Web)\"><span class=\"icon icon--external\"></span></a> </div><!-- end ngIf: col.getValue --></td><!-- end ngIf: col.show() --><!-- end ngRepeat: col in $columns --><!-- ngIf: col.show() --><td class=\"ng-scope\" data-title-text=\"UID / UID register\" filter=\"$listCtrl.filters[col.name]\" ng-if=\"col.show()\" ng-repeat=\"col in $columns\"><!-- ngIf: col.name === 'company' --><!-- ngIf: col.name === 'legalSeat' --><!-- ngIf: col.getValue --><div class=\"ng-binding ng-scope\" ng-bind-html=\"col.getValue(this, row)\" ng-if=\"col.getValue\"><span class=\"no-wrap\">CHE-115.764.041<a class=\"uid-link\" href=\"https://www.uid.admin.ch/Detail.aspx?uid_id=CHE115764041\" target=\"_blank\"><span class=\"icon icon--external icon--after\"></span></a></span></div><!-- end ngIf: col.getValue --></td><!-- end ngIf: col.show() --><!-- end ngRepeat: col in $columns --><!-- ngIf: col.show() --><!-- end ngRepeat: col in $columns --><!-- ngIf: col.show() --><td class=\"ng-scope\" data-title-text=\"legal form\" filter=\"$listCtrl.filters[col.name]\" ng-if=\"col.show()\" ng-repeat=\"col in $columns\"><!-- ngIf: col.name === 'company' --><!-- ngIf: col.name === 'legalSeat' --><!-- ngIf: col.getValue --><div class=\"ng-binding ng-scope\" ng-bind-html=\"col.getValue(this, row)\" ng-if=\"col.getValue\"><span title=\"Sole proprietorship\">SP</span></div><!-- end ngIf: col.getValue --></td><!-- end ngIf: col.show() --><!-- end ngRepeat: col in $columns --><!-- ngIf: col.show() --><td class=\"ng-scope\" data-title-text=\"seat\" filter=\"$listCtrl.filters[col.name]\" ng-if=\"col.show()\" ng-repeat=\"col in $columns\"><!-- ngIf: col.name === 'company' --><!-- ngIf: col.name === 'legalSeat' --><div class=\"company-seat ng-scope\" ng-if=\"col.name === 'legalSeat'\"><span class=\"ng-binding\" ng-bind-html=\"highlight(row.legalSeat, $listCtrl.tableParams.filter(), 'legalSeat')\">Bonstetten</span></div><!-- end ngIf: col.name === 'legalSeat' --><!-- ngIf: col.getValue --></td><!-- end ngIf: col.show() --><!-- end ngRepeat: col in $columns --><!-- ngIf: col.show() --><td class=\"ng-scope\" data-title-text=\"canton / rc\" filter=\"$listCtrl.filters[col.name]\" ng-if=\"col.show()\" ng-repeat=\"col in $columns\"><!-- ngIf: col.name === 'company' --><!-- ngIf: col.name === 'legalSeat' --><!-- ngIf: col.getValue --><div class=\"ng-binding ng-scope\" ng-bind-html=\"col.getValue(this, row)\" ng-if=\"col.getValue\"><a href=\"https://hra.zh.ch/\" target=\"_blank\" title=\"Handelsregisteramt des Kantons Zürich\">ZH - Zürich</a></div><!-- end ngIf: col.getValue --></td><!-- end ngIf: col.show() --><!-- end ngRepeat: col in $columns --><!-- ngIf: col.show() --><!-- end ngRepeat: col in $columns --></tr>,\n",
       " <tr class=\"ng-scope\" ng-repeat=\"row in $data\"><!-- ngRepeat: col in $columns --><!-- ngIf: col.show() --><td class=\"ng-scope\" data-title-text=\"business name\" filter=\"$listCtrl.filters[col.name]\" ng-if=\"col.show()\" ng-repeat=\"col in $columns\"><!-- ngIf: col.name === 'company' --><div class=\"company-name ng-scope\" ng-attr-title=\"{{row.name}}\" ng-if=\"col.name === 'company'\" title=\"Bäckerei-Café Kohler AG\"><a class=\"ng-binding\" href=\"/en/search/entity/list/firm/1147763?name=b%C3%A4ckerei&amp;searchType=exact\" ng-bind-html=\"highlight(row.name, $listCtrl.tableParams.filter(), 'name')\" ng-class=\"{ 'strike-thru': row.status === 'GELOESCHT'}\" ui-sref=\".details({ ehraid: row.ehraid })\">Bäckerei-Café Kohler AG</a></div><!-- end ngIf: col.name === 'company' --><!-- ngIf: col.name === 'legalSeat' --><!-- ngIf: col.getValue --></td><!-- end ngIf: col.show() --><!-- end ngRepeat: col in $columns --><!-- ngIf: col.show() --><td class=\"ng-scope\" data-title-text=\"excerpt\" filter=\"$listCtrl.filters[col.name]\" ng-if=\"col.show()\" ng-repeat=\"col in $columns\"><!-- ngIf: col.name === 'company' --><!-- ngIf: col.name === 'legalSeat' --><!-- ngIf: col.getValue --><div class=\"ng-binding ng-scope\" ng-bind-html=\"col.getValue(this, row)\" ng-if=\"col.getValue\"><a href=\"https://ag.chregister.ch/cr-portal/auszug/zefix.xhtml?uid=CHE-214.578.660&amp;lang=de\" style=\"margin: 0em 1em;\" target=\"_blank\" title=\"excerpt (Web)\"><span class=\"icon icon--external\"></span></a> </div><!-- end ngIf: col.getValue --></td><!-- end ngIf: col.show() --><!-- end ngRepeat: col in $columns --><!-- ngIf: col.show() --><td class=\"ng-scope\" data-title-text=\"UID / UID register\" filter=\"$listCtrl.filters[col.name]\" ng-if=\"col.show()\" ng-repeat=\"col in $columns\"><!-- ngIf: col.name === 'company' --><!-- ngIf: col.name === 'legalSeat' --><!-- ngIf: col.getValue --><div class=\"ng-binding ng-scope\" ng-bind-html=\"col.getValue(this, row)\" ng-if=\"col.getValue\"><span class=\"no-wrap\">CHE-214.578.660<a class=\"uid-link\" href=\"https://www.uid.admin.ch/Detail.aspx?uid_id=CHE214578660\" target=\"_blank\"><span class=\"icon icon--external icon--after\"></span></a></span></div><!-- end ngIf: col.getValue --></td><!-- end ngIf: col.show() --><!-- end ngRepeat: col in $columns --><!-- ngIf: col.show() --><!-- end ngRepeat: col in $columns --><!-- ngIf: col.show() --><td class=\"ng-scope\" data-title-text=\"legal form\" filter=\"$listCtrl.filters[col.name]\" ng-if=\"col.show()\" ng-repeat=\"col in $columns\"><!-- ngIf: col.name === 'company' --><!-- ngIf: col.name === 'legalSeat' --><!-- ngIf: col.getValue --><div class=\"ng-binding ng-scope\" ng-bind-html=\"col.getValue(this, row)\" ng-if=\"col.getValue\"><span title=\"Corporation\">Ltd</span></div><!-- end ngIf: col.getValue --></td><!-- end ngIf: col.show() --><!-- end ngRepeat: col in $columns --><!-- ngIf: col.show() --><td class=\"ng-scope\" data-title-text=\"seat\" filter=\"$listCtrl.filters[col.name]\" ng-if=\"col.show()\" ng-repeat=\"col in $columns\"><!-- ngIf: col.name === 'company' --><!-- ngIf: col.name === 'legalSeat' --><div class=\"company-seat ng-scope\" ng-if=\"col.name === 'legalSeat'\"><span class=\"ng-binding\" ng-bind-html=\"highlight(row.legalSeat, $listCtrl.tableParams.filter(), 'legalSeat')\">Hunzenschwil</span></div><!-- end ngIf: col.name === 'legalSeat' --><!-- ngIf: col.getValue --></td><!-- end ngIf: col.show() --><!-- end ngRepeat: col in $columns --><!-- ngIf: col.show() --><td class=\"ng-scope\" data-title-text=\"canton / rc\" filter=\"$listCtrl.filters[col.name]\" ng-if=\"col.show()\" ng-repeat=\"col in $columns\"><!-- ngIf: col.name === 'company' --><!-- ngIf: col.name === 'legalSeat' --><!-- ngIf: col.getValue --><div class=\"ng-binding ng-scope\" ng-bind-html=\"col.getValue(this, row)\" ng-if=\"col.getValue\"><a href=\"http://www.ag.ch/handelsregisteramt/\" target=\"_blank\" title=\"Handelsregisteramt des Kantons Aargau\">AG - Aargau</a></div><!-- end ngIf: col.getValue --></td><!-- end ngIf: col.show() --><!-- end ngRepeat: col in $columns --><!-- ngIf: col.show() --><!-- end ngRepeat: col in $columns --></tr>,\n",
       " <tr class=\"ng-scope\" ng-repeat=\"row in $data\"><!-- ngRepeat: col in $columns --><!-- ngIf: col.show() --><td class=\"ng-scope\" data-title-text=\"business name\" filter=\"$listCtrl.filters[col.name]\" ng-if=\"col.show()\" ng-repeat=\"col in $columns\"><!-- ngIf: col.name === 'company' --><div class=\"company-name ng-scope\" ng-attr-title=\"{{row.name}}\" ng-if=\"col.name === 'company'\" title=\"Bäckerei-Café Meyer AG\"><a class=\"ng-binding\" href=\"/en/search/entity/list/firm/795528?name=b%C3%A4ckerei&amp;searchType=exact\" ng-bind-html=\"highlight(row.name, $listCtrl.tableParams.filter(), 'name')\" ng-class=\"{ 'strike-thru': row.status === 'GELOESCHT'}\" ui-sref=\".details({ ehraid: row.ehraid })\">Bäckerei-Café Meyer AG</a></div><!-- end ngIf: col.name === 'company' --><!-- ngIf: col.name === 'legalSeat' --><!-- ngIf: col.getValue --></td><!-- end ngIf: col.show() --><!-- end ngRepeat: col in $columns --><!-- ngIf: col.show() --><td class=\"ng-scope\" data-title-text=\"excerpt\" filter=\"$listCtrl.filters[col.name]\" ng-if=\"col.show()\" ng-repeat=\"col in $columns\"><!-- ngIf: col.name === 'company' --><!-- ngIf: col.name === 'legalSeat' --><!-- ngIf: col.getValue --><div class=\"ng-binding ng-scope\" ng-bind-html=\"col.getValue(this, row)\" ng-if=\"col.getValue\"><a href=\"https://lu.chregister.ch/cr-portal/auszug/zefix.xhtml?uid=CHE-112.409.371&amp;lang=de\" style=\"margin: 0em 1em;\" target=\"_blank\" title=\"excerpt (Web)\"><span class=\"icon icon--external\"></span></a> </div><!-- end ngIf: col.getValue --></td><!-- end ngIf: col.show() --><!-- end ngRepeat: col in $columns --><!-- ngIf: col.show() --><td class=\"ng-scope\" data-title-text=\"UID / UID register\" filter=\"$listCtrl.filters[col.name]\" ng-if=\"col.show()\" ng-repeat=\"col in $columns\"><!-- ngIf: col.name === 'company' --><!-- ngIf: col.name === 'legalSeat' --><!-- ngIf: col.getValue --><div class=\"ng-binding ng-scope\" ng-bind-html=\"col.getValue(this, row)\" ng-if=\"col.getValue\"><span class=\"no-wrap\">CHE-112.409.371<a class=\"uid-link\" href=\"https://www.uid.admin.ch/Detail.aspx?uid_id=CHE112409371\" target=\"_blank\"><span class=\"icon icon--external icon--after\"></span></a></span></div><!-- end ngIf: col.getValue --></td><!-- end ngIf: col.show() --><!-- end ngRepeat: col in $columns --><!-- ngIf: col.show() --><!-- end ngRepeat: col in $columns --><!-- ngIf: col.show() --><td class=\"ng-scope\" data-title-text=\"legal form\" filter=\"$listCtrl.filters[col.name]\" ng-if=\"col.show()\" ng-repeat=\"col in $columns\"><!-- ngIf: col.name === 'company' --><!-- ngIf: col.name === 'legalSeat' --><!-- ngIf: col.getValue --><div class=\"ng-binding ng-scope\" ng-bind-html=\"col.getValue(this, row)\" ng-if=\"col.getValue\"><span title=\"Corporation\">Ltd</span></div><!-- end ngIf: col.getValue --></td><!-- end ngIf: col.show() --><!-- end ngRepeat: col in $columns --><!-- ngIf: col.show() --><td class=\"ng-scope\" data-title-text=\"seat\" filter=\"$listCtrl.filters[col.name]\" ng-if=\"col.show()\" ng-repeat=\"col in $columns\"><!-- ngIf: col.name === 'company' --><!-- ngIf: col.name === 'legalSeat' --><div class=\"company-seat ng-scope\" ng-if=\"col.name === 'legalSeat'\"><span class=\"ng-binding\" ng-bind-html=\"highlight(row.legalSeat, $listCtrl.tableParams.filter(), 'legalSeat')\">Hitzkirch</span></div><!-- end ngIf: col.name === 'legalSeat' --><!-- ngIf: col.getValue --></td><!-- end ngIf: col.show() --><!-- end ngRepeat: col in $columns --><!-- ngIf: col.show() --><td class=\"ng-scope\" data-title-text=\"canton / rc\" filter=\"$listCtrl.filters[col.name]\" ng-if=\"col.show()\" ng-repeat=\"col in $columns\"><!-- ngIf: col.name === 'company' --><!-- ngIf: col.name === 'legalSeat' --><!-- ngIf: col.getValue --><div class=\"ng-binding ng-scope\" ng-bind-html=\"col.getValue(this, row)\" ng-if=\"col.getValue\"><a href=\"http://www.handelsregister.lu.ch/\" target=\"_blank\" title=\"Handelsregisteramt des Kantons Luzern\">LU - Luzern</a></div><!-- end ngIf: col.getValue --></td><!-- end ngIf: col.show() --><!-- end ngRepeat: col in $columns --><!-- ngIf: col.show() --><!-- end ngRepeat: col in $columns --></tr>]"
      ]
     },
     "execution_count": 12,
     "metadata": {},
     "output_type": "execute_result"
    }
   ],
   "source": [
    "h.find_all('tr', {'class':'ng-scope'})"
   ]
  },
  {
   "cell_type": "markdown",
   "metadata": {},
   "source": [
    "Alle Elemente"
   ]
  },
  {
   "cell_type": "code",
   "execution_count": 17,
   "metadata": {},
   "outputs": [
    {
     "data": {
      "text/plain": [
       "'Bäckerei zur Kettenbrücke M. Leutwiler'"
      ]
     },
     "execution_count": 17,
     "metadata": {},
     "output_type": "execute_result"
    }
   ],
   "source": [
    "h.find_all('tr', {'class':'ng-scope'})[0].find('div')['title']"
   ]
  },
  {
   "cell_type": "code",
   "execution_count": 22,
   "metadata": {},
   "outputs": [
    {
     "data": {
      "text/plain": [
       "'https://ag.chregister.ch/cr-portal/auszug/zefix.xhtml?uid=CHE-107.083.298&lang=de'"
      ]
     },
     "execution_count": 22,
     "metadata": {},
     "output_type": "execute_result"
    }
   ],
   "source": [
    "h.find_all('tr', {'class':'ng-scope'})[0].find_next('div').find_next('div').find('a')['href']"
   ]
  },
  {
   "cell_type": "code",
   "execution_count": 35,
   "metadata": {},
   "outputs": [
    {
     "data": {
      "text/plain": [
       "'Aarau'"
      ]
     },
     "execution_count": 35,
     "metadata": {},
     "output_type": "execute_result"
    }
   ],
   "source": [
    "h.find_all('tr', {'class':'ng-scope'})[0].find_next('div') \\\n",
    "    .find_next('div').find_next('div').find_next('div').find_next('div').text"
   ]
  },
  {
   "cell_type": "code",
   "execution_count": 37,
   "metadata": {},
   "outputs": [
    {
     "data": {
      "text/plain": [
       "'AG - Aargau'"
      ]
     },
     "execution_count": 37,
     "metadata": {},
     "output_type": "execute_result"
    }
   ],
   "source": [
    "h.find_all('tr', {'class':'ng-scope'})[0].find_next('div') \\\n",
    "    .find_next('div').find_next('div').find_next('div') \\\n",
    "    .find_next('div').find_next('div').text"
   ]
  },
  {
   "cell_type": "markdown",
   "metadata": {},
   "source": [
    "Und jetzt alles in einen For_loop packen"
   ]
  },
  {
   "cell_type": "code",
   "execution_count": 39,
   "metadata": {},
   "outputs": [],
   "source": [
    "soup_lst = h.find_all('tr', {'class':'ng-scope'})"
   ]
  },
  {
   "cell_type": "code",
   "execution_count": 41,
   "metadata": {},
   "outputs": [],
   "source": [
    "bäck_lst = []\n",
    "\n",
    "for bäck in soup_lst:\n",
    "    \n",
    "    name = bäck.find('div')['title']\n",
    "    url = bäck.find_next('div').find_next('div').find('a')['href']\n",
    "    gem = bäck.find_next('div') \\\n",
    "        .find_next('div').find_next('div').find_next('div').find_next('div').text\n",
    "    kt = bäck.find_next('div') \\\n",
    "        .find_next('div').find_next('div').find_next('div') \\\n",
    "        .find_next('div').find_next('div').text\n",
    "    \n",
    "    minidict = {'Bäckerei': name,\n",
    "                'URL': url,\n",
    "                'Gemeinde': gem,\n",
    "                'Kanton': kt}\n",
    "    \n",
    "    bäck_lst.append(minidict)"
   ]
  },
  {
   "cell_type": "markdown",
   "metadata": {},
   "source": [
    "Jetzt machen wir daraus eine Funktion"
   ]
  },
  {
   "cell_type": "code",
   "execution_count": 45,
   "metadata": {},
   "outputs": [],
   "source": [
    "def get_bäcks(html_code):\n",
    "    \n",
    "    soup_lst = html_code.find_all('tr', {'class':'ng-scope'})\n",
    "    \n",
    "    bäck_lst = []\n",
    "    for bäck in soup_lst:\n",
    "    \n",
    "        name = bäck.find('div')['title']\n",
    "        url = bäck.find_next('div').find_next('div').find('a')['href']\n",
    "        gem = bäck.find_next('div') \\\n",
    "            .find_next('div').find_next('div').find_next('div').find_next('div').text\n",
    "        kt = bäck.find_next('div') \\\n",
    "            .find_next('div').find_next('div').find_next('div') \\\n",
    "            .find_next('div').find_next('div').text\n",
    "    \n",
    "        minidict = {'Bäckerei': name,\n",
    "                'URL': url,\n",
    "                'Gemeinde': gem,\n",
    "                'Kanton': kt}\n",
    "    \n",
    "        bäck_lst.append(minidict)\n",
    "    \n",
    "    return bäck_lst"
   ]
  },
  {
   "cell_type": "code",
   "execution_count": 46,
   "metadata": {},
   "outputs": [],
   "source": [
    "file = open('pages/' + lst[0], 'r')\n",
    "text = file.read()\n",
    "h = BeautifulSoup(text, 'html.parser')"
   ]
  },
  {
   "cell_type": "code",
   "execution_count": 47,
   "metadata": {},
   "outputs": [
    {
     "data": {
      "text/plain": [
       "[{'Bäckerei': 'Bäckerei zur Kettenbrücke M. Leutwiler',\n",
       "  'URL': 'https://ag.chregister.ch/cr-portal/auszug/zefix.xhtml?uid=CHE-107.083.298&lang=de',\n",
       "  'Gemeinde': 'Aarau',\n",
       "  'Kanton': 'AG - Aargau'},\n",
       " {'Bäckerei': 'Bäckerei, Konditorei Fahrni',\n",
       "  'URL': 'https://be.chregister.ch/cr-portal/auszug/zefix.xhtml?uid=CHE-107.180.240&lang=de',\n",
       "  'Gemeinde': 'Dotzigen',\n",
       "  'Kanton': 'BE - Bern'},\n",
       " {'Bäckerei': 'Bäckerei, Konditorei Winter, Ilic Milovan',\n",
       "  'URL': 'https://zh.chregister.ch/cr-portal/auszug/zefix.xhtml?uid=CHE-189.036.773&lang=de',\n",
       "  'Gemeinde': 'Adliswil',\n",
       "  'Kanton': 'ZH - Zürich'},\n",
       " {'Bäckerei': 'Bäckerei, Konditorei, Café \"Zum Steinenen Trauben\" Walz',\n",
       "  'URL': 'https://sh.chregister.ch/cr-portal/auszug/zefix.xhtml?uid=CHE-106.833.950&lang=de',\n",
       "  'Gemeinde': 'Stein am Rhein',\n",
       "  'Kanton': 'SH - Schaffhausen'},\n",
       " {'Bäckerei': 'Bäckerei, Konditorei, Confiserie Mock',\n",
       "  'URL': 'https://bs.chregister.ch/cr-portal/auszug/zefix.xhtml?uid=CHE-110.597.445&lang=de',\n",
       "  'Gemeinde': 'Basel',\n",
       "  'Kanton': 'BS - Basel-Stadt'},\n",
       " {'Bäckerei': 'Bäckerei, Konditorei, Lebensmittel E. Fahrni',\n",
       "  'URL': 'https://be.chregister.ch/cr-portal/auszug/zefix.xhtml?uid=CHE-105.384.814&lang=de',\n",
       "  'Gemeinde': 'Sigriswil',\n",
       "  'Kanton': 'BE - Bern'},\n",
       " {'Bäckerei': 'Bäckerei, Tea-Room und Garni Imseng',\n",
       "  'URL': 'https://vo.chregister.ch/cr-portal/auszug/zefix.xhtml?uid=CHE-106.986.387&lang=de',\n",
       "  'Gemeinde': 'Saas-Fee',\n",
       "  'Kanton': 'VS - Brig (Oberwallis)'},\n",
       " {'Bäckerei': 'Bäckerei-Café Betschart',\n",
       "  'URL': 'https://zh.chregister.ch/cr-portal/auszug/zefix.xhtml?uid=CHE-115.764.041&lang=de',\n",
       "  'Gemeinde': 'Bonstetten',\n",
       "  'Kanton': 'ZH - Zürich'},\n",
       " {'Bäckerei': 'Bäckerei-Café Kohler AG',\n",
       "  'URL': 'https://ag.chregister.ch/cr-portal/auszug/zefix.xhtml?uid=CHE-214.578.660&lang=de',\n",
       "  'Gemeinde': 'Hunzenschwil',\n",
       "  'Kanton': 'AG - Aargau'},\n",
       " {'Bäckerei': 'Bäckerei-Café Meyer AG',\n",
       "  'URL': 'https://lu.chregister.ch/cr-portal/auszug/zefix.xhtml?uid=CHE-112.409.371&lang=de',\n",
       "  'Gemeinde': 'Hitzkirch',\n",
       "  'Kanton': 'LU - Luzern'}]"
      ]
     },
     "execution_count": 47,
     "metadata": {},
     "output_type": "execute_result"
    }
   ],
   "source": [
    "get_bäcks(h)"
   ]
  },
  {
   "cell_type": "markdown",
   "metadata": {},
   "source": [
    "Und jetzt wenden wir das auf alle html files an"
   ]
  },
  {
   "cell_type": "code",
   "execution_count": 58,
   "metadata": {},
   "outputs": [
    {
     "name": "stderr",
     "output_type": "stream",
     "text": [
      "100%|██████████| 36/36 [00:02<00:00, 12.17it/s]\n"
     ]
    }
   ],
   "source": [
    "full_bäck_lst = []\n",
    "for html_file in tqdm(lst):\n",
    "    \n",
    "    file = open('pages/' + html_file, 'r')\n",
    "    text = file.read()\n",
    "    h = BeautifulSoup(text, 'html.parser')\n",
    "    \n",
    "    full_bäck_lst = full_bäck_lst + get_bäcks(h)"
   ]
  },
  {
   "cell_type": "markdown",
   "metadata": {},
   "source": [
    "Einlesen in die Liste und abspeichern"
   ]
  },
  {
   "cell_type": "code",
   "execution_count": 64,
   "metadata": {},
   "outputs": [],
   "source": [
    "df = pd.DataFrame(full_bäck_lst)\n",
    "df.to_csv('bäckereien_list.csv')"
   ]
  },
  {
   "cell_type": "code",
   "execution_count": 63,
   "metadata": {},
   "outputs": [
    {
     "data": {
      "text/plain": [
       "BE - Bern                 86\n",
       "AG - Aargau               43\n",
       "SG - St. Gallen           39\n",
       "ZH - Zürich               35\n",
       "LU - Luzern               31\n",
       "GR - Graubünden           14\n",
       "SO - Solothurn            13\n",
       "VS - Brig (Oberwallis)    13\n",
       "TG - Thurgau              12\n",
       "FR - Fribourg             11\n",
       "BS - Basel-Stadt          10\n",
       "SZ - Schwyz                8\n",
       "BL - Basel-Landschaft      7\n",
       "AR - Appenzell A. Rh.      7\n",
       "ZG - Zug                   5\n",
       "UR - Uri                   3\n",
       "GL - Glarus                3\n",
       "SH - Schaffhausen          2\n",
       "AI - Appenzell I. Rh.      1\n",
       "NW - Nidwalden             1\n",
       "Name: Kanton, dtype: int64"
      ]
     },
     "execution_count": 63,
     "metadata": {},
     "output_type": "execute_result"
    }
   ],
   "source": [
    "df['Kanton'].value_counts()"
   ]
  },
  {
   "cell_type": "code",
   "execution_count": null,
   "metadata": {},
   "outputs": [],
   "source": []
  }
 ],
 "metadata": {
  "kernelspec": {
   "display_name": "Python 3",
   "language": "python",
   "name": "python3"
  },
  "language_info": {
   "codemirror_mode": {
    "name": "ipython",
    "version": 3
   },
   "file_extension": ".py",
   "mimetype": "text/x-python",
   "name": "python",
   "nbconvert_exporter": "python",
   "pygments_lexer": "ipython3",
   "version": "3.7.3"
  }
 },
 "nbformat": 4,
 "nbformat_minor": 2
}
