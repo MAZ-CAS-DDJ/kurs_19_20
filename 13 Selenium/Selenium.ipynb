{
 "cells": [
  {
   "cell_type": "code",
   "execution_count": 79,
   "metadata": {},
   "outputs": [],
   "source": [
    "from selenium import webdriver\n",
    "from selenium.webdriver.common.keys import Keys\n",
    "from selenium.webdriver.common.by import By\n",
    "from selenium.webdriver.support.ui import Select\n",
    "import time\n",
    "import pandas as pd\n",
    "from bs4 import BeautifulSoup\n",
    "import random"
   ]
  },
  {
   "cell_type": "code",
   "execution_count": 80,
   "metadata": {},
   "outputs": [],
   "source": [
    "#Wir starten den BRowser auf\n",
    "driver = webdriver.Chrome(executable_path='/usr/local/bin/chromedriver')"
   ]
  },
  {
   "cell_type": "code",
   "execution_count": 81,
   "metadata": {},
   "outputs": [],
   "source": [
    "#Und nun sagen wir dem Browser, welche Seite er besuchen sollte. \n",
    "driver.get('https://www.zefix.ch')"
   ]
  },
  {
   "cell_type": "code",
   "execution_count": 82,
   "metadata": {},
   "outputs": [
    {
     "data": {
      "text/plain": [
       "[]"
      ]
     },
     "execution_count": 82,
     "metadata": {},
     "output_type": "execute_result"
    }
   ],
   "source": [
    "driver.find_elements_by_id('firm-name-fomfield')"
   ]
  },
  {
   "cell_type": "code",
   "execution_count": 84,
   "metadata": {},
   "outputs": [],
   "source": [
    "search = driver.find_element_by_id('firm-name-fomfield')"
   ]
  },
  {
   "cell_type": "code",
   "execution_count": 85,
   "metadata": {},
   "outputs": [],
   "source": [
    "search.send_keys('bäckerei')"
   ]
  },
  {
   "cell_type": "code",
   "execution_count": 86,
   "metadata": {},
   "outputs": [],
   "source": [
    "searchclick = driver.find_element_by_id('submit-search-btn')\n"
   ]
  },
  {
   "cell_type": "code",
   "execution_count": 87,
   "metadata": {},
   "outputs": [],
   "source": [
    "searchclick.click()"
   ]
  },
  {
   "cell_type": "code",
   "execution_count": 46,
   "metadata": {},
   "outputs": [],
   "source": [
    "#Wir starten den BRowser auf\n",
    "driver = webdriver.Chrome(executable_path='/usr/local/bin/chromedriver')\n",
    "#Und nun sagen wir dem Browser, welche Seite er besuchen sollte. \n",
    "driver.get('https://www.zefix.ch')\n",
    "time.sleep(2)\n",
    "search = driver.find_element_by_id('firm-name-fomfield')\n",
    "search.send_keys('bäckerei')\n",
    "searchclick = driver.find_element_by_id('submit-search-btn')\n",
    "searchclick.click()"
   ]
  },
  {
   "cell_type": "code",
   "execution_count": 96,
   "metadata": {},
   "outputs": [],
   "source": [
    "driver.find_elements_by_class_name('icon--right')[0].click()"
   ]
  },
  {
   "cell_type": "code",
   "execution_count": null,
   "metadata": {},
   "outputs": [],
   "source": [
    "#Save this one\n",
    "page = driver.page_source.encode('utf-8')\n",
    "with open(\"page.htm\", \"wb+\") as file:\n",
    "    file.write(page)\n",
    "    file.close()"
   ]
  },
  {
   "cell_type": "code",
   "execution_count": 99,
   "metadata": {},
   "outputs": [],
   "source": [
    "page = driver.page_source.encode('utf-8')"
   ]
  },
  {
   "cell_type": "code",
   "execution_count": 100,
   "metadata": {},
   "outputs": [],
   "source": [
    "with open(\"page.htm\", \"wb+\") as file:\n",
    "    file.write(page)\n",
    "    file.close()"
   ]
  },
  {
   "cell_type": "code",
   "execution_count": 101,
   "metadata": {},
   "outputs": [
    {
     "name": "stdout",
     "output_type": "stream",
     "text": [
      "01 Scraping Zefix.ipynb Selenium.ipynb          page.htm\r\n",
      "2 Htmls auslesen.ipynb  bäckereien_list.csv     \u001b[34mpages\u001b[m\u001b[m\r\n"
     ]
    }
   ],
   "source": [
    "!ls"
   ]
  },
  {
   "cell_type": "code",
   "execution_count": 102,
   "metadata": {},
   "outputs": [],
   "source": [
    "driver = webdriver.Chrome(executable_path=\"/usr/local/bin/chromedriver\")\n",
    "driver.get(\"https://www.zefix.ch\")\n",
    "time.sleep(2)\n",
    "search = driver.find_element_by_id('firm-name-fomfield')\n",
    "search.send_keys(\"Bäckerei\")\n",
    "searchclick = driver.find_element_by_id(\"submit-search-btn\")\n",
    "searchclick.click()\n",
    "buttons = driver.find_elements_by_class_name('icon--right')\n",
    "for nummer in range(1,36):\n",
    "    page = driver.page_source.encode('utf-8')\n",
    "    with open(\"pages/seite\"+str(nummer)+\".htm\", \"wb+\") as file:\n",
    "        file.write(page)\n",
    "        file.close()\n",
    "    buttons[0].click()\n",
    "    time.sleep(1)"
   ]
  },
  {
   "cell_type": "code",
   "execution_count": 103,
   "metadata": {},
   "outputs": [
    {
     "name": "stdout",
     "output_type": "stream",
     "text": [
      "01 Scraping Zefix.ipynb seite17.htm             seite3.htm\r\n",
      "2 Htmls auslesen.ipynb  seite18.htm             seite30.htm\r\n",
      "Selenium.ipynb          seite19.htm             seite31.htm\r\n",
      "bäckereien_list.csv     seite2.htm              seite32.htm\r\n",
      "page.htm                seite20.htm             seite33.htm\r\n",
      "\u001b[34mpages\u001b[m\u001b[m                   seite21.htm             seite34.htm\r\n",
      "seite1.htm              seite22.htm             seite35.htm\r\n",
      "seite10.htm             seite23.htm             seite4.htm\r\n",
      "seite11.htm             seite24.htm             seite5.htm\r\n",
      "seite12.htm             seite25.htm             seite6.htm\r\n",
      "seite13.htm             seite26.htm             seite7.htm\r\n",
      "seite14.htm             seite27.htm             seite8.htm\r\n",
      "seite15.htm             seite28.htm             seite9.htm\r\n",
      "seite16.htm             seite29.htm\r\n"
     ]
    }
   ],
   "source": [
    "!ls"
   ]
  },
  {
   "cell_type": "code",
   "execution_count": null,
   "metadata": {},
   "outputs": [],
   "source": [
    "!mkdir \"test\""
   ]
  }
 ],
 "metadata": {
  "kernelspec": {
   "display_name": "Python 3",
   "language": "python",
   "name": "python3"
  },
  "language_info": {
   "codemirror_mode": {
    "name": "ipython",
    "version": 3
   },
   "file_extension": ".py",
   "mimetype": "text/x-python",
   "name": "python",
   "nbconvert_exporter": "python",
   "pygments_lexer": "ipython3",
   "version": "3.7.3"
  }
 },
 "nbformat": 4,
 "nbformat_minor": 2
}
