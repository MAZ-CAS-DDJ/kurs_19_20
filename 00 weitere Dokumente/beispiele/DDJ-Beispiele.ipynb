{
 "cells": [
  {
   "cell_type": "markdown",
   "metadata": {},
   "source": [
    "# DDJ-Beispiele"
   ]
  },
  {
   "cell_type": "markdown",
   "metadata": {},
   "source": [
    "Eine kuratierte Auflistung von Datenjournalismus-Beispielen:\n",
    "\n",
    "https://docs.google.com/spreadsheets/d/1Sf0pkpan0sMeq_pva1AV6rkTva9xr0sgw3ThX_2VkYA/edit?usp=sharing\n",
    "\n",
    "Dieses Script generiert aus der Google-Tabelle eine Markup-Datei."
   ]
  },
  {
   "cell_type": "markdown",
   "metadata": {},
   "source": [
    "## Setup"
   ]
  },
  {
   "cell_type": "code",
   "execution_count": 1,
   "metadata": {},
   "outputs": [],
   "source": [
    "import pandas as pd"
   ]
  },
  {
   "cell_type": "code",
   "execution_count": 2,
   "metadata": {},
   "outputs": [],
   "source": [
    "pd.set_option(\"display.max_colwidth\", 200)"
   ]
  },
  {
   "cell_type": "code",
   "execution_count": null,
   "metadata": {},
   "outputs": [],
   "source": []
  },
  {
   "cell_type": "markdown",
   "metadata": {},
   "source": [
    "## Fetch data"
   ]
  },
  {
   "cell_type": "markdown",
   "metadata": {},
   "source": [
    "**List of Articles**"
   ]
  },
  {
   "cell_type": "code",
   "execution_count": 3,
   "metadata": {},
   "outputs": [],
   "source": [
    "url = \"https://docs.google.com/spreadsheets/d/1Sf0pkpan0sMeq_pva1AV6rkTva9xr0sgw3ThX_2VkYA/export?format=csv\""
   ]
  },
  {
   "cell_type": "code",
   "execution_count": 4,
   "metadata": {},
   "outputs": [],
   "source": [
    "df = pd.read_csv(url)"
   ]
  },
  {
   "cell_type": "code",
   "execution_count": 5,
   "metadata": {},
   "outputs": [
    {
     "data": {
      "text/html": [
       "<div>\n",
       "<style scoped>\n",
       "    .dataframe tbody tr th:only-of-type {\n",
       "        vertical-align: middle;\n",
       "    }\n",
       "\n",
       "    .dataframe tbody tr th {\n",
       "        vertical-align: top;\n",
       "    }\n",
       "\n",
       "    .dataframe thead th {\n",
       "        text-align: right;\n",
       "    }\n",
       "</style>\n",
       "<table border=\"1\" class=\"dataframe\">\n",
       "  <thead>\n",
       "    <tr style=\"text-align: right;\">\n",
       "      <th></th>\n",
       "      <th>Jahr</th>\n",
       "      <th>Quelle</th>\n",
       "      <th>Titel</th>\n",
       "      <th>Kategorie</th>\n",
       "      <th>Link</th>\n",
       "    </tr>\n",
       "  </thead>\n",
       "  <tbody>\n",
       "    <tr>\n",
       "      <td>0</td>\n",
       "      <td>2018</td>\n",
       "      <td>Bloomberg</td>\n",
       "      <td>Pick Your Own Brexit</td>\n",
       "      <td>Interactive</td>\n",
       "      <td>https://www.bloomberg.com/graphics/2018-pick-your-own-brexit/</td>\n",
       "    </tr>\n",
       "    <tr>\n",
       "      <td>1</td>\n",
       "      <td>2016</td>\n",
       "      <td>The Pudding</td>\n",
       "      <td>Film Dialogue</td>\n",
       "      <td>Textanalyse</td>\n",
       "      <td>https://pudding.cool/2017/03/film-dialogue/</td>\n",
       "    </tr>\n",
       "    <tr>\n",
       "      <td>2</td>\n",
       "      <td>2017</td>\n",
       "      <td>Guardian</td>\n",
       "      <td>Bussed Out</td>\n",
       "      <td>Mapping</td>\n",
       "      <td>https://www.theguardian.com/us-news/ng-interactive/2017/dec/20/bussed-out-america-moves-homeless-people-country-study</td>\n",
       "    </tr>\n",
       "    <tr>\n",
       "      <td>3</td>\n",
       "      <td>2018</td>\n",
       "      <td>Washington Post</td>\n",
       "      <td>America is more diverse than ever — but still segregated</td>\n",
       "      <td>Mapping</td>\n",
       "      <td>https://www.theguardian.com/us-news/ng-interactive/2017/dec/20/bussed-out-america-moves-homeless-people-country-study</td>\n",
       "    </tr>\n",
       "    <tr>\n",
       "      <td>4</td>\n",
       "      <td>2015</td>\n",
       "      <td>Guardian</td>\n",
       "      <td>How well do you really know your country?</td>\n",
       "      <td>Interactive</td>\n",
       "      <td>https://www.theguardian.com/world/ng-interactive/2015/dec/02/how-well-do-you-really-know-your-country-take-our-quiz</td>\n",
       "    </tr>\n",
       "  </tbody>\n",
       "</table>\n",
       "</div>"
      ],
      "text/plain": [
       "   Jahr           Quelle  \\\n",
       "0  2018        Bloomberg   \n",
       "1  2016      The Pudding   \n",
       "2  2017         Guardian   \n",
       "3  2018  Washington Post   \n",
       "4  2015         Guardian   \n",
       "\n",
       "                                                      Titel    Kategorie  \\\n",
       "0                                      Pick Your Own Brexit  Interactive   \n",
       "1                                             Film Dialogue  Textanalyse   \n",
       "2                                                Bussed Out      Mapping   \n",
       "3  America is more diverse than ever — but still segregated      Mapping   \n",
       "4                 How well do you really know your country?  Interactive   \n",
       "\n",
       "                                                                                                                    Link  \n",
       "0                                                          https://www.bloomberg.com/graphics/2018-pick-your-own-brexit/  \n",
       "1                                                                            https://pudding.cool/2017/03/film-dialogue/  \n",
       "2  https://www.theguardian.com/us-news/ng-interactive/2017/dec/20/bussed-out-america-moves-homeless-people-country-study  \n",
       "3  https://www.theguardian.com/us-news/ng-interactive/2017/dec/20/bussed-out-america-moves-homeless-people-country-study  \n",
       "4    https://www.theguardian.com/world/ng-interactive/2015/dec/02/how-well-do-you-really-know-your-country-take-our-quiz  "
      ]
     },
     "execution_count": 5,
     "metadata": {},
     "output_type": "execute_result"
    }
   ],
   "source": [
    "df.head(5)"
   ]
  },
  {
   "cell_type": "markdown",
   "metadata": {},
   "source": [
    "**List of Categories**"
   ]
  },
  {
   "cell_type": "code",
   "execution_count": 6,
   "metadata": {},
   "outputs": [],
   "source": [
    "url = \"https://docs.google.com/spreadsheets/d/1Sf0pkpan0sMeq_pva1AV6rkTva9xr0sgw3ThX_2VkYA/export?gid=1349399595&format=csv\"\n"
   ]
  },
  {
   "cell_type": "code",
   "execution_count": 7,
   "metadata": {},
   "outputs": [],
   "source": [
    "df_c = pd.read_csv(url)"
   ]
  },
  {
   "cell_type": "code",
   "execution_count": 8,
   "metadata": {},
   "outputs": [
    {
     "data": {
      "text/html": [
       "<div>\n",
       "<style scoped>\n",
       "    .dataframe tbody tr th:only-of-type {\n",
       "        vertical-align: middle;\n",
       "    }\n",
       "\n",
       "    .dataframe tbody tr th {\n",
       "        vertical-align: top;\n",
       "    }\n",
       "\n",
       "    .dataframe thead th {\n",
       "        text-align: right;\n",
       "    }\n",
       "</style>\n",
       "<table border=\"1\" class=\"dataframe\">\n",
       "  <thead>\n",
       "    <tr style=\"text-align: right;\">\n",
       "      <th></th>\n",
       "      <th>Nr</th>\n",
       "      <th>Kategorie</th>\n",
       "      <th>Beschreibung</th>\n",
       "    </tr>\n",
       "  </thead>\n",
       "  <tbody>\n",
       "    <tr>\n",
       "      <td>0</td>\n",
       "      <td>1</td>\n",
       "      <td>Recherche</td>\n",
       "      <td>BGÖ-Anfrage, Scraping und weitere besondere Methoden der Daten-Zusammenstellung</td>\n",
       "    </tr>\n",
       "    <tr>\n",
       "      <td>1</td>\n",
       "      <td>2</td>\n",
       "      <td>Textanalyse</td>\n",
       "      <td>Worthäufigkeiten, Sentiment-Analyse und weitere computerlinguistische Techniken</td>\n",
       "    </tr>\n",
       "    <tr>\n",
       "      <td>2</td>\n",
       "      <td>3</td>\n",
       "      <td>Dataviz</td>\n",
       "      <td>Storytelling mit Daten: besondere Plots, ungewöhnliche Chartformen, etc.</td>\n",
       "    </tr>\n",
       "    <tr>\n",
       "      <td>3</td>\n",
       "      <td>4</td>\n",
       "      <td>Mapping</td>\n",
       "      <td>Choropleth, Point maps und allerlei weitere geografische Darstellungsformen</td>\n",
       "    </tr>\n",
       "    <tr>\n",
       "      <td>4</td>\n",
       "      <td>5</td>\n",
       "      <td>Interactive</td>\n",
       "      <td>Arbeiten, bei denen der User zum Mitmachen aufgefordert wird, insb. auch mit Gamification</td>\n",
       "    </tr>\n",
       "    <tr>\n",
       "      <td>5</td>\n",
       "      <td>6</td>\n",
       "      <td>Algorithmen</td>\n",
       "      <td>Diskussion von Machine Learning und anderen Algorithmen</td>\n",
       "    </tr>\n",
       "    <tr>\n",
       "      <td>6</td>\n",
       "      <td>7</td>\n",
       "      <td>Crowdsourcing</td>\n",
       "      <td>Datengewinnung mihilfe der User</td>\n",
       "    </tr>\n",
       "  </tbody>\n",
       "</table>\n",
       "</div>"
      ],
      "text/plain": [
       "   Nr      Kategorie  \\\n",
       "0   1      Recherche   \n",
       "1   2    Textanalyse   \n",
       "2   3        Dataviz   \n",
       "3   4        Mapping   \n",
       "4   5    Interactive   \n",
       "5   6    Algorithmen   \n",
       "6   7  Crowdsourcing   \n",
       "\n",
       "                                                                                Beschreibung  \n",
       "0            BGÖ-Anfrage, Scraping und weitere besondere Methoden der Daten-Zusammenstellung  \n",
       "1            Worthäufigkeiten, Sentiment-Analyse und weitere computerlinguistische Techniken  \n",
       "2                   Storytelling mit Daten: besondere Plots, ungewöhnliche Chartformen, etc.  \n",
       "3                Choropleth, Point maps und allerlei weitere geografische Darstellungsformen  \n",
       "4  Arbeiten, bei denen der User zum Mitmachen aufgefordert wird, insb. auch mit Gamification  \n",
       "5                                    Diskussion von Machine Learning und anderen Algorithmen  \n",
       "6                                                            Datengewinnung mihilfe der User  "
      ]
     },
     "execution_count": 8,
     "metadata": {},
     "output_type": "execute_result"
    }
   ],
   "source": [
    "df_c"
   ]
  },
  {
   "cell_type": "markdown",
   "metadata": {},
   "source": [
    "## Prepare File"
   ]
  },
  {
   "cell_type": "markdown",
   "metadata": {},
   "source": [
    "We prepare two sections:\n",
    "- Header (contains the title)\n",
    "- Body (contains the actual content with articles sorted by category)"
   ]
  },
  {
   "cell_type": "markdown",
   "metadata": {},
   "source": [
    "### Header"
   ]
  },
  {
   "cell_type": "code",
   "execution_count": 9,
   "metadata": {},
   "outputs": [],
   "source": [
    "header = \"\"\"# DDJ-Beispiele\n",
    "\n",
    "Zusammengestellt für den MAZ-Kurs \"Datenjournalismus\"\n",
    "\n",
    "\"\"\""
   ]
  },
  {
   "cell_type": "markdown",
   "metadata": {},
   "source": [
    "### Format Rows"
   ]
  },
  {
   "cell_type": "code",
   "execution_count": 10,
   "metadata": {},
   "outputs": [],
   "source": [
    "df['Row'] = \"- **\" + df['Quelle'] + \":** [\" + df['Titel'] + \"](\" + df['Link'] + \") (\" + df['Jahr'].astype(str) + \")\\n\""
   ]
  },
  {
   "cell_type": "markdown",
   "metadata": {},
   "source": [
    "### Loop over Categories, Rows"
   ]
  },
  {
   "cell_type": "code",
   "execution_count": 11,
   "metadata": {},
   "outputs": [],
   "source": [
    "body = \"\"\n",
    "for category in df_c.sort_values('Nr')['Kategorie'].to_list():\n",
    "    body += \"## \" + category + \"\\n\"\n",
    "    body = body + df_c[df_c['Kategorie'] == category]['Beschreibung'].sum() + \"\\n\"\n",
    "    body += df[df['Kategorie'] == category].sort_values(['Jahr', 'Quelle', 'Titel'])['Row'].sum()\n",
    "        "
   ]
  },
  {
   "cell_type": "markdown",
   "metadata": {},
   "source": [
    "## Write to File"
   ]
  },
  {
   "cell_type": "code",
   "execution_count": 12,
   "metadata": {},
   "outputs": [],
   "source": [
    "file_out = \"DDJ-Beispiele.md\""
   ]
  },
  {
   "cell_type": "code",
   "execution_count": 13,
   "metadata": {},
   "outputs": [],
   "source": [
    "with open(file_out, \"w\") as f:\n",
    "    f.write(header)\n",
    "    f.write(body)"
   ]
  },
  {
   "cell_type": "code",
   "execution_count": null,
   "metadata": {},
   "outputs": [],
   "source": []
  },
  {
   "cell_type": "code",
   "execution_count": null,
   "metadata": {},
   "outputs": [],
   "source": []
  },
  {
   "cell_type": "code",
   "execution_count": null,
   "metadata": {},
   "outputs": [],
   "source": []
  },
  {
   "cell_type": "code",
   "execution_count": null,
   "metadata": {},
   "outputs": [],
   "source": []
  },
  {
   "cell_type": "code",
   "execution_count": null,
   "metadata": {},
   "outputs": [],
   "source": []
  },
  {
   "cell_type": "code",
   "execution_count": null,
   "metadata": {},
   "outputs": [],
   "source": []
  }
 ],
 "metadata": {
  "kernelspec": {
   "display_name": "Python 3",
   "language": "python",
   "name": "python3"
  },
  "language_info": {
   "codemirror_mode": {
    "name": "ipython",
    "version": 3
   },
   "file_extension": ".py",
   "mimetype": "text/x-python",
   "name": "python",
   "nbconvert_exporter": "python",
   "pygments_lexer": "ipython3",
   "version": "3.7.3"
  }
 },
 "nbformat": 4,
 "nbformat_minor": 2
}
