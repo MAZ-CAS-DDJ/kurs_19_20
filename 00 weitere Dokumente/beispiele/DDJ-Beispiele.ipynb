{
 "cells": [
  {
   "cell_type": "markdown",
   "metadata": {},
   "source": [
    "# DDJ-Beispiele"
   ]
  },
  {
   "cell_type": "markdown",
   "metadata": {},
   "source": [
    "Eine kuratierte Auflistung von Datenjournalismus-Beispielen:\n",
    "\n",
    "https://docs.google.com/spreadsheets/d/1Sf0pkpan0sMeq_pva1AV6rkTva9xr0sgw3ThX_2VkYA/edit?usp=sharing\n",
    "\n",
    "Dieses Script generiert aus der Google-Tabelle eine Markup-Datei."
   ]
  },
  {
   "cell_type": "markdown",
   "metadata": {},
   "source": [
    "## Setup"
   ]
  },
  {
   "cell_type": "code",
   "execution_count": 2,
   "metadata": {},
   "outputs": [],
   "source": [
    "import pandas as pd"
   ]
  },
  {
   "cell_type": "code",
   "execution_count": 33,
   "metadata": {},
   "outputs": [],
   "source": [
    "pd.set_option(\"display.max_colwidth\", 200)"
   ]
  },
  {
   "cell_type": "code",
   "execution_count": null,
   "metadata": {},
   "outputs": [],
   "source": []
  },
  {
   "cell_type": "markdown",
   "metadata": {},
   "source": [
    "## Fetch data"
   ]
  },
  {
   "cell_type": "code",
   "execution_count": 5,
   "metadata": {},
   "outputs": [],
   "source": [
    "url = \"https://docs.google.com/spreadsheets/d/1Sf0pkpan0sMeq_pva1AV6rkTva9xr0sgw3ThX_2VkYA/export?format=csv\""
   ]
  },
  {
   "cell_type": "code",
   "execution_count": 12,
   "metadata": {},
   "outputs": [],
   "source": [
    "df = pd.read_csv(url)"
   ]
  },
  {
   "cell_type": "code",
   "execution_count": 14,
   "metadata": {},
   "outputs": [
    {
     "data": {
      "text/html": [
       "<div>\n",
       "<style scoped>\n",
       "    .dataframe tbody tr th:only-of-type {\n",
       "        vertical-align: middle;\n",
       "    }\n",
       "\n",
       "    .dataframe tbody tr th {\n",
       "        vertical-align: top;\n",
       "    }\n",
       "\n",
       "    .dataframe thead th {\n",
       "        text-align: right;\n",
       "    }\n",
       "</style>\n",
       "<table border=\"1\" class=\"dataframe\">\n",
       "  <thead>\n",
       "    <tr style=\"text-align: right;\">\n",
       "      <th></th>\n",
       "      <th>Jahr</th>\n",
       "      <th>Quelle</th>\n",
       "      <th>Titel</th>\n",
       "      <th>Kategorie</th>\n",
       "      <th>Link</th>\n",
       "    </tr>\n",
       "  </thead>\n",
       "  <tbody>\n",
       "    <tr>\n",
       "      <td>0</td>\n",
       "      <td>2018</td>\n",
       "      <td>Bloomberg</td>\n",
       "      <td>Pick Your Own Brexit</td>\n",
       "      <td>Gamification</td>\n",
       "      <td>https://www.bloomberg.com/graphics/2018-pick-y...</td>\n",
       "    </tr>\n",
       "    <tr>\n",
       "      <td>1</td>\n",
       "      <td>2016</td>\n",
       "      <td>The Pudding</td>\n",
       "      <td>Film Dialogue</td>\n",
       "      <td>Textanalyse</td>\n",
       "      <td>https://pudding.cool/2017/03/film-dialogue/</td>\n",
       "    </tr>\n",
       "    <tr>\n",
       "      <td>2</td>\n",
       "      <td>2017</td>\n",
       "      <td>Guardian</td>\n",
       "      <td>Bussed Out</td>\n",
       "      <td>Mapping</td>\n",
       "      <td>https://www.theguardian.com/us-news/ng-interac...</td>\n",
       "    </tr>\n",
       "    <tr>\n",
       "      <td>3</td>\n",
       "      <td>2018</td>\n",
       "      <td>Washington Post</td>\n",
       "      <td>America is more diverse than ever — but still ...</td>\n",
       "      <td>Mapping</td>\n",
       "      <td>https://www.theguardian.com/us-news/ng-interac...</td>\n",
       "    </tr>\n",
       "    <tr>\n",
       "      <td>4</td>\n",
       "      <td>2015</td>\n",
       "      <td>Guardian</td>\n",
       "      <td>How well do you really know your country?</td>\n",
       "      <td>Gamification</td>\n",
       "      <td>https://www.theguardian.com/world/ng-interacti...</td>\n",
       "    </tr>\n",
       "  </tbody>\n",
       "</table>\n",
       "</div>"
      ],
      "text/plain": [
       "   Jahr           Quelle                                              Titel  \\\n",
       "0  2018        Bloomberg                               Pick Your Own Brexit   \n",
       "1  2016      The Pudding                                      Film Dialogue   \n",
       "2  2017         Guardian                                         Bussed Out   \n",
       "3  2018  Washington Post  America is more diverse than ever — but still ...   \n",
       "4  2015         Guardian          How well do you really know your country?   \n",
       "\n",
       "      Kategorie                                               Link  \n",
       "0  Gamification  https://www.bloomberg.com/graphics/2018-pick-y...  \n",
       "1   Textanalyse        https://pudding.cool/2017/03/film-dialogue/  \n",
       "2       Mapping  https://www.theguardian.com/us-news/ng-interac...  \n",
       "3       Mapping  https://www.theguardian.com/us-news/ng-interac...  \n",
       "4  Gamification  https://www.theguardian.com/world/ng-interacti...  "
      ]
     },
     "execution_count": 14,
     "metadata": {},
     "output_type": "execute_result"
    }
   ],
   "source": [
    "df.head(5)"
   ]
  },
  {
   "cell_type": "code",
   "execution_count": null,
   "metadata": {},
   "outputs": [],
   "source": []
  },
  {
   "cell_type": "markdown",
   "metadata": {},
   "source": [
    "## Prepare File"
   ]
  },
  {
   "cell_type": "markdown",
   "metadata": {},
   "source": [
    "### Header"
   ]
  },
  {
   "cell_type": "code",
   "execution_count": 73,
   "metadata": {},
   "outputs": [],
   "source": [
    "header = \"\"\"# DDJ-Beispiele\n",
    "\n",
    "Zusammengestellt für den MAZ-Kurs \"Datenjournalismus\"\n",
    "\n",
    "\"\"\""
   ]
  },
  {
   "cell_type": "markdown",
   "metadata": {},
   "source": [
    "### Format Rows"
   ]
  },
  {
   "cell_type": "code",
   "execution_count": 74,
   "metadata": {},
   "outputs": [],
   "source": [
    "df['Row'] = \"- **\" + df['Quelle'] + \":** [\" + df['Titel'] + \"](\" + df['Link'] + \") (\" + df['Jahr'].astype(str) + \")\\n\""
   ]
  },
  {
   "cell_type": "markdown",
   "metadata": {},
   "source": [
    "### Loop over Categories, Rows"
   ]
  },
  {
   "cell_type": "code",
   "execution_count": 75,
   "metadata": {},
   "outputs": [],
   "source": [
    "df = df.sort_values(['Kategorie', 'Jahr', 'Quelle', 'Titel'])"
   ]
  },
  {
   "cell_type": "code",
   "execution_count": 76,
   "metadata": {},
   "outputs": [],
   "source": [
    "body = \"\"\n",
    "for category in df['Kategorie'].unique():\n",
    "    body = body + \"## \" + category + \"\\n\"\n",
    "    body = body + df[df['Kategorie'] == category]['Row'].sum()\n",
    "        "
   ]
  },
  {
   "cell_type": "code",
   "execution_count": null,
   "metadata": {},
   "outputs": [],
   "source": []
  },
  {
   "cell_type": "markdown",
   "metadata": {},
   "source": [
    "## Write to File"
   ]
  },
  {
   "cell_type": "code",
   "execution_count": 77,
   "metadata": {},
   "outputs": [],
   "source": [
    "file_out = \"DDJ-Beispiele.md\""
   ]
  },
  {
   "cell_type": "code",
   "execution_count": 78,
   "metadata": {},
   "outputs": [],
   "source": [
    "with open(file_out, \"w\") as f:\n",
    "    f.write(header)\n",
    "    f.write(body)"
   ]
  },
  {
   "cell_type": "code",
   "execution_count": null,
   "metadata": {},
   "outputs": [],
   "source": []
  },
  {
   "cell_type": "code",
   "execution_count": null,
   "metadata": {},
   "outputs": [],
   "source": []
  },
  {
   "cell_type": "code",
   "execution_count": null,
   "metadata": {},
   "outputs": [],
   "source": []
  },
  {
   "cell_type": "code",
   "execution_count": null,
   "metadata": {},
   "outputs": [],
   "source": []
  },
  {
   "cell_type": "code",
   "execution_count": null,
   "metadata": {},
   "outputs": [],
   "source": []
  },
  {
   "cell_type": "code",
   "execution_count": null,
   "metadata": {},
   "outputs": [],
   "source": []
  }
 ],
 "metadata": {
  "kernelspec": {
   "display_name": "Python 3",
   "language": "python",
   "name": "python3"
  },
  "language_info": {
   "codemirror_mode": {
    "name": "ipython",
    "version": 3
   },
   "file_extension": ".py",
   "mimetype": "text/x-python",
   "name": "python",
   "nbconvert_exporter": "python",
   "pygments_lexer": "ipython3",
   "version": "3.7.3"
  }
 },
 "nbformat": 4,
 "nbformat_minor": 2
}
