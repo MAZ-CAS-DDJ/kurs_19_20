{
 "cells": [
  {
   "cell_type": "markdown",
   "metadata": {},
   "source": [
    "# Variablen"
   ]
  },
  {
   "cell_type": "markdown",
   "metadata": {},
   "source": [
    "<strong>Variablen</strong> sind ein generell wichtiges Konzept von Programmiersprachen. \n",
    "<br>Du kannst dir eine Variable als eine Art Behälter vorstellen, in dem du z. B. eine Zahl ablegen kannst, um sie später wiederzuverwenden. <br>\n",
    "\n",
    "In Python kannst du eine Variable einführen und ihr einen Wert zuweisen, indem du schreibst: **Variablenname = Zahl**\n",
    "\n",
    "Beachte, dass ein Variablenname **nicht** mit einer Zahl anfangen darf!\n",
    "\n",
    "Konkret kann die Definition einer Variablen etwa so aussehen:"
   ]
  },
  {
   "cell_type": "code",
   "execution_count": 2,
   "metadata": {
    "collapsed": true
   },
   "outputs": [],
   "source": [
    "a = 5"
   ]
  },
  {
   "cell_type": "markdown",
   "metadata": {},
   "source": [
    "Statt eines Wertes darf rechts vom Gleichheitszeichen auch eine Rechnung stehen, die als Ergebnis eine Zahl liefert: "
   ]
  },
  {
   "cell_type": "code",
   "execution_count": 1,
   "metadata": {
    "collapsed": true
   },
   "outputs": [],
   "source": [
    "a = 5 + 6"
   ]
  },
  {
   "cell_type": "markdown",
   "metadata": {},
   "source": [
    "An einer anderen Stelle im Programm greifst du dann über den Variablennamen auf die Zahl zu. Du kannst die Variable etwa in einem print()-Befehl verwenden:"
   ]
  },
  {
   "cell_type": "code",
   "execution_count": 5,
   "metadata": {
    "scrolled": true
   },
   "outputs": [
    {
     "name": "stdout",
     "output_type": "stream",
     "text": [
      "11\n"
     ]
    }
   ],
   "source": [
    "print(a)"
   ]
  },
  {
   "cell_type": "markdown",
   "metadata": {},
   "source": [
    "Du kannst auch mit Variablen, in denen Zahlen gespeichert sind, rechnen:"
   ]
  },
  {
   "cell_type": "code",
   "execution_count": 11,
   "metadata": {},
   "outputs": [
    {
     "name": "stdout",
     "output_type": "stream",
     "text": [
      "121\n"
     ]
    }
   ],
   "source": [
    "print(a * a)"
   ]
  },
  {
   "cell_type": "code",
   "execution_count": 4,
   "metadata": {},
   "outputs": [
    {
     "name": "stdout",
     "output_type": "stream",
     "text": [
      "125\n"
     ]
    }
   ],
   "source": [
    "b = 5\n",
    "print(b * b * b)"
   ]
  },
  {
   "cell_type": "code",
   "execution_count": 2,
   "metadata": {},
   "outputs": [
    {
     "name": "stdout",
     "output_type": "stream",
     "text": [
      "19.5\n"
     ]
    }
   ],
   "source": [
    "# das Durchschnittsalter berechnen\n",
    "\n",
    "age = 21\n",
    "age2 = 18\n",
    "\n",
    "print((age + age2) / 2)"
   ]
  },
  {
   "cell_type": "code",
   "execution_count": 5,
   "metadata": {
    "collapsed": true
   },
   "outputs": [],
   "source": [
    "# Statt in print() zu rechnen, können wir das Ergebnis auch erst in einer Variablen zwischenspeichern\n",
    "\n",
    "average_age = (age + age2) / 2"
   ]
  },
  {
   "cell_type": "code",
   "execution_count": 4,
   "metadata": {},
   "outputs": [
    {
     "name": "stdout",
     "output_type": "stream",
     "text": [
      "19.5\n"
     ]
    }
   ],
   "source": [
    "print(average_age)"
   ]
  },
  {
   "cell_type": "markdown",
   "metadata": {},
   "source": [
    "## Übung\n",
    "Löse folgende Aufgabe mit variablen: \n",
    "* In einem Zug befindet sich eine unbestimmte Zahl von Menschen.\n",
    "* Beim ersten Stopp steigen 19 Personen aus.\n",
    "* 17 Personen steigen ein.\n",
    "* Jetzt sind 63 Personen im Zug.\n",
    "* Wie viele Menschen waren am Anfang im Zug?\n",
    "[Watson berichtet!](https://www.watson.ch/wissen/populärkultur/943887508-matheaufgabe-fuer-7-jaehrige-bringt-alle-zum-verzweifeln-kannst-du-sie-loesen-)"
   ]
  }
 ],
 "metadata": {
  "kernelspec": {
   "display_name": "Python 3",
   "language": "python",
   "name": "python3"
  },
  "language_info": {
   "codemirror_mode": {
    "name": "ipython",
    "version": 3
   },
   "file_extension": ".py",
   "mimetype": "text/x-python",
   "name": "python",
   "nbconvert_exporter": "python",
   "pygments_lexer": "ipython3",
   "version": "3.6.5"
  }
 },
 "nbformat": 4,
 "nbformat_minor": 2
}
