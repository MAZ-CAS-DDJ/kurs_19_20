{
 "cells": [
  {
   "cell_type": "code",
   "execution_count": null,
   "metadata": {
    "collapsed": true
   },
   "outputs": [],
   "source": [
    "import textract\n",
    "import re\n",
    "import os\n",
    "import pandas as pd\n",
    "import progressbar\n",
    "import time"
   ]
  },
  {
   "cell_type": "code",
   "execution_count": null,
   "metadata": {},
   "outputs": [],
   "source": [
    "#Testing with one file\n",
    "text = textract.process('files/P(1)0000005.pdf', method='pdfminer')\n",
    "text = str(text).replace(\"  \", \" \")\n",
    "adtext = re.search(\"Ad Text.*Ad Landing Page\", text).group().replace(\"Ad Landing Page\", \"\")\n",
    "adtext = adtext.replace(\"Ad Text\", \"\").replace(\"\\\\n\", \" \").strip()\n",
    "adtext"
   ]
  },
  {
   "cell_type": "code",
   "execution_count": null,
   "metadata": {},
   "outputs": [],
   "source": [
    "!ls"
   ]
  },
  {
   "cell_type": "code",
   "execution_count": null,
   "metadata": {},
   "outputs": [],
   "source": [
    "#Creating file list\n",
    "lt = os.listdir(\"fs\")\n",
    "lt.remove('.DS_Store')"
   ]
  },
  {
   "cell_type": "code",
   "execution_count": null,
   "metadata": {
    "collapsed": true
   },
   "outputs": [],
   "source": [
    "lst = []\n",
    "for elem in lt:\n",
    "    if \".pdf\" in elem:\n",
    "        lst.append(elem)"
   ]
  },
  {
   "cell_type": "code",
   "execution_count": null,
   "metadata": {
    "scrolled": true
   },
   "outputs": [],
   "source": [
    "#Creating dictionary for:\n",
    "\n",
    "#'Location', 'Number', 'Date', 'Interests',\n",
    "#'Age', 'Language', 'Placements', 'Ad Clicks',\n",
    "#'Ad Impressions', 'Ad Spend'\n",
    "\n",
    "bar = progressbar.ProgressBar()\n",
    "results = []\n",
    "\n",
    "for elem,i in zip(lst, bar(range(len(lst)))):\n",
    "    print(elem)\n",
    "    if 'ultimate_names.csv' in elem:\n",
    "        continue\n",
    "    \n",
    "    else:\n",
    "        \n",
    "        text = textract.process('fs/'+elem, method='pdfminer')\n",
    "        text = str(text).replace(\"  \", \" \")\n",
    "    \n",
    "        if re.search(\"Location.*(Age)\", text) != None:\n",
    "            pattern = re.search(\"Location.*(Age)\", text)\n",
    "            loc = pattern.group().replace('\\\\nAge','').replace('Location - Living In: ','')\n",
    "        else:\n",
    "            loc = 'N/A'\n",
    "    \n",
    "        if re.search(\"Creation Date.*(Redactions)\", str(text)) != None:\n",
    "            pattern = re.search(\"Creation Date.*(Redactions)\", str(text))\n",
    "            pattern = pattern.group().replace('Creation Date\\\\n\\\\n','')\n",
    "            date = re.search(\"\\d\\d/\\d\\d/\\d\\d \\d\\d:\\d\\d:\\d\\d [A-Z][A-Z] [A-Z]{3}\", pattern)\n",
    "            if date != None:\n",
    "                date = date.group()\n",
    "        else: \n",
    "            date = 'N/A'\n",
    "    \n",
    "        if re.search(\"Ad Clicks.*\", text) != None:\n",
    "            klicks = re.search(\"Ad Clicks.*\", text)\n",
    "            klicks = klicks.group()[:25].replace(\",\", \"\")\n",
    "            klicks = re.search(\"[0-9]+\", klicks)\n",
    "            if klicks != None:\n",
    "                klicks = klicks.group()\n",
    "        else:\n",
    "            klicks = 'N/A'\n",
    "        \n",
    "        if re.search(\"Ad Impressions.*\", text) != None:\n",
    "            imps = re.search(\"Ad Impressions.*\", text)\n",
    "            imps = imps.group()[:25].replace(\",\", \"\")\n",
    "            imps = re.search(\"[0-9]+\", imps)\n",
    "            if imps != None:\n",
    "                imps = imps.group()\n",
    "        else:\n",
    "            imps = 'N/A'\n",
    "        \n",
    "        if re.search(\"Ad Spend.*\", text) != None:\n",
    "            adspend = re.search(\"Ad Spend.*\", text)\n",
    "            adspend = adspend.group()[:25].replace(\",\", \"\")\n",
    "            adspend = re.search(\"[0-9]+.[0-9]+\", adspend)\n",
    "            if adspend != None:\n",
    "                adspend = adspend.group()\n",
    "        else:\n",
    "            adspend = 'N/A'  \n",
    "        \n",
    "        if re.search(\"Interests:.*\", text) != None:\n",
    "            interests = re.search(\"Interests:.*\", text).group().split('\\\\n')[0]\n",
    "        else:\n",
    "            interests = 'N/A'\n",
    "    \n",
    "        if re.search(\"Age:.*\", text) != None:\n",
    "            age = re.search(\"Age:.*\", text).group().split('\\\\n')[0]\n",
    "        else:\n",
    "            age = 'N/A'\n",
    "        \n",
    "        if re.search(\"Language:.*\", text) != None:\n",
    "            lang = re.search(\"Language:.*\", text).group().split('\\\\n')[0]\n",
    "        else:\n",
    "            lang = 'N/A'\n",
    "    \n",
    "        if re.search(\"Placements:.*\", text) != None:\n",
    "            place = re.search(\"Placements:.*\", text).group().split('\\\\n')[0]\n",
    "        else:\n",
    "            place = 'N/A'\n",
    "    \n",
    "        if re.search(\"Ad Text.*Ad Landing Page\", text) != None:\n",
    "            adtext = re.search(\"Ad Text.*Ad Landing Page\", text).group().replace(\"Ad Landing Page\", \"\")\n",
    "            adtext = adtext.replace(\"Ad Text\", \"\").replace(\"\\\\n\", \" \").strip()\n",
    "        else:\n",
    "            place = 'N/A'\n",
    "        \n",
    "        mini_dict = {'Location': loc,\n",
    "                 'Number': elem,\n",
    "                 'Date': date,\n",
    "                 'Interests': interests,\n",
    "                 'Age': age,\n",
    "                 'Language': lang,\n",
    "                 'Placements': place,\n",
    "                 'Ad Text': adtext,\n",
    "                 'Ad Clicks': klicks,\n",
    "                 'Ad Impressions': imps,\n",
    "                 'Ad Spend': adspend}\n",
    "        \n",
    "        results.append(mini_dict)\n"
   ]
  },
  {
   "cell_type": "code",
   "execution_count": null,
   "metadata": {
    "collapsed": true
   },
   "outputs": [],
   "source": [
    "df = pd.DataFrame(results)"
   ]
  },
  {
   "cell_type": "code",
   "execution_count": null,
   "metadata": {},
   "outputs": [],
   "source": [
    "df.to_csv('readable.csv')"
   ]
  },
  {
   "cell_type": "code",
   "execution_count": null,
   "metadata": {
    "collapsed": true
   },
   "outputs": [],
   "source": []
  }
 ],
 "metadata": {
  "kernelspec": {
   "display_name": "Python 3",
   "language": "python",
   "name": "python3"
  },
  "language_info": {
   "codemirror_mode": {
    "name": "ipython",
    "version": 3
   },
   "file_extension": ".py",
   "mimetype": "text/x-python",
   "name": "python",
   "nbconvert_exporter": "python",
   "pygments_lexer": "ipython3",
   "version": "3.5.1"
  }
 },
 "nbformat": 4,
 "nbformat_minor": 2
}
