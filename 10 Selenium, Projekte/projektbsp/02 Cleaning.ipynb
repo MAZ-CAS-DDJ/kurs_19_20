{
 "cells": [
  {
   "cell_type": "code",
   "execution_count": null,
   "metadata": {
    "collapsed": true
   },
   "outputs": [],
   "source": [
    "import pandas as pd"
   ]
  },
  {
   "cell_type": "code",
   "execution_count": null,
   "metadata": {
    "collapsed": true
   },
   "outputs": [],
   "source": [
    "import matplotlib.pyplot as plt\n",
    "import matplotlib\n",
    "plt.style.use('fivethirtyeight')\n",
    "%matplotlib inline"
   ]
  },
  {
   "cell_type": "code",
   "execution_count": null,
   "metadata": {
    "collapsed": true
   },
   "outputs": [],
   "source": [
    "#Looking at data\n",
    "df = pd.read_csv('readable.csv')"
   ]
  },
  {
   "cell_type": "code",
   "execution_count": null,
   "metadata": {},
   "outputs": [],
   "source": [
    "df.info()"
   ]
  },
  {
   "cell_type": "code",
   "execution_count": null,
   "metadata": {
    "collapsed": true
   },
   "outputs": [],
   "source": [
    "#Cleaning Ad Clicks\n",
    "df['Ad Clicks'] = df['Ad Clicks'].fillna(value=0)\n",
    "df['Ad Clicks'] = df['Ad Clicks'].astype(int)\n",
    "#Cleaning Ad Clicks\n",
    "df['Ad Impressions'] = df['Ad Impressions'].fillna(value=0)\n",
    "df['Ad Impressions'] = df['Ad Impressions'].astype(int)"
   ]
  },
  {
   "cell_type": "code",
   "execution_count": null,
   "metadata": {
    "collapsed": true
   },
   "outputs": [],
   "source": [
    "#In Ad spend column making 0 out of NaNs\n",
    "df['Ad Spend'] = df['Ad Spend'].fillna(value=0)\n",
    "def fillempties(elem):\n",
    "    elem = str(elem)\n",
    "    elem = int(elem.replace(' ', '.').replace(';', '').split('.')[0])\n",
    "    return elem\n",
    "df['Ad Spend'] = df['Ad Spend'].apply(fillempties)"
   ]
  },
  {
   "cell_type": "code",
   "execution_count": null,
   "metadata": {
    "collapsed": true
   },
   "outputs": [],
   "source": [
    "#Age\n",
    "\n",
    "df['Age'].value_counts()\n",
    "def agemin(elem):\n",
    "    if elem == 'Age: 18 65+':\n",
    "        elem = elem.replace('Age: ', '').split(' ')[0]\n",
    "    else:\n",
    "        elem = elem.replace('Age: ', '').replace('Age: ', '').split('-')[0].strip()\n",
    "    return int(elem)\n",
    "df['AgeMin'] = df['Age'].apply(agemin)\n",
    "\n",
    "def agemax(elem):\n",
    "    if elem == 'Age: 18 65+':\n",
    "        elem = elem.replace('Age: ', '').replace('+', '').split(' ')[1]\n",
    "    else:\n",
    "        elem = elem.replace('Age: ', '').replace('Age: ', '').replace('+', '').split('-')[1].strip()\n",
    "    return int(elem)\n",
    "\n",
    "df['AgeMax'] = df['Age'].apply(agemax)"
   ]
  },
  {
   "cell_type": "code",
   "execution_count": null,
   "metadata": {
    "collapsed": true
   },
   "outputs": [],
   "source": [
    "# Date\n",
    "df['Date'] = df['Date'].fillna(value='N/A')\n",
    "def remove(elem):\n",
    "    elem = elem[:17]\n",
    "    if elem == 'N/A':\n",
    "        return '01/01/01 01:01:01'\n",
    "    else:\n",
    "        return elem\n",
    "df['Date'] = df['Date'].apply(remove)\n",
    "df.index = pd.to_datetime(df['Date'], format='%m/%d/%y %H:%M:%S')"
   ]
  },
  {
   "cell_type": "code",
   "execution_count": null,
   "metadata": {},
   "outputs": [],
   "source": [
    "df[df['Date']!= '01/01/01 01:01:01'].resample('W')['Number'].count().plot()"
   ]
  },
  {
   "cell_type": "code",
   "execution_count": null,
   "metadata": {
    "collapsed": true
   },
   "outputs": [],
   "source": [
    "df['Location'] = df['Location'].fillna(value='N/A')\n",
    "#Cleaning location column\n",
    "def defsplit(elem):\n",
    "    elem = elem.split('Interests:')[0]\n",
    "    elem = elem.split('Excluded Connections:')[0].replace('\\\\n','')\n",
    "    elem = elem.replace('Location - Living  In:', '')\n",
    "    elem = elem.replace('Location: ', '').replace('Location*', '').strip()\n",
    "    return elem\n",
    "df['Cleaned location'] = df['Location'].apply(defsplit)"
   ]
  },
  {
   "cell_type": "code",
   "execution_count": null,
   "metadata": {},
   "outputs": [],
   "source": [
    "# Interests\n",
    "df['Interests'] = df['Interests'].fillna(value='N/A')\n",
    "def remove(elem):\n",
    "    elem = elem.replace('Interests: ', '')\n",
    "    if ('St.' in elem or\n",
    "        'Jr.' in elem):\n",
    "        elem = elem.replace(' or ', ',').split(',')\n",
    "    else: \n",
    "        elem = elem.replace(' or ', ','.replace('. ', ',')).split(',')\n",
    "    return elem\n",
    "df['Interests'] = df['Interests'].apply(remove)\n",
    "lst = list(df['Interests'])\n",
    "flat_list = [item for sublist in lst for item in sublist]\n",
    "fl = []\n",
    "for elem in flat_list:\n",
    "    elem = elem.upper().replace(' OR', '').strip()\n",
    "    fl.append(elem)\n",
    "df_tags = pd.DataFrame(fl)\n",
    "df_tags.columns = ['Tags']\n",
    "df_tags['Tags'].value_counts().count()"
   ]
  },
  {
   "cell_type": "code",
   "execution_count": null,
   "metadata": {},
   "outputs": [],
   "source": [
    "#Language\n",
    "df['Language'].value_counts()"
   ]
  },
  {
   "cell_type": "code",
   "execution_count": null,
   "metadata": {
    "collapsed": true
   },
   "outputs": [],
   "source": [
    "#Location\n",
    "df['Location'] = df['Location'].fillna(value='N/A')\n",
    "def defsplit(elem):\n",
    "    elem = elem.split('Interests:')[0]\n",
    "    elem = elem.split('Excluded Connections:')[0].replace('\\\\n','')\n",
    "    elem = elem.replace('Location - Living  In:', '')\n",
    "    elem = elem.replace('Location: ', '').replace('Location*', '').strip()\n",
    "    return elem\n",
    "df['Location'] = df['Location'].apply(defsplit)"
   ]
  },
  {
   "cell_type": "code",
   "execution_count": null,
   "metadata": {},
   "outputs": [],
   "source": [
    "df['Location'].value_counts()"
   ]
  },
  {
   "cell_type": "code",
   "execution_count": null,
   "metadata": {
    "collapsed": true
   },
   "outputs": [],
   "source": [
    "df.to_csv('readable_cleaned.csv')"
   ]
  },
  {
   "cell_type": "code",
   "execution_count": null,
   "metadata": {
    "collapsed": true
   },
   "outputs": [],
   "source": []
  }
 ],
 "metadata": {
  "kernelspec": {
   "display_name": "Python 3",
   "language": "python",
   "name": "python3"
  },
  "language_info": {
   "codemirror_mode": {
    "name": "ipython",
    "version": 3
   },
   "file_extension": ".py",
   "mimetype": "text/x-python",
   "name": "python",
   "nbconvert_exporter": "python",
   "pygments_lexer": "ipython3",
   "version": "3.5.1"
  }
 },
 "nbformat": 4,
 "nbformat_minor": 2
}
