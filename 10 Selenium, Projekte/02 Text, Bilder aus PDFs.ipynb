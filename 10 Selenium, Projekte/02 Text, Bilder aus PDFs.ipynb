{
 "cells": [
  {
   "cell_type": "markdown",
   "metadata": {},
   "source": [
    "# Bereiten wir das Script vor"
   ]
  },
  {
   "cell_type": "code",
   "execution_count": 2,
   "metadata": {},
   "outputs": [],
   "source": [
    "#Imports\n",
    "import os #Files in listen abgreifen\n",
    "import tqdm #anzeigen, wo wir stehen\n",
    "import textract\n",
    "import pandas as pd\n"
   ]
  },
  {
   "cell_type": "markdown",
   "metadata": {},
   "source": [
    "## Vorbereitung"
   ]
  },
  {
   "cell_type": "code",
   "execution_count": 3,
   "metadata": {},
   "outputs": [],
   "source": [
    "#Als Vorbereitung, machen aus dem Inhalt des Folders eine Liste. Es handelt sich hierbei\n",
    "#um eine Liste aller pdfs im Ordner pdfs. Es sind die Swissmedic Recalls (#ImplantFiles)\n",
    "pdfs = os.listdir('pdfs')"
   ]
  },
  {
   "cell_type": "markdown",
   "metadata": {},
   "source": [
    "## Fortschritt anzeigen"
   ]
  },
  {
   "cell_type": "code",
   "execution_count": 8,
   "metadata": {},
   "outputs": [
    {
     "name": "stderr",
     "output_type": "stream",
     "text": [
      "100%|██████████| 10000000/10000000 [00:03<00:00, 2849323.36it/s]\n"
     ]
    }
   ],
   "source": [
    "from tqdm import tqdm\n",
    "for i in tqdm(range(1000)): #100000000000\n",
    "    elem = i"
   ]
  },
  {
   "cell_type": "markdown",
   "metadata": {},
   "source": [
    "## Ein File auslesen"
   ]
  },
  {
   "cell_type": "code",
   "execution_count": 12,
   "metadata": {},
   "outputs": [],
   "source": [
    "text = textract.process(\"pdfs/\"+pdfs[1]) #method='pdfminer', encoding='ISO-8859-1'"
   ]
  },
  {
   "cell_type": "markdown",
   "metadata": {},
   "source": [
    "## Alle Files auslesen"
   ]
  },
  {
   "cell_type": "code",
   "execution_count": 18,
   "metadata": {
    "scrolled": true
   },
   "outputs": [
    {
     "name": "stderr",
     "output_type": "stream",
     "text": [
      "\n",
      "  0%|          | 0/82 [00:00<?, ?it/s]\u001b[A\n",
      "  1%|          | 1/82 [00:00<00:11,  7.01it/s]\u001b[A\n",
      "  2%|▏         | 2/82 [00:00<00:24,  3.25it/s]\u001b[A\n",
      "  4%|▎         | 3/82 [00:02<00:48,  1.64it/s]\u001b[A\n",
      "  5%|▍         | 4/82 [00:02<00:41,  1.90it/s]\u001b[A\n",
      "  6%|▌         | 5/82 [00:02<00:38,  2.01it/s]\u001b[A\n",
      "  7%|▋         | 6/82 [00:03<00:42,  1.81it/s]\u001b[A\n",
      "  9%|▊         | 7/82 [00:03<00:31,  2.36it/s]\u001b[A\n",
      " 10%|▉         | 8/82 [00:04<00:29,  2.49it/s]\u001b[A\n",
      " 11%|█         | 9/82 [00:05<00:53,  1.37it/s]\u001b[A\n",
      " 12%|█▏        | 10/82 [00:05<00:41,  1.72it/s]\u001b[A\n",
      " 13%|█▎        | 11/82 [00:05<00:31,  2.26it/s]\u001b[A\n",
      " 15%|█▍        | 12/82 [00:07<00:53,  1.30it/s]\u001b[A\n",
      " 16%|█▌        | 13/82 [00:08<00:52,  1.31it/s]\u001b[A\n",
      " 17%|█▋        | 14/82 [00:09<01:02,  1.08it/s]\u001b[A\n",
      " 18%|█▊        | 15/82 [00:09<00:49,  1.35it/s]\u001b[A\n",
      " 20%|█▉        | 16/82 [00:10<00:46,  1.41it/s]\u001b[A\n",
      " 21%|██        | 17/82 [00:10<00:41,  1.58it/s]\u001b[A\n",
      " 22%|██▏       | 18/82 [00:11<00:43,  1.48it/s]\u001b[A\n",
      " 23%|██▎       | 19/82 [00:12<00:38,  1.66it/s]\u001b[A\n",
      " 24%|██▍       | 20/82 [00:12<00:39,  1.58it/s]\u001b[A\n",
      " 26%|██▌       | 21/82 [00:13<00:35,  1.70it/s]\u001b[A\n",
      " 27%|██▋       | 22/82 [00:14<00:45,  1.33it/s]\u001b[A\n",
      " 28%|██▊       | 23/82 [00:14<00:32,  1.79it/s]\u001b[A\n",
      " 29%|██▉       | 24/82 [00:15<00:37,  1.56it/s]\u001b[A\n",
      " 30%|███       | 25/82 [00:15<00:34,  1.65it/s]\u001b[A\n",
      " 32%|███▏      | 26/82 [00:16<00:25,  2.19it/s]\u001b[A\n",
      " 33%|███▎      | 27/82 [00:16<00:19,  2.83it/s]\u001b[A"
     ]
    },
    {
     "name": "stdout",
     "output_type": "stream",
     "text": [
      "Vk_20180517_12documents0.pdf\n"
     ]
    },
    {
     "name": "stderr",
     "output_type": "stream",
     "text": [
      "\n",
      " 34%|███▍      | 28/82 [00:17<00:28,  1.92it/s]\u001b[A\n",
      " 35%|███▌      | 29/82 [00:18<00:35,  1.49it/s]\u001b[A\n",
      " 37%|███▋      | 30/82 [00:18<00:30,  1.72it/s]\u001b[A\n",
      " 38%|███▊      | 31/82 [00:19<00:29,  1.72it/s]\u001b[A\n",
      " 39%|███▉      | 32/82 [00:19<00:33,  1.48it/s]\u001b[A\n",
      " 40%|████      | 33/82 [00:20<00:29,  1.68it/s]\u001b[A\n",
      " 41%|████▏     | 34/82 [00:20<00:25,  1.86it/s]\u001b[A\n",
      " 43%|████▎     | 35/82 [00:21<00:24,  1.93it/s]\u001b[A\n",
      " 44%|████▍     | 36/82 [00:22<00:29,  1.58it/s]\u001b[A\n",
      " 45%|████▌     | 37/82 [00:23<00:37,  1.19it/s]\u001b[A\n",
      " 46%|████▋     | 38/82 [00:24<00:43,  1.01it/s]\u001b[A\n",
      " 48%|████▊     | 39/82 [00:25<00:40,  1.05it/s]\u001b[A"
     ]
    },
    {
     "name": "stdout",
     "output_type": "stream",
     "text": [
      "Vk_20180523_05documents2.pdf\n"
     ]
    },
    {
     "name": "stderr",
     "output_type": "stream",
     "text": [
      "\n",
      " 49%|████▉     | 40/82 [00:26<00:33,  1.27it/s]\u001b[A\n",
      " 50%|█████     | 41/82 [00:26<00:30,  1.37it/s]\u001b[A\n",
      " 51%|█████     | 42/82 [00:27<00:29,  1.37it/s]\u001b[A\n",
      " 52%|█████▏    | 43/82 [00:27<00:24,  1.59it/s]\u001b[A\n",
      " 54%|█████▎    | 44/82 [00:28<00:21,  1.73it/s]\u001b[A\n",
      " 55%|█████▍    | 45/82 [00:28<00:16,  2.27it/s]\u001b[A"
     ]
    },
    {
     "name": "stdout",
     "output_type": "stream",
     "text": [
      "Vk_20180523_05documents1.pdf\n"
     ]
    },
    {
     "name": "stderr",
     "output_type": "stream",
     "text": [
      "\n",
      " 56%|█████▌    | 46/82 [00:28<00:18,  1.98it/s]\u001b[A\n",
      " 57%|█████▋    | 47/82 [00:29<00:18,  1.85it/s]\u001b[A\n",
      " 59%|█████▊    | 48/82 [00:31<00:32,  1.06it/s]\u001b[A"
     ]
    },
    {
     "name": "stdout",
     "output_type": "stream",
     "text": [
      "Vk_20180522_23documents3.pdf\n"
     ]
    },
    {
     "name": "stderr",
     "output_type": "stream",
     "text": [
      "\n",
      " 61%|██████    | 50/82 [00:32<00:23,  1.34it/s]\u001b[A\n",
      " 62%|██████▏   | 51/82 [00:32<00:17,  1.81it/s]\u001b[A\n",
      " 63%|██████▎   | 52/82 [00:32<00:12,  2.38it/s]\u001b[A\n",
      " 65%|██████▍   | 53/82 [00:32<00:13,  2.13it/s]\u001b[A\n",
      " 66%|██████▌   | 54/82 [00:33<00:14,  1.98it/s]\u001b[A\n",
      " 67%|██████▋   | 55/82 [00:33<00:10,  2.54it/s]\u001b[A\n",
      " 68%|██████▊   | 56/82 [00:35<00:18,  1.41it/s]\u001b[A\n",
      " 70%|██████▉   | 57/82 [00:35<00:13,  1.89it/s]\u001b[A"
     ]
    },
    {
     "name": "stdout",
     "output_type": "stream",
     "text": [
      "Vk_20180524_02documents1.pdf\n",
      "Vk_20180530_11documents2.pdf\n"
     ]
    },
    {
     "name": "stderr",
     "output_type": "stream",
     "text": [
      "\n",
      " 71%|███████   | 58/82 [00:35<00:09,  2.46it/s]\u001b[A\n",
      " 72%|███████▏  | 59/82 [00:35<00:07,  3.06it/s]\u001b[A"
     ]
    },
    {
     "name": "stdout",
     "output_type": "stream",
     "text": [
      "Vk_20180530_11documents3.pdf\n",
      "Vk_20180524_02documents0.pdf\n"
     ]
    },
    {
     "name": "stderr",
     "output_type": "stream",
     "text": [
      "\n",
      " 73%|███████▎  | 60/82 [00:35<00:06,  3.54it/s]\u001b[A"
     ]
    },
    {
     "name": "stdout",
     "output_type": "stream",
     "text": [
      "Vk_20180326_03documents0.pdf\n"
     ]
    },
    {
     "name": "stderr",
     "output_type": "stream",
     "text": [
      "\n",
      " 74%|███████▍  | 61/82 [00:35<00:06,  3.40it/s]\u001b[A\n",
      " 76%|███████▌  | 62/82 [00:36<00:05,  3.48it/s]\u001b[A\n",
      " 77%|███████▋  | 63/82 [00:36<00:04,  4.26it/s]\u001b[A\n",
      " 78%|███████▊  | 64/82 [00:41<00:30,  1.72s/it]\u001b[A\n",
      " 79%|███████▉  | 65/82 [00:41<00:23,  1.36s/it]\u001b[A\n",
      " 80%|████████  | 66/82 [00:42<00:18,  1.16s/it]\u001b[A\n",
      " 82%|████████▏ | 67/82 [00:43<00:16,  1.08s/it]\u001b[A\n",
      " 83%|████████▎ | 68/82 [00:43<00:11,  1.18it/s]\u001b[A\n",
      " 84%|████████▍ | 69/82 [00:44<00:09,  1.31it/s]\u001b[A\n",
      " 85%|████████▌ | 70/82 [00:45<00:08,  1.38it/s]\u001b[A\n",
      " 87%|████████▋ | 71/82 [00:45<00:06,  1.59it/s]\u001b[A\n",
      " 88%|████████▊ | 72/82 [00:45<00:05,  1.79it/s]\u001b[A\n",
      " 89%|████████▉ | 73/82 [00:46<00:04,  2.05it/s]\u001b[A\n",
      " 90%|█████████ | 74/82 [00:46<00:03,  2.07it/s]\u001b[A\n",
      " 91%|█████████▏| 75/82 [00:46<00:02,  2.69it/s]\u001b[A\n",
      " 93%|█████████▎| 76/82 [00:47<00:03,  1.59it/s]\u001b[A\n",
      " 94%|█████████▍| 77/82 [00:49<00:03,  1.27it/s]\u001b[A\n",
      " 95%|█████████▌| 78/82 [00:49<00:02,  1.44it/s]\u001b[A\n",
      " 96%|█████████▋| 79/82 [00:50<00:01,  1.62it/s]\u001b[A\n",
      " 98%|█████████▊| 80/82 [00:50<00:01,  1.99it/s]\u001b[A\n",
      " 99%|█████████▉| 81/82 [00:50<00:00,  2.36it/s]\u001b[A\n",
      "100%|██████████| 82/82 [00:50<00:00,  2.73it/s]\u001b[A"
     ]
    }
   ],
   "source": [
    "lst = []\n",
    "mistakes = []\n",
    "for pdf in tqdm(pdfs):\n",
    "    try:\n",
    "        text = textract.process(\"pdfs/\"+pdf, method='pdfminer', encoding='ISO-8859-1')\n",
    "        lst.append(text)\n",
    "    except:\n",
    "        mistakes.append(pdf)"
   ]
  },
  {
   "cell_type": "markdown",
   "metadata": {},
   "source": [
    "## Bilder auslesen"
   ]
  },
  {
   "cell_type": "code",
   "execution_count": 21,
   "metadata": {},
   "outputs": [],
   "source": [
    "text = textract.process(\"pdfs/\"+pdfs[0], method='tesseract') #Nicht ideal, aber gut"
   ]
  },
  {
   "cell_type": "markdown",
   "metadata": {},
   "source": [
    "## Alles zusammen"
   ]
  },
  {
   "cell_type": "code",
   "execution_count": null,
   "metadata": {
    "scrolled": true
   },
   "outputs": [
    {
     "name": "stderr",
     "output_type": "stream",
     "text": [
      "\n",
      "  0%|          | 0/82 [00:00<?, ?it/s]\u001b[A\n",
      "  1%|          | 1/82 [00:00<00:55,  1.47it/s]\u001b[A\n",
      "  2%|▏         | 2/82 [00:01<00:54,  1.46it/s]\u001b[A\n",
      "  4%|▎         | 3/82 [00:02<01:08,  1.15it/s]\u001b[A\n",
      "  5%|▍         | 4/82 [00:03<00:56,  1.39it/s]\u001b[A\n",
      "  6%|▌         | 5/82 [00:03<00:48,  1.58it/s]\u001b[A\n",
      "  7%|▋         | 6/82 [00:04<00:48,  1.58it/s]\u001b[A\n",
      "  9%|▊         | 7/82 [00:05<01:13,  1.02it/s]\u001b[A\n",
      " 10%|▉         | 8/82 [00:06<00:57,  1.29it/s]\u001b[A\n",
      " 11%|█         | 9/82 [00:07<01:10,  1.03it/s]\u001b[A\n",
      " 12%|█▏        | 10/82 [00:07<00:53,  1.35it/s]\u001b[A\n",
      " 13%|█▎        | 11/82 [00:08<00:51,  1.38it/s]\u001b[A\n",
      " 15%|█▍        | 12/82 [00:10<01:08,  1.03it/s]\u001b[A\n",
      " 16%|█▌        | 13/82 [00:10<01:01,  1.13it/s]\u001b[A\n",
      " 17%|█▋        | 14/82 [00:12<01:11,  1.05s/it]\u001b[A\n",
      " 18%|█▊        | 15/82 [00:12<00:56,  1.19it/s]\u001b[A\n",
      " 20%|█▉        | 16/82 [00:13<00:53,  1.25it/s]\u001b[A\n",
      " 21%|██        | 17/82 [00:13<00:47,  1.37it/s]\u001b[A\n",
      " 22%|██▏       | 18/82 [00:14<00:47,  1.35it/s]\u001b[A\n",
      " 23%|██▎       | 19/82 [00:15<00:40,  1.55it/s]\u001b[A\n",
      " 24%|██▍       | 20/82 [00:15<00:39,  1.57it/s]\u001b[A\n",
      " 26%|██▌       | 21/82 [00:16<00:34,  1.74it/s]\u001b[A\n",
      " 27%|██▋       | 22/82 [00:17<00:42,  1.42it/s]\u001b[A\n",
      " 28%|██▊       | 23/82 [00:17<00:40,  1.46it/s]\u001b[A\n",
      " 29%|██▉       | 24/82 [00:18<00:42,  1.35it/s]\u001b[A\n",
      " 30%|███       | 25/82 [00:19<00:39,  1.45it/s]\u001b[A\n",
      " 32%|███▏      | 26/82 [00:19<00:28,  1.93it/s]\u001b[A\n",
      " 33%|███▎      | 27/82 [00:20<00:35,  1.54it/s]\u001b[A\n",
      " 34%|███▍      | 28/82 [00:21<00:37,  1.43it/s]\u001b[A\n",
      " 35%|███▌      | 29/82 [00:21<00:40,  1.30it/s]\u001b[A\n",
      " 37%|███▋      | 30/82 [00:22<00:33,  1.53it/s]\u001b[A\n",
      " 38%|███▊      | 31/82 [00:22<00:31,  1.63it/s]\u001b[A\n",
      " 39%|███▉      | 32/82 [00:23<00:34,  1.47it/s]\u001b[A\n",
      " 40%|████      | 33/82 [00:24<00:28,  1.69it/s]\u001b[A\n",
      " 41%|████▏     | 34/82 [00:24<00:25,  1.88it/s]\u001b[A\n",
      " 43%|████▎     | 35/82 [00:24<00:23,  1.98it/s]\u001b[A\n",
      " 44%|████▍     | 36/82 [00:25<00:27,  1.65it/s]\u001b[A\n",
      " 45%|████▌     | 37/82 [00:26<00:34,  1.32it/s]\u001b[A\n",
      " 46%|████▋     | 38/82 [00:28<00:38,  1.13it/s]\u001b[A\n",
      " 48%|████▊     | 39/82 [00:29<00:48,  1.12s/it]\u001b[A\n",
      " 49%|████▉     | 40/82 [00:30<00:36,  1.14it/s]\u001b[A\n",
      " 50%|█████     | 41/82 [00:30<00:30,  1.32it/s]\u001b[A\n",
      " 51%|█████     | 42/82 [00:31<00:28,  1.42it/s]\u001b[A\n",
      " 52%|█████▏    | 43/82 [00:31<00:23,  1.68it/s]\u001b[A\n",
      " 54%|█████▎    | 44/82 [00:31<00:20,  1.87it/s]\u001b[A\n",
      " 55%|█████▍    | 45/82 [00:33<00:34,  1.06it/s]\u001b[A\n",
      " 56%|█████▌    | 46/82 [00:34<00:31,  1.15it/s]\u001b[A\n",
      " 57%|█████▋    | 47/82 [00:35<00:27,  1.25it/s]\u001b[A\n",
      " 59%|█████▊    | 48/82 [00:37<00:40,  1.18s/it]\u001b[A"
     ]
    }
   ],
   "source": [
    "#Rohe Analyse\n",
    "for pdf in tqdm(pdfs):\n",
    "    try:\n",
    "        text = textract.process(\"pdfs/\"+pdf, method='pdfminer', encoding='ISO-8859-1')\n",
    "        text = text.decode(\"ISO-8859-1\").replace(\"\\n\", \" \")\n",
    "        if len(text) < 40:\n",
    "            text = textract.process(\"pdfs/\"+pdf, method='tesseract', language='deu')\n",
    "            text = text.decode(\"ISO-8859-1\").replace(\"\\n\", \" \")\n",
    "            \n",
    "        mini_dict = {'Text':text,\n",
    "                     'File':pdf}\n",
    "        lst.append(mini_dict)\n",
    "    except:\n",
    "        mini_dict = {'Text':'Fehlermeldung',\n",
    "                     'File':pdf}\n",
    "        lst.append(mini_dict)"
   ]
  },
  {
   "cell_type": "code",
   "execution_count": null,
   "metadata": {},
   "outputs": [],
   "source": [
    "#Erste Säuberung\n",
    "df = pd.DataFrame(lst)\n",
    "def date(elem):\n",
    "    elem = elem[3:11]\n",
    "    return elem\n",
    "df['date'] = df['File'].apply(date)\n",
    "df['date'] = pd.to_datetime(df['date'], format='%Y%m%d')\n",
    "df.index = df['date']\n",
    "#Suchen wir noch nach Implantaten\n",
    "df['implant'] = df['Text'].str.contains('implant')\n",
    "df.to_csv('datafile.csv')"
   ]
  },
  {
   "cell_type": "code",
   "execution_count": null,
   "metadata": {},
   "outputs": [],
   "source": []
  }
 ],
 "metadata": {
  "kernelspec": {
   "display_name": "Python 3",
   "language": "python",
   "name": "python3"
  },
  "language_info": {
   "codemirror_mode": {
    "name": "ipython",
    "version": 3
   },
   "file_extension": ".py",
   "mimetype": "text/x-python",
   "name": "python",
   "nbconvert_exporter": "python",
   "pygments_lexer": "ipython3",
   "version": "3.7.3"
  }
 },
 "nbformat": 4,
 "nbformat_minor": 2
}
