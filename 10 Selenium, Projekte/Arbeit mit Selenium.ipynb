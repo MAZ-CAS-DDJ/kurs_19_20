{
 "cells": [
  {
   "cell_type": "markdown",
   "metadata": {},
   "source": [
    "# Arbeit mit Selenium"
   ]
  },
  {
   "cell_type": "markdown",
   "metadata": {},
   "source": [
    "Die Arbeit mit Selenium erfordert etwas Übung. Aber der Zeitaufwand lohnt sich. Es gibt mit Selenium kaum ein Webdienst der nicht scrapbar wird. Beginnen wir aber wie üblich mit der Dokumentation. Sie ist im Falle von Selenium sehr hilfreich. Ihr findet [sie hier](http://selenium-python.readthedocs.io/). Und [hier](http://selenium-python.readthedocs.io/locating-elements.html). "
   ]
  },
  {
   "cell_type": "markdown",
   "metadata": {},
   "source": [
    "Um Selenium kennenzulernen, gehen wir zurück zu unserem Beispiel der Lehren: https://www.berufsberatung.ch/dyn/show/2930. Nun wollen wir keine URLs generieren, um unsere Inhalte zu finden. Wir wollen stattdessen mit der Site interagieren. So sollten wir alle Einträge bekommen. BeautifulSoup werden wir trotzdem noch dazu nehmen. Denn Selenium liest keine Inhalte aus. Die Library lässt uns einfach mit dem Webdienst interagieren."
   ]
  },
  {
   "cell_type": "markdown",
   "metadata": {},
   "source": [
    "Beginnen wir mit den Imports"
   ]
  },
  {
   "cell_type": "code",
   "execution_count": null,
   "metadata": {
    "collapsed": true
   },
   "outputs": [],
   "source": [
    "from bs4 import BeautifulSoup\n",
    "import requests\n",
    "import time\n",
    "import datetime\n",
    "import pandas as pd\n",
    "from selenium import webdriver\n",
    "from selenium.webdriver.common.keys import Keys"
   ]
  },
  {
   "cell_type": "markdown",
   "metadata": {},
   "source": [
    "Und dann schicken wir Selenium auf die Seite."
   ]
  },
  {
   "cell_type": "code",
   "execution_count": null,
   "metadata": {
    "collapsed": true
   },
   "outputs": [],
   "source": [
    "#Wir starten den Browser:\n",
    "driver = webdriver.Chrome('/usr/local/bin/chromedriver')\n",
    "#Wir besuchen die Site\n",
    "driver.get(\"https://www.berufsberatung.ch/dyn/show/2930\")"
   ]
  },
  {
   "cell_type": "markdown",
   "metadata": {},
   "source": [
    "Nun suchen wir mit dem Inspector die Elemente, die wir ansteuern wollen."
   ]
  },
  {
   "cell_type": "code",
   "execution_count": null,
   "metadata": {
    "collapsed": true
   },
   "outputs": [],
   "source": [
    "driver.find_element_by_class_name(\"fs-autocomplete-trigger\").click()"
   ]
  },
  {
   "cell_type": "code",
   "execution_count": null,
   "metadata": {
    "collapsed": true
   },
   "outputs": [],
   "source": [
    "driver.find_element_by_id(\"sw_453\").click()"
   ]
  },
  {
   "cell_type": "markdown",
   "metadata": {},
   "source": [
    "Aber wir wollen alle Ergänzen. Holen wir deshalb die Nummern nochmals"
   ]
  },
  {
   "cell_type": "code",
   "execution_count": null,
   "metadata": {
    "collapsed": true
   },
   "outputs": [],
   "source": [
    "r = requests.get('https://www.berufsberatung.ch/dyn/show/2930')\n",
    "soup = BeautifulSoup(r.text, 'lxml')\n",
    "ids = []\n",
    "for elem in soup.find('ul',{'class':'ui-autocomplete full-list '}).find_all('a'):\n",
    "    elem = \"sw_\" + elem['data-id']\n",
    "    ids.append(elem)"
   ]
  },
  {
   "cell_type": "markdown",
   "metadata": {},
   "source": [
    "Testen wir es mit den ersten fünf Einträgen"
   ]
  },
  {
   "cell_type": "code",
   "execution_count": null,
   "metadata": {},
   "outputs": [],
   "source": [
    "for elem in ids[:4]:\n",
    "    print(elem)\n",
    "    time.sleep(.5) #damit es nicht zu schnell geht\n",
    "    driver.find_element_by_class_name(\"fs-autocomplete-trigger\").click()\n",
    "    time.sleep(.5)\n",
    "    driver.find_element_by_id(elem).click()"
   ]
  },
  {
   "cell_type": "code",
   "execution_count": null,
   "metadata": {
    "collapsed": true
   },
   "outputs": [],
   "source": [
    "driver.find_element_by_id(\"uxfs-action\").click()"
   ]
  },
  {
   "cell_type": "markdown",
   "metadata": {},
   "source": [
    "Zeigen wird alle Ergebnisse an"
   ]
  },
  {
   "cell_type": "code",
   "execution_count": null,
   "metadata": {},
   "outputs": [],
   "source": [
    "driver.find_element_by_id(\"aSearchPaging\").click()"
   ]
  },
  {
   "cell_type": "markdown",
   "metadata": {},
   "source": [
    "Speichern wir die Ergebnisse ab"
   ]
  },
  {
   "cell_type": "code",
   "execution_count": null,
   "metadata": {},
   "outputs": [],
   "source": [
    "text = driver.page_source"
   ]
  },
  {
   "cell_type": "code",
   "execution_count": null,
   "metadata": {
    "collapsed": true
   },
   "outputs": [],
   "source": [
    "def lehrstellen(html):\n",
    "    \n",
    "    soup = BeautifulSoup(html, 'lxml')\n",
    "    \n",
    "    ortsliste = soup.find('div', {'class':'resultpart result-body'})\\\n",
    "                    .find_all('div', {'class':'display-table-cell table-col-3'})\n",
    "    \n",
    "    firmenliste = soup.find('div', {'class':'resultpart result-body'})\\\n",
    "                    .find_all('div', {'class':'display-table-cell bold company data-id table-col-1'})\n",
    "    \n",
    "    jahresliste = soup.find('div', {'class':'resultpart result-body'})\\\n",
    "                    .find_all('div', {'class':'display-table-cell float-left-for-sd table-col-4'})\n",
    "        \n",
    "    anzahlliste = soup.find('div', {'class':'resultpart result-body'})\\\n",
    "                    .find_all('div', {'class':'display-table-cell text-align-center float-left-for-sd table-col-5'})\n",
    "    \n",
    "    lst = []\n",
    "    \n",
    "    for ort, firma, jahr, anzahl in zip(ortsliste,firmenliste,jahresliste, anzahlliste):\n",
    "        \n",
    "        mini_dict = {'Ort':ort.text,\n",
    "                     'Firma':firma.text,\n",
    "                     'Jahr':jahr.text,\n",
    "                     'Anzahl':int(anzahl.text.replace(' Lehrstelle(n)\\n','').replace('\\n',''))}\n",
    "        lst.append(mini_dict)\n",
    "    \n",
    "    return lst"
   ]
  },
  {
   "cell_type": "code",
   "execution_count": null,
   "metadata": {},
   "outputs": [],
   "source": [
    "lehrstellen(text)"
   ]
  },
  {
   "cell_type": "markdown",
   "metadata": {},
   "source": [
    "## Bringen wir alles zusammen"
   ]
  },
  {
   "cell_type": "code",
   "execution_count": null,
   "metadata": {},
   "outputs": [],
   "source": [
    "#Funktion, um nur die Informationen herauszuziehen, die uns interessieren\n",
    "def lehrstellen(html):\n",
    "    \n",
    "    soup = BeautifulSoup(html, 'lxml')\n",
    "    try:\n",
    "        ortsliste = soup.find('div', {'class':'resultpart result-body'})\\\n",
    "                    .find_all('div', {'class':'display-table-cell table-col-3'})\n",
    "    \n",
    "        firmenliste = soup.find('div', {'class':'resultpart result-body'})\\\n",
    "                    .find_all('div', {'class':'display-table-cell bold company data-id table-col-1'})\n",
    "    \n",
    "        jahresliste = soup.find('div', {'class':'resultpart result-body'})\\\n",
    "                    .find_all('div', {'class':'display-table-cell float-left-for-sd table-col-4'})\n",
    "        \n",
    "        anzahlliste = soup.find('div', {'class':'resultpart result-body'})\\\n",
    "                    .find_all('div', {'class':'display-table-cell text-align-center float-left-for-sd table-col-5'})\n",
    "    \n",
    "        lehrstelle = soup.find('ul',{'class':'ui-autocomplete full-list '})\\\n",
    "                    .find_all('a')\n",
    "        lst = []\n",
    "    \n",
    "        for ort, firma, jahr, anzahl,lehr in zip(ortsliste,firmenliste,jahresliste, anzahlliste,lehrstelle):\n",
    "        \n",
    "            mini_dict = {'Ort':ort.text,\n",
    "                     'Firma':firma.text,\n",
    "                     'Jahr':jahr.text,\n",
    "                     'Anzahl':int(anzahl.text.replace(' Lehrstelle(n)\\n','').replace('\\n','')),\n",
    "                     'Lehrstelle':lehr['data-value']}\n",
    "            lst.append(mini_dict)\n",
    "    \n",
    "        return pd.DataFrame(lst).to_csv(\"d/\"+str(datetime.datetime.now())+\".csv\")\n",
    "    \n",
    "    except:\n",
    "        return pd.DataFrame([{'Ort':'Keine Treffer',\n",
    "                'Firma':'Keine Treffer',\n",
    "                'Jahr':'Keine Treffer',\n",
    "                'Anzahl':'Keine Treffer'}])\n",
    "    \n",
    "#Bauen wir Listen aller Job-IDs\n",
    "r = requests.get('https://www.berufsberatung.ch/dyn/show/2930')\n",
    "soup = BeautifulSoup(r.text, 'lxml')\n",
    "ids = []\n",
    "for elem in soup.find('ul',{'class':'ui-autocomplete full-list '}).find_all('a'):\n",
    "    elem = \"sw_\" + elem['data-id']\n",
    "    ids.append(elem)\n",
    "    \n",
    "#Teilen wir diese Listen mit Länge von je 5 Teilen. \n",
    "#Das habe ich nicht selber geschrieben, sondern hier geholt:\n",
    "#https://stackoverflow.com/questions/312443/how-do-you-split-a-list-into-evenly-sized-chunks\n",
    "idslst = [ids[i:i + 5] for i in range(0, len(ids), 5)]\n",
    "\n",
    "count = 0\n",
    "for ids in idslst:\n",
    "\n",
    "    #Starten wir den Chrome-Browser und besuchen die Site\n",
    "    driver = webdriver.Chrome('/usr/local/bin/chromedriver')\n",
    "    driver.get(\"https://www.berufsberatung.ch/dyn/show/2930\")\n",
    "\n",
    "    #Bereiten wir die Suche vor    \n",
    "    for elem in ids:\n",
    "        time.sleep(1) #damit es nicht zu schnell geht\n",
    "        driver.find_element_by_class_name(\"fs-autocomplete-trigger\").click()\n",
    "        time.sleep(1)\n",
    "        driver.find_element_by_id(elem).click()\n",
    "    \n",
    "    #Suchen wir\n",
    "    time.sleep(1)\n",
    "    driver.find_element_by_id(\"uxfs-action\").click()\n",
    "\n",
    "    #Nun nun sorgen wir dafür, dass alle Ergebnisse anzeigt werden.\n",
    "    exists = 1\n",
    "    while(exists==1):\n",
    "        loadmore = driver.find_element_by_id(\"aSearchPaging\")\n",
    "        if loadmore.text == \"MEHR ERGEBNISSE ANZEIGEN\":\n",
    "            driver.find_element_by_id(\"aSearchPaging\").click()\n",
    "            time.sleep(1)\n",
    "        else:\n",
    "            exists = 0\n",
    "            \n",
    "    print(count)\n",
    "    count += 1\n",
    "    \n",
    "    lehrstellen(driver.page_source)\n",
    "    driver.close()"
   ]
  },
  {
   "cell_type": "markdown",
   "metadata": {},
   "source": [
    "Kreieren wir ein kleine .py File und lösen es von der Commandline aus."
   ]
  },
  {
   "cell_type": "code",
   "execution_count": null,
   "metadata": {
    "collapsed": true
   },
   "outputs": [],
   "source": []
  }
 ],
 "metadata": {
  "kernelspec": {
   "display_name": "Python 3",
   "language": "python",
   "name": "python3"
  },
  "language_info": {
   "codemirror_mode": {
    "name": "ipython",
    "version": 2
   },
   "file_extension": ".py",
   "mimetype": "text/x-python",
   "name": "python",
   "nbconvert_exporter": "python",
   "pygments_lexer": "ipython2",
   "version": "2.7.10"
  }
 },
 "nbformat": 4,
 "nbformat_minor": 2
}
