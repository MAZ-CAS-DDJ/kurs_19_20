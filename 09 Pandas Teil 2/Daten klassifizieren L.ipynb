{
 "cells": [
  {
   "cell_type": "markdown",
   "metadata": {},
   "source": [
    "# Daten klassifizieren"
   ]
  },
  {
   "cell_type": "markdown",
   "metadata": {},
   "source": [
    "**Inhalt:** Unsaubere Daten laden und klassifizieren\n",
    "\n",
    "**Nötige Skills:** Erste Schritte mit Pandas\n",
    "\n",
    "**Lernziele:**\n",
    "- Daten auf Integrität prüfen\n",
    "- Einfaches Putzen der gröbsten Fehler\n",
    "- Ein paar String-Funktionen\n",
    "- Klassifizieren a: df.apply kennenlernen\n",
    "- Klassifizieren b: df.merge kennenlernen\n",
    "- Plotting Level 2: mehrere Serien"
   ]
  },
  {
   "cell_type": "markdown",
   "metadata": {},
   "source": [
    "# Das Beispiel"
   ]
  },
  {
   "cell_type": "markdown",
   "metadata": {},
   "source": [
    "P3-Datenbank des Schweizerischen Nationalfonds. Beinhaltet alle Forschungsprojekte, die seit 1975 vom SNF Fördergelder erhalten haben.\n",
    "\n",
    "Quelle und Dokumentation: http://p3.snf.ch/Pages/DataAndDocumentation.aspx\n",
    "\n",
    "Datenfile: http://p3.snf.ch/P3Export/P3_GrantExport.csv\n",
    "\n",
    "Speichern Sie die Datei an einem geeigneten Ort, zB im Unterornder `dataprojects/SNF/`"
   ]
  },
  {
   "cell_type": "markdown",
   "metadata": {},
   "source": [
    "## Vorbereitung"
   ]
  },
  {
   "cell_type": "markdown",
   "metadata": {},
   "source": [
    "Wir laden diesmal nicht nur das Pandas-Modul, sondern auch NumPy.\n",
    "\n",
    "*NumPy is the fundamental package for scientific computing with Python): http://www.numpy.org/*"
   ]
  },
  {
   "cell_type": "code",
   "execution_count": 1,
   "metadata": {},
   "outputs": [],
   "source": [
    "import pandas as pd"
   ]
  },
  {
   "cell_type": "code",
   "execution_count": 2,
   "metadata": {},
   "outputs": [],
   "source": [
    "import numpy as np"
   ]
  },
  {
   "cell_type": "code",
   "execution_count": 3,
   "metadata": {},
   "outputs": [],
   "source": [
    "%matplotlib inline"
   ]
  },
  {
   "cell_type": "markdown",
   "metadata": {},
   "source": [
    "## Datenfile laden"
   ]
  },
  {
   "cell_type": "markdown",
   "metadata": {},
   "source": [
    "Wie gehabt ... Achtung, die Felder sind nicht durch Kommas sondern durch Semikolon abgetrennt!"
   ]
  },
  {
   "cell_type": "code",
   "execution_count": 4,
   "metadata": {},
   "outputs": [],
   "source": [
    "path = \"dataprojects/SNF/P3_GrantExport.csv\""
   ]
  },
  {
   "cell_type": "code",
   "execution_count": 5,
   "metadata": {},
   "outputs": [],
   "source": [
    "df = pd.read_csv(path, delimiter=';')"
   ]
  },
  {
   "cell_type": "code",
   "execution_count": 6,
   "metadata": {},
   "outputs": [
    {
     "data": {
      "text/html": [
       "<div>\n",
       "<style scoped>\n",
       "    .dataframe tbody tr th:only-of-type {\n",
       "        vertical-align: middle;\n",
       "    }\n",
       "\n",
       "    .dataframe tbody tr th {\n",
       "        vertical-align: top;\n",
       "    }\n",
       "\n",
       "    .dataframe thead th {\n",
       "        text-align: right;\n",
       "    }\n",
       "</style>\n",
       "<table border=\"1\" class=\"dataframe\">\n",
       "  <thead>\n",
       "    <tr style=\"text-align: right;\">\n",
       "      <th></th>\n",
       "      <th>Project Number</th>\n",
       "      <th>Project Number String</th>\n",
       "      <th>Project Title</th>\n",
       "      <th>Project Title English</th>\n",
       "      <th>Responsible Applicant</th>\n",
       "      <th>Funding Instrument</th>\n",
       "      <th>Funding Instrument Hierarchy</th>\n",
       "      <th>Institution</th>\n",
       "      <th>Institution Country</th>\n",
       "      <th>University</th>\n",
       "      <th>Discipline Number</th>\n",
       "      <th>Discipline Name</th>\n",
       "      <th>Discipline Name Hierarchy</th>\n",
       "      <th>All disciplines</th>\n",
       "      <th>Start Date</th>\n",
       "      <th>End Date</th>\n",
       "      <th>Approved Amount</th>\n",
       "      <th>Keywords</th>\n",
       "    </tr>\n",
       "  </thead>\n",
       "  <tbody>\n",
       "    <tr>\n",
       "      <td>0</td>\n",
       "      <td>1</td>\n",
       "      <td>1000-000001</td>\n",
       "      <td>Schlussband (Bd. VI) der Jacob Burckhardt-Biog...</td>\n",
       "      <td>NaN</td>\n",
       "      <td>Kaegi Werner</td>\n",
       "      <td>Project funding (Div. I-III)</td>\n",
       "      <td>Project funding</td>\n",
       "      <td>NaN</td>\n",
       "      <td>NaN</td>\n",
       "      <td>Unassignable - NA</td>\n",
       "      <td>10302</td>\n",
       "      <td>Swiss history</td>\n",
       "      <td>Humanities and Social Sciences;Theology &amp; reli...</td>\n",
       "      <td>10302</td>\n",
       "      <td>01.10.1975</td>\n",
       "      <td>30.09.1976</td>\n",
       "      <td>11619.00</td>\n",
       "      <td>NaN</td>\n",
       "    </tr>\n",
       "    <tr>\n",
       "      <td>1</td>\n",
       "      <td>4</td>\n",
       "      <td>1000-000004</td>\n",
       "      <td>Batterie de tests à l'usage des enseignants po...</td>\n",
       "      <td>NaN</td>\n",
       "      <td>Massarenti Léonard</td>\n",
       "      <td>Project funding (Div. I-III)</td>\n",
       "      <td>Project funding</td>\n",
       "      <td>Faculté de Psychologie et des Sciences de l'Ed...</td>\n",
       "      <td>Switzerland</td>\n",
       "      <td>University of Geneva - GE</td>\n",
       "      <td>10104</td>\n",
       "      <td>Educational science and Pedagogy</td>\n",
       "      <td>Humanities and Social Sciences;Psychology, edu...</td>\n",
       "      <td>10104</td>\n",
       "      <td>01.10.1975</td>\n",
       "      <td>30.09.1976</td>\n",
       "      <td>41022.00</td>\n",
       "      <td>NaN</td>\n",
       "    </tr>\n",
       "  </tbody>\n",
       "</table>\n",
       "</div>"
      ],
      "text/plain": [
       "   Project Number Project Number String  \\\n",
       "0               1           1000-000001   \n",
       "1               4           1000-000004   \n",
       "\n",
       "                                       Project Title Project Title English  \\\n",
       "0  Schlussband (Bd. VI) der Jacob Burckhardt-Biog...                   NaN   \n",
       "1  Batterie de tests à l'usage des enseignants po...                   NaN   \n",
       "\n",
       "  Responsible Applicant            Funding Instrument  \\\n",
       "0          Kaegi Werner  Project funding (Div. I-III)   \n",
       "1    Massarenti Léonard  Project funding (Div. I-III)   \n",
       "\n",
       "  Funding Instrument Hierarchy  \\\n",
       "0              Project funding   \n",
       "1              Project funding   \n",
       "\n",
       "                                         Institution Institution Country  \\\n",
       "0                                                NaN                 NaN   \n",
       "1  Faculté de Psychologie et des Sciences de l'Ed...         Switzerland   \n",
       "\n",
       "                  University  Discipline Number  \\\n",
       "0          Unassignable - NA              10302   \n",
       "1  University of Geneva - GE              10104   \n",
       "\n",
       "                    Discipline Name  \\\n",
       "0                     Swiss history   \n",
       "1  Educational science and Pedagogy   \n",
       "\n",
       "                           Discipline Name Hierarchy All disciplines  \\\n",
       "0  Humanities and Social Sciences;Theology & reli...           10302   \n",
       "1  Humanities and Social Sciences;Psychology, edu...           10104   \n",
       "\n",
       "   Start Date    End Date Approved Amount Keywords  \n",
       "0  01.10.1975  30.09.1976        11619.00      NaN  \n",
       "1  01.10.1975  30.09.1976        41022.00      NaN  "
      ]
     },
     "execution_count": 6,
     "metadata": {},
     "output_type": "execute_result"
    }
   ],
   "source": [
    "df.head(2)"
   ]
  },
  {
   "cell_type": "markdown",
   "metadata": {},
   "source": [
    "Besser! Schauen wir uns die Sache mal näher an."
   ]
  },
  {
   "cell_type": "code",
   "execution_count": 7,
   "metadata": {},
   "outputs": [
    {
     "data": {
      "text/plain": [
       "(69478, 18)"
      ]
     },
     "execution_count": 7,
     "metadata": {},
     "output_type": "execute_result"
    }
   ],
   "source": [
    "df.shape"
   ]
  },
  {
   "cell_type": "code",
   "execution_count": 8,
   "metadata": {},
   "outputs": [
    {
     "data": {
      "text/plain": [
       "Project Number                   int64\n",
       "Project Number String           object\n",
       "Project Title                   object\n",
       "Project Title English           object\n",
       "Responsible Applicant           object\n",
       "Funding Instrument              object\n",
       "Funding Instrument Hierarchy    object\n",
       "Institution                     object\n",
       "Institution Country             object\n",
       "University                      object\n",
       "Discipline Number                int64\n",
       "Discipline Name                 object\n",
       "Discipline Name Hierarchy       object\n",
       "All disciplines                 object\n",
       "Start Date                      object\n",
       "End Date                        object\n",
       "Approved Amount                 object\n",
       "Keywords                        object\n",
       "dtype: object"
      ]
     },
     "execution_count": 8,
     "metadata": {},
     "output_type": "execute_result"
    }
   ],
   "source": [
    "df.dtypes"
   ]
  },
  {
   "cell_type": "code",
   "execution_count": 9,
   "metadata": {},
   "outputs": [
    {
     "data": {
      "text/html": [
       "<div>\n",
       "<style scoped>\n",
       "    .dataframe tbody tr th:only-of-type {\n",
       "        vertical-align: middle;\n",
       "    }\n",
       "\n",
       "    .dataframe tbody tr th {\n",
       "        vertical-align: top;\n",
       "    }\n",
       "\n",
       "    .dataframe thead th {\n",
       "        text-align: right;\n",
       "    }\n",
       "</style>\n",
       "<table border=\"1\" class=\"dataframe\">\n",
       "  <thead>\n",
       "    <tr style=\"text-align: right;\">\n",
       "      <th></th>\n",
       "      <th>Project Number</th>\n",
       "      <th>Discipline Number</th>\n",
       "    </tr>\n",
       "  </thead>\n",
       "  <tbody>\n",
       "    <tr>\n",
       "      <td>count</td>\n",
       "      <td>69478.000000</td>\n",
       "      <td>69478.000000</td>\n",
       "    </tr>\n",
       "    <tr>\n",
       "      <td>mean</td>\n",
       "      <td>91762.055543</td>\n",
       "      <td>19967.462161</td>\n",
       "    </tr>\n",
       "    <tr>\n",
       "      <td>std</td>\n",
       "      <td>56603.781834</td>\n",
       "      <td>8267.978369</td>\n",
       "    </tr>\n",
       "    <tr>\n",
       "      <td>min</td>\n",
       "      <td>1.000000</td>\n",
       "      <td>0.000000</td>\n",
       "    </tr>\n",
       "    <tr>\n",
       "      <td>25%</td>\n",
       "      <td>39662.500000</td>\n",
       "      <td>10401.000000</td>\n",
       "    </tr>\n",
       "    <tr>\n",
       "      <td>50%</td>\n",
       "      <td>107514.500000</td>\n",
       "      <td>20404.000000</td>\n",
       "    </tr>\n",
       "    <tr>\n",
       "      <td>75%</td>\n",
       "      <td>141091.500000</td>\n",
       "      <td>30103.000000</td>\n",
       "    </tr>\n",
       "    <tr>\n",
       "      <td>max</td>\n",
       "      <td>183981.000000</td>\n",
       "      <td>50000.000000</td>\n",
       "    </tr>\n",
       "  </tbody>\n",
       "</table>\n",
       "</div>"
      ],
      "text/plain": [
       "       Project Number  Discipline Number\n",
       "count    69478.000000       69478.000000\n",
       "mean     91762.055543       19967.462161\n",
       "std      56603.781834        8267.978369\n",
       "min          1.000000           0.000000\n",
       "25%      39662.500000       10401.000000\n",
       "50%     107514.500000       20404.000000\n",
       "75%     141091.500000       30103.000000\n",
       "max     183981.000000       50000.000000"
      ]
     },
     "execution_count": 9,
     "metadata": {},
     "output_type": "execute_result"
    }
   ],
   "source": [
    "df.describe()"
   ]
  },
  {
   "cell_type": "markdown",
   "metadata": {},
   "source": [
    "Offensichtlich hat es einige Spalten drin, die noch nicht mit dem richtigen Datentyp formatiert sind, z.B. \"Approved Amount\".\n",
    "\n",
    "Das Problem ist: So lange wir da nicht die richtigen Datentypen haben, funktionieren einige Auswertungen nicht."
   ]
  },
  {
   "cell_type": "code",
   "execution_count": 10,
   "metadata": {},
   "outputs": [],
   "source": [
    "#Zum Beispiel diese hier:\n",
    "#df['Approved Amount'].mean()"
   ]
  },
  {
   "cell_type": "markdown",
   "metadata": {},
   "source": [
    "Eigentlich wären das sehr interessante Informationen: wie viel Geld haben die Projekte im Schnitt gekriegt, im Maximum, im Minimum, etc.\n",
    "\n",
    "## Entfernen von ungültigen Werten\n",
    "\n",
    "Wir müssen also irgendwie diese Spalte reinigen, damit Pandas die Berechungen für uns machen kann.\n",
    "\n",
    "Um herauszukriegen, was das Problem sein könnte, ist `value_counts()` eine ziemlich einfache Option."
   ]
  },
  {
   "cell_type": "code",
   "execution_count": 11,
   "metadata": {},
   "outputs": [
    {
     "data": {
      "text/plain": [
       "0.00                          90\n",
       "100.00                         1\n",
       "1000.00                       33\n",
       "10000.00                     637\n",
       "100000.00                    207\n",
       "                           ...  \n",
       "999892.00                      1\n",
       "99995.00                       1\n",
       "999956.00                      1\n",
       "99996.00                       1\n",
       "data not included in P3    12070\n",
       "Name: Approved Amount, Length: 39138, dtype: int64"
      ]
     },
     "execution_count": 11,
     "metadata": {},
     "output_type": "execute_result"
    }
   ],
   "source": [
    "df['Approved Amount'].value_counts().sort_index()"
   ]
  },
  {
   "cell_type": "markdown",
   "metadata": {},
   "source": [
    "Das Problem liegt in der letzten Zeile: Bei 12070 Einträgen steht: \"`data not included in P3`.\"\n",
    "\n",
    "Wir können das auf mehrere Arten lösen:"
   ]
  },
  {
   "cell_type": "markdown",
   "metadata": {},
   "source": [
    "### Variante 1: Werte mit NaN ersetzen"
   ]
  },
  {
   "cell_type": "markdown",
   "metadata": {},
   "source": [
    "Wir verwenden nun die Funktion `replace()`, um selektiv alle Instanzen von \"`data not included in P3`\" zu ersetzen - und zwar mit NaN:"
   ]
  },
  {
   "cell_type": "code",
   "execution_count": 12,
   "metadata": {},
   "outputs": [],
   "source": [
    "df['Approved Amount'] = df['Approved Amount'].replace('data not included in P3', np.nan)"
   ]
  },
  {
   "cell_type": "markdown",
   "metadata": {},
   "source": [
    "Die Einträge wurden jetzt in NaN verwandelt (und werden deshalb standardmässig gar nicht mehr angezeigt)"
   ]
  },
  {
   "cell_type": "code",
   "execution_count": 13,
   "metadata": {},
   "outputs": [
    {
     "data": {
      "text/plain": [
       "0.00          90\n",
       "100.00         1\n",
       "1000.00       33\n",
       "10000.00     637\n",
       "100000.00    207\n",
       "            ... \n",
       "99989.00       1\n",
       "999892.00      1\n",
       "99995.00       1\n",
       "999956.00      1\n",
       "99996.00       1\n",
       "Name: Approved Amount, Length: 39137, dtype: int64"
      ]
     },
     "execution_count": 13,
     "metadata": {},
     "output_type": "execute_result"
    }
   ],
   "source": [
    "df['Approved Amount'].value_counts().sort_index()"
   ]
  },
  {
   "cell_type": "markdown",
   "metadata": {},
   "source": [
    "Allerdings haben wir ein Problem: Der Datentyp von \"Approved Amount\" ist immer noch \"object\"..."
   ]
  },
  {
   "cell_type": "code",
   "execution_count": 14,
   "metadata": {},
   "outputs": [
    {
     "data": {
      "text/plain": [
       "Project Number                   int64\n",
       "Project Number String           object\n",
       "Project Title                   object\n",
       "Project Title English           object\n",
       "Responsible Applicant           object\n",
       "Funding Instrument              object\n",
       "Funding Instrument Hierarchy    object\n",
       "Institution                     object\n",
       "Institution Country             object\n",
       "University                      object\n",
       "Discipline Number                int64\n",
       "Discipline Name                 object\n",
       "Discipline Name Hierarchy       object\n",
       "All disciplines                 object\n",
       "Start Date                      object\n",
       "End Date                        object\n",
       "Approved Amount                 object\n",
       "Keywords                        object\n",
       "dtype: object"
      ]
     },
     "execution_count": 14,
     "metadata": {},
     "output_type": "execute_result"
    }
   ],
   "source": [
    "df.dtypes"
   ]
  },
  {
   "cell_type": "markdown",
   "metadata": {},
   "source": [
    "Wir sind gezwungen, noch eine Datenkonversion durchzuführen: mit `astype()`"
   ]
  },
  {
   "cell_type": "code",
   "execution_count": 15,
   "metadata": {},
   "outputs": [],
   "source": [
    "df['Approved Amount'] = df['Approved Amount'].astype(float)"
   ]
  },
  {
   "cell_type": "markdown",
   "metadata": {},
   "source": [
    "Endlich stimmt der Datentyp:"
   ]
  },
  {
   "cell_type": "code",
   "execution_count": 16,
   "metadata": {
    "scrolled": true
   },
   "outputs": [
    {
     "data": {
      "text/plain": [
       "Project Number                    int64\n",
       "Project Number String            object\n",
       "Project Title                    object\n",
       "Project Title English            object\n",
       "Responsible Applicant            object\n",
       "Funding Instrument               object\n",
       "Funding Instrument Hierarchy     object\n",
       "Institution                      object\n",
       "Institution Country              object\n",
       "University                       object\n",
       "Discipline Number                 int64\n",
       "Discipline Name                  object\n",
       "Discipline Name Hierarchy        object\n",
       "All disciplines                  object\n",
       "Start Date                       object\n",
       "End Date                         object\n",
       "Approved Amount                 float64\n",
       "Keywords                         object\n",
       "dtype: object"
      ]
     },
     "execution_count": 16,
     "metadata": {},
     "output_type": "execute_result"
    }
   ],
   "source": [
    "df.dtypes"
   ]
  },
  {
   "cell_type": "markdown",
   "metadata": {},
   "source": [
    "Und wir können unsere Auswertung durchführen:"
   ]
  },
  {
   "cell_type": "code",
   "execution_count": 17,
   "metadata": {},
   "outputs": [
    {
     "data": {
      "text/plain": [
       "271843.31140294037"
      ]
     },
     "execution_count": 17,
     "metadata": {},
     "output_type": "execute_result"
    }
   ],
   "source": [
    "#Antwort\n",
    "df['Approved Amount'].mean()"
   ]
  },
  {
   "cell_type": "markdown",
   "metadata": {},
   "source": [
    "### Variante 2: Datei nochmals einlesen mit einer Spezialoption\n",
    "\n",
    "Um uns einige Schritte zu ersparen, lesen wir die Datei einfach nochmals neu ein.\n",
    "\n",
    "Die Option heisst `na_values=` (na = Not Available, wird durch NaN ersetzt = Not a Number oder so)"
   ]
  },
  {
   "cell_type": "code",
   "execution_count": 18,
   "metadata": {},
   "outputs": [],
   "source": [
    "df = pd.read_csv(path, delimiter=';', na_values='data not included in P3')"
   ]
  },
  {
   "cell_type": "markdown",
   "metadata": {},
   "source": [
    "Tadaaa!"
   ]
  },
  {
   "cell_type": "code",
   "execution_count": 19,
   "metadata": {},
   "outputs": [
    {
     "data": {
      "text/plain": [
       "Project Number                    int64\n",
       "Project Number String            object\n",
       "Project Title                    object\n",
       "Project Title English            object\n",
       "Responsible Applicant            object\n",
       "Funding Instrument               object\n",
       "Funding Instrument Hierarchy     object\n",
       "Institution                      object\n",
       "Institution Country              object\n",
       "University                       object\n",
       "Discipline Number                 int64\n",
       "Discipline Name                  object\n",
       "Discipline Name Hierarchy        object\n",
       "All disciplines                  object\n",
       "Start Date                       object\n",
       "End Date                         object\n",
       "Approved Amount                 float64\n",
       "Keywords                         object\n",
       "dtype: object"
      ]
     },
     "execution_count": 19,
     "metadata": {},
     "output_type": "execute_result"
    }
   ],
   "source": [
    "df.dtypes"
   ]
  },
  {
   "cell_type": "markdown",
   "metadata": {},
   "source": [
    "**Übrigens:** Um zu checken, was es eigentlich mit den ungültigen Einträgen eigentlich auf sich hat, können wir `.isnull()` verwenden:"
   ]
  },
  {
   "cell_type": "code",
   "execution_count": 20,
   "metadata": {},
   "outputs": [
    {
     "data": {
      "text/html": [
       "<div>\n",
       "<style scoped>\n",
       "    .dataframe tbody tr th:only-of-type {\n",
       "        vertical-align: middle;\n",
       "    }\n",
       "\n",
       "    .dataframe tbody tr th {\n",
       "        vertical-align: top;\n",
       "    }\n",
       "\n",
       "    .dataframe thead th {\n",
       "        text-align: right;\n",
       "    }\n",
       "</style>\n",
       "<table border=\"1\" class=\"dataframe\">\n",
       "  <thead>\n",
       "    <tr style=\"text-align: right;\">\n",
       "      <th></th>\n",
       "      <th>Project Number</th>\n",
       "      <th>Project Number String</th>\n",
       "      <th>Project Title</th>\n",
       "      <th>Project Title English</th>\n",
       "      <th>Responsible Applicant</th>\n",
       "      <th>Funding Instrument</th>\n",
       "      <th>Funding Instrument Hierarchy</th>\n",
       "      <th>Institution</th>\n",
       "      <th>Institution Country</th>\n",
       "      <th>University</th>\n",
       "      <th>Discipline Number</th>\n",
       "      <th>Discipline Name</th>\n",
       "      <th>Discipline Name Hierarchy</th>\n",
       "      <th>All disciplines</th>\n",
       "      <th>Start Date</th>\n",
       "      <th>End Date</th>\n",
       "      <th>Approved Amount</th>\n",
       "      <th>Keywords</th>\n",
       "    </tr>\n",
       "  </thead>\n",
       "  <tbody>\n",
       "    <tr>\n",
       "      <td>9210</td>\n",
       "      <td>20001</td>\n",
       "      <td>81AM-020001</td>\n",
       "      <td>Therapie beim Morbus Hodgkin.</td>\n",
       "      <td>NaN</td>\n",
       "      <td>Wernli Martin</td>\n",
       "      <td>Fellowships for prospective researchers</td>\n",
       "      <td>Careers;Fellowships</td>\n",
       "      <td>UNI: Cancer Research Center University of Ch i...</td>\n",
       "      <td>United States of America</td>\n",
       "      <td>Institution abroad - IACH</td>\n",
       "      <td>30703</td>\n",
       "      <td>Clinical Cancer Research</td>\n",
       "      <td>Biology and Medicine;Clinical Medicine</td>\n",
       "      <td>30703</td>\n",
       "      <td>01.11.1986</td>\n",
       "      <td>31.10.1987</td>\n",
       "      <td>NaN</td>\n",
       "      <td>NaN</td>\n",
       "    </tr>\n",
       "    <tr>\n",
       "      <td>9211</td>\n",
       "      <td>20002</td>\n",
       "      <td>81AM-020002</td>\n",
       "      <td>Immunologie des Typ-1 Diabetes.</td>\n",
       "      <td>NaN</td>\n",
       "      <td>Atar Dan</td>\n",
       "      <td>Fellowships for prospective researchers</td>\n",
       "      <td>Careers;Fellowships</td>\n",
       "      <td>UNI: Hagedorn Research Laboratory Steno Memo r...</td>\n",
       "      <td>Denmark</td>\n",
       "      <td>Institution abroad - IACH</td>\n",
       "      <td>30403</td>\n",
       "      <td>Immunology, Immunopathology</td>\n",
       "      <td>Biology and Medicine;Experimental Medicine</td>\n",
       "      <td>30403</td>\n",
       "      <td>01.01.1987</td>\n",
       "      <td>31.12.1987</td>\n",
       "      <td>NaN</td>\n",
       "      <td>NaN</td>\n",
       "    </tr>\n",
       "    <tr>\n",
       "      <td>9212</td>\n",
       "      <td>20003</td>\n",
       "      <td>81AM-020003</td>\n",
       "      <td>Infektionen bei Immunsuppression.</td>\n",
       "      <td>NaN</td>\n",
       "      <td>Ruef Christian</td>\n",
       "      <td>Fellowships for prospective researchers</td>\n",
       "      <td>Careers;Fellowships</td>\n",
       "      <td>UNI: Yale Univ Dept of Internal Medicineory Ne...</td>\n",
       "      <td>United States of America</td>\n",
       "      <td>Institution abroad - IACH</td>\n",
       "      <td>30701</td>\n",
       "      <td>Internal Medicine</td>\n",
       "      <td>Biology and Medicine;Clinical Medicine</td>\n",
       "      <td>30701</td>\n",
       "      <td>01.07.1987</td>\n",
       "      <td>30.06.1988</td>\n",
       "      <td>NaN</td>\n",
       "      <td>NaN</td>\n",
       "    </tr>\n",
       "    <tr>\n",
       "      <td>9213</td>\n",
       "      <td>20004</td>\n",
       "      <td>81AT-020004</td>\n",
       "      <td>'Modern and Applied Optics'.</td>\n",
       "      <td>NaN</td>\n",
       "      <td>Kellenberger Regula</td>\n",
       "      <td>Fellowships for prospective researchers</td>\n",
       "      <td>Careers;Fellowships</td>\n",
       "      <td>UNI: University of Reading Reading/    GB</td>\n",
       "      <td>Great Britain and Northern Ireland</td>\n",
       "      <td>Institution abroad - IACH</td>\n",
       "      <td>20508</td>\n",
       "      <td>Microelectronics. Optoelectronics</td>\n",
       "      <td>Mathematics, Natural- and Engineering Sciences...</td>\n",
       "      <td>20508</td>\n",
       "      <td>01.09.1986</td>\n",
       "      <td>31.08.1987</td>\n",
       "      <td>NaN</td>\n",
       "      <td>NaN</td>\n",
       "    </tr>\n",
       "    <tr>\n",
       "      <td>9214</td>\n",
       "      <td>20005</td>\n",
       "      <td>81AT-020005</td>\n",
       "      <td>Traitement digital du signal et architecture d...</td>\n",
       "      <td>NaN</td>\n",
       "      <td>Piot Julien</td>\n",
       "      <td>Fellowships for prospective researchers</td>\n",
       "      <td>Careers;Fellowships</td>\n",
       "      <td>UNI: Massachusetts    USA</td>\n",
       "      <td>United States of America</td>\n",
       "      <td>Institution abroad - IACH</td>\n",
       "      <td>20504</td>\n",
       "      <td>Electrical Engineering</td>\n",
       "      <td>Mathematics, Natural- and Engineering Sciences...</td>\n",
       "      <td>20504</td>\n",
       "      <td>01.09.1986</td>\n",
       "      <td>31.08.1987</td>\n",
       "      <td>NaN</td>\n",
       "      <td>NaN</td>\n",
       "    </tr>\n",
       "    <tr>\n",
       "      <td>...</td>\n",
       "      <td>...</td>\n",
       "      <td>...</td>\n",
       "      <td>...</td>\n",
       "      <td>...</td>\n",
       "      <td>...</td>\n",
       "      <td>...</td>\n",
       "      <td>...</td>\n",
       "      <td>...</td>\n",
       "      <td>...</td>\n",
       "      <td>...</td>\n",
       "      <td>...</td>\n",
       "      <td>...</td>\n",
       "      <td>...</td>\n",
       "      <td>...</td>\n",
       "      <td>...</td>\n",
       "      <td>...</td>\n",
       "      <td>...</td>\n",
       "      <td>...</td>\n",
       "    </tr>\n",
       "    <tr>\n",
       "      <td>69364</td>\n",
       "      <td>181852</td>\n",
       "      <td>P2BSP2_181852</td>\n",
       "      <td>Lower height bounds</td>\n",
       "      <td>NaN</td>\n",
       "      <td>Frey Linda</td>\n",
       "      <td>Early Postdoc.Mobility</td>\n",
       "      <td>Careers;Fellowships</td>\n",
       "      <td>Department of Mathematical Sciences University...</td>\n",
       "      <td>Denmark</td>\n",
       "      <td>Institution abroad - IACH</td>\n",
       "      <td>20100</td>\n",
       "      <td>Mathematics</td>\n",
       "      <td>Mathematics, Natural- and Engineering Sciences</td>\n",
       "      <td>20100</td>\n",
       "      <td>01.10.2018</td>\n",
       "      <td>31.03.2020</td>\n",
       "      <td>NaN</td>\n",
       "      <td>Elliptic curves; Abelian varieties; Drinfeld  ...</td>\n",
       "    </tr>\n",
       "    <tr>\n",
       "      <td>69366</td>\n",
       "      <td>181878</td>\n",
       "      <td>P2BSP3_181878</td>\n",
       "      <td>The molecular mechanism of gene specific trans...</td>\n",
       "      <td>The molecular mechanism of gene specific trans...</td>\n",
       "      <td>Herbst Dominik A.</td>\n",
       "      <td>Early Postdoc.Mobility</td>\n",
       "      <td>Careers;Fellowships</td>\n",
       "      <td>University of California Dept. of Molecular an...</td>\n",
       "      <td>United States of America</td>\n",
       "      <td>Institution abroad - IACH</td>\n",
       "      <td>30301</td>\n",
       "      <td>Structural Research</td>\n",
       "      <td>Biology and Medicine;Basic Medical Sciences</td>\n",
       "      <td>30301</td>\n",
       "      <td>01.08.2018</td>\n",
       "      <td>31.01.2020</td>\n",
       "      <td>NaN</td>\n",
       "      <td>cryo-EM; transcription initiation; molecular b...</td>\n",
       "    </tr>\n",
       "    <tr>\n",
       "      <td>69370</td>\n",
       "      <td>181898</td>\n",
       "      <td>P2BEP2_181898</td>\n",
       "      <td>Fractals in dynamics and probability</td>\n",
       "      <td>NaN</td>\n",
       "      <td>Iseli Annina</td>\n",
       "      <td>Early Postdoc.Mobility</td>\n",
       "      <td>Careers;Fellowships</td>\n",
       "      <td>Department of Mathematics University of Califo...</td>\n",
       "      <td>United States of America</td>\n",
       "      <td>Institution abroad - IACH</td>\n",
       "      <td>20100</td>\n",
       "      <td>Mathematics</td>\n",
       "      <td>Mathematics, Natural- and Engineering Sciences</td>\n",
       "      <td>20100</td>\n",
       "      <td>01.10.2018</td>\n",
       "      <td>31.03.2020</td>\n",
       "      <td>NaN</td>\n",
       "      <td>Thurston maps; branched coverings; probability...</td>\n",
       "    </tr>\n",
       "    <tr>\n",
       "      <td>69371</td>\n",
       "      <td>181901</td>\n",
       "      <td>P2BEP3_181901</td>\n",
       "      <td>Perceived Need and Barriers to Care for Mental...</td>\n",
       "      <td>NaN</td>\n",
       "      <td>Schnyder Nina</td>\n",
       "      <td>Early Postdoc.Mobility</td>\n",
       "      <td>Careers;Fellowships</td>\n",
       "      <td>Queensland Centre for Mental Health Research P...</td>\n",
       "      <td>Australia</td>\n",
       "      <td>Institution abroad - IACH</td>\n",
       "      <td>30802</td>\n",
       "      <td>Mental Disorders, Psychosomatic Diseases</td>\n",
       "      <td>Biology and Medicine;Preventive Medicine (Epid...</td>\n",
       "      <td>30802/10105</td>\n",
       "      <td>01.07.2018</td>\n",
       "      <td>31.12.2019</td>\n",
       "      <td>NaN</td>\n",
       "      <td>Population survey; Barriers to care; Service u...</td>\n",
       "    </tr>\n",
       "    <tr>\n",
       "      <td>69372</td>\n",
       "      <td>181910</td>\n",
       "      <td>P2ELP3_181910</td>\n",
       "      <td>Data-driven design of orthogonal GPCR peptide-...</td>\n",
       "      <td>NaN</td>\n",
       "      <td>Malinverni Duccio</td>\n",
       "      <td>Early Postdoc.Mobility</td>\n",
       "      <td>Careers;Fellowships</td>\n",
       "      <td>MRC Laboratory of Molecular Biology</td>\n",
       "      <td>Great Britain and Northern Ireland</td>\n",
       "      <td>Institution abroad - IACH</td>\n",
       "      <td>30102</td>\n",
       "      <td>Molecular Biology</td>\n",
       "      <td>Biology and Medicine;Basic Biological Research</td>\n",
       "      <td>30102/30108</td>\n",
       "      <td>01.10.2018</td>\n",
       "      <td>31.03.2020</td>\n",
       "      <td>NaN</td>\n",
       "      <td>Selective binding; Ancestral sequence reconstr...</td>\n",
       "    </tr>\n",
       "  </tbody>\n",
       "</table>\n",
       "<p>12070 rows × 18 columns</p>\n",
       "</div>"
      ],
      "text/plain": [
       "       Project Number Project Number String  \\\n",
       "9210            20001           81AM-020001   \n",
       "9211            20002           81AM-020002   \n",
       "9212            20003           81AM-020003   \n",
       "9213            20004           81AT-020004   \n",
       "9214            20005           81AT-020005   \n",
       "...               ...                   ...   \n",
       "69364          181852         P2BSP2_181852   \n",
       "69366          181878         P2BSP3_181878   \n",
       "69370          181898         P2BEP2_181898   \n",
       "69371          181901         P2BEP3_181901   \n",
       "69372          181910         P2ELP3_181910   \n",
       "\n",
       "                                           Project Title  \\\n",
       "9210                       Therapie beim Morbus Hodgkin.   \n",
       "9211                     Immunologie des Typ-1 Diabetes.   \n",
       "9212                   Infektionen bei Immunsuppression.   \n",
       "9213                        'Modern and Applied Optics'.   \n",
       "9214   Traitement digital du signal et architecture d...   \n",
       "...                                                  ...   \n",
       "69364                                Lower height bounds   \n",
       "69366  The molecular mechanism of gene specific trans...   \n",
       "69370               Fractals in dynamics and probability   \n",
       "69371  Perceived Need and Barriers to Care for Mental...   \n",
       "69372  Data-driven design of orthogonal GPCR peptide-...   \n",
       "\n",
       "                                   Project Title English  \\\n",
       "9210                                                 NaN   \n",
       "9211                                                 NaN   \n",
       "9212                                                 NaN   \n",
       "9213                                                 NaN   \n",
       "9214                                                 NaN   \n",
       "...                                                  ...   \n",
       "69364                                                NaN   \n",
       "69366  The molecular mechanism of gene specific trans...   \n",
       "69370                                                NaN   \n",
       "69371                                                NaN   \n",
       "69372                                                NaN   \n",
       "\n",
       "      Responsible Applicant                       Funding Instrument  \\\n",
       "9210          Wernli Martin  Fellowships for prospective researchers   \n",
       "9211               Atar Dan  Fellowships for prospective researchers   \n",
       "9212         Ruef Christian  Fellowships for prospective researchers   \n",
       "9213    Kellenberger Regula  Fellowships for prospective researchers   \n",
       "9214            Piot Julien  Fellowships for prospective researchers   \n",
       "...                     ...                                      ...   \n",
       "69364            Frey Linda                   Early Postdoc.Mobility   \n",
       "69366     Herbst Dominik A.                   Early Postdoc.Mobility   \n",
       "69370          Iseli Annina                   Early Postdoc.Mobility   \n",
       "69371         Schnyder Nina                   Early Postdoc.Mobility   \n",
       "69372     Malinverni Duccio                   Early Postdoc.Mobility   \n",
       "\n",
       "      Funding Instrument Hierarchy  \\\n",
       "9210           Careers;Fellowships   \n",
       "9211           Careers;Fellowships   \n",
       "9212           Careers;Fellowships   \n",
       "9213           Careers;Fellowships   \n",
       "9214           Careers;Fellowships   \n",
       "...                            ...   \n",
       "69364          Careers;Fellowships   \n",
       "69366          Careers;Fellowships   \n",
       "69370          Careers;Fellowships   \n",
       "69371          Careers;Fellowships   \n",
       "69372          Careers;Fellowships   \n",
       "\n",
       "                                             Institution  \\\n",
       "9210   UNI: Cancer Research Center University of Ch i...   \n",
       "9211   UNI: Hagedorn Research Laboratory Steno Memo r...   \n",
       "9212   UNI: Yale Univ Dept of Internal Medicineory Ne...   \n",
       "9213           UNI: University of Reading Reading/    GB   \n",
       "9214                           UNI: Massachusetts    USA   \n",
       "...                                                  ...   \n",
       "69364  Department of Mathematical Sciences University...   \n",
       "69366  University of California Dept. of Molecular an...   \n",
       "69370  Department of Mathematics University of Califo...   \n",
       "69371  Queensland Centre for Mental Health Research P...   \n",
       "69372                MRC Laboratory of Molecular Biology   \n",
       "\n",
       "                      Institution Country                 University  \\\n",
       "9210             United States of America  Institution abroad - IACH   \n",
       "9211                              Denmark  Institution abroad - IACH   \n",
       "9212             United States of America  Institution abroad - IACH   \n",
       "9213   Great Britain and Northern Ireland  Institution abroad - IACH   \n",
       "9214             United States of America  Institution abroad - IACH   \n",
       "...                                   ...                        ...   \n",
       "69364                             Denmark  Institution abroad - IACH   \n",
       "69366            United States of America  Institution abroad - IACH   \n",
       "69370            United States of America  Institution abroad - IACH   \n",
       "69371                           Australia  Institution abroad - IACH   \n",
       "69372  Great Britain and Northern Ireland  Institution abroad - IACH   \n",
       "\n",
       "       Discipline Number                           Discipline Name  \\\n",
       "9210               30703                  Clinical Cancer Research   \n",
       "9211               30403               Immunology, Immunopathology   \n",
       "9212               30701                         Internal Medicine   \n",
       "9213               20508         Microelectronics. Optoelectronics   \n",
       "9214               20504                    Electrical Engineering   \n",
       "...                  ...                                       ...   \n",
       "69364              20100                               Mathematics   \n",
       "69366              30301                       Structural Research   \n",
       "69370              20100                               Mathematics   \n",
       "69371              30802  Mental Disorders, Psychosomatic Diseases   \n",
       "69372              30102                         Molecular Biology   \n",
       "\n",
       "                               Discipline Name Hierarchy All disciplines  \\\n",
       "9210              Biology and Medicine;Clinical Medicine           30703   \n",
       "9211          Biology and Medicine;Experimental Medicine           30403   \n",
       "9212              Biology and Medicine;Clinical Medicine           30701   \n",
       "9213   Mathematics, Natural- and Engineering Sciences...           20508   \n",
       "9214   Mathematics, Natural- and Engineering Sciences...           20504   \n",
       "...                                                  ...             ...   \n",
       "69364     Mathematics, Natural- and Engineering Sciences           20100   \n",
       "69366        Biology and Medicine;Basic Medical Sciences           30301   \n",
       "69370     Mathematics, Natural- and Engineering Sciences           20100   \n",
       "69371  Biology and Medicine;Preventive Medicine (Epid...     30802/10105   \n",
       "69372     Biology and Medicine;Basic Biological Research     30102/30108   \n",
       "\n",
       "       Start Date    End Date  Approved Amount  \\\n",
       "9210   01.11.1986  31.10.1987              NaN   \n",
       "9211   01.01.1987  31.12.1987              NaN   \n",
       "9212   01.07.1987  30.06.1988              NaN   \n",
       "9213   01.09.1986  31.08.1987              NaN   \n",
       "9214   01.09.1986  31.08.1987              NaN   \n",
       "...           ...         ...              ...   \n",
       "69364  01.10.2018  31.03.2020              NaN   \n",
       "69366  01.08.2018  31.01.2020              NaN   \n",
       "69370  01.10.2018  31.03.2020              NaN   \n",
       "69371  01.07.2018  31.12.2019              NaN   \n",
       "69372  01.10.2018  31.03.2020              NaN   \n",
       "\n",
       "                                                Keywords  \n",
       "9210                                                 NaN  \n",
       "9211                                                 NaN  \n",
       "9212                                                 NaN  \n",
       "9213                                                 NaN  \n",
       "9214                                                 NaN  \n",
       "...                                                  ...  \n",
       "69364  Elliptic curves; Abelian varieties; Drinfeld  ...  \n",
       "69366  cryo-EM; transcription initiation; molecular b...  \n",
       "69370  Thurston maps; branched coverings; probability...  \n",
       "69371  Population survey; Barriers to care; Service u...  \n",
       "69372  Selective binding; Ancestral sequence reconstr...  \n",
       "\n",
       "[12070 rows x 18 columns]"
      ]
     },
     "execution_count": 20,
     "metadata": {},
     "output_type": "execute_result"
    }
   ],
   "source": [
    "df[df['Approved Amount'].isnull()]"
   ]
  },
  {
   "cell_type": "markdown",
   "metadata": {},
   "source": [
    "Es scheint sich also hier um ein spezielles Förderinstrument zu handeln (\"Fellowships\")."
   ]
  },
  {
   "cell_type": "markdown",
   "metadata": {},
   "source": [
    "### Etwas Repetition vom Tag 1..."
   ]
  },
  {
   "cell_type": "markdown",
   "metadata": {},
   "source": [
    "**Quiz:** Was war der maximale Betrag, den ein Projekt erhielt? Das Minimum? Der Median?"
   ]
  },
  {
   "cell_type": "code",
   "execution_count": 21,
   "metadata": {},
   "outputs": [
    {
     "data": {
      "text/plain": [
       "20703916.0"
      ]
     },
     "execution_count": 21,
     "metadata": {},
     "output_type": "execute_result"
    }
   ],
   "source": [
    "#Antwort\n",
    "df['Approved Amount'].max()"
   ]
  },
  {
   "cell_type": "code",
   "execution_count": 22,
   "metadata": {},
   "outputs": [
    {
     "data": {
      "text/plain": [
       "0.0"
      ]
     },
     "execution_count": 22,
     "metadata": {},
     "output_type": "execute_result"
    }
   ],
   "source": [
    "#Antwort\n",
    "df['Approved Amount'].min()"
   ]
  },
  {
   "cell_type": "code",
   "execution_count": 23,
   "metadata": {},
   "outputs": [
    {
     "data": {
      "text/plain": [
       "536449.9934378848"
      ]
     },
     "execution_count": 23,
     "metadata": {},
     "output_type": "execute_result"
    }
   ],
   "source": [
    "#Antwort\n",
    "df['Approved Amount'].median()"
   ]
  },
  {
   "cell_type": "markdown",
   "metadata": {},
   "source": [
    "**Quiz:** Suche die fünfzig Projekte raus, die am meisten Geld gekriegt haben. Welche Universitäten kommen darunter am meisten vor?"
   ]
  },
  {
   "cell_type": "code",
   "execution_count": 24,
   "metadata": {},
   "outputs": [
    {
     "data": {
      "text/plain": [
       "EPF Lausanne - EPFL                                        10\n",
       "University of Geneva - GE                                  10\n",
       "ETH Zurich - ETHZ                                           7\n",
       "University of Berne - BE                                    7\n",
       "University of Zurich - ZH                                   5\n",
       "University of Basel - BS                                    3\n",
       "University of Neuchatel - NE                                2\n",
       "University of Lausanne - LA                                 2\n",
       "Swiss Centre of Expertise in the Social Sciences - FORS     2\n",
       "University of Fribourg - FR                                 2\n",
       "Name: University, dtype: int64"
      ]
     },
     "execution_count": 24,
     "metadata": {},
     "output_type": "execute_result"
    }
   ],
   "source": [
    "#Antwort\n",
    "df.sort_values('Approved Amount', ascending=False).head(50)['University'].value_counts()"
   ]
  },
  {
   "cell_type": "markdown",
   "metadata": {},
   "source": [
    "**Quiz:** Über welches Förderinstrument (\"Funding Instrument Hierarchy\") wurde insgesamt am meisten Geld vergeben?"
   ]
  },
  {
   "cell_type": "code",
   "execution_count": 25,
   "metadata": {},
   "outputs": [
    {
     "data": {
      "text/plain": [
       "Funding Instrument Hierarchy\n",
       "Careers                                                                           1.463100e+09\n",
       "Careers;Academic and research careers (non-professorial)                          9.917954e+07\n",
       "Careers;Academic and research careers (non-professorial);MD-PhD fellowships       3.413908e+07\n",
       "Careers;Fellowships                                                               4.832894e+06\n",
       "Infrastructure                                                                    4.695761e+08\n",
       "Programmes                                                                        2.001930e+09\n",
       "Programmes;Multilateral Co-operation (node)                                       4.576449e+06\n",
       "Programmes;Multilateral Co-operation (node);Bilateral programmes                  3.319301e+07\n",
       "Programmes;Multilateral Co-operation (node);Enlargement contribution              1.264803e+07\n",
       "Programmes;National Research Programmes (NRPs)                                    8.144480e+08\n",
       "Programmes;ProDoc                                                                 1.136493e+08\n",
       "Programmes;Temporary Backup Schemes                                               7.752337e+07\n",
       "Programmes;r4d (Swiss Programme for Research on Global Issues for Development)    6.032089e+07\n",
       "Project funding                                                                   9.914211e+09\n",
       "Science communication                                                             1.171702e+08\n",
       "Name: Approved Amount, dtype: float64"
      ]
     },
     "execution_count": 25,
     "metadata": {},
     "output_type": "execute_result"
    }
   ],
   "source": [
    "#Antwort\n",
    "df.groupby('Funding Instrument Hierarchy')['Approved Amount'].sum()"
   ]
  },
  {
   "cell_type": "markdown",
   "metadata": {},
   "source": [
    "**Quiz:** Stellen Sie die Verteilung sämtlicher gesprochenen Beträge in einem Histogramm dar!"
   ]
  },
  {
   "cell_type": "code",
   "execution_count": 26,
   "metadata": {},
   "outputs": [
    {
     "data": {
      "text/plain": [
       "<matplotlib.axes._subplots.AxesSubplot at 0x115a52240>"
      ]
     },
     "execution_count": 26,
     "metadata": {},
     "output_type": "execute_result"
    },
    {
     "data": {
      "image/png": "[encoded data removed]",
      "text/plain": [
       "<Figure size 864x288 with 1 Axes>"
      ]
     },
     "metadata": {
      "needs_background": "light"
     },
     "output_type": "display_data"
    }
   ],
   "source": [
    "#Antwort\n",
    "df['Approved Amount'].astype(float).hist(bins=100, figsize=(12,4))"
   ]
  },
  {
   "cell_type": "markdown",
   "metadata": {},
   "source": [
    "**Quiz:** In welchen Ländern waren die vergebenen Beträge im Schnitt am Grössten? Zeigen Sie die zehn obersten an."
   ]
  },
  {
   "cell_type": "code",
   "execution_count": 27,
   "metadata": {},
   "outputs": [
    {
     "data": {
      "text/plain": [
       "Institution Country\n",
       "Portugal       703000.000000\n",
       "Austria        354064.666667\n",
       "Norway         294984.000000\n",
       "Switzerland    294532.191935\n",
       "Singapore      251470.000000\n",
       "Ireland        245219.650000\n",
       "Germany        213070.585833\n",
       "Netherlands    212326.090909\n",
       "Denmark        149886.527000\n",
       "Spain          148505.000000\n",
       "Name: Approved Amount, dtype: float64"
      ]
     },
     "execution_count": 27,
     "metadata": {},
     "output_type": "execute_result"
    }
   ],
   "source": [
    "#Antwort\n",
    "df.groupby('Institution Country')['Approved Amount'].mean().sort_values(ascending=False).head(10)"
   ]
  },
  {
   "cell_type": "code",
   "execution_count": 28,
   "metadata": {},
   "outputs": [],
   "source": [
    "# Time for a break ..."
   ]
  },
  {
   "cell_type": "markdown",
   "metadata": {},
   "source": [
    "## Werte Kategorisieren"
   ]
  },
  {
   "cell_type": "markdown",
   "metadata": {},
   "source": [
    "Sagen wir mal, wir interessieren uns für die Institutionen in der Schweiz, die vom SNF Geld gekriegt haben.\n",
    "\n",
    "Wir erstellen erstmal ein Dataframe, in dem nur diese Institutionen vorkommen:"
   ]
  },
  {
   "cell_type": "code",
   "execution_count": 29,
   "metadata": {},
   "outputs": [],
   "source": [
    "df_swiss = df[df['Institution Country'] == 'Switzerland']"
   ]
  },
  {
   "cell_type": "markdown",
   "metadata": {},
   "source": [
    "Und lassen uns dann eine Liste aller Universitäten anzeigen, die in diesem Dataframe vorkommen:"
   ]
  },
  {
   "cell_type": "code",
   "execution_count": 30,
   "metadata": {},
   "outputs": [
    {
     "data": {
      "text/plain": [
       "array(['University of Geneva - GE',\n",
       "       'Non-profit organisations (libraries, museums, academies, foundations) and administration - NPO',\n",
       "       'University of Basel - BS', 'University of Fribourg - FR',\n",
       "       'University of Zurich - ZH',\n",
       "       'Swiss Federal Institute for Forest, Snow and Landscape Research  - WSL',\n",
       "       'University of Berne - BE', 'ETH Zurich - ETHZ',\n",
       "       'University of Lausanne - LA', 'University of Neuchatel - NE',\n",
       "       'Graduate Institute of International and Development Studies - IHEID',\n",
       "       'University of St.Gallen - SG',\n",
       "       'Other Research Institutes - FINST',\n",
       "       'Pädagogische Hochschule Graubünden - PHGR', 'EPF Lausanne - EPFL',\n",
       "       'Pädagogische Hochschule Zürich - PHZH',\n",
       "       'Companies/  Private Industry - FP', 'University of Lucerne - LU',\n",
       "       'Unassignable - NA', 'Swiss Institute of Art Research - SIK-ISEA',\n",
       "       'Dipartimento formazione e apprendimento, Scuola universitaria professionale della Svizzera italiana - SUPSI-DFA',\n",
       "       'University of Applied Sciences and Arts Western Switzerland - HES-SO',\n",
       "       'Robert Walser Foundation Bern - RWS',\n",
       "       'Paul Scherrer Institute - PSI',\n",
       "       'Pädagogische Hochschule St.Gallen - PHSG',\n",
       "       'Swiss Federal Institute of Aquatic Science and Technology - EAWAG',\n",
       "       'Swiss Federal Laboratories for Materials Science and Technology - EMPA',\n",
       "       'Physikal.-Meteorolog. Observatorium Davos - PMOD',\n",
       "       'Berne University of Applied Sciences - BFH',\n",
       "       'Swiss Center for Electronics and Microtech. - CSEM',\n",
       "       'University of Applied Sciences and Arts of Southern Switzerland - SUPSI',\n",
       "       'Luzerner Kantonsspital - LUKS', 'Other Hospitals - ASPIT',\n",
       "       'AO Research Institute - AORI',\n",
       "       'Swiss Institute of Allergy and Asthma Research - SIAF',\n",
       "       'Research Institute of Organic Agriculture - FiBL',\n",
       "       'Institute Friedrich Miescher - FMI',\n",
       "       'Ostschweizer Kinderspital - OSKS',\n",
       "       'Research Institutes Agroscope - AGS',\n",
       "       'Ente Ospedaliero Cantonale - EOC',\n",
       "       'Institute for Work and Health -  IST',\n",
       "       'Cantonal hospital of St.Gallen - KSPSG',\n",
       "       'Kantonsspital Aarau - KSPA',\n",
       "       'Swiss Federal Institute for Vocational Education and Training - EHB',\n",
       "       'Zürcher Fachhochschule - ZFH',\n",
       "       'Università della Svizzera italiana - USI',\n",
       "       'Institut für Kulturforschung Graubünden - IKG',\n",
       "       'University of Applied Sciences and Arts Northwestern Switzerland (without UTE) - FHNW',\n",
       "       'Institution abroad - IACH',\n",
       "       \"Centre de recherche sur l'environnement alpin - CREALP\",\n",
       "       'Idiap Research Institute - IDIAP',\n",
       "       'Pädagogische Hochschule Bern - PHBern',\n",
       "       'Zurich University of Applied Sciences - ZHAW',\n",
       "       'University Institute Kurt Bösch - IUKB',\n",
       "       'Swiss Paraplegic Research - SPF',\n",
       "       'Lucerne University of Applied Sciences and Arts - HSLU',\n",
       "       'Institute for Research in Ophtalmology - IRO',\n",
       "       'Interkantonale Hochschule für Heilpädagogik - HfH',\n",
       "       'Haute école pédagogique du canton de Vaud - HEPL',\n",
       "       'Kantonsspital Baden - KSPB',\n",
       "       'University of Applied Sciences Ostschweiz - FHO',\n",
       "       'Institut Suisse de Spéléologie et Karstologie - ISSKA',\n",
       "       'Swiss Institute of Bioinformatics - SIB',\n",
       "       'Haute Ecole Pédagogique des cantons de Berne, du Jura et de Neuchâtel - HEP-BEJUNE',\n",
       "       'Pädagogische Hochschule Luzern - PHLU',\n",
       "       'Zurich University of the Arts - ZHdK', nan,\n",
       "       'Pädagogische Hochschule der Fachhochschule Nordwestschweiz - PH-FHNW',\n",
       "       'Haute école pédagogique du canton de Fribourg/Pädagogische Hochschule Freiburg - HEP-FR',\n",
       "       'Pädagogische Hochschule Schwyz - PHSZ',\n",
       "       'Pädagogische Hochschule Thurgau - PHTG',\n",
       "       'Biotechnology Institute Thurgau - BITG',\n",
       "       'Kalaidos University of Applied Sciences - FHKD',\n",
       "       'Swiss Centre of Expertise in the Social Sciences - FORS',\n",
       "       'Haute école pédagogique du Valais/Pädagogische Hochschule Wallis - HEP-VS',\n",
       "       'Schweizer Hochschule für Logopädie Rorschach - SHLR',\n",
       "       'Pädagogische Hochschule Zug - PHZG',\n",
       "       'Istituto Ricerche Solari Locarno - IRSOL',\n",
       "       'Franklin University Switzerland - FUS',\n",
       "       'Pädagogische Hochschule Schaffhausen - PHSH',\n",
       "       'Staatsunabhängige Theologische Hochschule Basel - STH',\n",
       "       'Facoltà di Teologia di Lugano - FTL',\n",
       "       'Fernfachhochschule Schweiz (member of SUPSI) - FFHS',\n",
       "       'Cardiocentro Ticino - CT'], dtype=object)"
      ]
     },
     "execution_count": 30,
     "metadata": {},
     "output_type": "execute_result"
    }
   ],
   "source": [
    "df_swiss['University'].unique()"
   ]
  },
  {
   "cell_type": "markdown",
   "metadata": {},
   "source": [
    "Schnell wird klar: In dieser Liste sind nicht nur Universitäten, sondern auch Fachhochschulen und andere Institutionen enthalten.\n",
    "\n",
    "Wie gehen wir vor, wenn wir die Daten nach diesen Typen klassifizieren wollen? Mit anderen Worten, zB separate Durchschnittswerte ausrechnen für Universitäten, Fachhochschulen, etc?"
   ]
  },
  {
   "cell_type": "markdown",
   "metadata": {},
   "source": [
    "### Methode 1: contains, replace"
   ]
  },
  {
   "cell_type": "markdown",
   "metadata": {},
   "source": [
    "Die allereinfachste (und nicht sehr empfehlenswerte) Variante ist, einfach zu checken, ob in einem bestimmten Eintrag das Wort \"University\" vorkommt.\n",
    "\n",
    "Wir können dafür die Funktion `str.contains()` verwenden - heraus kommt eine Liste von True/False-Werten, die wir weiter verwenden können..."
   ]
  },
  {
   "cell_type": "code",
   "execution_count": 31,
   "metadata": {},
   "outputs": [
    {
     "data": {
      "text/plain": [
       "1         True\n",
       "2        False\n",
       "3         True\n",
       "4        False\n",
       "5         True\n",
       "         ...  \n",
       "69472     True\n",
       "69473     True\n",
       "69474    False\n",
       "69475     True\n",
       "69477     True\n",
       "Name: University, Length: 51358, dtype: object"
      ]
     },
     "execution_count": 31,
     "metadata": {},
     "output_type": "execute_result"
    }
   ],
   "source": [
    "df_swiss['University'].str.contains('University')"
   ]
  },
  {
   "cell_type": "markdown",
   "metadata": {},
   "source": [
    "Zum Beispiel so:"
   ]
  },
  {
   "cell_type": "code",
   "execution_count": 32,
   "metadata": {},
   "outputs": [
    {
     "name": "stderr",
     "output_type": "stream",
     "text": [
      "/usr/local/lib/python3.7/site-packages/ipykernel_launcher.py:1: SettingWithCopyWarning: \n",
      "A value is trying to be set on a copy of a slice from a DataFrame.\n",
      "Try using .loc[row_indexer,col_indexer] = value instead\n",
      "\n",
      "See the caveats in the documentation: http://pandas.pydata.org/pandas-docs/stable/user_guide/indexing.html#returning-a-view-versus-a-copy\n",
      "  \"\"\"Entry point for launching an IPython kernel.\n"
     ]
    }
   ],
   "source": [
    "df_swiss['Institution Type'] = df_swiss['University'].str.contains('University')"
   ]
  },
  {
   "cell_type": "markdown",
   "metadata": {},
   "source": [
    "... oder vielleicht doch nicht so :-) Der Grund für die obige Warnung ist: Wir arbeiten auf einem Slice eines Dataframes, das kann Probleme machen (muss aber nicht).\n",
    "\n",
    "Um sicher zu sein: `.copy()` verwenden, um im Memory eine physische Kopie des Dataframes zu erstellen"
   ]
  },
  {
   "cell_type": "code",
   "execution_count": 33,
   "metadata": {},
   "outputs": [],
   "source": [
    "df_ch = df_swiss.copy()"
   ]
  },
  {
   "cell_type": "code",
   "execution_count": 34,
   "metadata": {},
   "outputs": [],
   "source": [
    "df_ch['Institution Type'] = df_ch['University'].str.contains('University')"
   ]
  },
  {
   "cell_type": "code",
   "execution_count": 35,
   "metadata": {},
   "outputs": [
    {
     "data": {
      "text/html": [
       "<div>\n",
       "<style scoped>\n",
       "    .dataframe tbody tr th:only-of-type {\n",
       "        vertical-align: middle;\n",
       "    }\n",
       "\n",
       "    .dataframe tbody tr th {\n",
       "        vertical-align: top;\n",
       "    }\n",
       "\n",
       "    .dataframe thead th {\n",
       "        text-align: right;\n",
       "    }\n",
       "</style>\n",
       "<table border=\"1\" class=\"dataframe\">\n",
       "  <thead>\n",
       "    <tr style=\"text-align: right;\">\n",
       "      <th></th>\n",
       "      <th>Project Number</th>\n",
       "      <th>Project Number String</th>\n",
       "      <th>Project Title</th>\n",
       "      <th>Project Title English</th>\n",
       "      <th>Responsible Applicant</th>\n",
       "      <th>Funding Instrument</th>\n",
       "      <th>Funding Instrument Hierarchy</th>\n",
       "      <th>Institution</th>\n",
       "      <th>Institution Country</th>\n",
       "      <th>University</th>\n",
       "      <th>Discipline Number</th>\n",
       "      <th>Discipline Name</th>\n",
       "      <th>Discipline Name Hierarchy</th>\n",
       "      <th>All disciplines</th>\n",
       "      <th>Start Date</th>\n",
       "      <th>End Date</th>\n",
       "      <th>Approved Amount</th>\n",
       "      <th>Keywords</th>\n",
       "      <th>Institution Type</th>\n",
       "    </tr>\n",
       "  </thead>\n",
       "  <tbody>\n",
       "    <tr>\n",
       "      <td>1</td>\n",
       "      <td>4</td>\n",
       "      <td>1000-000004</td>\n",
       "      <td>Batterie de tests à l'usage des enseignants po...</td>\n",
       "      <td>NaN</td>\n",
       "      <td>Massarenti Léonard</td>\n",
       "      <td>Project funding (Div. I-III)</td>\n",
       "      <td>Project funding</td>\n",
       "      <td>Faculté de Psychologie et des Sciences de l'Ed...</td>\n",
       "      <td>Switzerland</td>\n",
       "      <td>University of Geneva - GE</td>\n",
       "      <td>10104</td>\n",
       "      <td>Educational science and Pedagogy</td>\n",
       "      <td>Humanities and Social Sciences;Psychology, edu...</td>\n",
       "      <td>10104</td>\n",
       "      <td>01.10.1975</td>\n",
       "      <td>30.09.1976</td>\n",
       "      <td>41022.0</td>\n",
       "      <td>NaN</td>\n",
       "      <td>True</td>\n",
       "    </tr>\n",
       "    <tr>\n",
       "      <td>2</td>\n",
       "      <td>5</td>\n",
       "      <td>1000-000005</td>\n",
       "      <td>Kritische Erstausgabe der 'Evidentiae contra D...</td>\n",
       "      <td>NaN</td>\n",
       "      <td>Kommission für das Corpus philosophorum medii ...</td>\n",
       "      <td>Project funding (Div. I-III)</td>\n",
       "      <td>Project funding</td>\n",
       "      <td>Kommission für das Corpus philosophorum medii ...</td>\n",
       "      <td>Switzerland</td>\n",
       "      <td>Non-profit organisations (libraries, museums, ...</td>\n",
       "      <td>10101</td>\n",
       "      <td>Philosophy</td>\n",
       "      <td>Humanities and Social Sciences;Linguistics and...</td>\n",
       "      <td>10101</td>\n",
       "      <td>01.03.1976</td>\n",
       "      <td>28.02.1985</td>\n",
       "      <td>79732.0</td>\n",
       "      <td>NaN</td>\n",
       "      <td>False</td>\n",
       "    </tr>\n",
       "    <tr>\n",
       "      <td>3</td>\n",
       "      <td>6</td>\n",
       "      <td>1000-000006</td>\n",
       "      <td>Katalog der datierten Handschriften in der Sch...</td>\n",
       "      <td>NaN</td>\n",
       "      <td>Burckhardt Max</td>\n",
       "      <td>Project funding (Div. I-III)</td>\n",
       "      <td>Project funding</td>\n",
       "      <td>Abt. Handschriften und Alte Drucke Bibliothek ...</td>\n",
       "      <td>Switzerland</td>\n",
       "      <td>University of Basel - BS</td>\n",
       "      <td>10302</td>\n",
       "      <td>Swiss history</td>\n",
       "      <td>Humanities and Social Sciences;Theology &amp; reli...</td>\n",
       "      <td>10302</td>\n",
       "      <td>01.10.1975</td>\n",
       "      <td>30.09.1976</td>\n",
       "      <td>52627.0</td>\n",
       "      <td>NaN</td>\n",
       "      <td>True</td>\n",
       "    </tr>\n",
       "  </tbody>\n",
       "</table>\n",
       "</div>"
      ],
      "text/plain": [
       "   Project Number Project Number String  \\\n",
       "1               4           1000-000004   \n",
       "2               5           1000-000005   \n",
       "3               6           1000-000006   \n",
       "\n",
       "                                       Project Title Project Title English  \\\n",
       "1  Batterie de tests à l'usage des enseignants po...                   NaN   \n",
       "2  Kritische Erstausgabe der 'Evidentiae contra D...                   NaN   \n",
       "3  Katalog der datierten Handschriften in der Sch...                   NaN   \n",
       "\n",
       "                               Responsible Applicant  \\\n",
       "1                                 Massarenti Léonard   \n",
       "2  Kommission für das Corpus philosophorum medii ...   \n",
       "3                                     Burckhardt Max   \n",
       "\n",
       "             Funding Instrument Funding Instrument Hierarchy  \\\n",
       "1  Project funding (Div. I-III)              Project funding   \n",
       "2  Project funding (Div. I-III)              Project funding   \n",
       "3  Project funding (Div. I-III)              Project funding   \n",
       "\n",
       "                                         Institution Institution Country  \\\n",
       "1  Faculté de Psychologie et des Sciences de l'Ed...         Switzerland   \n",
       "2  Kommission für das Corpus philosophorum medii ...         Switzerland   \n",
       "3  Abt. Handschriften und Alte Drucke Bibliothek ...         Switzerland   \n",
       "\n",
       "                                          University  Discipline Number  \\\n",
       "1                          University of Geneva - GE              10104   \n",
       "2  Non-profit organisations (libraries, museums, ...              10101   \n",
       "3                           University of Basel - BS              10302   \n",
       "\n",
       "                    Discipline Name  \\\n",
       "1  Educational science and Pedagogy   \n",
       "2                        Philosophy   \n",
       "3                     Swiss history   \n",
       "\n",
       "                           Discipline Name Hierarchy All disciplines  \\\n",
       "1  Humanities and Social Sciences;Psychology, edu...           10104   \n",
       "2  Humanities and Social Sciences;Linguistics and...           10101   \n",
       "3  Humanities and Social Sciences;Theology & reli...           10302   \n",
       "\n",
       "   Start Date    End Date  Approved Amount Keywords Institution Type  \n",
       "1  01.10.1975  30.09.1976          41022.0      NaN             True  \n",
       "2  01.03.1976  28.02.1985          79732.0      NaN            False  \n",
       "3  01.10.1975  30.09.1976          52627.0      NaN             True  "
      ]
     },
     "execution_count": 35,
     "metadata": {},
     "output_type": "execute_result"
    }
   ],
   "source": [
    "df_ch.head(3)"
   ]
  },
  {
   "cell_type": "markdown",
   "metadata": {},
   "source": [
    "Nun können wir die True/False-Werte mit generischen Einträgen ersetzen. Dafür gibt es `replace()`:"
   ]
  },
  {
   "cell_type": "code",
   "execution_count": 36,
   "metadata": {},
   "outputs": [],
   "source": [
    "df_ch['Institution Type'] = df_ch['Institution Type'].replace(True, 'University')"
   ]
  },
  {
   "cell_type": "code",
   "execution_count": 37,
   "metadata": {},
   "outputs": [],
   "source": [
    "df_ch['Institution Type'] = df_ch['Institution Type'].replace(False, 'Other')"
   ]
  },
  {
   "cell_type": "code",
   "execution_count": 38,
   "metadata": {},
   "outputs": [
    {
     "data": {
      "text/html": [
       "<div>\n",
       "<style scoped>\n",
       "    .dataframe tbody tr th:only-of-type {\n",
       "        vertical-align: middle;\n",
       "    }\n",
       "\n",
       "    .dataframe tbody tr th {\n",
       "        vertical-align: top;\n",
       "    }\n",
       "\n",
       "    .dataframe thead th {\n",
       "        text-align: right;\n",
       "    }\n",
       "</style>\n",
       "<table border=\"1\" class=\"dataframe\">\n",
       "  <thead>\n",
       "    <tr style=\"text-align: right;\">\n",
       "      <th></th>\n",
       "      <th>Project Number</th>\n",
       "      <th>Project Number String</th>\n",
       "      <th>Project Title</th>\n",
       "      <th>Project Title English</th>\n",
       "      <th>Responsible Applicant</th>\n",
       "      <th>Funding Instrument</th>\n",
       "      <th>Funding Instrument Hierarchy</th>\n",
       "      <th>Institution</th>\n",
       "      <th>Institution Country</th>\n",
       "      <th>University</th>\n",
       "      <th>Discipline Number</th>\n",
       "      <th>Discipline Name</th>\n",
       "      <th>Discipline Name Hierarchy</th>\n",
       "      <th>All disciplines</th>\n",
       "      <th>Start Date</th>\n",
       "      <th>End Date</th>\n",
       "      <th>Approved Amount</th>\n",
       "      <th>Keywords</th>\n",
       "      <th>Institution Type</th>\n",
       "    </tr>\n",
       "  </thead>\n",
       "  <tbody>\n",
       "    <tr>\n",
       "      <td>1</td>\n",
       "      <td>4</td>\n",
       "      <td>1000-000004</td>\n",
       "      <td>Batterie de tests à l'usage des enseignants po...</td>\n",
       "      <td>NaN</td>\n",
       "      <td>Massarenti Léonard</td>\n",
       "      <td>Project funding (Div. I-III)</td>\n",
       "      <td>Project funding</td>\n",
       "      <td>Faculté de Psychologie et des Sciences de l'Ed...</td>\n",
       "      <td>Switzerland</td>\n",
       "      <td>University of Geneva - GE</td>\n",
       "      <td>10104</td>\n",
       "      <td>Educational science and Pedagogy</td>\n",
       "      <td>Humanities and Social Sciences;Psychology, edu...</td>\n",
       "      <td>10104</td>\n",
       "      <td>01.10.1975</td>\n",
       "      <td>30.09.1976</td>\n",
       "      <td>41022.0</td>\n",
       "      <td>NaN</td>\n",
       "      <td>University</td>\n",
       "    </tr>\n",
       "    <tr>\n",
       "      <td>2</td>\n",
       "      <td>5</td>\n",
       "      <td>1000-000005</td>\n",
       "      <td>Kritische Erstausgabe der 'Evidentiae contra D...</td>\n",
       "      <td>NaN</td>\n",
       "      <td>Kommission für das Corpus philosophorum medii ...</td>\n",
       "      <td>Project funding (Div. I-III)</td>\n",
       "      <td>Project funding</td>\n",
       "      <td>Kommission für das Corpus philosophorum medii ...</td>\n",
       "      <td>Switzerland</td>\n",
       "      <td>Non-profit organisations (libraries, museums, ...</td>\n",
       "      <td>10101</td>\n",
       "      <td>Philosophy</td>\n",
       "      <td>Humanities and Social Sciences;Linguistics and...</td>\n",
       "      <td>10101</td>\n",
       "      <td>01.03.1976</td>\n",
       "      <td>28.02.1985</td>\n",
       "      <td>79732.0</td>\n",
       "      <td>NaN</td>\n",
       "      <td>Other</td>\n",
       "    </tr>\n",
       "    <tr>\n",
       "      <td>3</td>\n",
       "      <td>6</td>\n",
       "      <td>1000-000006</td>\n",
       "      <td>Katalog der datierten Handschriften in der Sch...</td>\n",
       "      <td>NaN</td>\n",
       "      <td>Burckhardt Max</td>\n",
       "      <td>Project funding (Div. I-III)</td>\n",
       "      <td>Project funding</td>\n",
       "      <td>Abt. Handschriften und Alte Drucke Bibliothek ...</td>\n",
       "      <td>Switzerland</td>\n",
       "      <td>University of Basel - BS</td>\n",
       "      <td>10302</td>\n",
       "      <td>Swiss history</td>\n",
       "      <td>Humanities and Social Sciences;Theology &amp; reli...</td>\n",
       "      <td>10302</td>\n",
       "      <td>01.10.1975</td>\n",
       "      <td>30.09.1976</td>\n",
       "      <td>52627.0</td>\n",
       "      <td>NaN</td>\n",
       "      <td>University</td>\n",
       "    </tr>\n",
       "  </tbody>\n",
       "</table>\n",
       "</div>"
      ],
      "text/plain": [
       "   Project Number Project Number String  \\\n",
       "1               4           1000-000004   \n",
       "2               5           1000-000005   \n",
       "3               6           1000-000006   \n",
       "\n",
       "                                       Project Title Project Title English  \\\n",
       "1  Batterie de tests à l'usage des enseignants po...                   NaN   \n",
       "2  Kritische Erstausgabe der 'Evidentiae contra D...                   NaN   \n",
       "3  Katalog der datierten Handschriften in der Sch...                   NaN   \n",
       "\n",
       "                               Responsible Applicant  \\\n",
       "1                                 Massarenti Léonard   \n",
       "2  Kommission für das Corpus philosophorum medii ...   \n",
       "3                                     Burckhardt Max   \n",
       "\n",
       "             Funding Instrument Funding Instrument Hierarchy  \\\n",
       "1  Project funding (Div. I-III)              Project funding   \n",
       "2  Project funding (Div. I-III)              Project funding   \n",
       "3  Project funding (Div. I-III)              Project funding   \n",
       "\n",
       "                                         Institution Institution Country  \\\n",
       "1  Faculté de Psychologie et des Sciences de l'Ed...         Switzerland   \n",
       "2  Kommission für das Corpus philosophorum medii ...         Switzerland   \n",
       "3  Abt. Handschriften und Alte Drucke Bibliothek ...         Switzerland   \n",
       "\n",
       "                                          University  Discipline Number  \\\n",
       "1                          University of Geneva - GE              10104   \n",
       "2  Non-profit organisations (libraries, museums, ...              10101   \n",
       "3                           University of Basel - BS              10302   \n",
       "\n",
       "                    Discipline Name  \\\n",
       "1  Educational science and Pedagogy   \n",
       "2                        Philosophy   \n",
       "3                     Swiss history   \n",
       "\n",
       "                           Discipline Name Hierarchy All disciplines  \\\n",
       "1  Humanities and Social Sciences;Psychology, edu...           10104   \n",
       "2  Humanities and Social Sciences;Linguistics and...           10101   \n",
       "3  Humanities and Social Sciences;Theology & reli...           10302   \n",
       "\n",
       "   Start Date    End Date  Approved Amount Keywords Institution Type  \n",
       "1  01.10.1975  30.09.1976          41022.0      NaN       University  \n",
       "2  01.03.1976  28.02.1985          79732.0      NaN            Other  \n",
       "3  01.10.1975  30.09.1976          52627.0      NaN       University  "
      ]
     },
     "execution_count": 38,
     "metadata": {},
     "output_type": "execute_result"
    }
   ],
   "source": [
    "df_ch.head(3)"
   ]
  },
  {
   "cell_type": "markdown",
   "metadata": {},
   "source": [
    "Wir können nun zB ausrechnen, wie viel Geld die Universitäten und die übrigen Institutionen in der Summe gekriegt haben:"
   ]
  },
  {
   "cell_type": "code",
   "execution_count": 39,
   "metadata": {},
   "outputs": [
    {
     "data": {
      "text/plain": [
       "Institution Type\n",
       "Other         4.750437e+09\n",
       "University    1.032450e+10\n",
       "Name: Approved Amount, dtype: float64"
      ]
     },
     "execution_count": 39,
     "metadata": {},
     "output_type": "execute_result"
    }
   ],
   "source": [
    "df_ch.groupby('Institution Type')['Approved Amount'].sum()"
   ]
  },
  {
   "cell_type": "markdown",
   "metadata": {},
   "source": [
    "Aber wie gesagt, es gibt bessere Wege. (zB haben wir nun Einträge wie \"Université\" nicht berücksichtigt."
   ]
  },
  {
   "cell_type": "markdown",
   "metadata": {},
   "source": [
    "### Methode 2: apply, isin"
   ]
  },
  {
   "cell_type": "markdown",
   "metadata": {
    "collapsed": true
   },
   "source": [
    "Auch nicht wirklich super, aber immerhin besser als vorher: Wir schreiben eine eigene Funktion zur Klassifizierung von Universitäten.\n",
    "\n",
    "Diese Funktion können wir unendlich kompliziert machen, wenn wir wollen. Hier halten wir sie bewusst einfach."
   ]
  },
  {
   "cell_type": "code",
   "execution_count": 40,
   "metadata": {},
   "outputs": [],
   "source": [
    "def categorize_institution(institution):\n",
    "    \n",
    "    #Ist eine Institution eine Uni? Hier eine Liste von Wörtern, nach denen wir suchen.\n",
    "    university_names = [\"University\", \"Universität\", \"Université\"]\n",
    "    \n",
    "    #Gehen wir die Liste durch...\n",
    "    for university_name in university_names:\n",
    "        \n",
    "        #Kommt das Wort im String, den wir klassifizieren wollen, mehr als null mal vor?\n",
    "        if str(institution).count(university_name) > 0:\n",
    "            \n",
    "            #Dann ist es eine Universität\n",
    "            return \"University\"\n",
    "    \n",
    "    #sonst nicht\n",
    "    return \"Other\""
   ]
  },
  {
   "cell_type": "markdown",
   "metadata": {},
   "source": [
    "Wir testen die Funktion..."
   ]
  },
  {
   "cell_type": "code",
   "execution_count": 41,
   "metadata": {},
   "outputs": [
    {
     "data": {
      "text/plain": [
       "'University'"
      ]
     },
     "execution_count": 41,
     "metadata": {},
     "output_type": "execute_result"
    }
   ],
   "source": [
    "categorize_institution(\"University of Zurich\")"
   ]
  },
  {
   "cell_type": "code",
   "execution_count": 42,
   "metadata": {},
   "outputs": [
    {
     "data": {
      "text/plain": [
       "'Other'"
      ]
     },
     "execution_count": 42,
     "metadata": {},
     "output_type": "execute_result"
    }
   ],
   "source": [
    "categorize_institution(\"Fachhochschule Nordwestschweiz\")"
   ]
  },
  {
   "cell_type": "markdown",
   "metadata": {
    "collapsed": true
   },
   "source": [
    "... und wenden sie auf die Spalte \"University\" an."
   ]
  },
  {
   "cell_type": "code",
   "execution_count": 43,
   "metadata": {},
   "outputs": [
    {
     "data": {
      "text/plain": [
       "1        University\n",
       "2             Other\n",
       "3        University\n",
       "4             Other\n",
       "5        University\n",
       "            ...    \n",
       "69472    University\n",
       "69473    University\n",
       "69474         Other\n",
       "69475    University\n",
       "69477    University\n",
       "Name: University, Length: 51358, dtype: object"
      ]
     },
     "execution_count": 43,
     "metadata": {},
     "output_type": "execute_result"
    }
   ],
   "source": [
    "df_ch['University'].apply(categorize_institution)"
   ]
  },
  {
   "cell_type": "markdown",
   "metadata": {},
   "source": [
    "Das Resultat kommt nun in die Spalte \"Institution Type\""
   ]
  },
  {
   "cell_type": "code",
   "execution_count": 44,
   "metadata": {},
   "outputs": [],
   "source": [
    "df_ch['Institution Type'] = df_ch['University'].apply(categorize_institution)"
   ]
  },
  {
   "cell_type": "code",
   "execution_count": 45,
   "metadata": {},
   "outputs": [
    {
     "data": {
      "text/html": [
       "<div>\n",
       "<style scoped>\n",
       "    .dataframe tbody tr th:only-of-type {\n",
       "        vertical-align: middle;\n",
       "    }\n",
       "\n",
       "    .dataframe tbody tr th {\n",
       "        vertical-align: top;\n",
       "    }\n",
       "\n",
       "    .dataframe thead th {\n",
       "        text-align: right;\n",
       "    }\n",
       "</style>\n",
       "<table border=\"1\" class=\"dataframe\">\n",
       "  <thead>\n",
       "    <tr style=\"text-align: right;\">\n",
       "      <th></th>\n",
       "      <th>Project Number</th>\n",
       "      <th>Project Number String</th>\n",
       "      <th>Project Title</th>\n",
       "      <th>Project Title English</th>\n",
       "      <th>Responsible Applicant</th>\n",
       "      <th>Funding Instrument</th>\n",
       "      <th>Funding Instrument Hierarchy</th>\n",
       "      <th>Institution</th>\n",
       "      <th>Institution Country</th>\n",
       "      <th>University</th>\n",
       "      <th>Discipline Number</th>\n",
       "      <th>Discipline Name</th>\n",
       "      <th>Discipline Name Hierarchy</th>\n",
       "      <th>All disciplines</th>\n",
       "      <th>Start Date</th>\n",
       "      <th>End Date</th>\n",
       "      <th>Approved Amount</th>\n",
       "      <th>Keywords</th>\n",
       "      <th>Institution Type</th>\n",
       "    </tr>\n",
       "  </thead>\n",
       "  <tbody>\n",
       "    <tr>\n",
       "      <td>1</td>\n",
       "      <td>4</td>\n",
       "      <td>1000-000004</td>\n",
       "      <td>Batterie de tests à l'usage des enseignants po...</td>\n",
       "      <td>NaN</td>\n",
       "      <td>Massarenti Léonard</td>\n",
       "      <td>Project funding (Div. I-III)</td>\n",
       "      <td>Project funding</td>\n",
       "      <td>Faculté de Psychologie et des Sciences de l'Ed...</td>\n",
       "      <td>Switzerland</td>\n",
       "      <td>University of Geneva - GE</td>\n",
       "      <td>10104</td>\n",
       "      <td>Educational science and Pedagogy</td>\n",
       "      <td>Humanities and Social Sciences;Psychology, edu...</td>\n",
       "      <td>10104</td>\n",
       "      <td>01.10.1975</td>\n",
       "      <td>30.09.1976</td>\n",
       "      <td>41022.0</td>\n",
       "      <td>NaN</td>\n",
       "      <td>University</td>\n",
       "    </tr>\n",
       "    <tr>\n",
       "      <td>2</td>\n",
       "      <td>5</td>\n",
       "      <td>1000-000005</td>\n",
       "      <td>Kritische Erstausgabe der 'Evidentiae contra D...</td>\n",
       "      <td>NaN</td>\n",
       "      <td>Kommission für das Corpus philosophorum medii ...</td>\n",
       "      <td>Project funding (Div. I-III)</td>\n",
       "      <td>Project funding</td>\n",
       "      <td>Kommission für das Corpus philosophorum medii ...</td>\n",
       "      <td>Switzerland</td>\n",
       "      <td>Non-profit organisations (libraries, museums, ...</td>\n",
       "      <td>10101</td>\n",
       "      <td>Philosophy</td>\n",
       "      <td>Humanities and Social Sciences;Linguistics and...</td>\n",
       "      <td>10101</td>\n",
       "      <td>01.03.1976</td>\n",
       "      <td>28.02.1985</td>\n",
       "      <td>79732.0</td>\n",
       "      <td>NaN</td>\n",
       "      <td>Other</td>\n",
       "    </tr>\n",
       "    <tr>\n",
       "      <td>3</td>\n",
       "      <td>6</td>\n",
       "      <td>1000-000006</td>\n",
       "      <td>Katalog der datierten Handschriften in der Sch...</td>\n",
       "      <td>NaN</td>\n",
       "      <td>Burckhardt Max</td>\n",
       "      <td>Project funding (Div. I-III)</td>\n",
       "      <td>Project funding</td>\n",
       "      <td>Abt. Handschriften und Alte Drucke Bibliothek ...</td>\n",
       "      <td>Switzerland</td>\n",
       "      <td>University of Basel - BS</td>\n",
       "      <td>10302</td>\n",
       "      <td>Swiss history</td>\n",
       "      <td>Humanities and Social Sciences;Theology &amp; reli...</td>\n",
       "      <td>10302</td>\n",
       "      <td>01.10.1975</td>\n",
       "      <td>30.09.1976</td>\n",
       "      <td>52627.0</td>\n",
       "      <td>NaN</td>\n",
       "      <td>University</td>\n",
       "    </tr>\n",
       "  </tbody>\n",
       "</table>\n",
       "</div>"
      ],
      "text/plain": [
       "   Project Number Project Number String  \\\n",
       "1               4           1000-000004   \n",
       "2               5           1000-000005   \n",
       "3               6           1000-000006   \n",
       "\n",
       "                                       Project Title Project Title English  \\\n",
       "1  Batterie de tests à l'usage des enseignants po...                   NaN   \n",
       "2  Kritische Erstausgabe der 'Evidentiae contra D...                   NaN   \n",
       "3  Katalog der datierten Handschriften in der Sch...                   NaN   \n",
       "\n",
       "                               Responsible Applicant  \\\n",
       "1                                 Massarenti Léonard   \n",
       "2  Kommission für das Corpus philosophorum medii ...   \n",
       "3                                     Burckhardt Max   \n",
       "\n",
       "             Funding Instrument Funding Instrument Hierarchy  \\\n",
       "1  Project funding (Div. I-III)              Project funding   \n",
       "2  Project funding (Div. I-III)              Project funding   \n",
       "3  Project funding (Div. I-III)              Project funding   \n",
       "\n",
       "                                         Institution Institution Country  \\\n",
       "1  Faculté de Psychologie et des Sciences de l'Ed...         Switzerland   \n",
       "2  Kommission für das Corpus philosophorum medii ...         Switzerland   \n",
       "3  Abt. Handschriften und Alte Drucke Bibliothek ...         Switzerland   \n",
       "\n",
       "                                          University  Discipline Number  \\\n",
       "1                          University of Geneva - GE              10104   \n",
       "2  Non-profit organisations (libraries, museums, ...              10101   \n",
       "3                           University of Basel - BS              10302   \n",
       "\n",
       "                    Discipline Name  \\\n",
       "1  Educational science and Pedagogy   \n",
       "2                        Philosophy   \n",
       "3                     Swiss history   \n",
       "\n",
       "                           Discipline Name Hierarchy All disciplines  \\\n",
       "1  Humanities and Social Sciences;Psychology, edu...           10104   \n",
       "2  Humanities and Social Sciences;Linguistics and...           10101   \n",
       "3  Humanities and Social Sciences;Theology & reli...           10302   \n",
       "\n",
       "   Start Date    End Date  Approved Amount Keywords Institution Type  \n",
       "1  01.10.1975  30.09.1976          41022.0      NaN       University  \n",
       "2  01.03.1976  28.02.1985          79732.0      NaN            Other  \n",
       "3  01.10.1975  30.09.1976          52627.0      NaN       University  "
      ]
     },
     "execution_count": 45,
     "metadata": {},
     "output_type": "execute_result"
    }
   ],
   "source": [
    "df_ch.head(3)"
   ]
  },
  {
   "cell_type": "markdown",
   "metadata": {},
   "source": [
    "Wir sind jetzt ziemlich schnell durch `df.apply()` durchgegangen. Macht nix, wir kommen später nochmals drauf zurück. Man kann die Funktion übrigens auch auf ganze Zeilen anwenden, mehr dazu später."
   ]
  },
  {
   "cell_type": "markdown",
   "metadata": {},
   "source": [
    "**Quiz:** Basierend auf unserer neuen Klassifizierung: Zeichnen Sie einen Balkenchart, der die durchschnittliche Vergabesumme für Universitäten und Nicht-Universitäten anzeigt."
   ]
  },
  {
   "cell_type": "code",
   "execution_count": 46,
   "metadata": {},
   "outputs": [
    {
     "data": {
      "text/plain": [
       "<matplotlib.axes._subplots.AxesSubplot at 0x119916390>"
      ]
     },
     "execution_count": 46,
     "metadata": {},
     "output_type": "execute_result"
    },
    {
     "data": {
      "image/png": "[encoded data removed]",
      "text/plain": [
       "<Figure size 432x288 with 1 Axes>"
      ]
     },
     "metadata": {
      "needs_background": "light"
     },
     "output_type": "display_data"
    }
   ],
   "source": [
    "#Antwort\n",
    "df_ch.groupby('Institution Type')['Approved Amount'].mean().plot(kind='barh')"
   ]
  },
  {
   "cell_type": "markdown",
   "metadata": {},
   "source": [
    "### Methode 3: merge\n",
    "\n",
    "Und nun zur saubersten Art, wie man die Institutionen in dieser Tabelle hier klassifizieren sollte: von Hand.\n",
    "\n",
    "Wie ziehen uns nochmals die Liste der unique Values, diesmal gleich als Dataframe:"
   ]
  },
  {
   "cell_type": "code",
   "execution_count": 47,
   "metadata": {},
   "outputs": [
    {
     "data": {
      "text/html": [
       "<div>\n",
       "<style scoped>\n",
       "    .dataframe tbody tr th:only-of-type {\n",
       "        vertical-align: middle;\n",
       "    }\n",
       "\n",
       "    .dataframe tbody tr th {\n",
       "        vertical-align: top;\n",
       "    }\n",
       "\n",
       "    .dataframe thead th {\n",
       "        text-align: right;\n",
       "    }\n",
       "</style>\n",
       "<table border=\"1\" class=\"dataframe\">\n",
       "  <thead>\n",
       "    <tr style=\"text-align: right;\">\n",
       "      <th></th>\n",
       "      <th>0</th>\n",
       "    </tr>\n",
       "  </thead>\n",
       "  <tbody>\n",
       "    <tr>\n",
       "      <td>0</td>\n",
       "      <td>University of Geneva - GE</td>\n",
       "    </tr>\n",
       "    <tr>\n",
       "      <td>1</td>\n",
       "      <td>Non-profit organisations (libraries, museums, ...</td>\n",
       "    </tr>\n",
       "    <tr>\n",
       "      <td>2</td>\n",
       "      <td>University of Basel - BS</td>\n",
       "    </tr>\n",
       "    <tr>\n",
       "      <td>3</td>\n",
       "      <td>University of Fribourg - FR</td>\n",
       "    </tr>\n",
       "    <tr>\n",
       "      <td>4</td>\n",
       "      <td>University of Zurich - ZH</td>\n",
       "    </tr>\n",
       "    <tr>\n",
       "      <td>...</td>\n",
       "      <td>...</td>\n",
       "    </tr>\n",
       "    <tr>\n",
       "      <td>79</td>\n",
       "      <td>Pädagogische Hochschule Schaffhausen - PHSH</td>\n",
       "    </tr>\n",
       "    <tr>\n",
       "      <td>80</td>\n",
       "      <td>Staatsunabhängige Theologische Hochschule Base...</td>\n",
       "    </tr>\n",
       "    <tr>\n",
       "      <td>81</td>\n",
       "      <td>Facoltà di Teologia di Lugano - FTL</td>\n",
       "    </tr>\n",
       "    <tr>\n",
       "      <td>82</td>\n",
       "      <td>Fernfachhochschule Schweiz (member of SUPSI) -...</td>\n",
       "    </tr>\n",
       "    <tr>\n",
       "      <td>83</td>\n",
       "      <td>Cardiocentro Ticino - CT</td>\n",
       "    </tr>\n",
       "  </tbody>\n",
       "</table>\n",
       "<p>84 rows × 1 columns</p>\n",
       "</div>"
      ],
      "text/plain": [
       "                                                    0\n",
       "0                           University of Geneva - GE\n",
       "1   Non-profit organisations (libraries, museums, ...\n",
       "2                            University of Basel - BS\n",
       "3                         University of Fribourg - FR\n",
       "4                           University of Zurich - ZH\n",
       "..                                                ...\n",
       "79        Pädagogische Hochschule Schaffhausen - PHSH\n",
       "80  Staatsunabhängige Theologische Hochschule Base...\n",
       "81                Facoltà di Teologia di Lugano - FTL\n",
       "82  Fernfachhochschule Schweiz (member of SUPSI) -...\n",
       "83                           Cardiocentro Ticino - CT\n",
       "\n",
       "[84 rows x 1 columns]"
      ]
     },
     "execution_count": 47,
     "metadata": {},
     "output_type": "execute_result"
    }
   ],
   "source": [
    "df_unique = pd.DataFrame(df_ch['University'].unique())\n",
    "df_unique"
   ]
  },
  {
   "cell_type": "markdown",
   "metadata": {},
   "source": [
    "Weil es einfacher geht, bearbeiten wir die Liste in einem externen Programm... mit der Funktion `to_csv()`"
   ]
  },
  {
   "cell_type": "code",
   "execution_count": 48,
   "metadata": {},
   "outputs": [],
   "source": [
    "df_unique.to_csv('dataprojects/SNF/klassifizieren.csv', index=False)"
   ]
  },
  {
   "cell_type": "markdown",
   "metadata": {
    "collapsed": true
   },
   "source": [
    "... im Excel, oder anderswo bearbeiten, und wieder laden: (Ich habe das hier schonmal vorbereitet)"
   ]
  },
  {
   "cell_type": "code",
   "execution_count": 49,
   "metadata": {},
   "outputs": [],
   "source": [
    "df_unique_edited = pd.read_csv('dataprojects/SNF/klassifiziert.csv')"
   ]
  },
  {
   "cell_type": "code",
   "execution_count": 50,
   "metadata": {},
   "outputs": [
    {
     "data": {
      "text/html": [
       "<div>\n",
       "<style scoped>\n",
       "    .dataframe tbody tr th:only-of-type {\n",
       "        vertical-align: middle;\n",
       "    }\n",
       "\n",
       "    .dataframe tbody tr th {\n",
       "        vertical-align: top;\n",
       "    }\n",
       "\n",
       "    .dataframe thead th {\n",
       "        text-align: right;\n",
       "    }\n",
       "</style>\n",
       "<table border=\"1\" class=\"dataframe\">\n",
       "  <thead>\n",
       "    <tr style=\"text-align: right;\">\n",
       "      <th></th>\n",
       "      <th>University</th>\n",
       "      <th>New Type</th>\n",
       "    </tr>\n",
       "  </thead>\n",
       "  <tbody>\n",
       "    <tr>\n",
       "      <td>0</td>\n",
       "      <td>AO Research Institute - AORI</td>\n",
       "      <td>Other</td>\n",
       "    </tr>\n",
       "    <tr>\n",
       "      <td>1</td>\n",
       "      <td>Berne University of Applied Sciences - BFH</td>\n",
       "      <td>Fachhochschule</td>\n",
       "    </tr>\n",
       "    <tr>\n",
       "      <td>2</td>\n",
       "      <td>Biotechnology Institute Thurgau - BITG</td>\n",
       "      <td>Other</td>\n",
       "    </tr>\n",
       "    <tr>\n",
       "      <td>3</td>\n",
       "      <td>Cantonal hospital of St.Gallen - KSPSG</td>\n",
       "      <td>Spital</td>\n",
       "    </tr>\n",
       "    <tr>\n",
       "      <td>4</td>\n",
       "      <td>Cardiocentro Ticino - CT</td>\n",
       "      <td>Other</td>\n",
       "    </tr>\n",
       "    <tr>\n",
       "      <td>...</td>\n",
       "      <td>...</td>\n",
       "      <td>...</td>\n",
       "    </tr>\n",
       "    <tr>\n",
       "      <td>78</td>\n",
       "      <td>University of St.Gallen - SG</td>\n",
       "      <td>Universität</td>\n",
       "    </tr>\n",
       "    <tr>\n",
       "      <td>79</td>\n",
       "      <td>University of Zurich - ZH</td>\n",
       "      <td>Universität</td>\n",
       "    </tr>\n",
       "    <tr>\n",
       "      <td>80</td>\n",
       "      <td>Zürcher Fachhochschule - ZFH</td>\n",
       "      <td>Fachhochschule</td>\n",
       "    </tr>\n",
       "    <tr>\n",
       "      <td>81</td>\n",
       "      <td>Zurich University of Applied Sciences - ZHAW</td>\n",
       "      <td>Fachhochschule</td>\n",
       "    </tr>\n",
       "    <tr>\n",
       "      <td>82</td>\n",
       "      <td>Zurich University of the Arts - ZHdK</td>\n",
       "      <td>Fachhochschule</td>\n",
       "    </tr>\n",
       "  </tbody>\n",
       "</table>\n",
       "<p>83 rows × 2 columns</p>\n",
       "</div>"
      ],
      "text/plain": [
       "                                      University        New Type\n",
       "0                   AO Research Institute - AORI           Other\n",
       "1     Berne University of Applied Sciences - BFH  Fachhochschule\n",
       "2         Biotechnology Institute Thurgau - BITG           Other\n",
       "3         Cantonal hospital of St.Gallen - KSPSG          Spital\n",
       "4                       Cardiocentro Ticino - CT           Other\n",
       "..                                           ...             ...\n",
       "78                  University of St.Gallen - SG     Universität\n",
       "79                     University of Zurich - ZH     Universität\n",
       "80                  Zürcher Fachhochschule - ZFH  Fachhochschule\n",
       "81  Zurich University of Applied Sciences - ZHAW  Fachhochschule\n",
       "82          Zurich University of the Arts - ZHdK  Fachhochschule\n",
       "\n",
       "[83 rows x 2 columns]"
      ]
     },
     "execution_count": 50,
     "metadata": {},
     "output_type": "execute_result"
    }
   ],
   "source": [
    "df_unique_edited"
   ]
  },
  {
   "cell_type": "markdown",
   "metadata": {},
   "source": [
    "Wir haben jetzt zwei Tabellen: `df_ch` (die grosse Datentabelle) und `df_unique` (die Klassifizierungen).\n",
    "\n",
    "Diese zwei Tabellen können wir nun verknüpfen, und zwar mit der Funktion `merge()`"
   ]
  },
  {
   "cell_type": "code",
   "execution_count": 51,
   "metadata": {},
   "outputs": [
    {
     "data": {
      "text/html": [
       "<div>\n",
       "<style scoped>\n",
       "    .dataframe tbody tr th:only-of-type {\n",
       "        vertical-align: middle;\n",
       "    }\n",
       "\n",
       "    .dataframe tbody tr th {\n",
       "        vertical-align: top;\n",
       "    }\n",
       "\n",
       "    .dataframe thead th {\n",
       "        text-align: right;\n",
       "    }\n",
       "</style>\n",
       "<table border=\"1\" class=\"dataframe\">\n",
       "  <thead>\n",
       "    <tr style=\"text-align: right;\">\n",
       "      <th></th>\n",
       "      <th>Project Number</th>\n",
       "      <th>Project Number String</th>\n",
       "      <th>Project Title</th>\n",
       "      <th>Project Title English</th>\n",
       "      <th>Responsible Applicant</th>\n",
       "      <th>Funding Instrument</th>\n",
       "      <th>Funding Instrument Hierarchy</th>\n",
       "      <th>Institution</th>\n",
       "      <th>Institution Country</th>\n",
       "      <th>University</th>\n",
       "      <th>Discipline Number</th>\n",
       "      <th>Discipline Name</th>\n",
       "      <th>Discipline Name Hierarchy</th>\n",
       "      <th>All disciplines</th>\n",
       "      <th>Start Date</th>\n",
       "      <th>End Date</th>\n",
       "      <th>Approved Amount</th>\n",
       "      <th>Keywords</th>\n",
       "      <th>Institution Type</th>\n",
       "      <th>New Type</th>\n",
       "    </tr>\n",
       "  </thead>\n",
       "  <tbody>\n",
       "    <tr>\n",
       "      <td>0</td>\n",
       "      <td>4</td>\n",
       "      <td>1000-000004</td>\n",
       "      <td>Batterie de tests à l'usage des enseignants po...</td>\n",
       "      <td>NaN</td>\n",
       "      <td>Massarenti Léonard</td>\n",
       "      <td>Project funding (Div. I-III)</td>\n",
       "      <td>Project funding</td>\n",
       "      <td>Faculté de Psychologie et des Sciences de l'Ed...</td>\n",
       "      <td>Switzerland</td>\n",
       "      <td>University of Geneva - GE</td>\n",
       "      <td>10104</td>\n",
       "      <td>Educational science and Pedagogy</td>\n",
       "      <td>Humanities and Social Sciences;Psychology, edu...</td>\n",
       "      <td>10104</td>\n",
       "      <td>01.10.1975</td>\n",
       "      <td>30.09.1976</td>\n",
       "      <td>41022.0</td>\n",
       "      <td>NaN</td>\n",
       "      <td>University</td>\n",
       "      <td>Universität</td>\n",
       "    </tr>\n",
       "    <tr>\n",
       "      <td>1</td>\n",
       "      <td>5</td>\n",
       "      <td>1000-000005</td>\n",
       "      <td>Kritische Erstausgabe der 'Evidentiae contra D...</td>\n",
       "      <td>NaN</td>\n",
       "      <td>Kommission für das Corpus philosophorum medii ...</td>\n",
       "      <td>Project funding (Div. I-III)</td>\n",
       "      <td>Project funding</td>\n",
       "      <td>Kommission für das Corpus philosophorum medii ...</td>\n",
       "      <td>Switzerland</td>\n",
       "      <td>Non-profit organisations (libraries, museums, ...</td>\n",
       "      <td>10101</td>\n",
       "      <td>Philosophy</td>\n",
       "      <td>Humanities and Social Sciences;Linguistics and...</td>\n",
       "      <td>10101</td>\n",
       "      <td>01.03.1976</td>\n",
       "      <td>28.02.1985</td>\n",
       "      <td>79732.0</td>\n",
       "      <td>NaN</td>\n",
       "      <td>Other</td>\n",
       "      <td>Other</td>\n",
       "    </tr>\n",
       "    <tr>\n",
       "      <td>2</td>\n",
       "      <td>6</td>\n",
       "      <td>1000-000006</td>\n",
       "      <td>Katalog der datierten Handschriften in der Sch...</td>\n",
       "      <td>NaN</td>\n",
       "      <td>Burckhardt Max</td>\n",
       "      <td>Project funding (Div. I-III)</td>\n",
       "      <td>Project funding</td>\n",
       "      <td>Abt. Handschriften und Alte Drucke Bibliothek ...</td>\n",
       "      <td>Switzerland</td>\n",
       "      <td>University of Basel - BS</td>\n",
       "      <td>10302</td>\n",
       "      <td>Swiss history</td>\n",
       "      <td>Humanities and Social Sciences;Theology &amp; reli...</td>\n",
       "      <td>10302</td>\n",
       "      <td>01.10.1975</td>\n",
       "      <td>30.09.1976</td>\n",
       "      <td>52627.0</td>\n",
       "      <td>NaN</td>\n",
       "      <td>University</td>\n",
       "      <td>Universität</td>\n",
       "    </tr>\n",
       "    <tr>\n",
       "      <td>3</td>\n",
       "      <td>7</td>\n",
       "      <td>1000-000007</td>\n",
       "      <td>Wissenschaftliche Mitarbeit am Thesaurus Lingu...</td>\n",
       "      <td>NaN</td>\n",
       "      <td>Schweiz. Thesauruskommission</td>\n",
       "      <td>Project funding (Div. I-III)</td>\n",
       "      <td>Project funding</td>\n",
       "      <td>Schweiz. Thesauruskommission</td>\n",
       "      <td>Switzerland</td>\n",
       "      <td>Non-profit organisations (libraries, museums, ...</td>\n",
       "      <td>10303</td>\n",
       "      <td>Ancient history and Classical studies</td>\n",
       "      <td>Humanities and Social Sciences;Theology &amp; reli...</td>\n",
       "      <td>10303</td>\n",
       "      <td>01.01.1976</td>\n",
       "      <td>30.04.1978</td>\n",
       "      <td>120042.0</td>\n",
       "      <td>NaN</td>\n",
       "      <td>Other</td>\n",
       "      <td>Other</td>\n",
       "    </tr>\n",
       "    <tr>\n",
       "      <td>4</td>\n",
       "      <td>8</td>\n",
       "      <td>1000-000008</td>\n",
       "      <td>Die schweizerische Wirtschaftspolitik seit dem...</td>\n",
       "      <td>NaN</td>\n",
       "      <td>Kleinewefers Henner</td>\n",
       "      <td>Project funding (Div. I-III)</td>\n",
       "      <td>Project funding</td>\n",
       "      <td>Séminaire de politique économique, d'économie ...</td>\n",
       "      <td>Switzerland</td>\n",
       "      <td>University of Fribourg - FR</td>\n",
       "      <td>10203</td>\n",
       "      <td>Economics</td>\n",
       "      <td>Humanities and Social Sciences;Economics, law</td>\n",
       "      <td>10203</td>\n",
       "      <td>01.01.1976</td>\n",
       "      <td>31.12.1978</td>\n",
       "      <td>53009.0</td>\n",
       "      <td>NaN</td>\n",
       "      <td>University</td>\n",
       "      <td>Universität</td>\n",
       "    </tr>\n",
       "    <tr>\n",
       "      <td>...</td>\n",
       "      <td>...</td>\n",
       "      <td>...</td>\n",
       "      <td>...</td>\n",
       "      <td>...</td>\n",
       "      <td>...</td>\n",
       "      <td>...</td>\n",
       "      <td>...</td>\n",
       "      <td>...</td>\n",
       "      <td>...</td>\n",
       "      <td>...</td>\n",
       "      <td>...</td>\n",
       "      <td>...</td>\n",
       "      <td>...</td>\n",
       "      <td>...</td>\n",
       "      <td>...</td>\n",
       "      <td>...</td>\n",
       "      <td>...</td>\n",
       "      <td>...</td>\n",
       "      <td>...</td>\n",
       "      <td>...</td>\n",
       "    </tr>\n",
       "    <tr>\n",
       "      <td>51353</td>\n",
       "      <td>183786</td>\n",
       "      <td>IZSEZ0_183786</td>\n",
       "      <td>Minimising Risks, Selling Promises? Reproducti...</td>\n",
       "      <td>NaN</td>\n",
       "      <td>Maffi Irene</td>\n",
       "      <td>Scientific Exchanges</td>\n",
       "      <td>Science communication</td>\n",
       "      <td>Institut des sciences sociales Université de L...</td>\n",
       "      <td>Switzerland</td>\n",
       "      <td>University of Lausanne - LA</td>\n",
       "      <td>10602</td>\n",
       "      <td>Health</td>\n",
       "      <td>Humanities and Social Sciences;Sociology, soci...</td>\n",
       "      <td>10602/10403</td>\n",
       "      <td>01.10.2018</td>\n",
       "      <td>31.12.2018</td>\n",
       "      <td>7050.0</td>\n",
       "      <td>risks; promises; technoscientific innovations ...</td>\n",
       "      <td>University</td>\n",
       "      <td>Universität</td>\n",
       "    </tr>\n",
       "    <tr>\n",
       "      <td>51354</td>\n",
       "      <td>183799</td>\n",
       "      <td>10BP12_183799</td>\n",
       "      <td>Gender Innovation and Migration in Switzerland</td>\n",
       "      <td>Gender Innovation and Migration in Switzerland</td>\n",
       "      <td>Falk Francesca</td>\n",
       "      <td>Open Access Books</td>\n",
       "      <td>Science communication</td>\n",
       "      <td>Departement für Historische Wissenschaften - Z...</td>\n",
       "      <td>Switzerland</td>\n",
       "      <td>University of Fribourg - FR</td>\n",
       "      <td>10301</td>\n",
       "      <td>General history (without pre-and early history)</td>\n",
       "      <td>Humanities and Social Sciences;Theology &amp; reli...</td>\n",
       "      <td>10301/10302</td>\n",
       "      <td>01.09.2018</td>\n",
       "      <td>28.02.2019</td>\n",
       "      <td>9500.0</td>\n",
       "      <td>Geschlechtergeschichte; Geschichte des soziale...</td>\n",
       "      <td>University</td>\n",
       "      <td>Universität</td>\n",
       "    </tr>\n",
       "    <tr>\n",
       "      <td>51355</td>\n",
       "      <td>183810</td>\n",
       "      <td>10BP12_183810</td>\n",
       "      <td>Dépasser les bornes</td>\n",
       "      <td>NaN</td>\n",
       "      <td>Messer Marc Antoine</td>\n",
       "      <td>Open Access Books</td>\n",
       "      <td>Science communication</td>\n",
       "      <td>Communauté d'études pour l'aménagement du terr...</td>\n",
       "      <td>Switzerland</td>\n",
       "      <td>EPF Lausanne - EPFL</td>\n",
       "      <td>10407</td>\n",
       "      <td>Architecture and Social urban science</td>\n",
       "      <td>Humanities and Social Sciences;Art studies, mu...</td>\n",
       "      <td>10407/10202</td>\n",
       "      <td>01.09.2018</td>\n",
       "      <td>28.02.2019</td>\n",
       "      <td>25000.0</td>\n",
       "      <td>urbanisme; planification; métropole; frontière...</td>\n",
       "      <td>Other</td>\n",
       "      <td>Universität</td>\n",
       "    </tr>\n",
       "    <tr>\n",
       "      <td>51356</td>\n",
       "      <td>183815</td>\n",
       "      <td>10BP12_183815</td>\n",
       "      <td>Perspectives on treating hypertension in old a...</td>\n",
       "      <td>Perspectives on treating hypertension in old a...</td>\n",
       "      <td>Streit Sven</td>\n",
       "      <td>Open Access Books</td>\n",
       "      <td>Science communication</td>\n",
       "      <td>Berner Institut für Hausarztmedizin BIHAM Univ...</td>\n",
       "      <td>Switzerland</td>\n",
       "      <td>University of Berne - BE</td>\n",
       "      <td>30701</td>\n",
       "      <td>Internal Medicine</td>\n",
       "      <td>Biology and Medicine;Clinical Medicine</td>\n",
       "      <td>30701/30806</td>\n",
       "      <td>01.09.2018</td>\n",
       "      <td>28.02.2019</td>\n",
       "      <td>2080.0</td>\n",
       "      <td>Blood pressure; Cognitive function; Oldest-old...</td>\n",
       "      <td>University</td>\n",
       "      <td>Universität</td>\n",
       "    </tr>\n",
       "    <tr>\n",
       "      <td>51357</td>\n",
       "      <td>183981</td>\n",
       "      <td>323530_183981</td>\n",
       "      <td>The Role of IL-20 Cytokine Family Members in E...</td>\n",
       "      <td>The Role of IL-20 Cytokine Family Members in E...</td>\n",
       "      <td>Kaymak Tanay</td>\n",
       "      <td>MD-PhD fellowships (funded by SNSF)</td>\n",
       "      <td>Careers;Academic and research careers (non-pro...</td>\n",
       "      <td>Departement Biomedizin Universitätsspital Basel</td>\n",
       "      <td>Switzerland</td>\n",
       "      <td>University of Basel - BS</td>\n",
       "      <td>30403</td>\n",
       "      <td>Immunology, Immunopathology</td>\n",
       "      <td>Biology and Medicine;Experimental Medicine</td>\n",
       "      <td>30403/30701</td>\n",
       "      <td>01.09.2018</td>\n",
       "      <td>31.08.2021</td>\n",
       "      <td>188250.0</td>\n",
       "      <td>Gastroenterology; Eosinophilic esophagitis; In...</td>\n",
       "      <td>University</td>\n",
       "      <td>Universität</td>\n",
       "    </tr>\n",
       "  </tbody>\n",
       "</table>\n",
       "<p>51358 rows × 20 columns</p>\n",
       "</div>"
      ],
      "text/plain": [
       "       Project Number Project Number String  \\\n",
       "0                   4           1000-000004   \n",
       "1                   5           1000-000005   \n",
       "2                   6           1000-000006   \n",
       "3                   7           1000-000007   \n",
       "4                   8           1000-000008   \n",
       "...               ...                   ...   \n",
       "51353          183786         IZSEZ0_183786   \n",
       "51354          183799         10BP12_183799   \n",
       "51355          183810         10BP12_183810   \n",
       "51356          183815         10BP12_183815   \n",
       "51357          183981         323530_183981   \n",
       "\n",
       "                                           Project Title  \\\n",
       "0      Batterie de tests à l'usage des enseignants po...   \n",
       "1      Kritische Erstausgabe der 'Evidentiae contra D...   \n",
       "2      Katalog der datierten Handschriften in der Sch...   \n",
       "3      Wissenschaftliche Mitarbeit am Thesaurus Lingu...   \n",
       "4      Die schweizerische Wirtschaftspolitik seit dem...   \n",
       "...                                                  ...   \n",
       "51353  Minimising Risks, Selling Promises? Reproducti...   \n",
       "51354     Gender Innovation and Migration in Switzerland   \n",
       "51355                                Dépasser les bornes   \n",
       "51356  Perspectives on treating hypertension in old a...   \n",
       "51357  The Role of IL-20 Cytokine Family Members in E...   \n",
       "\n",
       "                                   Project Title English  \\\n",
       "0                                                    NaN   \n",
       "1                                                    NaN   \n",
       "2                                                    NaN   \n",
       "3                                                    NaN   \n",
       "4                                                    NaN   \n",
       "...                                                  ...   \n",
       "51353                                                NaN   \n",
       "51354     Gender Innovation and Migration in Switzerland   \n",
       "51355                                                NaN   \n",
       "51356  Perspectives on treating hypertension in old a...   \n",
       "51357  The Role of IL-20 Cytokine Family Members in E...   \n",
       "\n",
       "                                   Responsible Applicant  \\\n",
       "0                                     Massarenti Léonard   \n",
       "1      Kommission für das Corpus philosophorum medii ...   \n",
       "2                                         Burckhardt Max   \n",
       "3                           Schweiz. Thesauruskommission   \n",
       "4                                    Kleinewefers Henner   \n",
       "...                                                  ...   \n",
       "51353                                        Maffi Irene   \n",
       "51354                                     Falk Francesca   \n",
       "51355                                Messer Marc Antoine   \n",
       "51356                                        Streit Sven   \n",
       "51357                                       Kaymak Tanay   \n",
       "\n",
       "                        Funding Instrument  \\\n",
       "0             Project funding (Div. I-III)   \n",
       "1             Project funding (Div. I-III)   \n",
       "2             Project funding (Div. I-III)   \n",
       "3             Project funding (Div. I-III)   \n",
       "4             Project funding (Div. I-III)   \n",
       "...                                    ...   \n",
       "51353                 Scientific Exchanges   \n",
       "51354                    Open Access Books   \n",
       "51355                    Open Access Books   \n",
       "51356                    Open Access Books   \n",
       "51357  MD-PhD fellowships (funded by SNSF)   \n",
       "\n",
       "                            Funding Instrument Hierarchy  \\\n",
       "0                                        Project funding   \n",
       "1                                        Project funding   \n",
       "2                                        Project funding   \n",
       "3                                        Project funding   \n",
       "4                                        Project funding   \n",
       "...                                                  ...   \n",
       "51353                              Science communication   \n",
       "51354                              Science communication   \n",
       "51355                              Science communication   \n",
       "51356                              Science communication   \n",
       "51357  Careers;Academic and research careers (non-pro...   \n",
       "\n",
       "                                             Institution Institution Country  \\\n",
       "0      Faculté de Psychologie et des Sciences de l'Ed...         Switzerland   \n",
       "1      Kommission für das Corpus philosophorum medii ...         Switzerland   \n",
       "2      Abt. Handschriften und Alte Drucke Bibliothek ...         Switzerland   \n",
       "3                           Schweiz. Thesauruskommission         Switzerland   \n",
       "4      Séminaire de politique économique, d'économie ...         Switzerland   \n",
       "...                                                  ...                 ...   \n",
       "51353  Institut des sciences sociales Université de L...         Switzerland   \n",
       "51354  Departement für Historische Wissenschaften - Z...         Switzerland   \n",
       "51355  Communauté d'études pour l'aménagement du terr...         Switzerland   \n",
       "51356  Berner Institut für Hausarztmedizin BIHAM Univ...         Switzerland   \n",
       "51357    Departement Biomedizin Universitätsspital Basel         Switzerland   \n",
       "\n",
       "                                              University  Discipline Number  \\\n",
       "0                              University of Geneva - GE              10104   \n",
       "1      Non-profit organisations (libraries, museums, ...              10101   \n",
       "2                               University of Basel - BS              10302   \n",
       "3      Non-profit organisations (libraries, museums, ...              10303   \n",
       "4                            University of Fribourg - FR              10203   \n",
       "...                                                  ...                ...   \n",
       "51353                        University of Lausanne - LA              10602   \n",
       "51354                        University of Fribourg - FR              10301   \n",
       "51355                                EPF Lausanne - EPFL              10407   \n",
       "51356                           University of Berne - BE              30701   \n",
       "51357                           University of Basel - BS              30403   \n",
       "\n",
       "                                       Discipline Name  \\\n",
       "0                     Educational science and Pedagogy   \n",
       "1                                           Philosophy   \n",
       "2                                        Swiss history   \n",
       "3                Ancient history and Classical studies   \n",
       "4                                            Economics   \n",
       "...                                                ...   \n",
       "51353                                           Health   \n",
       "51354  General history (without pre-and early history)   \n",
       "51355            Architecture and Social urban science   \n",
       "51356                                Internal Medicine   \n",
       "51357                      Immunology, Immunopathology   \n",
       "\n",
       "                               Discipline Name Hierarchy All disciplines  \\\n",
       "0      Humanities and Social Sciences;Psychology, edu...           10104   \n",
       "1      Humanities and Social Sciences;Linguistics and...           10101   \n",
       "2      Humanities and Social Sciences;Theology & reli...           10302   \n",
       "3      Humanities and Social Sciences;Theology & reli...           10303   \n",
       "4          Humanities and Social Sciences;Economics, law           10203   \n",
       "...                                                  ...             ...   \n",
       "51353  Humanities and Social Sciences;Sociology, soci...     10602/10403   \n",
       "51354  Humanities and Social Sciences;Theology & reli...     10301/10302   \n",
       "51355  Humanities and Social Sciences;Art studies, mu...     10407/10202   \n",
       "51356             Biology and Medicine;Clinical Medicine     30701/30806   \n",
       "51357         Biology and Medicine;Experimental Medicine     30403/30701   \n",
       "\n",
       "       Start Date    End Date  Approved Amount  \\\n",
       "0      01.10.1975  30.09.1976          41022.0   \n",
       "1      01.03.1976  28.02.1985          79732.0   \n",
       "2      01.10.1975  30.09.1976          52627.0   \n",
       "3      01.01.1976  30.04.1978         120042.0   \n",
       "4      01.01.1976  31.12.1978          53009.0   \n",
       "...           ...         ...              ...   \n",
       "51353  01.10.2018  31.12.2018           7050.0   \n",
       "51354  01.09.2018  28.02.2019           9500.0   \n",
       "51355  01.09.2018  28.02.2019          25000.0   \n",
       "51356  01.09.2018  28.02.2019           2080.0   \n",
       "51357  01.09.2018  31.08.2021         188250.0   \n",
       "\n",
       "                                                Keywords Institution Type  \\\n",
       "0                                                    NaN       University   \n",
       "1                                                    NaN            Other   \n",
       "2                                                    NaN       University   \n",
       "3                                                    NaN            Other   \n",
       "4                                                    NaN       University   \n",
       "...                                                  ...              ...   \n",
       "51353  risks; promises; technoscientific innovations ...       University   \n",
       "51354  Geschlechtergeschichte; Geschichte des soziale...       University   \n",
       "51355  urbanisme; planification; métropole; frontière...            Other   \n",
       "51356  Blood pressure; Cognitive function; Oldest-old...       University   \n",
       "51357  Gastroenterology; Eosinophilic esophagitis; In...       University   \n",
       "\n",
       "          New Type  \n",
       "0      Universität  \n",
       "1            Other  \n",
       "2      Universität  \n",
       "3            Other  \n",
       "4      Universität  \n",
       "...            ...  \n",
       "51353  Universität  \n",
       "51354  Universität  \n",
       "51355  Universität  \n",
       "51356  Universität  \n",
       "51357  Universität  \n",
       "\n",
       "[51358 rows x 20 columns]"
      ]
     },
     "execution_count": 51,
     "metadata": {},
     "output_type": "execute_result"
    }
   ],
   "source": [
    "df_ch_classified = df_ch.merge(df_unique_edited, how='left', left_on='University', right_on='University')\n",
    "df_ch_classified"
   ]
  },
  {
   "cell_type": "markdown",
   "metadata": {},
   "source": [
    "Die Spalte \"New Type\" wurde nun zur Tabelle \"df_ch\" hinzugefügt, und zwar genau dort, wo es zum Eintrag in \"University\" passt!\n",
    "\n",
    "Schauen wir kurz, wie viele Einträge es von welchem Typ hat:"
   ]
  },
  {
   "cell_type": "code",
   "execution_count": 52,
   "metadata": {},
   "outputs": [
    {
     "data": {
      "text/plain": [
       "Universität       45823\n",
       "Other              4579\n",
       "Fachhochschule      793\n",
       "Spital              162\n",
       "Name: New Type, dtype: int64"
      ]
     },
     "execution_count": 52,
     "metadata": {},
     "output_type": "execute_result"
    }
   ],
   "source": [
    "df_ch_classified['New Type'].value_counts()"
   ]
  },
  {
   "cell_type": "markdown",
   "metadata": {},
   "source": [
    "Ging auch wirklich nichts vergessen?"
   ]
  },
  {
   "cell_type": "code",
   "execution_count": 53,
   "metadata": {},
   "outputs": [
    {
     "data": {
      "text/plain": [
       "Universität       45823\n",
       "Other              4579\n",
       "Fachhochschule      793\n",
       "Spital              162\n",
       "NaN                   1\n",
       "Name: New Type, dtype: int64"
      ]
     },
     "execution_count": 53,
     "metadata": {},
     "output_type": "execute_result"
    }
   ],
   "source": [
    "df_ch_classified['New Type'].value_counts(dropna=False)"
   ]
  },
  {
   "cell_type": "markdown",
   "metadata": {},
   "source": [
    "**Oops!** Es hat einen fehlenden Eintrag drin.\n",
    "\n",
    "Was ist das für ein Eintrag?"
   ]
  },
  {
   "cell_type": "code",
   "execution_count": 54,
   "metadata": {},
   "outputs": [
    {
     "data": {
      "text/html": [
       "<div>\n",
       "<style scoped>\n",
       "    .dataframe tbody tr th:only-of-type {\n",
       "        vertical-align: middle;\n",
       "    }\n",
       "\n",
       "    .dataframe tbody tr th {\n",
       "        vertical-align: top;\n",
       "    }\n",
       "\n",
       "    .dataframe thead th {\n",
       "        text-align: right;\n",
       "    }\n",
       "</style>\n",
       "<table border=\"1\" class=\"dataframe\">\n",
       "  <thead>\n",
       "    <tr style=\"text-align: right;\">\n",
       "      <th></th>\n",
       "      <th>Project Number</th>\n",
       "      <th>Project Number String</th>\n",
       "      <th>Project Title</th>\n",
       "      <th>Project Title English</th>\n",
       "      <th>Responsible Applicant</th>\n",
       "      <th>Funding Instrument</th>\n",
       "      <th>Funding Instrument Hierarchy</th>\n",
       "      <th>Institution</th>\n",
       "      <th>Institution Country</th>\n",
       "      <th>University</th>\n",
       "      <th>Discipline Number</th>\n",
       "      <th>Discipline Name</th>\n",
       "      <th>Discipline Name Hierarchy</th>\n",
       "      <th>All disciplines</th>\n",
       "      <th>Start Date</th>\n",
       "      <th>End Date</th>\n",
       "      <th>Approved Amount</th>\n",
       "      <th>Keywords</th>\n",
       "      <th>Institution Type</th>\n",
       "      <th>New Type</th>\n",
       "    </tr>\n",
       "  </thead>\n",
       "  <tbody>\n",
       "    <tr>\n",
       "      <td>24179</td>\n",
       "      <td>101005</td>\n",
       "      <td>50CH40-101005</td>\n",
       "      <td>SELECTS 2003: Eidgenössische Wahlen 2003</td>\n",
       "      <td>SELECTS 2003: Federal elections 2003</td>\n",
       "      <td>Malaguerra Carlo</td>\n",
       "      <td>Swiss Priority Programmes (SPPs)</td>\n",
       "      <td>Programmes</td>\n",
       "      <td>Schweizerische Akademie der Geistes-und Sozial...</td>\n",
       "      <td>Switzerland</td>\n",
       "      <td>NaN</td>\n",
       "      <td>10202</td>\n",
       "      <td>Political science</td>\n",
       "      <td>Humanities and Social Sciences;Sociology, soci...</td>\n",
       "      <td>10202</td>\n",
       "      <td>01.02.2003</td>\n",
       "      <td>31.01.2004</td>\n",
       "      <td>100000.0</td>\n",
       "      <td>NaN</td>\n",
       "      <td>Other</td>\n",
       "      <td>NaN</td>\n",
       "    </tr>\n",
       "  </tbody>\n",
       "</table>\n",
       "</div>"
      ],
      "text/plain": [
       "       Project Number Project Number String  \\\n",
       "24179          101005         50CH40-101005   \n",
       "\n",
       "                                  Project Title  \\\n",
       "24179  SELECTS 2003: Eidgenössische Wahlen 2003   \n",
       "\n",
       "                      Project Title English Responsible Applicant  \\\n",
       "24179  SELECTS 2003: Federal elections 2003      Malaguerra Carlo   \n",
       "\n",
       "                     Funding Instrument Funding Instrument Hierarchy  \\\n",
       "24179  Swiss Priority Programmes (SPPs)                   Programmes   \n",
       "\n",
       "                                             Institution Institution Country  \\\n",
       "24179  Schweizerische Akademie der Geistes-und Sozial...         Switzerland   \n",
       "\n",
       "      University  Discipline Number    Discipline Name  \\\n",
       "24179        NaN              10202  Political science   \n",
       "\n",
       "                               Discipline Name Hierarchy All disciplines  \\\n",
       "24179  Humanities and Social Sciences;Sociology, soci...           10202   \n",
       "\n",
       "       Start Date    End Date  Approved Amount Keywords Institution Type  \\\n",
       "24179  01.02.2003  31.01.2004         100000.0      NaN            Other   \n",
       "\n",
       "      New Type  \n",
       "24179      NaN  "
      ]
     },
     "execution_count": 54,
     "metadata": {},
     "output_type": "execute_result"
    }
   ],
   "source": [
    "df_ch_classified[df_ch_classified['New Type'].isnull()]"
   ]
  },
  {
   "cell_type": "markdown",
   "metadata": {},
   "source": [
    "Sieht nach einem grundsätzlich validen Projekt aus. Wir klassifizieren diesen Eintrag kurzerhand auf \"Other\":"
   ]
  },
  {
   "cell_type": "code",
   "execution_count": 55,
   "metadata": {},
   "outputs": [],
   "source": [
    "df_ch_classified.loc[24179, \"New Type\"] = \"Other\""
   ]
  },
  {
   "cell_type": "code",
   "execution_count": 56,
   "metadata": {},
   "outputs": [
    {
     "data": {
      "text/plain": [
       "Project Number                                                             101005\n",
       "Project Number String                                               50CH40-101005\n",
       "Project Title                            SELECTS 2003: Eidgenössische Wahlen 2003\n",
       "Project Title English                        SELECTS 2003: Federal elections 2003\n",
       "Responsible Applicant                                            Malaguerra Carlo\n",
       "Funding Instrument                               Swiss Priority Programmes (SPPs)\n",
       "Funding Instrument Hierarchy                                           Programmes\n",
       "Institution                     Schweizerische Akademie der Geistes-und Sozial...\n",
       "Institution Country                                                   Switzerland\n",
       "University                                                                    NaN\n",
       "Discipline Number                                                           10202\n",
       "Discipline Name                                                 Political science\n",
       "Discipline Name Hierarchy       Humanities and Social Sciences;Sociology, soci...\n",
       "All disciplines                                                             10202\n",
       "Start Date                                                             01.02.2003\n",
       "End Date                                                               31.01.2004\n",
       "Approved Amount                                                            100000\n",
       "Keywords                                                                      NaN\n",
       "Institution Type                                                            Other\n",
       "New Type                                                                    Other\n",
       "Name: 24179, dtype: object"
      ]
     },
     "execution_count": 56,
     "metadata": {},
     "output_type": "execute_result"
    }
   ],
   "source": [
    "df_ch_classified.loc[24179]"
   ]
  },
  {
   "cell_type": "markdown",
   "metadata": {},
   "source": [
    "**Quiz:** Kategorisieren Sie die Einträge nach dem Herkunftsland der Universität (erstellen Sie dazu ein neues Feld \"Country Type\" mit den Einträgen \"Switzerland\" oder \"Other\". Wie viele Projekte kommen aus der Schweiz, wie viele aus anderen Ländern?\n",
    "\n",
    "**Achtung** Wechseln Sie jetzt wieder zum originalen Dataframe, \"df\""
   ]
  },
  {
   "cell_type": "code",
   "execution_count": 57,
   "metadata": {},
   "outputs": [],
   "source": [
    "#Neues, leeres Feld 'Country Type' erstellen\n",
    "df['Country Type'] = \"\""
   ]
  },
  {
   "cell_type": "code",
   "execution_count": 58,
   "metadata": {},
   "outputs": [],
   "source": [
    "# Country Type = 'Switzerland', falls Switzerland\n",
    "df.loc[df['Institution Country'] == 'Switzerland', 'Country Type'] = \"Switzerland\""
   ]
  },
  {
   "cell_type": "code",
   "execution_count": 59,
   "metadata": {},
   "outputs": [],
   "source": [
    "# Country Type = 'Other', falls nicht\n",
    "df.loc[df['Institution Country'] != 'Switzerland', 'Country Type'] = \"Other\""
   ]
  },
  {
   "cell_type": "code",
   "execution_count": 60,
   "metadata": {},
   "outputs": [
    {
     "data": {
      "text/plain": [
       "Switzerland    51358\n",
       "Other          18120\n",
       "Name: Country Type, dtype: int64"
      ]
     },
     "execution_count": 60,
     "metadata": {},
     "output_type": "execute_result"
    }
   ],
   "source": [
    "# Auswertung nach Country Type\n",
    "df['Country Type'].value_counts(dropna=False)"
   ]
  },
  {
   "cell_type": "markdown",
   "metadata": {},
   "source": [
    "## Plotting Level 2"
   ]
  },
  {
   "cell_type": "markdown",
   "metadata": {},
   "source": [
    "Nun wollen wir darstellen, wie sich die Projekte über die Zeit hinweg in der Schweiz und in den übrigen Ländern entwickelt haben. Es geht also darum, zwei verschiedene Serien auf einer Grafik einzuzeichnen."
   ]
  },
  {
   "cell_type": "markdown",
   "metadata": {},
   "source": [
    "Wir wenden dazu jetzt einen etwas faulen Trick an, um eine neue Spalte mit dem Jahr zu generieren (eigentlich gäbe es dazu noch einen speziellen Datentyp, aber den schauen wir ein anderes Mal an)."
   ]
  },
  {
   "cell_type": "code",
   "execution_count": 61,
   "metadata": {},
   "outputs": [],
   "source": [
    "df['Year'] = df['Start Date'].str[6:]"
   ]
  },
  {
   "cell_type": "markdown",
   "metadata": {},
   "source": [
    "Check, ob das einigermassen funktioniert hat..."
   ]
  },
  {
   "cell_type": "code",
   "execution_count": 62,
   "metadata": {},
   "outputs": [
    {
     "data": {
      "text/plain": [
       "1975     205\n",
       "1976     542\n",
       "1977     564\n",
       "1978     556\n",
       "1979     616\n",
       "1980     600\n",
       "1981     614\n",
       "1982     628\n",
       "1983     682\n",
       "1984     703\n",
       "1985     684\n",
       "1986     938\n",
       "1987    1099\n",
       "1988    1105\n",
       "1989    1789\n",
       "1990    1441\n",
       "1991    1240\n",
       "1992    1148\n",
       "1993    1519\n",
       "1994    1493\n",
       "1995    1328\n",
       "1996    1722\n",
       "1997    1577\n",
       "1998    1353\n",
       "1999    1388\n",
       "2000    1704\n",
       "2001    1713\n",
       "2002    1624\n",
       "2003    1835\n",
       "2004    1858\n",
       "2005    2104\n",
       "2006    2106\n",
       "2007    2175\n",
       "2008    2265\n",
       "2009    2466\n",
       "2010    2596\n",
       "2011    2541\n",
       "2012    2890\n",
       "2013    2837\n",
       "2014    2911\n",
       "2015    2841\n",
       "2016    2696\n",
       "2017    2861\n",
       "2018    1916\n",
       "2019       3\n",
       "NaN        2\n",
       "Name: Year, dtype: int64"
      ]
     },
     "execution_count": 62,
     "metadata": {},
     "output_type": "execute_result"
    }
   ],
   "source": [
    "df['Year'].value_counts(dropna=False).sort_index()"
   ]
  },
  {
   "cell_type": "markdown",
   "metadata": {},
   "source": [
    "Jetzt plotten wir die Gesamtsumme der gesprochenen Gelder nach Jahr. Zuerst für die Schweiz ..."
   ]
  },
  {
   "cell_type": "code",
   "execution_count": 63,
   "metadata": {},
   "outputs": [
    {
     "data": {
      "text/plain": [
       "<matplotlib.axes._subplots.AxesSubplot at 0x11a213208>"
      ]
     },
     "execution_count": 63,
     "metadata": {},
     "output_type": "execute_result"
    },
    {
     "data": {
      "image/png": "[encoded data removed]",
      "text/plain": [
       "<Figure size 864x432 with 1 Axes>"
      ]
     },
     "metadata": {
      "needs_background": "light"
     },
     "output_type": "display_data"
    }
   ],
   "source": [
    "df[df['Country Type'] == \"Switzerland\"].groupby('Year')['Approved Amount'].sum().plot(figsize=(12,6))"
   ]
  },
  {
   "cell_type": "markdown",
   "metadata": {},
   "source": [
    "... dann für die anderen Länder ..."
   ]
  },
  {
   "cell_type": "code",
   "execution_count": 64,
   "metadata": {},
   "outputs": [
    {
     "data": {
      "text/plain": [
       "<matplotlib.axes._subplots.AxesSubplot at 0x11a35efd0>"
      ]
     },
     "execution_count": 64,
     "metadata": {},
     "output_type": "execute_result"
    },
    {
     "data": {
      "image/png": "[encoded data removed]",
      "text/plain": [
       "<Figure size 864x432 with 1 Axes>"
      ]
     },
     "metadata": {
      "needs_background": "light"
     },
     "output_type": "display_data"
    }
   ],
   "source": [
    "df[df['Country Type'] == \"Other\"].groupby('Year')['Approved Amount'].sum().plot(figsize=(12,6))"
   ]
  },
  {
   "cell_type": "markdown",
   "metadata": {},
   "source": [
    "... und schliesslich für beide Ländertypen:"
   ]
  },
  {
   "cell_type": "markdown",
   "metadata": {},
   "source": [
    "### Methode 1: Zwei verschiedene Linien einzeichnen"
   ]
  },
  {
   "cell_type": "markdown",
   "metadata": {},
   "source": [
    "Die sicherste Methode, um mehrere Kurven auf derselben Grafik darzustellen, ist `ax=`.\n",
    "\n",
    "Wir speichern erste einen Plot als \"chart1\" und sagen dem zweiten Plot dann, sich zu \"chart1\" hinzuzugesellen."
   ]
  },
  {
   "cell_type": "code",
   "execution_count": 65,
   "metadata": {},
   "outputs": [
    {
     "data": {
      "text/plain": [
       "<matplotlib.axes._subplots.AxesSubplot at 0x11a600c50>"
      ]
     },
     "execution_count": 65,
     "metadata": {},
     "output_type": "execute_result"
    },
    {
     "data": {
      "image/png": "[encoded data removed]",
      "text/plain": [
       "<Figure size 864x432 with 1 Axes>"
      ]
     },
     "metadata": {
      "needs_background": "light"
     },
     "output_type": "display_data"
    }
   ],
   "source": [
    "chart1 = df[df['Country Type'] == \"Switzerland\"].groupby('Year')['Approved Amount'].sum().plot(figsize=(12,6))\n",
    "\n",
    "df[df['Country Type'] == \"Other\"].groupby('Year')['Approved Amount'].sum().plot(ax=chart1)"
   ]
  },
  {
   "cell_type": "markdown",
   "metadata": {},
   "source": [
    "### Methode 2: Doppelt groupby, unstack"
   ]
  },
  {
   "cell_type": "markdown",
   "metadata": {},
   "source": [
    "In diesem Fall gibt es allerdings noch eine elegantere Variante. Und zwar mit `groupby()`.\n",
    "\n",
    "Diese Methode funktioniert nicht nur mit einem Level, sondern auch mit zwei. Die Summierung wird einerseits über die Jahre (\"Years\") gemacht und andererseits für die einzelenen Ländertypen (\"Country Types\"):"
   ]
  },
  {
   "cell_type": "code",
   "execution_count": 66,
   "metadata": {},
   "outputs": [
    {
     "data": {
      "text/plain": [
       "Year  Country Type\n",
       "1975  Other           1.422727e+06\n",
       "      Switzerland     3.074641e+07\n",
       "1976  Other           5.798550e+06\n",
       "      Switzerland     9.121748e+07\n",
       "1977  Other           4.920319e+06\n",
       "                          ...     \n",
       "2017  Switzerland     8.762168e+08\n",
       "2018  Other           7.937350e+05\n",
       "      Switzerland     7.328224e+08\n",
       "2019  Other           0.000000e+00\n",
       "      Switzerland     5.689200e+04\n",
       "Name: Approved Amount, Length: 90, dtype: float64"
      ]
     },
     "execution_count": 66,
     "metadata": {},
     "output_type": "execute_result"
    }
   ],
   "source": [
    "df.groupby(['Year', 'Country Type'])['Approved Amount'].sum()"
   ]
  },
  {
   "cell_type": "markdown",
   "metadata": {},
   "source": [
    "Um diese Werte zu plotten, müssen wir Pandas die Tabelle allerdings etwas anders zur Verfügung stellen: im Wide-Format (dazu später noch mehr). Wir können dazu die Funktion `unstack()` verwenden:"
   ]
  },
  {
   "cell_type": "code",
   "execution_count": 67,
   "metadata": {},
   "outputs": [
    {
     "data": {
      "text/html": [
       "<div>\n",
       "<style scoped>\n",
       "    .dataframe tbody tr th:only-of-type {\n",
       "        vertical-align: middle;\n",
       "    }\n",
       "\n",
       "    .dataframe tbody tr th {\n",
       "        vertical-align: top;\n",
       "    }\n",
       "\n",
       "    .dataframe thead th {\n",
       "        text-align: right;\n",
       "    }\n",
       "</style>\n",
       "<table border=\"1\" class=\"dataframe\">\n",
       "  <thead>\n",
       "    <tr style=\"text-align: right;\">\n",
       "      <th>Country Type</th>\n",
       "      <th>Other</th>\n",
       "      <th>Switzerland</th>\n",
       "    </tr>\n",
       "    <tr>\n",
       "      <th>Year</th>\n",
       "      <th></th>\n",
       "      <th></th>\n",
       "    </tr>\n",
       "  </thead>\n",
       "  <tbody>\n",
       "    <tr>\n",
       "      <td>1975</td>\n",
       "      <td>1422727.00</td>\n",
       "      <td>3.074641e+07</td>\n",
       "    </tr>\n",
       "    <tr>\n",
       "      <td>1976</td>\n",
       "      <td>5798550.00</td>\n",
       "      <td>9.121748e+07</td>\n",
       "    </tr>\n",
       "    <tr>\n",
       "      <td>1977</td>\n",
       "      <td>4920319.00</td>\n",
       "      <td>1.114744e+08</td>\n",
       "    </tr>\n",
       "    <tr>\n",
       "      <td>1978</td>\n",
       "      <td>5344733.00</td>\n",
       "      <td>1.036575e+08</td>\n",
       "    </tr>\n",
       "    <tr>\n",
       "      <td>1979</td>\n",
       "      <td>7064763.00</td>\n",
       "      <td>1.167330e+08</td>\n",
       "    </tr>\n",
       "    <tr>\n",
       "      <td>1980</td>\n",
       "      <td>3904041.00</td>\n",
       "      <td>1.175633e+08</td>\n",
       "    </tr>\n",
       "    <tr>\n",
       "      <td>1981</td>\n",
       "      <td>6689602.00</td>\n",
       "      <td>1.116979e+08</td>\n",
       "    </tr>\n",
       "    <tr>\n",
       "      <td>1982</td>\n",
       "      <td>5339538.00</td>\n",
       "      <td>1.135752e+08</td>\n",
       "    </tr>\n",
       "    <tr>\n",
       "      <td>1983</td>\n",
       "      <td>6220266.00</td>\n",
       "      <td>1.370960e+08</td>\n",
       "    </tr>\n",
       "    <tr>\n",
       "      <td>1984</td>\n",
       "      <td>5942977.00</td>\n",
       "      <td>1.268423e+08</td>\n",
       "    </tr>\n",
       "    <tr>\n",
       "      <td>1985</td>\n",
       "      <td>6240945.00</td>\n",
       "      <td>1.402211e+08</td>\n",
       "    </tr>\n",
       "    <tr>\n",
       "      <td>1986</td>\n",
       "      <td>6151577.00</td>\n",
       "      <td>1.628847e+08</td>\n",
       "    </tr>\n",
       "    <tr>\n",
       "      <td>1987</td>\n",
       "      <td>9358608.00</td>\n",
       "      <td>1.559327e+08</td>\n",
       "    </tr>\n",
       "    <tr>\n",
       "      <td>1988</td>\n",
       "      <td>10323542.00</td>\n",
       "      <td>1.827069e+08</td>\n",
       "    </tr>\n",
       "    <tr>\n",
       "      <td>1989</td>\n",
       "      <td>20723839.00</td>\n",
       "      <td>2.152159e+08</td>\n",
       "    </tr>\n",
       "    <tr>\n",
       "      <td>1990</td>\n",
       "      <td>12292042.70</td>\n",
       "      <td>2.316729e+08</td>\n",
       "    </tr>\n",
       "    <tr>\n",
       "      <td>1991</td>\n",
       "      <td>8775912.00</td>\n",
       "      <td>2.390177e+08</td>\n",
       "    </tr>\n",
       "    <tr>\n",
       "      <td>1992</td>\n",
       "      <td>7044038.00</td>\n",
       "      <td>2.726861e+08</td>\n",
       "    </tr>\n",
       "    <tr>\n",
       "      <td>1993</td>\n",
       "      <td>13082810.25</td>\n",
       "      <td>2.915037e+08</td>\n",
       "    </tr>\n",
       "    <tr>\n",
       "      <td>1994</td>\n",
       "      <td>14775793.00</td>\n",
       "      <td>2.570389e+08</td>\n",
       "    </tr>\n",
       "    <tr>\n",
       "      <td>1995</td>\n",
       "      <td>14559791.00</td>\n",
       "      <td>2.277817e+08</td>\n",
       "    </tr>\n",
       "    <tr>\n",
       "      <td>1996</td>\n",
       "      <td>22039965.30</td>\n",
       "      <td>3.760450e+08</td>\n",
       "    </tr>\n",
       "    <tr>\n",
       "      <td>1997</td>\n",
       "      <td>18495203.85</td>\n",
       "      <td>2.952179e+08</td>\n",
       "    </tr>\n",
       "    <tr>\n",
       "      <td>1998</td>\n",
       "      <td>8314235.00</td>\n",
       "      <td>2.483227e+08</td>\n",
       "    </tr>\n",
       "    <tr>\n",
       "      <td>1999</td>\n",
       "      <td>9497990.00</td>\n",
       "      <td>2.281827e+08</td>\n",
       "    </tr>\n",
       "    <tr>\n",
       "      <td>2000</td>\n",
       "      <td>19663330.87</td>\n",
       "      <td>3.288880e+08</td>\n",
       "    </tr>\n",
       "    <tr>\n",
       "      <td>2001</td>\n",
       "      <td>16096495.91</td>\n",
       "      <td>3.694170e+08</td>\n",
       "    </tr>\n",
       "    <tr>\n",
       "      <td>2002</td>\n",
       "      <td>13134329.40</td>\n",
       "      <td>3.126409e+08</td>\n",
       "    </tr>\n",
       "    <tr>\n",
       "      <td>2003</td>\n",
       "      <td>12240718.30</td>\n",
       "      <td>3.142334e+08</td>\n",
       "    </tr>\n",
       "    <tr>\n",
       "      <td>2004</td>\n",
       "      <td>5697943.00</td>\n",
       "      <td>3.142732e+08</td>\n",
       "    </tr>\n",
       "    <tr>\n",
       "      <td>2005</td>\n",
       "      <td>25902200.22</td>\n",
       "      <td>4.169203e+08</td>\n",
       "    </tr>\n",
       "    <tr>\n",
       "      <td>2006</td>\n",
       "      <td>11686525.82</td>\n",
       "      <td>3.781496e+08</td>\n",
       "    </tr>\n",
       "    <tr>\n",
       "      <td>2007</td>\n",
       "      <td>9623660.00</td>\n",
       "      <td>3.810853e+08</td>\n",
       "    </tr>\n",
       "    <tr>\n",
       "      <td>2008</td>\n",
       "      <td>15918413.44</td>\n",
       "      <td>4.305535e+08</td>\n",
       "    </tr>\n",
       "    <tr>\n",
       "      <td>2009</td>\n",
       "      <td>11561098.35</td>\n",
       "      <td>7.122465e+08</td>\n",
       "    </tr>\n",
       "    <tr>\n",
       "      <td>2010</td>\n",
       "      <td>27840184.05</td>\n",
       "      <td>6.807972e+08</td>\n",
       "    </tr>\n",
       "    <tr>\n",
       "      <td>2011</td>\n",
       "      <td>25722450.84</td>\n",
       "      <td>5.574072e+08</td>\n",
       "    </tr>\n",
       "    <tr>\n",
       "      <td>2012</td>\n",
       "      <td>24186922.27</td>\n",
       "      <td>6.268604e+08</td>\n",
       "    </tr>\n",
       "    <tr>\n",
       "      <td>2013</td>\n",
       "      <td>14276419.30</td>\n",
       "      <td>6.676114e+08</td>\n",
       "    </tr>\n",
       "    <tr>\n",
       "      <td>2014</td>\n",
       "      <td>14682745.00</td>\n",
       "      <td>9.500878e+08</td>\n",
       "    </tr>\n",
       "    <tr>\n",
       "      <td>2015</td>\n",
       "      <td>31104843.00</td>\n",
       "      <td>7.695400e+08</td>\n",
       "    </tr>\n",
       "    <tr>\n",
       "      <td>2016</td>\n",
       "      <td>8741469.33</td>\n",
       "      <td>6.701993e+08</td>\n",
       "    </tr>\n",
       "    <tr>\n",
       "      <td>2017</td>\n",
       "      <td>7685019.00</td>\n",
       "      <td>8.762168e+08</td>\n",
       "    </tr>\n",
       "    <tr>\n",
       "      <td>2018</td>\n",
       "      <td>793735.00</td>\n",
       "      <td>7.328224e+08</td>\n",
       "    </tr>\n",
       "    <tr>\n",
       "      <td>2019</td>\n",
       "      <td>0.00</td>\n",
       "      <td>5.689200e+04</td>\n",
       "    </tr>\n",
       "  </tbody>\n",
       "</table>\n",
       "</div>"
      ],
      "text/plain": [
       "Country Type        Other   Switzerland\n",
       "Year                                   \n",
       "1975           1422727.00  3.074641e+07\n",
       "1976           5798550.00  9.121748e+07\n",
       "1977           4920319.00  1.114744e+08\n",
       "1978           5344733.00  1.036575e+08\n",
       "1979           7064763.00  1.167330e+08\n",
       "1980           3904041.00  1.175633e+08\n",
       "1981           6689602.00  1.116979e+08\n",
       "1982           5339538.00  1.135752e+08\n",
       "1983           6220266.00  1.370960e+08\n",
       "1984           5942977.00  1.268423e+08\n",
       "1985           6240945.00  1.402211e+08\n",
       "1986           6151577.00  1.628847e+08\n",
       "1987           9358608.00  1.559327e+08\n",
       "1988          10323542.00  1.827069e+08\n",
       "1989          20723839.00  2.152159e+08\n",
       "1990          12292042.70  2.316729e+08\n",
       "1991           8775912.00  2.390177e+08\n",
       "1992           7044038.00  2.726861e+08\n",
       "1993          13082810.25  2.915037e+08\n",
       "1994          14775793.00  2.570389e+08\n",
       "1995          14559791.00  2.277817e+08\n",
       "1996          22039965.30  3.760450e+08\n",
       "1997          18495203.85  2.952179e+08\n",
       "1998           8314235.00  2.483227e+08\n",
       "1999           9497990.00  2.281827e+08\n",
       "2000          19663330.87  3.288880e+08\n",
       "2001          16096495.91  3.694170e+08\n",
       "2002          13134329.40  3.126409e+08\n",
       "2003          12240718.30  3.142334e+08\n",
       "2004           5697943.00  3.142732e+08\n",
       "2005          25902200.22  4.169203e+08\n",
       "2006          11686525.82  3.781496e+08\n",
       "2007           9623660.00  3.810853e+08\n",
       "2008          15918413.44  4.305535e+08\n",
       "2009          11561098.35  7.122465e+08\n",
       "2010          27840184.05  6.807972e+08\n",
       "2011          25722450.84  5.574072e+08\n",
       "2012          24186922.27  6.268604e+08\n",
       "2013          14276419.30  6.676114e+08\n",
       "2014          14682745.00  9.500878e+08\n",
       "2015          31104843.00  7.695400e+08\n",
       "2016           8741469.33  6.701993e+08\n",
       "2017           7685019.00  8.762168e+08\n",
       "2018            793735.00  7.328224e+08\n",
       "2019                 0.00  5.689200e+04"
      ]
     },
     "execution_count": 67,
     "metadata": {},
     "output_type": "execute_result"
    }
   ],
   "source": [
    "df.groupby(['Year', 'Country Type'])['Approved Amount'].sum().unstack()"
   ]
  },
  {
   "cell_type": "markdown",
   "metadata": {},
   "source": [
    "Letzter Schritt: `plot()`"
   ]
  },
  {
   "cell_type": "code",
   "execution_count": 68,
   "metadata": {},
   "outputs": [
    {
     "data": {
      "text/plain": [
       "<matplotlib.axes._subplots.AxesSubplot at 0x117457940>"
      ]
     },
     "execution_count": 68,
     "metadata": {},
     "output_type": "execute_result"
    },
    {
     "data": {
      "image/png": "[encoded data removed]",
      "text/plain": [
       "<Figure size 864x432 with 1 Axes>"
      ]
     },
     "metadata": {
      "needs_background": "light"
     },
     "output_type": "display_data"
    }
   ],
   "source": [
    "df.groupby(['Year', 'Country Type'])['Approved Amount'].sum().unstack().plot(figsize=(12,6))"
   ]
  },
  {
   "cell_type": "markdown",
   "metadata": {},
   "source": [
    "**Quiz:** Plotten Sie den durchschnittlichen Betrag, den Universitäten, Fachhochschulen, Spitäler und andere Institutionen über die Jahre erhalten haben - alles auf derselben Grafik. Benutzen Sie dazu wieder das Dataframe \"df_ch_classfied\" – Achtung, Sie müssen zuerst wieder eine Jahresspalte erstellen."
   ]
  },
  {
   "cell_type": "code",
   "execution_count": 69,
   "metadata": {},
   "outputs": [],
   "source": [
    "# Spalte 'Year' in df_ch_classified erstellen\n",
    "df_ch_classified['Year'] = df_ch_classified['Start Date'].str[6:]"
   ]
  },
  {
   "cell_type": "code",
   "execution_count": 70,
   "metadata": {},
   "outputs": [
    {
     "data": {
      "text/plain": [
       "Year  New Type      \n",
       "1975  Other             174150.941176\n",
       "      Spital             76234.750000\n",
       "      Universität       161652.364706\n",
       "1976  Other             230368.245283\n",
       "      Spital             62150.000000\n",
       "                            ...      \n",
       "2018  Fachhochschule    259342.129630\n",
       "      Other             444559.290168\n",
       "      Spital            861597.750000\n",
       "      Universität       545241.954403\n",
       "2019  Universität        56892.000000\n",
       "Name: Approved Amount, Length: 164, dtype: float64"
      ]
     },
     "execution_count": 70,
     "metadata": {},
     "output_type": "execute_result"
    }
   ],
   "source": [
    "# Liste, nach Jahr und New Type gruppiert\n",
    "df_ch_classified.groupby(['Year', 'New Type'])['Approved Amount'].mean()"
   ]
  },
  {
   "cell_type": "code",
   "execution_count": 71,
   "metadata": {},
   "outputs": [
    {
     "data": {
      "text/plain": [
       "<matplotlib.axes._subplots.AxesSubplot at 0x11ba67978>"
      ]
     },
     "execution_count": 71,
     "metadata": {},
     "output_type": "execute_result"
    },
    {
     "data": {
      "image/png": "[encoded data removed]",
      "text/plain": [
       "<Figure size 864x432 with 1 Axes>"
      ]
     },
     "metadata": {
      "needs_background": "light"
     },
     "output_type": "display_data"
    }
   ],
   "source": [
    "# Plot\n",
    "df_ch_classified.groupby(['Year', 'New Type'])['Approved Amount'].mean().unstack().plot(figsize=(12,6))"
   ]
  },
  {
   "cell_type": "markdown",
   "metadata": {},
   "source": [
    "**Schlussfrage:** Haben wir nun bereits eine Story gefunden? Wenn ja, was könnte sie sein? Wenn nein, welches wären weitere Auswertungen, die man basierend auf diesen Daten machen könnte?"
   ]
  },
  {
   "cell_type": "code",
   "execution_count": 72,
   "metadata": {},
   "outputs": [],
   "source": [
    "#Antwort in Textform...\n",
    "#Zum Beispiel: Auswertung der Profile von einzelnen Forschern."
   ]
  },
  {
   "cell_type": "code",
   "execution_count": 73,
   "metadata": {},
   "outputs": [
    {
     "data": {
      "text/plain": [
       "Kneubühl Fritz             47\n",
       "Güntherodt Hans-Joachim    47\n",
       "Pestalozzi Karl            46\n",
       "Günter Peter               41\n",
       "Stocker Thomas             39\n",
       "                           ..\n",
       "Burri Renate                1\n",
       "Schläppy Romain             1\n",
       "Giacometti Marco            1\n",
       "Haffter Pascal              1\n",
       "Gallo Fernanda              1\n",
       "Name: Responsible Applicant, Length: 26321, dtype: int64"
      ]
     },
     "execution_count": 73,
     "metadata": {},
     "output_type": "execute_result"
    }
   ],
   "source": [
    "df['Responsible Applicant'].value_counts()"
   ]
  },
  {
   "cell_type": "code",
   "execution_count": 74,
   "metadata": {},
   "outputs": [
    {
     "data": {
      "text/plain": [
       "<matplotlib.axes._subplots.AxesSubplot at 0x11a60cf28>"
      ]
     },
     "execution_count": 74,
     "metadata": {},
     "output_type": "execute_result"
    },
    {
     "data": {
      "image/png": "[encoded data removed]",
      "text/plain": [
       "<Figure size 432x288 with 1 Axes>"
      ]
     },
     "metadata": {
      "needs_background": "light"
     },
     "output_type": "display_data"
    }
   ],
   "source": [
    "df[df['Responsible Applicant'] == 'Güntherodt Hans-Joachim'].groupby('Year')['Approved Amount'].sum().plot()"
   ]
  },
  {
   "cell_type": "markdown",
   "metadata": {},
   "source": [
    "# Übung"
   ]
  },
  {
   "cell_type": "markdown",
   "metadata": {},
   "source": [
    "Wir klassifizieren die Projekte nun nach Forschungsdisziplin und werten aus, welche Disziplinen zu welchem Zeitpunkt wie viel Geld gekriegt haben (wir wenden also Methode 3 an)."
   ]
  },
  {
   "cell_type": "markdown",
   "metadata": {},
   "source": [
    "**Schritt 1:** Wir erstellen eine Liste der einzigartigen Einträge im Datenfeld \"Discipline Name\" und speichern sie als csv-Datei ab. (Arbeiten Sie mit dem dataframe \"df_ch\")"
   ]
  },
  {
   "cell_type": "code",
   "execution_count": 75,
   "metadata": {},
   "outputs": [
    {
     "data": {
      "text/html": [
       "<div>\n",
       "<style scoped>\n",
       "    .dataframe tbody tr th:only-of-type {\n",
       "        vertical-align: middle;\n",
       "    }\n",
       "\n",
       "    .dataframe tbody tr th {\n",
       "        vertical-align: top;\n",
       "    }\n",
       "\n",
       "    .dataframe thead th {\n",
       "        text-align: right;\n",
       "    }\n",
       "</style>\n",
       "<table border=\"1\" class=\"dataframe\">\n",
       "  <thead>\n",
       "    <tr style=\"text-align: right;\">\n",
       "      <th></th>\n",
       "      <th>0</th>\n",
       "    </tr>\n",
       "  </thead>\n",
       "  <tbody>\n",
       "    <tr>\n",
       "      <td>0</td>\n",
       "      <td>Educational science and Pedagogy</td>\n",
       "    </tr>\n",
       "    <tr>\n",
       "      <td>1</td>\n",
       "      <td>Philosophy</td>\n",
       "    </tr>\n",
       "    <tr>\n",
       "      <td>2</td>\n",
       "      <td>Swiss history</td>\n",
       "    </tr>\n",
       "    <tr>\n",
       "      <td>3</td>\n",
       "      <td>Ancient history and Classical studies</td>\n",
       "    </tr>\n",
       "    <tr>\n",
       "      <td>4</td>\n",
       "      <td>Economics</td>\n",
       "    </tr>\n",
       "    <tr>\n",
       "      <td>...</td>\n",
       "      <td>...</td>\n",
       "    </tr>\n",
       "    <tr>\n",
       "      <td>153</td>\n",
       "      <td>Arts</td>\n",
       "    </tr>\n",
       "    <tr>\n",
       "      <td>154</td>\n",
       "      <td>Music, Theatre</td>\n",
       "    </tr>\n",
       "    <tr>\n",
       "      <td>155</td>\n",
       "      <td>Applied psychology</td>\n",
       "    </tr>\n",
       "    <tr>\n",
       "      <td>156</td>\n",
       "      <td>Applied linguistics</td>\n",
       "    </tr>\n",
       "    <tr>\n",
       "      <td>157</td>\n",
       "      <td>Interdisciplinary</td>\n",
       "    </tr>\n",
       "  </tbody>\n",
       "</table>\n",
       "<p>158 rows × 1 columns</p>\n",
       "</div>"
      ],
      "text/plain": [
       "                                         0\n",
       "0         Educational science and Pedagogy\n",
       "1                               Philosophy\n",
       "2                            Swiss history\n",
       "3    Ancient history and Classical studies\n",
       "4                                Economics\n",
       "..                                     ...\n",
       "153                                   Arts\n",
       "154                         Music, Theatre\n",
       "155                     Applied psychology\n",
       "156                    Applied linguistics\n",
       "157                      Interdisciplinary\n",
       "\n",
       "[158 rows x 1 columns]"
      ]
     },
     "execution_count": 75,
     "metadata": {},
     "output_type": "execute_result"
    }
   ],
   "source": [
    "#Dataframe aus einzigartigen Disziplinennamen erstellen\n",
    "df_disciplines = pd.DataFrame(df_ch['Discipline Name'].unique())\n",
    "df_disciplines"
   ]
  },
  {
   "cell_type": "code",
   "execution_count": 76,
   "metadata": {},
   "outputs": [],
   "source": [
    "# Dataframe als csv speichern\n",
    "df_disciplines.to_csv('dataprojects/SNF/disziplinen.csv', index=False)"
   ]
  },
  {
   "cell_type": "markdown",
   "metadata": {},
   "source": [
    "**Schritt 2:** Wir bearbeiten das csv-File extern und klassifizieren nach unserer Wahl"
   ]
  },
  {
   "cell_type": "code",
   "execution_count": 77,
   "metadata": {},
   "outputs": [],
   "source": [
    "#extern bearbeiten..."
   ]
  },
  {
   "cell_type": "markdown",
   "metadata": {},
   "source": [
    "**Schritt 3:** Wir fügen die Klassifizierung der Disziplinen in unsere Datenliste (Arbeiten Sie mit df) ein"
   ]
  },
  {
   "cell_type": "code",
   "execution_count": 78,
   "metadata": {},
   "outputs": [
    {
     "data": {
      "text/html": [
       "<div>\n",
       "<style scoped>\n",
       "    .dataframe tbody tr th:only-of-type {\n",
       "        vertical-align: middle;\n",
       "    }\n",
       "\n",
       "    .dataframe tbody tr th {\n",
       "        vertical-align: top;\n",
       "    }\n",
       "\n",
       "    .dataframe thead th {\n",
       "        text-align: right;\n",
       "    }\n",
       "</style>\n",
       "<table border=\"1\" class=\"dataframe\">\n",
       "  <thead>\n",
       "    <tr style=\"text-align: right;\">\n",
       "      <th></th>\n",
       "      <th>Discipline Name</th>\n",
       "      <th>Discipline Type</th>\n",
       "    </tr>\n",
       "  </thead>\n",
       "  <tbody>\n",
       "    <tr>\n",
       "      <td>0</td>\n",
       "      <td>Educational science and Pedagogy</td>\n",
       "      <td>Social Sciences</td>\n",
       "    </tr>\n",
       "    <tr>\n",
       "      <td>1</td>\n",
       "      <td>Philosophy</td>\n",
       "      <td>Social Sciences</td>\n",
       "    </tr>\n",
       "    <tr>\n",
       "      <td>2</td>\n",
       "      <td>Swiss history</td>\n",
       "      <td>Social Sciences</td>\n",
       "    </tr>\n",
       "  </tbody>\n",
       "</table>\n",
       "</div>"
      ],
      "text/plain": [
       "                    Discipline Name  Discipline Type\n",
       "0  Educational science and Pedagogy  Social Sciences\n",
       "1                        Philosophy  Social Sciences\n",
       "2                     Swiss history  Social Sciences"
      ]
     },
     "execution_count": 78,
     "metadata": {},
     "output_type": "execute_result"
    }
   ],
   "source": [
    "# Einlesen des bearbeiteten csv-Files\n",
    "df_disciplines_classified = pd.read_csv('dataprojects/SNF/disziplinen-klassifiziert.csv')\n",
    "df_disciplines_classified.head(3)"
   ]
  },
  {
   "cell_type": "code",
   "execution_count": 79,
   "metadata": {},
   "outputs": [
    {
     "data": {
      "text/html": [
       "<div>\n",
       "<style scoped>\n",
       "    .dataframe tbody tr th:only-of-type {\n",
       "        vertical-align: middle;\n",
       "    }\n",
       "\n",
       "    .dataframe tbody tr th {\n",
       "        vertical-align: top;\n",
       "    }\n",
       "\n",
       "    .dataframe thead th {\n",
       "        text-align: right;\n",
       "    }\n",
       "</style>\n",
       "<table border=\"1\" class=\"dataframe\">\n",
       "  <thead>\n",
       "    <tr style=\"text-align: right;\">\n",
       "      <th></th>\n",
       "      <th>Project Number</th>\n",
       "      <th>Project Number String</th>\n",
       "      <th>Project Title</th>\n",
       "      <th>Project Title English</th>\n",
       "      <th>Responsible Applicant</th>\n",
       "      <th>Funding Instrument</th>\n",
       "      <th>Funding Instrument Hierarchy</th>\n",
       "      <th>Institution</th>\n",
       "      <th>Institution Country</th>\n",
       "      <th>University</th>\n",
       "      <th>Discipline Number</th>\n",
       "      <th>Discipline Name</th>\n",
       "      <th>Discipline Name Hierarchy</th>\n",
       "      <th>All disciplines</th>\n",
       "      <th>Start Date</th>\n",
       "      <th>End Date</th>\n",
       "      <th>Approved Amount</th>\n",
       "      <th>Keywords</th>\n",
       "      <th>Institution Type</th>\n",
       "      <th>Discipline Type</th>\n",
       "    </tr>\n",
       "  </thead>\n",
       "  <tbody>\n",
       "    <tr>\n",
       "      <td>0</td>\n",
       "      <td>4</td>\n",
       "      <td>1000-000004</td>\n",
       "      <td>Batterie de tests à l'usage des enseignants po...</td>\n",
       "      <td>NaN</td>\n",
       "      <td>Massarenti Léonard</td>\n",
       "      <td>Project funding (Div. I-III)</td>\n",
       "      <td>Project funding</td>\n",
       "      <td>Faculté de Psychologie et des Sciences de l'Ed...</td>\n",
       "      <td>Switzerland</td>\n",
       "      <td>University of Geneva - GE</td>\n",
       "      <td>10104</td>\n",
       "      <td>Educational science and Pedagogy</td>\n",
       "      <td>Humanities and Social Sciences;Psychology, edu...</td>\n",
       "      <td>10104</td>\n",
       "      <td>01.10.1975</td>\n",
       "      <td>30.09.1976</td>\n",
       "      <td>41022.0</td>\n",
       "      <td>NaN</td>\n",
       "      <td>University</td>\n",
       "      <td>Social Sciences</td>\n",
       "    </tr>\n",
       "    <tr>\n",
       "      <td>1</td>\n",
       "      <td>21</td>\n",
       "      <td>1000-000021</td>\n",
       "      <td>Struktur und Funktion didaktischer Bezugssyste...</td>\n",
       "      <td>NaN</td>\n",
       "      <td>Santini Bruno</td>\n",
       "      <td>Project funding (Div. I-III)</td>\n",
       "      <td>Project funding</td>\n",
       "      <td>Forschungszentrum FAL</td>\n",
       "      <td>Switzerland</td>\n",
       "      <td>University of Fribourg - FR</td>\n",
       "      <td>10104</td>\n",
       "      <td>Educational science and Pedagogy</td>\n",
       "      <td>Humanities and Social Sciences;Psychology, edu...</td>\n",
       "      <td>10104</td>\n",
       "      <td>01.10.1975</td>\n",
       "      <td>30.09.1977</td>\n",
       "      <td>204018.0</td>\n",
       "      <td>NaN</td>\n",
       "      <td>University</td>\n",
       "      <td>Social Sciences</td>\n",
       "    </tr>\n",
       "  </tbody>\n",
       "</table>\n",
       "</div>"
      ],
      "text/plain": [
       "   Project Number Project Number String  \\\n",
       "0               4           1000-000004   \n",
       "1              21           1000-000021   \n",
       "\n",
       "                                       Project Title Project Title English  \\\n",
       "0  Batterie de tests à l'usage des enseignants po...                   NaN   \n",
       "1  Struktur und Funktion didaktischer Bezugssyste...                   NaN   \n",
       "\n",
       "  Responsible Applicant            Funding Instrument  \\\n",
       "0    Massarenti Léonard  Project funding (Div. I-III)   \n",
       "1         Santini Bruno  Project funding (Div. I-III)   \n",
       "\n",
       "  Funding Instrument Hierarchy  \\\n",
       "0              Project funding   \n",
       "1              Project funding   \n",
       "\n",
       "                                         Institution Institution Country  \\\n",
       "0  Faculté de Psychologie et des Sciences de l'Ed...         Switzerland   \n",
       "1                              Forschungszentrum FAL         Switzerland   \n",
       "\n",
       "                    University  Discipline Number  \\\n",
       "0    University of Geneva - GE              10104   \n",
       "1  University of Fribourg - FR              10104   \n",
       "\n",
       "                    Discipline Name  \\\n",
       "0  Educational science and Pedagogy   \n",
       "1  Educational science and Pedagogy   \n",
       "\n",
       "                           Discipline Name Hierarchy All disciplines  \\\n",
       "0  Humanities and Social Sciences;Psychology, edu...           10104   \n",
       "1  Humanities and Social Sciences;Psychology, edu...           10104   \n",
       "\n",
       "   Start Date    End Date  Approved Amount Keywords Institution Type  \\\n",
       "0  01.10.1975  30.09.1976          41022.0      NaN       University   \n",
       "1  01.10.1975  30.09.1977         204018.0      NaN       University   \n",
       "\n",
       "   Discipline Type  \n",
       "0  Social Sciences  \n",
       "1  Social Sciences  "
      ]
     },
     "execution_count": 79,
     "metadata": {},
     "output_type": "execute_result"
    }
   ],
   "source": [
    "# Verbinden Sie das dataframe \"df_ch\" mit der Klassifizierung, abspeichern unter neuem dataframe df_ch_classified\n",
    "df_ch_classified = df_ch.merge(df_disciplines_classified, how='inner', on='Discipline Name')\n",
    "df_ch_classified.head(2)"
   ]
  },
  {
   "cell_type": "markdown",
   "metadata": {},
   "source": [
    "**Schritt 4:** Auswertungen"
   ]
  },
  {
   "cell_type": "markdown",
   "metadata": {},
   "source": [
    "- Wie viele Projekte von welchem Disziplinen-Typ wurden durchgeführt?"
   ]
  },
  {
   "cell_type": "code",
   "execution_count": 80,
   "metadata": {},
   "outputs": [
    {
     "data": {
      "text/plain": [
       "Natural Sciences    20637\n",
       "Medicine            15365\n",
       "Social Sciences     15356\n",
       "Name: Discipline Type, dtype: int64"
      ]
     },
     "execution_count": 80,
     "metadata": {},
     "output_type": "execute_result"
    }
   ],
   "source": [
    "df_ch_classified['Discipline Type'].value_counts()"
   ]
  },
  {
   "cell_type": "markdown",
   "metadata": {},
   "source": [
    "- Welche Disziplinen-Typen haben meisten Geld gekriegt?"
   ]
  },
  {
   "cell_type": "code",
   "execution_count": 81,
   "metadata": {},
   "outputs": [
    {
     "data": {
      "text/plain": [
       "Discipline Type\n",
       "Medicine            5.733083e+09\n",
       "Natural Sciences    6.165316e+09\n",
       "Social Sciences     3.176642e+09\n",
       "Name: Approved Amount, dtype: float64"
      ]
     },
     "execution_count": 81,
     "metadata": {},
     "output_type": "execute_result"
    }
   ],
   "source": [
    "df_ch_classified.groupby('Discipline Type')['Approved Amount'].sum()"
   ]
  },
  {
   "cell_type": "markdown",
   "metadata": {},
   "source": [
    "- Wie viel kosten Projekte der Disziplinen-Typen im Durchschnitt? Im Median?"
   ]
  },
  {
   "cell_type": "code",
   "execution_count": 82,
   "metadata": {},
   "outputs": [
    {
     "data": {
      "text/plain": [
       "Discipline Type\n",
       "Medicine            374222.132231\n",
       "Natural Sciences    299388.905967\n",
       "Social Sciences     208031.589618\n",
       "Name: Approved Amount, dtype: float64"
      ]
     },
     "execution_count": 82,
     "metadata": {},
     "output_type": "execute_result"
    }
   ],
   "source": [
    "df_ch_classified.groupby('Discipline Type')['Approved Amount'].mean()"
   ]
  },
  {
   "cell_type": "code",
   "execution_count": 83,
   "metadata": {},
   "outputs": [
    {
     "data": {
      "text/plain": [
       "Discipline Type\n",
       "Medicine            260842.0\n",
       "Natural Sciences    196081.0\n",
       "Social Sciences     121971.0\n",
       "Name: Approved Amount, dtype: float64"
      ]
     },
     "execution_count": 83,
     "metadata": {},
     "output_type": "execute_result"
    }
   ],
   "source": [
    "df_ch_classified.groupby('Discipline Type')['Approved Amount'].median()"
   ]
  },
  {
   "cell_type": "markdown",
   "metadata": {},
   "source": [
    "**Schritt 5:** Plot einer Auswertung"
   ]
  },
  {
   "cell_type": "markdown",
   "metadata": {},
   "source": [
    "Wie viel Geld haben die verschiedenen Disziplinentypen im Jahresverlauf insgesamt gekriegt?"
   ]
  },
  {
   "cell_type": "code",
   "execution_count": 84,
   "metadata": {},
   "outputs": [],
   "source": [
    "#Wir müssen auf df_ch_classified nochmals den Trick mit der Jahresspalte anwenden\n",
    "df_ch_classified['Year'] = df_ch_classified['Start Date'].str[6:]"
   ]
  },
  {
   "cell_type": "code",
   "execution_count": 85,
   "metadata": {},
   "outputs": [
    {
     "data": {
      "text/html": [
       "<div>\n",
       "<style scoped>\n",
       "    .dataframe tbody tr th:only-of-type {\n",
       "        vertical-align: middle;\n",
       "    }\n",
       "\n",
       "    .dataframe tbody tr th {\n",
       "        vertical-align: top;\n",
       "    }\n",
       "\n",
       "    .dataframe thead th {\n",
       "        text-align: right;\n",
       "    }\n",
       "</style>\n",
       "<table border=\"1\" class=\"dataframe\">\n",
       "  <thead>\n",
       "    <tr style=\"text-align: right;\">\n",
       "      <th>Discipline Type</th>\n",
       "      <th>Medicine</th>\n",
       "      <th>Natural Sciences</th>\n",
       "      <th>Social Sciences</th>\n",
       "    </tr>\n",
       "    <tr>\n",
       "      <th>Year</th>\n",
       "      <th></th>\n",
       "      <th></th>\n",
       "      <th></th>\n",
       "    </tr>\n",
       "  </thead>\n",
       "  <tbody>\n",
       "    <tr>\n",
       "      <td>1975</td>\n",
       "      <td>1.277342e+07</td>\n",
       "      <td>1.283916e+07</td>\n",
       "      <td>5.133826e+06</td>\n",
       "    </tr>\n",
       "    <tr>\n",
       "      <td>1976</td>\n",
       "      <td>3.945418e+07</td>\n",
       "      <td>4.030315e+07</td>\n",
       "      <td>1.146016e+07</td>\n",
       "    </tr>\n",
       "    <tr>\n",
       "      <td>1977</td>\n",
       "      <td>4.146789e+07</td>\n",
       "      <td>5.275032e+07</td>\n",
       "      <td>1.725615e+07</td>\n",
       "    </tr>\n",
       "    <tr>\n",
       "      <td>1978</td>\n",
       "      <td>4.544383e+07</td>\n",
       "      <td>4.008860e+07</td>\n",
       "      <td>1.812504e+07</td>\n",
       "    </tr>\n",
       "    <tr>\n",
       "      <td>1979</td>\n",
       "      <td>4.164585e+07</td>\n",
       "      <td>5.435762e+07</td>\n",
       "      <td>2.072956e+07</td>\n",
       "    </tr>\n",
       "    <tr>\n",
       "      <td>1980</td>\n",
       "      <td>5.372031e+07</td>\n",
       "      <td>4.422708e+07</td>\n",
       "      <td>1.961593e+07</td>\n",
       "    </tr>\n",
       "    <tr>\n",
       "      <td>1981</td>\n",
       "      <td>4.363928e+07</td>\n",
       "      <td>4.803530e+07</td>\n",
       "      <td>2.002329e+07</td>\n",
       "    </tr>\n",
       "    <tr>\n",
       "      <td>1982</td>\n",
       "      <td>4.150669e+07</td>\n",
       "      <td>4.732691e+07</td>\n",
       "      <td>2.474160e+07</td>\n",
       "    </tr>\n",
       "    <tr>\n",
       "      <td>1983</td>\n",
       "      <td>4.869910e+07</td>\n",
       "      <td>6.506768e+07</td>\n",
       "      <td>2.332920e+07</td>\n",
       "    </tr>\n",
       "    <tr>\n",
       "      <td>1984</td>\n",
       "      <td>5.035559e+07</td>\n",
       "      <td>5.424918e+07</td>\n",
       "      <td>2.223751e+07</td>\n",
       "    </tr>\n",
       "    <tr>\n",
       "      <td>1985</td>\n",
       "      <td>5.034760e+07</td>\n",
       "      <td>6.618903e+07</td>\n",
       "      <td>2.368445e+07</td>\n",
       "    </tr>\n",
       "    <tr>\n",
       "      <td>1986</td>\n",
       "      <td>5.736740e+07</td>\n",
       "      <td>7.884838e+07</td>\n",
       "      <td>2.666892e+07</td>\n",
       "    </tr>\n",
       "    <tr>\n",
       "      <td>1987</td>\n",
       "      <td>5.905857e+07</td>\n",
       "      <td>7.457414e+07</td>\n",
       "      <td>2.229997e+07</td>\n",
       "    </tr>\n",
       "    <tr>\n",
       "      <td>1988</td>\n",
       "      <td>7.117266e+07</td>\n",
       "      <td>8.447224e+07</td>\n",
       "      <td>2.706203e+07</td>\n",
       "    </tr>\n",
       "    <tr>\n",
       "      <td>1989</td>\n",
       "      <td>9.140268e+07</td>\n",
       "      <td>9.551655e+07</td>\n",
       "      <td>2.829667e+07</td>\n",
       "    </tr>\n",
       "    <tr>\n",
       "      <td>1990</td>\n",
       "      <td>8.907766e+07</td>\n",
       "      <td>1.052522e+08</td>\n",
       "      <td>3.734305e+07</td>\n",
       "    </tr>\n",
       "    <tr>\n",
       "      <td>1991</td>\n",
       "      <td>9.936455e+07</td>\n",
       "      <td>1.068955e+08</td>\n",
       "      <td>3.275765e+07</td>\n",
       "    </tr>\n",
       "    <tr>\n",
       "      <td>1992</td>\n",
       "      <td>1.057700e+08</td>\n",
       "      <td>1.337643e+08</td>\n",
       "      <td>3.315186e+07</td>\n",
       "    </tr>\n",
       "    <tr>\n",
       "      <td>1993</td>\n",
       "      <td>1.016589e+08</td>\n",
       "      <td>1.375942e+08</td>\n",
       "      <td>5.225066e+07</td>\n",
       "    </tr>\n",
       "    <tr>\n",
       "      <td>1994</td>\n",
       "      <td>1.084748e+08</td>\n",
       "      <td>1.100609e+08</td>\n",
       "      <td>3.850317e+07</td>\n",
       "    </tr>\n",
       "    <tr>\n",
       "      <td>1995</td>\n",
       "      <td>9.593347e+07</td>\n",
       "      <td>1.032167e+08</td>\n",
       "      <td>2.863154e+07</td>\n",
       "    </tr>\n",
       "    <tr>\n",
       "      <td>1996</td>\n",
       "      <td>1.601430e+08</td>\n",
       "      <td>1.619736e+08</td>\n",
       "      <td>5.392853e+07</td>\n",
       "    </tr>\n",
       "    <tr>\n",
       "      <td>1997</td>\n",
       "      <td>1.183700e+08</td>\n",
       "      <td>1.175699e+08</td>\n",
       "      <td>5.927801e+07</td>\n",
       "    </tr>\n",
       "    <tr>\n",
       "      <td>1998</td>\n",
       "      <td>1.014167e+08</td>\n",
       "      <td>1.053454e+08</td>\n",
       "      <td>4.156064e+07</td>\n",
       "    </tr>\n",
       "    <tr>\n",
       "      <td>1999</td>\n",
       "      <td>9.108031e+07</td>\n",
       "      <td>1.085143e+08</td>\n",
       "      <td>2.858807e+07</td>\n",
       "    </tr>\n",
       "    <tr>\n",
       "      <td>2000</td>\n",
       "      <td>1.324950e+08</td>\n",
       "      <td>1.319919e+08</td>\n",
       "      <td>6.440108e+07</td>\n",
       "    </tr>\n",
       "    <tr>\n",
       "      <td>2001</td>\n",
       "      <td>1.579869e+08</td>\n",
       "      <td>1.533783e+08</td>\n",
       "      <td>5.805182e+07</td>\n",
       "    </tr>\n",
       "    <tr>\n",
       "      <td>2002</td>\n",
       "      <td>1.274336e+08</td>\n",
       "      <td>1.401571e+08</td>\n",
       "      <td>4.505008e+07</td>\n",
       "    </tr>\n",
       "    <tr>\n",
       "      <td>2003</td>\n",
       "      <td>1.267629e+08</td>\n",
       "      <td>1.239396e+08</td>\n",
       "      <td>6.353093e+07</td>\n",
       "    </tr>\n",
       "    <tr>\n",
       "      <td>2004</td>\n",
       "      <td>1.273050e+08</td>\n",
       "      <td>1.252778e+08</td>\n",
       "      <td>6.169039e+07</td>\n",
       "    </tr>\n",
       "    <tr>\n",
       "      <td>2005</td>\n",
       "      <td>1.610306e+08</td>\n",
       "      <td>1.546465e+08</td>\n",
       "      <td>1.012431e+08</td>\n",
       "    </tr>\n",
       "    <tr>\n",
       "      <td>2006</td>\n",
       "      <td>1.531099e+08</td>\n",
       "      <td>1.447704e+08</td>\n",
       "      <td>8.026923e+07</td>\n",
       "    </tr>\n",
       "    <tr>\n",
       "      <td>2007</td>\n",
       "      <td>1.412607e+08</td>\n",
       "      <td>1.527031e+08</td>\n",
       "      <td>8.712152e+07</td>\n",
       "    </tr>\n",
       "    <tr>\n",
       "      <td>2008</td>\n",
       "      <td>1.418497e+08</td>\n",
       "      <td>1.823476e+08</td>\n",
       "      <td>1.063561e+08</td>\n",
       "    </tr>\n",
       "    <tr>\n",
       "      <td>2009</td>\n",
       "      <td>2.650397e+08</td>\n",
       "      <td>2.900972e+08</td>\n",
       "      <td>1.571096e+08</td>\n",
       "    </tr>\n",
       "    <tr>\n",
       "      <td>2010</td>\n",
       "      <td>2.806298e+08</td>\n",
       "      <td>2.715910e+08</td>\n",
       "      <td>1.285763e+08</td>\n",
       "    </tr>\n",
       "    <tr>\n",
       "      <td>2011</td>\n",
       "      <td>2.124196e+08</td>\n",
       "      <td>2.190039e+08</td>\n",
       "      <td>1.259838e+08</td>\n",
       "    </tr>\n",
       "    <tr>\n",
       "      <td>2012</td>\n",
       "      <td>2.498772e+08</td>\n",
       "      <td>2.373125e+08</td>\n",
       "      <td>1.396707e+08</td>\n",
       "    </tr>\n",
       "    <tr>\n",
       "      <td>2013</td>\n",
       "      <td>2.375108e+08</td>\n",
       "      <td>2.605795e+08</td>\n",
       "      <td>1.695210e+08</td>\n",
       "    </tr>\n",
       "    <tr>\n",
       "      <td>2014</td>\n",
       "      <td>3.664011e+08</td>\n",
       "      <td>3.693051e+08</td>\n",
       "      <td>2.143816e+08</td>\n",
       "    </tr>\n",
       "    <tr>\n",
       "      <td>2015</td>\n",
       "      <td>2.708820e+08</td>\n",
       "      <td>3.155243e+08</td>\n",
       "      <td>1.831338e+08</td>\n",
       "    </tr>\n",
       "    <tr>\n",
       "      <td>2016</td>\n",
       "      <td>2.473509e+08</td>\n",
       "      <td>2.615316e+08</td>\n",
       "      <td>1.613169e+08</td>\n",
       "    </tr>\n",
       "    <tr>\n",
       "      <td>2017</td>\n",
       "      <td>2.896107e+08</td>\n",
       "      <td>3.104730e+08</td>\n",
       "      <td>2.761331e+08</td>\n",
       "    </tr>\n",
       "    <tr>\n",
       "      <td>2018</td>\n",
       "      <td>2.247825e+08</td>\n",
       "      <td>2.716530e+08</td>\n",
       "      <td>2.363869e+08</td>\n",
       "    </tr>\n",
       "    <tr>\n",
       "      <td>2019</td>\n",
       "      <td>NaN</td>\n",
       "      <td>NaN</td>\n",
       "      <td>5.689200e+04</td>\n",
       "    </tr>\n",
       "  </tbody>\n",
       "</table>\n",
       "</div>"
      ],
      "text/plain": [
       "Discipline Type      Medicine  Natural Sciences  Social Sciences\n",
       "Year                                                            \n",
       "1975             1.277342e+07      1.283916e+07     5.133826e+06\n",
       "1976             3.945418e+07      4.030315e+07     1.146016e+07\n",
       "1977             4.146789e+07      5.275032e+07     1.725615e+07\n",
       "1978             4.544383e+07      4.008860e+07     1.812504e+07\n",
       "1979             4.164585e+07      5.435762e+07     2.072956e+07\n",
       "1980             5.372031e+07      4.422708e+07     1.961593e+07\n",
       "1981             4.363928e+07      4.803530e+07     2.002329e+07\n",
       "1982             4.150669e+07      4.732691e+07     2.474160e+07\n",
       "1983             4.869910e+07      6.506768e+07     2.332920e+07\n",
       "1984             5.035559e+07      5.424918e+07     2.223751e+07\n",
       "1985             5.034760e+07      6.618903e+07     2.368445e+07\n",
       "1986             5.736740e+07      7.884838e+07     2.666892e+07\n",
       "1987             5.905857e+07      7.457414e+07     2.229997e+07\n",
       "1988             7.117266e+07      8.447224e+07     2.706203e+07\n",
       "1989             9.140268e+07      9.551655e+07     2.829667e+07\n",
       "1990             8.907766e+07      1.052522e+08     3.734305e+07\n",
       "1991             9.936455e+07      1.068955e+08     3.275765e+07\n",
       "1992             1.057700e+08      1.337643e+08     3.315186e+07\n",
       "1993             1.016589e+08      1.375942e+08     5.225066e+07\n",
       "1994             1.084748e+08      1.100609e+08     3.850317e+07\n",
       "1995             9.593347e+07      1.032167e+08     2.863154e+07\n",
       "1996             1.601430e+08      1.619736e+08     5.392853e+07\n",
       "1997             1.183700e+08      1.175699e+08     5.927801e+07\n",
       "1998             1.014167e+08      1.053454e+08     4.156064e+07\n",
       "1999             9.108031e+07      1.085143e+08     2.858807e+07\n",
       "2000             1.324950e+08      1.319919e+08     6.440108e+07\n",
       "2001             1.579869e+08      1.533783e+08     5.805182e+07\n",
       "2002             1.274336e+08      1.401571e+08     4.505008e+07\n",
       "2003             1.267629e+08      1.239396e+08     6.353093e+07\n",
       "2004             1.273050e+08      1.252778e+08     6.169039e+07\n",
       "2005             1.610306e+08      1.546465e+08     1.012431e+08\n",
       "2006             1.531099e+08      1.447704e+08     8.026923e+07\n",
       "2007             1.412607e+08      1.527031e+08     8.712152e+07\n",
       "2008             1.418497e+08      1.823476e+08     1.063561e+08\n",
       "2009             2.650397e+08      2.900972e+08     1.571096e+08\n",
       "2010             2.806298e+08      2.715910e+08     1.285763e+08\n",
       "2011             2.124196e+08      2.190039e+08     1.259838e+08\n",
       "2012             2.498772e+08      2.373125e+08     1.396707e+08\n",
       "2013             2.375108e+08      2.605795e+08     1.695210e+08\n",
       "2014             3.664011e+08      3.693051e+08     2.143816e+08\n",
       "2015             2.708820e+08      3.155243e+08     1.831338e+08\n",
       "2016             2.473509e+08      2.615316e+08     1.613169e+08\n",
       "2017             2.896107e+08      3.104730e+08     2.761331e+08\n",
       "2018             2.247825e+08      2.716530e+08     2.363869e+08\n",
       "2019                      NaN               NaN     5.689200e+04"
      ]
     },
     "execution_count": 85,
     "metadata": {},
     "output_type": "execute_result"
    }
   ],
   "source": [
    "# Tabelle anzeigen: Summe der gesprochenen Gelder, gruppiert nach Jahr und Disziplinentyp\n",
    "df_ch_classified.groupby(['Year', 'Discipline Type'])['Approved Amount'].sum().unstack()"
   ]
  },
  {
   "cell_type": "code",
   "execution_count": 86,
   "metadata": {},
   "outputs": [
    {
     "data": {
      "text/plain": [
       "<matplotlib.axes._subplots.AxesSubplot at 0x11d8cf3c8>"
      ]
     },
     "execution_count": 86,
     "metadata": {},
     "output_type": "execute_result"
    },
    {
     "data": {
      "image/png": "[encoded data removed]",
      "text/plain": [
       "<Figure size 864x432 with 1 Axes>"
      ]
     },
     "metadata": {
      "needs_background": "light"
     },
     "output_type": "display_data"
    }
   ],
   "source": [
    "#Plot als Liniendiagramm\n",
    "df_ch_classified.groupby(['Year', 'Discipline Type'])['Approved Amount'].sum().unstack().plot(figsize=(12,6))"
   ]
  },
  {
   "cell_type": "code",
   "execution_count": null,
   "metadata": {},
   "outputs": [],
   "source": []
  }
 ],
 "metadata": {
  "kernelspec": {
   "display_name": "Python 3",
   "language": "python",
   "name": "python3"
  },
  "language_info": {
   "codemirror_mode": {
    "name": "ipython",
    "version": 3
   },
   "file_extension": ".py",
   "mimetype": "text/x-python",
   "name": "python",
   "nbconvert_exporter": "python",
   "pygments_lexer": "ipython3",
   "version": "3.7.3"
  }
 },
 "nbformat": 4,
 "nbformat_minor": 2
}
