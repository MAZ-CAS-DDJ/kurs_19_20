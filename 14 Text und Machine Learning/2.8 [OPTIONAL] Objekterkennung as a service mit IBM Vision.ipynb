{
 "cells": [
  {
   "cell_type": "markdown",
   "metadata": {},
   "source": [
    "# Objekterkennung\n",
    "- Man kann auf Bildern mittlerweile nicht nur Gesichter erkennen sondern eine ganze Menge Sachen. \n",
    "- Wie es lokal mit Deep Learning geht, habe ich auf unserem Liip Blog relativ ausführlich beschrieben:\n",
    "    - https://www.liip.ch/en/blog/poke-zoo-or-making-deep-learning-tell-oryxes-apart-from-lamas-in-a-zoo-part-1-the-idea-and-concepts\n",
    "- Ihr könnt das ganze aber auch als Service nutzen. Mittlerweile bieten Microsoft, IBM, Google und andere diese Dienste an. "
   ]
  },
  {
   "cell_type": "markdown",
   "metadata": {},
   "source": [
    "## Google Vision"
   ]
  },
  {
   "cell_type": "markdown",
   "metadata": {},
   "source": [
    "Neues Projekt anlegen:\n",
    "- https://console.cloud.google.com/cloud-resource-manager"
   ]
  },
  {
   "cell_type": "markdown",
   "metadata": {},
   "source": [
    "Kostenloses Guthaben von 300$ bei Registrierung \n",
    "- allerdings MÜSST ihr die CC hinterlegen :(\n",
    "- Prepaid wird nicht unterstützt :(\n",
    "- https://console.cloud.google.com/freetrial/signup/1"
   ]
  },
  {
   "cell_type": "markdown",
   "metadata": {},
   "source": [
    "## IBM Vision"
   ]
  },
  {
   "cell_type": "markdown",
   "metadata": {},
   "source": [
    "- Neue Registrierung \n",
    "- Dann auf AI https://www.ibm.com/ch-en/marketplace/categories?technologyTopics[0][0]=cat.topic:CognitiveComputingAndAI\n",
    "- https://console.bluemix.net/catalog/services/visual-recognition\n",
    "\n",
    "Danach ist es relativ einfach:\n",
    "- notiert euch euren apikey und setzt ihn unten ein (ersetzt meinen)\n",
    "- ihr nehmt ein Bild dass ihr untersuchen wollt und schickt es dort hin\n",
    "- das Resultat bekommt ihr als JSON zurück. "
   ]
  },
  {
   "cell_type": "code",
   "execution_count": 3,
   "metadata": {},
   "outputs": [
    {
     "name": "stderr",
     "output_type": "stream",
     "text": [
      "/Users/plotti/Library/Python/2.7/lib/python/site-packages/requests/__init__.py:91: RequestsDependencyWarning: urllib3 (1.21.1) or chardet (2.3.0) doesn't match a supported version!\n",
      "  RequestsDependencyWarning)\n"
     ]
    }
   ],
   "source": [
    "import requests"
   ]
  },
  {
   "cell_type": "code",
   "execution_count": 26,
   "metadata": {},
   "outputs": [],
   "source": [
    "url = 'https://gateway.watsonplatform.net/visual-recognition/api/v3/classify?version=2018-03-19'\n",
    "files = {'images_file': open('bild.jpg', 'rb').read()}\n",
    "apikey = \"KtMfuUcJgiaeFevbJ1FQVKcfc3nj3zlc1kS0G_mlv-Sz\"\n",
    "headers = {'apikey': apikey}\n",
    "r = requests.post(url, files=files,headers=headers,auth=(\"apikey\",apikey))"
   ]
  },
  {
   "cell_type": "code",
   "execution_count": 27,
   "metadata": {},
   "outputs": [
    {
     "data": {
      "text/plain": [
       "[{u'classifiers': [{u'classes': [{u'class': u'television',\n",
       "      u'score': 0.612,\n",
       "      u'type_hierarchy': u'/radio/tv set/television'},\n",
       "     {u'class': u'radio/tv set', u'score': 0.612},\n",
       "     {u'class': u'computer system',\n",
       "      u'score': 0.515,\n",
       "      u'type_hierarchy': u'/system/computer system'},\n",
       "     {u'class': u'system', u'score': 0.526},\n",
       "     {u'class': u'newsreader',\n",
       "      u'score': 0.511,\n",
       "      u'type_hierarchy': u'/person/newsreader'},\n",
       "     {u'class': u'person', u'score': 0.511},\n",
       "     {u'class': u'server (computer)',\n",
       "      u'score': 0.5,\n",
       "      u'type_hierarchy': u'/machine/computer/server (computer)'},\n",
       "     {u'class': u'computer', u'score': 0.573},\n",
       "     {u'class': u'machine', u'score': 0.573},\n",
       "     {u'class': u'print media', u'score': 0.588},\n",
       "     {u'class': u'electronic equipment', u'score': 0.601},\n",
       "     {u'class': u'telecommunication', u'score': 0.6},\n",
       "     {u'class': u'coal black color', u'score': 0.956}],\n",
       "    u'classifier_id': u'default',\n",
       "    u'name': u'default'}],\n",
       "  u'image': u'images_file'}]"
      ]
     },
     "execution_count": 27,
     "metadata": {},
     "output_type": "execute_result"
    }
   ],
   "source": [
    "import json\n",
    "json.loads(r.text)[\"images\"]"
   ]
  },
  {
   "cell_type": "markdown",
   "metadata": {},
   "source": [
    "## Anwendungsfall "
   ]
  },
  {
   "cell_type": "code",
   "execution_count": null,
   "metadata": {},
   "outputs": [],
   "source": []
  }
 ],
 "metadata": {
  "kernelspec": {
   "display_name": "Python 3",
   "language": "python",
   "name": "python3"
  },
  "language_info": {
   "codemirror_mode": {
    "name": "ipython",
    "version": 2
   },
   "file_extension": ".py",
   "mimetype": "text/x-python",
   "name": "python",
   "nbconvert_exporter": "python",
   "pygments_lexer": "ipython2",
   "version": "2.7.15"
  }
 },
 "nbformat": 4,
 "nbformat_minor": 2
}
