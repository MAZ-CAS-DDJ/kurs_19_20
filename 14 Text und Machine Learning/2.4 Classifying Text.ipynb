{
 "cells": [
  {
   "cell_type": "markdown",
   "metadata": {},
   "source": [
    "# Document classifier"
   ]
  },
  {
   "cell_type": "markdown",
   "metadata": {},
   "source": [
    "## Daten\n",
    "- Wir brauchen zuerst daten um unser Modell zu trainieren"
   ]
  },
  {
   "cell_type": "code",
   "execution_count": 2,
   "metadata": {},
   "outputs": [],
   "source": [
    "from textblob.classifiers import NaiveBayesClassifier\n",
    "\n",
    "train = [\n",
    "    ('I love this sandwich.', 'pos'),\n",
    "    ('This is an amazing place!', 'pos'),\n",
    "    ('I feel very good about these beers.', 'pos'),\n",
    "    ('This is my best work.', 'pos'),\n",
    "    (\"What an awesome view\", 'pos'),\n",
    "    ('I do not like this restaurant', 'neg'),\n",
    "    ('I am tired of this stuff.', 'neg'),\n",
    "    (\"I can't deal with this\", 'neg'),\n",
    "    ('He is my sworn enemy!', 'neg'),\n",
    "    ('My boss is horrible.', 'neg')\n",
    "]\n",
    "test = [\n",
    "    ('The beer was good.', 'pos'),\n",
    "    ('I do not enjoy my job', 'neg'),\n",
    "    (\"I ain't feeling dandy today.\", 'neg'),\n",
    "    (\"I feel amazing!\", 'pos'),\n",
    "    ('Gary is a friend of mine.', 'pos'),\n",
    "    (\"I can't believe I'm doing this.\", 'neg')\n",
    "]"
   ]
  },
  {
   "cell_type": "markdown",
   "metadata": {},
   "source": [
    "## Training"
   ]
  },
  {
   "cell_type": "code",
   "execution_count": 21,
   "metadata": {},
   "outputs": [],
   "source": [
    "a = NaiveBayesClassifier(train)"
   ]
  },
  {
   "cell_type": "markdown",
   "metadata": {},
   "source": [
    "## Test\n",
    "- Wie gut performed unser Modell bei Daten die es noch nie gesehen hat?"
   ]
  },
  {
   "cell_type": "code",
   "execution_count": 16,
   "metadata": {},
   "outputs": [
    {
     "data": {
      "text/plain": [
       "0.8333333333333334"
      ]
     },
     "execution_count": 16,
     "metadata": {},
     "output_type": "execute_result"
    }
   ],
   "source": [
    "a.accuracy(test)"
   ]
  },
  {
   "cell_type": "markdown",
   "metadata": {},
   "source": [
    "- Zu 80% korrekt, ok für mich :)"
   ]
  },
  {
   "cell_type": "markdown",
   "metadata": {},
   "source": [
    "## Features\n",
    "- Welche wörter sorgen am meisten dafür dass etwas positiv oder negativ klassifiziert wird?"
   ]
  },
  {
   "cell_type": "code",
   "execution_count": 15,
   "metadata": {},
   "outputs": [
    {
     "name": "stdout",
     "output_type": "stream",
     "text": [
      "Most Informative Features\n",
      "          contains(this) = True              neg : pos    =      2.3 : 1.0\n",
      "          contains(this) = False             pos : neg    =      1.8 : 1.0\n",
      "          contains(This) = False             neg : pos    =      1.6 : 1.0\n",
      "            contains(an) = False             neg : pos    =      1.6 : 1.0\n",
      "             contains(I) = False             pos : neg    =      1.4 : 1.0\n"
     ]
    }
   ],
   "source": [
    "cl.show_informative_features(5)"
   ]
  },
  {
   "cell_type": "markdown",
   "metadata": {},
   "source": [
    "Er ist der meinung wenn \"this\" vorkommt ist es eher positiv, was natürlich quatsch ist, aber das hat er nun mal so gelernt, deswegen braucht ihr gute trainingsdaten. "
   ]
  },
  {
   "cell_type": "markdown",
   "metadata": {},
   "source": [
    "## Klassifizierung"
   ]
  },
  {
   "cell_type": "code",
   "execution_count": 6,
   "metadata": {},
   "outputs": [
    {
     "data": {
      "text/plain": [
       "'pos'"
      ]
     },
     "execution_count": 6,
     "metadata": {},
     "output_type": "execute_result"
    }
   ],
   "source": [
    "cl.classify(\"Their burgers are amazing\")  # \"pos\""
   ]
  },
  {
   "cell_type": "code",
   "execution_count": 7,
   "metadata": {},
   "outputs": [
    {
     "data": {
      "text/plain": [
       "'neg'"
      ]
     },
     "execution_count": 7,
     "metadata": {},
     "output_type": "execute_result"
    }
   ],
   "source": [
    "cl.classify(\"I don't like their pizza.\")  # \"neg\""
   ]
  },
  {
   "cell_type": "code",
   "execution_count": 12,
   "metadata": {},
   "outputs": [
    {
     "data": {
      "text/plain": [
       "'pos'"
      ]
     },
     "execution_count": 12,
     "metadata": {},
     "output_type": "execute_result"
    }
   ],
   "source": [
    "a.classify(\"I love my job.\")"
   ]
  },
  {
   "cell_type": "markdown",
   "metadata": {},
   "source": [
    "### Klassizierung nach Sätzen"
   ]
  },
  {
   "cell_type": "code",
   "execution_count": 19,
   "metadata": {},
   "outputs": [],
   "source": [
    "from textblob import TextBlob\n",
    "blob = TextBlob(\"The beer was amazing. \"\n",
    "                \"But the hangover was horrible. My boss was not happy.\",\n",
    "                classifier=a)"
   ]
  },
  {
   "cell_type": "code",
   "execution_count": 22,
   "metadata": {},
   "outputs": [
    {
     "name": "stdout",
     "output_type": "stream",
     "text": [
      "The beer was amazing. (pos)\n",
      "But the hangover was horrible. (neg)\n",
      "My boss was not happy. (neg)\n"
     ]
    }
   ],
   "source": [
    "for sentence in blob.sentences:\n",
    "    print((\"%s (%s)\") % (sentence,sentence.classify()))"
   ]
  },
  {
   "cell_type": "markdown",
   "metadata": {},
   "source": [
    "## Mit schweizer Songtexten Kommentare klassifizieren\n",
    "- http://www.falleri.ch"
   ]
  },
  {
   "cell_type": "code",
   "execution_count": 23,
   "metadata": {},
   "outputs": [
    {
     "data": {
      "text/plain": [
       "[(u'bettli', 'schweiz'),\n",
       " (u'\\xe4ntli', 'schweiz'),\n",
       " (u'hunger', 'schweiz'),\n",
       " (u'ganz', 'schweiz'),\n",
       " (u'gl\\xe4nzt', 'schweiz'),\n",
       " (u'gr\\xfcess', 'schweiz'),\n",
       " (u'gange', 'schweiz'),\n",
       " (u'ga', 'schweiz'),\n",
       " (u'wisli', 'schweiz'),\n",
       " (u'uftue', 'schweiz'),\n",
       " (u'hell', 'schweiz'),\n",
       " (u'schw\\xe4nzli', 'schweiz'),\n",
       " (u'als', 'schweiz'),\n",
       " (u'guet', 'schweiz'),\n",
       " (u'macht', 'schweiz'),\n",
       " (u'himmel', 'schweiz'),\n",
       " (u'z', 'schweiz'),\n",
       " (u'alli', 'schweiz'),\n",
       " (u'wer', 'schweiz'),\n",
       " (u'dunklet', 'schweiz'),\n",
       " (u'affetanz', 'schweiz'),\n",
       " (u'bin', 'schweiz'),\n",
       " (u'derzue', 'schweiz'),\n",
       " (u'jesuschindli', 'schweiz'),\n",
       " (u'strecke', 'schweiz'),\n",
       " (u'de', 'schweiz'),\n",
       " (u'trotze', 'schweiz'),\n",
       " (u'heilige', 'schweiz'),\n",
       " (u'b\\xfcrschteli', 'schweiz'),\n",
       " (u'das', 'schweiz'),\n",
       " (u'schlaus', 'schweiz'),\n",
       " (u'wasser', 'schweiz'),\n",
       " (u'du', 'schweiz'),\n",
       " (u'dr', 'schweiz'),\n",
       " (u'ds', 'schweiz'),\n",
       " (u'wenn', 'schweiz'),\n",
       " (u'viel', 'schweiz'),\n",
       " (u'd', 'schweiz'),\n",
       " (u'liebe', 'schweiz'),\n",
       " (u'sand', 'schweiz'),\n",
       " (u'lach', 'schweiz'),\n",
       " (u'dir', 'schweiz'),\n",
       " (u'sch\\xfcttle', 'schweiz'),\n",
       " (u'em', 'schweiz'),\n",
       " (u'g\\xf6', 'schweiz'),\n",
       " (u'wiehnachtszyt', 'schweiz'),\n",
       " (u'schw\\xe4n', 'schweiz'),\n",
       " (u'grosse', 'schweiz'),\n",
       " (u'see', 'schweiz'),\n",
       " (u'w\\xfcrmli', 'schweiz'),\n",
       " (u'chrippli', 'schweiz'),\n",
       " (u'chranz', 'schweiz'),\n",
       " (u'es', 'schweiz'),\n",
       " (u'ich', 'schweiz'),\n",
       " (u'ch\\xf6pfli', 'schweiz'),\n",
       " (u'niemert', 'schweiz'),\n",
       " (u'nand', 'schweiz'),\n",
       " (u'ohni', 'schweiz'),\n",
       " (u'ume', 'schweiz'),\n",
       " (u'schwanz', 'schweiz'),\n",
       " (u'eiget', 'schweiz'),\n",
       " (u'h\\xf6\\xf6', 'schweiz'),\n",
       " (u'st\\xe4gli', 'schweiz'),\n",
       " (u's\\xe4lber', 'schweiz'),\n",
       " (u'gumpe', 'schweiz'),\n",
       " (u'tuusig', 'schweiz'),\n",
       " (u'rue', 'schweiz'),\n",
       " (u'nid', 'schweiz'),\n",
       " (u'sing', 'schweiz'),\n",
       " (u'schl\\xfcsseli', 'schweiz'),\n",
       " (u'nacht', 'schweiz'),\n",
       " (u'ja', 'schweiz'),\n",
       " (u'schw\\xfcmme', 'schweiz'),\n",
       " (u'zur', 'schweiz'),\n",
       " (u't\\xfcrli', 'schweiz'),\n",
       " (u'lass', 'schweiz'),\n",
       " (u'drum', 'schweiz'),\n",
       " (u'ids', 'schweiz'),\n",
       " (u'o', 'schweiz'),\n",
       " (u's', 'schweiz'),\n",
       " (u'und', 'schweiz'),\n",
       " (u'\\xfcbere', 'schweiz'),\n",
       " (u'zue', 'schweiz'),\n",
       " (u'ou', 'schweiz'),\n",
       " (u'h\\xe4rzeli', 'schweiz'),\n",
       " (u'wei', 'schweiz'),\n",
       " (u'zum', 'schweiz'),\n",
       " (u'ding', 'schweiz'),\n",
       " (u'lyt', 'schweiz'),\n",
       " (u'wie', 'schweiz'),\n",
       " (u'\\xe4nteh\\xfc\\xfcsli', 'schweiz'),\n",
       " (u'oder', 'schweiz'),\n",
       " (u'wil', 'schweiz'),\n",
       " (u'schue', 'schweiz'),\n",
       " (u'ring', 'schweiz'),\n",
       " (u'm\\xfced', 'schweiz'),\n",
       " (u'het', 'schweiz'),\n",
       " (u'cha', 'schweiz'),\n",
       " (u'f\\xfcess', 'schweiz'),\n",
       " (u'cho', 'schweiz'),\n",
       " (u'wacht', 'schweiz'),\n",
       " (u'darum', 'schweiz'),\n",
       " (u'froh', 'schweiz'),\n",
       " (u'arme', 'schweiz'),\n",
       " (u'hei', 'schweiz'),\n",
       " (u'gr\\xfcene', 'schweiz'),\n",
       " (u's\\xfcsch', 'schweiz'),\n",
       " (u'bisch', 'schweiz'),\n",
       " (u'bruchsch', 'schweiz'),\n",
       " (u'wyt', 'schweiz'),\n",
       " (u'st\\xe4rndli', 'schweiz'),\n",
       " (u'\\xe4ngeli', 'schweiz'),\n",
       " (u'e', 'schweiz'),\n",
       " (u'affe', 'schweiz'),\n",
       " (u'ha', 'schweiz'),\n",
       " (u'chindli', 'schweiz'),\n",
       " (u'eis', 'schweiz'),\n",
       " (u'bei', 'schweiz'),\n",
       " (u'\\xe4ngel', 'schweiz'),\n",
       " (u'\\xe4sse', 'schweiz'),\n",
       " (u'us', 'schweiz'),\n",
       " (u'h\\xe4rzli', 'schweiz'),\n",
       " (u'tanz', 'schweiz'),\n",
       " (u'ch\\xf6me', 'schweiz'),\n",
       " (u'blettli', 'schweiz'),\n",
       " (u'st\\xe4rn', 'schweiz'),\n",
       " (u'uf', 'schweiz'),\n",
       " (u'eim', 'schweiz'),\n",
       " (u'gueti', 'schweiz'),\n",
       " (u'winke', 'schweiz'),\n",
       " (u'ihre', 'schweiz'),\n",
       " (u'ufem', 'schweiz'),\n",
       " (u'alles', 'schweiz'),\n",
       " (u'mys', 'schweiz'),\n",
       " (u'am', 'schweiz'),\n",
       " (u'ob', 'schweiz'),\n",
       " (u'im', 'schweiz'),\n",
       " (u'str\\xfcmpf', 'schweiz'),\n",
       " (u'ine', 'schweiz'),\n",
       " (u'\\xe4rde', 'schweiz'),\n",
       " (u'immerzue', 'schweiz'),\n",
       " (u'si', 'schweiz'),\n",
       " (u'jungi', 'schweiz'),\n",
       " (u'sie', 'schweiz'),\n",
       " (u'singe', 'schweiz'),\n",
       " (u'spaziere', 'schweiz'),\n",
       " (u'mir', 'schweiz'),\n",
       " (u'einzigs', 'schweiz'),\n",
       " (u'liebgott', 'schweiz'),\n",
       " (u'gseh', 'schweiz'),\n",
       " (u'jetzt', 'schweiz'),\n",
       " (u'myni', 'schweiz'),\n",
       " (u'isch', 'schweiz'),\n",
       " (u'meiteli', 'schweiz'),\n",
       " (u'\\xe4s', 'schweiz'),\n",
       " (u'a', 'schweiz'),\n",
       " (u'land', 'schweiz'),\n",
       " (u'so', 'schweiz'),\n",
       " (u'i', 'schweiz'),\n",
       " (u'schn\\xe4deret', 'schweiz'),\n",
       " (u'v\\xf6geli', 'schweiz'),\n",
       " (u'schell', 'schweiz'),\n",
       " (u'st\\xf6', 'schweiz'),\n",
       " (u'u', 'schweiz'),\n",
       " (u'scho', 'schweiz'),\n",
       " (u'schynt', 'schweiz'),\n",
       " (u'ku\\xdf', 'deutschland'),\n",
       " (u'frohes', 'deutschland'),\n",
       " (u'musiziern', 'deutschland'),\n",
       " (u'volle', 'deutschland'),\n",
       " (u'gelungen', 'deutschland'),\n",
       " (u'andern', 'deutschland'),\n",
       " (u'genu\\xdf', 'deutschland'),\n",
       " (u'immer', 'deutschland'),\n",
       " (u'held', 'deutschland'),\n",
       " (u'fink', 'deutschland'),\n",
       " (u'kalt', 'deutschland'),\n",
       " (u'selbst', 'deutschland'),\n",
       " (u'geschicht', 'deutschland'),\n",
       " (u'macht', 'deutschland'),\n",
       " (u'alle', 'deutschland'),\n",
       " (u'du', 'deutschland'),\n",
       " (u'affenbraut', 'deutschland'),\n",
       " (u'freudig', 'deutschland'),\n",
       " (u'auf', 'deutschland'),\n",
       " (u'dich', 'deutschland'),\n",
       " (u'schon', 'deutschland'),\n",
       " (u'bl\\xfcmchen', 'deutschland'),\n",
       " (u'tr\\xf6pfchen', 'deutschland'),\n",
       " (u'gleich', 'deutschland'),\n",
       " (u'wer', 'deutschland'),\n",
       " (u'aus', 'deutschland'),\n",
       " (u'sitzt', 'deutschland'),\n",
       " (u'verk\\xfcnden', 'deutschland'),\n",
       " (u'esel', 'deutschland'),\n",
       " (u'hat', 'deutschland'),\n",
       " (u'tanzen', 'deutschland'),\n",
       " (u'lasset', 'deutschland'),\n",
       " (u'beim', 'deutschland'),\n",
       " (u'flink', 'deutschland'),\n",
       " (u'da', 'deutschland'),\n",
       " (u'urwaldb\\xe4ume', 'deutschland'),\n",
       " (u'summ', 'deutschland'),\n",
       " (u'deiner', 'deutschland'),\n",
       " (u'das', 'deutschland'),\n",
       " (u'sind', 'deutschland'),\n",
       " (u's\\xe4nge', 'deutschland'),\n",
       " (u'schrein', 'deutschland'),\n",
       " (u'rei\\xdft', 'deutschland'),\n",
       " (u'ruft', 'deutschland'),\n",
       " (u'rasen', 'deutschland'),\n",
       " (u'bande', 'deutschland'),\n",
       " (u'bau', 'deutschland'),\n",
       " (u'honigkuchen', 'deutschland'),\n",
       " (u'herzen', 'deutschland'),\n",
       " (u'die', 'deutschland'),\n",
       " (u'lauert', 'deutschland'),\n",
       " (u'sang', 'deutschland'),\n",
       " (u'v\\xf6gel', 'deutschland'),\n",
       " (u'nichts', 'deutschland'),\n",
       " (u'wachsstock', 'deutschland'),\n",
       " (u'maienzeit', 'deutschland'),\n",
       " (u'gesungen', 'deutschland'),\n",
       " (u'dir', 'deutschland'),\n",
       " (u'wir', 'deutschland'),\n",
       " (u'kann', 'deutschland'),\n",
       " (u'drossel', 'deutschland'),\n",
       " (u'ei', 'deutschland'),\n",
       " (u'r\\xe4umet', 'deutschland'),\n",
       " (u'br\\xfcllt', 'deutschland'),\n",
       " (u'kokosnu\\xdf', 'deutschland'),\n",
       " (u'nur', 'deutschland'),\n",
       " (u'nun', 'deutschland'),\n",
       " (u'einen', 'deutschland'),\n",
       " (u'kokosn\\xfcsse', 'deutschland'),\n",
       " (u'lauter', 'deutschland'),\n",
       " (u'geklaut', 'deutschland'),\n",
       " (u'h\\xe4lt', 'deutschland'),\n",
       " (u'zu', 'deutschland'),\n",
       " (u'es', 'deutschland'),\n",
       " (u'er', 'deutschland'),\n",
       " (u'w\\xfcnschen', 'deutschland'),\n",
       " (u'will', 'deutschland'),\n",
       " (u'besser', 'deutschland'),\n",
       " (u'ich', 'deutschland'),\n",
       " (u'tireliern', 'deutschland'),\n",
       " (u'fr\\xfchling', 'deutschland'),\n",
       " (u'amsel', 'deutschland'),\n",
       " (u'denkt', 'deutschland'),\n",
       " (u'w\\xe4lder', 'deutschland'),\n",
       " (u'dickicht', 'deutschland'),\n",
       " (u'sonst', 'deutschland'),\n",
       " (u'wohl', 'deutschland'),\n",
       " (u'dort', 'deutschland'),\n",
       " (u'wo', 'deutschland'),\n",
       " (u'affenonkel', 'deutschland'),\n",
       " (u'leide', 'deutschland'),\n",
       " (u'auch', 'deutschland'),\n",
       " (u'nicht', 'deutschland'),\n",
       " (u'flu\\xdf', 'deutschland'),\n",
       " (u'zwitschern', 'deutschland'),\n",
       " (u'habe', 'deutschland'),\n",
       " (u'v\\xf6gelein', 'deutschland'),\n",
       " (u'lustig', 'deutschland'),\n",
       " (u'einmarschiern', 'deutschland'),\n",
       " (u'zur', 'deutschland'),\n",
       " (u'uns', 'deutschland'),\n",
       " (u'affenbande', 'deutschland'),\n",
       " (u'so', 'deutschland'),\n",
       " (u'ist', 'deutschland'),\n",
       " (u'weil', 'deutschland'),\n",
       " (u'hier', 'deutschland'),\n",
       " (u'durch', 'deutschland'),\n",
       " (u'kr\\xfcmchen', 'deutschland'),\n",
       " (u'besten', 'deutschland'),\n",
       " (u'star', 'deutschland'),\n",
       " (u'suchen', 'deutschland'),\n",
       " (u'wald', 'deutschland'),\n",
       " (u'wie', 'deutschland'),\n",
       " (u'aber', 'deutschland'),\n",
       " (u'tun', 'deutschland'),\n",
       " (u'sangen', 'deutschland'),\n",
       " (u'lieblich', 'deutschland'),\n",
       " (u'voll', 'deutschland'),\n",
       " (u'nach', 'deutschland'),\n",
       " (u'graus', 'deutschland'),\n",
       " (u'fern', 'deutschland'),\n",
       " (u'moral', 'deutschland'),\n",
       " (u'eine', 'deutschland'),\n",
       " (u'flieg', 'deutschland'),\n",
       " (u'reicher', 'deutschland'),\n",
       " (u'welch', 'deutschland'),\n",
       " (u'vogelschar', 'deutschland'),\n",
       " (u'gedenken', 'deutschland'),\n",
       " (u'urwald', 'deutschland'),\n",
       " (u'froh', 'deutschland'),\n",
       " (u'schlick', 'deutschland'),\n",
       " (u'affenbaby', 'deutschland'),\n",
       " (u'pfeffern\\xfcss', 'deutschland'),\n",
       " (u'scherzen', 'deutschland'),\n",
       " (u'regen', 'deutschland'),\n",
       " (u'angelt', 'deutschland'),\n",
       " (u'was', 'deutschland'),\n",
       " (u'segen', 'deutschland'),\n",
       " (u'sch\\xf6nen', 'deutschland'),\n",
       " (u'nehmen', 'deutschland'),\n",
       " (u'stelle', 'deutschland'),\n",
       " (u'ganze', 'deutschland'),\n",
       " (u'hub', 'deutschland'),\n",
       " (u'sch\\xf6n', 'deutschland'),\n",
       " (u'trefflicher', 'deutschland'),\n",
       " (u'heil', 'deutschland'),\n",
       " (u'heim', 'deutschland'),\n",
       " (u'spricht', 'deutschland'),\n",
       " (u'affenmama', 'deutschland'),\n",
       " (u'kehre', 'deutschland'),\n",
       " (u'komm', 'deutschland'),\n",
       " (u'bei', 'deutschland'),\n",
       " (u'herum', 'deutschland'),\n",
       " (u'der', 'deutschland'),\n",
       " (u'wabe', 'deutschland'),\n",
       " (u'christgeschenken', 'deutschland'),\n",
       " (u'dann', 'deutschland'),\n",
       " (u'dem', 'deutschland'),\n",
       " (u'den', 'deutschland'),\n",
       " (u'wiesen', 'deutschland'),\n",
       " (u'sein', 'deutschland'),\n",
       " (u'springen', 'deutschland'),\n",
       " (u'ein', 'deutschland'),\n",
       " (u'keine', 'deutschland'),\n",
       " (u'wollen', 'deutschland'),\n",
       " (u'von', 'deutschland'),\n",
       " (u'am', 'deutschland'),\n",
       " (u'an', 'deutschland'),\n",
       " (u'im', 'deutschland'),\n",
       " (u'in', 'deutschland'),\n",
       " (u'kommt', 'deutschland'),\n",
       " (u'winter', 'deutschland'),\n",
       " (u'streit', 'deutschland'),\n",
       " (u'jahr', 'deutschland'),\n",
       " (u'nah', 'deutschland'),\n",
       " (u'feldaus', 'deutschland'),\n",
       " (u'beide', 'deutschland'),\n",
       " (u'sich', 'deutschland'),\n",
       " (u'sie', 'deutschland'),\n",
       " (u'und', 'deutschland'),\n",
       " (u'mit', 'deutschland'),\n",
       " (u'affenmilchmann', 'deutschland'),\n",
       " (u'elefant', 'deutschland'),\n",
       " (u'klau', 'deutschland'),\n",
       " (u'manche', 'deutschland'),\n",
       " (u'klang', 'deutschland'),\n",
       " (u'sprach', 'deutschland'),\n",
       " (u'bienchen', 'deutschland'),\n",
       " (u'bald', 'deutschland'),\n",
       " (u'wird', 'deutschland'),\n",
       " (u'hand', 'deutschland'),\n",
       " (u'pfeifen', 'deutschland'),\n",
       " (u'bl\\xfcten', 'deutschland'),\n",
       " (u'songtext', 'deutschland'),\n",
       " (u'kokosmilch', 'deutschland'),\n",
       " (u'such', 'deutschland'),\n",
       " (u'feld', 'deutschland'),\n",
       " (u'felder', 'deutschland'),\n",
       " (u'feldein', 'deutschland'),\n",
       " (u'hatten', 'deutschland'),\n",
       " (u'l\\xe4sst', 'deutschland'),\n",
       " (u'affen', 'deutschland'),\n",
       " (u'schalle', 'deutschland'),\n",
       " (u'fiel', 'deutschland'),\n",
       " (u'singen', 'deutschland'),\n",
       " (u'heide', 'deutschland'),\n",
       " (u'kuckuck', 'deutschland')]"
      ]
     },
     "execution_count": 23,
     "metadata": {},
     "output_type": "execute_result"
    }
   ],
   "source": [
    "import os,glob\n",
    "from nltk.tokenize import sent_tokenize\n",
    "from nltk.tokenize import word_tokenize\n",
    "\n",
    "\n",
    "from io import open\n",
    "\n",
    "\n",
    "train = []\n",
    "countries = [\"schweiz\", \"deutschland\"]\n",
    "for country in countries:\n",
    "    out = []\n",
    "    folder_path = 'songtexte/%s' % country \n",
    "    for filename in glob.glob(os.path.join(folder_path, '*.txt')):\n",
    "      with open(filename, 'r') as f:\n",
    "        text = f.read()\n",
    "        words = word_tokenize(text)\n",
    "        words=[word.lower() for word in words if word.isalpha()]\n",
    "        for word in words:\n",
    "            out.append(word)\n",
    "    out = set(out)\n",
    "    for word in out:\n",
    "        train.append((word,country))\n",
    "        #print (filename)\n",
    "        #print (len(text))\n",
    "train"
   ]
  },
  {
   "cell_type": "code",
   "execution_count": 24,
   "metadata": {},
   "outputs": [],
   "source": [
    "from textblob.classifiers import NaiveBayesClassifier\n",
    "c2 = NaiveBayesClassifier(train)"
   ]
  },
  {
   "cell_type": "code",
   "execution_count": 25,
   "metadata": {},
   "outputs": [
    {
     "data": {
      "text/plain": [
       "'deutschland'"
      ]
     },
     "execution_count": 25,
     "metadata": {},
     "output_type": "execute_result"
    }
   ],
   "source": [
    "c2.classify(\"Ich gehe durch den Wald\")  # \"deutsch\""
   ]
  },
  {
   "cell_type": "code",
   "execution_count": 26,
   "metadata": {},
   "outputs": [
    {
     "data": {
      "text/plain": [
       "'schweiz'"
      ]
     },
     "execution_count": 26,
     "metadata": {},
     "output_type": "execute_result"
    }
   ],
   "source": [
    "c2.classify(\"Häsch es guet\")  # \"deutsch\""
   ]
  },
  {
   "cell_type": "code",
   "execution_count": 27,
   "metadata": {},
   "outputs": [
    {
     "data": {
      "text/plain": [
       "'deutschland'"
      ]
     },
     "execution_count": 27,
     "metadata": {},
     "output_type": "execute_result"
    }
   ],
   "source": [
    "c2.classify(\"Ich fahre mit meinem Porsche auf der Autobahn.\")"
   ]
  },
  {
   "cell_type": "code",
   "execution_count": 29,
   "metadata": {},
   "outputs": [
    {
     "name": "stdout",
     "output_type": "stream",
     "text": [
      "Most Informative Features\n",
      "           contains(ich) = True           schwei : deutsc =      1.2 : 1.0\n",
      "            contains(im) = True           schwei : deutsc =      1.2 : 1.0\n",
      "           contains(dir) = True           schwei : deutsc =      1.2 : 1.0\n",
      "           contains(zur) = True           schwei : deutsc =      1.2 : 1.0\n",
      "           contains(wer) = True           schwei : deutsc =      1.2 : 1.0\n"
     ]
    }
   ],
   "source": [
    "c2.show_informative_features(5)"
   ]
  },
  {
   "cell_type": "markdown",
   "metadata": {},
   "source": [
    "### Orakel "
   ]
  },
  {
   "cell_type": "markdown",
   "metadata": {},
   "source": [
    "Ihr könnt natürlich jetzt Euer eigenes Orakel bauen wie hier: - http://home.datacomm.ch/cgi-heeb/dialect/chochi.pl?Hand=Hand&nicht=net&heute=hit&Fenster=Feischter&gestern=gescht&Abend=Abend&gehorchen=folge&Mond=Manat&jeweils=abe&Holzsplitter=Schepfa&Senden=Jetzt+analysieren%21"
   ]
  },
  {
   "cell_type": "markdown",
   "metadata": {},
   "source": [
    "## Hardcore Beispiel mit Film-review daten mit NLTK\n",
    "- https://www.nltk.org/book/ch06.html\n",
    "- Wir nutzen nur noch die 100 häufigsten Wörter in den Texten und schauen ob sie bei positiv oder negativ vorkommen"
   ]
  },
  {
   "cell_type": "code",
   "execution_count": 38,
   "metadata": {},
   "outputs": [
    {
     "name": "stdout",
     "output_type": "stream",
     "text": [
      "[nltk_data] Downloading package movie_reviews to\n",
      "[nltk_data]     /Users/plotti/nltk_data...\n",
      "[nltk_data]   Package movie_reviews is already up-to-date!\n"
     ]
    }
   ],
   "source": [
    "import random\n",
    "import nltk\n",
    "nltk.download(\"movie_reviews\")\n",
    "from nltk.corpus import movie_reviews\n",
    "documents = [(list(movie_reviews.words(fileid)), category)\n",
    "              for category in movie_reviews.categories()\n",
    "              for fileid in movie_reviews.fileids(category)]\n",
    "random.shuffle(documents)"
   ]
  },
  {
   "cell_type": "code",
   "execution_count": 43,
   "metadata": {},
   "outputs": [
    {
     "data": {
      "text/plain": [
       "u'as you should know , this summer has been less than memorable . with a total of 4 decent films , it \\' s not a surprise that these big budget failures keep appearing . with that said , you can pretty much predict what my opinion on \" the 13th warrior \" will be . the film is based on the michael crichton \" eaters of the dead \" , in which ahmed ibn fahdlan is banished from his country for looking at a wife of a king . after tarveling for many months , he comes across a gang of norsemen , who are forced to pick 13 men to protect a town from mythical monsters who travel in the fog . so , they start picking men , and are left without 1 , thus ahmed is choosen . so far it sounds interesting right ? not when all of this takes place in 15 minutes . after that , they basically run around killing . that alone shows how much a script is needed for a film , because once your story is introduced , you have the rest of the film to start developing it . obviously that \\' s not the case here . even if you are going into the film expecting an action packed adventure , you will be disappointed . since all the action takes place in fog , it is constantly hard to see a scene clearly due to those circumstances , and to poor camera work . can \\' t the camera men sit still ? i \\' d like to actually watch a film in focus , but again , they failed to deliver that as well . the film moves on and on until the point , where you can care less about anything but the popcorn you \\' re eating . with corny dialogue , that the characters laugh at for some odd reason , a script that goes nowhere , dull action sequences , a predictable ending , and worst of all weak characters , there \\' s basically nothing to like here , except for maybe the set designs . that \\' s the only thing that honestly caught my interest . when i heard that john mctiernan , the director , wanted his name kept out of the project , that made me wonder why ? well now i know . crichton \\' s greed forced mctiernan to edit his finished product , which led to a big arguement . what \\' s there to argue about anyway ? the film couldn \\' t be saved , no matter how much they spent or casted . seeing films like the haunting and big daddy making money , i wouldn \\' t be surprised to see \" the 13th warrior \" become a hit . please do me a favor and save your money at all costs , or else you will be lost in the fog , like the film itself .'"
      ]
     },
     "execution_count": 43,
     "metadata": {},
     "output_type": "execute_result"
    }
   ],
   "source": [
    "(\" \").join(documents[1][0])"
   ]
  },
  {
   "cell_type": "code",
   "execution_count": 44,
   "metadata": {},
   "outputs": [
    {
     "data": {
      "text/plain": [
       "[u'sucess',\n",
       " u'sonja',\n",
       " u'askew',\n",
       " u'woods',\n",
       " u'spiders',\n",
       " u'bazooms',\n",
       " u'hanging',\n",
       " u'francesca',\n",
       " u'comically',\n",
       " u'localized']"
      ]
     },
     "execution_count": 44,
     "metadata": {},
     "output_type": "execute_result"
    }
   ],
   "source": [
    "all_words = nltk.FreqDist(w.lower() for w in movie_reviews.words())\n",
    "word_features = list(all_words)[:2000]\n",
    "word_features[0:10]"
   ]
  },
  {
   "cell_type": "code",
   "execution_count": 45,
   "metadata": {},
   "outputs": [],
   "source": [
    "all_words = nltk.FreqDist(w.lower() for w in movie_reviews.words())\n",
    "word_features = list(all_words)[:2000]\n",
    "\n",
    "def document_features(document): \n",
    "    document_words = set(document)\n",
    "    features = {}\n",
    "    for word in word_features:\n",
    "        features['contains({})'.format(word)] = (word in document_words)\n",
    "    return features"
   ]
  },
  {
   "cell_type": "code",
   "execution_count": 53,
   "metadata": {
    "scrolled": false
   },
   "outputs": [
    {
     "name": "stdout",
     "output_type": "stream",
     "text": [
      "{'contains(corporate)': False, 'contains(barred)': False, 'contains(batmans)': False, 'contains(menacing)': False, 'contains(rags)': False, 'contains(inquires)': False, 'contains(nosebleeding)': False, 'contains(playhouse)': False, 'contains(peculiarities)': False, 'contains(kilgore)': False, 'contains(tarnish)': False, 'contains(sand)': False, 'contains(busting)': False, 'contains(wedge)': False, 'contains(smelling)': False, 'contains(tulip)': False, 'contains(singled)': False, 'contains(wahlberg)': False, 'contains(needed)': False, 'contains(lydia)': False, 'contains(rick)': False, 'contains(cambodia)': False, 'contains(outfielders)': False, 'contains(jovivich)': False, 'contains(pinon)': False, 'contains(fix)': False, 'contains(marla)': False, 'contains(resources)': False, 'contains(nomi)': False, 'contains(irs)': False, 'contains(mason)': False, 'contains(vicariously)': False, 'contains(ingrained)': False, 'contains(skepticism)': False, 'contains(tested)': False, 'contains(spat)': False, 'contains(nfeatured)': False, 'contains(accomplishes)': False, 'contains(sierra)': False, 'contains(lunges)': False, 'contains(telefixated)': False, 'contains(wednesday)': False, 'contains(spiders)': False, 'contains(waft)': False, 'contains(jim)': False, 'contains(cinematic)': False, 'contains(pseudonymous)': False, 'contains(troubles)': False, 'contains(dimension)': False, 'contains(cassette)': False, 'contains(corsucant)': False, 'contains(absolute)': False, 'contains(harmonious)': False, 'contains(saying)': False, 'contains(misdemeanors)': False, 'contains(prodigious)': False, 'contains(reclining)': False, 'contains(loudness)': False, 'contains(lombard)': False, 'contains(sickening)': False, 'contains(cooking)': False, 'contains(oprah)': False, 'contains(platt)': False, 'contains(rolf)': False, 'contains(episodes)': False, 'contains(derivative)': False, 'contains(receipt)': False, 'contains(impactful)': False, 'contains(fonzie)': False, 'contains(chyron)': False, 'contains(dragonflies)': False, 'contains(ugliness)': False, 'contains(sauce)': False, 'contains(crossroads)': False, 'contains(paired)': False, 'contains(tomei)': False, 'contains(hounds)': False, 'contains(marshmallows)': False, 'contains(lick)': False, 'contains(hass)': False, 'contains(surges)': False, 'contains(watched)': False, 'contains(ivey)': False, 'contains(nuez)': False, 'contains(mentors)': False, 'contains(tricky)': False, 'contains(surveying)': False, 'contains(ditching)': False, 'contains(haystack)': False, 'contains(warriors)': False, 'contains(purged)': False, 'contains(rehabilitation)': False, 'contains(petitions)': False, 'contains(bogs)': False, 'contains(absense)': False, 'contains(courtesans)': False, 'contains(followed)': False, 'contains(har)': False, 'contains(anthesis)': False, 'contains(grotesqe)': False, 'contains(_i_know_what_you_did_last_summer_)': False, 'contains(survey)': False, 'contains(bartok)': False, 'contains(thivisol)': False, 'contains(exponential)': False, 'contains(birdie)': False, 'contains(cincinnati)': False, 'contains(unthrilling)': False, 'contains(balsan)': False, 'contains(bumming)': False, 'contains(celebrated)': False, 'contains(renovated)': False, 'contains(crowd)': False, 'contains(shows)': False, 'contains(lana)': False, 'contains(haskin)': False, 'contains(despite)': False, 'contains(scharzenegger)': False, 'contains(undergone)': False, 'contains(aissa)': False, 'contains(leit)': False, 'contains(mouth)': False, 'contains(demeaning)': False, 'contains(drilling)': False, 'contains(unsworth)': False, 'contains(bannister)': False, 'contains(wiseguy)': False, 'contains(lackies)': False, 'contains(norville)': False, 'contains(dampens)': False, 'contains(satisfactory)': False, 'contains(abuser)': False, 'contains(had)': False, 'contains(nature)': False, 'contains(awake)': False, 'contains(wiseguys)': False, 'contains(cerebrally)': False, 'contains(ballisitic)': False, 'contains(trauma)': False, 'contains(geography)': False, 'contains(genieveve)': False, 'contains(leeanne)': False, 'contains(cannibal)': False, 'contains(intoxicating)': False, 'contains(olds)': False, 'contains(tastefully)': False, 'contains(defy)': False, 'contains(drafted)': False, 'contains(strums)': False, 'contains(dilemnas)': False, 'contains(amoeba)': False, 'contains(assimilation)': False, 'contains(reprisal)': False, 'contains(janusz)': False, 'contains(leonardi)': False, 'contains(procures)': False, 'contains(canoeing)': False, 'contains(emergence)': False, 'contains(diving)': False, 'contains(aatish)': False, 'contains(masturbatory)': False, 'contains(peaceably)': False, 'contains(persistently)': False, 'contains(survival)': False, 'contains(portrays)': False, 'contains(ceasing)': False, 'contains(bubble)': False, 'contains(sonja)': False, 'contains(unarguably)': False, 'contains(unbuttoning)': False, 'contains(jessalyn)': False, 'contains(windmill)': False, 'contains(longs)': False, 'contains(baby)': False, 'contains(mute)': False, 'contains(sikh)': False, 'contains(nicely)': False, 'contains(burial)': False, 'contains(formed)': False, 'contains(locket)': False, 'contains(frizzy)': False, 'contains(darnell)': False, 'contains(outraging)': False, 'contains(politicos)': False, 'contains(2293)': False, 'contains(devoured)': False, 'contains(universality)': False, 'contains(didn)': False, 'contains(perpetrator)': False, 'contains(thats)': False, 'contains(dethroned)': False, 'contains(malintentioned)': False, 'contains(insubordinate)': False, 'contains(humpback)': False, 'contains(meditative)': False, 'contains(pimply)': False, 'contains(tyranny)': False, 'contains(loyalties)': False, 'contains(humbler)': False, 'contains(kindergartner)': False, 'contains(suitcases)': False, 'contains(grope)': False, 'contains(touts)': False, 'contains(advertisement)': False, 'contains(shirts)': False, 'contains(videodrome)': False, 'contains(eggar)': False, 'contains(portillo)': False, 'contains(macht)': False, 'contains(perishes)': False, 'contains(preference)': False, 'contains(pell)': False, 'contains(moniker)': False, 'contains(fakery)': False, 'contains(edouard)': False, 'contains(aughra)': False, 'contains(foregrounds)': False, 'contains(snobbish)': False, 'contains(printed)': False, 'contains(dispite)': False, 'contains(pulled)': False, 'contains(russ)': False, 'contains(admires)': False, 'contains(hurricaine)': False, 'contains(milked)': False, 'contains(master)': False, 'contains(spurting)': False, 'contains(oversimplified)': False, 'contains(overlord)': False, 'contains(goody)': False, 'contains(has)': True, 'contains(pringles)': False, 'contains(celebrates)': False, 'contains(domed)': False, 'contains(wrinkles)': False, 'contains(abandons)': False, 'contains(solaris)': False, 'contains(clumsiness)': False, 'contains(deductions)': False, 'contains(sugarplums)': False, 'contains(lombardo)': False, 'contains(humbled)': False, 'contains(beware)': False, 'contains(antichrist)': False, 'contains(cavity)': False, 'contains(anthropologists)': False, 'contains(typicalness)': False, 'contains(crowe)': False, 'contains(scramble)': False, 'contains(stoically)': False, 'contains(tanker)': False, 'contains(thanking)': False, 'contains(brunette)': False, 'contains(retells)': False, 'contains(rudnick)': False, 'contains(sidebars)': False, 'contains(interviewed)': False, 'contains(greenwald)': False, 'contains(brutally)': False, 'contains(misconstrued)': False, 'contains(piscapo)': False, 'contains(vocalized)': False, 'contains(negg)': False, 'contains(benigness)': False, 'contains(cigarettes)': False, 'contains(want)': False, 'contains(huge)': False, 'contains(mediocrity)': False, 'contains(opar)': False, 'contains(abortion)': False, 'contains(chap)': False, 'contains(paled)': False, 'contains(distraction)': False, 'contains(hypsy)': False, 'contains(elders)': False, 'contains(compass)': False, 'contains(circuitry)': False, 'contains(rebuilding)': False, 'contains(hat)': False, 'contains(marshall)': False, 'contains(professory)': False, 'contains(dismisses)': False, 'contains(oderkerk)': False, 'contains(bunker)': False, 'contains(spit)': False, 'contains(abject)': False, 'contains(s)': True, 'contains(underdone)': False, 'contains(starring)': False, 'contains(dared)': False, 'contains(antidote)': False, 'contains(igniting)': False, 'contains(touchy)': False, 'contains(doubts)': False, 'contains(erich)': False, 'contains(trails)': False, 'contains(socking)': False, 'contains(surfing)': False, 'contains(promotional)': False, 'contains(sponsorship)': False, 'contains(circumstances)': False, 'contains(zoe)': False, 'contains(process)': False, 'contains(sponsor)': False, 'contains(mortified)': False, 'contains(snickered)': False, 'contains(minah)': False, 'contains(soaked)': False, 'contains(entering)': False, 'contains(cheddar)': False, 'contains(soundbite)': False, 'contains(recombination)': False, 'contains(zigged)': False, 'contains(sublimated)': False, 'contains(niall)': False, 'contains(sixteen)': False, 'contains(harassing)': False, 'contains(loitered)': False, 'contains(dna)': False, 'contains(noblewoman)': False, 'contains(interogation)': False, 'contains(locusts)': False, 'contains(skirmish)': False, 'contains(unintentionally)': False, 'contains(bounce)': False, 'contains(rebounding)': False, 'contains(guarded)': False, 'contains(mori)': False, 'contains(cages)': False, 'contains(atlantis)': False, 'contains(sustaining)': False, 'contains(straighten)': False, 'contains(otto)': False, 'contains(flotsam)': False, 'contains(centuries)': False, 'contains(promiss)': False, 'contains(maude)': False, 'contains(hawkes)': False, 'contains(scott)': False, 'contains(edged)': False, 'contains(wrong)': True, 'contains(frenchmen)': False, 'contains(dilbert)': False, 'contains(indicative)': False, 'contains(bruckheimer)': False, 'contains(porpoise)': False, 'contains(uncharacteristically)': False, 'contains(ellen)': False, 'contains(stifle)': False, 'contains(stormare)': False, 'contains(wracked)': False, 'contains(encourage)': False, 'contains(wits)': False, 'contains(bios)': False, 'contains(fry)': False, 'contains(resonated)': False, 'contains(lyndon)': False, 'contains(stylings)': False, 'contains(rangers)': False, 'contains(marlo)': False, 'contains(stillness)': False, 'contains(arlington)': False, 'contains(scold)': False, 'contains(belt)': False, 'contains(mcferran)': False, 'contains(ching)': False, 'contains(stern)': False, 'contains(crackles)': False, 'contains(antwerp)': False, 'contains(remembrance)': False, 'contains(expressively)': False, 'contains(byline)': False, 'contains(admirer)': False, 'contains(squirt)': False, 'contains(saucy)': False, 'contains(clients)': False, 'contains(mirrors)': False, 'contains(gloating)': False, 'contains(herzfeld)': False, 'contains(inconsistent)': False, 'contains(untouched)': False, 'contains(whizzing)': False, 'contains(traumatizes)': False, 'contains(bouyant)': False, 'contains(initiated)': False, 'contains(yogi)': False, 'contains(wales)': False, 'contains(disintegrated)': False, 'contains(spotty)': False, 'contains(fisherman)': False, 'contains(greatness)': False, 'contains(neary)': False, 'contains(boiler)': False, 'contains(westlake)': False, 'contains(allan)': False, 'contains(organisations)': False, 'contains(premier)': False, 'contains(apace)': False, 'contains(matilda)': False, 'contains(belloq)': False, 'contains(glenne)': False, 'contains(nothin)': False, 'contains(revolutionized)': False, 'contains(macgowan)': False, 'contains(faded)': False, 'contains(ryan_)': False, 'contains(terrifyingly)': False, 'contains(awaiting)': False, 'contains(onofrio)': False, 'contains(goodman)': False, 'contains(crazies)': False, 'contains(caitlyn)': False, 'contains(virus)': False, 'contains(adroit)': False, 'contains(prostration)': False, 'contains(resorts)': False, 'contains(yugoslavians)': False, 'contains(signs)': False, 'contains(formulates)': False, 'contains(squabble)': False, 'contains(much)': False, 'contains(screaming)': False, 'contains(methods)': False, 'contains(despises)': False, 'contains(bogg)': False, 'contains(ony)': False, 'contains(excising)': False, 'contains(dahlings)': False, 'contains(makes)': False, 'contains(sympathize)': False, 'contains(stoicism)': False, 'contains(isaac)': False, 'contains(juergen)': False, 'contains(bolstered)': False, 'contains(blonde)': False, 'contains(aggressivelly)': False, 'contains(fruity)': False, 'contains(mutilated)': False, 'contains(mensch)': False, 'contains(behave)': False, 'contains(red)': False, 'contains(palladino)': False, 'contains(welcomes)': False, 'contains(seaman)': False, 'contains(couple)': False, 'contains(excitable)': False, 'contains(charges)': False, 'contains(rich)': False, 'contains(broader)': False, 'contains(shapely)': False, 'contains(dolph)': False, 'contains(gladys)': False, 'contains(wives)': False, 'contains(detectives)': False, 'contains(cobblers)': False, 'contains(unrecognizable)': False, 'contains(colonists)': False, 'contains(mintues)': False, 'contains(mystic)': False, 'contains(sportsmanship)': False, 'contains(benson)': False, 'contains(parachute)': False, 'contains(millieu)': False, 'contains(defensively)': False, 'contains(being)': False, 'contains(seminal)': False, 'contains(music)': False, 'contains(pull)': False, 'contains(90210)': False, 'contains(cloris)': False, 'contains(traumatised)': False, 'contains(diapers)': False, 'contains(replied)': False, 'contains(wachowskis)': False, 'contains(speedboat)': False, 'contains(krippendorf)': False, 'contains(hercules)': False, 'contains(meteorologist)': False, 'contains(bogglingly)': False, 'contains(smiling)': False, 'contains(pinto)': False, 'contains(bursting)': False, 'contains(modestly)': False, 'contains(climber)': False, 'contains(dodie)': False, 'contains(retell)': False, 'contains(wage)': False, 'contains(sela)': False, 'contains(henpecked)': False, 'contains(complications)': False, 'contains(pretzel)': False, 'contains(stifled)': False, 'contains(trys)': False, 'contains(reopens)': False, 'contains(babe)': False, 'contains(discerning)': False, 'contains(headset)': False, 'contains(stoker)': False, 'contains(doom)': False, 'contains(snuggles)': False, 'contains(cessation)': False, 'contains(abbreviated)': False, 'contains(enjoys)': False, 'contains(ideally)': False, 'contains(raped)': False, 'contains(_seven_nights_)': False, 'contains(haviland)': False, 'contains(confrontatory)': False, 'contains(charnel)': False, 'contains(pasadena)': False, 'contains(portentuous)': False, 'contains(titanium)': False, 'contains(abnormally)': False, 'contains(unwelcomed)': False, 'contains(procreate)': False, 'contains(keeble)': False, 'contains(sumptuous)': False, 'contains(conscious)': False, 'contains(regressive)': False, 'contains(embark)': False, 'contains(expound)': False, 'contains(wacked)': False, 'contains(engages)': False, 'contains(touchstone)': False, 'contains(amarcord)': False, 'contains(tsui)': False, 'contains(petrice)': False, 'contains(numeric)': False, 'contains(hotcakes)': False, 'contains(chlorine)': False, 'contains(locked)': False, 'contains(tremble)': False, 'contains(featherbrained)': False, 'contains(conceptually)': False, 'contains(genesis)': False, 'contains(meddled)': False, 'contains(lads)': False, 'contains(friggin)': False, 'contains(mutinies)': False, 'contains(stoked)': False, 'contains(copious)': False, 'contains(revelatory)': False, 'contains(cronenberg)': False, 'contains(absorbs)': False, 'contains(rhythmless)': False, 'contains(burley)': False, 'contains(whoever)': False, 'contains(mosques)': False, 'contains(hag)': False, 'contains(bianca)': False, 'contains(anonymously)': False, 'contains(prior)': False, 'contains(procreating)': False, 'contains(carelessly)': False, 'contains(chad)': False, 'contains(forwarned)': False, 'contains(maker)': False, 'contains(fin)': False, 'contains(bulow)': False, 'contains(informants)': False, 'contains(nora)': False, 'contains(ballet)': False, 'contains(chomped)': False, 'contains(sommers)': False, 'contains(spacemusic)': False, 'contains(bastad)': False, 'contains(rabal)': False, 'contains(golden)': False, 'contains(whoaaaaaa)': False, 'contains(toning)': False, 'contains(overturned)': False, 'contains(handcuffs)': False, 'contains(nonsensical)': False, 'contains(preservation)': False, 'contains(eyelids)': False, 'contains(considerably)': False, 'contains(rioters)': False, 'contains(pressed)': False, 'contains(tightened)': False, 'contains(extent)': False, 'contains(wandering)': False, 'contains(dozen)': False, 'contains(remastered)': False, 'contains(deserves)': False, 'contains(beowolf)': False, 'contains(warfield)': False, 'contains(audaciously)': False, 'contains(majorino)': False, 'contains(featherweight)': False, 'contains(superiority)': False, 'contains(portents)': False, 'contains(harvests)': False, 'contains(colleague)': False, 'contains(fewer)': False, 'contains(turned)': False, 'contains(wunderkind)': False, 'contains(opportunists)': False, 'contains(goggins)': False, 'contains(zellwegger)': False, 'contains(middleton)': False, 'contains(atlantic)': False, 'contains(pimp)': False, 'contains(grounded)': False, 'contains(doreen)': False, 'contains(caan)': False, 'contains(unknowns)': False, 'contains(seldes)': False, 'contains(spine)': False, 'contains(measurements)': False, 'contains(stifler)': False, 'contains(heebie)': False, 'contains(turner)': False, 'contains(ingrid)': False, 'contains(complicates)': False, 'contains(absurdities)': False, 'contains(unredeemable)': False, 'contains(navigators)': False, 'contains(rice)': False, 'contains(graffiti)': False, 'contains(oxymoron)': False, 'contains(sweaty)': False, 'contains(smashed)': False, 'contains(sorted)': False, 'contains(joely)': False, 'contains(phallus)': False, 'contains(roll)': False, 'contains(damnit)': False, 'contains(fugitives)': False, 'contains(shootout)': False, 'contains(saddened)': False, 'contains(span)': False, 'contains(condolences)': False, 'contains(koppelman)': False, 'contains(gardenia)': False, 'contains(locklear)': False, 'contains(cheekbones)': False, 'contains(horndog)': False, 'contains(topping)': False, 'contains(simplistic)': False, 'contains(foregin)': False, 'contains(muth)': False, 'contains(bamboo)': False, 'contains(leary)': False, 'contains(18th)': False, 'contains(gisbourne)': False, 'contains(oingo)': False, 'contains(natured)': False, 'contains(mistic)': False, 'contains(disaster_)': False, 'contains(ugc)': False, 'contains(spins)': False, 'contains(euphegenia)': False, 'contains(overpopulated)': False, 'contains(mba)': False, 'contains(more)': False, 'contains(lanky)': False, 'contains(oldies)': False, 'contains(_titus_andronicus_)': False, 'contains(thora)': False, 'contains(rooker)': False, 'contains(copulate)': False, 'contains(islamic)': False, 'contains(sympathetically)': False, 'contains(betraying)': False, 'contains(dynamics)': False, 'contains(convincingly)': False, 'contains(bedridden)': False, 'contains(woody)': False, 'contains(sunny)': False, 'contains(combatants)': False, 'contains(cannibals)': False, 'contains(allah)': False, 'contains(capoeira)': False, 'contains(petey)': False, 'contains(codename)': False, 'contains(goregeous)': False, 'contains(beloved)': False, 'contains(hav)': False, 'contains(macho)': False, 'contains(chins)': False, 'contains(goddamn)': False, 'contains(desiring)': False, 'contains(watcher)': False, 'contains(congratulations)': False, 'contains(velda)': False, 'contains(stylistics)': False, 'contains(crowbar)': False, 'contains(ahern)': False, 'contains(pyroclastic)': False, 'contains(incongruent)': False, 'contains(isacsson)': False, 'contains(shocks)': False, 'contains(hideaway)': False, 'contains(alexandre)': False, 'contains(chirping)': False, 'contains(gunshot)': False, 'contains(nervousness)': False, 'contains(retroactive)': False, 'contains(nighthawks)': False, 'contains(cranked)': False, 'contains(disasters)': False, 'contains(quaint)': False, 'contains(wrinkled)': False, 'contains(frontgate)': False, 'contains(shadow)': False, 'contains(onw)': False, 'contains(binges)': False, 'contains(unjust)': False, 'contains(meantime)': False, 'contains(scorces)': False, 'contains(mirabella)': False, 'contains(charmed)': False, 'contains(stays)': False, 'contains(disgrace)': False, 'contains(yakov)': False, 'contains(therefore)': False, 'contains(grapples)': False, 'contains(painkiller)': False, 'contains(waning)': False, 'contains(recycles)': False, 'contains(symmetry)': False, 'contains(wants)': False, 'contains(f)': False, 'contains(melinda)': False, 'contains(magma)': False, 'contains(falstaff)': False, 'contains(battleships)': False, 'contains(shenanigans)': False, 'contains(locations)': False, 'contains(dumbest)': False, 'contains(diggler)': False, 'contains(dismantling)': False, 'contains(canran)': False, 'contains(ahmet)': False, 'contains(prizes)': False, 'contains(longo)': False, 'contains(overcooked)': False, 'contains(stereotypical)': False, 'contains(vivien)': False, 'contains(negativity)': False, 'contains(impacted)': False, 'contains(snugly)': False, 'contains(collides)': False, 'contains(stipulate)': False, 'contains(stifles)': False, 'contains(originally)': False, 'contains(upstate)': False, 'contains(gigolo)': False, 'contains(delectably)': False, 'contains(unjustifyably)': False, 'contains(pivot)': False, 'contains(spewing)': False, 'contains(former)': False, 'contains(fedoras)': False, 'contains(devito)': False, 'contains(telescope)': False, 'contains(collectively)': False, 'contains(savini)': False, 'contains(periodic)': False, 'contains(skewer)': False, 'contains(disasterous)': False, 'contains(enthrall)': False, 'contains(displays)': False, 'contains(carrion)': False, 'contains(weirdoes)': False, 'contains(buliwyf)': False, 'contains(palms)': False, 'contains(omaha)': False, 'contains(beesley)': False, 'contains(spyglass)': False, 'contains(spam)': False, 'contains(dyer)': False, 'contains(feeling)': False, 'contains(======)': False, 'contains(fueled)': False, 'contains(aussies)': False, 'contains(tenacious)': False, 'contains(restraints)': False, 'contains(doos)': False, 'contains(modest)': False, 'contains(chu)': False, 'contains(guitry)': False, 'contains(boarded)': False, 'contains(fistfights)': False, 'contains(trekkie)': False, 'contains(gripe)': False, 'contains(universally)': False, 'contains(lingering)': False, 'contains(breakfast)': False, 'contains(societal)': False, 'contains(courses)': False, 'contains(outburst)': False, 'contains(hatchette)': False, 'contains(obscured)': False, 'contains(floated)': False, 'contains(limburgher)': False, 'contains(gorman)': False, 'contains(pissant)': False, 'contains(mussenden)': False, 'contains(underlining)': False, 'contains(duet)': False, 'contains(estimate)': False, 'contains(testaments)': False, 'contains(francesca)': False, 'contains(lameness)': False, 'contains(bliss)': False, 'contains(slothful)': False, 'contains(bazooms)': False, 'contains(smirk)': False, 'contains(haw)': False, 'contains(glowers)': False, 'contains(learn)': False, 'contains(playfulness)': False, 'contains(hackwork)': False, 'contains(distractedness)': False, 'contains(perturbed)': False, 'contains(aboard)': False, 'contains(enliven)': False, 'contains(briesewitz)': False, 'contains(exasperating)': False, 'contains(ambiguities)': False, 'contains(waitering)': False, 'contains(israel)': False, 'contains(insane)': False, 'contains(kfc)': False, 'contains(spin)': False, 'contains(tracking)': False, 'contains(massironi)': False, 'contains(directs)': False, 'contains(limitless)': False, 'contains(slaver)': False, 'contains(chrissy)': False, 'contains(lang)': False, 'contains(droning)': False, 'contains(deserved)': False, 'contains(bozo)': False, 'contains(apropos)': False, 'contains(subplots)': False, 'contains(parlay)': False, 'contains(hai)': False, 'contains(healed)': False, 'contains(collided)': False, 'contains(expanded)': False, 'contains(academic)': False, 'contains(chaz)': False, 'contains(pridefully)': False, 'contains(twisting)': False, 'contains(whacking)': False, 'contains(francesco)': False, 'contains(turkish)': False, 'contains(extend)': False, 'contains(sock)': False, 'contains(kriss)': False, 'contains(tolan)': False, 'contains(concentrates)': False, 'contains(friend)': False, 'contains(small)': False, 'contains(landslide)': False, 'contains(himalayas)': False, 'contains(clarkson)': False, 'contains(delicately)': False, 'contains(punishable)': False, 'contains(chow)': False, 'contains(simplify)': False, 'contains(romper)': False, 'contains(rickman)': False, 'contains(shipments)': False, 'contains(inanimate)': False, 'contains(gershon)': False, 'contains(unsubstantial)': False, 'contains(neophytes)': False, 'contains(unsinkable)': False, 'contains(bohemians)': False, 'contains(surname)': False, 'contains(noteables)': False, 'contains(pooper)': False, 'contains(boozed)': False, 'contains(villiany)': False, 'contains(cuisine)': False, 'contains(arkin)': False, 'contains(wires)': False, 'contains(barrel)': False, 'contains(coaxed)': False, 'contains(duper)': False, 'contains(nordoff)': False, 'contains(aboslutely)': False, 'contains(jonnie)': False, 'contains(flipper)': False, 'contains(issac)': False, 'contains(uplifting)': False, 'contains(satire)': False, 'contains(mesmerize)': False, 'contains(norm)': False, 'contains(sects)': False, 'contains(decapitation)': False, 'contains(weendigo)': False, 'contains(union)': False, 'contains(admired)': False, 'contains(municipality)': False, 'contains(initiate)': False, 'contains(sked)': False, 'contains(freehold)': False, 'contains(butchers)': False, 'contains(conscription)': False, 'contains(tempted)': False, 'contains(engaged)': False, 'contains(soviets)': False, 'contains(milquetoast)': False, 'contains(scrubs)': False, 'contains(binding)': False, 'contains(.)': True, 'contains(ire)': False, 'contains(neurologist)': False, 'contains(address)': False, 'contains(tantalizingly)': False, 'contains(shockwave)': False, 'contains(dickinson)': False, 'contains(tightrope)': False, 'contains(transported)': False, 'contains(symbolise)': False, 'contains(plucked)': False, 'contains(assuring)': False, 'contains(investment)': False, 'contains(tricks)': False, 'contains(r2)': False, 'contains(implicit)': False, 'contains(phelps)': False, 'contains(door)': False, 'contains(ghostbusters)': False, 'contains(emmylou)': False, 'contains(houseman)': False, 'contains(proprietor)': False, 'contains(shandling)': False, 'contains(masturbates)': False, 'contains(sonorra)': False, 'contains(obliges)': False, 'contains(bicentennial)': False, 'contains(faulkner)': False, 'contains(minnie)': False, 'contains(ambling)': False, 'contains(mythos)': False, 'contains(courageously)': False, 'contains(grandma)': False, 'contains(marquee)': False, 'contains(storyboarded)': False, 'contains(hairdresser)': False, 'contains(following)': False, 'contains(guamo)': False, 'contains(horsing)': False, 'contains(sedition)': False, 'contains(redirection)': False, 'contains(roots)': False, 'contains(painstakingly)': False, 'contains(contrastingly)': False, 'contains(dues)': False, 'contains(huddled)': False, 'contains(disengaging)': False, 'contains(disgraced)': False, 'contains(crater)': False, 'contains(fabric)': False, 'contains(zippers)': False, 'contains(attenuated)': False, 'contains(cultivating)': False, 'contains(gown)': False, 'contains(positively)': False, 'contains(singed)': False, 'contains(twotg)': False, 'contains(disturbed)': False, 'contains(liebes)': False, 'contains(peppy)': False, 'contains(vexing)': False, 'contains(holdover)': False, 'contains(singer)': False, 'contains(shawn)': False, 'contains(sprinkle)': False, 'contains(consoles)': False, 'contains(sensitively)': False, 'contains(midget)': False, 'contains(land)': False, 'contains(katie)': False, 'contains(jitters)': False, 'contains(corrects)': False, 'contains(magyuver)': False, 'contains(indiscretion)': False, 'contains(locks)': False, 'contains(integrating)': False, 'contains(loco)': False, 'contains(ratttz)': False, 'contains(flyboy)': False, 'contains(hessian)': False, 'contains(budget)': False, 'contains(turvy)': False, 'contains(occurs)': False, 'contains(kroon)': False, 'contains(customer)': False, 'contains(hugh)': False, 'contains(ayla)': False, 'contains(crowdpleasing)': False, 'contains(embrassment)': False, 'contains(hockley)': False, 'contains(jovovich)': False, 'contains(malfunctions)': False, 'contains(jiang)': False, 'contains(scoffs)': False, 'contains(filmcritic)': False, 'contains(ahmed)': False, 'contains(zappa)': False, 'contains(designing)': False, 'contains(rabbinical)': False, 'contains(kyzynski)': False, 'contains(meaner)': False, 'contains(palisades)': False, 'contains(kensington)': False, 'contains(uhhhhhm)': False, 'contains(faceted)': False, 'contains(cadence)': False, 'contains(delroy)': False, 'contains(laughton)': False, 'contains(unequipped)': False, 'contains(pales)': False, 'contains(portait)': False, 'contains(photos)': False, 'contains(bouncy)': False, 'contains(_dragon_)': False, 'contains(sensitivity)': False, 'contains(assigns)': False, 'contains(tasting)': False, 'contains(dismissed)': False, 'contains(namuth)': False, 'contains(kids)': False, 'contains(acted)': False, 'contains(materialized)': False, 'contains(concentrated)': False, 'contains(individuals)': False, 'contains(alarming)': False, 'contains(wyman)': False, 'contains(elisa)': False, 'contains(internet)': False, 'contains(pass)': False, 'contains(existential)': False, 'contains(pencil)': False, 'contains(hennings)': False, 'contains(boorman)': False, 'contains(hash)': False, 'contains(balaban)': False, 'contains(exclaimed)': False, 'contains(chat)': False, 'contains(reconstruction)': False, 'contains(rocque)': False, 'contains(sensational)': False, 'contains(morose)': False, 'contains(rewatched)': False, 'contains(quarter)': False, 'contains(maclachlan)': False, 'contains(agitation)': False, 'contains(rover)': False, 'contains(eradicate)': False, 'contains(restoring)': False, 'contains(neilsen)': False, 'contains(traumatized)': False, 'contains(bureaucrat)': False, 'contains(padded)': False, 'contains(wickedly)': False, 'contains(self)': False, 'contains(overal)': False, 'contains(frieberg)': False, 'contains(teresa)': False, 'contains(jetsons)': False, 'contains(puzzling)': False, 'contains(gloomy)': False, 'contains(jip)': False, 'contains(waving)': False, 'contains(reconciling)': False, 'contains(typhoon)': False, 'contains(professionally)': False, 'contains(magwitch)': False, 'contains(lengthen)': False, 'contains(_eve)': False, 'contains(chabert)': False, 'contains(tamahori)': False, 'contains(welcomed)': False, 'contains(crates)': False, 'contains(reap)': False, 'contains(suffice)': False, 'contains(xenophobe)': False, 'contains(controversy)': False, 'contains(caned)': False, 'contains(mishandle)': False, 'contains(hay)': False, 'contains(honk)': False, 'contains(henceforth)': False, 'contains(sojourn)': False, 'contains(amphibians)': False, 'contains(rage)': False, 'contains(funicello)': False, 'contains(buzzsaw)': False, 'contains(fornicators)': False, 'contains(naomi)': False, 'contains(sci)': False, 'contains(lane)': False, 'contains(effects)': False, 'contains(uploaded)': False, 'contains(bueller)': False, 'contains(gadget)': False, 'contains(reactions)': False, 'contains(academia)': False, 'contains(brainless)': False, 'contains(henreid)': False, 'contains(debilitating)': False, 'contains(oblige)': False, 'contains(patrolled)': False, 'contains(realisation)': False, 'contains(explosions)': False, 'contains(voicework)': False, 'contains(raucous)': False, 'contains(edges)': False, 'contains(hoyle)': False, 'contains(pumpkins)': False, 'contains(tamara)': False, 'contains(eduard)': False, 'contains(vegetative)': False, 'contains(k)': False, 'contains(casualness)': False, 'contains(uninterrupted)': False, 'contains(amalgamation)': False, 'contains(exact)': False, 'contains(harnessed)': False, 'contains(moderately)': False, 'contains(minute)': False, 'contains(canning)': False, 'contains(continents)': False, 'contains(comically)': False, 'contains(stagecoach)': False, 'contains(harve)': False, 'contains(bummer)': False, 'contains(barren)': False, 'contains(colorized)': False, 'contains(edgecomb)': False, 'contains(rewarded)': False, 'contains(also)': True, 'contains(hormones)': False, 'contains(losin)': False, 'contains(policed)': False, 'contains(tardis)': False, 'contains(fecal)': False, 'contains(blond)': False, 'contains(detested)': False, 'contains(playback)': False, 'contains(reingold)': False, 'contains(rulebook)': False, 'contains(undeveloped)': False, 'contains(wynt)': False, 'contains(toucha)': False, 'contains(connection)': False, 'contains(matheson)': False, 'contains(civilians)': False, 'contains(scream)': True, 'contains(scalvaging)': False, 'contains(rica)': False, 'contains(brassed)': False, 'contains(troubled)': False, 'contains(altogether)': False, 'contains(oldham)': False, 'contains(dave)': False, 'contains(bacri)': False, 'contains(slurring)': False, 'contains(bakersfield)': False, 'contains(droves)': False, 'contains(carters)': False, 'contains(ineffable)': False, 'contains(beristain)': False, 'contains(spar)': False, 'contains(von)': False, 'contains(coachmen)': False, 'contains(mafioso)': False, 'contains(mora)': False, 'contains(crackled)': False, 'contains(working)': False, 'contains(plate)': False, 'contains(opposed)': False, 'contains(unrepentant)': False, 'contains(mayer)': False, 'contains(vision)': False, 'contains(clock)': False, 'contains(unveil)': False, 'contains(hickey)': False, 'contains(swanky)': False, 'contains(brazilian)': False, 'contains(rootless)': False, 'contains(turnaround)': False, 'contains(conceptions)': False, 'contains(metamorphoses)': False, 'contains(heirloom)': False, 'contains(looted)': False, 'contains(photon)': False, 'contains(climb)': False, 'contains(last)': False, 'contains(sidekicks)': False, 'contains(traffic)': False, 'contains(honeymoon)': False, 'contains(interactivity)': False, 'contains(farsical)': False, 'contains(lasso)': False, 'contains(principals)': False, 'contains(china)': True, 'contains(intrepid)': False, 'contains(maltese)': False, 'contains(choice)': False, 'contains(kuei)': False, 'contains(unwittingly)': False, 'contains(lifeline)': False, 'contains(sums)': False, 'contains(demarco)': False, 'contains(orleans)': False, 'contains(thurman)': False, 'contains(treason)': False, 'contains(woods)': False, 'contains(captive)': False, 'contains(mummified)': False, 'contains(everclear)': False, 'contains(droppingly)': False, 'contains(patriarch)': False, 'contains(portobello)': False, 'contains(ooooooo)': False, 'contains(vaporize)': False, 'contains(tahoe)': False, 'contains(dinosaurs)': False, 'contains(remaning)': False, 'contains(underbelly)': False, 'contains(one)': True, 'contains(watches)': False, 'contains(hal)': False, 'contains(megabytes)': False, 'contains(sealed)': False, 'contains(hopkins)': False, 'contains(unlikeable)': False, 'contains(remedy)': False, 'contains(thomsen)': False, 'contains(riots)': False, 'contains(everytime)': False, 'contains(affairs)': False, 'contains(tragicomic)': False, 'contains(scraped)': False, 'contains(confidence)': False, 'contains(clarified)': False, 'contains(resemblances)': False, 'contains(feuds)': False, 'contains(muck)': False, 'contains(mindless)': False, 'contains(awkwardness)': False, 'contains(grueling)': False, 'contains(singles)': False, 'contains(glamor)': False, 'contains(innuendos)': False, 'contains(neglect)': False, 'contains(lipstick)': False, 'contains(heartedness)': False, 'contains(portrayed)': False, 'contains(salva)': False, 'contains(damning)': False, 'contains(bandaras)': False, 'contains(beyer)': False, 'contains(squeezes)': False, 'contains(rehash)': False, 'contains(emotion)': False, 'contains(boiled)': False, 'contains(mckidd)': False, 'contains(yankovich)': False, 'contains(amuck)': False, 'contains(_escape)': False, 'contains(puppy)': False, 'contains(overboard)': False, 'contains(structuring)': False, 'contains(inquired)': False, 'contains(dangerfield)': False, 'contains(sank)': False, 'contains(heavyweight)': False, 'contains(coaxing)': False, 'contains(caruso)': False, 'contains(splashing)': False, 'contains(carping)': False, 'contains(blizzard)': False, 'contains(demolition)': False, 'contains(employ)': False, 'contains(calculation)': False, 'contains(isaak)': False, 'contains(repayment)': False, 'contains(feasibility)': False, 'contains(influx)': False, 'contains(saint)': False, 'contains(tiegs)': False, 'contains(experience)': False, 'contains(locker)': False, 'contains(preciously)': False, 'contains(pairs)': False, 'contains(espouses)': False, 'contains(childs)': False, 'contains(vicent)': False, 'contains(dusty)': False, 'contains(prancer)': False, 'contains(overthrow)': False, 'contains(retarded)': False, 'contains(mcnamara)': False, 'contains(studious)': False, 'contains(listens)': False, 'contains(emergency)': False, 'contains(split)': False, 'contains(saving)': False, 'contains(unequivocally)': False, 'contains(admire)': False, 'contains(vamires)': False, 'contains(smashes)': False, 'contains(overwhelmed)': False, 'contains(sucess)': False, 'contains(48th)': False, 'contains(prostrate)': False, 'contains(haplessly)': False, 'contains(glean)': False, 'contains(verges)': False, 'contains(hounded)': False, 'contains(excuses)': False, 'contains(jere)': False, 'contains(quartet)': False, 'contains(recipients)': False, 'contains(crescendo)': False, 'contains(merpeople)': False, 'contains(dowling)': False, 'contains(skywalker)': False, 'contains(canet)': False, 'contains(dyed)': False, 'contains(taj)': False, 'contains(veer)': False, 'contains(project)': False, 'contains(beatng)': False, 'contains(spews)': False, 'contains(jacks)': False, 'contains(spectrum)': False, 'contains(boarder)': False, 'contains(rewards)': False, 'contains(schandling)': False, 'contains(antagonizes)': False, 'contains(workplace)': False, 'contains(complicated)': False, 'contains(dysfuntion)': False, 'contains(afi)': False, 'contains(scatter)': False, 'contains(raeeyain)': False, 'contains(dirty)': False, 'contains(suspensefully)': False, 'contains(weeds)': False, 'contains(palme)': False, 'contains(deflection)': False, 'contains(enrols)': False, 'contains(jewels)': False, 'contains(barcode)': False, 'contains(wolves)': False, 'contains(research)': False, 'contains(tripe)': False, 'contains(infamous)': False, 'contains(recoiling)': False, 'contains(scrumptiously)': False, 'contains(spearing)': False, 'contains(firorina)': False, 'contains(plath)': False, 'contains(amusements)': False, 'contains(parasites)': False, 'contains(causes)': False, 'contains(gallagher)': False, 'contains(sometimes)': False, 'contains(explainable)': False, 'contains(opal)': False, 'contains(hone)': False, 'contains(psychiatric)': False, 'contains(ham)': False, 'contains(invite)': False, 'contains(cream)': False, 'contains(november)': False, 'contains(rawhide)': False, 'contains(moons)': False, 'contains(multitudes)': False, 'contains(errors)': False, 'contains(deflate)': False, 'contains(sleuthing)': False, 'contains(oilrig)': False, 'contains(prostitues)': False, 'contains(dialogueless)': False, 'contains(attendance)': False, 'contains(paraglider)': False, 'contains(massaging)': False, 'contains(deadpan)': False, 'contains(snake)': False, 'contains(racers)': False, 'contains(gases)': False, 'contains(corrected)': False, 'contains(considerable)': False, 'contains(indigenous)': False, 'contains(definition)': False, 'contains(retrieve)': False, 'contains(admitedly)': False, 'contains(beings)': False, 'contains(kasinsky)': False, 'contains(testament)': False, 'contains(rhodes)': False, 'contains(lyricized)': False, 'contains(elmo)': False, 'contains(daqughter)': False, 'contains(ballhaus)': False, 'contains(paychecks)': False, 'contains(world)': True, 'contains(zsigmond)': False, 'contains(crowned)': False, 'contains(gopher)': False, 'contains(activists)': False, 'contains(grasping)': False, 'contains(adaptable)': False, 'contains(emanating)': False, 'contains(maliciously)': False, 'contains(polemic)': False, 'contains(affiliated)': False, 'contains(imagines)': False, 'contains(videoshelves)': False, 'contains(concurrence)': False, 'contains(ocious)': False, 'contains(loren)': False, 'contains(biederman)': False, 'contains(claustral)': False, 'contains(motives)': False, 'contains(penthouse)': False, 'contains(sentencing)': False, 'contains(professors)': False, 'contains(rejoiced)': False, 'contains(yevgeny)': False, 'contains(whodunit)': False, 'contains(appropriately)': False, 'contains(robot)': False, 'contains(alice)': False, 'contains(majestically)': False, 'contains(years)': False, 'contains(theroux)': False, 'contains(zoo)': False, 'contains(west)': False, 'contains(nntphub)': False, 'contains(tonino)': False, 'contains(benefit)': False, 'contains(prances)': False, 'contains(reacquaints)': False, 'contains(natalie)': False, 'contains(rediscovers)': False, 'contains(sharpe)': False, 'contains(cheaply)': False, 'contains(rico)': False, 'contains(opposite)': False, 'contains(recycled)': False, 'contains(past)': False, 'contains(francois)': False, 'contains(disobeying)': False, 'contains(sprouted)': False, 'contains(jia)': False, 'contains(instability)': False, 'contains(ira)': False, 'contains(stamping)': False, 'contains(eery)': False, 'contains(murphy)': False, 'contains(lookin)': False, 'contains(witt)': False, 'contains(hanging)': False, 'contains(jargon)': False, 'contains(suspension)': False, 'contains(cagey)': False, 'contains(wraps)': False, 'contains(benches)': False, 'contains(respective)': False, 'contains(didi)': False, 'contains(fleischer)': False, 'contains(retains)': False, 'contains(remand)': False, 'contains(likeablity)': False, 'contains(educational)': False, 'contains(obscures)': False, 'contains(intelligent)': False, 'contains(incense)': False, 'contains(kret)': False, 'contains(friction)': False, 'contains(influence)': False, 'contains(morally)': False, 'contains(mistreated)': False, 'contains(lively)': False, 'contains(wholesome)': False, 'contains(recognizing)': False, 'contains(yahoo)': False, 'contains(salads)': False, 'contains(initiation)': False, 'contains(gavan)': False, 'contains(barrymore)': False, 'contains(mournful)': False, 'contains(caraciture)': False, 'contains(complexly)': False, 'contains(caged)': False, 'contains(bell)': False, 'contains(richelieu)': False, 'contains(gypsies)': False, 'contains(zucker)': False, 'contains(globally)': False, 'contains(diverted)': False, 'contains(chair)': False, 'contains(cavanaugh)': False, 'contains(situation)': False, 'contains(stetson)': False, 'contains(americanised)': False, 'contains(broiled)': False, 'contains(masquerading)': False, 'contains(fearlessly)': False, 'contains(sumo)': False, 'contains(periodical)': False, 'contains(seize)': False, 'contains(mishap)': False, 'contains(reuben)': False, 'contains(rush)': False, 'contains(abound)': False, 'contains(melbourne)': False, 'contains(oversight)': False, 'contains(cecilia)': False, 'contains(topicality)': False, 'contains(conjure)': False, 'contains(tomahawk)': False, 'contains(wakes)': False, 'contains(patois)': False, 'contains(kihlstedt)': False, 'contains(han)': False, 'contains(bandits)': False, 'contains(defeatist)': False, 'contains(mendes)': False, 'contains(crown)': False, 'contains(boondocks)': False, 'contains(restlessness)': False, 'contains(averse)': False, 'contains(messier)': False, 'contains(flooded)': False, 'contains(lock)': False, 'contains(commensurately)': False, 'contains(gregor)': False, 'contains(sabotaging)': False, 'contains(signy)': False, 'contains(unformal)': False, 'contains(adapt)': False, 'contains(cleverness)': False, 'contains(abbots)': False, 'contains(patch)': False, 'contains(realize)': False, 'contains(seagrave)': False, 'contains(beaman)': False, 'contains(nears)': False, 'contains(blunted)': False, 'contains(choudhury)': False, 'contains(coolness)': False, 'contains(almasy)': False, 'contains(sickness)': False, 'contains(bukater)': False, 'contains(sweats)': False, 'contains(vargas)': False, 'contains(askew)': False, 'contains(erica)': False, 'contains(primeval)': False, 'contains(interned)': False, 'contains(johnston)': False, 'contains(songwriter)': False, 'contains(respite)': False, 'contains(multidimensional)': False, 'contains(follower)': False, 'contains(seriously)': False, 'contains(originality)': False, 'contains(loveliest)': False, 'contains(flits)': False, 'contains(abused)': False, 'contains(inhuman)': False, 'contains(vomits)': False, 'contains(kethcum)': False, 'contains(sang)': False, 'contains(passenger)': False, 'contains(imagined)': False, 'contains(leadership)': False, 'contains(ethnocentric)': False, 'contains(prosper)': False, 'contains(crook)': False, 'contains(buffet)': False, 'contains(fig)': False, 'contains(chucky)': False, 'contains(memoirs)': False, 'contains(kaminski)': False, 'contains(tilting)': False, 'contains(czech)': False, 'contains(_would_)': False, 'contains(improvisationaly)': False, 'contains(linebackers)': False, 'contains(disjointed)': False, 'contains(wang)': False, 'contains(modernizing)': False, 'contains(foreheads)': False, 'contains(catchiness)': False, 'contains(raiders)': False, 'contains(silencers)': False, 'contains(uncouth)': False, 'contains(idly)': False, 'contains(voe)': False, 'contains(exuberantly)': False, 'contains(hallucinogenic)': False, 'contains(mackey)': False, 'contains(cartman)': False, 'contains(retrospect)': False, 'contains(vow)': False, 'contains(egotistical)': False, 'contains(snatch)': False, 'contains(hofstra)': False, 'contains(crooned)': False, 'contains(fifteen)': False, 'contains(doctoring)': False, 'contains(aaaaaaaahhhh)': False, 'contains(purred)': False, 'contains(lapping)': False, 'contains(allie)': False, 'contains(thaddeus)': False, 'contains(guarding)': False, 'contains(hawaiian)': False, 'contains(protovision)': False, 'contains(chopping)': False, 'contains(yugoslavian)': False, 'contains(internalize)': False, 'contains(inserting)': False, 'contains(monogamy)': False, 'contains(company)': False, 'contains(wooden)': False, 'contains(awestruck)': False, 'contains(tribes)': False, 'contains(intestines)': False, 'contains(obese)': False, 'contains(frighteners)': False, 'contains(shread)': False, 'contains(prepared)': False, 'contains(travel)': False, 'contains(yeager)': False, 'contains(royalist)': False, 'contains(slimeball)': False, 'contains(colorfully)': False, 'contains(pimple)': False, 'contains(into)': True, 'contains(firth)': False, 'contains(braggarts)': False, 'contains(babs)': False, 'contains(crackin)': False, 'contains(workmanlike)': False, 'contains(forrester)': False, 'contains(idle)': False, 'contains(cusack)': False, 'contains(accomplished)': True, 'contains(skewed)': False, 'contains(zahn)': False, 'contains(hong)': True, 'contains(sebastiano)': False, 'contains(clicked)': False, 'contains(paperwork)': False, 'contains(unwraps)': False, 'contains(wayward)': False, 'contains(rayden)': False, 'contains(torpedoes)': False, 'contains(elgar)': False, 'contains(sell)': False, 'contains(ernie)': False, 'contains(bongos)': False, 'contains(boatload)': False, 'contains(flowing)': False, 'contains(crashlands)': False, 'contains(nuptials)': False, 'contains(allegra)': False, 'contains(plotless)': False, 'contains(obssessed)': False, 'contains(realizes)': False, 'contains(advertisment)': False, 'contains(lass)': False, 'contains(spatula)': False, 'contains(initation)': False, 'contains(bigscreen)': False, 'contains(voyeuristic)': False, 'contains(grooms)': False, 'contains(blunderheaded)': False, 'contains(barton)': False, 'contains(cooks)': False, 'contains(blended)': False, 'contains(chapelle)': False, 'contains(thigh)': False, 'contains(arrow)': False, 'contains(legitimately)': False, 'contains(yojimbo)': False, 'contains(eleven)': False, 'contains(engagingly)': False, 'contains(competed)': False, 'contains(miniatures)': False, 'contains(postal)': False, 'contains(deloreans)': False, 'contains(climbs)': False, 'contains(stanleyville)': False, 'contains(thieves)': False, 'contains(fades)': False, 'contains(hugo)': False, 'contains(cayman)': False, 'contains(phil)': False, 'contains(sciorra)': False, 'contains(downloading)': False, 'contains(impaling)': False, 'contains(deuteronomy)': False, 'contains(projection)': False, 'contains(tanked)': False, 'contains(bogan)': False, 'contains(odile)': False, 'contains(palentologist)': False, 'contains(confronts)': False, 'contains(bottom)': False, 'contains(portorican)': False, 'contains(inventively)': False, 'contains(cuffs)': False, 'contains(boxing)': False, 'contains(consenting)': False, 'contains(accommodations)': False, 'contains(rapes)': False, 'contains(narrations)': False, 'contains(shocking)': False, 'contains(variable)': False, 'contains(despised)': False, 'contains(resemble)': False, 'contains(rza)': False, 'contains(conciousness)': False, 'contains(haunt)': False, 'contains(rehab)': False, 'contains(comprehensible)': False, 'contains(attorney)': False, 'contains(frights)': False, 'contains(bilingual)': False, 'contains(poignantly)': False, 'contains(goofing)': False, 'contains(dethrones)': False, 'contains(reintroduced)': False, 'contains(alienbusting)': False, 'contains(mccleod)': False, 'contains(procured)': False, 'contains(melancholic)': False, 'contains(barclay)': False, 'contains(toontown)': False, 'contains(courier)': False, 'contains(lavishness)': False, 'contains(hugs)': False, 'contains(familar)': False, 'contains(rifling)': False, 'contains(thickened)': False, 'contains(martineau)': False, 'contains(millionaire)': False, 'contains(amiss)': False, 'contains(gratuitous)': False, 'contains(urinate)': False, 'contains(materializes)': False, 'contains(fro)': False, 'contains(recollections)': False, 'contains(frewer)': False, 'contains(essays)': False, 'contains(unnerve)': False, 'contains(diverse)': False, 'contains(roadster)': False, 'contains(sant)': False, 'contains(gleam)': False, 'contains(succumb)': False, 'contains(marched)': False, 'contains(superintendent)': False, 'contains(effortlessly)': True, 'contains(prescott)': False, 'contains(comparitive)': False, 'contains(thumps)': False, 'contains(_2001_)': False, 'contains(captivatingly)': False, 'contains(kinkiness)': False, 'contains(ofcs)': False, 'contains(with)': True, 'contains(disfigured)': False, 'contains(wynn)': False, 'contains(idols)': False, 'contains(lounging)': False, 'contains(lindner)': False, 'contains(arousal)': False, 'contains(vainly)': False, 'contains(huns)': False, 'contains(intent)': False, 'contains(rosselini)': False, 'contains(jubilantly)': False, 'contains(novelty)': False, 'contains(unparalleled)': False, 'contains(insight)': False, 'contains(workmates)': False, 'contains(perfect)': False, 'contains(1600s)': False, 'contains(impressions)': False, 'contains(rumored)': False, 'contains(getaway)': False, 'contains(slickster)': False, 'contains(dirtier)': False, 'contains(spoken)': False, 'contains(dryland)': False, 'contains(chain)': False, 'contains(realized)': False, 'contains(_people_)': False, 'contains(tech)': False, 'contains(brotherhood)': False, 'contains(operation)': False, 'contains(houston)': False, 'contains(guiler)': False, 'contains(sublte)': False, 'contains(newspaper)': False, 'contains(dick_)': False, 'contains(eddie)': False, 'contains(ulcer)': False, 'contains(fanatasies)': False, 'contains(tv2)': False, 'contains(emerich)': False, 'contains(caused)': False, 'contains(missy)': False, 'contains(marshals)': False, 'contains(jittery)': False, 'contains(dolly)': False, 'contains(hap)': False, 'contains(barbarino)': False, 'contains(insecurity)': False, 'contains(numeral)': False, 'contains(decorating)': False, 'contains(crotch)': False, 'contains(cherbourg)': False, 'contains(controversies)': False, 'contains(dwindling)': False, 'contains(cormack)': False, 'contains(buffed)': False, 'contains(committing)': False, 'contains(powaqqatsi)': False, 'contains(malevolent)': False, 'contains(insubordination)': False, 'contains(awards)': False, 'contains(visually)': False, 'contains(tvs)': False, 'contains(thailand)': False, 'contains(rejoin)': False, 'contains(sommerset)': False, 'contains(disheveled)': False, 'contains(seclusion)': False, 'contains(comedy)': True, 'contains(silva)': False, 'contains(hypnotist)': False, 'contains(scraggly)': False, 'contains(thai)': False, 'contains(terrorists)': False, 'contains(nebbish)': False, 'contains(documentarian)': False, 'contains(waterlogged)': False, 'contains(cynics)': False, 'contains(understands)': False, 'contains(jugs)': False, 'contains(boardroom)': False, 'contains(15th)': False, 'contains(subkoff)': False, 'contains(hab)': False, 'contains(24th)': False, 'contains(comely)': False, 'contains(dicks)': False, 'contains(copyrighted)': False, 'contains(paper)': False, 'contains(denny)': False, 'contains(leonardo)': False, 'contains(matsumoto)': False, 'contains(sane)': False, 'contains(intended)': False, 'contains(kaminsky)': False, 'contains(underbids)': False, 'contains(brides)': False, 'contains(retrograding)': False, 'contains(overpowering)': False, 'contains(depravity)': False, 'contains(tingles)': False, 'contains(multiracial)': False, 'contains(eighteen)': False, 'contains(flashback)': False, 'contains(homogeneity)': False, 'contains(knowingly)': False, 'contains(full)': False, 'contains(wcw)': False, 'contains(divine)': False, 'contains(pleasured)': False, 'contains(reverence)': False, 'contains(loca)': False, 'contains(suburbs)': False, 'contains(toothed)': False, 'contains(infect)': False, 'contains(greener)': False, 'contains(quicker)': False, 'contains(wane)': False, 'contains(video)': False, 'contains(catchy)': False, 'contains(service)': False, 'contains(\\\\)': False, 'contains(maclaine)': False, 'contains(associating)': False, 'contains(critter)': False, 'contains(pesimism)': False, 'contains(resonates)': False, 'contains(gooey)': False, 'contains(installed)': False, 'contains(exaggerations)': False, 'contains(dishearteningly)': False, 'contains(knocked)': False, 'contains(justly)': False, 'contains(intend)': False, 'contains(sans)': False, 'contains(illness)': False, 'contains(manga)': False, 'contains(menancing)': False, 'contains(otherworldly)': False, 'contains(existentialist)': False, 'contains(sickeningly)': False, 'contains(jerk)': False, 'contains(role)': False, 'contains(hasn)': False, 'contains(introspection)': False, 'contains(frizzi)': False, 'contains(triangles)': False, 'contains(parents)': False, 'contains(crookier)': False, 'contains(fakeouts)': False, 'contains(mat)': False, 'contains(indifference)': False, 'contains(prakazrel)': False, 'contains(spielbergization)': False, 'contains(33)': False, 'contains(chorus)': False, 'contains(ugh)': False, 'contains(tornatore)': False, 'contains(cleon)': False, 'contains(squirming)': False, 'contains(bogie)': False, 'contains(panicked)': False, 'contains(automats)': False, 'contains(rossi)': False, 'contains(festivities)': False, 'contains(lash)': False, 'contains(zzzzzzz)': False, 'contains(maxwell)': False, 'contains(readings)': False, 'contains(shoots)': False, 'contains(unabashedly)': False, 'contains(septic)': False, 'contains(riders)': False, 'contains(sooty)': False, 'contains(teck)': False, 'contains(disconnect)': False, 'contains(dubious)': False, 'contains(diminishing)': False, 'contains(dancefloor)': False, 'contains(adaptation)': False, 'contains(victor)': False, 'contains(oneness)': False, 'contains(plunges)': False, 'contains(healer)': False, 'contains(disdains)': False, 'contains(quiclky)': False, 'contains(anette)': False, 'contains(reiser)': False, 'contains(secular)': False, 'contains(fondled)': False, 'contains(911)': False, 'contains(jacki)': False, 'contains(leia)': False, 'contains(ogled)': False, 'contains(davidovitch)': False, 'contains(finklestein)': False, 'contains(undeterred)': False, 'contains(dwells)': False, 'contains(dentures)': False, 'contains(bringing)': False, 'contains(matchmakers)': False, 'contains(pleasures)': True, 'contains(freelance)': False, 'contains(slashfest)': False, 'contains(abbott)': False, 'contains(localized)': False, 'contains(liaisons)': False, 'contains(fit)': False, 'contains(trips)': False, 'contains(wreaked)': False, 'contains(next)': False, 'contains(theater)': False, 'contains(swigert)': False, 'contains(civilian)': False, 'contains(suppression)': False, 'contains(punts)': False, 'contains(charade)': False, 'contains(wordlessly)': False, 'contains(abuses)': False, 'contains(billboard)': False, 'contains(sextette)': False}\n"
     ]
    }
   ],
   "source": [
    "print(document_features(movie_reviews.words('pos/cv957_8737.txt')))"
   ]
  },
  {
   "cell_type": "code",
   "execution_count": 47,
   "metadata": {},
   "outputs": [],
   "source": [
    "featuresets = [(document_features(d), c) for (d,c) in documents]\n",
    "train_set, test_set = featuresets[100:], featuresets[:100]\n",
    "classifier = nltk.NaiveBayesClassifier.train(train_set)"
   ]
  },
  {
   "cell_type": "code",
   "execution_count": 48,
   "metadata": {},
   "outputs": [
    {
     "data": {
      "text/plain": [
       "u'neg'"
      ]
     },
     "execution_count": 48,
     "metadata": {},
     "output_type": "execute_result"
    }
   ],
   "source": [
    "classifier.classify(document_features(\"a movie with bad actors\".split(\" \")))"
   ]
  },
  {
   "cell_type": "code",
   "execution_count": 49,
   "metadata": {},
   "outputs": [
    {
     "data": {
      "text/plain": [
       "u'pos'"
      ]
     },
     "execution_count": 49,
     "metadata": {},
     "output_type": "execute_result"
    }
   ],
   "source": [
    "classifier.classify(document_features(\"an uplifting movie with russel crowe\".split(\" \")))"
   ]
  },
  {
   "cell_type": "code",
   "execution_count": 50,
   "metadata": {},
   "outputs": [
    {
     "name": "stdout",
     "output_type": "stream",
     "text": [
      "Most Informative Features\n",
      "          contains(sans) = True              neg : pos    =      8.9 : 1.0\n",
      "     contains(uplifting) = True              pos : neg    =      8.7 : 1.0\n",
      "    contains(mediocrity) = True              neg : pos    =      7.6 : 1.0\n",
      "        contains(fabric) = True              pos : neg    =      6.4 : 1.0\n",
      "   contains(overwhelmed) = True              pos : neg    =      6.4 : 1.0\n",
      "       contains(topping) = True              pos : neg    =      5.8 : 1.0\n",
      "         contains(sunny) = True              pos : neg    =      5.8 : 1.0\n",
      "          contains(wits) = True              pos : neg    =      5.8 : 1.0\n",
      "          contains(lang) = True              pos : neg    =      5.8 : 1.0\n",
      "           contains(ugh) = True              neg : pos    =      5.7 : 1.0\n"
     ]
    }
   ],
   "source": [
    "classifier.show_most_informative_features(10)"
   ]
  }
 ],
 "metadata": {
  "kernelspec": {
   "display_name": "Python 2",
   "language": "python",
   "name": "python2"
  },
  "language_info": {
   "codemirror_mode": {
    "name": "ipython",
    "version": 2
   },
   "file_extension": ".py",
   "mimetype": "text/x-python",
   "name": "python",
   "nbconvert_exporter": "python",
   "pygments_lexer": "ipython2",
   "version": "2.7.15"
  }
 },
 "nbformat": 4,
 "nbformat_minor": 2
}
