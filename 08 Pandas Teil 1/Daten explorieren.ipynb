{
 "cells": [
  {
   "cell_type": "markdown",
   "metadata": {},
   "source": [
    "# Datensets explorieren"
   ]
  },
  {
   "cell_type": "markdown",
   "metadata": {},
   "source": [
    "**Inhalt:** Erste Schritte mit Pandas\n",
    "\n",
    "**Nötige Skills:** Keine\n",
    "\n",
    "**Lernziele:**\n",
    "- Datensets herunterladen, Datensets öffnen\n",
    "- Umfang der Daten, Felder und groben Inhalt erkennen\n",
    "- Einfache deskriptive Statistiken\n",
    "- Plotting Level 0"
   ]
  },
  {
   "cell_type": "markdown",
   "metadata": {},
   "source": [
    "# Das Beispiel\n",
    "\n",
    "Eine Datenbank zu den verhängten Todesstrafen und Exekutionen in den USA seit 1991\n",
    "\n",
    "Quelle/Beschreibung: http://endofitsrope.com/data-and-documents/\n",
    "\n",
    "Daten: http://endofitsrope.com/wp-content/uploads/2018/03/1991_2017_individualFIPS.csv-1991_2017_individualFIPS.csv\n",
    "\n",
    "**Laden Sie das Datenfile herunter und speichern Sie es an einem geeigneten Ort**\n",
    "\n",
    "(zum Beispiel in einem Unterordner `dataprojects/death-sentences`)"
   ]
  },
  {
   "cell_type": "markdown",
   "metadata": {},
   "source": [
    "## Vorbereitung"
   ]
  },
  {
   "cell_type": "markdown",
   "metadata": {},
   "source": [
    "Um die pandas library zu benutzen, müssen wir sie immer zuerst importieren"
   ]
  },
  {
   "cell_type": "code",
   "execution_count": null,
   "metadata": {
    "collapsed": true
   },
   "outputs": [],
   "source": [
    "import pandas as pd"
   ]
  },
  {
   "cell_type": "markdown",
   "metadata": {},
   "source": [
    "## Datenfile laden"
   ]
  },
  {
   "cell_type": "markdown",
   "metadata": {},
   "source": [
    "Zuerst mal: Wo ist überhaupt die Datendatei, die wir gerade heruntergeladen haben?\n",
    "\n",
    "**TIPP:** Tabulator-Taste während dem Tippen benutzen, um den Pfad auszulesen"
   ]
  },
  {
   "cell_type": "code",
   "execution_count": null,
   "metadata": {
    "collapsed": true
   },
   "outputs": [],
   "source": [
    "path = \"dataprojects/death-sentences/1991_2017_individualFIPS.csv-1991_2017_individualFIPS.csv\""
   ]
  },
  {
   "cell_type": "code",
   "execution_count": null,
   "metadata": {
    "collapsed": true
   },
   "outputs": [],
   "source": []
  },
  {
   "cell_type": "markdown",
   "metadata": {},
   "source": [
    "Wir haben jetzt den Pfad zur Datei in der Variable `path` gespeichert"
   ]
  },
  {
   "cell_type": "markdown",
   "metadata": {},
   "source": [
    "Jetzt wollen wir in die Datei hineinschauen. Was ein csv-File ist, wissen wir bereits: Eine Art Tabelle, bei der die einzelnen Spalten durch Kommas und die Zeilen durch Zeilenumbrüche getrennt sind. Schauen wir uns das nochmals kurz an:"
   ]
  },
  {
   "cell_type": "code",
   "execution_count": null,
   "metadata": {
    "collapsed": true
   },
   "outputs": [],
   "source": [
    "with open(path) as f:\n",
    "    dateiinhalt = f.read()"
   ]
  },
  {
   "cell_type": "code",
   "execution_count": null,
   "metadata": {},
   "outputs": [],
   "source": [
    "print(dateiinhalt)"
   ]
  },
  {
   "cell_type": "markdown",
   "metadata": {},
   "source": [
    "Um mit diesen Daten arbeiten zu können, brauchen wir sie in nützlicher Form. Genau dafür ist pandas da."
   ]
  },
  {
   "cell_type": "markdown",
   "metadata": {},
   "source": [
    "Wir lesen das Datenfile also nochmals - diesmal mit der pandas Funktion `read_csv()`.\n",
    "\n",
    "Pandas stellt das csv-File nun als Tabelle dar, mit Spaltentieln und einem Zeilen-Index.\n",
    "\n",
    "Die oberste Zeile im csv-File wird standardmässig verwendet, um die Spaltentitel zu bilden."
   ]
  },
  {
   "cell_type": "code",
   "execution_count": null,
   "metadata": {},
   "outputs": [],
   "source": [
    "pd.read_csv(path)"
   ]
  },
  {
   "cell_type": "markdown",
   "metadata": {},
   "source": [
    "Was wir hier sehen, nennt sich in pandas-Sprache ***dataframe***. Dataframes sind die python-Version von Exceltabellen.\n",
    "\n",
    "(Um es genau zu nehmen: wir sehen hier nicht das dataframe selbst, sondern eine Repräsentation davon)"
   ]
  },
  {
   "cell_type": "markdown",
   "metadata": {},
   "source": [
    "Wir wollen das dataframe allerdings nicht nur sehen, sondern auch damit arbeiten.\n",
    "\n",
    "Dazu müssen wir es in einer Variable speichern - der meistbenutzte Name dafür ist `df`.\n",
    "\n",
    "(Man könnte aber auch irgendeinen anderen Variablennamen nehmen, zB `meinLiebstesDataframe`)."
   ]
  },
  {
   "cell_type": "code",
   "execution_count": null,
   "metadata": {
    "collapsed": true
   },
   "outputs": [],
   "source": [
    "df = pd.read_csv(path)"
   ]
  },
  {
   "cell_type": "markdown",
   "metadata": {},
   "source": [
    "## Datenstruktur überblicken"
   ]
  },
  {
   "cell_type": "markdown",
   "metadata": {},
   "source": [
    "Der logische erste Schritt nach dem Einlesen eines Datenfile ist gewöhnlich, dass man sich einen Überblick über die Datenstruktur verschafft:\n",
    "- Zeilenzahl\n",
    "- Spaltenzahl\n",
    "- Spaltennamen\n",
    "- Datentypen\n",
    "- etc."
   ]
  },
  {
   "cell_type": "markdown",
   "metadata": {},
   "source": [
    "Die allereinfachste Art, das zu tun, ist, sich das Datenfile einfach visuell darstellen zu lassen, indem man den Variablennamen eintippt und den Codeblock ausführt.\n",
    "\n",
    "**Check:** Was sieht man in der Darstellung? Was sieht man nicht?"
   ]
  },
  {
   "cell_type": "code",
   "execution_count": null,
   "metadata": {},
   "outputs": [],
   "source": [
    "df"
   ]
  },
  {
   "cell_type": "markdown",
   "metadata": {},
   "source": [
    "### Anfang und Schluss anzeigen"
   ]
  },
  {
   "cell_type": "markdown",
   "metadata": {},
   "source": [
    "Manchmal möchte man in einem Notebook platzsparend arbeiten - das viele scrollen nervt.\n",
    "\n",
    "Um Platz zu sparen: zeigen wir doch einfach nur die ersten drei Einträge an. Wir verwenden dazu die Funktion `head()`.\n",
    "\n",
    "Jedes dataframe hat diese Funktion \"eingebaut\", wie auch noch viele weitere Funktionen, die wir in den nächsten Tagen kennenlernen werden."
   ]
  },
  {
   "cell_type": "code",
   "execution_count": null,
   "metadata": {},
   "outputs": [],
   "source": [
    "df.head(5)"
   ]
  },
  {
   "cell_type": "markdown",
   "metadata": {},
   "source": [
    "Analog: die letzten drei Einträge. Mit `tail()`"
   ]
  },
  {
   "cell_type": "code",
   "execution_count": null,
   "metadata": {},
   "outputs": [],
   "source": [
    "df.tail(3)"
   ]
  },
  {
   "cell_type": "code",
   "execution_count": null,
   "metadata": {},
   "outputs": [],
   "source": [
    "#head() funktioniert auch ohne Angabe der Zeilenzahl...\n",
    "df.head()"
   ]
  },
  {
   "cell_type": "markdown",
   "metadata": {},
   "source": [
    "**Tipp:** Wenn ihr nicht wisst, wie eine Funktion benutzen: Einfach ein Fragezeichen tippen: `?`"
   ]
  },
  {
   "cell_type": "code",
   "execution_count": null,
   "metadata": {
    "collapsed": true
   },
   "outputs": [],
   "source": [
    "df.head?"
   ]
  },
  {
   "cell_type": "markdown",
   "metadata": {},
   "source": [
    "**Frage:** Was ist das für eine Art von Output, den wir hier erhalten haben?"
   ]
  },
  {
   "cell_type": "code",
   "execution_count": null,
   "metadata": {},
   "outputs": [],
   "source": []
  },
  {
   "cell_type": "markdown",
   "metadata": {},
   "source": [
    "Wir können den Output separat speichern, um damit weiter zu arbeiten."
   ]
  },
  {
   "cell_type": "code",
   "execution_count": null,
   "metadata": {
    "collapsed": true
   },
   "outputs": [],
   "source": [
    "erste_drei = df.head(3)"
   ]
  },
  {
   "cell_type": "code",
   "execution_count": null,
   "metadata": {},
   "outputs": [],
   "source": [
    "erste_drei"
   ]
  },
  {
   "cell_type": "markdown",
   "metadata": {},
   "source": [
    "**Quiz:** Erstellen Sie ein Dataframe, das ausschliesslich den dritt- und den zweitletzten Eintrag im dataframe `df` beinhaltet!"
   ]
  },
  {
   "cell_type": "code",
   "execution_count": null,
   "metadata": {
    "collapsed": true
   },
   "outputs": [],
   "source": [
    "#Antwort: \n",
    "letzte_dre = df.tail(3)"
   ]
  },
  {
   "cell_type": "code",
   "execution_count": null,
   "metadata": {},
   "outputs": [],
   "source": [
    "letzte_dre.head(2)"
   ]
  },
  {
   "cell_type": "code",
   "execution_count": null,
   "metadata": {
    "collapsed": true
   },
   "outputs": [],
   "source": []
  },
  {
   "cell_type": "markdown",
   "metadata": {},
   "source": [
    "### Chained notation"
   ]
  },
  {
   "cell_type": "markdown",
   "metadata": {},
   "source": [
    "Aktion ausführen, Output abspeichern, Aktion mit dem Output ausführen, Output erneut abspeichern ...\n",
    "\n",
    "... um diesen Prozess etwas abzukürzen, gibt es vielen Programmiersprachen die sog. \"chained notation\".\n",
    "\n",
    "So auch in Pandas. Wir können mehrere Aktionen in einer einzigen Kommandozeile ausführen, sie \"verketten\"."
   ]
  },
  {
   "cell_type": "code",
   "execution_count": null,
   "metadata": {},
   "outputs": [],
   "source": [
    "#das obige Beispiel funktioniert dann so:\n",
    "df.tail(3).head(2)"
   ]
  },
  {
   "cell_type": "markdown",
   "metadata": {},
   "source": [
    "Mit der chained notation kann man beliebig viele pandas-Befehle aneinanderreihen – so lange der Output eines befehls ein Objekt ist (dataframe, series), das wiederum standardmässig mit einer Reihe von Funktionen \"ausgerüstet\" ist."
   ]
  },
  {
   "cell_type": "markdown",
   "metadata": {},
   "source": [
    "**Frage:** Warum funktioniert der folgende Befehl nicht?"
   ]
  },
  {
   "cell_type": "code",
   "execution_count": null,
   "metadata": {},
   "outputs": [],
   "source": [
    "print(df)"
   ]
  },
  {
   "cell_type": "markdown",
   "metadata": {},
   "source": [
    "### Ein paar Übersichtsfunktionen und -properties"
   ]
  },
  {
   "cell_type": "markdown",
   "metadata": {},
   "source": [
    "An dieser Stelle wollen wir die Grösse und Struktur der Tabelle erforschen, ohne die Tabelle selbst anzuzeigen.\n",
    "\n",
    "Pandas stellt dazu ein paar Befehle zur Verfügung."
   ]
  },
  {
   "cell_type": "markdown",
   "metadata": {},
   "source": [
    "- `shape` zeigt die Zeilen- und Spaltenzahl des dataframes als tuple an"
   ]
  },
  {
   "cell_type": "code",
   "execution_count": null,
   "metadata": {},
   "outputs": [],
   "source": [
    "df.shape"
   ]
  },
  {
   "cell_type": "markdown",
   "metadata": {},
   "source": [
    "- `len()`: Falls wir nur an der Zeilenzahl interessiert sind, geht das auch über einen normalen Python-Befehl"
   ]
  },
  {
   "cell_type": "code",
   "execution_count": null,
   "metadata": {},
   "outputs": [],
   "source": [
    "len(df)"
   ]
  },
  {
   "cell_type": "markdown",
   "metadata": {},
   "source": [
    "- `columns` spuckt eine Liste der Spalten aus"
   ]
  },
  {
   "cell_type": "code",
   "execution_count": null,
   "metadata": {},
   "outputs": [],
   "source": [
    "df.columns"
   ]
  },
  {
   "cell_type": "markdown",
   "metadata": {},
   "source": [
    "- `dtypes` spuckt eine Liste der Spalten samt dem Datentyp aus"
   ]
  },
  {
   "cell_type": "code",
   "execution_count": null,
   "metadata": {},
   "outputs": [],
   "source": [
    "df.dtypes"
   ]
  },
  {
   "cell_type": "markdown",
   "metadata": {},
   "source": [
    "Die Übersicht der `dtypes` zeigt uns rasch einiger wertvolle Informationen an:\n",
    "- welche Spalten beinhalten Zahlenwerte (`int64` oder auch `float64`)\n",
    "- welche Spalten beinhalten einen Text, der nicht als Zahl erkannt werden kann (`object`)\n",
    "\n",
    "`dtypes` verrät auch schnell, falls es irgendwo Probleme und Unsauberkeiten in den Daten geben könnte. Das kann später wichtig werden.\n",
    "\n",
    "Falls zB die Spalte \"year\" nicht als Zahl erkannt wird, stehen vermutlich irgendwo Buchstaben drin. Gewisse Funktionen über diese Spalte könnten deshalb fehlerhaft ausgeführt werden, weil der Datentyp nicht richtig erkannt wurde."
   ]
  },
  {
   "cell_type": "markdown",
   "metadata": {},
   "source": [
    "### Einfache deskriptive Statistiken - Teil 1"
   ]
  },
  {
   "cell_type": "markdown",
   "metadata": {},
   "source": [
    "- `describe()` spuckt ein paar deskriptive Statistiken zu allen numerischen Spalten aus"
   ]
  },
  {
   "cell_type": "code",
   "execution_count": null,
   "metadata": {},
   "outputs": [],
   "source": [
    "df.describe()"
   ]
  },
  {
   "cell_type": "markdown",
   "metadata": {},
   "source": [
    "Schauen wir uns diesen Output einen Moment an.\n",
    "\n",
    "**year** scheint klar. Aber was zur Hölle sind **\"fips_st\"** und **\"fips\"** für Datenfelder? Weil die Dokumentation oben fehlt, wissen wir das für den Moment leider nicht.\n",
    "\n",
    "Googeln führt uns:\n",
    "- hierhin https://www.google.com/search?q=fips+code&ie=utf-8&oe=utf-8&client=firefox-b-ab\n",
    "- und hierhin https://en.wikipedia.org/wiki/FIPS_county_code\n",
    "\n",
    "Es handelt sich also um County Codes. Einen Durchschnitt darüber auszurechnen wäre offensichtlich ziemlich sinnlos. Etwa so sinnlos, wie zu berechnen: Was ist die durchschnittliche Postleitzahl eines Mörders in der Schweiz?"
   ]
  },
  {
   "cell_type": "markdown",
   "metadata": {},
   "source": [
    "Bleiben wir also mal bei den Jahren. Das \"durchschnittliche Jahr, in dem eine Exekution stattfand\" auzurechnen, ist zwar auch nicht viel sinnvoller, aber immerhin: pandas hat eine separate Funktion dafür."
   ]
  },
  {
   "cell_type": "markdown",
   "metadata": {},
   "source": [
    "- `mean()` berechnet den Durchschnitt einer Datenreihe"
   ]
  },
  {
   "cell_type": "code",
   "execution_count": null,
   "metadata": {},
   "outputs": [],
   "source": [
    "df['year'].mean()"
   ]
  },
  {
   "cell_type": "markdown",
   "metadata": {},
   "source": [
    "Etwas sinnvoller sind das Minimum und das Maximum - zeigen Beginn und Ende der Datensammlung an:"
   ]
  },
  {
   "cell_type": "markdown",
   "metadata": {},
   "source": [
    "- `max()` und `min()` zeigen die Extremwerte an"
   ]
  },
  {
   "cell_type": "code",
   "execution_count": null,
   "metadata": {},
   "outputs": [],
   "source": [
    "df['year'].min()"
   ]
  },
  {
   "cell_type": "code",
   "execution_count": null,
   "metadata": {},
   "outputs": [],
   "source": [
    "df['year'].max()"
   ]
  },
  {
   "cell_type": "markdown",
   "metadata": {},
   "source": [
    "Die totale Anzahl der Jahres-Einträge ist in diesem Fall gleichbedeutend mit der Anzahl Einträge im ganzen dataframe, weil jeder Eintrag vollständig ist."
   ]
  },
  {
   "cell_type": "markdown",
   "metadata": {},
   "source": [
    "- `count()` gibt die Anzahl der Einträge an"
   ]
  },
  {
   "cell_type": "code",
   "execution_count": null,
   "metadata": {},
   "outputs": [],
   "source": [
    "df['year'].count()"
   ]
  },
  {
   "cell_type": "markdown",
   "metadata": {},
   "source": [
    "Dann gibt's noch Dinge wie den Median und die Standardabweichung, obwohl das in diesem Fall wie gesagt ziemlich sinnlose Zahlen sind:"
   ]
  },
  {
   "cell_type": "markdown",
   "metadata": {},
   "source": [
    "- `median()`und `std()` "
   ]
  },
  {
   "cell_type": "code",
   "execution_count": null,
   "metadata": {},
   "outputs": [],
   "source": [
    "df['year'].median()"
   ]
  },
  {
   "cell_type": "code",
   "execution_count": null,
   "metadata": {},
   "outputs": [],
   "source": [
    "df['year'].std()"
   ]
  },
  {
   "cell_type": "code",
   "execution_count": null,
   "metadata": {},
   "outputs": [],
   "source": [
    "df.head()"
   ]
  },
  {
   "cell_type": "markdown",
   "metadata": {},
   "source": [
    "### Einzelne Spalten anschauen"
   ]
  },
  {
   "cell_type": "markdown",
   "metadata": {},
   "source": [
    "Moment mal, was war denn das soeben für eine Syntax mit den eckigen Klammern?\n",
    "\n",
    "Einzelne Spalten werden bei pandas als ***series*** bezeichnet.\n",
    "\n",
    "Es gibt verschiedene Arten, solche series bzw Spalten anzusprechen."
   ]
  },
  {
   "cell_type": "code",
   "execution_count": null,
   "metadata": {},
   "outputs": [],
   "source": [
    "# Mit einer eckigen Klammer\n",
    "df['year']"
   ]
  },
  {
   "cell_type": "code",
   "execution_count": null,
   "metadata": {},
   "outputs": [],
   "source": [
    "# Einfach so nach dem Punkt\n",
    "df.year"
   ]
  },
  {
   "cell_type": "markdown",
   "metadata": {},
   "source": [
    "Welche Syntax wählen? Darauf gibt es mehrere Antworten:\n",
    "- Kommt drauf an, was man genau tun will und wie schreibfaul man ist\n",
    "- Um auf Nummer sicher zu gehen, die eckigen Klammern verwenden"
   ]
  },
  {
   "cell_type": "markdown",
   "metadata": {},
   "source": [
    "Um die Notation mit den eckigen Klammern noch besser zu verstehen, schaut euch mal diese zwei Zeilen Code an:"
   ]
  },
  {
   "cell_type": "code",
   "execution_count": null,
   "metadata": {
    "collapsed": true
   },
   "outputs": [],
   "source": [
    "spalte = 'year'"
   ]
  },
  {
   "cell_type": "code",
   "execution_count": null,
   "metadata": {
    "collapsed": true
   },
   "outputs": [],
   "source": [
    "simon = 'bla'"
   ]
  },
  {
   "cell_type": "code",
   "execution_count": null,
   "metadata": {},
   "outputs": [],
   "source": [
    "df['year']"
   ]
  },
  {
   "cell_type": "code",
   "execution_count": null,
   "metadata": {
    "collapsed": true
   },
   "outputs": [],
   "source": [
    "# Alles klar?\n",
    "..."
   ]
  },
  {
   "cell_type": "markdown",
   "metadata": {},
   "source": [
    "Übrigens, manche Befehle wie `head()` funktionieren auch mit Serien. Am besten einfach ausprobieren - falls ein Befehl mit dataframes funktioniert aber mit series nicht, gibt es dann halt eine Fehlermeldung."
   ]
  },
  {
   "cell_type": "code",
   "execution_count": null,
   "metadata": {
    "collapsed": true
   },
   "outputs": [],
   "source": [
    "meine_serie = df['year'].head(3)"
   ]
  },
  {
   "cell_type": "code",
   "execution_count": null,
   "metadata": {},
   "outputs": [],
   "source": [
    "meine_serie"
   ]
  },
  {
   "cell_type": "markdown",
   "metadata": {},
   "source": [
    "### Einfache desktiptive Statistiken - Teil 2"
   ]
  },
  {
   "cell_type": "markdown",
   "metadata": {},
   "source": [
    "Viele journalistische Fragestellungen ergeben sich, indem man einfach einmal zählt, wie oft gewisse Dinge in einem Datenset vorkommen: gewisse Namen, Geschlechter, Länder, whatever! Es ist (verlgichen mit Regressionsanalysen und sonstigen Methoden, die man an der Uni gelernt hat) etwa die simpelste und stupideste Auswertungsmethode.\n",
    "\n",
    "Aber: Sie ist extrem gut vermittelbar, jeder Leser begreift sie, und sie fördert verblüffend oft Ansätze für Geschichten zutage.\n",
    "\n",
    "Merkt euch dazu diese Funktion: `value_counts()`! Die Funktion spuckt aus, welches Element wie oft in einer Serie vorkommt.\n",
    "\n",
    "(Wie gesagt - sieht trivial aus. Den Nutzen dieser Funktion hab ich am meisten unterschätzt, als ich sie zum ersten Mal gesehen habe.)"
   ]
  },
  {
   "cell_type": "markdown",
   "metadata": {},
   "source": [
    "**Beispiel**: Anzahl der Todesurteile nach Jahren.\n",
    "\n",
    "Man sieht auf den ersten Blick, dass die Anzahl der Todesurteile über die Jahre hinweg abgenommen hat."
   ]
  },
  {
   "cell_type": "code",
   "execution_count": null,
   "metadata": {},
   "outputs": [],
   "source": [
    "df['year'].value_counts()"
   ]
  },
  {
   "cell_type": "markdown",
   "metadata": {},
   "source": [
    "**Quiz:** Um welchen Datentyp handelt es sich bei diesem Output?"
   ]
  },
  {
   "cell_type": "code",
   "execution_count": null,
   "metadata": {},
   "outputs": [],
   "source": [
    "#Antwort: \n"
   ]
  },
  {
   "cell_type": "markdown",
   "metadata": {},
   "source": [
    "**Quiz:** Zeigen Sie die Anzahl der Todesurteile nach Jahr, aber nur für die letzten zehn Jahre"
   ]
  },
  {
   "cell_type": "code",
   "execution_count": null,
   "metadata": {},
   "outputs": [],
   "source": [
    "#Antwort:\n"
   ]
  },
  {
   "cell_type": "markdown",
   "metadata": {},
   "source": [
    "**Quiz:** Welche zehn US-Bundesstaaten haben am meisten Personen zu Tode verurteilt?"
   ]
  },
  {
   "cell_type": "code",
   "execution_count": null,
   "metadata": {},
   "outputs": [],
   "source": [
    "#Antwort:\n"
   ]
  },
  {
   "cell_type": "markdown",
   "metadata": {},
   "source": [
    "**Quiz:** Und welche zehn US-Bundesstaaten haben am wenigsten Personen zu Tode verurteilt?"
   ]
  },
  {
   "cell_type": "code",
   "execution_count": null,
   "metadata": {},
   "outputs": [],
   "source": [
    "#Antwort\n"
   ]
  },
  {
   "cell_type": "markdown",
   "metadata": {},
   "source": [
    "... oops. Was für ein Staat ist \"OKlahoma\"? Und was ist \"ID\"?\n",
    "\n",
    "Sieht aus, als wurden diese Daten nicht richtig geputzt!!\n",
    "\n",
    "(ein häufiges Problem, das wir später noch genau anschaun werden).\n",
    "\n",
    "Für den Moment, einfach mal diesen Code hier ausführen:"
   ]
  },
  {
   "cell_type": "code",
   "execution_count": null,
   "metadata": {
    "collapsed": true
   },
   "outputs": [],
   "source": [
    "states = {\n",
    "    'CA': 'California',\n",
    "    'AR': 'Arkansas',\n",
    "    'NV': 'Nevada',\n",
    "    'TX': 'Texas',\n",
    "    'AZ': 'Arizona',\n",
    "    'FL': 'Florida',\n",
    "    'OK': 'Oklahoma',\n",
    "    'AL': 'Alabama',\n",
    "    'PA': 'Pennsylvania',\n",
    "    'OH': 'Ohio',\n",
    "    'MS': 'Missouri',\n",
    "    'MO': 'Montana',\n",
    "    'ID': 'Idaho',\n",
    "    'NE': 'Nebraska',\n",
    "    'OKlahoma': 'Oklahoma'\n",
    "}\n",
    "df['state'].replace(states, inplace=True)"
   ]
  },
  {
   "cell_type": "markdown",
   "metadata": {},
   "source": [
    "... und nochmals probieren:"
   ]
  },
  {
   "cell_type": "code",
   "execution_count": null,
   "metadata": {},
   "outputs": [],
   "source": [
    "df['state'].value_counts()"
   ]
  },
  {
   "cell_type": "markdown",
   "metadata": {},
   "source": [
    "Aaaaah, viel besser!"
   ]
  },
  {
   "cell_type": "markdown",
   "metadata": {},
   "source": [
    "**Quiz:** Basierend auf dieser Liste: Wie viele Todesurteile haben die Staaten im Durchschnitt ausgesprochen"
   ]
  },
  {
   "cell_type": "code",
   "execution_count": null,
   "metadata": {},
   "outputs": [],
   "source": [
    "#Antwort\n"
   ]
  },
  {
   "cell_type": "markdown",
   "metadata": {},
   "source": [
    "**Quiz:** Wie viele der 50 US-Bundesstaaten haben zwischen 1994 und 2017 überhaupt Todesurteile ausgesprochen?"
   ]
  },
  {
   "cell_type": "code",
   "execution_count": null,
   "metadata": {},
   "outputs": [],
   "source": [
    "#Antwort\n"
   ]
  },
  {
   "cell_type": "code",
   "execution_count": null,
   "metadata": {},
   "outputs": [],
   "source": [
    "#oder auch:\n"
   ]
  },
  {
   "cell_type": "markdown",
   "metadata": {},
   "source": [
    "**Quiz**: Wie heissen die drei Personen, die am öftesten zum Tode verurteilt wurden?"
   ]
  },
  {
   "cell_type": "code",
   "execution_count": null,
   "metadata": {},
   "outputs": [],
   "source": [
    "#Antwort\n"
   ]
  },
  {
   "cell_type": "markdown",
   "metadata": {},
   "source": [
    "### Minimal komplexere deskriptive Statistiken"
   ]
  },
  {
   "cell_type": "markdown",
   "metadata": {},
   "source": [
    "Bis jetzt ging es immer darum, einzelne Spalten auszuwerten. Nun machen wir uns daran, zwei Spalten in Kombination auszuwerten. Auch dafür hält pandas einige Funktionen bereit.\n",
    "\n",
    "Die wichtigste: `groupby()` - ziemlich praktisch anzuwenden, wenn man mal die Syntax durchschaut."
   ]
  },
  {
   "cell_type": "markdown",
   "metadata": {},
   "source": [
    "**Beispiel:** Wann wurden in welchem Staat letztmals Menschen zum Tode verurteilt?"
   ]
  },
  {
   "cell_type": "code",
   "execution_count": null,
   "metadata": {},
   "outputs": [],
   "source": [
    "df.groupby('state')['year'].max()"
   ]
  },
  {
   "cell_type": "markdown",
   "metadata": {},
   "source": [
    "Was passiert hier genau?"
   ]
  },
  {
   "cell_type": "markdown",
   "metadata": {},
   "source": [
    "- zunächst geben wir pandas einfach mal in einer funktion das oberste Gruppierungslevel durch. In diesem Fall sind wir an einer Auswertung nach Staaten interessiert. Als Output kriegt man vorerst - nichts, ausser einem merkwürdigen Objekt."
   ]
  },
  {
   "cell_type": "code",
   "execution_count": null,
   "metadata": {},
   "outputs": [],
   "source": [
    "df.groupby('state')"
   ]
  },
  {
   "cell_type": "markdown",
   "metadata": {},
   "source": [
    "- Mit diesem Objekt können wir nun weiter arbeiten. Dazu müssen wir allerdings angeben, welche Spalte uns als nächstes interessiert. In diesem Fall ist es: das Jahr eines Todesurteils. Wir erhalten - schon wieder ein Objekt."
   ]
  },
  {
   "cell_type": "code",
   "execution_count": null,
   "metadata": {},
   "outputs": [],
   "source": [
    "df.groupby('state')['year']"
   ]
  },
  {
   "cell_type": "markdown",
   "metadata": {},
   "source": [
    "- Warum? Weil wir pandas noch nicht gesagt haben, welche Metrik es auf die zweite Spalte anwenden soll. Zum Beispiel, den Durchschnitt, die Summe, .... In diesem Fall sind wir am Maximum interessiert. Und voilà, hier kommt unsere Auswertung."
   ]
  },
  {
   "cell_type": "code",
   "execution_count": null,
   "metadata": {},
   "outputs": [],
   "source": [
    "df.groupby('state')['year'].max()"
   ]
  },
  {
   "cell_type": "markdown",
   "metadata": {},
   "source": [
    "**Quiz:** Um welchen Datentyp handelt es sich bei diesem Output?"
   ]
  },
  {
   "cell_type": "code",
   "execution_count": null,
   "metadata": {
    "collapsed": true
   },
   "outputs": [],
   "source": [
    "#Antwort:\n"
   ]
  },
  {
   "cell_type": "markdown",
   "metadata": {},
   "source": [
    "### Und zum Schluss..."
   ]
  },
  {
   "cell_type": "markdown",
   "metadata": {},
   "source": [
    "... lasst uns das Resultat noch etwas ordnen. Sieht dann viel übersichtlicher aus.\n",
    "\n",
    "- Wir benutzen dazu die Funktion `sort_values()`"
   ]
  },
  {
   "cell_type": "code",
   "execution_count": null,
   "metadata": {},
   "outputs": [],
   "source": [
    "df.groupby('state')['year'].max().sort_values(ascending=False)"
   ]
  },
  {
   "cell_type": "markdown",
   "metadata": {},
   "source": [
    "**Quiz:** Wie viele Frauen und wie viele Männer wurden insgesamt zum Tode verurteilt?"
   ]
  },
  {
   "cell_type": "code",
   "execution_count": null,
   "metadata": {},
   "outputs": [],
   "source": [
    "#Antwort\n"
   ]
  },
  {
   "cell_type": "markdown",
   "metadata": {},
   "source": [
    "**Quiz:** Bei vielen Frauenn und bei wie vielen Männer wurde das Todesurteil vollstreckt?"
   ]
  },
  {
   "cell_type": "code",
   "execution_count": null,
   "metadata": {},
   "outputs": [],
   "source": [
    "#Antwort\n"
   ]
  },
  {
   "cell_type": "markdown",
   "metadata": {},
   "source": [
    "Offensichtlich wurden die Variablen auch hier niht immer ganz sauber codiert... wir machen auch hier einen Quick Fix:"
   ]
  },
  {
   "cell_type": "code",
   "execution_count": null,
   "metadata": {
    "collapsed": true
   },
   "outputs": [],
   "source": [
    "gender_miscodes = {\n",
    "    'B': 'M',\n",
    "    'Male': 'M',\n",
    "    'W': 'F'\n",
    "}\n",
    "df['def_gender'].replace(gender_miscodes, inplace=True)"
   ]
  },
  {
   "cell_type": "code",
   "execution_count": null,
   "metadata": {},
   "outputs": [],
   "source": [
    "df.groupby('Executed')['def_gender'].value_counts()"
   ]
  },
  {
   "cell_type": "markdown",
   "metadata": {},
   "source": [
    "## Plotting Level 0"
   ]
  },
  {
   "cell_type": "markdown",
   "metadata": {},
   "source": [
    "Pandas hat eine eingebaute Plot-Funktion, die ziemlich einfach zu bedienen ist. Sie heisst...\n",
    "\n",
    "- `plot()` (wie überraschend!)"
   ]
  },
  {
   "cell_type": "markdown",
   "metadata": {},
   "source": [
    "Probieren wir dies gleich mal an unserer Auswertung der Todesurteile nach Jahr aus, die wir weiter oben gemacht haben:"
   ]
  },
  {
   "cell_type": "code",
   "execution_count": null,
   "metadata": {},
   "outputs": [],
   "source": [
    "df['year'].value_counts()"
   ]
  },
  {
   "cell_type": "code",
   "execution_count": null,
   "metadata": {},
   "outputs": [],
   "source": [
    "df['year'].value_counts().plot()"
   ]
  },
  {
   "cell_type": "markdown",
   "metadata": {},
   "source": [
    "`plot()` erstellt ohne weitere Anweisungen nur ein plot-Objekt. Um dieses standardmässig anzuzeigen, braucht es einen Befehl, den wir einmal pro Notebook ausführen lassen müssen:"
   ]
  },
  {
   "cell_type": "code",
   "execution_count": null,
   "metadata": {
    "collapsed": true
   },
   "outputs": [],
   "source": [
    "%matplotlib inline"
   ]
  },
  {
   "cell_type": "markdown",
   "metadata": {},
   "source": [
    "`plot()` funktioniert in den meisten Fällen ganz gut. Ausser hier, sieht es etwas scheisse aus:"
   ]
  },
  {
   "cell_type": "code",
   "execution_count": null,
   "metadata": {},
   "outputs": [],
   "source": [
    "df['year'].value_counts().plot()"
   ]
  },
  {
   "cell_type": "markdown",
   "metadata": {},
   "source": [
    "Der Grund liegt in diesem Fall darin, dass die Zeitreihe nicht ganz richtig geordnet war. Wir behelfen uns mit `sort_index()`."
   ]
  },
  {
   "cell_type": "code",
   "execution_count": null,
   "metadata": {},
   "outputs": [],
   "source": [
    "df['year'].value_counts().sort_index()"
   ]
  },
  {
   "cell_type": "code",
   "execution_count": null,
   "metadata": {},
   "outputs": [],
   "source": [
    "df['year'].value_counts().sort_index().plot()"
   ]
  },
  {
   "cell_type": "markdown",
   "metadata": {
    "collapsed": true
   },
   "source": [
    "Wir können auch einen Barchart anzeigen lassen:"
   ]
  },
  {
   "cell_type": "code",
   "execution_count": null,
   "metadata": {},
   "outputs": [],
   "source": [
    "df['year'].value_counts().sort_index().plot(kind='bar')"
   ]
  },
  {
   "cell_type": "markdown",
   "metadata": {},
   "source": [
    "Oder als horizontalen Barchart:"
   ]
  },
  {
   "cell_type": "code",
   "execution_count": null,
   "metadata": {},
   "outputs": [],
   "source": [
    "df['year'].value_counts().sort_index().plot(kind='barh')"
   ]
  },
  {
   "cell_type": "markdown",
   "metadata": {},
   "source": [
    "Oder auch grösser:"
   ]
  },
  {
   "cell_type": "code",
   "execution_count": null,
   "metadata": {},
   "outputs": [],
   "source": [
    "df['year'].value_counts().sort_index().plot()"
   ]
  },
  {
   "cell_type": "markdown",
   "metadata": {},
   "source": [
    "Damit sind wir am Ende des dieses Workbooks angelangt. Überlegen Sie sich nochmals kurz selbst: Was waren die wichtigsten Befehle, die wir kennengelernt haben? In welchem Stadium einer Recherche würde man diese Befehle typischerweise benutzen?"
   ]
  },
  {
   "cell_type": "markdown",
   "metadata": {},
   "source": [
    "# Fragen, zum selbst bearbeiten"
   ]
  },
  {
   "cell_type": "markdown",
   "metadata": {},
   "source": [
    "### Counties"
   ]
  },
  {
   "cell_type": "markdown",
   "metadata": {},
   "source": [
    "**Quiz:** In welchen zehn Bezirken (Counties) wurden am meisten Todesurteile gefällt? Erstellen Sie erst eine Liste und plotten Sie danach das Ergebnis."
   ]
  },
  {
   "cell_type": "code",
   "execution_count": null,
   "metadata": {
    "collapsed": true
   },
   "outputs": [],
   "source": [
    "#Antwort Liste\n"
   ]
  },
  {
   "cell_type": "code",
   "execution_count": null,
   "metadata": {
    "collapsed": true
   },
   "outputs": [],
   "source": [
    "#Plot\n"
   ]
  },
  {
   "cell_type": "markdown",
   "metadata": {},
   "source": [
    "### Frauen"
   ]
  },
  {
   "cell_type": "markdown",
   "metadata": {
    "collapsed": true
   },
   "source": [
    "**Quiz:** In welchen fünf Staaten wurden am meisten Frauen zum Tode verurteilt? Erstellen Sie eine Liste und einen Plot."
   ]
  },
  {
   "cell_type": "code",
   "execution_count": null,
   "metadata": {
    "collapsed": true
   },
   "outputs": [],
   "source": [
    "#Antwort Liste\n"
   ]
  },
  {
   "cell_type": "code",
   "execution_count": null,
   "metadata": {
    "collapsed": true
   },
   "outputs": [],
   "source": [
    "#Plot\n"
   ]
  },
  {
   "cell_type": "markdown",
   "metadata": {},
   "source": [
    "### Vollstreckungen"
   ]
  },
  {
   "cell_type": "markdown",
   "metadata": {},
   "source": [
    "**Quiz:** In welchen acht Staaten wurden am meisten Todesurteile vollstreckt? Liste und Barchart.\n",
    "\n",
    "Hint: Benutzen Sie das Fragezeichen (`?`), um die Sortieroptionen von `sort_values()` anzuzeigen."
   ]
  },
  {
   "cell_type": "code",
   "execution_count": null,
   "metadata": {
    "collapsed": true
   },
   "outputs": [],
   "source": [
    "#Antwort Liste\n"
   ]
  },
  {
   "cell_type": "code",
   "execution_count": null,
   "metadata": {
    "collapsed": true
   },
   "outputs": [],
   "source": [
    "#Plot\n"
   ]
  },
  {
   "cell_type": "markdown",
   "metadata": {},
   "source": [
    "**Quiz: ** Wie hat sich die Zahl der Exekutionen Jahr für Jahr entwickelt? Liste und Linechart."
   ]
  },
  {
   "cell_type": "code",
   "execution_count": null,
   "metadata": {
    "collapsed": true
   },
   "outputs": [],
   "source": [
    "#Antwort Liste\n"
   ]
  },
  {
   "cell_type": "code",
   "execution_count": null,
   "metadata": {
    "collapsed": true
   },
   "outputs": [],
   "source": [
    "#Plot\n"
   ]
  },
  {
   "cell_type": "code",
   "execution_count": null,
   "metadata": {
    "collapsed": true
   },
   "outputs": [],
   "source": []
  }
 ],
 "metadata": {
  "kernelspec": {
   "display_name": "Python 3",
   "language": "python",
   "name": "python3"
  },
  "language_info": {
   "codemirror_mode": {
    "name": "ipython",
    "version": 3
   },
   "file_extension": ".py",
   "mimetype": "text/x-python",
   "name": "python",
   "nbconvert_exporter": "python",
   "pygments_lexer": "ipython3",
   "version": "3.6.1"
  }
 },
 "nbformat": 4,
 "nbformat_minor": 2
}
