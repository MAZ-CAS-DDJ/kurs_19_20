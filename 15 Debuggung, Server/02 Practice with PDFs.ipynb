{
 "cells": [
  {
   "cell_type": "markdown",
   "metadata": {},
   "source": [
    "# PDF extraction und Debugging"
   ]
  },
  {
   "cell_type": "code",
   "execution_count": 2,
   "metadata": {
    "collapsed": true
   },
   "outputs": [],
   "source": [
    "# Was wollen wir tun? Die 82 PDFs auslesen. \n",
    "# 3 Kolonnen bilden. Eine mit dem Datum, \n",
    "# eine mit der Seriennummer, und eine \n",
    "# mit dem Text"
   ]
  },
  {
   "cell_type": "code",
   "execution_count": 3,
   "metadata": {
    "collapsed": true
   },
   "outputs": [],
   "source": [
    "# Wie gehen wir dabei vor? Schreibt das für \n",
    "# euch auf, so viele Schritte wie möglich."
   ]
  },
  {
   "cell_type": "code",
   "execution_count": 4,
   "metadata": {
    "collapsed": true
   },
   "outputs": [],
   "source": [
    "# Wie öffne ich ein File? Versuchen wir es \n",
    "# auf der klassischen Art und Weise.\n",
    "# !ls \"pdfs\""
   ]
  },
  {
   "cell_type": "code",
   "execution_count": 5,
   "metadata": {},
   "outputs": [
    {
     "name": "stdout",
     "output_type": "stream",
     "text": [
      "<_io.TextIOWrapper name='pdfs/Vk_20180226_08documents0.pdf' mode='r' encoding='UTF-8'>\n"
     ]
    }
   ],
   "source": [
    "filename = \"Vk_20180226_08documents0.pdf\"\n",
    "file = open(\"pdfs/\"+filename, \"r\")\n",
    "print(file)"
   ]
  },
  {
   "cell_type": "code",
   "execution_count": 6,
   "metadata": {},
   "outputs": [
    {
     "ename": "UnicodeDecodeError",
     "evalue": "'utf-8' codec can't decode byte 0xb5 in position 11: invalid start byte",
     "output_type": "error",
     "traceback": [
      "\u001b[0;31m---------------------------------------------------------------------------\u001b[0m",
      "\u001b[0;31mUnicodeDecodeError\u001b[0m                        Traceback (most recent call last)",
      "\u001b[0;32m<ipython-input-6-8a5ada5d2f68>\u001b[0m in \u001b[0;36m<module>\u001b[0;34m()\u001b[0m\n\u001b[1;32m      1\u001b[0m \u001b[0mfilename\u001b[0m \u001b[0;34m=\u001b[0m \u001b[0;34m\"Vk_20180226_08documents0.pdf\"\u001b[0m\u001b[0;34m\u001b[0m\u001b[0m\n\u001b[1;32m      2\u001b[0m \u001b[0mfile\u001b[0m \u001b[0;34m=\u001b[0m \u001b[0mopen\u001b[0m\u001b[0;34m(\u001b[0m\u001b[0;34m\"pdfs/\"\u001b[0m\u001b[0;34m+\u001b[0m\u001b[0mfilename\u001b[0m\u001b[0;34m,\u001b[0m \u001b[0;34m\"r\"\u001b[0m\u001b[0;34m)\u001b[0m\u001b[0;34m\u001b[0m\u001b[0m\n\u001b[0;32m----> 3\u001b[0;31m \u001b[0mprint\u001b[0m\u001b[0;34m(\u001b[0m\u001b[0mfile\u001b[0m\u001b[0;34m.\u001b[0m\u001b[0mread\u001b[0m\u001b[0;34m(\u001b[0m\u001b[0;34m)\u001b[0m\u001b[0;34m)\u001b[0m\u001b[0;34m\u001b[0m\u001b[0m\n\u001b[0m",
      "\u001b[0;32m~/.virtualenvs/master/bin/../lib/python3.5/codecs.py\u001b[0m in \u001b[0;36mdecode\u001b[0;34m(self, input, final)\u001b[0m\n\u001b[1;32m    319\u001b[0m         \u001b[0;31m# decode input (taking the buffer into account)\u001b[0m\u001b[0;34m\u001b[0m\u001b[0;34m\u001b[0m\u001b[0m\n\u001b[1;32m    320\u001b[0m         \u001b[0mdata\u001b[0m \u001b[0;34m=\u001b[0m \u001b[0mself\u001b[0m\u001b[0;34m.\u001b[0m\u001b[0mbuffer\u001b[0m \u001b[0;34m+\u001b[0m \u001b[0minput\u001b[0m\u001b[0;34m\u001b[0m\u001b[0m\n\u001b[0;32m--> 321\u001b[0;31m         \u001b[0;34m(\u001b[0m\u001b[0mresult\u001b[0m\u001b[0;34m,\u001b[0m \u001b[0mconsumed\u001b[0m\u001b[0;34m)\u001b[0m \u001b[0;34m=\u001b[0m \u001b[0mself\u001b[0m\u001b[0;34m.\u001b[0m\u001b[0m_buffer_decode\u001b[0m\u001b[0;34m(\u001b[0m\u001b[0mdata\u001b[0m\u001b[0;34m,\u001b[0m \u001b[0mself\u001b[0m\u001b[0;34m.\u001b[0m\u001b[0merrors\u001b[0m\u001b[0;34m,\u001b[0m \u001b[0mfinal\u001b[0m\u001b[0;34m)\u001b[0m\u001b[0;34m\u001b[0m\u001b[0m\n\u001b[0m\u001b[1;32m    322\u001b[0m         \u001b[0;31m# keep undecoded input until the next call\u001b[0m\u001b[0;34m\u001b[0m\u001b[0;34m\u001b[0m\u001b[0m\n\u001b[1;32m    323\u001b[0m         \u001b[0mself\u001b[0m\u001b[0;34m.\u001b[0m\u001b[0mbuffer\u001b[0m \u001b[0;34m=\u001b[0m \u001b[0mdata\u001b[0m\u001b[0;34m[\u001b[0m\u001b[0mconsumed\u001b[0m\u001b[0;34m:\u001b[0m\u001b[0;34m]\u001b[0m\u001b[0;34m\u001b[0m\u001b[0m\n",
      "\u001b[0;31mUnicodeDecodeError\u001b[0m: 'utf-8' codec can't decode byte 0xb5 in position 11: invalid start byte"
     ]
    }
   ],
   "source": [
    "filename = \"Vk_20180226_08documents0.pdf\"\n",
    "file = open(\"pdfs/\"+filename, \"r\")\n",
    "print(file.read())"
   ]
  },
  {
   "cell_type": "code",
   "execution_count": 7,
   "metadata": {
    "collapsed": true
   },
   "outputs": [],
   "source": [
    "#Googelt: UnicodeDecodeError: 'utf-8' codec can't decode byte 0xb5"
   ]
  },
  {
   "cell_type": "code",
   "execution_count": 8,
   "metadata": {},
   "outputs": [
    {
     "ename": "AttributeError",
     "evalue": "'_io.TextIOWrapper' object has no attribute 'decode'",
     "output_type": "error",
     "traceback": [
      "\u001b[0;31m---------------------------------------------------------------------------\u001b[0m",
      "\u001b[0;31mAttributeError\u001b[0m                            Traceback (most recent call last)",
      "\u001b[0;32m<ipython-input-8-bfdfcc7e3bfb>\u001b[0m in \u001b[0;36m<module>\u001b[0;34m()\u001b[0m\n\u001b[0;32m----> 1\u001b[0;31m \u001b[0mfile\u001b[0m\u001b[0;34m.\u001b[0m\u001b[0mdecode\u001b[0m\u001b[0;34m(\u001b[0m\u001b[0;34m'windows-1252'\u001b[0m\u001b[0;34m)\u001b[0m\u001b[0;34m\u001b[0m\u001b[0m\n\u001b[0m",
      "\u001b[0;31mAttributeError\u001b[0m: '_io.TextIOWrapper' object has no attribute 'decode'"
     ]
    }
   ],
   "source": [
    "file.decode('windows-1252')"
   ]
  },
  {
   "cell_type": "code",
   "execution_count": 9,
   "metadata": {
    "collapsed": true
   },
   "outputs": [],
   "source": [
    "#Googelt: UnicodeDecodeError: 'utf-8' codec can't decode byte 0xb5 python pdf"
   ]
  },
  {
   "cell_type": "code",
   "execution_count": 10,
   "metadata": {
    "collapsed": true
   },
   "outputs": [],
   "source": [
    "#https://stackoverflow.com/questions/42333341/how-to-decode-a-extracted-pfd-file-from-a-website-in-python"
   ]
  },
  {
   "cell_type": "code",
   "execution_count": 11,
   "metadata": {
    "collapsed": true
   },
   "outputs": [],
   "source": [
    "#What makes you think the file is an encoded string? It's not a string at all; a pdf is not readable, it's a binary format. You can't just iterate through and print it out."
   ]
  },
  {
   "cell_type": "markdown",
   "metadata": {},
   "source": [
    "# Also: Suchen wir uns ein Modul, um Text aus PDFs zu ziehen"
   ]
  },
  {
   "cell_type": "code",
   "execution_count": 12,
   "metadata": {
    "collapsed": true
   },
   "outputs": [],
   "source": [
    "# Macht ein paar Vorschläge, was wir brauchen könnten?"
   ]
  },
  {
   "cell_type": "code",
   "execution_count": 13,
   "metadata": {
    "collapsed": true
   },
   "outputs": [],
   "source": [
    "import textract\n",
    "text = textract.process(\"pdfs/Vk_20180226_08documents0.pdf\")"
   ]
  },
  {
   "cell_type": "code",
   "execution_count": 14,
   "metadata": {
    "scrolled": true
   },
   "outputs": [
    {
     "data": {
      "text/plain": [
       "b'COOK\\xc2\\xae\\n\\nCook Medical Europe\\nO\\'Halloran Road,\\nNational Technological Park,\\nLimerick, Ireland.\\n\\nPhone: + 353 61 334440\\n\\nCDringende Mitteilung:\\n\\nFax: + 353 61 334441\\n\\nSicherheitsrelevante Korrektive Ma\\xc3\\x9fnahme im Feld\\n\\nOHandelsname des betroffenen Produktes: Endovaskul\\xc3\\xa4re iliakale Bifurkationsprothese Zenith Branch\\n(ZBIS)\\n\\nOHersteller: William A. Cook Australia Pty Ltd\\nCook-Referenznummer: 2018FA0002, QCR-83\\n\\nKArt der Ma\\xc3\\x9fnahme: Sicherheitsrelevante korrektive Massnahme\\n---------------------------------------------------------------------------------------------------------------------------\\nDatum: 15. Februar 2\\xc2\\xae018 Zu H\\xc3\\xa4nden: Gesch\\xc3\\xa4ftsf\\xc3\\xbchrung / Risikomanagement / Einkaufsabteilung / Krankenpflege-Direktion\\n\\nDetails zum betroffenen Produkt:\\n\\nProdukt-Markenname\\n\\nArtikelnummer (RPN)\\n\\nEndovaskul\\xc3\\xa4re iliakale Bifurkationsprothese Zenith\\nBranch (ZBIS) Patientenkarte\\n\\nZBIS-12-61-58 ZBIS-12-61-41 ZBIS-12-45-58 ZBIS-12-45-41 ZBIS-10-61-41 ZBIS-10-45-41\\n\\nGPN\\nG38344 G38618 G38617 G38616 G38614 G38612\\n\\nLotnummern\\nPlease see the included listing for\\nthe specific lot numbers that are\\naffected\\n\\nProblembeschreibung:\\nCook Medical hat festgestellt, dass eine falsche Patientenkarte in Endovaskul\\xc3\\xa4ren iliakalen Bifurkationsprothesen Zenith Branch (ZBIS) - Produkten, die Sie zwischen November 2017 und Januar 2018 erworben haben, enthalten sein k\\xc3\\xb6nnte. Eine Produktfehlerkorrektur wird bei allen gebrauchten und unbenutzten ZBIS-Ger\\xc3\\xa4ten bei Ihnen vor Ort von einem Cook-Vertreter durchgef\\xc3\\xbchrt.\\nDer Unterschied zwischen den korrekten und den inkorrekten Karten ist gering. Der Produktname auf der inkorrekten Patientenkarte ist ,,Zenith p-Branch\" und der auf der ZBIS-Patientenkarte angegebene MRIBildartefakt-Radius unterscheidet sich geringf\\xc3\\xbcgig vom Bildartefakt-Radius auf der inkorrekten Patientenkarte. Es besteht ein sehr geringes Risiko, dass die inkorrekten Informationen auf der Patientenkarte zu einer schlechteren Bildqualit\\xc3\\xa4t w\\xc3\\xa4hrend eines MR-Scans f\\xc3\\xbchren k\\xc3\\xb6nnen. Es besteht kein Risiko f\\xc3\\xbcr den Patienten, da kein Fehler am Produkt vorliegt.\\nSicherheitsrelevante korrektive Massnahme:\\n Unbenutzte Produkte: Ein Cook-Vertreter wird die Produkte bei Ihnen vor Ort begutachten und inkorrekte Patientenkarten ersetzen.\\n\\nForm: F14-00A (R10, CR16-0422)\\n\\n\\xc2\\xa9 COPYRIGHT DOCUMENT\\n\\n\\x0cpage 2 of 2\\n Benutzte Produkte: Ein Cook-Vertreter wird Ihnen Ersatz- Patientenkarten zur Verf\\xc3\\xbcgung stellen, die ausgef\\xc3\\xbcllt und dem Patienten zur Verf\\xc3\\xbcgung gestellt werden muessen.\\nHinweise zu den vom Anwender zu ergreifenden Ma\\xc3\\x9fnahmen:\\n1. Bitte f\\xc3\\xbcllen Sie das beiliegende Antwortformular innerhalb von 5 Werktagen nach Erhalt dieser Mitteilung zur sicherheitsrelevanten korrektiven Massnahme im Feld aus.\\n2. Bitte senden Sie das beiliegende Antwortformular ausgef\\xc3\\xbcllt per Fax oder per E-Mail an Cook Medical, zu H\\xc3\\xa4nden ,,European Customer Quality Assurance\" (Faxnummer: +35361334441, E-Mail: European.FieldAction@CookMedical.com).\\n3. Wenn Sie Vorkommnisse im Zusammenhang mit diesen Produkten an Cook Medical melden m\\xc3\\xb6chten, kontaktieren Sie bitte unseren Kundendienst.\\nWeitergabe dieser Mitteilung:\\nDiese Mitteilung ist an alle Mitarbeiter in Ihrer Einrichtung weiterzugeben, die \\xc3\\xbcber diese Angelegenheit informiert werden m\\xc3\\xbcssen, sowie an diejenigen Einrichtungen, die die potentiell betroffenen Produkte au\\xc3\\x9ferdem erhalten haben.\\nBitte geben Sie diese Mitteilung an alle anderen Einrichtungen weiter, die von dieser Ma\\xc3\\x9fnahme betroffen sein k\\xc3\\xb6nnten.\\nBitte ber\\xc3\\xbccksichtigen Sie diese Mitteilung und die mit ihr zusammenh\\xc3\\xa4ngenden Ma\\xc3\\x9fnahmen f\\xc3\\xbcr einen angemessenen Zeitraum, damit die Effektivit\\xc3\\xa4t der korrektiven Ma\\xc3\\x9fnahme gew\\xc3\\xa4hrleistet ist.\\nKontaktpersonen:\\nMichael Galvin Regulatory Affairs Manager COOK Ireland O\\'Halloran Road, National Technology Park, Limerick, IRELAND\\nOder\\nAnnemarie Beglin Quality Systems Manager COOK Medical Europe O\\'Halloran Road, National Technology Park, Limerick, IRELAND\\nBei R\\xc3\\xbcckfragen stehen wir Ihnen gern zur Verf\\xc3\\xbcgung (e-mail: European.FieldAction@cookmedical.com, Tel.: +353 61 334440).\\nWir best\\xc3\\xa4tigen, dass diese Ma\\xc3\\x9fnahme der zust\\xc3\\xa4ndigen Beh\\xc3\\xb6rde gemeldet wurde.\\nAnnemarie Beglin Quality Systems Manager\\n\\nForm: F14-00A (R10, CR16-0422)\\n\\n\\xc2\\xa9 COPYRIGHT DOCUMENT\\n\\n\\x0c'"
      ]
     },
     "execution_count": 14,
     "metadata": {},
     "output_type": "execute_result"
    }
   ],
   "source": [
    "text"
   ]
  },
  {
   "cell_type": "code",
   "execution_count": 15,
   "metadata": {
    "collapsed": true
   },
   "outputs": [],
   "source": [
    "# Diese vielen Zeichen stören mich. Die will ich wegnehmen. \n",
    "# Versuchen wir das. Hier ist die Documentation. \n",
    "# https://media.readthedocs.org/pdf/textract/latest/textract.pdf\n",
    "text = textract.process(\"pdfs/Vk_20180226_08documents0.pdf\",  method='pdfminer', encoding='ascii')\n",
    "text = text.decode(\"ascii\").replace(\"\\n\", \" \")"
   ]
  },
  {
   "cell_type": "code",
   "execution_count": 16,
   "metadata": {
    "scrolled": true
   },
   "outputs": [
    {
     "data": {
      "text/plain": [
       "'         Cook Medical Europe  OHalloran Road,  National Technological Park,  Limerick, Ireland.  Phone: + 353 61 334440   Fax: + 353 61 334441                    Dringende Mitteilung:   COOK  C O O K  Sicherheitsrelevante Korrektive Manahme im Feld     Handelsname des betroffenen Produktes: Endovaskulre iliakale Bifurkationsprothese Zenith Branch  (ZBIS)    Hersteller:  William A. Cook Australia Pty Ltd    Cook-Referenznummer: 2018FA0002, QCR-83     Art der Manahme:  Sicherheitsrelevante korrektive Massnahme  ---------------------------------------------------------------------------------------------------------------------------    Datum: 15. Februar 2018    Zu Hnden: Geschftsfhrung / Risikomanagement / Einkaufsabteilung / Krankenpflege-Direktion      Details zum betroffenen Produkt:      Produkt-Markenname   Artikelnummer (RPN)   GPN   Lotnummern   ZBIS-12-61-58  ZBIS-12-61-41  ZBIS-12-45-58  ZBIS-12-45-41  ZBIS-10-61-41  ZBIS-10-45-41   G38344  G38618  G38617  G38616  G38614  G38612   Please see the   included listing for   the specific lot   numbers that are   affected        Endovaskulre iliakale   Bifurkationsprothese Zenith   Branch (ZBIS) -  Patientenkarte       Problembeschreibung:     in  Endovaskulren   falsche  Patientenkarte   festgestellt,  dass  eine   Cook  Medical  hat  iliakalen  Bifurkationsprothesen  Zenith  Branch  (ZBIS)  -  Produkten,  die  Sie  zwischen  November  2017  und  Januar  2018 erworben haben, enthalten sein knnte. Eine Produktfehlerkorrektur wird bei allen gebrauchten und  unbenutzten ZBIS-Gerten bei Ihnen vor Ort von einem Cook-Vertreter durchgefhrt.    Der Unterschied zwischen den korrekten und den inkorrekten Karten ist gering. Der Produktname auf der  inkorrekten  Patientenkarte  ist  Zenith  p-Branch  und  der  auf  der  ZBIS-Patientenkarte  angegebene  MRI- Bildartefakt-Radius  unterscheidet  sich  geringfgig  vom  Bildartefakt-Radius  auf  der  inkorrekten  Patientenkarte.  Es  besteht  ein  sehr  geringes  Risiko,  dass  die  inkorrekten  Informationen  auf  der  Patientenkarte  zu  einer  schlechteren  Bildqualitt  whrend  eines  MR-Scans  fhren  knnen.  Es  besteht  kein Risiko fr den Patienten, da kein Fehler am Produkt vorliegt.      Sicherheitsrelevante korrektive Massnahme:     Unbenutzte Produkte:    Ein Cook-Vertreter wird die Produkte bei Ihnen vor Ort begutachten und inkorrekte  Patientenkarten ersetzen.         Form: F14-00A (R10, CR16-0422)     COPYRIGHT DOCUMENT   \\x0c     page 2 of 2     Benutzte Produkte:    Ein Cook-Vertreter wird Ihnen Ersatz- Patientenkarten zur Verfgung stellen, die ausgefllt und  dem Patienten zur Verfgung gestellt werden muessen.   Hinweise zu den vom Anwender zu ergreifenden Manahmen:     1.  Bitte  fllen  Sie  das  beiliegende  Antwortformular  innerhalb  von  5  Werktagen  nach  Erhalt  dieser   Mitteilung zur sicherheitsrelevanten korrektiven Massnahme im Feld aus.    2.  Bitte  senden  Sie  das  beiliegende  Antwortformular  ausgefllt  per  Fax  oder  per  E-Mail  an  Cook  Medical, zu Hnden European Customer Quality Assurance (Faxnummer: +35361334441, E-Mail:  European.FieldAction@CookMedical.com).    3.  Wenn  Sie  Vorkommnisse  im  Zusammenhang  mit  diesen  Produkten  an  Cook  Medical  melden   mchten, kontaktieren Sie bitte unseren Kundendienst.     Weitergabe dieser Mitteilung:    Diese  Mitteilung  ist  an  alle  Mitarbeiter  in  Ihrer  Einrichtung  weiterzugeben,  die  ber  diese  Angelegenheit  informiert  werden  mssen,  sowie  an  diejenigen  Einrichtungen,  die  die  potentiell  betroffenen  Produkte  auerdem erhalten haben.      Bitte geben Sie diese Mitteilung an alle anderen Einrichtungen weiter, die von dieser Manahme betroffen  sein knnten.     Bitte  bercksichtigen  Sie  diese  Mitteilung  und  die  mit  ihr  zusammenhngenden  Manahmen  fr  einen  angemessenen Zeitraum, damit die Effektivitt der korrektiven Manahme gewhrleistet ist.      Kontaktpersonen:     Michael Galvin  Regulatory Affairs Manager  COOK Ireland   OHalloran Road, National Technology Park, Limerick, IRELAND    Oder    Annemarie Beglin   Quality Systems Manager  COOK Medical Europe   OHalloran Road, National Technology Park, Limerick, IRELAND     Bei Rckfragen stehen wir Ihnen gern zur Verfgung (e-mail: European.FieldAction@cookmedical.com,  Tel.: +353 61 334440).     Wir besttigen, dass diese Manahme der zustndigen Behrde gemeldet wurde.              Annemarie Beglin  Quality Systems Manager                    Form: F14-00A (R10, CR16-0422)    COPYRIGHT DOCUMENT   \\x0c'"
      ]
     },
     "execution_count": 16,
     "metadata": {},
     "output_type": "execute_result"
    }
   ],
   "source": [
    "text"
   ]
  },
  {
   "cell_type": "code",
   "execution_count": 17,
   "metadata": {
    "collapsed": true
   },
   "outputs": [],
   "source": [
    "#bauen wir einen For loop über alles über alle Dokumente, extrahieren \n",
    "#den ganzen Text. Und bauen damit eine Tabelle mit Text und Namen\n",
    "#der Datei"
   ]
  },
  {
   "cell_type": "code",
   "execution_count": 18,
   "metadata": {
    "scrolled": true
   },
   "outputs": [
    {
     "ename": "ShellError",
     "evalue": "The command `pdf2txt.py pdfs/Vk_20180517_12documents0.pdf` failed with exit code 1\n------------- stdout -------------\nb''------------- stderr -------------\nb'Traceback (most recent call last):\\n  File \"/usr/local/bin/pdf2txt.py\", line 115, in <module>\\n    if __name__ == \\'__main__\\': sys.exit(main(sys.argv))\\n  File \"/usr/local/bin/pdf2txt.py\", line 107, in main\\n    caching=caching, check_extractable=True):\\n  File \"/Library/Python/2.7/site-packages/pdfminer/pdfpage.py\", line 121, in get_pages\\n    doc = PDFDocument(parser, password=password, caching=caching)\\n  File \"/Library/Python/2.7/site-packages/pdfminer/pdfdocument.py\", line 326, in __init__\\n    self._initialize_password(password)\\n  File \"/Library/Python/2.7/site-packages/pdfminer/pdfdocument.py\", line 348, in _initialize_password\\n    raise PDFEncryptionError(\\'Unknown algorithm: param=%r\\' % param)\\npdfminer.pdfdocument.PDFEncryptionError: Unknown algorithm: param={\\'CF\\': {\\'StdCF\\': {\\'Length\\': 16, \\'CFM\\': /AESV2, \\'AuthEvent\\': /DocOpen}}, \\'O\\': \\'q\\\\x85\\\\xcd(\\\\xe6\\\\xad(\\\\xeeb\\\\x0e\\\\xfa\\\\xa6\\\\xa9\\\\x0c\\\\xcd\\\\xef+B\\\\x0eE\\\\xb9j\\\\xa1\\\\xe3;}\\\\xf1\\\\t\\\\x01Mx\\\\x99\\', \\'Filter\\': /Standard, \\'P\\': -1340, \\'Length\\': 128, \\'R\\': 4, \\'U\\': \\'s\\\\x9fXt\\\\xd5ae\\\\x19\\\\xfb\\\\xba\\\\x01\\\\xc7\\\\x97\\\\xc9\\\\xfb\\\\xad\\\\x00\\\\x00\\\\x00\\\\x00\\\\x00\\\\x00\\\\x00\\\\x00\\\\x00\\\\x00\\\\x00\\\\x00\\\\x00\\\\x00\\\\x00\\\\x00\\', \\'V\\': 4, \\'StmF\\': /StdCF, \\'StrF\\': /StdCF}\\n'",
     "output_type": "error",
     "traceback": [
      "\u001b[0;31m---------------------------------------------------------------------------\u001b[0m",
      "\u001b[0;31mShellError\u001b[0m                                Traceback (most recent call last)",
      "\u001b[0;32m<ipython-input-18-5aa7851bddff>\u001b[0m in \u001b[0;36m<module>\u001b[0;34m()\u001b[0m\n\u001b[1;32m      4\u001b[0m \u001b[0;34m\u001b[0m\u001b[0m\n\u001b[1;32m      5\u001b[0m \u001b[0;32mfor\u001b[0m \u001b[0mpdf\u001b[0m \u001b[0;32min\u001b[0m \u001b[0mpdfs\u001b[0m\u001b[0;34m:\u001b[0m\u001b[0;34m\u001b[0m\u001b[0m\n\u001b[0;32m----> 6\u001b[0;31m     \u001b[0mtext\u001b[0m \u001b[0;34m=\u001b[0m \u001b[0mtextract\u001b[0m\u001b[0;34m.\u001b[0m\u001b[0mprocess\u001b[0m\u001b[0;34m(\u001b[0m\u001b[0;34m\"pdfs/\"\u001b[0m\u001b[0;34m+\u001b[0m\u001b[0mpdf\u001b[0m\u001b[0;34m,\u001b[0m \u001b[0mmethod\u001b[0m\u001b[0;34m=\u001b[0m\u001b[0;34m'pdfminer'\u001b[0m\u001b[0;34m,\u001b[0m \u001b[0mencoding\u001b[0m\u001b[0;34m=\u001b[0m\u001b[0;34m'ascii'\u001b[0m\u001b[0;34m)\u001b[0m\u001b[0;34m\u001b[0m\u001b[0m\n\u001b[0m\u001b[1;32m      7\u001b[0m     \u001b[0mtext\u001b[0m \u001b[0;34m=\u001b[0m \u001b[0mtext\u001b[0m\u001b[0;34m.\u001b[0m\u001b[0mdecode\u001b[0m\u001b[0;34m(\u001b[0m\u001b[0;34m\"ascii\"\u001b[0m\u001b[0;34m)\u001b[0m\u001b[0;34m.\u001b[0m\u001b[0mreplace\u001b[0m\u001b[0;34m(\u001b[0m\u001b[0;34m\"\\n\"\u001b[0m\u001b[0;34m,\u001b[0m \u001b[0;34m\" \"\u001b[0m\u001b[0;34m)\u001b[0m\u001b[0;34m\u001b[0m\u001b[0m\n\u001b[1;32m      8\u001b[0m     mini_dict = {'Text':text,\n",
      "\u001b[0;32m~/.virtualenvs/master/lib/python3.5/site-packages/textract/parsers/__init__.py\u001b[0m in \u001b[0;36mprocess\u001b[0;34m(filename, encoding, extension, **kwargs)\u001b[0m\n\u001b[1;32m     75\u001b[0m \u001b[0;34m\u001b[0m\u001b[0m\n\u001b[1;32m     76\u001b[0m     \u001b[0mparser\u001b[0m \u001b[0;34m=\u001b[0m \u001b[0mfiletype_module\u001b[0m\u001b[0;34m.\u001b[0m\u001b[0mParser\u001b[0m\u001b[0;34m(\u001b[0m\u001b[0;34m)\u001b[0m\u001b[0;34m\u001b[0m\u001b[0m\n\u001b[0;32m---> 77\u001b[0;31m     \u001b[0;32mreturn\u001b[0m \u001b[0mparser\u001b[0m\u001b[0;34m.\u001b[0m\u001b[0mprocess\u001b[0m\u001b[0;34m(\u001b[0m\u001b[0mfilename\u001b[0m\u001b[0;34m,\u001b[0m \u001b[0mencoding\u001b[0m\u001b[0;34m,\u001b[0m \u001b[0;34m**\u001b[0m\u001b[0mkwargs\u001b[0m\u001b[0;34m)\u001b[0m\u001b[0;34m\u001b[0m\u001b[0m\n\u001b[0m\u001b[1;32m     78\u001b[0m \u001b[0;34m\u001b[0m\u001b[0m\n\u001b[1;32m     79\u001b[0m \u001b[0;34m\u001b[0m\u001b[0m\n",
      "\u001b[0;32m~/.virtualenvs/master/lib/python3.5/site-packages/textract/parsers/utils.py\u001b[0m in \u001b[0;36mprocess\u001b[0;34m(self, filename, encoding, **kwargs)\u001b[0m\n\u001b[1;32m     44\u001b[0m         \u001b[0;31m# output encoding\u001b[0m\u001b[0;34m\u001b[0m\u001b[0;34m\u001b[0m\u001b[0m\n\u001b[1;32m     45\u001b[0m         \u001b[0;31m# http://nedbatchelder.com/text/unipain/unipain.html#35\u001b[0m\u001b[0;34m\u001b[0m\u001b[0;34m\u001b[0m\u001b[0m\n\u001b[0;32m---> 46\u001b[0;31m         \u001b[0mbyte_string\u001b[0m \u001b[0;34m=\u001b[0m \u001b[0mself\u001b[0m\u001b[0;34m.\u001b[0m\u001b[0mextract\u001b[0m\u001b[0;34m(\u001b[0m\u001b[0mfilename\u001b[0m\u001b[0;34m,\u001b[0m \u001b[0;34m**\u001b[0m\u001b[0mkwargs\u001b[0m\u001b[0;34m)\u001b[0m\u001b[0;34m\u001b[0m\u001b[0m\n\u001b[0m\u001b[1;32m     47\u001b[0m         \u001b[0municode_string\u001b[0m \u001b[0;34m=\u001b[0m \u001b[0mself\u001b[0m\u001b[0;34m.\u001b[0m\u001b[0mdecode\u001b[0m\u001b[0;34m(\u001b[0m\u001b[0mbyte_string\u001b[0m\u001b[0;34m)\u001b[0m\u001b[0;34m\u001b[0m\u001b[0m\n\u001b[1;32m     48\u001b[0m         \u001b[0;32mreturn\u001b[0m \u001b[0mself\u001b[0m\u001b[0;34m.\u001b[0m\u001b[0mencode\u001b[0m\u001b[0;34m(\u001b[0m\u001b[0municode_string\u001b[0m\u001b[0;34m,\u001b[0m \u001b[0mencoding\u001b[0m\u001b[0;34m)\u001b[0m\u001b[0;34m\u001b[0m\u001b[0m\n",
      "\u001b[0;32m~/.virtualenvs/master/lib/python3.5/site-packages/textract/parsers/pdf_parser.py\u001b[0m in \u001b[0;36mextract\u001b[0;34m(self, filename, method, **kwargs)\u001b[0m\n\u001b[1;32m     29\u001b[0m \u001b[0;34m\u001b[0m\u001b[0m\n\u001b[1;32m     30\u001b[0m         \u001b[0;32melif\u001b[0m \u001b[0mmethod\u001b[0m \u001b[0;34m==\u001b[0m \u001b[0;34m'pdfminer'\u001b[0m\u001b[0;34m:\u001b[0m\u001b[0;34m\u001b[0m\u001b[0m\n\u001b[0;32m---> 31\u001b[0;31m             \u001b[0;32mreturn\u001b[0m \u001b[0mself\u001b[0m\u001b[0;34m.\u001b[0m\u001b[0mextract_pdfminer\u001b[0m\u001b[0;34m(\u001b[0m\u001b[0mfilename\u001b[0m\u001b[0;34m,\u001b[0m \u001b[0;34m**\u001b[0m\u001b[0mkwargs\u001b[0m\u001b[0;34m)\u001b[0m\u001b[0;34m\u001b[0m\u001b[0m\n\u001b[0m\u001b[1;32m     32\u001b[0m         \u001b[0;32melif\u001b[0m \u001b[0mmethod\u001b[0m \u001b[0;34m==\u001b[0m \u001b[0;34m'tesseract'\u001b[0m\u001b[0;34m:\u001b[0m\u001b[0;34m\u001b[0m\u001b[0m\n\u001b[1;32m     33\u001b[0m             \u001b[0;32mreturn\u001b[0m \u001b[0mself\u001b[0m\u001b[0;34m.\u001b[0m\u001b[0mextract_tesseract\u001b[0m\u001b[0;34m(\u001b[0m\u001b[0mfilename\u001b[0m\u001b[0;34m,\u001b[0m \u001b[0;34m**\u001b[0m\u001b[0mkwargs\u001b[0m\u001b[0;34m)\u001b[0m\u001b[0;34m\u001b[0m\u001b[0m\n",
      "\u001b[0;32m~/.virtualenvs/master/lib/python3.5/site-packages/textract/parsers/pdf_parser.py\u001b[0m in \u001b[0;36mextract_pdfminer\u001b[0;34m(self, filename, **kwargs)\u001b[0m\n\u001b[1;32m     46\u001b[0m     \u001b[0;32mdef\u001b[0m \u001b[0mextract_pdfminer\u001b[0m\u001b[0;34m(\u001b[0m\u001b[0mself\u001b[0m\u001b[0;34m,\u001b[0m \u001b[0mfilename\u001b[0m\u001b[0;34m,\u001b[0m \u001b[0;34m**\u001b[0m\u001b[0mkwargs\u001b[0m\u001b[0;34m)\u001b[0m\u001b[0;34m:\u001b[0m\u001b[0;34m\u001b[0m\u001b[0m\n\u001b[1;32m     47\u001b[0m         \u001b[0;34m\"\"\"Extract text from pdfs using pdfminer.\"\"\"\u001b[0m\u001b[0;34m\u001b[0m\u001b[0m\n\u001b[0;32m---> 48\u001b[0;31m         \u001b[0mstdout\u001b[0m\u001b[0;34m,\u001b[0m \u001b[0m_\u001b[0m \u001b[0;34m=\u001b[0m \u001b[0mself\u001b[0m\u001b[0;34m.\u001b[0m\u001b[0mrun\u001b[0m\u001b[0;34m(\u001b[0m\u001b[0;34m[\u001b[0m\u001b[0;34m'pdf2txt.py'\u001b[0m\u001b[0;34m,\u001b[0m \u001b[0mfilename\u001b[0m\u001b[0;34m]\u001b[0m\u001b[0;34m)\u001b[0m\u001b[0;34m\u001b[0m\u001b[0m\n\u001b[0m\u001b[1;32m     49\u001b[0m         \u001b[0;32mreturn\u001b[0m \u001b[0mstdout\u001b[0m\u001b[0;34m\u001b[0m\u001b[0m\n\u001b[1;32m     50\u001b[0m \u001b[0;34m\u001b[0m\u001b[0m\n",
      "\u001b[0;32m~/.virtualenvs/master/lib/python3.5/site-packages/textract/parsers/utils.py\u001b[0m in \u001b[0;36mrun\u001b[0;34m(self, args)\u001b[0m\n\u001b[1;32m     99\u001b[0m         \u001b[0;32mif\u001b[0m \u001b[0mpipe\u001b[0m\u001b[0;34m.\u001b[0m\u001b[0mreturncode\u001b[0m \u001b[0;34m!=\u001b[0m \u001b[0;36m0\u001b[0m\u001b[0;34m:\u001b[0m\u001b[0;34m\u001b[0m\u001b[0m\n\u001b[1;32m    100\u001b[0m             raise exceptions.ShellError(\n\u001b[0;32m--> 101\u001b[0;31m                 \u001b[0;34m' '\u001b[0m\u001b[0;34m.\u001b[0m\u001b[0mjoin\u001b[0m\u001b[0;34m(\u001b[0m\u001b[0margs\u001b[0m\u001b[0;34m)\u001b[0m\u001b[0;34m,\u001b[0m \u001b[0mpipe\u001b[0m\u001b[0;34m.\u001b[0m\u001b[0mreturncode\u001b[0m\u001b[0;34m,\u001b[0m \u001b[0mstdout\u001b[0m\u001b[0;34m,\u001b[0m \u001b[0mstderr\u001b[0m\u001b[0;34m,\u001b[0m\u001b[0;34m\u001b[0m\u001b[0m\n\u001b[0m\u001b[1;32m    102\u001b[0m             )\n\u001b[1;32m    103\u001b[0m \u001b[0;34m\u001b[0m\u001b[0m\n",
      "\u001b[0;31mShellError\u001b[0m: The command `pdf2txt.py pdfs/Vk_20180517_12documents0.pdf` failed with exit code 1\n------------- stdout -------------\nb''------------- stderr -------------\nb'Traceback (most recent call last):\\n  File \"/usr/local/bin/pdf2txt.py\", line 115, in <module>\\n    if __name__ == \\'__main__\\': sys.exit(main(sys.argv))\\n  File \"/usr/local/bin/pdf2txt.py\", line 107, in main\\n    caching=caching, check_extractable=True):\\n  File \"/Library/Python/2.7/site-packages/pdfminer/pdfpage.py\", line 121, in get_pages\\n    doc = PDFDocument(parser, password=password, caching=caching)\\n  File \"/Library/Python/2.7/site-packages/pdfminer/pdfdocument.py\", line 326, in __init__\\n    self._initialize_password(password)\\n  File \"/Library/Python/2.7/site-packages/pdfminer/pdfdocument.py\", line 348, in _initialize_password\\n    raise PDFEncryptionError(\\'Unknown algorithm: param=%r\\' % param)\\npdfminer.pdfdocument.PDFEncryptionError: Unknown algorithm: param={\\'CF\\': {\\'StdCF\\': {\\'Length\\': 16, \\'CFM\\': /AESV2, \\'AuthEvent\\': /DocOpen}}, \\'O\\': \\'q\\\\x85\\\\xcd(\\\\xe6\\\\xad(\\\\xeeb\\\\x0e\\\\xfa\\\\xa6\\\\xa9\\\\x0c\\\\xcd\\\\xef+B\\\\x0eE\\\\xb9j\\\\xa1\\\\xe3;}\\\\xf1\\\\t\\\\x01Mx\\\\x99\\', \\'Filter\\': /Standard, \\'P\\': -1340, \\'Length\\': 128, \\'R\\': 4, \\'U\\': \\'s\\\\x9fXt\\\\xd5ae\\\\x19\\\\xfb\\\\xba\\\\x01\\\\xc7\\\\x97\\\\xc9\\\\xfb\\\\xad\\\\x00\\\\x00\\\\x00\\\\x00\\\\x00\\\\x00\\\\x00\\\\x00\\\\x00\\\\x00\\\\x00\\\\x00\\\\x00\\\\x00\\\\x00\\\\x00\\', \\'V\\': 4, \\'StmF\\': /StdCF, \\'StrF\\': /StdCF}\\n'"
     ]
    }
   ],
   "source": [
    "import os\n",
    "pdfs = os.listdir('pdfs')\n",
    "lst = []\n",
    "\n",
    "for pdf in pdfs:\n",
    "    text = textract.process(\"pdfs/\"+pdf, method='pdfminer', encoding='ascii')\n",
    "    text = text.decode(\"ascii\").replace(\"\\n\", \" \")\n",
    "    mini_dict = {'Text':text,\n",
    "                 'File':pdf}\n",
    "    lst.append(mini_dict)\n",
    "    "
   ]
  },
  {
   "cell_type": "code",
   "execution_count": 19,
   "metadata": {
    "scrolled": true
   },
   "outputs": [
    {
     "name": "stdout",
     "output_type": "stream",
     "text": [
      "Vk_20180514_49documents0.pdf\n",
      "Vk_20180522_02documents1.pdf\n",
      "Vk_20180413_17documents3.pdf\n",
      "Vk_20180525_03documents1.pdf\n",
      "Vk_20180529_02documents2.pdf\n",
      "Vk_20180517_02documents2.pdf\n",
      "Vk_20180517_02documents3.pdf\n",
      "Vk_20180525_03documents0.pdf\n",
      "Vk_20180413_17documents2.pdf\n",
      "Vk_20180522_02documents0.pdf\n",
      "Vk_20180514_49documents1.pdf\n",
      "Vk_20180517_06documents0.pdf\n",
      "Vk_20180522_02documents2.pdf\n",
      "Vk_20180413_17documents0.pdf\n",
      "Vk_20180525_03documents2.pdf\n",
      "Vk_20180517_02documents1.pdf\n",
      "Vk_20180529_02documents1.pdf\n",
      "Vk_20180417_10documents0.pdf\n",
      "Vk_20180417_10documents1.pdf\n",
      "Vk_20180517_02documents0.pdf\n",
      "Vk_20180529_02documents0.pdf\n",
      "Vk_20180413_17documents1.pdf\n",
      "Vk_20180514_49documents2.pdf\n",
      "Vk_20180528_08documents1.pdf\n",
      "Vk_20180509_08documents0.pdf\n",
      "Vk_20180517_12documents0.pdf\n"
     ]
    },
    {
     "ename": "ShellError",
     "evalue": "The command `pdf2txt.py pdfs/Vk_20180517_12documents0.pdf` failed with exit code 1\n------------- stdout -------------\nb''------------- stderr -------------\nb'Traceback (most recent call last):\\n  File \"/usr/local/bin/pdf2txt.py\", line 115, in <module>\\n    if __name__ == \\'__main__\\': sys.exit(main(sys.argv))\\n  File \"/usr/local/bin/pdf2txt.py\", line 107, in main\\n    caching=caching, check_extractable=True):\\n  File \"/Library/Python/2.7/site-packages/pdfminer/pdfpage.py\", line 121, in get_pages\\n    doc = PDFDocument(parser, password=password, caching=caching)\\n  File \"/Library/Python/2.7/site-packages/pdfminer/pdfdocument.py\", line 326, in __init__\\n    self._initialize_password(password)\\n  File \"/Library/Python/2.7/site-packages/pdfminer/pdfdocument.py\", line 348, in _initialize_password\\n    raise PDFEncryptionError(\\'Unknown algorithm: param=%r\\' % param)\\npdfminer.pdfdocument.PDFEncryptionError: Unknown algorithm: param={\\'CF\\': {\\'StdCF\\': {\\'Length\\': 16, \\'CFM\\': /AESV2, \\'AuthEvent\\': /DocOpen}}, \\'O\\': \\'q\\\\x85\\\\xcd(\\\\xe6\\\\xad(\\\\xeeb\\\\x0e\\\\xfa\\\\xa6\\\\xa9\\\\x0c\\\\xcd\\\\xef+B\\\\x0eE\\\\xb9j\\\\xa1\\\\xe3;}\\\\xf1\\\\t\\\\x01Mx\\\\x99\\', \\'Filter\\': /Standard, \\'P\\': -1340, \\'Length\\': 128, \\'R\\': 4, \\'U\\': \\'s\\\\x9fXt\\\\xd5ae\\\\x19\\\\xfb\\\\xba\\\\x01\\\\xc7\\\\x97\\\\xc9\\\\xfb\\\\xad\\\\x00\\\\x00\\\\x00\\\\x00\\\\x00\\\\x00\\\\x00\\\\x00\\\\x00\\\\x00\\\\x00\\\\x00\\\\x00\\\\x00\\\\x00\\\\x00\\', \\'V\\': 4, \\'StmF\\': /StdCF, \\'StrF\\': /StdCF}\\n'",
     "output_type": "error",
     "traceback": [
      "\u001b[0;31m---------------------------------------------------------------------------\u001b[0m",
      "\u001b[0;31mShellError\u001b[0m                                Traceback (most recent call last)",
      "\u001b[0;32m<ipython-input-19-ba2482002c27>\u001b[0m in \u001b[0;36m<module>\u001b[0;34m()\u001b[0m\n\u001b[1;32m      5\u001b[0m \u001b[0;32mfor\u001b[0m \u001b[0mpdf\u001b[0m \u001b[0;32min\u001b[0m \u001b[0mpdfs\u001b[0m\u001b[0;34m:\u001b[0m\u001b[0;34m\u001b[0m\u001b[0m\n\u001b[1;32m      6\u001b[0m     \u001b[0mprint\u001b[0m\u001b[0;34m(\u001b[0m\u001b[0mpdf\u001b[0m\u001b[0;34m)\u001b[0m\u001b[0;34m\u001b[0m\u001b[0m\n\u001b[0;32m----> 7\u001b[0;31m     \u001b[0mtext\u001b[0m \u001b[0;34m=\u001b[0m \u001b[0mtextract\u001b[0m\u001b[0;34m.\u001b[0m\u001b[0mprocess\u001b[0m\u001b[0;34m(\u001b[0m\u001b[0;34m\"pdfs/\"\u001b[0m\u001b[0;34m+\u001b[0m\u001b[0mpdf\u001b[0m\u001b[0;34m,\u001b[0m \u001b[0mmethod\u001b[0m\u001b[0;34m=\u001b[0m\u001b[0;34m'pdfminer'\u001b[0m\u001b[0;34m,\u001b[0m \u001b[0mencoding\u001b[0m\u001b[0;34m=\u001b[0m\u001b[0;34m'ascii'\u001b[0m\u001b[0;34m)\u001b[0m\u001b[0;34m\u001b[0m\u001b[0m\n\u001b[0m\u001b[1;32m      8\u001b[0m     \u001b[0mtext\u001b[0m \u001b[0;34m=\u001b[0m \u001b[0mtext\u001b[0m\u001b[0;34m.\u001b[0m\u001b[0mdecode\u001b[0m\u001b[0;34m(\u001b[0m\u001b[0;34m\"ascii\"\u001b[0m\u001b[0;34m)\u001b[0m\u001b[0;34m.\u001b[0m\u001b[0mreplace\u001b[0m\u001b[0;34m(\u001b[0m\u001b[0;34m\"\\n\"\u001b[0m\u001b[0;34m,\u001b[0m \u001b[0;34m\" \"\u001b[0m\u001b[0;34m)\u001b[0m\u001b[0;34m\u001b[0m\u001b[0m\n\u001b[1;32m      9\u001b[0m     mini_dict = {'Text':text,\n",
      "\u001b[0;32m~/.virtualenvs/master/lib/python3.5/site-packages/textract/parsers/__init__.py\u001b[0m in \u001b[0;36mprocess\u001b[0;34m(filename, encoding, extension, **kwargs)\u001b[0m\n\u001b[1;32m     75\u001b[0m \u001b[0;34m\u001b[0m\u001b[0m\n\u001b[1;32m     76\u001b[0m     \u001b[0mparser\u001b[0m \u001b[0;34m=\u001b[0m \u001b[0mfiletype_module\u001b[0m\u001b[0;34m.\u001b[0m\u001b[0mParser\u001b[0m\u001b[0;34m(\u001b[0m\u001b[0;34m)\u001b[0m\u001b[0;34m\u001b[0m\u001b[0m\n\u001b[0;32m---> 77\u001b[0;31m     \u001b[0;32mreturn\u001b[0m \u001b[0mparser\u001b[0m\u001b[0;34m.\u001b[0m\u001b[0mprocess\u001b[0m\u001b[0;34m(\u001b[0m\u001b[0mfilename\u001b[0m\u001b[0;34m,\u001b[0m \u001b[0mencoding\u001b[0m\u001b[0;34m,\u001b[0m \u001b[0;34m**\u001b[0m\u001b[0mkwargs\u001b[0m\u001b[0;34m)\u001b[0m\u001b[0;34m\u001b[0m\u001b[0m\n\u001b[0m\u001b[1;32m     78\u001b[0m \u001b[0;34m\u001b[0m\u001b[0m\n\u001b[1;32m     79\u001b[0m \u001b[0;34m\u001b[0m\u001b[0m\n",
      "\u001b[0;32m~/.virtualenvs/master/lib/python3.5/site-packages/textract/parsers/utils.py\u001b[0m in \u001b[0;36mprocess\u001b[0;34m(self, filename, encoding, **kwargs)\u001b[0m\n\u001b[1;32m     44\u001b[0m         \u001b[0;31m# output encoding\u001b[0m\u001b[0;34m\u001b[0m\u001b[0;34m\u001b[0m\u001b[0m\n\u001b[1;32m     45\u001b[0m         \u001b[0;31m# http://nedbatchelder.com/text/unipain/unipain.html#35\u001b[0m\u001b[0;34m\u001b[0m\u001b[0;34m\u001b[0m\u001b[0m\n\u001b[0;32m---> 46\u001b[0;31m         \u001b[0mbyte_string\u001b[0m \u001b[0;34m=\u001b[0m \u001b[0mself\u001b[0m\u001b[0;34m.\u001b[0m\u001b[0mextract\u001b[0m\u001b[0;34m(\u001b[0m\u001b[0mfilename\u001b[0m\u001b[0;34m,\u001b[0m \u001b[0;34m**\u001b[0m\u001b[0mkwargs\u001b[0m\u001b[0;34m)\u001b[0m\u001b[0;34m\u001b[0m\u001b[0m\n\u001b[0m\u001b[1;32m     47\u001b[0m         \u001b[0municode_string\u001b[0m \u001b[0;34m=\u001b[0m \u001b[0mself\u001b[0m\u001b[0;34m.\u001b[0m\u001b[0mdecode\u001b[0m\u001b[0;34m(\u001b[0m\u001b[0mbyte_string\u001b[0m\u001b[0;34m)\u001b[0m\u001b[0;34m\u001b[0m\u001b[0m\n\u001b[1;32m     48\u001b[0m         \u001b[0;32mreturn\u001b[0m \u001b[0mself\u001b[0m\u001b[0;34m.\u001b[0m\u001b[0mencode\u001b[0m\u001b[0;34m(\u001b[0m\u001b[0municode_string\u001b[0m\u001b[0;34m,\u001b[0m \u001b[0mencoding\u001b[0m\u001b[0;34m)\u001b[0m\u001b[0;34m\u001b[0m\u001b[0m\n",
      "\u001b[0;32m~/.virtualenvs/master/lib/python3.5/site-packages/textract/parsers/pdf_parser.py\u001b[0m in \u001b[0;36mextract\u001b[0;34m(self, filename, method, **kwargs)\u001b[0m\n\u001b[1;32m     29\u001b[0m \u001b[0;34m\u001b[0m\u001b[0m\n\u001b[1;32m     30\u001b[0m         \u001b[0;32melif\u001b[0m \u001b[0mmethod\u001b[0m \u001b[0;34m==\u001b[0m \u001b[0;34m'pdfminer'\u001b[0m\u001b[0;34m:\u001b[0m\u001b[0;34m\u001b[0m\u001b[0m\n\u001b[0;32m---> 31\u001b[0;31m             \u001b[0;32mreturn\u001b[0m \u001b[0mself\u001b[0m\u001b[0;34m.\u001b[0m\u001b[0mextract_pdfminer\u001b[0m\u001b[0;34m(\u001b[0m\u001b[0mfilename\u001b[0m\u001b[0;34m,\u001b[0m \u001b[0;34m**\u001b[0m\u001b[0mkwargs\u001b[0m\u001b[0;34m)\u001b[0m\u001b[0;34m\u001b[0m\u001b[0m\n\u001b[0m\u001b[1;32m     32\u001b[0m         \u001b[0;32melif\u001b[0m \u001b[0mmethod\u001b[0m \u001b[0;34m==\u001b[0m \u001b[0;34m'tesseract'\u001b[0m\u001b[0;34m:\u001b[0m\u001b[0;34m\u001b[0m\u001b[0m\n\u001b[1;32m     33\u001b[0m             \u001b[0;32mreturn\u001b[0m \u001b[0mself\u001b[0m\u001b[0;34m.\u001b[0m\u001b[0mextract_tesseract\u001b[0m\u001b[0;34m(\u001b[0m\u001b[0mfilename\u001b[0m\u001b[0;34m,\u001b[0m \u001b[0;34m**\u001b[0m\u001b[0mkwargs\u001b[0m\u001b[0;34m)\u001b[0m\u001b[0;34m\u001b[0m\u001b[0m\n",
      "\u001b[0;32m~/.virtualenvs/master/lib/python3.5/site-packages/textract/parsers/pdf_parser.py\u001b[0m in \u001b[0;36mextract_pdfminer\u001b[0;34m(self, filename, **kwargs)\u001b[0m\n\u001b[1;32m     46\u001b[0m     \u001b[0;32mdef\u001b[0m \u001b[0mextract_pdfminer\u001b[0m\u001b[0;34m(\u001b[0m\u001b[0mself\u001b[0m\u001b[0;34m,\u001b[0m \u001b[0mfilename\u001b[0m\u001b[0;34m,\u001b[0m \u001b[0;34m**\u001b[0m\u001b[0mkwargs\u001b[0m\u001b[0;34m)\u001b[0m\u001b[0;34m:\u001b[0m\u001b[0;34m\u001b[0m\u001b[0m\n\u001b[1;32m     47\u001b[0m         \u001b[0;34m\"\"\"Extract text from pdfs using pdfminer.\"\"\"\u001b[0m\u001b[0;34m\u001b[0m\u001b[0m\n\u001b[0;32m---> 48\u001b[0;31m         \u001b[0mstdout\u001b[0m\u001b[0;34m,\u001b[0m \u001b[0m_\u001b[0m \u001b[0;34m=\u001b[0m \u001b[0mself\u001b[0m\u001b[0;34m.\u001b[0m\u001b[0mrun\u001b[0m\u001b[0;34m(\u001b[0m\u001b[0;34m[\u001b[0m\u001b[0;34m'pdf2txt.py'\u001b[0m\u001b[0;34m,\u001b[0m \u001b[0mfilename\u001b[0m\u001b[0;34m]\u001b[0m\u001b[0;34m)\u001b[0m\u001b[0;34m\u001b[0m\u001b[0m\n\u001b[0m\u001b[1;32m     49\u001b[0m         \u001b[0;32mreturn\u001b[0m \u001b[0mstdout\u001b[0m\u001b[0;34m\u001b[0m\u001b[0m\n\u001b[1;32m     50\u001b[0m \u001b[0;34m\u001b[0m\u001b[0m\n",
      "\u001b[0;32m~/.virtualenvs/master/lib/python3.5/site-packages/textract/parsers/utils.py\u001b[0m in \u001b[0;36mrun\u001b[0;34m(self, args)\u001b[0m\n\u001b[1;32m     99\u001b[0m         \u001b[0;32mif\u001b[0m \u001b[0mpipe\u001b[0m\u001b[0;34m.\u001b[0m\u001b[0mreturncode\u001b[0m \u001b[0;34m!=\u001b[0m \u001b[0;36m0\u001b[0m\u001b[0;34m:\u001b[0m\u001b[0;34m\u001b[0m\u001b[0m\n\u001b[1;32m    100\u001b[0m             raise exceptions.ShellError(\n\u001b[0;32m--> 101\u001b[0;31m                 \u001b[0;34m' '\u001b[0m\u001b[0;34m.\u001b[0m\u001b[0mjoin\u001b[0m\u001b[0;34m(\u001b[0m\u001b[0margs\u001b[0m\u001b[0;34m)\u001b[0m\u001b[0;34m,\u001b[0m \u001b[0mpipe\u001b[0m\u001b[0;34m.\u001b[0m\u001b[0mreturncode\u001b[0m\u001b[0;34m,\u001b[0m \u001b[0mstdout\u001b[0m\u001b[0;34m,\u001b[0m \u001b[0mstderr\u001b[0m\u001b[0;34m,\u001b[0m\u001b[0;34m\u001b[0m\u001b[0m\n\u001b[0m\u001b[1;32m    102\u001b[0m             )\n\u001b[1;32m    103\u001b[0m \u001b[0;34m\u001b[0m\u001b[0m\n",
      "\u001b[0;31mShellError\u001b[0m: The command `pdf2txt.py pdfs/Vk_20180517_12documents0.pdf` failed with exit code 1\n------------- stdout -------------\nb''------------- stderr -------------\nb'Traceback (most recent call last):\\n  File \"/usr/local/bin/pdf2txt.py\", line 115, in <module>\\n    if __name__ == \\'__main__\\': sys.exit(main(sys.argv))\\n  File \"/usr/local/bin/pdf2txt.py\", line 107, in main\\n    caching=caching, check_extractable=True):\\n  File \"/Library/Python/2.7/site-packages/pdfminer/pdfpage.py\", line 121, in get_pages\\n    doc = PDFDocument(parser, password=password, caching=caching)\\n  File \"/Library/Python/2.7/site-packages/pdfminer/pdfdocument.py\", line 326, in __init__\\n    self._initialize_password(password)\\n  File \"/Library/Python/2.7/site-packages/pdfminer/pdfdocument.py\", line 348, in _initialize_password\\n    raise PDFEncryptionError(\\'Unknown algorithm: param=%r\\' % param)\\npdfminer.pdfdocument.PDFEncryptionError: Unknown algorithm: param={\\'CF\\': {\\'StdCF\\': {\\'Length\\': 16, \\'CFM\\': /AESV2, \\'AuthEvent\\': /DocOpen}}, \\'O\\': \\'q\\\\x85\\\\xcd(\\\\xe6\\\\xad(\\\\xeeb\\\\x0e\\\\xfa\\\\xa6\\\\xa9\\\\x0c\\\\xcd\\\\xef+B\\\\x0eE\\\\xb9j\\\\xa1\\\\xe3;}\\\\xf1\\\\t\\\\x01Mx\\\\x99\\', \\'Filter\\': /Standard, \\'P\\': -1340, \\'Length\\': 128, \\'R\\': 4, \\'U\\': \\'s\\\\x9fXt\\\\xd5ae\\\\x19\\\\xfb\\\\xba\\\\x01\\\\xc7\\\\x97\\\\xc9\\\\xfb\\\\xad\\\\x00\\\\x00\\\\x00\\\\x00\\\\x00\\\\x00\\\\x00\\\\x00\\\\x00\\\\x00\\\\x00\\\\x00\\\\x00\\\\x00\\\\x00\\\\x00\\', \\'V\\': 4, \\'StmF\\': /StdCF, \\'StrF\\': /StdCF}\\n'"
     ]
    }
   ],
   "source": [
    "#Fehlermeldung, wie gehen wir nun vor, um diesen Fehler zu finden und zu beheben? \n",
    "#In der Meldung unten, sehen wir, wo der Fehler passiert ist. \n",
    "pdfs = os.listdir('pdfs')\n",
    "lst = []\n",
    "\n",
    "for pdf in pdfs:\n",
    "    print(pdf)\n",
    "    text = textract.process(\"pdfs/\"+pdf, method='pdfminer', encoding='ascii')\n",
    "    text = text.decode(\"ascii\").replace(\"\\n\", \" \")\n",
    "    mini_dict = {'Text':text,\n",
    "                 'File':pdf}\n",
    "    lst.append(mini_dict)"
   ]
  },
  {
   "cell_type": "code",
   "execution_count": 21,
   "metadata": {
    "collapsed": true
   },
   "outputs": [],
   "source": [
    "#Bauen wir deshalb ein try: und except ein:\n",
    "import os\n",
    "pdfs = os.listdir('pdfs')\n",
    "lst = []\n",
    "\n",
    "for pdf in pdfs:\n",
    "    try:\n",
    "        text = textract.process(\"pdfs/\"+pdf, method='pdfminer', encoding='ascii')\n",
    "        text = text.decode(\"ascii\").replace(\"\\n\", \" \")\n",
    "        mini_dict = {'Text':text,\n",
    "                     'File':pdf}\n",
    "        lst.append(mini_dict)\n",
    "    except:\n",
    "        mini_dict = {'Text':'Fehlermeldung',\n",
    "                     'File':pdf}\n",
    "        lst.append(mini_dict)"
   ]
  },
  {
   "cell_type": "code",
   "execution_count": 22,
   "metadata": {
    "collapsed": true
   },
   "outputs": [],
   "source": [
    "# Das geht nun ganz durch. Dauert aber sehr lange. Ich möchte aber wissen, wo ich stehe.\n",
    "# Schauen wir uns das mit Progressbar an. "
   ]
  },
  {
   "cell_type": "code",
   "execution_count": 23,
   "metadata": {},
   "outputs": [
    {
     "name": "stderr",
     "output_type": "stream",
     "text": [
      " 98% (81 of 82) |######################### | Elapsed Time: 0:01:19 ETA: 0:00:01"
     ]
    }
   ],
   "source": [
    "import progressbar\n",
    "bar = progressbar.ProgressBar() #Hier wir bar als Funktion defininiert.\n",
    "lst = []\n",
    "\n",
    "for pdf,i in zip(pdfs, bar(range(len(pdfs)))): #Hier wird die Funktion auf eine Liste mit integers \n",
    "                                               #angewandt, die genau gleich lang ist wie die \n",
    "                                               #länge der PDF LIste \n",
    "    try:\n",
    "        text = textract.process(\"pdfs/\"+pdf, method='pdfminer', encoding='ISO-8859-1')\n",
    "        text = text.decode(\"ISO-8859-1\").replace(\"\\n\", \" \")\n",
    "        mini_dict = {'Text':text,\n",
    "                     'File':pdf}\n",
    "        lst.append(mini_dict)\n",
    "    except:\n",
    "        mini_dict = {'Text':'Fehlermeldung',\n",
    "                     'File':pdf}\n",
    "        lst.append(mini_dict)"
   ]
  },
  {
   "cell_type": "code",
   "execution_count": 25,
   "metadata": {},
   "outputs": [
    {
     "data": {
      "text/html": [
       "<div>\n",
       "<style scoped>\n",
       "    .dataframe tbody tr th:only-of-type {\n",
       "        vertical-align: middle;\n",
       "    }\n",
       "\n",
       "    .dataframe tbody tr th {\n",
       "        vertical-align: top;\n",
       "    }\n",
       "\n",
       "    .dataframe thead th {\n",
       "        text-align: right;\n",
       "    }\n",
       "</style>\n",
       "<table border=\"1\" class=\"dataframe\">\n",
       "  <thead>\n",
       "    <tr style=\"text-align: right;\">\n",
       "      <th></th>\n",
       "      <th>File</th>\n",
       "      <th>Text</th>\n",
       "    </tr>\n",
       "  </thead>\n",
       "  <tbody>\n",
       "    <tr>\n",
       "      <th>0</th>\n",
       "      <td>Vk_20180514_49documents0.pdf</td>\n",
       "      <td></td>\n",
       "    </tr>\n",
       "    <tr>\n",
       "      <th>1</th>\n",
       "      <td>Vk_20180522_02documents1.pdf</td>\n",
       "      <td>Information urgente relative à la sécurité  Re...</td>\n",
       "    </tr>\n",
       "    <tr>\n",
       "      <th>2</th>\n",
       "      <td>Vk_20180413_17documents3.pdf</td>\n",
       "      <td>Dräger Schweiz AG, CH-3097 Liebefeld   À latte...</td>\n",
       "    </tr>\n",
       "    <tr>\n",
       "      <th>3</th>\n",
       "      <td>Vk_20180525_03documents1.pdf</td>\n",
       "      <td>BIBRAUN   B. Braun Medical SA  Seesatz 17  CH-...</td>\n",
       "    </tr>\n",
       "    <tr>\n",
       "      <th>4</th>\n",
       "      <td>Vk_20180529_02documents2.pdf</td>\n",
       "      <td>URGENT ...</td>\n",
       "    </tr>\n",
       "    <tr>\n",
       "      <th>5</th>\n",
       "      <td>Vk_20180517_02documents2.pdf</td>\n",
       "      <td>Smith &amp; Nephew Orthopaedics AG  Oberneuhofst...</td>\n",
       "    </tr>\n",
       "    <tr>\n",
       "      <th>6</th>\n",
       "      <td>Vk_20180517_02documents3.pdf</td>\n",
       "      <td></td>\n",
       "    </tr>\n",
       "    <tr>\n",
       "      <th>7</th>\n",
       "      <td>Vk_20180525_03documents0.pdf</td>\n",
       "      <td>DIDRAUN   B. Braun Medical  AG  Seesatz  17  C...</td>\n",
       "    </tr>\n",
       "    <tr>\n",
       "      <th>8</th>\n",
       "      <td>Vk_20180413_17documents2.pdf</td>\n",
       "      <td>Dräger Schweiz AG, CH-3097 Liebefeld   À latte...</td>\n",
       "    </tr>\n",
       "    <tr>\n",
       "      <th>9</th>\n",
       "      <td>Vk_20180522_02documents0.pdf</td>\n",
       "      <td>Dringende Sicherheitsinformation  Rückruf/Aust...</td>\n",
       "    </tr>\n",
       "  </tbody>\n",
       "</table>\n",
       "</div>"
      ],
      "text/plain": [
       "                           File  \\\n",
       "0  Vk_20180514_49documents0.pdf   \n",
       "1  Vk_20180522_02documents1.pdf   \n",
       "2  Vk_20180413_17documents3.pdf   \n",
       "3  Vk_20180525_03documents1.pdf   \n",
       "4  Vk_20180529_02documents2.pdf   \n",
       "5  Vk_20180517_02documents2.pdf   \n",
       "6  Vk_20180517_02documents3.pdf   \n",
       "7  Vk_20180525_03documents0.pdf   \n",
       "8  Vk_20180413_17documents2.pdf   \n",
       "9  Vk_20180522_02documents0.pdf   \n",
       "\n",
       "                                                Text  \n",
       "0                                                \n",
       "\n",
       "\n",
       "  \n",
       "1  Information urgente relative à la sécurité  Re...  \n",
       "2  Dräger Schweiz AG, CH-3097 Liebefeld   À latte...  \n",
       "3  BIBRAUN   B. Braun Medical SA  Seesatz 17  CH-...  \n",
       "4                                         URGENT ...  \n",
       "5    Smith & Nephew Orthopaedics AG  Oberneuhofst...  \n",
       "6                                                \n",
       "\n",
       "\n",
       "  \n",
       "7  DIDRAUN   B. Braun Medical  AG  Seesatz  17  C...  \n",
       "8  Dräger Schweiz AG, CH-3097 Liebefeld   À latte...  \n",
       "9  Dringende Sicherheitsinformation  Rückruf/Aust...  "
      ]
     },
     "execution_count": 25,
     "metadata": {},
     "output_type": "execute_result"
    }
   ],
   "source": [
    "#Schauen wir uns an, was wir haben\n",
    "import pandas as pd\n",
    "df = pd.DataFrame(lst)\n",
    "df.head(10)"
   ]
  },
  {
   "cell_type": "markdown",
   "metadata": {},
   "source": [
    "## Bilder in Text umwandeln"
   ]
  },
  {
   "cell_type": "code",
   "execution_count": 26,
   "metadata": {
    "collapsed": true
   },
   "outputs": [],
   "source": [
    "# Warum sind diese leeren Sachen da? Schauen wir das erte Dokument an. \n",
    "# Aha! Das ist ein Bild."
   ]
  },
  {
   "cell_type": "code",
   "execution_count": 27,
   "metadata": {
    "collapsed": true
   },
   "outputs": [],
   "source": [
    "#Das können wir auch mit textract rausnehmen\n",
    "#https://www.macports.org/install.php\n",
    "#sudo port install tesseract-eng\n",
    "#https://github.com/tesseract-ocr/tesseract/blob/master/doc/tesseract.1.asc#languages\n",
    "#https://stackoverflow.com/questions/14800730/tesseract-running-error\n",
    "text = textract.process(\"pdfs/Vk_20180514_49documents0.pdf\", method='tesseract') #language='deu'\n",
    "text = text.decode(\"ISO-8859-1\").replace(\"\\n\", \" \")\n"
   ]
  },
  {
   "cell_type": "code",
   "execution_count": 28,
   "metadata": {
    "scrolled": true
   },
   "outputs": [
    {
     "data": {
      "text/plain": [
       "\"I DRINGEND: SICHERHEITSHINWEIVS  waSSEDBURG â\\x80\\x94â\\x80\\x94â\\x80\\x9câ\\x80\\x98â\\x80\\x94â\\x80\\x98â\\x80\\x94mechcal  Wassmmurg Medical 5 v.  Edusannng a  6659 NA DODEWMRD THE NETHERLANDS T â\\x80\\x9831 yavaaa 700 500 F â\\x80\\x9831 umaa 453 055  RUCKRUF VON KANALVERBINDUNGS-  MATERIAL  vlo@\\\\vassenmvgmed 1:31 nl wassenbutgmecma! com  WASSENBURGÂ® REINIGUNGS- UND DESINFEKTIONSGERAT  ENDOSKOPIE  PRODUKTNAMEâ\\x80\\x98,  WASSENBURGâ\\x80\\x9d WD440. WD440 PT, WD415 Reinigungs- und  Desinfektionsgerat Endoskopie  DATUM: HANDLUNGSTYP: ZU HANDEN VON:  22. Mai 2018 Sicherheitsmassnahme Abteilungsleiter fur Dekontaminaï¬\\x81on / Endoskopie  Angaben zu betroffenan Garâ\\x80\\x98a'ten:  Bei einigen Chargen der Kanalverhindungen fur die Verbindung van Endoskopen in WASSENBURGâ\\x80\\x9d Endoskop-Reinigungs- und Desinfektionsgeraten wurde ein Defskt feslgestellt, infolgedessen einige Verbindungsstï¬\\x82cke wahrend der Endoskopaufbereilung auseinanderfallan kbnnenâ\\x80\\x98  Die belmffenen Artikel und Chargen kannen der folgenden Tabelle entnomman warden                                                                                                  â\\x80\\x98 Anikelnummer chargennummer Beschrelbung 08493104 5015402 Wasserï¬\\x82aschenverbinder Fujinon 08493104 5015723 Wasserï¬\\x82aschenverbinder Fujinon 03527001 5013839 Luftâ\\x80\\x94IWasserverblnder Pentax 08527001 5015726 LuR-IWasserverbinder Pentax 09005103 5015897 Oder 40008444 Kanaltrenner Olympus 09005103 5015953 Oder 40003453 Kanaltrenner Olympus 09009104 + 5015537 Oder 40000061 Kanaltrenner Olympus 09010103 5015490 oder 40000031 Kanaltrenner Olympus 09010103 5015499 Oder 40000032 | Kanaltrenner Olympus 09010103 5015859 Oder 40000439 Kanaltrenner Olympus 09062108 5016413 oder 40003485 Kanaltrenner Pentax 09060105 5015246 Kanaltrenner Fujinon 09135103 5010707 Kanaltrenner Penlax 09136103 5015620 oder 40000075 Kanaltrenner Pentax 09136103 5015621 oder 40000076 KanaItrenner Pentax 09138001 5013388 Kananrenner Fujinon 951660 5015600 oder 40000068 Kanaltrenner Fujinon 952507 5013797 Kanakrenner Fujinon 952641 5016261 uder 40008481 [Kanaltrenner Pentax           Die obengenannten Chargen warden seit dem O1. Dezember 2017 hergestellt  SICHERHEiTSHINWEIS| ZVE2ZGMD1V18006| SEITE IVON 3  WESSGDBURG  medical  Problembeschrelbung:  Bei allen obengenannten Verbindungsstï¬\\x82cken. ausgenommen Arï¬\\x81kel 08493104 und 06527001, gibl es zwei Defekte, wenn das Verbindungssmck wahrend des Endoskop-Prozesses ausainanderfÃ©lll:  1â\\x80\\x98 Unvollslandige Teilung der Luft-IWassarkanala  2â\\x80\\x98 Ausfall der Konlmlle der Biopsleâ\\x80\\x94lAnsaug-Blockierungserkennung durch Lack am Ansaugventil  Im Falle van Artikel 08493104 kann eine Leckage am Wasserflaschenverbindar zu einem Defekl der Kontrolle der Blockierungserkennung im Wasserkanal fï¬\\x81hren.  lm Falle van Artikel 08527001 kann eine Leakage am Luft-lWasservenlil zu einem Defekt der Kantrolle der Blackierungserkennung im Luï¬\\x82kanal fuhren.  Eine Endoskopaufbereilung mk einem defeklen Verbindungsstï¬\\x82ck kann zu einer mangalnden Auï¬\\x82aereilung der intemen Endasknpkanale fuhran.  Ein Zerfall der Verbindungskanale kann wahrend der visuellen Verbindungskontmlle am Ende des Aufhereimngszyklus festgestellt warden; das Endosknp sollte anschliessend gemass Gebrauchsanweisung wiederhok gereinigt und desinï¬\\x81ziert warden. Ein Risiko fEIr die Patienten kann enâ\\x80\\x98slshan, wenn die Endnskopaufbereitung nicht mil elnem Imaklen Verbindungssmck wiederholt und ein Zerfall des Verbindungssmcks vom Benutzer nicht erfassl wird.  Aus diesem Grund ruï¬\\x82 Wassenburg die obengenannten Chargen zurï¬\\x82ckâ\\x80\\x98 Die betmffenen Amkel warden ersetzt. Au'grund momenlaner Lieferschwierigkeilen, die ausserhalb unserer Konlrulle Iiegen, ist eine Veuogerung der Verbindungssmcke zu erwartenA Wassenburg tut alles in seiner Mach! Stehende. um die Valzmerungen so kurz wie maglich zu halten.  Vom Benutzer zu ergreifende Massnahmen:  1. Uherprufen Sie die Verhindungssets der vorliagenden. obengenannlen Artikel. Die Verbindungsstï¬\\x82cke  sind mil der Arlikel- sowie der Chargennummer versehen,  Sefzen Sie sich mil Ihrem Wassenburg-Lieferanâ\\x80\\x98en zwecks eines Ersatzteils in Verbindung.  Stellen Sie sofan die Benmzung der obengenannten Verhlndungsstï¬\\x82cke ein,  Wir empfehlen. vor und nach jedem Aufbereitungszyklus zu uberprlï¬\\x82en, ob alle Teile des  Verbindungssmcks sicher hefesligl sind, falls elne Eenutzung der Verbindungsstucka var Erhalt eines  Ersameils unvermeidbar ist. Falls ein Teil des betroffenen Verhindungssmcks locker isl, darf das  Verbindungssmck nicht Ianger benutzt werden. Das Endoskop. das miâ\\x80\\x98 einem lockeran Verbinduugsstï¬\\x81ck  aufbereilet wurde, muss vor Benutzung an einem Patienten noch einmal aufbereilet warden. Wassenburg  kann garantieren. class das Verbindungsslï¬\\x82ck weiterhin korrekt funktioniert. wenn alle Teile des  betrnffenen Verbindungssmcks sicher befestigt slnd.  5. Dekonlaminieren Sie den/die betroffenen Artikel und senden Sie lhn zuruck an lhren Wassenburg- Lieferanten.  P99!â\\x80\\x9c  Welterleitung dieses Sicherheitshinwelses:  Dieser Sicherheilshinweis muss an alle betroffenen Personen innerhalb Ihres Untamehmens oder eines anderen Unlemehmens. an das pnlenziell betmffene Germs gesandt wurden. weitergeleile! werden.  Bine Ieiten Sie diesen Hinweis an andere Unlemehmen weiâ\\x80\\x98er, die diese Massnahma ebenfalls betrifft.  Bitte beachten Sie diesen Sicherheilshinwais und die resullierenden Massnahmen fur einen angemessenen Zehraurn, urn einen Erfulg der Sicherheitsmassnahme zu gewahrleislen,  SICHERl-(EITSHINWEJS| ZVEZQGMm V15006â\\x80\\x98 SElTE 3 VON 3  WESSEI'IBURG  medical Ansprechpanner:  Dominik Lanz  Mositech AG Rotzenbï¬\\x82hlstrasse 55 6957 Spreilenbach  +41 (0) 56 596 51 50 dominikâ\\x80\\x98lenz mnsilech.ch  Der Untelzeichnende beslaligl, dass diese Miï¬\\x82eilung der entsprechenden Aufsichtsbehbrde gemeldet wurde.  Wassenburg Medical Bâ\\x80\\x98Vâ\\x80\\x98     Dr. Patrick Vronen Regulatory Affairs Manager  SICHERHEITSHINWEâ\\x80\\x98S | ZVEZZGMW V18005| SEITE 3 \\\\ION 3  \""
      ]
     },
     "execution_count": 28,
     "metadata": {},
     "output_type": "execute_result"
    }
   ],
   "source": [
    "text"
   ]
  },
  {
   "cell_type": "code",
   "execution_count": 30,
   "metadata": {},
   "outputs": [
    {
     "name": "stderr",
     "output_type": "stream",
     "text": [
      " 98% (81 of 82) |######################### | Elapsed Time: 0:05:54 ETA: 0:00:02"
     ]
    }
   ],
   "source": [
    "bar = progressbar.ProgressBar()\n",
    "lst = []\n",
    "\n",
    "for pdf,i in zip(pdfs, bar(range(len(pdfs)))):\n",
    "    try:\n",
    "        text = textract.process(\"pdfs/\"+pdf, method='pdfminer', encoding='ISO-8859-1')\n",
    "        text = text.decode(\"ISO-8859-1\").replace(\"\\n\", \" \")\n",
    "        if len(text) < 40:\n",
    "            text = textract.process(\"pdfs/\"+pdf, method='tesseract', language='deu')\n",
    "            text = text.decode(\"ISO-8859-1\").replace(\"\\n\", \" \")\n",
    "            \n",
    "        mini_dict = {'Text':text,\n",
    "                     'File':pdf}\n",
    "        lst.append(mini_dict)\n",
    "    except:\n",
    "        mini_dict = {'Text':'Fehlermeldung',\n",
    "                     'File':pdf}\n",
    "        lst.append(mini_dict)"
   ]
  },
  {
   "cell_type": "markdown",
   "metadata": {},
   "source": [
    "# Strukturieren wir den Inhalt noch etwas"
   ]
  },
  {
   "cell_type": "code",
   "execution_count": 31,
   "metadata": {
    "collapsed": true,
    "scrolled": true
   },
   "outputs": [],
   "source": [
    "df = pd.DataFrame(lst)"
   ]
  },
  {
   "cell_type": "code",
   "execution_count": 32,
   "metadata": {},
   "outputs": [
    {
     "data": {
      "text/html": [
       "<div>\n",
       "<style scoped>\n",
       "    .dataframe tbody tr th:only-of-type {\n",
       "        vertical-align: middle;\n",
       "    }\n",
       "\n",
       "    .dataframe tbody tr th {\n",
       "        vertical-align: top;\n",
       "    }\n",
       "\n",
       "    .dataframe thead th {\n",
       "        text-align: right;\n",
       "    }\n",
       "</style>\n",
       "<table border=\"1\" class=\"dataframe\">\n",
       "  <thead>\n",
       "    <tr style=\"text-align: right;\">\n",
       "      <th></th>\n",
       "      <th>File</th>\n",
       "      <th>Text</th>\n",
       "    </tr>\n",
       "  </thead>\n",
       "  <tbody>\n",
       "    <tr>\n",
       "      <th>0</th>\n",
       "      <td>Vk_20180514_49documents0.pdf</td>\n",
       "      <td>. DRINGEND: SICHERHEITSHINWELS  W855â¬HBURG _...</td>\n",
       "    </tr>\n",
       "    <tr>\n",
       "      <th>1</th>\n",
       "      <td>Vk_20180522_02documents1.pdf</td>\n",
       "      <td>Information urgente relative à la sécurité  Re...</td>\n",
       "    </tr>\n",
       "    <tr>\n",
       "      <th>2</th>\n",
       "      <td>Vk_20180413_17documents3.pdf</td>\n",
       "      <td>Dräger Schweiz AG, CH-3097 Liebefeld   À latte...</td>\n",
       "    </tr>\n",
       "    <tr>\n",
       "      <th>3</th>\n",
       "      <td>Vk_20180525_03documents1.pdf</td>\n",
       "      <td>BIBRAUN   B. Braun Medical SA  Seesatz 17  CH-...</td>\n",
       "    </tr>\n",
       "    <tr>\n",
       "      <th>4</th>\n",
       "      <td>Vk_20180529_02documents2.pdf</td>\n",
       "      <td>URGENT ...</td>\n",
       "    </tr>\n",
       "  </tbody>\n",
       "</table>\n",
       "</div>"
      ],
      "text/plain": [
       "                           File  \\\n",
       "0  Vk_20180514_49documents0.pdf   \n",
       "1  Vk_20180522_02documents1.pdf   \n",
       "2  Vk_20180413_17documents3.pdf   \n",
       "3  Vk_20180525_03documents1.pdf   \n",
       "4  Vk_20180529_02documents2.pdf   \n",
       "\n",
       "                                                Text  \n",
       "0  . DRINGEND: SICHERHEITSHINWELS  W855â¬HBURG _...  \n",
       "1  Information urgente relative à la sécurité  Re...  \n",
       "2  Dräger Schweiz AG, CH-3097 Liebefeld   À latte...  \n",
       "3  BIBRAUN   B. Braun Medical SA  Seesatz 17  CH-...  \n",
       "4                                         URGENT ...  "
      ]
     },
     "execution_count": 32,
     "metadata": {},
     "output_type": "execute_result"
    }
   ],
   "source": [
    "#Wie könnten wir das Eingangsdatum der dokumente ermitteln?\n",
    "df.head()"
   ]
  },
  {
   "cell_type": "code",
   "execution_count": 33,
   "metadata": {
    "collapsed": true
   },
   "outputs": [],
   "source": [
    "def date(elem):\n",
    "    elem = elem[3:11]\n",
    "    return elem\n",
    "df['date'] = df['File'].apply(date)"
   ]
  },
  {
   "cell_type": "code",
   "execution_count": 34,
   "metadata": {
    "collapsed": true
   },
   "outputs": [],
   "source": [
    "df['date'] = pd.to_datetime(df['date'], format='%Y%m%d')"
   ]
  },
  {
   "cell_type": "code",
   "execution_count": 35,
   "metadata": {
    "collapsed": true
   },
   "outputs": [],
   "source": [
    "df.index = df['date']"
   ]
  },
  {
   "cell_type": "code",
   "execution_count": 36,
   "metadata": {},
   "outputs": [
    {
     "data": {
      "text/html": [
       "<div>\n",
       "<style scoped>\n",
       "    .dataframe tbody tr th:only-of-type {\n",
       "        vertical-align: middle;\n",
       "    }\n",
       "\n",
       "    .dataframe tbody tr th {\n",
       "        vertical-align: top;\n",
       "    }\n",
       "\n",
       "    .dataframe thead th {\n",
       "        text-align: right;\n",
       "    }\n",
       "</style>\n",
       "<table border=\"1\" class=\"dataframe\">\n",
       "  <thead>\n",
       "    <tr style=\"text-align: right;\">\n",
       "      <th></th>\n",
       "      <th>File</th>\n",
       "      <th>Text</th>\n",
       "      <th>date</th>\n",
       "    </tr>\n",
       "    <tr>\n",
       "      <th>date</th>\n",
       "      <th></th>\n",
       "      <th></th>\n",
       "      <th></th>\n",
       "    </tr>\n",
       "  </thead>\n",
       "  <tbody>\n",
       "    <tr>\n",
       "      <th>2018-05-14</th>\n",
       "      <td>Vk_20180514_49documents0.pdf</td>\n",
       "      <td>. DRINGEND: SICHERHEITSHINWELS  W855â¬HBURG _...</td>\n",
       "      <td>2018-05-14</td>\n",
       "    </tr>\n",
       "    <tr>\n",
       "      <th>2018-05-22</th>\n",
       "      <td>Vk_20180522_02documents1.pdf</td>\n",
       "      <td>Information urgente relative à la sécurité  Re...</td>\n",
       "      <td>2018-05-22</td>\n",
       "    </tr>\n",
       "    <tr>\n",
       "      <th>2018-04-13</th>\n",
       "      <td>Vk_20180413_17documents3.pdf</td>\n",
       "      <td>Dräger Schweiz AG, CH-3097 Liebefeld   À latte...</td>\n",
       "      <td>2018-04-13</td>\n",
       "    </tr>\n",
       "    <tr>\n",
       "      <th>2018-05-25</th>\n",
       "      <td>Vk_20180525_03documents1.pdf</td>\n",
       "      <td>BIBRAUN   B. Braun Medical SA  Seesatz 17  CH-...</td>\n",
       "      <td>2018-05-25</td>\n",
       "    </tr>\n",
       "    <tr>\n",
       "      <th>2018-05-29</th>\n",
       "      <td>Vk_20180529_02documents2.pdf</td>\n",
       "      <td>URGENT ...</td>\n",
       "      <td>2018-05-29</td>\n",
       "    </tr>\n",
       "  </tbody>\n",
       "</table>\n",
       "</div>"
      ],
      "text/plain": [
       "                                    File  \\\n",
       "date                                       \n",
       "2018-05-14  Vk_20180514_49documents0.pdf   \n",
       "2018-05-22  Vk_20180522_02documents1.pdf   \n",
       "2018-04-13  Vk_20180413_17documents3.pdf   \n",
       "2018-05-25  Vk_20180525_03documents1.pdf   \n",
       "2018-05-29  Vk_20180529_02documents2.pdf   \n",
       "\n",
       "                                                         Text       date  \n",
       "date                                                                      \n",
       "2018-05-14  . DRINGEND: SICHERHEITSHINWELS  W855â¬HBURG _... 2018-05-14  \n",
       "2018-05-22  Information urgente relative à la sécurité  Re... 2018-05-22  \n",
       "2018-04-13  Dräger Schweiz AG, CH-3097 Liebefeld   À latte... 2018-04-13  \n",
       "2018-05-25  BIBRAUN   B. Braun Medical SA  Seesatz 17  CH-... 2018-05-25  \n",
       "2018-05-29                                         URGENT ... 2018-05-29  "
      ]
     },
     "execution_count": 36,
     "metadata": {},
     "output_type": "execute_result"
    }
   ],
   "source": [
    "df.head()"
   ]
  },
  {
   "cell_type": "code",
   "execution_count": 37,
   "metadata": {
    "collapsed": true
   },
   "outputs": [],
   "source": [
    "import matplotlib.pyplot as plt\n",
    "import matplotlib\n",
    "plt.style.use('fivethirtyeight')\n",
    "%matplotlib inline"
   ]
  },
  {
   "cell_type": "code",
   "execution_count": 38,
   "metadata": {},
   "outputs": [
    {
     "data": {
      "text/plain": [
       "<matplotlib.axes._subplots.AxesSubplot at 0x11161a128>"
      ]
     },
     "execution_count": 38,
     "metadata": {},
     "output_type": "execute_result"
    },
    {
     "data": {
      "image/png": "[encoded data removed]",
      "text/plain": [
       "<matplotlib.figure.Figure at 0x111592828>"
      ]
     },
     "metadata": {},
     "output_type": "display_data"
    }
   ],
   "source": [
    "#Visualisieren wir das\n",
    "df.resample('D')['File'].count().plot()"
   ]
  },
  {
   "cell_type": "code",
   "execution_count": 39,
   "metadata": {
    "collapsed": true
   },
   "outputs": [],
   "source": [
    "#Suchen wir noch nach Implantaten\n",
    "df['implant'] = df['Text'].str.contains('implant')"
   ]
  },
  {
   "cell_type": "code",
   "execution_count": 40,
   "metadata": {},
   "outputs": [
    {
     "data": {
      "text/plain": [
       "False    72\n",
       "True     10\n",
       "Name: implant, dtype: int64"
      ]
     },
     "execution_count": 40,
     "metadata": {},
     "output_type": "execute_result"
    }
   ],
   "source": [
    "df['implant'].value_counts()"
   ]
  },
  {
   "cell_type": "code",
   "execution_count": 41,
   "metadata": {},
   "outputs": [
    {
     "data": {
      "text/plain": [
       "<matplotlib.axes._subplots.AxesSubplot at 0x1117832e8>"
      ]
     },
     "execution_count": 41,
     "metadata": {},
     "output_type": "execute_result"
    },
    {
     "data": {
      "image/png": "[encoded data removed]",
      "text/plain": [
       "<matplotlib.figure.Figure at 0x110d9df28>"
      ]
     },
     "metadata": {},
     "output_type": "display_data"
    }
   ],
   "source": [
    "#Plotten wir diese Implants\n",
    "df[df['implant']==True].resample('D')['implant'].count().plot()"
   ]
  },
  {
   "cell_type": "markdown",
   "metadata": {
    "collapsed": true
   },
   "source": [
    "# Speichern wir alle ab"
   ]
  },
  {
   "cell_type": "code",
   "execution_count": 42,
   "metadata": {
    "collapsed": true
   },
   "outputs": [],
   "source": [
    "df.to_csv('datafile.csv')"
   ]
  },
  {
   "cell_type": "code",
   "execution_count": null,
   "metadata": {
    "collapsed": true
   },
   "outputs": [],
   "source": []
  },
  {
   "cell_type": "code",
   "execution_count": null,
   "metadata": {
    "collapsed": true
   },
   "outputs": [],
   "source": []
  }
 ],
 "metadata": {
  "kernelspec": {
   "display_name": "Python 3",
   "language": "python",
   "name": "python3"
  },
  "language_info": {
   "codemirror_mode": {
    "name": "ipython",
    "version": 3
   },
   "file_extension": ".py",
   "mimetype": "text/x-python",
   "name": "python",
   "nbconvert_exporter": "python",
   "pygments_lexer": "ipython3",
   "version": "3.5.1"
  }
 },
 "nbformat": 4,
 "nbformat_minor": 2
}
