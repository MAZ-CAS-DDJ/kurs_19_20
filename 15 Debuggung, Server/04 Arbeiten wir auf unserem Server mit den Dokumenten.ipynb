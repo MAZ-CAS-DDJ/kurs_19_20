{
 "cells": [
  {
   "cell_type": "markdown",
   "metadata": {},
   "source": [
    "# Bereiten wir das Script vor"
   ]
  },
  {
   "cell_type": "code",
   "execution_count": 2,
   "metadata": {
    "collapsed": true
   },
   "outputs": [],
   "source": [
    "#Imports\n",
    "import os\n",
    "import progressbar\n",
    "import textract\n",
    "import pandas as pd"
   ]
  },
  {
   "cell_type": "code",
   "execution_count": null,
   "metadata": {
    "collapsed": true
   },
   "outputs": [],
   "source": [
    "#Vorbereitung\n",
    "pdfs = os.listdir('pdfs')\n",
    "bar = progressbar.ProgressBar()\n",
    "lst = []"
   ]
  },
  {
   "cell_type": "code",
   "execution_count": null,
   "metadata": {
    "collapsed": true
   },
   "outputs": [],
   "source": [
    "#Rohe Analyse\n",
    "for pdf,i in zip(pdfs, bar(range(len(pdfs)))):\n",
    "    try:\n",
    "        text = textract.process(\"pdfs/\"+pdf, method='pdfminer', encoding='ISO-8859-1')\n",
    "        text = text.decode(\"ISO-8859-1\").replace(\"\\n\", \" \")\n",
    "        if len(text) < 40:\n",
    "            text = textract.process(\"pdfs/\"+pdf, method='tesseract', language='deu')\n",
    "            text = text.decode(\"ISO-8859-1\").replace(\"\\n\", \" \")\n",
    "            \n",
    "        mini_dict = {'Text':text,\n",
    "                     'File':pdf}\n",
    "        lst.append(mini_dict)\n",
    "    except:\n",
    "        mini_dict = {'Text':'Fehlermeldung',\n",
    "                     'File':pdf}\n",
    "        lst.append(mini_dict)"
   ]
  },
  {
   "cell_type": "code",
   "execution_count": null,
   "metadata": {
    "collapsed": true
   },
   "outputs": [],
   "source": [
    "#Erste Säuberung\n",
    "df = pd.DataFrame(lst)\n",
    "def date(elem):\n",
    "    elem = elem[3:11]\n",
    "    return elem\n",
    "df['date'] = df['File'].apply(date)\n",
    "df['date'] = pd.to_datetime(df['date'], format='%Y%m%d')\n",
    "df.index = df['date']\n",
    "#Suchen wir noch nach Implantaten\n",
    "df['implant'] = df['Text'].str.contains('implant')\n",
    "df.to_csv('datafile.csv')"
   ]
  },
  {
   "cell_type": "code",
   "execution_count": null,
   "metadata": {
    "collapsed": true
   },
   "outputs": [],
   "source": []
  }
 ],
 "metadata": {
  "kernelspec": {
   "display_name": "Python 3",
   "language": "python",
   "name": "python3"
  },
  "language_info": {
   "codemirror_mode": {
    "name": "ipython",
    "version": 3
   },
   "file_extension": ".py",
   "mimetype": "text/x-python",
   "name": "python",
   "nbconvert_exporter": "python",
   "pygments_lexer": "ipython3",
   "version": "3.5.1"
  }
 },
 "nbformat": 4,
 "nbformat_minor": 2
}
