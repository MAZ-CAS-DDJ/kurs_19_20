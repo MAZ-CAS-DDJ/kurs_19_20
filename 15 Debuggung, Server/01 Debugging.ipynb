{
 "cells": [
  {
   "cell_type": "markdown",
   "metadata": {},
   "source": [
    "# Debugging 2 : Not getting the result I want"
   ]
  },
  {
   "cell_type": "code",
   "execution_count": 1,
   "metadata": {
    "collapsed": true
   },
   "outputs": [],
   "source": [
    "#Let do the imports\n",
    "import requests\n",
    "from bs4 import BeautifulSoup\n",
    "import pandas as pd"
   ]
  },
  {
   "cell_type": "code",
   "execution_count": 5,
   "metadata": {
    "collapsed": true
   },
   "outputs": [],
   "source": [
    "# Examining the WannaCry accounts\n",
    "url1 = \"https://blockchain.info/address/115p7UMMngoj1pMvkpHijcRdfJNXj6LrLn\"\n",
    "url2 = \"https://blockchain.info/address/12t9YDPgwueZ9NyMgw519p7AA8isjr6SMw\"\n",
    "url3 = \"https://blockchain.info/address/13AM4VW2dhxYgXeQepoHkHSQuy6NgaEb94\"\n",
    "url_list = [url1, url2, url3]\n",
    "extras_list = [\"\", \"?offset=50&filter=6\", \"?offset=100&filter=6\"]"
   ]
  },
  {
   "cell_type": "code",
   "execution_count": 6,
   "metadata": {
    "collapsed": true
   },
   "outputs": [],
   "source": [
    "#Scraping the sites\n",
    "list_of_payments = []\n",
    "\n",
    "for url in url_list:\n",
    "    \n",
    "    for extra in extras_list:\n",
    "        \n",
    "        urlnew = url + extra\n",
    "        response = requests.get(urlnew)\n",
    "        bitcoin_soup = BeautifulSoup(response.text, 'html.parser')\n",
    "        \n",
    "        try:\n",
    "            alltransactions = bitcoin_soup.find('div', {'id':'tx_container'})\n",
    "            list_of_transactions = alltransactions.find_all('div')\n",
    "    \n",
    "\n",
    "            for elem in list_of_transactions:\n",
    "    \n",
    "                try:\n",
    "                    date = elem.find('span', {'class': 'pull-right'}).text\n",
    "                    list_of_accounts = elem.find('td', {'width': '500px'}).find_all('a')\n",
    "                    amount = float(elem.find('span', {'class': 'pull-right hidden-phone'}).find('span').text.replace(' BTC', ''))\n",
    "    \n",
    "                    mini_dict = {'Datum': date, \n",
    "                         'Kontenlisten': list_of_accounts,\n",
    "                         'Betrag': amount}\n",
    "    \n",
    "                    list_of_payments.append(mini_dict)\n",
    "                except:\n",
    "                    None\n",
    "        except:\n",
    "            None"
   ]
  },
  {
   "cell_type": "code",
   "execution_count": 7,
   "metadata": {},
   "outputs": [
    {
     "data": {
      "text/plain": [
       "[]"
      ]
     },
     "execution_count": 7,
     "metadata": {},
     "output_type": "execute_result"
    }
   ],
   "source": [
    "list_of_payments"
   ]
  },
  {
   "cell_type": "code",
   "execution_count": null,
   "metadata": {
    "collapsed": true
   },
   "outputs": [],
   "source": []
  }
 ],
 "metadata": {
  "kernelspec": {
   "display_name": "Python 3",
   "language": "python",
   "name": "python3"
  },
  "language_info": {
   "codemirror_mode": {
    "name": "ipython",
    "version": 3
   },
   "file_extension": ".py",
   "mimetype": "text/x-python",
   "name": "python",
   "nbconvert_exporter": "python",
   "pygments_lexer": "ipython3",
   "version": "3.5.1"
  }
 },
 "nbformat": 4,
 "nbformat_minor": 2
}
