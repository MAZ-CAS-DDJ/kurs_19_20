{
 "cells": [
  {
   "cell_type": "markdown",
   "metadata": {},
   "source": [
    "# Search.ch API\n",
    "Bevor ihr hier mit der Arbeit beginnt, müsst ihr eine API-Key beantragen. Das geht via [diesem Formular](https://tel.search.ch/api/getkey.html). Ich mag diese API. Denn die Dokumentation ist sehr einfach gehalten. Das ist bei vielen anderen APIs nicht der Fall. Unter diesem Link findet ihr [die Dokumentation](https://tel.search.ch/api/help). Ihr könnt auch ohne Key arbeiten, aber dann ist die Suche begrenzt."
   ]
  },
  {
   "cell_type": "markdown",
   "metadata": {},
   "source": [
    "Unsere Imports"
   ]
  },
  {
   "cell_type": "code",
   "execution_count": 1,
   "metadata": {
    "collapsed": true
   },
   "outputs": [],
   "source": [
    "import requests\n",
    "import pandas as pd"
   ]
  },
  {
   "cell_type": "code",
   "execution_count": 2,
   "metadata": {
    "collapsed": true
   },
   "outputs": [],
   "source": [
    "r = requests.get('https://tel.search.ch/api/?was=skinner')"
   ]
  },
  {
   "cell_type": "code",
   "execution_count": 5,
   "metadata": {},
   "outputs": [
    {
     "data": {
      "text/plain": [
       "'<?xml version=\"1.0\" encoding=\"utf-8\" ?>\\n<feed xml:lang=\"de\" xmlns=\"http://www.w3.org/2005/Atom\" xmlns:openSearch=\"http://a9.com/-/spec/opensearchrss/1.0/\" xmlns:tel=\"http://tel.search.ch/api/spec/result/1.0/\">\\n  <id>https://tel.search.ch/api/9dc92eda1b0e19bfaeab0bcf38e66325</id>\\n  <title type=\"text\">tel.search.ch API Search Results</title>\\n  <generator version=\"1.0\" uri=\"https://tel.search.ch\">tel.search.ch</generator>\\n  <updated>2018-08-08T02:00:00Z</updated>\\n  <link href=\"https://tel.search.ch/result.html?was=skinner\" rel=\"alternate\" type=\"text/html\" />\\n  <link href=\"http://tel.search.ch/api/?was=skinner\" type=\"application/atom+xml\" rel=\"self\" />\\n  <link href=\"http://tel.search.ch/api/?was=skinner&amp;pos=11\" rel=\"next\" type=\"application/atom+xml\" />\\n  <openSearch:totalResults>13</openSearch:totalResults>\\n  <openSearch:startIndex>1</openSearch:startIndex>\\n  <openSearch:itemsPerPage>10</openSearch:itemsPerPage>\\n  <openSearch:Query role=\"request\" searchTerms=\"skinner \" startPage=\"1\"></openSearch:Query>\\n  <openSearch:Image height=\"1\" width=\"1\" type=\"image/gif\">https://www.search.ch/audit/CP/tel/de/api</openSearch:Image>\\n  <entry>\\n    <id>urn:uuid:3ad974805863b35f</id>\\n    <updated>2018-08-08T02:00:00Z</updated>\\n    <published>2018-08-08T02:00:00Z</published>\\n    <title type=\"text\">Skinner-Davies Language Solutions</title>\\n    <content type=\"text\">Skinner-Davies Language Solutions\\n    (Pendox TM)\\n    Ochsengasse 34\\n    4123 Allschwil/BL\\n    061 733 10 05</content>\\n    <tel:nopromo>*</tel:nopromo>\\n    <author>\\n      <name>tel.search.ch</name>\\n    </author>\\n    <link href=\"https://tel.search.ch/allschwil/ochsengasse-34/skinner-davies-language-solutions\" title=\"Details\" rel=\"alternate\" type=\"text/html\" />\\n    <link href=\"https://tel.search.ch/vcard/Skinner-Davies-Language-Solutions.vcf?key=3ad974805863b35f\" type=\"text/x-vcard\" title=\"VCard Download\" rel=\"alternate\" />\\n    <link href=\"https://tel.search.ch/edit/?id=3ad974805863b35f\" rel=\"edit\" type=\"text/html\" />\\n  </entry>\\n  <entry>\\n    <id>urn:uuid:bae5bf5406360b51</id>\\n    <updated>2018-08-08T02:00:00Z</updated>\\n    <published>2018-08-08T02:00:00Z</published>\\n    <title type=\"text\">Skinner, David</title>\\n    <content type=\"text\">Skinner, David\\n    route des Montagnes 28\\n    1261 Le Vaud/VD\\n    022 366 28 29</content>\\n    <tel:nopromo>*</tel:nopromo>\\n    <author>\\n      <name>tel.search.ch</name>\\n    </author>\\n    <link href=\"https://tel.search.ch/le-vaud/route-des-montagnes-28/david-skinner\" title=\"Details\" rel=\"alternate\" type=\"text/html\" />\\n    <link href=\"https://tel.search.ch/vcard/Skinner.vcf?key=bae5bf5406360b51\" type=\"text/x-vcard\" title=\"VCard Download\" rel=\"alternate\" />\\n    <link href=\"https://tel.search.ch/edit/?id=bae5bf5406360b51\" rel=\"edit\" type=\"text/html\" />\\n  </entry>\\n  <entry>\\n    <id>urn:uuid:1669221f539f4c52</id>\\n    <updated>2018-08-08T02:00:00Z</updated>\\n    <published>2018-08-08T02:00:00Z</published>\\n    <title type=\"text\">Skinner, Finlay Stewart und Heidi</title>\\n    <content type=\"text\">Skinner, Finlay Stewart und Heidi\\n    Richtiarkade 13\\n    8304 Wallisellen/ZH\\n    061 421 79 31</content>\\n    <tel:nopromo>*</tel:nopromo>\\n    <author>\\n      <name>tel.search.ch</name>\\n    </author>\\n    <link href=\"https://tel.search.ch/wallisellen/richtiarkade-13/finlay-stewart-und-heidi-skinner\" title=\"Details\" rel=\"alternate\" type=\"text/html\" />\\n    <link href=\"https://tel.search.ch/vcard/Skinner.vcf?key=1669221f539f4c52\" type=\"text/x-vcard\" title=\"VCard Download\" rel=\"alternate\" />\\n    <link href=\"https://tel.search.ch/edit/?id=1669221f539f4c52\" rel=\"edit\" type=\"text/html\" />\\n  </entry>\\n  <entry>\\n    <id>urn:uuid:513fb5712740be60</id>\\n    <updated>2018-08-08T02:00:00Z</updated>\\n    <published>2018-08-08T02:00:00Z</published>\\n    <title type=\"text\">Skinner, Gladys</title>\\n    <content type=\"text\">Skinner, Gladys\\n    rue du Pas-de-l\\'Ours 10\\n    3963 Crans-Montana/VS\\n    027 483 33 81</content>\\n    <author>\\n      <name>tel.search.ch</name>\\n    </author>\\n    <link href=\"https://tel.search.ch/crans-montana/rue-du-pas-de-lours-10/gladys-skinner\" title=\"Details\" rel=\"alternate\" type=\"text/html\" />\\n    <link href=\"https://tel.search.ch/vcard/Skinner.vcf?key=513fb5712740be60\" type=\"text/x-vcard\" title=\"VCard Download\" rel=\"alternate\" />\\n    <link href=\"https://tel.search.ch/edit/?id=513fb5712740be60\" rel=\"edit\" type=\"text/html\" />\\n  </entry>\\n  <entry>\\n    <id>urn:uuid:4e7fde01609b7d0e</id>\\n    <updated>2018-08-08T02:00:00Z</updated>\\n    <published>2018-08-08T02:00:00Z</published>\\n    <title type=\"text\">Skinner, Margarita</title>\\n    <content type=\"text\">Skinner, Margarita\\n    Bahnhofstrasse 112\\n    6423 Seewen/SZ\\n    041 811 65 64</content>\\n    <tel:nopromo>*</tel:nopromo>\\n    <author>\\n      <name>tel.search.ch</name>\\n    </author>\\n    <link href=\"https://tel.search.ch/seewen/bahnhofstrasse-112/margarita-skinner\" title=\"Details\" rel=\"alternate\" type=\"text/html\" />\\n    <link href=\"https://tel.search.ch/vcard/Skinner.vcf?key=4e7fde01609b7d0e\" type=\"text/x-vcard\" title=\"VCard Download\" rel=\"alternate\" />\\n    <link href=\"https://tel.search.ch/edit/?id=4e7fde01609b7d0e\" rel=\"edit\" type=\"text/html\" />\\n  </entry>\\n  <entry>\\n    <id>urn:uuid:7aaa941cd5ffa95a</id>\\n    <updated>2018-08-08T02:00:00Z</updated>\\n    <published>2018-08-08T02:00:00Z</published>\\n    <title type=\"text\">Skinner, Robert (-Lindgren-Carita)</title>\\n    <content type=\"text\">Skinner, Robert (-Lindgren-Carita)\\n    dipl. Ing.\\n    Weiherweg 14\\n    5443 Niederrohrdorf/AG\\n    056 496 19 84</content>\\n    <author>\\n      <name>tel.search.ch</name>\\n    </author>\\n    <link href=\"https://tel.search.ch/niederrohrdorf/weiherweg-14/robert-skinner\" title=\"Details\" rel=\"alternate\" type=\"text/html\" />\\n    <link href=\"https://tel.search.ch/vcard/Skinner.vcf?key=7aaa941cd5ffa95a\" type=\"text/x-vcard\" title=\"VCard Download\" rel=\"alternate\" />\\n    <link href=\"https://tel.search.ch/edit/?id=7aaa941cd5ffa95a\" rel=\"edit\" type=\"text/html\" />\\n  </entry>\\n  <entry>\\n    <id>urn:uuid:dfc0061655bcf4e7</id>\\n    <updated>2018-08-08T02:00:00Z</updated>\\n    <published>2018-08-08T02:00:00Z</published>\\n    <title type=\"text\">Skinner, Steven</title>\\n    <content type=\"text\">Skinner, Steven\\n    Rebbergstrasse 1D\\n    8425 Oberembrach/ZH\\n    044 814 11 22</content>\\n    <tel:nopromo>*</tel:nopromo>\\n    <author>\\n      <name>tel.search.ch</name>\\n    </author>\\n    <link href=\"https://tel.search.ch/oberembrach/rebbergstrasse-1d/steven-skinner\" title=\"Details\" rel=\"alternate\" type=\"text/html\" />\\n    <link href=\"https://tel.search.ch/vcard/Skinner.vcf?key=dfc0061655bcf4e7\" type=\"text/x-vcard\" title=\"VCard Download\" rel=\"alternate\" />\\n    <link href=\"https://tel.search.ch/edit/?id=dfc0061655bcf4e7\" rel=\"edit\" type=\"text/html\" />\\n  </entry>\\n  <entry>\\n    <id>urn:uuid:f000f01a93615685</id>\\n    <updated>2018-08-08T02:00:00Z</updated>\\n    <published>2018-08-08T02:00:00Z</published>\\n    <title type=\"text\">Skinner, Svitlana</title>\\n    <content type=\"text\">Skinner, Svitlana\\n    Sallenbachstrasse 1\\n    8055 Zürich/ZH\\n    078 613 75 83</content>\\n    <tel:nopromo>*</tel:nopromo>\\n    <author>\\n      <name>tel.search.ch</name>\\n    </author>\\n    <link href=\"https://tel.search.ch/zuerich/sallenbachstrasse-1/svitlana-skinner\" title=\"Details\" rel=\"alternate\" type=\"text/html\" />\\n    <link href=\"https://tel.search.ch/vcard/Skinner.vcf?key=f000f01a93615685\" type=\"text/x-vcard\" title=\"VCard Download\" rel=\"alternate\" />\\n    <link href=\"https://tel.search.ch/edit/?id=f000f01a93615685\" rel=\"edit\" type=\"text/html\" />\\n  </entry>\\n  <entry>\\n    <id>urn:uuid:481f2a8e02c0716e</id>\\n    <updated>2018-08-08T02:00:00Z</updated>\\n    <published>2018-08-08T02:00:00Z</published>\\n    <title type=\"text\">Skinner, Valérie</title>\\n    <content type=\"text\">Skinner, Valérie\\n    chemin des Mésanges 5\\n    1588 Cudrefin/VD\\n    026 677 33 36</content>\\n    <tel:nopromo>*</tel:nopromo>\\n    <author>\\n      <name>tel.search.ch</name>\\n    </author>\\n    <link href=\"https://tel.search.ch/cudrefin/chemin-des-mesanges-5/valerie-skinner\" title=\"Details\" rel=\"alternate\" type=\"text/html\" />\\n    <link href=\"https://tel.search.ch/vcard/Skinner.vcf?key=481f2a8e02c0716e\" type=\"text/x-vcard\" title=\"VCard Download\" rel=\"alternate\" />\\n    <link href=\"https://tel.search.ch/edit/?id=481f2a8e02c0716e\" rel=\"edit\" type=\"text/html\" />\\n  </entry>\\n  <entry>\\n    <id>urn:uuid:8df1a85f4294d08f</id>\\n    <updated>2018-08-08T02:00:00Z</updated>\\n    <published>2018-08-08T02:00:00Z</published>\\n    <title type=\"text\">Skinner, William und Carolin (-Leins)</title>\\n    <content type=\"text\">Skinner, William und Carolin (-Leins)\\n    Via Muntegn 2\\n    7014 Trin/GR\\n    081 921 26 79</content>\\n    <tel:nopromo>*</tel:nopromo>\\n    <author>\\n      <name>tel.search.ch</name>\\n    </author>\\n    <link href=\"https://tel.search.ch/trin/via-muntegn-2/william-und-carolin-skinner\" title=\"Details\" rel=\"alternate\" type=\"text/html\" />\\n    <link href=\"https://tel.search.ch/vcard/Skinner.vcf?key=8df1a85f4294d08f\" type=\"text/x-vcard\" title=\"VCard Download\" rel=\"alternate\" />\\n    <link href=\"https://tel.search.ch/edit/?id=8df1a85f4294d08f\" rel=\"edit\" type=\"text/html\" />\\n  </entry>\\n</feed>\\n'"
      ]
     },
     "execution_count": 5,
     "metadata": {},
     "output_type": "execute_result"
    }
   ],
   "source": [
    "r.text"
   ]
  },
  {
   "cell_type": "code",
   "execution_count": null,
   "metadata": {
    "collapsed": true
   },
   "outputs": [],
   "source": []
  }
 ],
 "metadata": {
  "kernelspec": {
   "display_name": "Python 3",
   "language": "python",
   "name": "python3"
  },
  "language_info": {
   "codemirror_mode": {
    "name": "ipython",
    "version": 3
   },
   "file_extension": ".py",
   "mimetype": "text/x-python",
   "name": "python",
   "nbconvert_exporter": "python",
   "pygments_lexer": "ipython3",
   "version": "3.5.1"
  }
 },
 "nbformat": 4,
 "nbformat_minor": 2
}
