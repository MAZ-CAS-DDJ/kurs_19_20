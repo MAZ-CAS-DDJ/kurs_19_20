{
 "cells": [
  {
   "cell_type": "markdown",
   "metadata": {},
   "source": [
    "# Pandas Einführung\n",
    "Wir haben nun mehrmals Pandas importiert und ihr habt Sachen gemacht, die ihr vielleicht nicht wirklich verstanden habt. Ich möchte euch hier einen kleinen Einblick von Pandas geben, weil die Library wirklich sehr im Zentrum der Arbeit mit grossen Datenmengen steht. Er kann dazu benutzt werden grosse Datenmengen zu reinigen, aber auch diese zu visualisieren. Und nicht zuletzt ist er ein statististes Werkzeug. Entwickelt wurde die Library für Banker an der Wall Street. Doch mittlerweile wird das Werkzeug sehr breit in der Wissenschaft verwendet. "
   ]
  },
  {
   "cell_type": "markdown",
   "metadata": {},
   "source": [
    "Hier geht es [zur Dokumentation](https://pandas.pydata.org). Wie ihr sehr, wird die Library wirklich konstant weiter entwickelt. "
   ]
  },
  {
   "cell_type": "markdown",
   "metadata": {},
   "source": [
    "Bei diesem Kennenlernen werden wir uns die Daten anschauen, die wir von der Lehrenangebotswebsite angeschaut haben."
   ]
  },
  {
   "cell_type": "markdown",
   "metadata": {},
   "source": [
    "Aber machen wir zuerst unsere Imports."
   ]
  },
  {
   "cell_type": "code",
   "execution_count": 2,
   "metadata": {
    "collapsed": true
   },
   "outputs": [],
   "source": [
    "import pandas as pd"
   ]
  },
  {
   "cell_type": "markdown",
   "metadata": {},
   "source": [
    "Und dann importieren wir die Daten."
   ]
  },
  {
   "cell_type": "code",
   "execution_count": 3,
   "metadata": {
    "collapsed": true
   },
   "outputs": [],
   "source": [
    "df = pd.read_csv('lehren.csv')"
   ]
  },
  {
   "cell_type": "code",
   "execution_count": 5,
   "metadata": {},
   "outputs": [],
   "source": [
    "del df['Unnamed: 0']"
   ]
  },
  {
   "cell_type": "code",
   "execution_count": 7,
   "metadata": {},
   "outputs": [
    {
     "data": {
      "text/html": [
       "<div>\n",
       "<style scoped>\n",
       "    .dataframe tbody tr th:only-of-type {\n",
       "        vertical-align: middle;\n",
       "    }\n",
       "\n",
       "    .dataframe tbody tr th {\n",
       "        vertical-align: top;\n",
       "    }\n",
       "\n",
       "    .dataframe thead th {\n",
       "        text-align: right;\n",
       "    }\n",
       "</style>\n",
       "<table border=\"1\" class=\"dataframe\">\n",
       "  <thead>\n",
       "    <tr style=\"text-align: right;\">\n",
       "      <th></th>\n",
       "      <th>Anzahl</th>\n",
       "      <th>Firma</th>\n",
       "      <th>Jahr</th>\n",
       "      <th>Lehrstelle</th>\n",
       "      <th>Ort</th>\n",
       "    </tr>\n",
       "  </thead>\n",
       "  <tbody>\n",
       "    <tr>\n",
       "      <th>0</th>\n",
       "      <td>1</td>\n",
       "      <td>Jakob Tanner AG</td>\n",
       "      <td>2018</td>\n",
       "      <td>Abdichter/in EFZ</td>\n",
       "      <td>Aadorf (TG)</td>\n",
       "    </tr>\n",
       "    <tr>\n",
       "      <th>1</th>\n",
       "      <td>1</td>\n",
       "      <td>peressini roofing AG</td>\n",
       "      <td>2018</td>\n",
       "      <td>Abdichtungspraktiker/in EBA</td>\n",
       "      <td>Aesch BL (BL)</td>\n",
       "    </tr>\n",
       "    <tr>\n",
       "      <th>2</th>\n",
       "      <td>1</td>\n",
       "      <td>Abdichtungsbau Durrer AG</td>\n",
       "      <td>2018</td>\n",
       "      <td>Agrarpraktiker/in EBA</td>\n",
       "      <td>Alpnach Dorf (OW)</td>\n",
       "    </tr>\n",
       "    <tr>\n",
       "      <th>3</th>\n",
       "      <td>1</td>\n",
       "      <td>W. Durrer Dach und Wand AG</td>\n",
       "      <td>2018</td>\n",
       "      <td>Agrarpraktiker/in (Landwirtschaft) EBA</td>\n",
       "      <td>Alpnach Dorf (OW)</td>\n",
       "    </tr>\n",
       "    <tr>\n",
       "      <th>4</th>\n",
       "      <td>1</td>\n",
       "      <td>Arthur Müggler &amp; Co. AG</td>\n",
       "      <td>2018</td>\n",
       "      <td>Agrarpraktiker/in (Spezialkulturen) EBA</td>\n",
       "      <td>Altstätten SG (SG)</td>\n",
       "    </tr>\n",
       "  </tbody>\n",
       "</table>\n",
       "</div>"
      ],
      "text/plain": [
       "  Anzahl                       Firma  Jahr  \\\n",
       "0      1             Jakob Tanner AG  2018   \n",
       "1      1        peressini roofing AG  2018   \n",
       "2      1    Abdichtungsbau Durrer AG  2018   \n",
       "3      1  W. Durrer Dach und Wand AG  2018   \n",
       "4      1     Arthur Müggler & Co. AG  2018   \n",
       "\n",
       "                                Lehrstelle                 Ort  \n",
       "0                         Abdichter/in EFZ         Aadorf (TG)  \n",
       "1              Abdichtungspraktiker/in EBA       Aesch BL (BL)  \n",
       "2                    Agrarpraktiker/in EBA   Alpnach Dorf (OW)  \n",
       "3   Agrarpraktiker/in (Landwirtschaft) EBA   Alpnach Dorf (OW)  \n",
       "4  Agrarpraktiker/in (Spezialkulturen) EBA  Altstätten SG (SG)  "
      ]
     },
     "execution_count": 7,
     "metadata": {},
     "output_type": "execute_result"
    }
   ],
   "source": [
    "df.head()"
   ]
  },
  {
   "cell_type": "code",
   "execution_count": 8,
   "metadata": {},
   "outputs": [
    {
     "data": {
      "text/html": [
       "<div>\n",
       "<style scoped>\n",
       "    .dataframe tbody tr th:only-of-type {\n",
       "        vertical-align: middle;\n",
       "    }\n",
       "\n",
       "    .dataframe tbody tr th {\n",
       "        vertical-align: top;\n",
       "    }\n",
       "\n",
       "    .dataframe thead th {\n",
       "        text-align: right;\n",
       "    }\n",
       "</style>\n",
       "<table border=\"1\" class=\"dataframe\">\n",
       "  <thead>\n",
       "    <tr style=\"text-align: right;\">\n",
       "      <th></th>\n",
       "      <th>Anzahl</th>\n",
       "      <th>Firma</th>\n",
       "      <th>Jahr</th>\n",
       "      <th>Lehrstelle</th>\n",
       "      <th>Ort</th>\n",
       "    </tr>\n",
       "  </thead>\n",
       "  <tbody>\n",
       "    <tr>\n",
       "      <th>11674</th>\n",
       "      <td>2</td>\n",
       "      <td>Schwarz Holzbau</td>\n",
       "      <td>2019</td>\n",
       "      <td>Detailhandelsfachmann/-frau Beratung (Garden) EFZ</td>\n",
       "      <td>Oberbalm (BE)</td>\n",
       "    </tr>\n",
       "    <tr>\n",
       "      <th>11675</th>\n",
       "      <td>1</td>\n",
       "      <td>Breu Holzbau AG</td>\n",
       "      <td>2019</td>\n",
       "      <td>Detailhandelsfachmann/-frau Beratung (Haushalt...</td>\n",
       "      <td>Oberegg (AI)</td>\n",
       "    </tr>\n",
       "    <tr>\n",
       "      <th>11676</th>\n",
       "      <td>1</td>\n",
       "      <td>Hallenbarter AG</td>\n",
       "      <td>2018</td>\n",
       "      <td>Detailhandelsfachmann/-frau Beratung (Kiosk) EFZ</td>\n",
       "      <td>Obergesteln (VS (de))</td>\n",
       "    </tr>\n",
       "    <tr>\n",
       "      <th>11677</th>\n",
       "      <td>2</td>\n",
       "      <td>PM Mangold Holzbau AG</td>\n",
       "      <td>2018</td>\n",
       "      <td>Detailhandelsfachmann/-frau Beratung (Landi) EFZ</td>\n",
       "      <td>Ormalingen (BL)</td>\n",
       "    </tr>\n",
       "    <tr>\n",
       "      <th>11678</th>\n",
       "      <td>3</td>\n",
       "      <td>Beer Holzbau AG</td>\n",
       "      <td>2019</td>\n",
       "      <td>Detailhandelsfachmann/-frau Beratung (Lederwar...</td>\n",
       "      <td>Ostermundigen (BE)</td>\n",
       "    </tr>\n",
       "  </tbody>\n",
       "</table>\n",
       "</div>"
      ],
      "text/plain": [
       "      Anzahl                  Firma  Jahr  \\\n",
       "11674      2        Schwarz Holzbau  2019   \n",
       "11675      1        Breu Holzbau AG  2019   \n",
       "11676      1        Hallenbarter AG  2018   \n",
       "11677      2  PM Mangold Holzbau AG  2018   \n",
       "11678      3        Beer Holzbau AG  2019   \n",
       "\n",
       "                                              Lehrstelle  \\\n",
       "11674  Detailhandelsfachmann/-frau Beratung (Garden) EFZ   \n",
       "11675  Detailhandelsfachmann/-frau Beratung (Haushalt...   \n",
       "11676   Detailhandelsfachmann/-frau Beratung (Kiosk) EFZ   \n",
       "11677   Detailhandelsfachmann/-frau Beratung (Landi) EFZ   \n",
       "11678  Detailhandelsfachmann/-frau Beratung (Lederwar...   \n",
       "\n",
       "                         Ort  \n",
       "11674          Oberbalm (BE)  \n",
       "11675           Oberegg (AI)  \n",
       "11676  Obergesteln (VS (de))  \n",
       "11677        Ormalingen (BL)  \n",
       "11678     Ostermundigen (BE)  "
      ]
     },
     "execution_count": 8,
     "metadata": {},
     "output_type": "execute_result"
    }
   ],
   "source": [
    "df.tail()"
   ]
  },
  {
   "cell_type": "code",
   "execution_count": 9,
   "metadata": {},
   "outputs": [
    {
     "data": {
      "text/html": [
       "<div>\n",
       "<style scoped>\n",
       "    .dataframe tbody tr th:only-of-type {\n",
       "        vertical-align: middle;\n",
       "    }\n",
       "\n",
       "    .dataframe tbody tr th {\n",
       "        vertical-align: top;\n",
       "    }\n",
       "\n",
       "    .dataframe thead th {\n",
       "        text-align: right;\n",
       "    }\n",
       "</style>\n",
       "<table border=\"1\" class=\"dataframe\">\n",
       "  <thead>\n",
       "    <tr style=\"text-align: right;\">\n",
       "      <th></th>\n",
       "      <th>Anzahl</th>\n",
       "      <th>Firma</th>\n",
       "      <th>Jahr</th>\n",
       "      <th>Lehrstelle</th>\n",
       "      <th>Ort</th>\n",
       "    </tr>\n",
       "  </thead>\n",
       "  <tbody>\n",
       "    <tr>\n",
       "      <th>0</th>\n",
       "      <td>1</td>\n",
       "      <td>Jakob Tanner AG</td>\n",
       "      <td>2018</td>\n",
       "      <td>Abdichter/in EFZ</td>\n",
       "      <td>Aadorf (TG)</td>\n",
       "    </tr>\n",
       "    <tr>\n",
       "      <th>1</th>\n",
       "      <td>1</td>\n",
       "      <td>peressini roofing AG</td>\n",
       "      <td>2018</td>\n",
       "      <td>Abdichtungspraktiker/in EBA</td>\n",
       "      <td>Aesch BL (BL)</td>\n",
       "    </tr>\n",
       "    <tr>\n",
       "      <th>2</th>\n",
       "      <td>1</td>\n",
       "      <td>Abdichtungsbau Durrer AG</td>\n",
       "      <td>2018</td>\n",
       "      <td>Agrarpraktiker/in EBA</td>\n",
       "      <td>Alpnach Dorf (OW)</td>\n",
       "    </tr>\n",
       "    <tr>\n",
       "      <th>3</th>\n",
       "      <td>1</td>\n",
       "      <td>W. Durrer Dach und Wand AG</td>\n",
       "      <td>2018</td>\n",
       "      <td>Agrarpraktiker/in (Landwirtschaft) EBA</td>\n",
       "      <td>Alpnach Dorf (OW)</td>\n",
       "    </tr>\n",
       "    <tr>\n",
       "      <th>4</th>\n",
       "      <td>1</td>\n",
       "      <td>Arthur Müggler &amp; Co. AG</td>\n",
       "      <td>2018</td>\n",
       "      <td>Agrarpraktiker/in (Spezialkulturen) EBA</td>\n",
       "      <td>Altstätten SG (SG)</td>\n",
       "    </tr>\n",
       "    <tr>\n",
       "      <th>5</th>\n",
       "      <td>1</td>\n",
       "      <td>Thoma Dach Spengler</td>\n",
       "      <td>2018</td>\n",
       "      <td>Agrarpraktiker/in (Weinbereitung) EBA</td>\n",
       "      <td>Amden (SG)</td>\n",
       "    </tr>\n",
       "    <tr>\n",
       "      <th>6</th>\n",
       "      <td>1</td>\n",
       "      <td>Bürer Flachdach AG</td>\n",
       "      <td>2018</td>\n",
       "      <td>Anlagen- und Apparatebauer/in EFZ</td>\n",
       "      <td>Bad Ragaz (SG)</td>\n",
       "    </tr>\n",
       "    <tr>\n",
       "      <th>7</th>\n",
       "      <td>2</td>\n",
       "      <td>Schoop + Co. AG</td>\n",
       "      <td>2018</td>\n",
       "      <td>Anlagenführer/in EFZ</td>\n",
       "      <td>Baden (AG)</td>\n",
       "    </tr>\n",
       "    <tr>\n",
       "      <th>8</th>\n",
       "      <td>1</td>\n",
       "      <td>Max Ackermann</td>\n",
       "      <td>2018</td>\n",
       "      <td>Architekturmodellbauer/in EFZ</td>\n",
       "      <td>Balsthal (SO)</td>\n",
       "    </tr>\n",
       "    <tr>\n",
       "      <th>9</th>\n",
       "      <td>1</td>\n",
       "      <td>Carl Meier Sohn AG</td>\n",
       "      <td>2018</td>\n",
       "      <td>Assistent/in Gesundheit und Soziales EBA</td>\n",
       "      <td>Bassersdorf (ZH)</td>\n",
       "    </tr>\n",
       "  </tbody>\n",
       "</table>\n",
       "</div>"
      ],
      "text/plain": [
       "  Anzahl                       Firma  Jahr  \\\n",
       "0      1             Jakob Tanner AG  2018   \n",
       "1      1        peressini roofing AG  2018   \n",
       "2      1    Abdichtungsbau Durrer AG  2018   \n",
       "3      1  W. Durrer Dach und Wand AG  2018   \n",
       "4      1     Arthur Müggler & Co. AG  2018   \n",
       "5      1         Thoma Dach Spengler  2018   \n",
       "6      1          Bürer Flachdach AG  2018   \n",
       "7      2             Schoop + Co. AG  2018   \n",
       "8      1               Max Ackermann  2018   \n",
       "9      1          Carl Meier Sohn AG  2018   \n",
       "\n",
       "                                 Lehrstelle                 Ort  \n",
       "0                          Abdichter/in EFZ         Aadorf (TG)  \n",
       "1               Abdichtungspraktiker/in EBA       Aesch BL (BL)  \n",
       "2                     Agrarpraktiker/in EBA   Alpnach Dorf (OW)  \n",
       "3    Agrarpraktiker/in (Landwirtschaft) EBA   Alpnach Dorf (OW)  \n",
       "4   Agrarpraktiker/in (Spezialkulturen) EBA  Altstätten SG (SG)  \n",
       "5     Agrarpraktiker/in (Weinbereitung) EBA          Amden (SG)  \n",
       "6         Anlagen- und Apparatebauer/in EFZ      Bad Ragaz (SG)  \n",
       "7                      Anlagenführer/in EFZ          Baden (AG)  \n",
       "8             Architekturmodellbauer/in EFZ       Balsthal (SO)  \n",
       "9  Assistent/in Gesundheit und Soziales EBA    Bassersdorf (ZH)  "
      ]
     },
     "execution_count": 9,
     "metadata": {},
     "output_type": "execute_result"
    }
   ],
   "source": [
    "df.head(10)"
   ]
  },
  {
   "cell_type": "code",
   "execution_count": 10,
   "metadata": {},
   "outputs": [
    {
     "name": "stdout",
     "output_type": "stream",
     "text": [
      "<class 'pandas.core.frame.DataFrame'>\n",
      "RangeIndex: 11679 entries, 0 to 11678\n",
      "Data columns (total 5 columns):\n",
      "Anzahl        11679 non-null object\n",
      "Firma         11679 non-null object\n",
      "Jahr          11679 non-null object\n",
      "Lehrstelle    11575 non-null object\n",
      "Ort           11679 non-null object\n",
      "dtypes: object(5)\n",
      "memory usage: 456.3+ KB\n"
     ]
    }
   ],
   "source": [
    "df.info()"
   ]
  },
  {
   "cell_type": "code",
   "execution_count": 11,
   "metadata": {},
   "outputs": [
    {
     "data": {
      "text/plain": [
       "login Berufsbildung AG                 108\n",
       "Keine Treffer                          104\n",
       "Post CH AG                              55\n",
       "Genossenschaft Migros Basel             31\n",
       "Volg Detailhandels AG                   28\n",
       "Migros Ostschweiz                       27\n",
       "Gidor Coiffure                          23\n",
       "Coop Region Ostschweiz-Ticino           22\n",
       "Coop Bau+Hobby                          22\n",
       "Kanton Graubünden                       20\n",
       "ALDI SUISSE AG                          19\n",
       "Genossenschaft Migros Aare              19\n",
       "Coop                                    19\n",
       "Emil Frey AG                            19\n",
       "Genossenschaft Migros Ostschweiz        19\n",
       "Alpiq InTec Schweiz AG                  18\n",
       "Vögele Shoes                            17\n",
       "UBS AG                                  16\n",
       "Thomann Nutzfahrzeuge AG                16\n",
       "AMAG Automobil- und Motoren AG          16\n",
       "Armeelogistikcenter Thun                15\n",
       "Lernstatt Känguruh                      15\n",
       "Insel Gruppe AG                         15\n",
       "GLB Emmental                            14\n",
       "Coop City                               13\n",
       "Repower AG                              13\n",
       "Walo Bertschinger AG                    13\n",
       "AMAG Zug                                13\n",
       "Otto's AG                               13\n",
       "Ypsomed AG                              12\n",
       "                                      ... \n",
       "Coiffure Flair                           1\n",
       "Coiffure Michèle                         1\n",
       "Ghiringhelli Fabio                       1\n",
       "Flury Stiftung                           1\n",
       "Rhyner & Padovano Sàrl                   1\n",
       "Oswin Lipp                               1\n",
       "Pneuhaus Othmar Nett'o                   1\n",
       "Axora Gebäudetechnik AG                  1\n",
       "Durrer AG Luzern                         1\n",
       "Gemeinde Zernez                          1\n",
       "Altersheim Schleitheim                   1\n",
       "Amavita Apotheke & Drogerie Altdorf      1\n",
       "bachmann & partner ag                    1\n",
       "Alfred Haldemann AG                      1\n",
       "Kuster Recycling AG                      1\n",
       "Dr.med.dent. Urs Zellweger               1\n",
       "Aktiengesellschaft                       1\n",
       "Bauspenglerei Silbern GmbH               1\n",
       "Swiss Pharmed Sàrl Pharmacie Vipha       1\n",
       "Hansjörg Schawalder                      1\n",
       "Probatech Constructions SA               1\n",
       "imperia systems ag                       1\n",
       "Birchmeier AG                            1\n",
       "Haute Coiffure Luigi Rivoli              1\n",
       "Bernet Bau AG                            1\n",
       "Jost Spenglerei AG                       1\n",
       "Si-Ri Schweiz AG                         1\n",
       "Käserei Neuwies                          1\n",
       "Vögele Shoes - Payerne                   1\n",
       "W. Gassmann AG                           1\n",
       "Name: Firma, Length: 6121, dtype: int64"
      ]
     },
     "execution_count": 11,
     "metadata": {},
     "output_type": "execute_result"
    }
   ],
   "source": [
    "df['Firma'].value_counts()"
   ]
  },
  {
   "cell_type": "code",
   "execution_count": null,
   "metadata": {
    "collapsed": true
   },
   "outputs": [],
   "source": []
  }
 ],
 "metadata": {
  "kernelspec": {
   "display_name": "Python 3",
   "language": "python",
   "name": "python3"
  },
  "language_info": {
   "codemirror_mode": {
    "name": "ipython",
    "version": 3
   },
   "file_extension": ".py",
   "mimetype": "text/x-python",
   "name": "python",
   "nbconvert_exporter": "python",
   "pygments_lexer": "ipython3",
   "version": "3.5.1"
  }
 },
 "nbformat": 4,
 "nbformat_minor": 2
}
