{
 "cells": [
  {
   "cell_type": "markdown",
   "metadata": {},
   "source": [
    "Importiere die requests Library"
   ]
  },
  {
   "cell_type": "code",
   "execution_count": 1,
   "metadata": {},
   "outputs": [],
   "source": [
    "import requests"
   ]
  },
  {
   "cell_type": "markdown",
   "metadata": {},
   "source": [
    "Importiere die Pandas Library in der Kurzform."
   ]
  },
  {
   "cell_type": "code",
   "execution_count": 119,
   "metadata": {},
   "outputs": [],
   "source": [
    "import pandas as pd\n",
    "import time \n",
    "from datetime import datetime"
   ]
  },
  {
   "cell_type": "markdown",
   "metadata": {},
   "source": [
    "1. Unter Verwendung der [USGS.gov Earthquake API](https://earthquake.usgs.gov) ziehe heraus, wieviele Erdbeben sich im August 2018 ereignet haben?"
   ]
  },
  {
   "cell_type": "code",
   "execution_count": 11,
   "metadata": {},
   "outputs": [],
   "source": [
    "r = requests.get('https://earthquake.usgs.gov/fdsnws/event/1/query?starttime=2018-08-01&endtime=2018-08-02')"
   ]
  },
  {
   "cell_type": "code",
   "execution_count": 6,
   "metadata": {},
   "outputs": [
    {
     "data": {
      "text/plain": [
       "17045"
      ]
     },
     "execution_count": 6,
     "metadata": {},
     "output_type": "execute_result"
    }
   ],
   "source": [
    "r.json()"
   ]
  },
  {
   "cell_type": "code",
   "execution_count": 13,
   "metadata": {},
   "outputs": [],
   "source": [
    "url = \"https://earthquake.usgs.gov/fdsnws/event/1/count?starttime=2018-08-01&endtime=2018-08-31\""
   ]
  },
  {
   "cell_type": "code",
   "execution_count": 14,
   "metadata": {},
   "outputs": [],
   "source": [
    "response = requests.get(url)"
   ]
  },
  {
   "cell_type": "code",
   "execution_count": 15,
   "metadata": {},
   "outputs": [
    {
     "data": {
      "text/plain": [
       "'17045'"
      ]
     },
     "execution_count": 15,
     "metadata": {},
     "output_type": "execute_result"
    }
   ],
   "source": [
    "response.text"
   ]
  },
  {
   "cell_type": "markdown",
   "metadata": {},
   "source": [
    "2. Mache das gleiche für August 2017, 2016, 2015?"
   ]
  },
  {
   "cell_type": "code",
   "execution_count": 22,
   "metadata": {},
   "outputs": [
    {
     "data": {
      "text/plain": [
       "9981"
      ]
     },
     "execution_count": 22,
     "metadata": {},
     "output_type": "execute_result"
    }
   ],
   "source": [
    "r = requests.get(\"https://earthquake.usgs.gov/fdsnws/event/1/count?starttime=2015-08-01&endtime=2015-08-31\")\n",
    "r.json()"
   ]
  },
  {
   "cell_type": "code",
   "execution_count": 23,
   "metadata": {},
   "outputs": [
    {
     "data": {
      "text/plain": [
       "10878"
      ]
     },
     "execution_count": 23,
     "metadata": {},
     "output_type": "execute_result"
    }
   ],
   "source": [
    "r = requests.get(\"https://earthquake.usgs.gov/fdsnws/event/1/count?starttime=2016-08-01&endtime=2016-08-31\")\n",
    "r.json()"
   ]
  },
  {
   "cell_type": "code",
   "execution_count": 24,
   "metadata": {},
   "outputs": [
    {
     "data": {
      "text/plain": [
       "12300"
      ]
     },
     "execution_count": 24,
     "metadata": {},
     "output_type": "execute_result"
    }
   ],
   "source": [
    "r = requests.get(\"https://earthquake.usgs.gov/fdsnws/event/1/count?starttime=2017-08-01&endtime=2017-08-31\")\n",
    "r.json()"
   ]
  },
  {
   "cell_type": "markdown",
   "metadata": {},
   "source": [
    "### Retos Lösung"
   ]
  },
  {
   "cell_type": "code",
   "execution_count": 26,
   "metadata": {},
   "outputs": [
    {
     "name": "stdout",
     "output_type": "stream",
     "text": [
      "2015: 9981\n",
      "2016: 10878\n",
      "2017: 12300\n",
      "2018: 17045\n"
     ]
    }
   ],
   "source": [
    "# https://earthquake.usgs.gov/fdsnws/event/1/count?starttime=2014-01-01&endtime=2014-01-02\n",
    "base = \"https://earthquake.usgs.gov/fdsnws/event/1/\"\n",
    "action = \"count?\"\n",
    "# Url = \"starttime=2018-09-25&endtime=2018-09-30-25&endtime=2018-09-30\"\n",
    "\n",
    "erdbebenanzahl = []\n",
    "\n",
    "for jahr in range(2015, 2019):\n",
    "    \n",
    "    url = base + action + \"starttime=\" + str(jahr) + \"-08-01&endtime=\" + str(jahr) + \"-08-31\"\n",
    "    \n",
    "    response = requests.get(url)\n",
    "    print(str(jahr) + \": \" + str(response.text))\n",
    "    \n",
    "    minidict = {'Jahr': jahr,\n",
    "                'Anzahl': str(response.text)}\n",
    "    \n",
    "    erdbebenanzahl.append(minidict)\n",
    "    "
   ]
  },
  {
   "cell_type": "code",
   "execution_count": null,
   "metadata": {},
   "outputs": [],
   "source": [
    "pd.DataFrame(erdbebenanzahl)"
   ]
  },
  {
   "cell_type": "code",
   "execution_count": 29,
   "metadata": {},
   "outputs": [
    {
     "name": "stdout",
     "output_type": "stream",
     "text": [
      "2015\n",
      "2016\n",
      "2017\n",
      "2018\n"
     ]
    }
   ],
   "source": [
    "for jahr in range(2015, 2019):\n",
    "    print(jahr)"
   ]
  },
  {
   "cell_type": "markdown",
   "metadata": {},
   "source": [
    "### Zoe"
   ]
  },
  {
   "cell_type": "code",
   "execution_count": 32,
   "metadata": {},
   "outputs": [
    {
     "name": "stdout",
     "output_type": "stream",
     "text": [
      "['9981', '10878', '12300', '17045']\n"
     ]
    }
   ],
   "source": [
    "liste_beben=[]\n",
    "for year in range(15,19):\n",
    "    r= requests.get(\"https://earthquake.usgs.gov/fdsnws/event/1/count?starttime=20\" +str(year)+\"-08-01&endtime=20\"+ str(year)+\"-08-31\")\n",
    "    liste_beben.append(r.text)\n",
    "print(liste_beben)"
   ]
  },
  {
   "cell_type": "code",
   "execution_count": 33,
   "metadata": {},
   "outputs": [
    {
     "data": {
      "text/html": [
       "<div>\n",
       "<style scoped>\n",
       "    .dataframe tbody tr th:only-of-type {\n",
       "        vertical-align: middle;\n",
       "    }\n",
       "\n",
       "    .dataframe tbody tr th {\n",
       "        vertical-align: top;\n",
       "    }\n",
       "\n",
       "    .dataframe thead th {\n",
       "        text-align: right;\n",
       "    }\n",
       "</style>\n",
       "<table border=\"1\" class=\"dataframe\">\n",
       "  <thead>\n",
       "    <tr style=\"text-align: right;\">\n",
       "      <th></th>\n",
       "      <th>0</th>\n",
       "    </tr>\n",
       "  </thead>\n",
       "  <tbody>\n",
       "    <tr>\n",
       "      <th>0</th>\n",
       "      <td>9981</td>\n",
       "    </tr>\n",
       "    <tr>\n",
       "      <th>1</th>\n",
       "      <td>10878</td>\n",
       "    </tr>\n",
       "    <tr>\n",
       "      <th>2</th>\n",
       "      <td>12300</td>\n",
       "    </tr>\n",
       "    <tr>\n",
       "      <th>3</th>\n",
       "      <td>17045</td>\n",
       "    </tr>\n",
       "  </tbody>\n",
       "</table>\n",
       "</div>"
      ],
      "text/plain": [
       "       0\n",
       "0   9981\n",
       "1  10878\n",
       "2  12300\n",
       "3  17045"
      ]
     },
     "execution_count": 33,
     "metadata": {},
     "output_type": "execute_result"
    }
   ],
   "source": [
    "pd.DataFrame(liste_beben).to_csv(\"filename.csv\")"
   ]
  },
  {
   "cell_type": "markdown",
   "metadata": {},
   "source": [
    "3. Zeige nur die Erdbeben an, die in den letzten 5 Jahren eine Mindeststärke von 5,5 hatten? (Neue Parameter kannst Du mit den Zeichen \"&\" ergänzen. Lese Dich in die Dokumentation ein, um noch mehr Parameter kennezulernen)"
   ]
  },
  {
   "cell_type": "code",
   "execution_count": 84,
   "metadata": {},
   "outputs": [],
   "source": [
    "erdbeben = requests.get(\"https://earthquake.usgs.gov/fdsnws/event/1/query?format=geojson&starttime=2014-09-23&endtime=2019-09-23&minmagnitude=5.5\")\n",
    "erdbeben = erdbeben.json()\n",
    "erdbeben.keys()\n",
    "erdbebenliste = erdbeben['features']"
   ]
  },
  {
   "cell_type": "code",
   "execution_count": 85,
   "metadata": {},
   "outputs": [],
   "source": [
    "leereliste = []\n",
    "for erdbeben in erdbebenliste:\n",
    "    mag=erdbeben[\"properties\"][\"mag\"]\n",
    "    #print (mag)\n",
    "    try:\n",
    "        if mag >= 5.5:\n",
    "            leereliste.append(mag)\n",
    "    except:\n",
    "        if None:\n",
    "            continue"
   ]
  },
  {
   "cell_type": "code",
   "execution_count": 46,
   "metadata": {},
   "outputs": [],
   "source": [
    "erdbeben = erdbeben.json()"
   ]
  },
  {
   "cell_type": "code",
   "execution_count": 48,
   "metadata": {},
   "outputs": [
    {
     "data": {
      "text/plain": [
       "dict_keys(['type', 'metadata', 'features', 'bbox'])"
      ]
     },
     "execution_count": 48,
     "metadata": {},
     "output_type": "execute_result"
    }
   ],
   "source": [
    "erdbeben.keys()"
   ]
  },
  {
   "cell_type": "code",
   "execution_count": 52,
   "metadata": {},
   "outputs": [],
   "source": [
    "erdbebenliste = erdbeben['features']"
   ]
  },
  {
   "cell_type": "code",
   "execution_count": 56,
   "metadata": {},
   "outputs": [
    {
     "data": {
      "text/plain": [
       "dict_keys(['type', 'properties', 'geometry', 'id'])"
      ]
     },
     "execution_count": 56,
     "metadata": {},
     "output_type": "execute_result"
    }
   ],
   "source": [
    "erdbebenliste[0].keys()"
   ]
  },
  {
   "cell_type": "code",
   "execution_count": 59,
   "metadata": {},
   "outputs": [
    {
     "name": "stdout",
     "output_type": "stream",
     "text": [
      "6.2\n"
     ]
    },
    {
     "ename": "TypeError",
     "evalue": "'>' not supported between instances of 'NoneType' and 'float'",
     "output_type": "error",
     "traceback": [
      "\u001b[0;31m---------------------------------------------------------------------------\u001b[0m",
      "\u001b[0;31mTypeError\u001b[0m                                 Traceback (most recent call last)",
      "\u001b[0;32m<ipython-input-59-7346a10f9709>\u001b[0m in \u001b[0;36m<module>\u001b[0;34m\u001b[0m\n\u001b[1;32m      1\u001b[0m \u001b[0;32mfor\u001b[0m \u001b[0merdbeben\u001b[0m \u001b[0;32min\u001b[0m \u001b[0merdbebenliste\u001b[0m\u001b[0;34m:\u001b[0m\u001b[0;34m\u001b[0m\u001b[0;34m\u001b[0m\u001b[0m\n\u001b[1;32m      2\u001b[0m     \u001b[0mmag\u001b[0m \u001b[0;34m=\u001b[0m \u001b[0merdbeben\u001b[0m\u001b[0;34m[\u001b[0m\u001b[0;34m'properties'\u001b[0m\u001b[0;34m]\u001b[0m\u001b[0;34m[\u001b[0m\u001b[0;34m'mag'\u001b[0m\u001b[0;34m]\u001b[0m\u001b[0;34m\u001b[0m\u001b[0;34m\u001b[0m\u001b[0m\n\u001b[0;32m----> 3\u001b[0;31m     \u001b[0;32mif\u001b[0m \u001b[0mmag\u001b[0m \u001b[0;34m>\u001b[0m \u001b[0;36m5.49\u001b[0m\u001b[0;34m:\u001b[0m\u001b[0;34m\u001b[0m\u001b[0;34m\u001b[0m\u001b[0m\n\u001b[0m\u001b[1;32m      4\u001b[0m         \u001b[0mprint\u001b[0m\u001b[0;34m(\u001b[0m\u001b[0mmag\u001b[0m\u001b[0;34m)\u001b[0m\u001b[0;34m\u001b[0m\u001b[0;34m\u001b[0m\u001b[0m\n",
      "\u001b[0;31mTypeError\u001b[0m: '>' not supported between instances of 'NoneType' and 'float'"
     ]
    }
   ],
   "source": [
    "for erdbeben in erdbebenliste:\n",
    "    mag = erdbeben['properties']['mag']\n",
    "    print(mag)\n",
    "    if mag > 5.49:\n",
    "        print(mag)"
   ]
  },
  {
   "cell_type": "code",
   "execution_count": null,
   "metadata": {},
   "outputs": [],
   "source": []
  },
  {
   "cell_type": "code",
   "execution_count": null,
   "metadata": {},
   "outputs": [],
   "source": [
    "erdbeben = requests.get(\"https://earthquake.usgs.gov/fdsnws/event/1/query?starttime=2014-09-23&endtime=2014-09-25\")\n",
    "liste = []\n",
    "for beben in range(0, int(len(erdbeben.json()[\"features\"]))):\n",
    "    magnitude = erdbeben.json()[\"features\"][int(beben)][\"properties\"][\"mag\"]\n",
    "    \n",
    "    if float(magnitude) >= 5.5:\n",
    "        \n",
    "        place = erdbeben.json()[\"features\"][int(beben)][\"properties\"][\"place\"]\n",
    "        time = erdbeben.json()[\"features\"][int(beben)][\"properties\"][\"time\"]\n",
    "        mini_dict = {\"Ort\": place, \"Zeit\": time, \"Stärke\": magnitude}\n",
    "        liste.append(mini_dict)\n",
    "        \n",
    "pd.DataFrame(liste)"
   ]
  },
  {
   "cell_type": "code",
   "execution_count": 58,
   "metadata": {},
   "outputs": [
    {
     "name": "stdout",
     "output_type": "stream",
     "text": [
      "{'type': 'Feature', 'properties': {'mag': 1.3, 'place': 'Southern Alaska', 'time': 1411603016227, 'updated': 1557812283038, 'tz': None, 'url': 'https://earthquake.usgs.gov/earthquakes/eventpage/ak014c9yir7a', 'detail': 'https://earthquake.usgs.gov/fdsnws/event/1/query?eventid=ak014c9yir7a&format=geojson', 'felt': None, 'cdi': None, 'mmi': None, 'alert': None, 'status': 'reviewed', 'tsunami': 0, 'sig': 26, 'net': 'ak', 'code': '014c9yir7a', 'ids': ',ak014c9yir7a,', 'sources': ',ak,', 'types': ',origin,phase-data,', 'nst': None, 'dmin': None, 'rms': 1.01, 'gap': None, 'magType': 'ml', 'type': 'ice quake', 'title': 'M 1.3 Ice Quake - Southern Alaska'}, 'geometry': {'type': 'Point', 'coordinates': [-146.9492, 61.1549, 0]}, 'id': 'ak014c9yir7a'}\n",
      "{'type': 'Feature', 'properties': {'mag': 2.3, 'place': '111km SSW of Atka, Alaska', 'time': 1411602888124, 'updated': 1558403558659, 'tz': -720, 'url': 'https://earthquake.usgs.gov/earthquakes/eventpage/ak014c9yib58', 'detail': 'https://earthquake.usgs.gov/fdsnws/event/1/query?eventid=ak014c9yib58&format=geojson', 'felt': None, 'cdi': None, 'mmi': None, 'alert': None, 'status': 'reviewed', 'tsunami': 0, 'sig': 81, 'net': 'ak', 'code': '014c9yib58', 'ids': ',ak11401040,ak014c9yib58,', 'sources': ',ak,ak,', 'types': ',associate,cap,geoserve,nearby-cities,origin,phase-data,tectonic-summary,', 'nst': None, 'dmin': None, 'rms': 0.57, 'gap': None, 'magType': 'ml', 'type': 'earthquake', 'title': 'M 2.3 - 111km SSW of Atka, Alaska'}, 'geometry': {'type': 'Point', 'coordinates': [-174.9589, 51.2659, 58.3]}, 'id': 'ak014c9yib58'}\n"
     ]
    }
   ],
   "source": [
    "for e in erdbebenliste[:2]:\n",
    "    print(e)"
   ]
  },
  {
   "cell_type": "code",
   "execution_count": null,
   "metadata": {},
   "outputs": [],
   "source": []
  },
  {
   "cell_type": "code",
   "execution_count": null,
   "metadata": {},
   "outputs": [],
   "source": []
  },
  {
   "cell_type": "code",
   "execution_count": null,
   "metadata": {},
   "outputs": [],
   "source": []
  },
  {
   "cell_type": "markdown",
   "metadata": {},
   "source": [
    "4. Zeige eine Liste der 10 stärksten Erdbeben des laufenden Jahres an. (Nicht vergessen, nun musst Du die Methode wechseln. Nicht mehr \"count\", sondern \"query\")."
   ]
  },
  {
   "cell_type": "code",
   "execution_count": 90,
   "metadata": {},
   "outputs": [],
   "source": [
    "erdbeben = requests.get(\"https://earthquake.usgs.gov/fdsnws/event/1/query?format=geojson&starttime=2019-01-01&endtime=2019-09-24&minmagnitude=5.5\")\n",
    "erdbeben = erdbeben.json()\n",
    "erdbeben.keys()\n",
    "erdbebenliste = erdbeben['features']"
   ]
  },
  {
   "cell_type": "code",
   "execution_count": 91,
   "metadata": {},
   "outputs": [],
   "source": [
    "erdbeben = requests.get(\"https://earthquake.usgs.gov/fdsnws/event/1/query?format=geojson&starttime=2019-01-01&endtime=2019-09-24&minmagnitude=5.5\")\n",
    "erdbeben = erdbeben.json()\n",
    "erdbeben.keys()\n",
    "erdbebenliste = erdbeben['features']\n",
    "leereliste = []\n",
    "for erdbeben in erdbebenliste:\n",
    "    mag=erdbeben[\"properties\"][\"mag\"]\n",
    "    #print (mag)\n",
    "    try:\n",
    "        if mag >= 5.5:\n",
    "            leereliste.append(mag)\n",
    "    except:\n",
    "        if None:\n",
    "            continue"
   ]
  },
  {
   "cell_type": "code",
   "execution_count": 102,
   "metadata": {},
   "outputs": [],
   "source": [
    "leereliste.sort(reverse=True)"
   ]
  },
  {
   "cell_type": "code",
   "execution_count": 98,
   "metadata": {},
   "outputs": [
    {
     "data": {
      "text/plain": [
       "323"
      ]
     },
     "execution_count": 98,
     "metadata": {},
     "output_type": "execute_result"
    }
   ],
   "source": [
    "len(leereliste)"
   ]
  },
  {
   "cell_type": "code",
   "execution_count": 101,
   "metadata": {},
   "outputs": [
    {
     "data": {
      "text/plain": [
       "[6.9, 7, 7.1, 7.1, 7.2, 7.3, 7.3, 7.5, 7.6, 8]"
      ]
     },
     "execution_count": 101,
     "metadata": {},
     "output_type": "execute_result"
    }
   ],
   "source": [
    "leereliste[-10:]"
   ]
  },
  {
   "cell_type": "code",
   "execution_count": null,
   "metadata": {},
   "outputs": [],
   "source": []
  },
  {
   "cell_type": "markdown",
   "metadata": {},
   "source": [
    "5. Wo haben sich diese Erdbeben ereignet?"
   ]
  },
  {
   "cell_type": "code",
   "execution_count": 114,
   "metadata": {},
   "outputs": [],
   "source": [
    "erdbeben_max = requests.get(\"https://earthquake.usgs.gov/fdsnws/event/1/query?format=geojson&starttime=2019-01-01&endtime=2019-09-24&minmagnitude=6.5\")"
   ]
  },
  {
   "cell_type": "code",
   "execution_count": 116,
   "metadata": {},
   "outputs": [
    {
     "data": {
      "text/plain": [
       "dict_keys(['type', 'metadata', 'features', 'bbox'])"
      ]
     },
     "execution_count": 116,
     "metadata": {},
     "output_type": "execute_result"
    }
   ],
   "source": [
    "erdbeben_max = erdbeben_max.json()\n",
    "erdbeben_max.keys()"
   ]
  },
  {
   "cell_type": "code",
   "execution_count": 118,
   "metadata": {},
   "outputs": [
    {
     "data": {
      "text/html": [
       "<div>\n",
       "<style scoped>\n",
       "    .dataframe tbody tr th:only-of-type {\n",
       "        vertical-align: middle;\n",
       "    }\n",
       "\n",
       "    .dataframe tbody tr th {\n",
       "        vertical-align: top;\n",
       "    }\n",
       "\n",
       "    .dataframe thead th {\n",
       "        text-align: right;\n",
       "    }\n",
       "</style>\n",
       "<table border=\"1\" class=\"dataframe\">\n",
       "  <thead>\n",
       "    <tr style=\"text-align: right;\">\n",
       "      <th></th>\n",
       "      <th>Magnitude:</th>\n",
       "      <th>Place:</th>\n",
       "      <th>Time:</th>\n",
       "    </tr>\n",
       "  </thead>\n",
       "  <tbody>\n",
       "    <tr>\n",
       "      <th>12</th>\n",
       "      <td>8.0</td>\n",
       "      <td>78km SE of Lagunas, Peru</td>\n",
       "      <td>1558856475073</td>\n",
       "    </tr>\n",
       "    <tr>\n",
       "      <th>13</th>\n",
       "      <td>7.6</td>\n",
       "      <td>46km SSE of Namatanai, Papua New Guinea</td>\n",
       "      <td>1557838705939</td>\n",
       "    </tr>\n",
       "    <tr>\n",
       "      <th>18</th>\n",
       "      <td>7.5</td>\n",
       "      <td>111km ESE of Palora, Ecuador</td>\n",
       "      <td>1550830643770</td>\n",
       "    </tr>\n",
       "    <tr>\n",
       "      <th>9</th>\n",
       "      <td>7.3</td>\n",
       "      <td>292km NW of Saumlaki, Indonesia</td>\n",
       "      <td>1561344819830</td>\n",
       "    </tr>\n",
       "    <tr>\n",
       "      <th>10</th>\n",
       "      <td>7.3</td>\n",
       "      <td>116km NE of L'Esperance Rock, New Zealand</td>\n",
       "      <td>1560639304130</td>\n",
       "    </tr>\n",
       "    <tr>\n",
       "      <th>5</th>\n",
       "      <td>7.2</td>\n",
       "      <td>93km NNE of Laiwui, Indonesia</td>\n",
       "      <td>1563095451599</td>\n",
       "    </tr>\n",
       "    <tr>\n",
       "      <th>8</th>\n",
       "      <td>7.1</td>\n",
       "      <td>2019 Ridgecrest Earthquake Sequence</td>\n",
       "      <td>1562383193040</td>\n",
       "    </tr>\n",
       "    <tr>\n",
       "      <th>14</th>\n",
       "      <td>7.1</td>\n",
       "      <td>33km NW of Bulolo, Papua New Guinea</td>\n",
       "      <td>1557177577983</td>\n",
       "    </tr>\n",
       "    <tr>\n",
       "      <th>17</th>\n",
       "      <td>7.0</td>\n",
       "      <td>23km NNE of Azangaro, Peru</td>\n",
       "      <td>1551430242591</td>\n",
       "    </tr>\n",
       "    <tr>\n",
       "      <th>2</th>\n",
       "      <td>6.9</td>\n",
       "      <td>106km WSW of Tugu Hilir, Indonesia</td>\n",
       "      <td>1564747406998</td>\n",
       "    </tr>\n",
       "  </tbody>\n",
       "</table>\n",
       "</div>"
      ],
      "text/plain": [
       "    Magnitude:                                     Place:          Time: \n",
       "12          8.0                   78km SE of Lagunas, Peru  1558856475073\n",
       "13          7.6    46km SSE of Namatanai, Papua New Guinea  1557838705939\n",
       "18          7.5               111km ESE of Palora, Ecuador  1550830643770\n",
       "9           7.3            292km NW of Saumlaki, Indonesia  1561344819830\n",
       "10          7.3  116km NE of L'Esperance Rock, New Zealand  1560639304130\n",
       "5           7.2              93km NNE of Laiwui, Indonesia  1563095451599\n",
       "8           7.1        2019 Ridgecrest Earthquake Sequence  1562383193040\n",
       "14          7.1        33km NW of Bulolo, Papua New Guinea  1557177577983\n",
       "17          7.0                 23km NNE of Azangaro, Peru  1551430242591\n",
       "2           6.9         106km WSW of Tugu Hilir, Indonesia  1564747406998"
      ]
     },
     "execution_count": 118,
     "metadata": {},
     "output_type": "execute_result"
    }
   ],
   "source": [
    "erdbeben_max = requests.get(\"https://earthquake.usgs.gov/fdsnws/event/1/query?format=geojson&starttime=2019-01-01&endtime=2019-09-24&minmagnitude=6.5\")\n",
    "erdbeben_max = erdbeben_max.json()\n",
    "erdbeben_max = erdbeben_max[\"features\"]\n",
    "\n",
    "top2019 = []\n",
    "for beben in erdbeben_max:\n",
    "    magnitude = beben[\"properties\"][\"mag\"]\n",
    "    place = beben[\"properties\"][\"place\"]\n",
    "    zeit = beben[\"properties\"][\"time\"]\n",
    "\n",
    "    mini_dict = {\"Magnitude: \":magnitude, \"Place: \":place, \"Time: \":zeit}\n",
    "    \n",
    "    top2019.append(mini_dict)\n",
    "pd.DataFrame(top2019).sort_values(\"Magnitude: \", ascending=False)[:10]"
   ]
  },
  {
   "cell_type": "code",
   "execution_count": null,
   "metadata": {},
   "outputs": [],
   "source": []
  },
  {
   "cell_type": "markdown",
   "metadata": {},
   "source": [
    "6. Ziehe auch die Zeit mit heraus?"
   ]
  },
  {
   "cell_type": "code",
   "execution_count": null,
   "metadata": {},
   "outputs": [],
   "source": []
  },
  {
   "cell_type": "markdown",
   "metadata": {},
   "source": [
    "7. Konvertiere die Unix Zeit zu leserlichen Zeit? (Suche nicht zu lange, schau mal an, wies im Pandas aussieht.)"
   ]
  },
  {
   "cell_type": "code",
   "execution_count": 140,
   "metadata": {},
   "outputs": [
    {
     "data": {
      "text/plain": [
       "{'type': 'Point', 'coordinates': [-178.567, -20.3599, 591]}"
      ]
     },
     "execution_count": 140,
     "metadata": {},
     "output_type": "execute_result"
    }
   ],
   "source": [
    "erdbeben_max[0][\"geometry\"]"
   ]
  },
  {
   "cell_type": "code",
   "execution_count": 127,
   "metadata": {},
   "outputs": [
    {
     "data": {
      "text/html": [
       "<div>\n",
       "<style scoped>\n",
       "    .dataframe tbody tr th:only-of-type {\n",
       "        vertical-align: middle;\n",
       "    }\n",
       "\n",
       "    .dataframe tbody tr th {\n",
       "        vertical-align: top;\n",
       "    }\n",
       "\n",
       "    .dataframe thead th {\n",
       "        text-align: right;\n",
       "    }\n",
       "</style>\n",
       "<table border=\"1\" class=\"dataframe\">\n",
       "  <thead>\n",
       "    <tr style=\"text-align: right;\">\n",
       "      <th></th>\n",
       "      <th>Magnitude:</th>\n",
       "      <th>Place:</th>\n",
       "      <th>Time:</th>\n",
       "    </tr>\n",
       "  </thead>\n",
       "  <tbody>\n",
       "    <tr>\n",
       "      <th>12</th>\n",
       "      <td>8.0</td>\n",
       "      <td>78km SE of Lagunas, Peru</td>\n",
       "      <td>26-05-2019 07:41:15</td>\n",
       "    </tr>\n",
       "    <tr>\n",
       "      <th>13</th>\n",
       "      <td>7.6</td>\n",
       "      <td>46km SSE of Namatanai, Papua New Guinea</td>\n",
       "      <td>14-05-2019 12:58:25</td>\n",
       "    </tr>\n",
       "    <tr>\n",
       "      <th>18</th>\n",
       "      <td>7.5</td>\n",
       "      <td>111km ESE of Palora, Ecuador</td>\n",
       "      <td>22-02-2019 10:17:23</td>\n",
       "    </tr>\n",
       "    <tr>\n",
       "      <th>9</th>\n",
       "      <td>7.3</td>\n",
       "      <td>292km NW of Saumlaki, Indonesia</td>\n",
       "      <td>24-06-2019 02:53:39</td>\n",
       "    </tr>\n",
       "    <tr>\n",
       "      <th>10</th>\n",
       "      <td>7.3</td>\n",
       "      <td>116km NE of L'Esperance Rock, New Zealand</td>\n",
       "      <td>15-06-2019 22:55:04</td>\n",
       "    </tr>\n",
       "    <tr>\n",
       "      <th>5</th>\n",
       "      <td>7.2</td>\n",
       "      <td>93km NNE of Laiwui, Indonesia</td>\n",
       "      <td>14-07-2019 09:10:51</td>\n",
       "    </tr>\n",
       "    <tr>\n",
       "      <th>8</th>\n",
       "      <td>7.1</td>\n",
       "      <td>2019 Ridgecrest Earthquake Sequence</td>\n",
       "      <td>06-07-2019 03:19:53</td>\n",
       "    </tr>\n",
       "    <tr>\n",
       "      <th>14</th>\n",
       "      <td>7.1</td>\n",
       "      <td>33km NW of Bulolo, Papua New Guinea</td>\n",
       "      <td>06-05-2019 21:19:37</td>\n",
       "    </tr>\n",
       "    <tr>\n",
       "      <th>17</th>\n",
       "      <td>7.0</td>\n",
       "      <td>23km NNE of Azangaro, Peru</td>\n",
       "      <td>01-03-2019 08:50:42</td>\n",
       "    </tr>\n",
       "    <tr>\n",
       "      <th>2</th>\n",
       "      <td>6.9</td>\n",
       "      <td>106km WSW of Tugu Hilir, Indonesia</td>\n",
       "      <td>02-08-2019 12:03:26</td>\n",
       "    </tr>\n",
       "    <tr>\n",
       "      <th>7</th>\n",
       "      <td>6.9</td>\n",
       "      <td>134km WSW of Kota Ternate, Indonesia</td>\n",
       "      <td>07-07-2019 15:08:40</td>\n",
       "    </tr>\n",
       "    <tr>\n",
       "      <th>15</th>\n",
       "      <td>6.8</td>\n",
       "      <td>98km SSW of Luwuk, Indonesia</td>\n",
       "      <td>12-04-2019 11:40:49</td>\n",
       "    </tr>\n",
       "    <tr>\n",
       "      <th>24</th>\n",
       "      <td>6.8</td>\n",
       "      <td>90km W of Tarauaca, Brazil</td>\n",
       "      <td>05-01-2019 19:25:38</td>\n",
       "    </tr>\n",
       "    <tr>\n",
       "      <th>3</th>\n",
       "      <td>6.8</td>\n",
       "      <td>95km SW of San Antonio, Chile</td>\n",
       "      <td>01-08-2019 18:28:07</td>\n",
       "    </tr>\n",
       "    <tr>\n",
       "      <th>19</th>\n",
       "      <td>6.7</td>\n",
       "      <td>5km SW of Puerto Madero, Mexico</td>\n",
       "      <td>01-02-2019 16:14:12</td>\n",
       "    </tr>\n",
       "    <tr>\n",
       "      <th>20</th>\n",
       "      <td>6.7</td>\n",
       "      <td>Prince Edward Islands region</td>\n",
       "      <td>22-01-2019 19:01:43</td>\n",
       "    </tr>\n",
       "    <tr>\n",
       "      <th>21</th>\n",
       "      <td>6.7</td>\n",
       "      <td>10km SSW of Coquimbo, Chile</td>\n",
       "      <td>20-01-2019 01:32:52</td>\n",
       "    </tr>\n",
       "    <tr>\n",
       "      <th>1</th>\n",
       "      <td>6.6</td>\n",
       "      <td>131km S of Bristol Island, South Sandwich Islands</td>\n",
       "      <td>27-08-2019 23:55:19</td>\n",
       "    </tr>\n",
       "    <tr>\n",
       "      <th>11</th>\n",
       "      <td>6.6</td>\n",
       "      <td>32km S of La Libertad, El Salvador</td>\n",
       "      <td>30-05-2019 09:03:32</td>\n",
       "    </tr>\n",
       "    <tr>\n",
       "      <th>6</th>\n",
       "      <td>6.6</td>\n",
       "      <td>200km W of Broome, Australia</td>\n",
       "      <td>14-07-2019 05:39:23</td>\n",
       "    </tr>\n",
       "    <tr>\n",
       "      <th>4</th>\n",
       "      <td>6.6</td>\n",
       "      <td>62km E of Lakatoro, Vanuatu</td>\n",
       "      <td>31-07-2019 15:02:33</td>\n",
       "    </tr>\n",
       "    <tr>\n",
       "      <th>22</th>\n",
       "      <td>6.6</td>\n",
       "      <td>94km NW of Sola, Vanuatu</td>\n",
       "      <td>15-01-2019 18:06:34</td>\n",
       "    </tr>\n",
       "    <tr>\n",
       "      <th>23</th>\n",
       "      <td>6.6</td>\n",
       "      <td>151km WNW of Tobelo, Indonesia</td>\n",
       "      <td>06-01-2019 17:27:18</td>\n",
       "    </tr>\n",
       "    <tr>\n",
       "      <th>0</th>\n",
       "      <td>6.6</td>\n",
       "      <td>34km NNE of Ndoi Island, Fiji</td>\n",
       "      <td>01-09-2019 15:54:20</td>\n",
       "    </tr>\n",
       "    <tr>\n",
       "      <th>16</th>\n",
       "      <td>6.5</td>\n",
       "      <td>83km ENE of Bristol Island, South Sandwich Isl...</td>\n",
       "      <td>09-04-2019 17:53:58</td>\n",
       "    </tr>\n",
       "  </tbody>\n",
       "</table>\n",
       "</div>"
      ],
      "text/plain": [
       "    Magnitude:                                             Place:   \\\n",
       "12          8.0                           78km SE of Lagunas, Peru   \n",
       "13          7.6            46km SSE of Namatanai, Papua New Guinea   \n",
       "18          7.5                       111km ESE of Palora, Ecuador   \n",
       "9           7.3                    292km NW of Saumlaki, Indonesia   \n",
       "10          7.3          116km NE of L'Esperance Rock, New Zealand   \n",
       "5           7.2                      93km NNE of Laiwui, Indonesia   \n",
       "8           7.1                2019 Ridgecrest Earthquake Sequence   \n",
       "14          7.1                33km NW of Bulolo, Papua New Guinea   \n",
       "17          7.0                         23km NNE of Azangaro, Peru   \n",
       "2           6.9                 106km WSW of Tugu Hilir, Indonesia   \n",
       "7           6.9               134km WSW of Kota Ternate, Indonesia   \n",
       "15          6.8                       98km SSW of Luwuk, Indonesia   \n",
       "24          6.8                         90km W of Tarauaca, Brazil   \n",
       "3           6.8                      95km SW of San Antonio, Chile   \n",
       "19          6.7                    5km SW of Puerto Madero, Mexico   \n",
       "20          6.7                       Prince Edward Islands region   \n",
       "21          6.7                        10km SSW of Coquimbo, Chile   \n",
       "1           6.6  131km S of Bristol Island, South Sandwich Islands   \n",
       "11          6.6                 32km S of La Libertad, El Salvador   \n",
       "6           6.6                       200km W of Broome, Australia   \n",
       "4           6.6                        62km E of Lakatoro, Vanuatu   \n",
       "22          6.6                           94km NW of Sola, Vanuatu   \n",
       "23          6.6                     151km WNW of Tobelo, Indonesia   \n",
       "0           6.6                      34km NNE of Ndoi Island, Fiji   \n",
       "16          6.5  83km ENE of Bristol Island, South Sandwich Isl...   \n",
       "\n",
       "                 Time:   \n",
       "12  26-05-2019 07:41:15  \n",
       "13  14-05-2019 12:58:25  \n",
       "18  22-02-2019 10:17:23  \n",
       "9   24-06-2019 02:53:39  \n",
       "10  15-06-2019 22:55:04  \n",
       "5   14-07-2019 09:10:51  \n",
       "8   06-07-2019 03:19:53  \n",
       "14  06-05-2019 21:19:37  \n",
       "17  01-03-2019 08:50:42  \n",
       "2   02-08-2019 12:03:26  \n",
       "7   07-07-2019 15:08:40  \n",
       "15  12-04-2019 11:40:49  \n",
       "24  05-01-2019 19:25:38  \n",
       "3   01-08-2019 18:28:07  \n",
       "19  01-02-2019 16:14:12  \n",
       "20  22-01-2019 19:01:43  \n",
       "21  20-01-2019 01:32:52  \n",
       "1   27-08-2019 23:55:19  \n",
       "11  30-05-2019 09:03:32  \n",
       "6   14-07-2019 05:39:23  \n",
       "4   31-07-2019 15:02:33  \n",
       "22  15-01-2019 18:06:34  \n",
       "23  06-01-2019 17:27:18  \n",
       "0   01-09-2019 15:54:20  \n",
       "16  09-04-2019 17:53:58  "
      ]
     },
     "execution_count": 127,
     "metadata": {},
     "output_type": "execute_result"
    }
   ],
   "source": [
    "from datetime import datetime\n",
    "\n",
    "erdbeben_max = requests.get(\"https://earthquake.usgs.gov/fdsnws/event/1/query?format=geojson&starttime=2019-01-01&endtime=2019-09-24&minmagnitude=6.5\")\n",
    "erdbeben_max = erdbeben_max.json()\n",
    "erdbeben_max = erdbeben_max[\"features\"]\n",
    "\n",
    "top2019 = []\n",
    "for beben in erdbeben_max:\n",
    "    magnitude = beben[\"properties\"][\"mag\"]\n",
    "    place = beben[\"properties\"][\"place\"]\n",
    "    \n",
    "    zeit = str(beben['properties']['time'])[:-3]\n",
    "    zeit = datetime.utcfromtimestamp(int(zeit))\n",
    "    zeit = zeit.strftime('%d-%m-%Y %H:%M:%S')\n",
    "\n",
    "    mini_dict = {\"Magnitude: \":magnitude, \"Place: \":place, \"Time: \":zeit}\n",
    "    \n",
    "    top2019.append(mini_dict)\n",
    "pd.DataFrame(top2019).sort_values(\"Magnitude: \", ascending=False)"
   ]
  },
  {
   "cell_type": "code",
   "execution_count": null,
   "metadata": {},
   "outputs": [],
   "source": []
  },
  {
   "cell_type": "code",
   "execution_count": null,
   "metadata": {},
   "outputs": [],
   "source": []
  },
  {
   "cell_type": "code",
   "execution_count": null,
   "metadata": {},
   "outputs": [],
   "source": []
  },
  {
   "cell_type": "code",
   "execution_count": null,
   "metadata": {},
   "outputs": [],
   "source": []
  }
 ],
 "metadata": {
  "kernelspec": {
   "display_name": "Python 3",
   "language": "python",
   "name": "python3"
  },
  "language_info": {
   "codemirror_mode": {
    "name": "ipython",
    "version": 3
   },
   "file_extension": ".py",
   "mimetype": "text/x-python",
   "name": "python",
   "nbconvert_exporter": "python",
   "pygments_lexer": "ipython3",
   "version": "3.7.3"
  }
 },
 "nbformat": 4,
 "nbformat_minor": 2
}
