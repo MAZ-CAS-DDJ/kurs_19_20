{
 "cells": [
  {
   "cell_type": "markdown",
   "metadata": {},
   "source": [
    "# Beispiel 4: Admin.ch\n",
    "\n",
    "Ziel: MM der Bundesverwaltung durchsuchen können https://www.admin.ch/gov/de/start/dokumentation/veranstaltungen.html"
   ]
  },
  {
   "cell_type": "code",
   "execution_count": null,
   "metadata": {
    "collapsed": true
   },
   "outputs": [],
   "source": [
    "import requests\n",
    "from bs4 import BeautifulSoup\n",
    "import pandas as pd"
   ]
  },
  {
   "cell_type": "code",
   "execution_count": null,
   "metadata": {
    "collapsed": true
   },
   "outputs": [],
   "source": [
    "# Mit der Haupt-Url https://www.admin.ch/gov/de/start/dokumentation/veranstaltungen.html funktioniert Request nicht\n",
    "# Aber die einzelnen MM haben jeweils eine eigene id. Damit lässt sich arbeiten\n",
    "\n",
    "url = \"https://www.admin.ch/gov/de/start/dokumentation/veranstaltungen.event-id-6000.html\"\n",
    "r = requests.get(url)\n",
    "soup = BeautifulSoup(r.text, \"html.parser\")"
   ]
  },
  {
   "cell_type": "code",
   "execution_count": null,
   "metadata": {},
   "outputs": [],
   "source": [
    "# Mit try and error obige Ergebnisse so abändern dass alles unnötige wegfällt.\n",
    "# ORT\n",
    "soup.find_all('td', {'class': \"\"})[0].text.replace('\\t','').replace('\\xa0',' ').replace('\\n',' ').strip()"
   ]
  },
  {
   "cell_type": "code",
   "execution_count": null,
   "metadata": {},
   "outputs": [],
   "source": [
    "# ZEIT\n",
    "soup.find_all('td', {'class': \"\"})[1].text.replace('\\n', ' ').replace('\\t','').strip()"
   ]
  },
  {
   "cell_type": "code",
   "execution_count": null,
   "metadata": {},
   "outputs": [],
   "source": [
    "# TEXT\n",
    "soup.find_all('td', {'class': \"\"})[2].text.replace('\\n', ' ').replace('\\t','').strip()"
   ]
  },
  {
   "cell_type": "code",
   "execution_count": null,
   "metadata": {
    "collapsed": true
   },
   "outputs": [],
   "source": [
    "# For Loop bauen, welcher durch die id geht, und jweils ort, zeit, text rauszieht\n",
    "ids = list(range(6000,7501))"
   ]
  },
  {
   "cell_type": "code",
   "execution_count": null,
   "metadata": {},
   "outputs": [],
   "source": [
    "# Es gibt zum Teil Veranstaltungen ohne id, deshalb ein try / expect definieren\n",
    "\n",
    "alleids = []\n",
    "for wert in ids:\n",
    "    url = \"https://www.admin.ch/gov/de/start/dokumentation/veranstaltungen.event-id-\"\n",
    "    \n",
    "    urlende = \".html\"\n",
    "    url = url + str(wert) + urlende\n",
    "    #print(url)\n",
    "    r = requests.get(url)\n",
    "    soup = BeautifulSoup(r.text, \"html.parser\")\n",
    "    \n",
    "    try:\n",
    "        \n",
    "        ort = soup.find_all('td', {'class': \"\"})[0].text.replace('\\t','').replace('\\xa0',' ').replace('\\n',' ').strip()\n",
    "        datum = soup.find_all('td', {'class': \"\"})[1].text.replace('\\n', ' ').replace('\\t','').strip()\n",
    "        mitteilung = soup.find_all('td', {'class': \"\"})[2].text.replace('\\n', ' ').replace('\\t','').strip()\n",
    "    \n",
    "        minidict = {'Ort':ort,\n",
    "                'Datum':datum,\n",
    "                'Mitteilung': mitteilung}\n",
    "        alleids.append(minidict)\n",
    "    except:\n",
    "        (print(wert))\n",
    "    "
   ]
  },
  {
   "cell_type": "code",
   "execution_count": null,
   "metadata": {
    "collapsed": true
   },
   "outputs": [],
   "source": []
  }
 ],
 "metadata": {
  "kernelspec": {
   "display_name": "Python 3",
   "language": "python",
   "name": "python3"
  },
  "language_info": {
   "codemirror_mode": {
    "name": "ipython",
    "version": 3
   },
   "file_extension": ".py",
   "mimetype": "text/x-python",
   "name": "python",
   "nbconvert_exporter": "python",
   "pygments_lexer": "ipython3",
   "version": "3.5.1"
  }
 },
 "nbformat": 4,
 "nbformat_minor": 2
}
