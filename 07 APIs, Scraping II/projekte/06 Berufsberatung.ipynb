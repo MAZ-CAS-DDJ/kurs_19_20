{
 "cells": [
  {
   "cell_type": "markdown",
   "metadata": {},
   "source": [
    "# Beispiel Job-Raum\n",
    "\n",
    "Wie viele meldefplichtige Stellen sind in welchen Berufskategorien im Job-Raum des Seco öffentlich ausgeschrieben?\n"
   ]
  },
  {
   "cell_type": "code",
   "execution_count": 11,
   "metadata": {},
   "outputs": [],
   "source": [
    "import requests\n",
    "from bs4 import BeautifulSoup\n",
    "import pandas as pd"
   ]
  },
  {
   "cell_type": "code",
   "execution_count": 33,
   "metadata": {},
   "outputs": [],
   "source": [
    "# Auf https://www.job-room.ch/ sind alle offenen Stellen ausgeschrieben\n",
    "# Liste mit allen 68,528 offenen jobs unter\n",
    "# https://www.job-room.ch/#/job-search \n",
    "\n",
    "url = 'https://www.job-room.ch/#/job-search'\n",
    "r = requests.get(url)"
   ]
  },
  {
   "cell_type": "code",
   "execution_count": 34,
   "metadata": {},
   "outputs": [
    {
     "name": "stdout",
     "output_type": "stream",
     "text": [
      "<Response [200]>\n"
     ]
    }
   ],
   "source": [
    "print(r)"
   ]
  },
  {
   "cell_type": "code",
   "execution_count": 35,
   "metadata": {},
   "outputs": [],
   "source": [
    "soup = BeautifulSoup(r.text, 'html.parser')"
   ]
  },
  {
   "cell_type": "code",
   "execution_count": 44,
   "metadata": {},
   "outputs": [
    {
     "data": {
      "text/plain": [
       "[]"
      ]
     },
     "execution_count": 44,
     "metadata": {},
     "output_type": "execute_result"
    }
   ],
   "source": [
    "# Firma\n",
    "soup.find_all('div', {'class': \"logo-box flex-height result-list__item md-whiteframe-1dp result-list__item--visited\"})"
   ]
  },
  {
   "cell_type": "code",
   "execution_count": 45,
   "metadata": {},
   "outputs": [
    {
     "data": {
      "text/plain": [
       "[]"
      ]
     },
     "execution_count": 45,
     "metadata": {},
     "output_type": "execute_result"
    }
   ],
   "source": [
    "# ACHTUNG DIE LISTE SCHEINT LEER ZU SEIN\n",
    "# IMMER HÖHER GEHEN IM HTML CODE BIS ZUM TITEL\n",
    "\n",
    "soup.find_all('h4', {'class': \"text--primary-color order-2 order-sm-1\"})"
   ]
  },
  {
   "cell_type": "code",
   "execution_count": 43,
   "metadata": {},
   "outputs": [
    {
     "data": {
      "text/plain": [
       "<!DOCTYPE html>\n",
       " <html class=\"no-js\" dir=\"ltr\" lang=\"de\"> <head> <base href=\"./\"/> <meta charset=\"utf-8\"/> <meta content=\"IE=edge\" http-equiv=\"X-UA-Compatible\"/> <title>jobroom</title> <meta content=\"\" name=\"description\"/> <meta name=\"google\" value=\"notranslate\"/> <meta content=\"width=device-width,initial-scale=1\" name=\"viewport\"/> <meta content=\"#000000\" name=\"theme-color\"/> <link href=\"swiss.png\" rel=\"shortcut icon\"/> <link href=\"manifest.webapp\" rel=\"manifest\"/> <link href=\"main-sass.ee5b139003d7823e818d.css\" rel=\"stylesheet\"/><link href=\"global-sass.ee5b139003d7823e818d.css\" rel=\"stylesheet\"/></head> <body> <!--[if lt IE 9]>\n",
       "        <p class=\"browserupgrade\">You are using an <strong>outdated</strong> browser. Please <a href=\"http://browsehappy.com/\">upgrade your browser</a> to improve your experience.</p>\n",
       "    <![endif]--> <jhi-main></jhi-main> <script> // load shim and zonejs (only for IE)\n",
       "        if (window.navigator.userAgent.indexOf('Trident/') > 0) {\n",
       "            var shim = document.createElement('script');\n",
       "            shim.src = 'core-js-shim.min.js';\n",
       "            shim.type = 'text/javascript';\n",
       "            document.getElementsByTagName('head')[0].appendChild(shim);\n",
       "\n",
       "            var zonejs = document.createElement('script');\n",
       "            zonejs.src = 'zone.min.js';\n",
       "            zonejs.type = 'text/javascript';\n",
       "            document.getElementsByTagName('head')[0].appendChild(zonejs);\n",
       "        } </script> <noscript> <h1>You must enable javascript to view this page.</h1> </noscript> <script> (function(b,o,i,l,e,r){b.GoogleAnalyticsObject=l;b[l]||(b[l]=\n",
       "        function(){(b[l].q=b[l].q||[]).push(arguments)});b[l].l=+new Date;\n",
       "        e=o.createElement(i);r=o.getElementsByTagName(i)[0];\n",
       "        e.src='//www.google-analytics.com/analytics.js';\n",
       "        r.parentNode.insertBefore(e,r)}(window,document,'script','ga'));\n",
       "        _GA_TRACKING_ID = \"UA-XXXXX-X\";\n",
       "        ga('create', _GA_TRACKING_ID);\n",
       "        ga('send','pageview');\n",
       "        ga('set', 'anonymizeIp', true); </script> <script src=\"app/manifest.ee5b139003d7823e818d.bundle.js\" type=\"text/javascript\"></script><script src=\"app/polyfills.ee5b139003d7823e818d.bundle.js\" type=\"text/javascript\"></script><script src=\"app/vendor.ee5b139003d7823e818d.bundle.js\" type=\"text/javascript\"></script><script src=\"app/main.ee5b139003d7823e818d.bundle.js\" type=\"text/javascript\"></script><script src=\"app/global.ee5b139003d7823e818d.bundle.js\" type=\"text/javascript\"></script></body> </html> "
      ]
     },
     "execution_count": 43,
     "metadata": {},
     "output_type": "execute_result"
    }
   ],
   "source": [
    "# LISTE IST IMMER NOCH LEER: Testen was alles überhaupt drin ist\n",
    "\n",
    "soup"
   ]
  },
  {
   "cell_type": "code",
   "execution_count": 46,
   "metadata": {},
   "outputs": [],
   "source": [
    "# Es scheint fast nichts drin zu sein. Gibt versch. Lösungsmöglichkeiten:\n",
    "# 1: Header bauen wie bei Reto Uebung\n",
    "# 2: Mit Silenium einen Browser faken\n",
    "\n",
    "headers = {'User-Agent': 'Mozilla/5.0 (Macintosh; Intel Mac OS X 10_10_1) AppleWebKit/537.36 (KHTML, like Gecko) Chrome/39.0.2171.95 Safari/537.36'}\n",
    "url = 'https://www.job-room.ch/#/job-search'\n",
    "r = requests.get(url, headers=headers)\n",
    "soup = BeautifulSoup(r.text, 'html.parser')"
   ]
  },
  {
   "cell_type": "code",
   "execution_count": 47,
   "metadata": {},
   "outputs": [
    {
     "data": {
      "text/plain": [
       "<!DOCTYPE html>\n",
       " <html class=\"no-js\" dir=\"ltr\" lang=\"de\"> <head> <base href=\"./\"/> <meta charset=\"utf-8\"/> <meta content=\"IE=edge\" http-equiv=\"X-UA-Compatible\"/> <title>jobroom</title> <meta content=\"\" name=\"description\"/> <meta name=\"google\" value=\"notranslate\"/> <meta content=\"width=device-width,initial-scale=1\" name=\"viewport\"/> <meta content=\"#000000\" name=\"theme-color\"/> <link href=\"swiss.png\" rel=\"shortcut icon\"/> <link href=\"manifest.webapp\" rel=\"manifest\"/> <link href=\"main-sass.ee5b139003d7823e818d.css\" rel=\"stylesheet\"/><link href=\"global-sass.ee5b139003d7823e818d.css\" rel=\"stylesheet\"/></head> <body> <!--[if lt IE 9]>\n",
       "        <p class=\"browserupgrade\">You are using an <strong>outdated</strong> browser. Please <a href=\"http://browsehappy.com/\">upgrade your browser</a> to improve your experience.</p>\n",
       "    <![endif]--> <jhi-main></jhi-main> <script> // load shim and zonejs (only for IE)\n",
       "        if (window.navigator.userAgent.indexOf('Trident/') > 0) {\n",
       "            var shim = document.createElement('script');\n",
       "            shim.src = 'core-js-shim.min.js';\n",
       "            shim.type = 'text/javascript';\n",
       "            document.getElementsByTagName('head')[0].appendChild(shim);\n",
       "\n",
       "            var zonejs = document.createElement('script');\n",
       "            zonejs.src = 'zone.min.js';\n",
       "            zonejs.type = 'text/javascript';\n",
       "            document.getElementsByTagName('head')[0].appendChild(zonejs);\n",
       "        } </script> <noscript> <h1>You must enable javascript to view this page.</h1> </noscript> <script> (function(b,o,i,l,e,r){b.GoogleAnalyticsObject=l;b[l]||(b[l]=\n",
       "        function(){(b[l].q=b[l].q||[]).push(arguments)});b[l].l=+new Date;\n",
       "        e=o.createElement(i);r=o.getElementsByTagName(i)[0];\n",
       "        e.src='//www.google-analytics.com/analytics.js';\n",
       "        r.parentNode.insertBefore(e,r)}(window,document,'script','ga'));\n",
       "        _GA_TRACKING_ID = \"UA-XXXXX-X\";\n",
       "        ga('create', _GA_TRACKING_ID);\n",
       "        ga('send','pageview');\n",
       "        ga('set', 'anonymizeIp', true); </script> <script src=\"app/manifest.ee5b139003d7823e818d.bundle.js\" type=\"text/javascript\"></script><script src=\"app/polyfills.ee5b139003d7823e818d.bundle.js\" type=\"text/javascript\"></script><script src=\"app/vendor.ee5b139003d7823e818d.bundle.js\" type=\"text/javascript\"></script><script src=\"app/main.ee5b139003d7823e818d.bundle.js\" type=\"text/javascript\"></script><script src=\"app/global.ee5b139003d7823e818d.bundle.js\" type=\"text/javascript\"></script></body> </html> "
      ]
     },
     "execution_count": 47,
     "metadata": {},
     "output_type": "execute_result"
    }
   ],
   "source": [
    "soup"
   ]
  },
  {
   "cell_type": "code",
   "execution_count": null,
   "metadata": {},
   "outputs": [],
   "source": []
  }
 ],
 "metadata": {
  "kernelspec": {
   "display_name": "Python 3",
   "language": "python",
   "name": "python3"
  },
  "language_info": {
   "codemirror_mode": {
    "name": "ipython",
    "version": 3
   },
   "file_extension": ".py",
   "mimetype": "text/x-python",
   "name": "python",
   "nbconvert_exporter": "python",
   "pygments_lexer": "ipython3",
   "version": "3.7.0"
  }
 },
 "nbformat": 4,
 "nbformat_minor": 2
}
