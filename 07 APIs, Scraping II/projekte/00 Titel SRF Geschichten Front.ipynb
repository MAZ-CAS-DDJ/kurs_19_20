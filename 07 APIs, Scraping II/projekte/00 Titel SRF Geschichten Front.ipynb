{
 "cells": [
  {
   "cell_type": "markdown",
   "metadata": {},
   "source": [
    "## Alle Titel von SRF-Frontstories in ein CSV ablegen\n",
    "\n",
    "Schritt 1: Frontseite laden"
   ]
  },
  {
   "cell_type": "code",
   "execution_count": 6,
   "metadata": {},
   "outputs": [],
   "source": [
    "import requests\n",
    "website = requests.get(\"https://www.srf.ch/\").text"
   ]
  },
  {
   "cell_type": "markdown",
   "metadata": {},
   "source": [
    "Schritt 2: Mit BeautifulSoup die Titel heraussuchen"
   ]
  },
  {
   "cell_type": "code",
   "execution_count": 15,
   "metadata": {},
   "outputs": [],
   "source": [
    "from bs4 import BeautifulSoup\n",
    "soup = BeautifulSoup(website, \"html.parser\")"
   ]
  },
  {
   "cell_type": "code",
   "execution_count": 60,
   "metadata": {},
   "outputs": [],
   "source": [
    "srftitel = []\n",
    "for titel in soup.find_all('span', class_=\"title\"): # die meisten Titel sind ein Span-Element\n",
    "    try:\n",
    "        srftitel.append({\"Titel\":titel.text.strip(), \"Link\":titel.parent['href']})\n",
    "    except:\n",
    "        None\n",
    "    #srftitel.append({\"Titel\":titel.text.strip()})\n",
    "for titel in soup.find_all('a', class_=\"title\"): # weil manche Titel ein a-Element sind\n",
    "    srftitel.append({\"Titel\":titel.text.strip(), \"Link\": titel['href']})\n",
    "    "
   ]
  },
  {
   "cell_type": "markdown",
   "metadata": {},
   "source": [
    "Schritt 3: Mit Pandas ein CSV daraus basteln"
   ]
  },
  {
   "cell_type": "code",
   "execution_count": 61,
   "metadata": {},
   "outputs": [],
   "source": [
    "import pandas as pd\n",
    "pd.DataFrame(srftitel).to_csv('SRF_Storytitel.csv')"
   ]
  },
  {
   "cell_type": "code",
   "execution_count": null,
   "metadata": {},
   "outputs": [],
   "source": []
  }
 ],
 "metadata": {
  "kernelspec": {
   "display_name": "Python 3",
   "language": "python",
   "name": "python3"
  },
  "language_info": {
   "codemirror_mode": {
    "name": "ipython",
    "version": 3
   },
   "file_extension": ".py",
   "mimetype": "text/x-python",
   "name": "python",
   "nbconvert_exporter": "python",
   "pygments_lexer": "ipython3",
   "version": "3.7.0"
  }
 },
 "nbformat": 4,
 "nbformat_minor": 2
}
