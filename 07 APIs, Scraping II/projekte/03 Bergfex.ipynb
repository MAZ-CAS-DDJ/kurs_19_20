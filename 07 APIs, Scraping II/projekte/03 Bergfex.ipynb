{
 "cells": [
  {
   "cell_type": "markdown",
   "metadata": {},
   "source": [
    "# Beispiel 2: Skigebiete (by Lea)  \n",
    "\n",
    "Ziel: die Seite von Bergfex täglich scrapen und schauen wie viele Skilifte offen waren durchs Jahr. Es müssen nur die fett gedruckten Skigebiete gescrapt werden"
   ]
  },
  {
   "cell_type": "markdown",
   "metadata": {},
   "source": [
    "## Schritt 1 : Geöffnete Skilifte absaugen"
   ]
  },
  {
   "cell_type": "code",
   "execution_count": null,
   "metadata": {
    "collapsed": true
   },
   "outputs": [],
   "source": [
    "# Libraries laden\n",
    "import requests\n",
    "from bs4 import BeautifulSoup\n",
    "import pandas as pd"
   ]
  },
  {
   "cell_type": "code",
   "execution_count": null,
   "metadata": {
    "collapsed": true
   },
   "outputs": [],
   "source": [
    "startseite = requests.get(\"https://www.bergfex.ch/schweiz/\").text\n",
    "soup_startseite = BeautifulSoup(startseite, \"html.parser\")"
   ]
  },
  {
   "cell_type": "code",
   "execution_count": null,
   "metadata": {
    "collapsed": true
   },
   "outputs": [],
   "source": [
    "# Die Links heraussuchen\n",
    "\n",
    "liveskigebiete = soup_startseite.find_all('li', {'style':'font-weight: bold;'})\n",
    "linkliste = []\n",
    "\n",
    "for gebiet in liveskigebiete:\n",
    "    link = gebiet.find('a')['href'] # gibt zB nur den Namen Sedrun aus\n",
    "    linkliste.append(link)\n",
    "    \n",
    "pd.DataFrame(linkliste).to_csv('skigebiete_linkliste.csv')"
   ]
  },
  {
   "cell_type": "markdown",
   "metadata": {},
   "source": [
    "## Schritt 2: Öffnungszeiten auslesen"
   ]
  },
  {
   "cell_type": "code",
   "execution_count": null,
   "metadata": {
    "collapsed": true
   },
   "outputs": [],
   "source": [
    "# Leere Liste starten\n",
    "\n",
    "skigebiete = []\n",
    "\n",
    "#website = requests.get(\"https://www.bergfex.ch/ybrig/\").text\n",
    "website = requests.get(\"https://www.bergfex.ch/engelberg/\").text\n",
    "\n",
    "soup = BeautifulSoup(website, \"html.parser\")"
   ]
  },
  {
   "cell_type": "code",
   "execution_count": null,
   "metadata": {
    "collapsed": true
   },
   "outputs": [],
   "source": [
    "# Titel des Skigebiets\n",
    "titel = soup.find('h1', {\"class\": \"has-sup\"})\n",
    "titel = (titel.text.replace(\"Skigebiet \", \"\"))\n",
    "# Offene Skilifte auslesen\n",
    "for skigebiet in soup.find_all('table', class_=\"schneewerte\"):\n",
    "    offenelifte = (skigebiet.find_all('td')[3].text).split(\" von \") # Auslesen im Format \"12 von 24\"\n",
    "    total = offenelifte[1].strip()\n",
    "    offen = offenelifte[0].strip()\n",
    "    skigebiete.append({\"titel\": titel, \"totallifte\": total, \"offen\": offen}) # In die finale Liste laden\n",
    "    \n",
    "    \n",
    "skigebiete"
   ]
  },
  {
   "cell_type": "markdown",
   "metadata": {},
   "source": [
    "## Weitere Schritte\n",
    "\n",
    "Alles in einer Tabelle zusammenführen.  \n",
    "Alarm-Mail programmieren"
   ]
  },
  {
   "cell_type": "code",
   "execution_count": null,
   "metadata": {
    "collapsed": true
   },
   "outputs": [],
   "source": []
  }
 ],
 "metadata": {
  "kernelspec": {
   "display_name": "Python 3",
   "language": "python",
   "name": "python3"
  },
  "language_info": {
   "codemirror_mode": {
    "name": "ipython",
    "version": 3
   },
   "file_extension": ".py",
   "mimetype": "text/x-python",
   "name": "python",
   "nbconvert_exporter": "python",
   "pygments_lexer": "ipython3",
   "version": "3.5.1"
  }
 },
 "nbformat": 4,
 "nbformat_minor": 2
}
