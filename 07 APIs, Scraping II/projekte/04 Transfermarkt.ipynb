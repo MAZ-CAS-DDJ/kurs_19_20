{
 "cells": [
  {
   "cell_type": "code",
   "execution_count": 1,
   "metadata": {
    "collapsed": true
   },
   "outputs": [],
   "source": [
    "import requests\n",
    "from bs4 import BeautifulSoup\n",
    "import pandas as pd"
   ]
  },
  {
   "cell_type": "code",
   "execution_count": 5,
   "metadata": {
    "collapsed": true
   },
   "outputs": [],
   "source": [
    "#Hier ziehen wir den Text der Site ein. Transfermarkt verhindert, dass\n",
    "#requests ohne Zusatzhilfe auf die Inhalte zugreifen kann. Deshalb\n",
    "#Müssen wir einen Fake-Header kreieren.\n",
    "headers = {'User-Agent': 'Mozilla/5.0 (Macintosh; Intel Mac OS X 10_10_1) AppleWebKit/537.36 (KHTML, like Gecko) Chrome/39.0.2171.95 Safari/537.36'}\n",
    "url = 'https://www.transfermarkt.ch/1-bundesliga/startseite/wettbewerb/L1/plus/?saison_id=2018'\n",
    "r = requests.get(url, headers=headers)\n",
    "soup = BeautifulSoup(r.text, 'html.parser')"
   ]
  },
  {
   "cell_type": "code",
   "execution_count": 16,
   "metadata": {
    "collapsed": true
   },
   "outputs": [],
   "source": [
    "#Hier bauen wir eine Liste aus den Vereinen\n",
    "vereine = soup.find_all('td', {'class':'hauptlink no-border-links show-for-small show-for-pad'})"
   ]
  },
  {
   "cell_type": "code",
   "execution_count": 19,
   "metadata": {},
   "outputs": [
    {
     "data": {
      "text/plain": [
       "'Bayern München'"
      ]
     },
     "execution_count": 19,
     "metadata": {},
     "output_type": "execute_result"
    }
   ],
   "source": [
    "#Und wir zeigen den ersten Verein an\n",
    "vereine[0].text"
   ]
  },
  {
   "cell_type": "code",
   "execution_count": 22,
   "metadata": {},
   "outputs": [
    {
     "name": "stdout",
     "output_type": "stream",
     "text": [
      "Bayern München\n",
      "Bor. Dortmund\n",
      "Bay. Leverkusen\n",
      "RB Leipzig\n",
      "FC Schalke 04\n",
      "TSG Hoffenheim\n",
      "Bor. M'gladbach\n",
      "VfB Stuttgart\n",
      "VfL Wolfsburg\n",
      "E. Frankfurt\n",
      "Hertha BSC\n",
      "Werder Bremen\n",
      "1.FSV Mainz 05\n",
      "FC Augsburg\n",
      "Hannover 96\n",
      "SC Freiburg\n",
      "1.FC Nürnberg\n",
      "F. Düsseldorf\n"
     ]
    }
   ],
   "source": [
    "#Printen wir alle Vereine in der Liste aus.\n",
    "for team in vereine:\n",
    "    print(team.text)"
   ]
  },
  {
   "cell_type": "code",
   "execution_count": 20,
   "metadata": {
    "collapsed": true
   },
   "outputs": [],
   "source": [
    "#Und hier printen wir alle Beträge aus\n",
    "beträge = soup.find_all('td', {'class':'rechts show-for-small show-for-pad nowrap'})"
   ]
  },
  {
   "cell_type": "code",
   "execution_count": 33,
   "metadata": {},
   "outputs": [
    {
     "name": "stdout",
     "output_type": "stream",
     "text": [
      "827.8\n",
      "412.3\n",
      "377.2\n",
      "316.0\n",
      "256.4\n",
      "214.85\n",
      "209.65\n",
      "165.1\n",
      "148.25\n",
      "148.0\n",
      "135.53\n",
      "118.4\n",
      "101.95\n",
      "100.8\n",
      "91.5\n",
      "85.65\n",
      "41.6\n",
      "38.95\n"
     ]
    }
   ],
   "source": [
    "#Davon \n",
    "for wert in beträge[2:][::2]:\n",
    "    print(float(wert.text.replace(' Mio. €', '').replace(',', '.')))"
   ]
  },
  {
   "cell_type": "code",
   "execution_count": 35,
   "metadata": {
    "collapsed": true
   },
   "outputs": [],
   "source": [
    "teamwertliste = []\n",
    "for team, wert in zip(vereine, beträge[2:][::2]):\n",
    "    team = team.text\n",
    "    wert = float(wert.text.replace(' Mio. €', '').replace(',', '.'))\n",
    "    minidict = {'Team': team,\n",
    "                'Wert': wert}\n",
    "    teamwertliste.append(minidict)"
   ]
  },
  {
   "cell_type": "code",
   "execution_count": 36,
   "metadata": {},
   "outputs": [
    {
     "data": {
      "text/html": [
       "<div>\n",
       "<style scoped>\n",
       "    .dataframe tbody tr th:only-of-type {\n",
       "        vertical-align: middle;\n",
       "    }\n",
       "\n",
       "    .dataframe tbody tr th {\n",
       "        vertical-align: top;\n",
       "    }\n",
       "\n",
       "    .dataframe thead th {\n",
       "        text-align: right;\n",
       "    }\n",
       "</style>\n",
       "<table border=\"1\" class=\"dataframe\">\n",
       "  <thead>\n",
       "    <tr style=\"text-align: right;\">\n",
       "      <th></th>\n",
       "      <th>Team</th>\n",
       "      <th>Wert</th>\n",
       "    </tr>\n",
       "  </thead>\n",
       "  <tbody>\n",
       "    <tr>\n",
       "      <th>0</th>\n",
       "      <td>Bayern München</td>\n",
       "      <td>827.80</td>\n",
       "    </tr>\n",
       "    <tr>\n",
       "      <th>1</th>\n",
       "      <td>Bor. Dortmund</td>\n",
       "      <td>412.30</td>\n",
       "    </tr>\n",
       "    <tr>\n",
       "      <th>2</th>\n",
       "      <td>Bay. Leverkusen</td>\n",
       "      <td>377.20</td>\n",
       "    </tr>\n",
       "    <tr>\n",
       "      <th>3</th>\n",
       "      <td>RB Leipzig</td>\n",
       "      <td>316.00</td>\n",
       "    </tr>\n",
       "    <tr>\n",
       "      <th>4</th>\n",
       "      <td>FC Schalke 04</td>\n",
       "      <td>256.40</td>\n",
       "    </tr>\n",
       "    <tr>\n",
       "      <th>5</th>\n",
       "      <td>TSG Hoffenheim</td>\n",
       "      <td>214.85</td>\n",
       "    </tr>\n",
       "    <tr>\n",
       "      <th>6</th>\n",
       "      <td>Bor. M'gladbach</td>\n",
       "      <td>209.65</td>\n",
       "    </tr>\n",
       "    <tr>\n",
       "      <th>7</th>\n",
       "      <td>VfB Stuttgart</td>\n",
       "      <td>165.10</td>\n",
       "    </tr>\n",
       "    <tr>\n",
       "      <th>8</th>\n",
       "      <td>VfL Wolfsburg</td>\n",
       "      <td>148.25</td>\n",
       "    </tr>\n",
       "    <tr>\n",
       "      <th>9</th>\n",
       "      <td>E. Frankfurt</td>\n",
       "      <td>148.00</td>\n",
       "    </tr>\n",
       "    <tr>\n",
       "      <th>10</th>\n",
       "      <td>Hertha BSC</td>\n",
       "      <td>135.53</td>\n",
       "    </tr>\n",
       "    <tr>\n",
       "      <th>11</th>\n",
       "      <td>Werder Bremen</td>\n",
       "      <td>118.40</td>\n",
       "    </tr>\n",
       "    <tr>\n",
       "      <th>12</th>\n",
       "      <td>1.FSV Mainz 05</td>\n",
       "      <td>101.95</td>\n",
       "    </tr>\n",
       "    <tr>\n",
       "      <th>13</th>\n",
       "      <td>FC Augsburg</td>\n",
       "      <td>100.80</td>\n",
       "    </tr>\n",
       "    <tr>\n",
       "      <th>14</th>\n",
       "      <td>Hannover 96</td>\n",
       "      <td>91.50</td>\n",
       "    </tr>\n",
       "    <tr>\n",
       "      <th>15</th>\n",
       "      <td>SC Freiburg</td>\n",
       "      <td>85.65</td>\n",
       "    </tr>\n",
       "    <tr>\n",
       "      <th>16</th>\n",
       "      <td>1.FC Nürnberg</td>\n",
       "      <td>41.60</td>\n",
       "    </tr>\n",
       "    <tr>\n",
       "      <th>17</th>\n",
       "      <td>F. Düsseldorf</td>\n",
       "      <td>38.95</td>\n",
       "    </tr>\n",
       "  </tbody>\n",
       "</table>\n",
       "</div>"
      ],
      "text/plain": [
       "               Team    Wert\n",
       "0    Bayern München  827.80\n",
       "1     Bor. Dortmund  412.30\n",
       "2   Bay. Leverkusen  377.20\n",
       "3        RB Leipzig  316.00\n",
       "4     FC Schalke 04  256.40\n",
       "5    TSG Hoffenheim  214.85\n",
       "6   Bor. M'gladbach  209.65\n",
       "7     VfB Stuttgart  165.10\n",
       "8     VfL Wolfsburg  148.25\n",
       "9      E. Frankfurt  148.00\n",
       "10       Hertha BSC  135.53\n",
       "11    Werder Bremen  118.40\n",
       "12   1.FSV Mainz 05  101.95\n",
       "13      FC Augsburg  100.80\n",
       "14      Hannover 96   91.50\n",
       "15      SC Freiburg   85.65\n",
       "16    1.FC Nürnberg   41.60\n",
       "17    F. Düsseldorf   38.95"
      ]
     },
     "execution_count": 36,
     "metadata": {},
     "output_type": "execute_result"
    }
   ],
   "source": [
    "pd.DataFrame(teamwertliste)"
   ]
  },
  {
   "cell_type": "code",
   "execution_count": 40,
   "metadata": {
    "collapsed": true
   },
   "outputs": [],
   "source": [
    "jahre = list(range(2010,2019))"
   ]
  },
  {
   "cell_type": "code",
   "execution_count": 44,
   "metadata": {},
   "outputs": [
    {
     "name": "stdout",
     "output_type": "stream",
     "text": [
      "2010\n",
      "https://www.transfermarkt.ch/1-bundesliga/startseite/wettbewerb/L1/plus/?saison_id=2010\n",
      "2011\n",
      "https://www.transfermarkt.ch/1-bundesliga/startseite/wettbewerb/L1/plus/?saison_id=2011\n",
      "2012\n",
      "https://www.transfermarkt.ch/1-bundesliga/startseite/wettbewerb/L1/plus/?saison_id=2012\n",
      "2013\n",
      "https://www.transfermarkt.ch/1-bundesliga/startseite/wettbewerb/L1/plus/?saison_id=2013\n",
      "2014\n",
      "https://www.transfermarkt.ch/1-bundesliga/startseite/wettbewerb/L1/plus/?saison_id=2014\n",
      "2015\n",
      "https://www.transfermarkt.ch/1-bundesliga/startseite/wettbewerb/L1/plus/?saison_id=2015\n",
      "2016\n",
      "https://www.transfermarkt.ch/1-bundesliga/startseite/wettbewerb/L1/plus/?saison_id=2016\n",
      "2017\n",
      "https://www.transfermarkt.ch/1-bundesliga/startseite/wettbewerb/L1/plus/?saison_id=2017\n",
      "2018\n",
      "https://www.transfermarkt.ch/1-bundesliga/startseite/wettbewerb/L1/plus/?saison_id=2018\n"
     ]
    }
   ],
   "source": [
    "for jahr in jahre:\n",
    "    print(jahr)\n",
    "    print(url+str(jahr))"
   ]
  },
  {
   "cell_type": "code",
   "execution_count": 57,
   "metadata": {},
   "outputs": [
    {
     "name": "stdout",
     "output_type": "stream",
     "text": [
      "https://www.transfermarkt.ch/1-bundesliga/startseite/wettbewerb/L1/plus/?saison_id=2010\n",
      "https://www.transfermarkt.ch/1-bundesliga/startseite/wettbewerb/L1/plus/?saison_id=2011\n",
      "https://www.transfermarkt.ch/1-bundesliga/startseite/wettbewerb/L1/plus/?saison_id=2012\n",
      "https://www.transfermarkt.ch/1-bundesliga/startseite/wettbewerb/L1/plus/?saison_id=2013\n",
      "https://www.transfermarkt.ch/1-bundesliga/startseite/wettbewerb/L1/plus/?saison_id=2014\n",
      "https://www.transfermarkt.ch/1-bundesliga/startseite/wettbewerb/L1/plus/?saison_id=2015\n",
      "https://www.transfermarkt.ch/1-bundesliga/startseite/wettbewerb/L1/plus/?saison_id=2016\n",
      "https://www.transfermarkt.ch/1-bundesliga/startseite/wettbewerb/L1/plus/?saison_id=2017\n",
      "https://www.transfermarkt.ch/1-bundesliga/startseite/wettbewerb/L1/plus/?saison_id=2018\n"
     ]
    }
   ],
   "source": [
    "allejahre = []\n",
    "jahre = list(range(2010,2019))\n",
    "\n",
    "\n",
    "for jahr in jahre:\n",
    "    \n",
    "    url = \"https://www.transfermarkt.ch/1-bundesliga/startseite/wettbewerb/L1/plus/?saison_id=\"\n",
    "    url = url+str(jahr)\n",
    "    print(url)\n",
    "    headers = {'User-Agent': 'Mozilla/5.0 (Macintosh; Intel Mac OS X 10_10_1) AppleWebKit/537.36 (KHTML, like Gecko) Chrome/39.0.2171.95 Safari/537.36'}\n",
    "    r = requests.get(url, headers=headers)\n",
    "    soup = BeautifulSoup(r.text, 'html.parser')\n",
    "    \n",
    "    vereine = soup.find_all('td', {'class':'hauptlink no-border-links show-for-small show-for-pad'})\n",
    "    beträge = soup.find_all('td', {'class':'rechts show-for-small show-for-pad nowrap'})\n",
    "    \n",
    "    for team, wert in zip(vereine, beträge[2:][::2]):\n",
    "        team = team.text\n",
    "        wert = float(wert.text.replace(' Mio. €', '').replace(',', '.'))\n",
    "        minidict = {'Team': team,\n",
    "                    'Wert': wert,\n",
    "                    'Saison':str(jahr)}\n",
    "        allejahre.append(minidict)\n"
   ]
  },
  {
   "cell_type": "code",
   "execution_count": 58,
   "metadata": {
    "collapsed": true
   },
   "outputs": [],
   "source": [
    "df = pd.DataFrame(allejahre)"
   ]
  },
  {
   "cell_type": "code",
   "execution_count": 59,
   "metadata": {},
   "outputs": [
    {
     "name": "stdout",
     "output_type": "stream",
     "text": [
      "<class 'pandas.core.frame.DataFrame'>\n",
      "RangeIndex: 162 entries, 0 to 161\n",
      "Data columns (total 3 columns):\n",
      "Saison    162 non-null object\n",
      "Team      162 non-null object\n",
      "Wert      162 non-null float64\n",
      "dtypes: float64(1), object(2)\n",
      "memory usage: 3.9+ KB\n"
     ]
    }
   ],
   "source": [
    "df.info()"
   ]
  },
  {
   "cell_type": "code",
   "execution_count": 60,
   "metadata": {},
   "outputs": [
    {
     "data": {
      "text/plain": [
       "Saison\n",
       "2010    1807.43\n",
       "2011    1815.94\n",
       "2012    1891.15\n",
       "2013    2140.09\n",
       "2014    2399.35\n",
       "2015    2523.00\n",
       "2016    2580.66\n",
       "2017    2883.19\n",
       "2018    3789.93\n",
       "Name: Wert, dtype: float64"
      ]
     },
     "execution_count": 60,
     "metadata": {},
     "output_type": "execute_result"
    }
   ],
   "source": [
    "df.groupby('Saison')['Wert'].sum()"
   ]
  },
  {
   "cell_type": "code",
   "execution_count": null,
   "metadata": {
    "collapsed": true
   },
   "outputs": [],
   "source": []
  }
 ],
 "metadata": {
  "kernelspec": {
   "display_name": "Python 3",
   "language": "python",
   "name": "python3"
  },
  "language_info": {
   "codemirror_mode": {
    "name": "ipython",
    "version": 3
   },
   "file_extension": ".py",
   "mimetype": "text/x-python",
   "name": "python",
   "nbconvert_exporter": "python",
   "pygments_lexer": "ipython3",
   "version": "3.5.1"
  }
 },
 "nbformat": 4,
 "nbformat_minor": 2
}
