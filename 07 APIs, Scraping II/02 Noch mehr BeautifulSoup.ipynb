{
 "cells": [
  {
   "cell_type": "markdown",
   "metadata": {},
   "source": [
    "# Noch mehr BeautifulSoup"
   ]
  },
  {
   "cell_type": "markdown",
   "metadata": {},
   "source": [
    "Nehmen wir nochmals die Website-Beispiiele hervor, die ihr gestern angefangen habt. Damit wollen wir den Rest des Morgens und den ersten Teil des Nachmittags verbringen. Dazwischen wollen wir uns noch mit einer weiter Funktion von BeautifulSoup aufhalten."
   ]
  },
  {
   "cell_type": "markdown",
   "metadata": {},
   "source": [
    "Beginnen wir aber mit einer kleinen Übung. Beginnen wir damit, die Lehrstellen auf der Website https://www.berufsberatung.ch/ herunter zu ziehen. Die Site verlangt etwas Interaktion. Wir suchen für die Übung \"Bäcker/in-Konditor/in-Confiseur/MBA\". Und dieses mal arbeiten wir mit Funktionen, um die Inhalte raus zu ziehen."
   ]
  },
  {
   "cell_type": "markdown",
   "metadata": {},
   "source": [
    "Machen wir wie immer unsere Imports"
   ]
  },
  {
   "cell_type": "code",
   "execution_count": 1,
   "metadata": {
    "collapsed": true
   },
   "outputs": [],
   "source": [
    "import requests\n",
    "from bs4 import BeautifulSoup"
   ]
  },
  {
   "cell_type": "markdown",
   "metadata": {},
   "source": [
    "Ziehen wir die Website rein"
   ]
  },
  {
   "cell_type": "code",
   "execution_count": 1,
   "metadata": {},
   "outputs": [
    {
     "ename": "NameError",
     "evalue": "name 'requests' is not defined",
     "output_type": "error",
     "traceback": [
      "\u001b[0;31m---------------------------------------------------------------------------\u001b[0m",
      "\u001b[0;31mNameError\u001b[0m                                 Traceback (most recent call last)",
      "\u001b[0;32m<ipython-input-1-65e98f507791>\u001b[0m in \u001b[0;36m<module>\u001b[0;34m()\u001b[0m\n\u001b[0;32m----> 1\u001b[0;31m \u001b[0mr\u001b[0m \u001b[0;34m=\u001b[0m \u001b[0mrequests\u001b[0m\u001b[0;34m.\u001b[0m\u001b[0mget\u001b[0m\u001b[0;34m(\u001b[0m\u001b[0;34m'http://www.guardian.co.uk'\u001b[0m\u001b[0;34m)\u001b[0m\u001b[0;34m\u001b[0m\u001b[0m\n\u001b[0m\u001b[1;32m      2\u001b[0m \u001b[0msoup\u001b[0m \u001b[0;34m=\u001b[0m \u001b[0mBeautifulSoup\u001b[0m\u001b[0;34m(\u001b[0m\u001b[0mr\u001b[0m\u001b[0;34m.\u001b[0m\u001b[0mtext\u001b[0m\u001b[0;34m,\u001b[0m \u001b[0;34m'lxml'\u001b[0m\u001b[0;34m)\u001b[0m\u001b[0;34m\u001b[0m\u001b[0m\n",
      "\u001b[0;31mNameError\u001b[0m: name 'requests' is not defined"
     ]
    }
   ],
   "source": [
    "r = requests.get('https://www.berufsberatung.ch/dyn/show/2930?lang=de&Idx=100&OrderBy=1&Order=0&PostBackOrder=0&postBack=true&CountResult=43&Total_Idx=41&CounterSearch=3&UrlAjaxWebSearch=%2FLenaWeb%2FAjaxWebSearch&sw_=7673&LocName=&LocId=&Area=10')\n",
    "soup = BeautifulSoup(r.text, 'lxml')"
   ]
  },
  {
   "cell_type": "code",
   "execution_count": 3,
   "metadata": {},
   "outputs": [
    {
     "data": {
      "text/plain": [
       "[<div class=\"display-table-cell table-col-3\">Aeschi b. Spiez (BE)</div>,\n",
       " <div class=\"display-table-cell table-col-3\">Affeltrangen (TG)</div>,\n",
       " <div class=\"display-table-cell table-col-3\">Bern (BE)</div>,\n",
       " <div class=\"display-table-cell table-col-3\">Buchrain (LU)</div>,\n",
       " <div class=\"display-table-cell table-col-3\">Davos Dorf (GR)</div>,\n",
       " <div class=\"display-table-cell table-col-3\">Flühli LU (LU)</div>,\n",
       " <div class=\"display-table-cell table-col-3\">Gwatt (Thun) (BE)</div>,\n",
       " <div class=\"display-table-cell table-col-3\">Heiden (AR)</div>,\n",
       " <div class=\"display-table-cell table-col-3\">Hochdorf (LU)</div>,\n",
       " <div class=\"display-table-cell table-col-3\">Illnau (ZH)</div>,\n",
       " <div class=\"display-table-cell table-col-3\">Islikon (TG)</div>,\n",
       " <div class=\"display-table-cell table-col-3\">Landquart (GR)</div>,\n",
       " <div class=\"display-table-cell table-col-3\">Lenk im Simmental (BE)</div>,\n",
       " <div class=\"display-table-cell table-col-3\">Lungern (OW)</div>,\n",
       " <div class=\"display-table-cell table-col-3\">Luzern (LU)</div>,\n",
       " <div class=\"display-table-cell table-col-3\">Luzern (LU)</div>,\n",
       " <div class=\"display-table-cell table-col-3\">Marthalen (ZH)</div>,\n",
       " <div class=\"display-table-cell table-col-3\">Nottwil (LU)</div>,\n",
       " <div class=\"display-table-cell table-col-3\">Oberriet SG (SG)</div>,\n",
       " <div class=\"display-table-cell table-col-3\">Obfelden (ZH)</div>,\n",
       " <div class=\"display-table-cell table-col-3\">Pfäffikon ZH (ZH)</div>,\n",
       " <div class=\"display-table-cell table-col-3\">Pfungen (ZH)</div>,\n",
       " <div class=\"display-table-cell table-col-3\">Prilly (VD)</div>,\n",
       " <div class=\"display-table-cell table-col-3\">Sargans (SG)</div>,\n",
       " <div class=\"display-table-cell table-col-3\">Schönried (BE)</div>,\n",
       " <div class=\"display-table-cell table-col-3\">Schüpfheim (LU)</div>,\n",
       " <div class=\"display-table-cell table-col-3\">Sedrun (GR)</div>,\n",
       " <div class=\"display-table-cell table-col-3\">Sempach (LU)</div>,\n",
       " <div class=\"display-table-cell table-col-3\">St. Gallen (SG)</div>,\n",
       " <div class=\"display-table-cell table-col-3\">St. Moritz (GR)</div>,\n",
       " <div class=\"display-table-cell table-col-3\">Steffisburg (BE)</div>,\n",
       " <div class=\"display-table-cell table-col-3\">Suhr (AG)</div>,\n",
       " <div class=\"display-table-cell table-col-3\">Tenero (TI)</div>,\n",
       " <div class=\"display-table-cell table-col-3\">Thun (BE)</div>,\n",
       " <div class=\"display-table-cell table-col-3\">Tiefencastel (GR)</div>,\n",
       " <div class=\"display-table-cell table-col-3\">Triengen (LU)</div>,\n",
       " <div class=\"display-table-cell table-col-3\">Wabern (BE)</div>,\n",
       " <div class=\"display-table-cell table-col-3\">Weggis (LU)</div>,\n",
       " <div class=\"display-table-cell table-col-3\">Zetzwil (AG)</div>,\n",
       " <div class=\"display-table-cell table-col-3\">Zuckenriet (SG)</div>]"
      ]
     },
     "execution_count": 3,
     "metadata": {},
     "output_type": "execute_result"
    }
   ],
   "source": [
    "#Die Ortschaften der Firmen\n",
    "soup.find('div', {'class':'resultpart result-body'}).find_all('div', {'class':'display-table-cell table-col-3'})"
   ]
  },
  {
   "cell_type": "code",
   "execution_count": 4,
   "metadata": {},
   "outputs": [
    {
     "data": {
      "text/plain": [
       "[<div class=\"display-table-cell bold company data-id table-col-1\" data-id=\"11651160\">Bäckerei-Konditorei Graber</div>,\n",
       " <div class=\"display-table-cell bold company data-id table-col-1\" data-id=\"11565832\">Kurt Schmid</div>,\n",
       " <div class=\"display-table-cell bold company data-id table-col-1\" data-id=\"11653081\">Tea-Room la Praline</div>,\n",
       " <div class=\"display-table-cell bold company data-id table-col-1\" data-id=\"11629674\">Macchi AG</div>,\n",
       " <div class=\"display-table-cell bold company data-id table-col-1\" data-id=\"11649663\">Bäckerei-Konditorei Café Weber AG</div>,\n",
       " <div class=\"display-table-cell bold company data-id table-col-1\" data-id=\"11616125\">Zum Poscht-Beck</div>,\n",
       " <div class=\"display-table-cell bold company data-id table-col-1\" data-id=\"11651107\">Peter Linder</div>,\n",
       " <div class=\"display-table-cell bold company data-id table-col-1\" data-id=\"11591116\">Bäckerei-Konditorei Rohner</div>,\n",
       " <div class=\"display-table-cell bold company data-id table-col-1\" data-id=\"11598566\">Ehliger</div>,\n",
       " <div class=\"display-table-cell bold company data-id table-col-1\" data-id=\"11646082\">Bäckerei-Konditorei Nüssli</div>,\n",
       " <div class=\"display-table-cell bold company data-id table-col-1\" data-id=\"11594937\">Mario Rigazzi</div>,\n",
       " <div class=\"display-table-cell bold company data-id table-col-1\" data-id=\"11649677\">Ziegler Bäckerei-Conditorei AG</div>,\n",
       " <div class=\"display-table-cell bold company data-id table-col-1\" data-id=\"11651197\">Bäckerei-Konditorei-Confiserie</div>,\n",
       " <div class=\"display-table-cell bold company data-id table-col-1\" data-id=\"11648757\">Sunnis AG</div>,\n",
       " <div class=\"display-table-cell bold company data-id table-col-1\" data-id=\"11645651\">Heini Conditorei AG</div>,\n",
       " <div class=\"display-table-cell bold company data-id table-col-1\" data-id=\"11557243\">Peter Müller</div>,\n",
       " <div class=\"display-table-cell bold company data-id table-col-1\" data-id=\"11600251\">Bäckerei-Konditorei Gut</div>,\n",
       " <div class=\"display-table-cell bold company data-id table-col-1\" data-id=\"11597615\">Bäckerei-Konditorei</div>,\n",
       " <div class=\"display-table-cell bold company data-id table-col-1\" data-id=\"11588426\">Beck Schegg AG</div>,\n",
       " <div class=\"display-table-cell bold company data-id table-col-1\" data-id=\"11621484\">Pöschtli Beck AG</div>,\n",
       " <div class=\"display-table-cell bold company data-id table-col-1\" data-id=\"11629956\">Schneiders Quer AG</div>,\n",
       " <div class=\"display-table-cell bold company data-id table-col-1\" data-id=\"11551351\">Urs Rössler</div>,\n",
       " <div class=\"display-table-cell bold company data-id table-col-1\" data-id=\"7769827\">Confiserie-Pâtisserie De Sousa</div>,\n",
       " <div class=\"display-table-cell bold company data-id table-col-1\" data-id=\"11606427\">Café Studio GmbH</div>,\n",
       " <div class=\"display-table-cell bold company data-id table-col-1\" data-id=\"11653186\">Chnusper-Becke AG</div>,\n",
       " <div class=\"display-table-cell bold company data-id table-col-1\" data-id=\"11597858\">Bäckerei Zihlmann AG</div>,\n",
       " <div class=\"display-table-cell bold company data-id table-col-1\" data-id=\"11649521\">Marcel Schmid GmbH</div>,\n",
       " <div class=\"display-table-cell bold company data-id table-col-1\" data-id=\"11558839\">Willi Beck AG</div>,\n",
       " <div class=\"display-table-cell bold company data-id table-col-1\" data-id=\"11630008\">Hans Dörig</div>,\n",
       " <div class=\"display-table-cell bold company data-id table-col-1\" data-id=\"11649249\">Bäckerei-Konditorei BAD</div>,\n",
       " <div class=\"display-table-cell bold company data-id table-col-1\" data-id=\"11651442\">Bäckerei-Confiserie Galli AG</div>,\n",
       " <div class=\"display-table-cell bold company data-id table-col-1\" data-id=\"11646048\">Bäckerei-Konditorei-Confiserie Leiser</div>,\n",
       " <div class=\"display-table-cell bold company data-id table-col-1\" data-id=\"11645365\">PHILIPONA SA</div>,\n",
       " <div class=\"display-table-cell bold company data-id table-col-1\" data-id=\"11651417\">Bäckerei-Konditorei Café Brötie</div>,\n",
       " <div class=\"display-table-cell bold company data-id table-col-1\" data-id=\"11649729\">Stgier ScRL</div>,\n",
       " <div class=\"display-table-cell bold company data-id table-col-1\" data-id=\"11630332\">Hunger AG</div>,\n",
       " <div class=\"display-table-cell bold company data-id table-col-1\" data-id=\"11653200\">Bäckerei-Konditorei Röthlisberger</div>,\n",
       " <div class=\"display-table-cell bold company data-id table-col-1\" data-id=\"11599093\">Wehren's</div>,\n",
       " <div class=\"display-table-cell bold company data-id table-col-1\" data-id=\"11646055\">Bäckerei-Konditorei Gysi AG</div>,\n",
       " <div class=\"display-table-cell bold company data-id table-col-1\" data-id=\"11589353\">Bernhard Näf</div>]"
      ]
     },
     "execution_count": 4,
     "metadata": {},
     "output_type": "execute_result"
    }
   ],
   "source": [
    "#Die Firma\n",
    "soup.find('div', {'class':'resultpart result-body'}).find_all('div', {'class':'display-table-cell bold company data-id table-col-1'})"
   ]
  },
  {
   "cell_type": "code",
   "execution_count": 5,
   "metadata": {},
   "outputs": [
    {
     "data": {
      "text/plain": [
       "[<div class=\"display-table-cell float-left-for-sd table-col-4\">2019</div>,\n",
       " <div class=\"display-table-cell float-left-for-sd table-col-4\">2018</div>,\n",
       " <div class=\"display-table-cell float-left-for-sd table-col-4\">2019</div>,\n",
       " <div class=\"display-table-cell float-left-for-sd table-col-4\">2018</div>,\n",
       " <div class=\"display-table-cell float-left-for-sd table-col-4\">2019</div>,\n",
       " <div class=\"display-table-cell float-left-for-sd table-col-4\">2018</div>,\n",
       " <div class=\"display-table-cell float-left-for-sd table-col-4\">2019</div>,\n",
       " <div class=\"display-table-cell float-left-for-sd table-col-4\">2018</div>,\n",
       " <div class=\"display-table-cell float-left-for-sd table-col-4\">2018</div>,\n",
       " <div class=\"display-table-cell float-left-for-sd table-col-4\">2018</div>,\n",
       " <div class=\"display-table-cell float-left-for-sd table-col-4\">2018</div>,\n",
       " <div class=\"display-table-cell float-left-for-sd table-col-4\">2019</div>,\n",
       " <div class=\"display-table-cell float-left-for-sd table-col-4\">2019</div>,\n",
       " <div class=\"display-table-cell float-left-for-sd table-col-4\">2018</div>,\n",
       " <div class=\"display-table-cell float-left-for-sd table-col-4\">2018</div>,\n",
       " <div class=\"display-table-cell float-left-for-sd table-col-4\">2018</div>,\n",
       " <div class=\"display-table-cell float-left-for-sd table-col-4\">2018</div>,\n",
       " <div class=\"display-table-cell float-left-for-sd table-col-4\">2018</div>,\n",
       " <div class=\"display-table-cell float-left-for-sd table-col-4\">2018</div>,\n",
       " <div class=\"display-table-cell float-left-for-sd table-col-4\">2018</div>,\n",
       " <div class=\"display-table-cell float-left-for-sd table-col-4\">2018</div>,\n",
       " <div class=\"display-table-cell float-left-for-sd table-col-4\">2018</div>,\n",
       " <div class=\"display-table-cell float-left-for-sd table-col-4\">2018</div>,\n",
       " <div class=\"display-table-cell float-left-for-sd table-col-4\">2018</div>,\n",
       " <div class=\"display-table-cell float-left-for-sd table-col-4\">2019</div>,\n",
       " <div class=\"display-table-cell float-left-for-sd table-col-4\">2018</div>,\n",
       " <div class=\"display-table-cell float-left-for-sd table-col-4\">2019</div>,\n",
       " <div class=\"display-table-cell float-left-for-sd table-col-4\">2018</div>,\n",
       " <div class=\"display-table-cell float-left-for-sd table-col-4\">2018</div>,\n",
       " <div class=\"display-table-cell float-left-for-sd table-col-4\">2019</div>,\n",
       " <div class=\"display-table-cell float-left-for-sd table-col-4\">2019</div>,\n",
       " <div class=\"display-table-cell float-left-for-sd table-col-4\">2018</div>,\n",
       " <div class=\"display-table-cell float-left-for-sd table-col-4\">2018</div>,\n",
       " <div class=\"display-table-cell float-left-for-sd table-col-4\">2019</div>,\n",
       " <div class=\"display-table-cell float-left-for-sd table-col-4\">2019</div>,\n",
       " <div class=\"display-table-cell float-left-for-sd table-col-4\">2018</div>,\n",
       " <div class=\"display-table-cell float-left-for-sd table-col-4\">2019</div>,\n",
       " <div class=\"display-table-cell float-left-for-sd table-col-4\">2018</div>,\n",
       " <div class=\"display-table-cell float-left-for-sd table-col-4\">2018</div>,\n",
       " <div class=\"display-table-cell float-left-for-sd table-col-4\">2018</div>]"
      ]
     },
     "execution_count": 5,
     "metadata": {},
     "output_type": "execute_result"
    }
   ],
   "source": [
    "#Das Jahr\n",
    "soup.find('div', {'class':'resultpart result-body'}).find_all('div', {'class':'display-table-cell float-left-for-sd table-col-4'})"
   ]
  },
  {
   "cell_type": "code",
   "execution_count": 6,
   "metadata": {},
   "outputs": [
    {
     "data": {
      "text/plain": [
       "[<div class=\"display-table-cell text-align-center float-left-for-sd table-col-5\">\n",
       " 1 <span class=\"show-for-sd\">Lehrstelle(n)</span>\n",
       " </div>,\n",
       " <div class=\"display-table-cell text-align-center float-left-for-sd table-col-5\">\n",
       " 1 <span class=\"show-for-sd\">Lehrstelle(n)</span>\n",
       " </div>,\n",
       " <div class=\"display-table-cell text-align-center float-left-for-sd table-col-5\">\n",
       " 2 <span class=\"show-for-sd\">Lehrstelle(n)</span>\n",
       " </div>,\n",
       " <div class=\"display-table-cell text-align-center float-left-for-sd table-col-5\">\n",
       " 1 <span class=\"show-for-sd\">Lehrstelle(n)</span>\n",
       " </div>,\n",
       " <div class=\"display-table-cell text-align-center float-left-for-sd table-col-5\">\n",
       " 1 <span class=\"show-for-sd\">Lehrstelle(n)</span>\n",
       " </div>,\n",
       " <div class=\"display-table-cell text-align-center float-left-for-sd table-col-5\">\n",
       " 1 <span class=\"show-for-sd\">Lehrstelle(n)</span>\n",
       " </div>,\n",
       " <div class=\"display-table-cell text-align-center float-left-for-sd table-col-5\">\n",
       " 1 <span class=\"show-for-sd\">Lehrstelle(n)</span>\n",
       " </div>,\n",
       " <div class=\"display-table-cell text-align-center float-left-for-sd table-col-5\">\n",
       " 1 <span class=\"show-for-sd\">Lehrstelle(n)</span>\n",
       " </div>,\n",
       " <div class=\"display-table-cell text-align-center float-left-for-sd table-col-5\">\n",
       " 1 <span class=\"show-for-sd\">Lehrstelle(n)</span>\n",
       " </div>,\n",
       " <div class=\"display-table-cell text-align-center float-left-for-sd table-col-5\">\n",
       " 1 <span class=\"show-for-sd\">Lehrstelle(n)</span>\n",
       " </div>,\n",
       " <div class=\"display-table-cell text-align-center float-left-for-sd table-col-5\">\n",
       " 1 <span class=\"show-for-sd\">Lehrstelle(n)</span>\n",
       " </div>,\n",
       " <div class=\"display-table-cell text-align-center float-left-for-sd table-col-5\">\n",
       " 1 <span class=\"show-for-sd\">Lehrstelle(n)</span>\n",
       " </div>,\n",
       " <div class=\"display-table-cell text-align-center float-left-for-sd table-col-5\">\n",
       " 1 <span class=\"show-for-sd\">Lehrstelle(n)</span>\n",
       " </div>,\n",
       " <div class=\"display-table-cell text-align-center float-left-for-sd table-col-5\">\n",
       " 1 <span class=\"show-for-sd\">Lehrstelle(n)</span>\n",
       " </div>,\n",
       " <div class=\"display-table-cell text-align-center float-left-for-sd table-col-5\">\n",
       " 1 <span class=\"show-for-sd\">Lehrstelle(n)</span>\n",
       " </div>,\n",
       " <div class=\"display-table-cell text-align-center float-left-for-sd table-col-5\">\n",
       " 1 <span class=\"show-for-sd\">Lehrstelle(n)</span>\n",
       " </div>,\n",
       " <div class=\"display-table-cell text-align-center float-left-for-sd table-col-5\">\n",
       " 1 <span class=\"show-for-sd\">Lehrstelle(n)</span>\n",
       " </div>,\n",
       " <div class=\"display-table-cell text-align-center float-left-for-sd table-col-5\">\n",
       " 1 <span class=\"show-for-sd\">Lehrstelle(n)</span>\n",
       " </div>,\n",
       " <div class=\"display-table-cell text-align-center float-left-for-sd table-col-5\">\n",
       " 1 <span class=\"show-for-sd\">Lehrstelle(n)</span>\n",
       " </div>,\n",
       " <div class=\"display-table-cell text-align-center float-left-for-sd table-col-5\">\n",
       " 1 <span class=\"show-for-sd\">Lehrstelle(n)</span>\n",
       " </div>,\n",
       " <div class=\"display-table-cell text-align-center float-left-for-sd table-col-5\">\n",
       " 1 <span class=\"show-for-sd\">Lehrstelle(n)</span>\n",
       " </div>,\n",
       " <div class=\"display-table-cell text-align-center float-left-for-sd table-col-5\">\n",
       " 1 <span class=\"show-for-sd\">Lehrstelle(n)</span>\n",
       " </div>,\n",
       " <div class=\"display-table-cell text-align-center float-left-for-sd table-col-5\">\n",
       " 1 <span class=\"show-for-sd\">Lehrstelle(n)</span>\n",
       " </div>,\n",
       " <div class=\"display-table-cell text-align-center float-left-for-sd table-col-5\">\n",
       " 1 <span class=\"show-for-sd\">Lehrstelle(n)</span>\n",
       " </div>,\n",
       " <div class=\"display-table-cell text-align-center float-left-for-sd table-col-5\">\n",
       " 1 <span class=\"show-for-sd\">Lehrstelle(n)</span>\n",
       " </div>,\n",
       " <div class=\"display-table-cell text-align-center float-left-for-sd table-col-5\">\n",
       " 1 <span class=\"show-for-sd\">Lehrstelle(n)</span>\n",
       " </div>,\n",
       " <div class=\"display-table-cell text-align-center float-left-for-sd table-col-5\">\n",
       " 1 <span class=\"show-for-sd\">Lehrstelle(n)</span>\n",
       " </div>,\n",
       " <div class=\"display-table-cell text-align-center float-left-for-sd table-col-5\">\n",
       " 1 <span class=\"show-for-sd\">Lehrstelle(n)</span>\n",
       " </div>,\n",
       " <div class=\"display-table-cell text-align-center float-left-for-sd table-col-5\">\n",
       " 1 <span class=\"show-for-sd\">Lehrstelle(n)</span>\n",
       " </div>,\n",
       " <div class=\"display-table-cell text-align-center float-left-for-sd table-col-5\">\n",
       " 1 <span class=\"show-for-sd\">Lehrstelle(n)</span>\n",
       " </div>,\n",
       " <div class=\"display-table-cell text-align-center float-left-for-sd table-col-5\">\n",
       " 1 <span class=\"show-for-sd\">Lehrstelle(n)</span>\n",
       " </div>,\n",
       " <div class=\"display-table-cell text-align-center float-left-for-sd table-col-5\">\n",
       " 1 <span class=\"show-for-sd\">Lehrstelle(n)</span>\n",
       " </div>,\n",
       " <div class=\"display-table-cell text-align-center float-left-for-sd table-col-5\">\n",
       " 2 <span class=\"show-for-sd\">Lehrstelle(n)</span>\n",
       " </div>,\n",
       " <div class=\"display-table-cell text-align-center float-left-for-sd table-col-5\">\n",
       " 1 <span class=\"show-for-sd\">Lehrstelle(n)</span>\n",
       " </div>,\n",
       " <div class=\"display-table-cell text-align-center float-left-for-sd table-col-5\">\n",
       " 1 <span class=\"show-for-sd\">Lehrstelle(n)</span>\n",
       " </div>,\n",
       " <div class=\"display-table-cell text-align-center float-left-for-sd table-col-5\">\n",
       " 1 <span class=\"show-for-sd\">Lehrstelle(n)</span>\n",
       " </div>,\n",
       " <div class=\"display-table-cell text-align-center float-left-for-sd table-col-5\">\n",
       " 1 <span class=\"show-for-sd\">Lehrstelle(n)</span>\n",
       " </div>,\n",
       " <div class=\"display-table-cell text-align-center float-left-for-sd table-col-5\">\n",
       " 1 <span class=\"show-for-sd\">Lehrstelle(n)</span>\n",
       " </div>,\n",
       " <div class=\"display-table-cell text-align-center float-left-for-sd table-col-5\">\n",
       " 1 <span class=\"show-for-sd\">Lehrstelle(n)</span>\n",
       " </div>,\n",
       " <div class=\"display-table-cell text-align-center float-left-for-sd table-col-5\">\n",
       " 1 <span class=\"show-for-sd\">Lehrstelle(n)</span>\n",
       " </div>]"
      ]
     },
     "execution_count": 6,
     "metadata": {},
     "output_type": "execute_result"
    }
   ],
   "source": [
    "# Anzahl\n",
    "soup.find('div', {'class':'resultpart result-body'}).find_all('div', {'class':'display-table-cell text-align-center float-left-for-sd table-col-5'})"
   ]
  },
  {
   "cell_type": "code",
   "execution_count": 7,
   "metadata": {
    "collapsed": true
   },
   "outputs": [],
   "source": [
    "def lehrstellen(url):\n",
    "    \n",
    "    r = requests.get(url)\n",
    "    soup = BeautifulSoup(r.text, 'lxml')\n",
    "    \n",
    "    ortsliste = soup.find('div', {'class':'resultpart result-body'})\\\n",
    "                    .find_all('div', {'class':'display-table-cell table-col-3'})\n",
    "    \n",
    "    firmenliste = soup.find('div', {'class':'resultpart result-body'})\\\n",
    "                    .find_all('div', {'class':'display-table-cell bold company data-id table-col-1'})\n",
    "    \n",
    "    jahresliste = soup.find('div', {'class':'resultpart result-body'})\\\n",
    "                    .find_all('div', {'class':'display-table-cell float-left-for-sd table-col-4'})\n",
    "        \n",
    "    anzahlliste = soup.find('div', {'class':'resultpart result-body'})\\\n",
    "                    .find_all('div', {'class':'display-table-cell text-align-center float-left-for-sd table-col-5'})\n",
    "    \n",
    "    lst = []\n",
    "    \n",
    "    for ort, firma, jahr, anzahl in zip(ortsliste,firmenliste,jahresliste, anzahlliste):\n",
    "        \n",
    "        mini_dict = {'Ort':ort.text,\n",
    "                     'Firma':firma.text,\n",
    "                     'Jahr':jahr.text,\n",
    "                     'Anzahl':int(anzahl.text.replace(' Lehrstelle(n)\\n','').replace('\\n',''))}\n",
    "        lst.append(mini_dict)\n",
    "    \n",
    "    return lst"
   ]
  },
  {
   "cell_type": "code",
   "execution_count": 8,
   "metadata": {},
   "outputs": [
    {
     "data": {
      "text/plain": [
       "[{'Anzahl': 1,\n",
       "  'Firma': 'Bäckerei-Konditorei Graber',\n",
       "  'Jahr': '2019',\n",
       "  'Ort': 'Aeschi b. Spiez (BE)'},\n",
       " {'Anzahl': 1,\n",
       "  'Firma': 'Kurt Schmid',\n",
       "  'Jahr': '2018',\n",
       "  'Ort': 'Affeltrangen (TG)'},\n",
       " {'Anzahl': 2,\n",
       "  'Firma': 'Tea-Room la Praline',\n",
       "  'Jahr': '2019',\n",
       "  'Ort': 'Bern (BE)'},\n",
       " {'Anzahl': 1, 'Firma': 'Macchi AG', 'Jahr': '2018', 'Ort': 'Buchrain (LU)'},\n",
       " {'Anzahl': 1,\n",
       "  'Firma': 'Bäckerei-Konditorei Café Weber AG',\n",
       "  'Jahr': '2019',\n",
       "  'Ort': 'Davos Dorf (GR)'},\n",
       " {'Anzahl': 1,\n",
       "  'Firma': 'Zum Poscht-Beck',\n",
       "  'Jahr': '2018',\n",
       "  'Ort': 'Flühli LU (LU)'},\n",
       " {'Anzahl': 1,\n",
       "  'Firma': 'Peter Linder',\n",
       "  'Jahr': '2019',\n",
       "  'Ort': 'Gwatt (Thun) (BE)'},\n",
       " {'Anzahl': 1,\n",
       "  'Firma': 'Bäckerei-Konditorei Rohner',\n",
       "  'Jahr': '2018',\n",
       "  'Ort': 'Heiden (AR)'},\n",
       " {'Anzahl': 1, 'Firma': 'Ehliger', 'Jahr': '2018', 'Ort': 'Hochdorf (LU)'},\n",
       " {'Anzahl': 1,\n",
       "  'Firma': 'Bäckerei-Konditorei Nüssli',\n",
       "  'Jahr': '2018',\n",
       "  'Ort': 'Illnau (ZH)'},\n",
       " {'Anzahl': 1,\n",
       "  'Firma': 'Mario Rigazzi',\n",
       "  'Jahr': '2018',\n",
       "  'Ort': 'Islikon (TG)'},\n",
       " {'Anzahl': 1,\n",
       "  'Firma': 'Ziegler Bäckerei-Conditorei AG',\n",
       "  'Jahr': '2019',\n",
       "  'Ort': 'Landquart (GR)'},\n",
       " {'Anzahl': 1,\n",
       "  'Firma': 'Bäckerei-Konditorei-Confiserie',\n",
       "  'Jahr': '2019',\n",
       "  'Ort': 'Lenk im Simmental (BE)'},\n",
       " {'Anzahl': 1, 'Firma': 'Sunnis AG', 'Jahr': '2018', 'Ort': 'Lungern (OW)'},\n",
       " {'Anzahl': 1,\n",
       "  'Firma': 'Heini Conditorei AG',\n",
       "  'Jahr': '2018',\n",
       "  'Ort': 'Luzern (LU)'},\n",
       " {'Anzahl': 1, 'Firma': 'Peter Müller', 'Jahr': '2018', 'Ort': 'Luzern (LU)'},\n",
       " {'Anzahl': 1,\n",
       "  'Firma': 'Bäckerei-Konditorei Gut',\n",
       "  'Jahr': '2018',\n",
       "  'Ort': 'Marthalen (ZH)'},\n",
       " {'Anzahl': 1,\n",
       "  'Firma': 'Bäckerei-Konditorei',\n",
       "  'Jahr': '2018',\n",
       "  'Ort': 'Nottwil (LU)'},\n",
       " {'Anzahl': 1,\n",
       "  'Firma': 'Beck Schegg AG',\n",
       "  'Jahr': '2018',\n",
       "  'Ort': 'Oberriet SG (SG)'},\n",
       " {'Anzahl': 1,\n",
       "  'Firma': 'Pöschtli Beck AG',\n",
       "  'Jahr': '2018',\n",
       "  'Ort': 'Obfelden (ZH)'},\n",
       " {'Anzahl': 1,\n",
       "  'Firma': 'Schneiders Quer AG',\n",
       "  'Jahr': '2018',\n",
       "  'Ort': 'Pfäffikon ZH (ZH)'},\n",
       " {'Anzahl': 1, 'Firma': 'Urs Rössler', 'Jahr': '2018', 'Ort': 'Pfungen (ZH)'},\n",
       " {'Anzahl': 1,\n",
       "  'Firma': 'Confiserie-Pâtisserie De Sousa',\n",
       "  'Jahr': '2018',\n",
       "  'Ort': 'Prilly (VD)'},\n",
       " {'Anzahl': 1,\n",
       "  'Firma': 'Café Studio GmbH',\n",
       "  'Jahr': '2018',\n",
       "  'Ort': 'Sargans (SG)'},\n",
       " {'Anzahl': 1,\n",
       "  'Firma': 'Chnusper-Becke AG',\n",
       "  'Jahr': '2019',\n",
       "  'Ort': 'Schönried (BE)'},\n",
       " {'Anzahl': 1,\n",
       "  'Firma': 'Bäckerei Zihlmann AG',\n",
       "  'Jahr': '2018',\n",
       "  'Ort': 'Schüpfheim (LU)'},\n",
       " {'Anzahl': 1,\n",
       "  'Firma': 'Marcel Schmid GmbH',\n",
       "  'Jahr': '2019',\n",
       "  'Ort': 'Sedrun (GR)'},\n",
       " {'Anzahl': 1,\n",
       "  'Firma': 'Willi Beck AG',\n",
       "  'Jahr': '2018',\n",
       "  'Ort': 'Sempach (LU)'},\n",
       " {'Anzahl': 1,\n",
       "  'Firma': 'Hans Dörig',\n",
       "  'Jahr': '2018',\n",
       "  'Ort': 'St. Gallen (SG)'},\n",
       " {'Anzahl': 1,\n",
       "  'Firma': 'Bäckerei-Konditorei BAD',\n",
       "  'Jahr': '2019',\n",
       "  'Ort': 'St. Moritz (GR)'},\n",
       " {'Anzahl': 1,\n",
       "  'Firma': 'Bäckerei-Confiserie Galli AG',\n",
       "  'Jahr': '2019',\n",
       "  'Ort': 'Steffisburg (BE)'},\n",
       " {'Anzahl': 1,\n",
       "  'Firma': 'Bäckerei-Konditorei-Confiserie Leiser',\n",
       "  'Jahr': '2018',\n",
       "  'Ort': 'Suhr (AG)'},\n",
       " {'Anzahl': 2, 'Firma': 'PHILIPONA SA', 'Jahr': '2018', 'Ort': 'Tenero (TI)'},\n",
       " {'Anzahl': 1,\n",
       "  'Firma': 'Bäckerei-Konditorei Café Brötie',\n",
       "  'Jahr': '2019',\n",
       "  'Ort': 'Thun (BE)'},\n",
       " {'Anzahl': 1,\n",
       "  'Firma': 'Stgier ScRL',\n",
       "  'Jahr': '2019',\n",
       "  'Ort': 'Tiefencastel (GR)'},\n",
       " {'Anzahl': 1, 'Firma': 'Hunger AG', 'Jahr': '2018', 'Ort': 'Triengen (LU)'},\n",
       " {'Anzahl': 1,\n",
       "  'Firma': 'Bäckerei-Konditorei Röthlisberger',\n",
       "  'Jahr': '2019',\n",
       "  'Ort': 'Wabern (BE)'},\n",
       " {'Anzahl': 1, 'Firma': \"Wehren's\", 'Jahr': '2018', 'Ort': 'Weggis (LU)'},\n",
       " {'Anzahl': 1,\n",
       "  'Firma': 'Bäckerei-Konditorei Gysi AG',\n",
       "  'Jahr': '2018',\n",
       "  'Ort': 'Zetzwil (AG)'},\n",
       " {'Anzahl': 1,\n",
       "  'Firma': 'Bernhard Näf',\n",
       "  'Jahr': '2018',\n",
       "  'Ort': 'Zuckenriet (SG)'}]"
      ]
     },
     "execution_count": 8,
     "metadata": {},
     "output_type": "execute_result"
    }
   ],
   "source": [
    "lehrstellen(\"https://www.berufsberatung.ch/dyn/show/2930?lang=de&Idx=100&OrderBy=1&Order=0&PostBackOrder=0&postBack=true&CountResult=43&Total_Idx=41&CounterSearch=3&UrlAjaxWebSearch=%2FLenaWeb%2FAjaxWebSearch&sw_=7673&LocName=&LocId=&Area=10\")"
   ]
  },
  {
   "cell_type": "markdown",
   "metadata": {},
   "source": [
    "Das Tolle daran, mit Funktionen zu arbeiten, ist, dass sie sich nun URLs anwenden lassen."
   ]
  },
  {
   "cell_type": "markdown",
   "metadata": {},
   "source": [
    "## Bauen wir alle URLs nach"
   ]
  },
  {
   "cell_type": "markdown",
   "metadata": {},
   "source": [
    "Schauen wir uns diese URLs genauer an, z.B. eine Suche nach Fleischfachmann im Kanton Zürich:\n",
    "https://www.berufsberatung.ch/dyn/show/2930?lang=de&Idx=200&OrderBy=1&Order=0&PostBackOrder=0&postBack=true&CountResult=100&Total_Idx=6&CounterSearch=18&UrlAjaxWebSearch=%2FLenaWeb%2FAjaxWebSearch&sw_=192&LocName=&LocId=&Area=10&cty_=26\n",
    "- Wir können die URL, wie wir das mit den APIs getan haben, folgendermassen aufsplitten: \"https://www.berufsberatung.ch/dyn/show/2930?lang=de&Idx=200&OrderBy=1&Order=0&PostBackOrder=0&postBack=true&CountResult=**100**\" Die Nummer 100 zeigt die maximale Anzahl Lehrstellen an, die gerade angezeigt werden.\n",
    "- Gehen wir weiter \"&Total_Idx=6&CounterSearch=18&UrlAjaxWebSearch=%2FLenaWeb%2FAjaxWebSearch&sw_=**192**\" Diese Nummer ist die ID des Berufs. \n",
    "- Und das Ende: \"&LocName=&LocId=&Area=10&cty_=**26**\" diese Nummer ist der Kanton. "
   ]
  },
  {
   "cell_type": "markdown",
   "metadata": {},
   "source": [
    "Die Kantonsnummer ist einfach. Sie zählt einfach von 1 bis 26. Schwieriger ist es mit der Nummer der Berufe. Sie müssen wir herausziehen. Wenn wir das können, dann können wir alle Links generieren. Ein Restrisiko bleibt: Gibt es Jobs, die Kantone mehr als 100 Angebote haben? Wir werden alle Ergebnisse also am Ende mit der Totalzahl von 15000+ abgleichen müssen."
   ]
  },
  {
   "cell_type": "markdown",
   "metadata": {},
   "source": [
    "## Bekommen wir die Nummern raus?"
   ]
  },
  {
   "cell_type": "code",
   "execution_count": 9,
   "metadata": {},
   "outputs": [
    {
     "data": {
      "text/plain": [
       "'453'"
      ]
     },
     "execution_count": 9,
     "metadata": {},
     "output_type": "execute_result"
    }
   ],
   "source": [
    "soup.find('ul',{'class':'ui-autocomplete full-list '}).find_all('a')[0]['data-id']"
   ]
  },
  {
   "cell_type": "code",
   "execution_count": 10,
   "metadata": {},
   "outputs": [
    {
     "data": {
      "text/plain": [
       "'Abdichter/in EFZ'"
      ]
     },
     "execution_count": 10,
     "metadata": {},
     "output_type": "execute_result"
    }
   ],
   "source": [
    "soup.find('ul',{'class':'ui-autocomplete full-list '}).find_all('a')[0]['data-value']"
   ]
  },
  {
   "cell_type": "code",
   "execution_count": 11,
   "metadata": {
    "collapsed": true
   },
   "outputs": [],
   "source": [
    "ids = []\n",
    "for elem in soup.find('ul',{'class':'ui-autocomplete full-list '}).find_all('a'):\n",
    "    ids.append(elem['data-id'])"
   ]
  },
  {
   "cell_type": "code",
   "execution_count": 12,
   "metadata": {},
   "outputs": [
    {
     "data": {
      "text/plain": [
       "541"
      ]
     },
     "execution_count": 12,
     "metadata": {},
     "output_type": "execute_result"
    }
   ],
   "source": [
    "len(ids)"
   ]
  },
  {
   "cell_type": "code",
   "execution_count": 13,
   "metadata": {
    "collapsed": true
   },
   "outputs": [],
   "source": [
    "str_ids = []\n",
    "for elem in ids:\n",
    "    elem =str(elem)\n",
    "    str_ids.append(elem)"
   ]
  },
  {
   "cell_type": "markdown",
   "metadata": {},
   "source": [
    "## Kantone"
   ]
  },
  {
   "cell_type": "code",
   "execution_count": 14,
   "metadata": {
    "collapsed": true
   },
   "outputs": [],
   "source": [
    "kantone = list(range(27))\n",
    "kantone = kantone[1:]\n",
    "k = []\n",
    "for elem in kantone:\n",
    "    elem = str(elem)\n",
    "    k.append(elem)"
   ]
  },
  {
   "cell_type": "markdown",
   "metadata": {},
   "source": [
    "## URLS Bauen"
   ]
  },
  {
   "cell_type": "code",
   "execution_count": 15,
   "metadata": {},
   "outputs": [
    {
     "data": {
      "text/plain": [
       "'https://www.berufsberatung.ch/dyn/show/2930?lang=de&Idx=200&OrderBy=1&Order=0&PostBackOrder=0&postBack=true&CountResult=100&Total_Idx=6&CounterSearch=18&UrlAjaxWebSearch=%2FLenaWeb%2FAjaxWebSearch&sw_=453&LocName=&LocId=&Area=10&cty_=1'"
      ]
     },
     "execution_count": 15,
     "metadata": {},
     "output_type": "execute_result"
    }
   ],
   "source": [
    "base = \"https://www.berufsberatung.ch/dyn/show/2930?lang=de&Idx=200&OrderBy=1&Order=0&PostBackOrder=0&postBack=true&CountResult=100&Total_Idx=6&CounterSearch=18&UrlAjaxWebSearch=%2FLenaWeb%2FAjaxWebSearch&sw_=\"\n",
    "base2 = \"&LocName=&LocId=&Area=10&cty_=\"\n",
    "base + str_ids[0] + base2 + str(kantone[0])"
   ]
  },
  {
   "cell_type": "code",
   "execution_count": 16,
   "metadata": {
    "collapsed": true
   },
   "outputs": [],
   "source": [
    "def lehrstellen(url):\n",
    "    \n",
    "    r = requests.get(url)\n",
    "    soup = BeautifulSoup(r.text, 'lxml')\n",
    "    try:\n",
    "        ortsliste = soup.find('div', {'class':'resultpart result-body'})\\\n",
    "                    .find_all('div', {'class':'display-table-cell table-col-3'})\n",
    "    \n",
    "        firmenliste = soup.find('div', {'class':'resultpart result-body'})\\\n",
    "                    .find_all('div', {'class':'display-table-cell bold company data-id table-col-1'})\n",
    "    \n",
    "        jahresliste = soup.find('div', {'class':'resultpart result-body'})\\\n",
    "                    .find_all('div', {'class':'display-table-cell float-left-for-sd table-col-4'})\n",
    "        \n",
    "        anzahlliste = soup.find('div', {'class':'resultpart result-body'})\\\n",
    "                    .find_all('div', {'class':'display-table-cell text-align-center float-left-for-sd table-col-5'})\n",
    "    \n",
    "        lehrstelle = soup.find('ul',{'class':'ui-autocomplete full-list '})\\\n",
    "                    .find_all('a')\n",
    "        lst = []\n",
    "    \n",
    "        for ort, firma, jahr, anzahl,lehr in zip(ortsliste,firmenliste,jahresliste, anzahlliste,lehrstelle):\n",
    "        \n",
    "            mini_dict = {'Ort':ort.text,\n",
    "                     'Firma':firma.text,\n",
    "                     'Jahr':jahr.text,\n",
    "                     'Anzahl':int(anzahl.text.replace(' Lehrstelle(n)\\n','').replace('\\n','')),\n",
    "                     'Lehrstelle':lehr['data-value']}\n",
    "            lst.append(mini_dict)\n",
    "    \n",
    "        return lst\n",
    "    \n",
    "    except:\n",
    "        return [{'Ort':'Keine Treffer',\n",
    "                'Firma':'Keine Treffer',\n",
    "                'Jahr':'Keine Treffer',\n",
    "                'Anzahl':'Keine Treffer'}]"
   ]
  },
  {
   "cell_type": "code",
   "execution_count": 17,
   "metadata": {
    "scrolled": true
   },
   "outputs": [
    {
     "name": "stdout",
     "output_type": "stream",
     "text": [
      "https://www.berufsberatung.ch/dyn/show/2930?lang=de&Idx=200&OrderBy=1&Order=0&PostBackOrder=0&postBack=true&CountResult=100&Total_Idx=6&CounterSearch=18&UrlAjaxWebSearch=%2FLenaWeb%2FAjaxWebSearch&sw_=453&LocName=&LocId=&Area=10&cty_=\n",
      "https://www.berufsberatung.ch/dyn/show/2930?lang=de&Idx=200&OrderBy=1&Order=0&PostBackOrder=0&postBack=true&CountResult=100&Total_Idx=6&CounterSearch=18&UrlAjaxWebSearch=%2FLenaWeb%2FAjaxWebSearch&sw_=452&LocName=&LocId=&Area=10&cty_=\n",
      "https://www.berufsberatung.ch/dyn/show/2930?lang=de&Idx=200&OrderBy=1&Order=0&PostBackOrder=0&postBack=true&CountResult=100&Total_Idx=6&CounterSearch=18&UrlAjaxWebSearch=%2FLenaWeb%2FAjaxWebSearch&sw_=55&LocName=&LocId=&Area=10&cty_=\n",
      "https://www.berufsberatung.ch/dyn/show/2930?lang=de&Idx=200&OrderBy=1&Order=0&PostBackOrder=0&postBack=true&CountResult=100&Total_Idx=6&CounterSearch=18&UrlAjaxWebSearch=%2FLenaWeb%2FAjaxWebSearch&sw_=7617&LocName=&LocId=&Area=10&cty_=\n",
      "https://www.berufsberatung.ch/dyn/show/2930?lang=de&Idx=200&OrderBy=1&Order=0&PostBackOrder=0&postBack=true&CountResult=100&Total_Idx=6&CounterSearch=18&UrlAjaxWebSearch=%2FLenaWeb%2FAjaxWebSearch&sw_=7618&LocName=&LocId=&Area=10&cty_=\n",
      "https://www.berufsberatung.ch/dyn/show/2930?lang=de&Idx=200&OrderBy=1&Order=0&PostBackOrder=0&postBack=true&CountResult=100&Total_Idx=6&CounterSearch=18&UrlAjaxWebSearch=%2FLenaWeb%2FAjaxWebSearch&sw_=7619&LocName=&LocId=&Area=10&cty_=\n",
      "https://www.berufsberatung.ch/dyn/show/2930?lang=de&Idx=200&OrderBy=1&Order=0&PostBackOrder=0&postBack=true&CountResult=100&Total_Idx=6&CounterSearch=18&UrlAjaxWebSearch=%2FLenaWeb%2FAjaxWebSearch&sw_=902&LocName=&LocId=&Area=10&cty_=\n",
      "https://www.berufsberatung.ch/dyn/show/2930?lang=de&Idx=200&OrderBy=1&Order=0&PostBackOrder=0&postBack=true&CountResult=100&Total_Idx=6&CounterSearch=18&UrlAjaxWebSearch=%2FLenaWeb%2FAjaxWebSearch&sw_=11320&LocName=&LocId=&Area=10&cty_=\n",
      "https://www.berufsberatung.ch/dyn/show/2930?lang=de&Idx=200&OrderBy=1&Order=0&PostBackOrder=0&postBack=true&CountResult=100&Total_Idx=6&CounterSearch=18&UrlAjaxWebSearch=%2FLenaWeb%2FAjaxWebSearch&sw_=413&LocName=&LocId=&Area=10&cty_=\n",
      "https://www.berufsberatung.ch/dyn/show/2930?lang=de&Idx=200&OrderBy=1&Order=0&PostBackOrder=0&postBack=true&CountResult=100&Total_Idx=6&CounterSearch=18&UrlAjaxWebSearch=%2FLenaWeb%2FAjaxWebSearch&sw_=8082&LocName=&LocId=&Area=10&cty_=\n",
      "https://www.berufsberatung.ch/dyn/show/2930?lang=de&Idx=200&OrderBy=1&Order=0&PostBackOrder=0&postBack=true&CountResult=100&Total_Idx=6&CounterSearch=18&UrlAjaxWebSearch=%2FLenaWeb%2FAjaxWebSearch&sw_=1978&LocName=&LocId=&Area=10&cty_=\n",
      "https://www.berufsberatung.ch/dyn/show/2930?lang=de&Idx=200&OrderBy=1&Order=0&PostBackOrder=0&postBack=true&CountResult=100&Total_Idx=6&CounterSearch=18&UrlAjaxWebSearch=%2FLenaWeb%2FAjaxWebSearch&sw_=946&LocName=&LocId=&Area=10&cty_=\n",
      "https://www.berufsberatung.ch/dyn/show/2930?lang=de&Idx=200&OrderBy=1&Order=0&PostBackOrder=0&postBack=true&CountResult=100&Total_Idx=6&CounterSearch=18&UrlAjaxWebSearch=%2FLenaWeb%2FAjaxWebSearch&sw_=982&LocName=&LocId=&Area=10&cty_=\n",
      "https://www.berufsberatung.ch/dyn/show/2930?lang=de&Idx=200&OrderBy=1&Order=0&PostBackOrder=0&postBack=true&CountResult=100&Total_Idx=6&CounterSearch=18&UrlAjaxWebSearch=%2FLenaWeb%2FAjaxWebSearch&sw_=1135&LocName=&LocId=&Area=10&cty_=\n",
      "https://www.berufsberatung.ch/dyn/show/2930?lang=de&Idx=200&OrderBy=1&Order=0&PostBackOrder=0&postBack=true&CountResult=100&Total_Idx=6&CounterSearch=18&UrlAjaxWebSearch=%2FLenaWeb%2FAjaxWebSearch&sw_=1130&LocName=&LocId=&Area=10&cty_=\n",
      "https://www.berufsberatung.ch/dyn/show/2930?lang=de&Idx=200&OrderBy=1&Order=0&PostBackOrder=0&postBack=true&CountResult=100&Total_Idx=6&CounterSearch=18&UrlAjaxWebSearch=%2FLenaWeb%2FAjaxWebSearch&sw_=1132&LocName=&LocId=&Area=10&cty_=\n",
      "https://www.berufsberatung.ch/dyn/show/2930?lang=de&Idx=200&OrderBy=1&Order=0&PostBackOrder=0&postBack=true&CountResult=100&Total_Idx=6&CounterSearch=18&UrlAjaxWebSearch=%2FLenaWeb%2FAjaxWebSearch&sw_=1131&LocName=&LocId=&Area=10&cty_=\n",
      "https://www.berufsberatung.ch/dyn/show/2930?lang=de&Idx=200&OrderBy=1&Order=0&PostBackOrder=0&postBack=true&CountResult=100&Total_Idx=6&CounterSearch=18&UrlAjaxWebSearch=%2FLenaWeb%2FAjaxWebSearch&sw_=1123&LocName=&LocId=&Area=10&cty_=\n",
      "https://www.berufsberatung.ch/dyn/show/2930?lang=de&Idx=200&OrderBy=1&Order=0&PostBackOrder=0&postBack=true&CountResult=100&Total_Idx=6&CounterSearch=18&UrlAjaxWebSearch=%2FLenaWeb%2FAjaxWebSearch&sw_=1125&LocName=&LocId=&Area=10&cty_=\n",
      "https://www.berufsberatung.ch/dyn/show/2930?lang=de&Idx=200&OrderBy=1&Order=0&PostBackOrder=0&postBack=true&CountResult=100&Total_Idx=6&CounterSearch=18&UrlAjaxWebSearch=%2FLenaWeb%2FAjaxWebSearch&sw_=1124&LocName=&LocId=&Area=10&cty_=\n",
      "https://www.berufsberatung.ch/dyn/show/2930?lang=de&Idx=200&OrderBy=1&Order=0&PostBackOrder=0&postBack=true&CountResult=100&Total_Idx=6&CounterSearch=18&UrlAjaxWebSearch=%2FLenaWeb%2FAjaxWebSearch&sw_=7673&LocName=&LocId=&Area=10&cty_=\n",
      "https://www.berufsberatung.ch/dyn/show/2930?lang=de&Idx=200&OrderBy=1&Order=0&PostBackOrder=0&postBack=true&CountResult=100&Total_Idx=6&CounterSearch=18&UrlAjaxWebSearch=%2FLenaWeb%2FAjaxWebSearch&sw_=217&LocName=&LocId=&Area=10&cty_=\n",
      "https://www.berufsberatung.ch/dyn/show/2930?lang=de&Idx=200&OrderBy=1&Order=0&PostBackOrder=0&postBack=true&CountResult=100&Total_Idx=6&CounterSearch=18&UrlAjaxWebSearch=%2FLenaWeb%2FAjaxWebSearch&sw_=8212&LocName=&LocId=&Area=10&cty_=\n",
      "https://www.berufsberatung.ch/dyn/show/2930?lang=de&Idx=200&OrderBy=1&Order=0&PostBackOrder=0&postBack=true&CountResult=100&Total_Idx=6&CounterSearch=18&UrlAjaxWebSearch=%2FLenaWeb%2FAjaxWebSearch&sw_=8213&LocName=&LocId=&Area=10&cty_=\n",
      "https://www.berufsberatung.ch/dyn/show/2930?lang=de&Idx=200&OrderBy=1&Order=0&PostBackOrder=0&postBack=true&CountResult=100&Total_Idx=6&CounterSearch=18&UrlAjaxWebSearch=%2FLenaWeb%2FAjaxWebSearch&sw_=1074&LocName=&LocId=&Area=10&cty_=\n",
      "https://www.berufsberatung.ch/dyn/show/2930?lang=de&Idx=200&OrderBy=1&Order=0&PostBackOrder=0&postBack=true&CountResult=100&Total_Idx=6&CounterSearch=18&UrlAjaxWebSearch=%2FLenaWeb%2FAjaxWebSearch&sw_=7659&LocName=&LocId=&Area=10&cty_=\n",
      "https://www.berufsberatung.ch/dyn/show/2930?lang=de&Idx=200&OrderBy=1&Order=0&PostBackOrder=0&postBack=true&CountResult=100&Total_Idx=6&CounterSearch=18&UrlAjaxWebSearch=%2FLenaWeb%2FAjaxWebSearch&sw_=442&LocName=&LocId=&Area=10&cty_=\n",
      "https://www.berufsberatung.ch/dyn/show/2930?lang=de&Idx=200&OrderBy=1&Order=0&PostBackOrder=0&postBack=true&CountResult=100&Total_Idx=6&CounterSearch=18&UrlAjaxWebSearch=%2FLenaWeb%2FAjaxWebSearch&sw_=323&LocName=&LocId=&Area=10&cty_=\n",
      "https://www.berufsberatung.ch/dyn/show/2930?lang=de&Idx=200&OrderBy=1&Order=0&PostBackOrder=0&postBack=true&CountResult=100&Total_Idx=6&CounterSearch=18&UrlAjaxWebSearch=%2FLenaWeb%2FAjaxWebSearch&sw_=11208&LocName=&LocId=&Area=10&cty_=\n",
      "https://www.berufsberatung.ch/dyn/show/2930?lang=de&Idx=200&OrderBy=1&Order=0&PostBackOrder=0&postBack=true&CountResult=100&Total_Idx=6&CounterSearch=18&UrlAjaxWebSearch=%2FLenaWeb%2FAjaxWebSearch&sw_=11204&LocName=&LocId=&Area=10&cty_=\n",
      "https://www.berufsberatung.ch/dyn/show/2930?lang=de&Idx=200&OrderBy=1&Order=0&PostBackOrder=0&postBack=true&CountResult=100&Total_Idx=6&CounterSearch=18&UrlAjaxWebSearch=%2FLenaWeb%2FAjaxWebSearch&sw_=11205&LocName=&LocId=&Area=10&cty_=\n",
      "https://www.berufsberatung.ch/dyn/show/2930?lang=de&Idx=200&OrderBy=1&Order=0&PostBackOrder=0&postBack=true&CountResult=100&Total_Idx=6&CounterSearch=18&UrlAjaxWebSearch=%2FLenaWeb%2FAjaxWebSearch&sw_=11207&LocName=&LocId=&Area=10&cty_=\n",
      "https://www.berufsberatung.ch/dyn/show/2930?lang=de&Idx=200&OrderBy=1&Order=0&PostBackOrder=0&postBack=true&CountResult=100&Total_Idx=6&CounterSearch=18&UrlAjaxWebSearch=%2FLenaWeb%2FAjaxWebSearch&sw_=11206&LocName=&LocId=&Area=10&cty_=\n",
      "https://www.berufsberatung.ch/dyn/show/2930?lang=de&Idx=200&OrderBy=1&Order=0&PostBackOrder=0&postBack=true&CountResult=100&Total_Idx=6&CounterSearch=18&UrlAjaxWebSearch=%2FLenaWeb%2FAjaxWebSearch&sw_=9663&LocName=&LocId=&Area=10&cty_=\n",
      "https://www.berufsberatung.ch/dyn/show/2930?lang=de&Idx=200&OrderBy=1&Order=0&PostBackOrder=0&postBack=true&CountResult=100&Total_Idx=6&CounterSearch=18&UrlAjaxWebSearch=%2FLenaWeb%2FAjaxWebSearch&sw_=5&LocName=&LocId=&Area=10&cty_=\n"
     ]
    },
    {
     "name": "stdout",
     "output_type": "stream",
     "text": [
      "https://www.berufsberatung.ch/dyn/show/2930?lang=de&Idx=200&OrderBy=1&Order=0&PostBackOrder=0&postBack=true&CountResult=100&Total_Idx=6&CounterSearch=18&UrlAjaxWebSearch=%2FLenaWeb%2FAjaxWebSearch&sw_=592&LocName=&LocId=&Area=10&cty_=\n",
      "https://www.berufsberatung.ch/dyn/show/2930?lang=de&Idx=200&OrderBy=1&Order=0&PostBackOrder=0&postBack=true&CountResult=100&Total_Idx=6&CounterSearch=18&UrlAjaxWebSearch=%2FLenaWeb%2FAjaxWebSearch&sw_=595&LocName=&LocId=&Area=10&cty_=\n",
      "https://www.berufsberatung.ch/dyn/show/2930?lang=de&Idx=200&OrderBy=1&Order=0&PostBackOrder=0&postBack=true&CountResult=100&Total_Idx=6&CounterSearch=18&UrlAjaxWebSearch=%2FLenaWeb%2FAjaxWebSearch&sw_=594&LocName=&LocId=&Area=10&cty_=\n",
      "https://www.berufsberatung.ch/dyn/show/2930?lang=de&Idx=200&OrderBy=1&Order=0&PostBackOrder=0&postBack=true&CountResult=100&Total_Idx=6&CounterSearch=18&UrlAjaxWebSearch=%2FLenaWeb%2FAjaxWebSearch&sw_=11278&LocName=&LocId=&Area=10&cty_=\n",
      "https://www.berufsberatung.ch/dyn/show/2930?lang=de&Idx=200&OrderBy=1&Order=0&PostBackOrder=0&postBack=true&CountResult=100&Total_Idx=6&CounterSearch=18&UrlAjaxWebSearch=%2FLenaWeb%2FAjaxWebSearch&sw_=11280&LocName=&LocId=&Area=10&cty_=\n",
      "https://www.berufsberatung.ch/dyn/show/2930?lang=de&Idx=200&OrderBy=1&Order=0&PostBackOrder=0&postBack=true&CountResult=100&Total_Idx=6&CounterSearch=18&UrlAjaxWebSearch=%2FLenaWeb%2FAjaxWebSearch&sw_=1298&LocName=&LocId=&Area=10&cty_=\n",
      "https://www.berufsberatung.ch/dyn/show/2930?lang=de&Idx=200&OrderBy=1&Order=0&PostBackOrder=0&postBack=true&CountResult=100&Total_Idx=6&CounterSearch=18&UrlAjaxWebSearch=%2FLenaWeb%2FAjaxWebSearch&sw_=1149&LocName=&LocId=&Area=10&cty_=\n",
      "https://www.berufsberatung.ch/dyn/show/2930?lang=de&Idx=200&OrderBy=1&Order=0&PostBackOrder=0&postBack=true&CountResult=100&Total_Idx=6&CounterSearch=18&UrlAjaxWebSearch=%2FLenaWeb%2FAjaxWebSearch&sw_=2459&LocName=&LocId=&Area=10&cty_=\n",
      "https://www.berufsberatung.ch/dyn/show/2930?lang=de&Idx=200&OrderBy=1&Order=0&PostBackOrder=0&postBack=true&CountResult=100&Total_Idx=6&CounterSearch=18&UrlAjaxWebSearch=%2FLenaWeb%2FAjaxWebSearch&sw_=7048&LocName=&LocId=&Area=10&cty_=\n",
      "https://www.berufsberatung.ch/dyn/show/2930?lang=de&Idx=200&OrderBy=1&Order=0&PostBackOrder=0&postBack=true&CountResult=100&Total_Idx=6&CounterSearch=18&UrlAjaxWebSearch=%2FLenaWeb%2FAjaxWebSearch&sw_=7047&LocName=&LocId=&Area=10&cty_=\n",
      "https://www.berufsberatung.ch/dyn/show/2930?lang=de&Idx=200&OrderBy=1&Order=0&PostBackOrder=0&postBack=true&CountResult=100&Total_Idx=6&CounterSearch=18&UrlAjaxWebSearch=%2FLenaWeb%2FAjaxWebSearch&sw_=1253&LocName=&LocId=&Area=10&cty_=\n",
      "https://www.berufsberatung.ch/dyn/show/2930?lang=de&Idx=200&OrderBy=1&Order=0&PostBackOrder=0&postBack=true&CountResult=100&Total_Idx=6&CounterSearch=18&UrlAjaxWebSearch=%2FLenaWeb%2FAjaxWebSearch&sw_=1097&LocName=&LocId=&Area=10&cty_=\n",
      "https://www.berufsberatung.ch/dyn/show/2930?lang=de&Idx=200&OrderBy=1&Order=0&PostBackOrder=0&postBack=true&CountResult=100&Total_Idx=6&CounterSearch=18&UrlAjaxWebSearch=%2FLenaWeb%2FAjaxWebSearch&sw_=1079&LocName=&LocId=&Area=10&cty_=\n",
      "https://www.berufsberatung.ch/dyn/show/2930?lang=de&Idx=200&OrderBy=1&Order=0&PostBackOrder=0&postBack=true&CountResult=100&Total_Idx=6&CounterSearch=18&UrlAjaxWebSearch=%2FLenaWeb%2FAjaxWebSearch&sw_=11639&LocName=&LocId=&Area=10&cty_=\n",
      "https://www.berufsberatung.ch/dyn/show/2930?lang=de&Idx=200&OrderBy=1&Order=0&PostBackOrder=0&postBack=true&CountResult=100&Total_Idx=6&CounterSearch=18&UrlAjaxWebSearch=%2FLenaWeb%2FAjaxWebSearch&sw_=7054&LocName=&LocId=&Area=10&cty_=\n",
      "https://www.berufsberatung.ch/dyn/show/2930?lang=de&Idx=200&OrderBy=1&Order=0&PostBackOrder=0&postBack=true&CountResult=100&Total_Idx=6&CounterSearch=18&UrlAjaxWebSearch=%2FLenaWeb%2FAjaxWebSearch&sw_=8038&LocName=&LocId=&Area=10&cty_=\n",
      "https://www.berufsberatung.ch/dyn/show/2930?lang=de&Idx=200&OrderBy=1&Order=0&PostBackOrder=0&postBack=true&CountResult=100&Total_Idx=6&CounterSearch=18&UrlAjaxWebSearch=%2FLenaWeb%2FAjaxWebSearch&sw_=373&LocName=&LocId=&Area=10&cty_=\n",
      "https://www.berufsberatung.ch/dyn/show/2930?lang=de&Idx=200&OrderBy=1&Order=0&PostBackOrder=0&postBack=true&CountResult=100&Total_Idx=6&CounterSearch=18&UrlAjaxWebSearch=%2FLenaWeb%2FAjaxWebSearch&sw_=11451&LocName=&LocId=&Area=10&cty_=\n",
      "https://www.berufsberatung.ch/dyn/show/2930?lang=de&Idx=200&OrderBy=1&Order=0&PostBackOrder=0&postBack=true&CountResult=100&Total_Idx=6&CounterSearch=18&UrlAjaxWebSearch=%2FLenaWeb%2FAjaxWebSearch&sw_=11443&LocName=&LocId=&Area=10&cty_=\n",
      "https://www.berufsberatung.ch/dyn/show/2930?lang=de&Idx=200&OrderBy=1&Order=0&PostBackOrder=0&postBack=true&CountResult=100&Total_Idx=6&CounterSearch=18&UrlAjaxWebSearch=%2FLenaWeb%2FAjaxWebSearch&sw_=7672&LocName=&LocId=&Area=10&cty_=\n",
      "https://www.berufsberatung.ch/dyn/show/2930?lang=de&Idx=200&OrderBy=1&Order=0&PostBackOrder=0&postBack=true&CountResult=100&Total_Idx=6&CounterSearch=18&UrlAjaxWebSearch=%2FLenaWeb%2FAjaxWebSearch&sw_=1981&LocName=&LocId=&Area=10&cty_=\n",
      "https://www.berufsberatung.ch/dyn/show/2930?lang=de&Idx=200&OrderBy=1&Order=0&PostBackOrder=0&postBack=true&CountResult=100&Total_Idx=6&CounterSearch=18&UrlAjaxWebSearch=%2FLenaWeb%2FAjaxWebSearch&sw_=1351&LocName=&LocId=&Area=10&cty_=\n",
      "https://www.berufsberatung.ch/dyn/show/2930?lang=de&Idx=200&OrderBy=1&Order=0&PostBackOrder=0&postBack=true&CountResult=100&Total_Idx=6&CounterSearch=18&UrlAjaxWebSearch=%2FLenaWeb%2FAjaxWebSearch&sw_=1363&LocName=&LocId=&Area=10&cty_=\n",
      "https://www.berufsberatung.ch/dyn/show/2930?lang=de&Idx=200&OrderBy=1&Order=0&PostBackOrder=0&postBack=true&CountResult=100&Total_Idx=6&CounterSearch=18&UrlAjaxWebSearch=%2FLenaWeb%2FAjaxWebSearch&sw_=1354&LocName=&LocId=&Area=10&cty_=\n",
      "https://www.berufsberatung.ch/dyn/show/2930?lang=de&Idx=200&OrderBy=1&Order=0&PostBackOrder=0&postBack=true&CountResult=100&Total_Idx=6&CounterSearch=18&UrlAjaxWebSearch=%2FLenaWeb%2FAjaxWebSearch&sw_=1379&LocName=&LocId=&Area=10&cty_=\n",
      "https://www.berufsberatung.ch/dyn/show/2930?lang=de&Idx=200&OrderBy=1&Order=0&PostBackOrder=0&postBack=true&CountResult=100&Total_Idx=6&CounterSearch=18&UrlAjaxWebSearch=%2FLenaWeb%2FAjaxWebSearch&sw_=1373&LocName=&LocId=&Area=10&cty_=\n",
      "https://www.berufsberatung.ch/dyn/show/2930?lang=de&Idx=200&OrderBy=1&Order=0&PostBackOrder=0&postBack=true&CountResult=100&Total_Idx=6&CounterSearch=18&UrlAjaxWebSearch=%2FLenaWeb%2FAjaxWebSearch&sw_=1362&LocName=&LocId=&Area=10&cty_=\n",
      "https://www.berufsberatung.ch/dyn/show/2930?lang=de&Idx=200&OrderBy=1&Order=0&PostBackOrder=0&postBack=true&CountResult=100&Total_Idx=6&CounterSearch=18&UrlAjaxWebSearch=%2FLenaWeb%2FAjaxWebSearch&sw_=1375&LocName=&LocId=&Area=10&cty_=\n",
      "https://www.berufsberatung.ch/dyn/show/2930?lang=de&Idx=200&OrderBy=1&Order=0&PostBackOrder=0&postBack=true&CountResult=100&Total_Idx=6&CounterSearch=18&UrlAjaxWebSearch=%2FLenaWeb%2FAjaxWebSearch&sw_=1378&LocName=&LocId=&Area=10&cty_=\n",
      "https://www.berufsberatung.ch/dyn/show/2930?lang=de&Idx=200&OrderBy=1&Order=0&PostBackOrder=0&postBack=true&CountResult=100&Total_Idx=6&CounterSearch=18&UrlAjaxWebSearch=%2FLenaWeb%2FAjaxWebSearch&sw_=1355&LocName=&LocId=&Area=10&cty_=\n",
      "https://www.berufsberatung.ch/dyn/show/2930?lang=de&Idx=200&OrderBy=1&Order=0&PostBackOrder=0&postBack=true&CountResult=100&Total_Idx=6&CounterSearch=18&UrlAjaxWebSearch=%2FLenaWeb%2FAjaxWebSearch&sw_=1368&LocName=&LocId=&Area=10&cty_=\n",
      "https://www.berufsberatung.ch/dyn/show/2930?lang=de&Idx=200&OrderBy=1&Order=0&PostBackOrder=0&postBack=true&CountResult=100&Total_Idx=6&CounterSearch=18&UrlAjaxWebSearch=%2FLenaWeb%2FAjaxWebSearch&sw_=1369&LocName=&LocId=&Area=10&cty_=\n",
      "https://www.berufsberatung.ch/dyn/show/2930?lang=de&Idx=200&OrderBy=1&Order=0&PostBackOrder=0&postBack=true&CountResult=100&Total_Idx=6&CounterSearch=18&UrlAjaxWebSearch=%2FLenaWeb%2FAjaxWebSearch&sw_=1374&LocName=&LocId=&Area=10&cty_=\n",
      "https://www.berufsberatung.ch/dyn/show/2930?lang=de&Idx=200&OrderBy=1&Order=0&PostBackOrder=0&postBack=true&CountResult=100&Total_Idx=6&CounterSearch=18&UrlAjaxWebSearch=%2FLenaWeb%2FAjaxWebSearch&sw_=1356&LocName=&LocId=&Area=10&cty_=\n",
      "https://www.berufsberatung.ch/dyn/show/2930?lang=de&Idx=200&OrderBy=1&Order=0&PostBackOrder=0&postBack=true&CountResult=100&Total_Idx=6&CounterSearch=18&UrlAjaxWebSearch=%2FLenaWeb%2FAjaxWebSearch&sw_=1370&LocName=&LocId=&Area=10&cty_=\n"
     ]
    },
    {
     "name": "stdout",
     "output_type": "stream",
     "text": [
      "https://www.berufsberatung.ch/dyn/show/2930?lang=de&Idx=200&OrderBy=1&Order=0&PostBackOrder=0&postBack=true&CountResult=100&Total_Idx=6&CounterSearch=18&UrlAjaxWebSearch=%2FLenaWeb%2FAjaxWebSearch&sw_=1361&LocName=&LocId=&Area=10&cty_=\n",
      "https://www.berufsberatung.ch/dyn/show/2930?lang=de&Idx=200&OrderBy=1&Order=0&PostBackOrder=0&postBack=true&CountResult=100&Total_Idx=6&CounterSearch=18&UrlAjaxWebSearch=%2FLenaWeb%2FAjaxWebSearch&sw_=1372&LocName=&LocId=&Area=10&cty_=\n",
      "https://www.berufsberatung.ch/dyn/show/2930?lang=de&Idx=200&OrderBy=1&Order=0&PostBackOrder=0&postBack=true&CountResult=100&Total_Idx=6&CounterSearch=18&UrlAjaxWebSearch=%2FLenaWeb%2FAjaxWebSearch&sw_=1364&LocName=&LocId=&Area=10&cty_=\n",
      "https://www.berufsberatung.ch/dyn/show/2930?lang=de&Idx=200&OrderBy=1&Order=0&PostBackOrder=0&postBack=true&CountResult=100&Total_Idx=6&CounterSearch=18&UrlAjaxWebSearch=%2FLenaWeb%2FAjaxWebSearch&sw_=1353&LocName=&LocId=&Area=10&cty_=\n",
      "https://www.berufsberatung.ch/dyn/show/2930?lang=de&Idx=200&OrderBy=1&Order=0&PostBackOrder=0&postBack=true&CountResult=100&Total_Idx=6&CounterSearch=18&UrlAjaxWebSearch=%2FLenaWeb%2FAjaxWebSearch&sw_=11396&LocName=&LocId=&Area=10&cty_=\n",
      "https://www.berufsberatung.ch/dyn/show/2930?lang=de&Idx=200&OrderBy=1&Order=0&PostBackOrder=0&postBack=true&CountResult=100&Total_Idx=6&CounterSearch=18&UrlAjaxWebSearch=%2FLenaWeb%2FAjaxWebSearch&sw_=1366&LocName=&LocId=&Area=10&cty_=\n",
      "https://www.berufsberatung.ch/dyn/show/2930?lang=de&Idx=200&OrderBy=1&Order=0&PostBackOrder=0&postBack=true&CountResult=100&Total_Idx=6&CounterSearch=18&UrlAjaxWebSearch=%2FLenaWeb%2FAjaxWebSearch&sw_=1360&LocName=&LocId=&Area=10&cty_=\n",
      "https://www.berufsberatung.ch/dyn/show/2930?lang=de&Idx=200&OrderBy=1&Order=0&PostBackOrder=0&postBack=true&CountResult=100&Total_Idx=6&CounterSearch=18&UrlAjaxWebSearch=%2FLenaWeb%2FAjaxWebSearch&sw_=1352&LocName=&LocId=&Area=10&cty_=\n",
      "https://www.berufsberatung.ch/dyn/show/2930?lang=de&Idx=200&OrderBy=1&Order=0&PostBackOrder=0&postBack=true&CountResult=100&Total_Idx=6&CounterSearch=18&UrlAjaxWebSearch=%2FLenaWeb%2FAjaxWebSearch&sw_=1358&LocName=&LocId=&Area=10&cty_=\n",
      "https://www.berufsberatung.ch/dyn/show/2930?lang=de&Idx=200&OrderBy=1&Order=0&PostBackOrder=0&postBack=true&CountResult=100&Total_Idx=6&CounterSearch=18&UrlAjaxWebSearch=%2FLenaWeb%2FAjaxWebSearch&sw_=1367&LocName=&LocId=&Area=10&cty_=\n",
      "https://www.berufsberatung.ch/dyn/show/2930?lang=de&Idx=200&OrderBy=1&Order=0&PostBackOrder=0&postBack=true&CountResult=100&Total_Idx=6&CounterSearch=18&UrlAjaxWebSearch=%2FLenaWeb%2FAjaxWebSearch&sw_=1359&LocName=&LocId=&Area=10&cty_=\n",
      "https://www.berufsberatung.ch/dyn/show/2930?lang=de&Idx=200&OrderBy=1&Order=0&PostBackOrder=0&postBack=true&CountResult=100&Total_Idx=6&CounterSearch=18&UrlAjaxWebSearch=%2FLenaWeb%2FAjaxWebSearch&sw_=1377&LocName=&LocId=&Area=10&cty_=\n",
      "https://www.berufsberatung.ch/dyn/show/2930?lang=de&Idx=200&OrderBy=1&Order=0&PostBackOrder=0&postBack=true&CountResult=100&Total_Idx=6&CounterSearch=18&UrlAjaxWebSearch=%2FLenaWeb%2FAjaxWebSearch&sw_=1357&LocName=&LocId=&Area=10&cty_=\n",
      "https://www.berufsberatung.ch/dyn/show/2930?lang=de&Idx=200&OrderBy=1&Order=0&PostBackOrder=0&postBack=true&CountResult=100&Total_Idx=6&CounterSearch=18&UrlAjaxWebSearch=%2FLenaWeb%2FAjaxWebSearch&sw_=1376&LocName=&LocId=&Area=10&cty_=\n",
      "https://www.berufsberatung.ch/dyn/show/2930?lang=de&Idx=200&OrderBy=1&Order=0&PostBackOrder=0&postBack=true&CountResult=100&Total_Idx=6&CounterSearch=18&UrlAjaxWebSearch=%2FLenaWeb%2FAjaxWebSearch&sw_=1371&LocName=&LocId=&Area=10&cty_=\n",
      "https://www.berufsberatung.ch/dyn/show/2930?lang=de&Idx=200&OrderBy=1&Order=0&PostBackOrder=0&postBack=true&CountResult=100&Total_Idx=6&CounterSearch=18&UrlAjaxWebSearch=%2FLenaWeb%2FAjaxWebSearch&sw_=1380&LocName=&LocId=&Area=10&cty_=\n",
      "https://www.berufsberatung.ch/dyn/show/2930?lang=de&Idx=200&OrderBy=1&Order=0&PostBackOrder=0&postBack=true&CountResult=100&Total_Idx=6&CounterSearch=18&UrlAjaxWebSearch=%2FLenaWeb%2FAjaxWebSearch&sw_=1393&LocName=&LocId=&Area=10&cty_=\n",
      "https://www.berufsberatung.ch/dyn/show/2930?lang=de&Idx=200&OrderBy=1&Order=0&PostBackOrder=0&postBack=true&CountResult=100&Total_Idx=6&CounterSearch=18&UrlAjaxWebSearch=%2FLenaWeb%2FAjaxWebSearch&sw_=1382&LocName=&LocId=&Area=10&cty_=\n",
      "https://www.berufsberatung.ch/dyn/show/2930?lang=de&Idx=200&OrderBy=1&Order=0&PostBackOrder=0&postBack=true&CountResult=100&Total_Idx=6&CounterSearch=18&UrlAjaxWebSearch=%2FLenaWeb%2FAjaxWebSearch&sw_=1410&LocName=&LocId=&Area=10&cty_=\n",
      "https://www.berufsberatung.ch/dyn/show/2930?lang=de&Idx=200&OrderBy=1&Order=0&PostBackOrder=0&postBack=true&CountResult=100&Total_Idx=6&CounterSearch=18&UrlAjaxWebSearch=%2FLenaWeb%2FAjaxWebSearch&sw_=1392&LocName=&LocId=&Area=10&cty_=\n",
      "https://www.berufsberatung.ch/dyn/show/2930?lang=de&Idx=200&OrderBy=1&Order=0&PostBackOrder=0&postBack=true&CountResult=100&Total_Idx=6&CounterSearch=18&UrlAjaxWebSearch=%2FLenaWeb%2FAjaxWebSearch&sw_=1381&LocName=&LocId=&Area=10&cty_=\n",
      "https://www.berufsberatung.ch/dyn/show/2930?lang=de&Idx=200&OrderBy=1&Order=0&PostBackOrder=0&postBack=true&CountResult=100&Total_Idx=6&CounterSearch=18&UrlAjaxWebSearch=%2FLenaWeb%2FAjaxWebSearch&sw_=1403&LocName=&LocId=&Area=10&cty_=\n",
      "https://www.berufsberatung.ch/dyn/show/2930?lang=de&Idx=200&OrderBy=1&Order=0&PostBackOrder=0&postBack=true&CountResult=100&Total_Idx=6&CounterSearch=18&UrlAjaxWebSearch=%2FLenaWeb%2FAjaxWebSearch&sw_=1409&LocName=&LocId=&Area=10&cty_=\n",
      "https://www.berufsberatung.ch/dyn/show/2930?lang=de&Idx=200&OrderBy=1&Order=0&PostBackOrder=0&postBack=true&CountResult=100&Total_Idx=6&CounterSearch=18&UrlAjaxWebSearch=%2FLenaWeb%2FAjaxWebSearch&sw_=1384&LocName=&LocId=&Area=10&cty_=\n",
      "https://www.berufsberatung.ch/dyn/show/2930?lang=de&Idx=200&OrderBy=1&Order=0&PostBackOrder=0&postBack=true&CountResult=100&Total_Idx=6&CounterSearch=18&UrlAjaxWebSearch=%2FLenaWeb%2FAjaxWebSearch&sw_=1398&LocName=&LocId=&Area=10&cty_=\n",
      "https://www.berufsberatung.ch/dyn/show/2930?lang=de&Idx=200&OrderBy=1&Order=0&PostBackOrder=0&postBack=true&CountResult=100&Total_Idx=6&CounterSearch=18&UrlAjaxWebSearch=%2FLenaWeb%2FAjaxWebSearch&sw_=1399&LocName=&LocId=&Area=10&cty_=\n",
      "https://www.berufsberatung.ch/dyn/show/2930?lang=de&Idx=200&OrderBy=1&Order=0&PostBackOrder=0&postBack=true&CountResult=100&Total_Idx=6&CounterSearch=18&UrlAjaxWebSearch=%2FLenaWeb%2FAjaxWebSearch&sw_=1404&LocName=&LocId=&Area=10&cty_=\n",
      "https://www.berufsberatung.ch/dyn/show/2930?lang=de&Idx=200&OrderBy=1&Order=0&PostBackOrder=0&postBack=true&CountResult=100&Total_Idx=6&CounterSearch=18&UrlAjaxWebSearch=%2FLenaWeb%2FAjaxWebSearch&sw_=1385&LocName=&LocId=&Area=10&cty_=\n",
      "https://www.berufsberatung.ch/dyn/show/2930?lang=de&Idx=200&OrderBy=1&Order=0&PostBackOrder=0&postBack=true&CountResult=100&Total_Idx=6&CounterSearch=18&UrlAjaxWebSearch=%2FLenaWeb%2FAjaxWebSearch&sw_=1400&LocName=&LocId=&Area=10&cty_=\n",
      "https://www.berufsberatung.ch/dyn/show/2930?lang=de&Idx=200&OrderBy=1&Order=0&PostBackOrder=0&postBack=true&CountResult=100&Total_Idx=6&CounterSearch=18&UrlAjaxWebSearch=%2FLenaWeb%2FAjaxWebSearch&sw_=1391&LocName=&LocId=&Area=10&cty_=\n",
      "https://www.berufsberatung.ch/dyn/show/2930?lang=de&Idx=200&OrderBy=1&Order=0&PostBackOrder=0&postBack=true&CountResult=100&Total_Idx=6&CounterSearch=18&UrlAjaxWebSearch=%2FLenaWeb%2FAjaxWebSearch&sw_=1407&LocName=&LocId=&Area=10&cty_=\n",
      "https://www.berufsberatung.ch/dyn/show/2930?lang=de&Idx=200&OrderBy=1&Order=0&PostBackOrder=0&postBack=true&CountResult=100&Total_Idx=6&CounterSearch=18&UrlAjaxWebSearch=%2FLenaWeb%2FAjaxWebSearch&sw_=1394&LocName=&LocId=&Area=10&cty_=\n",
      "https://www.berufsberatung.ch/dyn/show/2930?lang=de&Idx=200&OrderBy=1&Order=0&PostBackOrder=0&postBack=true&CountResult=100&Total_Idx=6&CounterSearch=18&UrlAjaxWebSearch=%2FLenaWeb%2FAjaxWebSearch&sw_=1383&LocName=&LocId=&Area=10&cty_=\n",
      "https://www.berufsberatung.ch/dyn/show/2930?lang=de&Idx=200&OrderBy=1&Order=0&PostBackOrder=0&postBack=true&CountResult=100&Total_Idx=6&CounterSearch=18&UrlAjaxWebSearch=%2FLenaWeb%2FAjaxWebSearch&sw_=11397&LocName=&LocId=&Area=10&cty_=\n",
      "https://www.berufsberatung.ch/dyn/show/2930?lang=de&Idx=200&OrderBy=1&Order=0&PostBackOrder=0&postBack=true&CountResult=100&Total_Idx=6&CounterSearch=18&UrlAjaxWebSearch=%2FLenaWeb%2FAjaxWebSearch&sw_=1396&LocName=&LocId=&Area=10&cty_=\n"
     ]
    },
    {
     "name": "stdout",
     "output_type": "stream",
     "text": [
      "https://www.berufsberatung.ch/dyn/show/2930?lang=de&Idx=200&OrderBy=1&Order=0&PostBackOrder=0&postBack=true&CountResult=100&Total_Idx=6&CounterSearch=18&UrlAjaxWebSearch=%2FLenaWeb%2FAjaxWebSearch&sw_=1390&LocName=&LocId=&Area=10&cty_=\n",
      "https://www.berufsberatung.ch/dyn/show/2930?lang=de&Idx=200&OrderBy=1&Order=0&PostBackOrder=0&postBack=true&CountResult=100&Total_Idx=6&CounterSearch=18&UrlAjaxWebSearch=%2FLenaWeb%2FAjaxWebSearch&sw_=1402&LocName=&LocId=&Area=10&cty_=\n",
      "https://www.berufsberatung.ch/dyn/show/2930?lang=de&Idx=200&OrderBy=1&Order=0&PostBackOrder=0&postBack=true&CountResult=100&Total_Idx=6&CounterSearch=18&UrlAjaxWebSearch=%2FLenaWeb%2FAjaxWebSearch&sw_=1387&LocName=&LocId=&Area=10&cty_=\n",
      "https://www.berufsberatung.ch/dyn/show/2930?lang=de&Idx=200&OrderBy=1&Order=0&PostBackOrder=0&postBack=true&CountResult=100&Total_Idx=6&CounterSearch=18&UrlAjaxWebSearch=%2FLenaWeb%2FAjaxWebSearch&sw_=1397&LocName=&LocId=&Area=10&cty_=\n",
      "https://www.berufsberatung.ch/dyn/show/2930?lang=de&Idx=200&OrderBy=1&Order=0&PostBackOrder=0&postBack=true&CountResult=100&Total_Idx=6&CounterSearch=18&UrlAjaxWebSearch=%2FLenaWeb%2FAjaxWebSearch&sw_=1388&LocName=&LocId=&Area=10&cty_=\n",
      "https://www.berufsberatung.ch/dyn/show/2930?lang=de&Idx=200&OrderBy=1&Order=0&PostBackOrder=0&postBack=true&CountResult=100&Total_Idx=6&CounterSearch=18&UrlAjaxWebSearch=%2FLenaWeb%2FAjaxWebSearch&sw_=1408&LocName=&LocId=&Area=10&cty_=\n",
      "https://www.berufsberatung.ch/dyn/show/2930?lang=de&Idx=200&OrderBy=1&Order=0&PostBackOrder=0&postBack=true&CountResult=100&Total_Idx=6&CounterSearch=18&UrlAjaxWebSearch=%2FLenaWeb%2FAjaxWebSearch&sw_=1386&LocName=&LocId=&Area=10&cty_=\n",
      "https://www.berufsberatung.ch/dyn/show/2930?lang=de&Idx=200&OrderBy=1&Order=0&PostBackOrder=0&postBack=true&CountResult=100&Total_Idx=6&CounterSearch=18&UrlAjaxWebSearch=%2FLenaWeb%2FAjaxWebSearch&sw_=1389&LocName=&LocId=&Area=10&cty_=\n",
      "https://www.berufsberatung.ch/dyn/show/2930?lang=de&Idx=200&OrderBy=1&Order=0&PostBackOrder=0&postBack=true&CountResult=100&Total_Idx=6&CounterSearch=18&UrlAjaxWebSearch=%2FLenaWeb%2FAjaxWebSearch&sw_=1401&LocName=&LocId=&Area=10&cty_=\n",
      "https://www.berufsberatung.ch/dyn/show/2930?lang=de&Idx=200&OrderBy=1&Order=0&PostBackOrder=0&postBack=true&CountResult=100&Total_Idx=6&CounterSearch=18&UrlAjaxWebSearch=%2FLenaWeb%2FAjaxWebSearch&sw_=1411&LocName=&LocId=&Area=10&cty_=\n",
      "https://www.berufsberatung.ch/dyn/show/2930?lang=de&Idx=200&OrderBy=1&Order=0&PostBackOrder=0&postBack=true&CountResult=100&Total_Idx=6&CounterSearch=18&UrlAjaxWebSearch=%2FLenaWeb%2FAjaxWebSearch&sw_=1424&LocName=&LocId=&Area=10&cty_=\n",
      "https://www.berufsberatung.ch/dyn/show/2930?lang=de&Idx=200&OrderBy=1&Order=0&PostBackOrder=0&postBack=true&CountResult=100&Total_Idx=6&CounterSearch=18&UrlAjaxWebSearch=%2FLenaWeb%2FAjaxWebSearch&sw_=1414&LocName=&LocId=&Area=10&cty_=\n",
      "https://www.berufsberatung.ch/dyn/show/2930?lang=de&Idx=200&OrderBy=1&Order=0&PostBackOrder=0&postBack=true&CountResult=100&Total_Idx=6&CounterSearch=18&UrlAjaxWebSearch=%2FLenaWeb%2FAjaxWebSearch&sw_=1440&LocName=&LocId=&Area=10&cty_=\n",
      "https://www.berufsberatung.ch/dyn/show/2930?lang=de&Idx=200&OrderBy=1&Order=0&PostBackOrder=0&postBack=true&CountResult=100&Total_Idx=6&CounterSearch=18&UrlAjaxWebSearch=%2FLenaWeb%2FAjaxWebSearch&sw_=1412&LocName=&LocId=&Area=10&cty_=\n",
      "https://www.berufsberatung.ch/dyn/show/2930?lang=de&Idx=200&OrderBy=1&Order=0&PostBackOrder=0&postBack=true&CountResult=100&Total_Idx=6&CounterSearch=18&UrlAjaxWebSearch=%2FLenaWeb%2FAjaxWebSearch&sw_=1423&LocName=&LocId=&Area=10&cty_=\n",
      "https://www.berufsberatung.ch/dyn/show/2930?lang=de&Idx=200&OrderBy=1&Order=0&PostBackOrder=0&postBack=true&CountResult=100&Total_Idx=6&CounterSearch=18&UrlAjaxWebSearch=%2FLenaWeb%2FAjaxWebSearch&sw_=1438&LocName=&LocId=&Area=10&cty_=\n",
      "https://www.berufsberatung.ch/dyn/show/2930?lang=de&Idx=200&OrderBy=1&Order=0&PostBackOrder=0&postBack=true&CountResult=100&Total_Idx=6&CounterSearch=18&UrlAjaxWebSearch=%2FLenaWeb%2FAjaxWebSearch&sw_=1436&LocName=&LocId=&Area=10&cty_=\n",
      "https://www.berufsberatung.ch/dyn/show/2930?lang=de&Idx=200&OrderBy=1&Order=0&PostBackOrder=0&postBack=true&CountResult=100&Total_Idx=6&CounterSearch=18&UrlAjaxWebSearch=%2FLenaWeb%2FAjaxWebSearch&sw_=1415&LocName=&LocId=&Area=10&cty_=\n",
      "https://www.berufsberatung.ch/dyn/show/2930?lang=de&Idx=200&OrderBy=1&Order=0&PostBackOrder=0&postBack=true&CountResult=100&Total_Idx=6&CounterSearch=18&UrlAjaxWebSearch=%2FLenaWeb%2FAjaxWebSearch&sw_=1429&LocName=&LocId=&Area=10&cty_=\n",
      "https://www.berufsberatung.ch/dyn/show/2930?lang=de&Idx=200&OrderBy=1&Order=0&PostBackOrder=0&postBack=true&CountResult=100&Total_Idx=6&CounterSearch=18&UrlAjaxWebSearch=%2FLenaWeb%2FAjaxWebSearch&sw_=1430&LocName=&LocId=&Area=10&cty_=\n",
      "https://www.berufsberatung.ch/dyn/show/2930?lang=de&Idx=200&OrderBy=1&Order=0&PostBackOrder=0&postBack=true&CountResult=100&Total_Idx=6&CounterSearch=18&UrlAjaxWebSearch=%2FLenaWeb%2FAjaxWebSearch&sw_=1417&LocName=&LocId=&Area=10&cty_=\n",
      "https://www.berufsberatung.ch/dyn/show/2930?lang=de&Idx=200&OrderBy=1&Order=0&PostBackOrder=0&postBack=true&CountResult=100&Total_Idx=6&CounterSearch=18&UrlAjaxWebSearch=%2FLenaWeb%2FAjaxWebSearch&sw_=1416&LocName=&LocId=&Area=10&cty_=\n",
      "https://www.berufsberatung.ch/dyn/show/2930?lang=de&Idx=200&OrderBy=1&Order=0&PostBackOrder=0&postBack=true&CountResult=100&Total_Idx=6&CounterSearch=18&UrlAjaxWebSearch=%2FLenaWeb%2FAjaxWebSearch&sw_=1431&LocName=&LocId=&Area=10&cty_=\n",
      "https://www.berufsberatung.ch/dyn/show/2930?lang=de&Idx=200&OrderBy=1&Order=0&PostBackOrder=0&postBack=true&CountResult=100&Total_Idx=6&CounterSearch=18&UrlAjaxWebSearch=%2FLenaWeb%2FAjaxWebSearch&sw_=1422&LocName=&LocId=&Area=10&cty_=\n",
      "https://www.berufsberatung.ch/dyn/show/2930?lang=de&Idx=200&OrderBy=1&Order=0&PostBackOrder=0&postBack=true&CountResult=100&Total_Idx=6&CounterSearch=18&UrlAjaxWebSearch=%2FLenaWeb%2FAjaxWebSearch&sw_=1439&LocName=&LocId=&Area=10&cty_=\n",
      "https://www.berufsberatung.ch/dyn/show/2930?lang=de&Idx=200&OrderBy=1&Order=0&PostBackOrder=0&postBack=true&CountResult=100&Total_Idx=6&CounterSearch=18&UrlAjaxWebSearch=%2FLenaWeb%2FAjaxWebSearch&sw_=1425&LocName=&LocId=&Area=10&cty_=\n",
      "https://www.berufsberatung.ch/dyn/show/2930?lang=de&Idx=200&OrderBy=1&Order=0&PostBackOrder=0&postBack=true&CountResult=100&Total_Idx=6&CounterSearch=18&UrlAjaxWebSearch=%2FLenaWeb%2FAjaxWebSearch&sw_=1413&LocName=&LocId=&Area=10&cty_=\n",
      "https://www.berufsberatung.ch/dyn/show/2930?lang=de&Idx=200&OrderBy=1&Order=0&PostBackOrder=0&postBack=true&CountResult=100&Total_Idx=6&CounterSearch=18&UrlAjaxWebSearch=%2FLenaWeb%2FAjaxWebSearch&sw_=1427&LocName=&LocId=&Area=10&cty_=\n",
      "https://www.berufsberatung.ch/dyn/show/2930?lang=de&Idx=200&OrderBy=1&Order=0&PostBackOrder=0&postBack=true&CountResult=100&Total_Idx=6&CounterSearch=18&UrlAjaxWebSearch=%2FLenaWeb%2FAjaxWebSearch&sw_=1421&LocName=&LocId=&Area=10&cty_=\n",
      "https://www.berufsberatung.ch/dyn/show/2930?lang=de&Idx=200&OrderBy=1&Order=0&PostBackOrder=0&postBack=true&CountResult=100&Total_Idx=6&CounterSearch=18&UrlAjaxWebSearch=%2FLenaWeb%2FAjaxWebSearch&sw_=1441&LocName=&LocId=&Area=10&cty_=\n",
      "https://www.berufsberatung.ch/dyn/show/2930?lang=de&Idx=200&OrderBy=1&Order=0&PostBackOrder=0&postBack=true&CountResult=100&Total_Idx=6&CounterSearch=18&UrlAjaxWebSearch=%2FLenaWeb%2FAjaxWebSearch&sw_=1418&LocName=&LocId=&Area=10&cty_=\n",
      "https://www.berufsberatung.ch/dyn/show/2930?lang=de&Idx=200&OrderBy=1&Order=0&PostBackOrder=0&postBack=true&CountResult=100&Total_Idx=6&CounterSearch=18&UrlAjaxWebSearch=%2FLenaWeb%2FAjaxWebSearch&sw_=1428&LocName=&LocId=&Area=10&cty_=\n",
      "https://www.berufsberatung.ch/dyn/show/2930?lang=de&Idx=200&OrderBy=1&Order=0&PostBackOrder=0&postBack=true&CountResult=100&Total_Idx=6&CounterSearch=18&UrlAjaxWebSearch=%2FLenaWeb%2FAjaxWebSearch&sw_=1419&LocName=&LocId=&Area=10&cty_=\n",
      "https://www.berufsberatung.ch/dyn/show/2930?lang=de&Idx=200&OrderBy=1&Order=0&PostBackOrder=0&postBack=true&CountResult=100&Total_Idx=6&CounterSearch=18&UrlAjaxWebSearch=%2FLenaWeb%2FAjaxWebSearch&sw_=1437&LocName=&LocId=&Area=10&cty_=\n",
      "https://www.berufsberatung.ch/dyn/show/2930?lang=de&Idx=200&OrderBy=1&Order=0&PostBackOrder=0&postBack=true&CountResult=100&Total_Idx=6&CounterSearch=18&UrlAjaxWebSearch=%2FLenaWeb%2FAjaxWebSearch&sw_=1434&LocName=&LocId=&Area=10&cty_=\n"
     ]
    },
    {
     "name": "stdout",
     "output_type": "stream",
     "text": [
      "https://www.berufsberatung.ch/dyn/show/2930?lang=de&Idx=200&OrderBy=1&Order=0&PostBackOrder=0&postBack=true&CountResult=100&Total_Idx=6&CounterSearch=18&UrlAjaxWebSearch=%2FLenaWeb%2FAjaxWebSearch&sw_=1420&LocName=&LocId=&Area=10&cty_=\n",
      "https://www.berufsberatung.ch/dyn/show/2930?lang=de&Idx=200&OrderBy=1&Order=0&PostBackOrder=0&postBack=true&CountResult=100&Total_Idx=6&CounterSearch=18&UrlAjaxWebSearch=%2FLenaWeb%2FAjaxWebSearch&sw_=1432&LocName=&LocId=&Area=10&cty_=\n",
      "https://www.berufsberatung.ch/dyn/show/2930?lang=de&Idx=200&OrderBy=1&Order=0&PostBackOrder=0&postBack=true&CountResult=100&Total_Idx=6&CounterSearch=18&UrlAjaxWebSearch=%2FLenaWeb%2FAjaxWebSearch&sw_=267&LocName=&LocId=&Area=10&cty_=\n",
      "https://www.berufsberatung.ch/dyn/show/2930?lang=de&Idx=200&OrderBy=1&Order=0&PostBackOrder=0&postBack=true&CountResult=100&Total_Idx=6&CounterSearch=18&UrlAjaxWebSearch=%2FLenaWeb%2FAjaxWebSearch&sw_=1307&LocName=&LocId=&Area=10&cty_=\n",
      "https://www.berufsberatung.ch/dyn/show/2930?lang=de&Idx=200&OrderBy=1&Order=0&PostBackOrder=0&postBack=true&CountResult=100&Total_Idx=6&CounterSearch=18&UrlAjaxWebSearch=%2FLenaWeb%2FAjaxWebSearch&sw_=717&LocName=&LocId=&Area=10&cty_=\n",
      "https://www.berufsberatung.ch/dyn/show/2930?lang=de&Idx=200&OrderBy=1&Order=0&PostBackOrder=0&postBack=true&CountResult=100&Total_Idx=6&CounterSearch=18&UrlAjaxWebSearch=%2FLenaWeb%2FAjaxWebSearch&sw_=725&LocName=&LocId=&Area=10&cty_=\n",
      "https://www.berufsberatung.ch/dyn/show/2930?lang=de&Idx=200&OrderBy=1&Order=0&PostBackOrder=0&postBack=true&CountResult=100&Total_Idx=6&CounterSearch=18&UrlAjaxWebSearch=%2FLenaWeb%2FAjaxWebSearch&sw_=724&LocName=&LocId=&Area=10&cty_=\n",
      "https://www.berufsberatung.ch/dyn/show/2930?lang=de&Idx=200&OrderBy=1&Order=0&PostBackOrder=0&postBack=true&CountResult=100&Total_Idx=6&CounterSearch=18&UrlAjaxWebSearch=%2FLenaWeb%2FAjaxWebSearch&sw_=726&LocName=&LocId=&Area=10&cty_=\n",
      "https://www.berufsberatung.ch/dyn/show/2930?lang=de&Idx=200&OrderBy=1&Order=0&PostBackOrder=0&postBack=true&CountResult=100&Total_Idx=6&CounterSearch=18&UrlAjaxWebSearch=%2FLenaWeb%2FAjaxWebSearch&sw_=723&LocName=&LocId=&Area=10&cty_=\n",
      "https://www.berufsberatung.ch/dyn/show/2930?lang=de&Idx=200&OrderBy=1&Order=0&PostBackOrder=0&postBack=true&CountResult=100&Total_Idx=6&CounterSearch=18&UrlAjaxWebSearch=%2FLenaWeb%2FAjaxWebSearch&sw_=11566&LocName=&LocId=&Area=10&cty_=\n",
      "https://www.berufsberatung.ch/dyn/show/2930?lang=de&Idx=200&OrderBy=1&Order=0&PostBackOrder=0&postBack=true&CountResult=100&Total_Idx=6&CounterSearch=18&UrlAjaxWebSearch=%2FLenaWeb%2FAjaxWebSearch&sw_=11568&LocName=&LocId=&Area=10&cty_=\n",
      "https://www.berufsberatung.ch/dyn/show/2930?lang=de&Idx=200&OrderBy=1&Order=0&PostBackOrder=0&postBack=true&CountResult=100&Total_Idx=6&CounterSearch=18&UrlAjaxWebSearch=%2FLenaWeb%2FAjaxWebSearch&sw_=11567&LocName=&LocId=&Area=10&cty_=\n",
      "https://www.berufsberatung.ch/dyn/show/2930?lang=de&Idx=200&OrderBy=1&Order=0&PostBackOrder=0&postBack=true&CountResult=100&Total_Idx=6&CounterSearch=18&UrlAjaxWebSearch=%2FLenaWeb%2FAjaxWebSearch&sw_=2370&LocName=&LocId=&Area=10&cty_=\n",
      "https://www.berufsberatung.ch/dyn/show/2930?lang=de&Idx=200&OrderBy=1&Order=0&PostBackOrder=0&postBack=true&CountResult=100&Total_Idx=6&CounterSearch=18&UrlAjaxWebSearch=%2FLenaWeb%2FAjaxWebSearch&sw_=478&LocName=&LocId=&Area=10&cty_=\n",
      "https://www.berufsberatung.ch/dyn/show/2930?lang=de&Idx=200&OrderBy=1&Order=0&PostBackOrder=0&postBack=true&CountResult=100&Total_Idx=6&CounterSearch=18&UrlAjaxWebSearch=%2FLenaWeb%2FAjaxWebSearch&sw_=977&LocName=&LocId=&Area=10&cty_=\n",
      "https://www.berufsberatung.ch/dyn/show/2930?lang=de&Idx=200&OrderBy=1&Order=0&PostBackOrder=0&postBack=true&CountResult=100&Total_Idx=6&CounterSearch=18&UrlAjaxWebSearch=%2FLenaWeb%2FAjaxWebSearch&sw_=481&LocName=&LocId=&Area=10&cty_=\n",
      "https://www.berufsberatung.ch/dyn/show/2930?lang=de&Idx=200&OrderBy=1&Order=0&PostBackOrder=0&postBack=true&CountResult=100&Total_Idx=6&CounterSearch=18&UrlAjaxWebSearch=%2FLenaWeb%2FAjaxWebSearch&sw_=9633&LocName=&LocId=&Area=10&cty_=\n",
      "https://www.berufsberatung.ch/dyn/show/2930?lang=de&Idx=200&OrderBy=1&Order=0&PostBackOrder=0&postBack=true&CountResult=100&Total_Idx=6&CounterSearch=18&UrlAjaxWebSearch=%2FLenaWeb%2FAjaxWebSearch&sw_=9631&LocName=&LocId=&Area=10&cty_=\n",
      "https://www.berufsberatung.ch/dyn/show/2930?lang=de&Idx=200&OrderBy=1&Order=0&PostBackOrder=0&postBack=true&CountResult=100&Total_Idx=6&CounterSearch=18&UrlAjaxWebSearch=%2FLenaWeb%2FAjaxWebSearch&sw_=11250&LocName=&LocId=&Area=10&cty_=\n",
      "https://www.berufsberatung.ch/dyn/show/2930?lang=de&Idx=200&OrderBy=1&Order=0&PostBackOrder=0&postBack=true&CountResult=100&Total_Idx=6&CounterSearch=18&UrlAjaxWebSearch=%2FLenaWeb%2FAjaxWebSearch&sw_=11245&LocName=&LocId=&Area=10&cty_=\n",
      "https://www.berufsberatung.ch/dyn/show/2930?lang=de&Idx=200&OrderBy=1&Order=0&PostBackOrder=0&postBack=true&CountResult=100&Total_Idx=6&CounterSearch=18&UrlAjaxWebSearch=%2FLenaWeb%2FAjaxWebSearch&sw_=11238&LocName=&LocId=&Area=10&cty_=\n",
      "https://www.berufsberatung.ch/dyn/show/2930?lang=de&Idx=200&OrderBy=1&Order=0&PostBackOrder=0&postBack=true&CountResult=100&Total_Idx=6&CounterSearch=18&UrlAjaxWebSearch=%2FLenaWeb%2FAjaxWebSearch&sw_=2107&LocName=&LocId=&Area=10&cty_=\n",
      "https://www.berufsberatung.ch/dyn/show/2930?lang=de&Idx=200&OrderBy=1&Order=0&PostBackOrder=0&postBack=true&CountResult=100&Total_Idx=6&CounterSearch=18&UrlAjaxWebSearch=%2FLenaWeb%2FAjaxWebSearch&sw_=2108&LocName=&LocId=&Area=10&cty_=\n",
      "https://www.berufsberatung.ch/dyn/show/2930?lang=de&Idx=200&OrderBy=1&Order=0&PostBackOrder=0&postBack=true&CountResult=100&Total_Idx=6&CounterSearch=18&UrlAjaxWebSearch=%2FLenaWeb%2FAjaxWebSearch&sw_=2109&LocName=&LocId=&Area=10&cty_=\n",
      "https://www.berufsberatung.ch/dyn/show/2930?lang=de&Idx=200&OrderBy=1&Order=0&PostBackOrder=0&postBack=true&CountResult=100&Total_Idx=6&CounterSearch=18&UrlAjaxWebSearch=%2FLenaWeb%2FAjaxWebSearch&sw_=2111&LocName=&LocId=&Area=10&cty_=\n",
      "https://www.berufsberatung.ch/dyn/show/2930?lang=de&Idx=200&OrderBy=1&Order=0&PostBackOrder=0&postBack=true&CountResult=100&Total_Idx=6&CounterSearch=18&UrlAjaxWebSearch=%2FLenaWeb%2FAjaxWebSearch&sw_=2110&LocName=&LocId=&Area=10&cty_=\n",
      "https://www.berufsberatung.ch/dyn/show/2930?lang=de&Idx=200&OrderBy=1&Order=0&PostBackOrder=0&postBack=true&CountResult=100&Total_Idx=6&CounterSearch=18&UrlAjaxWebSearch=%2FLenaWeb%2FAjaxWebSearch&sw_=529&LocName=&LocId=&Area=10&cty_=\n",
      "https://www.berufsberatung.ch/dyn/show/2930?lang=de&Idx=200&OrderBy=1&Order=0&PostBackOrder=0&postBack=true&CountResult=100&Total_Idx=6&CounterSearch=18&UrlAjaxWebSearch=%2FLenaWeb%2FAjaxWebSearch&sw_=11253&LocName=&LocId=&Area=10&cty_=\n",
      "https://www.berufsberatung.ch/dyn/show/2930?lang=de&Idx=200&OrderBy=1&Order=0&PostBackOrder=0&postBack=true&CountResult=100&Total_Idx=6&CounterSearch=18&UrlAjaxWebSearch=%2FLenaWeb%2FAjaxWebSearch&sw_=11255&LocName=&LocId=&Area=10&cty_=\n",
      "https://www.berufsberatung.ch/dyn/show/2930?lang=de&Idx=200&OrderBy=1&Order=0&PostBackOrder=0&postBack=true&CountResult=100&Total_Idx=6&CounterSearch=18&UrlAjaxWebSearch=%2FLenaWeb%2FAjaxWebSearch&sw_=8139&LocName=&LocId=&Area=10&cty_=\n",
      "https://www.berufsberatung.ch/dyn/show/2930?lang=de&Idx=200&OrderBy=1&Order=0&PostBackOrder=0&postBack=true&CountResult=100&Total_Idx=6&CounterSearch=18&UrlAjaxWebSearch=%2FLenaWeb%2FAjaxWebSearch&sw_=1886&LocName=&LocId=&Area=10&cty_=\n",
      "https://www.berufsberatung.ch/dyn/show/2930?lang=de&Idx=200&OrderBy=1&Order=0&PostBackOrder=0&postBack=true&CountResult=100&Total_Idx=6&CounterSearch=18&UrlAjaxWebSearch=%2FLenaWeb%2FAjaxWebSearch&sw_=283&LocName=&LocId=&Area=10&cty_=\n",
      "https://www.berufsberatung.ch/dyn/show/2930?lang=de&Idx=200&OrderBy=1&Order=0&PostBackOrder=0&postBack=true&CountResult=100&Total_Idx=6&CounterSearch=18&UrlAjaxWebSearch=%2FLenaWeb%2FAjaxWebSearch&sw_=2196&LocName=&LocId=&Area=10&cty_=\n",
      "https://www.berufsberatung.ch/dyn/show/2930?lang=de&Idx=200&OrderBy=1&Order=0&PostBackOrder=0&postBack=true&CountResult=100&Total_Idx=6&CounterSearch=18&UrlAjaxWebSearch=%2FLenaWeb%2FAjaxWebSearch&sw_=7660&LocName=&LocId=&Area=10&cty_=\n",
      "https://www.berufsberatung.ch/dyn/show/2930?lang=de&Idx=200&OrderBy=1&Order=0&PostBackOrder=0&postBack=true&CountResult=100&Total_Idx=6&CounterSearch=18&UrlAjaxWebSearch=%2FLenaWeb%2FAjaxWebSearch&sw_=355&LocName=&LocId=&Area=10&cty_=\n"
     ]
    },
    {
     "name": "stdout",
     "output_type": "stream",
     "text": [
      "https://www.berufsberatung.ch/dyn/show/2930?lang=de&Idx=200&OrderBy=1&Order=0&PostBackOrder=0&postBack=true&CountResult=100&Total_Idx=6&CounterSearch=18&UrlAjaxWebSearch=%2FLenaWeb%2FAjaxWebSearch&sw_=9241&LocName=&LocId=&Area=10&cty_=\n",
      "https://www.berufsberatung.ch/dyn/show/2930?lang=de&Idx=200&OrderBy=1&Order=0&PostBackOrder=0&postBack=true&CountResult=100&Total_Idx=6&CounterSearch=18&UrlAjaxWebSearch=%2FLenaWeb%2FAjaxWebSearch&sw_=9247&LocName=&LocId=&Area=10&cty_=\n",
      "https://www.berufsberatung.ch/dyn/show/2930?lang=de&Idx=200&OrderBy=1&Order=0&PostBackOrder=0&postBack=true&CountResult=100&Total_Idx=6&CounterSearch=18&UrlAjaxWebSearch=%2FLenaWeb%2FAjaxWebSearch&sw_=9235&LocName=&LocId=&Area=10&cty_=\n",
      "https://www.berufsberatung.ch/dyn/show/2930?lang=de&Idx=200&OrderBy=1&Order=0&PostBackOrder=0&postBack=true&CountResult=100&Total_Idx=6&CounterSearch=18&UrlAjaxWebSearch=%2FLenaWeb%2FAjaxWebSearch&sw_=9870&LocName=&LocId=&Area=10&cty_=\n",
      "https://www.berufsberatung.ch/dyn/show/2930?lang=de&Idx=200&OrderBy=1&Order=0&PostBackOrder=0&postBack=true&CountResult=100&Total_Idx=6&CounterSearch=18&UrlAjaxWebSearch=%2FLenaWeb%2FAjaxWebSearch&sw_=11240&LocName=&LocId=&Area=10&cty_=\n",
      "https://www.berufsberatung.ch/dyn/show/2930?lang=de&Idx=200&OrderBy=1&Order=0&PostBackOrder=0&postBack=true&CountResult=100&Total_Idx=6&CounterSearch=18&UrlAjaxWebSearch=%2FLenaWeb%2FAjaxWebSearch&sw_=11247&LocName=&LocId=&Area=10&cty_=\n",
      "https://www.berufsberatung.ch/dyn/show/2930?lang=de&Idx=200&OrderBy=1&Order=0&PostBackOrder=0&postBack=true&CountResult=100&Total_Idx=6&CounterSearch=18&UrlAjaxWebSearch=%2FLenaWeb%2FAjaxWebSearch&sw_=321&LocName=&LocId=&Area=10&cty_=\n",
      "https://www.berufsberatung.ch/dyn/show/2930?lang=de&Idx=200&OrderBy=1&Order=0&PostBackOrder=0&postBack=true&CountResult=100&Total_Idx=6&CounterSearch=18&UrlAjaxWebSearch=%2FLenaWeb%2FAjaxWebSearch&sw_=11383&LocName=&LocId=&Area=10&cty_=\n",
      "https://www.berufsberatung.ch/dyn/show/2930?lang=de&Idx=200&OrderBy=1&Order=0&PostBackOrder=0&postBack=true&CountResult=100&Total_Idx=6&CounterSearch=18&UrlAjaxWebSearch=%2FLenaWeb%2FAjaxWebSearch&sw_=11384&LocName=&LocId=&Area=10&cty_=\n",
      "https://www.berufsberatung.ch/dyn/show/2930?lang=de&Idx=200&OrderBy=1&Order=0&PostBackOrder=0&postBack=true&CountResult=100&Total_Idx=6&CounterSearch=18&UrlAjaxWebSearch=%2FLenaWeb%2FAjaxWebSearch&sw_=1081&LocName=&LocId=&Area=10&cty_=\n",
      "https://www.berufsberatung.ch/dyn/show/2930?lang=de&Idx=200&OrderBy=1&Order=0&PostBackOrder=0&postBack=true&CountResult=100&Total_Idx=6&CounterSearch=18&UrlAjaxWebSearch=%2FLenaWeb%2FAjaxWebSearch&sw_=1088&LocName=&LocId=&Area=10&cty_=\n",
      "https://www.berufsberatung.ch/dyn/show/2930?lang=de&Idx=200&OrderBy=1&Order=0&PostBackOrder=0&postBack=true&CountResult=100&Total_Idx=6&CounterSearch=18&UrlAjaxWebSearch=%2FLenaWeb%2FAjaxWebSearch&sw_=11452&LocName=&LocId=&Area=10&cty_=\n",
      "https://www.berufsberatung.ch/dyn/show/2930?lang=de&Idx=200&OrderBy=1&Order=0&PostBackOrder=0&postBack=true&CountResult=100&Total_Idx=6&CounterSearch=18&UrlAjaxWebSearch=%2FLenaWeb%2FAjaxWebSearch&sw_=11445&LocName=&LocId=&Area=10&cty_=\n",
      "https://www.berufsberatung.ch/dyn/show/2930?lang=de&Idx=200&OrderBy=1&Order=0&PostBackOrder=0&postBack=true&CountResult=100&Total_Idx=6&CounterSearch=18&UrlAjaxWebSearch=%2FLenaWeb%2FAjaxWebSearch&sw_=1153&LocName=&LocId=&Area=10&cty_=\n",
      "https://www.berufsberatung.ch/dyn/show/2930?lang=de&Idx=200&OrderBy=1&Order=0&PostBackOrder=0&postBack=true&CountResult=100&Total_Idx=6&CounterSearch=18&UrlAjaxWebSearch=%2FLenaWeb%2FAjaxWebSearch&sw_=227&LocName=&LocId=&Area=10&cty_=\n",
      "https://www.berufsberatung.ch/dyn/show/2930?lang=de&Idx=200&OrderBy=1&Order=0&PostBackOrder=0&postBack=true&CountResult=100&Total_Idx=6&CounterSearch=18&UrlAjaxWebSearch=%2FLenaWeb%2FAjaxWebSearch&sw_=11376&LocName=&LocId=&Area=10&cty_=\n",
      "https://www.berufsberatung.ch/dyn/show/2930?lang=de&Idx=200&OrderBy=1&Order=0&PostBackOrder=0&postBack=true&CountResult=100&Total_Idx=6&CounterSearch=18&UrlAjaxWebSearch=%2FLenaWeb%2FAjaxWebSearch&sw_=11377&LocName=&LocId=&Area=10&cty_=\n",
      "https://www.berufsberatung.ch/dyn/show/2930?lang=de&Idx=200&OrderBy=1&Order=0&PostBackOrder=0&postBack=true&CountResult=100&Total_Idx=6&CounterSearch=18&UrlAjaxWebSearch=%2FLenaWeb%2FAjaxWebSearch&sw_=192&LocName=&LocId=&Area=10&cty_=\n",
      "https://www.berufsberatung.ch/dyn/show/2930?lang=de&Idx=200&OrderBy=1&Order=0&PostBackOrder=0&postBack=true&CountResult=100&Total_Idx=6&CounterSearch=18&UrlAjaxWebSearch=%2FLenaWeb%2FAjaxWebSearch&sw_=11380&LocName=&LocId=&Area=10&cty_=\n",
      "https://www.berufsberatung.ch/dyn/show/2930?lang=de&Idx=200&OrderBy=1&Order=0&PostBackOrder=0&postBack=true&CountResult=100&Total_Idx=6&CounterSearch=18&UrlAjaxWebSearch=%2FLenaWeb%2FAjaxWebSearch&sw_=11378&LocName=&LocId=&Area=10&cty_=\n",
      "https://www.berufsberatung.ch/dyn/show/2930?lang=de&Idx=200&OrderBy=1&Order=0&PostBackOrder=0&postBack=true&CountResult=100&Total_Idx=6&CounterSearch=18&UrlAjaxWebSearch=%2FLenaWeb%2FAjaxWebSearch&sw_=11379&LocName=&LocId=&Area=10&cty_=\n",
      "https://www.berufsberatung.ch/dyn/show/2930?lang=de&Idx=200&OrderBy=1&Order=0&PostBackOrder=0&postBack=true&CountResult=100&Total_Idx=6&CounterSearch=18&UrlAjaxWebSearch=%2FLenaWeb%2FAjaxWebSearch&sw_=737&LocName=&LocId=&Area=10&cty_=\n",
      "https://www.berufsberatung.ch/dyn/show/2930?lang=de&Idx=200&OrderBy=1&Order=0&PostBackOrder=0&postBack=true&CountResult=100&Total_Idx=6&CounterSearch=18&UrlAjaxWebSearch=%2FLenaWeb%2FAjaxWebSearch&sw_=108&LocName=&LocId=&Area=10&cty_=\n",
      "https://www.berufsberatung.ch/dyn/show/2930?lang=de&Idx=200&OrderBy=1&Order=0&PostBackOrder=0&postBack=true&CountResult=100&Total_Idx=6&CounterSearch=18&UrlAjaxWebSearch=%2FLenaWeb%2FAjaxWebSearch&sw_=110&LocName=&LocId=&Area=10&cty_=\n",
      "https://www.berufsberatung.ch/dyn/show/2930?lang=de&Idx=200&OrderBy=1&Order=0&PostBackOrder=0&postBack=true&CountResult=100&Total_Idx=6&CounterSearch=18&UrlAjaxWebSearch=%2FLenaWeb%2FAjaxWebSearch&sw_=878&LocName=&LocId=&Area=10&cty_=\n",
      "https://www.berufsberatung.ch/dyn/show/2930?lang=de&Idx=200&OrderBy=1&Order=0&PostBackOrder=0&postBack=true&CountResult=100&Total_Idx=6&CounterSearch=18&UrlAjaxWebSearch=%2FLenaWeb%2FAjaxWebSearch&sw_=877&LocName=&LocId=&Area=10&cty_=\n",
      "https://www.berufsberatung.ch/dyn/show/2930?lang=de&Idx=200&OrderBy=1&Order=0&PostBackOrder=0&postBack=true&CountResult=100&Total_Idx=6&CounterSearch=18&UrlAjaxWebSearch=%2FLenaWeb%2FAjaxWebSearch&sw_=9382&LocName=&LocId=&Area=10&cty_=\n",
      "https://www.berufsberatung.ch/dyn/show/2930?lang=de&Idx=200&OrderBy=1&Order=0&PostBackOrder=0&postBack=true&CountResult=100&Total_Idx=6&CounterSearch=18&UrlAjaxWebSearch=%2FLenaWeb%2FAjaxWebSearch&sw_=18&LocName=&LocId=&Area=10&cty_=\n",
      "https://www.berufsberatung.ch/dyn/show/2930?lang=de&Idx=200&OrderBy=1&Order=0&PostBackOrder=0&postBack=true&CountResult=100&Total_Idx=6&CounterSearch=18&UrlAjaxWebSearch=%2FLenaWeb%2FAjaxWebSearch&sw_=1310&LocName=&LocId=&Area=10&cty_=\n",
      "https://www.berufsberatung.ch/dyn/show/2930?lang=de&Idx=200&OrderBy=1&Order=0&PostBackOrder=0&postBack=true&CountResult=100&Total_Idx=6&CounterSearch=18&UrlAjaxWebSearch=%2FLenaWeb%2FAjaxWebSearch&sw_=1315&LocName=&LocId=&Area=10&cty_=\n",
      "https://www.berufsberatung.ch/dyn/show/2930?lang=de&Idx=200&OrderBy=1&Order=0&PostBackOrder=0&postBack=true&CountResult=100&Total_Idx=6&CounterSearch=18&UrlAjaxWebSearch=%2FLenaWeb%2FAjaxWebSearch&sw_=1314&LocName=&LocId=&Area=10&cty_=\n",
      "https://www.berufsberatung.ch/dyn/show/2930?lang=de&Idx=200&OrderBy=1&Order=0&PostBackOrder=0&postBack=true&CountResult=100&Total_Idx=6&CounterSearch=18&UrlAjaxWebSearch=%2FLenaWeb%2FAjaxWebSearch&sw_=1313&LocName=&LocId=&Area=10&cty_=\n",
      "https://www.berufsberatung.ch/dyn/show/2930?lang=de&Idx=200&OrderBy=1&Order=0&PostBackOrder=0&postBack=true&CountResult=100&Total_Idx=6&CounterSearch=18&UrlAjaxWebSearch=%2FLenaWeb%2FAjaxWebSearch&sw_=2243&LocName=&LocId=&Area=10&cty_=\n",
      "https://www.berufsberatung.ch/dyn/show/2930?lang=de&Idx=200&OrderBy=1&Order=0&PostBackOrder=0&postBack=true&CountResult=100&Total_Idx=6&CounterSearch=18&UrlAjaxWebSearch=%2FLenaWeb%2FAjaxWebSearch&sw_=8036&LocName=&LocId=&Area=10&cty_=\n",
      "https://www.berufsberatung.ch/dyn/show/2930?lang=de&Idx=200&OrderBy=1&Order=0&PostBackOrder=0&postBack=true&CountResult=100&Total_Idx=6&CounterSearch=18&UrlAjaxWebSearch=%2FLenaWeb%2FAjaxWebSearch&sw_=9266&LocName=&LocId=&Area=10&cty_=\n"
     ]
    },
    {
     "name": "stdout",
     "output_type": "stream",
     "text": [
      "https://www.berufsberatung.ch/dyn/show/2930?lang=de&Idx=200&OrderBy=1&Order=0&PostBackOrder=0&postBack=true&CountResult=100&Total_Idx=6&CounterSearch=18&UrlAjaxWebSearch=%2FLenaWeb%2FAjaxWebSearch&sw_=9270&LocName=&LocId=&Area=10&cty_=\n",
      "https://www.berufsberatung.ch/dyn/show/2930?lang=de&Idx=200&OrderBy=1&Order=0&PostBackOrder=0&postBack=true&CountResult=100&Total_Idx=6&CounterSearch=18&UrlAjaxWebSearch=%2FLenaWeb%2FAjaxWebSearch&sw_=111&LocName=&LocId=&Area=10&cty_=\n",
      "https://www.berufsberatung.ch/dyn/show/2930?lang=de&Idx=200&OrderBy=1&Order=0&PostBackOrder=0&postBack=true&CountResult=100&Total_Idx=6&CounterSearch=18&UrlAjaxWebSearch=%2FLenaWeb%2FAjaxWebSearch&sw_=119&LocName=&LocId=&Area=10&cty_=\n",
      "https://www.berufsberatung.ch/dyn/show/2930?lang=de&Idx=200&OrderBy=1&Order=0&PostBackOrder=0&postBack=true&CountResult=100&Total_Idx=6&CounterSearch=18&UrlAjaxWebSearch=%2FLenaWeb%2FAjaxWebSearch&sw_=120&LocName=&LocId=&Area=10&cty_=\n",
      "https://www.berufsberatung.ch/dyn/show/2930?lang=de&Idx=200&OrderBy=1&Order=0&PostBackOrder=0&postBack=true&CountResult=100&Total_Idx=6&CounterSearch=18&UrlAjaxWebSearch=%2FLenaWeb%2FAjaxWebSearch&sw_=118&LocName=&LocId=&Area=10&cty_=\n",
      "https://www.berufsberatung.ch/dyn/show/2930?lang=de&Idx=200&OrderBy=1&Order=0&PostBackOrder=0&postBack=true&CountResult=100&Total_Idx=6&CounterSearch=18&UrlAjaxWebSearch=%2FLenaWeb%2FAjaxWebSearch&sw_=117&LocName=&LocId=&Area=10&cty_=\n",
      "https://www.berufsberatung.ch/dyn/show/2930?lang=de&Idx=200&OrderBy=1&Order=0&PostBackOrder=0&postBack=true&CountResult=100&Total_Idx=6&CounterSearch=18&UrlAjaxWebSearch=%2FLenaWeb%2FAjaxWebSearch&sw_=263&LocName=&LocId=&Area=10&cty_=\n",
      "https://www.berufsberatung.ch/dyn/show/2930?lang=de&Idx=200&OrderBy=1&Order=0&PostBackOrder=0&postBack=true&CountResult=100&Total_Idx=6&CounterSearch=18&UrlAjaxWebSearch=%2FLenaWeb%2FAjaxWebSearch&sw_=7664&LocName=&LocId=&Area=10&cty_=\n",
      "https://www.berufsberatung.ch/dyn/show/2930?lang=de&Idx=200&OrderBy=1&Order=0&PostBackOrder=0&postBack=true&CountResult=100&Total_Idx=6&CounterSearch=18&UrlAjaxWebSearch=%2FLenaWeb%2FAjaxWebSearch&sw_=487&LocName=&LocId=&Area=10&cty_=\n",
      "https://www.berufsberatung.ch/dyn/show/2930?lang=de&Idx=200&OrderBy=1&Order=0&PostBackOrder=0&postBack=true&CountResult=100&Total_Idx=6&CounterSearch=18&UrlAjaxWebSearch=%2FLenaWeb%2FAjaxWebSearch&sw_=7698&LocName=&LocId=&Area=10&cty_=\n",
      "https://www.berufsberatung.ch/dyn/show/2930?lang=de&Idx=200&OrderBy=1&Order=0&PostBackOrder=0&postBack=true&CountResult=100&Total_Idx=6&CounterSearch=18&UrlAjaxWebSearch=%2FLenaWeb%2FAjaxWebSearch&sw_=7699&LocName=&LocId=&Area=10&cty_=\n",
      "https://www.berufsberatung.ch/dyn/show/2930?lang=de&Idx=200&OrderBy=1&Order=0&PostBackOrder=0&postBack=true&CountResult=100&Total_Idx=6&CounterSearch=18&UrlAjaxWebSearch=%2FLenaWeb%2FAjaxWebSearch&sw_=7700&LocName=&LocId=&Area=10&cty_=\n",
      "https://www.berufsberatung.ch/dyn/show/2930?lang=de&Idx=200&OrderBy=1&Order=0&PostBackOrder=0&postBack=true&CountResult=100&Total_Idx=6&CounterSearch=18&UrlAjaxWebSearch=%2FLenaWeb%2FAjaxWebSearch&sw_=101&LocName=&LocId=&Area=10&cty_=\n",
      "https://www.berufsberatung.ch/dyn/show/2930?lang=de&Idx=200&OrderBy=1&Order=0&PostBackOrder=0&postBack=true&CountResult=100&Total_Idx=6&CounterSearch=18&UrlAjaxWebSearch=%2FLenaWeb%2FAjaxWebSearch&sw_=11179&LocName=&LocId=&Area=10&cty_=\n",
      "https://www.berufsberatung.ch/dyn/show/2930?lang=de&Idx=200&OrderBy=1&Order=0&PostBackOrder=0&postBack=true&CountResult=100&Total_Idx=6&CounterSearch=18&UrlAjaxWebSearch=%2FLenaWeb%2FAjaxWebSearch&sw_=2301&LocName=&LocId=&Area=10&cty_=\n",
      "https://www.berufsberatung.ch/dyn/show/2930?lang=de&Idx=200&OrderBy=1&Order=0&PostBackOrder=0&postBack=true&CountResult=100&Total_Idx=6&CounterSearch=18&UrlAjaxWebSearch=%2FLenaWeb%2FAjaxWebSearch&sw_=58&LocName=&LocId=&Area=10&cty_=\n",
      "https://www.berufsberatung.ch/dyn/show/2930?lang=de&Idx=200&OrderBy=1&Order=0&PostBackOrder=0&postBack=true&CountResult=100&Total_Idx=6&CounterSearch=18&UrlAjaxWebSearch=%2FLenaWeb%2FAjaxWebSearch&sw_=11180&LocName=&LocId=&Area=10&cty_=\n",
      "https://www.berufsberatung.ch/dyn/show/2930?lang=de&Idx=200&OrderBy=1&Order=0&PostBackOrder=0&postBack=true&CountResult=100&Total_Idx=6&CounterSearch=18&UrlAjaxWebSearch=%2FLenaWeb%2FAjaxWebSearch&sw_=381&LocName=&LocId=&Area=10&cty_=\n",
      "https://www.berufsberatung.ch/dyn/show/2930?lang=de&Idx=200&OrderBy=1&Order=0&PostBackOrder=0&postBack=true&CountResult=100&Total_Idx=6&CounterSearch=18&UrlAjaxWebSearch=%2FLenaWeb%2FAjaxWebSearch&sw_=11453&LocName=&LocId=&Area=10&cty_=\n",
      "https://www.berufsberatung.ch/dyn/show/2930?lang=de&Idx=200&OrderBy=1&Order=0&PostBackOrder=0&postBack=true&CountResult=100&Total_Idx=6&CounterSearch=18&UrlAjaxWebSearch=%2FLenaWeb%2FAjaxWebSearch&sw_=11447&LocName=&LocId=&Area=10&cty_=\n",
      "https://www.berufsberatung.ch/dyn/show/2930?lang=de&Idx=200&OrderBy=1&Order=0&PostBackOrder=0&postBack=true&CountResult=100&Total_Idx=6&CounterSearch=18&UrlAjaxWebSearch=%2FLenaWeb%2FAjaxWebSearch&sw_=2345&LocName=&LocId=&Area=10&cty_=\n",
      "https://www.berufsberatung.ch/dyn/show/2930?lang=de&Idx=200&OrderBy=1&Order=0&PostBackOrder=0&postBack=true&CountResult=100&Total_Idx=6&CounterSearch=18&UrlAjaxWebSearch=%2FLenaWeb%2FAjaxWebSearch&sw_=2349&LocName=&LocId=&Area=10&cty_=\n",
      "https://www.berufsberatung.ch/dyn/show/2930?lang=de&Idx=200&OrderBy=1&Order=0&PostBackOrder=0&postBack=true&CountResult=100&Total_Idx=6&CounterSearch=18&UrlAjaxWebSearch=%2FLenaWeb%2FAjaxWebSearch&sw_=655&LocName=&LocId=&Area=10&cty_=\n",
      "https://www.berufsberatung.ch/dyn/show/2930?lang=de&Idx=200&OrderBy=1&Order=0&PostBackOrder=0&postBack=true&CountResult=100&Total_Idx=6&CounterSearch=18&UrlAjaxWebSearch=%2FLenaWeb%2FAjaxWebSearch&sw_=9754&LocName=&LocId=&Area=10&cty_=\n",
      "https://www.berufsberatung.ch/dyn/show/2930?lang=de&Idx=200&OrderBy=1&Order=0&PostBackOrder=0&postBack=true&CountResult=100&Total_Idx=6&CounterSearch=18&UrlAjaxWebSearch=%2FLenaWeb%2FAjaxWebSearch&sw_=1163&LocName=&LocId=&Area=10&cty_=\n",
      "https://www.berufsberatung.ch/dyn/show/2930?lang=de&Idx=200&OrderBy=1&Order=0&PostBackOrder=0&postBack=true&CountResult=100&Total_Idx=6&CounterSearch=18&UrlAjaxWebSearch=%2FLenaWeb%2FAjaxWebSearch&sw_=585&LocName=&LocId=&Area=10&cty_=\n",
      "https://www.berufsberatung.ch/dyn/show/2930?lang=de&Idx=200&OrderBy=1&Order=0&PostBackOrder=0&postBack=true&CountResult=100&Total_Idx=6&CounterSearch=18&UrlAjaxWebSearch=%2FLenaWeb%2FAjaxWebSearch&sw_=2317&LocName=&LocId=&Area=10&cty_=\n",
      "https://www.berufsberatung.ch/dyn/show/2930?lang=de&Idx=200&OrderBy=1&Order=0&PostBackOrder=0&postBack=true&CountResult=100&Total_Idx=6&CounterSearch=18&UrlAjaxWebSearch=%2FLenaWeb%2FAjaxWebSearch&sw_=1676&LocName=&LocId=&Area=10&cty_=\n",
      "https://www.berufsberatung.ch/dyn/show/2930?lang=de&Idx=200&OrderBy=1&Order=0&PostBackOrder=0&postBack=true&CountResult=100&Total_Idx=6&CounterSearch=18&UrlAjaxWebSearch=%2FLenaWeb%2FAjaxWebSearch&sw_=9693&LocName=&LocId=&Area=10&cty_=\n",
      "https://www.berufsberatung.ch/dyn/show/2930?lang=de&Idx=200&OrderBy=1&Order=0&PostBackOrder=0&postBack=true&CountResult=100&Total_Idx=6&CounterSearch=18&UrlAjaxWebSearch=%2FLenaWeb%2FAjaxWebSearch&sw_=2321&LocName=&LocId=&Area=10&cty_=\n",
      "https://www.berufsberatung.ch/dyn/show/2930?lang=de&Idx=200&OrderBy=1&Order=0&PostBackOrder=0&postBack=true&CountResult=100&Total_Idx=6&CounterSearch=18&UrlAjaxWebSearch=%2FLenaWeb%2FAjaxWebSearch&sw_=7641&LocName=&LocId=&Area=10&cty_=\n",
      "https://www.berufsberatung.ch/dyn/show/2930?lang=de&Idx=200&OrderBy=1&Order=0&PostBackOrder=0&postBack=true&CountResult=100&Total_Idx=6&CounterSearch=18&UrlAjaxWebSearch=%2FLenaWeb%2FAjaxWebSearch&sw_=7639&LocName=&LocId=&Area=10&cty_=\n",
      "https://www.berufsberatung.ch/dyn/show/2930?lang=de&Idx=200&OrderBy=1&Order=0&PostBackOrder=0&postBack=true&CountResult=100&Total_Idx=6&CounterSearch=18&UrlAjaxWebSearch=%2FLenaWeb%2FAjaxWebSearch&sw_=7640&LocName=&LocId=&Area=10&cty_=\n",
      "https://www.berufsberatung.ch/dyn/show/2930?lang=de&Idx=200&OrderBy=1&Order=0&PostBackOrder=0&postBack=true&CountResult=100&Total_Idx=6&CounterSearch=18&UrlAjaxWebSearch=%2FLenaWeb%2FAjaxWebSearch&sw_=2272&LocName=&LocId=&Area=10&cty_=\n",
      "https://www.berufsberatung.ch/dyn/show/2930?lang=de&Idx=200&OrderBy=1&Order=0&PostBackOrder=0&postBack=true&CountResult=100&Total_Idx=6&CounterSearch=18&UrlAjaxWebSearch=%2FLenaWeb%2FAjaxWebSearch&sw_=2324&LocName=&LocId=&Area=10&cty_=\n"
     ]
    },
    {
     "name": "stdout",
     "output_type": "stream",
     "text": [
      "https://www.berufsberatung.ch/dyn/show/2930?lang=de&Idx=200&OrderBy=1&Order=0&PostBackOrder=0&postBack=true&CountResult=100&Total_Idx=6&CounterSearch=18&UrlAjaxWebSearch=%2FLenaWeb%2FAjaxWebSearch&sw_=423&LocName=&LocId=&Area=10&cty_=\n",
      "https://www.berufsberatung.ch/dyn/show/2930?lang=de&Idx=200&OrderBy=1&Order=0&PostBackOrder=0&postBack=true&CountResult=100&Total_Idx=6&CounterSearch=18&UrlAjaxWebSearch=%2FLenaWeb%2FAjaxWebSearch&sw_=466&LocName=&LocId=&Area=10&cty_=\n",
      "https://www.berufsberatung.ch/dyn/show/2930?lang=de&Idx=200&OrderBy=1&Order=0&PostBackOrder=0&postBack=true&CountResult=100&Total_Idx=6&CounterSearch=18&UrlAjaxWebSearch=%2FLenaWeb%2FAjaxWebSearch&sw_=832&LocName=&LocId=&Area=10&cty_=\n",
      "https://www.berufsberatung.ch/dyn/show/2930?lang=de&Idx=200&OrderBy=1&Order=0&PostBackOrder=0&postBack=true&CountResult=100&Total_Idx=6&CounterSearch=18&UrlAjaxWebSearch=%2FLenaWeb%2FAjaxWebSearch&sw_=834&LocName=&LocId=&Area=10&cty_=\n",
      "https://www.berufsberatung.ch/dyn/show/2930?lang=de&Idx=200&OrderBy=1&Order=0&PostBackOrder=0&postBack=true&CountResult=100&Total_Idx=6&CounterSearch=18&UrlAjaxWebSearch=%2FLenaWeb%2FAjaxWebSearch&sw_=833&LocName=&LocId=&Area=10&cty_=\n",
      "https://www.berufsberatung.ch/dyn/show/2930?lang=de&Idx=200&OrderBy=1&Order=0&PostBackOrder=0&postBack=true&CountResult=100&Total_Idx=6&CounterSearch=18&UrlAjaxWebSearch=%2FLenaWeb%2FAjaxWebSearch&sw_=828&LocName=&LocId=&Area=10&cty_=\n",
      "https://www.berufsberatung.ch/dyn/show/2930?lang=de&Idx=200&OrderBy=1&Order=0&PostBackOrder=0&postBack=true&CountResult=100&Total_Idx=6&CounterSearch=18&UrlAjaxWebSearch=%2FLenaWeb%2FAjaxWebSearch&sw_=9648&LocName=&LocId=&Area=10&cty_=\n",
      "https://www.berufsberatung.ch/dyn/show/2930?lang=de&Idx=200&OrderBy=1&Order=0&PostBackOrder=0&postBack=true&CountResult=100&Total_Idx=6&CounterSearch=18&UrlAjaxWebSearch=%2FLenaWeb%2FAjaxWebSearch&sw_=9646&LocName=&LocId=&Area=10&cty_=\n",
      "https://www.berufsberatung.ch/dyn/show/2930?lang=de&Idx=200&OrderBy=1&Order=0&PostBackOrder=0&postBack=true&CountResult=100&Total_Idx=6&CounterSearch=18&UrlAjaxWebSearch=%2FLenaWeb%2FAjaxWebSearch&sw_=9639&LocName=&LocId=&Area=10&cty_=\n",
      "https://www.berufsberatung.ch/dyn/show/2930?lang=de&Idx=200&OrderBy=1&Order=0&PostBackOrder=0&postBack=true&CountResult=100&Total_Idx=6&CounterSearch=18&UrlAjaxWebSearch=%2FLenaWeb%2FAjaxWebSearch&sw_=9638&LocName=&LocId=&Area=10&cty_=\n",
      "https://www.berufsberatung.ch/dyn/show/2930?lang=de&Idx=200&OrderBy=1&Order=0&PostBackOrder=0&postBack=true&CountResult=100&Total_Idx=6&CounterSearch=18&UrlAjaxWebSearch=%2FLenaWeb%2FAjaxWebSearch&sw_=9652&LocName=&LocId=&Area=10&cty_=\n",
      "https://www.berufsberatung.ch/dyn/show/2930?lang=de&Idx=200&OrderBy=1&Order=0&PostBackOrder=0&postBack=true&CountResult=100&Total_Idx=6&CounterSearch=18&UrlAjaxWebSearch=%2FLenaWeb%2FAjaxWebSearch&sw_=9650&LocName=&LocId=&Area=10&cty_=\n",
      "https://www.berufsberatung.ch/dyn/show/2930?lang=de&Idx=200&OrderBy=1&Order=0&PostBackOrder=0&postBack=true&CountResult=100&Total_Idx=6&CounterSearch=18&UrlAjaxWebSearch=%2FLenaWeb%2FAjaxWebSearch&sw_=579&LocName=&LocId=&Area=10&cty_=\n",
      "https://www.berufsberatung.ch/dyn/show/2930?lang=de&Idx=200&OrderBy=1&Order=0&PostBackOrder=0&postBack=true&CountResult=100&Total_Idx=6&CounterSearch=18&UrlAjaxWebSearch=%2FLenaWeb%2FAjaxWebSearch&sw_=275&LocName=&LocId=&Area=10&cty_=\n",
      "https://www.berufsberatung.ch/dyn/show/2930?lang=de&Idx=200&OrderBy=1&Order=0&PostBackOrder=0&postBack=true&CountResult=100&Total_Idx=6&CounterSearch=18&UrlAjaxWebSearch=%2FLenaWeb%2FAjaxWebSearch&sw_=512&LocName=&LocId=&Area=10&cty_=\n",
      "https://www.berufsberatung.ch/dyn/show/2930?lang=de&Idx=200&OrderBy=1&Order=0&PostBackOrder=0&postBack=true&CountResult=100&Total_Idx=6&CounterSearch=18&UrlAjaxWebSearch=%2FLenaWeb%2FAjaxWebSearch&sw_=7729&LocName=&LocId=&Area=10&cty_=\n",
      "https://www.berufsberatung.ch/dyn/show/2930?lang=de&Idx=200&OrderBy=1&Order=0&PostBackOrder=0&postBack=true&CountResult=100&Total_Idx=6&CounterSearch=18&UrlAjaxWebSearch=%2FLenaWeb%2FAjaxWebSearch&sw_=2325&LocName=&LocId=&Area=10&cty_=\n",
      "https://www.berufsberatung.ch/dyn/show/2930?lang=de&Idx=200&OrderBy=1&Order=0&PostBackOrder=0&postBack=true&CountResult=100&Total_Idx=6&CounterSearch=18&UrlAjaxWebSearch=%2FLenaWeb%2FAjaxWebSearch&sw_=676&LocName=&LocId=&Area=10&cty_=\n",
      "https://www.berufsberatung.ch/dyn/show/2930?lang=de&Idx=200&OrderBy=1&Order=0&PostBackOrder=0&postBack=true&CountResult=100&Total_Idx=6&CounterSearch=18&UrlAjaxWebSearch=%2FLenaWeb%2FAjaxWebSearch&sw_=677&LocName=&LocId=&Area=10&cty_=\n",
      "https://www.berufsberatung.ch/dyn/show/2930?lang=de&Idx=200&OrderBy=1&Order=0&PostBackOrder=0&postBack=true&CountResult=100&Total_Idx=6&CounterSearch=18&UrlAjaxWebSearch=%2FLenaWeb%2FAjaxWebSearch&sw_=678&LocName=&LocId=&Area=10&cty_=\n",
      "https://www.berufsberatung.ch/dyn/show/2930?lang=de&Idx=200&OrderBy=1&Order=0&PostBackOrder=0&postBack=true&CountResult=100&Total_Idx=6&CounterSearch=18&UrlAjaxWebSearch=%2FLenaWeb%2FAjaxWebSearch&sw_=11086&LocName=&LocId=&Area=10&cty_=\n",
      "https://www.berufsberatung.ch/dyn/show/2930?lang=de&Idx=200&OrderBy=1&Order=0&PostBackOrder=0&postBack=true&CountResult=100&Total_Idx=6&CounterSearch=18&UrlAjaxWebSearch=%2FLenaWeb%2FAjaxWebSearch&sw_=253&LocName=&LocId=&Area=10&cty_=\n",
      "https://www.berufsberatung.ch/dyn/show/2930?lang=de&Idx=200&OrderBy=1&Order=0&PostBackOrder=0&postBack=true&CountResult=100&Total_Idx=6&CounterSearch=18&UrlAjaxWebSearch=%2FLenaWeb%2FAjaxWebSearch&sw_=11344&LocName=&LocId=&Area=10&cty_=\n",
      "https://www.berufsberatung.ch/dyn/show/2930?lang=de&Idx=200&OrderBy=1&Order=0&PostBackOrder=0&postBack=true&CountResult=100&Total_Idx=6&CounterSearch=18&UrlAjaxWebSearch=%2FLenaWeb%2FAjaxWebSearch&sw_=259&LocName=&LocId=&Area=10&cty_=\n",
      "https://www.berufsberatung.ch/dyn/show/2930?lang=de&Idx=200&OrderBy=1&Order=0&PostBackOrder=0&postBack=true&CountResult=100&Total_Idx=6&CounterSearch=18&UrlAjaxWebSearch=%2FLenaWeb%2FAjaxWebSearch&sw_=894&LocName=&LocId=&Area=10&cty_=\n",
      "https://www.berufsberatung.ch/dyn/show/2930?lang=de&Idx=200&OrderBy=1&Order=0&PostBackOrder=0&postBack=true&CountResult=100&Total_Idx=6&CounterSearch=18&UrlAjaxWebSearch=%2FLenaWeb%2FAjaxWebSearch&sw_=11573&LocName=&LocId=&Area=10&cty_=\n",
      "https://www.berufsberatung.ch/dyn/show/2930?lang=de&Idx=200&OrderBy=1&Order=0&PostBackOrder=0&postBack=true&CountResult=100&Total_Idx=6&CounterSearch=18&UrlAjaxWebSearch=%2FLenaWeb%2FAjaxWebSearch&sw_=588&LocName=&LocId=&Area=10&cty_=\n",
      "https://www.berufsberatung.ch/dyn/show/2930?lang=de&Idx=200&OrderBy=1&Order=0&PostBackOrder=0&postBack=true&CountResult=100&Total_Idx=6&CounterSearch=18&UrlAjaxWebSearch=%2FLenaWeb%2FAjaxWebSearch&sw_=647&LocName=&LocId=&Area=10&cty_=\n",
      "https://www.berufsberatung.ch/dyn/show/2930?lang=de&Idx=200&OrderBy=1&Order=0&PostBackOrder=0&postBack=true&CountResult=100&Total_Idx=6&CounterSearch=18&UrlAjaxWebSearch=%2FLenaWeb%2FAjaxWebSearch&sw_=1143&LocName=&LocId=&Area=10&cty_=\n",
      "https://www.berufsberatung.ch/dyn/show/2930?lang=de&Idx=200&OrderBy=1&Order=0&PostBackOrder=0&postBack=true&CountResult=100&Total_Idx=6&CounterSearch=18&UrlAjaxWebSearch=%2FLenaWeb%2FAjaxWebSearch&sw_=1144&LocName=&LocId=&Area=10&cty_=\n",
      "https://www.berufsberatung.ch/dyn/show/2930?lang=de&Idx=200&OrderBy=1&Order=0&PostBackOrder=0&postBack=true&CountResult=100&Total_Idx=6&CounterSearch=18&UrlAjaxWebSearch=%2FLenaWeb%2FAjaxWebSearch&sw_=618&LocName=&LocId=&Area=10&cty_=\n",
      "https://www.berufsberatung.ch/dyn/show/2930?lang=de&Idx=200&OrderBy=1&Order=0&PostBackOrder=0&postBack=true&CountResult=100&Total_Idx=6&CounterSearch=18&UrlAjaxWebSearch=%2FLenaWeb%2FAjaxWebSearch&sw_=1027&LocName=&LocId=&Area=10&cty_=\n",
      "https://www.berufsberatung.ch/dyn/show/2930?lang=de&Idx=200&OrderBy=1&Order=0&PostBackOrder=0&postBack=true&CountResult=100&Total_Idx=6&CounterSearch=18&UrlAjaxWebSearch=%2FLenaWeb%2FAjaxWebSearch&sw_=1028&LocName=&LocId=&Area=10&cty_=\n",
      "https://www.berufsberatung.ch/dyn/show/2930?lang=de&Idx=200&OrderBy=1&Order=0&PostBackOrder=0&postBack=true&CountResult=100&Total_Idx=6&CounterSearch=18&UrlAjaxWebSearch=%2FLenaWeb%2FAjaxWebSearch&sw_=1029&LocName=&LocId=&Area=10&cty_=\n",
      "https://www.berufsberatung.ch/dyn/show/2930?lang=de&Idx=200&OrderBy=1&Order=0&PostBackOrder=0&postBack=true&CountResult=100&Total_Idx=6&CounterSearch=18&UrlAjaxWebSearch=%2FLenaWeb%2FAjaxWebSearch&sw_=1030&LocName=&LocId=&Area=10&cty_=\n"
     ]
    },
    {
     "name": "stdout",
     "output_type": "stream",
     "text": [
      "https://www.berufsberatung.ch/dyn/show/2930?lang=de&Idx=200&OrderBy=1&Order=0&PostBackOrder=0&postBack=true&CountResult=100&Total_Idx=6&CounterSearch=18&UrlAjaxWebSearch=%2FLenaWeb%2FAjaxWebSearch&sw_=601&LocName=&LocId=&Area=10&cty_=\n",
      "https://www.berufsberatung.ch/dyn/show/2930?lang=de&Idx=200&OrderBy=1&Order=0&PostBackOrder=0&postBack=true&CountResult=100&Total_Idx=6&CounterSearch=18&UrlAjaxWebSearch=%2FLenaWeb%2FAjaxWebSearch&sw_=603&LocName=&LocId=&Area=10&cty_=\n",
      "https://www.berufsberatung.ch/dyn/show/2930?lang=de&Idx=200&OrderBy=1&Order=0&PostBackOrder=0&postBack=true&CountResult=100&Total_Idx=6&CounterSearch=18&UrlAjaxWebSearch=%2FLenaWeb%2FAjaxWebSearch&sw_=604&LocName=&LocId=&Area=10&cty_=\n",
      "https://www.berufsberatung.ch/dyn/show/2930?lang=de&Idx=200&OrderBy=1&Order=0&PostBackOrder=0&postBack=true&CountResult=100&Total_Idx=6&CounterSearch=18&UrlAjaxWebSearch=%2FLenaWeb%2FAjaxWebSearch&sw_=602&LocName=&LocId=&Area=10&cty_=\n",
      "https://www.berufsberatung.ch/dyn/show/2930?lang=de&Idx=200&OrderBy=1&Order=0&PostBackOrder=0&postBack=true&CountResult=100&Total_Idx=6&CounterSearch=18&UrlAjaxWebSearch=%2FLenaWeb%2FAjaxWebSearch&sw_=606&LocName=&LocId=&Area=10&cty_=\n",
      "https://www.berufsberatung.ch/dyn/show/2930?lang=de&Idx=200&OrderBy=1&Order=0&PostBackOrder=0&postBack=true&CountResult=100&Total_Idx=6&CounterSearch=18&UrlAjaxWebSearch=%2FLenaWeb%2FAjaxWebSearch&sw_=607&LocName=&LocId=&Area=10&cty_=\n",
      "https://www.berufsberatung.ch/dyn/show/2930?lang=de&Idx=200&OrderBy=1&Order=0&PostBackOrder=0&postBack=true&CountResult=100&Total_Idx=6&CounterSearch=18&UrlAjaxWebSearch=%2FLenaWeb%2FAjaxWebSearch&sw_=605&LocName=&LocId=&Area=10&cty_=\n",
      "https://www.berufsberatung.ch/dyn/show/2930?lang=de&Idx=200&OrderBy=1&Order=0&PostBackOrder=0&postBack=true&CountResult=100&Total_Idx=6&CounterSearch=18&UrlAjaxWebSearch=%2FLenaWeb%2FAjaxWebSearch&sw_=2277&LocName=&LocId=&Area=10&cty_=\n",
      "https://www.berufsberatung.ch/dyn/show/2930?lang=de&Idx=200&OrderBy=1&Order=0&PostBackOrder=0&postBack=true&CountResult=100&Total_Idx=6&CounterSearch=18&UrlAjaxWebSearch=%2FLenaWeb%2FAjaxWebSearch&sw_=521&LocName=&LocId=&Area=10&cty_=\n",
      "https://www.berufsberatung.ch/dyn/show/2930?lang=de&Idx=200&OrderBy=1&Order=0&PostBackOrder=0&postBack=true&CountResult=100&Total_Idx=6&CounterSearch=18&UrlAjaxWebSearch=%2FLenaWeb%2FAjaxWebSearch&sw_=8206&LocName=&LocId=&Area=10&cty_=\n",
      "https://www.berufsberatung.ch/dyn/show/2930?lang=de&Idx=200&OrderBy=1&Order=0&PostBackOrder=0&postBack=true&CountResult=100&Total_Idx=6&CounterSearch=18&UrlAjaxWebSearch=%2FLenaWeb%2FAjaxWebSearch&sw_=522&LocName=&LocId=&Area=10&cty_=\n",
      "https://www.berufsberatung.ch/dyn/show/2930?lang=de&Idx=200&OrderBy=1&Order=0&PostBackOrder=0&postBack=true&CountResult=100&Total_Idx=6&CounterSearch=18&UrlAjaxWebSearch=%2FLenaWeb%2FAjaxWebSearch&sw_=495&LocName=&LocId=&Area=10&cty_=\n",
      "https://www.berufsberatung.ch/dyn/show/2930?lang=de&Idx=200&OrderBy=1&Order=0&PostBackOrder=0&postBack=true&CountResult=100&Total_Idx=6&CounterSearch=18&UrlAjaxWebSearch=%2FLenaWeb%2FAjaxWebSearch&sw_=523&LocName=&LocId=&Area=10&cty_=\n",
      "https://www.berufsberatung.ch/dyn/show/2930?lang=de&Idx=200&OrderBy=1&Order=0&PostBackOrder=0&postBack=true&CountResult=100&Total_Idx=6&CounterSearch=18&UrlAjaxWebSearch=%2FLenaWeb%2FAjaxWebSearch&sw_=1192&LocName=&LocId=&Area=10&cty_=\n",
      "https://www.berufsberatung.ch/dyn/show/2930?lang=de&Idx=200&OrderBy=1&Order=0&PostBackOrder=0&postBack=true&CountResult=100&Total_Idx=6&CounterSearch=18&UrlAjaxWebSearch=%2FLenaWeb%2FAjaxWebSearch&sw_=1203&LocName=&LocId=&Area=10&cty_=\n",
      "https://www.berufsberatung.ch/dyn/show/2930?lang=de&Idx=200&OrderBy=1&Order=0&PostBackOrder=0&postBack=true&CountResult=100&Total_Idx=6&CounterSearch=18&UrlAjaxWebSearch=%2FLenaWeb%2FAjaxWebSearch&sw_=1193&LocName=&LocId=&Area=10&cty_=\n",
      "https://www.berufsberatung.ch/dyn/show/2930?lang=de&Idx=200&OrderBy=1&Order=0&PostBackOrder=0&postBack=true&CountResult=100&Total_Idx=6&CounterSearch=18&UrlAjaxWebSearch=%2FLenaWeb%2FAjaxWebSearch&sw_=1214&LocName=&LocId=&Area=10&cty_=\n",
      "https://www.berufsberatung.ch/dyn/show/2930?lang=de&Idx=200&OrderBy=1&Order=0&PostBackOrder=0&postBack=true&CountResult=100&Total_Idx=6&CounterSearch=18&UrlAjaxWebSearch=%2FLenaWeb%2FAjaxWebSearch&sw_=1204&LocName=&LocId=&Area=10&cty_=\n",
      "https://www.berufsberatung.ch/dyn/show/2930?lang=de&Idx=200&OrderBy=1&Order=0&PostBackOrder=0&postBack=true&CountResult=100&Total_Idx=6&CounterSearch=18&UrlAjaxWebSearch=%2FLenaWeb%2FAjaxWebSearch&sw_=1210&LocName=&LocId=&Area=10&cty_=\n",
      "https://www.berufsberatung.ch/dyn/show/2930?lang=de&Idx=200&OrderBy=1&Order=0&PostBackOrder=0&postBack=true&CountResult=100&Total_Idx=6&CounterSearch=18&UrlAjaxWebSearch=%2FLenaWeb%2FAjaxWebSearch&sw_=1211&LocName=&LocId=&Area=10&cty_=\n",
      "https://www.berufsberatung.ch/dyn/show/2930?lang=de&Idx=200&OrderBy=1&Order=0&PostBackOrder=0&postBack=true&CountResult=100&Total_Idx=6&CounterSearch=18&UrlAjaxWebSearch=%2FLenaWeb%2FAjaxWebSearch&sw_=1212&LocName=&LocId=&Area=10&cty_=\n",
      "https://www.berufsberatung.ch/dyn/show/2930?lang=de&Idx=200&OrderBy=1&Order=0&PostBackOrder=0&postBack=true&CountResult=100&Total_Idx=6&CounterSearch=18&UrlAjaxWebSearch=%2FLenaWeb%2FAjaxWebSearch&sw_=1213&LocName=&LocId=&Area=10&cty_=\n",
      "https://www.berufsberatung.ch/dyn/show/2930?lang=de&Idx=200&OrderBy=1&Order=0&PostBackOrder=0&postBack=true&CountResult=100&Total_Idx=6&CounterSearch=18&UrlAjaxWebSearch=%2FLenaWeb%2FAjaxWebSearch&sw_=1215&LocName=&LocId=&Area=10&cty_=\n",
      "https://www.berufsberatung.ch/dyn/show/2930?lang=de&Idx=200&OrderBy=1&Order=0&PostBackOrder=0&postBack=true&CountResult=100&Total_Idx=6&CounterSearch=18&UrlAjaxWebSearch=%2FLenaWeb%2FAjaxWebSearch&sw_=8499&LocName=&LocId=&Area=10&cty_=\n",
      "https://www.berufsberatung.ch/dyn/show/2930?lang=de&Idx=200&OrderBy=1&Order=0&PostBackOrder=0&postBack=true&CountResult=100&Total_Idx=6&CounterSearch=18&UrlAjaxWebSearch=%2FLenaWeb%2FAjaxWebSearch&sw_=1216&LocName=&LocId=&Area=10&cty_=\n",
      "https://www.berufsberatung.ch/dyn/show/2930?lang=de&Idx=200&OrderBy=1&Order=0&PostBackOrder=0&postBack=true&CountResult=100&Total_Idx=6&CounterSearch=18&UrlAjaxWebSearch=%2FLenaWeb%2FAjaxWebSearch&sw_=1206&LocName=&LocId=&Area=10&cty_=\n",
      "https://www.berufsberatung.ch/dyn/show/2930?lang=de&Idx=200&OrderBy=1&Order=0&PostBackOrder=0&postBack=true&CountResult=100&Total_Idx=6&CounterSearch=18&UrlAjaxWebSearch=%2FLenaWeb%2FAjaxWebSearch&sw_=1208&LocName=&LocId=&Area=10&cty_=\n",
      "https://www.berufsberatung.ch/dyn/show/2930?lang=de&Idx=200&OrderBy=1&Order=0&PostBackOrder=0&postBack=true&CountResult=100&Total_Idx=6&CounterSearch=18&UrlAjaxWebSearch=%2FLenaWeb%2FAjaxWebSearch&sw_=1195&LocName=&LocId=&Area=10&cty_=\n",
      "https://www.berufsberatung.ch/dyn/show/2930?lang=de&Idx=200&OrderBy=1&Order=0&PostBackOrder=0&postBack=true&CountResult=100&Total_Idx=6&CounterSearch=18&UrlAjaxWebSearch=%2FLenaWeb%2FAjaxWebSearch&sw_=1194&LocName=&LocId=&Area=10&cty_=\n",
      "https://www.berufsberatung.ch/dyn/show/2930?lang=de&Idx=200&OrderBy=1&Order=0&PostBackOrder=0&postBack=true&CountResult=100&Total_Idx=6&CounterSearch=18&UrlAjaxWebSearch=%2FLenaWeb%2FAjaxWebSearch&sw_=1197&LocName=&LocId=&Area=10&cty_=\n",
      "https://www.berufsberatung.ch/dyn/show/2930?lang=de&Idx=200&OrderBy=1&Order=0&PostBackOrder=0&postBack=true&CountResult=100&Total_Idx=6&CounterSearch=18&UrlAjaxWebSearch=%2FLenaWeb%2FAjaxWebSearch&sw_=1198&LocName=&LocId=&Area=10&cty_=\n",
      "https://www.berufsberatung.ch/dyn/show/2930?lang=de&Idx=200&OrderBy=1&Order=0&PostBackOrder=0&postBack=true&CountResult=100&Total_Idx=6&CounterSearch=18&UrlAjaxWebSearch=%2FLenaWeb%2FAjaxWebSearch&sw_=1199&LocName=&LocId=&Area=10&cty_=\n",
      "https://www.berufsberatung.ch/dyn/show/2930?lang=de&Idx=200&OrderBy=1&Order=0&PostBackOrder=0&postBack=true&CountResult=100&Total_Idx=6&CounterSearch=18&UrlAjaxWebSearch=%2FLenaWeb%2FAjaxWebSearch&sw_=1200&LocName=&LocId=&Area=10&cty_=\n",
      "https://www.berufsberatung.ch/dyn/show/2930?lang=de&Idx=200&OrderBy=1&Order=0&PostBackOrder=0&postBack=true&CountResult=100&Total_Idx=6&CounterSearch=18&UrlAjaxWebSearch=%2FLenaWeb%2FAjaxWebSearch&sw_=1205&LocName=&LocId=&Area=10&cty_=\n",
      "https://www.berufsberatung.ch/dyn/show/2930?lang=de&Idx=200&OrderBy=1&Order=0&PostBackOrder=0&postBack=true&CountResult=100&Total_Idx=6&CounterSearch=18&UrlAjaxWebSearch=%2FLenaWeb%2FAjaxWebSearch&sw_=1201&LocName=&LocId=&Area=10&cty_=\n"
     ]
    },
    {
     "name": "stdout",
     "output_type": "stream",
     "text": [
      "https://www.berufsberatung.ch/dyn/show/2930?lang=de&Idx=200&OrderBy=1&Order=0&PostBackOrder=0&postBack=true&CountResult=100&Total_Idx=6&CounterSearch=18&UrlAjaxWebSearch=%2FLenaWeb%2FAjaxWebSearch&sw_=1217&LocName=&LocId=&Area=10&cty_=\n",
      "https://www.berufsberatung.ch/dyn/show/2930?lang=de&Idx=200&OrderBy=1&Order=0&PostBackOrder=0&postBack=true&CountResult=100&Total_Idx=6&CounterSearch=18&UrlAjaxWebSearch=%2FLenaWeb%2FAjaxWebSearch&sw_=1230&LocName=&LocId=&Area=10&cty_=\n",
      "https://www.berufsberatung.ch/dyn/show/2930?lang=de&Idx=200&OrderBy=1&Order=0&PostBackOrder=0&postBack=true&CountResult=100&Total_Idx=6&CounterSearch=18&UrlAjaxWebSearch=%2FLenaWeb%2FAjaxWebSearch&sw_=1218&LocName=&LocId=&Area=10&cty_=\n",
      "https://www.berufsberatung.ch/dyn/show/2930?lang=de&Idx=200&OrderBy=1&Order=0&PostBackOrder=0&postBack=true&CountResult=100&Total_Idx=6&CounterSearch=18&UrlAjaxWebSearch=%2FLenaWeb%2FAjaxWebSearch&sw_=1240&LocName=&LocId=&Area=10&cty_=\n",
      "https://www.berufsberatung.ch/dyn/show/2930?lang=de&Idx=200&OrderBy=1&Order=0&PostBackOrder=0&postBack=true&CountResult=100&Total_Idx=6&CounterSearch=18&UrlAjaxWebSearch=%2FLenaWeb%2FAjaxWebSearch&sw_=1229&LocName=&LocId=&Area=10&cty_=\n",
      "https://www.berufsberatung.ch/dyn/show/2930?lang=de&Idx=200&OrderBy=1&Order=0&PostBackOrder=0&postBack=true&CountResult=100&Total_Idx=6&CounterSearch=18&UrlAjaxWebSearch=%2FLenaWeb%2FAjaxWebSearch&sw_=1236&LocName=&LocId=&Area=10&cty_=\n",
      "https://www.berufsberatung.ch/dyn/show/2930?lang=de&Idx=200&OrderBy=1&Order=0&PostBackOrder=0&postBack=true&CountResult=100&Total_Idx=6&CounterSearch=18&UrlAjaxWebSearch=%2FLenaWeb%2FAjaxWebSearch&sw_=1237&LocName=&LocId=&Area=10&cty_=\n",
      "https://www.berufsberatung.ch/dyn/show/2930?lang=de&Idx=200&OrderBy=1&Order=0&PostBackOrder=0&postBack=true&CountResult=100&Total_Idx=6&CounterSearch=18&UrlAjaxWebSearch=%2FLenaWeb%2FAjaxWebSearch&sw_=1238&LocName=&LocId=&Area=10&cty_=\n",
      "https://www.berufsberatung.ch/dyn/show/2930?lang=de&Idx=200&OrderBy=1&Order=0&PostBackOrder=0&postBack=true&CountResult=100&Total_Idx=6&CounterSearch=18&UrlAjaxWebSearch=%2FLenaWeb%2FAjaxWebSearch&sw_=1239&LocName=&LocId=&Area=10&cty_=\n",
      "https://www.berufsberatung.ch/dyn/show/2930?lang=de&Idx=200&OrderBy=1&Order=0&PostBackOrder=0&postBack=true&CountResult=100&Total_Idx=6&CounterSearch=18&UrlAjaxWebSearch=%2FLenaWeb%2FAjaxWebSearch&sw_=1241&LocName=&LocId=&Area=10&cty_=\n",
      "https://www.berufsberatung.ch/dyn/show/2930?lang=de&Idx=200&OrderBy=1&Order=0&PostBackOrder=0&postBack=true&CountResult=100&Total_Idx=6&CounterSearch=18&UrlAjaxWebSearch=%2FLenaWeb%2FAjaxWebSearch&sw_=1242&LocName=&LocId=&Area=10&cty_=\n",
      "https://www.berufsberatung.ch/dyn/show/2930?lang=de&Idx=200&OrderBy=1&Order=0&PostBackOrder=0&postBack=true&CountResult=100&Total_Idx=6&CounterSearch=18&UrlAjaxWebSearch=%2FLenaWeb%2FAjaxWebSearch&sw_=1219&LocName=&LocId=&Area=10&cty_=\n",
      "https://www.berufsberatung.ch/dyn/show/2930?lang=de&Idx=200&OrderBy=1&Order=0&PostBackOrder=0&postBack=true&CountResult=100&Total_Idx=6&CounterSearch=18&UrlAjaxWebSearch=%2FLenaWeb%2FAjaxWebSearch&sw_=1232&LocName=&LocId=&Area=10&cty_=\n",
      "https://www.berufsberatung.ch/dyn/show/2930?lang=de&Idx=200&OrderBy=1&Order=0&PostBackOrder=0&postBack=true&CountResult=100&Total_Idx=6&CounterSearch=18&UrlAjaxWebSearch=%2FLenaWeb%2FAjaxWebSearch&sw_=1234&LocName=&LocId=&Area=10&cty_=\n",
      "https://www.berufsberatung.ch/dyn/show/2930?lang=de&Idx=200&OrderBy=1&Order=0&PostBackOrder=0&postBack=true&CountResult=100&Total_Idx=6&CounterSearch=18&UrlAjaxWebSearch=%2FLenaWeb%2FAjaxWebSearch&sw_=1221&LocName=&LocId=&Area=10&cty_=\n",
      "https://www.berufsberatung.ch/dyn/show/2930?lang=de&Idx=200&OrderBy=1&Order=0&PostBackOrder=0&postBack=true&CountResult=100&Total_Idx=6&CounterSearch=18&UrlAjaxWebSearch=%2FLenaWeb%2FAjaxWebSearch&sw_=1220&LocName=&LocId=&Area=10&cty_=\n",
      "https://www.berufsberatung.ch/dyn/show/2930?lang=de&Idx=200&OrderBy=1&Order=0&PostBackOrder=0&postBack=true&CountResult=100&Total_Idx=6&CounterSearch=18&UrlAjaxWebSearch=%2FLenaWeb%2FAjaxWebSearch&sw_=1223&LocName=&LocId=&Area=10&cty_=\n",
      "https://www.berufsberatung.ch/dyn/show/2930?lang=de&Idx=200&OrderBy=1&Order=0&PostBackOrder=0&postBack=true&CountResult=100&Total_Idx=6&CounterSearch=18&UrlAjaxWebSearch=%2FLenaWeb%2FAjaxWebSearch&sw_=1224&LocName=&LocId=&Area=10&cty_=\n",
      "https://www.berufsberatung.ch/dyn/show/2930?lang=de&Idx=200&OrderBy=1&Order=0&PostBackOrder=0&postBack=true&CountResult=100&Total_Idx=6&CounterSearch=18&UrlAjaxWebSearch=%2FLenaWeb%2FAjaxWebSearch&sw_=1225&LocName=&LocId=&Area=10&cty_=\n",
      "https://www.berufsberatung.ch/dyn/show/2930?lang=de&Idx=200&OrderBy=1&Order=0&PostBackOrder=0&postBack=true&CountResult=100&Total_Idx=6&CounterSearch=18&UrlAjaxWebSearch=%2FLenaWeb%2FAjaxWebSearch&sw_=1226&LocName=&LocId=&Area=10&cty_=\n",
      "https://www.berufsberatung.ch/dyn/show/2930?lang=de&Idx=200&OrderBy=1&Order=0&PostBackOrder=0&postBack=true&CountResult=100&Total_Idx=6&CounterSearch=18&UrlAjaxWebSearch=%2FLenaWeb%2FAjaxWebSearch&sw_=1231&LocName=&LocId=&Area=10&cty_=\n",
      "https://www.berufsberatung.ch/dyn/show/2930?lang=de&Idx=200&OrderBy=1&Order=0&PostBackOrder=0&postBack=true&CountResult=100&Total_Idx=6&CounterSearch=18&UrlAjaxWebSearch=%2FLenaWeb%2FAjaxWebSearch&sw_=1227&LocName=&LocId=&Area=10&cty_=\n",
      "https://www.berufsberatung.ch/dyn/show/2930?lang=de&Idx=200&OrderBy=1&Order=0&PostBackOrder=0&postBack=true&CountResult=100&Total_Idx=6&CounterSearch=18&UrlAjaxWebSearch=%2FLenaWeb%2FAjaxWebSearch&sw_=2330&LocName=&LocId=&Area=10&cty_=\n",
      "https://www.berufsberatung.ch/dyn/show/2930?lang=de&Idx=200&OrderBy=1&Order=0&PostBackOrder=0&postBack=true&CountResult=100&Total_Idx=6&CounterSearch=18&UrlAjaxWebSearch=%2FLenaWeb%2FAjaxWebSearch&sw_=9263&LocName=&LocId=&Area=10&cty_=\n",
      "https://www.berufsberatung.ch/dyn/show/2930?lang=de&Idx=200&OrderBy=1&Order=0&PostBackOrder=0&postBack=true&CountResult=100&Total_Idx=6&CounterSearch=18&UrlAjaxWebSearch=%2FLenaWeb%2FAjaxWebSearch&sw_=236&LocName=&LocId=&Area=10&cty_=\n",
      "https://www.berufsberatung.ch/dyn/show/2930?lang=de&Idx=200&OrderBy=1&Order=0&PostBackOrder=0&postBack=true&CountResult=100&Total_Idx=6&CounterSearch=18&UrlAjaxWebSearch=%2FLenaWeb%2FAjaxWebSearch&sw_=820&LocName=&LocId=&Area=10&cty_=\n",
      "https://www.berufsberatung.ch/dyn/show/2930?lang=de&Idx=200&OrderBy=1&Order=0&PostBackOrder=0&postBack=true&CountResult=100&Total_Idx=6&CounterSearch=18&UrlAjaxWebSearch=%2FLenaWeb%2FAjaxWebSearch&sw_=2333&LocName=&LocId=&Area=10&cty_=\n",
      "https://www.berufsberatung.ch/dyn/show/2930?lang=de&Idx=200&OrderBy=1&Order=0&PostBackOrder=0&postBack=true&CountResult=100&Total_Idx=6&CounterSearch=18&UrlAjaxWebSearch=%2FLenaWeb%2FAjaxWebSearch&sw_=377&LocName=&LocId=&Area=10&cty_=\n",
      "https://www.berufsberatung.ch/dyn/show/2930?lang=de&Idx=200&OrderBy=1&Order=0&PostBackOrder=0&postBack=true&CountResult=100&Total_Idx=6&CounterSearch=18&UrlAjaxWebSearch=%2FLenaWeb%2FAjaxWebSearch&sw_=260&LocName=&LocId=&Area=10&cty_=\n",
      "https://www.berufsberatung.ch/dyn/show/2930?lang=de&Idx=200&OrderBy=1&Order=0&PostBackOrder=0&postBack=true&CountResult=100&Total_Idx=6&CounterSearch=18&UrlAjaxWebSearch=%2FLenaWeb%2FAjaxWebSearch&sw_=682&LocName=&LocId=&Area=10&cty_=\n",
      "https://www.berufsberatung.ch/dyn/show/2930?lang=de&Idx=200&OrderBy=1&Order=0&PostBackOrder=0&postBack=true&CountResult=100&Total_Idx=6&CounterSearch=18&UrlAjaxWebSearch=%2FLenaWeb%2FAjaxWebSearch&sw_=7056&LocName=&LocId=&Area=10&cty_=\n",
      "https://www.berufsberatung.ch/dyn/show/2930?lang=de&Idx=200&OrderBy=1&Order=0&PostBackOrder=0&postBack=true&CountResult=100&Total_Idx=6&CounterSearch=18&UrlAjaxWebSearch=%2FLenaWeb%2FAjaxWebSearch&sw_=7202&LocName=&LocId=&Area=10&cty_=\n",
      "https://www.berufsberatung.ch/dyn/show/2930?lang=de&Idx=200&OrderBy=1&Order=0&PostBackOrder=0&postBack=true&CountResult=100&Total_Idx=6&CounterSearch=18&UrlAjaxWebSearch=%2FLenaWeb%2FAjaxWebSearch&sw_=7199&LocName=&LocId=&Area=10&cty_=\n",
      "https://www.berufsberatung.ch/dyn/show/2930?lang=de&Idx=200&OrderBy=1&Order=0&PostBackOrder=0&postBack=true&CountResult=100&Total_Idx=6&CounterSearch=18&UrlAjaxWebSearch=%2FLenaWeb%2FAjaxWebSearch&sw_=7200&LocName=&LocId=&Area=10&cty_=\n",
      "https://www.berufsberatung.ch/dyn/show/2930?lang=de&Idx=200&OrderBy=1&Order=0&PostBackOrder=0&postBack=true&CountResult=100&Total_Idx=6&CounterSearch=18&UrlAjaxWebSearch=%2FLenaWeb%2FAjaxWebSearch&sw_=7201&LocName=&LocId=&Area=10&cty_=\n"
     ]
    },
    {
     "name": "stdout",
     "output_type": "stream",
     "text": [
      "https://www.berufsberatung.ch/dyn/show/2930?lang=de&Idx=200&OrderBy=1&Order=0&PostBackOrder=0&postBack=true&CountResult=100&Total_Idx=6&CounterSearch=18&UrlAjaxWebSearch=%2FLenaWeb%2FAjaxWebSearch&sw_=7198&LocName=&LocId=&Area=10&cty_=\n",
      "https://www.berufsberatung.ch/dyn/show/2930?lang=de&Idx=200&OrderBy=1&Order=0&PostBackOrder=0&postBack=true&CountResult=100&Total_Idx=6&CounterSearch=18&UrlAjaxWebSearch=%2FLenaWeb%2FAjaxWebSearch&sw_=7215&LocName=&LocId=&Area=10&cty_=\n",
      "https://www.berufsberatung.ch/dyn/show/2930?lang=de&Idx=200&OrderBy=1&Order=0&PostBackOrder=0&postBack=true&CountResult=100&Total_Idx=6&CounterSearch=18&UrlAjaxWebSearch=%2FLenaWeb%2FAjaxWebSearch&sw_=7184&LocName=&LocId=&Area=10&cty_=\n",
      "https://www.berufsberatung.ch/dyn/show/2930?lang=de&Idx=200&OrderBy=1&Order=0&PostBackOrder=0&postBack=true&CountResult=100&Total_Idx=6&CounterSearch=18&UrlAjaxWebSearch=%2FLenaWeb%2FAjaxWebSearch&sw_=7189&LocName=&LocId=&Area=10&cty_=\n",
      "https://www.berufsberatung.ch/dyn/show/2930?lang=de&Idx=200&OrderBy=1&Order=0&PostBackOrder=0&postBack=true&CountResult=100&Total_Idx=6&CounterSearch=18&UrlAjaxWebSearch=%2FLenaWeb%2FAjaxWebSearch&sw_=7190&LocName=&LocId=&Area=10&cty_=\n",
      "https://www.berufsberatung.ch/dyn/show/2930?lang=de&Idx=200&OrderBy=1&Order=0&PostBackOrder=0&postBack=true&CountResult=100&Total_Idx=6&CounterSearch=18&UrlAjaxWebSearch=%2FLenaWeb%2FAjaxWebSearch&sw_=7192&LocName=&LocId=&Area=10&cty_=\n",
      "https://www.berufsberatung.ch/dyn/show/2930?lang=de&Idx=200&OrderBy=1&Order=0&PostBackOrder=0&postBack=true&CountResult=100&Total_Idx=6&CounterSearch=18&UrlAjaxWebSearch=%2FLenaWeb%2FAjaxWebSearch&sw_=7191&LocName=&LocId=&Area=10&cty_=\n",
      "https://www.berufsberatung.ch/dyn/show/2930?lang=de&Idx=200&OrderBy=1&Order=0&PostBackOrder=0&postBack=true&CountResult=100&Total_Idx=6&CounterSearch=18&UrlAjaxWebSearch=%2FLenaWeb%2FAjaxWebSearch&sw_=9406&LocName=&LocId=&Area=10&cty_=\n",
      "https://www.berufsberatung.ch/dyn/show/2930?lang=de&Idx=200&OrderBy=1&Order=0&PostBackOrder=0&postBack=true&CountResult=100&Total_Idx=6&CounterSearch=18&UrlAjaxWebSearch=%2FLenaWeb%2FAjaxWebSearch&sw_=11211&LocName=&LocId=&Area=10&cty_=\n",
      "https://www.berufsberatung.ch/dyn/show/2930?lang=de&Idx=200&OrderBy=1&Order=0&PostBackOrder=0&postBack=true&CountResult=100&Total_Idx=6&CounterSearch=18&UrlAjaxWebSearch=%2FLenaWeb%2FAjaxWebSearch&sw_=11218&LocName=&LocId=&Area=10&cty_=\n",
      "https://www.berufsberatung.ch/dyn/show/2930?lang=de&Idx=200&OrderBy=1&Order=0&PostBackOrder=0&postBack=true&CountResult=100&Total_Idx=6&CounterSearch=18&UrlAjaxWebSearch=%2FLenaWeb%2FAjaxWebSearch&sw_=1093&LocName=&LocId=&Area=10&cty_=\n",
      "https://www.berufsberatung.ch/dyn/show/2930?lang=de&Idx=200&OrderBy=1&Order=0&PostBackOrder=0&postBack=true&CountResult=100&Total_Idx=6&CounterSearch=18&UrlAjaxWebSearch=%2FLenaWeb%2FAjaxWebSearch&sw_=31&LocName=&LocId=&Area=10&cty_=\n",
      "https://www.berufsberatung.ch/dyn/show/2930?lang=de&Idx=200&OrderBy=1&Order=0&PostBackOrder=0&postBack=true&CountResult=100&Total_Idx=6&CounterSearch=18&UrlAjaxWebSearch=%2FLenaWeb%2FAjaxWebSearch&sw_=11186&LocName=&LocId=&Area=10&cty_=\n",
      "https://www.berufsberatung.ch/dyn/show/2930?lang=de&Idx=200&OrderBy=1&Order=0&PostBackOrder=0&postBack=true&CountResult=100&Total_Idx=6&CounterSearch=18&UrlAjaxWebSearch=%2FLenaWeb%2FAjaxWebSearch&sw_=226&LocName=&LocId=&Area=10&cty_=\n",
      "https://www.berufsberatung.ch/dyn/show/2930?lang=de&Idx=200&OrderBy=1&Order=0&PostBackOrder=0&postBack=true&CountResult=100&Total_Idx=6&CounterSearch=18&UrlAjaxWebSearch=%2FLenaWeb%2FAjaxWebSearch&sw_=185&LocName=&LocId=&Area=10&cty_=\n",
      "https://www.berufsberatung.ch/dyn/show/2930?lang=de&Idx=200&OrderBy=1&Order=0&PostBackOrder=0&postBack=true&CountResult=100&Total_Idx=6&CounterSearch=18&UrlAjaxWebSearch=%2FLenaWeb%2FAjaxWebSearch&sw_=11188&LocName=&LocId=&Area=10&cty_=\n",
      "https://www.berufsberatung.ch/dyn/show/2930?lang=de&Idx=200&OrderBy=1&Order=0&PostBackOrder=0&postBack=true&CountResult=100&Total_Idx=6&CounterSearch=18&UrlAjaxWebSearch=%2FLenaWeb%2FAjaxWebSearch&sw_=11190&LocName=&LocId=&Area=10&cty_=\n",
      "https://www.berufsberatung.ch/dyn/show/2930?lang=de&Idx=200&OrderBy=1&Order=0&PostBackOrder=0&postBack=true&CountResult=100&Total_Idx=6&CounterSearch=18&UrlAjaxWebSearch=%2FLenaWeb%2FAjaxWebSearch&sw_=11192&LocName=&LocId=&Area=10&cty_=\n",
      "https://www.berufsberatung.ch/dyn/show/2930?lang=de&Idx=200&OrderBy=1&Order=0&PostBackOrder=0&postBack=true&CountResult=100&Total_Idx=6&CounterSearch=18&UrlAjaxWebSearch=%2FLenaWeb%2FAjaxWebSearch&sw_=11194&LocName=&LocId=&Area=10&cty_=\n",
      "https://www.berufsberatung.ch/dyn/show/2930?lang=de&Idx=200&OrderBy=1&Order=0&PostBackOrder=0&postBack=true&CountResult=100&Total_Idx=6&CounterSearch=18&UrlAjaxWebSearch=%2FLenaWeb%2FAjaxWebSearch&sw_=11195&LocName=&LocId=&Area=10&cty_=\n",
      "https://www.berufsberatung.ch/dyn/show/2930?lang=de&Idx=200&OrderBy=1&Order=0&PostBackOrder=0&postBack=true&CountResult=100&Total_Idx=6&CounterSearch=18&UrlAjaxWebSearch=%2FLenaWeb%2FAjaxWebSearch&sw_=11196&LocName=&LocId=&Area=10&cty_=\n",
      "https://www.berufsberatung.ch/dyn/show/2930?lang=de&Idx=200&OrderBy=1&Order=0&PostBackOrder=0&postBack=true&CountResult=100&Total_Idx=6&CounterSearch=18&UrlAjaxWebSearch=%2FLenaWeb%2FAjaxWebSearch&sw_=11197&LocName=&LocId=&Area=10&cty_=\n",
      "https://www.berufsberatung.ch/dyn/show/2930?lang=de&Idx=200&OrderBy=1&Order=0&PostBackOrder=0&postBack=true&CountResult=100&Total_Idx=6&CounterSearch=18&UrlAjaxWebSearch=%2FLenaWeb%2FAjaxWebSearch&sw_=11198&LocName=&LocId=&Area=10&cty_=\n",
      "https://www.berufsberatung.ch/dyn/show/2930?lang=de&Idx=200&OrderBy=1&Order=0&PostBackOrder=0&postBack=true&CountResult=100&Total_Idx=6&CounterSearch=18&UrlAjaxWebSearch=%2FLenaWeb%2FAjaxWebSearch&sw_=1560&LocName=&LocId=&Area=10&cty_=\n",
      "https://www.berufsberatung.ch/dyn/show/2930?lang=de&Idx=200&OrderBy=1&Order=0&PostBackOrder=0&postBack=true&CountResult=100&Total_Idx=6&CounterSearch=18&UrlAjaxWebSearch=%2FLenaWeb%2FAjaxWebSearch&sw_=1547&LocName=&LocId=&Area=10&cty_=\n",
      "https://www.berufsberatung.ch/dyn/show/2930?lang=de&Idx=200&OrderBy=1&Order=0&PostBackOrder=0&postBack=true&CountResult=100&Total_Idx=6&CounterSearch=18&UrlAjaxWebSearch=%2FLenaWeb%2FAjaxWebSearch&sw_=11337&LocName=&LocId=&Area=10&cty_=\n",
      "https://www.berufsberatung.ch/dyn/show/2930?lang=de&Idx=200&OrderBy=1&Order=0&PostBackOrder=0&postBack=true&CountResult=100&Total_Idx=6&CounterSearch=18&UrlAjaxWebSearch=%2FLenaWeb%2FAjaxWebSearch&sw_=11341&LocName=&LocId=&Area=10&cty_=\n",
      "https://www.berufsberatung.ch/dyn/show/2930?lang=de&Idx=200&OrderBy=1&Order=0&PostBackOrder=0&postBack=true&CountResult=100&Total_Idx=6&CounterSearch=18&UrlAjaxWebSearch=%2FLenaWeb%2FAjaxWebSearch&sw_=11342&LocName=&LocId=&Area=10&cty_=\n",
      "https://www.berufsberatung.ch/dyn/show/2930?lang=de&Idx=200&OrderBy=1&Order=0&PostBackOrder=0&postBack=true&CountResult=100&Total_Idx=6&CounterSearch=18&UrlAjaxWebSearch=%2FLenaWeb%2FAjaxWebSearch&sw_=526&LocName=&LocId=&Area=10&cty_=\n",
      "https://www.berufsberatung.ch/dyn/show/2930?lang=de&Idx=200&OrderBy=1&Order=0&PostBackOrder=0&postBack=true&CountResult=100&Total_Idx=6&CounterSearch=18&UrlAjaxWebSearch=%2FLenaWeb%2FAjaxWebSearch&sw_=11686&LocName=&LocId=&Area=10&cty_=\n",
      "https://www.berufsberatung.ch/dyn/show/2930?lang=de&Idx=200&OrderBy=1&Order=0&PostBackOrder=0&postBack=true&CountResult=100&Total_Idx=6&CounterSearch=18&UrlAjaxWebSearch=%2FLenaWeb%2FAjaxWebSearch&sw_=11684&LocName=&LocId=&Area=10&cty_=\n",
      "https://www.berufsberatung.ch/dyn/show/2930?lang=de&Idx=200&OrderBy=1&Order=0&PostBackOrder=0&postBack=true&CountResult=100&Total_Idx=6&CounterSearch=18&UrlAjaxWebSearch=%2FLenaWeb%2FAjaxWebSearch&sw_=611&LocName=&LocId=&Area=10&cty_=\n",
      "https://www.berufsberatung.ch/dyn/show/2930?lang=de&Idx=200&OrderBy=1&Order=0&PostBackOrder=0&postBack=true&CountResult=100&Total_Idx=6&CounterSearch=18&UrlAjaxWebSearch=%2FLenaWeb%2FAjaxWebSearch&sw_=9756&LocName=&LocId=&Area=10&cty_=\n",
      "https://www.berufsberatung.ch/dyn/show/2930?lang=de&Idx=200&OrderBy=1&Order=0&PostBackOrder=0&postBack=true&CountResult=100&Total_Idx=6&CounterSearch=18&UrlAjaxWebSearch=%2FLenaWeb%2FAjaxWebSearch&sw_=4&LocName=&LocId=&Area=10&cty_=\n",
      "https://www.berufsberatung.ch/dyn/show/2930?lang=de&Idx=200&OrderBy=1&Order=0&PostBackOrder=0&postBack=true&CountResult=100&Total_Idx=6&CounterSearch=18&UrlAjaxWebSearch=%2FLenaWeb%2FAjaxWebSearch&sw_=1719&LocName=&LocId=&Area=10&cty_=\n"
     ]
    },
    {
     "name": "stdout",
     "output_type": "stream",
     "text": [
      "https://www.berufsberatung.ch/dyn/show/2930?lang=de&Idx=200&OrderBy=1&Order=0&PostBackOrder=0&postBack=true&CountResult=100&Total_Idx=6&CounterSearch=18&UrlAjaxWebSearch=%2FLenaWeb%2FAjaxWebSearch&sw_=425&LocName=&LocId=&Area=10&cty_=\n",
      "https://www.berufsberatung.ch/dyn/show/2930?lang=de&Idx=200&OrderBy=1&Order=0&PostBackOrder=0&postBack=true&CountResult=100&Total_Idx=6&CounterSearch=18&UrlAjaxWebSearch=%2FLenaWeb%2FAjaxWebSearch&sw_=874&LocName=&LocId=&Area=10&cty_=\n",
      "https://www.berufsberatung.ch/dyn/show/2930?lang=de&Idx=200&OrderBy=1&Order=0&PostBackOrder=0&postBack=true&CountResult=100&Total_Idx=6&CounterSearch=18&UrlAjaxWebSearch=%2FLenaWeb%2FAjaxWebSearch&sw_=1024&LocName=&LocId=&Area=10&cty_=\n",
      "https://www.berufsberatung.ch/dyn/show/2930?lang=de&Idx=200&OrderBy=1&Order=0&PostBackOrder=0&postBack=true&CountResult=100&Total_Idx=6&CounterSearch=18&UrlAjaxWebSearch=%2FLenaWeb%2FAjaxWebSearch&sw_=1939&LocName=&LocId=&Area=10&cty_=\n",
      "https://www.berufsberatung.ch/dyn/show/2930?lang=de&Idx=200&OrderBy=1&Order=0&PostBackOrder=0&postBack=true&CountResult=100&Total_Idx=6&CounterSearch=18&UrlAjaxWebSearch=%2FLenaWeb%2FAjaxWebSearch&sw_=9629&LocName=&LocId=&Area=10&cty_=\n",
      "https://www.berufsberatung.ch/dyn/show/2930?lang=de&Idx=200&OrderBy=1&Order=0&PostBackOrder=0&postBack=true&CountResult=100&Total_Idx=6&CounterSearch=18&UrlAjaxWebSearch=%2FLenaWeb%2FAjaxWebSearch&sw_=1150&LocName=&LocId=&Area=10&cty_=\n",
      "https://www.berufsberatung.ch/dyn/show/2930?lang=de&Idx=200&OrderBy=1&Order=0&PostBackOrder=0&postBack=true&CountResult=100&Total_Idx=6&CounterSearch=18&UrlAjaxWebSearch=%2FLenaWeb%2FAjaxWebSearch&sw_=915&LocName=&LocId=&Area=10&cty_=\n",
      "https://www.berufsberatung.ch/dyn/show/2930?lang=de&Idx=200&OrderBy=1&Order=0&PostBackOrder=0&postBack=true&CountResult=100&Total_Idx=6&CounterSearch=18&UrlAjaxWebSearch=%2FLenaWeb%2FAjaxWebSearch&sw_=917&LocName=&LocId=&Area=10&cty_=\n",
      "https://www.berufsberatung.ch/dyn/show/2930?lang=de&Idx=200&OrderBy=1&Order=0&PostBackOrder=0&postBack=true&CountResult=100&Total_Idx=6&CounterSearch=18&UrlAjaxWebSearch=%2FLenaWeb%2FAjaxWebSearch&sw_=918&LocName=&LocId=&Area=10&cty_=\n",
      "https://www.berufsberatung.ch/dyn/show/2930?lang=de&Idx=200&OrderBy=1&Order=0&PostBackOrder=0&postBack=true&CountResult=100&Total_Idx=6&CounterSearch=18&UrlAjaxWebSearch=%2FLenaWeb%2FAjaxWebSearch&sw_=920&LocName=&LocId=&Area=10&cty_=\n",
      "https://www.berufsberatung.ch/dyn/show/2930?lang=de&Idx=200&OrderBy=1&Order=0&PostBackOrder=0&postBack=true&CountResult=100&Total_Idx=6&CounterSearch=18&UrlAjaxWebSearch=%2FLenaWeb%2FAjaxWebSearch&sw_=921&LocName=&LocId=&Area=10&cty_=\n",
      "https://www.berufsberatung.ch/dyn/show/2930?lang=de&Idx=200&OrderBy=1&Order=0&PostBackOrder=0&postBack=true&CountResult=100&Total_Idx=6&CounterSearch=18&UrlAjaxWebSearch=%2FLenaWeb%2FAjaxWebSearch&sw_=912&LocName=&LocId=&Area=10&cty_=\n",
      "https://www.berufsberatung.ch/dyn/show/2930?lang=de&Idx=200&OrderBy=1&Order=0&PostBackOrder=0&postBack=true&CountResult=100&Total_Idx=6&CounterSearch=18&UrlAjaxWebSearch=%2FLenaWeb%2FAjaxWebSearch&sw_=1012&LocName=&LocId=&Area=10&cty_=\n",
      "https://www.berufsberatung.ch/dyn/show/2930?lang=de&Idx=200&OrderBy=1&Order=0&PostBackOrder=0&postBack=true&CountResult=100&Total_Idx=6&CounterSearch=18&UrlAjaxWebSearch=%2FLenaWeb%2FAjaxWebSearch&sw_=9583&LocName=&LocId=&Area=10&cty_=\n",
      "https://www.berufsberatung.ch/dyn/show/2930?lang=de&Idx=200&OrderBy=1&Order=0&PostBackOrder=0&postBack=true&CountResult=100&Total_Idx=6&CounterSearch=18&UrlAjaxWebSearch=%2FLenaWeb%2FAjaxWebSearch&sw_=9582&LocName=&LocId=&Area=10&cty_=\n",
      "https://www.berufsberatung.ch/dyn/show/2930?lang=de&Idx=200&OrderBy=1&Order=0&PostBackOrder=0&postBack=true&CountResult=100&Total_Idx=6&CounterSearch=18&UrlAjaxWebSearch=%2FLenaWeb%2FAjaxWebSearch&sw_=9585&LocName=&LocId=&Area=10&cty_=\n",
      "https://www.berufsberatung.ch/dyn/show/2930?lang=de&Idx=200&OrderBy=1&Order=0&PostBackOrder=0&postBack=true&CountResult=100&Total_Idx=6&CounterSearch=18&UrlAjaxWebSearch=%2FLenaWeb%2FAjaxWebSearch&sw_=9584&LocName=&LocId=&Area=10&cty_=\n",
      "https://www.berufsberatung.ch/dyn/show/2930?lang=de&Idx=200&OrderBy=1&Order=0&PostBackOrder=0&postBack=true&CountResult=100&Total_Idx=6&CounterSearch=18&UrlAjaxWebSearch=%2FLenaWeb%2FAjaxWebSearch&sw_=1013&LocName=&LocId=&Area=10&cty_=\n",
      "https://www.berufsberatung.ch/dyn/show/2930?lang=de&Idx=200&OrderBy=1&Order=0&PostBackOrder=0&postBack=true&CountResult=100&Total_Idx=6&CounterSearch=18&UrlAjaxWebSearch=%2FLenaWeb%2FAjaxWebSearch&sw_=11039&LocName=&LocId=&Area=10&cty_=\n",
      "https://www.berufsberatung.ch/dyn/show/2930?lang=de&Idx=200&OrderBy=1&Order=0&PostBackOrder=0&postBack=true&CountResult=100&Total_Idx=6&CounterSearch=18&UrlAjaxWebSearch=%2FLenaWeb%2FAjaxWebSearch&sw_=11037&LocName=&LocId=&Area=10&cty_=\n",
      "https://www.berufsberatung.ch/dyn/show/2930?lang=de&Idx=200&OrderBy=1&Order=0&PostBackOrder=0&postBack=true&CountResult=100&Total_Idx=6&CounterSearch=18&UrlAjaxWebSearch=%2FLenaWeb%2FAjaxWebSearch&sw_=225&LocName=&LocId=&Area=10&cty_=\n",
      "https://www.berufsberatung.ch/dyn/show/2930?lang=de&Idx=200&OrderBy=1&Order=0&PostBackOrder=0&postBack=true&CountResult=100&Total_Idx=6&CounterSearch=18&UrlAjaxWebSearch=%2FLenaWeb%2FAjaxWebSearch&sw_=197&LocName=&LocId=&Area=10&cty_=\n",
      "https://www.berufsberatung.ch/dyn/show/2930?lang=de&Idx=200&OrderBy=1&Order=0&PostBackOrder=0&postBack=true&CountResult=100&Total_Idx=6&CounterSearch=18&UrlAjaxWebSearch=%2FLenaWeb%2FAjaxWebSearch&sw_=528&LocName=&LocId=&Area=10&cty_=\n",
      "https://www.berufsberatung.ch/dyn/show/2930?lang=de&Idx=200&OrderBy=1&Order=0&PostBackOrder=0&postBack=true&CountResult=100&Total_Idx=6&CounterSearch=18&UrlAjaxWebSearch=%2FLenaWeb%2FAjaxWebSearch&sw_=1096&LocName=&LocId=&Area=10&cty_=\n",
      "https://www.berufsberatung.ch/dyn/show/2930?lang=de&Idx=200&OrderBy=1&Order=0&PostBackOrder=0&postBack=true&CountResult=100&Total_Idx=6&CounterSearch=18&UrlAjaxWebSearch=%2FLenaWeb%2FAjaxWebSearch&sw_=1101&LocName=&LocId=&Area=10&cty_=\n",
      "https://www.berufsberatung.ch/dyn/show/2930?lang=de&Idx=200&OrderBy=1&Order=0&PostBackOrder=0&postBack=true&CountResult=100&Total_Idx=6&CounterSearch=18&UrlAjaxWebSearch=%2FLenaWeb%2FAjaxWebSearch&sw_=200&LocName=&LocId=&Area=10&cty_=\n",
      "https://www.berufsberatung.ch/dyn/show/2930?lang=de&Idx=200&OrderBy=1&Order=0&PostBackOrder=0&postBack=true&CountResult=100&Total_Idx=6&CounterSearch=18&UrlAjaxWebSearch=%2FLenaWeb%2FAjaxWebSearch&sw_=202&LocName=&LocId=&Area=10&cty_=\n",
      "https://www.berufsberatung.ch/dyn/show/2930?lang=de&Idx=200&OrderBy=1&Order=0&PostBackOrder=0&postBack=true&CountResult=100&Total_Idx=6&CounterSearch=18&UrlAjaxWebSearch=%2FLenaWeb%2FAjaxWebSearch&sw_=203&LocName=&LocId=&Area=10&cty_=\n",
      "https://www.berufsberatung.ch/dyn/show/2930?lang=de&Idx=200&OrderBy=1&Order=0&PostBackOrder=0&postBack=true&CountResult=100&Total_Idx=6&CounterSearch=18&UrlAjaxWebSearch=%2FLenaWeb%2FAjaxWebSearch&sw_=937&LocName=&LocId=&Area=10&cty_=\n",
      "https://www.berufsberatung.ch/dyn/show/2930?lang=de&Idx=200&OrderBy=1&Order=0&PostBackOrder=0&postBack=true&CountResult=100&Total_Idx=6&CounterSearch=18&UrlAjaxWebSearch=%2FLenaWeb%2FAjaxWebSearch&sw_=2288&LocName=&LocId=&Area=10&cty_=\n",
      "https://www.berufsberatung.ch/dyn/show/2930?lang=de&Idx=200&OrderBy=1&Order=0&PostBackOrder=0&postBack=true&CountResult=100&Total_Idx=6&CounterSearch=18&UrlAjaxWebSearch=%2FLenaWeb%2FAjaxWebSearch&sw_=2289&LocName=&LocId=&Area=10&cty_=\n",
      "https://www.berufsberatung.ch/dyn/show/2930?lang=de&Idx=200&OrderBy=1&Order=0&PostBackOrder=0&postBack=true&CountResult=100&Total_Idx=6&CounterSearch=18&UrlAjaxWebSearch=%2FLenaWeb%2FAjaxWebSearch&sw_=2293&LocName=&LocId=&Area=10&cty_=\n",
      "https://www.berufsberatung.ch/dyn/show/2930?lang=de&Idx=200&OrderBy=1&Order=0&PostBackOrder=0&postBack=true&CountResult=100&Total_Idx=6&CounterSearch=18&UrlAjaxWebSearch=%2FLenaWeb%2FAjaxWebSearch&sw_=2294&LocName=&LocId=&Area=10&cty_=\n",
      "https://www.berufsberatung.ch/dyn/show/2930?lang=de&Idx=200&OrderBy=1&Order=0&PostBackOrder=0&postBack=true&CountResult=100&Total_Idx=6&CounterSearch=18&UrlAjaxWebSearch=%2FLenaWeb%2FAjaxWebSearch&sw_=2295&LocName=&LocId=&Area=10&cty_=\n",
      "https://www.berufsberatung.ch/dyn/show/2930?lang=de&Idx=200&OrderBy=1&Order=0&PostBackOrder=0&postBack=true&CountResult=100&Total_Idx=6&CounterSearch=18&UrlAjaxWebSearch=%2FLenaWeb%2FAjaxWebSearch&sw_=2296&LocName=&LocId=&Area=10&cty_=\n"
     ]
    },
    {
     "name": "stdout",
     "output_type": "stream",
     "text": [
      "https://www.berufsberatung.ch/dyn/show/2930?lang=de&Idx=200&OrderBy=1&Order=0&PostBackOrder=0&postBack=true&CountResult=100&Total_Idx=6&CounterSearch=18&UrlAjaxWebSearch=%2FLenaWeb%2FAjaxWebSearch&sw_=532&LocName=&LocId=&Area=10&cty_=\n",
      "https://www.berufsberatung.ch/dyn/show/2930?lang=de&Idx=200&OrderBy=1&Order=0&PostBackOrder=0&postBack=true&CountResult=100&Total_Idx=6&CounterSearch=18&UrlAjaxWebSearch=%2FLenaWeb%2FAjaxWebSearch&sw_=11213&LocName=&LocId=&Area=10&cty_=\n",
      "https://www.berufsberatung.ch/dyn/show/2930?lang=de&Idx=200&OrderBy=1&Order=0&PostBackOrder=0&postBack=true&CountResult=100&Total_Idx=6&CounterSearch=18&UrlAjaxWebSearch=%2FLenaWeb%2FAjaxWebSearch&sw_=11225&LocName=&LocId=&Area=10&cty_=\n",
      "https://www.berufsberatung.ch/dyn/show/2930?lang=de&Idx=200&OrderBy=1&Order=0&PostBackOrder=0&postBack=true&CountResult=100&Total_Idx=6&CounterSearch=18&UrlAjaxWebSearch=%2FLenaWeb%2FAjaxWebSearch&sw_=11220&LocName=&LocId=&Area=10&cty_=\n",
      "https://www.berufsberatung.ch/dyn/show/2930?lang=de&Idx=200&OrderBy=1&Order=0&PostBackOrder=0&postBack=true&CountResult=100&Total_Idx=6&CounterSearch=18&UrlAjaxWebSearch=%2FLenaWeb%2FAjaxWebSearch&sw_=1171&LocName=&LocId=&Area=10&cty_=\n",
      "https://www.berufsberatung.ch/dyn/show/2930?lang=de&Idx=200&OrderBy=1&Order=0&PostBackOrder=0&postBack=true&CountResult=100&Total_Idx=6&CounterSearch=18&UrlAjaxWebSearch=%2FLenaWeb%2FAjaxWebSearch&sw_=1170&LocName=&LocId=&Area=10&cty_=\n",
      "https://www.berufsberatung.ch/dyn/show/2930?lang=de&Idx=200&OrderBy=1&Order=0&PostBackOrder=0&postBack=true&CountResult=100&Total_Idx=6&CounterSearch=18&UrlAjaxWebSearch=%2FLenaWeb%2FAjaxWebSearch&sw_=11229&LocName=&LocId=&Area=10&cty_=\n",
      "https://www.berufsberatung.ch/dyn/show/2930?lang=de&Idx=200&OrderBy=1&Order=0&PostBackOrder=0&postBack=true&CountResult=100&Total_Idx=6&CounterSearch=18&UrlAjaxWebSearch=%2FLenaWeb%2FAjaxWebSearch&sw_=11216&LocName=&LocId=&Area=10&cty_=\n",
      "https://www.berufsberatung.ch/dyn/show/2930?lang=de&Idx=200&OrderBy=1&Order=0&PostBackOrder=0&postBack=true&CountResult=100&Total_Idx=6&CounterSearch=18&UrlAjaxWebSearch=%2FLenaWeb%2FAjaxWebSearch&sw_=11223&LocName=&LocId=&Area=10&cty_=\n",
      "https://www.berufsberatung.ch/dyn/show/2930?lang=de&Idx=200&OrderBy=1&Order=0&PostBackOrder=0&postBack=true&CountResult=100&Total_Idx=6&CounterSearch=18&UrlAjaxWebSearch=%2FLenaWeb%2FAjaxWebSearch&sw_=1014&LocName=&LocId=&Area=10&cty_=\n",
      "https://www.berufsberatung.ch/dyn/show/2930?lang=de&Idx=200&OrderBy=1&Order=0&PostBackOrder=0&postBack=true&CountResult=100&Total_Idx=6&CounterSearch=18&UrlAjaxWebSearch=%2FLenaWeb%2FAjaxWebSearch&sw_=11595&LocName=&LocId=&Area=10&cty_=\n",
      "https://www.berufsberatung.ch/dyn/show/2930?lang=de&Idx=200&OrderBy=1&Order=0&PostBackOrder=0&postBack=true&CountResult=100&Total_Idx=6&CounterSearch=18&UrlAjaxWebSearch=%2FLenaWeb%2FAjaxWebSearch&sw_=11594&LocName=&LocId=&Area=10&cty_=\n",
      "https://www.berufsberatung.ch/dyn/show/2930?lang=de&Idx=200&OrderBy=1&Order=0&PostBackOrder=0&postBack=true&CountResult=100&Total_Idx=6&CounterSearch=18&UrlAjaxWebSearch=%2FLenaWeb%2FAjaxWebSearch&sw_=34&LocName=&LocId=&Area=10&cty_=\n",
      "https://www.berufsberatung.ch/dyn/show/2930?lang=de&Idx=200&OrderBy=1&Order=0&PostBackOrder=0&postBack=true&CountResult=100&Total_Idx=6&CounterSearch=18&UrlAjaxWebSearch=%2FLenaWeb%2FAjaxWebSearch&sw_=11178&LocName=&LocId=&Area=10&cty_=\n",
      "https://www.berufsberatung.ch/dyn/show/2930?lang=de&Idx=200&OrderBy=1&Order=0&PostBackOrder=0&postBack=true&CountResult=100&Total_Idx=6&CounterSearch=18&UrlAjaxWebSearch=%2FLenaWeb%2FAjaxWebSearch&sw_=586&LocName=&LocId=&Area=10&cty_=\n",
      "https://www.berufsberatung.ch/dyn/show/2930?lang=de&Idx=200&OrderBy=1&Order=0&PostBackOrder=0&postBack=true&CountResult=100&Total_Idx=6&CounterSearch=18&UrlAjaxWebSearch=%2FLenaWeb%2FAjaxWebSearch&sw_=352&LocName=&LocId=&Area=10&cty_=\n",
      "https://www.berufsberatung.ch/dyn/show/2930?lang=de&Idx=200&OrderBy=1&Order=0&PostBackOrder=0&postBack=true&CountResult=100&Total_Idx=6&CounterSearch=18&UrlAjaxWebSearch=%2FLenaWeb%2FAjaxWebSearch&sw_=1942&LocName=&LocId=&Area=10&cty_=\n",
      "https://www.berufsberatung.ch/dyn/show/2930?lang=de&Idx=200&OrderBy=1&Order=0&PostBackOrder=0&postBack=true&CountResult=100&Total_Idx=6&CounterSearch=18&UrlAjaxWebSearch=%2FLenaWeb%2FAjaxWebSearch&sw_=688&LocName=&LocId=&Area=10&cty_=\n",
      "https://www.berufsberatung.ch/dyn/show/2930?lang=de&Idx=200&OrderBy=1&Order=0&PostBackOrder=0&postBack=true&CountResult=100&Total_Idx=6&CounterSearch=18&UrlAjaxWebSearch=%2FLenaWeb%2FAjaxWebSearch&sw_=87&LocName=&LocId=&Area=10&cty_=\n",
      "https://www.berufsberatung.ch/dyn/show/2930?lang=de&Idx=200&OrderBy=1&Order=0&PostBackOrder=0&postBack=true&CountResult=100&Total_Idx=6&CounterSearch=18&UrlAjaxWebSearch=%2FLenaWeb%2FAjaxWebSearch&sw_=91&LocName=&LocId=&Area=10&cty_=\n",
      "https://www.berufsberatung.ch/dyn/show/2930?lang=de&Idx=200&OrderBy=1&Order=0&PostBackOrder=0&postBack=true&CountResult=100&Total_Idx=6&CounterSearch=18&UrlAjaxWebSearch=%2FLenaWeb%2FAjaxWebSearch&sw_=9641&LocName=&LocId=&Area=10&cty_=\n",
      "https://www.berufsberatung.ch/dyn/show/2930?lang=de&Idx=200&OrderBy=1&Order=0&PostBackOrder=0&postBack=true&CountResult=100&Total_Idx=6&CounterSearch=18&UrlAjaxWebSearch=%2FLenaWeb%2FAjaxWebSearch&sw_=89&LocName=&LocId=&Area=10&cty_=\n",
      "https://www.berufsberatung.ch/dyn/show/2930?lang=de&Idx=200&OrderBy=1&Order=0&PostBackOrder=0&postBack=true&CountResult=100&Total_Idx=6&CounterSearch=18&UrlAjaxWebSearch=%2FLenaWeb%2FAjaxWebSearch&sw_=88&LocName=&LocId=&Area=10&cty_=\n",
      "https://www.berufsberatung.ch/dyn/show/2930?lang=de&Idx=200&OrderBy=1&Order=0&PostBackOrder=0&postBack=true&CountResult=100&Total_Idx=6&CounterSearch=18&UrlAjaxWebSearch=%2FLenaWeb%2FAjaxWebSearch&sw_=92&LocName=&LocId=&Area=10&cty_=\n",
      "https://www.berufsberatung.ch/dyn/show/2930?lang=de&Idx=200&OrderBy=1&Order=0&PostBackOrder=0&postBack=true&CountResult=100&Total_Idx=6&CounterSearch=18&UrlAjaxWebSearch=%2FLenaWeb%2FAjaxWebSearch&sw_=90&LocName=&LocId=&Area=10&cty_=\n",
      "https://www.berufsberatung.ch/dyn/show/2930?lang=de&Idx=200&OrderBy=1&Order=0&PostBackOrder=0&postBack=true&CountResult=100&Total_Idx=6&CounterSearch=18&UrlAjaxWebSearch=%2FLenaWeb%2FAjaxWebSearch&sw_=97&LocName=&LocId=&Area=10&cty_=\n",
      "https://www.berufsberatung.ch/dyn/show/2930?lang=de&Idx=200&OrderBy=1&Order=0&PostBackOrder=0&postBack=true&CountResult=100&Total_Idx=6&CounterSearch=18&UrlAjaxWebSearch=%2FLenaWeb%2FAjaxWebSearch&sw_=431&LocName=&LocId=&Area=10&cty_=\n",
      "https://www.berufsberatung.ch/dyn/show/2930?lang=de&Idx=200&OrderBy=1&Order=0&PostBackOrder=0&postBack=true&CountResult=100&Total_Idx=6&CounterSearch=18&UrlAjaxWebSearch=%2FLenaWeb%2FAjaxWebSearch&sw_=1321&LocName=&LocId=&Area=10&cty_=\n",
      "https://www.berufsberatung.ch/dyn/show/2930?lang=de&Idx=200&OrderBy=1&Order=0&PostBackOrder=0&postBack=true&CountResult=100&Total_Idx=6&CounterSearch=18&UrlAjaxWebSearch=%2FLenaWeb%2FAjaxWebSearch&sw_=954&LocName=&LocId=&Area=10&cty_=\n",
      "https://www.berufsberatung.ch/dyn/show/2930?lang=de&Idx=200&OrderBy=1&Order=0&PostBackOrder=0&postBack=true&CountResult=100&Total_Idx=6&CounterSearch=18&UrlAjaxWebSearch=%2FLenaWeb%2FAjaxWebSearch&sw_=614&LocName=&LocId=&Area=10&cty_=\n",
      "https://www.berufsberatung.ch/dyn/show/2930?lang=de&Idx=200&OrderBy=1&Order=0&PostBackOrder=0&postBack=true&CountResult=100&Total_Idx=6&CounterSearch=18&UrlAjaxWebSearch=%2FLenaWeb%2FAjaxWebSearch&sw_=7696&LocName=&LocId=&Area=10&cty_=\n",
      "https://www.berufsberatung.ch/dyn/show/2930?lang=de&Idx=200&OrderBy=1&Order=0&PostBackOrder=0&postBack=true&CountResult=100&Total_Idx=6&CounterSearch=18&UrlAjaxWebSearch=%2FLenaWeb%2FAjaxWebSearch&sw_=1951&LocName=&LocId=&Area=10&cty_=\n",
      "https://www.berufsberatung.ch/dyn/show/2930?lang=de&Idx=200&OrderBy=1&Order=0&PostBackOrder=0&postBack=true&CountResult=100&Total_Idx=6&CounterSearch=18&UrlAjaxWebSearch=%2FLenaWeb%2FAjaxWebSearch&sw_=8493&LocName=&LocId=&Area=10&cty_=\n",
      "https://www.berufsberatung.ch/dyn/show/2930?lang=de&Idx=200&OrderBy=1&Order=0&PostBackOrder=0&postBack=true&CountResult=100&Total_Idx=6&CounterSearch=18&UrlAjaxWebSearch=%2FLenaWeb%2FAjaxWebSearch&sw_=2339&LocName=&LocId=&Area=10&cty_=\n",
      "https://www.berufsberatung.ch/dyn/show/2930?lang=de&Idx=200&OrderBy=1&Order=0&PostBackOrder=0&postBack=true&CountResult=100&Total_Idx=6&CounterSearch=18&UrlAjaxWebSearch=%2FLenaWeb%2FAjaxWebSearch&sw_=11252&LocName=&LocId=&Area=10&cty_=\n"
     ]
    },
    {
     "name": "stdout",
     "output_type": "stream",
     "text": [
      "https://www.berufsberatung.ch/dyn/show/2930?lang=de&Idx=200&OrderBy=1&Order=0&PostBackOrder=0&postBack=true&CountResult=100&Total_Idx=6&CounterSearch=18&UrlAjaxWebSearch=%2FLenaWeb%2FAjaxWebSearch&sw_=11254&LocName=&LocId=&Area=10&cty_=\n",
      "https://www.berufsberatung.ch/dyn/show/2930?lang=de&Idx=200&OrderBy=1&Order=0&PostBackOrder=0&postBack=true&CountResult=100&Total_Idx=6&CounterSearch=18&UrlAjaxWebSearch=%2FLenaWeb%2FAjaxWebSearch&sw_=11256&LocName=&LocId=&Area=10&cty_=\n",
      "https://www.berufsberatung.ch/dyn/show/2930?lang=de&Idx=200&OrderBy=1&Order=0&PostBackOrder=0&postBack=true&CountResult=100&Total_Idx=6&CounterSearch=18&UrlAjaxWebSearch=%2FLenaWeb%2FAjaxWebSearch&sw_=706&LocName=&LocId=&Area=10&cty_=\n",
      "https://www.berufsberatung.ch/dyn/show/2930?lang=de&Idx=200&OrderBy=1&Order=0&PostBackOrder=0&postBack=true&CountResult=100&Total_Idx=6&CounterSearch=18&UrlAjaxWebSearch=%2FLenaWeb%2FAjaxWebSearch&sw_=11261&LocName=&LocId=&Area=10&cty_=\n",
      "https://www.berufsberatung.ch/dyn/show/2930?lang=de&Idx=200&OrderBy=1&Order=0&PostBackOrder=0&postBack=true&CountResult=100&Total_Idx=6&CounterSearch=18&UrlAjaxWebSearch=%2FLenaWeb%2FAjaxWebSearch&sw_=11262&LocName=&LocId=&Area=10&cty_=\n",
      "https://www.berufsberatung.ch/dyn/show/2930?lang=de&Idx=200&OrderBy=1&Order=0&PostBackOrder=0&postBack=true&CountResult=100&Total_Idx=6&CounterSearch=18&UrlAjaxWebSearch=%2FLenaWeb%2FAjaxWebSearch&sw_=838&LocName=&LocId=&Area=10&cty_=\n",
      "https://www.berufsberatung.ch/dyn/show/2930?lang=de&Idx=200&OrderBy=1&Order=0&PostBackOrder=0&postBack=true&CountResult=100&Total_Idx=6&CounterSearch=18&UrlAjaxWebSearch=%2FLenaWeb%2FAjaxWebSearch&sw_=8133&LocName=&LocId=&Area=10&cty_=\n",
      "https://www.berufsberatung.ch/dyn/show/2930?lang=de&Idx=200&OrderBy=1&Order=0&PostBackOrder=0&postBack=true&CountResult=100&Total_Idx=6&CounterSearch=18&UrlAjaxWebSearch=%2FLenaWeb%2FAjaxWebSearch&sw_=753&LocName=&LocId=&Area=10&cty_=\n",
      "https://www.berufsberatung.ch/dyn/show/2930?lang=de&Idx=200&OrderBy=1&Order=0&PostBackOrder=0&postBack=true&CountResult=100&Total_Idx=6&CounterSearch=18&UrlAjaxWebSearch=%2FLenaWeb%2FAjaxWebSearch&sw_=11581&LocName=&LocId=&Area=10&cty_=\n",
      "https://www.berufsberatung.ch/dyn/show/2930?lang=de&Idx=200&OrderBy=1&Order=0&PostBackOrder=0&postBack=true&CountResult=100&Total_Idx=6&CounterSearch=18&UrlAjaxWebSearch=%2FLenaWeb%2FAjaxWebSearch&sw_=11580&LocName=&LocId=&Area=10&cty_=\n",
      "https://www.berufsberatung.ch/dyn/show/2930?lang=de&Idx=200&OrderBy=1&Order=0&PostBackOrder=0&postBack=true&CountResult=100&Total_Idx=6&CounterSearch=18&UrlAjaxWebSearch=%2FLenaWeb%2FAjaxWebSearch&sw_=756&LocName=&LocId=&Area=10&cty_=\n",
      "https://www.berufsberatung.ch/dyn/show/2930?lang=de&Idx=200&OrderBy=1&Order=0&PostBackOrder=0&postBack=true&CountResult=100&Total_Idx=6&CounterSearch=18&UrlAjaxWebSearch=%2FLenaWeb%2FAjaxWebSearch&sw_=757&LocName=&LocId=&Area=10&cty_=\n",
      "https://www.berufsberatung.ch/dyn/show/2930?lang=de&Idx=200&OrderBy=1&Order=0&PostBackOrder=0&postBack=true&CountResult=100&Total_Idx=6&CounterSearch=18&UrlAjaxWebSearch=%2FLenaWeb%2FAjaxWebSearch&sw_=759&LocName=&LocId=&Area=10&cty_=\n",
      "https://www.berufsberatung.ch/dyn/show/2930?lang=de&Idx=200&OrderBy=1&Order=0&PostBackOrder=0&postBack=true&CountResult=100&Total_Idx=6&CounterSearch=18&UrlAjaxWebSearch=%2FLenaWeb%2FAjaxWebSearch&sw_=758&LocName=&LocId=&Area=10&cty_=\n",
      "https://www.berufsberatung.ch/dyn/show/2930?lang=de&Idx=200&OrderBy=1&Order=0&PostBackOrder=0&postBack=true&CountResult=100&Total_Idx=6&CounterSearch=18&UrlAjaxWebSearch=%2FLenaWeb%2FAjaxWebSearch&sw_=886&LocName=&LocId=&Area=10&cty_=\n",
      "https://www.berufsberatung.ch/dyn/show/2930?lang=de&Idx=200&OrderBy=1&Order=0&PostBackOrder=0&postBack=true&CountResult=100&Total_Idx=6&CounterSearch=18&UrlAjaxWebSearch=%2FLenaWeb%2FAjaxWebSearch&sw_=1151&LocName=&LocId=&Area=10&cty_=\n",
      "https://www.berufsberatung.ch/dyn/show/2930?lang=de&Idx=200&OrderBy=1&Order=0&PostBackOrder=0&postBack=true&CountResult=100&Total_Idx=6&CounterSearch=18&UrlAjaxWebSearch=%2FLenaWeb%2FAjaxWebSearch&sw_=1118&LocName=&LocId=&Area=10&cty_=\n",
      "https://www.berufsberatung.ch/dyn/show/2930?lang=de&Idx=200&OrderBy=1&Order=0&PostBackOrder=0&postBack=true&CountResult=100&Total_Idx=6&CounterSearch=18&UrlAjaxWebSearch=%2FLenaWeb%2FAjaxWebSearch&sw_=262&LocName=&LocId=&Area=10&cty_=\n",
      "https://www.berufsberatung.ch/dyn/show/2930?lang=de&Idx=200&OrderBy=1&Order=0&PostBackOrder=0&postBack=true&CountResult=100&Total_Idx=6&CounterSearch=18&UrlAjaxWebSearch=%2FLenaWeb%2FAjaxWebSearch&sw_=256&LocName=&LocId=&Area=10&cty_=\n",
      "https://www.berufsberatung.ch/dyn/show/2930?lang=de&Idx=200&OrderBy=1&Order=0&PostBackOrder=0&postBack=true&CountResult=100&Total_Idx=6&CounterSearch=18&UrlAjaxWebSearch=%2FLenaWeb%2FAjaxWebSearch&sw_=674&LocName=&LocId=&Area=10&cty_=\n",
      "https://www.berufsberatung.ch/dyn/show/2930?lang=de&Idx=200&OrderBy=1&Order=0&PostBackOrder=0&postBack=true&CountResult=100&Total_Idx=6&CounterSearch=18&UrlAjaxWebSearch=%2FLenaWeb%2FAjaxWebSearch&sw_=535&LocName=&LocId=&Area=10&cty_=\n",
      "https://www.berufsberatung.ch/dyn/show/2930?lang=de&Idx=200&OrderBy=1&Order=0&PostBackOrder=0&postBack=true&CountResult=100&Total_Idx=6&CounterSearch=18&UrlAjaxWebSearch=%2FLenaWeb%2FAjaxWebSearch&sw_=621&LocName=&LocId=&Area=10&cty_=\n",
      "https://www.berufsberatung.ch/dyn/show/2930?lang=de&Idx=200&OrderBy=1&Order=0&PostBackOrder=0&postBack=true&CountResult=100&Total_Idx=6&CounterSearch=18&UrlAjaxWebSearch=%2FLenaWeb%2FAjaxWebSearch&sw_=625&LocName=&LocId=&Area=10&cty_=\n",
      "https://www.berufsberatung.ch/dyn/show/2930?lang=de&Idx=200&OrderBy=1&Order=0&PostBackOrder=0&postBack=true&CountResult=100&Total_Idx=6&CounterSearch=18&UrlAjaxWebSearch=%2FLenaWeb%2FAjaxWebSearch&sw_=624&LocName=&LocId=&Area=10&cty_=\n",
      "https://www.berufsberatung.ch/dyn/show/2930?lang=de&Idx=200&OrderBy=1&Order=0&PostBackOrder=0&postBack=true&CountResult=100&Total_Idx=6&CounterSearch=18&UrlAjaxWebSearch=%2FLenaWeb%2FAjaxWebSearch&sw_=9656&LocName=&LocId=&Area=10&cty_=\n",
      "https://www.berufsberatung.ch/dyn/show/2930?lang=de&Idx=200&OrderBy=1&Order=0&PostBackOrder=0&postBack=true&CountResult=100&Total_Idx=6&CounterSearch=18&UrlAjaxWebSearch=%2FLenaWeb%2FAjaxWebSearch&sw_=9655&LocName=&LocId=&Area=10&cty_=\n",
      "https://www.berufsberatung.ch/dyn/show/2930?lang=de&Idx=200&OrderBy=1&Order=0&PostBackOrder=0&postBack=true&CountResult=100&Total_Idx=6&CounterSearch=18&UrlAjaxWebSearch=%2FLenaWeb%2FAjaxWebSearch&sw_=645&LocName=&LocId=&Area=10&cty_=\n",
      "https://www.berufsberatung.ch/dyn/show/2930?lang=de&Idx=200&OrderBy=1&Order=0&PostBackOrder=0&postBack=true&CountResult=100&Total_Idx=6&CounterSearch=18&UrlAjaxWebSearch=%2FLenaWeb%2FAjaxWebSearch&sw_=11168&LocName=&LocId=&Area=10&cty_=\n",
      "https://www.berufsberatung.ch/dyn/show/2930?lang=de&Idx=200&OrderBy=1&Order=0&PostBackOrder=0&postBack=true&CountResult=100&Total_Idx=6&CounterSearch=18&UrlAjaxWebSearch=%2FLenaWeb%2FAjaxWebSearch&sw_=11166&LocName=&LocId=&Area=10&cty_=\n",
      "https://www.berufsberatung.ch/dyn/show/2930?lang=de&Idx=200&OrderBy=1&Order=0&PostBackOrder=0&postBack=true&CountResult=100&Total_Idx=6&CounterSearch=18&UrlAjaxWebSearch=%2FLenaWeb%2FAjaxWebSearch&sw_=356&LocName=&LocId=&Area=10&cty_=\n",
      "https://www.berufsberatung.ch/dyn/show/2930?lang=de&Idx=200&OrderBy=1&Order=0&PostBackOrder=0&postBack=true&CountResult=100&Total_Idx=6&CounterSearch=18&UrlAjaxWebSearch=%2FLenaWeb%2FAjaxWebSearch&sw_=1733&LocName=&LocId=&Area=10&cty_=\n",
      "https://www.berufsberatung.ch/dyn/show/2930?lang=de&Idx=200&OrderBy=1&Order=0&PostBackOrder=0&postBack=true&CountResult=100&Total_Idx=6&CounterSearch=18&UrlAjaxWebSearch=%2FLenaWeb%2FAjaxWebSearch&sw_=1732&LocName=&LocId=&Area=10&cty_=\n",
      "https://www.berufsberatung.ch/dyn/show/2930?lang=de&Idx=200&OrderBy=1&Order=0&PostBackOrder=0&postBack=true&CountResult=100&Total_Idx=6&CounterSearch=18&UrlAjaxWebSearch=%2FLenaWeb%2FAjaxWebSearch&sw_=541&LocName=&LocId=&Area=10&cty_=\n",
      "https://www.berufsberatung.ch/dyn/show/2930?lang=de&Idx=200&OrderBy=1&Order=0&PostBackOrder=0&postBack=true&CountResult=100&Total_Idx=6&CounterSearch=18&UrlAjaxWebSearch=%2FLenaWeb%2FAjaxWebSearch&sw_=2348&LocName=&LocId=&Area=10&cty_=\n",
      "https://www.berufsberatung.ch/dyn/show/2930?lang=de&Idx=200&OrderBy=1&Order=0&PostBackOrder=0&postBack=true&CountResult=100&Total_Idx=6&CounterSearch=18&UrlAjaxWebSearch=%2FLenaWeb%2FAjaxWebSearch&sw_=8&LocName=&LocId=&Area=10&cty_=\n"
     ]
    },
    {
     "name": "stdout",
     "output_type": "stream",
     "text": [
      "https://www.berufsberatung.ch/dyn/show/2930?lang=de&Idx=200&OrderBy=1&Order=0&PostBackOrder=0&postBack=true&CountResult=100&Total_Idx=6&CounterSearch=18&UrlAjaxWebSearch=%2FLenaWeb%2FAjaxWebSearch&sw_=467&LocName=&LocId=&Area=10&cty_=\n",
      "https://www.berufsberatung.ch/dyn/show/2930?lang=de&Idx=200&OrderBy=1&Order=0&PostBackOrder=0&postBack=true&CountResult=100&Total_Idx=6&CounterSearch=18&UrlAjaxWebSearch=%2FLenaWeb%2FAjaxWebSearch&sw_=9&LocName=&LocId=&Area=10&cty_=\n",
      "https://www.berufsberatung.ch/dyn/show/2930?lang=de&Idx=200&OrderBy=1&Order=0&PostBackOrder=0&postBack=true&CountResult=100&Total_Idx=6&CounterSearch=18&UrlAjaxWebSearch=%2FLenaWeb%2FAjaxWebSearch&sw_=11449&LocName=&LocId=&Area=10&cty_=\n",
      "https://www.berufsberatung.ch/dyn/show/2930?lang=de&Idx=200&OrderBy=1&Order=0&PostBackOrder=0&postBack=true&CountResult=100&Total_Idx=6&CounterSearch=18&UrlAjaxWebSearch=%2FLenaWeb%2FAjaxWebSearch&sw_=11457&LocName=&LocId=&Area=10&cty_=\n",
      "https://www.berufsberatung.ch/dyn/show/2930?lang=de&Idx=200&OrderBy=1&Order=0&PostBackOrder=0&postBack=true&CountResult=100&Total_Idx=6&CounterSearch=18&UrlAjaxWebSearch=%2FLenaWeb%2FAjaxWebSearch&sw_=434&LocName=&LocId=&Area=10&cty_=\n",
      "https://www.berufsberatung.ch/dyn/show/2930?lang=de&Idx=200&OrderBy=1&Order=0&PostBackOrder=0&postBack=true&CountResult=100&Total_Idx=6&CounterSearch=18&UrlAjaxWebSearch=%2FLenaWeb%2FAjaxWebSearch&sw_=468&LocName=&LocId=&Area=10&cty_=\n",
      "https://www.berufsberatung.ch/dyn/show/2930?lang=de&Idx=200&OrderBy=1&Order=0&PostBackOrder=0&postBack=true&CountResult=100&Total_Idx=6&CounterSearch=18&UrlAjaxWebSearch=%2FLenaWeb%2FAjaxWebSearch&sw_=1658&LocName=&LocId=&Area=10&cty_=\n",
      "https://www.berufsberatung.ch/dyn/show/2930?lang=de&Idx=200&OrderBy=1&Order=0&PostBackOrder=0&postBack=true&CountResult=100&Total_Idx=6&CounterSearch=18&UrlAjaxWebSearch=%2FLenaWeb%2FAjaxWebSearch&sw_=9376&LocName=&LocId=&Area=10&cty_=\n",
      "https://www.berufsberatung.ch/dyn/show/2930?lang=de&Idx=200&OrderBy=1&Order=0&PostBackOrder=0&postBack=true&CountResult=100&Total_Idx=6&CounterSearch=18&UrlAjaxWebSearch=%2FLenaWeb%2FAjaxWebSearch&sw_=9373&LocName=&LocId=&Area=10&cty_=\n",
      "https://www.berufsberatung.ch/dyn/show/2930?lang=de&Idx=200&OrderBy=1&Order=0&PostBackOrder=0&postBack=true&CountResult=100&Total_Idx=6&CounterSearch=18&UrlAjaxWebSearch=%2FLenaWeb%2FAjaxWebSearch&sw_=554&LocName=&LocId=&Area=10&cty_=\n",
      "https://www.berufsberatung.ch/dyn/show/2930?lang=de&Idx=200&OrderBy=1&Order=0&PostBackOrder=0&postBack=true&CountResult=100&Total_Idx=6&CounterSearch=18&UrlAjaxWebSearch=%2FLenaWeb%2FAjaxWebSearch&sw_=9760&LocName=&LocId=&Area=10&cty_=\n",
      "https://www.berufsberatung.ch/dyn/show/2930?lang=de&Idx=200&OrderBy=1&Order=0&PostBackOrder=0&postBack=true&CountResult=100&Total_Idx=6&CounterSearch=18&UrlAjaxWebSearch=%2FLenaWeb%2FAjaxWebSearch&sw_=11176&LocName=&LocId=&Area=10&cty_=\n",
      "https://www.berufsberatung.ch/dyn/show/2930?lang=de&Idx=200&OrderBy=1&Order=0&PostBackOrder=0&postBack=true&CountResult=100&Total_Idx=6&CounterSearch=18&UrlAjaxWebSearch=%2FLenaWeb%2FAjaxWebSearch&sw_=11182&LocName=&LocId=&Area=10&cty_=\n",
      "https://www.berufsberatung.ch/dyn/show/2930?lang=de&Idx=200&OrderBy=1&Order=0&PostBackOrder=0&postBack=true&CountResult=100&Total_Idx=6&CounterSearch=18&UrlAjaxWebSearch=%2FLenaWeb%2FAjaxWebSearch&sw_=300&LocName=&LocId=&Area=10&cty_=\n",
      "https://www.berufsberatung.ch/dyn/show/2930?lang=de&Idx=200&OrderBy=1&Order=0&PostBackOrder=0&postBack=true&CountResult=100&Total_Idx=6&CounterSearch=18&UrlAjaxWebSearch=%2FLenaWeb%2FAjaxWebSearch&sw_=308&LocName=&LocId=&Area=10&cty_=\n",
      "https://www.berufsberatung.ch/dyn/show/2930?lang=de&Idx=200&OrderBy=1&Order=0&PostBackOrder=0&postBack=true&CountResult=100&Total_Idx=6&CounterSearch=18&UrlAjaxWebSearch=%2FLenaWeb%2FAjaxWebSearch&sw_=11620&LocName=&LocId=&Area=10&cty_=\n",
      "https://www.berufsberatung.ch/dyn/show/2930?lang=de&Idx=200&OrderBy=1&Order=0&PostBackOrder=0&postBack=true&CountResult=100&Total_Idx=6&CounterSearch=18&UrlAjaxWebSearch=%2FLenaWeb%2FAjaxWebSearch&sw_=309&LocName=&LocId=&Area=10&cty_=\n",
      "https://www.berufsberatung.ch/dyn/show/2930?lang=de&Idx=200&OrderBy=1&Order=0&PostBackOrder=0&postBack=true&CountResult=100&Total_Idx=6&CounterSearch=18&UrlAjaxWebSearch=%2FLenaWeb%2FAjaxWebSearch&sw_=310&LocName=&LocId=&Area=10&cty_=\n",
      "https://www.berufsberatung.ch/dyn/show/2930?lang=de&Idx=200&OrderBy=1&Order=0&PostBackOrder=0&postBack=true&CountResult=100&Total_Idx=6&CounterSearch=18&UrlAjaxWebSearch=%2FLenaWeb%2FAjaxWebSearch&sw_=311&LocName=&LocId=&Area=10&cty_=\n",
      "https://www.berufsberatung.ch/dyn/show/2930?lang=de&Idx=200&OrderBy=1&Order=0&PostBackOrder=0&postBack=true&CountResult=100&Total_Idx=6&CounterSearch=18&UrlAjaxWebSearch=%2FLenaWeb%2FAjaxWebSearch&sw_=302&LocName=&LocId=&Area=10&cty_=\n",
      "https://www.berufsberatung.ch/dyn/show/2930?lang=de&Idx=200&OrderBy=1&Order=0&PostBackOrder=0&postBack=true&CountResult=100&Total_Idx=6&CounterSearch=18&UrlAjaxWebSearch=%2FLenaWeb%2FAjaxWebSearch&sw_=2427&LocName=&LocId=&Area=10&cty_=\n",
      "https://www.berufsberatung.ch/dyn/show/2930?lang=de&Idx=200&OrderBy=1&Order=0&PostBackOrder=0&postBack=true&CountResult=100&Total_Idx=6&CounterSearch=18&UrlAjaxWebSearch=%2FLenaWeb%2FAjaxWebSearch&sw_=67&LocName=&LocId=&Area=10&cty_=\n",
      "https://www.berufsberatung.ch/dyn/show/2930?lang=de&Idx=200&OrderBy=1&Order=0&PostBackOrder=0&postBack=true&CountResult=100&Total_Idx=6&CounterSearch=18&UrlAjaxWebSearch=%2FLenaWeb%2FAjaxWebSearch&sw_=69&LocName=&LocId=&Area=10&cty_=\n",
      "https://www.berufsberatung.ch/dyn/show/2930?lang=de&Idx=200&OrderBy=1&Order=0&PostBackOrder=0&postBack=true&CountResult=100&Total_Idx=6&CounterSearch=18&UrlAjaxWebSearch=%2FLenaWeb%2FAjaxWebSearch&sw_=7644&LocName=&LocId=&Area=10&cty_=\n",
      "https://www.berufsberatung.ch/dyn/show/2930?lang=de&Idx=200&OrderBy=1&Order=0&PostBackOrder=0&postBack=true&CountResult=100&Total_Idx=6&CounterSearch=18&UrlAjaxWebSearch=%2FLenaWeb%2FAjaxWebSearch&sw_=7645&LocName=&LocId=&Area=10&cty_=\n",
      "https://www.berufsberatung.ch/dyn/show/2930?lang=de&Idx=200&OrderBy=1&Order=0&PostBackOrder=0&postBack=true&CountResult=100&Total_Idx=6&CounterSearch=18&UrlAjaxWebSearch=%2FLenaWeb%2FAjaxWebSearch&sw_=7646&LocName=&LocId=&Area=10&cty_=\n",
      "https://www.berufsberatung.ch/dyn/show/2930?lang=de&Idx=200&OrderBy=1&Order=0&PostBackOrder=0&postBack=true&CountResult=100&Total_Idx=6&CounterSearch=18&UrlAjaxWebSearch=%2FLenaWeb%2FAjaxWebSearch&sw_=7586&LocName=&LocId=&Area=10&cty_=\n",
      "https://www.berufsberatung.ch/dyn/show/2930?lang=de&Idx=200&OrderBy=1&Order=0&PostBackOrder=0&postBack=true&CountResult=100&Total_Idx=6&CounterSearch=18&UrlAjaxWebSearch=%2FLenaWeb%2FAjaxWebSearch&sw_=11244&LocName=&LocId=&Area=10&cty_=\n",
      "https://www.berufsberatung.ch/dyn/show/2930?lang=de&Idx=200&OrderBy=1&Order=0&PostBackOrder=0&postBack=true&CountResult=100&Total_Idx=6&CounterSearch=18&UrlAjaxWebSearch=%2FLenaWeb%2FAjaxWebSearch&sw_=11236&LocName=&LocId=&Area=10&cty_=\n",
      "https://www.berufsberatung.ch/dyn/show/2930?lang=de&Idx=200&OrderBy=1&Order=0&PostBackOrder=0&postBack=true&CountResult=100&Total_Idx=6&CounterSearch=18&UrlAjaxWebSearch=%2FLenaWeb%2FAjaxWebSearch&sw_=991&LocName=&LocId=&Area=10&cty_=\n",
      "https://www.berufsberatung.ch/dyn/show/2930?lang=de&Idx=200&OrderBy=1&Order=0&PostBackOrder=0&postBack=true&CountResult=100&Total_Idx=6&CounterSearch=18&UrlAjaxWebSearch=%2FLenaWeb%2FAjaxWebSearch&sw_=11232&LocName=&LocId=&Area=10&cty_=\n",
      "https://www.berufsberatung.ch/dyn/show/2930?lang=de&Idx=200&OrderBy=1&Order=0&PostBackOrder=0&postBack=true&CountResult=100&Total_Idx=6&CounterSearch=18&UrlAjaxWebSearch=%2FLenaWeb%2FAjaxWebSearch&sw_=11231&LocName=&LocId=&Area=10&cty_=\n",
      "https://www.berufsberatung.ch/dyn/show/2930?lang=de&Idx=200&OrderBy=1&Order=0&PostBackOrder=0&postBack=true&CountResult=100&Total_Idx=6&CounterSearch=18&UrlAjaxWebSearch=%2FLenaWeb%2FAjaxWebSearch&sw_=993&LocName=&LocId=&Area=10&cty_=\n",
      "https://www.berufsberatung.ch/dyn/show/2930?lang=de&Idx=200&OrderBy=1&Order=0&PostBackOrder=0&postBack=true&CountResult=100&Total_Idx=6&CounterSearch=18&UrlAjaxWebSearch=%2FLenaWeb%2FAjaxWebSearch&sw_=9762&LocName=&LocId=&Area=10&cty_=\n",
      "https://www.berufsberatung.ch/dyn/show/2930?lang=de&Idx=200&OrderBy=1&Order=0&PostBackOrder=0&postBack=true&CountResult=100&Total_Idx=6&CounterSearch=18&UrlAjaxWebSearch=%2FLenaWeb%2FAjaxWebSearch&sw_=8083&LocName=&LocId=&Area=10&cty_=\n"
     ]
    },
    {
     "name": "stdout",
     "output_type": "stream",
     "text": [
      "https://www.berufsberatung.ch/dyn/show/2930?lang=de&Idx=200&OrderBy=1&Order=0&PostBackOrder=0&postBack=true&CountResult=100&Total_Idx=6&CounterSearch=18&UrlAjaxWebSearch=%2FLenaWeb%2FAjaxWebSearch&sw_=2352&LocName=&LocId=&Area=10&cty_=\n",
      "https://www.berufsberatung.ch/dyn/show/2930?lang=de&Idx=200&OrderBy=1&Order=0&PostBackOrder=0&postBack=true&CountResult=100&Total_Idx=6&CounterSearch=18&UrlAjaxWebSearch=%2FLenaWeb%2FAjaxWebSearch&sw_=689&LocName=&LocId=&Area=10&cty_=\n",
      "https://www.berufsberatung.ch/dyn/show/2930?lang=de&Idx=200&OrderBy=1&Order=0&PostBackOrder=0&postBack=true&CountResult=100&Total_Idx=6&CounterSearch=18&UrlAjaxWebSearch=%2FLenaWeb%2FAjaxWebSearch&sw_=11228&LocName=&LocId=&Area=10&cty_=\n",
      "https://www.berufsberatung.ch/dyn/show/2930?lang=de&Idx=200&OrderBy=1&Order=0&PostBackOrder=0&postBack=true&CountResult=100&Total_Idx=6&CounterSearch=18&UrlAjaxWebSearch=%2FLenaWeb%2FAjaxWebSearch&sw_=11230&LocName=&LocId=&Area=10&cty_=\n",
      "https://www.berufsberatung.ch/dyn/show/2930?lang=de&Idx=200&OrderBy=1&Order=0&PostBackOrder=0&postBack=true&CountResult=100&Total_Idx=6&CounterSearch=18&UrlAjaxWebSearch=%2FLenaWeb%2FAjaxWebSearch&sw_=206&LocName=&LocId=&Area=10&cty_=\n",
      "https://www.berufsberatung.ch/dyn/show/2930?lang=de&Idx=200&OrderBy=1&Order=0&PostBackOrder=0&postBack=true&CountResult=100&Total_Idx=6&CounterSearch=18&UrlAjaxWebSearch=%2FLenaWeb%2FAjaxWebSearch&sw_=39&LocName=&LocId=&Area=10&cty_=\n",
      "https://www.berufsberatung.ch/dyn/show/2930?lang=de&Idx=200&OrderBy=1&Order=0&PostBackOrder=0&postBack=true&CountResult=100&Total_Idx=6&CounterSearch=18&UrlAjaxWebSearch=%2FLenaWeb%2FAjaxWebSearch&sw_=11171&LocName=&LocId=&Area=10&cty_=\n",
      "https://www.berufsberatung.ch/dyn/show/2930?lang=de&Idx=200&OrderBy=1&Order=0&PostBackOrder=0&postBack=true&CountResult=100&Total_Idx=6&CounterSearch=18&UrlAjaxWebSearch=%2FLenaWeb%2FAjaxWebSearch&sw_=608&LocName=&LocId=&Area=10&cty_=\n",
      "https://www.berufsberatung.ch/dyn/show/2930?lang=de&Idx=200&OrderBy=1&Order=0&PostBackOrder=0&postBack=true&CountResult=100&Total_Idx=6&CounterSearch=18&UrlAjaxWebSearch=%2FLenaWeb%2FAjaxWebSearch&sw_=1954&LocName=&LocId=&Area=10&cty_=\n",
      "https://www.berufsberatung.ch/dyn/show/2930?lang=de&Idx=200&OrderBy=1&Order=0&PostBackOrder=0&postBack=true&CountResult=100&Total_Idx=6&CounterSearch=18&UrlAjaxWebSearch=%2FLenaWeb%2FAjaxWebSearch&sw_=7681&LocName=&LocId=&Area=10&cty_=\n",
      "https://www.berufsberatung.ch/dyn/show/2930?lang=de&Idx=200&OrderBy=1&Order=0&PostBackOrder=0&postBack=true&CountResult=100&Total_Idx=6&CounterSearch=18&UrlAjaxWebSearch=%2FLenaWeb%2FAjaxWebSearch&sw_=7682&LocName=&LocId=&Area=10&cty_=\n",
      "https://www.berufsberatung.ch/dyn/show/2930?lang=de&Idx=200&OrderBy=1&Order=0&PostBackOrder=0&postBack=true&CountResult=100&Total_Idx=6&CounterSearch=18&UrlAjaxWebSearch=%2FLenaWeb%2FAjaxWebSearch&sw_=7683&LocName=&LocId=&Area=10&cty_=\n",
      "https://www.berufsberatung.ch/dyn/show/2930?lang=de&Idx=200&OrderBy=1&Order=0&PostBackOrder=0&postBack=true&CountResult=100&Total_Idx=6&CounterSearch=18&UrlAjaxWebSearch=%2FLenaWeb%2FAjaxWebSearch&sw_=7684&LocName=&LocId=&Area=10&cty_=\n",
      "https://www.berufsberatung.ch/dyn/show/2930?lang=de&Idx=200&OrderBy=1&Order=0&PostBackOrder=0&postBack=true&CountResult=100&Total_Idx=6&CounterSearch=18&UrlAjaxWebSearch=%2FLenaWeb%2FAjaxWebSearch&sw_=7685&LocName=&LocId=&Area=10&cty_=\n",
      "https://www.berufsberatung.ch/dyn/show/2930?lang=de&Idx=200&OrderBy=1&Order=0&PostBackOrder=0&postBack=true&CountResult=100&Total_Idx=6&CounterSearch=18&UrlAjaxWebSearch=%2FLenaWeb%2FAjaxWebSearch&sw_=7686&LocName=&LocId=&Area=10&cty_=\n",
      "https://www.berufsberatung.ch/dyn/show/2930?lang=de&Idx=200&OrderBy=1&Order=0&PostBackOrder=0&postBack=true&CountResult=100&Total_Idx=6&CounterSearch=18&UrlAjaxWebSearch=%2FLenaWeb%2FAjaxWebSearch&sw_=437&LocName=&LocId=&Area=10&cty_=\n"
     ]
    }
   ],
   "source": [
    "base = \"https://www.berufsberatung.ch/dyn/show/2930?lang=de&Idx=200&OrderBy=1&Order=0&PostBackOrder=0&postBack=true&CountResult=100&Total_Idx=6&CounterSearch=18&UrlAjaxWebSearch=%2FLenaWeb%2FAjaxWebSearch&sw_=\"\n",
    "base2 = \"&LocName=&LocId=&Area=10&cty_=\"\n",
    "whole_lst = []\n",
    "\n",
    "#for kanton in k:\n",
    "for str_id in str_ids:\n",
    "    url = base + str(str_id) + base2# + str(kanton)\n",
    "    print(url)\n",
    "    whole_lst = whole_lst + lehrstellen(url)\n",
    "    "
   ]
  },
  {
   "cell_type": "code",
   "execution_count": 19,
   "metadata": {
    "collapsed": true
   },
   "outputs": [],
   "source": [
    "import pandas as pd"
   ]
  },
  {
   "cell_type": "code",
   "execution_count": 20,
   "metadata": {
    "collapsed": true
   },
   "outputs": [],
   "source": [
    "df = pd.DataFrame(whole_lst)"
   ]
  },
  {
   "cell_type": "code",
   "execution_count": 22,
   "metadata": {
    "collapsed": true
   },
   "outputs": [],
   "source": [
    "df.to_csv('lehren.csv')"
   ]
  },
  {
   "cell_type": "code",
   "execution_count": null,
   "metadata": {
    "collapsed": true
   },
   "outputs": [],
   "source": [
    "df.info()"
   ]
  },
  {
   "cell_type": "code",
   "execution_count": null,
   "metadata": {
    "collapsed": true
   },
   "outputs": [],
   "source": [
    "df = df[df['Anzahl']!='Keine Treffer']"
   ]
  },
  {
   "cell_type": "code",
   "execution_count": null,
   "metadata": {
    "collapsed": true
   },
   "outputs": [],
   "source": [
    "df['Anzahl'] = df['Anzahl'].astype('int')"
   ]
  },
  {
   "cell_type": "code",
   "execution_count": null,
   "metadata": {
    "collapsed": true
   },
   "outputs": [],
   "source": [
    "df['Anzahl'].sum()"
   ]
  }
 ],
 "metadata": {
  "kernelspec": {
   "display_name": "Python 3",
   "language": "python",
   "name": "python3"
  },
  "language_info": {
   "codemirror_mode": {
    "name": "ipython",
    "version": 2
   },
   "file_extension": ".py",
   "mimetype": "text/x-python",
   "name": "python",
   "nbconvert_exporter": "python",
   "pygments_lexer": "ipython2",
   "version": "2.7.15"
  }
 },
 "nbformat": 4,
 "nbformat_minor": 2
}
