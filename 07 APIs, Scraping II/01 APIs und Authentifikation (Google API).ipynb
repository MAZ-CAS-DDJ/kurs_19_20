{
 "cells": [
  {
   "cell_type": "markdown",
   "metadata": {},
   "source": [
    "# APIs und Authentifikation (Google API)"
   ]
  },
  {
   "cell_type": "markdown",
   "metadata": {},
   "source": [
    "Gestern haben wir uns die Erdbeben-Applikation angeschaut. Die Nutzung ist zwar begrenzt, doch es für deren Nutzung keine weitere Zulassung notwendig. Das ist bei den meisten anderen APIs nicht der Fall. In der Regel verlangen die Besitzer einer API Authentifikation der Nutzer. So können sie kontrollieren, wer wieviel nutzt. Denn auch eine API-Abfrage beansprucht Rechenkraft. Bei Millionen Abfragen kann das schnell ins Geld gehen. Es gibt dabei verschiedene API-Typen: REST, SOAP, XML-RCP oder JSON-RPC. Was die verschiedenen Vorteile dieser API-Technologien sind, schlägt ihr am besten nach. Die gängigsten sind heute REST und SOAP. Die trifft man immer wieder. "
   ]
  },
  {
   "cell_type": "markdown",
   "metadata": {},
   "source": [
    "Wie man sich authentifiziert, wollen wir uns nun gemeinsam anschauen. Wir tun das mit der Google Maps API. Zu allererst müssen wir eine Key kreieren. Dafür brauchen wir eine Gmail-Konto und eine Kreditkarte. Wir werden keinen Rappen ausgeben, die erste 100'000 Aufrufe sind gratis. Die Kreditkarte ist trotzdem nötig. Als erstes besuchen wir [also die Google-Maps-Plattform](https://cloud.google.com/maps-platform)."
   ]
  },
  {
   "cell_type": "markdown",
   "metadata": {},
   "source": [
    "## Die Google API\n",
    "Die API kann man für verschiedene Sachen verwenden: Um Distanzen zu berechnen, um Standorte mit Geo-Daten auszustatten, oder um Standorte zu suchen. Natürlich nicht einzelne Standorte, sondern ganz viele. In diesem Beispiel werden wir uns bestimmte Standorte suchen."
   ]
  },
  {
   "cell_type": "markdown",
   "metadata": {},
   "source": [
    "Nachdem ihr Euch oben bei Google angemeldet habt, müsst ihr eine API Key generieren und abspeichern. Nun gehen wir nur Places API und Places Search. Das [ist hier](https://developers.google.com/places/web-service/intro)."
   ]
  },
  {
   "cell_type": "markdown",
   "metadata": {},
   "source": [
    "### Das italienische Restaurant mit den meisten Sternen bei Google Maps?"
   ]
  },
  {
   "cell_type": "markdown",
   "metadata": {},
   "source": [
    "Wir werden mir der Textsearch-Option arbeiten: ```https://maps.googleapis.com/maps/api/place/textsearch/output?parameters```. Wir geben ein:\n",
    "- https://maps.googleapis.com/maps/api/place/textsearch/json\n",
    "- query=italienische+restaurants+in+zurich\n",
    "- fields=formatted_address,name,rating,opening_hours,pagetoken\n",
    "- key=XXXXXX"
   ]
  },
  {
   "cell_type": "code",
   "execution_count": null,
   "metadata": {
    "collapsed": true
   },
   "outputs": [],
   "source": [
    "url = \"https://maps.googleapis.com/maps/api/place/textsearch/json?\"\n",
    "query = \"query=italienische+restaurants+in+zurich&\"\n",
    "fields = \"fields=formatted_address,name,rating,opening_hours,pagetoken&\"\n",
    "key = \"key=XXXXXXXXXXX\""
   ]
  },
  {
   "cell_type": "code",
   "execution_count": null,
   "metadata": {
    "collapsed": true
   },
   "outputs": [],
   "source": [
    "api_query = url+query+fields+key"
   ]
  },
  {
   "cell_type": "markdown",
   "metadata": {},
   "source": [
    "importieren wir requests"
   ]
  },
  {
   "cell_type": "code",
   "execution_count": null,
   "metadata": {
    "collapsed": true
   },
   "outputs": [],
   "source": [
    "import requests"
   ]
  },
  {
   "cell_type": "code",
   "execution_count": null,
   "metadata": {
    "collapsed": true
   },
   "outputs": [],
   "source": [
    "r = requests.get(api_query)\n",
    "result = r.json()"
   ]
  },
  {
   "cell_type": "code",
   "execution_count": null,
   "metadata": {
    "collapsed": true
   },
   "outputs": [],
   "source": [
    "len(result)"
   ]
  },
  {
   "cell_type": "code",
   "execution_count": null,
   "metadata": {
    "collapsed": true
   },
   "outputs": [],
   "source": [
    "for key in result:\n",
    "    print(key)"
   ]
  },
  {
   "cell_type": "code",
   "execution_count": null,
   "metadata": {
    "collapsed": true
   },
   "outputs": [],
   "source": [
    "result['results'][0]"
   ]
  },
  {
   "cell_type": "code",
   "execution_count": null,
   "metadata": {
    "collapsed": true
   },
   "outputs": [],
   "source": [
    "new_lst = []\n",
    "\n",
    "for elem in result['results']:\n",
    "    address = elem['formatted_address']\n",
    "    name = elem['name']\n",
    "    rating = elem['rating']\n",
    "    \n",
    "    mini_dict = {'Addresse': address, \n",
    "                 'Name': name,\n",
    "                 'Rating': rating}\n",
    "    \n",
    "    new_lst.append(mini_dict)"
   ]
  },
  {
   "cell_type": "code",
   "execution_count": null,
   "metadata": {
    "collapsed": true
   },
   "outputs": [],
   "source": [
    "import pandas as pd"
   ]
  },
  {
   "cell_type": "code",
   "execution_count": null,
   "metadata": {
    "collapsed": true
   },
   "outputs": [],
   "source": [
    "pd.DataFrame(new_lst)"
   ]
  },
  {
   "cell_type": "markdown",
   "metadata": {},
   "source": [
    "Aber, das sind nur 20. Wir wollen mehr. Dafür müssen wir mit diesem Nexttoken arbeiten. "
   ]
  },
  {
   "cell_type": "code",
   "execution_count": null,
   "metadata": {
    "collapsed": true
   },
   "outputs": [],
   "source": [
    "import time"
   ]
  },
  {
   "cell_type": "code",
   "execution_count": null,
   "metadata": {
    "collapsed": true
   },
   "outputs": [],
   "source": [
    "new_list = []\n",
    "\n",
    "url = \"https://maps.googleapis.com/maps/api/place/textsearch/json?\"\n",
    "query = \"query=italienische+restaurants+in+Jouxtens-Mézery&\"\n",
    "fields = \"fields=formatted_address,name,rating,opening_hours,pagetoken&\"\n",
    "key = \"key=XXXXXXXXXXXXXXXX\"\n",
    "pagetoken = ''\n",
    "\n",
    "result = range(4)\n",
    "while len(result) > 3: \n",
    "\n",
    "    api_query = url+query+fields+key+pagetoken\n",
    "    print(api_query)\n",
    "    time.sleep(2)\n",
    "    r = requests.get(api_query)\n",
    "    result = r.json()\n",
    "    if len(result) > 3:\n",
    "        pagetoken = 'pagetoken='+result['next_page_token']  \n",
    "        for elem in result['results']:\n",
    "            address = elem['formatted_address']\n",
    "            name = elem['name']\n",
    "            rating = elem['rating']\n",
    "    \n",
    "            mini_dict = {'Addresse': address, \n",
    "                 'Name': name,\n",
    "                 'Rating': rating}\n",
    "    \n",
    "            new_list.append(mini_dict)\n",
    "    else:\n",
    "        break"
   ]
  },
  {
   "cell_type": "code",
   "execution_count": null,
   "metadata": {
    "collapsed": true
   },
   "outputs": [],
   "source": [
    "pd.DataFrame(new_list)"
   ]
  },
  {
   "cell_type": "markdown",
   "metadata": {},
   "source": [
    "Das ist leider nicht zufriedenstellend, denn offenbar begrenzt sich Google selber. Wir müssen die nexttoken Suche mit einer Suche nach Städten erweitern. Suchen wir \"schweizer städte .csv\" bei Google."
   ]
  },
  {
   "cell_type": "markdown",
   "metadata": {},
   "source": [
    "## Ergänzung Schweizer Städte"
   ]
  },
  {
   "cell_type": "code",
   "execution_count": null,
   "metadata": {
    "collapsed": true
   },
   "outputs": [],
   "source": [
    "from bs4 import BeautifulSoup"
   ]
  },
  {
   "cell_type": "code",
   "execution_count": null,
   "metadata": {
    "collapsed": true
   },
   "outputs": [],
   "source": [
    "r = requests.get(\"https://de.wikipedia.org/wiki/Liste_der_St%C3%A4dte_in_der_Schweiz#St%C3%A4dte_mit_mindestens_10'000_Einwohnern\")"
   ]
  },
  {
   "cell_type": "code",
   "execution_count": null,
   "metadata": {
    "collapsed": true
   },
   "outputs": [],
   "source": [
    "soup = BeautifulSoup(r.text, 'lxml')\n",
    "cities = []\n",
    "for elem in soup.find('table').find_all('td', {'align':'left'})[0::2]:\n",
    "    cities.append(elem.text.replace(\" 1\", \"\").replace(' / 3', ''))"
   ]
  },
  {
   "cell_type": "code",
   "execution_count": null,
   "metadata": {
    "collapsed": true
   },
   "outputs": [],
   "source": [
    "len(cities)"
   ]
  },
  {
   "cell_type": "markdown",
   "metadata": {},
   "source": [
    "## Jetzt ergänzen wir diese Städte "
   ]
  },
  {
   "cell_type": "code",
   "execution_count": null,
   "metadata": {
    "collapsed": true,
    "scrolled": true
   },
   "outputs": [],
   "source": [
    "new_list = []\n",
    "\n",
    "url = \"https://maps.googleapis.com/maps/api/place/textsearch/json?\"\n",
    "query = \"query=italienische+restaurants+in+\"\n",
    "fields = \"fields=formatted_address,name,rating,opening_hours,pagetoken&\"\n",
    "key = \"key=XXXXXXXXX\"\n",
    "pagetoken = ''\n",
    "\n",
    "for city in cities[:10]:\n",
    "    result = range(4)\n",
    "    while len(result) > 3: \n",
    "\n",
    "        api_query = url+query+city+\"&\"+fields+key+pagetoken\n",
    "        print(api_query)\n",
    "        time.sleep(1.2)\n",
    "        r = requests.get(api_query)\n",
    "        result = r.json()\n",
    "        if len(result) > 3:\n",
    "            pagetoken = 'pagetoken='+result['next_page_token']  \n",
    "            for elem in result['results']:\n",
    "                address = elem['formatted_address']\n",
    "                name = elem['name']\n",
    "                rating = elem['rating']\n",
    "    \n",
    "                mini_dict = {'Addresse': address, \n",
    "                 'Name': name,\n",
    "                 'Rating': rating,\n",
    "                 'Stadt':city}\n",
    "    \n",
    "                new_list.append(mini_dict)\n",
    "        else:\n",
    "            pagetoken = ''\n",
    "            break\n",
    "            "
   ]
  },
  {
   "cell_type": "code",
   "execution_count": null,
   "metadata": {
    "collapsed": true
   },
   "outputs": [],
   "source": [
    "df = pd.DataFrame(new_list)"
   ]
  },
  {
   "cell_type": "code",
   "execution_count": null,
   "metadata": {
    "collapsed": true
   },
   "outputs": [],
   "source": [
    "df.info()"
   ]
  },
  {
   "cell_type": "code",
   "execution_count": null,
   "metadata": {
    "collapsed": true
   },
   "outputs": [],
   "source": []
  },
  {
   "cell_type": "code",
   "execution_count": null,
   "metadata": {
    "collapsed": true
   },
   "outputs": [],
   "source": [
    "df.sort_values(by='Rating')"
   ]
  },
  {
   "cell_type": "code",
   "execution_count": null,
   "metadata": {
    "collapsed": true
   },
   "outputs": [],
   "source": []
  }
 ],
 "metadata": {
  "kernelspec": {
   "display_name": "Python 3",
   "language": "python",
   "name": "python3"
  },
  "language_info": {
   "codemirror_mode": {
    "name": "ipython",
    "version": 3
   },
   "file_extension": ".py",
   "mimetype": "text/x-python",
   "name": "python",
   "nbconvert_exporter": "python",
   "pygments_lexer": "ipython3",
   "version": "3.5.1"
  }
 },
 "nbformat": 4,
 "nbformat_minor": 2
}
