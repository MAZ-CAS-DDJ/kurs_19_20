{
 "cells": [
  {
   "cell_type": "markdown",
   "metadata": {},
   "source": [
    "# Regex in Pandas"
   ]
  },
  {
   "cell_type": "markdown",
   "metadata": {},
   "source": [
    "**Inhalt:** Regular Expressions in Pandas anwenden\n",
    "\n",
    "**Nötige Skills:** Regex in Python\n",
    "\n",
    "**Lernziele:**\n",
    "- Ein praktisches Beispiel kennenlernen, wo Regex nützlich sein kann"
   ]
  },
  {
   "cell_type": "markdown",
   "metadata": {},
   "source": [
    "# Das Beispiel"
   ]
  },
  {
   "cell_type": "markdown",
   "metadata": {},
   "source": [
    "Das Bundesamt für Statistik stellt oft Dateien in verknorkster Form zur Verfügung, zum Beispiel, wenn man Auswertungen nach Gemeinden, Bezirken und Kantonen über das interaktive Portal generieren lässt: https://www.pxweb.bfs.admin.ch/pxweb/de/\n",
    "\n",
    "Das vorliegende Beispiel beinhaltet die Bevölkerungszahlen, gegliedert nach Zivilstand einerseits (ledig, verheiratet, etc) und nach räumlicher Struktur (Gemeinden, Bezirke, Kantone) andererseits.\n",
    "\n",
    "Das File ist gespeichert unter `dataprojects/BFS/px-x-0102010000_103.xlsx`"
   ]
  },
  {
   "cell_type": "markdown",
   "metadata": {},
   "source": [
    "Unser 1. Ziel ist: Wir wollen die Tabelle filtern\n",
    "- nur die Gemeinden\n",
    "- nur die Bezirke\n",
    "- nur die Kantone"
   ]
  },
  {
   "cell_type": "markdown",
   "metadata": {
    "collapsed": true
   },
   "source": [
    "Unser 2. Ziel ist: Wir wollen bei den Gemeinden die jeweilige Nummer isolieren"
   ]
  },
  {
   "cell_type": "markdown",
   "metadata": {},
   "source": [
    "## Vorbereitung"
   ]
  },
  {
   "cell_type": "code",
   "execution_count": 1,
   "metadata": {},
   "outputs": [],
   "source": [
    "import pandas as pd"
   ]
  },
  {
   "cell_type": "code",
   "execution_count": 2,
   "metadata": {},
   "outputs": [],
   "source": [
    "import re"
   ]
  },
  {
   "cell_type": "code",
   "execution_count": 3,
   "metadata": {},
   "outputs": [],
   "source": [
    "%matplotlib inline"
   ]
  },
  {
   "cell_type": "markdown",
   "metadata": {},
   "source": [
    "## Datei laden"
   ]
  },
  {
   "cell_type": "code",
   "execution_count": 4,
   "metadata": {},
   "outputs": [],
   "source": [
    "path = 'dataprojects/BFS/px-x-0102010000_103.xlsx'"
   ]
  },
  {
   "cell_type": "code",
   "execution_count": 5,
   "metadata": {},
   "outputs": [],
   "source": [
    "df = pd.read_excel(path)"
   ]
  },
  {
   "cell_type": "markdown",
   "metadata": {},
   "source": [
    "## Explorieren"
   ]
  },
  {
   "cell_type": "code",
   "execution_count": 6,
   "metadata": {},
   "outputs": [
    {
     "data": {
      "text/html": [
       "<div>\n",
       "<style scoped>\n",
       "    .dataframe tbody tr th:only-of-type {\n",
       "        vertical-align: middle;\n",
       "    }\n",
       "\n",
       "    .dataframe tbody tr th {\n",
       "        vertical-align: top;\n",
       "    }\n",
       "\n",
       "    .dataframe thead th {\n",
       "        text-align: right;\n",
       "    }\n",
       "</style>\n",
       "<table border=\"1\" class=\"dataframe\">\n",
       "  <thead>\n",
       "    <tr style=\"text-align: right;\">\n",
       "      <th></th>\n",
       "      <th>Einheit</th>\n",
       "      <th>Zivilstand</th>\n",
       "      <th>Anzahl</th>\n",
       "    </tr>\n",
       "  </thead>\n",
       "  <tbody>\n",
       "    <tr>\n",
       "      <td>0</td>\n",
       "      <td>Schweiz</td>\n",
       "      <td>Ledig</td>\n",
       "      <td>3650651</td>\n",
       "    </tr>\n",
       "    <tr>\n",
       "      <td>1</td>\n",
       "      <td>Schweiz</td>\n",
       "      <td>Verheiratet</td>\n",
       "      <td>3583008</td>\n",
       "    </tr>\n",
       "    <tr>\n",
       "      <td>2</td>\n",
       "      <td>Schweiz</td>\n",
       "      <td>Verwitwet</td>\n",
       "      <td>407408</td>\n",
       "    </tr>\n",
       "    <tr>\n",
       "      <td>3</td>\n",
       "      <td>Schweiz</td>\n",
       "      <td>Geschieden</td>\n",
       "      <td>685622</td>\n",
       "    </tr>\n",
       "    <tr>\n",
       "      <td>4</td>\n",
       "      <td>- Zürich</td>\n",
       "      <td>Ledig</td>\n",
       "      <td>666873</td>\n",
       "    </tr>\n",
       "    <tr>\n",
       "      <td>5</td>\n",
       "      <td>- Zürich</td>\n",
       "      <td>Verheiratet</td>\n",
       "      <td>610396</td>\n",
       "    </tr>\n",
       "    <tr>\n",
       "      <td>6</td>\n",
       "      <td>- Zürich</td>\n",
       "      <td>Verwitwet</td>\n",
       "      <td>63173</td>\n",
       "    </tr>\n",
       "    <tr>\n",
       "      <td>7</td>\n",
       "      <td>- Zürich</td>\n",
       "      <td>Geschieden</td>\n",
       "      <td>125889</td>\n",
       "    </tr>\n",
       "    <tr>\n",
       "      <td>8</td>\n",
       "      <td>&gt;&gt; Bezirk Affoltern</td>\n",
       "      <td>Ledig</td>\n",
       "      <td>21785</td>\n",
       "    </tr>\n",
       "    <tr>\n",
       "      <td>9</td>\n",
       "      <td>&gt;&gt; Bezirk Affoltern</td>\n",
       "      <td>Verheiratet</td>\n",
       "      <td>23865</td>\n",
       "    </tr>\n",
       "    <tr>\n",
       "      <td>10</td>\n",
       "      <td>&gt;&gt; Bezirk Affoltern</td>\n",
       "      <td>Verwitwet</td>\n",
       "      <td>1875</td>\n",
       "    </tr>\n",
       "    <tr>\n",
       "      <td>11</td>\n",
       "      <td>&gt;&gt; Bezirk Affoltern</td>\n",
       "      <td>Geschieden</td>\n",
       "      <td>4076</td>\n",
       "    </tr>\n",
       "    <tr>\n",
       "      <td>12</td>\n",
       "      <td>......0001 Aeugst am Albis</td>\n",
       "      <td>Ledig</td>\n",
       "      <td>852</td>\n",
       "    </tr>\n",
       "    <tr>\n",
       "      <td>13</td>\n",
       "      <td>......0001 Aeugst am Albis</td>\n",
       "      <td>Verheiratet</td>\n",
       "      <td>908</td>\n",
       "    </tr>\n",
       "    <tr>\n",
       "      <td>14</td>\n",
       "      <td>......0001 Aeugst am Albis</td>\n",
       "      <td>Verwitwet</td>\n",
       "      <td>74</td>\n",
       "    </tr>\n",
       "    <tr>\n",
       "      <td>15</td>\n",
       "      <td>......0001 Aeugst am Albis</td>\n",
       "      <td>Geschieden</td>\n",
       "      <td>147</td>\n",
       "    </tr>\n",
       "    <tr>\n",
       "      <td>16</td>\n",
       "      <td>......0002 Affoltern am Albis</td>\n",
       "      <td>Ledig</td>\n",
       "      <td>5000</td>\n",
       "    </tr>\n",
       "    <tr>\n",
       "      <td>17</td>\n",
       "      <td>......0002 Affoltern am Albis</td>\n",
       "      <td>Verheiratet</td>\n",
       "      <td>5159</td>\n",
       "    </tr>\n",
       "    <tr>\n",
       "      <td>18</td>\n",
       "      <td>......0002 Affoltern am Albis</td>\n",
       "      <td>Verwitwet</td>\n",
       "      <td>545</td>\n",
       "    </tr>\n",
       "    <tr>\n",
       "      <td>19</td>\n",
       "      <td>......0002 Affoltern am Albis</td>\n",
       "      <td>Geschieden</td>\n",
       "      <td>1004</td>\n",
       "    </tr>\n",
       "  </tbody>\n",
       "</table>\n",
       "</div>"
      ],
      "text/plain": [
       "                          Einheit   Zivilstand   Anzahl\n",
       "0                         Schweiz        Ledig  3650651\n",
       "1                         Schweiz  Verheiratet  3583008\n",
       "2                         Schweiz    Verwitwet   407408\n",
       "3                         Schweiz   Geschieden   685622\n",
       "4                        - Zürich        Ledig   666873\n",
       "5                        - Zürich  Verheiratet   610396\n",
       "6                        - Zürich    Verwitwet    63173\n",
       "7                        - Zürich   Geschieden   125889\n",
       "8             >> Bezirk Affoltern        Ledig    21785\n",
       "9             >> Bezirk Affoltern  Verheiratet    23865\n",
       "10            >> Bezirk Affoltern    Verwitwet     1875\n",
       "11            >> Bezirk Affoltern   Geschieden     4076\n",
       "12     ......0001 Aeugst am Albis        Ledig      852\n",
       "13     ......0001 Aeugst am Albis  Verheiratet      908\n",
       "14     ......0001 Aeugst am Albis    Verwitwet       74\n",
       "15     ......0001 Aeugst am Albis   Geschieden      147\n",
       "16  ......0002 Affoltern am Albis        Ledig     5000\n",
       "17  ......0002 Affoltern am Albis  Verheiratet     5159\n",
       "18  ......0002 Affoltern am Albis    Verwitwet      545\n",
       "19  ......0002 Affoltern am Albis   Geschieden     1004"
      ]
     },
     "execution_count": 6,
     "metadata": {},
     "output_type": "execute_result"
    }
   ],
   "source": [
    "df.head(20)"
   ]
  },
  {
   "cell_type": "code",
   "execution_count": null,
   "metadata": {},
   "outputs": [],
   "source": []
  },
  {
   "cell_type": "markdown",
   "metadata": {},
   "source": [
    "Welche Einheitstypen gibt es? Und welches Muster haben sie?\n",
    "- Gemeinde (\"...... 9999 Gemeindename\")\n",
    "- Bezirk (\">> Bezirsname\")\n",
    "- Kantone (\"- Kantonsname\")\n",
    "- Land (\"Land\")"
   ]
  },
  {
   "cell_type": "markdown",
   "metadata": {},
   "source": [
    "## Pandas-Funktionen, die Regex brauchen können"
   ]
  },
  {
   "cell_type": "markdown",
   "metadata": {},
   "source": [
    "Einige Befehle heissen leicht anders, funktionieren aber sehr ähnlich wie in der re.Library\n",
    "\n",
    "- **`str.contains(r\"regex\")`**: das Pendant zu `re.search()` - ja/nein-Antwort\n",
    "\n",
    "- **`str.extract(r\"regex\")`**: auch ähnlich wie `re.search()` - Suchergebnis als Antwort\n",
    "\n",
    "- **`str.replace(r\"regex\", \"str\")`**: das Pendant zu `re.sub()` - ersetzt Match mit String"
   ]
  },
  {
   "cell_type": "markdown",
   "metadata": {},
   "source": [
    "Wir wenden diese Funktionen jetzt an."
   ]
  },
  {
   "cell_type": "markdown",
   "metadata": {},
   "source": [
    "### Aber zuerst ..."
   ]
  },
  {
   "cell_type": "markdown",
   "metadata": {},
   "source": [
    "**Quiz:** Zuerst brauchen wir die Regex-Ausdrücke, um die Einheiten zu erkennen.\n",
    "\n",
    "Am besten mit Tests beginnen, ob die Regex an einer Einheit anschlägt - und jeweils auch testen, ob die Regex bei Einheiten, die wir *nicht* wollen, auch *nicht* anschlägt."
   ]
  },
  {
   "cell_type": "markdown",
   "metadata": {},
   "source": [
    "**Test für Kantone**"
   ]
  },
  {
   "cell_type": "code",
   "execution_count": 7,
   "metadata": {},
   "outputs": [],
   "source": [
    "# Unsere Regex\n",
    "regex_k = r\"^- .+$\""
   ]
  },
  {
   "cell_type": "code",
   "execution_count": 8,
   "metadata": {},
   "outputs": [
    {
     "data": {
      "text/plain": [
       "<re.Match object; span=(0, 8), match='- Aargau'>"
      ]
     },
     "execution_count": 8,
     "metadata": {},
     "output_type": "execute_result"
    }
   ],
   "source": [
    "# Schlägt die regex bei den Kantonen an?\n",
    "# (Gut ist, wenn wir ein \"Match\"-Objekt erhalten)\n",
    "re.search(regex_k, \"- Aargau\")"
   ]
  },
  {
   "cell_type": "code",
   "execution_count": 9,
   "metadata": {},
   "outputs": [],
   "source": [
    "# Schlägt die regex bei den Bezirken NICHT an?\n",
    "# (Gut ist hier, wenn wir nichts zurückerhalten)\n",
    "re.search(regex_k, \">> Wahlkreis Luzern-Stadt\")"
   ]
  },
  {
   "cell_type": "code",
   "execution_count": 10,
   "metadata": {},
   "outputs": [],
   "source": [
    "# Schlägt die regex bei den Gemeinden NICHT an?\n",
    "re.search(regex_k, \"......0001 Aeugst am Albis\")"
   ]
  },
  {
   "cell_type": "markdown",
   "metadata": {},
   "source": [
    "**Test für Bezirke**"
   ]
  },
  {
   "cell_type": "code",
   "execution_count": 11,
   "metadata": {},
   "outputs": [],
   "source": [
    "# Unsere Regex\n",
    "regex_b = r\"^>> .+$\""
   ]
  },
  {
   "cell_type": "code",
   "execution_count": 12,
   "metadata": {},
   "outputs": [
    {
     "data": {
      "text/plain": [
       "<re.Match object; span=(0, 25), match='>> Wahlkreis Luzern-Stadt'>"
      ]
     },
     "execution_count": 12,
     "metadata": {},
     "output_type": "execute_result"
    }
   ],
   "source": [
    "# Schlägt die regex bei den Bezirken an?\n",
    "re.search(regex_b, \">> Wahlkreis Luzern-Stadt\")"
   ]
  },
  {
   "cell_type": "code",
   "execution_count": 13,
   "metadata": {},
   "outputs": [],
   "source": [
    "# Schlägt die regex bei den Kantonen NICHT an?\n",
    "re.search(regex_b, \"- Aargau\")"
   ]
  },
  {
   "cell_type": "code",
   "execution_count": 14,
   "metadata": {},
   "outputs": [],
   "source": [
    "# Schlägt die regex bei den Gemeinden NICHT an?\n",
    "re.search(regex_b, \"......0001 Aeugst am Albis\")"
   ]
  },
  {
   "cell_type": "markdown",
   "metadata": {},
   "source": [
    "**Test für Gemeinden**"
   ]
  },
  {
   "cell_type": "code",
   "execution_count": 15,
   "metadata": {},
   "outputs": [],
   "source": [
    "# Unsere Regex\n",
    "regex_g = r\"^\\.{6}\\d{4} .+$\""
   ]
  },
  {
   "cell_type": "code",
   "execution_count": 16,
   "metadata": {},
   "outputs": [
    {
     "data": {
      "text/plain": [
       "<re.Match object; span=(0, 26), match='......0001 Aeugst am Albis'>"
      ]
     },
     "execution_count": 16,
     "metadata": {},
     "output_type": "execute_result"
    }
   ],
   "source": [
    "# Test für Gemeinde\n",
    "re.search(regex_g, \"......0001 Aeugst am Albis\")"
   ]
  },
  {
   "cell_type": "code",
   "execution_count": 17,
   "metadata": {},
   "outputs": [],
   "source": [
    "# Schlägt die regex bei den Kantonen NICHT an?\n",
    "re.search(regex_g, \"- Aargau\")"
   ]
  },
  {
   "cell_type": "code",
   "execution_count": 18,
   "metadata": {},
   "outputs": [],
   "source": [
    "# Schlägt die regex bei den Bezirken NICHT an?\n",
    "re.search(regex_g, \">> Wahlkreis Luzern-Stadt\")"
   ]
  },
  {
   "cell_type": "code",
   "execution_count": null,
   "metadata": {},
   "outputs": [],
   "source": []
  },
  {
   "cell_type": "markdown",
   "metadata": {},
   "source": [
    "## 1. Daten filtern"
   ]
  },
  {
   "cell_type": "markdown",
   "metadata": {},
   "source": [
    "Nachdem wir nun die passenden Regex-Ausdrücke gefunden haben, können wir unsere Daten filtern.\n",
    "\n",
    "Ziel: Wir erstellen ein separates DF für Gemeinden, Bezirke, Kantone."
   ]
  },
  {
   "cell_type": "markdown",
   "metadata": {},
   "source": [
    "Hier können wir die Funktion `str.contains()` gut brauchen.\n",
    "\n",
    "Wir testen damit mal, ob die Einträge in der Spalte \"Einheit\" eine Gemeinde sind:"
   ]
  },
  {
   "cell_type": "code",
   "execution_count": 19,
   "metadata": {},
   "outputs": [
    {
     "data": {
      "text/plain": [
       "0       False\n",
       "1       False\n",
       "2       False\n",
       "3       False\n",
       "4       False\n",
       "        ...  \n",
       "9991     True\n",
       "9992     True\n",
       "9993     True\n",
       "9994     True\n",
       "9995     True\n",
       "Name: Einheit, Length: 9996, dtype: bool"
      ]
     },
     "execution_count": 19,
     "metadata": {},
     "output_type": "execute_result"
    }
   ],
   "source": [
    "df['Einheit'].str.contains(regex_g)"
   ]
  },
  {
   "cell_type": "markdown",
   "metadata": {},
   "source": [
    "Basierend auf dieser True/False-Liste können wir nun die Tabelle filtern."
   ]
  },
  {
   "cell_type": "code",
   "execution_count": 20,
   "metadata": {},
   "outputs": [
    {
     "data": {
      "text/html": [
       "<div>\n",
       "<style scoped>\n",
       "    .dataframe tbody tr th:only-of-type {\n",
       "        vertical-align: middle;\n",
       "    }\n",
       "\n",
       "    .dataframe tbody tr th {\n",
       "        vertical-align: top;\n",
       "    }\n",
       "\n",
       "    .dataframe thead th {\n",
       "        text-align: right;\n",
       "    }\n",
       "</style>\n",
       "<table border=\"1\" class=\"dataframe\">\n",
       "  <thead>\n",
       "    <tr style=\"text-align: right;\">\n",
       "      <th></th>\n",
       "      <th>Einheit</th>\n",
       "      <th>Zivilstand</th>\n",
       "      <th>Anzahl</th>\n",
       "    </tr>\n",
       "  </thead>\n",
       "  <tbody>\n",
       "    <tr>\n",
       "      <td>12</td>\n",
       "      <td>......0001 Aeugst am Albis</td>\n",
       "      <td>Ledig</td>\n",
       "      <td>852</td>\n",
       "    </tr>\n",
       "    <tr>\n",
       "      <td>13</td>\n",
       "      <td>......0001 Aeugst am Albis</td>\n",
       "      <td>Verheiratet</td>\n",
       "      <td>908</td>\n",
       "    </tr>\n",
       "    <tr>\n",
       "      <td>14</td>\n",
       "      <td>......0001 Aeugst am Albis</td>\n",
       "      <td>Verwitwet</td>\n",
       "      <td>74</td>\n",
       "    </tr>\n",
       "    <tr>\n",
       "      <td>15</td>\n",
       "      <td>......0001 Aeugst am Albis</td>\n",
       "      <td>Geschieden</td>\n",
       "      <td>147</td>\n",
       "    </tr>\n",
       "    <tr>\n",
       "      <td>16</td>\n",
       "      <td>......0002 Affoltern am Albis</td>\n",
       "      <td>Ledig</td>\n",
       "      <td>5000</td>\n",
       "    </tr>\n",
       "    <tr>\n",
       "      <td>...</td>\n",
       "      <td>...</td>\n",
       "      <td>...</td>\n",
       "      <td>...</td>\n",
       "    </tr>\n",
       "    <tr>\n",
       "      <td>9991</td>\n",
       "      <td>......6809 Haute-Ajoie</td>\n",
       "      <td>Geschieden</td>\n",
       "      <td>69</td>\n",
       "    </tr>\n",
       "    <tr>\n",
       "      <td>9992</td>\n",
       "      <td>......6810 La Baroche</td>\n",
       "      <td>Ledig</td>\n",
       "      <td>490</td>\n",
       "    </tr>\n",
       "    <tr>\n",
       "      <td>9993</td>\n",
       "      <td>......6810 La Baroche</td>\n",
       "      <td>Verheiratet</td>\n",
       "      <td>518</td>\n",
       "    </tr>\n",
       "    <tr>\n",
       "      <td>9994</td>\n",
       "      <td>......6810 La Baroche</td>\n",
       "      <td>Verwitwet</td>\n",
       "      <td>75</td>\n",
       "    </tr>\n",
       "    <tr>\n",
       "      <td>9995</td>\n",
       "      <td>......6810 La Baroche</td>\n",
       "      <td>Geschieden</td>\n",
       "      <td>100</td>\n",
       "    </tr>\n",
       "  </tbody>\n",
       "</table>\n",
       "<p>9296 rows × 3 columns</p>\n",
       "</div>"
      ],
      "text/plain": [
       "                            Einheit   Zivilstand  Anzahl\n",
       "12       ......0001 Aeugst am Albis        Ledig     852\n",
       "13       ......0001 Aeugst am Albis  Verheiratet     908\n",
       "14       ......0001 Aeugst am Albis    Verwitwet      74\n",
       "15       ......0001 Aeugst am Albis   Geschieden     147\n",
       "16    ......0002 Affoltern am Albis        Ledig    5000\n",
       "...                             ...          ...     ...\n",
       "9991         ......6809 Haute-Ajoie   Geschieden      69\n",
       "9992          ......6810 La Baroche        Ledig     490\n",
       "9993          ......6810 La Baroche  Verheiratet     518\n",
       "9994          ......6810 La Baroche    Verwitwet      75\n",
       "9995          ......6810 La Baroche   Geschieden     100\n",
       "\n",
       "[9296 rows x 3 columns]"
      ]
     },
     "execution_count": 20,
     "metadata": {},
     "output_type": "execute_result"
    }
   ],
   "source": [
    "df[df['Einheit'].str.contains(regex_g)]"
   ]
  },
  {
   "cell_type": "markdown",
   "metadata": {},
   "source": [
    "Wir speichern den Output in einer separaten DF (als Kopie, damit wir nachher keinen Ärger kriegen)."
   ]
  },
  {
   "cell_type": "code",
   "execution_count": 21,
   "metadata": {},
   "outputs": [],
   "source": [
    "df_g = df[df['Einheit'].str.contains(regex_g)].copy()"
   ]
  },
  {
   "cell_type": "markdown",
   "metadata": {},
   "source": [
    "**Quiz:** Erstellen Sie zwei weitere Dataframes, in denen nur die Kantone und Bezirke sind."
   ]
  },
  {
   "cell_type": "code",
   "execution_count": 22,
   "metadata": {},
   "outputs": [],
   "source": [
    "df_k = df[df['Einheit'].str.contains(regex_k)].copy()"
   ]
  },
  {
   "cell_type": "code",
   "execution_count": 23,
   "metadata": {},
   "outputs": [],
   "source": [
    "df_b = df[df['Einheit'].str.contains(regex_b)].copy()"
   ]
  },
  {
   "cell_type": "code",
   "execution_count": null,
   "metadata": {},
   "outputs": [],
   "source": []
  },
  {
   "cell_type": "markdown",
   "metadata": {},
   "source": [
    "## 2. Daten extrahieren"
   ]
  },
  {
   "cell_type": "markdown",
   "metadata": {},
   "source": [
    "Wir wenden uns den Gemeinden zu. Unser Ziel: Die Gemeindenummer in eine separate Spalte ziehen."
   ]
  },
  {
   "cell_type": "code",
   "execution_count": 24,
   "metadata": {},
   "outputs": [
    {
     "data": {
      "text/html": [
       "<div>\n",
       "<style scoped>\n",
       "    .dataframe tbody tr th:only-of-type {\n",
       "        vertical-align: middle;\n",
       "    }\n",
       "\n",
       "    .dataframe tbody tr th {\n",
       "        vertical-align: top;\n",
       "    }\n",
       "\n",
       "    .dataframe thead th {\n",
       "        text-align: right;\n",
       "    }\n",
       "</style>\n",
       "<table border=\"1\" class=\"dataframe\">\n",
       "  <thead>\n",
       "    <tr style=\"text-align: right;\">\n",
       "      <th></th>\n",
       "      <th>Einheit</th>\n",
       "      <th>Zivilstand</th>\n",
       "      <th>Anzahl</th>\n",
       "    </tr>\n",
       "  </thead>\n",
       "  <tbody>\n",
       "    <tr>\n",
       "      <td>12</td>\n",
       "      <td>......0001 Aeugst am Albis</td>\n",
       "      <td>Ledig</td>\n",
       "      <td>852</td>\n",
       "    </tr>\n",
       "    <tr>\n",
       "      <td>13</td>\n",
       "      <td>......0001 Aeugst am Albis</td>\n",
       "      <td>Verheiratet</td>\n",
       "      <td>908</td>\n",
       "    </tr>\n",
       "  </tbody>\n",
       "</table>\n",
       "</div>"
      ],
      "text/plain": [
       "                       Einheit   Zivilstand  Anzahl\n",
       "12  ......0001 Aeugst am Albis        Ledig     852\n",
       "13  ......0001 Aeugst am Albis  Verheiratet     908"
      ]
     },
     "execution_count": 24,
     "metadata": {},
     "output_type": "execute_result"
    }
   ],
   "source": [
    "df_g.head(2)"
   ]
  },
  {
   "cell_type": "markdown",
   "metadata": {},
   "source": [
    "Hier kommt die Funktion `str.extract()` gelegen. Um sie zu benutzen, müssen wir zwei Dinge wissen:\n",
    "1. die Regex, die zu dem gesamten Ausdruck passt.\n",
    "2. Den Teil der Regex, den wir in Klammern `()` setzen und extrahieren wollen."
   ]
  },
  {
   "cell_type": "code",
   "execution_count": 25,
   "metadata": {},
   "outputs": [
    {
     "data": {
      "text/html": [
       "<div>\n",
       "<style scoped>\n",
       "    .dataframe tbody tr th:only-of-type {\n",
       "        vertical-align: middle;\n",
       "    }\n",
       "\n",
       "    .dataframe tbody tr th {\n",
       "        vertical-align: top;\n",
       "    }\n",
       "\n",
       "    .dataframe thead th {\n",
       "        text-align: right;\n",
       "    }\n",
       "</style>\n",
       "<table border=\"1\" class=\"dataframe\">\n",
       "  <thead>\n",
       "    <tr style=\"text-align: right;\">\n",
       "      <th></th>\n",
       "      <th>0</th>\n",
       "    </tr>\n",
       "  </thead>\n",
       "  <tbody>\n",
       "    <tr>\n",
       "      <td>12</td>\n",
       "      <td>0001</td>\n",
       "    </tr>\n",
       "    <tr>\n",
       "      <td>13</td>\n",
       "      <td>0001</td>\n",
       "    </tr>\n",
       "    <tr>\n",
       "      <td>14</td>\n",
       "      <td>0001</td>\n",
       "    </tr>\n",
       "    <tr>\n",
       "      <td>15</td>\n",
       "      <td>0001</td>\n",
       "    </tr>\n",
       "    <tr>\n",
       "      <td>16</td>\n",
       "      <td>0002</td>\n",
       "    </tr>\n",
       "    <tr>\n",
       "      <td>...</td>\n",
       "      <td>...</td>\n",
       "    </tr>\n",
       "    <tr>\n",
       "      <td>9991</td>\n",
       "      <td>6809</td>\n",
       "    </tr>\n",
       "    <tr>\n",
       "      <td>9992</td>\n",
       "      <td>6810</td>\n",
       "    </tr>\n",
       "    <tr>\n",
       "      <td>9993</td>\n",
       "      <td>6810</td>\n",
       "    </tr>\n",
       "    <tr>\n",
       "      <td>9994</td>\n",
       "      <td>6810</td>\n",
       "    </tr>\n",
       "    <tr>\n",
       "      <td>9995</td>\n",
       "      <td>6810</td>\n",
       "    </tr>\n",
       "  </tbody>\n",
       "</table>\n",
       "<p>9296 rows × 1 columns</p>\n",
       "</div>"
      ],
      "text/plain": [
       "         0\n",
       "12    0001\n",
       "13    0001\n",
       "14    0001\n",
       "15    0001\n",
       "16    0002\n",
       "...    ...\n",
       "9991  6809\n",
       "9992  6810\n",
       "9993  6810\n",
       "9994  6810\n",
       "9995  6810\n",
       "\n",
       "[9296 rows x 1 columns]"
      ]
     },
     "execution_count": 25,
     "metadata": {},
     "output_type": "execute_result"
    }
   ],
   "source": [
    "df_g['Einheit'].str.extract(r\"^\\.{6}(\\d{4}) .+$\")"
   ]
  },
  {
   "cell_type": "markdown",
   "metadata": {},
   "source": [
    "Wir können den Output dieser Funktion für die neue Spalte setzen."
   ]
  },
  {
   "cell_type": "code",
   "execution_count": 26,
   "metadata": {},
   "outputs": [],
   "source": [
    "df_g['Nummer'] = df_g['Einheit'].str.extract(r\"^\\.{6}(\\d{4}) .+$\")"
   ]
  },
  {
   "cell_type": "code",
   "execution_count": 27,
   "metadata": {
    "scrolled": true
   },
   "outputs": [
    {
     "data": {
      "text/html": [
       "<div>\n",
       "<style scoped>\n",
       "    .dataframe tbody tr th:only-of-type {\n",
       "        vertical-align: middle;\n",
       "    }\n",
       "\n",
       "    .dataframe tbody tr th {\n",
       "        vertical-align: top;\n",
       "    }\n",
       "\n",
       "    .dataframe thead th {\n",
       "        text-align: right;\n",
       "    }\n",
       "</style>\n",
       "<table border=\"1\" class=\"dataframe\">\n",
       "  <thead>\n",
       "    <tr style=\"text-align: right;\">\n",
       "      <th></th>\n",
       "      <th>Einheit</th>\n",
       "      <th>Zivilstand</th>\n",
       "      <th>Anzahl</th>\n",
       "      <th>Nummer</th>\n",
       "    </tr>\n",
       "  </thead>\n",
       "  <tbody>\n",
       "    <tr>\n",
       "      <td>12</td>\n",
       "      <td>......0001 Aeugst am Albis</td>\n",
       "      <td>Ledig</td>\n",
       "      <td>852</td>\n",
       "      <td>0001</td>\n",
       "    </tr>\n",
       "    <tr>\n",
       "      <td>13</td>\n",
       "      <td>......0001 Aeugst am Albis</td>\n",
       "      <td>Verheiratet</td>\n",
       "      <td>908</td>\n",
       "      <td>0001</td>\n",
       "    </tr>\n",
       "    <tr>\n",
       "      <td>14</td>\n",
       "      <td>......0001 Aeugst am Albis</td>\n",
       "      <td>Verwitwet</td>\n",
       "      <td>74</td>\n",
       "      <td>0001</td>\n",
       "    </tr>\n",
       "    <tr>\n",
       "      <td>15</td>\n",
       "      <td>......0001 Aeugst am Albis</td>\n",
       "      <td>Geschieden</td>\n",
       "      <td>147</td>\n",
       "      <td>0001</td>\n",
       "    </tr>\n",
       "    <tr>\n",
       "      <td>16</td>\n",
       "      <td>......0002 Affoltern am Albis</td>\n",
       "      <td>Ledig</td>\n",
       "      <td>5000</td>\n",
       "      <td>0002</td>\n",
       "    </tr>\n",
       "    <tr>\n",
       "      <td>17</td>\n",
       "      <td>......0002 Affoltern am Albis</td>\n",
       "      <td>Verheiratet</td>\n",
       "      <td>5159</td>\n",
       "      <td>0002</td>\n",
       "    </tr>\n",
       "    <tr>\n",
       "      <td>18</td>\n",
       "      <td>......0002 Affoltern am Albis</td>\n",
       "      <td>Verwitwet</td>\n",
       "      <td>545</td>\n",
       "      <td>0002</td>\n",
       "    </tr>\n",
       "    <tr>\n",
       "      <td>19</td>\n",
       "      <td>......0002 Affoltern am Albis</td>\n",
       "      <td>Geschieden</td>\n",
       "      <td>1004</td>\n",
       "      <td>0002</td>\n",
       "    </tr>\n",
       "    <tr>\n",
       "      <td>20</td>\n",
       "      <td>......0003 Bonstetten</td>\n",
       "      <td>Ledig</td>\n",
       "      <td>2336</td>\n",
       "      <td>0003</td>\n",
       "    </tr>\n",
       "    <tr>\n",
       "      <td>21</td>\n",
       "      <td>......0003 Bonstetten</td>\n",
       "      <td>Verheiratet</td>\n",
       "      <td>2452</td>\n",
       "      <td>0003</td>\n",
       "    </tr>\n",
       "  </tbody>\n",
       "</table>\n",
       "</div>"
      ],
      "text/plain": [
       "                          Einheit   Zivilstand  Anzahl Nummer\n",
       "12     ......0001 Aeugst am Albis        Ledig     852   0001\n",
       "13     ......0001 Aeugst am Albis  Verheiratet     908   0001\n",
       "14     ......0001 Aeugst am Albis    Verwitwet      74   0001\n",
       "15     ......0001 Aeugst am Albis   Geschieden     147   0001\n",
       "16  ......0002 Affoltern am Albis        Ledig    5000   0002\n",
       "17  ......0002 Affoltern am Albis  Verheiratet    5159   0002\n",
       "18  ......0002 Affoltern am Albis    Verwitwet     545   0002\n",
       "19  ......0002 Affoltern am Albis   Geschieden    1004   0002\n",
       "20          ......0003 Bonstetten        Ledig    2336   0003\n",
       "21          ......0003 Bonstetten  Verheiratet    2452   0003"
      ]
     },
     "execution_count": 27,
     "metadata": {},
     "output_type": "execute_result"
    }
   ],
   "source": [
    "df_g.head(10)"
   ]
  },
  {
   "cell_type": "markdown",
   "metadata": {},
   "source": [
    "**Quiz:** Erstellen Sie im Gemeinde-DF eine weitere Spalte (\"Name\"), die den Namen der Gemeinde enthält!"
   ]
  },
  {
   "cell_type": "code",
   "execution_count": 28,
   "metadata": {},
   "outputs": [],
   "source": [
    "df_g['Name'] = df_g['Einheit'].str.extract(r\"^\\.{6}\\d{4} (.+)$\")"
   ]
  },
  {
   "cell_type": "code",
   "execution_count": 29,
   "metadata": {},
   "outputs": [
    {
     "data": {
      "text/html": [
       "<div>\n",
       "<style scoped>\n",
       "    .dataframe tbody tr th:only-of-type {\n",
       "        vertical-align: middle;\n",
       "    }\n",
       "\n",
       "    .dataframe tbody tr th {\n",
       "        vertical-align: top;\n",
       "    }\n",
       "\n",
       "    .dataframe thead th {\n",
       "        text-align: right;\n",
       "    }\n",
       "</style>\n",
       "<table border=\"1\" class=\"dataframe\">\n",
       "  <thead>\n",
       "    <tr style=\"text-align: right;\">\n",
       "      <th></th>\n",
       "      <th>Einheit</th>\n",
       "      <th>Zivilstand</th>\n",
       "      <th>Anzahl</th>\n",
       "      <th>Nummer</th>\n",
       "      <th>Name</th>\n",
       "    </tr>\n",
       "  </thead>\n",
       "  <tbody>\n",
       "    <tr>\n",
       "      <td>12</td>\n",
       "      <td>......0001 Aeugst am Albis</td>\n",
       "      <td>Ledig</td>\n",
       "      <td>852</td>\n",
       "      <td>0001</td>\n",
       "      <td>Aeugst am Albis</td>\n",
       "    </tr>\n",
       "    <tr>\n",
       "      <td>13</td>\n",
       "      <td>......0001 Aeugst am Albis</td>\n",
       "      <td>Verheiratet</td>\n",
       "      <td>908</td>\n",
       "      <td>0001</td>\n",
       "      <td>Aeugst am Albis</td>\n",
       "    </tr>\n",
       "    <tr>\n",
       "      <td>14</td>\n",
       "      <td>......0001 Aeugst am Albis</td>\n",
       "      <td>Verwitwet</td>\n",
       "      <td>74</td>\n",
       "      <td>0001</td>\n",
       "      <td>Aeugst am Albis</td>\n",
       "    </tr>\n",
       "    <tr>\n",
       "      <td>15</td>\n",
       "      <td>......0001 Aeugst am Albis</td>\n",
       "      <td>Geschieden</td>\n",
       "      <td>147</td>\n",
       "      <td>0001</td>\n",
       "      <td>Aeugst am Albis</td>\n",
       "    </tr>\n",
       "    <tr>\n",
       "      <td>16</td>\n",
       "      <td>......0002 Affoltern am Albis</td>\n",
       "      <td>Ledig</td>\n",
       "      <td>5000</td>\n",
       "      <td>0002</td>\n",
       "      <td>Affoltern am Albis</td>\n",
       "    </tr>\n",
       "    <tr>\n",
       "      <td>17</td>\n",
       "      <td>......0002 Affoltern am Albis</td>\n",
       "      <td>Verheiratet</td>\n",
       "      <td>5159</td>\n",
       "      <td>0002</td>\n",
       "      <td>Affoltern am Albis</td>\n",
       "    </tr>\n",
       "    <tr>\n",
       "      <td>18</td>\n",
       "      <td>......0002 Affoltern am Albis</td>\n",
       "      <td>Verwitwet</td>\n",
       "      <td>545</td>\n",
       "      <td>0002</td>\n",
       "      <td>Affoltern am Albis</td>\n",
       "    </tr>\n",
       "    <tr>\n",
       "      <td>19</td>\n",
       "      <td>......0002 Affoltern am Albis</td>\n",
       "      <td>Geschieden</td>\n",
       "      <td>1004</td>\n",
       "      <td>0002</td>\n",
       "      <td>Affoltern am Albis</td>\n",
       "    </tr>\n",
       "    <tr>\n",
       "      <td>20</td>\n",
       "      <td>......0003 Bonstetten</td>\n",
       "      <td>Ledig</td>\n",
       "      <td>2336</td>\n",
       "      <td>0003</td>\n",
       "      <td>Bonstetten</td>\n",
       "    </tr>\n",
       "    <tr>\n",
       "      <td>21</td>\n",
       "      <td>......0003 Bonstetten</td>\n",
       "      <td>Verheiratet</td>\n",
       "      <td>2452</td>\n",
       "      <td>0003</td>\n",
       "      <td>Bonstetten</td>\n",
       "    </tr>\n",
       "  </tbody>\n",
       "</table>\n",
       "</div>"
      ],
      "text/plain": [
       "                          Einheit   Zivilstand  Anzahl Nummer  \\\n",
       "12     ......0001 Aeugst am Albis        Ledig     852   0001   \n",
       "13     ......0001 Aeugst am Albis  Verheiratet     908   0001   \n",
       "14     ......0001 Aeugst am Albis    Verwitwet      74   0001   \n",
       "15     ......0001 Aeugst am Albis   Geschieden     147   0001   \n",
       "16  ......0002 Affoltern am Albis        Ledig    5000   0002   \n",
       "17  ......0002 Affoltern am Albis  Verheiratet    5159   0002   \n",
       "18  ......0002 Affoltern am Albis    Verwitwet     545   0002   \n",
       "19  ......0002 Affoltern am Albis   Geschieden    1004   0002   \n",
       "20          ......0003 Bonstetten        Ledig    2336   0003   \n",
       "21          ......0003 Bonstetten  Verheiratet    2452   0003   \n",
       "\n",
       "                  Name  \n",
       "12     Aeugst am Albis  \n",
       "13     Aeugst am Albis  \n",
       "14     Aeugst am Albis  \n",
       "15     Aeugst am Albis  \n",
       "16  Affoltern am Albis  \n",
       "17  Affoltern am Albis  \n",
       "18  Affoltern am Albis  \n",
       "19  Affoltern am Albis  \n",
       "20          Bonstetten  \n",
       "21          Bonstetten  "
      ]
     },
     "execution_count": 29,
     "metadata": {},
     "output_type": "execute_result"
    }
   ],
   "source": [
    "df_g.head(10)"
   ]
  },
  {
   "cell_type": "code",
   "execution_count": null,
   "metadata": {},
   "outputs": [],
   "source": []
  },
  {
   "cell_type": "markdown",
   "metadata": {},
   "source": [
    "## Übung"
   ]
  },
  {
   "cell_type": "markdown",
   "metadata": {},
   "source": [
    "### Teil 1"
   ]
  },
  {
   "cell_type": "markdown",
   "metadata": {},
   "source": [
    "**Hier haben Sie Gelegenheit noch etwas mit den Regex-Funktionen in Pandas zu experimentieren.**"
   ]
  },
  {
   "cell_type": "markdown",
   "metadata": {},
   "source": [
    "Wir arbeiten wieder mit dem Haupt-Dataframe am Anfang: `df`."
   ]
  },
  {
   "cell_type": "markdown",
   "metadata": {},
   "source": [
    "**Aufgabe 1:** Erstellen Sie im DF eine zusätzliche Spalte mit dem Namen \"Typ\". Darin soll stehen, ob es sich bei der betreffenden Zeile um eine Gemeinde, einen Bezirk, einen Kanton oder ein Land handelt.\n",
    "\n",
    "Tipp: Arbeiten Sie mit `df.loc[]`"
   ]
  },
  {
   "cell_type": "code",
   "execution_count": 30,
   "metadata": {},
   "outputs": [],
   "source": [
    "df.loc[df['Einheit'].str.contains(r\"^\\.{6}\\d{4} .+$\"), 'Typ'] = \"Gemeinde\"\n",
    "df.loc[df['Einheit'].str.contains(r\"^>> .+$\"), 'Typ'] = \"Bezirk\"\n",
    "df.loc[df['Einheit'].str.contains(r\"^- .+$\"), 'Typ'] = \"Kanton\"\n",
    "df.loc[df['Einheit'].str.contains(r\"Schweiz\"), 'Typ'] = \"Land\""
   ]
  },
  {
   "cell_type": "code",
   "execution_count": 31,
   "metadata": {},
   "outputs": [
    {
     "data": {
      "text/html": [
       "<div>\n",
       "<style scoped>\n",
       "    .dataframe tbody tr th:only-of-type {\n",
       "        vertical-align: middle;\n",
       "    }\n",
       "\n",
       "    .dataframe tbody tr th {\n",
       "        vertical-align: top;\n",
       "    }\n",
       "\n",
       "    .dataframe thead th {\n",
       "        text-align: right;\n",
       "    }\n",
       "</style>\n",
       "<table border=\"1\" class=\"dataframe\">\n",
       "  <thead>\n",
       "    <tr style=\"text-align: right;\">\n",
       "      <th></th>\n",
       "      <th>Einheit</th>\n",
       "      <th>Zivilstand</th>\n",
       "      <th>Anzahl</th>\n",
       "      <th>Typ</th>\n",
       "    </tr>\n",
       "  </thead>\n",
       "  <tbody>\n",
       "    <tr>\n",
       "      <td>0</td>\n",
       "      <td>Schweiz</td>\n",
       "      <td>Ledig</td>\n",
       "      <td>3650651</td>\n",
       "      <td>Land</td>\n",
       "    </tr>\n",
       "    <tr>\n",
       "      <td>1</td>\n",
       "      <td>Schweiz</td>\n",
       "      <td>Verheiratet</td>\n",
       "      <td>3583008</td>\n",
       "      <td>Land</td>\n",
       "    </tr>\n",
       "    <tr>\n",
       "      <td>2</td>\n",
       "      <td>Schweiz</td>\n",
       "      <td>Verwitwet</td>\n",
       "      <td>407408</td>\n",
       "      <td>Land</td>\n",
       "    </tr>\n",
       "    <tr>\n",
       "      <td>3</td>\n",
       "      <td>Schweiz</td>\n",
       "      <td>Geschieden</td>\n",
       "      <td>685622</td>\n",
       "      <td>Land</td>\n",
       "    </tr>\n",
       "    <tr>\n",
       "      <td>4</td>\n",
       "      <td>- Zürich</td>\n",
       "      <td>Ledig</td>\n",
       "      <td>666873</td>\n",
       "      <td>Kanton</td>\n",
       "    </tr>\n",
       "    <tr>\n",
       "      <td>5</td>\n",
       "      <td>- Zürich</td>\n",
       "      <td>Verheiratet</td>\n",
       "      <td>610396</td>\n",
       "      <td>Kanton</td>\n",
       "    </tr>\n",
       "    <tr>\n",
       "      <td>6</td>\n",
       "      <td>- Zürich</td>\n",
       "      <td>Verwitwet</td>\n",
       "      <td>63173</td>\n",
       "      <td>Kanton</td>\n",
       "    </tr>\n",
       "    <tr>\n",
       "      <td>7</td>\n",
       "      <td>- Zürich</td>\n",
       "      <td>Geschieden</td>\n",
       "      <td>125889</td>\n",
       "      <td>Kanton</td>\n",
       "    </tr>\n",
       "    <tr>\n",
       "      <td>8</td>\n",
       "      <td>&gt;&gt; Bezirk Affoltern</td>\n",
       "      <td>Ledig</td>\n",
       "      <td>21785</td>\n",
       "      <td>Bezirk</td>\n",
       "    </tr>\n",
       "    <tr>\n",
       "      <td>9</td>\n",
       "      <td>&gt;&gt; Bezirk Affoltern</td>\n",
       "      <td>Verheiratet</td>\n",
       "      <td>23865</td>\n",
       "      <td>Bezirk</td>\n",
       "    </tr>\n",
       "  </tbody>\n",
       "</table>\n",
       "</div>"
      ],
      "text/plain": [
       "               Einheit   Zivilstand   Anzahl     Typ\n",
       "0              Schweiz        Ledig  3650651    Land\n",
       "1              Schweiz  Verheiratet  3583008    Land\n",
       "2              Schweiz    Verwitwet   407408    Land\n",
       "3              Schweiz   Geschieden   685622    Land\n",
       "4             - Zürich        Ledig   666873  Kanton\n",
       "5             - Zürich  Verheiratet   610396  Kanton\n",
       "6             - Zürich    Verwitwet    63173  Kanton\n",
       "7             - Zürich   Geschieden   125889  Kanton\n",
       "8  >> Bezirk Affoltern        Ledig    21785  Bezirk\n",
       "9  >> Bezirk Affoltern  Verheiratet    23865  Bezirk"
      ]
     },
     "execution_count": 31,
     "metadata": {},
     "output_type": "execute_result"
    }
   ],
   "source": [
    "df.head(10)"
   ]
  },
  {
   "cell_type": "code",
   "execution_count": null,
   "metadata": {},
   "outputs": [],
   "source": []
  },
  {
   "cell_type": "markdown",
   "metadata": {
    "collapsed": true
   },
   "source": [
    "**Aufgabe 2:** Bereinigen Sie die Bezeichnungen in der Spalte \"Einheit\". Wir wollen keine Nummern und keine Sonderzeichen mehr darin sehen, nur noch die Namen der Gemeinden, Bezirke und Kantone.\n",
    "\n",
    "Tipp: Arbeiten Sie mit `str.replace()`"
   ]
  },
  {
   "cell_type": "code",
   "execution_count": null,
   "metadata": {},
   "outputs": [],
   "source": []
  },
  {
   "cell_type": "code",
   "execution_count": 32,
   "metadata": {},
   "outputs": [],
   "source": [
    "df['Einheit'] = df['Einheit'].str.replace(r\"^- \", \"\")"
   ]
  },
  {
   "cell_type": "code",
   "execution_count": 33,
   "metadata": {},
   "outputs": [],
   "source": [
    "df['Einheit'] = df['Einheit'].str.replace(r\"^>> \", \"\")"
   ]
  },
  {
   "cell_type": "code",
   "execution_count": 34,
   "metadata": {},
   "outputs": [],
   "source": [
    "df['Einheit'] = df['Einheit'].str.replace(r\"^\\.{6}\\d{4} \", \"\")"
   ]
  },
  {
   "cell_type": "code",
   "execution_count": 35,
   "metadata": {},
   "outputs": [
    {
     "data": {
      "text/html": [
       "<div>\n",
       "<style scoped>\n",
       "    .dataframe tbody tr th:only-of-type {\n",
       "        vertical-align: middle;\n",
       "    }\n",
       "\n",
       "    .dataframe tbody tr th {\n",
       "        vertical-align: top;\n",
       "    }\n",
       "\n",
       "    .dataframe thead th {\n",
       "        text-align: right;\n",
       "    }\n",
       "</style>\n",
       "<table border=\"1\" class=\"dataframe\">\n",
       "  <thead>\n",
       "    <tr style=\"text-align: right;\">\n",
       "      <th></th>\n",
       "      <th>Einheit</th>\n",
       "      <th>Zivilstand</th>\n",
       "      <th>Anzahl</th>\n",
       "      <th>Typ</th>\n",
       "    </tr>\n",
       "  </thead>\n",
       "  <tbody>\n",
       "    <tr>\n",
       "      <td>4</td>\n",
       "      <td>Zürich</td>\n",
       "      <td>Ledig</td>\n",
       "      <td>666873</td>\n",
       "      <td>Kanton</td>\n",
       "    </tr>\n",
       "    <tr>\n",
       "      <td>5</td>\n",
       "      <td>Zürich</td>\n",
       "      <td>Verheiratet</td>\n",
       "      <td>610396</td>\n",
       "      <td>Kanton</td>\n",
       "    </tr>\n",
       "    <tr>\n",
       "      <td>6</td>\n",
       "      <td>Zürich</td>\n",
       "      <td>Verwitwet</td>\n",
       "      <td>63173</td>\n",
       "      <td>Kanton</td>\n",
       "    </tr>\n",
       "    <tr>\n",
       "      <td>7</td>\n",
       "      <td>Zürich</td>\n",
       "      <td>Geschieden</td>\n",
       "      <td>125889</td>\n",
       "      <td>Kanton</td>\n",
       "    </tr>\n",
       "    <tr>\n",
       "      <td>732</td>\n",
       "      <td>Bern / Berne</td>\n",
       "      <td>Ledig</td>\n",
       "      <td>437186</td>\n",
       "      <td>Kanton</td>\n",
       "    </tr>\n",
       "    <tr>\n",
       "      <td>733</td>\n",
       "      <td>Bern / Berne</td>\n",
       "      <td>Verheiratet</td>\n",
       "      <td>439372</td>\n",
       "      <td>Kanton</td>\n",
       "    </tr>\n",
       "    <tr>\n",
       "      <td>734</td>\n",
       "      <td>Bern / Berne</td>\n",
       "      <td>Verwitwet</td>\n",
       "      <td>56513</td>\n",
       "      <td>Kanton</td>\n",
       "    </tr>\n",
       "    <tr>\n",
       "      <td>735</td>\n",
       "      <td>Bern / Berne</td>\n",
       "      <td>Geschieden</td>\n",
       "      <td>84364</td>\n",
       "      <td>Kanton</td>\n",
       "    </tr>\n",
       "    <tr>\n",
       "      <td>2200</td>\n",
       "      <td>Luzern</td>\n",
       "      <td>Ledig</td>\n",
       "      <td>181455</td>\n",
       "      <td>Kanton</td>\n",
       "    </tr>\n",
       "    <tr>\n",
       "      <td>2201</td>\n",
       "      <td>Luzern</td>\n",
       "      <td>Verheiratet</td>\n",
       "      <td>172144</td>\n",
       "      <td>Kanton</td>\n",
       "    </tr>\n",
       "  </tbody>\n",
       "</table>\n",
       "</div>"
      ],
      "text/plain": [
       "           Einheit   Zivilstand  Anzahl     Typ\n",
       "4           Zürich        Ledig  666873  Kanton\n",
       "5           Zürich  Verheiratet  610396  Kanton\n",
       "6           Zürich    Verwitwet   63173  Kanton\n",
       "7           Zürich   Geschieden  125889  Kanton\n",
       "732   Bern / Berne        Ledig  437186  Kanton\n",
       "733   Bern / Berne  Verheiratet  439372  Kanton\n",
       "734   Bern / Berne    Verwitwet   56513  Kanton\n",
       "735   Bern / Berne   Geschieden   84364  Kanton\n",
       "2200        Luzern        Ledig  181455  Kanton\n",
       "2201        Luzern  Verheiratet  172144  Kanton"
      ]
     },
     "execution_count": 35,
     "metadata": {},
     "output_type": "execute_result"
    }
   ],
   "source": [
    "# zum Testen, ob es bei den Kantonen funktioniert hat:\n",
    "df[df['Typ'] == 'Kanton'].head(10)"
   ]
  },
  {
   "cell_type": "code",
   "execution_count": 36,
   "metadata": {},
   "outputs": [
    {
     "data": {
      "text/html": [
       "<div>\n",
       "<style scoped>\n",
       "    .dataframe tbody tr th:only-of-type {\n",
       "        vertical-align: middle;\n",
       "    }\n",
       "\n",
       "    .dataframe tbody tr th {\n",
       "        vertical-align: top;\n",
       "    }\n",
       "\n",
       "    .dataframe thead th {\n",
       "        text-align: right;\n",
       "    }\n",
       "</style>\n",
       "<table border=\"1\" class=\"dataframe\">\n",
       "  <thead>\n",
       "    <tr style=\"text-align: right;\">\n",
       "      <th></th>\n",
       "      <th>Einheit</th>\n",
       "      <th>Zivilstand</th>\n",
       "      <th>Anzahl</th>\n",
       "      <th>Typ</th>\n",
       "    </tr>\n",
       "  </thead>\n",
       "  <tbody>\n",
       "    <tr>\n",
       "      <td>8</td>\n",
       "      <td>Bezirk Affoltern</td>\n",
       "      <td>Ledig</td>\n",
       "      <td>21785</td>\n",
       "      <td>Bezirk</td>\n",
       "    </tr>\n",
       "    <tr>\n",
       "      <td>9</td>\n",
       "      <td>Bezirk Affoltern</td>\n",
       "      <td>Verheiratet</td>\n",
       "      <td>23865</td>\n",
       "      <td>Bezirk</td>\n",
       "    </tr>\n",
       "    <tr>\n",
       "      <td>10</td>\n",
       "      <td>Bezirk Affoltern</td>\n",
       "      <td>Verwitwet</td>\n",
       "      <td>1875</td>\n",
       "      <td>Bezirk</td>\n",
       "    </tr>\n",
       "    <tr>\n",
       "      <td>11</td>\n",
       "      <td>Bezirk Affoltern</td>\n",
       "      <td>Geschieden</td>\n",
       "      <td>4076</td>\n",
       "      <td>Bezirk</td>\n",
       "    </tr>\n",
       "    <tr>\n",
       "      <td>68</td>\n",
       "      <td>Bezirk Andelfingen</td>\n",
       "      <td>Ledig</td>\n",
       "      <td>12775</td>\n",
       "      <td>Bezirk</td>\n",
       "    </tr>\n",
       "    <tr>\n",
       "      <td>69</td>\n",
       "      <td>Bezirk Andelfingen</td>\n",
       "      <td>Verheiratet</td>\n",
       "      <td>14472</td>\n",
       "      <td>Bezirk</td>\n",
       "    </tr>\n",
       "    <tr>\n",
       "      <td>70</td>\n",
       "      <td>Bezirk Andelfingen</td>\n",
       "      <td>Verwitwet</td>\n",
       "      <td>1320</td>\n",
       "      <td>Bezirk</td>\n",
       "    </tr>\n",
       "    <tr>\n",
       "      <td>71</td>\n",
       "      <td>Bezirk Andelfingen</td>\n",
       "      <td>Geschieden</td>\n",
       "      <td>2318</td>\n",
       "      <td>Bezirk</td>\n",
       "    </tr>\n",
       "    <tr>\n",
       "      <td>168</td>\n",
       "      <td>Bezirk Bülach</td>\n",
       "      <td>Ledig</td>\n",
       "      <td>61969</td>\n",
       "      <td>Bezirk</td>\n",
       "    </tr>\n",
       "    <tr>\n",
       "      <td>169</td>\n",
       "      <td>Bezirk Bülach</td>\n",
       "      <td>Verheiratet</td>\n",
       "      <td>64381</td>\n",
       "      <td>Bezirk</td>\n",
       "    </tr>\n",
       "  </tbody>\n",
       "</table>\n",
       "</div>"
      ],
      "text/plain": [
       "                Einheit   Zivilstand  Anzahl     Typ\n",
       "8      Bezirk Affoltern        Ledig   21785  Bezirk\n",
       "9      Bezirk Affoltern  Verheiratet   23865  Bezirk\n",
       "10     Bezirk Affoltern    Verwitwet    1875  Bezirk\n",
       "11     Bezirk Affoltern   Geschieden    4076  Bezirk\n",
       "68   Bezirk Andelfingen        Ledig   12775  Bezirk\n",
       "69   Bezirk Andelfingen  Verheiratet   14472  Bezirk\n",
       "70   Bezirk Andelfingen    Verwitwet    1320  Bezirk\n",
       "71   Bezirk Andelfingen   Geschieden    2318  Bezirk\n",
       "168       Bezirk Bülach        Ledig   61969  Bezirk\n",
       "169       Bezirk Bülach  Verheiratet   64381  Bezirk"
      ]
     },
     "execution_count": 36,
     "metadata": {},
     "output_type": "execute_result"
    }
   ],
   "source": [
    "# zum Testen, ob es bei den Bezirken funktioniert hat:\n",
    "df[df['Typ'] == 'Bezirk'].head(10)"
   ]
  },
  {
   "cell_type": "code",
   "execution_count": 37,
   "metadata": {},
   "outputs": [
    {
     "data": {
      "text/html": [
       "<div>\n",
       "<style scoped>\n",
       "    .dataframe tbody tr th:only-of-type {\n",
       "        vertical-align: middle;\n",
       "    }\n",
       "\n",
       "    .dataframe tbody tr th {\n",
       "        vertical-align: top;\n",
       "    }\n",
       "\n",
       "    .dataframe thead th {\n",
       "        text-align: right;\n",
       "    }\n",
       "</style>\n",
       "<table border=\"1\" class=\"dataframe\">\n",
       "  <thead>\n",
       "    <tr style=\"text-align: right;\">\n",
       "      <th></th>\n",
       "      <th>Einheit</th>\n",
       "      <th>Zivilstand</th>\n",
       "      <th>Anzahl</th>\n",
       "      <th>Typ</th>\n",
       "    </tr>\n",
       "  </thead>\n",
       "  <tbody>\n",
       "    <tr>\n",
       "      <td>12</td>\n",
       "      <td>Aeugst am Albis</td>\n",
       "      <td>Ledig</td>\n",
       "      <td>852</td>\n",
       "      <td>Gemeinde</td>\n",
       "    </tr>\n",
       "    <tr>\n",
       "      <td>13</td>\n",
       "      <td>Aeugst am Albis</td>\n",
       "      <td>Verheiratet</td>\n",
       "      <td>908</td>\n",
       "      <td>Gemeinde</td>\n",
       "    </tr>\n",
       "    <tr>\n",
       "      <td>14</td>\n",
       "      <td>Aeugst am Albis</td>\n",
       "      <td>Verwitwet</td>\n",
       "      <td>74</td>\n",
       "      <td>Gemeinde</td>\n",
       "    </tr>\n",
       "    <tr>\n",
       "      <td>15</td>\n",
       "      <td>Aeugst am Albis</td>\n",
       "      <td>Geschieden</td>\n",
       "      <td>147</td>\n",
       "      <td>Gemeinde</td>\n",
       "    </tr>\n",
       "    <tr>\n",
       "      <td>16</td>\n",
       "      <td>Affoltern am Albis</td>\n",
       "      <td>Ledig</td>\n",
       "      <td>5000</td>\n",
       "      <td>Gemeinde</td>\n",
       "    </tr>\n",
       "    <tr>\n",
       "      <td>17</td>\n",
       "      <td>Affoltern am Albis</td>\n",
       "      <td>Verheiratet</td>\n",
       "      <td>5159</td>\n",
       "      <td>Gemeinde</td>\n",
       "    </tr>\n",
       "    <tr>\n",
       "      <td>18</td>\n",
       "      <td>Affoltern am Albis</td>\n",
       "      <td>Verwitwet</td>\n",
       "      <td>545</td>\n",
       "      <td>Gemeinde</td>\n",
       "    </tr>\n",
       "    <tr>\n",
       "      <td>19</td>\n",
       "      <td>Affoltern am Albis</td>\n",
       "      <td>Geschieden</td>\n",
       "      <td>1004</td>\n",
       "      <td>Gemeinde</td>\n",
       "    </tr>\n",
       "    <tr>\n",
       "      <td>20</td>\n",
       "      <td>Bonstetten</td>\n",
       "      <td>Ledig</td>\n",
       "      <td>2336</td>\n",
       "      <td>Gemeinde</td>\n",
       "    </tr>\n",
       "    <tr>\n",
       "      <td>21</td>\n",
       "      <td>Bonstetten</td>\n",
       "      <td>Verheiratet</td>\n",
       "      <td>2452</td>\n",
       "      <td>Gemeinde</td>\n",
       "    </tr>\n",
       "  </tbody>\n",
       "</table>\n",
       "</div>"
      ],
      "text/plain": [
       "               Einheit   Zivilstand  Anzahl       Typ\n",
       "12     Aeugst am Albis        Ledig     852  Gemeinde\n",
       "13     Aeugst am Albis  Verheiratet     908  Gemeinde\n",
       "14     Aeugst am Albis    Verwitwet      74  Gemeinde\n",
       "15     Aeugst am Albis   Geschieden     147  Gemeinde\n",
       "16  Affoltern am Albis        Ledig    5000  Gemeinde\n",
       "17  Affoltern am Albis  Verheiratet    5159  Gemeinde\n",
       "18  Affoltern am Albis    Verwitwet     545  Gemeinde\n",
       "19  Affoltern am Albis   Geschieden    1004  Gemeinde\n",
       "20          Bonstetten        Ledig    2336  Gemeinde\n",
       "21          Bonstetten  Verheiratet    2452  Gemeinde"
      ]
     },
     "execution_count": 37,
     "metadata": {},
     "output_type": "execute_result"
    }
   ],
   "source": [
    "# zum Testen, ob es bei den Gemeinden funktioniert hat:\n",
    "df[df['Typ'] == 'Gemeinde'].head(10)"
   ]
  },
  {
   "cell_type": "markdown",
   "metadata": {},
   "source": [
    "### Teil 2"
   ]
  },
  {
   "cell_type": "markdown",
   "metadata": {},
   "source": [
    "**Hier können Sie nochmals etwas Pivoting und Plotting trainieren**"
   ]
  },
  {
   "cell_type": "code",
   "execution_count": 38,
   "metadata": {},
   "outputs": [],
   "source": [
    "df.to_csv('dataprojects/BFS/Einheiten_kategorisiert.csv', index=False)"
   ]
  },
  {
   "cell_type": "markdown",
   "metadata": {},
   "source": [
    "Zur Sicherheit laden wir die Daten nochmals neu - mit dem Stand der Übung bis hier."
   ]
  },
  {
   "cell_type": "code",
   "execution_count": 39,
   "metadata": {},
   "outputs": [],
   "source": [
    "df = pd.read_csv('dataprojects/BFS/Einheiten_kategorisiert.csv')"
   ]
  },
  {
   "cell_type": "markdown",
   "metadata": {},
   "source": [
    "**Aufgabe 1:** Finden Sie die drei Gemeinden mit der höchsten Quote an Verwitweten Personen in der Bevölkerung.\n",
    "\n",
    "Tipp zum Vorgehen:\n",
    "1. DF nach Gemeinden filtern\n",
    "1. DF nach Zivilstand pivotieren\n",
    "1. Total der Bevölkerung mit `sum()` ausrechnen (`axis=1`)\n",
    "1. Verwitweten-Quote ausrechnen\n",
    "1. DF sortieren"
   ]
  },
  {
   "cell_type": "code",
   "execution_count": 40,
   "metadata": {},
   "outputs": [
    {
     "data": {
      "text/html": [
       "<div>\n",
       "<style scoped>\n",
       "    .dataframe tbody tr th:only-of-type {\n",
       "        vertical-align: middle;\n",
       "    }\n",
       "\n",
       "    .dataframe tbody tr th {\n",
       "        vertical-align: top;\n",
       "    }\n",
       "\n",
       "    .dataframe thead th {\n",
       "        text-align: right;\n",
       "    }\n",
       "</style>\n",
       "<table border=\"1\" class=\"dataframe\">\n",
       "  <thead>\n",
       "    <tr style=\"text-align: right;\">\n",
       "      <th>Zivilstand</th>\n",
       "      <th>Geschieden</th>\n",
       "      <th>Ledig</th>\n",
       "      <th>Verheiratet</th>\n",
       "      <th>Verwitwet</th>\n",
       "    </tr>\n",
       "    <tr>\n",
       "      <th>Einheit</th>\n",
       "      <th></th>\n",
       "      <th></th>\n",
       "      <th></th>\n",
       "      <th></th>\n",
       "    </tr>\n",
       "  </thead>\n",
       "  <tbody>\n",
       "    <tr>\n",
       "      <td>Aadorf</td>\n",
       "      <td>745</td>\n",
       "      <td>3634</td>\n",
       "      <td>4030</td>\n",
       "      <td>385</td>\n",
       "    </tr>\n",
       "    <tr>\n",
       "      <td>Aarau</td>\n",
       "      <td>1829</td>\n",
       "      <td>10089</td>\n",
       "      <td>7709</td>\n",
       "      <td>1083</td>\n",
       "    </tr>\n",
       "    <tr>\n",
       "      <td>Aarberg</td>\n",
       "      <td>340</td>\n",
       "      <td>1989</td>\n",
       "      <td>1972</td>\n",
       "      <td>228</td>\n",
       "    </tr>\n",
       "    <tr>\n",
       "      <td>Aarburg</td>\n",
       "      <td>586</td>\n",
       "      <td>3297</td>\n",
       "      <td>3468</td>\n",
       "      <td>372</td>\n",
       "    </tr>\n",
       "    <tr>\n",
       "      <td>Aarwangen</td>\n",
       "      <td>394</td>\n",
       "      <td>1746</td>\n",
       "      <td>2055</td>\n",
       "      <td>213</td>\n",
       "    </tr>\n",
       "  </tbody>\n",
       "</table>\n",
       "</div>"
      ],
      "text/plain": [
       "Zivilstand  Geschieden  Ledig  Verheiratet  Verwitwet\n",
       "Einheit                                              \n",
       "Aadorf             745   3634         4030        385\n",
       "Aarau             1829  10089         7709       1083\n",
       "Aarberg            340   1989         1972        228\n",
       "Aarburg            586   3297         3468        372\n",
       "Aarwangen          394   1746         2055        213"
      ]
     },
     "execution_count": 40,
     "metadata": {},
     "output_type": "execute_result"
    }
   ],
   "source": [
    "# DF nach gemeinden filtern und pivotieren\n",
    "df_g_pivot = df[df['Typ'] == 'Gemeinde'].pivot(index='Einheit', columns='Zivilstand', values='Anzahl')\n",
    "df_g_pivot.head()"
   ]
  },
  {
   "cell_type": "code",
   "execution_count": 41,
   "metadata": {},
   "outputs": [],
   "source": [
    "# Bevölkerungstotal ausrechnen pro Gemeinde\n",
    "df_g_pivot['Total'] = df_g_pivot.sum(axis=1)"
   ]
  },
  {
   "cell_type": "code",
   "execution_count": 42,
   "metadata": {},
   "outputs": [],
   "source": [
    "# Verwitweten-Quote ausrechnen\n",
    "df_g_pivot['Verwitwet-Quote'] = df_g_pivot['Verwitwet'] / df_g_pivot['Total']"
   ]
  },
  {
   "cell_type": "code",
   "execution_count": 43,
   "metadata": {},
   "outputs": [
    {
     "data": {
      "text/html": [
       "<div>\n",
       "<style scoped>\n",
       "    .dataframe tbody tr th:only-of-type {\n",
       "        vertical-align: middle;\n",
       "    }\n",
       "\n",
       "    .dataframe tbody tr th {\n",
       "        vertical-align: top;\n",
       "    }\n",
       "\n",
       "    .dataframe thead th {\n",
       "        text-align: right;\n",
       "    }\n",
       "</style>\n",
       "<table border=\"1\" class=\"dataframe\">\n",
       "  <thead>\n",
       "    <tr style=\"text-align: right;\">\n",
       "      <th>Zivilstand</th>\n",
       "      <th>Geschieden</th>\n",
       "      <th>Ledig</th>\n",
       "      <th>Verheiratet</th>\n",
       "      <th>Verwitwet</th>\n",
       "      <th>Total</th>\n",
       "      <th>Verwitwet-Quote</th>\n",
       "    </tr>\n",
       "    <tr>\n",
       "      <th>Einheit</th>\n",
       "      <th></th>\n",
       "      <th></th>\n",
       "      <th></th>\n",
       "      <th></th>\n",
       "      <th></th>\n",
       "      <th></th>\n",
       "    </tr>\n",
       "  </thead>\n",
       "  <tbody>\n",
       "    <tr>\n",
       "      <td>Corippo</td>\n",
       "      <td>3</td>\n",
       "      <td>5</td>\n",
       "      <td>2</td>\n",
       "      <td>3</td>\n",
       "      <td>13</td>\n",
       "      <td>0.230769</td>\n",
       "    </tr>\n",
       "    <tr>\n",
       "      <td>Gresso</td>\n",
       "      <td>3</td>\n",
       "      <td>13</td>\n",
       "      <td>16</td>\n",
       "      <td>6</td>\n",
       "      <td>38</td>\n",
       "      <td>0.157895</td>\n",
       "    </tr>\n",
       "    <tr>\n",
       "      <td>Berken</td>\n",
       "      <td>3</td>\n",
       "      <td>15</td>\n",
       "      <td>16</td>\n",
       "      <td>6</td>\n",
       "      <td>40</td>\n",
       "      <td>0.150000</td>\n",
       "    </tr>\n",
       "  </tbody>\n",
       "</table>\n",
       "</div>"
      ],
      "text/plain": [
       "Zivilstand  Geschieden  Ledig  Verheiratet  Verwitwet  Total  Verwitwet-Quote\n",
       "Einheit                                                                      \n",
       "Corippo              3      5            2          3     13         0.230769\n",
       "Gresso               3     13           16          6     38         0.157895\n",
       "Berken               3     15           16          6     40         0.150000"
      ]
     },
     "execution_count": 43,
     "metadata": {},
     "output_type": "execute_result"
    }
   ],
   "source": [
    "# Sortieren und Top 3\n",
    "df_g_pivot.sort_values('Verwitwet-Quote', ascending=False).head(3)"
   ]
  },
  {
   "cell_type": "code",
   "execution_count": null,
   "metadata": {},
   "outputs": [],
   "source": []
  },
  {
   "cell_type": "code",
   "execution_count": null,
   "metadata": {},
   "outputs": [],
   "source": []
  },
  {
   "cell_type": "markdown",
   "metadata": {},
   "source": [
    "**Aufgabe 2:** Welcher Kanton hat die höchste Ledigen-Quote?"
   ]
  },
  {
   "cell_type": "code",
   "execution_count": 44,
   "metadata": {},
   "outputs": [
    {
     "data": {
      "text/html": [
       "<div>\n",
       "<style scoped>\n",
       "    .dataframe tbody tr th:only-of-type {\n",
       "        vertical-align: middle;\n",
       "    }\n",
       "\n",
       "    .dataframe tbody tr th {\n",
       "        vertical-align: top;\n",
       "    }\n",
       "\n",
       "    .dataframe thead th {\n",
       "        text-align: right;\n",
       "    }\n",
       "</style>\n",
       "<table border=\"1\" class=\"dataframe\">\n",
       "  <thead>\n",
       "    <tr style=\"text-align: right;\">\n",
       "      <th>Zivilstand</th>\n",
       "      <th>Geschieden</th>\n",
       "      <th>Ledig</th>\n",
       "      <th>Verheiratet</th>\n",
       "      <th>Verwitwet</th>\n",
       "    </tr>\n",
       "    <tr>\n",
       "      <th>Einheit</th>\n",
       "      <th></th>\n",
       "      <th></th>\n",
       "      <th></th>\n",
       "      <th></th>\n",
       "    </tr>\n",
       "  </thead>\n",
       "  <tbody>\n",
       "    <tr>\n",
       "      <td>Aargau</td>\n",
       "      <td>50715</td>\n",
       "      <td>276123</td>\n",
       "      <td>296940</td>\n",
       "      <td>29873</td>\n",
       "    </tr>\n",
       "    <tr>\n",
       "      <td>Appenzell Ausserrhoden</td>\n",
       "      <td>4496</td>\n",
       "      <td>23055</td>\n",
       "      <td>24117</td>\n",
       "      <td>2875</td>\n",
       "    </tr>\n",
       "    <tr>\n",
       "      <td>Appenzell Innerrhoden</td>\n",
       "      <td>814</td>\n",
       "      <td>7338</td>\n",
       "      <td>6971</td>\n",
       "      <td>851</td>\n",
       "    </tr>\n",
       "    <tr>\n",
       "      <td>Basel-Landschaft</td>\n",
       "      <td>22994</td>\n",
       "      <td>113105</td>\n",
       "      <td>131580</td>\n",
       "      <td>15539</td>\n",
       "    </tr>\n",
       "    <tr>\n",
       "      <td>Basel-Stadt</td>\n",
       "      <td>18693</td>\n",
       "      <td>89611</td>\n",
       "      <td>72481</td>\n",
       "      <td>11023</td>\n",
       "    </tr>\n",
       "  </tbody>\n",
       "</table>\n",
       "</div>"
      ],
      "text/plain": [
       "Zivilstand              Geschieden   Ledig  Verheiratet  Verwitwet\n",
       "Einheit                                                           \n",
       "Aargau                       50715  276123       296940      29873\n",
       "Appenzell Ausserrhoden        4496   23055        24117       2875\n",
       "Appenzell Innerrhoden          814    7338         6971        851\n",
       "Basel-Landschaft             22994  113105       131580      15539\n",
       "Basel-Stadt                  18693   89611        72481      11023"
      ]
     },
     "execution_count": 44,
     "metadata": {},
     "output_type": "execute_result"
    }
   ],
   "source": [
    "# DF nach Kantonen filtern und pivotieren\n",
    "df_k_pivot = df[df['Typ'] == 'Kanton'].pivot(index='Einheit', columns='Zivilstand', values='Anzahl')\n",
    "df_k_pivot.head()"
   ]
  },
  {
   "cell_type": "code",
   "execution_count": 45,
   "metadata": {},
   "outputs": [],
   "source": [
    "# Bevölkerungstotal ausrechnen pro Kanton\n",
    "df_k_pivot['Total'] = df_k_pivot.sum(axis=1)"
   ]
  },
  {
   "cell_type": "code",
   "execution_count": 46,
   "metadata": {},
   "outputs": [],
   "source": [
    "# Ledigen-Quote ausrechnen\n",
    "df_k_pivot['Ledig-Quote'] = df_k_pivot['Ledig'] / df_k_pivot['Total']"
   ]
  },
  {
   "cell_type": "code",
   "execution_count": 47,
   "metadata": {},
   "outputs": [
    {
     "data": {
      "text/html": [
       "<div>\n",
       "<style scoped>\n",
       "    .dataframe tbody tr th:only-of-type {\n",
       "        vertical-align: middle;\n",
       "    }\n",
       "\n",
       "    .dataframe tbody tr th {\n",
       "        vertical-align: top;\n",
       "    }\n",
       "\n",
       "    .dataframe thead th {\n",
       "        text-align: right;\n",
       "    }\n",
       "</style>\n",
       "<table border=\"1\" class=\"dataframe\">\n",
       "  <thead>\n",
       "    <tr style=\"text-align: right;\">\n",
       "      <th>Zivilstand</th>\n",
       "      <th>Geschieden</th>\n",
       "      <th>Ledig</th>\n",
       "      <th>Verheiratet</th>\n",
       "      <th>Verwitwet</th>\n",
       "      <th>Total</th>\n",
       "      <th>Ledig-Quote</th>\n",
       "    </tr>\n",
       "    <tr>\n",
       "      <th>Einheit</th>\n",
       "      <th></th>\n",
       "      <th></th>\n",
       "      <th></th>\n",
       "      <th></th>\n",
       "      <th></th>\n",
       "      <th></th>\n",
       "    </tr>\n",
       "  </thead>\n",
       "  <tbody>\n",
       "    <tr>\n",
       "      <td>Basel-Stadt</td>\n",
       "      <td>18693</td>\n",
       "      <td>89611</td>\n",
       "      <td>72481</td>\n",
       "      <td>11023</td>\n",
       "      <td>191808</td>\n",
       "      <td>0.467191</td>\n",
       "    </tr>\n",
       "  </tbody>\n",
       "</table>\n",
       "</div>"
      ],
      "text/plain": [
       "Zivilstand   Geschieden  Ledig  Verheiratet  Verwitwet   Total  Ledig-Quote\n",
       "Einheit                                                                    \n",
       "Basel-Stadt       18693  89611        72481      11023  191808     0.467191"
      ]
     },
     "execution_count": 47,
     "metadata": {},
     "output_type": "execute_result"
    }
   ],
   "source": [
    "# Sortieren und obersten anzeigen\n",
    "df_k_pivot.sort_values('Ledig-Quote', ascending=False).head(1)"
   ]
  },
  {
   "cell_type": "code",
   "execution_count": null,
   "metadata": {},
   "outputs": [],
   "source": []
  },
  {
   "cell_type": "code",
   "execution_count": null,
   "metadata": {},
   "outputs": [],
   "source": []
  },
  {
   "cell_type": "markdown",
   "metadata": {},
   "source": [
    "**Aufgabe 3:** Zeichnen Sie einen Bar-Chart mit der Verheirateten-Quote aller Kantone\n",
    "\n",
    "Tipp: Benutzen Sie das pivotierte DF, das Sie in Aufgabe 2 erstellt haben."
   ]
  },
  {
   "cell_type": "code",
   "execution_count": 48,
   "metadata": {},
   "outputs": [],
   "source": [
    "# Verheirateten-Quote ausrechnen\n",
    "df_k_pivot['Verheiratet-Quote'] = df_k_pivot['Verheiratet'] / df_k_pivot['Total']"
   ]
  },
  {
   "cell_type": "code",
   "execution_count": 49,
   "metadata": {},
   "outputs": [
    {
     "data": {
      "text/plain": [
       "<matplotlib.axes._subplots.AxesSubplot at 0x1193b2a90>"
      ]
     },
     "execution_count": 49,
     "metadata": {},
     "output_type": "execute_result"
    },
    {
     "data": {
      "image/png": "[encoded data removed]",
      "text/plain": [
       "<Figure size 360x576 with 1 Axes>"
      ]
     },
     "metadata": {
      "needs_background": "light"
     },
     "output_type": "display_data"
    }
   ],
   "source": [
    "#Sortieren und plotten\n",
    "df_k_pivot['Verheiratet-Quote'].sort_values().plot(kind='barh', figsize=(5, 8))"
   ]
  },
  {
   "cell_type": "code",
   "execution_count": null,
   "metadata": {},
   "outputs": [],
   "source": []
  },
  {
   "cell_type": "markdown",
   "metadata": {},
   "source": [
    "**Aufgabe 4:** Zeichnen Sie ein Stacked-Bar-Chart mit den relativen Zivilstands-Anteilen in zwei Gemeinden:\n",
    "- Corippo\n",
    "- Meienried\n",
    "\n",
    "Tipp zu Vorgehen:\n",
    "1. DF nach Gemeinden filtern und pivotieren\n",
    "1. Total der Einwohner für jede Gemeinde (in separater Series ablegen)\n",
    "1. Pivotiertes DF mit `div()` durch das Total dividieren (`axis=1`)\n",
    "1. mit `.loc[]` die beiden Gemeinden wählen\n",
    "1. Plot mit `stacked=True`"
   ]
  },
  {
   "cell_type": "code",
   "execution_count": 50,
   "metadata": {},
   "outputs": [],
   "source": [
    "# DF nach gemeinden filtern und pivotieren\n",
    "df_g_pivot = df[df['Typ'] == 'Gemeinde'].pivot(index='Einheit', columns='Zivilstand', values='Anzahl')"
   ]
  },
  {
   "cell_type": "code",
   "execution_count": 51,
   "metadata": {},
   "outputs": [],
   "source": [
    "# Total der Einwohner für jede Gemeinde\n",
    "s_totals = df_g_pivot.sum(axis=1)"
   ]
  },
  {
   "cell_type": "code",
   "execution_count": 52,
   "metadata": {},
   "outputs": [],
   "source": [
    "# Neues DF mit relativen Werten\n",
    "df_g_pivot_rel = df_g_pivot.div(s_totals, axis=0)"
   ]
  },
  {
   "cell_type": "code",
   "execution_count": 53,
   "metadata": {},
   "outputs": [
    {
     "data": {
      "text/html": [
       "<div>\n",
       "<style scoped>\n",
       "    .dataframe tbody tr th:only-of-type {\n",
       "        vertical-align: middle;\n",
       "    }\n",
       "\n",
       "    .dataframe tbody tr th {\n",
       "        vertical-align: top;\n",
       "    }\n",
       "\n",
       "    .dataframe thead th {\n",
       "        text-align: right;\n",
       "    }\n",
       "</style>\n",
       "<table border=\"1\" class=\"dataframe\">\n",
       "  <thead>\n",
       "    <tr style=\"text-align: right;\">\n",
       "      <th>Zivilstand</th>\n",
       "      <th>Geschieden</th>\n",
       "      <th>Ledig</th>\n",
       "      <th>Verheiratet</th>\n",
       "      <th>Verwitwet</th>\n",
       "    </tr>\n",
       "    <tr>\n",
       "      <th>Einheit</th>\n",
       "      <th></th>\n",
       "      <th></th>\n",
       "      <th></th>\n",
       "      <th></th>\n",
       "    </tr>\n",
       "  </thead>\n",
       "  <tbody>\n",
       "    <tr>\n",
       "      <td>Meienried</td>\n",
       "      <td>0.057692</td>\n",
       "      <td>0.307692</td>\n",
       "      <td>0.634615</td>\n",
       "      <td>0.000000</td>\n",
       "    </tr>\n",
       "    <tr>\n",
       "      <td>Corippo</td>\n",
       "      <td>0.230769</td>\n",
       "      <td>0.384615</td>\n",
       "      <td>0.153846</td>\n",
       "      <td>0.230769</td>\n",
       "    </tr>\n",
       "  </tbody>\n",
       "</table>\n",
       "</div>"
      ],
      "text/plain": [
       "Zivilstand  Geschieden     Ledig  Verheiratet  Verwitwet\n",
       "Einheit                                                 \n",
       "Meienried     0.057692  0.307692     0.634615   0.000000\n",
       "Corippo       0.230769  0.384615     0.153846   0.230769"
      ]
     },
     "execution_count": 53,
     "metadata": {},
     "output_type": "execute_result"
    }
   ],
   "source": [
    "# Nur Meienried und Corippo anzeigen\n",
    "df_g_pivot_rel.loc[['Meienried', 'Corippo']]"
   ]
  },
  {
   "cell_type": "code",
   "execution_count": 54,
   "metadata": {},
   "outputs": [
    {
     "data": {
      "text/plain": [
       "<matplotlib.axes._subplots.AxesSubplot at 0x1194ee630>"
      ]
     },
     "execution_count": 54,
     "metadata": {},
     "output_type": "execute_result"
    },
    {
     "data": {
      "image/png": "[encoded data removed]",
      "text/plain": [
       "<Figure size 432x288 with 1 Axes>"
      ]
     },
     "metadata": {
      "needs_background": "light"
     },
     "output_type": "display_data"
    }
   ],
   "source": [
    "# Plot\n",
    "df_g_pivot_rel.loc[['Meienried', 'Corippo']].plot(kind='barh', stacked=True)"
   ]
  },
  {
   "cell_type": "code",
   "execution_count": null,
   "metadata": {},
   "outputs": [],
   "source": []
  }
 ],
 "metadata": {
  "kernelspec": {
   "display_name": "Python 3",
   "language": "python",
   "name": "python3"
  },
  "language_info": {
   "codemirror_mode": {
    "name": "ipython",
    "version": 3
   },
   "file_extension": ".py",
   "mimetype": "text/x-python",
   "name": "python",
   "nbconvert_exporter": "python",
   "pygments_lexer": "ipython3",
   "version": "3.7.3"
  }
 },
 "nbformat": 4,
 "nbformat_minor": 2
}
