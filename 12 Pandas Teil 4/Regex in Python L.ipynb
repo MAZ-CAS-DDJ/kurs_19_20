{
 "cells": [
  {
   "cell_type": "markdown",
   "metadata": {},
   "source": [
    "# Regex in Python"
   ]
  },
  {
   "cell_type": "markdown",
   "metadata": {},
   "source": [
    "**Inhalt:** Text nach bestimmten Mustern durchsuchen\n",
    "\n",
    "**Nötige Skills:** Erste Schritte mit Pandas\n",
    "\n",
    "**Lernziele:**\n",
    "- Syntax für Regular Expressions kennenlernen\n",
    "- Anwendungsmöglichkeiten für Regex\n",
    "\n",
    "**Ressourcen:**\n",
    "- Simons Cheatsheet: https://github.com/MAZ-CAS-DDJ/kurs_19_20/blob/master/00%20weitere%C2%A0Dokumente/hilfsmaterial/regex.md\n",
    "- Offizielle Dokumentation: https://docs.python.org/3/library/re.html\n",
    "- Ein Online-Regex-Tester: https://pythex.org/\n",
    "- Ein weiterer Online-Texter: https://regex101.com/\n",
    "- Ein Cheat-Sheet: https://www.dataquest.io/blog/large_files/python-regular-expressions-cheat-sheet.pdf\n",
    "- Ein weiteres Cheat-Sheet: https://www.shortcutfoo.com/app/dojos/python-regex/cheatsheet\n",
    "- Ein Online Traningskurs: https://www.shortcutfoo.com/app/dojos/python-regex/learn"
   ]
  },
  {
   "cell_type": "markdown",
   "metadata": {},
   "source": [
    "## Worum es geht"
   ]
  },
  {
   "cell_type": "markdown",
   "metadata": {},
   "source": [
    "Regular Expressions sind eine super-sophistizierte Form von Such-Wildcards. Wir kennen solche Wildcards aus zB aus Windows-Explorer-Suche: Man benutzt Spezialcharaktere wie Sternchen `(*)` um der Suchmaschine anzuzeigen: Hier könnten verschiedene Buchstaben stehen. Regular Expressions dienen also zur Durchsuchung von Texten nach bestimmten, vordefinierten Mustern. Wir können Regex im Datenjournalismus brauchen, um zB Texte nach Emails oder Postleitzahlen zu durchsuchen, oder um Daten zu säubern und zu formatieren.\n",
    "\n",
    "Was für Muster gibt es? Wie komplex kann die Suche werden? Wir testen dies gleich selbst aus.\n",
    "- Diese Seite hier öffnen: https://regex101.com/ (in einem neuen Fenster)\n",
    "- Dieses Cheat-Sheet hier öffnen: https://github.com/MAZ-CAS-DDJ/kurs_19_20/blob/master/00%20weitere%C2%A0Dokumente/hilfsmaterial/regex.md\n",
    "- Den untenstehenden Text in die Zwischenablage kopieren:"
   ]
  },
  {
   "cell_type": "code",
   "execution_count": 1,
   "metadata": {
    "collapsed": true
   },
   "outputs": [],
   "source": [
    "text = '''\n",
    "D'w. Nuss vo Bümpliz geit dür d'Strass\n",
    "liecht u flüchtig, wie nes Gas\n",
    "so unerreichbar höch\n",
    "\n",
    "Bockstössigi Himbeerbuebe\n",
    "schüüch u brav wie Schaf\n",
    "schön föhnfrisiert\n",
    "chöme tubetänzig nöch\n",
    "\n",
    "U d'Spargle wachse i bluetjung Morge\n",
    "d'Sunne chunnt 's wird langsam warm\n",
    "\n",
    "Sie het meh als hundert ching\n",
    "u jede Früehlig git 's es nöis\n",
    "het d'Chiuchefänschterouge off\n",
    "u macht se zue bi jedem Kuss\n",
    "u we sie lachet wärde Bärge zu schtoub\n",
    "u jedes zäihe Läderhärz wird weich\n",
    "\n",
    "D'w. Nuss vo Bümpliz\n",
    "isch schön win es Füür i dr Nacht\n",
    "win e Rose im Schnee\n",
    "we se gseh duss in Bümpliz\n",
    "de schlat mir mis Härz hert i Hals\n",
    "u i gseh win i ungergah\n",
    "\n",
    "Si wohnt im ne Huus us Glas\n",
    "hinger Türe ohni Schloss\n",
    "gseht dür jedi Muur\n",
    "dänkt wi nes Füürwärch\n",
    "win e Zuckerstock\n",
    "läbt win e Wasserfau\n",
    "für si git's nüt, wo's nid git\n",
    "u aus wo's git, git's nid für ging\n",
    "si nimmt's wi's chunnt u lat's la gah\n",
    "\n",
    "D'w. Nuss vo Bümpliz\n",
    "isch schön win es Füür i dr Nacht\n",
    "win e Rose im Schnee\n",
    "we se gseh duss in Bümpliz\n",
    "de schlat mir mis Härz hert i Hals\n",
    "u i gseh win i ungergah\n",
    "'''"
   ]
  },
  {
   "cell_type": "markdown",
   "metadata": {},
   "source": [
    "## Regular Expressions in Python\n",
    "\n",
    "Regex sind in den meisten Programmiersprachen ähnlich aufgebaut. Die Python-Library dazu heisst `re`"
   ]
  },
  {
   "cell_type": "code",
   "execution_count": 2,
   "metadata": {
    "collapsed": true
   },
   "outputs": [],
   "source": [
    "import re"
   ]
  },
  {
   "cell_type": "markdown",
   "metadata": {},
   "source": [
    "## Funktionen"
   ]
  },
  {
   "cell_type": "markdown",
   "metadata": {},
   "source": [
    "In dieser Bibliothek gibt es fünf Funktionen, die wir benutzen können. Grundsätzlich geht es immer darum: anhand von einer Regex und einem String sollen ein oder mehrere Treffer erzielt werden. Die Funktionen machen daraufhin unterschiedliche Dinge mit dem Ergebnis\n",
    "\n",
    "**`match()`** und **`search()`**: Diese Funktionen sagen uns, ob *ein Treffer* erzielt wurde und an welchem Ort er sich befindet.\n",
    "\n",
    "**`findall()`**: Diese Funktion erstellt eine Liste von allen Treffern.\n",
    "\n",
    "**`split()`**: Splittet einen langen String in eine Liste von Substrings, und zwar an den Orten, wo ein Treffer erzielt wurde.\n",
    "\n",
    "**`sub()`**: Dort, wo ein Treffer erzielt wurde, wir der Suchstring durch einen anderen Text erstetzt."
   ]
  },
  {
   "cell_type": "markdown",
   "metadata": {},
   "source": [
    "### Markierungszeichen\n",
    "\n",
    "Um einen Regex-Suchausdruck zu benutzen, empfiehlt es sich, ein \"r\" vor den String zu stellen."
   ]
  },
  {
   "cell_type": "code",
   "execution_count": 3,
   "metadata": {
    "collapsed": true
   },
   "outputs": [],
   "source": [
    "suchausdruck = r\"n.ss\""
   ]
  },
  {
   "cell_type": "markdown",
   "metadata": {},
   "source": [
    "### search()"
   ]
  },
  {
   "cell_type": "markdown",
   "metadata": {},
   "source": [
    "Durchsucht den ganzen String, liefert das erste Ergebnis."
   ]
  },
  {
   "cell_type": "code",
   "execution_count": 4,
   "metadata": {
    "collapsed": true
   },
   "outputs": [],
   "source": [
    "resultat = re.search(r\"n.ss\", text, re.IGNORECASE)"
   ]
  },
  {
   "cell_type": "markdown",
   "metadata": {},
   "source": [
    "Das Ergebnis ist eine Art ja/nein-Antwort mit einigen Details"
   ]
  },
  {
   "cell_type": "code",
   "execution_count": 5,
   "metadata": {},
   "outputs": [
    {
     "data": {
      "text/plain": [
       "<_sre.SRE_Match object; span=(6, 10), match='Nuss'>"
      ]
     },
     "execution_count": 5,
     "metadata": {},
     "output_type": "execute_result"
    }
   ],
   "source": [
    "resultat "
   ]
  },
  {
   "cell_type": "markdown",
   "metadata": {},
   "source": [
    "Es handelt sich um ein so genanntes Match-Objekt: https://docs.python.org/3/library/re.html#match-objects\n",
    "\n",
    "Dieses Objekt hat einige Eigenschaften, die wir abfragen können:"
   ]
  },
  {
   "cell_type": "code",
   "execution_count": 6,
   "metadata": {},
   "outputs": [
    {
     "data": {
      "text/plain": [
       "'Nuss'"
      ]
     },
     "execution_count": 6,
     "metadata": {},
     "output_type": "execute_result"
    }
   ],
   "source": [
    "resultat.group() #Der gefundene String"
   ]
  },
  {
   "cell_type": "code",
   "execution_count": 7,
   "metadata": {},
   "outputs": [
    {
     "data": {
      "text/plain": [
       "6"
      ]
     },
     "execution_count": 7,
     "metadata": {},
     "output_type": "execute_result"
    }
   ],
   "source": [
    "resultat.start() #die Startposition des gefundenen Strings"
   ]
  },
  {
   "cell_type": "code",
   "execution_count": 8,
   "metadata": {},
   "outputs": [
    {
     "data": {
      "text/plain": [
       "10"
      ]
     },
     "execution_count": 8,
     "metadata": {},
     "output_type": "execute_result"
    }
   ],
   "source": [
    "resultat.end() #die Endposition des gefundenen Strings"
   ]
  },
  {
   "cell_type": "markdown",
   "metadata": {},
   "source": [
    "Die Regex-Funktionen nehmen eine Reihe von so genannten **Flags** an:\n",
    "- re.IGNORECASE = Gross-/Kleinschreibung ignorieren\n",
    "- re.MULTILINE = `^` und `$` schlagen bei Zeilenumbrüchen an\n",
    "- ... siehe auch: https://docs.python.org/3/library/re.html#module-contents"
   ]
  },
  {
   "cell_type": "markdown",
   "metadata": {},
   "source": [
    "Zum Beispiel können wir so Zeilen suchen, die mit dem Wort \"Bockstössigi\" anfangen"
   ]
  },
  {
   "cell_type": "code",
   "execution_count": 9,
   "metadata": {},
   "outputs": [
    {
     "data": {
      "text/plain": [
       "<_sre.SRE_Match object; span=(93, 105), match='Bockstössigi'>"
      ]
     },
     "execution_count": 9,
     "metadata": {},
     "output_type": "execute_result"
    }
   ],
   "source": [
    "re.search(r\"^Bockstössigi\", text, re.MULTILINE)"
   ]
  },
  {
   "cell_type": "markdown",
   "metadata": {},
   "source": [
    "### match()"
   ]
  },
  {
   "cell_type": "markdown",
   "metadata": {},
   "source": [
    "Durchsucht nur den *Anfang* des Strings. Am besten gleich wieder vergessen."
   ]
  },
  {
   "cell_type": "code",
   "execution_count": 10,
   "metadata": {},
   "outputs": [
    {
     "data": {
      "text/plain": [
       "<_sre.SRE_Match object; span=(0, 1), match='a'>"
      ]
     },
     "execution_count": 10,
     "metadata": {},
     "output_type": "execute_result"
    }
   ],
   "source": [
    "re.match(\"a\", \"abcdef\") #gibt ein Ergebnis"
   ]
  },
  {
   "cell_type": "code",
   "execution_count": 11,
   "metadata": {
    "collapsed": true
   },
   "outputs": [],
   "source": [
    "re.match(\"b\", \"abcdef\") #gibt kein Ergebnis"
   ]
  },
  {
   "cell_type": "code",
   "execution_count": null,
   "metadata": {
    "collapsed": true
   },
   "outputs": [],
   "source": []
  },
  {
   "cell_type": "markdown",
   "metadata": {},
   "source": [
    "### findall()"
   ]
  },
  {
   "cell_type": "markdown",
   "metadata": {},
   "source": [
    "Durchsucht den ganzen String, liefert eine Liste aller Treffer."
   ]
  },
  {
   "cell_type": "code",
   "execution_count": 12,
   "metadata": {
    "collapsed": true
   },
   "outputs": [],
   "source": [
    "words = re.findall(r\"\\b[iu]\\b\", text, re.IGNORECASE) #Alle Wörter, die nur aus \"i\" oder \"u\" bestehen"
   ]
  },
  {
   "cell_type": "code",
   "execution_count": 13,
   "metadata": {},
   "outputs": [
    {
     "data": {
      "text/plain": [
       "['u',\n",
       " 'u',\n",
       " 'U',\n",
       " 'i',\n",
       " 'u',\n",
       " 'u',\n",
       " 'u',\n",
       " 'u',\n",
       " 'i',\n",
       " 'i',\n",
       " 'u',\n",
       " 'i',\n",
       " 'i',\n",
       " 'u',\n",
       " 'u',\n",
       " 'i',\n",
       " 'i',\n",
       " 'u',\n",
       " 'i',\n",
       " 'i']"
      ]
     },
     "execution_count": 13,
     "metadata": {},
     "output_type": "execute_result"
    }
   ],
   "source": [
    "words"
   ]
  },
  {
   "cell_type": "markdown",
   "metadata": {},
   "source": [
    "Mit der Liste kann man alles machen, was man mit Listen halt so machen kann."
   ]
  },
  {
   "cell_type": "code",
   "execution_count": 14,
   "metadata": {},
   "outputs": [
    {
     "data": {
      "text/plain": [
       "20"
      ]
     },
     "execution_count": 14,
     "metadata": {},
     "output_type": "execute_result"
    }
   ],
   "source": [
    "len(words)"
   ]
  },
  {
   "cell_type": "code",
   "execution_count": null,
   "metadata": {
    "collapsed": true
   },
   "outputs": [],
   "source": []
  },
  {
   "cell_type": "markdown",
   "metadata": {},
   "source": [
    "### split()"
   ]
  },
  {
   "cell_type": "markdown",
   "metadata": {},
   "source": [
    "Splittet den Text überall dort, wo es einen Treffer gab, liefert das Ergebnis als Liste. Der Treffer selbst wird herausgeschnitten."
   ]
  },
  {
   "cell_type": "code",
   "execution_count": 15,
   "metadata": {
    "collapsed": true
   },
   "outputs": [],
   "source": [
    "newlist = re.split(r\"\\b[iu]\\b\", text) #Wir splitten überall, wo i- und u-Wörter stehen"
   ]
  },
  {
   "cell_type": "code",
   "execution_count": 16,
   "metadata": {},
   "outputs": [
    {
     "name": "stdout",
     "output_type": "stream",
     "text": [
      "\n",
      "D'w. Nuss vo Bümpliz geit dür d'Strass\n",
      "liecht \n",
      " flüchtig, wie nes Gas\n",
      "so unerreichbar höch\n",
      "\n",
      "Bockstössigi Himbeerbuebe\n",
      "schüüch \n",
      " brav wie Schaf\n",
      "schön föhnfrisiert\n",
      "chöme tubetänzig nöch\n",
      "\n",
      "U d'Spargle wachse \n",
      " bluetjung Morge\n",
      "d'Sunne chunnt 's wird langsam warm\n",
      "\n",
      "Sie het meh als hundert ching\n",
      "\n",
      " jede Früehlig git 's es nöis\n",
      "het d'Chiuchefänschterouge off\n",
      "\n",
      " macht se zue bi jedem Kuss\n",
      "\n",
      " we sie lachet wärde Bärge zu schtoub\n",
      "\n",
      " jedes zäihe Läderhärz wird weich\n",
      "\n",
      "D'w. Nuss vo Bümpliz\n",
      "isch schön win es Füür \n",
      " dr Nacht\n",
      "win e Rose im Schnee\n",
      "we se gseh duss in Bümpliz\n",
      "de schlat mir mis Härz hert \n",
      " Hals\n",
      "\n",
      " \n",
      " gseh win \n",
      " ungergah\n",
      "\n",
      "Si wohnt im ne Huus us Glas\n",
      "hinger Türe ohni Schloss\n",
      "gseht dür jedi Muur\n",
      "dänkt wi nes Füürwärch\n",
      "win e Zuckerstock\n",
      "läbt win e Wasserfau\n",
      "für si git's nüt, wo's nid git\n",
      "\n",
      " aus wo's git, git's nid für ging\n",
      "si nimmt's wi's chunnt \n",
      " lat's la gah\n",
      "\n",
      "D'w. Nuss vo Bümpliz\n",
      "isch schön win es Füür \n",
      " dr Nacht\n",
      "win e Rose im Schnee\n",
      "we se gseh duss in Bümpliz\n",
      "de schlat mir mis Härz hert \n",
      " Hals\n",
      "\n",
      " \n",
      " gseh win \n",
      " ungergah\n",
      "\n"
     ]
    }
   ],
   "source": [
    "for line in newlist:\n",
    "    print(line)"
   ]
  },
  {
   "cell_type": "code",
   "execution_count": null,
   "metadata": {
    "collapsed": true
   },
   "outputs": [],
   "source": []
  },
  {
   "cell_type": "markdown",
   "metadata": {},
   "source": [
    "### sub()"
   ]
  },
  {
   "cell_type": "markdown",
   "metadata": {},
   "source": [
    "Ersetzt den Treffer durch einen anderen String."
   ]
  },
  {
   "cell_type": "code",
   "execution_count": 17,
   "metadata": {},
   "outputs": [
    {
     "name": "stdout",
     "output_type": "stream",
     "text": [
      "\n",
      "D'w. Nuss vo Bümpliz geit dür d'Strass\n",
      "liecht i flüchtig, wie nes Gas\n",
      "so unerreichbar höch\n",
      "\n",
      "Bockstössigi Himbeerbuebe\n",
      "schüüch i brav wie Schaf\n",
      "schön föhnfrisiert\n",
      "chöme tubetänzig nöch\n",
      "\n",
      "I d'Spargle wachse u bluetjung Morge\n",
      "d'Sunne chunnt 's wird langsam warm\n",
      "\n",
      "Sie het meh als hundert ching\n",
      "i jede Früehlig git 's es nöis\n",
      "het d'Chiuchefänschterouge off\n",
      "i macht se zue bi jedem Kuss\n",
      "i we sie lachet wärde Bärge zu schtoub\n",
      "i jedes zäihe Läderhärz wird weich\n",
      "\n",
      "D'w. Nuss vo Bümpliz\n",
      "isch schön win es Füür u dr Nacht\n",
      "win e Rose im Schnee\n",
      "we se gseh duss in Bümpliz\n",
      "de schlat mir mis Härz hert u Hals\n",
      "i u gseh win u ungergah\n",
      "\n",
      "Si wohnt im ne Huus us Glas\n",
      "hinger Türe ohni Schloss\n",
      "gseht dür jedi Muur\n",
      "dänkt wi nes Füürwärch\n",
      "win e Zuckerstock\n",
      "läbt win e Wasserfau\n",
      "für si git's nüt, wo's nid git\n",
      "i aus wo's git, git's nid für ging\n",
      "si nimmt's wi's chunnt i lat's la gah\n",
      "\n",
      "D'w. Nuss vo Bümpliz\n",
      "isch schön win es Füür u dr Nacht\n",
      "win e Rose im Schnee\n",
      "we se gseh duss in Bümpliz\n",
      "de schlat mir mis Härz hert u Hals\n",
      "i u gseh win u ungergah\n",
      "\n"
     ]
    }
   ],
   "source": [
    "neuer_text = re.sub(r\"\\bi\\b\", \"çu\", text) #Ersetzt alle i durch çu\n",
    "neuer_text = re.sub(r\"\\bI\\b\", \"çU\", neuer_text) #Grossbuchstaben separat\n",
    "\n",
    "neuer_text = re.sub(r\"\\bu\\b\", \"i\", neuer_text) #Ersetzt alle u durch i\n",
    "neuer_text = re.sub(r\"\\bU\\b\", \"I\", neuer_text) #Grossbuchstaben separat\n",
    "\n",
    "neuer_text = re.sub(r\"\\bçu\\b\", \"u\", neuer_text) #Ersetzt alle çu durch i\n",
    "neuer_text = re.sub(r\"\\bçU\\b\", \"U\", neuer_text) #Grossbuchstaben separat\n",
    "\n",
    "print(neuer_text)"
   ]
  },
  {
   "cell_type": "markdown",
   "metadata": {},
   "source": [
    "Wir können `sub()` auch mit einer Funktion benutzen:"
   ]
  },
  {
   "cell_type": "code",
   "execution_count": 18,
   "metadata": {},
   "outputs": [
    {
     "data": {
      "text/plain": [
       "['dür', 'Füür', 'dür', 'für', 'nüt', 'für', 'Füür']"
      ]
     },
     "execution_count": 18,
     "metadata": {},
     "output_type": "execute_result"
    }
   ],
   "source": [
    "re.findall(r\"\\b\\w*ü\\w\\b\", text) # Zum Testen: Alle Wörter mit einem ü drin"
   ]
  },
  {
   "cell_type": "code",
   "execution_count": 19,
   "metadata": {
    "collapsed": true
   },
   "outputs": [],
   "source": [
    "def replace(match): # Diese Funktion wollen wir drauf anwenden (wir kriegen das Resultat als Match-Objekt geliefert)\n",
    "    word = match.group() + \" - oh, yeah! - \"\n",
    "    return word"
   ]
  },
  {
   "cell_type": "code",
   "execution_count": 20,
   "metadata": {
    "collapsed": true
   },
   "outputs": [],
   "source": [
    "neuer_text = re.sub(r\"\\b\\w*ü\\w\\b\", replace, text) #Hier rufen wir unsere replace-Funktion auf"
   ]
  },
  {
   "cell_type": "code",
   "execution_count": 21,
   "metadata": {},
   "outputs": [
    {
     "name": "stdout",
     "output_type": "stream",
     "text": [
      "\n",
      "D'w. Nuss vo Bümpliz geit dür - oh, yeah! -  d'Strass\n",
      "liecht u flüchtig, wie nes Gas\n",
      "so unerreichbar höch\n",
      "\n",
      "Bockstössigi Himbeerbuebe\n",
      "schüüch u brav wie Schaf\n",
      "schön föhnfrisiert\n",
      "chöme tubetänzig nöch\n",
      "\n",
      "U d'Spargle wachse i bluetjung Morge\n",
      "d'Sunne chunnt 's wird langsam warm\n",
      "\n",
      "Sie het meh als hundert ching\n",
      "u jede Früehlig git 's es nöis\n",
      "het d'Chiuchefänschterouge off\n",
      "u macht se zue bi jedem Kuss\n",
      "u we sie lachet wärde Bärge zu schtoub\n",
      "u jedes zäihe Läderhärz wird weich\n",
      "\n",
      "D'w. Nuss vo Bümpliz\n",
      "isch schön win es Füür - oh, yeah! -  i dr Nacht\n",
      "win e Rose im Schnee\n",
      "we se gseh duss in Bümpliz\n",
      "de schlat mir mis Härz hert i Hals\n",
      "u i gseh win i ungergah\n",
      "\n",
      "Si wohnt im ne Huus us Glas\n",
      "hinger Türe ohni Schloss\n",
      "gseht dür - oh, yeah! -  jedi Muur\n",
      "dänkt wi nes Füürwärch\n",
      "win e Zuckerstock\n",
      "läbt win e Wasserfau\n",
      "für - oh, yeah! -  si git's nüt - oh, yeah! - , wo's nid git\n",
      "u aus wo's git, git's nid für - oh, yeah! -  ging\n",
      "si nimmt's wi's chunnt u lat's la gah\n",
      "\n",
      "D'w. Nuss vo Bümpliz\n",
      "isch schön win es Füür - oh, yeah! -  i dr Nacht\n",
      "win e Rose im Schnee\n",
      "we se gseh duss in Bümpliz\n",
      "de schlat mir mis Härz hert i Hals\n",
      "u i gseh win i ungergah\n",
      "\n"
     ]
    }
   ],
   "source": [
    "print (neuer_text)"
   ]
  },
  {
   "cell_type": "markdown",
   "metadata": {},
   "source": [
    "## Spezielles"
   ]
  },
  {
   "cell_type": "markdown",
   "metadata": {},
   "source": [
    "### Capture-Klammern"
   ]
  },
  {
   "cell_type": "markdown",
   "metadata": {},
   "source": [
    "Die Klammern dienen dazu, nur gewisse Teile einer Regex einzufangen:"
   ]
  },
  {
   "cell_type": "code",
   "execution_count": 22,
   "metadata": {},
   "outputs": [
    {
     "data": {
      "text/plain": [
       "['Nuss ', 'Bockstössigi ', 'Nuss ', 'duss ', 'Nuss ', 'duss ']"
      ]
     },
     "execution_count": 22,
     "metadata": {},
     "output_type": "execute_result"
    }
   ],
   "source": [
    "re.findall(r\"\\b\\w*ss\\w*\\b \", text) #Hier suchen wir zuerst mal nur alle Wörter, die zwei ss drin haben"
   ]
  },
  {
   "cell_type": "code",
   "execution_count": 23,
   "metadata": {},
   "outputs": [
    {
     "data": {
      "text/plain": [
       "['Nuss vo',\n",
       " 'Bockstössigi Himbeerbuebe',\n",
       " 'Nuss vo',\n",
       " 'duss in',\n",
       " 'Nuss vo',\n",
       " 'duss in']"
      ]
     },
     "execution_count": 23,
     "metadata": {},
     "output_type": "execute_result"
    }
   ],
   "source": [
    "re.findall(r\"\\b\\w*ss\\w*\\b \\w+\", text) #Nun suchen wir alle Wörter, die zwei ss drin haben plus das nächste Wort"
   ]
  },
  {
   "cell_type": "code",
   "execution_count": 24,
   "metadata": {},
   "outputs": [
    {
     "data": {
      "text/plain": [
       "['vo', 'Himbeerbuebe', 'vo', 'in', 'vo', 'in']"
      ]
     },
     "execution_count": 24,
     "metadata": {},
     "output_type": "execute_result"
    }
   ],
   "source": [
    "re.findall(r\"\\b\\w*ss\\w*\\b (\\w+)\", text) #Jetzt wollen wir nur das nächste Wort einfangen"
   ]
  },
  {
   "cell_type": "code",
   "execution_count": 25,
   "metadata": {},
   "outputs": [
    {
     "data": {
      "text/plain": [
       "[('Nuss', 'vo'),\n",
       " ('Bockstössigi', 'Himbeerbuebe'),\n",
       " ('Nuss', 'vo'),\n",
       " ('duss', 'in'),\n",
       " ('Nuss', 'vo'),\n",
       " ('duss', 'in')]"
      ]
     },
     "execution_count": 25,
     "metadata": {},
     "output_type": "execute_result"
    }
   ],
   "source": [
    "re.findall(r\"(\\b\\w*ss\\w*\\b) (\\w+)\", text) #Jetzt fangen wir die beiden Wörter separat ein"
   ]
  },
  {
   "cell_type": "markdown",
   "metadata": {},
   "source": [
    "### Lookahead / Lookbehind"
   ]
  },
  {
   "cell_type": "markdown",
   "metadata": {},
   "source": [
    "Eine Sonder-Funktionalität: Zeichen, die gefolgt werden von anderen Zeichen (die Klammern sind nicht zu verwechseln mit den Capture-Klammern."
   ]
  },
  {
   "cell_type": "code",
   "execution_count": 26,
   "metadata": {},
   "outputs": [
    {
     "data": {
      "text/plain": [
       "['w.', 'w.', 'w.']"
      ]
     },
     "execution_count": 26,
     "metadata": {},
     "output_type": "execute_result"
    }
   ],
   "source": [
    "re.findall(r\"w.(?= Nuss)\", text) #Lookahead"
   ]
  },
  {
   "cell_type": "code",
   "execution_count": 27,
   "metadata": {},
   "outputs": [
    {
     "data": {
      "text/plain": [
       "['Nuss', 'Nuss', 'Nuss']"
      ]
     },
     "execution_count": 27,
     "metadata": {},
     "output_type": "execute_result"
    }
   ],
   "source": [
    "re.findall(r\"(?<=w. )Nuss\", text) #Lookbehind"
   ]
  },
  {
   "cell_type": "markdown",
   "metadata": {},
   "source": [
    "## Lexikon\n",
    "\n",
    "Hier nochmals eine (nicht ganz abschliessende) Liste der Spezialzeichen.\n",
    "\n",
    "| repetitions | what it does |\n",
    "|--------|---------|\n",
    "| `*` | match 0 or more repetitions |\n",
    "| `+` | match 1 or more repetitions  |\n",
    "| `?` | match 0 or 1 repetitions  |\n",
    "| `{m}` | m specifies the number of repetitions  |\n",
    "| `{m,n}` | m and n specifies a range of repetitions  |\n",
    "| `{m,}` | m specifies the minimum number of repetitions  |\n",
    "\n",
    "| Shortcut | what it does |\n",
    "|--------|---------|\n",
    "| `.` | Match any character except newline |\n",
    "| `\\w` | letters |\n",
    "| `\\W` | not letters |\n",
    "| `\\d` | numbers [0-9] |\n",
    "| `\\D` | not numbers |\n",
    "| `\\s` | whitespace characters: space, tab... |\n",
    "| `\\S` | not space |\n",
    "| `\\b` | Word boundary: spaces, commas, end of line |\n",
    "| `\\B` | Not a word-boundary |\n",
    "| `^` | match the beginning of string |\n",
    "| `$` | match the end of string, including `\\n` |\n",
    "\n",
    "| enclosures | what it does |\n",
    "|--------|---------|\n",
    "| `[]` | A defined **set** of characters to search for |\n",
    "| `()` | A group of characters to search for, can be accessed in the results. |\n",
    "\n",
    "| Examples of sets | what it does |\n",
    "|--------|---------|\n",
    "| `[aeiou]` | Find any vowel |\n",
    "| `[Tt]` | Find a lowercase or uppercase t |\n",
    "| `[0-9]` | Find any number (there is a shortcut for this) |\n",
    "| `[^0-9]` | Find anything that's not number (there is a shortcut for this) |\n",
    "| `[13579]` | Find any odd numer |\n",
    "| `[A-Za-z]` | Find any letter (there is a shortcut for this too) |\n",
    "| `[+.*]` | Find those actual characters (special characters are canceled in sets) |\n",
    "\n",
    "| Lookahead/behind | what it does |\n",
    "|--------|---------|\n",
    "| `A(?=B)` | Find A if followed by B |\n",
    "| `A(?!B)` | Find A if not followed by B |\n",
    "| `(?<=B)A` | Find A if preceded by B |\n",
    "| `(?<!B)A` | Find A if not preceded by B |\n",
    "| `(A)\\1` | Backreferencing content of group 1 |"
   ]
  },
  {
   "cell_type": "markdown",
   "metadata": {},
   "source": [
    "# Übungen"
   ]
  },
  {
   "cell_type": "markdown",
   "metadata": {},
   "source": [
    "Wir arbeiten nach wie vor mit dem Patent-Ochsner-Song in der Variable `text`.\n",
    "\n",
    "Es gibt drei Schwierigkeitsgrade: easy, advanced, pro.\n",
    "\n",
    "Manchmal müssen Sie regex-Ausdrücke verwenden, manchmal ganz einfach Python-Funktionen verwenden, zB für Listen.\n",
    "\n",
    "Googeln ist erlaubt!!"
   ]
  },
  {
   "cell_type": "markdown",
   "metadata": {},
   "source": [
    "## Easy"
   ]
  },
  {
   "cell_type": "code",
   "execution_count": 28,
   "metadata": {},
   "outputs": [
    {
     "data": {
      "text/plain": [
       "['b', 'b', 'b', 'b', 'b', 'b', 'b', 'b', 'b', 'b']"
      ]
     },
     "execution_count": 28,
     "metadata": {},
     "output_type": "execute_result"
    }
   ],
   "source": [
    "# Finde alle b's im Text (Liste erstellen)\n",
    "re.findall(r\"b\", text)"
   ]
  },
  {
   "cell_type": "code",
   "execution_count": 29,
   "metadata": {},
   "outputs": [
    {
     "data": {
      "text/plain": [
       "['Bümpliz',\n",
       " 'Bockstössigi',\n",
       " 'brav',\n",
       " 'bluetjung',\n",
       " 'bi',\n",
       " 'Bärge',\n",
       " 'Bümpliz',\n",
       " 'Bümpliz',\n",
       " 'Bümpliz',\n",
       " 'Bümpliz']"
      ]
     },
     "execution_count": 29,
     "metadata": {},
     "output_type": "execute_result"
    }
   ],
   "source": [
    "# Finde alle Wörter, die mit b beginnen, unabhängig von Gross-/Kleinschreibung\n",
    "re.findall(r\"\\bb\\w*\", text, re.IGNORECASE)"
   ]
  },
  {
   "cell_type": "code",
   "execution_count": 30,
   "metadata": {},
   "outputs": [
    {
     "data": {
      "text/plain": [
       "['Bümpliz',\n",
       " 'unerreichbar',\n",
       " 'Bockstössigi',\n",
       " 'Himbeerbuebe',\n",
       " 'brav',\n",
       " 'tubetänzig',\n",
       " 'bluetjung',\n",
       " 'bi',\n",
       " 'Bärge',\n",
       " 'schtoub',\n",
       " 'Bümpliz',\n",
       " 'Bümpliz',\n",
       " 'läbt',\n",
       " 'Bümpliz',\n",
       " 'Bümpliz']"
      ]
     },
     "execution_count": 30,
     "metadata": {},
     "output_type": "execute_result"
    }
   ],
   "source": [
    "# Finde alle Wörter, die ein b enthalten, unabhängig von Gross-/Kleinschreibung\n",
    "re.findall(r\"\\w*b\\w*\", text, re.IGNORECASE)"
   ]
  },
  {
   "cell_type": "code",
   "execution_count": 31,
   "metadata": {},
   "outputs": [
    {
     "data": {
      "text/plain": [
       "[\"D'w. Nuss vo Bümpliz geit dür d'Strass\",\n",
       " 'liecht u flüchtig, wie nes Gas',\n",
       " 'so unerreichbar höch',\n",
       " 'Bockstössigi Himbeerbuebe',\n",
       " 'schüüch u brav wie Schaf',\n",
       " 'schön föhnfrisiert',\n",
       " 'chöme tubetänzig nöch',\n",
       " \"U d'Spargle wachse i bluetjung Morge\",\n",
       " \"d'Sunne chunnt 's wird langsam warm\",\n",
       " 'Sie het meh als hundert ching',\n",
       " \"u jede Früehlig git 's es nöis\",\n",
       " \"het d'Chiuchefänschterouge off\",\n",
       " 'u macht se zue bi jedem Kuss',\n",
       " 'u we sie lachet wärde Bärge zu schtoub',\n",
       " 'u jedes zäihe Läderhärz wird weich',\n",
       " \"D'w. Nuss vo Bümpliz\",\n",
       " 'isch schön win es Füür i dr Nacht',\n",
       " 'win e Rose im Schnee',\n",
       " 'we se gseh duss in Bümpliz',\n",
       " 'de schlat mir mis Härz hert i Hals',\n",
       " 'u i gseh win i ungergah',\n",
       " 'Si wohnt im ne Huus us Glas',\n",
       " 'hinger Türe ohni Schloss',\n",
       " 'gseht dür jedi Muur',\n",
       " 'dänkt wi nes Füürwärch',\n",
       " 'win e Zuckerstock',\n",
       " 'läbt win e Wasserfau',\n",
       " \"für si git's nüt, wo's nid git\",\n",
       " \"u aus wo's git, git's nid für ging\",\n",
       " \"si nimmt's wi's chunnt u lat's la gah\",\n",
       " \"D'w. Nuss vo Bümpliz\",\n",
       " 'isch schön win es Füür i dr Nacht',\n",
       " 'win e Rose im Schnee',\n",
       " 'we se gseh duss in Bümpliz',\n",
       " 'de schlat mir mis Härz hert i Hals',\n",
       " 'u i gseh win i ungergah']"
      ]
     },
     "execution_count": 31,
     "metadata": {},
     "output_type": "execute_result"
    }
   ],
   "source": [
    "# Erstelle eine Liste aller Zeilen im Text\n",
    "re.findall(r\"^.+$\", text, re.MULTILINE)"
   ]
  },
  {
   "cell_type": "code",
   "execution_count": 32,
   "metadata": {},
   "outputs": [
    {
     "data": {
      "text/plain": [
       "['D',\n",
       " 'Nuss',\n",
       " 'Bümpliz',\n",
       " 'Strass',\n",
       " 'Gas',\n",
       " 'Bockstössigi',\n",
       " 'Himbeerbuebe',\n",
       " 'Schaf',\n",
       " 'U',\n",
       " 'Spargle',\n",
       " 'Morge',\n",
       " 'Sunne',\n",
       " 'Sie',\n",
       " 'Früehlig',\n",
       " 'Chiuchefänschterouge',\n",
       " 'Kuss',\n",
       " 'Bärge',\n",
       " 'Läderhärz',\n",
       " 'D',\n",
       " 'Nuss',\n",
       " 'Bümpliz',\n",
       " 'Füür',\n",
       " 'Nacht',\n",
       " 'Rose',\n",
       " 'Schnee',\n",
       " 'Bümpliz',\n",
       " 'Härz',\n",
       " 'Hals',\n",
       " 'Si',\n",
       " 'Huus',\n",
       " 'Glas',\n",
       " 'Türe',\n",
       " 'Schloss',\n",
       " 'Muur',\n",
       " 'Füürwärch',\n",
       " 'Zuckerstock',\n",
       " 'Wasserfau',\n",
       " 'D',\n",
       " 'Nuss',\n",
       " 'Bümpliz',\n",
       " 'Füür',\n",
       " 'Nacht',\n",
       " 'Rose',\n",
       " 'Schnee',\n",
       " 'Bümpliz',\n",
       " 'Härz',\n",
       " 'Hals']"
      ]
     },
     "execution_count": 32,
     "metadata": {},
     "output_type": "execute_result"
    }
   ],
   "source": [
    "# eine Liste aller Wörter, die mit Grossbuchstaben beginnen\n",
    "re.findall(r\"\\b[A-Z]\\w*\", text)"
   ]
  },
  {
   "cell_type": "code",
   "execution_count": 33,
   "metadata": {},
   "outputs": [
    {
     "data": {
      "text/plain": [
       "['flüchtig',\n",
       " 'unerreichbar',\n",
       " 'Bockstössigi',\n",
       " 'Himbeerbuebe',\n",
       " 'föhnfrisiert',\n",
       " 'tubetänzig',\n",
       " 'bluetjung',\n",
       " 'Früehlig',\n",
       " 'Chiuchefänschterouge',\n",
       " 'Läderhärz',\n",
       " 'ungergah',\n",
       " 'Füürwärch',\n",
       " 'Zuckerstock',\n",
       " 'Wasserfau',\n",
       " 'ungergah']"
      ]
     },
     "execution_count": 33,
     "metadata": {},
     "output_type": "execute_result"
    }
   ],
   "source": [
    "# Eine Liste aller Wörter, die mehr als 8 Buchstaben haben\n",
    "re.findall(r\"\\b\\w{8,}\\b\", text)"
   ]
  },
  {
   "cell_type": "code",
   "execution_count": 34,
   "metadata": {},
   "outputs": [
    {
     "data": {
      "text/plain": [
       "['geit',\n",
       " 'liecht',\n",
       " 'wie',\n",
       " 'unerreichbar',\n",
       " 'Himbeerbuebe',\n",
       " 'schüüch',\n",
       " 'wie',\n",
       " 'föhnfrisiert',\n",
       " 'bluetjung',\n",
       " 'Sie',\n",
       " 'Früehlig',\n",
       " 'nöis',\n",
       " 'Chiuchefänschterouge',\n",
       " 'zue',\n",
       " 'sie',\n",
       " 'schtoub',\n",
       " 'zäihe',\n",
       " 'weich',\n",
       " 'Füür',\n",
       " 'Schnee',\n",
       " 'Huus',\n",
       " 'Muur',\n",
       " 'Füürwärch',\n",
       " 'Wasserfau',\n",
       " 'aus',\n",
       " 'Füür',\n",
       " 'Schnee']"
      ]
     },
     "execution_count": 34,
     "metadata": {},
     "output_type": "execute_result"
    }
   ],
   "source": [
    "# Eine Liste aller Wörte, die einen Doppelvokal enthalten (z.B. \"geit\")\n",
    "re.findall(r\"\\w*[aeiouäöü]{2}\\w*\", text)"
   ]
  },
  {
   "cell_type": "code",
   "execution_count": null,
   "metadata": {
    "collapsed": true
   },
   "outputs": [],
   "source": []
  },
  {
   "cell_type": "code",
   "execution_count": null,
   "metadata": {
    "collapsed": true
   },
   "outputs": [],
   "source": []
  },
  {
   "cell_type": "markdown",
   "metadata": {},
   "source": [
    "## Advanced"
   ]
  },
  {
   "cell_type": "code",
   "execution_count": 35,
   "metadata": {},
   "outputs": [
    {
     "name": "stdout",
     "output_type": "stream",
     "text": [
      "Bümpliz\n"
     ]
    }
   ],
   "source": [
    "# Welches Wort kommt im Text öfter vor: \"w. Nuss\" oder \"Bümpliz\"?\n",
    "n_wnuss = len(re.findall(r\"w. Nuss\", text))\n",
    "n_buempliz = len(re.findall(r\"Bümpliz\", text))\n",
    "if n_wnuss > n_buempliz:\n",
    "    print(\"w. Nuss\")\n",
    "elif n_wnuss == n_buempliz:\n",
    "    print(\"gleich oft\")\n",
    "else:\n",
    "    print(\"Bümpliz\")"
   ]
  },
  {
   "cell_type": "code",
   "execution_count": 36,
   "metadata": {},
   "outputs": [
    {
     "data": {
      "text/plain": [
       "721"
      ]
     },
     "execution_count": 36,
     "metadata": {},
     "output_type": "execute_result"
    }
   ],
   "source": [
    "# An welcher Position (Zeichen-Nr) steht das Wort \"Zuckerstock\"?\n",
    "re.search(r\"Zuckerstock\", text).start()"
   ]
  },
  {
   "cell_type": "code",
   "execution_count": 37,
   "metadata": {},
   "outputs": [
    {
     "data": {
      "text/plain": [
       "[\"D'w. Nuss vo Bümpliz geit dür d'Strass\",\n",
       " 'u we sie lachet wärde Bärge zu schtoub',\n",
       " \"si nimmt's wi's chunnt u lat's la gah\",\n",
       " \"U d'Spargle wachse i bluetjung Morge\",\n",
       " \"d'Sunne chunnt 's wird langsam warm\",\n",
       " 'u jedes zäihe Läderhärz wird weich',\n",
       " 'de schlat mir mis Härz hert i Hals',\n",
       " \"u aus wo's git, git's nid für ging\",\n",
       " 'de schlat mir mis Härz hert i Hals',\n",
       " 'isch schön win es Füür i dr Nacht',\n",
       " 'isch schön win es Füür i dr Nacht',\n",
       " 'liecht u flüchtig, wie nes Gas',\n",
       " \"u jede Früehlig git 's es nöis\",\n",
       " \"het d'Chiuchefänschterouge off\",\n",
       " \"für si git's nüt, wo's nid git\",\n",
       " 'Sie het meh als hundert ching',\n",
       " 'u macht se zue bi jedem Kuss',\n",
       " 'Si wohnt im ne Huus us Glas',\n",
       " 'we se gseh duss in Bümpliz',\n",
       " 'we se gseh duss in Bümpliz',\n",
       " 'Bockstössigi Himbeerbuebe',\n",
       " 'schüüch u brav wie Schaf',\n",
       " 'hinger Türe ohni Schloss',\n",
       " 'u i gseh win i ungergah',\n",
       " 'u i gseh win i ungergah',\n",
       " 'dänkt wi nes Füürwärch',\n",
       " 'chöme tubetänzig nöch',\n",
       " 'so unerreichbar höch',\n",
       " \"D'w. Nuss vo Bümpliz\",\n",
       " 'win e Rose im Schnee',\n",
       " 'läbt win e Wasserfau',\n",
       " \"D'w. Nuss vo Bümpliz\",\n",
       " 'win e Rose im Schnee',\n",
       " 'gseht dür jedi Muur',\n",
       " 'schön föhnfrisiert',\n",
       " 'win e Zuckerstock']"
      ]
     },
     "execution_count": 37,
     "metadata": {},
     "output_type": "execute_result"
    }
   ],
   "source": [
    "# Sortieren Sie die Liedzeilen nach der Länge der Zeile\n",
    "lines = sorted(re.findall(r\"^.+$\", text, re.MULTILINE),key=len, reverse=True)\n",
    "lines"
   ]
  },
  {
   "cell_type": "code",
   "execution_count": 38,
   "metadata": {},
   "outputs": [
    {
     "data": {
      "text/plain": [
       "\"D'w. Nuss vo Bümpliz geit dür d'Strass\""
      ]
     },
     "execution_count": 38,
     "metadata": {},
     "output_type": "execute_result"
    }
   ],
   "source": [
    "# Welches ist die längste Liedzeile?\n",
    "max(lines, key=len)"
   ]
  },
  {
   "cell_type": "code",
   "execution_count": 39,
   "metadata": {},
   "outputs": [
    {
     "name": "stdout",
     "output_type": "stream",
     "text": [
      "\n",
      "D'Venus vo Bümpliz geit dür d'Strass\n",
      "liecht u flüchtig, wie nes Gas\n",
      "so unerreichbar höch\n",
      "\n",
      "Bockstössigi Himbeerbuebe\n",
      "schüüch u brav wie Schaf\n",
      "schön föhnfrisiert\n",
      "chöme tubetänzig nöch\n",
      "\n",
      "U d'Spargle wachse i bluetjung Morge\n",
      "d'Sunne chunnt 's wird langsam warm\n",
      "\n",
      "Sie het meh als hundert ching\n",
      "u jede Früehlig git 's es nöis\n",
      "het d'Chiuchefänschterouge off\n",
      "u macht se zue bi jedem Kuss\n",
      "u we sie lachet wärde Bärge zu schtoub\n",
      "u jedes zäihe Läderhärz wird weich\n",
      "\n",
      "D'Venus vo Bümpliz\n",
      "isch schön win es Füür i dr Nacht\n",
      "win e Rose im Schnee\n",
      "we se gseh duss in Bümpliz\n",
      "de schlat mir mis Härz hert i Hals\n",
      "u i gseh win i ungergah\n",
      "\n",
      "Si wohnt im ne Huus us Glas\n",
      "hinger Türe ohni Schloss\n",
      "gseht dür jedi Muur\n",
      "dänkt wi nes Füürwärch\n",
      "win e Zuckerstock\n",
      "läbt win e Wasserfau\n",
      "für si git's nüt, wo's nid git\n",
      "u aus wo's git, git's nid für ging\n",
      "si nimmt's wi's chunnt u lat's la gah\n",
      "\n",
      "D'Venus vo Bümpliz\n",
      "isch schön win es Füür i dr Nacht\n",
      "win e Rose im Schnee\n",
      "we se gseh duss in Bümpliz\n",
      "de schlat mir mis Härz hert i Hals\n",
      "u i gseh win i ungergah\n",
      "\n"
     ]
    }
   ],
   "source": [
    "# Ersetzen Sie \"v. Nuss\" durch \"Venus\"\n",
    "print(re.sub(r\"w\\. Nuss\", \"Venus\", text))"
   ]
  },
  {
   "cell_type": "code",
   "execution_count": 40,
   "metadata": {},
   "outputs": [
    {
     "name": "stdout",
     "output_type": "stream",
     "text": [
      "\n",
      "'. Nuss  Bümpliz geit dür 'Strass\n",
      "liecht  flüchtig, wie nes Gas\n",
      " unerreichbar höch\n",
      "\n",
      "Bockstössigi Himbeerbuebe\n",
      "schüüch  brav wie Schaf\n",
      "schön föhnfrisiert\n",
      "chöme tubetänzig nöch\n",
      "\n",
      " 'Spargle wachse  bluetjung Morge\n",
      "'Sunne chunnt ' wird langsam warm\n",
      "\n",
      "Sie het meh als hundert ching\n",
      " jede Früehlig git '  nöis\n",
      "het 'Chiuchefänschterouge off\n",
      " macht  zue  jedem Kuss\n",
      "  sie lachet wärde Bärge  schtoub\n",
      " jedes zäihe Läderhärz wird weich\n",
      "\n",
      "'. Nuss  Bümpliz\n",
      "isch schön win  Füür   Nacht\n",
      "win  Rose  Schnee\n",
      "  gseh duss  Bümpliz\n",
      " schlat mir mis Härz hert  Hals\n",
      "  gseh win  ungergah\n",
      "\n",
      " wohnt   Huus  Glas\n",
      "hinger Türe ohni Schloss\n",
      "gseht dür jedi Muur\n",
      "dänkt  nes Füürwärch\n",
      "win  Zuckerstock\n",
      "läbt win  Wasserfau\n",
      "für  git' nüt, ' nid git\n",
      " aus ' git, git' nid für ging\n",
      " nimmt' ' chunnt  lat'  gah\n",
      "\n",
      "'. Nuss  Bümpliz\n",
      "isch schön win  Füür   Nacht\n",
      "win  Rose  Schnee\n",
      "  gseh duss  Bümpliz\n",
      " schlat mir mis Härz hert  Hals\n",
      "  gseh win  ungergah\n",
      "\n"
     ]
    }
   ],
   "source": [
    "# Entfernen Sie alle Wörter, die weniger als 3 Buchstaben lang sind, aus dem Text\n",
    "print(re.sub(r\"\\b\\w{1,2}\\b\", \"\", text))"
   ]
  },
  {
   "cell_type": "code",
   "execution_count": 41,
   "metadata": {},
   "outputs": [
    {
     "name": "stdout",
     "output_type": "stream",
     "text": [
      "\n",
      " Nuss  Bümpliz geit dür Strass\n",
      "liecht  flüchtig wie nes Gas\n",
      " unerreichbar höch\n",
      "\n",
      "Bockstössigi Himbeerbuebe\n",
      "schüüch  brav wie Schaf\n",
      "schön föhnfrisiert\n",
      "chöme tubetänzig nöch\n",
      "\n",
      " Spargle wachse  bluetjung Morge\n",
      "Sunne chunnt  wird langsam warm\n",
      "\n",
      "Sie het meh als hundert ching\n",
      " jede Früehlig git   nöis\n",
      "het Chiuchefänschterouge off\n",
      " macht  zue  jedem Kuss\n",
      "  sie lachet wärde Bärge  schtoub\n",
      " jedes zäihe Läderhärz wird weich\n",
      "\n",
      " Nuss  Bümpliz\n",
      "isch schön win  Füür   Nacht\n",
      "win  Rose  Schnee\n",
      "  gseh duss  Bümpliz\n",
      " schlat mir mis Härz hert  Hals\n",
      "  gseh win  ungergah\n",
      "\n",
      " wohnt   Huus  Glas\n",
      "hinger Türe ohni Schloss\n",
      "gseht dür jedi Muur\n",
      "dänkt  nes Füürwärch\n",
      "win  Zuckerstock\n",
      "läbt win  Wasserfau\n",
      "für  git nüt  nid git\n",
      " aus  git git nid für ging\n",
      " nimmt  chunnt  lat  gah\n",
      "\n",
      " Nuss  Bümpliz\n",
      "isch schön win  Füür   Nacht\n",
      "win  Rose  Schnee\n",
      "  gseh duss  Bümpliz\n",
      " schlat mir mis Härz hert  Hals\n",
      "  gseh win  ungergah\n",
      "\n"
     ]
    }
   ],
   "source": [
    "# Entfernen Sie alle Wörter, die weniger als 3 Buchstaben lang sind, sowie alle Sonderzeichen aus dem Text\n",
    "print(re.sub(r\"\\b\\w{1,2}\\b|[.,']\", \"\", text))"
   ]
  },
  {
   "cell_type": "code",
   "execution_count": 42,
   "metadata": {},
   "outputs": [
    {
     "name": "stdout",
     "output_type": "stream",
     "text": [
      "\n",
      "Nuss Bümpliz geit Strass\n",
      "liecht flüchtig \n",
      "unerreichbar höch\n",
      "\n",
      "Bockstössigi Himbeerbuebe\n",
      "schüüch brav Schaf\n",
      "schön föhnfrisiert\n",
      "chöme tubetänzig nöch\n",
      "\n",
      "Spargle wachse bluetjung Morge\n",
      "Sunne chunnt wird langsam warm\n",
      "\n",
      "hundert ching\n",
      "jede Früehlig nöis\n",
      "Chiuchefänschterouge \n",
      "macht jedem Kuss\n",
      "lachet wärde Bärge schtoub\n",
      "jedes zäihe Läderhärz wird weich\n",
      "\n",
      "Nuss Bümpliz\n",
      "isch schön Füür Nacht\n",
      "Rose Schnee\n",
      "gseh duss Bümpliz\n",
      "schlat Härz hert Hals\n",
      "gseh ungergah\n",
      "\n",
      "wohnt Huus Glas\n",
      "hinger Türe ohni Schloss\n",
      "gseht jedi Muur\n",
      "dänkt Füürwärch\n",
      "Zuckerstock\n",
      "läbt Wasserfau\n",
      "\n",
      "ging\n",
      "nimmt chunnt \n",
      "\n",
      "Nuss Bümpliz\n",
      "isch schön Füür Nacht\n",
      "Rose Schnee\n",
      "gseh duss Bümpliz\n",
      "schlat Härz hert Hals\n",
      "gseh ungergah\n",
      "\n"
     ]
    }
   ],
   "source": [
    "# Entfernen Sie alle Wörter, die weniger als 4 Buchstaben lang sind, sowie alle Sonderzeichen aus dem Text\n",
    "# Dann reduzieren Sie alle doppelten und dreifachen Leerschläge auf einen Leerschlag (die Strophen intakt lassen)\n",
    "# Dann entfernen Sie alle Leerschläge am Anfang von Zeilen. (Achtung, hier braucht es flags=re.MULTILINE)\n",
    "\n",
    "newtext = re.sub(r\"\\b\\w{1,3}\\b|[.',]\", \"\", text)\n",
    "newtext = re.sub(r\" {2,}\", \" \", newtext)\n",
    "newtext = re.sub(r\"^ \", \"\", newtext, flags=re.MULTILINE)\n",
    "print(newtext)"
   ]
  },
  {
   "cell_type": "code",
   "execution_count": 43,
   "metadata": {},
   "outputs": [
    {
     "name": "stdout",
     "output_type": "stream",
     "text": [
      "\n",
      "'. Nus v Bümpli gei dü 'Stras\n",
      "liech  flüchti, wi ne Ga\n",
      "s unerreichba höc\n",
      "\n",
      "Bockstössig Himbeerbueb\n",
      "schüüc  bra wi Scha\n",
      "schö föhnfrisier\n",
      "chöm tubetänzi nöc\n",
      "\n",
      " 'Spargl wachs  bluetjun Morg\n",
      "'Sunn chunn ' wir langsa war\n",
      "\n",
      "Si he me al hunder chin\n",
      " jed Früehli gi ' e nöi\n",
      "he 'Chiuchefänschteroug of\n",
      " mach s zu b jede Kus\n",
      " w si lache wärd Bärg z schtou\n",
      " jede zäih Läderhär wir weic\n",
      "\n",
      "'. Nus v Bümpli\n",
      "isc schö wi e Füü  d Nach\n",
      "wi  Ros i Schne\n",
      "w s gse dus i Bümpli\n",
      "d schla mi mi Här her  Hal\n",
      "  gse wi  ungerga\n",
      "\n",
      "S wohn i n Huu u Gla\n",
      "hinge Tür ohn Schlos\n",
      "gseh dü jed Muu\n",
      "dänk w ne Füürwärc\n",
      "wi  Zuckerstoc\n",
      "läb wi  Wasserfa\n",
      "fü s gi' nü, w' ni gi\n",
      " au w' gi, gi' ni fü gin\n",
      "s nimm' w' chunn  la' l ga\n",
      "\n",
      "'. Nus v Bümpli\n",
      "isc schö wi e Füü  d Nach\n",
      "wi  Ros i Schne\n",
      "w s gse dus i Bümpli\n",
      "d schla mi mi Här her  Hal\n",
      "  gse wi  ungerga\n",
      "\n"
     ]
    }
   ],
   "source": [
    "# Entfernen Sie den letzten Buchstaben aus jedem Wort\n",
    "print(re.sub(r\"(\\w)\\b\", \"\", text))"
   ]
  },
  {
   "cell_type": "markdown",
   "metadata": {
    "collapsed": true
   },
   "source": [
    "## Pro"
   ]
  },
  {
   "cell_type": "code",
   "execution_count": 44,
   "metadata": {},
   "outputs": [
    {
     "data": {
      "text/plain": [
       "{'als',\n",
       " 'aus',\n",
       " 'bi',\n",
       " 'bluetjung',\n",
       " 'bockstössigi',\n",
       " 'brav',\n",
       " 'bärge',\n",
       " 'bümpliz',\n",
       " 'ching',\n",
       " 'chiuchefänschterouge',\n",
       " 'chunnt',\n",
       " 'chöme',\n",
       " 'd',\n",
       " 'de',\n",
       " 'dr',\n",
       " 'duss',\n",
       " 'dänkt',\n",
       " 'dür',\n",
       " 'e',\n",
       " 'es',\n",
       " 'flüchtig',\n",
       " 'früehlig',\n",
       " 'föhnfrisiert',\n",
       " 'für',\n",
       " 'füür',\n",
       " 'füürwärch',\n",
       " 'gah',\n",
       " 'gas',\n",
       " 'geit',\n",
       " 'ging',\n",
       " 'git',\n",
       " 'glas',\n",
       " 'gseh',\n",
       " 'gseht',\n",
       " 'hals',\n",
       " 'hert',\n",
       " 'het',\n",
       " 'himbeerbuebe',\n",
       " 'hinger',\n",
       " 'hundert',\n",
       " 'huus',\n",
       " 'härz',\n",
       " 'höch',\n",
       " 'i',\n",
       " 'im',\n",
       " 'in',\n",
       " 'isch',\n",
       " 'jede',\n",
       " 'jedem',\n",
       " 'jedes',\n",
       " 'jedi',\n",
       " 'kuss',\n",
       " 'la',\n",
       " 'lachet',\n",
       " 'langsam',\n",
       " 'lat',\n",
       " 'liecht',\n",
       " 'läbt',\n",
       " 'läderhärz',\n",
       " 'macht',\n",
       " 'meh',\n",
       " 'mir',\n",
       " 'mis',\n",
       " 'morge',\n",
       " 'muur',\n",
       " 'nacht',\n",
       " 'ne',\n",
       " 'nes',\n",
       " 'nid',\n",
       " 'nimmt',\n",
       " 'nuss',\n",
       " 'nöch',\n",
       " 'nöis',\n",
       " 'nüt',\n",
       " 'off',\n",
       " 'ohni',\n",
       " 'rose',\n",
       " 's',\n",
       " 'schaf',\n",
       " 'schlat',\n",
       " 'schloss',\n",
       " 'schnee',\n",
       " 'schtoub',\n",
       " 'schön',\n",
       " 'schüüch',\n",
       " 'se',\n",
       " 'si',\n",
       " 'sie',\n",
       " 'so',\n",
       " 'spargle',\n",
       " 'strass',\n",
       " 'sunne',\n",
       " 'tubetänzig',\n",
       " 'türe',\n",
       " 'u',\n",
       " 'unerreichbar',\n",
       " 'ungergah',\n",
       " 'us',\n",
       " 'vo',\n",
       " 'w',\n",
       " 'wachse',\n",
       " 'warm',\n",
       " 'wasserfau',\n",
       " 'we',\n",
       " 'weich',\n",
       " 'wi',\n",
       " 'wie',\n",
       " 'win',\n",
       " 'wird',\n",
       " 'wo',\n",
       " 'wohnt',\n",
       " 'wärde',\n",
       " 'zu',\n",
       " 'zuckerstock',\n",
       " 'zue',\n",
       " 'zäihe'}"
      ]
     },
     "execution_count": 44,
     "metadata": {},
     "output_type": "execute_result"
    }
   ],
   "source": [
    "# Konvertieren Sie alles zu Kleinbuchstaben\n",
    "# Dann erstellen Sie eine Liste aller Wörter im Text\n",
    "# Dann sortieren Sie die Liste alphabetisch - jedes Wort soll nur einmal vorkommen\n",
    "woerter = re.findall(r\"\\b\\w+\\b\", text.lower())\n",
    "set(sorted(woerter))"
   ]
  },
  {
   "cell_type": "code",
   "execution_count": 45,
   "metadata": {},
   "outputs": [
    {
     "data": {
      "text/plain": [
       "{'als',\n",
       " 'aus',\n",
       " 'bi',\n",
       " 'bluetjung',\n",
       " 'bockstössigi',\n",
       " 'brav',\n",
       " 'bärge',\n",
       " 'bümpliz',\n",
       " 'ching',\n",
       " 'chiuchefänschterouge',\n",
       " 'chunnt',\n",
       " 'chöme',\n",
       " 'd',\n",
       " 'de',\n",
       " 'dr',\n",
       " 'duss',\n",
       " 'dänkt',\n",
       " 'dür',\n",
       " 'e',\n",
       " 'es',\n",
       " 'flüchtig',\n",
       " 'früehlig',\n",
       " 'föhnfrisiert',\n",
       " 'für',\n",
       " 'füür',\n",
       " 'füürwärch',\n",
       " 'gah',\n",
       " 'gas',\n",
       " 'geit',\n",
       " 'ging',\n",
       " 'git',\n",
       " 'glas',\n",
       " 'gseh',\n",
       " 'gseht',\n",
       " 'hals',\n",
       " 'hert',\n",
       " 'het',\n",
       " 'himbeerbuebe',\n",
       " 'hinger',\n",
       " 'hundert',\n",
       " 'huus',\n",
       " 'härz',\n",
       " 'höch',\n",
       " 'i',\n",
       " 'im',\n",
       " 'in',\n",
       " 'isch',\n",
       " 'jede',\n",
       " 'jedem',\n",
       " 'jedes',\n",
       " 'jedi',\n",
       " 'kuss',\n",
       " 'la',\n",
       " 'lachet',\n",
       " 'langsam',\n",
       " 'lat',\n",
       " 'liecht',\n",
       " 'läbt',\n",
       " 'läderhärz',\n",
       " 'macht',\n",
       " 'meh',\n",
       " 'mir',\n",
       " 'mis',\n",
       " 'morge',\n",
       " 'muur',\n",
       " 'nacht',\n",
       " 'ne',\n",
       " 'nes',\n",
       " 'nid',\n",
       " 'nimmt',\n",
       " 'nuss',\n",
       " 'nöch',\n",
       " 'nöis',\n",
       " 'nüt',\n",
       " 'off',\n",
       " 'ohni',\n",
       " 'rose',\n",
       " 's',\n",
       " 'schaf',\n",
       " 'schlat',\n",
       " 'schloss',\n",
       " 'schnee',\n",
       " 'schtoub',\n",
       " 'schön',\n",
       " 'schüüch',\n",
       " 'se',\n",
       " 'si',\n",
       " 'sie',\n",
       " 'so',\n",
       " 'spargle',\n",
       " 'strass',\n",
       " 'sunne',\n",
       " 'tubetänzig',\n",
       " 'türe',\n",
       " 'u',\n",
       " 'unerreichbar',\n",
       " 'ungergah',\n",
       " 'us',\n",
       " 'vo',\n",
       " 'w',\n",
       " 'wachse',\n",
       " 'warm',\n",
       " 'wasserfau',\n",
       " 'we',\n",
       " 'weich',\n",
       " 'wi',\n",
       " 'wie',\n",
       " 'win',\n",
       " 'wird',\n",
       " 'wo',\n",
       " 'wohnt',\n",
       " 'wärde',\n",
       " 'zu',\n",
       " 'zuckerstock',\n",
       " 'zue',\n",
       " 'zäihe'}"
      ]
     },
     "execution_count": 45,
     "metadata": {},
     "output_type": "execute_result"
    }
   ],
   "source": [
    "# Wie viele unterschiedliche Wörter kommen im Text vor?\n",
    "set(sorted(woerter))"
   ]
  },
  {
   "cell_type": "code",
   "execution_count": 46,
   "metadata": {},
   "outputs": [
    {
     "data": {
      "text/plain": [
       "'h'"
      ]
     },
     "execution_count": 46,
     "metadata": {},
     "output_type": "execute_result"
    }
   ],
   "source": [
    "# Welcher Buchstabe steht am häufigsten vor einem \"ä\" (Gross/Kleinschreibung egal)?\n",
    "buchstaben = re.findall(r\"\\w(?=ä)\", text.lower())\n",
    "max(buchstaben, key=buchstaben.count)"
   ]
  },
  {
   "cell_type": "code",
   "execution_count": 47,
   "metadata": {},
   "outputs": [
    {
     "data": {
      "text/plain": [
       "['s',\n",
       " 's',\n",
       " 'r',\n",
       " 's',\n",
       " 'e',\n",
       " 'ü',\n",
       " 'n',\n",
       " 'n',\n",
       " 'f',\n",
       " 's',\n",
       " 's',\n",
       " 'ü',\n",
       " 'e',\n",
       " 's',\n",
       " 'u',\n",
       " 's',\n",
       " 'u',\n",
       " 'ü',\n",
       " 's',\n",
       " 'm',\n",
       " 'n',\n",
       " 's',\n",
       " 'ü',\n",
       " 'e',\n",
       " 's']"
      ]
     },
     "execution_count": 47,
     "metadata": {},
     "output_type": "execute_result"
    }
   ],
   "source": [
    "# Liste aller Buchstaben, die nochmals vom selben Buchstaben gefolgt werden\n",
    "re.findall(r\"(\\w)\\1\", text)"
   ]
  },
  {
   "cell_type": "code",
   "execution_count": 48,
   "metadata": {},
   "outputs": [
    {
     "name": "stdout",
     "output_type": "stream",
     "text": [
      "\n",
      "D'w. Nus vo Bümpliz geit dür d'Stras\n",
      "liecht u flüchtig, wie nes Gas\n",
      "so unereichbar höch\n",
      "\n",
      "Bockstösigi Himberbuebe\n",
      "schüch u brav wie Schaf\n",
      "schön föhnfrisiert\n",
      "chöme tubetänzig nöch\n",
      "\n",
      "U d'Spargle wachse i bluetjung Morge\n",
      "d'Sune chunt 's wird langsam warm\n",
      "\n",
      "Sie het meh als hundert ching\n",
      "u jede Früehlig git 's es nöis\n",
      "het d'Chiuchefänschterouge of\n",
      "u macht se zue bi jedem Kus\n",
      "u we sie lachet wärde Bärge zu schtoub\n",
      "u jedes zäihe Läderhärz wird weich\n",
      "\n",
      "D'w. Nus vo Bümpliz\n",
      "isch schön win es Für i dr Nacht\n",
      "win e Rose im Schne\n",
      "we se gseh dus in Bümpliz\n",
      "de schlat mir mis Härz hert i Hals\n",
      "u i gseh win i ungergah\n",
      "\n",
      "Si wohnt im ne Hus us Glas\n",
      "hinger Türe ohni Schlos\n",
      "gseht dür jedi Mur\n",
      "dänkt wi nes Fürwärch\n",
      "win e Zuckerstock\n",
      "läbt win e Waserfau\n",
      "für si git's nüt, wo's nid git\n",
      "u aus wo's git, git's nid für ging\n",
      "si nimt's wi's chunt u lat's la gah\n",
      "\n",
      "D'w. Nus vo Bümpliz\n",
      "isch schön win es Für i dr Nacht\n",
      "win e Rose im Schne\n",
      "we se gseh dus in Bümpliz\n",
      "de schlat mir mis Härz hert i Hals\n",
      "u i gseh win i ungergah\n",
      "\n"
     ]
    }
   ],
   "source": [
    "# Ersetzen Sie sämtliche Doppelbuchstaben (zB \"aa\") durch einfache Buchstaben (\"a)\n",
    "# Achtung: Sie müssen eine separate (Lambda-)Funktion dafür schreiben\n",
    "\n",
    "print(re.sub(r\"(\\w)\\1\", lambda m: m.group()[0], text))"
   ]
  },
  {
   "cell_type": "markdown",
   "metadata": {},
   "source": [
    "### Super-Pro 1"
   ]
  },
  {
   "cell_type": "markdown",
   "metadata": {},
   "source": [
    "Wenn wir mehr als eine Gruppe bilden, können wir die einzelnen Gruppen mit `group(1)`, `group(2)` etc. abrufen."
   ]
  },
  {
   "cell_type": "code",
   "execution_count": 49,
   "metadata": {
    "collapsed": true
   },
   "outputs": [],
   "source": [
    "match = re.search(r\"(\\w)(\\w+)(\\w)\", text) #Findet ein Wort, das mindestens 4 Buchstaben hat, fängt 3 Gruppen ein"
   ]
  },
  {
   "cell_type": "code",
   "execution_count": 50,
   "metadata": {},
   "outputs": [
    {
     "data": {
      "text/plain": [
       "'Nuss'"
      ]
     },
     "execution_count": 50,
     "metadata": {},
     "output_type": "execute_result"
    }
   ],
   "source": [
    "match.group() #Der ganze gematchte Inhalt"
   ]
  },
  {
   "cell_type": "code",
   "execution_count": 51,
   "metadata": {},
   "outputs": [
    {
     "data": {
      "text/plain": [
       "'N'"
      ]
     },
     "execution_count": 51,
     "metadata": {},
     "output_type": "execute_result"
    }
   ],
   "source": [
    "match.group(1) #Nur der Inhalt der ersten Unterruppe"
   ]
  },
  {
   "cell_type": "code",
   "execution_count": 52,
   "metadata": {},
   "outputs": [
    {
     "data": {
      "text/plain": [
       "'s'"
      ]
     },
     "execution_count": 52,
     "metadata": {},
     "output_type": "execute_result"
    }
   ],
   "source": [
    "match.group(3) #Nur der Inhalt der dritten Untergruppe"
   ]
  },
  {
   "cell_type": "code",
   "execution_count": 53,
   "metadata": {
    "collapsed": true
   },
   "outputs": [],
   "source": [
    "# Vertauschen Sie in sämtlichen Wörtern mit mindestens 3 Buchstaben den ersten und letzten Buchstaben\n",
    "# Achtung: Sie müssen eine separate (Lambda-)Funktion dafür schreiben\n",
    "def replace(match):\n",
    "    return match.group(3) + match.group(2) + match.group(1)"
   ]
  },
  {
   "cell_type": "code",
   "execution_count": 54,
   "metadata": {},
   "outputs": [
    {
     "name": "stdout",
     "output_type": "stream",
     "text": [
      "\n",
      "D'w. susN vo zümpliB teig rüd d'strasS\n",
      "tiechl u glüchtif, eiw sen saG\n",
      "so rnerreichbau höch\n",
      "\n",
      "iockstössigB eimbeerbuebH\n",
      "hchüücs u vrab eiw fchaS\n",
      "nchös töhnfrisierf\n",
      "ehömc gubetänzit höcn\n",
      "\n",
      "U d'eparglS eachsw i gluetjunb eorgM\n",
      "d'eunnS thunnc 's dirw mangsal marw\n",
      "\n",
      "eiS teh hem sla tunderh ghinc\n",
      "u eedj grüehliF tig 's es söin\n",
      "teh d'ehiuchefänschterougC ffo\n",
      "u tachm se euz bi medej susK\n",
      "u we eis tachel eärdw eärgB zu bchtous\n",
      "u sedej eäihz zäderhärL dirw heicw\n",
      "\n",
      "D'w. susN vo zümpliB\n",
      "hsci nchös niw es rüüF i dr tachN\n",
      "niw e eosR im echneS\n",
      "we se hseg susd in zümpliB\n",
      "de tchlas rim sim zärH terh i salH\n",
      "u i hseg niw i hngergau\n",
      "\n",
      "Si tohnw im ne suuH us slaG\n",
      "ringeh eürT ihno schlosS\n",
      "tsehg rüd iedj ruuM\n",
      "tänkd wi sen hüürwärcF\n",
      "niw e kuckerstocZ\n",
      "täbl niw e uasserfaW\n",
      "rüf si tig's tün, wo's din tig\n",
      "u sua wo's tig, tig's din rüf ging\n",
      "si timmn's wi's thunnc u tal's la hag\n",
      "\n",
      "D'w. susN vo zümpliB\n",
      "hsci nchös niw es rüüF i dr tachN\n",
      "niw e eosR im echneS\n",
      "we se hseg susd in zümpliB\n",
      "de tchlas rim sim zärH terh i salH\n",
      "u i hseg niw i hngergau\n",
      "\n"
     ]
    }
   ],
   "source": [
    "print(re.sub(r\"(\\w)(\\w+)(\\w)\", replace, text))"
   ]
  },
  {
   "cell_type": "markdown",
   "metadata": {},
   "source": [
    "### Super-Pro 2"
   ]
  },
  {
   "cell_type": "code",
   "execution_count": 55,
   "metadata": {},
   "outputs": [
    {
     "data": {
      "text/plain": [
       "Ellipsis"
      ]
     },
     "execution_count": 55,
     "metadata": {},
     "output_type": "execute_result"
    }
   ],
   "source": [
    "# Wirbeln Sie die Wörter, die auf einer Zeile stehen, durcheinander. (Die Zeilen-Reihenfolge bleibt aber intakt)\n",
    "# Bsp:\n",
    "# w dür D Bümpliz d Nuss Strass vo geit\n",
    "# flüchtig liecht u wie Gas nes\n",
    "..."
   ]
  },
  {
   "cell_type": "code",
   "execution_count": 56,
   "metadata": {},
   "outputs": [
    {
     "data": {
      "text/plain": [
       "['e', 'c', 'b', 'd', 'a']"
      ]
     },
     "execution_count": 56,
     "metadata": {},
     "output_type": "execute_result"
    }
   ],
   "source": [
    "#Tipp 1: Hier ist eine Shuffle-Funktion\n",
    "from random import shuffle\n",
    "my_list = [\"a\", \"b\", \"c\", \"d\", \"e\"]\n",
    "shuffle(my_list)\n",
    "my_list"
   ]
  },
  {
   "cell_type": "code",
   "execution_count": 57,
   "metadata": {},
   "outputs": [
    {
     "data": {
      "text/plain": [
       "['E', 'C', 'B', 'D', 'A']"
      ]
     },
     "execution_count": 57,
     "metadata": {},
     "output_type": "execute_result"
    }
   ],
   "source": [
    "# Tipp 2: List comprehension (massiv) benutzen\n",
    "[element.upper() for element in my_list]"
   ]
  },
  {
   "cell_type": "code",
   "execution_count": 58,
   "metadata": {},
   "outputs": [
    {
     "data": {
      "text/plain": [
       "'e c b d a'"
      ]
     },
     "execution_count": 58,
     "metadata": {},
     "output_type": "execute_result"
    }
   ],
   "source": [
    "# Tipp 3: .join() benutzen\n",
    "\" \".join(my_list)"
   ]
  },
  {
   "cell_type": "code",
   "execution_count": 59,
   "metadata": {},
   "outputs": [
    {
     "name": "stdout",
     "output_type": "stream",
     "text": [
      "\n",
      "w Nuss geit D d Bümpliz dür Strass vo\n",
      "u wie Gas liecht nes flüchtig\n",
      "höch so unerreichbar\n",
      "\n",
      "Bockstössigi Himbeerbuebe\n",
      "brav u wie schüüch Schaf\n",
      "föhnfrisiert schön\n",
      "tubetänzig nöch chöme\n",
      "\n",
      "Morge bluetjung U d wachse i Spargle\n",
      "langsam warm s Sunne d chunnt wird\n",
      "\n",
      "meh hundert het ching als Sie\n",
      "nöis git s jede es u Früehlig\n",
      "Chiuchefänschterouge d het off\n",
      "se zue Kuss jedem macht bi u\n",
      "u sie zu Bärge schtoub we wärde lachet\n",
      "weich zäihe Läderhärz wird jedes u\n",
      "\n",
      "D Bümpliz Nuss vo w\n",
      "isch schön es Nacht i Füür dr win\n",
      "Schnee im win e Rose\n",
      "gseh we Bümpliz duss in se\n",
      "Härz Hals mis i mir hert schlat de\n",
      "win i u gseh i ungergah\n",
      "\n",
      "ne Glas us Si wohnt Huus im\n",
      "Schloss ohni Türe hinger\n",
      "gseht Muur dür jedi\n",
      "Füürwärch wi dänkt nes\n",
      "Zuckerstock e win\n",
      "Wasserfau win e läbt\n",
      "git nid s si git s für nüt wo\n",
      "ging git nid u wo für s git s aus\n",
      "u chunnt lat s la s nimmt wi si s gah\n",
      "\n",
      "D Nuss Bümpliz w vo\n",
      "dr win es schön isch Füür i Nacht\n",
      "im e Schnee win Rose\n",
      "se gseh duss we in Bümpliz\n",
      "mir de Härz Hals schlat mis hert i\n",
      "ungergah win i i u gseh\n",
      "\n"
     ]
    }
   ],
   "source": [
    "#Braucht ca 3-5 Zeilen Code...\n",
    "lines = re.findall(r\"^.*$\", text, re.MULTILINE)\n",
    "word_lines = [re.findall(r\"\\b\\w+\\b\", line) for line in lines]\n",
    "[shuffle(word_line) for word_line in word_lines]\n",
    "lines = [\" \".join(word_line) for word_line in word_lines]\n",
    "print(\"\\n\".join(lines))"
   ]
  },
  {
   "cell_type": "code",
   "execution_count": null,
   "metadata": {
    "collapsed": true
   },
   "outputs": [],
   "source": []
  }
 ],
 "metadata": {
  "kernelspec": {
   "display_name": "Python 3",
   "language": "python",
   "name": "python3"
  },
  "language_info": {
   "codemirror_mode": {
    "name": "ipython",
    "version": 3
   },
   "file_extension": ".py",
   "mimetype": "text/x-python",
   "name": "python",
   "nbconvert_exporter": "python",
   "pygments_lexer": "ipython3",
   "version": "3.7.3"
  }
 },
 "nbformat": 4,
 "nbformat_minor": 2
}
