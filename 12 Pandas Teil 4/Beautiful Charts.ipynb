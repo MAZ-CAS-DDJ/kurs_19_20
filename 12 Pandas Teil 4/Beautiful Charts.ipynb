{
 "cells": [
  {
   "cell_type": "markdown",
   "metadata": {},
   "source": [
    "# Beautiful Charts"
   ]
  },
  {
   "cell_type": "markdown",
   "metadata": {},
   "source": [
    "**Inhalt:** Etwas Chart-Formatierung\n",
    "\n",
    "**Nötige Skills:** Erste Schritte mit Pandas\n",
    "\n",
    "**Lernziele:**\n",
    "- Basic Parameter in der Plot-Funktion kennenlernen\n",
    "- Charts formatieren mit weiteren Befehlen\n",
    "- Intro für Ready-Made Styles und Custom Styles\n",
    "- Charts exportieren\n",
    "\n",
    "\n",
    "**Weitere Ressourcen:**\n",
    "- Alle Ressourcen: siehe https://github.com/MAZ-CAS-DDJ/kurs_19_20/tree/master/08%20Pandas%20Teil%201/material\n",
    "- Simons Cheat Sheet: https://github.com/MAZ-CAS-DDJ/kurs_19_20/blob/master/08%20Pandas%20Teil%201/material/plotting.md"
   ]
  },
  {
   "cell_type": "markdown",
   "metadata": {},
   "source": [
    "## Charts in Pandas\n",
    "\n",
    "Eine Reihe von Basic Chart-Funktionalitäten haben wir bereits kennengelernt:\n",
    "- Line Plots\n",
    "- Bar Charts\n",
    "- Histogramme\n",
    "- etc.\n",
    "\n",
    "Wenn wir darüber hinausgehen wollen, kann es sehr schnell kompliziert werden. Es gibt zig verschiedene Arten, wie man auf die Funktionen zugreifen kann und Charts formatieren kann."
   ]
  },
  {
   "cell_type": "markdown",
   "metadata": {},
   "source": [
    "- Die Funktion, die wir bereits kennen, heisst `plot()`. Wir können sie ausgehend von einem Dataframe oder einer Serie verwenden. Hier die offizielle Referenz dazu: https://pandas.pydata.org/pandas-docs/stable/generated/pandas.DataFrame.plot.html\n",
    "\n",
    "- Im Hintergrund der `plot()`-Funktion steht die Matplotlib-Bibliothek:  https://matplotlib.org/index.html. Bei manchen Formatierungs-Optionen müssen wir Befehle direkt von dort verwenden."
   ]
  },
  {
   "cell_type": "markdown",
   "metadata": {},
   "source": [
    "## Setup"
   ]
  },
  {
   "cell_type": "markdown",
   "metadata": {},
   "source": [
    "Wir importieren dieses Mal diverse Libraries:\n",
    "\n",
    "- Pandas"
   ]
  },
  {
   "cell_type": "code",
   "execution_count": null,
   "metadata": {
    "collapsed": true
   },
   "outputs": [],
   "source": [
    "import pandas as pd"
   ]
  },
  {
   "cell_type": "markdown",
   "metadata": {},
   "source": [
    "- und Matplotlib, um auf einige Spezialfunktionen zugreifen zu können"
   ]
  },
  {
   "cell_type": "code",
   "execution_count": null,
   "metadata": {
    "collapsed": true
   },
   "outputs": [],
   "source": [
    "import matplotlib"
   ]
  },
  {
   "cell_type": "code",
   "execution_count": null,
   "metadata": {
    "collapsed": true
   },
   "outputs": [],
   "source": [
    "import matplotlib.pyplot as plt"
   ]
  },
  {
   "cell_type": "code",
   "execution_count": null,
   "metadata": {
    "collapsed": true
   },
   "outputs": [],
   "source": [
    "import matplotlib.patches as mpatches"
   ]
  },
  {
   "cell_type": "code",
   "execution_count": null,
   "metadata": {
    "collapsed": true
   },
   "outputs": [],
   "source": [
    "import matplotlib.image as mpimg"
   ]
  },
  {
   "cell_type": "code",
   "execution_count": null,
   "metadata": {
    "collapsed": true
   },
   "outputs": [],
   "source": [
    "import matplotlib.ticker as ticker"
   ]
  },
  {
   "cell_type": "markdown",
   "metadata": {},
   "source": [
    "Wie immer geben wir den Befehl, den Output der plot-Funktion direkt als Bild anzuzeigen"
   ]
  },
  {
   "cell_type": "code",
   "execution_count": null,
   "metadata": {
    "collapsed": true
   },
   "outputs": [],
   "source": [
    "%matplotlib inline"
   ]
  },
  {
   "cell_type": "markdown",
   "metadata": {},
   "source": [
    "## das Beispiel\n",
    "\n",
    "Eine Liste von Ländern mit ihrer Grösse, BIP pro Kopf und Lebenserwartung"
   ]
  },
  {
   "cell_type": "code",
   "execution_count": null,
   "metadata": {
    "collapsed": true
   },
   "outputs": [],
   "source": [
    "path = \"dataprojects/countries/countries.csv\""
   ]
  },
  {
   "cell_type": "code",
   "execution_count": null,
   "metadata": {
    "collapsed": true
   },
   "outputs": [],
   "source": [
    "df = pd.read_csv(path)"
   ]
  },
  {
   "cell_type": "code",
   "execution_count": null,
   "metadata": {},
   "outputs": [],
   "source": [
    "df.head(3)"
   ]
  },
  {
   "cell_type": "markdown",
   "metadata": {},
   "source": [
    "## Elemente eines Charts"
   ]
  },
  {
   "cell_type": "markdown",
   "metadata": {},
   "source": [
    "Ein Chart besteht aus überraschend vielen Elementen.\n",
    "\n",
    "Die meisten Programmiersprachen verwenden ähnliche Namen dafür.\n",
    "\n",
    "Hier die Bezeichnungen bei Pandas / Matplotlib:\n",
    "\n",
    "(Quelle: https://matplotlib.org/tutorials/introductory/usage.html#sphx-glr-tutorials-introductory-usage-py)"
   ]
  },
  {
   "cell_type": "code",
   "execution_count": null,
   "metadata": {
    "collapsed": true
   },
   "outputs": [],
   "source": [
    "from IPython.display import display, Image"
   ]
  },
  {
   "cell_type": "code",
   "execution_count": null,
   "metadata": {},
   "outputs": [],
   "source": [
    "img = Image(filename='BeautifulCharts/anatomy.png')\n",
    "display(img)"
   ]
  },
  {
   "cell_type": "markdown",
   "metadata": {},
   "source": [
    "## Ein simpler Scatterplot"
   ]
  },
  {
   "cell_type": "markdown",
   "metadata": {},
   "source": [
    "Das hier kennen wir bereits:"
   ]
  },
  {
   "cell_type": "code",
   "execution_count": null,
   "metadata": {},
   "outputs": [],
   "source": [
    "df.plot(kind='scatter', \n",
    "        x='gdp_per_capita', \n",
    "        y='life_expectancy',\n",
    "        figsize=(10,7))"
   ]
  },
  {
   "cell_type": "markdown",
   "metadata": {},
   "source": [
    "## Den Chart verschönern\n",
    "\n",
    "(oder verschlimmern, je nach dem, wie man es nimmt...)"
   ]
  },
  {
   "cell_type": "markdown",
   "metadata": {},
   "source": [
    "### Variante 1: nur plot()-Parameter"
   ]
  },
  {
   "cell_type": "markdown",
   "metadata": {},
   "source": [
    "In der Plot-Funktion selbst hat es bereits einige Parameter, mit denen wir etwas spielen können:"
   ]
  },
  {
   "cell_type": "code",
   "execution_count": null,
   "metadata": {},
   "outputs": [],
   "source": [
    "df.plot(kind='scatter', \n",
    "        x='gdp_per_capita', \n",
    "        y='life_expectancy', \n",
    "        alpha=0.5, #Transparenz der Füllfarbe\n",
    "        s=40, #Grösse der PUnkte\n",
    "        color='purple', #Farbe der Punkte\n",
    "        linewidth=2, #Dicke der Rahmenlinie\n",
    "        xlim=(-2000,52000), #Min und Max für die X-Achse\n",
    "        ylim=(38, 82), #Min und Max für die Y-Achse\n",
    "        xticks=[0,10000,20000,30000,40000,50000], #Die X-Ticks einzeln spezifizieren\n",
    "        yticks=[0,40,50,60,70,80], #Die Y-Ticks einzeln spezifizieren\n",
    "        figsize=(11,8), #Grösse der Abbildung\n",
    "        grid=True, #Gitternetzlinien ja/nein\n",
    "        fontsize=14, #Schriftrösse der Tick Labels\n",
    "        title='Ab einem BIP pro Kopf von 20000 steigt die Lebenserwartug nicht mehr')"
   ]
  },
  {
   "cell_type": "markdown",
   "metadata": {},
   "source": [
    "### Variante 2: plot()-Parameter und matplotlib-Funktionen"
   ]
  },
  {
   "cell_type": "markdown",
   "metadata": {},
   "source": [
    "Dazu gibt es noch zig weitere Einstellungen, die man im Nachhinein definieren oder verändern kann.\n",
    "\n",
    "Wir müssen dazu den Output der `plot()`-Funktion in einer eigenen Variable speichern. Typischerweise: `ax`"
   ]
  },
  {
   "cell_type": "code",
   "execution_count": null,
   "metadata": {},
   "outputs": [],
   "source": [
    "#Was man mit der Pandas-Funktion alles machen kann\n",
    "ax = df.plot(kind='scatter', \n",
    "        x='gdp_per_capita', \n",
    "        y='life_expectancy', \n",
    "        alpha=0.5,\n",
    "        s=40,\n",
    "        color='darkblue',\n",
    "        linewidth=2,\n",
    "        xlim=(-2000,62000),\n",
    "        ylim=(38, 82),\n",
    "        xticks=[0,20000,40000,60000],\n",
    "        yticks=[40,60,80],\n",
    "        figsize=(11,8),\n",
    "        grid=True,\n",
    "        fontsize=14)\n",
    "\n",
    "#Was man separat einstellen kann:\n",
    "\n",
    "# - Titel\n",
    "title_font = {'fontsize': 20, 'fontweight': 'bold', 'fontname': 'Comic Sans MS'}\n",
    "ax.set_title('Reiche Leute leben länger, aber nicht ewig', fontdict=title_font, loc='left')\n",
    "\n",
    "# - Achsenbeschriftungen\n",
    "label_font = {'fontsize': 14, 'fontweight': 'bold', 'fontname': 'Comic Sans MS'}\n",
    "ax.set_ylabel(\"Lebenserwartung\", fontdict=label_font)\n",
    "ax.set_xlabel(\"BIP pro Kopf\", fontdict=label_font)\n",
    "ax.yaxis.set_label_position('left')\n",
    "\n",
    "# - Ticks\n",
    "ax.xaxis.set_ticks_position('none')\n",
    "ax.yaxis.set_ticks_position('none')\n",
    "ax.xaxis.set_major_formatter(ticker.StrMethodFormatter('${x:,}'))\n",
    "\n",
    "# Gitternetz formatieren\n",
    "ax.grid(which='major', linestyle='-.', linewidth='0.5', color='black', )\n",
    "ax.minorticks_on()\n",
    "ax.grid(which='minor', linestyle='-.', linewidth='0.2', color='blue', )\n",
    "\n",
    "# - Rahmenlinien ausschalten\n",
    "ax.spines['right'].set_visible(False)\n",
    "ax.spines['left'].set_visible(False)\n",
    "ax.spines['top'].set_visible(False)\n",
    "ax.spines['bottom'].set_visible(False)\n",
    "\n",
    "\n",
    "# - Hintergrundfarbe\n",
    "ax.set_facecolor('#EEEEEE')"
   ]
  },
  {
   "cell_type": "markdown",
   "metadata": {},
   "source": [
    "### Variante 3: nur matplotlib-Funktion"
   ]
  },
  {
   "cell_type": "markdown",
   "metadata": {},
   "source": [
    "Manchmal erstellen wir einen Plot gar nicht via plot(), sondern über matplotlib. ZB bei Small Multiples.\n",
    "\n",
    "In dem Fall müssen wir praktisch alle Parameter via Matplotlib setzen, leider."
   ]
  },
  {
   "cell_type": "code",
   "execution_count": null,
   "metadata": {},
   "outputs": [],
   "source": [
    "# Zuerst ein Figure- und ein Ax-Objekt erstellen\n",
    "fig, ax = plt.subplots()\n",
    "\n",
    "# Dann aus dem Ax-Objekt heraus einen Plot erstellen.\n",
    "# Die scatter()-Funktion ist ähnlich, aber nicht identisch wie plot(kind='scatter')\n",
    "ax.scatter(x=df['gdp_per_capita'], y=df['life_expectancy'],\n",
    "        alpha=0.5,\n",
    "        s=40,\n",
    "        color='darkgreen',\n",
    "        linewidth=2)\n",
    "\n",
    "# Eine ganze Reihe von Chart-Formatierungsparametern konnten wir hier nicht ansprechen\n",
    "# Wir müssen sie extra nochmals neu setzen\n",
    "\n",
    "# - Die Grösse der Abbildung\n",
    "fig.set_size_inches(11, 8) #NEU\n",
    "\n",
    "# - Den Titel\n",
    "ax.set_title('Reiche Leute leben länger, aber nicht ewig', fontsize=20, fontname='Impact', loc='left')\n",
    "\n",
    "# - Die Achsen\n",
    "ax.set_xlim([0, 50000]) #NEU\n",
    "ax.set_ylim([40, 80]) #NEU\n",
    "ax.set_ylabel(\"Lebenserwartung\", fontsize=14, fontname='Impact', fontweight='bold')\n",
    "ax.set_xlabel(\"BIP pro Kopf\", fontsize=14, fontname='Impact', fontweight='bold')\n",
    "\n",
    "# - Die Ticks\n",
    "ax.xaxis.set_ticks([0, 10000, 20000, 30000, 40000, 50000]) #NEU\n",
    "ax.yaxis.set_ticks([40, 50, 60, 70, 80]) #NEU\n",
    "ax.xaxis.set_ticks_position('none')\n",
    "ax.yaxis.set_ticks_position('none')\n",
    "ax.xaxis.set_major_formatter(ticker.StrMethodFormatter('${x:,}'))\n",
    "\n",
    "# - Das Gitter\n",
    "ax.grid(which='major', linestyle='-.', linewidth='0.5', color='grey', )\n",
    "\n",
    "# - Etc. etc: Alles, was wir in Variante 2 verwendet haben, können wir auch hier verwenden."
   ]
  },
  {
   "cell_type": "markdown",
   "metadata": {},
   "source": [
    "Klingt kompliziert...? **Ja, ist es!** Darum: Mit den Formatierungen am besten erst ganz am Schluss herumspielen, wenn es wirklich darum geht, einen Chart irgendwo zu präsentieren. Für schnelles Abchecken und Austesten von Charts lohnt sich das einfach nicht."
   ]
  },
  {
   "cell_type": "markdown",
   "metadata": {},
   "source": [
    "Eine andere Variante, wie wir etwas rascher mit Styles spielen können, finden wir noch weiter unten.\n",
    "\n",
    "Zuerst aber noch was anderes."
   ]
  },
  {
   "cell_type": "markdown",
   "metadata": {},
   "source": [
    "## Legende und Farben\n",
    "\n",
    "Wie vorgehen, wenn wir die einzelnen Punkte entsprechend einer Kategorie einfärben wollen, zB nach dem Kontinent? Hier eine Lösung."
   ]
  },
  {
   "cell_type": "markdown",
   "metadata": {},
   "source": [
    "### Für die Farben"
   ]
  },
  {
   "cell_type": "code",
   "execution_count": null,
   "metadata": {},
   "outputs": [],
   "source": [
    "df['continent'].unique()"
   ]
  },
  {
   "cell_type": "code",
   "execution_count": null,
   "metadata": {
    "collapsed": true
   },
   "outputs": [],
   "source": [
    "colors = {\n",
    "    'Asia': 'green',\n",
    "    'Europe': 'blue',\n",
    "    'Africa': 'brown',\n",
    "    'N. America': 'yellow',\n",
    "    'S. America': 'red',\n",
    "    'Oceania': 'purple'\n",
    "}"
   ]
  },
  {
   "cell_type": "code",
   "execution_count": null,
   "metadata": {
    "collapsed": true
   },
   "outputs": [],
   "source": [
    "colorlist = df['continent'].apply(lambda continent: colors[continent])"
   ]
  },
  {
   "cell_type": "markdown",
   "metadata": {},
   "source": [
    "### Für die Legende"
   ]
  },
  {
   "cell_type": "code",
   "execution_count": null,
   "metadata": {
    "collapsed": true
   },
   "outputs": [],
   "source": [
    "patches = []\n",
    "for continent, color in colors.items():\n",
    "    this_patch = mpatches.Patch(color=color, label=continent, alpha=0.5)\n",
    "    patches.append(this_patch)"
   ]
  },
  {
   "cell_type": "markdown",
   "metadata": {},
   "source": [
    "### Für die Punktegrösse"
   ]
  },
  {
   "cell_type": "code",
   "execution_count": null,
   "metadata": {
    "collapsed": true
   },
   "outputs": [],
   "source": [
    "area = df['population'] / 400000"
   ]
  },
  {
   "cell_type": "markdown",
   "metadata": {},
   "source": [
    "### Plotten"
   ]
  },
  {
   "cell_type": "code",
   "execution_count": null,
   "metadata": {},
   "outputs": [],
   "source": [
    "#Was man mit der Pandas-Funktion alles machen kann\n",
    "ax = df.plot(kind='scatter', \n",
    "        x='gdp_per_capita', \n",
    "        y='life_expectancy', \n",
    "        alpha=0.5,\n",
    "        s=area,\n",
    "        color=colorlist,\n",
    "        linewidth=2,\n",
    "        xlim=(-2000,52000),\n",
    "        ylim=(38, 82),\n",
    "        xticks=[0,10000,20000,30000,40000,50000],\n",
    "        yticks=[0,40,50,60,70,80],\n",
    "        figsize=(11,8),\n",
    "        grid=True,\n",
    "        fontsize=14)\n",
    "\n",
    "#Was man separat einstellen kann: - Titel\n",
    "ax.set_title('Reiche Länder werden irgendwann nicht mehr älter', fontsize=16, fontweight='bold')\n",
    "\n",
    "# - Achsenbeschriftungen\n",
    "ax.set_ylabel(\"Lebenserwartung\", fontsize=14, fontweight='bold')\n",
    "ax.set_xlabel(\"BIP pro Kopf\", fontsize=14, fontweight='bold')\n",
    "\n",
    "# - Ticks ausschalten\n",
    "ax.xaxis.set_ticks_position('none')\n",
    "ax.yaxis.set_ticks_position('none')\n",
    "\n",
    "# - Legende (this is really an ugly way to do this)\n",
    "ax.legend(handles=patches, frameon=False, fontsize=14)"
   ]
  },
  {
   "cell_type": "markdown",
   "metadata": {},
   "source": [
    "Hans Rosling would be so proud!! https://www.ted.com/playlists/474/the_best_hans_rosling_talks_yo"
   ]
  },
  {
   "cell_type": "markdown",
   "metadata": {},
   "source": [
    "### Wichtig\n",
    "\n",
    "Nochmals: Eine genaue und vollständige Liste der Parameter zu kriegen, ist so gut wie unmöglich (tell me if you find one!).\n",
    "\n",
    "Daher, und nicht nur daher, lohnt es sich im allgemeinen nicht, allzu viel Zeit für die Formatierung von Charts aufzuwenden. Besser: Daten oder pdf evportieren und anderswo weiterbearbeiten.\n",
    "\n",
    "Eine andere Option ist, mit einem prädefinierten Stil zu arbeiten"
   ]
  },
  {
   "cell_type": "markdown",
   "metadata": {},
   "source": [
    "## Exportieren"
   ]
  },
  {
   "cell_type": "markdown",
   "metadata": {},
   "source": [
    "Wir können einzelne Plots als Dateien exportieren. Dazu 1x diese Einstellung ausführen:"
   ]
  },
  {
   "cell_type": "code",
   "execution_count": null,
   "metadata": {
    "collapsed": true
   },
   "outputs": [],
   "source": [
    "matplotlib.rcParams['pdf.fonttype'] = 42 #important for the fonts"
   ]
  },
  {
   "cell_type": "markdown",
   "metadata": {},
   "source": [
    "Und dann exportieren.\n",
    "- als pdf"
   ]
  },
  {
   "cell_type": "code",
   "execution_count": null,
   "metadata": {},
   "outputs": [],
   "source": [
    "df.plot(kind='scatter', \n",
    "        x='gdp_per_capita', \n",
    "        y='life_expectancy',\n",
    "        title='Lebenserwartung und Wohlstand')\n",
    "plt.savefig(\"BeautifulCharts/Lebenserwartung-Wohlstand.pdf\")"
   ]
  },
  {
   "cell_type": "markdown",
   "metadata": {},
   "source": [
    "- als svg-Vektorgrafik"
   ]
  },
  {
   "cell_type": "code",
   "execution_count": null,
   "metadata": {},
   "outputs": [],
   "source": [
    "df.plot(kind='scatter', \n",
    "        x='gdp_per_capita', \n",
    "        y='life_expectancy',\n",
    "        title='Lebenserwartung und Wohlstand')\n",
    "plt.savefig(\"BeautifulCharts/Lebenserwartung-Wohlstand.svg\")"
   ]
  },
  {
   "cell_type": "markdown",
   "metadata": {},
   "source": [
    "## Prädefinierte Stile"
   ]
  },
  {
   "cell_type": "markdown",
   "metadata": {},
   "source": [
    "Diese Stile sind ziemlich praktisch. Man kann sich eine Liste davon anzeigen lassen:"
   ]
  },
  {
   "cell_type": "code",
   "execution_count": null,
   "metadata": {},
   "outputs": [],
   "source": [
    "print(plt.style.available)"
   ]
  },
  {
   "cell_type": "markdown",
   "metadata": {},
   "source": [
    "Um einen bestimmten Stil zu verwenden:"
   ]
  },
  {
   "cell_type": "code",
   "execution_count": null,
   "metadata": {
    "collapsed": true
   },
   "outputs": [],
   "source": [
    "plt.style.use('seaborn')"
   ]
  },
  {
   "cell_type": "markdown",
   "metadata": {},
   "source": [
    "Umgesetzt sieht das dann so aus:"
   ]
  },
  {
   "cell_type": "code",
   "execution_count": null,
   "metadata": {},
   "outputs": [],
   "source": [
    "df.plot(kind='scatter', \n",
    "        x='gdp_per_capita', \n",
    "        y='life_expectancy',\n",
    "        title='Lebenserwartung und Wohlstand')"
   ]
  },
  {
   "cell_type": "markdown",
   "metadata": {},
   "source": [
    "Der neue Style bleibt so lange gespeichert, bis wir ihn wieder zurücksetzen."
   ]
  },
  {
   "cell_type": "code",
   "execution_count": null,
   "metadata": {
    "collapsed": true
   },
   "outputs": [],
   "source": [
    "plt.style.use('default')"
   ]
  },
  {
   "cell_type": "markdown",
   "metadata": {},
   "source": [
    "## Custom Style Sheets"
   ]
  },
  {
   "cell_type": "markdown",
   "metadata": {},
   "source": [
    "Wer es mit den Matplotlib wirklich wissen will, kann sich auch sein eigenes Stylesheet erstellen."
   ]
  },
  {
   "cell_type": "markdown",
   "metadata": {},
   "source": [
    "Schritt1: Erstelle eine Datei mit diesem Namen (oder irgendeinem anderen Namen):\n",
    "\n",
    "`my_style.mplstyle`\n",
    "\n",
    "In die Datei, schreibe die eigenen Default-Werte für bestimmte Stil-Elemente rein:\n",
    "\n",
    "`axes.titlesize : 20\n",
    "axes.labelsize : 16\n",
    "lines.linewidth : 3\n",
    "lines.markersize : 10\n",
    "xtick.labelsize : 14\n",
    "ytick.labelsize : 14\n",
    "axes.grid : True\n",
    "grid.color : red`\n",
    "\n",
    "etc.\n",
    "\n",
    "Die Dokumentation über alle möglichen Parameter gibt es hier: https://matplotlib.org/tutorials/introductory/customizing.html#sphx-glr-tutorials-introductory-customizing-py"
   ]
  },
  {
   "cell_type": "markdown",
   "metadata": {},
   "source": [
    "Style laden:"
   ]
  },
  {
   "cell_type": "code",
   "execution_count": null,
   "metadata": {
    "collapsed": true
   },
   "outputs": [],
   "source": [
    "plt.style.use('BeautifulCharts/my_style.mplstyle')"
   ]
  },
  {
   "cell_type": "markdown",
   "metadata": {},
   "source": [
    "Test:"
   ]
  },
  {
   "cell_type": "code",
   "execution_count": null,
   "metadata": {},
   "outputs": [],
   "source": [
    "df.plot(kind='scatter', \n",
    "        x='gdp_per_capita', \n",
    "        y='life_expectancy',\n",
    "        title='Lebenserwartung und Wohlstand')"
   ]
  },
  {
   "cell_type": "code",
   "execution_count": null,
   "metadata": {
    "collapsed": true
   },
   "outputs": [],
   "source": []
  },
  {
   "cell_type": "code",
   "execution_count": null,
   "metadata": {
    "collapsed": true
   },
   "outputs": [],
   "source": []
  }
 ],
 "metadata": {
  "kernelspec": {
   "display_name": "Python 3",
   "language": "python",
   "name": "python3"
  },
  "language_info": {
   "codemirror_mode": {
    "name": "ipython",
    "version": 3
   },
   "file_extension": ".py",
   "mimetype": "text/x-python",
   "name": "python",
   "nbconvert_exporter": "python",
   "pygments_lexer": "ipython3",
   "version": "3.7.3"
  }
 },
 "nbformat": 4,
 "nbformat_minor": 2
}
