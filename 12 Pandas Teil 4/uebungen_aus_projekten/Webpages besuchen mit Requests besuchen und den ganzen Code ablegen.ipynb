{
 "cells": [
  {
   "cell_type": "code",
   "execution_count": 5,
   "metadata": {},
   "outputs": [],
   "source": [
    "import requests\n",
    "from bs4 import BeautifulSoup"
   ]
  },
  {
   "cell_type": "markdown",
   "metadata": {},
   "source": [
    "## HTML text auslesen"
   ]
  },
  {
   "cell_type": "code",
   "execution_count": 6,
   "metadata": {},
   "outputs": [],
   "source": [
    "r = requests.get(\"https://www.zahnarztvergleich.ch/zahnarzt.php?p=20&geschlecht=0\")\n",
    "r = r.text"
   ]
  },
  {
   "cell_type": "markdown",
   "metadata": {},
   "source": [
    "## HTML Text auslesen und gleich abspeicher"
   ]
  },
  {
   "cell_type": "code",
   "execution_count": 7,
   "metadata": {},
   "outputs": [],
   "source": [
    "url = \"https://www.zahnarztvergleich.ch/zahnarzt.php?p=20&geschlecht=0\"\n",
    "res = requests.get(url)\n",
    "page_content = res.text\n",
    "with open(\"test.html\", \"w\") as file:\n",
    "    file.write(r)\n",
    "    file.close()"
   ]
  },
  {
   "cell_type": "markdown",
   "metadata": {},
   "source": [
    "## 4 verschiedene pages besuchen, und individuelle Files abspeichern"
   ]
  },
  {
   "cell_type": "code",
   "execution_count": 10,
   "metadata": {},
   "outputs": [],
   "source": [
    "#Zuerst die URLs bauen, wie wir besuchen\n",
    "lst = [\"20\", \"30\", \"40\", \"50\"]\n",
    "urllst = []\n",
    "for number in lst:\n",
    "    url = \"https://www.zahnarztvergleich.ch/zahnarzt.php?p=\"+ number + \"&geschlecht=0\"\n",
    "    urllst.append(url)"
   ]
  },
  {
   "cell_type": "code",
   "execution_count": 14,
   "metadata": {},
   "outputs": [],
   "source": [
    "#Und jetzt den For Loop bauen, um alle URLs zu besuchen und die Inhalte rauszulesen.\n",
    "number = 0\n",
    "for page in urllst:\n",
    "    page_content = requests.get(page)\n",
    "    page_content = page_content.text\n",
    "    with open(str(number)+\".html\", \"w\") as file:\n",
    "        file.write(page_content)\n",
    "        file.close()\n",
    "    number +=1\n"
   ]
  }
 ],
 "metadata": {
  "kernelspec": {
   "display_name": "Python 3",
   "language": "python",
   "name": "python3"
  },
  "language_info": {
   "codemirror_mode": {
    "name": "ipython",
    "version": 3
   },
   "file_extension": ".py",
   "mimetype": "text/x-python",
   "name": "python",
   "nbconvert_exporter": "python",
   "pygments_lexer": "ipython3",
   "version": "3.7.3"
  }
 },
 "nbformat": 4,
 "nbformat_minor": 2
}
