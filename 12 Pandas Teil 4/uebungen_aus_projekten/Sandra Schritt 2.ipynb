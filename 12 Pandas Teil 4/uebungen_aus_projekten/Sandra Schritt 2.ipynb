{
 "cells": [
  {
   "cell_type": "code",
   "execution_count": 1,
   "metadata": {},
   "outputs": [],
   "source": [
    "import camelot\n",
    "import tabula\n",
    "import pandas as pd"
   ]
  },
  {
   "cell_type": "markdown",
   "metadata": {},
   "source": [
    "## Herauslesen der Einwohnerzahlen BE Gem 2018"
   ]
  },
  {
   "cell_type": "code",
   "execution_count": 6,
   "metadata": {},
   "outputs": [
    {
     "data": {
      "text/plain": [
       "<TableList n=1>"
      ]
     },
     "execution_count": 6,
     "metadata": {},
     "output_type": "execute_result"
    }
   ],
   "source": [
    "#Nun suche ich irgendwo nach Einwohnerzahlen der Berner Gemeinden\n",
    "#ich finde bei der JGK die Einwohnerzahlen per Ende 2018\n",
    "\n",
    "einwohnerzahlen = camelot.read_pdf('https://www.jgk.be.ch/jgk/de/index/gemeinden/gemeinden/gemeindedaten.assetref/dam/documents/JGK/AGR/de/Gemeinden/Gemeindedaten/agr_gemeinden_gemeindedaten_einwohnerzahlen_de.pdf', flavor='stream', pages = \"1\") \n",
    "einwohnerzahlen"
   ]
  },
  {
   "cell_type": "code",
   "execution_count": 7,
   "metadata": {},
   "outputs": [],
   "source": [
    "#Tabelle zurecht schneiden\n",
    "einwohnerzahlen = einwohnerzahlen[0].df[4:]"
   ]
  },
  {
   "cell_type": "code",
   "execution_count": 8,
   "metadata": {},
   "outputs": [],
   "source": [
    "#Header richtig benennen\n",
    "headerliste=[\"Gemeinde\", \"Adresse\", \"PLZ\", \"Ort\", \"Bev\"] \n",
    "einwohnerzahlen.columns = headerliste"
   ]
  },
  {
   "cell_type": "markdown",
   "metadata": {},
   "source": [
    "## Mergen mit BE_VERLETZTEN.ch"
   ]
  },
  {
   "cell_type": "code",
   "execution_count": 9,
   "metadata": {},
   "outputs": [
    {
     "data": {
      "text/plain": [
       "'Aarberg'"
      ]
     },
     "execution_count": 9,
     "metadata": {},
     "output_type": "execute_result"
    }
   ],
   "source": [
    "#Um die beiden Tabellen zu mergen, muss die Gemeindespalte der Einwohner-Tabelle bearbeitet werden.\n",
    "#In jeder Zelle müssen die ersten vier Stellen abgeschnitten werden.\n",
    "def cutstring(string):\n",
    "    string = string[4:]\n",
    "    return string\n",
    "var = \"301 Aarberg\"\n",
    "cutstring(var)"
   ]
  },
  {
   "cell_type": "code",
   "execution_count": 10,
   "metadata": {},
   "outputs": [
    {
     "name": "stderr",
     "output_type": "stream",
     "text": [
      "/Users/barneyjs/.virtualenvs/cam/lib/python3.7/site-packages/ipykernel_launcher.py:1: SettingWithCopyWarning: \n",
      "A value is trying to be set on a copy of a slice from a DataFrame.\n",
      "Try using .loc[row_indexer,col_indexer] = value instead\n",
      "\n",
      "See the caveats in the documentation: http://pandas.pydata.org/pandas-docs/stable/indexing.html#indexing-view-versus-copy\n",
      "  \"\"\"Entry point for launching an IPython kernel.\n"
     ]
    }
   ],
   "source": [
    "einwohnerzahlen['Gemeinde'] = einwohnerzahlen['Gemeinde'].apply(cutstring)"
   ]
  },
  {
   "cell_type": "code",
   "execution_count": 11,
   "metadata": {},
   "outputs": [],
   "source": [
    "#Import der Verletztenzahlen\n",
    "ff = pd.read_csv('BE_VERLETZTE.csv')"
   ]
  },
  {
   "cell_type": "code",
   "execution_count": 12,
   "metadata": {},
   "outputs": [],
   "source": [
    "#Merge\n",
    "finalesdf = ff.merge(einwohnerzahlen, left_on='Gemeinde', right_on='Gemeinde')"
   ]
  },
  {
   "cell_type": "code",
   "execution_count": null,
   "metadata": {},
   "outputs": [],
   "source": []
  }
 ],
 "metadata": {
  "kernelspec": {
   "display_name": "Python 3",
   "language": "python",
   "name": "python3"
  },
  "language_info": {
   "codemirror_mode": {
    "name": "ipython",
    "version": 3
   },
   "file_extension": ".py",
   "mimetype": "text/x-python",
   "name": "python",
   "nbconvert_exporter": "python",
   "pygments_lexer": "ipython3",
   "version": "3.7.3"
  }
 },
 "nbformat": 4,
 "nbformat_minor": 2
}
