{
 "cells": [
  {
   "cell_type": "markdown",
   "metadata": {},
   "source": [
    "# GRUPPE 1\n",
    "1. Alle italienische Restaurant scrapen und als .csv bei Slack teilen. \n",
    "2. In welchen der 20 grössten Schweizer Städte, gibt (laut Google Maps) die meisten teueren italienischen Restaurants? "
   ]
  },
  {
   "cell_type": "code",
   "execution_count": null,
   "metadata": {
    "collapsed": true
   },
   "outputs": [],
   "source": []
  },
  {
   "cell_type": "markdown",
   "metadata": {},
   "source": [
    "# GRUPPE 2\n",
    "1. Alle indischen Restaurants scrapen und als .csv bei Slack teilen.\n",
    "2. In welcher nach Bevölkerung Top 20 Stadt gibt es die besten indischen Restaurants? "
   ]
  },
  {
   "cell_type": "code",
   "execution_count": null,
   "metadata": {
    "collapsed": true
   },
   "outputs": [],
   "source": []
  },
  {
   "cell_type": "markdown",
   "metadata": {},
   "source": [
    "# GRUPPE 3\n",
    "1. Alle französischen Restaurants scrapen und als .csv bei Slack teilen.\n",
    "2. Wo gibt es die besten französischen Restaurants?"
   ]
  },
  {
   "cell_type": "code",
   "execution_count": null,
   "metadata": {
    "collapsed": true
   },
   "outputs": [],
   "source": []
  },
  {
   "cell_type": "markdown",
   "metadata": {},
   "source": [
    "# GRUPPE 4\n",
    "1. Alle vietnamesichen Restaurants scrapen und als .csv bei Slack teilen.\n",
    "2. Wo gibt es pro Kopf die meisten vietnamesischen Restaurants?"
   ]
  },
  {
   "cell_type": "code",
   "execution_count": null,
   "metadata": {
    "collapsed": true
   },
   "outputs": [],
   "source": []
  },
  {
   "cell_type": "markdown",
   "metadata": {},
   "source": [
    "# GRUPPE 5\n",
    "1. Alle Fonduestüblis scrapen und als .csv bei Slack teilen.\n",
    "2. Wo gibt es die Fonduestüblis mit der besten Athmosphäre?"
   ]
  },
  {
   "cell_type": "code",
   "execution_count": null,
   "metadata": {
    "collapsed": true
   },
   "outputs": [],
   "source": []
  }
 ],
 "metadata": {
  "kernelspec": {
   "display_name": "Python 3",
   "language": "python",
   "name": "python3"
  },
  "language_info": {
   "codemirror_mode": {
    "name": "ipython",
    "version": 3
   },
   "file_extension": ".py",
   "mimetype": "text/x-python",
   "name": "python",
   "nbconvert_exporter": "python",
   "pygments_lexer": "ipython3",
   "version": "3.5.1"
  }
 },
 "nbformat": 4,
 "nbformat_minor": 2
}
