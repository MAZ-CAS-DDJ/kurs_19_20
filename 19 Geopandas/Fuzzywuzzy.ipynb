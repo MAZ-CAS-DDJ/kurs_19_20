{
 "cells": [
  {
   "cell_type": "markdown",
   "metadata": {},
   "source": [
    "# Fuzzywuzzy"
   ]
  },
  {
   "cell_type": "markdown",
   "metadata": {},
   "source": [
    "**Inhalt:** Wie ähnlich sind zwei Strings? II\n",
    "\n",
    "**Nötige Skills:** keine\n",
    "\n",
    "**Lernziele:** Eine andere Möglichkeit für fuzzy string matching kennenlernen"
   ]
  },
  {
   "cell_type": "markdown",
   "metadata": {},
   "source": [
    "## About"
   ]
  },
  {
   "cell_type": "markdown",
   "metadata": {},
   "source": [
    "Fuzzywuzzy\n",
    "- Package https://github.com/seatgeek/fuzzywuzzy\n",
    "- Dokumentation: fast nicht vorhanden\n",
    "\n",
    "Installation:\n",
    "\n",
    "```bash\n",
    "pip3 install fuzzywuzzy[speedup]\n",
    "```\n"
   ]
  },
  {
   "cell_type": "markdown",
   "metadata": {},
   "source": [
    "## Setup"
   ]
  },
  {
   "cell_type": "code",
   "execution_count": 1,
   "metadata": {
    "collapsed": true
   },
   "outputs": [],
   "source": [
    "import pandas as pd"
   ]
  },
  {
   "cell_type": "code",
   "execution_count": 2,
   "metadata": {
    "collapsed": true
   },
   "outputs": [],
   "source": [
    "from fuzzywuzzy import fuzz\n",
    "from fuzzywuzzy import process"
   ]
  },
  {
   "cell_type": "markdown",
   "metadata": {},
   "source": [
    "## Basics"
   ]
  },
  {
   "cell_type": "markdown",
   "metadata": {},
   "source": [
    "Die Fuzzywuzzy-Funktionen spucken eine Zahl zwischen 0 und 100 aus, welche die Ähnlichkeit angibt."
   ]
  },
  {
   "cell_type": "code",
   "execution_count": 3,
   "metadata": {},
   "outputs": [
    {
     "data": {
      "text/plain": [
       "0"
      ]
     },
     "execution_count": 3,
     "metadata": {},
     "output_type": "execute_result"
    }
   ],
   "source": [
    "fuzz.ratio(\"a\", \"b\")"
   ]
  },
  {
   "cell_type": "code",
   "execution_count": 4,
   "metadata": {},
   "outputs": [
    {
     "data": {
      "text/plain": [
       "100"
      ]
     },
     "execution_count": 4,
     "metadata": {},
     "output_type": "execute_result"
    }
   ],
   "source": [
    "fuzz.ratio(\"a\", \"a\")"
   ]
  },
  {
   "cell_type": "markdown",
   "metadata": {},
   "source": [
    "## Scorer-Funktionen"
   ]
  },
  {
   "cell_type": "markdown",
   "metadata": {},
   "source": [
    "### ratio\n",
    "\n",
    "Jedes einzelne Zeichen ist wichtig, auch die Reihenfolge."
   ]
  },
  {
   "cell_type": "code",
   "execution_count": 5,
   "metadata": {},
   "outputs": [
    {
     "data": {
      "text/plain": [
       "100"
      ]
     },
     "execution_count": 5,
     "metadata": {},
     "output_type": "execute_result"
    }
   ],
   "source": [
    "fuzz.ratio(\"Peter Pan\", \"Peter Pan\")"
   ]
  },
  {
   "cell_type": "code",
   "execution_count": 6,
   "metadata": {},
   "outputs": [
    {
     "data": {
      "text/plain": [
       "82"
      ]
     },
     "execution_count": 6,
     "metadata": {},
     "output_type": "execute_result"
    }
   ],
   "source": [
    "fuzz.ratio(\"Peter Pan\", \"Dr. Peter Pan\")"
   ]
  },
  {
   "cell_type": "markdown",
   "metadata": {},
   "source": [
    "### partial_ratio\n",
    "\n",
    "Partielle Übereinstimmung der Strings ist ok. Allerdings muss die Reihenfolge der Zeichen stimmen:"
   ]
  },
  {
   "cell_type": "code",
   "execution_count": 7,
   "metadata": {},
   "outputs": [
    {
     "data": {
      "text/plain": [
       "100"
      ]
     },
     "execution_count": 7,
     "metadata": {},
     "output_type": "execute_result"
    }
   ],
   "source": [
    "fuzz.partial_ratio(\"Peter Pan\", \"Dr. Peter Pan\")"
   ]
  },
  {
   "cell_type": "code",
   "execution_count": 8,
   "metadata": {},
   "outputs": [
    {
     "data": {
      "text/plain": [
       "67"
      ]
     },
     "execution_count": 8,
     "metadata": {},
     "output_type": "execute_result"
    }
   ],
   "source": [
    "fuzz.partial_ratio(\"Peter Pan\", \"Peter V. Pan\")"
   ]
  },
  {
   "cell_type": "code",
   "execution_count": 9,
   "metadata": {},
   "outputs": [
    {
     "data": {
      "text/plain": [
       "56"
      ]
     },
     "execution_count": 9,
     "metadata": {},
     "output_type": "execute_result"
    }
   ],
   "source": [
    "fuzz.partial_ratio(\"Peter Pan\", \"Pan, Peter\")"
   ]
  },
  {
   "cell_type": "markdown",
   "metadata": {},
   "source": [
    "### token_sort_ratio\n",
    "\n",
    "Sortiert die Wörter zuerst. Gibt aber Abzüge für partielle Matches:"
   ]
  },
  {
   "cell_type": "code",
   "execution_count": 10,
   "metadata": {},
   "outputs": [
    {
     "data": {
      "text/plain": [
       "100"
      ]
     },
     "execution_count": 10,
     "metadata": {},
     "output_type": "execute_result"
    }
   ],
   "source": [
    "fuzz.token_sort_ratio(\"Peter Pan\", \"Pan, Peter\")"
   ]
  },
  {
   "cell_type": "code",
   "execution_count": 11,
   "metadata": {},
   "outputs": [
    {
     "data": {
      "text/plain": [
       "90"
      ]
     },
     "execution_count": 11,
     "metadata": {},
     "output_type": "execute_result"
    }
   ],
   "source": [
    "fuzz.token_sort_ratio(\"Peter Pan\", \"Peter V. Pan\")"
   ]
  },
  {
   "cell_type": "markdown",
   "metadata": {},
   "source": [
    "### token_set_ratio\n",
    "\n",
    "Kommt klar mit vertauschter Reihenfolge und partiellen Matches:"
   ]
  },
  {
   "cell_type": "code",
   "execution_count": 12,
   "metadata": {},
   "outputs": [
    {
     "data": {
      "text/plain": [
       "100"
      ]
     },
     "execution_count": 12,
     "metadata": {},
     "output_type": "execute_result"
    }
   ],
   "source": [
    "fuzz.token_set_ratio(\"Peter Pan\", \"Peter V. Pan\")"
   ]
  },
  {
   "cell_type": "code",
   "execution_count": 13,
   "metadata": {
    "scrolled": true
   },
   "outputs": [
    {
     "data": {
      "text/plain": [
       "100"
      ]
     },
     "execution_count": 13,
     "metadata": {},
     "output_type": "execute_result"
    }
   ],
   "source": [
    "fuzz.token_set_ratio(\"Peter Pan\", \"Pan, Peter Dr.\")"
   ]
  },
  {
   "cell_type": "markdown",
   "metadata": {},
   "source": [
    "Abzüge gibt es für falsche Zeichen innerhalb der Wörter:"
   ]
  },
  {
   "cell_type": "code",
   "execution_count": 14,
   "metadata": {},
   "outputs": [
    {
     "data": {
      "text/plain": [
       "82"
      ]
     },
     "execution_count": 14,
     "metadata": {},
     "output_type": "execute_result"
    }
   ],
   "source": [
    "fuzz.token_set_ratio(\"Peter Pan\", \"Pann, Peter Dr.\")"
   ]
  },
  {
   "cell_type": "markdown",
   "metadata": {},
   "source": [
    "Der Score geht recht rapide runter. Zum Vergleich:"
   ]
  },
  {
   "cell_type": "code",
   "execution_count": 15,
   "metadata": {},
   "outputs": [
    {
     "data": {
      "text/plain": [
       "59"
      ]
     },
     "execution_count": 15,
     "metadata": {},
     "output_type": "execute_result"
    }
   ],
   "source": [
    "fuzz.token_set_ratio(\"Peter Pan\", \"Paul Pan\")"
   ]
  },
  {
   "cell_type": "markdown",
   "metadata": {},
   "source": [
    "## Beispiel in Pandas\n",
    "\n",
    "Wir wollen die Daten in einer Tabelle \"putzen\". Das heisst: die verschiedenen Schreibweisen von Begriffen vereinheitlichen (z.B. \"Pan, Peter\" - \"Peter Pan\")"
   ]
  },
  {
   "cell_type": "code",
   "execution_count": 16,
   "metadata": {
    "collapsed": true
   },
   "outputs": [],
   "source": [
    "df = pd.read_csv('dataprojects/Jellyfish/Words.csv')"
   ]
  },
  {
   "cell_type": "code",
   "execution_count": 17,
   "metadata": {},
   "outputs": [
    {
     "data": {
      "text/html": [
       "<div>\n",
       "<style scoped>\n",
       "    .dataframe tbody tr th:only-of-type {\n",
       "        vertical-align: middle;\n",
       "    }\n",
       "\n",
       "    .dataframe tbody tr th {\n",
       "        vertical-align: top;\n",
       "    }\n",
       "\n",
       "    .dataframe thead th {\n",
       "        text-align: right;\n",
       "    }\n",
       "</style>\n",
       "<table border=\"1\" class=\"dataframe\">\n",
       "  <thead>\n",
       "    <tr style=\"text-align: right;\">\n",
       "      <th></th>\n",
       "      <th>Wort 1</th>\n",
       "      <th>Wort 2</th>\n",
       "    </tr>\n",
       "  </thead>\n",
       "  <tbody>\n",
       "    <tr>\n",
       "      <th>0</th>\n",
       "      <td>Tisch</td>\n",
       "      <td>Tische</td>\n",
       "    </tr>\n",
       "    <tr>\n",
       "      <th>1</th>\n",
       "      <td>Tisch</td>\n",
       "      <td>Fisch</td>\n",
       "    </tr>\n",
       "    <tr>\n",
       "      <th>2</th>\n",
       "      <td>Tisch</td>\n",
       "      <td>Dorf</td>\n",
       "    </tr>\n",
       "    <tr>\n",
       "      <th>3</th>\n",
       "      <td>Peter Müller</td>\n",
       "      <td>Peter Mueller</td>\n",
       "    </tr>\n",
       "    <tr>\n",
       "      <th>4</th>\n",
       "      <td>Peter Müller</td>\n",
       "      <td>Pete Müller</td>\n",
       "    </tr>\n",
       "    <tr>\n",
       "      <th>5</th>\n",
       "      <td>Peter Müller</td>\n",
       "      <td>Pete Miller</td>\n",
       "    </tr>\n",
       "    <tr>\n",
       "      <th>6</th>\n",
       "      <td>Peter Pan</td>\n",
       "      <td>Peter Pan</td>\n",
       "    </tr>\n",
       "    <tr>\n",
       "      <th>7</th>\n",
       "      <td>Peter Pan</td>\n",
       "      <td>Peter V. Pan</td>\n",
       "    </tr>\n",
       "    <tr>\n",
       "      <th>8</th>\n",
       "      <td>Peter Pan</td>\n",
       "      <td>P. Pan</td>\n",
       "    </tr>\n",
       "    <tr>\n",
       "      <th>9</th>\n",
       "      <td>Peter Pan</td>\n",
       "      <td>Pan, Peter</td>\n",
       "    </tr>\n",
       "    <tr>\n",
       "      <th>10</th>\n",
       "      <td>Peter Pan</td>\n",
       "      <td>Dr. Peter Pan</td>\n",
       "    </tr>\n",
       "    <tr>\n",
       "      <th>11</th>\n",
       "      <td>Novartis</td>\n",
       "      <td>Novartis AG</td>\n",
       "    </tr>\n",
       "    <tr>\n",
       "      <th>12</th>\n",
       "      <td>Novartis</td>\n",
       "      <td>Novartis Schweiz</td>\n",
       "    </tr>\n",
       "    <tr>\n",
       "      <th>13</th>\n",
       "      <td>Novartis</td>\n",
       "      <td>Novartis Health AG</td>\n",
       "    </tr>\n",
       "  </tbody>\n",
       "</table>\n",
       "</div>"
      ],
      "text/plain": [
       "          Wort 1              Wort 2\n",
       "0          Tisch              Tische\n",
       "1          Tisch               Fisch\n",
       "2          Tisch                Dorf\n",
       "3   Peter Müller       Peter Mueller\n",
       "4   Peter Müller         Pete Müller\n",
       "5   Peter Müller         Pete Miller\n",
       "6      Peter Pan           Peter Pan\n",
       "7      Peter Pan        Peter V. Pan\n",
       "8      Peter Pan              P. Pan\n",
       "9      Peter Pan          Pan, Peter\n",
       "10     Peter Pan       Dr. Peter Pan\n",
       "11      Novartis         Novartis AG\n",
       "12      Novartis    Novartis Schweiz\n",
       "13      Novartis  Novartis Health AG"
      ]
     },
     "execution_count": 17,
     "metadata": {},
     "output_type": "execute_result"
    }
   ],
   "source": [
    "df"
   ]
  },
  {
   "cell_type": "markdown",
   "metadata": {},
   "source": [
    "### Score testen\n",
    "\n",
    "Wir können mit `df.apply()` ähnlich wie vorher den Score eines Vergleichs testen und in einer neuen Spalte festhalten,"
   ]
  },
  {
   "cell_type": "code",
   "execution_count": 18,
   "metadata": {
    "collapsed": true
   },
   "outputs": [],
   "source": [
    "df['token_set_ratio'] = df.apply(lambda row: fuzz.token_set_ratio(row['Wort 1'], row['Wort 2']) ,axis=1)"
   ]
  },
  {
   "cell_type": "code",
   "execution_count": 19,
   "metadata": {},
   "outputs": [
    {
     "data": {
      "text/html": [
       "<div>\n",
       "<style scoped>\n",
       "    .dataframe tbody tr th:only-of-type {\n",
       "        vertical-align: middle;\n",
       "    }\n",
       "\n",
       "    .dataframe tbody tr th {\n",
       "        vertical-align: top;\n",
       "    }\n",
       "\n",
       "    .dataframe thead th {\n",
       "        text-align: right;\n",
       "    }\n",
       "</style>\n",
       "<table border=\"1\" class=\"dataframe\">\n",
       "  <thead>\n",
       "    <tr style=\"text-align: right;\">\n",
       "      <th></th>\n",
       "      <th>Wort 1</th>\n",
       "      <th>Wort 2</th>\n",
       "      <th>token_set_ratio</th>\n",
       "    </tr>\n",
       "  </thead>\n",
       "  <tbody>\n",
       "    <tr>\n",
       "      <th>0</th>\n",
       "      <td>Tisch</td>\n",
       "      <td>Tische</td>\n",
       "      <td>91</td>\n",
       "    </tr>\n",
       "    <tr>\n",
       "      <th>1</th>\n",
       "      <td>Tisch</td>\n",
       "      <td>Fisch</td>\n",
       "      <td>80</td>\n",
       "    </tr>\n",
       "    <tr>\n",
       "      <th>2</th>\n",
       "      <td>Tisch</td>\n",
       "      <td>Dorf</td>\n",
       "      <td>0</td>\n",
       "    </tr>\n",
       "    <tr>\n",
       "      <th>3</th>\n",
       "      <td>Peter Müller</td>\n",
       "      <td>Peter Mueller</td>\n",
       "      <td>92</td>\n",
       "    </tr>\n",
       "    <tr>\n",
       "      <th>4</th>\n",
       "      <td>Peter Müller</td>\n",
       "      <td>Pete Müller</td>\n",
       "      <td>95</td>\n",
       "    </tr>\n",
       "    <tr>\n",
       "      <th>5</th>\n",
       "      <td>Peter Müller</td>\n",
       "      <td>Pete Miller</td>\n",
       "      <td>91</td>\n",
       "    </tr>\n",
       "    <tr>\n",
       "      <th>6</th>\n",
       "      <td>Peter Pan</td>\n",
       "      <td>Peter Pan</td>\n",
       "      <td>100</td>\n",
       "    </tr>\n",
       "    <tr>\n",
       "      <th>7</th>\n",
       "      <td>Peter Pan</td>\n",
       "      <td>Peter V. Pan</td>\n",
       "      <td>100</td>\n",
       "    </tr>\n",
       "    <tr>\n",
       "      <th>8</th>\n",
       "      <td>Peter Pan</td>\n",
       "      <td>P. Pan</td>\n",
       "      <td>75</td>\n",
       "    </tr>\n",
       "    <tr>\n",
       "      <th>9</th>\n",
       "      <td>Peter Pan</td>\n",
       "      <td>Pan, Peter</td>\n",
       "      <td>100</td>\n",
       "    </tr>\n",
       "    <tr>\n",
       "      <th>10</th>\n",
       "      <td>Peter Pan</td>\n",
       "      <td>Dr. Peter Pan</td>\n",
       "      <td>100</td>\n",
       "    </tr>\n",
       "    <tr>\n",
       "      <th>11</th>\n",
       "      <td>Novartis</td>\n",
       "      <td>Novartis AG</td>\n",
       "      <td>100</td>\n",
       "    </tr>\n",
       "    <tr>\n",
       "      <th>12</th>\n",
       "      <td>Novartis</td>\n",
       "      <td>Novartis Schweiz</td>\n",
       "      <td>100</td>\n",
       "    </tr>\n",
       "    <tr>\n",
       "      <th>13</th>\n",
       "      <td>Novartis</td>\n",
       "      <td>Novartis Health AG</td>\n",
       "      <td>100</td>\n",
       "    </tr>\n",
       "  </tbody>\n",
       "</table>\n",
       "</div>"
      ],
      "text/plain": [
       "          Wort 1              Wort 2  token_set_ratio\n",
       "0          Tisch              Tische               91\n",
       "1          Tisch               Fisch               80\n",
       "2          Tisch                Dorf                0\n",
       "3   Peter Müller       Peter Mueller               92\n",
       "4   Peter Müller         Pete Müller               95\n",
       "5   Peter Müller         Pete Miller               91\n",
       "6      Peter Pan           Peter Pan              100\n",
       "7      Peter Pan        Peter V. Pan              100\n",
       "8      Peter Pan              P. Pan               75\n",
       "9      Peter Pan          Pan, Peter              100\n",
       "10     Peter Pan       Dr. Peter Pan              100\n",
       "11      Novartis         Novartis AG              100\n",
       "12      Novartis    Novartis Schweiz              100\n",
       "13      Novartis  Novartis Health AG              100"
      ]
     },
     "execution_count": 19,
     "metadata": {},
     "output_type": "execute_result"
    }
   ],
   "source": [
    "df"
   ]
  },
  {
   "cell_type": "code",
   "execution_count": 20,
   "metadata": {
    "collapsed": true
   },
   "outputs": [],
   "source": [
    "df['match'] = df['token_set_ratio'] > 80"
   ]
  },
  {
   "cell_type": "code",
   "execution_count": 21,
   "metadata": {},
   "outputs": [
    {
     "data": {
      "text/html": [
       "<div>\n",
       "<style scoped>\n",
       "    .dataframe tbody tr th:only-of-type {\n",
       "        vertical-align: middle;\n",
       "    }\n",
       "\n",
       "    .dataframe tbody tr th {\n",
       "        vertical-align: top;\n",
       "    }\n",
       "\n",
       "    .dataframe thead th {\n",
       "        text-align: right;\n",
       "    }\n",
       "</style>\n",
       "<table border=\"1\" class=\"dataframe\">\n",
       "  <thead>\n",
       "    <tr style=\"text-align: right;\">\n",
       "      <th></th>\n",
       "      <th>Wort 1</th>\n",
       "      <th>Wort 2</th>\n",
       "      <th>token_set_ratio</th>\n",
       "      <th>match</th>\n",
       "    </tr>\n",
       "  </thead>\n",
       "  <tbody>\n",
       "    <tr>\n",
       "      <th>0</th>\n",
       "      <td>Tisch</td>\n",
       "      <td>Tische</td>\n",
       "      <td>91</td>\n",
       "      <td>True</td>\n",
       "    </tr>\n",
       "    <tr>\n",
       "      <th>1</th>\n",
       "      <td>Tisch</td>\n",
       "      <td>Fisch</td>\n",
       "      <td>80</td>\n",
       "      <td>False</td>\n",
       "    </tr>\n",
       "    <tr>\n",
       "      <th>2</th>\n",
       "      <td>Tisch</td>\n",
       "      <td>Dorf</td>\n",
       "      <td>0</td>\n",
       "      <td>False</td>\n",
       "    </tr>\n",
       "    <tr>\n",
       "      <th>3</th>\n",
       "      <td>Peter Müller</td>\n",
       "      <td>Peter Mueller</td>\n",
       "      <td>92</td>\n",
       "      <td>True</td>\n",
       "    </tr>\n",
       "    <tr>\n",
       "      <th>4</th>\n",
       "      <td>Peter Müller</td>\n",
       "      <td>Pete Müller</td>\n",
       "      <td>95</td>\n",
       "      <td>True</td>\n",
       "    </tr>\n",
       "    <tr>\n",
       "      <th>5</th>\n",
       "      <td>Peter Müller</td>\n",
       "      <td>Pete Miller</td>\n",
       "      <td>91</td>\n",
       "      <td>True</td>\n",
       "    </tr>\n",
       "    <tr>\n",
       "      <th>6</th>\n",
       "      <td>Peter Pan</td>\n",
       "      <td>Peter Pan</td>\n",
       "      <td>100</td>\n",
       "      <td>True</td>\n",
       "    </tr>\n",
       "    <tr>\n",
       "      <th>7</th>\n",
       "      <td>Peter Pan</td>\n",
       "      <td>Peter V. Pan</td>\n",
       "      <td>100</td>\n",
       "      <td>True</td>\n",
       "    </tr>\n",
       "    <tr>\n",
       "      <th>8</th>\n",
       "      <td>Peter Pan</td>\n",
       "      <td>P. Pan</td>\n",
       "      <td>75</td>\n",
       "      <td>False</td>\n",
       "    </tr>\n",
       "    <tr>\n",
       "      <th>9</th>\n",
       "      <td>Peter Pan</td>\n",
       "      <td>Pan, Peter</td>\n",
       "      <td>100</td>\n",
       "      <td>True</td>\n",
       "    </tr>\n",
       "    <tr>\n",
       "      <th>10</th>\n",
       "      <td>Peter Pan</td>\n",
       "      <td>Dr. Peter Pan</td>\n",
       "      <td>100</td>\n",
       "      <td>True</td>\n",
       "    </tr>\n",
       "    <tr>\n",
       "      <th>11</th>\n",
       "      <td>Novartis</td>\n",
       "      <td>Novartis AG</td>\n",
       "      <td>100</td>\n",
       "      <td>True</td>\n",
       "    </tr>\n",
       "    <tr>\n",
       "      <th>12</th>\n",
       "      <td>Novartis</td>\n",
       "      <td>Novartis Schweiz</td>\n",
       "      <td>100</td>\n",
       "      <td>True</td>\n",
       "    </tr>\n",
       "    <tr>\n",
       "      <th>13</th>\n",
       "      <td>Novartis</td>\n",
       "      <td>Novartis Health AG</td>\n",
       "      <td>100</td>\n",
       "      <td>True</td>\n",
       "    </tr>\n",
       "  </tbody>\n",
       "</table>\n",
       "</div>"
      ],
      "text/plain": [
       "          Wort 1              Wort 2  token_set_ratio  match\n",
       "0          Tisch              Tische               91   True\n",
       "1          Tisch               Fisch               80  False\n",
       "2          Tisch                Dorf                0  False\n",
       "3   Peter Müller       Peter Mueller               92   True\n",
       "4   Peter Müller         Pete Müller               95   True\n",
       "5   Peter Müller         Pete Miller               91   True\n",
       "6      Peter Pan           Peter Pan              100   True\n",
       "7      Peter Pan        Peter V. Pan              100   True\n",
       "8      Peter Pan              P. Pan               75  False\n",
       "9      Peter Pan          Pan, Peter              100   True\n",
       "10     Peter Pan       Dr. Peter Pan              100   True\n",
       "11      Novartis         Novartis AG              100   True\n",
       "12      Novartis    Novartis Schweiz              100   True\n",
       "13      Novartis  Novartis Health AG              100   True"
      ]
     },
     "execution_count": 21,
     "metadata": {},
     "output_type": "execute_result"
    }
   ],
   "source": [
    "df"
   ]
  },
  {
   "cell_type": "markdown",
   "metadata": {},
   "source": [
    "**Frage:** Wie steht es hier um die false positives / false negatives?"
   ]
  },
  {
   "cell_type": "code",
   "execution_count": 22,
   "metadata": {
    "collapsed": true
   },
   "outputs": [],
   "source": [
    "# false positives:\n",
    "# "
   ]
  },
  {
   "cell_type": "code",
   "execution_count": 23,
   "metadata": {
    "collapsed": true
   },
   "outputs": [],
   "source": [
    "# false negatives:\n",
    "# "
   ]
  },
  {
   "cell_type": "markdown",
   "metadata": {},
   "source": [
    "### Wörter ersetzen\n",
    "\n",
    "Was uns aber eigentlich interessiert: die neue Liste.\n",
    "\n",
    "**a) Alle Varianten eines Begriffs ersetzen**\n",
    "\n",
    "Die Funktion `process()` ist dafür hilfreich\n",
    "\n",
    "Sortiert eine Liste/Dictionary entsprechend dem besten Match...\n",
    "- Welchen String wollen wir vergleichen? \"Peter Pan\"\n",
    "- Welche Liste wollen wir durchsuchen? \"Wort 2\"\n",
    "- Welchen Scorer wollen wir verwenden? token_set_ratio\n",
    "- Wie viele Ergebnisse sollen angezeigt werden? 20\n",
    "\n",
    "...und retourniert die Liste mit dem Matching-Score:"
   ]
  },
  {
   "cell_type": "code",
   "execution_count": 24,
   "metadata": {
    "collapsed": true
   },
   "outputs": [],
   "source": [
    "match_list = process.extract(\"Peter Pan\", df['Wort 2'], scorer=fuzz.token_set_ratio, limit=20)"
   ]
  },
  {
   "cell_type": "markdown",
   "metadata": {},
   "source": [
    "Wir vergleichen also jede einzelne Zeile in der Tabelle mit dem String \"Peter Pan\":"
   ]
  },
  {
   "cell_type": "code",
   "execution_count": 25,
   "metadata": {},
   "outputs": [
    {
     "data": {
      "text/plain": [
       "[('Peter Pan', 100, 6),\n",
       " ('Peter V. Pan', 100, 7),\n",
       " ('Pan, Peter', 100, 9),\n",
       " ('Dr. Peter Pan', 100, 10),\n",
       " ('P. Pan', 75, 8),\n",
       " ('Peter Mueller', 71, 3),\n",
       " ('Pete Müller', 53, 4),\n",
       " ('Pete Miller', 50, 5),\n",
       " ('Novartis Health AG', 37, 13),\n",
       " ('Novartis AG', 30, 11),\n",
       " ('Tische', 27, 0),\n",
       " ('Novartis Schweiz', 24, 12),\n",
       " ('Dorf', 15, 2),\n",
       " ('Fisch', 0, 1)]"
      ]
     },
     "execution_count": 25,
     "metadata": {},
     "output_type": "execute_result"
    }
   ],
   "source": [
    "match_list"
   ]
  },
  {
   "cell_type": "markdown",
   "metadata": {},
   "source": [
    "Für unsere Auswahl brauchen wir aber einen bestimmten \"Cut-Off-Punkt\".\n",
    "\n",
    "Zum Beispiel können wir sagen, dass wir nur die Schreibweisen ersetzen wollen, die einen Score über 80 erzielen...\n",
    "\n",
    "... wir speichern diese Varianten in einer Liste."
   ]
  },
  {
   "cell_type": "code",
   "execution_count": 26,
   "metadata": {},
   "outputs": [
    {
     "data": {
      "text/plain": [
       "['Peter Pan', 'Peter V. Pan', 'Pan, Peter', 'Dr. Peter Pan']"
      ]
     },
     "execution_count": 26,
     "metadata": {},
     "output_type": "execute_result"
    }
   ],
   "source": [
    "variationen = [match[0] for match in match_list if match[1] >= 80]\n",
    "variationen"
   ]
  },
  {
   "cell_type": "markdown",
   "metadata": {},
   "source": [
    "Anhand dieser Liste können wir nun selektiv die Schreibweise in einzelnen Zeilen ändern."
   ]
  },
  {
   "cell_type": "code",
   "execution_count": 27,
   "metadata": {
    "collapsed": true
   },
   "outputs": [],
   "source": [
    "df.loc[df['Wort 2'].isin(variationen), 'New Wort 2'] = \"Peter Pan\""
   ]
  },
  {
   "cell_type": "code",
   "execution_count": 28,
   "metadata": {},
   "outputs": [
    {
     "data": {
      "text/html": [
       "<div>\n",
       "<style scoped>\n",
       "    .dataframe tbody tr th:only-of-type {\n",
       "        vertical-align: middle;\n",
       "    }\n",
       "\n",
       "    .dataframe tbody tr th {\n",
       "        vertical-align: top;\n",
       "    }\n",
       "\n",
       "    .dataframe thead th {\n",
       "        text-align: right;\n",
       "    }\n",
       "</style>\n",
       "<table border=\"1\" class=\"dataframe\">\n",
       "  <thead>\n",
       "    <tr style=\"text-align: right;\">\n",
       "      <th></th>\n",
       "      <th>Wort 1</th>\n",
       "      <th>Wort 2</th>\n",
       "      <th>token_set_ratio</th>\n",
       "      <th>match</th>\n",
       "      <th>New Wort 2</th>\n",
       "    </tr>\n",
       "  </thead>\n",
       "  <tbody>\n",
       "    <tr>\n",
       "      <th>0</th>\n",
       "      <td>Tisch</td>\n",
       "      <td>Tische</td>\n",
       "      <td>91</td>\n",
       "      <td>True</td>\n",
       "      <td>NaN</td>\n",
       "    </tr>\n",
       "    <tr>\n",
       "      <th>1</th>\n",
       "      <td>Tisch</td>\n",
       "      <td>Fisch</td>\n",
       "      <td>80</td>\n",
       "      <td>False</td>\n",
       "      <td>NaN</td>\n",
       "    </tr>\n",
       "    <tr>\n",
       "      <th>2</th>\n",
       "      <td>Tisch</td>\n",
       "      <td>Dorf</td>\n",
       "      <td>0</td>\n",
       "      <td>False</td>\n",
       "      <td>NaN</td>\n",
       "    </tr>\n",
       "    <tr>\n",
       "      <th>3</th>\n",
       "      <td>Peter Müller</td>\n",
       "      <td>Peter Mueller</td>\n",
       "      <td>92</td>\n",
       "      <td>True</td>\n",
       "      <td>NaN</td>\n",
       "    </tr>\n",
       "    <tr>\n",
       "      <th>4</th>\n",
       "      <td>Peter Müller</td>\n",
       "      <td>Pete Müller</td>\n",
       "      <td>95</td>\n",
       "      <td>True</td>\n",
       "      <td>NaN</td>\n",
       "    </tr>\n",
       "    <tr>\n",
       "      <th>5</th>\n",
       "      <td>Peter Müller</td>\n",
       "      <td>Pete Miller</td>\n",
       "      <td>91</td>\n",
       "      <td>True</td>\n",
       "      <td>NaN</td>\n",
       "    </tr>\n",
       "    <tr>\n",
       "      <th>6</th>\n",
       "      <td>Peter Pan</td>\n",
       "      <td>Peter Pan</td>\n",
       "      <td>100</td>\n",
       "      <td>True</td>\n",
       "      <td>Peter Pan</td>\n",
       "    </tr>\n",
       "    <tr>\n",
       "      <th>7</th>\n",
       "      <td>Peter Pan</td>\n",
       "      <td>Peter V. Pan</td>\n",
       "      <td>100</td>\n",
       "      <td>True</td>\n",
       "      <td>Peter Pan</td>\n",
       "    </tr>\n",
       "    <tr>\n",
       "      <th>8</th>\n",
       "      <td>Peter Pan</td>\n",
       "      <td>P. Pan</td>\n",
       "      <td>75</td>\n",
       "      <td>False</td>\n",
       "      <td>NaN</td>\n",
       "    </tr>\n",
       "    <tr>\n",
       "      <th>9</th>\n",
       "      <td>Peter Pan</td>\n",
       "      <td>Pan, Peter</td>\n",
       "      <td>100</td>\n",
       "      <td>True</td>\n",
       "      <td>Peter Pan</td>\n",
       "    </tr>\n",
       "    <tr>\n",
       "      <th>10</th>\n",
       "      <td>Peter Pan</td>\n",
       "      <td>Dr. Peter Pan</td>\n",
       "      <td>100</td>\n",
       "      <td>True</td>\n",
       "      <td>Peter Pan</td>\n",
       "    </tr>\n",
       "    <tr>\n",
       "      <th>11</th>\n",
       "      <td>Novartis</td>\n",
       "      <td>Novartis AG</td>\n",
       "      <td>100</td>\n",
       "      <td>True</td>\n",
       "      <td>NaN</td>\n",
       "    </tr>\n",
       "    <tr>\n",
       "      <th>12</th>\n",
       "      <td>Novartis</td>\n",
       "      <td>Novartis Schweiz</td>\n",
       "      <td>100</td>\n",
       "      <td>True</td>\n",
       "      <td>NaN</td>\n",
       "    </tr>\n",
       "    <tr>\n",
       "      <th>13</th>\n",
       "      <td>Novartis</td>\n",
       "      <td>Novartis Health AG</td>\n",
       "      <td>100</td>\n",
       "      <td>True</td>\n",
       "      <td>NaN</td>\n",
       "    </tr>\n",
       "  </tbody>\n",
       "</table>\n",
       "</div>"
      ],
      "text/plain": [
       "          Wort 1              Wort 2  token_set_ratio  match New Wort 2\n",
       "0          Tisch              Tische               91   True        NaN\n",
       "1          Tisch               Fisch               80  False        NaN\n",
       "2          Tisch                Dorf                0  False        NaN\n",
       "3   Peter Müller       Peter Mueller               92   True        NaN\n",
       "4   Peter Müller         Pete Müller               95   True        NaN\n",
       "5   Peter Müller         Pete Miller               91   True        NaN\n",
       "6      Peter Pan           Peter Pan              100   True  Peter Pan\n",
       "7      Peter Pan        Peter V. Pan              100   True  Peter Pan\n",
       "8      Peter Pan              P. Pan               75  False        NaN\n",
       "9      Peter Pan          Pan, Peter              100   True  Peter Pan\n",
       "10     Peter Pan       Dr. Peter Pan              100   True  Peter Pan\n",
       "11      Novartis         Novartis AG              100   True        NaN\n",
       "12      Novartis    Novartis Schweiz              100   True        NaN\n",
       "13      Novartis  Novartis Health AG              100   True        NaN"
      ]
     },
     "execution_count": 28,
     "metadata": {},
     "output_type": "execute_result"
    }
   ],
   "source": [
    "df"
   ]
  },
  {
   "cell_type": "markdown",
   "metadata": {},
   "source": [
    "**b) Ersetzen anhand einer bekannten Liste von richtigen Begriffen**\n",
    "\n",
    "Vorausgesetzt, wir kennen die Liste der tatsächlichen Begriffe, können wir auch gleich alle auf einmal handhaben:"
   ]
  },
  {
   "cell_type": "code",
   "execution_count": 29,
   "metadata": {
    "collapsed": true
   },
   "outputs": [],
   "source": [
    "correct_terms = [\n",
    "    'Tisch',\n",
    "    'Peter Müller',\n",
    "    'Peter Pan',\n",
    "    'Novartis'\n",
    "]"
   ]
  },
  {
   "cell_type": "markdown",
   "metadata": {},
   "source": [
    "Die Funktion `process.extractOne()` funktioniert wie `process.extract()`, aber gibt nur den besten Match zurück:"
   ]
  },
  {
   "cell_type": "code",
   "execution_count": 30,
   "metadata": {},
   "outputs": [
    {
     "data": {
      "text/plain": [
       "('Novartis', 33)"
      ]
     },
     "execution_count": 30,
     "metadata": {},
     "output_type": "execute_result"
    }
   ],
   "source": [
    "process.extractOne(\"Dorf\", correct_terms, scorer=fuzz.token_set_ratio)"
   ]
  },
  {
   "cell_type": "markdown",
   "metadata": {},
   "source": [
    "Wir können uns eine \"Tester\"-Funktion basteln:\n",
    "- Findet den besten Match aus der liste der korrekten Strings\n",
    "- Falls kein Match gut genug ist, wird das Wort nicht ersetzt\n",
    "- Falls der Match gut genug ist, wir das Wort ersetzt"
   ]
  },
  {
   "cell_type": "code",
   "execution_count": 31,
   "metadata": {
    "collapsed": true
   },
   "outputs": [],
   "source": [
    "def best_match(word):\n",
    "    match = process.extractOne(word, correct_terms, scorer=fuzz.token_set_ratio)\n",
    "    if match[1] < 80:\n",
    "        best_match = word\n",
    "    else:\n",
    "        best_match = match[0]\n",
    "    return best_match"
   ]
  },
  {
   "cell_type": "markdown",
   "metadata": {},
   "source": [
    "Angewendet auf die Tabelle sieht das dann so aus:"
   ]
  },
  {
   "cell_type": "code",
   "execution_count": 32,
   "metadata": {},
   "outputs": [
    {
     "data": {
      "text/plain": [
       "0            Tisch\n",
       "1            Tisch\n",
       "2             Dorf\n",
       "3     Peter Müller\n",
       "4     Peter Müller\n",
       "5     Peter Müller\n",
       "6        Peter Pan\n",
       "7        Peter Pan\n",
       "8           P. Pan\n",
       "9        Peter Pan\n",
       "10       Peter Pan\n",
       "11        Novartis\n",
       "12        Novartis\n",
       "13        Novartis\n",
       "Name: Wort 2, dtype: object"
      ]
     },
     "execution_count": 32,
     "metadata": {},
     "output_type": "execute_result"
    }
   ],
   "source": [
    "df['Wort 2'].apply(best_match)"
   ]
  },
  {
   "cell_type": "markdown",
   "metadata": {},
   "source": [
    "Speichern in einer neuen Spalte:"
   ]
  },
  {
   "cell_type": "code",
   "execution_count": 33,
   "metadata": {},
   "outputs": [
    {
     "data": {
      "text/html": [
       "<div>\n",
       "<style scoped>\n",
       "    .dataframe tbody tr th:only-of-type {\n",
       "        vertical-align: middle;\n",
       "    }\n",
       "\n",
       "    .dataframe tbody tr th {\n",
       "        vertical-align: top;\n",
       "    }\n",
       "\n",
       "    .dataframe thead th {\n",
       "        text-align: right;\n",
       "    }\n",
       "</style>\n",
       "<table border=\"1\" class=\"dataframe\">\n",
       "  <thead>\n",
       "    <tr style=\"text-align: right;\">\n",
       "      <th></th>\n",
       "      <th>Wort 1</th>\n",
       "      <th>Wort 2</th>\n",
       "      <th>token_set_ratio</th>\n",
       "      <th>match</th>\n",
       "      <th>New Wort 2</th>\n",
       "    </tr>\n",
       "  </thead>\n",
       "  <tbody>\n",
       "    <tr>\n",
       "      <th>0</th>\n",
       "      <td>Tisch</td>\n",
       "      <td>Tische</td>\n",
       "      <td>91</td>\n",
       "      <td>True</td>\n",
       "      <td>Tisch</td>\n",
       "    </tr>\n",
       "    <tr>\n",
       "      <th>1</th>\n",
       "      <td>Tisch</td>\n",
       "      <td>Fisch</td>\n",
       "      <td>80</td>\n",
       "      <td>False</td>\n",
       "      <td>Tisch</td>\n",
       "    </tr>\n",
       "    <tr>\n",
       "      <th>2</th>\n",
       "      <td>Tisch</td>\n",
       "      <td>Dorf</td>\n",
       "      <td>0</td>\n",
       "      <td>False</td>\n",
       "      <td>Dorf</td>\n",
       "    </tr>\n",
       "    <tr>\n",
       "      <th>3</th>\n",
       "      <td>Peter Müller</td>\n",
       "      <td>Peter Mueller</td>\n",
       "      <td>92</td>\n",
       "      <td>True</td>\n",
       "      <td>Peter Müller</td>\n",
       "    </tr>\n",
       "    <tr>\n",
       "      <th>4</th>\n",
       "      <td>Peter Müller</td>\n",
       "      <td>Pete Müller</td>\n",
       "      <td>95</td>\n",
       "      <td>True</td>\n",
       "      <td>Peter Müller</td>\n",
       "    </tr>\n",
       "    <tr>\n",
       "      <th>5</th>\n",
       "      <td>Peter Müller</td>\n",
       "      <td>Pete Miller</td>\n",
       "      <td>91</td>\n",
       "      <td>True</td>\n",
       "      <td>Peter Müller</td>\n",
       "    </tr>\n",
       "    <tr>\n",
       "      <th>6</th>\n",
       "      <td>Peter Pan</td>\n",
       "      <td>Peter Pan</td>\n",
       "      <td>100</td>\n",
       "      <td>True</td>\n",
       "      <td>Peter Pan</td>\n",
       "    </tr>\n",
       "    <tr>\n",
       "      <th>7</th>\n",
       "      <td>Peter Pan</td>\n",
       "      <td>Peter V. Pan</td>\n",
       "      <td>100</td>\n",
       "      <td>True</td>\n",
       "      <td>Peter Pan</td>\n",
       "    </tr>\n",
       "    <tr>\n",
       "      <th>8</th>\n",
       "      <td>Peter Pan</td>\n",
       "      <td>P. Pan</td>\n",
       "      <td>75</td>\n",
       "      <td>False</td>\n",
       "      <td>P. Pan</td>\n",
       "    </tr>\n",
       "    <tr>\n",
       "      <th>9</th>\n",
       "      <td>Peter Pan</td>\n",
       "      <td>Pan, Peter</td>\n",
       "      <td>100</td>\n",
       "      <td>True</td>\n",
       "      <td>Peter Pan</td>\n",
       "    </tr>\n",
       "    <tr>\n",
       "      <th>10</th>\n",
       "      <td>Peter Pan</td>\n",
       "      <td>Dr. Peter Pan</td>\n",
       "      <td>100</td>\n",
       "      <td>True</td>\n",
       "      <td>Peter Pan</td>\n",
       "    </tr>\n",
       "    <tr>\n",
       "      <th>11</th>\n",
       "      <td>Novartis</td>\n",
       "      <td>Novartis AG</td>\n",
       "      <td>100</td>\n",
       "      <td>True</td>\n",
       "      <td>Novartis</td>\n",
       "    </tr>\n",
       "    <tr>\n",
       "      <th>12</th>\n",
       "      <td>Novartis</td>\n",
       "      <td>Novartis Schweiz</td>\n",
       "      <td>100</td>\n",
       "      <td>True</td>\n",
       "      <td>Novartis</td>\n",
       "    </tr>\n",
       "    <tr>\n",
       "      <th>13</th>\n",
       "      <td>Novartis</td>\n",
       "      <td>Novartis Health AG</td>\n",
       "      <td>100</td>\n",
       "      <td>True</td>\n",
       "      <td>Novartis</td>\n",
       "    </tr>\n",
       "  </tbody>\n",
       "</table>\n",
       "</div>"
      ],
      "text/plain": [
       "          Wort 1              Wort 2  token_set_ratio  match    New Wort 2\n",
       "0          Tisch              Tische               91   True         Tisch\n",
       "1          Tisch               Fisch               80  False         Tisch\n",
       "2          Tisch                Dorf                0  False          Dorf\n",
       "3   Peter Müller       Peter Mueller               92   True  Peter Müller\n",
       "4   Peter Müller         Pete Müller               95   True  Peter Müller\n",
       "5   Peter Müller         Pete Miller               91   True  Peter Müller\n",
       "6      Peter Pan           Peter Pan              100   True     Peter Pan\n",
       "7      Peter Pan        Peter V. Pan              100   True     Peter Pan\n",
       "8      Peter Pan              P. Pan               75  False        P. Pan\n",
       "9      Peter Pan          Pan, Peter              100   True     Peter Pan\n",
       "10     Peter Pan       Dr. Peter Pan              100   True     Peter Pan\n",
       "11      Novartis         Novartis AG              100   True      Novartis\n",
       "12      Novartis    Novartis Schweiz              100   True      Novartis\n",
       "13      Novartis  Novartis Health AG              100   True      Novartis"
      ]
     },
     "execution_count": 33,
     "metadata": {},
     "output_type": "execute_result"
    }
   ],
   "source": [
    "df['New Wort 2'] = df['Wort 2'].apply(best_match)\n",
    "df"
   ]
  },
  {
   "cell_type": "markdown",
   "metadata": {},
   "source": [
    "**Aber:** Was ist, wenn wir die Liste der \"richtigen\" Schreibweisen gar nicht besitzen???"
   ]
  },
  {
   "cell_type": "code",
   "execution_count": 34,
   "metadata": {
    "collapsed": true
   },
   "outputs": [],
   "source": [
    "# "
   ]
  },
  {
   "cell_type": "code",
   "execution_count": null,
   "metadata": {
    "collapsed": true
   },
   "outputs": [],
   "source": []
  },
  {
   "cell_type": "code",
   "execution_count": null,
   "metadata": {
    "collapsed": true
   },
   "outputs": [],
   "source": []
  },
  {
   "cell_type": "code",
   "execution_count": null,
   "metadata": {
    "collapsed": true
   },
   "outputs": [],
   "source": []
  },
  {
   "cell_type": "code",
   "execution_count": null,
   "metadata": {
    "collapsed": true
   },
   "outputs": [],
   "source": []
  }
 ],
 "metadata": {
  "kernelspec": {
   "display_name": "Python 3",
   "language": "python",
   "name": "python3"
  },
  "language_info": {
   "codemirror_mode": {
    "name": "ipython",
    "version": 3
   },
   "file_extension": ".py",
   "mimetype": "text/x-python",
   "name": "python",
   "nbconvert_exporter": "python",
   "pygments_lexer": "ipython3",
   "version": "3.6.1"
  }
 },
 "nbformat": 4,
 "nbformat_minor": 2
}
