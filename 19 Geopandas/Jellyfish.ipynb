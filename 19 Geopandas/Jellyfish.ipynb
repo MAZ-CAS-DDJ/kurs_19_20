{
 "cells": [
  {
   "cell_type": "markdown",
   "metadata": {},
   "source": [
    "# Jellyfish"
   ]
  },
  {
   "cell_type": "markdown",
   "metadata": {},
   "source": [
    "**Inhalt:** Wie ähnlich sind zwei Strings?\n",
    "\n",
    "**Nötige Skills:** keine\n",
    "\n",
    "**Lernziele:** Ein paar einfache Möglichkeiten für fuzzy string matching kennenlernen"
   ]
  },
  {
   "cell_type": "markdown",
   "metadata": {},
   "source": [
    "## About\n",
    "\n",
    "Das Package: https://jellyfish.readthedocs.io/en/latest/index.html\n",
    "Installation:\n",
    "\n",
    "```bash\n",
    "pip3 install jellyfish\n",
    "```"
   ]
  },
  {
   "cell_type": "code",
   "execution_count": null,
   "metadata": {
    "collapsed": true
   },
   "outputs": [],
   "source": []
  },
  {
   "cell_type": "markdown",
   "metadata": {},
   "source": [
    "## Setup"
   ]
  },
  {
   "cell_type": "code",
   "execution_count": 1,
   "metadata": {
    "collapsed": true
   },
   "outputs": [],
   "source": [
    "import pandas as pd"
   ]
  },
  {
   "cell_type": "code",
   "execution_count": 2,
   "metadata": {
    "collapsed": true
   },
   "outputs": [],
   "source": [
    "import jellyfish"
   ]
  },
  {
   "cell_type": "markdown",
   "metadata": {},
   "source": [
    "## Import\n",
    "\n",
    "Wir arbeiten mit ein paar vorbereiteten Begriffspaaren."
   ]
  },
  {
   "cell_type": "code",
   "execution_count": 3,
   "metadata": {
    "collapsed": true
   },
   "outputs": [],
   "source": [
    "df = pd.read_csv('dataprojects/Jellyfish/Words.csv')"
   ]
  },
  {
   "cell_type": "code",
   "execution_count": 4,
   "metadata": {},
   "outputs": [
    {
     "data": {
      "text/html": [
       "<div>\n",
       "<style scoped>\n",
       "    .dataframe tbody tr th:only-of-type {\n",
       "        vertical-align: middle;\n",
       "    }\n",
       "\n",
       "    .dataframe tbody tr th {\n",
       "        vertical-align: top;\n",
       "    }\n",
       "\n",
       "    .dataframe thead th {\n",
       "        text-align: right;\n",
       "    }\n",
       "</style>\n",
       "<table border=\"1\" class=\"dataframe\">\n",
       "  <thead>\n",
       "    <tr style=\"text-align: right;\">\n",
       "      <th></th>\n",
       "      <th>Wort 1</th>\n",
       "      <th>Wort 2</th>\n",
       "    </tr>\n",
       "  </thead>\n",
       "  <tbody>\n",
       "    <tr>\n",
       "      <th>0</th>\n",
       "      <td>Tisch</td>\n",
       "      <td>Tische</td>\n",
       "    </tr>\n",
       "    <tr>\n",
       "      <th>1</th>\n",
       "      <td>Tisch</td>\n",
       "      <td>Fisch</td>\n",
       "    </tr>\n",
       "    <tr>\n",
       "      <th>2</th>\n",
       "      <td>Tisch</td>\n",
       "      <td>Dorf</td>\n",
       "    </tr>\n",
       "    <tr>\n",
       "      <th>3</th>\n",
       "      <td>Peter Müller</td>\n",
       "      <td>Peter Mueller</td>\n",
       "    </tr>\n",
       "    <tr>\n",
       "      <th>4</th>\n",
       "      <td>Peter Müller</td>\n",
       "      <td>Pete Müller</td>\n",
       "    </tr>\n",
       "    <tr>\n",
       "      <th>5</th>\n",
       "      <td>Peter Müller</td>\n",
       "      <td>Pete Miller</td>\n",
       "    </tr>\n",
       "    <tr>\n",
       "      <th>6</th>\n",
       "      <td>Peter Pan</td>\n",
       "      <td>Peter Pan</td>\n",
       "    </tr>\n",
       "    <tr>\n",
       "      <th>7</th>\n",
       "      <td>Peter Pan</td>\n",
       "      <td>Peter V. Pan</td>\n",
       "    </tr>\n",
       "    <tr>\n",
       "      <th>8</th>\n",
       "      <td>Peter Pan</td>\n",
       "      <td>P. Pan</td>\n",
       "    </tr>\n",
       "    <tr>\n",
       "      <th>9</th>\n",
       "      <td>Peter Pan</td>\n",
       "      <td>Pan, Peter</td>\n",
       "    </tr>\n",
       "    <tr>\n",
       "      <th>10</th>\n",
       "      <td>Peter Pan</td>\n",
       "      <td>Dr. Peter Pan</td>\n",
       "    </tr>\n",
       "    <tr>\n",
       "      <th>11</th>\n",
       "      <td>Novartis</td>\n",
       "      <td>Novartis AG</td>\n",
       "    </tr>\n",
       "    <tr>\n",
       "      <th>12</th>\n",
       "      <td>Novartis</td>\n",
       "      <td>Novartis Schweiz</td>\n",
       "    </tr>\n",
       "    <tr>\n",
       "      <th>13</th>\n",
       "      <td>Novartis</td>\n",
       "      <td>Novartis Health AG</td>\n",
       "    </tr>\n",
       "  </tbody>\n",
       "</table>\n",
       "</div>"
      ],
      "text/plain": [
       "          Wort 1              Wort 2\n",
       "0          Tisch              Tische\n",
       "1          Tisch               Fisch\n",
       "2          Tisch                Dorf\n",
       "3   Peter Müller       Peter Mueller\n",
       "4   Peter Müller         Pete Müller\n",
       "5   Peter Müller         Pete Miller\n",
       "6      Peter Pan           Peter Pan\n",
       "7      Peter Pan        Peter V. Pan\n",
       "8      Peter Pan              P. Pan\n",
       "9      Peter Pan          Pan, Peter\n",
       "10     Peter Pan       Dr. Peter Pan\n",
       "11      Novartis         Novartis AG\n",
       "12      Novartis    Novartis Schweiz\n",
       "13      Novartis  Novartis Health AG"
      ]
     },
     "execution_count": 4,
     "metadata": {},
     "output_type": "execute_result"
    }
   ],
   "source": [
    "df"
   ]
  },
  {
   "cell_type": "markdown",
   "metadata": {},
   "source": [
    "## Basics"
   ]
  },
  {
   "cell_type": "markdown",
   "metadata": {},
   "source": [
    "Jellyfish bietet ein paar Funktionen, um Strings zu vergleichen.\n",
    "\n",
    "Man misst sozusagen die \"Distanz\" zwischen den Strings:"
   ]
  },
  {
   "cell_type": "code",
   "execution_count": 5,
   "metadata": {},
   "outputs": [
    {
     "data": {
      "text/plain": [
       "2"
      ]
     },
     "execution_count": 5,
     "metadata": {},
     "output_type": "execute_result"
    }
   ],
   "source": [
    "# Kleine Distanz\n",
    "jellyfish.levenshtein_distance('jellyfish', 'smellyfish')"
   ]
  },
  {
   "cell_type": "code",
   "execution_count": 6,
   "metadata": {},
   "outputs": [
    {
     "data": {
      "text/plain": [
       "10"
      ]
     },
     "execution_count": 6,
     "metadata": {},
     "output_type": "execute_result"
    }
   ],
   "source": [
    "# Grosse Distanz\n",
    "jellyfish.levenshtein_distance('jellyfish', 'Oxtail soup')"
   ]
  },
  {
   "cell_type": "markdown",
   "metadata": {},
   "source": [
    "## String Comparison Methoden\n",
    "\n",
    "Es gibt eine ganze Reihe von \"Distanzmessern\".\n",
    "\n",
    "Die ganze Liste: https://jellyfish.readthedocs.io/en/latest/comparison.html\n",
    "\n",
    "### Levenshtein-Distanz"
   ]
  },
  {
   "cell_type": "markdown",
   "metadata": {},
   "source": [
    "Retourniert die Anzahl nötiger Operationen, um von einem String zum nächsten zu kommen."
   ]
  },
  {
   "cell_type": "code",
   "execution_count": 7,
   "metadata": {
    "collapsed": true
   },
   "outputs": [],
   "source": [
    "df['Levenshtein'] = df.apply(lambda row: jellyfish.levenshtein_distance(row['Wort 1'], row['Wort 2']) ,axis=1)"
   ]
  },
  {
   "cell_type": "code",
   "execution_count": 8,
   "metadata": {},
   "outputs": [
    {
     "data": {
      "text/html": [
       "<div>\n",
       "<style scoped>\n",
       "    .dataframe tbody tr th:only-of-type {\n",
       "        vertical-align: middle;\n",
       "    }\n",
       "\n",
       "    .dataframe tbody tr th {\n",
       "        vertical-align: top;\n",
       "    }\n",
       "\n",
       "    .dataframe thead th {\n",
       "        text-align: right;\n",
       "    }\n",
       "</style>\n",
       "<table border=\"1\" class=\"dataframe\">\n",
       "  <thead>\n",
       "    <tr style=\"text-align: right;\">\n",
       "      <th></th>\n",
       "      <th>Wort 1</th>\n",
       "      <th>Wort 2</th>\n",
       "      <th>Levenshtein</th>\n",
       "    </tr>\n",
       "  </thead>\n",
       "  <tbody>\n",
       "    <tr>\n",
       "      <th>0</th>\n",
       "      <td>Tisch</td>\n",
       "      <td>Tische</td>\n",
       "      <td>1</td>\n",
       "    </tr>\n",
       "    <tr>\n",
       "      <th>1</th>\n",
       "      <td>Tisch</td>\n",
       "      <td>Fisch</td>\n",
       "      <td>1</td>\n",
       "    </tr>\n",
       "    <tr>\n",
       "      <th>2</th>\n",
       "      <td>Tisch</td>\n",
       "      <td>Dorf</td>\n",
       "      <td>5</td>\n",
       "    </tr>\n",
       "    <tr>\n",
       "      <th>3</th>\n",
       "      <td>Peter Müller</td>\n",
       "      <td>Peter Mueller</td>\n",
       "      <td>2</td>\n",
       "    </tr>\n",
       "    <tr>\n",
       "      <th>4</th>\n",
       "      <td>Peter Müller</td>\n",
       "      <td>Pete Müller</td>\n",
       "      <td>1</td>\n",
       "    </tr>\n",
       "    <tr>\n",
       "      <th>5</th>\n",
       "      <td>Peter Müller</td>\n",
       "      <td>Pete Miller</td>\n",
       "      <td>2</td>\n",
       "    </tr>\n",
       "    <tr>\n",
       "      <th>6</th>\n",
       "      <td>Peter Pan</td>\n",
       "      <td>Peter Pan</td>\n",
       "      <td>0</td>\n",
       "    </tr>\n",
       "    <tr>\n",
       "      <th>7</th>\n",
       "      <td>Peter Pan</td>\n",
       "      <td>Peter V. Pan</td>\n",
       "      <td>3</td>\n",
       "    </tr>\n",
       "    <tr>\n",
       "      <th>8</th>\n",
       "      <td>Peter Pan</td>\n",
       "      <td>P. Pan</td>\n",
       "      <td>4</td>\n",
       "    </tr>\n",
       "    <tr>\n",
       "      <th>9</th>\n",
       "      <td>Peter Pan</td>\n",
       "      <td>Pan, Peter</td>\n",
       "      <td>8</td>\n",
       "    </tr>\n",
       "    <tr>\n",
       "      <th>10</th>\n",
       "      <td>Peter Pan</td>\n",
       "      <td>Dr. Peter Pan</td>\n",
       "      <td>4</td>\n",
       "    </tr>\n",
       "    <tr>\n",
       "      <th>11</th>\n",
       "      <td>Novartis</td>\n",
       "      <td>Novartis AG</td>\n",
       "      <td>3</td>\n",
       "    </tr>\n",
       "    <tr>\n",
       "      <th>12</th>\n",
       "      <td>Novartis</td>\n",
       "      <td>Novartis Schweiz</td>\n",
       "      <td>8</td>\n",
       "    </tr>\n",
       "    <tr>\n",
       "      <th>13</th>\n",
       "      <td>Novartis</td>\n",
       "      <td>Novartis Health AG</td>\n",
       "      <td>10</td>\n",
       "    </tr>\n",
       "  </tbody>\n",
       "</table>\n",
       "</div>"
      ],
      "text/plain": [
       "          Wort 1              Wort 2  Levenshtein\n",
       "0          Tisch              Tische            1\n",
       "1          Tisch               Fisch            1\n",
       "2          Tisch                Dorf            5\n",
       "3   Peter Müller       Peter Mueller            2\n",
       "4   Peter Müller         Pete Müller            1\n",
       "5   Peter Müller         Pete Miller            2\n",
       "6      Peter Pan           Peter Pan            0\n",
       "7      Peter Pan        Peter V. Pan            3\n",
       "8      Peter Pan              P. Pan            4\n",
       "9      Peter Pan          Pan, Peter            8\n",
       "10     Peter Pan       Dr. Peter Pan            4\n",
       "11      Novartis         Novartis AG            3\n",
       "12      Novartis    Novartis Schweiz            8\n",
       "13      Novartis  Novartis Health AG           10"
      ]
     },
     "execution_count": 8,
     "metadata": {},
     "output_type": "execute_result"
    }
   ],
   "source": [
    "df"
   ]
  },
  {
   "cell_type": "markdown",
   "metadata": {},
   "source": [
    "Der Algorithmus ist verhältnismässig doof... zB \"Peter Pan\" und \"Pan, Peter\" haben eine grosse Distanz, obwohl die Strings für für unser sehr ähnlich sind."
   ]
  },
  {
   "cell_type": "markdown",
   "metadata": {},
   "source": [
    "### Jaro-Distanz\n",
    "\n",
    "- Erklärung: https://rosettacode.org/wiki/Jaro_distance\n",
    "- Berücksichtigt die Anzahl gleicher Characters und die Anzahl der Transpositionen\n",
    "- Spuckt eine Zahl zwischen 0 und 1 aus:\n",
    "- 0 = komplett unterschiedlich\n",
    "- 1 = komplett identisch"
   ]
  },
  {
   "cell_type": "code",
   "execution_count": 9,
   "metadata": {
    "collapsed": true
   },
   "outputs": [],
   "source": [
    "df['Jaro'] = df.apply(lambda row: jellyfish.jaro_distance(row['Wort 1'], row['Wort 2']) ,axis=1)"
   ]
  },
  {
   "cell_type": "code",
   "execution_count": 10,
   "metadata": {},
   "outputs": [
    {
     "data": {
      "text/html": [
       "<div>\n",
       "<style scoped>\n",
       "    .dataframe tbody tr th:only-of-type {\n",
       "        vertical-align: middle;\n",
       "    }\n",
       "\n",
       "    .dataframe tbody tr th {\n",
       "        vertical-align: top;\n",
       "    }\n",
       "\n",
       "    .dataframe thead th {\n",
       "        text-align: right;\n",
       "    }\n",
       "</style>\n",
       "<table border=\"1\" class=\"dataframe\">\n",
       "  <thead>\n",
       "    <tr style=\"text-align: right;\">\n",
       "      <th></th>\n",
       "      <th>Wort 1</th>\n",
       "      <th>Wort 2</th>\n",
       "      <th>Levenshtein</th>\n",
       "      <th>Jaro</th>\n",
       "    </tr>\n",
       "  </thead>\n",
       "  <tbody>\n",
       "    <tr>\n",
       "      <th>0</th>\n",
       "      <td>Tisch</td>\n",
       "      <td>Tische</td>\n",
       "      <td>1</td>\n",
       "      <td>0.944444</td>\n",
       "    </tr>\n",
       "    <tr>\n",
       "      <th>1</th>\n",
       "      <td>Tisch</td>\n",
       "      <td>Fisch</td>\n",
       "      <td>1</td>\n",
       "      <td>0.866667</td>\n",
       "    </tr>\n",
       "    <tr>\n",
       "      <th>2</th>\n",
       "      <td>Tisch</td>\n",
       "      <td>Dorf</td>\n",
       "      <td>5</td>\n",
       "      <td>0.000000</td>\n",
       "    </tr>\n",
       "    <tr>\n",
       "      <th>3</th>\n",
       "      <td>Peter Müller</td>\n",
       "      <td>Peter Mueller</td>\n",
       "      <td>2</td>\n",
       "      <td>0.890637</td>\n",
       "    </tr>\n",
       "    <tr>\n",
       "      <th>4</th>\n",
       "      <td>Peter Müller</td>\n",
       "      <td>Pete Müller</td>\n",
       "      <td>1</td>\n",
       "      <td>0.972222</td>\n",
       "    </tr>\n",
       "    <tr>\n",
       "      <th>5</th>\n",
       "      <td>Peter Müller</td>\n",
       "      <td>Pete Miller</td>\n",
       "      <td>2</td>\n",
       "      <td>0.914141</td>\n",
       "    </tr>\n",
       "    <tr>\n",
       "      <th>6</th>\n",
       "      <td>Peter Pan</td>\n",
       "      <td>Peter Pan</td>\n",
       "      <td>0</td>\n",
       "      <td>1.000000</td>\n",
       "    </tr>\n",
       "    <tr>\n",
       "      <th>7</th>\n",
       "      <td>Peter Pan</td>\n",
       "      <td>Peter V. Pan</td>\n",
       "      <td>3</td>\n",
       "      <td>0.916667</td>\n",
       "    </tr>\n",
       "    <tr>\n",
       "      <th>8</th>\n",
       "      <td>Peter Pan</td>\n",
       "      <td>P. Pan</td>\n",
       "      <td>4</td>\n",
       "      <td>0.796296</td>\n",
       "    </tr>\n",
       "    <tr>\n",
       "      <th>9</th>\n",
       "      <td>Peter Pan</td>\n",
       "      <td>Pan, Peter</td>\n",
       "      <td>8</td>\n",
       "      <td>0.531481</td>\n",
       "    </tr>\n",
       "    <tr>\n",
       "      <th>10</th>\n",
       "      <td>Peter Pan</td>\n",
       "      <td>Dr. Peter Pan</td>\n",
       "      <td>4</td>\n",
       "      <td>0.823362</td>\n",
       "    </tr>\n",
       "    <tr>\n",
       "      <th>11</th>\n",
       "      <td>Novartis</td>\n",
       "      <td>Novartis AG</td>\n",
       "      <td>3</td>\n",
       "      <td>0.909091</td>\n",
       "    </tr>\n",
       "    <tr>\n",
       "      <th>12</th>\n",
       "      <td>Novartis</td>\n",
       "      <td>Novartis Schweiz</td>\n",
       "      <td>8</td>\n",
       "      <td>0.833333</td>\n",
       "    </tr>\n",
       "    <tr>\n",
       "      <th>13</th>\n",
       "      <td>Novartis</td>\n",
       "      <td>Novartis Health AG</td>\n",
       "      <td>10</td>\n",
       "      <td>0.814815</td>\n",
       "    </tr>\n",
       "  </tbody>\n",
       "</table>\n",
       "</div>"
      ],
      "text/plain": [
       "          Wort 1              Wort 2  Levenshtein      Jaro\n",
       "0          Tisch              Tische            1  0.944444\n",
       "1          Tisch               Fisch            1  0.866667\n",
       "2          Tisch                Dorf            5  0.000000\n",
       "3   Peter Müller       Peter Mueller            2  0.890637\n",
       "4   Peter Müller         Pete Müller            1  0.972222\n",
       "5   Peter Müller         Pete Miller            2  0.914141\n",
       "6      Peter Pan           Peter Pan            0  1.000000\n",
       "7      Peter Pan        Peter V. Pan            3  0.916667\n",
       "8      Peter Pan              P. Pan            4  0.796296\n",
       "9      Peter Pan          Pan, Peter            8  0.531481\n",
       "10     Peter Pan       Dr. Peter Pan            4  0.823362\n",
       "11      Novartis         Novartis AG            3  0.909091\n",
       "12      Novartis    Novartis Schweiz            8  0.833333\n",
       "13      Novartis  Novartis Health AG           10  0.814815"
      ]
     },
     "execution_count": 10,
     "metadata": {},
     "output_type": "execute_result"
    }
   ],
   "source": [
    "df"
   ]
  },
  {
   "cell_type": "markdown",
   "metadata": {},
   "source": [
    "Basierend auf dieser Metrik können wir z.B. entscheiden, ob zwei Strings ein \"match\" sind oder nicht.\n",
    "\n",
    "Wir sagen einfach Mal: alles über 0,8 ist für uns OK!"
   ]
  },
  {
   "cell_type": "code",
   "execution_count": 11,
   "metadata": {
    "collapsed": true
   },
   "outputs": [],
   "source": [
    "df['Jaro-Match'] = df['Jaro'] > 0.8"
   ]
  },
  {
   "cell_type": "code",
   "execution_count": 12,
   "metadata": {},
   "outputs": [
    {
     "data": {
      "text/html": [
       "<div>\n",
       "<style scoped>\n",
       "    .dataframe tbody tr th:only-of-type {\n",
       "        vertical-align: middle;\n",
       "    }\n",
       "\n",
       "    .dataframe tbody tr th {\n",
       "        vertical-align: top;\n",
       "    }\n",
       "\n",
       "    .dataframe thead th {\n",
       "        text-align: right;\n",
       "    }\n",
       "</style>\n",
       "<table border=\"1\" class=\"dataframe\">\n",
       "  <thead>\n",
       "    <tr style=\"text-align: right;\">\n",
       "      <th></th>\n",
       "      <th>Wort 1</th>\n",
       "      <th>Wort 2</th>\n",
       "      <th>Levenshtein</th>\n",
       "      <th>Jaro</th>\n",
       "      <th>Jaro-Match</th>\n",
       "    </tr>\n",
       "  </thead>\n",
       "  <tbody>\n",
       "    <tr>\n",
       "      <th>0</th>\n",
       "      <td>Tisch</td>\n",
       "      <td>Tische</td>\n",
       "      <td>1</td>\n",
       "      <td>0.944444</td>\n",
       "      <td>True</td>\n",
       "    </tr>\n",
       "    <tr>\n",
       "      <th>1</th>\n",
       "      <td>Tisch</td>\n",
       "      <td>Fisch</td>\n",
       "      <td>1</td>\n",
       "      <td>0.866667</td>\n",
       "      <td>True</td>\n",
       "    </tr>\n",
       "    <tr>\n",
       "      <th>2</th>\n",
       "      <td>Tisch</td>\n",
       "      <td>Dorf</td>\n",
       "      <td>5</td>\n",
       "      <td>0.000000</td>\n",
       "      <td>False</td>\n",
       "    </tr>\n",
       "    <tr>\n",
       "      <th>3</th>\n",
       "      <td>Peter Müller</td>\n",
       "      <td>Peter Mueller</td>\n",
       "      <td>2</td>\n",
       "      <td>0.890637</td>\n",
       "      <td>True</td>\n",
       "    </tr>\n",
       "    <tr>\n",
       "      <th>4</th>\n",
       "      <td>Peter Müller</td>\n",
       "      <td>Pete Müller</td>\n",
       "      <td>1</td>\n",
       "      <td>0.972222</td>\n",
       "      <td>True</td>\n",
       "    </tr>\n",
       "    <tr>\n",
       "      <th>5</th>\n",
       "      <td>Peter Müller</td>\n",
       "      <td>Pete Miller</td>\n",
       "      <td>2</td>\n",
       "      <td>0.914141</td>\n",
       "      <td>True</td>\n",
       "    </tr>\n",
       "    <tr>\n",
       "      <th>6</th>\n",
       "      <td>Peter Pan</td>\n",
       "      <td>Peter Pan</td>\n",
       "      <td>0</td>\n",
       "      <td>1.000000</td>\n",
       "      <td>True</td>\n",
       "    </tr>\n",
       "    <tr>\n",
       "      <th>7</th>\n",
       "      <td>Peter Pan</td>\n",
       "      <td>Peter V. Pan</td>\n",
       "      <td>3</td>\n",
       "      <td>0.916667</td>\n",
       "      <td>True</td>\n",
       "    </tr>\n",
       "    <tr>\n",
       "      <th>8</th>\n",
       "      <td>Peter Pan</td>\n",
       "      <td>P. Pan</td>\n",
       "      <td>4</td>\n",
       "      <td>0.796296</td>\n",
       "      <td>False</td>\n",
       "    </tr>\n",
       "    <tr>\n",
       "      <th>9</th>\n",
       "      <td>Peter Pan</td>\n",
       "      <td>Pan, Peter</td>\n",
       "      <td>8</td>\n",
       "      <td>0.531481</td>\n",
       "      <td>False</td>\n",
       "    </tr>\n",
       "    <tr>\n",
       "      <th>10</th>\n",
       "      <td>Peter Pan</td>\n",
       "      <td>Dr. Peter Pan</td>\n",
       "      <td>4</td>\n",
       "      <td>0.823362</td>\n",
       "      <td>True</td>\n",
       "    </tr>\n",
       "    <tr>\n",
       "      <th>11</th>\n",
       "      <td>Novartis</td>\n",
       "      <td>Novartis AG</td>\n",
       "      <td>3</td>\n",
       "      <td>0.909091</td>\n",
       "      <td>True</td>\n",
       "    </tr>\n",
       "    <tr>\n",
       "      <th>12</th>\n",
       "      <td>Novartis</td>\n",
       "      <td>Novartis Schweiz</td>\n",
       "      <td>8</td>\n",
       "      <td>0.833333</td>\n",
       "      <td>True</td>\n",
       "    </tr>\n",
       "    <tr>\n",
       "      <th>13</th>\n",
       "      <td>Novartis</td>\n",
       "      <td>Novartis Health AG</td>\n",
       "      <td>10</td>\n",
       "      <td>0.814815</td>\n",
       "      <td>True</td>\n",
       "    </tr>\n",
       "  </tbody>\n",
       "</table>\n",
       "</div>"
      ],
      "text/plain": [
       "          Wort 1              Wort 2  Levenshtein      Jaro  Jaro-Match\n",
       "0          Tisch              Tische            1  0.944444        True\n",
       "1          Tisch               Fisch            1  0.866667        True\n",
       "2          Tisch                Dorf            5  0.000000       False\n",
       "3   Peter Müller       Peter Mueller            2  0.890637        True\n",
       "4   Peter Müller         Pete Müller            1  0.972222        True\n",
       "5   Peter Müller         Pete Miller            2  0.914141        True\n",
       "6      Peter Pan           Peter Pan            0  1.000000        True\n",
       "7      Peter Pan        Peter V. Pan            3  0.916667        True\n",
       "8      Peter Pan              P. Pan            4  0.796296       False\n",
       "9      Peter Pan          Pan, Peter            8  0.531481       False\n",
       "10     Peter Pan       Dr. Peter Pan            4  0.823362        True\n",
       "11      Novartis         Novartis AG            3  0.909091        True\n",
       "12      Novartis    Novartis Schweiz            8  0.833333        True\n",
       "13      Novartis  Novartis Health AG           10  0.814815        True"
      ]
     },
     "execution_count": 12,
     "metadata": {},
     "output_type": "execute_result"
    }
   ],
   "source": [
    "df"
   ]
  },
  {
   "cell_type": "markdown",
   "metadata": {},
   "source": [
    "### Gängige Fehler"
   ]
  },
  {
   "cell_type": "markdown",
   "metadata": {},
   "source": [
    "**False positives**\n",
    "- Wörter, die als match angezeigt werden, obwohl sie kein match sind"
   ]
  },
  {
   "cell_type": "markdown",
   "metadata": {},
   "source": [
    "**False negatives**\n",
    "- Wörter, die nicht als match erkannt werden, obwohl sie einer sind"
   ]
  },
  {
   "cell_type": "markdown",
   "metadata": {},
   "source": [
    "**Frage**: Basierend auf dem obigen Jaro-Matching, welche Matches würden Sie als false positives einstufen? Welche als false negatives?"
   ]
  },
  {
   "cell_type": "code",
   "execution_count": 13,
   "metadata": {
    "collapsed": true
   },
   "outputs": [],
   "source": [
    "# False positives:\n",
    "# "
   ]
  },
  {
   "cell_type": "code",
   "execution_count": 14,
   "metadata": {
    "collapsed": true
   },
   "outputs": [],
   "source": [
    "# False negatives:\n",
    "# \n"
   ]
  },
  {
   "cell_type": "markdown",
   "metadata": {},
   "source": [
    "## Phonetic matching\n",
    "\n",
    "Retourniert keine Distanzmessung, sondern eine phonetisch \"vereinfachte\" Version des Strings.\n",
    "\n",
    "Die gesamte Liste: https://jellyfish.readthedocs.io/en/latest/phonetic.html"
   ]
  },
  {
   "cell_type": "markdown",
   "metadata": {},
   "source": [
    "### Metaphone\n",
    "\n",
    "\" It transforms a word into a string consisting of ‘0BFHJKLMNPRSTWXY’ where ‘0’ is pronounced ‘th’ and ‘X’ is a ‘[sc]h’ sound.\"\n",
    "\n",
    "Mehr: https://en.wikipedia.org/wiki/Metaphone"
   ]
  },
  {
   "cell_type": "code",
   "execution_count": 15,
   "metadata": {},
   "outputs": [
    {
     "data": {
      "text/plain": [
       "'JN'"
      ]
     },
     "execution_count": 15,
     "metadata": {},
     "output_type": "execute_result"
    }
   ],
   "source": [
    "jellyfish.metaphone('John')"
   ]
  },
  {
   "cell_type": "code",
   "execution_count": 16,
   "metadata": {
    "collapsed": true
   },
   "outputs": [],
   "source": [
    "df = pd.read_csv('dataprojects/Jellyfish/Words.csv')"
   ]
  },
  {
   "cell_type": "code",
   "execution_count": 17,
   "metadata": {
    "collapsed": true
   },
   "outputs": [],
   "source": [
    "df['Metaphone 1'] = df.apply(lambda row: jellyfish.metaphone(row['Wort 1']) ,axis=1)"
   ]
  },
  {
   "cell_type": "code",
   "execution_count": 18,
   "metadata": {
    "collapsed": true
   },
   "outputs": [],
   "source": [
    "df['Metaphone 2'] = df.apply(lambda row: jellyfish.metaphone(row['Wort 2']) ,axis=1)"
   ]
  },
  {
   "cell_type": "code",
   "execution_count": 19,
   "metadata": {},
   "outputs": [
    {
     "data": {
      "text/html": [
       "<div>\n",
       "<style scoped>\n",
       "    .dataframe tbody tr th:only-of-type {\n",
       "        vertical-align: middle;\n",
       "    }\n",
       "\n",
       "    .dataframe tbody tr th {\n",
       "        vertical-align: top;\n",
       "    }\n",
       "\n",
       "    .dataframe thead th {\n",
       "        text-align: right;\n",
       "    }\n",
       "</style>\n",
       "<table border=\"1\" class=\"dataframe\">\n",
       "  <thead>\n",
       "    <tr style=\"text-align: right;\">\n",
       "      <th></th>\n",
       "      <th>Wort 1</th>\n",
       "      <th>Wort 2</th>\n",
       "      <th>Metaphone 1</th>\n",
       "      <th>Metaphone 2</th>\n",
       "    </tr>\n",
       "  </thead>\n",
       "  <tbody>\n",
       "    <tr>\n",
       "      <th>0</th>\n",
       "      <td>Tisch</td>\n",
       "      <td>Tische</td>\n",
       "      <td>TSX</td>\n",
       "      <td>TSX</td>\n",
       "    </tr>\n",
       "    <tr>\n",
       "      <th>1</th>\n",
       "      <td>Tisch</td>\n",
       "      <td>Fisch</td>\n",
       "      <td>TSX</td>\n",
       "      <td>FSX</td>\n",
       "    </tr>\n",
       "    <tr>\n",
       "      <th>2</th>\n",
       "      <td>Tisch</td>\n",
       "      <td>Dorf</td>\n",
       "      <td>TSX</td>\n",
       "      <td>TRF</td>\n",
       "    </tr>\n",
       "    <tr>\n",
       "      <th>3</th>\n",
       "      <td>Peter Müller</td>\n",
       "      <td>Peter Mueller</td>\n",
       "      <td>PTR MLR</td>\n",
       "      <td>PTR MLR</td>\n",
       "    </tr>\n",
       "    <tr>\n",
       "      <th>4</th>\n",
       "      <td>Peter Müller</td>\n",
       "      <td>Pete Müller</td>\n",
       "      <td>PTR MLR</td>\n",
       "      <td>PT MLR</td>\n",
       "    </tr>\n",
       "    <tr>\n",
       "      <th>5</th>\n",
       "      <td>Peter Müller</td>\n",
       "      <td>Pete Miller</td>\n",
       "      <td>PTR MLR</td>\n",
       "      <td>PT MLR</td>\n",
       "    </tr>\n",
       "    <tr>\n",
       "      <th>6</th>\n",
       "      <td>Peter Pan</td>\n",
       "      <td>Peter Pan</td>\n",
       "      <td>PTR PN</td>\n",
       "      <td>PTR PN</td>\n",
       "    </tr>\n",
       "    <tr>\n",
       "      <th>7</th>\n",
       "      <td>Peter Pan</td>\n",
       "      <td>Peter V. Pan</td>\n",
       "      <td>PTR PN</td>\n",
       "      <td>PTR F PN</td>\n",
       "    </tr>\n",
       "    <tr>\n",
       "      <th>8</th>\n",
       "      <td>Peter Pan</td>\n",
       "      <td>P. Pan</td>\n",
       "      <td>PTR PN</td>\n",
       "      <td>P PN</td>\n",
       "    </tr>\n",
       "    <tr>\n",
       "      <th>9</th>\n",
       "      <td>Peter Pan</td>\n",
       "      <td>Pan, Peter</td>\n",
       "      <td>PTR PN</td>\n",
       "      <td>PN PTR</td>\n",
       "    </tr>\n",
       "    <tr>\n",
       "      <th>10</th>\n",
       "      <td>Peter Pan</td>\n",
       "      <td>Dr. Peter Pan</td>\n",
       "      <td>PTR PN</td>\n",
       "      <td>TR PTR PN</td>\n",
       "    </tr>\n",
       "    <tr>\n",
       "      <th>11</th>\n",
       "      <td>Novartis</td>\n",
       "      <td>Novartis AG</td>\n",
       "      <td>NFRTS</td>\n",
       "      <td>NFRTS AK</td>\n",
       "    </tr>\n",
       "    <tr>\n",
       "      <th>12</th>\n",
       "      <td>Novartis</td>\n",
       "      <td>Novartis Schweiz</td>\n",
       "      <td>NFRTS</td>\n",
       "      <td>NFRTS SXWS</td>\n",
       "    </tr>\n",
       "    <tr>\n",
       "      <th>13</th>\n",
       "      <td>Novartis</td>\n",
       "      <td>Novartis Health AG</td>\n",
       "      <td>NFRTS</td>\n",
       "      <td>NFRTS HL0 AK</td>\n",
       "    </tr>\n",
       "  </tbody>\n",
       "</table>\n",
       "</div>"
      ],
      "text/plain": [
       "          Wort 1              Wort 2 Metaphone 1   Metaphone 2\n",
       "0          Tisch              Tische         TSX           TSX\n",
       "1          Tisch               Fisch         TSX           FSX\n",
       "2          Tisch                Dorf         TSX           TRF\n",
       "3   Peter Müller       Peter Mueller     PTR MLR       PTR MLR\n",
       "4   Peter Müller         Pete Müller     PTR MLR        PT MLR\n",
       "5   Peter Müller         Pete Miller     PTR MLR        PT MLR\n",
       "6      Peter Pan           Peter Pan      PTR PN        PTR PN\n",
       "7      Peter Pan        Peter V. Pan      PTR PN      PTR F PN\n",
       "8      Peter Pan              P. Pan      PTR PN          P PN\n",
       "9      Peter Pan          Pan, Peter      PTR PN        PN PTR\n",
       "10     Peter Pan       Dr. Peter Pan      PTR PN     TR PTR PN\n",
       "11      Novartis         Novartis AG       NFRTS      NFRTS AK\n",
       "12      Novartis    Novartis Schweiz       NFRTS    NFRTS SXWS\n",
       "13      Novartis  Novartis Health AG       NFRTS  NFRTS HL0 AK"
      ]
     },
     "execution_count": 19,
     "metadata": {},
     "output_type": "execute_result"
    }
   ],
   "source": [
    "df"
   ]
  },
  {
   "cell_type": "code",
   "execution_count": 20,
   "metadata": {
    "collapsed": true
   },
   "outputs": [],
   "source": [
    "df['Metaphone-Match'] = df['Metaphone 1'] == df['Metaphone 2']"
   ]
  },
  {
   "cell_type": "code",
   "execution_count": 21,
   "metadata": {},
   "outputs": [
    {
     "data": {
      "text/html": [
       "<div>\n",
       "<style scoped>\n",
       "    .dataframe tbody tr th:only-of-type {\n",
       "        vertical-align: middle;\n",
       "    }\n",
       "\n",
       "    .dataframe tbody tr th {\n",
       "        vertical-align: top;\n",
       "    }\n",
       "\n",
       "    .dataframe thead th {\n",
       "        text-align: right;\n",
       "    }\n",
       "</style>\n",
       "<table border=\"1\" class=\"dataframe\">\n",
       "  <thead>\n",
       "    <tr style=\"text-align: right;\">\n",
       "      <th></th>\n",
       "      <th>Wort 1</th>\n",
       "      <th>Wort 2</th>\n",
       "      <th>Metaphone 1</th>\n",
       "      <th>Metaphone 2</th>\n",
       "      <th>Metaphone-Match</th>\n",
       "    </tr>\n",
       "  </thead>\n",
       "  <tbody>\n",
       "    <tr>\n",
       "      <th>0</th>\n",
       "      <td>Tisch</td>\n",
       "      <td>Tische</td>\n",
       "      <td>TSX</td>\n",
       "      <td>TSX</td>\n",
       "      <td>True</td>\n",
       "    </tr>\n",
       "    <tr>\n",
       "      <th>1</th>\n",
       "      <td>Tisch</td>\n",
       "      <td>Fisch</td>\n",
       "      <td>TSX</td>\n",
       "      <td>FSX</td>\n",
       "      <td>False</td>\n",
       "    </tr>\n",
       "    <tr>\n",
       "      <th>2</th>\n",
       "      <td>Tisch</td>\n",
       "      <td>Dorf</td>\n",
       "      <td>TSX</td>\n",
       "      <td>TRF</td>\n",
       "      <td>False</td>\n",
       "    </tr>\n",
       "    <tr>\n",
       "      <th>3</th>\n",
       "      <td>Peter Müller</td>\n",
       "      <td>Peter Mueller</td>\n",
       "      <td>PTR MLR</td>\n",
       "      <td>PTR MLR</td>\n",
       "      <td>True</td>\n",
       "    </tr>\n",
       "    <tr>\n",
       "      <th>4</th>\n",
       "      <td>Peter Müller</td>\n",
       "      <td>Pete Müller</td>\n",
       "      <td>PTR MLR</td>\n",
       "      <td>PT MLR</td>\n",
       "      <td>False</td>\n",
       "    </tr>\n",
       "    <tr>\n",
       "      <th>5</th>\n",
       "      <td>Peter Müller</td>\n",
       "      <td>Pete Miller</td>\n",
       "      <td>PTR MLR</td>\n",
       "      <td>PT MLR</td>\n",
       "      <td>False</td>\n",
       "    </tr>\n",
       "    <tr>\n",
       "      <th>6</th>\n",
       "      <td>Peter Pan</td>\n",
       "      <td>Peter Pan</td>\n",
       "      <td>PTR PN</td>\n",
       "      <td>PTR PN</td>\n",
       "      <td>True</td>\n",
       "    </tr>\n",
       "    <tr>\n",
       "      <th>7</th>\n",
       "      <td>Peter Pan</td>\n",
       "      <td>Peter V. Pan</td>\n",
       "      <td>PTR PN</td>\n",
       "      <td>PTR F PN</td>\n",
       "      <td>False</td>\n",
       "    </tr>\n",
       "    <tr>\n",
       "      <th>8</th>\n",
       "      <td>Peter Pan</td>\n",
       "      <td>P. Pan</td>\n",
       "      <td>PTR PN</td>\n",
       "      <td>P PN</td>\n",
       "      <td>False</td>\n",
       "    </tr>\n",
       "    <tr>\n",
       "      <th>9</th>\n",
       "      <td>Peter Pan</td>\n",
       "      <td>Pan, Peter</td>\n",
       "      <td>PTR PN</td>\n",
       "      <td>PN PTR</td>\n",
       "      <td>False</td>\n",
       "    </tr>\n",
       "    <tr>\n",
       "      <th>10</th>\n",
       "      <td>Peter Pan</td>\n",
       "      <td>Dr. Peter Pan</td>\n",
       "      <td>PTR PN</td>\n",
       "      <td>TR PTR PN</td>\n",
       "      <td>False</td>\n",
       "    </tr>\n",
       "    <tr>\n",
       "      <th>11</th>\n",
       "      <td>Novartis</td>\n",
       "      <td>Novartis AG</td>\n",
       "      <td>NFRTS</td>\n",
       "      <td>NFRTS AK</td>\n",
       "      <td>False</td>\n",
       "    </tr>\n",
       "    <tr>\n",
       "      <th>12</th>\n",
       "      <td>Novartis</td>\n",
       "      <td>Novartis Schweiz</td>\n",
       "      <td>NFRTS</td>\n",
       "      <td>NFRTS SXWS</td>\n",
       "      <td>False</td>\n",
       "    </tr>\n",
       "    <tr>\n",
       "      <th>13</th>\n",
       "      <td>Novartis</td>\n",
       "      <td>Novartis Health AG</td>\n",
       "      <td>NFRTS</td>\n",
       "      <td>NFRTS HL0 AK</td>\n",
       "      <td>False</td>\n",
       "    </tr>\n",
       "  </tbody>\n",
       "</table>\n",
       "</div>"
      ],
      "text/plain": [
       "          Wort 1              Wort 2 Metaphone 1   Metaphone 2  \\\n",
       "0          Tisch              Tische         TSX           TSX   \n",
       "1          Tisch               Fisch         TSX           FSX   \n",
       "2          Tisch                Dorf         TSX           TRF   \n",
       "3   Peter Müller       Peter Mueller     PTR MLR       PTR MLR   \n",
       "4   Peter Müller         Pete Müller     PTR MLR        PT MLR   \n",
       "5   Peter Müller         Pete Miller     PTR MLR        PT MLR   \n",
       "6      Peter Pan           Peter Pan      PTR PN        PTR PN   \n",
       "7      Peter Pan        Peter V. Pan      PTR PN      PTR F PN   \n",
       "8      Peter Pan              P. Pan      PTR PN          P PN   \n",
       "9      Peter Pan          Pan, Peter      PTR PN        PN PTR   \n",
       "10     Peter Pan       Dr. Peter Pan      PTR PN     TR PTR PN   \n",
       "11      Novartis         Novartis AG       NFRTS      NFRTS AK   \n",
       "12      Novartis    Novartis Schweiz       NFRTS    NFRTS SXWS   \n",
       "13      Novartis  Novartis Health AG       NFRTS  NFRTS HL0 AK   \n",
       "\n",
       "    Metaphone-Match  \n",
       "0              True  \n",
       "1             False  \n",
       "2             False  \n",
       "3              True  \n",
       "4             False  \n",
       "5             False  \n",
       "6              True  \n",
       "7             False  \n",
       "8             False  \n",
       "9             False  \n",
       "10            False  \n",
       "11            False  \n",
       "12            False  \n",
       "13            False  "
      ]
     },
     "execution_count": 21,
     "metadata": {},
     "output_type": "execute_result"
    }
   ],
   "source": [
    "df"
   ]
  },
  {
   "cell_type": "markdown",
   "metadata": {},
   "source": [
    "### Nysiis"
   ]
  },
  {
   "cell_type": "markdown",
   "metadata": {},
   "source": [
    "\"It transforms a word into a phonetic code. Like soundex and metaphone it is primarily intended for use on names (as they would be pronounced in English).\"\n",
    "\n",
    "Mehr: https://en.wikipedia.org/wiki/New_York_State_Identification_and_Intelligence_System\n",
    "\n",
    "Uses only the 1st substring!"
   ]
  },
  {
   "cell_type": "code",
   "execution_count": 22,
   "metadata": {
    "collapsed": true
   },
   "outputs": [],
   "source": [
    "df['Nysiis 1'] = df.apply(lambda row: jellyfish.nysiis(row['Wort 1']) ,axis=1)"
   ]
  },
  {
   "cell_type": "code",
   "execution_count": 23,
   "metadata": {
    "collapsed": true
   },
   "outputs": [],
   "source": [
    "df['Nysiis 2'] = df.apply(lambda row: jellyfish.nysiis(row['Wort 2']) ,axis=1)"
   ]
  },
  {
   "cell_type": "code",
   "execution_count": 24,
   "metadata": {
    "collapsed": true
   },
   "outputs": [],
   "source": [
    "df['Nysiis-Match'] = df['Nysiis 1'] == df['Nysiis 2']"
   ]
  },
  {
   "cell_type": "code",
   "execution_count": 25,
   "metadata": {},
   "outputs": [
    {
     "data": {
      "text/html": [
       "<div>\n",
       "<style scoped>\n",
       "    .dataframe tbody tr th:only-of-type {\n",
       "        vertical-align: middle;\n",
       "    }\n",
       "\n",
       "    .dataframe tbody tr th {\n",
       "        vertical-align: top;\n",
       "    }\n",
       "\n",
       "    .dataframe thead th {\n",
       "        text-align: right;\n",
       "    }\n",
       "</style>\n",
       "<table border=\"1\" class=\"dataframe\">\n",
       "  <thead>\n",
       "    <tr style=\"text-align: right;\">\n",
       "      <th></th>\n",
       "      <th>Wort 1</th>\n",
       "      <th>Wort 2</th>\n",
       "      <th>Metaphone 1</th>\n",
       "      <th>Metaphone 2</th>\n",
       "      <th>Metaphone-Match</th>\n",
       "      <th>Nysiis 1</th>\n",
       "      <th>Nysiis 2</th>\n",
       "      <th>Nysiis-Match</th>\n",
       "    </tr>\n",
       "  </thead>\n",
       "  <tbody>\n",
       "    <tr>\n",
       "      <th>0</th>\n",
       "      <td>Tisch</td>\n",
       "      <td>Tische</td>\n",
       "      <td>TSX</td>\n",
       "      <td>TSX</td>\n",
       "      <td>True</td>\n",
       "      <td>TAS</td>\n",
       "      <td>TASS</td>\n",
       "      <td>False</td>\n",
       "    </tr>\n",
       "    <tr>\n",
       "      <th>1</th>\n",
       "      <td>Tisch</td>\n",
       "      <td>Fisch</td>\n",
       "      <td>TSX</td>\n",
       "      <td>FSX</td>\n",
       "      <td>False</td>\n",
       "      <td>TAS</td>\n",
       "      <td>FAS</td>\n",
       "      <td>False</td>\n",
       "    </tr>\n",
       "    <tr>\n",
       "      <th>2</th>\n",
       "      <td>Tisch</td>\n",
       "      <td>Dorf</td>\n",
       "      <td>TSX</td>\n",
       "      <td>TRF</td>\n",
       "      <td>False</td>\n",
       "      <td>TAS</td>\n",
       "      <td>DARF</td>\n",
       "      <td>False</td>\n",
       "    </tr>\n",
       "    <tr>\n",
       "      <th>3</th>\n",
       "      <td>Peter Müller</td>\n",
       "      <td>Peter Mueller</td>\n",
       "      <td>PTR MLR</td>\n",
       "      <td>PTR MLR</td>\n",
       "      <td>True</td>\n",
       "      <td>PATAR</td>\n",
       "      <td>PATAR</td>\n",
       "      <td>True</td>\n",
       "    </tr>\n",
       "    <tr>\n",
       "      <th>4</th>\n",
       "      <td>Peter Müller</td>\n",
       "      <td>Pete Müller</td>\n",
       "      <td>PTR MLR</td>\n",
       "      <td>PT MLR</td>\n",
       "      <td>False</td>\n",
       "      <td>PATAR</td>\n",
       "      <td>PAT</td>\n",
       "      <td>False</td>\n",
       "    </tr>\n",
       "    <tr>\n",
       "      <th>5</th>\n",
       "      <td>Peter Müller</td>\n",
       "      <td>Pete Miller</td>\n",
       "      <td>PTR MLR</td>\n",
       "      <td>PT MLR</td>\n",
       "      <td>False</td>\n",
       "      <td>PATAR</td>\n",
       "      <td>PAT</td>\n",
       "      <td>False</td>\n",
       "    </tr>\n",
       "    <tr>\n",
       "      <th>6</th>\n",
       "      <td>Peter Pan</td>\n",
       "      <td>Peter Pan</td>\n",
       "      <td>PTR PN</td>\n",
       "      <td>PTR PN</td>\n",
       "      <td>True</td>\n",
       "      <td>PATAR</td>\n",
       "      <td>PATAR</td>\n",
       "      <td>True</td>\n",
       "    </tr>\n",
       "    <tr>\n",
       "      <th>7</th>\n",
       "      <td>Peter Pan</td>\n",
       "      <td>Peter V. Pan</td>\n",
       "      <td>PTR PN</td>\n",
       "      <td>PTR F PN</td>\n",
       "      <td>False</td>\n",
       "      <td>PATAR</td>\n",
       "      <td>PATAR</td>\n",
       "      <td>True</td>\n",
       "    </tr>\n",
       "    <tr>\n",
       "      <th>8</th>\n",
       "      <td>Peter Pan</td>\n",
       "      <td>P. Pan</td>\n",
       "      <td>PTR PN</td>\n",
       "      <td>P PN</td>\n",
       "      <td>False</td>\n",
       "      <td>PATAR</td>\n",
       "      <td>P.</td>\n",
       "      <td>False</td>\n",
       "    </tr>\n",
       "    <tr>\n",
       "      <th>9</th>\n",
       "      <td>Peter Pan</td>\n",
       "      <td>Pan, Peter</td>\n",
       "      <td>PTR PN</td>\n",
       "      <td>PN PTR</td>\n",
       "      <td>False</td>\n",
       "      <td>PATAR</td>\n",
       "      <td>PAN,</td>\n",
       "      <td>False</td>\n",
       "    </tr>\n",
       "    <tr>\n",
       "      <th>10</th>\n",
       "      <td>Peter Pan</td>\n",
       "      <td>Dr. Peter Pan</td>\n",
       "      <td>PTR PN</td>\n",
       "      <td>TR PTR PN</td>\n",
       "      <td>False</td>\n",
       "      <td>PATAR</td>\n",
       "      <td>DR.</td>\n",
       "      <td>False</td>\n",
       "    </tr>\n",
       "    <tr>\n",
       "      <th>11</th>\n",
       "      <td>Novartis</td>\n",
       "      <td>Novartis AG</td>\n",
       "      <td>NFRTS</td>\n",
       "      <td>NFRTS AK</td>\n",
       "      <td>False</td>\n",
       "      <td>NAVART</td>\n",
       "      <td>NAVART</td>\n",
       "      <td>True</td>\n",
       "    </tr>\n",
       "    <tr>\n",
       "      <th>12</th>\n",
       "      <td>Novartis</td>\n",
       "      <td>Novartis Schweiz</td>\n",
       "      <td>NFRTS</td>\n",
       "      <td>NFRTS SXWS</td>\n",
       "      <td>False</td>\n",
       "      <td>NAVART</td>\n",
       "      <td>NAVART</td>\n",
       "      <td>True</td>\n",
       "    </tr>\n",
       "    <tr>\n",
       "      <th>13</th>\n",
       "      <td>Novartis</td>\n",
       "      <td>Novartis Health AG</td>\n",
       "      <td>NFRTS</td>\n",
       "      <td>NFRTS HL0 AK</td>\n",
       "      <td>False</td>\n",
       "      <td>NAVART</td>\n",
       "      <td>NAVART</td>\n",
       "      <td>True</td>\n",
       "    </tr>\n",
       "  </tbody>\n",
       "</table>\n",
       "</div>"
      ],
      "text/plain": [
       "          Wort 1              Wort 2 Metaphone 1   Metaphone 2  \\\n",
       "0          Tisch              Tische         TSX           TSX   \n",
       "1          Tisch               Fisch         TSX           FSX   \n",
       "2          Tisch                Dorf         TSX           TRF   \n",
       "3   Peter Müller       Peter Mueller     PTR MLR       PTR MLR   \n",
       "4   Peter Müller         Pete Müller     PTR MLR        PT MLR   \n",
       "5   Peter Müller         Pete Miller     PTR MLR        PT MLR   \n",
       "6      Peter Pan           Peter Pan      PTR PN        PTR PN   \n",
       "7      Peter Pan        Peter V. Pan      PTR PN      PTR F PN   \n",
       "8      Peter Pan              P. Pan      PTR PN          P PN   \n",
       "9      Peter Pan          Pan, Peter      PTR PN        PN PTR   \n",
       "10     Peter Pan       Dr. Peter Pan      PTR PN     TR PTR PN   \n",
       "11      Novartis         Novartis AG       NFRTS      NFRTS AK   \n",
       "12      Novartis    Novartis Schweiz       NFRTS    NFRTS SXWS   \n",
       "13      Novartis  Novartis Health AG       NFRTS  NFRTS HL0 AK   \n",
       "\n",
       "    Metaphone-Match Nysiis 1 Nysiis 2  Nysiis-Match  \n",
       "0              True      TAS     TASS         False  \n",
       "1             False      TAS      FAS         False  \n",
       "2             False      TAS     DARF         False  \n",
       "3              True    PATAR    PATAR          True  \n",
       "4             False    PATAR      PAT         False  \n",
       "5             False    PATAR      PAT         False  \n",
       "6              True    PATAR    PATAR          True  \n",
       "7             False    PATAR    PATAR          True  \n",
       "8             False    PATAR       P.         False  \n",
       "9             False    PATAR     PAN,         False  \n",
       "10            False    PATAR      DR.         False  \n",
       "11            False   NAVART   NAVART          True  \n",
       "12            False   NAVART   NAVART          True  \n",
       "13            False   NAVART   NAVART          True  "
      ]
     },
     "execution_count": 25,
     "metadata": {},
     "output_type": "execute_result"
    }
   ],
   "source": [
    "df"
   ]
  },
  {
   "cell_type": "code",
   "execution_count": null,
   "metadata": {
    "collapsed": true
   },
   "outputs": [],
   "source": []
  },
  {
   "cell_type": "code",
   "execution_count": null,
   "metadata": {
    "collapsed": true
   },
   "outputs": [],
   "source": []
  },
  {
   "cell_type": "markdown",
   "metadata": {},
   "source": [
    "## Fazit\n",
    "\n",
    "- Kann hilfreich sein (zB um einzelne Tippfehler zu spotten)\n",
    "- Aber es reicht nicht extrem weit\n",
    "- Schwierig, im jeweilgen Fall den richtigen Algorithmus auszuwählen\n",
    "- Gefahr false positives / false negatives immer vorhanden."
   ]
  },
  {
   "cell_type": "code",
   "execution_count": null,
   "metadata": {
    "collapsed": true
   },
   "outputs": [],
   "source": []
  },
  {
   "cell_type": "code",
   "execution_count": null,
   "metadata": {
    "collapsed": true
   },
   "outputs": [],
   "source": []
  }
 ],
 "metadata": {
  "kernelspec": {
   "display_name": "Python 3",
   "language": "python",
   "name": "python3"
  },
  "language_info": {
   "codemirror_mode": {
    "name": "ipython",
    "version": 3
   },
   "file_extension": ".py",
   "mimetype": "text/x-python",
   "name": "python",
   "nbconvert_exporter": "python",
   "pygments_lexer": "ipython3",
   "version": "3.6.1"
  }
 },
 "nbformat": 4,
 "nbformat_minor": 2
}
