{
 "cells": [
  {
   "cell_type": "code",
   "execution_count": 1,
   "metadata": {
    "collapsed": true
   },
   "outputs": [],
   "source": [
    "import pandas as pd"
   ]
  },
  {
   "cell_type": "code",
   "execution_count": 8,
   "metadata": {
    "collapsed": true
   },
   "outputs": [],
   "source": [
    "import json"
   ]
  },
  {
   "cell_type": "code",
   "execution_count": 2,
   "metadata": {
    "collapsed": true
   },
   "outputs": [],
   "source": [
    "path = 'dataprojects/Coop/standorte-und-oeffnungszeiten.getvstlist.json'"
   ]
  },
  {
   "cell_type": "code",
   "execution_count": 9,
   "metadata": {
    "collapsed": true
   },
   "outputs": [],
   "source": [
    "with open(path) as f:\n",
    "    data = json.load(f)"
   ]
  },
  {
   "cell_type": "code",
   "execution_count": 11,
   "metadata": {},
   "outputs": [
    {
     "data": {
      "text/plain": [
       "dict_keys(['successful', 'vstList', 'hasMoreToLoad'])"
      ]
     },
     "execution_count": 11,
     "metadata": {},
     "output_type": "execute_result"
    }
   ],
   "source": [
    "data.keys()"
   ]
  },
  {
   "cell_type": "code",
   "execution_count": 16,
   "metadata": {
    "collapsed": true
   },
   "outputs": [],
   "source": [
    "stores = data['vstList']"
   ]
  },
  {
   "cell_type": "code",
   "execution_count": 17,
   "metadata": {},
   "outputs": [
    {
     "data": {
      "text/plain": [
       "{'betriebsNummerId': {'id': 4956},\n",
       " 'distance': 6670.113555467002,\n",
       " 'formatId': 'retail',\n",
       " 'hausnummer': '42',\n",
       " 'language': 'DE',\n",
       " 'latitude': 46.837574,\n",
       " 'logo': '/etc/designs/vstinfov2/img/logo/coop-retail-de.svg',\n",
       " 'logoAltText': 'Coop Supermarkt - Logo',\n",
       " 'logoSmall': '/etc/designs/vstinfov2/img/mini-logo/coop_retail_de.png',\n",
       " 'longitude': 8.186167,\n",
       " 'myRegion': 'ZZ',\n",
       " 'name': 'Giswil',\n",
       " 'openingHours': [{'day': 'MONDAY',\n",
       "   'openingDate': '31.12.2018',\n",
       "   'time': '07:00 - 18:00'}],\n",
       " 'ort': 'Giswil',\n",
       " 'plz': '6074',\n",
       " 'postalRegion': {'region': 'ZZ'},\n",
       " 'prettyUrlName': 'coop-supermarkt-giswil',\n",
       " 'strasse': 'Brünigstrasse'}"
      ]
     },
     "execution_count": 17,
     "metadata": {},
     "output_type": "execute_result"
    }
   ],
   "source": [
    "stores[0]"
   ]
  },
  {
   "cell_type": "code",
   "execution_count": 19,
   "metadata": {
    "collapsed": true
   },
   "outputs": [],
   "source": [
    "geschaefte = []"
   ]
  },
  {
   "cell_type": "code",
   "execution_count": 21,
   "metadata": {
    "collapsed": true
   },
   "outputs": [],
   "source": [
    "for store in stores:\n",
    "    geschaeft = {}\n",
    "    geschaeft['latitude'] = store['latitude']\n",
    "    geschaeft['longitude'] = store['longitude']\n",
    "    geschaeft['name'] = store['name']\n",
    "    geschaeft['ort'] = store['ort']\n",
    "    geschaeft['plz'] = store['plz']\n",
    "    geschaeft['strasse'] = store['strasse']\n",
    "    geschaeft['hausnummer'] = store['hausnummer']\n",
    "    geschaeft['typ'] = store['formatId']\n",
    "    geschaeft['name'] = store['prettyUrlName']\n",
    "    geschaefte.append(geschaeft)"
   ]
  },
  {
   "cell_type": "code",
   "execution_count": 23,
   "metadata": {
    "collapsed": true
   },
   "outputs": [],
   "source": [
    "df_geschaefte = pd.DataFrame(geschaefte)"
   ]
  },
  {
   "cell_type": "code",
   "execution_count": 24,
   "metadata": {},
   "outputs": [
    {
     "data": {
      "text/html": [
       "<div>\n",
       "<style scoped>\n",
       "    .dataframe tbody tr th:only-of-type {\n",
       "        vertical-align: middle;\n",
       "    }\n",
       "\n",
       "    .dataframe tbody tr th {\n",
       "        vertical-align: top;\n",
       "    }\n",
       "\n",
       "    .dataframe thead th {\n",
       "        text-align: right;\n",
       "    }\n",
       "</style>\n",
       "<table border=\"1\" class=\"dataframe\">\n",
       "  <thead>\n",
       "    <tr style=\"text-align: right;\">\n",
       "      <th></th>\n",
       "      <th>hausnummer</th>\n",
       "      <th>latitude</th>\n",
       "      <th>longitude</th>\n",
       "      <th>name</th>\n",
       "      <th>ort</th>\n",
       "      <th>plz</th>\n",
       "      <th>strasse</th>\n",
       "      <th>typ</th>\n",
       "    </tr>\n",
       "  </thead>\n",
       "  <tbody>\n",
       "    <tr>\n",
       "      <th>0</th>\n",
       "      <td>42</td>\n",
       "      <td>46.837574</td>\n",
       "      <td>8.186167</td>\n",
       "      <td>coop-supermarkt-giswil</td>\n",
       "      <td>Giswil</td>\n",
       "      <td>6074</td>\n",
       "      <td>Brünigstrasse</td>\n",
       "      <td>retail</td>\n",
       "    </tr>\n",
       "    <tr>\n",
       "      <th>1</th>\n",
       "      <td>2</td>\n",
       "      <td>46.728708</td>\n",
       "      <td>8.181781</td>\n",
       "      <td>coop-supermarkt-meiringen</td>\n",
       "      <td>Meiringen</td>\n",
       "      <td>3860</td>\n",
       "      <td>Alpwegern</td>\n",
       "      <td>retail</td>\n",
       "    </tr>\n",
       "  </tbody>\n",
       "</table>\n",
       "</div>"
      ],
      "text/plain": [
       "  hausnummer   latitude  longitude                       name        ort  \\\n",
       "0         42  46.837574   8.186167     coop-supermarkt-giswil     Giswil   \n",
       "1          2  46.728708   8.181781  coop-supermarkt-meiringen  Meiringen   \n",
       "\n",
       "    plz        strasse     typ  \n",
       "0  6074  Brünigstrasse  retail  \n",
       "1  3860      Alpwegern  retail  "
      ]
     },
     "execution_count": 24,
     "metadata": {},
     "output_type": "execute_result"
    }
   ],
   "source": [
    "df_geschaefte.head(2)"
   ]
  },
  {
   "cell_type": "code",
   "execution_count": 26,
   "metadata": {
    "collapsed": true
   },
   "outputs": [],
   "source": [
    "df_geschaefte.to_csv('dataprojects/Coop/geschaefte.csv', index=False)"
   ]
  },
  {
   "cell_type": "code",
   "execution_count": null,
   "metadata": {
    "collapsed": true
   },
   "outputs": [],
   "source": []
  }
 ],
 "metadata": {
  "kernelspec": {
   "display_name": "Python 3",
   "language": "python",
   "name": "python3"
  },
  "language_info": {
   "codemirror_mode": {
    "name": "ipython",
    "version": 3
   },
   "file_extension": ".py",
   "mimetype": "text/x-python",
   "name": "python",
   "nbconvert_exporter": "python",
   "pygments_lexer": "ipython3",
   "version": "3.6.1"
  }
 },
 "nbformat": 4,
 "nbformat_minor": 2
}
