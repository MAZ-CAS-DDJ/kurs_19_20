{
 "cells": [
  {
   "cell_type": "markdown",
   "metadata": {},
   "source": [
    "# Geopandas Intro"
   ]
  },
  {
   "cell_type": "markdown",
   "metadata": {},
   "source": [
    "**Inhalt: ** Erste Schritte mit Geopandas\n",
    "\n",
    "**Nötige Skills**\n",
    "- Basic pandas skills\n",
    "- Funktionen und pandas\n",
    "\n",
    "**Lernziele**\n",
    "- Shapes kennenlernen\n",
    "- Punkte und Linien erstellen\n",
    "- Geodataframes erstellen\n",
    "- Geometrien definieren\n",
    "- Plotten in Geopandas"
   ]
  },
  {
   "cell_type": "markdown",
   "metadata": {},
   "source": [
    "## Das Beispiel\n",
    "\n",
    "Bergbahnen in der Schweiz"
   ]
  },
  {
   "cell_type": "markdown",
   "metadata": {},
   "source": [
    "## Setup"
   ]
  },
  {
   "cell_type": "code",
   "execution_count": 1,
   "metadata": {
    "collapsed": true
   },
   "outputs": [],
   "source": [
    "import pandas as pd"
   ]
  },
  {
   "cell_type": "code",
   "execution_count": 2,
   "metadata": {
    "collapsed": true
   },
   "outputs": [],
   "source": [
    "import geopandas as gpd\n",
    "from shapely.geometry import Point, LineString"
   ]
  },
  {
   "cell_type": "code",
   "execution_count": 3,
   "metadata": {
    "collapsed": true
   },
   "outputs": [],
   "source": [
    "%matplotlib inline"
   ]
  },
  {
   "cell_type": "markdown",
   "metadata": {},
   "source": [
    "## Import"
   ]
  },
  {
   "cell_type": "markdown",
   "metadata": {},
   "source": [
    "**Ein Shapefile für die Schweizer Kantone**"
   ]
  },
  {
   "cell_type": "code",
   "execution_count": 4,
   "metadata": {
    "collapsed": true
   },
   "outputs": [],
   "source": [
    "gdf_kantone = gpd.read_file('dataprojects/Projections/shp/g1k17.shp')"
   ]
  },
  {
   "cell_type": "code",
   "execution_count": 5,
   "metadata": {},
   "outputs": [
    {
     "data": {
      "text/html": [
       "<div>\n",
       "<style scoped>\n",
       "    .dataframe tbody tr th:only-of-type {\n",
       "        vertical-align: middle;\n",
       "    }\n",
       "\n",
       "    .dataframe tbody tr th {\n",
       "        vertical-align: top;\n",
       "    }\n",
       "\n",
       "    .dataframe thead th {\n",
       "        text-align: right;\n",
       "    }\n",
       "</style>\n",
       "<table border=\"1\" class=\"dataframe\">\n",
       "  <thead>\n",
       "    <tr style=\"text-align: right;\">\n",
       "      <th></th>\n",
       "      <th>KTNR</th>\n",
       "      <th>KTNAME</th>\n",
       "      <th>GRNR</th>\n",
       "      <th>AREA_HA</th>\n",
       "      <th>X_MIN</th>\n",
       "      <th>X_MAX</th>\n",
       "      <th>Y_MIN</th>\n",
       "      <th>Y_MAX</th>\n",
       "      <th>X_CNTR</th>\n",
       "      <th>Y_CNTR</th>\n",
       "      <th>...</th>\n",
       "      <th>Z_MAX</th>\n",
       "      <th>Z_AVG</th>\n",
       "      <th>Z_MED</th>\n",
       "      <th>E_MIN</th>\n",
       "      <th>E_MAX</th>\n",
       "      <th>N_MIN</th>\n",
       "      <th>N_MAX</th>\n",
       "      <th>E_CNTR</th>\n",
       "      <th>N_CNTR</th>\n",
       "      <th>geometry</th>\n",
       "    </tr>\n",
       "  </thead>\n",
       "  <tbody>\n",
       "    <tr>\n",
       "      <th>0</th>\n",
       "      <td>1</td>\n",
       "      <td>Zürich</td>\n",
       "      <td>4</td>\n",
       "      <td>172894</td>\n",
       "      <td>669244</td>\n",
       "      <td>716900</td>\n",
       "      <td>223896</td>\n",
       "      <td>283343</td>\n",
       "      <td>691800</td>\n",
       "      <td>252000</td>\n",
       "      <td>...</td>\n",
       "      <td>1291</td>\n",
       "      <td>533</td>\n",
       "      <td>504</td>\n",
       "      <td>2669244</td>\n",
       "      <td>2716900</td>\n",
       "      <td>1223896</td>\n",
       "      <td>1283343</td>\n",
       "      <td>2691800</td>\n",
       "      <td>1252000</td>\n",
       "      <td>POLYGON ((692429.2019999996 281173.7069999985,...</td>\n",
       "    </tr>\n",
       "    <tr>\n",
       "      <th>1</th>\n",
       "      <td>2</td>\n",
       "      <td>Bern / Berne</td>\n",
       "      <td>2</td>\n",
       "      <td>595952</td>\n",
       "      <td>556241</td>\n",
       "      <td>677745</td>\n",
       "      <td>130585</td>\n",
       "      <td>243834</td>\n",
       "      <td>614200</td>\n",
       "      <td>185600</td>\n",
       "      <td>...</td>\n",
       "      <td>4271</td>\n",
       "      <td>1198</td>\n",
       "      <td>979</td>\n",
       "      <td>2556241</td>\n",
       "      <td>2677745</td>\n",
       "      <td>1130585</td>\n",
       "      <td>1243834</td>\n",
       "      <td>2614200</td>\n",
       "      <td>1185600</td>\n",
       "      <td>(POLYGON ((573502.2039999999 194804.7199999988...</td>\n",
       "    </tr>\n",
       "  </tbody>\n",
       "</table>\n",
       "<p>2 rows × 21 columns</p>\n",
       "</div>"
      ],
      "text/plain": [
       "   KTNR        KTNAME  GRNR  AREA_HA   X_MIN   X_MAX   Y_MIN   Y_MAX  X_CNTR  \\\n",
       "0     1        Zürich     4   172894  669244  716900  223896  283343  691800   \n",
       "1     2  Bern / Berne     2   595952  556241  677745  130585  243834  614200   \n",
       "\n",
       "   Y_CNTR                        ...                          Z_MAX  Z_AVG  \\\n",
       "0  252000                        ...                           1291    533   \n",
       "1  185600                        ...                           4271   1198   \n",
       "\n",
       "   Z_MED    E_MIN    E_MAX    N_MIN    N_MAX   E_CNTR   N_CNTR  \\\n",
       "0    504  2669244  2716900  1223896  1283343  2691800  1252000   \n",
       "1    979  2556241  2677745  1130585  1243834  2614200  1185600   \n",
       "\n",
       "                                            geometry  \n",
       "0  POLYGON ((692429.2019999996 281173.7069999985,...  \n",
       "1  (POLYGON ((573502.2039999999 194804.7199999988...  \n",
       "\n",
       "[2 rows x 21 columns]"
      ]
     },
     "execution_count": 5,
     "metadata": {},
     "output_type": "execute_result"
    }
   ],
   "source": [
    "gdf_kantone.head(2)"
   ]
  },
  {
   "cell_type": "code",
   "execution_count": 6,
   "metadata": {},
   "outputs": [
    {
     "data": {
      "text/plain": [
       "<matplotlib.axes._subplots.AxesSubplot at 0x11aabe7f0>"
      ]
     },
     "execution_count": 6,
     "metadata": {},
     "output_type": "execute_result"
    },
    {
     "data": {
      "image/png": "[encoded data removed]",
      "text/plain": [
       "<Figure size 432x288 with 1 Axes>"
      ]
     },
     "metadata": {},
     "output_type": "display_data"
    }
   ],
   "source": [
    "gdf_kantone.plot()"
   ]
  },
  {
   "cell_type": "markdown",
   "metadata": {},
   "source": [
    "**Eine Liste der Bergbahnen**"
   ]
  },
  {
   "cell_type": "code",
   "execution_count": 7,
   "metadata": {
    "collapsed": true
   },
   "outputs": [],
   "source": [
    "df_bergbahnen = pd.read_excel('dataprojects/Projections/data/bergbahnen3D.xlsx')"
   ]
  },
  {
   "cell_type": "code",
   "execution_count": 8,
   "metadata": {},
   "outputs": [
    {
     "data": {
      "text/html": [
       "<div>\n",
       "<style scoped>\n",
       "    .dataframe tbody tr th:only-of-type {\n",
       "        vertical-align: middle;\n",
       "    }\n",
       "\n",
       "    .dataframe tbody tr th {\n",
       "        vertical-align: top;\n",
       "    }\n",
       "\n",
       "    .dataframe thead th {\n",
       "        text-align: right;\n",
       "    }\n",
       "</style>\n",
       "<table border=\"1\" class=\"dataframe\">\n",
       "  <thead>\n",
       "    <tr style=\"text-align: right;\">\n",
       "      <th></th>\n",
       "      <th>OBJEKTART</th>\n",
       "      <th>NAME</th>\n",
       "      <th>MIN_E</th>\n",
       "      <th>MIN_N</th>\n",
       "      <th>MIN_Z</th>\n",
       "      <th>MAX_E</th>\n",
       "      <th>MAX_N</th>\n",
       "      <th>MAX_Z</th>\n",
       "    </tr>\n",
       "  </thead>\n",
       "  <tbody>\n",
       "    <tr>\n",
       "      <th>0</th>\n",
       "      <td>Skilift</td>\n",
       "      <td>Grenzlift</td>\n",
       "      <td>621759</td>\n",
       "      <td>85777</td>\n",
       "      <td>3713</td>\n",
       "      <td>622992</td>\n",
       "      <td>85864</td>\n",
       "      <td>3902</td>\n",
       "    </tr>\n",
       "    <tr>\n",
       "      <th>1</th>\n",
       "      <td>Skilift</td>\n",
       "      <td>Plateau Breithorn</td>\n",
       "      <td>622730</td>\n",
       "      <td>86797</td>\n",
       "      <td>3800</td>\n",
       "      <td>622992</td>\n",
       "      <td>85867</td>\n",
       "      <td>3902</td>\n",
       "    </tr>\n",
       "  </tbody>\n",
       "</table>\n",
       "</div>"
      ],
      "text/plain": [
       "  OBJEKTART               NAME   MIN_E  MIN_N  MIN_Z   MAX_E  MAX_N  MAX_Z\n",
       "0   Skilift          Grenzlift  621759  85777   3713  622992  85864   3902\n",
       "1   Skilift  Plateau Breithorn  622730  86797   3800  622992  85867   3902"
      ]
     },
     "execution_count": 8,
     "metadata": {},
     "output_type": "execute_result"
    }
   ],
   "source": [
    "df_bergbahnen.head(2)"
   ]
  },
  {
   "cell_type": "code",
   "execution_count": 9,
   "metadata": {},
   "outputs": [
    {
     "data": {
      "text/plain": [
       "Skilift         841\n",
       "Sesselbahn      365\n",
       "Luftseilbahn    327\n",
       "Gondelbahn      124\n",
       "Name: OBJEKTART, dtype: int64"
      ]
     },
     "execution_count": 9,
     "metadata": {},
     "output_type": "execute_result"
    }
   ],
   "source": [
    "df_bergbahnen['OBJEKTART'].value_counts()"
   ]
  },
  {
   "cell_type": "markdown",
   "metadata": {},
   "source": [
    "## Geometrien in Geopandas"
   ]
  },
  {
   "cell_type": "markdown",
   "metadata": {},
   "source": [
    "In unserem Shapefile der Kantone (\\*.shp) ist bereits eine Geometrie definiert: Eine separate Spalte in jedem Kanton ist dafür reserviert."
   ]
  },
  {
   "cell_type": "code",
   "execution_count": 10,
   "metadata": {},
   "outputs": [
    {
     "data": {
      "text/plain": [
       "Index(['KTNR', 'KTNAME', 'GRNR', 'AREA_HA', 'X_MIN', 'X_MAX', 'Y_MIN', 'Y_MAX',\n",
       "       'X_CNTR', 'Y_CNTR', 'Z_MIN', 'Z_MAX', 'Z_AVG', 'Z_MED', 'E_MIN',\n",
       "       'E_MAX', 'N_MIN', 'N_MAX', 'E_CNTR', 'N_CNTR', 'geometry'],\n",
       "      dtype='object')"
      ]
     },
     "execution_count": 10,
     "metadata": {},
     "output_type": "execute_result"
    }
   ],
   "source": [
    "gdf_kantone.columns"
   ]
  },
  {
   "cell_type": "markdown",
   "metadata": {},
   "source": [
    "In der Geometrie-Spalte sind (Überraschung!) geometrische Informationen drin. In diesem Fall: ein Polygon."
   ]
  },
  {
   "cell_type": "code",
   "execution_count": 11,
   "metadata": {},
   "outputs": [
    {
     "data": {
      "text/plain": [
       "0     POLYGON ((692429.2019999996 281173.7069999985,...\n",
       "1     (POLYGON ((573502.2039999999 194804.7199999988...\n",
       "2     POLYGON ((662037.5579999983 237690.7230000012,...\n",
       "3     POLYGON ((688456.9990000017 203340, 688740 200...\n",
       "4     POLYGON ((705202.6779999994 229721.1110000014,...\n",
       "5     (POLYGON ((671653.3999999985 190588.0009999983...\n",
       "6     POLYGON ((671798.2509999983 206022.8359999992,...\n",
       "7     POLYGON ((723477.3999999985 221272.4100000001,...\n",
       "8     POLYGON ((674191.8999999985 231111.9990000017,...\n",
       "9     (POLYGON ((549140.9800000004 178013.7609999999...\n",
       "10    (POLYGON ((619250.5020000003 223755.1240000017...\n",
       "11    POLYGON ((619154.8669999987 272278.5749999993,...\n",
       "12    (POLYGON ((595269.6999999993 251478.4990000017...\n",
       "13    (POLYGON ((686912.7930000015 272390.0670000017...\n",
       "14    POLYGON ((758852.5929999985 259182.8200000003,...\n",
       "15    (POLYGON ((746530.2170000002 250212.5769999996...\n",
       "16    POLYGON ((759598.5700000003 267841.9310000017,...\n",
       "17    POLYGON ((760618.8740000017 213990.9479999989,...\n",
       "18    POLYGON ((659054.1290000007 273230.3110000007,...\n",
       "19    (POLYGON ((753544.5890000015 261836.0960000008...\n",
       "20    POLYGON ((716299 165467, 716755.4100000001 164...\n",
       "21    (POLYGON ((546732.8409999982 193708.4699999988...\n",
       "22    POLYGON ((675051.8830000013 165431.9400000013,...\n",
       "23    POLYGON ((556971.2049999982 217029.1409999989,...\n",
       "24    (POLYGON ((500975.3200000003 128340.3099999987...\n",
       "25    POLYGON ((569711.7309999987 261016.4400000013,...\n",
       "Name: geometry, dtype: object"
      ]
     },
     "execution_count": 11,
     "metadata": {},
     "output_type": "execute_result"
    }
   ],
   "source": [
    "gdf_kantone.geometry"
   ]
  },
  {
   "cell_type": "markdown",
   "metadata": {},
   "source": [
    "Unsere Bergbahnen-Liste hat allerdings noch keine Geometrie-Spalte:"
   ]
  },
  {
   "cell_type": "code",
   "execution_count": 12,
   "metadata": {},
   "outputs": [
    {
     "data": {
      "text/plain": [
       "Index(['OBJEKTART', 'NAME', 'MIN_E', 'MIN_N', 'MIN_Z', 'MAX_E', 'MAX_N',\n",
       "       'MAX_Z'],\n",
       "      dtype='object')"
      ]
     },
     "execution_count": 12,
     "metadata": {},
     "output_type": "execute_result"
    }
   ],
   "source": [
    "df_bergbahnen.columns"
   ]
  },
  {
   "cell_type": "markdown",
   "metadata": {},
   "source": [
    "Wir müssen erst eine Geometrie erstellen!"
   ]
  },
  {
   "cell_type": "markdown",
   "metadata": {},
   "source": [
    "### Punkte (Again!)"
   ]
  },
  {
   "cell_type": "markdown",
   "metadata": {},
   "source": [
    "**Let's make a point!**\n",
    "\n",
    "Quiz: Erstellen Sie einen Punkt am Ort (5, -7)"
   ]
  },
  {
   "cell_type": "code",
   "execution_count": 13,
   "metadata": {
    "collapsed": true
   },
   "outputs": [],
   "source": [
    "x = 5\n",
    "y = -7"
   ]
  },
  {
   "cell_type": "code",
   "execution_count": 14,
   "metadata": {
    "collapsed": true
   },
   "outputs": [],
   "source": [
    "punkt = Point(x, y)"
   ]
  },
  {
   "cell_type": "code",
   "execution_count": 15,
   "metadata": {},
   "outputs": [
    {
     "data": {
      "image/svg+xml": [
       "<svg xmlns=\"http://www.w3.org/2000/svg\" xmlns:xlink=\"http://www.w3.org/1999/xlink\" width=\"100.0\" height=\"100.0\" viewBox=\"4.0 -8.0 2.0 2.0\" preserveAspectRatio=\"xMinYMin meet\"><g transform=\"matrix(1,0,0,-1,0,-14.0)\"><circle cx=\"5.0\" cy=\"-7.0\" r=\"0.06\" stroke=\"#555555\" stroke-width=\"0.02\" fill=\"#66cc99\" opacity=\"0.6\" /></g></svg>"
      ],
      "text/plain": [
       "<shapely.geometry.point.Point at 0x11d145320>"
      ]
     },
     "execution_count": 15,
     "metadata": {},
     "output_type": "execute_result"
    }
   ],
   "source": [
    "punkt"
   ]
  },
  {
   "cell_type": "markdown",
   "metadata": {},
   "source": [
    "**in Pandas**\n",
    "\n",
    "Was wir wollen, ist: eine Spalte in unserem Dataframe, die für jede Bergbahn eine Punkt-Geometrie enthält"
   ]
  },
  {
   "cell_type": "markdown",
   "metadata": {},
   "source": [
    "... die umständliche Variante mit einer separaten Funktion:"
   ]
  },
  {
   "cell_type": "code",
   "execution_count": 16,
   "metadata": {
    "collapsed": true
   },
   "outputs": [],
   "source": [
    "def make_point(row):\n",
    "    x = row['MIN_E']\n",
    "    y = row['MIN_N']\n",
    "    return Point(x, y)"
   ]
  },
  {
   "cell_type": "code",
   "execution_count": 17,
   "metadata": {},
   "outputs": [
    {
     "data": {
      "text/plain": [
       "0        POINT (621759 85777)\n",
       "1        POINT (622730 86797)\n",
       "2        POINT (621991 91079)\n",
       "3        POINT (621542 87239)\n",
       "4        POINT (621517 87222)\n",
       "5       POINT (635480 100882)\n",
       "6       POINT (635509 100873)\n",
       "7        POINT (621494 87233)\n",
       "8        POINT (618779 86517)\n",
       "9        POINT (621184 88240)\n",
       "10      POINT (642130 155229)\n",
       "11       POINT (628987 93322)\n",
       "12      POINT (635482 101412)\n",
       "13       POINT (621939 91007)\n",
       "14       POINT (619879 88521)\n",
       "15      POINT (589429 103726)\n",
       "16      POINT (783301 145084)\n",
       "17       POINT (627027 95334)\n",
       "18       POINT (628865 92876)\n",
       "19       POINT (628634 94280)\n",
       "20       POINT (621984 90973)\n",
       "21      POINT (635286 103618)\n",
       "22      POINT (640622 109797)\n",
       "23      POINT (704665 161047)\n",
       "24      POINT (641390 138598)\n",
       "25       POINT (626887 96228)\n",
       "26       POINT (627720 97646)\n",
       "27      POINT (624520 141678)\n",
       "28      POINT (675497 181088)\n",
       "29      POINT (674736 181726)\n",
       "                ...          \n",
       "1627    POINT (605706 175443)\n",
       "1628    POINT (681760 240819)\n",
       "1629    POINT (697803 204487)\n",
       "1630    POINT (711863 241188)\n",
       "1631    POINT (557405 132171)\n",
       "1632    POINT (722219 212923)\n",
       "1633    POINT (690699 196282)\n",
       "1634    POINT (626427 218153)\n",
       "1635    POINT (693526 111583)\n",
       "1636    POINT (694223 113638)\n",
       "1637    POINT (716856 253581)\n",
       "1638    POINT (696467 114709)\n",
       "1639    POINT (712899 244838)\n",
       "1640    POINT (687908 194812)\n",
       "1641    POINT (721484 202039)\n",
       "1642     POINT (710190 96421)\n",
       "1643    POINT (723587 210602)\n",
       "1644    POINT (689711 203914)\n",
       "1645    POINT (737845 219630)\n",
       "1646     POINT (716040 86901)\n",
       "1647    POINT (674796 258824)\n",
       "1648    POINT (697461 114962)\n",
       "1649    POINT (722894 123868)\n",
       "1650    POINT (690761 190705)\n",
       "1651    POINT (637045 259861)\n",
       "1652    POINT (697094 115996)\n",
       "1653    POINT (722244 213641)\n",
       "1654    POINT (565980 118163)\n",
       "1655    POINT (566282 119385)\n",
       "1656    POINT (701713 114240)\n",
       "Length: 1657, dtype: object"
      ]
     },
     "execution_count": 17,
     "metadata": {},
     "output_type": "execute_result"
    }
   ],
   "source": [
    "df_bergbahnen.apply(make_point, axis=1)"
   ]
  },
  {
   "cell_type": "markdown",
   "metadata": {},
   "source": [
    "... oder die schnelle Variante mit einer Lambda-Funktion:\n",
    "\n",
    "(remember Lambda-Funktionen? Eine Funktion, die keinen Namen trägt!)"
   ]
  },
  {
   "cell_type": "code",
   "execution_count": 18,
   "metadata": {
    "collapsed": true
   },
   "outputs": [],
   "source": [
    "df_bergbahnen['Punkt1'] = df_bergbahnen.apply(lambda row: Point(row['MIN_E'], row['MIN_N']), axis=1)"
   ]
  },
  {
   "cell_type": "code",
   "execution_count": 19,
   "metadata": {},
   "outputs": [
    {
     "data": {
      "text/html": [
       "<div>\n",
       "<style scoped>\n",
       "    .dataframe tbody tr th:only-of-type {\n",
       "        vertical-align: middle;\n",
       "    }\n",
       "\n",
       "    .dataframe tbody tr th {\n",
       "        vertical-align: top;\n",
       "    }\n",
       "\n",
       "    .dataframe thead th {\n",
       "        text-align: right;\n",
       "    }\n",
       "</style>\n",
       "<table border=\"1\" class=\"dataframe\">\n",
       "  <thead>\n",
       "    <tr style=\"text-align: right;\">\n",
       "      <th></th>\n",
       "      <th>OBJEKTART</th>\n",
       "      <th>NAME</th>\n",
       "      <th>MIN_E</th>\n",
       "      <th>MIN_N</th>\n",
       "      <th>MIN_Z</th>\n",
       "      <th>MAX_E</th>\n",
       "      <th>MAX_N</th>\n",
       "      <th>MAX_Z</th>\n",
       "      <th>Punkt1</th>\n",
       "    </tr>\n",
       "  </thead>\n",
       "  <tbody>\n",
       "    <tr>\n",
       "      <th>0</th>\n",
       "      <td>Skilift</td>\n",
       "      <td>Grenzlift</td>\n",
       "      <td>621759</td>\n",
       "      <td>85777</td>\n",
       "      <td>3713</td>\n",
       "      <td>622992</td>\n",
       "      <td>85864</td>\n",
       "      <td>3902</td>\n",
       "      <td>POINT (621759 85777)</td>\n",
       "    </tr>\n",
       "    <tr>\n",
       "      <th>1</th>\n",
       "      <td>Skilift</td>\n",
       "      <td>Plateau Breithorn</td>\n",
       "      <td>622730</td>\n",
       "      <td>86797</td>\n",
       "      <td>3800</td>\n",
       "      <td>622992</td>\n",
       "      <td>85867</td>\n",
       "      <td>3902</td>\n",
       "      <td>POINT (622730 86797)</td>\n",
       "    </tr>\n",
       "  </tbody>\n",
       "</table>\n",
       "</div>"
      ],
      "text/plain": [
       "  OBJEKTART               NAME   MIN_E  MIN_N  MIN_Z   MAX_E  MAX_N  MAX_Z  \\\n",
       "0   Skilift          Grenzlift  621759  85777   3713  622992  85864   3902   \n",
       "1   Skilift  Plateau Breithorn  622730  86797   3800  622992  85867   3902   \n",
       "\n",
       "                 Punkt1  \n",
       "0  POINT (621759 85777)  \n",
       "1  POINT (622730 86797)  "
      ]
     },
     "execution_count": 19,
     "metadata": {},
     "output_type": "execute_result"
    }
   ],
   "source": [
    "df_bergbahnen.head(2)"
   ]
  },
  {
   "cell_type": "markdown",
   "metadata": {},
   "source": [
    "Wir haben jetzt eine Geometrie erstellt - jetzt müssen wir Geopandas noch mitteilen, dass wir diese Geometrie verwenden wollen!"
   ]
  },
  {
   "cell_type": "markdown",
   "metadata": {},
   "source": [
    "### Geopandas"
   ]
  },
  {
   "cell_type": "markdown",
   "metadata": {},
   "source": [
    "Das hier geht zum jetzigen Zeitpunkt noch nicht:"
   ]
  },
  {
   "cell_type": "code",
   "execution_count": 20,
   "metadata": {},
   "outputs": [
    {
     "data": {
      "text/plain": [
       "<matplotlib.axes._subplots.AxesSubplot at 0x11d34b358>"
      ]
     },
     "execution_count": 20,
     "metadata": {},
     "output_type": "execute_result"
    },
    {
     "data": {
      "image/png": "[encoded data removed]",
      "text/plain": [
       "<Figure size 432x288 with 1 Axes>"
      ]
     },
     "metadata": {},
     "output_type": "display_data"
    }
   ],
   "source": [
    "df_bergbahnen.plot()"
   ]
  },
  {
   "cell_type": "markdown",
   "metadata": {},
   "source": [
    "Wir müssen aus dem Dataframe erst ein Geodataframe erstellen!\n",
    "\n",
    "**Geodataframe konstruieren**\n",
    "\n",
    "Die Konstruktor-Funktion heisst `GeoDataFrame()`. Zwei Infos sind nötig:\n",
    "- Aus welchem Dataframe soll ein Geodataframe werden\n",
    "- Welche Spalte soll die Geometrie definieren"
   ]
  },
  {
   "cell_type": "code",
   "execution_count": 21,
   "metadata": {
    "collapsed": true
   },
   "outputs": [],
   "source": [
    "gdf_bergbahnen = gpd.GeoDataFrame(df_bergbahnen, geometry='Punkt1')"
   ]
  },
  {
   "cell_type": "code",
   "execution_count": 22,
   "metadata": {},
   "outputs": [
    {
     "data": {
      "text/html": [
       "<div>\n",
       "<style scoped>\n",
       "    .dataframe tbody tr th:only-of-type {\n",
       "        vertical-align: middle;\n",
       "    }\n",
       "\n",
       "    .dataframe tbody tr th {\n",
       "        vertical-align: top;\n",
       "    }\n",
       "\n",
       "    .dataframe thead th {\n",
       "        text-align: right;\n",
       "    }\n",
       "</style>\n",
       "<table border=\"1\" class=\"dataframe\">\n",
       "  <thead>\n",
       "    <tr style=\"text-align: right;\">\n",
       "      <th></th>\n",
       "      <th>OBJEKTART</th>\n",
       "      <th>NAME</th>\n",
       "      <th>MIN_E</th>\n",
       "      <th>MIN_N</th>\n",
       "      <th>MIN_Z</th>\n",
       "      <th>MAX_E</th>\n",
       "      <th>MAX_N</th>\n",
       "      <th>MAX_Z</th>\n",
       "      <th>Punkt1</th>\n",
       "    </tr>\n",
       "  </thead>\n",
       "  <tbody>\n",
       "    <tr>\n",
       "      <th>0</th>\n",
       "      <td>Skilift</td>\n",
       "      <td>Grenzlift</td>\n",
       "      <td>621759</td>\n",
       "      <td>85777</td>\n",
       "      <td>3713</td>\n",
       "      <td>622992</td>\n",
       "      <td>85864</td>\n",
       "      <td>3902</td>\n",
       "      <td>POINT (621759 85777)</td>\n",
       "    </tr>\n",
       "    <tr>\n",
       "      <th>1</th>\n",
       "      <td>Skilift</td>\n",
       "      <td>Plateau Breithorn</td>\n",
       "      <td>622730</td>\n",
       "      <td>86797</td>\n",
       "      <td>3800</td>\n",
       "      <td>622992</td>\n",
       "      <td>85867</td>\n",
       "      <td>3902</td>\n",
       "      <td>POINT (622730 86797)</td>\n",
       "    </tr>\n",
       "  </tbody>\n",
       "</table>\n",
       "</div>"
      ],
      "text/plain": [
       "  OBJEKTART               NAME   MIN_E  MIN_N  MIN_Z   MAX_E  MAX_N  MAX_Z  \\\n",
       "0   Skilift          Grenzlift  621759  85777   3713  622992  85864   3902   \n",
       "1   Skilift  Plateau Breithorn  622730  86797   3800  622992  85867   3902   \n",
       "\n",
       "                 Punkt1  \n",
       "0  POINT (621759 85777)  \n",
       "1  POINT (622730 86797)  "
      ]
     },
     "execution_count": 22,
     "metadata": {},
     "output_type": "execute_result"
    }
   ],
   "source": [
    "gdf_bergbahnen.head(2)"
   ]
  },
  {
   "cell_type": "markdown",
   "metadata": {},
   "source": [
    "Jetzt können wir plotten:"
   ]
  },
  {
   "cell_type": "code",
   "execution_count": 23,
   "metadata": {},
   "outputs": [
    {
     "data": {
      "text/plain": [
       "0        POINT (621759 85777)\n",
       "1        POINT (622730 86797)\n",
       "2        POINT (621991 91079)\n",
       "3        POINT (621542 87239)\n",
       "4        POINT (621517 87222)\n",
       "5       POINT (635480 100882)\n",
       "6       POINT (635509 100873)\n",
       "7        POINT (621494 87233)\n",
       "8        POINT (618779 86517)\n",
       "9        POINT (621184 88240)\n",
       "10      POINT (642130 155229)\n",
       "11       POINT (628987 93322)\n",
       "12      POINT (635482 101412)\n",
       "13       POINT (621939 91007)\n",
       "14       POINT (619879 88521)\n",
       "15      POINT (589429 103726)\n",
       "16      POINT (783301 145084)\n",
       "17       POINT (627027 95334)\n",
       "18       POINT (628865 92876)\n",
       "19       POINT (628634 94280)\n",
       "20       POINT (621984 90973)\n",
       "21      POINT (635286 103618)\n",
       "22      POINT (640622 109797)\n",
       "23      POINT (704665 161047)\n",
       "24      POINT (641390 138598)\n",
       "25       POINT (626887 96228)\n",
       "26       POINT (627720 97646)\n",
       "27      POINT (624520 141678)\n",
       "28      POINT (675497 181088)\n",
       "29      POINT (674736 181726)\n",
       "                ...          \n",
       "1627    POINT (605706 175443)\n",
       "1628    POINT (681760 240819)\n",
       "1629    POINT (697803 204487)\n",
       "1630    POINT (711863 241188)\n",
       "1631    POINT (557405 132171)\n",
       "1632    POINT (722219 212923)\n",
       "1633    POINT (690699 196282)\n",
       "1634    POINT (626427 218153)\n",
       "1635    POINT (693526 111583)\n",
       "1636    POINT (694223 113638)\n",
       "1637    POINT (716856 253581)\n",
       "1638    POINT (696467 114709)\n",
       "1639    POINT (712899 244838)\n",
       "1640    POINT (687908 194812)\n",
       "1641    POINT (721484 202039)\n",
       "1642     POINT (710190 96421)\n",
       "1643    POINT (723587 210602)\n",
       "1644    POINT (689711 203914)\n",
       "1645    POINT (737845 219630)\n",
       "1646     POINT (716040 86901)\n",
       "1647    POINT (674796 258824)\n",
       "1648    POINT (697461 114962)\n",
       "1649    POINT (722894 123868)\n",
       "1650    POINT (690761 190705)\n",
       "1651    POINT (637045 259861)\n",
       "1652    POINT (697094 115996)\n",
       "1653    POINT (722244 213641)\n",
       "1654    POINT (565980 118163)\n",
       "1655    POINT (566282 119385)\n",
       "1656    POINT (701713 114240)\n",
       "Name: Punkt1, Length: 1657, dtype: object"
      ]
     },
     "execution_count": 23,
     "metadata": {},
     "output_type": "execute_result"
    }
   ],
   "source": [
    "gdf_bergbahnen.geometry"
   ]
  },
  {
   "cell_type": "code",
   "execution_count": 24,
   "metadata": {},
   "outputs": [
    {
     "data": {
      "text/plain": [
       "<matplotlib.axes._subplots.AxesSubplot at 0x11d3725f8>"
      ]
     },
     "execution_count": 24,
     "metadata": {},
     "output_type": "execute_result"
    },
    {
     "data": {
      "image/png": "[encoded data removed]",
      "text/plain": [
       "<Figure size 1008x720 with 1 Axes>"
      ]
     },
     "metadata": {},
     "output_type": "display_data"
    }
   ],
   "source": [
    "gdf_bergbahnen.plot(figsize=(14,10), markersize=3)"
   ]
  },
  {
   "cell_type": "markdown",
   "metadata": {},
   "source": [
    "Oder zB auch nur einzele, ausgewählte Objekte:"
   ]
  },
  {
   "cell_type": "code",
   "execution_count": 25,
   "metadata": {},
   "outputs": [
    {
     "data": {
      "text/plain": [
       "<matplotlib.axes._subplots.AxesSubplot at 0x11d54ed30>"
      ]
     },
     "execution_count": 25,
     "metadata": {},
     "output_type": "execute_result"
    },
    {
     "data": {
      "image/png": "[encoded data removed]",
      "text/plain": [
       "<Figure size 1008x720 with 1 Axes>"
      ]
     },
     "metadata": {},
     "output_type": "display_data"
    }
   ],
   "source": [
    "gdf_bergbahnen[gdf_bergbahnen['OBJEKTART'] == 'Luftseilbahn'].plot(figsize=(14,10), markersize=3)"
   ]
  },
  {
   "cell_type": "markdown",
   "metadata": {},
   "source": [
    "## Geometrien 2\n",
    "\n",
    "Allerdings - moment mal. Unsere Seilbahnen sind eigentlich keine Punkte, sondern müssten eigentlich eine Linie sein - mit einem Anfang und einem Ende.\n",
    "\n",
    "### Linie (again!)"
   ]
  },
  {
   "cell_type": "markdown",
   "metadata": {},
   "source": [
    "**Quiz:** Erstellen Sie eine Linie durch die Punkte (8, 6) und (4, 10)"
   ]
  },
  {
   "cell_type": "code",
   "execution_count": 26,
   "metadata": {
    "collapsed": true
   },
   "outputs": [],
   "source": [
    "x1 = 8\n",
    "y1 = -6"
   ]
  },
  {
   "cell_type": "code",
   "execution_count": 27,
   "metadata": {
    "collapsed": true
   },
   "outputs": [],
   "source": [
    "x2 = 4\n",
    "y2 = 10"
   ]
  },
  {
   "cell_type": "code",
   "execution_count": 28,
   "metadata": {
    "collapsed": true
   },
   "outputs": [],
   "source": [
    "linie = LineString([Point(x1, y1), Point(x2, y2)])"
   ]
  },
  {
   "cell_type": "code",
   "execution_count": 29,
   "metadata": {},
   "outputs": [
    {
     "data": {
      "image/svg+xml": [
       "<svg xmlns=\"http://www.w3.org/2000/svg\" xmlns:xlink=\"http://www.w3.org/1999/xlink\" width=\"100.0\" height=\"100.0\" viewBox=\"3.36 -6.64 5.280000000000001 17.28\" preserveAspectRatio=\"xMinYMin meet\"><g transform=\"matrix(1,0,0,-1,0,4.000000000000001)\"><polyline fill=\"none\" stroke=\"#66cc99\" stroke-width=\"0.3456\" points=\"8.0,-6.0 4.0,10.0\" opacity=\"0.8\" /></g></svg>"
      ],
      "text/plain": [
       "<shapely.geometry.linestring.LineString at 0x11d70b320>"
      ]
     },
     "execution_count": 29,
     "metadata": {},
     "output_type": "execute_result"
    }
   ],
   "source": [
    "linie"
   ]
  },
  {
   "cell_type": "markdown",
   "metadata": {},
   "source": [
    "### in Pandas"
   ]
  },
  {
   "cell_type": "markdown",
   "metadata": {},
   "source": [
    "** Einen zweiten Punkt erstellen**\n",
    "\n",
    "Quiz: Erstellen Sie für jede Zeile einen Punkt2 anhand der Spalten 'MAX_E' und 'MAX_N'\n",
    "\n",
    "Tipp: Wir wollen eine lambda-Funktion dafür verwenden"
   ]
  },
  {
   "cell_type": "code",
   "execution_count": 30,
   "metadata": {
    "collapsed": true
   },
   "outputs": [],
   "source": [
    "gdf_bergbahnen['Punkt2'] = gdf_bergbahnen.apply(lambda row: Point(row['MAX_E'], row['MAX_N']), axis=1)"
   ]
  },
  {
   "cell_type": "code",
   "execution_count": 31,
   "metadata": {},
   "outputs": [
    {
     "data": {
      "text/html": [
       "<div>\n",
       "<style scoped>\n",
       "    .dataframe tbody tr th:only-of-type {\n",
       "        vertical-align: middle;\n",
       "    }\n",
       "\n",
       "    .dataframe tbody tr th {\n",
       "        vertical-align: top;\n",
       "    }\n",
       "\n",
       "    .dataframe thead th {\n",
       "        text-align: right;\n",
       "    }\n",
       "</style>\n",
       "<table border=\"1\" class=\"dataframe\">\n",
       "  <thead>\n",
       "    <tr style=\"text-align: right;\">\n",
       "      <th></th>\n",
       "      <th>OBJEKTART</th>\n",
       "      <th>NAME</th>\n",
       "      <th>MIN_E</th>\n",
       "      <th>MIN_N</th>\n",
       "      <th>MIN_Z</th>\n",
       "      <th>MAX_E</th>\n",
       "      <th>MAX_N</th>\n",
       "      <th>MAX_Z</th>\n",
       "      <th>Punkt1</th>\n",
       "      <th>Punkt2</th>\n",
       "    </tr>\n",
       "  </thead>\n",
       "  <tbody>\n",
       "    <tr>\n",
       "      <th>0</th>\n",
       "      <td>Skilift</td>\n",
       "      <td>Grenzlift</td>\n",
       "      <td>621759</td>\n",
       "      <td>85777</td>\n",
       "      <td>3713</td>\n",
       "      <td>622992</td>\n",
       "      <td>85864</td>\n",
       "      <td>3902</td>\n",
       "      <td>POINT (621759 85777)</td>\n",
       "      <td>POINT (622992 85864)</td>\n",
       "    </tr>\n",
       "    <tr>\n",
       "      <th>1</th>\n",
       "      <td>Skilift</td>\n",
       "      <td>Plateau Breithorn</td>\n",
       "      <td>622730</td>\n",
       "      <td>86797</td>\n",
       "      <td>3800</td>\n",
       "      <td>622992</td>\n",
       "      <td>85867</td>\n",
       "      <td>3902</td>\n",
       "      <td>POINT (622730 86797)</td>\n",
       "      <td>POINT (622992 85867)</td>\n",
       "    </tr>\n",
       "  </tbody>\n",
       "</table>\n",
       "</div>"
      ],
      "text/plain": [
       "  OBJEKTART               NAME   MIN_E  MIN_N  MIN_Z   MAX_E  MAX_N  MAX_Z  \\\n",
       "0   Skilift          Grenzlift  621759  85777   3713  622992  85864   3902   \n",
       "1   Skilift  Plateau Breithorn  622730  86797   3800  622992  85867   3902   \n",
       "\n",
       "                 Punkt1                Punkt2  \n",
       "0  POINT (621759 85777)  POINT (622992 85864)  \n",
       "1  POINT (622730 86797)  POINT (622992 85867)  "
      ]
     },
     "execution_count": 31,
     "metadata": {},
     "output_type": "execute_result"
    }
   ],
   "source": [
    "gdf_bergbahnen.head(2)"
   ]
  },
  {
   "cell_type": "markdown",
   "metadata": {},
   "source": [
    "**Eine Linie daraus machen**\n",
    "\n",
    "Quiz: Erstellen Sie für jede Zeile eine Linie anhand der beiden Punkt-Spalten, die wir zuvor erstellt haben"
   ]
  },
  {
   "cell_type": "code",
   "execution_count": 32,
   "metadata": {
    "collapsed": true
   },
   "outputs": [],
   "source": [
    "gdf_bergbahnen['Linie'] = gdf_bergbahnen.apply(lambda row: LineString([row['Punkt1'], row['Punkt2']]), axis=1)"
   ]
  },
  {
   "cell_type": "code",
   "execution_count": 33,
   "metadata": {},
   "outputs": [
    {
     "data": {
      "text/html": [
       "<div>\n",
       "<style scoped>\n",
       "    .dataframe tbody tr th:only-of-type {\n",
       "        vertical-align: middle;\n",
       "    }\n",
       "\n",
       "    .dataframe tbody tr th {\n",
       "        vertical-align: top;\n",
       "    }\n",
       "\n",
       "    .dataframe thead th {\n",
       "        text-align: right;\n",
       "    }\n",
       "</style>\n",
       "<table border=\"1\" class=\"dataframe\">\n",
       "  <thead>\n",
       "    <tr style=\"text-align: right;\">\n",
       "      <th></th>\n",
       "      <th>OBJEKTART</th>\n",
       "      <th>NAME</th>\n",
       "      <th>MIN_E</th>\n",
       "      <th>MIN_N</th>\n",
       "      <th>MIN_Z</th>\n",
       "      <th>MAX_E</th>\n",
       "      <th>MAX_N</th>\n",
       "      <th>MAX_Z</th>\n",
       "      <th>Punkt1</th>\n",
       "      <th>Punkt2</th>\n",
       "      <th>Linie</th>\n",
       "    </tr>\n",
       "  </thead>\n",
       "  <tbody>\n",
       "    <tr>\n",
       "      <th>0</th>\n",
       "      <td>Skilift</td>\n",
       "      <td>Grenzlift</td>\n",
       "      <td>621759</td>\n",
       "      <td>85777</td>\n",
       "      <td>3713</td>\n",
       "      <td>622992</td>\n",
       "      <td>85864</td>\n",
       "      <td>3902</td>\n",
       "      <td>POINT (621759 85777)</td>\n",
       "      <td>POINT (622992 85864)</td>\n",
       "      <td>LINESTRING (621759 85777, 622992 85864)</td>\n",
       "    </tr>\n",
       "    <tr>\n",
       "      <th>1</th>\n",
       "      <td>Skilift</td>\n",
       "      <td>Plateau Breithorn</td>\n",
       "      <td>622730</td>\n",
       "      <td>86797</td>\n",
       "      <td>3800</td>\n",
       "      <td>622992</td>\n",
       "      <td>85867</td>\n",
       "      <td>3902</td>\n",
       "      <td>POINT (622730 86797)</td>\n",
       "      <td>POINT (622992 85867)</td>\n",
       "      <td>LINESTRING (622730 86797, 622992 85867)</td>\n",
       "    </tr>\n",
       "  </tbody>\n",
       "</table>\n",
       "</div>"
      ],
      "text/plain": [
       "  OBJEKTART               NAME   MIN_E  MIN_N  MIN_Z   MAX_E  MAX_N  MAX_Z  \\\n",
       "0   Skilift          Grenzlift  621759  85777   3713  622992  85864   3902   \n",
       "1   Skilift  Plateau Breithorn  622730  86797   3800  622992  85867   3902   \n",
       "\n",
       "                 Punkt1                Punkt2  \\\n",
       "0  POINT (621759 85777)  POINT (622992 85864)   \n",
       "1  POINT (622730 86797)  POINT (622992 85867)   \n",
       "\n",
       "                                     Linie  \n",
       "0  LINESTRING (621759 85777, 622992 85864)  \n",
       "1  LINESTRING (622730 86797, 622992 85867)  "
      ]
     },
     "execution_count": 33,
     "metadata": {},
     "output_type": "execute_result"
    }
   ],
   "source": [
    "gdf_bergbahnen.head(2)"
   ]
  },
  {
   "cell_type": "markdown",
   "metadata": {},
   "source": [
    "**Geometrie neu setzen**"
   ]
  },
  {
   "cell_type": "markdown",
   "metadata": {},
   "source": [
    "Quiz: Stellen Sie die Geometrie des GDF um auf die Linien-Spalte"
   ]
  },
  {
   "cell_type": "code",
   "execution_count": 34,
   "metadata": {
    "collapsed": true
   },
   "outputs": [],
   "source": [
    "gdf_bergbahnen = gdf_bergbahnen.set_geometry('Linie')"
   ]
  },
  {
   "cell_type": "markdown",
   "metadata": {},
   "source": [
    "**Und Plot:**\n",
    "\n",
    "Quiz: Ein Plot von allen Luftseilbahnen"
   ]
  },
  {
   "cell_type": "code",
   "execution_count": 35,
   "metadata": {},
   "outputs": [
    {
     "data": {
      "text/plain": [
       "<matplotlib.axes._subplots.AxesSubplot at 0x11d979898>"
      ]
     },
     "execution_count": 35,
     "metadata": {},
     "output_type": "execute_result"
    },
    {
     "data": {
      "image/png": "[encoded data removed]",
      "text/plain": [
       "<Figure size 1008x720 with 1 Axes>"
      ]
     },
     "metadata": {},
     "output_type": "display_data"
    }
   ],
   "source": [
    "gdf_bergbahnen[gdf_bergbahnen['OBJEKTART'] == 'Luftseilbahn'].plot(figsize=(14,10), markersize=3)"
   ]
  },
  {
   "cell_type": "code",
   "execution_count": 36,
   "metadata": {},
   "outputs": [
    {
     "data": {
      "text/plain": [
       "0         LINESTRING (621759 85777, 622992 85864)\n",
       "1         LINESTRING (622730 86797, 622992 85867)\n",
       "2         LINESTRING (621991 91079, 622561 87549)\n",
       "3         LINESTRING (621542 87239, 621973 85824)\n",
       "4         LINESTRING (621517 87222, 621903 85823)\n",
       "5       LINESTRING (635480 100882, 635559 100090)\n",
       "6       LINESTRING (635509 100873, 635567 100091)\n",
       "7         LINESTRING (621494 87233, 621656 86612)\n",
       "8         LINESTRING (618779 86517, 620865 87025)\n",
       "9         LINESTRING (621184 88240, 620925 86925)\n",
       "10      LINESTRING (642130 155229, 642204 155320)\n",
       "11        LINESTRING (628987 93322, 629781 92863)\n",
       "12      LINESTRING (635482 101412, 635931 100871)\n",
       "13        LINESTRING (621939 91007, 620612 88847)\n",
       "14        LINESTRING (619879 88521, 620899 88189)\n",
       "15      LINESTRING (589429 103726, 590692 103181)\n",
       "16      LINESTRING (783301 145084, 783162 143536)\n",
       "17        LINESTRING (627027 95334, 628164 93115)\n",
       "18        LINESTRING (628865 92876, 628191 93082)\n",
       "19        LINESTRING (628634 94280, 628852 92872)\n",
       "20        LINESTRING (621984 90973, 621178 88101)\n",
       "21      LINESTRING (635286 103618, 635435 101344)\n",
       "22      LINESTRING (640622 109797, 642684 109956)\n",
       "23      LINESTRING (704665 161047, 706650 158851)\n",
       "24      LINESTRING (641390 138598, 640374 139485)\n",
       "25        LINESTRING (626887 96228, 627782 96723)\n",
       "26        LINESTRING (627720 97646, 627835 96706)\n",
       "27      LINESTRING (624520 141678, 623782 142100)\n",
       "28      LINESTRING (675497 181088, 675442 180434)\n",
       "29      LINESTRING (674736 181726, 675173 180416)\n",
       "                          ...                    \n",
       "1627    LINESTRING (605706 175443, 605443 175242)\n",
       "1628    LINESTRING (681760 240819, 680820 240476)\n",
       "1629    LINESTRING (697803 204487, 697755 204789)\n",
       "1630    LINESTRING (711863 241188, 711973 241206)\n",
       "1631    LINESTRING (557405 132171, 556947 132816)\n",
       "1632    LINESTRING (722219 212923, 721711 212828)\n",
       "1633    LINESTRING (690699 196282, 690939 196775)\n",
       "1634    LINESTRING (626427 218153, 626336 217777)\n",
       "1635    LINESTRING (693526 111583, 694042 111885)\n",
       "1636    LINESTRING (694223 113638, 694663 112812)\n",
       "1637    LINESTRING (716856 253581, 716497 252997)\n",
       "1638    LINESTRING (696467 114709, 696326 115060)\n",
       "1639    LINESTRING (712899 244838, 712887 244718)\n",
       "1640    LINESTRING (687908 194812, 687304 194694)\n",
       "1641    LINESTRING (721484 202039, 721821 201785)\n",
       "1642      LINESTRING (710190 96421, 710415 96189)\n",
       "1643    LINESTRING (723587 210602, 723462 209921)\n",
       "1644    LINESTRING (689711 203914, 689745 203690)\n",
       "1645    LINESTRING (737845 219630, 738028 218512)\n",
       "1646      LINESTRING (716040 86901, 716195 86071)\n",
       "1647    LINESTRING (674796 258824, 674679 258588)\n",
       "1648    LINESTRING (697461 114962, 696477 114713)\n",
       "1649    LINESTRING (722894 123868, 723153 124074)\n",
       "1650    LINESTRING (690761 190705, 690287 190233)\n",
       "1651    LINESTRING (637045 259861, 636842 259651)\n",
       "1652    LINESTRING (697094 115996, 696551 115908)\n",
       "1653    LINESTRING (722244 213641, 722058 213605)\n",
       "1654    LINESTRING (565980 118163, 565845 118083)\n",
       "1655    LINESTRING (566282 119385, 566207 119286)\n",
       "1656    LINESTRING (701713 114240, 701621 114174)\n",
       "Name: Linie, Length: 1657, dtype: object"
      ]
     },
     "execution_count": 36,
     "metadata": {},
     "output_type": "execute_result"
    }
   ],
   "source": [
    "gdf_bergbahnen.geometry"
   ]
  },
  {
   "cell_type": "markdown",
   "metadata": {},
   "source": [
    "## Mehrere Layer"
   ]
  },
  {
   "cell_type": "markdown",
   "metadata": {},
   "source": [
    "Was sich immer gut macht, ist, eine Liste von Punkten auf irgendeinen geografischen Basislayer zu plotten.\n",
    "\n",
    "An dieser Stelle verwenden wir:\n",
    "- Das Geodataframe mit den Kantonen\n",
    "- Das Geodagaframe mit den Bergbahnen"
   ]
  },
  {
   "cell_type": "code",
   "execution_count": 37,
   "metadata": {},
   "outputs": [
    {
     "data": {
      "text/plain": [
       "<matplotlib.axes._subplots.AxesSubplot at 0x11d9b3550>"
      ]
     },
     "execution_count": 37,
     "metadata": {},
     "output_type": "execute_result"
    },
    {
     "data": {
      "image/png": "[encoded data removed]",
      "text/plain": [
       "<Figure size 1008x720 with 1 Axes>"
      ]
     },
     "metadata": {},
     "output_type": "display_data"
    }
   ],
   "source": [
    "ax = gdf_kantone.plot(figsize=(14,10), color='lightgrey', edgecolor='white')\n",
    "gdf_bergbahnen[gdf_bergbahnen['OBJEKTART'] == 'Luftseilbahn'].plot(figsize=(14,10), markersize=3, ax=ax)"
   ]
  },
  {
   "cell_type": "code",
   "execution_count": null,
   "metadata": {
    "collapsed": true
   },
   "outputs": [],
   "source": []
  },
  {
   "cell_type": "code",
   "execution_count": null,
   "metadata": {
    "collapsed": true
   },
   "outputs": [],
   "source": []
  },
  {
   "cell_type": "code",
   "execution_count": null,
   "metadata": {
    "collapsed": true
   },
   "outputs": [],
   "source": []
  },
  {
   "cell_type": "code",
   "execution_count": null,
   "metadata": {
    "collapsed": true
   },
   "outputs": [],
   "source": []
  },
  {
   "cell_type": "code",
   "execution_count": null,
   "metadata": {
    "collapsed": true
   },
   "outputs": [],
   "source": []
  },
  {
   "cell_type": "code",
   "execution_count": null,
   "metadata": {
    "collapsed": true
   },
   "outputs": [],
   "source": []
  },
  {
   "cell_type": "code",
   "execution_count": null,
   "metadata": {
    "collapsed": true
   },
   "outputs": [],
   "source": []
  },
  {
   "cell_type": "code",
   "execution_count": null,
   "metadata": {
    "collapsed": true
   },
   "outputs": [],
   "source": []
  },
  {
   "cell_type": "code",
   "execution_count": null,
   "metadata": {
    "collapsed": true
   },
   "outputs": [],
   "source": []
  },
  {
   "cell_type": "code",
   "execution_count": null,
   "metadata": {
    "collapsed": true
   },
   "outputs": [],
   "source": []
  },
  {
   "cell_type": "code",
   "execution_count": null,
   "metadata": {
    "collapsed": true
   },
   "outputs": [],
   "source": []
  },
  {
   "cell_type": "code",
   "execution_count": null,
   "metadata": {
    "collapsed": true
   },
   "outputs": [],
   "source": []
  },
  {
   "cell_type": "code",
   "execution_count": null,
   "metadata": {
    "collapsed": true
   },
   "outputs": [],
   "source": []
  }
 ],
 "metadata": {
  "kernelspec": {
   "display_name": "Python 3",
   "language": "python",
   "name": "python3"
  },
  "language_info": {
   "codemirror_mode": {
    "name": "ipython",
    "version": 3
   },
   "file_extension": ".py",
   "mimetype": "text/x-python",
   "name": "python",
   "nbconvert_exporter": "python",
   "pygments_lexer": "ipython3",
   "version": "3.6.1"
  }
 },
 "nbformat": 4,
 "nbformat_minor": 2
}
