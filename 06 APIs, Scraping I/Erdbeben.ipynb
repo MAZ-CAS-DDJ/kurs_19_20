{
 "cells": [
  {
   "cell_type": "markdown",
   "metadata": {},
   "source": [
    "# Requests"
   ]
  },
  {
   "cell_type": "code",
   "execution_count": 4,
   "metadata": {
    "collapsed": true
   },
   "outputs": [],
   "source": [
    "import requests"
   ]
  },
  {
   "cell_type": "markdown",
   "metadata": {},
   "source": [
    "[Dokumentation von requests](http://docs.python-requests.org/en/master/). "
   ]
  },
  {
   "cell_type": "code",
   "execution_count": 5,
   "metadata": {
    "collapsed": true
   },
   "outputs": [],
   "source": [
    "r = requests.get('https://api.github.com/user', auth=('barjacks', 'XXXXXXX'))"
   ]
  },
  {
   "cell_type": "code",
   "execution_count": 7,
   "metadata": {},
   "outputs": [
    {
     "data": {
      "text/plain": [
       "{'avatar_url': 'https://avatars1.githubusercontent.com/u/1587242?v=4',\n",
       " 'bio': None,\n",
       " 'blog': '',\n",
       " 'collaborators': 0,\n",
       " 'company': None,\n",
       " 'created_at': '2012-03-29T14:05:09Z',\n",
       " 'disk_usage': 227011,\n",
       " 'email': None,\n",
       " 'events_url': 'https://api.github.com/users/barjacks/events{/privacy}',\n",
       " 'followers': 31,\n",
       " 'followers_url': 'https://api.github.com/users/barjacks/followers',\n",
       " 'following': 19,\n",
       " 'following_url': 'https://api.github.com/users/barjacks/following{/other_user}',\n",
       " 'gists_url': 'https://api.github.com/users/barjacks/gists{/gist_id}',\n",
       " 'gravatar_id': '',\n",
       " 'hireable': None,\n",
       " 'html_url': 'https://github.com/barjacks',\n",
       " 'id': 1587242,\n",
       " 'location': None,\n",
       " 'login': 'barjacks',\n",
       " 'name': None,\n",
       " 'node_id': 'MDQ6VXNlcjE1ODcyNDI=',\n",
       " 'organizations_url': 'https://api.github.com/users/barjacks/orgs',\n",
       " 'owned_private_repos': 0,\n",
       " 'plan': {'collaborators': 0,\n",
       "  'name': 'free',\n",
       "  'private_repos': 0,\n",
       "  'space': 976562499},\n",
       " 'private_gists': 0,\n",
       " 'public_gists': 0,\n",
       " 'public_repos': 31,\n",
       " 'received_events_url': 'https://api.github.com/users/barjacks/received_events',\n",
       " 'repos_url': 'https://api.github.com/users/barjacks/repos',\n",
       " 'site_admin': False,\n",
       " 'starred_url': 'https://api.github.com/users/barjacks/starred{/owner}{/repo}',\n",
       " 'subscriptions_url': 'https://api.github.com/users/barjacks/subscriptions',\n",
       " 'total_private_repos': 1,\n",
       " 'two_factor_authentication': False,\n",
       " 'type': 'User',\n",
       " 'updated_at': '2018-09-19T08:46:54Z',\n",
       " 'url': 'https://api.github.com/users/barjacks'}"
      ]
     },
     "execution_count": 7,
     "metadata": {},
     "output_type": "execute_result"
    }
   ],
   "source": [
    "r.json()"
   ]
  },
  {
   "cell_type": "markdown",
   "metadata": {},
   "source": [
    "# APIs"
   ]
  },
  {
   "cell_type": "markdown",
   "metadata": {},
   "source": [
    "- Googeln wir USGS\n",
    "- Suchen wir nach den APIs\n",
    "- In der Suche Earthquale API"
   ]
  },
  {
   "cell_type": "code",
   "execution_count": 8,
   "metadata": {
    "collapsed": true
   },
   "outputs": [],
   "source": [
    "base = \"https://earthquake.usgs.gov/fdsnws/event/1/\"\n",
    "action = \"count?\"\n",
    "parameter = \"starttime=2018-09-25&endtime=2018-09-30\""
   ]
  },
  {
   "cell_type": "code",
   "execution_count": 9,
   "metadata": {
    "collapsed": true
   },
   "outputs": [],
   "source": [
    "url = base + action + parameter"
   ]
  },
  {
   "cell_type": "code",
   "execution_count": 10,
   "metadata": {
    "collapsed": true
   },
   "outputs": [],
   "source": [
    "import requests"
   ]
  },
  {
   "cell_type": "code",
   "execution_count": 14,
   "metadata": {},
   "outputs": [
    {
     "data": {
      "text/plain": [
       "<Response [200]>"
      ]
     },
     "execution_count": 14,
     "metadata": {},
     "output_type": "execute_result"
    }
   ],
   "source": [
    "requests.get(url)"
   ]
  },
  {
   "cell_type": "code",
   "execution_count": 15,
   "metadata": {},
   "outputs": [
    {
     "data": {
      "text/plain": [
       "'1700'"
      ]
     },
     "execution_count": 15,
     "metadata": {},
     "output_type": "execute_result"
    }
   ],
   "source": [
    "requests.get(url).text"
   ]
  },
  {
   "cell_type": "code",
   "execution_count": null,
   "metadata": {
    "collapsed": true
   },
   "outputs": [],
   "source": [
    "base = \"https://earthquake.usgs.gov/fdsnws/event/1/\"\n",
    "action = \"count?\"\n",
    "parameter = \"starttime=2018-09-25&endtime=2018-09-30\""
   ]
  }
 ],
 "metadata": {
  "kernelspec": {
   "display_name": "Python 3",
   "language": "python",
   "name": "python3"
  },
  "language_info": {
   "codemirror_mode": {
    "name": "ipython",
    "version": 3
   },
   "file_extension": ".py",
   "mimetype": "text/x-python",
   "name": "python",
   "nbconvert_exporter": "python",
   "pygments_lexer": "ipython3",
   "version": "3.5.1"
  }
 },
 "nbformat": 4,
 "nbformat_minor": 2
}
