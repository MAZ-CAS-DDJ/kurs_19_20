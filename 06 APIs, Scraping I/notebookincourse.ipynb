{
 "cells": [
  {
   "cell_type": "code",
   "execution_count": 5,
   "metadata": {},
   "outputs": [],
   "source": [
    "import requests\n",
    "import pandas as pd"
   ]
  },
  {
   "cell_type": "code",
   "execution_count": 7,
   "metadata": {},
   "outputs": [],
   "source": [
    "r = requests.get(\"https://earthquake.usgs.gov/fdsnws/event/1/count?starttime=2019-09-01&endtime=2019-09-02\")"
   ]
  },
  {
   "cell_type": "code",
   "execution_count": null,
   "metadata": {},
   "outputs": [],
   "source": [
    "r = requests.get(\"https://earthquake.usgs.gov/fdsnws/event/1/count?starttime=2019-09-02&endtime=2019-09-03\")"
   ]
  },
  {
   "cell_type": "code",
   "execution_count": null,
   "metadata": {},
   "outputs": [],
   "source": [
    "r = requests.get(\"https://earthquake.usgs.gov/fdsnws/event/1/count?starttime=2019-09-03&endtime=2019-09-04\")"
   ]
  },
  {
   "cell_type": "code",
   "execution_count": 27,
   "metadata": {},
   "outputs": [],
   "source": [
    "urlanfang = \"https://earthquake.usgs.gov/fdsnws/event/1/count?starttime=2019-09-0\"\n",
    "string1 = \"1\"\n",
    "urlmitte = \"&endtime=2019-09-0\"\n",
    "string2 = \"2\""
   ]
  },
  {
   "cell_type": "code",
   "execution_count": 29,
   "metadata": {},
   "outputs": [
    {
     "data": {
      "text/plain": [
       "'https://earthquake.usgs.gov/fdsnws/event/1/count?starttime=2019-09-01&endtime=2019-09-02'"
      ]
     },
     "execution_count": 29,
     "metadata": {},
     "output_type": "execute_result"
    }
   ],
   "source": [
    "urlanfang + str(1) + urlmitte + str(2)"
   ]
  },
  {
   "cell_type": "code",
   "execution_count": 40,
   "metadata": {},
   "outputs": [],
   "source": [
    "lst = list(range(1,4))"
   ]
  },
  {
   "cell_type": "code",
   "execution_count": 41,
   "metadata": {},
   "outputs": [
    {
     "data": {
      "text/plain": [
       "[1, 2, 3]"
      ]
     },
     "execution_count": 41,
     "metadata": {},
     "output_type": "execute_result"
    }
   ],
   "source": [
    "lst"
   ]
  },
  {
   "cell_type": "code",
   "execution_count": 55,
   "metadata": {},
   "outputs": [
    {
     "name": "stdout",
     "output_type": "stream",
     "text": [
      "https://earthquake.usgs.gov/fdsnws/event/1/count?starttime=2019-09-01&endtime=2019-09-02\n",
      "644\n",
      "https://earthquake.usgs.gov/fdsnws/event/1/count?starttime=2019-09-02&endtime=2019-09-03\n",
      "514\n",
      "https://earthquake.usgs.gov/fdsnws/event/1/count?starttime=2019-09-03&endtime=2019-09-04\n",
      "607\n"
     ]
    }
   ],
   "source": [
    "urlanfang = \"https://earthquake.usgs.gov/fdsnws/event/1/count?starttime=2019-09-0\"\n",
    "urlmitte = \"&endtime=2019-09-0\"\n",
    "\n",
    "newlst = []\n",
    "for zahl in lst:\n",
    "    print(urlanfang + str(zahl)+ urlmitte+ str(zahl+1))\n",
    "    r = requests.get(urlanfang + str(zahl)+ urlmitte+ str(zahl+1))\n",
    "    print(r.text)\n",
    "    newlst.append(r.text)   "
   ]
  },
  {
   "cell_type": "code",
   "execution_count": 117,
   "metadata": {},
   "outputs": [],
   "source": [
    "r = requests.get(\"https://earthquake.usgs.gov/fdsnws/event/1/query?format=geojson&starttime=2019-09-01&endtime=2019-09-02\")"
   ]
  },
  {
   "cell_type": "code",
   "execution_count": 118,
   "metadata": {},
   "outputs": [],
   "source": [
    "r = r.json()"
   ]
  },
  {
   "cell_type": "code",
   "execution_count": 119,
   "metadata": {},
   "outputs": [
    {
     "data": {
      "text/plain": [
       "4"
      ]
     },
     "execution_count": 119,
     "metadata": {},
     "output_type": "execute_result"
    }
   ],
   "source": [
    "len(r)"
   ]
  },
  {
   "cell_type": "code",
   "execution_count": 76,
   "metadata": {},
   "outputs": [
    {
     "name": "stdout",
     "output_type": "stream",
     "text": [
      "type\n",
      "metadata\n",
      "features\n",
      "bbox\n"
     ]
    }
   ],
   "source": [
    "for meinname in r:\n",
    "    print(meinname)"
   ]
  },
  {
   "cell_type": "code",
   "execution_count": 82,
   "metadata": {},
   "outputs": [
    {
     "data": {
      "text/plain": [
       "dict"
      ]
     },
     "execution_count": 82,
     "metadata": {},
     "output_type": "execute_result"
    }
   ],
   "source": [
    "type(r)"
   ]
  },
  {
   "cell_type": "code",
   "execution_count": 83,
   "metadata": {},
   "outputs": [],
   "source": [
    "erdbeben = r[\"features\"]"
   ]
  },
  {
   "cell_type": "code",
   "execution_count": 85,
   "metadata": {},
   "outputs": [
    {
     "data": {
      "text/plain": [
       "list"
      ]
     },
     "execution_count": 85,
     "metadata": {},
     "output_type": "execute_result"
    }
   ],
   "source": [
    "type(erdbeben)"
   ]
  },
  {
   "cell_type": "code",
   "execution_count": 92,
   "metadata": {},
   "outputs": [
    {
     "data": {
      "text/plain": [
       "644"
      ]
     },
     "execution_count": 92,
     "metadata": {},
     "output_type": "execute_result"
    }
   ],
   "source": [
    "len(erdbeben)"
   ]
  },
  {
   "cell_type": "code",
   "execution_count": 96,
   "metadata": {},
   "outputs": [
    {
     "name": "stdout",
     "output_type": "stream",
     "text": [
      "type\n",
      "properties\n",
      "geometry\n",
      "id\n"
     ]
    }
   ],
   "source": [
    "for elem in erdbeben[0]:\n",
    "    print(elem)"
   ]
  },
  {
   "cell_type": "code",
   "execution_count": 98,
   "metadata": {},
   "outputs": [
    {
     "data": {
      "text/plain": [
       "'28km E of Coso Junction, CA'"
      ]
     },
     "execution_count": 98,
     "metadata": {},
     "output_type": "execute_result"
    }
   ],
   "source": [
    "erdbeben[0]['properties']['place']"
   ]
  },
  {
   "cell_type": "code",
   "execution_count": 56,
   "metadata": {},
   "outputs": [
    {
     "data": {
      "text/plain": [
       "['644', '514', '607']"
      ]
     },
     "execution_count": 56,
     "metadata": {},
     "output_type": "execute_result"
    }
   ],
   "source": [
    "newlst"
   ]
  },
  {
   "cell_type": "code",
   "execution_count": 99,
   "metadata": {},
   "outputs": [
    {
     "data": {
      "text/plain": [
       "{'mag': 0.72,\n",
       " 'place': '28km E of Coso Junction, CA',\n",
       " 'time': 1567382359230,\n",
       " 'updated': 1567382570608,\n",
       " 'tz': -480,\n",
       " 'url': 'https://earthquake.usgs.gov/earthquakes/eventpage/ci39034144',\n",
       " 'detail': 'https://earthquake.usgs.gov/fdsnws/event/1/query?eventid=ci39034144&format=geojson',\n",
       " 'felt': None,\n",
       " 'cdi': None,\n",
       " 'mmi': None,\n",
       " 'alert': None,\n",
       " 'status': 'automatic',\n",
       " 'tsunami': 0,\n",
       " 'sig': 8,\n",
       " 'net': 'ci',\n",
       " 'code': '39034144',\n",
       " 'ids': ',ci39034144,',\n",
       " 'sources': ',ci,',\n",
       " 'types': ',geoserve,nearby-cities,origin,phase-data,scitech-link,',\n",
       " 'nst': 11,\n",
       " 'dmin': 0.109,\n",
       " 'rms': 0.22,\n",
       " 'gap': 103,\n",
       " 'magType': 'ml',\n",
       " 'type': 'earthquake',\n",
       " 'title': 'M 0.7 - 28km E of Coso Junction, CA'}"
      ]
     },
     "execution_count": 99,
     "metadata": {},
     "output_type": "execute_result"
    }
   ],
   "source": [
    "erdbeben[0]['properties']"
   ]
  },
  {
   "cell_type": "code",
   "execution_count": 105,
   "metadata": {},
   "outputs": [
    {
     "name": "stdout",
     "output_type": "stream",
     "text": [
      "type\n",
      "properties\n",
      "geometry\n",
      "id\n"
     ]
    }
   ],
   "source": [
    "for dictionary_key in erdbeben[0]:\n",
    "    print(dictionary_key)"
   ]
  },
  {
   "cell_type": "code",
   "execution_count": 110,
   "metadata": {
    "scrolled": false
   },
   "outputs": [],
   "source": [
    "leereliste = []\n",
    "for beben in erdbeben:\n",
    "    magnitude = beben['properties']['mag']\n",
    "    place = beben['properties']['place']\n",
    "    \n",
    "    mini_dict = {\"Magnitude\":magnitude,\n",
    "                 \"Place\":place}\n",
    "    leereliste.append(mini_dict)"
   ]
  },
  {
   "cell_type": "code",
   "execution_count": 127,
   "metadata": {},
   "outputs": [
    {
     "data": {
      "text/plain": [
       "'Mon Sep 23 11:03:59 2019'"
      ]
     },
     "execution_count": 127,
     "metadata": {},
     "output_type": "execute_result"
    }
   ],
   "source": [
    "import time\n",
    "time.ctime(int(\"1569229439\"))"
   ]
  },
  {
   "cell_type": "code",
   "execution_count": null,
   "metadata": {},
   "outputs": [],
   "source": [
    "\"1567296106520\"\n",
    "\"1569229439\""
   ]
  },
  {
   "cell_type": "code",
   "execution_count": 131,
   "metadata": {},
   "outputs": [
    {
     "data": {
      "text/plain": [
       "1567296106520"
      ]
     },
     "execution_count": 131,
     "metadata": {},
     "output_type": "execute_result"
    }
   ],
   "source": [
    "beben['properties']['time']"
   ]
  },
  {
   "cell_type": "code",
   "execution_count": 149,
   "metadata": {},
   "outputs": [],
   "source": [
    "import time\n",
    "leereliste = []\n",
    "for beben in erdbeben:\n",
    "    place = beben['properties']['place']\n",
    "    magnitude = beben['properties']['mag']\n",
    "    zeit = str(beben['properties']['time'])\n",
    "    zeit = time.ctime(int(zeit))\n",
    "    mini_dict = {'place':place,\n",
    "                'magnitude': magnitude,\n",
    "                'time': zeit}\n",
    "    #print(mini_dict)\n",
    "    leereliste.append(mini_dict)\n"
   ]
  },
  {
   "cell_type": "code",
   "execution_count": 150,
   "metadata": {},
   "outputs": [
    {
     "data": {
      "text/html": [
       "<div>\n",
       "<style scoped>\n",
       "    .dataframe tbody tr th:only-of-type {\n",
       "        vertical-align: middle;\n",
       "    }\n",
       "\n",
       "    .dataframe tbody tr th {\n",
       "        vertical-align: top;\n",
       "    }\n",
       "\n",
       "    .dataframe thead th {\n",
       "        text-align: right;\n",
       "    }\n",
       "</style>\n",
       "<table border=\"1\" class=\"dataframe\">\n",
       "  <thead>\n",
       "    <tr style=\"text-align: right;\">\n",
       "      <th></th>\n",
       "      <th>magnitude</th>\n",
       "      <th>place</th>\n",
       "      <th>time</th>\n",
       "    </tr>\n",
       "  </thead>\n",
       "  <tbody>\n",
       "    <tr>\n",
       "      <th>0</th>\n",
       "      <td>0.72</td>\n",
       "      <td>28km E of Coso Junction, CA</td>\n",
       "      <td>Sat May 15 14:40:30 51638</td>\n",
       "    </tr>\n",
       "    <tr>\n",
       "      <th>1</th>\n",
       "      <td>0.57</td>\n",
       "      <td>12km WSW of Searles Valley, CA</td>\n",
       "      <td>Tue May 11 19:53:20 51638</td>\n",
       "    </tr>\n",
       "    <tr>\n",
       "      <th>2</th>\n",
       "      <td>1.60</td>\n",
       "      <td>30km WNW of Nikiski, Alaska</td>\n",
       "      <td>Tue May 11 15:22:20 51638</td>\n",
       "    </tr>\n",
       "    <tr>\n",
       "      <th>3</th>\n",
       "      <td>0.92</td>\n",
       "      <td>9km WNW of Calipatria, CA</td>\n",
       "      <td>Tue May 11 14:51:30 51638</td>\n",
       "    </tr>\n",
       "    <tr>\n",
       "      <th>4</th>\n",
       "      <td>0.77</td>\n",
       "      <td>14km E of Desert Hot Springs, CA</td>\n",
       "      <td>Tue May 11 01:18:30 51638</td>\n",
       "    </tr>\n",
       "    <tr>\n",
       "      <th>5</th>\n",
       "      <td>0.85</td>\n",
       "      <td>17km S of Searles Valley, CA</td>\n",
       "      <td>Mon May 10 05:21:50 51638</td>\n",
       "    </tr>\n",
       "    <tr>\n",
       "      <th>6</th>\n",
       "      <td>0.96</td>\n",
       "      <td>18km ESE of Little Lake, CA</td>\n",
       "      <td>Fri May  7 20:44:00 51638</td>\n",
       "    </tr>\n",
       "    <tr>\n",
       "      <th>7</th>\n",
       "      <td>1.78</td>\n",
       "      <td>19km S of Trona, CA</td>\n",
       "      <td>Sun May  2 16:35:00 51638</td>\n",
       "    </tr>\n",
       "    <tr>\n",
       "      <th>8</th>\n",
       "      <td>2.83</td>\n",
       "      <td>14km SSW of Searles Valley, CA</td>\n",
       "      <td>Wed Apr 28 19:12:40 51638</td>\n",
       "    </tr>\n",
       "    <tr>\n",
       "      <th>9</th>\n",
       "      <td>1.30</td>\n",
       "      <td>22km NNE of Badger, Alaska</td>\n",
       "      <td>Sat Apr 24 23:59:17 51638</td>\n",
       "    </tr>\n",
       "    <tr>\n",
       "      <th>10</th>\n",
       "      <td>1.50</td>\n",
       "      <td>6km NNW of Boron, CA</td>\n",
       "      <td>Wed Apr 21 10:16:30 51638</td>\n",
       "    </tr>\n",
       "    <tr>\n",
       "      <th>11</th>\n",
       "      <td>1.67</td>\n",
       "      <td>12km SSW of Searles Valley, CA</td>\n",
       "      <td>Mon Apr 19 20:56:50 51638</td>\n",
       "    </tr>\n",
       "    <tr>\n",
       "      <th>12</th>\n",
       "      <td>4.20</td>\n",
       "      <td>18km NE of Nikolski, Alaska</td>\n",
       "      <td>Sat Apr 17 19:32:25 51638</td>\n",
       "    </tr>\n",
       "    <tr>\n",
       "      <th>13</th>\n",
       "      <td>2.10</td>\n",
       "      <td>16km S of Fern Acres, Hawaii</td>\n",
       "      <td>Fri Apr 16 03:29:40 51638</td>\n",
       "    </tr>\n",
       "    <tr>\n",
       "      <th>14</th>\n",
       "      <td>0.34</td>\n",
       "      <td>97km NNW of Nikiski, Alaska</td>\n",
       "      <td>Mon Apr 12 06:38:00 51638</td>\n",
       "    </tr>\n",
       "    <tr>\n",
       "      <th>15</th>\n",
       "      <td>1.45</td>\n",
       "      <td>13km NNW of Mojave, CA</td>\n",
       "      <td>Sun Apr 11 11:03:40 51638</td>\n",
       "    </tr>\n",
       "    <tr>\n",
       "      <th>16</th>\n",
       "      <td>1.10</td>\n",
       "      <td>103km NW of Arctic Village, Alaska</td>\n",
       "      <td>Sun Apr 11 10:12:54 51638</td>\n",
       "    </tr>\n",
       "    <tr>\n",
       "      <th>17</th>\n",
       "      <td>1.00</td>\n",
       "      <td>82km W of Haines, Alaska</td>\n",
       "      <td>Tue Apr  6 18:04:41 51638</td>\n",
       "    </tr>\n",
       "    <tr>\n",
       "      <th>18</th>\n",
       "      <td>0.85</td>\n",
       "      <td>5km SW of Idyllwild, CA</td>\n",
       "      <td>Tue Apr  6 10:28:10 51638</td>\n",
       "    </tr>\n",
       "    <tr>\n",
       "      <th>19</th>\n",
       "      <td>1.45</td>\n",
       "      <td>19km ESE of Little Lake, CA</td>\n",
       "      <td>Mon Apr  5 07:15:40 51638</td>\n",
       "    </tr>\n",
       "    <tr>\n",
       "      <th>20</th>\n",
       "      <td>1.01</td>\n",
       "      <td>6km NNW of The Geysers, CA</td>\n",
       "      <td>Fri Apr  2 10:15:00 51638</td>\n",
       "    </tr>\n",
       "    <tr>\n",
       "      <th>21</th>\n",
       "      <td>2.10</td>\n",
       "      <td>7km WSW of Progreso, B.C., MX</td>\n",
       "      <td>Tue Mar 30 18:32:40 51638</td>\n",
       "    </tr>\n",
       "    <tr>\n",
       "      <th>22</th>\n",
       "      <td>1.12</td>\n",
       "      <td>14km SSW of Searles Valley, CA</td>\n",
       "      <td>Mon Mar 29 14:17:20 51638</td>\n",
       "    </tr>\n",
       "    <tr>\n",
       "      <th>23</th>\n",
       "      <td>0.26</td>\n",
       "      <td>95km SE of King Salmon, Alaska</td>\n",
       "      <td>Thu Mar 25 05:48:30 51638</td>\n",
       "    </tr>\n",
       "    <tr>\n",
       "      <th>24</th>\n",
       "      <td>4.90</td>\n",
       "      <td>43km SE of Sinabang, Indonesia</td>\n",
       "      <td>Mon Mar 22 10:44:35 51638</td>\n",
       "    </tr>\n",
       "    <tr>\n",
       "      <th>25</th>\n",
       "      <td>0.79</td>\n",
       "      <td>10km NE of Coso Junction, CA</td>\n",
       "      <td>Sun Mar 21 09:27:00 51638</td>\n",
       "    </tr>\n",
       "    <tr>\n",
       "      <th>26</th>\n",
       "      <td>0.70</td>\n",
       "      <td>45km NNW of Yakutat, Alaska</td>\n",
       "      <td>Mon Mar 15 12:30:26 51638</td>\n",
       "    </tr>\n",
       "    <tr>\n",
       "      <th>27</th>\n",
       "      <td>1.10</td>\n",
       "      <td>71km S of Kobuk, Alaska</td>\n",
       "      <td>Mon Mar 15 09:19:16 51638</td>\n",
       "    </tr>\n",
       "    <tr>\n",
       "      <th>28</th>\n",
       "      <td>2.50</td>\n",
       "      <td>12km NNW of Mojave, CA</td>\n",
       "      <td>Sun Mar 14 14:23:40 51638</td>\n",
       "    </tr>\n",
       "    <tr>\n",
       "      <th>29</th>\n",
       "      <td>0.55</td>\n",
       "      <td>6km NW of The Geysers, CA</td>\n",
       "      <td>Sun Mar 14 14:15:00 51638</td>\n",
       "    </tr>\n",
       "    <tr>\n",
       "      <th>...</th>\n",
       "      <td>...</td>\n",
       "      <td>...</td>\n",
       "      <td>...</td>\n",
       "    </tr>\n",
       "    <tr>\n",
       "      <th>614</th>\n",
       "      <td>0.41</td>\n",
       "      <td>1km S of Idyllwild, CA</td>\n",
       "      <td>Sat Oct  6 11:46:20 51635</td>\n",
       "    </tr>\n",
       "    <tr>\n",
       "      <th>615</th>\n",
       "      <td>0.80</td>\n",
       "      <td>98km SE of King Salmon, Alaska</td>\n",
       "      <td>Thu Oct  4 20:20:32 51635</td>\n",
       "    </tr>\n",
       "    <tr>\n",
       "      <th>616</th>\n",
       "      <td>1.61</td>\n",
       "      <td>7km WSW of Progreso, B.C., MX</td>\n",
       "      <td>Sun Sep 30 21:50:10 51635</td>\n",
       "    </tr>\n",
       "    <tr>\n",
       "      <th>617</th>\n",
       "      <td>1.00</td>\n",
       "      <td>6km WSW of North Nenana, Alaska</td>\n",
       "      <td>Sun Sep 30 08:52:16 51635</td>\n",
       "    </tr>\n",
       "    <tr>\n",
       "      <th>618</th>\n",
       "      <td>1.10</td>\n",
       "      <td>122km W of Haines Junction, Canada</td>\n",
       "      <td>Sat Sep 29 06:19:29 51635</td>\n",
       "    </tr>\n",
       "    <tr>\n",
       "      <th>619</th>\n",
       "      <td>0.60</td>\n",
       "      <td>25km N of North Nenana, Alaska</td>\n",
       "      <td>Fri Sep 28 07:11:46 51635</td>\n",
       "    </tr>\n",
       "    <tr>\n",
       "      <th>620</th>\n",
       "      <td>1.60</td>\n",
       "      <td>119km NNW of Arctic Village, Alaska</td>\n",
       "      <td>Wed Sep 26 21:48:48 51635</td>\n",
       "    </tr>\n",
       "    <tr>\n",
       "      <th>621</th>\n",
       "      <td>0.59</td>\n",
       "      <td>20km E of Little Lake, CA</td>\n",
       "      <td>Tue Sep 25 16:36:20 51635</td>\n",
       "    </tr>\n",
       "    <tr>\n",
       "      <th>622</th>\n",
       "      <td>1.10</td>\n",
       "      <td>116km SE of McGrath, Alaska</td>\n",
       "      <td>Mon Sep 24 10:34:55 51635</td>\n",
       "    </tr>\n",
       "    <tr>\n",
       "      <th>623</th>\n",
       "      <td>1.10</td>\n",
       "      <td>145km WNW of Haines Junction, Canada</td>\n",
       "      <td>Fri Sep 21 14:06:49 51635</td>\n",
       "    </tr>\n",
       "    <tr>\n",
       "      <th>624</th>\n",
       "      <td>1.18</td>\n",
       "      <td>9km ESE of Olancha, CA</td>\n",
       "      <td>Tue Sep 18 17:54:50 51635</td>\n",
       "    </tr>\n",
       "    <tr>\n",
       "      <th>625</th>\n",
       "      <td>1.03</td>\n",
       "      <td>8km ENE of Coso Junction, CA</td>\n",
       "      <td>Fri Sep 14 07:09:00 51635</td>\n",
       "    </tr>\n",
       "    <tr>\n",
       "      <th>626</th>\n",
       "      <td>0.83</td>\n",
       "      <td>15km W of Searles Valley, CA</td>\n",
       "      <td>Mon Sep 10 09:13:10 51635</td>\n",
       "    </tr>\n",
       "    <tr>\n",
       "      <th>627</th>\n",
       "      <td>-0.40</td>\n",
       "      <td>45km ESE of Beatty, Nevada</td>\n",
       "      <td>Sun Sep  9 16:57:44 51635</td>\n",
       "    </tr>\n",
       "    <tr>\n",
       "      <th>628</th>\n",
       "      <td>0.85</td>\n",
       "      <td>15km ENE of Ridgecrest, CA</td>\n",
       "      <td>Sun Sep  9 12:34:30 51635</td>\n",
       "    </tr>\n",
       "    <tr>\n",
       "      <th>629</th>\n",
       "      <td>-0.50</td>\n",
       "      <td>46km ESE of Beatty, Nevada</td>\n",
       "      <td>Thu Sep  6 07:51:25 51635</td>\n",
       "    </tr>\n",
       "    <tr>\n",
       "      <th>630</th>\n",
       "      <td>1.32</td>\n",
       "      <td>12km ENE of Ridgecrest, CA</td>\n",
       "      <td>Tue Sep  4 15:25:40 51635</td>\n",
       "    </tr>\n",
       "    <tr>\n",
       "      <th>631</th>\n",
       "      <td>0.83</td>\n",
       "      <td>15km ESE of Little Lake, CA</td>\n",
       "      <td>Mon Sep  3 16:26:20 51635</td>\n",
       "    </tr>\n",
       "    <tr>\n",
       "      <th>632</th>\n",
       "      <td>1.78</td>\n",
       "      <td>6km SSE of Pahala, Hawaii</td>\n",
       "      <td>Sun Sep  2 15:05:20 51635</td>\n",
       "    </tr>\n",
       "    <tr>\n",
       "      <th>633</th>\n",
       "      <td>1.05</td>\n",
       "      <td>9km ESE of Olancha, CA</td>\n",
       "      <td>Sun Sep  2 08:12:40 51635</td>\n",
       "    </tr>\n",
       "    <tr>\n",
       "      <th>634</th>\n",
       "      <td>1.83</td>\n",
       "      <td>11km SSE of Ponce, Puerto Rico</td>\n",
       "      <td>Sat Sep  1 23:30:50 51635</td>\n",
       "    </tr>\n",
       "    <tr>\n",
       "      <th>635</th>\n",
       "      <td>0.60</td>\n",
       "      <td>122km W of Haines Junction, Canada</td>\n",
       "      <td>Sat Sep  1 17:20:05 51635</td>\n",
       "    </tr>\n",
       "    <tr>\n",
       "      <th>636</th>\n",
       "      <td>0.80</td>\n",
       "      <td>19km ESE of Little Lake, CA</td>\n",
       "      <td>Thu Aug 30 23:12:30 51635</td>\n",
       "    </tr>\n",
       "    <tr>\n",
       "      <th>637</th>\n",
       "      <td>0.31</td>\n",
       "      <td>1km N of The Geysers, CA</td>\n",
       "      <td>Thu Aug 30 13:33:50 51635</td>\n",
       "    </tr>\n",
       "    <tr>\n",
       "      <th>638</th>\n",
       "      <td>4.10</td>\n",
       "      <td>265km NNW of Raoul Island, New Zealand</td>\n",
       "      <td>Thu Aug 30 05:00:54 51635</td>\n",
       "    </tr>\n",
       "    <tr>\n",
       "      <th>639</th>\n",
       "      <td>1.52</td>\n",
       "      <td>23km NE of Oildale, CA</td>\n",
       "      <td>Sun Aug 26 01:10:40 51635</td>\n",
       "    </tr>\n",
       "    <tr>\n",
       "      <th>640</th>\n",
       "      <td>2.03</td>\n",
       "      <td>11km NE of San Simeon, CA</td>\n",
       "      <td>Sat Aug 25 19:08:00 51635</td>\n",
       "    </tr>\n",
       "    <tr>\n",
       "      <th>641</th>\n",
       "      <td>1.11</td>\n",
       "      <td>11km S of Trona, CA</td>\n",
       "      <td>Fri Aug 24 09:49:20 51635</td>\n",
       "    </tr>\n",
       "    <tr>\n",
       "      <th>642</th>\n",
       "      <td>4.10</td>\n",
       "      <td>1km N of Norcia, Italy</td>\n",
       "      <td>Tue Aug 21 22:26:33 51635</td>\n",
       "    </tr>\n",
       "    <tr>\n",
       "      <th>643</th>\n",
       "      <td>2.82</td>\n",
       "      <td>3km S of Leilani Estates, Hawaii</td>\n",
       "      <td>Tue Aug 21 07:35:20 51635</td>\n",
       "    </tr>\n",
       "  </tbody>\n",
       "</table>\n",
       "<p>644 rows × 3 columns</p>\n",
       "</div>"
      ],
      "text/plain": [
       "     magnitude                                   place  \\\n",
       "0         0.72             28km E of Coso Junction, CA   \n",
       "1         0.57          12km WSW of Searles Valley, CA   \n",
       "2         1.60             30km WNW of Nikiski, Alaska   \n",
       "3         0.92               9km WNW of Calipatria, CA   \n",
       "4         0.77        14km E of Desert Hot Springs, CA   \n",
       "5         0.85            17km S of Searles Valley, CA   \n",
       "6         0.96             18km ESE of Little Lake, CA   \n",
       "7         1.78                     19km S of Trona, CA   \n",
       "8         2.83          14km SSW of Searles Valley, CA   \n",
       "9         1.30              22km NNE of Badger, Alaska   \n",
       "10        1.50                    6km NNW of Boron, CA   \n",
       "11        1.67          12km SSW of Searles Valley, CA   \n",
       "12        4.20             18km NE of Nikolski, Alaska   \n",
       "13        2.10            16km S of Fern Acres, Hawaii   \n",
       "14        0.34             97km NNW of Nikiski, Alaska   \n",
       "15        1.45                  13km NNW of Mojave, CA   \n",
       "16        1.10      103km NW of Arctic Village, Alaska   \n",
       "17        1.00                82km W of Haines, Alaska   \n",
       "18        0.85                 5km SW of Idyllwild, CA   \n",
       "19        1.45             19km ESE of Little Lake, CA   \n",
       "20        1.01              6km NNW of The Geysers, CA   \n",
       "21        2.10           7km WSW of Progreso, B.C., MX   \n",
       "22        1.12          14km SSW of Searles Valley, CA   \n",
       "23        0.26          95km SE of King Salmon, Alaska   \n",
       "24        4.90          43km SE of Sinabang, Indonesia   \n",
       "25        0.79            10km NE of Coso Junction, CA   \n",
       "26        0.70             45km NNW of Yakutat, Alaska   \n",
       "27        1.10                 71km S of Kobuk, Alaska   \n",
       "28        2.50                  12km NNW of Mojave, CA   \n",
       "29        0.55               6km NW of The Geysers, CA   \n",
       "..         ...                                     ...   \n",
       "614       0.41                  1km S of Idyllwild, CA   \n",
       "615       0.80          98km SE of King Salmon, Alaska   \n",
       "616       1.61           7km WSW of Progreso, B.C., MX   \n",
       "617       1.00         6km WSW of North Nenana, Alaska   \n",
       "618       1.10      122km W of Haines Junction, Canada   \n",
       "619       0.60          25km N of North Nenana, Alaska   \n",
       "620       1.60     119km NNW of Arctic Village, Alaska   \n",
       "621       0.59               20km E of Little Lake, CA   \n",
       "622       1.10             116km SE of McGrath, Alaska   \n",
       "623       1.10    145km WNW of Haines Junction, Canada   \n",
       "624       1.18                  9km ESE of Olancha, CA   \n",
       "625       1.03            8km ENE of Coso Junction, CA   \n",
       "626       0.83            15km W of Searles Valley, CA   \n",
       "627      -0.40              45km ESE of Beatty, Nevada   \n",
       "628       0.85              15km ENE of Ridgecrest, CA   \n",
       "629      -0.50              46km ESE of Beatty, Nevada   \n",
       "630       1.32              12km ENE of Ridgecrest, CA   \n",
       "631       0.83             15km ESE of Little Lake, CA   \n",
       "632       1.78               6km SSE of Pahala, Hawaii   \n",
       "633       1.05                  9km ESE of Olancha, CA   \n",
       "634       1.83          11km SSE of Ponce, Puerto Rico   \n",
       "635       0.60      122km W of Haines Junction, Canada   \n",
       "636       0.80             19km ESE of Little Lake, CA   \n",
       "637       0.31                1km N of The Geysers, CA   \n",
       "638       4.10  265km NNW of Raoul Island, New Zealand   \n",
       "639       1.52                  23km NE of Oildale, CA   \n",
       "640       2.03               11km NE of San Simeon, CA   \n",
       "641       1.11                     11km S of Trona, CA   \n",
       "642       4.10                  1km N of Norcia, Italy   \n",
       "643       2.82        3km S of Leilani Estates, Hawaii   \n",
       "\n",
       "                          time  \n",
       "0    Sat May 15 14:40:30 51638  \n",
       "1    Tue May 11 19:53:20 51638  \n",
       "2    Tue May 11 15:22:20 51638  \n",
       "3    Tue May 11 14:51:30 51638  \n",
       "4    Tue May 11 01:18:30 51638  \n",
       "5    Mon May 10 05:21:50 51638  \n",
       "6    Fri May  7 20:44:00 51638  \n",
       "7    Sun May  2 16:35:00 51638  \n",
       "8    Wed Apr 28 19:12:40 51638  \n",
       "9    Sat Apr 24 23:59:17 51638  \n",
       "10   Wed Apr 21 10:16:30 51638  \n",
       "11   Mon Apr 19 20:56:50 51638  \n",
       "12   Sat Apr 17 19:32:25 51638  \n",
       "13   Fri Apr 16 03:29:40 51638  \n",
       "14   Mon Apr 12 06:38:00 51638  \n",
       "15   Sun Apr 11 11:03:40 51638  \n",
       "16   Sun Apr 11 10:12:54 51638  \n",
       "17   Tue Apr  6 18:04:41 51638  \n",
       "18   Tue Apr  6 10:28:10 51638  \n",
       "19   Mon Apr  5 07:15:40 51638  \n",
       "20   Fri Apr  2 10:15:00 51638  \n",
       "21   Tue Mar 30 18:32:40 51638  \n",
       "22   Mon Mar 29 14:17:20 51638  \n",
       "23   Thu Mar 25 05:48:30 51638  \n",
       "24   Mon Mar 22 10:44:35 51638  \n",
       "25   Sun Mar 21 09:27:00 51638  \n",
       "26   Mon Mar 15 12:30:26 51638  \n",
       "27   Mon Mar 15 09:19:16 51638  \n",
       "28   Sun Mar 14 14:23:40 51638  \n",
       "29   Sun Mar 14 14:15:00 51638  \n",
       "..                         ...  \n",
       "614  Sat Oct  6 11:46:20 51635  \n",
       "615  Thu Oct  4 20:20:32 51635  \n",
       "616  Sun Sep 30 21:50:10 51635  \n",
       "617  Sun Sep 30 08:52:16 51635  \n",
       "618  Sat Sep 29 06:19:29 51635  \n",
       "619  Fri Sep 28 07:11:46 51635  \n",
       "620  Wed Sep 26 21:48:48 51635  \n",
       "621  Tue Sep 25 16:36:20 51635  \n",
       "622  Mon Sep 24 10:34:55 51635  \n",
       "623  Fri Sep 21 14:06:49 51635  \n",
       "624  Tue Sep 18 17:54:50 51635  \n",
       "625  Fri Sep 14 07:09:00 51635  \n",
       "626  Mon Sep 10 09:13:10 51635  \n",
       "627  Sun Sep  9 16:57:44 51635  \n",
       "628  Sun Sep  9 12:34:30 51635  \n",
       "629  Thu Sep  6 07:51:25 51635  \n",
       "630  Tue Sep  4 15:25:40 51635  \n",
       "631  Mon Sep  3 16:26:20 51635  \n",
       "632  Sun Sep  2 15:05:20 51635  \n",
       "633  Sun Sep  2 08:12:40 51635  \n",
       "634  Sat Sep  1 23:30:50 51635  \n",
       "635  Sat Sep  1 17:20:05 51635  \n",
       "636  Thu Aug 30 23:12:30 51635  \n",
       "637  Thu Aug 30 13:33:50 51635  \n",
       "638  Thu Aug 30 05:00:54 51635  \n",
       "639  Sun Aug 26 01:10:40 51635  \n",
       "640  Sat Aug 25 19:08:00 51635  \n",
       "641  Fri Aug 24 09:49:20 51635  \n",
       "642  Tue Aug 21 22:26:33 51635  \n",
       "643  Tue Aug 21 07:35:20 51635  \n",
       "\n",
       "[644 rows x 3 columns]"
      ]
     },
     "execution_count": 150,
     "metadata": {},
     "output_type": "execute_result"
    }
   ],
   "source": [
    "pd.DataFrame(leereliste)"
   ]
  },
  {
   "cell_type": "code",
   "execution_count": null,
   "metadata": {},
   "outputs": [],
   "source": []
  },
  {
   "cell_type": "code",
   "execution_count": null,
   "metadata": {},
   "outputs": [],
   "source": []
  },
  {
   "cell_type": "code",
   "execution_count": 123,
   "metadata": {},
   "outputs": [
    {
     "data": {
      "text/html": [
       "<div>\n",
       "<style scoped>\n",
       "    .dataframe tbody tr th:only-of-type {\n",
       "        vertical-align: middle;\n",
       "    }\n",
       "\n",
       "    .dataframe tbody tr th {\n",
       "        vertical-align: top;\n",
       "    }\n",
       "\n",
       "    .dataframe thead th {\n",
       "        text-align: right;\n",
       "    }\n",
       "</style>\n",
       "<table border=\"1\" class=\"dataframe\">\n",
       "  <thead>\n",
       "    <tr style=\"text-align: right;\">\n",
       "      <th></th>\n",
       "      <th>Magnitude</th>\n",
       "      <th>Place</th>\n",
       "    </tr>\n",
       "  </thead>\n",
       "  <tbody>\n",
       "    <tr>\n",
       "      <th>0</th>\n",
       "      <td>0.72</td>\n",
       "      <td>28km E of Coso Junction, CA</td>\n",
       "    </tr>\n",
       "    <tr>\n",
       "      <th>1</th>\n",
       "      <td>0.57</td>\n",
       "      <td>12km WSW of Searles Valley, CA</td>\n",
       "    </tr>\n",
       "    <tr>\n",
       "      <th>2</th>\n",
       "      <td>1.60</td>\n",
       "      <td>30km WNW of Nikiski, Alaska</td>\n",
       "    </tr>\n",
       "    <tr>\n",
       "      <th>3</th>\n",
       "      <td>0.92</td>\n",
       "      <td>9km WNW of Calipatria, CA</td>\n",
       "    </tr>\n",
       "    <tr>\n",
       "      <th>4</th>\n",
       "      <td>0.77</td>\n",
       "      <td>14km E of Desert Hot Springs, CA</td>\n",
       "    </tr>\n",
       "    <tr>\n",
       "      <th>5</th>\n",
       "      <td>0.85</td>\n",
       "      <td>17km S of Searles Valley, CA</td>\n",
       "    </tr>\n",
       "    <tr>\n",
       "      <th>6</th>\n",
       "      <td>0.96</td>\n",
       "      <td>18km ESE of Little Lake, CA</td>\n",
       "    </tr>\n",
       "    <tr>\n",
       "      <th>7</th>\n",
       "      <td>1.78</td>\n",
       "      <td>19km S of Trona, CA</td>\n",
       "    </tr>\n",
       "    <tr>\n",
       "      <th>8</th>\n",
       "      <td>2.83</td>\n",
       "      <td>14km SSW of Searles Valley, CA</td>\n",
       "    </tr>\n",
       "    <tr>\n",
       "      <th>9</th>\n",
       "      <td>1.30</td>\n",
       "      <td>22km NNE of Badger, Alaska</td>\n",
       "    </tr>\n",
       "    <tr>\n",
       "      <th>10</th>\n",
       "      <td>1.50</td>\n",
       "      <td>6km NNW of Boron, CA</td>\n",
       "    </tr>\n",
       "    <tr>\n",
       "      <th>11</th>\n",
       "      <td>1.67</td>\n",
       "      <td>12km SSW of Searles Valley, CA</td>\n",
       "    </tr>\n",
       "    <tr>\n",
       "      <th>12</th>\n",
       "      <td>4.20</td>\n",
       "      <td>18km NE of Nikolski, Alaska</td>\n",
       "    </tr>\n",
       "    <tr>\n",
       "      <th>13</th>\n",
       "      <td>2.10</td>\n",
       "      <td>16km S of Fern Acres, Hawaii</td>\n",
       "    </tr>\n",
       "    <tr>\n",
       "      <th>14</th>\n",
       "      <td>0.34</td>\n",
       "      <td>97km NNW of Nikiski, Alaska</td>\n",
       "    </tr>\n",
       "    <tr>\n",
       "      <th>15</th>\n",
       "      <td>1.45</td>\n",
       "      <td>13km NNW of Mojave, CA</td>\n",
       "    </tr>\n",
       "    <tr>\n",
       "      <th>16</th>\n",
       "      <td>1.10</td>\n",
       "      <td>103km NW of Arctic Village, Alaska</td>\n",
       "    </tr>\n",
       "    <tr>\n",
       "      <th>17</th>\n",
       "      <td>1.00</td>\n",
       "      <td>82km W of Haines, Alaska</td>\n",
       "    </tr>\n",
       "    <tr>\n",
       "      <th>18</th>\n",
       "      <td>0.85</td>\n",
       "      <td>5km SW of Idyllwild, CA</td>\n",
       "    </tr>\n",
       "    <tr>\n",
       "      <th>19</th>\n",
       "      <td>1.45</td>\n",
       "      <td>19km ESE of Little Lake, CA</td>\n",
       "    </tr>\n",
       "    <tr>\n",
       "      <th>20</th>\n",
       "      <td>1.01</td>\n",
       "      <td>6km NNW of The Geysers, CA</td>\n",
       "    </tr>\n",
       "    <tr>\n",
       "      <th>21</th>\n",
       "      <td>2.10</td>\n",
       "      <td>7km WSW of Progreso, B.C., MX</td>\n",
       "    </tr>\n",
       "    <tr>\n",
       "      <th>22</th>\n",
       "      <td>1.12</td>\n",
       "      <td>14km SSW of Searles Valley, CA</td>\n",
       "    </tr>\n",
       "    <tr>\n",
       "      <th>23</th>\n",
       "      <td>0.26</td>\n",
       "      <td>95km SE of King Salmon, Alaska</td>\n",
       "    </tr>\n",
       "    <tr>\n",
       "      <th>24</th>\n",
       "      <td>4.90</td>\n",
       "      <td>43km SE of Sinabang, Indonesia</td>\n",
       "    </tr>\n",
       "    <tr>\n",
       "      <th>25</th>\n",
       "      <td>0.79</td>\n",
       "      <td>10km NE of Coso Junction, CA</td>\n",
       "    </tr>\n",
       "    <tr>\n",
       "      <th>26</th>\n",
       "      <td>0.70</td>\n",
       "      <td>45km NNW of Yakutat, Alaska</td>\n",
       "    </tr>\n",
       "    <tr>\n",
       "      <th>27</th>\n",
       "      <td>1.10</td>\n",
       "      <td>71km S of Kobuk, Alaska</td>\n",
       "    </tr>\n",
       "    <tr>\n",
       "      <th>28</th>\n",
       "      <td>2.50</td>\n",
       "      <td>12km NNW of Mojave, CA</td>\n",
       "    </tr>\n",
       "    <tr>\n",
       "      <th>29</th>\n",
       "      <td>0.55</td>\n",
       "      <td>6km NW of The Geysers, CA</td>\n",
       "    </tr>\n",
       "    <tr>\n",
       "      <th>...</th>\n",
       "      <td>...</td>\n",
       "      <td>...</td>\n",
       "    </tr>\n",
       "    <tr>\n",
       "      <th>614</th>\n",
       "      <td>0.41</td>\n",
       "      <td>1km S of Idyllwild, CA</td>\n",
       "    </tr>\n",
       "    <tr>\n",
       "      <th>615</th>\n",
       "      <td>0.80</td>\n",
       "      <td>98km SE of King Salmon, Alaska</td>\n",
       "    </tr>\n",
       "    <tr>\n",
       "      <th>616</th>\n",
       "      <td>1.61</td>\n",
       "      <td>7km WSW of Progreso, B.C., MX</td>\n",
       "    </tr>\n",
       "    <tr>\n",
       "      <th>617</th>\n",
       "      <td>1.00</td>\n",
       "      <td>6km WSW of North Nenana, Alaska</td>\n",
       "    </tr>\n",
       "    <tr>\n",
       "      <th>618</th>\n",
       "      <td>1.10</td>\n",
       "      <td>122km W of Haines Junction, Canada</td>\n",
       "    </tr>\n",
       "    <tr>\n",
       "      <th>619</th>\n",
       "      <td>0.60</td>\n",
       "      <td>25km N of North Nenana, Alaska</td>\n",
       "    </tr>\n",
       "    <tr>\n",
       "      <th>620</th>\n",
       "      <td>1.60</td>\n",
       "      <td>119km NNW of Arctic Village, Alaska</td>\n",
       "    </tr>\n",
       "    <tr>\n",
       "      <th>621</th>\n",
       "      <td>0.59</td>\n",
       "      <td>20km E of Little Lake, CA</td>\n",
       "    </tr>\n",
       "    <tr>\n",
       "      <th>622</th>\n",
       "      <td>1.10</td>\n",
       "      <td>116km SE of McGrath, Alaska</td>\n",
       "    </tr>\n",
       "    <tr>\n",
       "      <th>623</th>\n",
       "      <td>1.10</td>\n",
       "      <td>145km WNW of Haines Junction, Canada</td>\n",
       "    </tr>\n",
       "    <tr>\n",
       "      <th>624</th>\n",
       "      <td>1.18</td>\n",
       "      <td>9km ESE of Olancha, CA</td>\n",
       "    </tr>\n",
       "    <tr>\n",
       "      <th>625</th>\n",
       "      <td>1.03</td>\n",
       "      <td>8km ENE of Coso Junction, CA</td>\n",
       "    </tr>\n",
       "    <tr>\n",
       "      <th>626</th>\n",
       "      <td>0.83</td>\n",
       "      <td>15km W of Searles Valley, CA</td>\n",
       "    </tr>\n",
       "    <tr>\n",
       "      <th>627</th>\n",
       "      <td>-0.40</td>\n",
       "      <td>45km ESE of Beatty, Nevada</td>\n",
       "    </tr>\n",
       "    <tr>\n",
       "      <th>628</th>\n",
       "      <td>0.85</td>\n",
       "      <td>15km ENE of Ridgecrest, CA</td>\n",
       "    </tr>\n",
       "    <tr>\n",
       "      <th>629</th>\n",
       "      <td>-0.50</td>\n",
       "      <td>46km ESE of Beatty, Nevada</td>\n",
       "    </tr>\n",
       "    <tr>\n",
       "      <th>630</th>\n",
       "      <td>1.32</td>\n",
       "      <td>12km ENE of Ridgecrest, CA</td>\n",
       "    </tr>\n",
       "    <tr>\n",
       "      <th>631</th>\n",
       "      <td>0.83</td>\n",
       "      <td>15km ESE of Little Lake, CA</td>\n",
       "    </tr>\n",
       "    <tr>\n",
       "      <th>632</th>\n",
       "      <td>1.78</td>\n",
       "      <td>6km SSE of Pahala, Hawaii</td>\n",
       "    </tr>\n",
       "    <tr>\n",
       "      <th>633</th>\n",
       "      <td>1.05</td>\n",
       "      <td>9km ESE of Olancha, CA</td>\n",
       "    </tr>\n",
       "    <tr>\n",
       "      <th>634</th>\n",
       "      <td>1.83</td>\n",
       "      <td>11km SSE of Ponce, Puerto Rico</td>\n",
       "    </tr>\n",
       "    <tr>\n",
       "      <th>635</th>\n",
       "      <td>0.60</td>\n",
       "      <td>122km W of Haines Junction, Canada</td>\n",
       "    </tr>\n",
       "    <tr>\n",
       "      <th>636</th>\n",
       "      <td>0.80</td>\n",
       "      <td>19km ESE of Little Lake, CA</td>\n",
       "    </tr>\n",
       "    <tr>\n",
       "      <th>637</th>\n",
       "      <td>0.31</td>\n",
       "      <td>1km N of The Geysers, CA</td>\n",
       "    </tr>\n",
       "    <tr>\n",
       "      <th>638</th>\n",
       "      <td>4.10</td>\n",
       "      <td>265km NNW of Raoul Island, New Zealand</td>\n",
       "    </tr>\n",
       "    <tr>\n",
       "      <th>639</th>\n",
       "      <td>1.52</td>\n",
       "      <td>23km NE of Oildale, CA</td>\n",
       "    </tr>\n",
       "    <tr>\n",
       "      <th>640</th>\n",
       "      <td>2.03</td>\n",
       "      <td>11km NE of San Simeon, CA</td>\n",
       "    </tr>\n",
       "    <tr>\n",
       "      <th>641</th>\n",
       "      <td>1.11</td>\n",
       "      <td>11km S of Trona, CA</td>\n",
       "    </tr>\n",
       "    <tr>\n",
       "      <th>642</th>\n",
       "      <td>4.10</td>\n",
       "      <td>1km N of Norcia, Italy</td>\n",
       "    </tr>\n",
       "    <tr>\n",
       "      <th>643</th>\n",
       "      <td>2.82</td>\n",
       "      <td>3km S of Leilani Estates, Hawaii</td>\n",
       "    </tr>\n",
       "  </tbody>\n",
       "</table>\n",
       "<p>644 rows × 2 columns</p>\n",
       "</div>"
      ],
      "text/plain": [
       "     Magnitude                                   Place\n",
       "0         0.72             28km E of Coso Junction, CA\n",
       "1         0.57          12km WSW of Searles Valley, CA\n",
       "2         1.60             30km WNW of Nikiski, Alaska\n",
       "3         0.92               9km WNW of Calipatria, CA\n",
       "4         0.77        14km E of Desert Hot Springs, CA\n",
       "5         0.85            17km S of Searles Valley, CA\n",
       "6         0.96             18km ESE of Little Lake, CA\n",
       "7         1.78                     19km S of Trona, CA\n",
       "8         2.83          14km SSW of Searles Valley, CA\n",
       "9         1.30              22km NNE of Badger, Alaska\n",
       "10        1.50                    6km NNW of Boron, CA\n",
       "11        1.67          12km SSW of Searles Valley, CA\n",
       "12        4.20             18km NE of Nikolski, Alaska\n",
       "13        2.10            16km S of Fern Acres, Hawaii\n",
       "14        0.34             97km NNW of Nikiski, Alaska\n",
       "15        1.45                  13km NNW of Mojave, CA\n",
       "16        1.10      103km NW of Arctic Village, Alaska\n",
       "17        1.00                82km W of Haines, Alaska\n",
       "18        0.85                 5km SW of Idyllwild, CA\n",
       "19        1.45             19km ESE of Little Lake, CA\n",
       "20        1.01              6km NNW of The Geysers, CA\n",
       "21        2.10           7km WSW of Progreso, B.C., MX\n",
       "22        1.12          14km SSW of Searles Valley, CA\n",
       "23        0.26          95km SE of King Salmon, Alaska\n",
       "24        4.90          43km SE of Sinabang, Indonesia\n",
       "25        0.79            10km NE of Coso Junction, CA\n",
       "26        0.70             45km NNW of Yakutat, Alaska\n",
       "27        1.10                 71km S of Kobuk, Alaska\n",
       "28        2.50                  12km NNW of Mojave, CA\n",
       "29        0.55               6km NW of The Geysers, CA\n",
       "..         ...                                     ...\n",
       "614       0.41                  1km S of Idyllwild, CA\n",
       "615       0.80          98km SE of King Salmon, Alaska\n",
       "616       1.61           7km WSW of Progreso, B.C., MX\n",
       "617       1.00         6km WSW of North Nenana, Alaska\n",
       "618       1.10      122km W of Haines Junction, Canada\n",
       "619       0.60          25km N of North Nenana, Alaska\n",
       "620       1.60     119km NNW of Arctic Village, Alaska\n",
       "621       0.59               20km E of Little Lake, CA\n",
       "622       1.10             116km SE of McGrath, Alaska\n",
       "623       1.10    145km WNW of Haines Junction, Canada\n",
       "624       1.18                  9km ESE of Olancha, CA\n",
       "625       1.03            8km ENE of Coso Junction, CA\n",
       "626       0.83            15km W of Searles Valley, CA\n",
       "627      -0.40              45km ESE of Beatty, Nevada\n",
       "628       0.85              15km ENE of Ridgecrest, CA\n",
       "629      -0.50              46km ESE of Beatty, Nevada\n",
       "630       1.32              12km ENE of Ridgecrest, CA\n",
       "631       0.83             15km ESE of Little Lake, CA\n",
       "632       1.78               6km SSE of Pahala, Hawaii\n",
       "633       1.05                  9km ESE of Olancha, CA\n",
       "634       1.83          11km SSE of Ponce, Puerto Rico\n",
       "635       0.60      122km W of Haines Junction, Canada\n",
       "636       0.80             19km ESE of Little Lake, CA\n",
       "637       0.31                1km N of The Geysers, CA\n",
       "638       4.10  265km NNW of Raoul Island, New Zealand\n",
       "639       1.52                  23km NE of Oildale, CA\n",
       "640       2.03               11km NE of San Simeon, CA\n",
       "641       1.11                     11km S of Trona, CA\n",
       "642       4.10                  1km N of Norcia, Italy\n",
       "643       2.82        3km S of Leilani Estates, Hawaii\n",
       "\n",
       "[644 rows x 2 columns]"
      ]
     },
     "execution_count": 123,
     "metadata": {},
     "output_type": "execute_result"
    }
   ],
   "source": [
    "pd.DataFrame(leereliste)"
   ]
  },
  {
   "cell_type": "code",
   "execution_count": null,
   "metadata": {},
   "outputs": [],
   "source": []
  },
  {
   "cell_type": "code",
   "execution_count": null,
   "metadata": {},
   "outputs": [],
   "source": []
  },
  {
   "cell_type": "code",
   "execution_count": null,
   "metadata": {},
   "outputs": [],
   "source": []
  },
  {
   "cell_type": "code",
   "execution_count": 52,
   "metadata": {},
   "outputs": [
    {
     "name": "stdout",
     "output_type": "stream",
     "text": [
      "https://earthquake.usgs.gov/fdsnws/event/1/count?starttime=2019-09-01&endtime=2019-09-02\n",
      "https://earthquake.usgs.gov/fdsnws/event/1/count?starttime=2019-09-02&endtime=2019-09-03\n",
      "https://earthquake.usgs.gov/fdsnws/event/1/count?starttime=2019-09-03&endtime=2019-09-04\n"
     ]
    }
   ],
   "source": [
    "urlanfang = \"https://earthquake.usgs.gov/fdsnws/event/1/count?starttime=2019-09-0\"\n",
    "string1 = 1\n",
    "urlmitte = \"&endtime=2019-09-0\"\n",
    "string2 = 2\n",
    "\n",
    "for strings in range(0,3):\n",
    "    print(urlanfang + str(string1) + urlmitte + str(string2))"
   ]
  },
  {
   "cell_type": "code",
   "execution_count": 9,
   "metadata": {},
   "outputs": [
    {
     "data": {
      "text/plain": [
       "requests.models.Response"
      ]
     },
     "execution_count": 9,
     "metadata": {},
     "output_type": "execute_result"
    }
   ],
   "source": [
    "type(r)"
   ]
  },
  {
   "cell_type": "code",
   "execution_count": 15,
   "metadata": {},
   "outputs": [],
   "source": [
    "string = r.text"
   ]
  },
  {
   "cell_type": "code",
   "execution_count": 16,
   "metadata": {},
   "outputs": [],
   "source": [
    "zahl = r.json()"
   ]
  },
  {
   "cell_type": "code",
   "execution_count": 17,
   "metadata": {},
   "outputs": [
    {
     "data": {
      "text/plain": [
       "'644'"
      ]
     },
     "execution_count": 17,
     "metadata": {},
     "output_type": "execute_result"
    }
   ],
   "source": [
    "string"
   ]
  },
  {
   "cell_type": "code",
   "execution_count": 18,
   "metadata": {},
   "outputs": [
    {
     "data": {
      "text/plain": [
       "644"
      ]
     },
     "execution_count": 18,
     "metadata": {},
     "output_type": "execute_result"
    }
   ],
   "source": [
    "zahl"
   ]
  },
  {
   "cell_type": "code",
   "execution_count": null,
   "metadata": {},
   "outputs": [],
   "source": []
  }
 ],
 "metadata": {
  "kernelspec": {
   "display_name": "Python 3",
   "language": "python",
   "name": "python3"
  },
  "language_info": {
   "codemirror_mode": {
    "name": "ipython",
    "version": 3
   },
   "file_extension": ".py",
   "mimetype": "text/x-python",
   "name": "python",
   "nbconvert_exporter": "python",
   "pygments_lexer": "ipython3",
   "version": "3.7.3"
  }
 },
 "nbformat": 4,
 "nbformat_minor": 2
}
