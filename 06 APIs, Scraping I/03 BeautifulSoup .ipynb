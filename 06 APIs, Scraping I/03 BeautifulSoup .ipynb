{
 "cells": [
  {
   "cell_type": "markdown",
   "metadata": {},
   "source": [
    "# Einführung in BeautifulSoup, einlesen von Files"
   ]
  },
  {
   "cell_type": "markdown",
   "metadata": {},
   "source": [
    "Und als aller Erstes wollen wir die Developer Tools kennenlernen:\n",
    "\n",
    "- Gehen wir auf: www.srf.ch.\n",
    "- Öffnen den Chrome Browser. Die Developer Tools findest DU im Menü unter More Tools -> Developer Tools. Shortcuts: F12, Str-Ctr-I oder Cmd + Opt + I (alle Browser die Dev Tools, wir fokussieren hier auf den Chrome Browser) \n",
    "- Der Reiter, der uns interessiert, ist: “Elements”. Steuere ihn an.\n",
    "- Wir können hier zwischen Mobilansicht und Desktop wechseln\n",
    "- Oder Elemente auf der Website suchen. Wähle den Pfeil an. Und suche nun etwas auf der Website. \n",
    "- Hier können wir auch Texte manipulieren, teste es auf www.srf.ch. \n",
    "- Aber das interessiert uns nicht. Wir wollen die Struktur der Website kennenlernen. Vertiefen wir uns eine Weile in diese Struktur. Je besser wir sie kennen, desto einfacher ist es, Daten auszulesen.\n",
    "- Das sollte euch nun etwas bekannter vorkommen. Ihr habt eben selber solche Zeilen geschrieben. "
   ]
  },
  {
   "cell_type": "markdown",
   "metadata": {},
   "source": [
    "Gehen wir zurück zu dem File, den ihr eben selber bearbeitet habt. Zuerst müssen wir das File einlesen."
   ]
  },
  {
   "cell_type": "code",
   "execution_count": 1,
   "metadata": {},
   "outputs": [],
   "source": [
    "file = open('02 HTML Code.htm', 'r')"
   ]
  },
  {
   "cell_type": "markdown",
   "metadata": {},
   "source": [
    "```open``` ist eine eingebaute Funktion von Python. Ihr findet hier [eine Zusammenstellung](https://docs.python.org/2/library/functions.html) all dieser Funktionen. Es gibt neben ```r```und ```w``` noch die Binary modi. ```rb```und ```wb```. Binary heisst, dass der Computer sich die Buchstaben im Format abspeichert, der ihm am besten liegt. 0 und 1. E = 01000101, F = 01000110, ihr findet mehr [hier](http://sticksandstones.kstrom.com/appen.html) (allerdings Python 2) und mehr [hier](https://docs.python.org/3/tutorial/inputoutput.html)."
   ]
  },
  {
   "cell_type": "code",
   "execution_count": 2,
   "metadata": {},
   "outputs": [],
   "source": [
    "file2 = open('testingopen.txt', 'w')"
   ]
  },
  {
   "cell_type": "markdown",
   "metadata": {},
   "source": [
    "Oben seht ihr das Ergebnis, wenn ihr ein File schreibt. Im selben Ordner wie dieses Jupyter Notebook erscheint nun eben dieses file2. Das einfach der vollständigkeitshalber."
   ]
  },
  {
   "cell_type": "code",
   "execution_count": 3,
   "metadata": {},
   "outputs": [
    {
     "data": {
      "text/plain": [
       "'<h1> Anatomie einer Website</h1>\\n\\n<!doctype html>\\n<html lang=\"de\">\\n\\n<head>\\n    <title>Hier steht mein Titel</title>\\n</head>\\n\\n<body style=\"color:blue;\">\\n    <h2>Das ist die erste Überschrift</h2>\\n    <p>Hier steht der Einleitungstext meiner Website. </p>\\n    <ul>\\n    <li>Erster Listenpunkt</li>\\n    <li>Zweiter Listenpunkt</li>\\n    <li>Dritter Listenpunkt</li>\\n    <li>Vierter Listenpunkt</li>\\n</body style=\"color:blue;\">\\n</ul>\\n<body>\\n<h2>Das ist die zweite Überschrift</h2>\\n<p style=\"color:red;\">Hier steht der Einleitungstext meiner Website. </p>\\n<ul>\\n<li>Erster Listenpunkt</li>\\n<li>Zweiter Listenpunkt</li>\\n<li>Dritter Listenpunkt</li>\\n<li>Vierter Listenpunkt</li>\\n</body>\\n<body style=\"color:red;\">\\n</ul>\\n<h2>Das ist die dritte Überschrift</h2>\\n<p>Hier steht der Einleitungstext meiner Website. </p>\\n<ul>\\n<li>Erster Listenpunkt</li>\\n<li>Zweiter Listenpunkt</li>\\n<li>Dritter Listenpunkt</li>\\n<li>Vierter Listenpunkt</li>\\n</body>\\n'"
      ]
     },
     "execution_count": 3,
     "metadata": {},
     "output_type": "execute_result"
    }
   ],
   "source": [
    "file.read()"
   ]
  },
  {
   "cell_type": "code",
   "execution_count": 4,
   "metadata": {},
   "outputs": [],
   "source": [
    "text = file.read()"
   ]
  },
  {
   "cell_type": "code",
   "execution_count": 5,
   "metadata": {},
   "outputs": [],
   "source": [
    "file = open('02 HTML Code.htm', 'r')"
   ]
  },
  {
   "cell_type": "code",
   "execution_count": 6,
   "metadata": {},
   "outputs": [
    {
     "data": {
      "text/plain": [
       "'<h1> Anatomie einer Website</h1>\\n'"
      ]
     },
     "execution_count": 6,
     "metadata": {},
     "output_type": "execute_result"
    }
   ],
   "source": [
    "file.readline()"
   ]
  },
  {
   "cell_type": "code",
   "execution_count": 7,
   "metadata": {},
   "outputs": [
    {
     "data": {
      "text/plain": [
       "'<h1> Anatomie einer Website</h1>\\n\\n<!doctype html>\\n<html lang=\"de\">\\n\\n<head>\\n    <title>Hier steht mein Titel</title>\\n</head>\\n\\n<body style=\"color:blue;\">\\n    <h2>Das ist die erste Überschrift</h2>\\n    <p>Hier steht der Einleitungstext meiner Website. </p>\\n    <ul>\\n    <li>Erster Listenpunkt</li>\\n    <li>Zweiter Listenpunkt</li>\\n    <li>Dritter Listenpunkt</li>\\n    <li>Vierter Listenpunkt</li>\\n</body style=\"color:blue;\">\\n</ul>\\n<body>\\n<h2>Das ist die zweite Überschrift</h2>\\n<p style=\"color:red;\">Hier steht der Einleitungstext meiner Website. </p>\\n<ul>\\n<li>Erster Listenpunkt</li>\\n<li>Zweiter Listenpunkt</li>\\n<li>Dritter Listenpunkt</li>\\n<li>Vierter Listenpunkt</li>\\n</body>\\n<body style=\"color:red;\">\\n</ul>\\n<h2>Das ist die dritte Überschrift</h2>\\n<p>Hier steht der Einleitungstext meiner Website. </p>\\n<ul>\\n<li>Erster Listenpunkt</li>\\n<li>Zweiter Listenpunkt</li>\\n<li>Dritter Listenpunkt</li>\\n<li>Vierter Listenpunkt</li>\\n</body>\\n'"
      ]
     },
     "execution_count": 7,
     "metadata": {},
     "output_type": "execute_result"
    }
   ],
   "source": [
    "#Das sieht aber nicht sehr schön aus\n",
    "file = open('02 HTML Code.htm', 'r')\n",
    "text = file.read()\n",
    "text"
   ]
  },
  {
   "cell_type": "markdown",
   "metadata": {},
   "source": [
    "Mit BeautifulSoup kann man HTML-Sites in eine Form bringen, die es uns Menschen wieder einfacher macht, die Inhalte zu lesen. Wir beginnne wir immer, indem wir die Library installieren. Wie mit ```!pip import BS4```falls ihr das nicht schon getan habt. Und dann importieren wir die Library."
   ]
  },
  {
   "cell_type": "code",
   "execution_count": 7,
   "metadata": {},
   "outputs": [],
   "source": [
    "from bs4 import BeautifulSoup"
   ]
  },
  {
   "cell_type": "code",
   "execution_count": 9,
   "metadata": {},
   "outputs": [],
   "source": [
    "soup = BeautifulSoup(text, \"html.parser\")"
   ]
  },
  {
   "cell_type": "code",
   "execution_count": 10,
   "metadata": {},
   "outputs": [
    {
     "data": {
      "text/plain": [
       "<h2>Das ist die erste Überschrift</h2>"
      ]
     },
     "execution_count": 10,
     "metadata": {},
     "output_type": "execute_result"
    }
   ],
   "source": [
    "soup.find('h2')"
   ]
  },
  {
   "cell_type": "code",
   "execution_count": 11,
   "metadata": {},
   "outputs": [
    {
     "data": {
      "text/plain": [
       "[<h2>Das ist die erste Überschrift</h2>,\n",
       " <h2>Das ist die zweite Überschrift</h2>,\n",
       " <h2>Das ist die dritte Überschrift</h2>]"
      ]
     },
     "execution_count": 11,
     "metadata": {},
     "output_type": "execute_result"
    }
   ],
   "source": [
    "soup.find_all('h2')"
   ]
  },
  {
   "cell_type": "code",
   "execution_count": 12,
   "metadata": {},
   "outputs": [],
   "source": [
    "#Bauen wir eine neue Liste\n",
    "new_lst = []\n",
    "for elem in soup.find_all('h2'):\n",
    "    new_lst.append(elem.text)"
   ]
  },
  {
   "cell_type": "code",
   "execution_count": 13,
   "metadata": {},
   "outputs": [
    {
     "data": {
      "text/plain": [
       "['Das ist die erste Überschrift',\n",
       " 'Das ist die zweite Überschrift',\n",
       " 'Das ist die dritte Überschrift']"
      ]
     },
     "execution_count": 13,
     "metadata": {},
     "output_type": "execute_result"
    }
   ],
   "source": [
    "new_lst"
   ]
  },
  {
   "cell_type": "code",
   "execution_count": 14,
   "metadata": {},
   "outputs": [],
   "source": [
    "#Bauen wir eine Liste von Dictionaries\n",
    "new_lst = []\n",
    "for elem in soup.find_all('h2'):\n",
    "    mini_dict = {'Überschrift':elem.text}\n",
    "    new_lst.append(mini_dict)"
   ]
  },
  {
   "cell_type": "code",
   "execution_count": 9,
   "metadata": {},
   "outputs": [],
   "source": [
    "import pandas as pd"
   ]
  },
  {
   "cell_type": "code",
   "execution_count": 16,
   "metadata": {},
   "outputs": [
    {
     "data": {
      "text/html": [
       "<div>\n",
       "<style scoped>\n",
       "    .dataframe tbody tr th:only-of-type {\n",
       "        vertical-align: middle;\n",
       "    }\n",
       "\n",
       "    .dataframe tbody tr th {\n",
       "        vertical-align: top;\n",
       "    }\n",
       "\n",
       "    .dataframe thead th {\n",
       "        text-align: right;\n",
       "    }\n",
       "</style>\n",
       "<table border=\"1\" class=\"dataframe\">\n",
       "  <thead>\n",
       "    <tr style=\"text-align: right;\">\n",
       "      <th></th>\n",
       "      <th>Überschrift</th>\n",
       "    </tr>\n",
       "  </thead>\n",
       "  <tbody>\n",
       "    <tr>\n",
       "      <td>0</td>\n",
       "      <td>Das ist die erste Überschrift</td>\n",
       "    </tr>\n",
       "    <tr>\n",
       "      <td>1</td>\n",
       "      <td>Das ist die zweite Überschrift</td>\n",
       "    </tr>\n",
       "    <tr>\n",
       "      <td>2</td>\n",
       "      <td>Das ist die dritte Überschrift</td>\n",
       "    </tr>\n",
       "  </tbody>\n",
       "</table>\n",
       "</div>"
      ],
      "text/plain": [
       "                      Überschrift\n",
       "0   Das ist die erste Überschrift\n",
       "1  Das ist die zweite Überschrift\n",
       "2  Das ist die dritte Überschrift"
      ]
     },
     "execution_count": 16,
     "metadata": {},
     "output_type": "execute_result"
    }
   ],
   "source": [
    "pd.DataFrame(new_lst)"
   ]
  },
  {
   "cell_type": "markdown",
   "metadata": {},
   "source": [
    "## Gehen wir auf eine Seite mit mehr INhalt, aber immer noch sehr strukturiert: Ein RSS-Feed\n",
    "Was wir hier haben, ist die aktuelle Ausbuchung der Parkplätze in der Stadt Zürich. Sie werden von der Stadt in einem RSS Feed abgeboten. Schauen wir uns den [Link einmal an](http://www.plszh.ch/plsFeed/rss). Nicht sehr lesbar, aber äusserst strukturiert. Lesen wir die Plätze aus."
   ]
  },
  {
   "cell_type": "code",
   "execution_count": 1,
   "metadata": {},
   "outputs": [],
   "source": [
    "import requests"
   ]
  },
  {
   "cell_type": "code",
   "execution_count": 2,
   "metadata": {},
   "outputs": [],
   "source": [
    "r = requests.get('http://www.plszh.ch/plsFeed/rss') #Besuchen wir die URL"
   ]
  },
  {
   "cell_type": "code",
   "execution_count": 19,
   "metadata": {},
   "outputs": [
    {
     "data": {
      "text/plain": [
       "38"
      ]
     },
     "execution_count": 19,
     "metadata": {},
     "output_type": "execute_result"
    }
   ],
   "source": [
    "contents = r.text #Wandeln wir den Text in ein Format um, mit dem BeautifulSoup umgehen kann.\n",
    "soup = BeautifulSoup(contents,\"html.parser\") #Geben wir das an BeautifulSoup weiter\n",
    "titles = soup.find_all('title') #Nun lesen wir Titel aus.\n",
    "len(titles) #Schauen wir, wie lange die Titel sind."
   ]
  },
  {
   "cell_type": "code",
   "execution_count": 20,
   "metadata": {},
   "outputs": [
    {
     "data": {
      "text/plain": [
       "<title>FEED Parkleitsystem Stadt Zürich</title>"
      ]
     },
     "execution_count": 20,
     "metadata": {},
     "output_type": "execute_result"
    }
   ],
   "source": [
    "titles[0] "
   ]
  },
  {
   "cell_type": "code",
   "execution_count": 21,
   "metadata": {},
   "outputs": [
    {
     "data": {
      "text/plain": [
       "<title>Parkgarage am Central / Seilergraben</title>"
      ]
     },
     "execution_count": 21,
     "metadata": {},
     "output_type": "execute_result"
    }
   ],
   "source": [
    "titles[1]"
   ]
  },
  {
   "cell_type": "code",
   "execution_count": 22,
   "metadata": {},
   "outputs": [
    {
     "data": {
      "text/plain": [
       "'Parkgarage am Central / Seilergraben'"
      ]
     },
     "execution_count": 22,
     "metadata": {},
     "output_type": "execute_result"
    }
   ],
   "source": [
    "titles[1].text"
   ]
  },
  {
   "cell_type": "code",
   "execution_count": 23,
   "metadata": {},
   "outputs": [
    {
     "data": {
      "text/plain": [
       "<description>open /   13</description>"
      ]
     },
     "execution_count": 23,
     "metadata": {},
     "output_type": "execute_result"
    }
   ],
   "source": [
    "descr = soup.find_all('description')\n",
    "descr[1]"
   ]
  },
  {
   "cell_type": "code",
   "execution_count": 24,
   "metadata": {},
   "outputs": [],
   "source": [
    "#Bauen wir die eigene Liste\n",
    "lst = []\n",
    "for garage,b in zip(titles,descr):\n",
    "    \n",
    "    mini_dict = {'Parkgarage':garage.text,\n",
    "                 'Descr':b.text}\n",
    "    \n",
    "    lst.append(mini_dict)"
   ]
  },
  {
   "cell_type": "code",
   "execution_count": 25,
   "metadata": {},
   "outputs": [
    {
     "data": {
      "text/plain": [
       "[{'Parkgarage': 'FEED Parkleitsystem Stadt Zürich',\n",
       "  'Descr': 'http://www.plszh.ch/plsFeed/rss?type=rss_0.92 | rss_0.93 | rss_0.94 | rss_1.0 | rss_2.0 (=default) | atom_0.3 | atom_1.0'},\n",
       " {'Parkgarage': 'Parkgarage am Central / Seilergraben',\n",
       "  'Descr': 'open /   13'},\n",
       " {'Parkgarage': 'Parkhaus Accu / Otto-Schütz-Weg', 'Descr': 'open /  130'},\n",
       " {'Parkgarage': 'Parkhaus Albisriederplatz / Badenerstrasse 380',\n",
       "  'Descr': 'open /   42'},\n",
       " {'Parkgarage': 'Parkhaus Bleicherweg / Beethovenstrasse 35',\n",
       "  'Descr': 'open /  133'},\n",
       " {'Parkgarage': 'Parkhaus Center Eleven / Sophie-Täuber-Strasse 4',\n",
       "  'Descr': 'open /  203'},\n",
       " {'Parkgarage': 'Parkhaus City Parking / Gessnerallee 14',\n",
       "  'Descr': 'open /  310'},\n",
       " {'Parkgarage': 'Parkhaus Cityport / Affolternstrasse 56',\n",
       "  'Descr': 'open /   73'},\n",
       " {'Parkgarage': 'Parkhaus Crowne Plaza / Badenerstrasse 420',\n",
       "  'Descr': 'open /  267'},\n",
       " {'Parkgarage': 'Parkhaus Dorflinde / Schwamendingenstrasse 31',\n",
       "  'Descr': 'open /   36'},\n",
       " {'Parkgarage': 'Parkhaus Feldegg / Riesbachstrasse 7',\n",
       "  'Descr': 'open /  108'},\n",
       " {'Parkgarage': 'Parkhaus Globus / Löwenstrasse 50', 'Descr': 'open /   30'},\n",
       " {'Parkgarage': 'Parkhaus Hardau II / Bullingerstrasse 73',\n",
       "  'Descr': 'open /   96'},\n",
       " {'Parkgarage': 'Parkhaus Hauptbahnhof / Sihlquai 41', 'Descr': 'open /   65'},\n",
       " {'Parkgarage': 'Parkhaus Hohe Promenade / Rämistrasse 22a',\n",
       "  'Descr': 'open /  337'},\n",
       " {'Parkgarage': 'Parkhaus Jelmoli / Steinmühleplatz 1',\n",
       "  'Descr': 'open /   43'},\n",
       " {'Parkgarage': 'Parkhaus Jungholz / Jungholzstrasse 19',\n",
       "  'Descr': 'open /  115'},\n",
       " {'Parkgarage': 'Parkhaus Max-Bill-Platz / Armin-Bollinger-Weg',\n",
       "  'Descr': 'open /   74'},\n",
       " {'Parkgarage': 'Parkhaus Messe Zürich AG / Andreasstrasse 65',\n",
       "  'Descr': 'open /  999'},\n",
       " {'Parkgarage': 'Parkhaus Nordhaus / Siewerdtstrasse 8',\n",
       "  'Descr': 'open /  107'},\n",
       " {'Parkgarage': 'Parkhaus Octavo / Brown-Boveri-Strasse 2',\n",
       "  'Descr': 'open /  116'},\n",
       " {'Parkgarage': 'Parkhaus Opéra / Schillerstrasse 5', 'Descr': 'open /  117'},\n",
       " {'Parkgarage': 'Parkhaus P West / Förrlibuckstrasse 151',\n",
       "  'Descr': 'open /  315'},\n",
       " {'Parkgarage': 'Parkhaus Park Hyatt / Beethovenstrasse 21',\n",
       "  'Descr': 'open /  157'},\n",
       " {'Parkgarage': 'Parkhaus Parkside / Sophie-Täuber-Strasse 10',\n",
       "  'Descr': 'open /   23'},\n",
       " {'Parkgarage': 'Parkhaus Pfingstweid / Pfingstweidstrasse 1',\n",
       "  'Descr': 'open /  134'},\n",
       " {'Parkgarage': 'Parkhaus Stampfenbach / Niklausstrasse 1',\n",
       "  'Descr': 'open /  139'},\n",
       " {'Parkgarage': 'Parkhaus Talgarten / Nüschelerstrasse 31',\n",
       "  'Descr': 'open /   28'},\n",
       " {'Parkgarage': 'Parkhaus USZ Nord / Frauenklinikstrasse',\n",
       "  'Descr': 'open /   77'},\n",
       " {'Parkgarage': 'Parkhaus Uni Irchel / Winterthurerstrasse 181',\n",
       "  'Descr': 'open /  717'},\n",
       " {'Parkgarage': 'Parkhaus Urania / Uraniastrasse 3', 'Descr': 'open /  173'},\n",
       " {'Parkgarage': 'Parkhaus Utoquai / Färberstrasse 6', 'Descr': 'open /   89'},\n",
       " {'Parkgarage': 'Parkhaus Züri 11 Shopping / Nansenstrasse 5/7',\n",
       "  'Descr': 'open /   33'},\n",
       " {'Parkgarage': 'Parkhaus Zürichhorn / Dufourstrasse 142',\n",
       "  'Descr': 'open /   47'},\n",
       " {'Parkgarage': 'Parkplatz Eisfeld / Thurgauerstrasse 54',\n",
       "  'Descr': 'open /  103'},\n",
       " {'Parkgarage': 'Parkplatz Theater 11 / Dörfli-/Thurgauerstrasse',\n",
       "  'Descr': 'open /  101'},\n",
       " {'Parkgarage': 'Parkplatz USZ Süd / Gloriastrasse', 'Descr': 'open /   18'},\n",
       " {'Parkgarage': 'Puls 5 Parkgarage / Giessereistrasse 18',\n",
       "  'Descr': 'open /   38'}]"
      ]
     },
     "execution_count": 25,
     "metadata": {},
     "output_type": "execute_result"
    }
   ],
   "source": [
    "lst"
   ]
  },
  {
   "cell_type": "code",
   "execution_count": 26,
   "metadata": {},
   "outputs": [
    {
     "data": {
      "text/html": [
       "<div>\n",
       "<style scoped>\n",
       "    .dataframe tbody tr th:only-of-type {\n",
       "        vertical-align: middle;\n",
       "    }\n",
       "\n",
       "    .dataframe tbody tr th {\n",
       "        vertical-align: top;\n",
       "    }\n",
       "\n",
       "    .dataframe thead th {\n",
       "        text-align: right;\n",
       "    }\n",
       "</style>\n",
       "<table border=\"1\" class=\"dataframe\">\n",
       "  <thead>\n",
       "    <tr style=\"text-align: right;\">\n",
       "      <th></th>\n",
       "      <th>Parkgarage</th>\n",
       "      <th>Descr</th>\n",
       "    </tr>\n",
       "  </thead>\n",
       "  <tbody>\n",
       "    <tr>\n",
       "      <td>0</td>\n",
       "      <td>FEED Parkleitsystem Stadt Zürich</td>\n",
       "      <td>http://www.plszh.ch/plsFeed/rss?type=rss_0.92 ...</td>\n",
       "    </tr>\n",
       "    <tr>\n",
       "      <td>1</td>\n",
       "      <td>Parkgarage am Central / Seilergraben</td>\n",
       "      <td>open /   13</td>\n",
       "    </tr>\n",
       "    <tr>\n",
       "      <td>2</td>\n",
       "      <td>Parkhaus Accu / Otto-Schütz-Weg</td>\n",
       "      <td>open /  130</td>\n",
       "    </tr>\n",
       "    <tr>\n",
       "      <td>3</td>\n",
       "      <td>Parkhaus Albisriederplatz / Badenerstrasse 380</td>\n",
       "      <td>open /   42</td>\n",
       "    </tr>\n",
       "    <tr>\n",
       "      <td>4</td>\n",
       "      <td>Parkhaus Bleicherweg / Beethovenstrasse 35</td>\n",
       "      <td>open /  133</td>\n",
       "    </tr>\n",
       "  </tbody>\n",
       "</table>\n",
       "</div>"
      ],
      "text/plain": [
       "                                       Parkgarage  \\\n",
       "0                FEED Parkleitsystem Stadt Zürich   \n",
       "1            Parkgarage am Central / Seilergraben   \n",
       "2                 Parkhaus Accu / Otto-Schütz-Weg   \n",
       "3  Parkhaus Albisriederplatz / Badenerstrasse 380   \n",
       "4      Parkhaus Bleicherweg / Beethovenstrasse 35   \n",
       "\n",
       "                                               Descr  \n",
       "0  http://www.plszh.ch/plsFeed/rss?type=rss_0.92 ...  \n",
       "1                                        open /   13  \n",
       "2                                        open /  130  \n",
       "3                                        open /   42  \n",
       "4                                        open /  133  "
      ]
     },
     "execution_count": 26,
     "metadata": {},
     "output_type": "execute_result"
    }
   ],
   "source": [
    "pd.DataFrame(lst).head()"
   ]
  },
  {
   "cell_type": "code",
   "execution_count": 27,
   "metadata": {},
   "outputs": [
    {
     "data": {
      "text/html": [
       "<div>\n",
       "<style scoped>\n",
       "    .dataframe tbody tr th:only-of-type {\n",
       "        vertical-align: middle;\n",
       "    }\n",
       "\n",
       "    .dataframe tbody tr th {\n",
       "        vertical-align: top;\n",
       "    }\n",
       "\n",
       "    .dataframe thead th {\n",
       "        text-align: right;\n",
       "    }\n",
       "</style>\n",
       "<table border=\"1\" class=\"dataframe\">\n",
       "  <thead>\n",
       "    <tr style=\"text-align: right;\">\n",
       "      <th></th>\n",
       "      <th>Parkgarage</th>\n",
       "      <th>Descr</th>\n",
       "    </tr>\n",
       "  </thead>\n",
       "  <tbody>\n",
       "    <tr>\n",
       "      <td>1</td>\n",
       "      <td>Parkgarage am Central / Seilergraben</td>\n",
       "      <td>open /   13</td>\n",
       "    </tr>\n",
       "    <tr>\n",
       "      <td>2</td>\n",
       "      <td>Parkhaus Accu / Otto-Schütz-Weg</td>\n",
       "      <td>open /  130</td>\n",
       "    </tr>\n",
       "    <tr>\n",
       "      <td>3</td>\n",
       "      <td>Parkhaus Albisriederplatz / Badenerstrasse 380</td>\n",
       "      <td>open /   42</td>\n",
       "    </tr>\n",
       "    <tr>\n",
       "      <td>4</td>\n",
       "      <td>Parkhaus Bleicherweg / Beethovenstrasse 35</td>\n",
       "      <td>open /  133</td>\n",
       "    </tr>\n",
       "    <tr>\n",
       "      <td>5</td>\n",
       "      <td>Parkhaus Center Eleven / Sophie-Täuber-Strasse 4</td>\n",
       "      <td>open /  203</td>\n",
       "    </tr>\n",
       "    <tr>\n",
       "      <td>6</td>\n",
       "      <td>Parkhaus City Parking / Gessnerallee 14</td>\n",
       "      <td>open /  310</td>\n",
       "    </tr>\n",
       "    <tr>\n",
       "      <td>7</td>\n",
       "      <td>Parkhaus Cityport / Affolternstrasse 56</td>\n",
       "      <td>open /   73</td>\n",
       "    </tr>\n",
       "    <tr>\n",
       "      <td>8</td>\n",
       "      <td>Parkhaus Crowne Plaza / Badenerstrasse 420</td>\n",
       "      <td>open /  267</td>\n",
       "    </tr>\n",
       "    <tr>\n",
       "      <td>9</td>\n",
       "      <td>Parkhaus Dorflinde / Schwamendingenstrasse 31</td>\n",
       "      <td>open /   36</td>\n",
       "    </tr>\n",
       "    <tr>\n",
       "      <td>10</td>\n",
       "      <td>Parkhaus Feldegg / Riesbachstrasse 7</td>\n",
       "      <td>open /  108</td>\n",
       "    </tr>\n",
       "    <tr>\n",
       "      <td>11</td>\n",
       "      <td>Parkhaus Globus / Löwenstrasse 50</td>\n",
       "      <td>open /   30</td>\n",
       "    </tr>\n",
       "    <tr>\n",
       "      <td>12</td>\n",
       "      <td>Parkhaus Hardau II / Bullingerstrasse 73</td>\n",
       "      <td>open /   96</td>\n",
       "    </tr>\n",
       "    <tr>\n",
       "      <td>13</td>\n",
       "      <td>Parkhaus Hauptbahnhof / Sihlquai 41</td>\n",
       "      <td>open /   65</td>\n",
       "    </tr>\n",
       "    <tr>\n",
       "      <td>14</td>\n",
       "      <td>Parkhaus Hohe Promenade / Rämistrasse 22a</td>\n",
       "      <td>open /  337</td>\n",
       "    </tr>\n",
       "    <tr>\n",
       "      <td>15</td>\n",
       "      <td>Parkhaus Jelmoli / Steinmühleplatz 1</td>\n",
       "      <td>open /   43</td>\n",
       "    </tr>\n",
       "    <tr>\n",
       "      <td>16</td>\n",
       "      <td>Parkhaus Jungholz / Jungholzstrasse 19</td>\n",
       "      <td>open /  115</td>\n",
       "    </tr>\n",
       "    <tr>\n",
       "      <td>17</td>\n",
       "      <td>Parkhaus Max-Bill-Platz / Armin-Bollinger-Weg</td>\n",
       "      <td>open /   74</td>\n",
       "    </tr>\n",
       "    <tr>\n",
       "      <td>18</td>\n",
       "      <td>Parkhaus Messe Zürich AG / Andreasstrasse 65</td>\n",
       "      <td>open /  999</td>\n",
       "    </tr>\n",
       "    <tr>\n",
       "      <td>19</td>\n",
       "      <td>Parkhaus Nordhaus / Siewerdtstrasse 8</td>\n",
       "      <td>open /  107</td>\n",
       "    </tr>\n",
       "    <tr>\n",
       "      <td>20</td>\n",
       "      <td>Parkhaus Octavo / Brown-Boveri-Strasse 2</td>\n",
       "      <td>open /  116</td>\n",
       "    </tr>\n",
       "    <tr>\n",
       "      <td>21</td>\n",
       "      <td>Parkhaus Opéra / Schillerstrasse 5</td>\n",
       "      <td>open /  117</td>\n",
       "    </tr>\n",
       "    <tr>\n",
       "      <td>22</td>\n",
       "      <td>Parkhaus P West / Förrlibuckstrasse 151</td>\n",
       "      <td>open /  315</td>\n",
       "    </tr>\n",
       "    <tr>\n",
       "      <td>23</td>\n",
       "      <td>Parkhaus Park Hyatt / Beethovenstrasse 21</td>\n",
       "      <td>open /  157</td>\n",
       "    </tr>\n",
       "    <tr>\n",
       "      <td>24</td>\n",
       "      <td>Parkhaus Parkside / Sophie-Täuber-Strasse 10</td>\n",
       "      <td>open /   23</td>\n",
       "    </tr>\n",
       "    <tr>\n",
       "      <td>25</td>\n",
       "      <td>Parkhaus Pfingstweid / Pfingstweidstrasse 1</td>\n",
       "      <td>open /  134</td>\n",
       "    </tr>\n",
       "    <tr>\n",
       "      <td>26</td>\n",
       "      <td>Parkhaus Stampfenbach / Niklausstrasse 1</td>\n",
       "      <td>open /  139</td>\n",
       "    </tr>\n",
       "    <tr>\n",
       "      <td>27</td>\n",
       "      <td>Parkhaus Talgarten / Nüschelerstrasse 31</td>\n",
       "      <td>open /   28</td>\n",
       "    </tr>\n",
       "    <tr>\n",
       "      <td>28</td>\n",
       "      <td>Parkhaus USZ Nord / Frauenklinikstrasse</td>\n",
       "      <td>open /   77</td>\n",
       "    </tr>\n",
       "    <tr>\n",
       "      <td>29</td>\n",
       "      <td>Parkhaus Uni Irchel / Winterthurerstrasse 181</td>\n",
       "      <td>open /  717</td>\n",
       "    </tr>\n",
       "    <tr>\n",
       "      <td>30</td>\n",
       "      <td>Parkhaus Urania / Uraniastrasse 3</td>\n",
       "      <td>open /  173</td>\n",
       "    </tr>\n",
       "    <tr>\n",
       "      <td>31</td>\n",
       "      <td>Parkhaus Utoquai / Färberstrasse 6</td>\n",
       "      <td>open /   89</td>\n",
       "    </tr>\n",
       "    <tr>\n",
       "      <td>32</td>\n",
       "      <td>Parkhaus Züri 11 Shopping / Nansenstrasse 5/7</td>\n",
       "      <td>open /   33</td>\n",
       "    </tr>\n",
       "    <tr>\n",
       "      <td>33</td>\n",
       "      <td>Parkhaus Zürichhorn / Dufourstrasse 142</td>\n",
       "      <td>open /   47</td>\n",
       "    </tr>\n",
       "    <tr>\n",
       "      <td>34</td>\n",
       "      <td>Parkplatz Eisfeld / Thurgauerstrasse 54</td>\n",
       "      <td>open /  103</td>\n",
       "    </tr>\n",
       "    <tr>\n",
       "      <td>35</td>\n",
       "      <td>Parkplatz Theater 11 / Dörfli-/Thurgauerstrasse</td>\n",
       "      <td>open /  101</td>\n",
       "    </tr>\n",
       "    <tr>\n",
       "      <td>36</td>\n",
       "      <td>Parkplatz USZ Süd / Gloriastrasse</td>\n",
       "      <td>open /   18</td>\n",
       "    </tr>\n",
       "    <tr>\n",
       "      <td>37</td>\n",
       "      <td>Puls 5 Parkgarage / Giessereistrasse 18</td>\n",
       "      <td>open /   38</td>\n",
       "    </tr>\n",
       "  </tbody>\n",
       "</table>\n",
       "</div>"
      ],
      "text/plain": [
       "                                          Parkgarage        Descr\n",
       "1               Parkgarage am Central / Seilergraben  open /   13\n",
       "2                    Parkhaus Accu / Otto-Schütz-Weg  open /  130\n",
       "3     Parkhaus Albisriederplatz / Badenerstrasse 380  open /   42\n",
       "4         Parkhaus Bleicherweg / Beethovenstrasse 35  open /  133\n",
       "5   Parkhaus Center Eleven / Sophie-Täuber-Strasse 4  open /  203\n",
       "6            Parkhaus City Parking / Gessnerallee 14  open /  310\n",
       "7            Parkhaus Cityport / Affolternstrasse 56  open /   73\n",
       "8         Parkhaus Crowne Plaza / Badenerstrasse 420  open /  267\n",
       "9      Parkhaus Dorflinde / Schwamendingenstrasse 31  open /   36\n",
       "10              Parkhaus Feldegg / Riesbachstrasse 7  open /  108\n",
       "11                 Parkhaus Globus / Löwenstrasse 50  open /   30\n",
       "12          Parkhaus Hardau II / Bullingerstrasse 73  open /   96\n",
       "13               Parkhaus Hauptbahnhof / Sihlquai 41  open /   65\n",
       "14         Parkhaus Hohe Promenade / Rämistrasse 22a  open /  337\n",
       "15              Parkhaus Jelmoli / Steinmühleplatz 1  open /   43\n",
       "16            Parkhaus Jungholz / Jungholzstrasse 19  open /  115\n",
       "17     Parkhaus Max-Bill-Platz / Armin-Bollinger-Weg  open /   74\n",
       "18      Parkhaus Messe Zürich AG / Andreasstrasse 65  open /  999\n",
       "19             Parkhaus Nordhaus / Siewerdtstrasse 8  open /  107\n",
       "20          Parkhaus Octavo / Brown-Boveri-Strasse 2  open /  116\n",
       "21                Parkhaus Opéra / Schillerstrasse 5  open /  117\n",
       "22           Parkhaus P West / Förrlibuckstrasse 151  open /  315\n",
       "23         Parkhaus Park Hyatt / Beethovenstrasse 21  open /  157\n",
       "24      Parkhaus Parkside / Sophie-Täuber-Strasse 10  open /   23\n",
       "25       Parkhaus Pfingstweid / Pfingstweidstrasse 1  open /  134\n",
       "26          Parkhaus Stampfenbach / Niklausstrasse 1  open /  139\n",
       "27          Parkhaus Talgarten / Nüschelerstrasse 31  open /   28\n",
       "28           Parkhaus USZ Nord / Frauenklinikstrasse  open /   77\n",
       "29     Parkhaus Uni Irchel / Winterthurerstrasse 181  open /  717\n",
       "30                 Parkhaus Urania / Uraniastrasse 3  open /  173\n",
       "31                Parkhaus Utoquai / Färberstrasse 6  open /   89\n",
       "32     Parkhaus Züri 11 Shopping / Nansenstrasse 5/7  open /   33\n",
       "33           Parkhaus Zürichhorn / Dufourstrasse 142  open /   47\n",
       "34           Parkplatz Eisfeld / Thurgauerstrasse 54  open /  103\n",
       "35   Parkplatz Theater 11 / Dörfli-/Thurgauerstrasse  open /  101\n",
       "36                 Parkplatz USZ Süd / Gloriastrasse  open /   18\n",
       "37           Puls 5 Parkgarage / Giessereistrasse 18  open /   38"
      ]
     },
     "execution_count": 27,
     "metadata": {},
     "output_type": "execute_result"
    }
   ],
   "source": [
    "pd.DataFrame(lst)[1:]"
   ]
  },
  {
   "cell_type": "markdown",
   "metadata": {},
   "source": [
    "# Gehen wir zur [Übung 3](https://github.com/MAZ-CAS-DDJ/kurs_18_19/blob/master/06%20APIs%2C%20Scraping%20I/%C3%9Cbung3.ipynb)"
   ]
  },
  {
   "cell_type": "markdown",
   "metadata": {},
   "source": [
    "# Komplexere Websites"
   ]
  },
  {
   "cell_type": "code",
   "execution_count": 28,
   "metadata": {},
   "outputs": [],
   "source": [
    "#laden wir die Frontpage von Watson\n",
    "r = requests.get('https://www.watson.ch')\n",
    "contents = r.text #Wir lesen den Inhalt aus\n",
    "soup = BeautifulSoup(contents,\"html.parser\")"
   ]
  },
  {
   "cell_type": "code",
   "execution_count": 29,
   "metadata": {},
   "outputs": [],
   "source": [
    "#Ziehen wir die Titel raus\n",
    "titelliste = soup.find_all('a')"
   ]
  },
  {
   "cell_type": "code",
   "execution_count": 30,
   "metadata": {},
   "outputs": [
    {
     "data": {
      "text/plain": [
       "251"
      ]
     },
     "execution_count": 30,
     "metadata": {},
     "output_type": "execute_result"
    }
   ],
   "source": [
    "len(titelliste)"
   ]
  },
  {
   "cell_type": "code",
   "execution_count": 33,
   "metadata": {},
   "outputs": [],
   "source": [
    "#Ziehen wir alle Kommentare raus\n",
    "kommentare = soup.find_all('div', {'class':'standard comments'})"
   ]
  },
  {
   "cell_type": "code",
   "execution_count": 34,
   "metadata": {},
   "outputs": [
    {
     "data": {
      "text/plain": [
       "49"
      ]
     },
     "execution_count": 34,
     "metadata": {},
     "output_type": "execute_result"
    }
   ],
   "source": [
    "len(kommentare)"
   ]
  },
  {
   "cell_type": "markdown",
   "metadata": {
    "collapsed": true
   },
   "source": [
    "Hier sehen wir, dass also nicht immer dieselbe Anzahl Kommentare und Artikel herausgelesen werden kann. Nicht jeder Artikel hat einen Kommentar. Wir müssen deshalb unseren Code anpassen."
   ]
  },
  {
   "cell_type": "code",
   "execution_count": 35,
   "metadata": {},
   "outputs": [],
   "source": [
    "storybox = soup.find_all('div', {'class':'text'})"
   ]
  },
  {
   "cell_type": "code",
   "execution_count": 36,
   "metadata": {},
   "outputs": [
    {
     "data": {
      "text/plain": [
       "120"
      ]
     },
     "execution_count": 36,
     "metadata": {},
     "output_type": "execute_result"
    }
   ],
   "source": [
    "len(storybox)"
   ]
  },
  {
   "cell_type": "code",
   "execution_count": 37,
   "metadata": {},
   "outputs": [
    {
     "data": {
      "text/plain": [
       "<div class=\"text\">\n",
       "    Wir verwenden Cookies und Analysetools, um die Nutzerfreundlichkeit der Internetseite zu verbessern und passende Werbung von watson und unseren Werbepartnern anzuzeigen.\n",
       "    Weitere Infos findest Du in unserer <a href=\"/u/agb\">Datenschutzerklärung</a>.\n",
       "    </div>"
      ]
     },
     "execution_count": 37,
     "metadata": {},
     "output_type": "execute_result"
    }
   ],
   "source": [
    "storybox[0]"
   ]
  },
  {
   "cell_type": "code",
   "execution_count": 38,
   "metadata": {},
   "outputs": [
    {
     "data": {
      "text/plain": [
       "<div class=\"text\">\n",
       "<h2><div>CVP zieht umstrittene Kampagne weiter – und startet am Wochenende Phase zwei</div></h2>\n",
       "<p class=\"author\">von Othmar von Matt</p>\n",
       "<!-- iconrow ==> -->\n",
       "<div class=\"iconrow\">\n",
       "</div>\n",
       "<!-- <== iconrow -->\n",
       "</div>"
      ]
     },
     "execution_count": 38,
     "metadata": {},
     "output_type": "execute_result"
    }
   ],
   "source": [
    "storybox[2]"
   ]
  },
  {
   "cell_type": "code",
   "execution_count": 47,
   "metadata": {},
   "outputs": [
    {
     "data": {
      "text/plain": [
       "'CVP zieht umstrittene Kampagne weiter – und startet am Wochenende Phase zwei'"
      ]
     },
     "execution_count": 47,
     "metadata": {},
     "output_type": "execute_result"
    }
   ],
   "source": [
    "storybox[2].find('h2').text  "
   ]
  },
  {
   "cell_type": "code",
   "execution_count": 3,
   "metadata": {},
   "outputs": [
    {
     "ename": "NameError",
     "evalue": "name 'storybox' is not defined",
     "output_type": "error",
     "traceback": [
      "\u001b[0;31m---------------------------------------------------------------------------\u001b[0m",
      "\u001b[0;31mNameError\u001b[0m                                 Traceback (most recent call last)",
      "\u001b[0;32m<ipython-input-3-821833ec5925>\u001b[0m in \u001b[0;36m<module>\u001b[0;34m\u001b[0m\n\u001b[0;32m----> 1\u001b[0;31m \u001b[0mstorybox\u001b[0m\u001b[0;34m[\u001b[0m\u001b[0;36m2\u001b[0m\u001b[0;34m]\u001b[0m\u001b[0;34m.\u001b[0m\u001b[0mfind\u001b[0m\u001b[0;34m(\u001b[0m\u001b[0;34m'div'\u001b[0m\u001b[0;34m,\u001b[0m \u001b[0;34m{\u001b[0m\u001b[0;34m'class'\u001b[0m\u001b[0;34m:\u001b[0m\u001b[0;34m'standard'\u001b[0m\u001b[0;34m}\u001b[0m\u001b[0;34m)\u001b[0m\u001b[0;34m.\u001b[0m\u001b[0mtext\u001b[0m\u001b[0;34m\u001b[0m\u001b[0;34m\u001b[0m\u001b[0m\n\u001b[0m",
      "\u001b[0;31mNameError\u001b[0m: name 'storybox' is not defined"
     ]
    }
   ],
   "source": [
    "#Diesen Fehler müssen wir auffangen, das tun wir am einfachsten mit try und except.\n",
    "storybox[2].find('div', {'class':'standard'}).text"
   ]
  },
  {
   "cell_type": "code",
   "execution_count": 52,
   "metadata": {},
   "outputs": [],
   "source": [
    "lst = []\n",
    "for elem in storybox:\n",
    "    try:\n",
    "        t = elem.find('h2').text\n",
    "    except:\n",
    "        t = \"N/A\" \n",
    "    \n",
    "    try:\n",
    "        \n",
    "        k = elem.find('div', {'class':'standard comments'}).text.replace(\"\\n\", \"\")\n",
    "    except:\n",
    "        k = \"N/A\"\n",
    "    \n",
    "    mini_dict = {'Titel': t,\n",
    "                 'Kommentar': k}\n",
    "    \n",
    "    lst.append(mini_dict)"
   ]
  },
  {
   "cell_type": "code",
   "execution_count": 53,
   "metadata": {},
   "outputs": [
    {
     "data": {
      "text/plain": [
       "[{'Titel': 'N/A', 'Kommentar': 'N/A'},\n",
       " {'Titel': 'Wie Trump-Anwalt Giuliani den US-Präsidenten mit diesem Interview in Teufels Küche bringt',\n",
       "  'Kommentar': '21'},\n",
       " {'Titel': 'CVP zieht umstrittene Kampagne weiter – und startet am Wochenende Phase zwei',\n",
       "  'Kommentar': 'N/A'},\n",
       " {'Titel': 'Huawei, euer neues Smartphone ist richtig geil – aber was ist mit dem Google-Chabis?',\n",
       "  'Kommentar': '35'},\n",
       " {'Titel': 'Migrant in Libyen vor Augen von Uno-Helfern erschossen: EU bestürzt',\n",
       "  'Kommentar': '33'},\n",
       " {'Titel': \"Ja, dieses Bild ist wirklich aus der Schweiz (Nico hat's getestet – und verflucht)\",\n",
       "  'Kommentar': '38'},\n",
       " {'Titel': 'Wird heute tatsächlich Area 51 gestürmt? 👽 Vor dem Gate versammeln sich immer mehr Leute',\n",
       "  'Kommentar': '33'},\n",
       " {'Titel': 'Gigantischer Aufmarsch an weltweiten Klimademos – Millionen gehen auf die Strasse',\n",
       "  'Kommentar': 'N/A'},\n",
       " {'Titel': 'Ein neuer Trend im Schweizer Eishockey – den Vertrag selbst verhandeln und Geld sparen',\n",
       "  'Kommentar': '21'},\n",
       " {'Titel': 'Greta Thunberg in den USA: Eine Aktivistin verzweifelt an den Klima-Kneifern',\n",
       "  'Kommentar': '142'},\n",
       " {'Titel': '«Eine Kuh macht mein Auto kaputt und ich muss einen Teil bezahlen. Wieso?»',\n",
       "  'Kommentar': '22'},\n",
       " {'Titel': '\\nToter Mann in der Nähe einer Schule in Cernier NE aufgefunden\\n',\n",
       "  'Kommentar': 'N/A'},\n",
       " {'Titel': '\\nNeue Ölheizungen ab 2025 verboten: Deutschland einigt sich auf Klimaschutz-Paket\\n',\n",
       "  'Kommentar': '78'},\n",
       " {'Titel': '\\nRussland und China bei Militärmanöver mit Putin «Seite an Seite»\\n',\n",
       "  'Kommentar': '1'},\n",
       " {'Titel': '\\nKZ-Überlebender Marko Feingold mit 106 Jahren gestorben\\n',\n",
       "  'Kommentar': '2'},\n",
       " {'Titel': '\\nLehrerin massiv bedroht — Bezirksgericht Dietikon belässt es bei bedingter Geldstrafe\\n',\n",
       "  'Kommentar': 'N/A'},\n",
       " {'Titel': '\\nSegler auf dem Neuenburgersee schwimmen nach Schiffbruch eine Stunde lang zum Ufer\\n',\n",
       "  'Kommentar': 'N/A'},\n",
       " {'Titel': 'Diese 9 Food Trucks aus New York wünschen wir uns in der Schweiz (weil absolut 🤤)',\n",
       "  'Kommentar': '63'},\n",
       " {'Titel': 'Letzte Chance! 20.000 Meilen sichern und Reise nach New York gewinnen!',\n",
       "  'Kommentar': 'N/A'},\n",
       " {'Titel': 'Die lange Reise der Schiedsrichter-Pfeife an die Rugby-WM nach Japan',\n",
       "  'Kommentar': '5'},\n",
       " {'Titel': 'Federer/Nadal necken sich wie ein altes Ehepaar und McEnroe will «ihre Karrieren beenden»',\n",
       "  'Kommentar': '7'},\n",
       " {'Titel': '«Team Welt» hält am Laver Cup dagegen +++ Hamilton in Singapur der Schnellste',\n",
       "  'Kommentar': 'N/A'},\n",
       " {'Titel': 'Knatsch um Zürcher Fussballstadion geht weiter:  Es kommt (wohl) zur 4. Volksabstimmung',\n",
       "  'Kommentar': '99'},\n",
       " {'Titel': 'Ging ein schwarzer Panther auf einem Dach in Frankreich spazieren ...',\n",
       "  'Kommentar': '4'},\n",
       " {'Titel': 'Gewinne einen 100-Franken-Gutschein für Uber Eats',\n",
       "  'Kommentar': 'N/A'},\n",
       " {'Titel': '«Kein Brexit ohne Parlament!» John Bercow sagt Johnson in Zürich den Kampf an',\n",
       "  'Kommentar': '43'},\n",
       " {'Titel': 'Schläfer-Bakterien übergeben Resistenzen beim Sex',\n",
       "  'Kommentar': '5'},\n",
       " {'Titel': 'Im Bild', 'Kommentar': 'N/A'},\n",
       " {'Titel': '27 wunderliche Tiere, die du sicher noch nicht alle kennst',\n",
       "  'Kommentar': '70'},\n",
       " {'Titel': 'Videos', 'Kommentar': 'N/A'},\n",
       " {'Titel': '\\nJustin Trudeau entschuldigt sich für Foto\\n',\n",
       "  'Kommentar': 'N/A'},\n",
       " {'Titel': \"\\n«It's the final countdown»\\n\", 'Kommentar': 'N/A'},\n",
       " {'Titel': '\\nVor dem Insta-Fame kam die «Nahtod-Erfahrung»\\n',\n",
       "  'Kommentar': 'N/A'},\n",
       " {'Titel': '\\nKeine Tabakwerbung mehr – zum Schutz der Minderjährigen\\n',\n",
       "  'Kommentar': 'N/A'},\n",
       " {'Titel': '\\nDas E-Mobil im Test\\n', 'Kommentar': 'N/A'},\n",
       " {'Titel': '\\nHome-Office stösst dem Chef sauer auf\\n', 'Kommentar': 'N/A'},\n",
       " {'Titel': '\\nGepimpte VW-Käfer in Äthiopien\\n', 'Kommentar': 'N/A'},\n",
       " {'Titel': '\\nLandwirtschaftssimulator im E-Sports\\n', 'Kommentar': 'N/A'},\n",
       " {'Titel': '\\nDänische TV-Show startet Spendenaktion für Bäume\\n',\n",
       "  'Kommentar': 'N/A'},\n",
       " {'Titel': '\\nDrohnenangriff auf die grösste Ölraffinerie Saudi-Arabiens\\n',\n",
       "  'Kommentar': 'N/A'},\n",
       " {'Titel': '\\nTheoretisch bewohnbarer Planet entdeckt\\n', 'Kommentar': 'N/A'},\n",
       " {'Titel': '\\nCamille Fédérale - Der Röstigraben im Bundeshaus\\n',\n",
       "  'Kommentar': 'N/A'},\n",
       " {'Titel': '\\nViele sehen eine Prostituierte nicht als Mensch\\n',\n",
       "  'Kommentar': 'N/A'},\n",
       " {'Titel': '\\nRap-Video aus der Türkei geht viral\\n', 'Kommentar': 'N/A'},\n",
       " {'Titel': '\\nRegisseur Roland Emmerich kommt ans ZFF 2019\\n',\n",
       "  'Kommentar': 'N/A'},\n",
       " {'Titel': '\\nIn voller Fahrt ein Smartphone gefangen\\n', 'Kommentar': 'N/A'},\n",
       " {'Titel': '\\n«Hongkong ist das neue Berlin in einem neuen Kalten Krieg»\\n',\n",
       "  'Kommentar': 'N/A'},\n",
       " {'Titel': '\\nEiner Stadt mit einer besonders geringen Wahlbeteiligung\\n',\n",
       "  'Kommentar': 'N/A'},\n",
       " {'Titel': '\\nZivilschützer schlagen Alarm\\n', 'Kommentar': 'N/A'},\n",
       " {'Titel': 'Meistgelesen', 'Kommentar': 'N/A'},\n",
       " {'Titel': 'Wie Trump-Anwalt Giuliani den US-Präsidenten mit diesem …',\n",
       "  'Kommentar': 'N/A'},\n",
       " {'Titel': 'Wird heute tatsächlich Area 51 gestürmt? 👽 Vor dem Gate …',\n",
       "  'Kommentar': 'N/A'},\n",
       " {'Titel': '«Eine Kuh macht mein Auto kaputt und ich muss einen Teil …',\n",
       "  'Kommentar': 'N/A'},\n",
       " {'Titel': 'Huawei, euer neues Smartphone ist richtig geil – aber was ist …',\n",
       "  'Kommentar': 'N/A'},\n",
       " {'Titel': \"Ja, dieses Bild ist wirklich aus der Schweiz (Nico hat's getestet …\",\n",
       "  'Kommentar': 'N/A'},\n",
       " {'Titel': 'Meistkommentiert', 'Kommentar': 'N/A'},\n",
       " {'Titel': 'Greta Thunberg in den USA: Eine Aktivistin verzweifelt an den …',\n",
       "  'Kommentar': 'N/A'},\n",
       " {'Titel': 'Sportlerpics auf Social Media: Haris Seferovic zeigt seine beiden …',\n",
       "  'Kommentar': 'N/A'},\n",
       " {'Titel': 'In der Schweiz geht die Kriminalität seit Jahren zurück – …',\n",
       "  'Kommentar': 'N/A'},\n",
       " {'Titel': 'Knatsch um Zürcher Fussballstadion geht weiter:  Es kommt (wohl) …',\n",
       "  'Kommentar': 'N/A'},\n",
       " {'Titel': 'Eins vor Tod will ich Sex und (eventuell) eine Ohrfeige',\n",
       "  'Kommentar': 'N/A'},\n",
       " {'Titel': 'Meistgeteilt', 'Kommentar': 'N/A'},\n",
       " {'Titel': '«Ich möchte, dass ihr endlich Taten folgen lasst» – Greta …',\n",
       "  'Kommentar': 'N/A'},\n",
       " {'Titel': 'Das Schreddern lebender Küken wird verboten', 'Kommentar': 'N/A'},\n",
       " {'Titel': 'Gigantischer Aufmarsch an weltweiten Klimademos – Millionen …',\n",
       "  'Kommentar': 'N/A'},\n",
       " {'Titel': '«Final Countdown!» Klimastreiker protestieren im Parlament – …',\n",
       "  'Kommentar': 'N/A'},\n",
       " {'Titel': '27 wunderliche Tiere, die du sicher noch nicht alle kennst',\n",
       "  'Kommentar': 'N/A'},\n",
       " {'Titel': 'Best of watson', 'Kommentar': 'N/A'},\n",
       " {'Titel': 'History Porn Teil LII: Geschichte in 22 Wahnsinns-Bildern',\n",
       "  'Kommentar': 'N/A'},\n",
       " {'Titel': 'Alle gegen Erdoğan – der Thron des «Sultans am Bosporus» wackelt',\n",
       "  'Kommentar': '21'},\n",
       " {'Titel': 'Warum sich mehr Männer als Frauen verschulden – und nicht viel dafür können',\n",
       "  'Kommentar': '68'},\n",
       " {'Titel': 'Regeln, Spielplan und TV-Übertragung – alles, was du zur Rugby-WM wissen musst',\n",
       "  'Kommentar': '17'},\n",
       " {'Titel': 'Digital Festival 2019', 'Kommentar': 'N/A'},\n",
       " {'Titel': 'Du meinst, du kannst «richtig» Englisch? – Wir haben den «th»-Test auf der Strasse gemacht',\n",
       "  'Kommentar': '26'},\n",
       " {'Titel': '«Dass Pornos immer verfügbar sind, ist ein Problem»',\n",
       "  'Kommentar': '73'},\n",
       " {'Titel': 'Dank Traumtor an Messis Weltrekord dran – der unfassbare Lauf von Ex-YB-Stürmer Martinez',\n",
       "  'Kommentar': '8'},\n",
       " {'Titel': 'Das neuste «Zelda»-Game ist ein Meisterwerk. Punkt.',\n",
       "  'Kommentar': '42'},\n",
       " {'Titel': 'Letzte Nachrichten', 'Kommentar': 'N/A'},\n",
       " {'Titel': 'CVP zieht umstrittene Kampagne weiter – und startet am Wochenende Phase …',\n",
       "  'Kommentar': 'N/A'},\n",
       " {'Titel': '«Team Welt» hält am Laver Cup dagegen +++ Hamilton in Singapur der …',\n",
       "  'Kommentar': 'N/A'},\n",
       " {'Titel': 'Segler auf dem Neuenburgersee schwimmen nach Schiffbruch eine Stunde lang …',\n",
       "  'Kommentar': 'N/A'},\n",
       " {'Titel': 'Lehrerin massiv bedroht — Bezirksgericht Dietikon belässt es bei …',\n",
       "  'Kommentar': 'N/A'},\n",
       " {'Titel': 'Gastgeber Japan eröffnet die Rugby-WM im eigenen Land siegreich',\n",
       "  'Kommentar': 'N/A'},\n",
       " {'Titel': 'Wie Trump-Anwalt Giuliani den US-Präsidenten mit diesem Interview in …',\n",
       "  'Kommentar': 'N/A'},\n",
       " {'Titel': 'Aktuelle Themen', 'Kommentar': 'N/A'},\n",
       " {'Titel': 'Schweiz', 'Kommentar': 'N/A'},\n",
       " {'Titel': 'Ursachen der Entgleisungen in Luzern und Basel geklärt',\n",
       "  'Kommentar': '5'},\n",
       " {'Titel': 'Bundesgericht klopft Zürcher Migrationsamt auf die Finger',\n",
       "  'Kommentar': '25'},\n",
       " {'Titel': 'Noch nie gab es so wenige Rekruten wie 2018', 'Kommentar': '141'},\n",
       " {'Titel': 'International', 'Kommentar': 'N/A'},\n",
       " {'Titel': 'New Yorks Bürgermeister de Blasio gibt Präsidentschafts-Bewerbung auf',\n",
       "  'Kommentar': 'N/A'},\n",
       " {'Titel': 'Letztes Jahr wurden 29 Millionen Babys in Konfliktgebieten geboren',\n",
       "  'Kommentar': '7'},\n",
       " {'Titel': 'Wieso Trump immer ein paar Banknoten dabei hat',\n",
       "  'Kommentar': '15'},\n",
       " {'Titel': 'Sport', 'Kommentar': 'N/A'},\n",
       " {'Titel': 'Gastgeber Japan eröffnet die Rugby-WM im eigenen Land siegreich',\n",
       "  'Kommentar': 'N/A'},\n",
       " {'Titel': 'Der FC Basel siegt mit 5:0 gegen Krasnodar, doch das Stadion ist halbleer',\n",
       "  'Kommentar': '8'},\n",
       " {'Titel': '11 herrliche Tore aus der Europa League – wähle das schönste (2 Schweizer sind auch dabei)',\n",
       "  'Kommentar': '6'},\n",
       " {'Titel': 'Nach Po-Parade vor dem Weissen Haus: Jetzt bestraft das Militär Weltmeister Schurter',\n",
       "  'Kommentar': '31'},\n",
       " {'Titel': 'Basels Kantersieg ++ YB und Lugano verlieren ++ Wolfsberg zerstört Gladbach',\n",
       "  'Kommentar': '7'},\n",
       " {'Titel': 'YB unterliegt Porto trotz starker zweiter Halbzeit',\n",
       "  'Kommentar': '20'},\n",
       " {'Titel': 'Leben', 'Kommentar': 'N/A'},\n",
       " {'Titel': 'Schakale wollen Gnu-Baby fressen – doch sie haben die Rechnung ohne dessen …',\n",
       "  'Kommentar': '11'},\n",
       " {'Titel': '8 Situationen, in denen Eltern und ihre Kinder nerven – oder nicht? Wie reagierst du?',\n",
       "  'Kommentar': 'N/A'},\n",
       " {'Titel': 'Eins vor Tod will ich Sex und (eventuell) eine Ohrfeige',\n",
       "  'Kommentar': '183'},\n",
       " {'Titel': 'Spass', 'Kommentar': 'N/A'},\n",
       " {'Titel': 'Millenials werden in diesem Retro-Food-Quiz so was von abkacken ... und du?',\n",
       "  'Kommentar': '387'},\n",
       " {'Titel': 'Für ewiges Glück, drücke hier: PICDUMP 🍀', 'Kommentar': '202'},\n",
       " {'Titel': 'Die 5 ungeschriebenen Gesetze des Zügelns', 'Kommentar': '21'},\n",
       " {'Titel': 'Digital', 'Kommentar': 'N/A'},\n",
       " {'Titel': 'Swisscom will die normalen Abopreise nicht senken',\n",
       "  'Kommentar': '31'},\n",
       " {'Titel': 'Huawei enthüllt Top-Handys, Uhren und Fernseher – «vergisst» aber das Wichtigste',\n",
       "  'Kommentar': '48'},\n",
       " {'Titel': 'Grüne Politikerin wird als «Drecks-F*tze» beschimpft – Gericht sieht keine Straftat',\n",
       "  'Kommentar': '66'},\n",
       " {'Titel': 'Wissen', 'Kommentar': 'N/A'},\n",
       " {'Titel': 'Heute ist Kindertag! Ja, aber nicht in der Schweiz (bei uns kommt er erst noch)',\n",
       "  'Kommentar': 'N/A'},\n",
       " {'Titel': 'Wie alt werden diese Tiere?', 'Kommentar': '19'},\n",
       " {'Titel': 'Das? Das ist nur die wohl umfangreichste Schatzkarte aller bisherigen Zeiten',\n",
       "  'Kommentar': '40'},\n",
       " {'Titel': 'Blogs', 'Kommentar': 'N/A'},\n",
       " {'Titel': 'Fremd- statt Flugscham: Verfi**te Flugzeugklatscher',\n",
       "  'Kommentar': '108'},\n",
       " {'Titel': '«Ich hatte Sex mit dem Ex meiner besten Freundin…»',\n",
       "  'Kommentar': '240'},\n",
       " {'Titel': 'Greift Gott in den Wahlkampf ein? Was «Pray for Switzerland» wirklich offenbart',\n",
       "  'Kommentar': '339'}]"
      ]
     },
     "execution_count": 53,
     "metadata": {},
     "output_type": "execute_result"
    }
   ],
   "source": [
    "lst"
   ]
  },
  {
   "cell_type": "code",
   "execution_count": 54,
   "metadata": {},
   "outputs": [
    {
     "data": {
      "text/html": [
       "<div>\n",
       "<style scoped>\n",
       "    .dataframe tbody tr th:only-of-type {\n",
       "        vertical-align: middle;\n",
       "    }\n",
       "\n",
       "    .dataframe tbody tr th {\n",
       "        vertical-align: top;\n",
       "    }\n",
       "\n",
       "    .dataframe thead th {\n",
       "        text-align: right;\n",
       "    }\n",
       "</style>\n",
       "<table border=\"1\" class=\"dataframe\">\n",
       "  <thead>\n",
       "    <tr style=\"text-align: right;\">\n",
       "      <th></th>\n",
       "      <th>Titel</th>\n",
       "      <th>Kommentar</th>\n",
       "    </tr>\n",
       "  </thead>\n",
       "  <tbody>\n",
       "    <tr>\n",
       "      <td>0</td>\n",
       "      <td>N/A</td>\n",
       "      <td>N/A</td>\n",
       "    </tr>\n",
       "    <tr>\n",
       "      <td>1</td>\n",
       "      <td>Wie Trump-Anwalt Giuliani den US-Präsidenten m...</td>\n",
       "      <td>21</td>\n",
       "    </tr>\n",
       "    <tr>\n",
       "      <td>2</td>\n",
       "      <td>CVP zieht umstrittene Kampagne weiter – und st...</td>\n",
       "      <td>N/A</td>\n",
       "    </tr>\n",
       "    <tr>\n",
       "      <td>3</td>\n",
       "      <td>Huawei, euer neues Smartphone ist richtig geil...</td>\n",
       "      <td>35</td>\n",
       "    </tr>\n",
       "    <tr>\n",
       "      <td>4</td>\n",
       "      <td>Migrant in Libyen vor Augen von Uno-Helfern er...</td>\n",
       "      <td>33</td>\n",
       "    </tr>\n",
       "    <tr>\n",
       "      <td>...</td>\n",
       "      <td>...</td>\n",
       "      <td>...</td>\n",
       "    </tr>\n",
       "    <tr>\n",
       "      <td>115</td>\n",
       "      <td>Das? Das ist nur die wohl umfangreichste Schat...</td>\n",
       "      <td>40</td>\n",
       "    </tr>\n",
       "    <tr>\n",
       "      <td>116</td>\n",
       "      <td>Blogs</td>\n",
       "      <td>N/A</td>\n",
       "    </tr>\n",
       "    <tr>\n",
       "      <td>117</td>\n",
       "      <td>Fremd- statt Flugscham: Verfi**te Flugzeugklat...</td>\n",
       "      <td>108</td>\n",
       "    </tr>\n",
       "    <tr>\n",
       "      <td>118</td>\n",
       "      <td>«Ich hatte Sex mit dem Ex meiner besten Freund...</td>\n",
       "      <td>240</td>\n",
       "    </tr>\n",
       "    <tr>\n",
       "      <td>119</td>\n",
       "      <td>Greift Gott in den Wahlkampf ein? Was «Pray fo...</td>\n",
       "      <td>339</td>\n",
       "    </tr>\n",
       "  </tbody>\n",
       "</table>\n",
       "<p>120 rows × 2 columns</p>\n",
       "</div>"
      ],
      "text/plain": [
       "                                                 Titel Kommentar\n",
       "0                                                  N/A       N/A\n",
       "1    Wie Trump-Anwalt Giuliani den US-Präsidenten m...        21\n",
       "2    CVP zieht umstrittene Kampagne weiter – und st...       N/A\n",
       "3    Huawei, euer neues Smartphone ist richtig geil...        35\n",
       "4    Migrant in Libyen vor Augen von Uno-Helfern er...        33\n",
       "..                                                 ...       ...\n",
       "115  Das? Das ist nur die wohl umfangreichste Schat...        40\n",
       "116                                              Blogs       N/A\n",
       "117  Fremd- statt Flugscham: Verfi**te Flugzeugklat...       108\n",
       "118  «Ich hatte Sex mit dem Ex meiner besten Freund...       240\n",
       "119  Greift Gott in den Wahlkampf ein? Was «Pray fo...       339\n",
       "\n",
       "[120 rows x 2 columns]"
      ]
     },
     "execution_count": 54,
     "metadata": {},
     "output_type": "execute_result"
    }
   ],
   "source": [
    "pd.DataFrame(lst)"
   ]
  },
  {
   "cell_type": "markdown",
   "metadata": {},
   "source": [
    "# Als Übung: Mit Funktion dasselbe tun.\n",
    "Wenn man sehr ausführlichen Code entwickelt, ist es oft praktisch, mit Funktionen zu arbeiten. Hier ein Beispiel davon, wie das aussehen könnte."
   ]
  },
  {
   "cell_type": "code",
   "execution_count": 11,
   "metadata": {},
   "outputs": [],
   "source": [
    "def kommentarezählen(url):\n",
    "    \n",
    "    r = requests.get(url)\n",
    "    soup = BeautifulSoup(r.text,'xml')\n",
    "    storybox = soup.find_all('div', {'class':'text'})\n",
    "    \n",
    "    lst = []   \n",
    "    for elem in storybox:\n",
    "        try: #Hier kannn man mit Fehlern umgehen. Man muss allerdings spärlcih damit umgehen. \n",
    "            t = elem.find('h2').text\n",
    "        except:\n",
    "            t = 'Kein Titel'\n",
    "        try:\n",
    "            k = elem.find('div', {'class':'standard comments'}).text.replace(\"\\n\", \"\")\n",
    "        except:\n",
    "            k = 'Keine Kommentare'\n",
    "        mini_dict = {'Titel': t,\n",
    "                 'Kommentar': k}\n",
    "        lst.append(mini_dict)\n",
    "    \n",
    "    return pd.DataFrame(lst)"
   ]
  },
  {
   "cell_type": "code",
   "execution_count": 12,
   "metadata": {},
   "outputs": [
    {
     "data": {
      "text/html": [
       "<div>\n",
       "<style scoped>\n",
       "    .dataframe tbody tr th:only-of-type {\n",
       "        vertical-align: middle;\n",
       "    }\n",
       "\n",
       "    .dataframe tbody tr th {\n",
       "        vertical-align: top;\n",
       "    }\n",
       "\n",
       "    .dataframe thead th {\n",
       "        text-align: right;\n",
       "    }\n",
       "</style>\n",
       "<table border=\"1\" class=\"dataframe\">\n",
       "  <thead>\n",
       "    <tr style=\"text-align: right;\">\n",
       "      <th></th>\n",
       "      <th>Kommentar</th>\n",
       "      <th>Titel</th>\n",
       "    </tr>\n",
       "  </thead>\n",
       "  <tbody>\n",
       "    <tr>\n",
       "      <th>0</th>\n",
       "      <td>Keine Kommentare</td>\n",
       "      <td>Kein Titel</td>\n",
       "    </tr>\n",
       "    <tr>\n",
       "      <th>1</th>\n",
       "      <td>45</td>\n",
       "      <td>Roger Köppel sprengt die Zürcher Ständerats-«A...</td>\n",
       "    </tr>\n",
       "    <tr>\n",
       "      <th>2</th>\n",
       "      <td>4</td>\n",
       "      <td>«Es ist nicht akzeptabel, wenn sich Staaten we...</td>\n",
       "    </tr>\n",
       "    <tr>\n",
       "      <th>3</th>\n",
       "      <td>2</td>\n",
       "      <td>«Friends» wird 25 – und auch die Schauspieler ...</td>\n",
       "    </tr>\n",
       "    <tr>\n",
       "      <th>4</th>\n",
       "      <td>8</td>\n",
       "      <td>Wie aus dem Titanen Leonardo Genoni auf einmal...</td>\n",
       "    </tr>\n",
       "    <tr>\n",
       "      <th>5</th>\n",
       "      <td>13</td>\n",
       "      <td>Zehntausende in New York hören sich diese Rede...</td>\n",
       "    </tr>\n",
       "    <tr>\n",
       "      <th>6</th>\n",
       "      <td>7</td>\n",
       "      <td>Das «Massaker-Gewehr» AR-15 steht vor dem Aus</td>\n",
       "    </tr>\n",
       "    <tr>\n",
       "      <th>7</th>\n",
       "      <td>1</td>\n",
       "      <td>Nach 11 Tagen und nur einem Spiel: Patriots en...</td>\n",
       "    </tr>\n",
       "    <tr>\n",
       "      <th>8</th>\n",
       "      <td>12</td>\n",
       "      <td>Wie man das 3. Auge öffnet, den Astralkörper l...</td>\n",
       "    </tr>\n",
       "    <tr>\n",
       "      <th>9</th>\n",
       "      <td>55</td>\n",
       "      <td>Zwei Millionen wollten Area 51 stürmen – der A...</td>\n",
       "    </tr>\n",
       "    <tr>\n",
       "      <th>10</th>\n",
       "      <td>8</td>\n",
       "      <td>«Klare Korruption»: Biden fordert Trump auf, b...</td>\n",
       "    </tr>\n",
       "    <tr>\n",
       "      <th>11</th>\n",
       "      <td>Keine Kommentare</td>\n",
       "      <td>\\nCorrea nicht mehr im künstlichen Koma +++ Fe...</td>\n",
       "    </tr>\n",
       "    <tr>\n",
       "      <th>12</th>\n",
       "      <td>Keine Kommentare</td>\n",
       "      <td>\\nFacebook sperrte zehntausende Apps nach Camb...</td>\n",
       "    </tr>\n",
       "    <tr>\n",
       "      <th>13</th>\n",
       "      <td>1</td>\n",
       "      <td>\\nKrise mit dem Iran: USA verlegen weitere Tru...</td>\n",
       "    </tr>\n",
       "    <tr>\n",
       "      <th>14</th>\n",
       "      <td>2</td>\n",
       "      <td>\\nMalta startet unabhängige Untersuchung zum M...</td>\n",
       "    </tr>\n",
       "    <tr>\n",
       "      <th>15</th>\n",
       "      <td>3</td>\n",
       "      <td>\\nKniestich – wie viele Spiele muss Zugs Oscar...</td>\n",
       "    </tr>\n",
       "    <tr>\n",
       "      <th>16</th>\n",
       "      <td>1</td>\n",
       "      <td>\\nKalifornien klagt gegen Trump wegen Emission...</td>\n",
       "    </tr>\n",
       "    <tr>\n",
       "      <th>17</th>\n",
       "      <td>62</td>\n",
       "      <td>«Historischer Tag» – diese Bilder zeigen, wie ...</td>\n",
       "    </tr>\n",
       "    <tr>\n",
       "      <th>18</th>\n",
       "      <td>Keine Kommentare</td>\n",
       "      <td>Schiri erzielt gegen Besiktas ein Tor, das am ...</td>\n",
       "    </tr>\n",
       "    <tr>\n",
       "      <th>19</th>\n",
       "      <td>14</td>\n",
       "      <td>Sieg für Natalie Rickli: Heinigers Axsana zahl...</td>\n",
       "    </tr>\n",
       "    <tr>\n",
       "      <th>20</th>\n",
       "      <td>46</td>\n",
       "      <td>Wie Trump-Anwalt Giuliani den US-Präsidenten m...</td>\n",
       "    </tr>\n",
       "    <tr>\n",
       "      <th>21</th>\n",
       "      <td>13</td>\n",
       "      <td>Drohnen mit künstlicher Intelligenz: Die auton...</td>\n",
       "    </tr>\n",
       "    <tr>\n",
       "      <th>22</th>\n",
       "      <td>Keine Kommentare</td>\n",
       "      <td>Gewinne einen 100-Franken-Gutschein für Uber Eats</td>\n",
       "    </tr>\n",
       "    <tr>\n",
       "      <th>23</th>\n",
       "      <td>53</td>\n",
       "      <td>Ja, dieses Bild ist wirklich aus der Schweiz (...</td>\n",
       "    </tr>\n",
       "    <tr>\n",
       "      <th>24</th>\n",
       "      <td>34</td>\n",
       "      <td>«Eine Kuh macht mein Auto kaputt und ich muss ...</td>\n",
       "    </tr>\n",
       "    <tr>\n",
       "      <th>25</th>\n",
       "      <td>Keine Kommentare</td>\n",
       "      <td>Im Bild</td>\n",
       "    </tr>\n",
       "  </tbody>\n",
       "</table>\n",
       "</div>"
      ],
      "text/plain": [
       "           Kommentar                                              Titel\n",
       "0   Keine Kommentare                                         Kein Titel\n",
       "1                 45  Roger Köppel sprengt die Zürcher Ständerats-«A...\n",
       "2                  4  «Es ist nicht akzeptabel, wenn sich Staaten we...\n",
       "3                  2  «Friends» wird 25 – und auch die Schauspieler ...\n",
       "4                  8  Wie aus dem Titanen Leonardo Genoni auf einmal...\n",
       "5                 13  Zehntausende in New York hören sich diese Rede...\n",
       "6                  7      Das «Massaker-Gewehr» AR-15 steht vor dem Aus\n",
       "7                  1  Nach 11 Tagen und nur einem Spiel: Patriots en...\n",
       "8                 12  Wie man das 3. Auge öffnet, den Astralkörper l...\n",
       "9                 55  Zwei Millionen wollten Area 51 stürmen – der A...\n",
       "10                 8  «Klare Korruption»: Biden fordert Trump auf, b...\n",
       "11  Keine Kommentare  \\nCorrea nicht mehr im künstlichen Koma +++ Fe...\n",
       "12  Keine Kommentare  \\nFacebook sperrte zehntausende Apps nach Camb...\n",
       "13                 1  \\nKrise mit dem Iran: USA verlegen weitere Tru...\n",
       "14                 2  \\nMalta startet unabhängige Untersuchung zum M...\n",
       "15                 3  \\nKniestich – wie viele Spiele muss Zugs Oscar...\n",
       "16                 1  \\nKalifornien klagt gegen Trump wegen Emission...\n",
       "17                62  «Historischer Tag» – diese Bilder zeigen, wie ...\n",
       "18  Keine Kommentare  Schiri erzielt gegen Besiktas ein Tor, das am ...\n",
       "19                14  Sieg für Natalie Rickli: Heinigers Axsana zahl...\n",
       "20                46  Wie Trump-Anwalt Giuliani den US-Präsidenten m...\n",
       "21                13  Drohnen mit künstlicher Intelligenz: Die auton...\n",
       "22  Keine Kommentare  Gewinne einen 100-Franken-Gutschein für Uber Eats\n",
       "23                53  Ja, dieses Bild ist wirklich aus der Schweiz (...\n",
       "24                34  «Eine Kuh macht mein Auto kaputt und ich muss ...\n",
       "25  Keine Kommentare                                            Im Bild"
      ]
     },
     "execution_count": 12,
     "metadata": {},
     "output_type": "execute_result"
    }
   ],
   "source": [
    "kommentarezählen('https://www.watson.ch/')"
   ]
  },
  {
   "cell_type": "markdown",
   "metadata": {},
   "source": [
    "Das können wir natürlich auf der Kommandozeile auslösen. Speichern wir unsere Skript und wandeln wir ihn um. (Wir müssen noch dafür sorgen, dass er mit einem Parameter ausgestattet werden kann. Aber auch das lässt sich einfach googeln)."
   ]
  },
  {
   "cell_type": "markdown",
   "metadata": {},
   "source": [
    "# Nun üben wir das ein wenig: Weiter zu Übung 4"
   ]
  },
  {
   "cell_type": "code",
   "execution_count": null,
   "metadata": {},
   "outputs": [],
   "source": []
  }
 ],
 "metadata": {
  "kernelspec": {
   "display_name": "Python 3",
   "language": "python",
   "name": "python3"
  },
  "language_info": {
   "codemirror_mode": {
    "name": "ipython",
    "version": 3
   },
   "file_extension": ".py",
   "mimetype": "text/x-python",
   "name": "python",
   "nbconvert_exporter": "python",
   "pygments_lexer": "ipython3",
   "version": "3.7.3"
  }
 },
 "nbformat": 4,
 "nbformat_minor": 2
}
