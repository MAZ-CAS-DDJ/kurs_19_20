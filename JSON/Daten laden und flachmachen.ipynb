{
 "cells": [
  {
   "cell_type": "code",
   "execution_count": 4,
   "metadata": {},
   "outputs": [],
   "source": [
    "import pandas as pd\n",
    "import numpy as np\n",
    "import glob\n",
    "import json\n",
    "%matplotlib inline"
   ]
  },
  {
   "cell_type": "code",
   "execution_count": 5,
   "metadata": {},
   "outputs": [],
   "source": [
    "path = 'psyreg_output/'\n",
    "filenames = glob.glob(path + '*.json')"
   ]
  },
  {
   "cell_type": "code",
   "execution_count": 6,
   "metadata": {},
   "outputs": [
    {
     "data": {
      "text/plain": [
       "7131"
      ]
     },
     "execution_count": 6,
     "metadata": {},
     "output_type": "execute_result"
    }
   ],
   "source": [
    "len(filenames)"
   ]
  },
  {
   "cell_type": "markdown",
   "metadata": {},
   "source": [
    "### Ein Level"
   ]
  },
  {
   "cell_type": "code",
   "execution_count": 6,
   "metadata": {},
   "outputs": [],
   "source": [
    "df = pd.DataFrame()\n",
    "for filename in filenames:\n",
    "    with open(filename) as json_data:\n",
    "        data = json.load(json_data)\n",
    "    row = pd.Series({\n",
    "        'idPerson': data['idPerson'],\n",
    "        'name': data['name'],\n",
    "        'vorname': data['vorname']\n",
    "    })\n",
    "    df = df.append(row, ignore_index=True)"
   ]
  },
  {
   "cell_type": "code",
   "execution_count": 7,
   "metadata": {},
   "outputs": [
    {
     "data": {
      "text/html": [
       "<div>\n",
       "<style scoped>\n",
       "    .dataframe tbody tr th:only-of-type {\n",
       "        vertical-align: middle;\n",
       "    }\n",
       "\n",
       "    .dataframe tbody tr th {\n",
       "        vertical-align: top;\n",
       "    }\n",
       "\n",
       "    .dataframe thead th {\n",
       "        text-align: right;\n",
       "    }\n",
       "</style>\n",
       "<table border=\"1\" class=\"dataframe\">\n",
       "  <thead>\n",
       "    <tr style=\"text-align: right;\">\n",
       "      <th></th>\n",
       "      <th>idPerson</th>\n",
       "      <th>name</th>\n",
       "      <th>vorname</th>\n",
       "    </tr>\n",
       "  </thead>\n",
       "  <tbody>\n",
       "    <tr>\n",
       "      <th>0</th>\n",
       "      <td>11036.0</td>\n",
       "      <td>Schweizer-Vüllers</td>\n",
       "      <td>Andreas</td>\n",
       "    </tr>\n",
       "    <tr>\n",
       "      <th>1</th>\n",
       "      <td>495.0</td>\n",
       "      <td>Altwegg-Artz</td>\n",
       "      <td>Sibylle</td>\n",
       "    </tr>\n",
       "    <tr>\n",
       "      <th>2</th>\n",
       "      <td>2719.0</td>\n",
       "      <td>Prchal</td>\n",
       "      <td>Alice</td>\n",
       "    </tr>\n",
       "    <tr>\n",
       "      <th>3</th>\n",
       "      <td>14978.0</td>\n",
       "      <td>Grob Müller</td>\n",
       "      <td>Gabriela</td>\n",
       "    </tr>\n",
       "    <tr>\n",
       "      <th>4</th>\n",
       "      <td>4452.0</td>\n",
       "      <td>Borer</td>\n",
       "      <td>Christine</td>\n",
       "    </tr>\n",
       "  </tbody>\n",
       "</table>\n",
       "</div>"
      ],
      "text/plain": [
       "   idPerson               name    vorname\n",
       "0   11036.0  Schweizer-Vüllers    Andreas\n",
       "1     495.0       Altwegg-Artz    Sibylle\n",
       "2    2719.0             Prchal      Alice\n",
       "3   14978.0        Grob Müller   Gabriela\n",
       "4    4452.0              Borer  Christine"
      ]
     },
     "execution_count": 7,
     "metadata": {},
     "output_type": "execute_result"
    }
   ],
   "source": [
    "df.head(5)"
   ]
  },
  {
   "cell_type": "code",
   "execution_count": 11,
   "metadata": {},
   "outputs": [
    {
     "data": {
      "text/plain": [
       "'psyreg_output/11036_psyreg.json'"
      ]
     },
     "execution_count": 11,
     "metadata": {},
     "output_type": "execute_result"
    }
   ],
   "source": []
  },
  {
   "cell_type": "code",
   "execution_count": 4,
   "metadata": {},
   "outputs": [
    {
     "data": {
      "text/plain": [
       "{'idPerson': 11036,\n",
       " 'name': 'Schweizer-Vüllers',\n",
       " 'vorname': 'Andreas',\n",
       " 'geschlechtId': 12000,\n",
       " 'geburtsdatum': None,\n",
       " 'jahrgang': 1946,\n",
       " 'sprachkompetenzIds': [13000],\n",
       " 'nationalitaet1Id': 10074,\n",
       " 'nationalitaet2Id': None,\n",
       " 'gln': '7601007633722',\n",
       " 'uid': None,\n",
       " 'adressenBewilligungen': [{'kantonId': 11020,\n",
       "   'praxisname': '-',\n",
       "   'strasse': 'Gemeindestrasse 27',\n",
       "   'plz': '8032',\n",
       "   'ort': 'Zürich',\n",
       "   'telefon1': '+41 44 252 00 37',\n",
       "   'emailadresse': 'an-schweizer@bluewin.ch',\n",
       "   'zusatz1': None,\n",
       "   'zusatz2': ''}],\n",
       " 'adressenNeunzigTageDienstleister': [],\n",
       " 'bewilligungenErteilt': [{'kantonId': 11020,\n",
       "   'auflageEinschraenkungen': [{'typId': 8003,\n",
       "     'datumEntscheid': '1999-09-23T00:00:00',\n",
       "     'datumBefristung': '2022-07-23T00:00:00'}],\n",
       "   'datumEntscheid': '1999-09-23T00:00:00',\n",
       "   'datumErteilung': '2018-10-23T15:26:48.997',\n",
       "   'datumBefristung': '2019-06-28T13:53:35.347'}],\n",
       " 'bewilligungenEntzogen': [],\n",
       " 'bewilligungenVerweigert': [],\n",
       " 'bewilligungenKeineBewilligung': [],\n",
       " 'neunzigTageDienstleister': [],\n",
       " 'abschluesse': [{'berufsbezeichnungId': 54007,\n",
       "   'abschlussId': None,\n",
       "   'ausstellungsdatum': None,\n",
       "   'ausstellungslandId': None,\n",
       "   'anerkennungstypId': None,\n",
       "   'anerkennungsdatum': None,\n",
       "   'datumNachpruefung': None,\n",
       "   'weiterbildungsgangId': None,\n",
       "   'weiterbildungstitelArtId': 1054,\n",
       "   'organisationName': None,\n",
       "   'organisationPlz': None,\n",
       "   'organisationOrt': None}],\n",
       " 'canDoMutationsantrag': False,\n",
       " 'canHaveBewilligungen': True}"
      ]
     },
     "execution_count": 4,
     "metadata": {},
     "output_type": "execute_result"
    }
   ],
   "source": [
    "data = []\n",
    "with open(filenames[0]) as json_data:\n",
    "    data = json.load(json_data)\n",
    "data"
   ]
  },
  {
   "cell_type": "code",
   "execution_count": null,
   "metadata": {},
   "outputs": [],
   "source": []
  },
  {
   "cell_type": "code",
   "execution_count": 39,
   "metadata": {},
   "outputs": [
    {
     "data": {
      "text/plain": [
       "[('idPerson', 11036),\n",
       " ('name', 'Schweizer-Vüllers'),\n",
       " ('vorname', 'Andreas'),\n",
       " ('geschlechtId', 12000),\n",
       " ('geburtsdatum', None),\n",
       " ('jahrgang', 1946),\n",
       " ('sprachkompetenzIds', [13000]),\n",
       " ('nationalitaet1Id', 10074),\n",
       " ('nationalitaet2Id', None),\n",
       " ('gln', '7601007633722'),\n",
       " ('uid', None),\n",
       " ('adressenBewilligungen',\n",
       "  [{'kantonId': 11020,\n",
       "    'praxisname': '-',\n",
       "    'strasse': 'Gemeindestrasse 27',\n",
       "    'plz': '8032',\n",
       "    'ort': 'Zürich',\n",
       "    'telefon1': '+41 44 252 00 37',\n",
       "    'emailadresse': 'an-schweizer@bluewin.ch',\n",
       "    'zusatz1': None,\n",
       "    'zusatz2': ''}]),\n",
       " ('adressenNeunzigTageDienstleister', []),\n",
       " ('bewilligungenErteilt',\n",
       "  [{'kantonId': 11020,\n",
       "    'auflageEinschraenkungen': [{'typId': 8003,\n",
       "      'datumEntscheid': '1999-09-23T00:00:00',\n",
       "      'datumBefristung': '2022-07-23T00:00:00'}],\n",
       "    'datumEntscheid': '1999-09-23T00:00:00',\n",
       "    'datumErteilung': '2018-10-23T15:26:48.997',\n",
       "    'datumBefristung': '2019-06-28T13:53:35.347'}]),\n",
       " ('bewilligungenEntzogen', []),\n",
       " ('bewilligungenVerweigert', []),\n",
       " ('bewilligungenKeineBewilligung', []),\n",
       " ('neunzigTageDienstleister', []),\n",
       " ('abschluesse',\n",
       "  [{'berufsbezeichnungId': 54007,\n",
       "    'abschlussId': None,\n",
       "    'ausstellungsdatum': None,\n",
       "    'ausstellungslandId': None,\n",
       "    'anerkennungstypId': None,\n",
       "    'anerkennungsdatum': None,\n",
       "    'datumNachpruefung': None,\n",
       "    'weiterbildungsgangId': None,\n",
       "    'weiterbildungstitelArtId': 1054,\n",
       "    'organisationName': None,\n",
       "    'organisationPlz': None,\n",
       "    'organisationOrt': None}]),\n",
       " ('canDoMutationsantrag', False),\n",
       " ('canHaveBewilligungen', True)]"
      ]
     },
     "execution_count": 39,
     "metadata": {},
     "output_type": "execute_result"
    }
   ],
   "source": [
    "a = flattenDict(data)\n",
    "a"
   ]
  },
  {
   "cell_type": "code",
   "execution_count": 8,
   "metadata": {
    "scrolled": true
   },
   "outputs": [
    {
     "data": {
      "text/plain": [
       "7131"
      ]
     },
     "execution_count": 8,
     "metadata": {},
     "output_type": "execute_result"
    }
   ],
   "source": [
    "len(df)"
   ]
  },
  {
   "cell_type": "markdown",
   "metadata": {},
   "source": [
    "Es sind offenbar alle Einträge da.\n",
    "\n",
    "Also der Versuch jetzt mehr Zeilen einzulesen:\n"
   ]
  },
  {
   "cell_type": "code",
   "execution_count": 7,
   "metadata": {},
   "outputs": [],
   "source": [
    "import pandas as pd\n",
    "import numpy as np\n",
    "import glob\n",
    "import json\n",
    "%matplotlib inline\n",
    "\n",
    "path = 'psyreg_output/'\n",
    "filenames = glob.glob(path + '*.json')\n",
    "\n",
    "df = pd.DataFrame()\n",
    "for file in filenames:\n",
    "    with open(file) as json_data:\n",
    "        data = json.load(json_data)\n",
    "        minidict = {\n",
    "                    'id': data['idPerson'],\n",
    "                    'name': data['name'],\n",
    "                    'vorname': data['vorname'],\n",
    "                    'geschlecht': data['geschlechtId'],\n",
    "                    'jahrgang': data['jahrgang'],\n",
    "                    'sprache': data['sprachkompetenzIds'],\n",
    "                    'nationalität_1': data['nationalitaet1Id'],\n",
    "                    'nationalität_2': data['nationalitaet2Id']\n",
    "        }\n",
    "        abschluesse = []\n",
    "        for abschluss in data['abschluesse']:\n",
    "            abschluss_dict = {'abschluss': abschluss['abschlussId'],\n",
    "                    'abschluss_date': abschluss['ausstellungsdatum'],\n",
    "                    'ausstellungsland': abschluss['ausstellungslandId'],\n",
    "                    'anerkennungstyp': abschluss['anerkennungstypId']}\n",
    "            abschluesse.append(abschluss_dict)\n",
    "        for tätig_in in data['adressenBewilligungen']\n",
    "                taetig_dict ={\n",
    "                    'plz': tätig_in['plz'],\n",
    "                    'ort': tätig_in['ort'],\n",
    "                    'entzogen': data['bewilligungenEntzogen'],\n",
    "                    'verweigert': data['bewilligungenVerweigert'],\n",
    "                    'keine' : data['bewilligungenKeineBewilligung']\n",
    "\n",
    "                })\n",
    "                df = df.append(row, ignore_index=True)\n"
   ]
  },
  {
   "cell_type": "code",
   "execution_count": 8,
   "metadata": {},
   "outputs": [
    {
     "data": {
      "text/plain": [
       "5604"
      ]
     },
     "execution_count": 8,
     "metadata": {},
     "output_type": "execute_result"
    }
   ],
   "source": [
    "len(df)"
   ]
  },
  {
   "cell_type": "code",
   "execution_count": 4,
   "metadata": {},
   "outputs": [
    {
     "data": {
      "text/html": [
       "<div>\n",
       "<style scoped>\n",
       "    .dataframe tbody tr th:only-of-type {\n",
       "        vertical-align: middle;\n",
       "    }\n",
       "\n",
       "    .dataframe tbody tr th {\n",
       "        vertical-align: top;\n",
       "    }\n",
       "\n",
       "    .dataframe thead th {\n",
       "        text-align: right;\n",
       "    }\n",
       "</style>\n",
       "<table border=\"1\" class=\"dataframe\">\n",
       "  <thead>\n",
       "    <tr style=\"text-align: right;\">\n",
       "      <th></th>\n",
       "      <th>abschluss</th>\n",
       "      <th>abschluss_date</th>\n",
       "      <th>anerkennungstyp</th>\n",
       "      <th>ausstellungsland</th>\n",
       "      <th>entzogen</th>\n",
       "      <th>geschlecht</th>\n",
       "      <th>id</th>\n",
       "      <th>jahrgang</th>\n",
       "      <th>keine</th>\n",
       "      <th>name</th>\n",
       "      <th>nationalität_1</th>\n",
       "      <th>nationalität_2</th>\n",
       "      <th>ort</th>\n",
       "      <th>plz</th>\n",
       "      <th>sprache</th>\n",
       "      <th>verweigert</th>\n",
       "      <th>vorname</th>\n",
       "    </tr>\n",
       "  </thead>\n",
       "  <tbody>\n",
       "    <tr>\n",
       "      <th>0</th>\n",
       "      <td>None</td>\n",
       "      <td>None</td>\n",
       "      <td>None</td>\n",
       "      <td>None</td>\n",
       "      <td>[]</td>\n",
       "      <td>12000.0</td>\n",
       "      <td>11036.0</td>\n",
       "      <td>1946</td>\n",
       "      <td>[]</td>\n",
       "      <td>Schweizer-Vüllers</td>\n",
       "      <td>10074.0</td>\n",
       "      <td>None</td>\n",
       "      <td>Zürich</td>\n",
       "      <td>8032</td>\n",
       "      <td>[13000]</td>\n",
       "      <td>[]</td>\n",
       "      <td>Andreas</td>\n",
       "    </tr>\n",
       "    <tr>\n",
       "      <th>1</th>\n",
       "      <td>55004</td>\n",
       "      <td>2002-10-01T00:00:00</td>\n",
       "      <td>None</td>\n",
       "      <td>10001</td>\n",
       "      <td>[]</td>\n",
       "      <td>12001.0</td>\n",
       "      <td>4452.0</td>\n",
       "      <td>1954</td>\n",
       "      <td>[]</td>\n",
       "      <td>Borer</td>\n",
       "      <td>10001.0</td>\n",
       "      <td>None</td>\n",
       "      <td>Zürich</td>\n",
       "      <td>8057</td>\n",
       "      <td>[13000]</td>\n",
       "      <td>[]</td>\n",
       "      <td>Christine</td>\n",
       "    </tr>\n",
       "    <tr>\n",
       "      <th>2</th>\n",
       "      <td>55001</td>\n",
       "      <td>1979-01-01T00:00:00</td>\n",
       "      <td>None</td>\n",
       "      <td>10001</td>\n",
       "      <td>[]</td>\n",
       "      <td>12000.0</td>\n",
       "      <td>2249.0</td>\n",
       "      <td>1951</td>\n",
       "      <td>[]</td>\n",
       "      <td>Limacher</td>\n",
       "      <td>10001.0</td>\n",
       "      <td>None</td>\n",
       "      <td>Zürich</td>\n",
       "      <td>8032</td>\n",
       "      <td>[13000]</td>\n",
       "      <td>[]</td>\n",
       "      <td>Bernhard</td>\n",
       "    </tr>\n",
       "    <tr>\n",
       "      <th>3</th>\n",
       "      <td>55004</td>\n",
       "      <td>1990-06-16T00:00:00</td>\n",
       "      <td>None</td>\n",
       "      <td>10001</td>\n",
       "      <td>[]</td>\n",
       "      <td>12000.0</td>\n",
       "      <td>2249.0</td>\n",
       "      <td>1951</td>\n",
       "      <td>[]</td>\n",
       "      <td>Limacher</td>\n",
       "      <td>10001.0</td>\n",
       "      <td>None</td>\n",
       "      <td>Zürich</td>\n",
       "      <td>8032</td>\n",
       "      <td>[13000]</td>\n",
       "      <td>[]</td>\n",
       "      <td>Bernhard</td>\n",
       "    </tr>\n",
       "    <tr>\n",
       "      <th>4</th>\n",
       "      <td>55004</td>\n",
       "      <td>None</td>\n",
       "      <td>None</td>\n",
       "      <td>10001</td>\n",
       "      <td>[]</td>\n",
       "      <td>12001.0</td>\n",
       "      <td>4102.0</td>\n",
       "      <td>1946</td>\n",
       "      <td>[]</td>\n",
       "      <td>Pingler-Maassen</td>\n",
       "      <td>10074.0</td>\n",
       "      <td>None</td>\n",
       "      <td>Aarau</td>\n",
       "      <td>5000</td>\n",
       "      <td>[13000]</td>\n",
       "      <td>[]</td>\n",
       "      <td>Gila</td>\n",
       "    </tr>\n",
       "    <tr>\n",
       "      <th>5</th>\n",
       "      <td>55001</td>\n",
       "      <td>2000-01-01T00:00:00</td>\n",
       "      <td>None</td>\n",
       "      <td>10001</td>\n",
       "      <td>[]</td>\n",
       "      <td>12001.0</td>\n",
       "      <td>2686.0</td>\n",
       "      <td>1973</td>\n",
       "      <td>[]</td>\n",
       "      <td>Peternac-Pfund</td>\n",
       "      <td>10001.0</td>\n",
       "      <td>None</td>\n",
       "      <td>Schaffhausen</td>\n",
       "      <td>8200</td>\n",
       "      <td>[13000]</td>\n",
       "      <td>[]</td>\n",
       "      <td>Franziska</td>\n",
       "    </tr>\n",
       "    <tr>\n",
       "      <th>6</th>\n",
       "      <td>55004</td>\n",
       "      <td>2006-04-01T00:00:00</td>\n",
       "      <td>None</td>\n",
       "      <td>10001</td>\n",
       "      <td>[]</td>\n",
       "      <td>12001.0</td>\n",
       "      <td>2686.0</td>\n",
       "      <td>1973</td>\n",
       "      <td>[]</td>\n",
       "      <td>Peternac-Pfund</td>\n",
       "      <td>10001.0</td>\n",
       "      <td>None</td>\n",
       "      <td>Schaffhausen</td>\n",
       "      <td>8200</td>\n",
       "      <td>[13000]</td>\n",
       "      <td>[]</td>\n",
       "      <td>Franziska</td>\n",
       "    </tr>\n",
       "    <tr>\n",
       "      <th>7</th>\n",
       "      <td>55001</td>\n",
       "      <td>1992-01-01T00:00:00</td>\n",
       "      <td>None</td>\n",
       "      <td>10001</td>\n",
       "      <td>[]</td>\n",
       "      <td>12000.0</td>\n",
       "      <td>3094.0</td>\n",
       "      <td>1962</td>\n",
       "      <td>[]</td>\n",
       "      <td>Schmutz</td>\n",
       "      <td>10001.0</td>\n",
       "      <td>None</td>\n",
       "      <td>Zürich</td>\n",
       "      <td>8053</td>\n",
       "      <td>[13000]</td>\n",
       "      <td>[]</td>\n",
       "      <td>Matthias</td>\n",
       "    </tr>\n",
       "    <tr>\n",
       "      <th>8</th>\n",
       "      <td>55004</td>\n",
       "      <td>2000-09-16T00:00:00</td>\n",
       "      <td>None</td>\n",
       "      <td>10001</td>\n",
       "      <td>[]</td>\n",
       "      <td>12000.0</td>\n",
       "      <td>3094.0</td>\n",
       "      <td>1962</td>\n",
       "      <td>[]</td>\n",
       "      <td>Schmutz</td>\n",
       "      <td>10001.0</td>\n",
       "      <td>None</td>\n",
       "      <td>Zürich</td>\n",
       "      <td>8053</td>\n",
       "      <td>[13000]</td>\n",
       "      <td>[]</td>\n",
       "      <td>Matthias</td>\n",
       "    </tr>\n",
       "    <tr>\n",
       "      <th>9</th>\n",
       "      <td>55001</td>\n",
       "      <td>1985-01-01T00:00:00</td>\n",
       "      <td>None</td>\n",
       "      <td>10001</td>\n",
       "      <td>[]</td>\n",
       "      <td>12001.0</td>\n",
       "      <td>1373.0</td>\n",
       "      <td>1959</td>\n",
       "      <td>[]</td>\n",
       "      <td>Frei-Käser</td>\n",
       "      <td>10001.0</td>\n",
       "      <td>None</td>\n",
       "      <td>Bettlach</td>\n",
       "      <td>2544</td>\n",
       "      <td>[13000]</td>\n",
       "      <td>[]</td>\n",
       "      <td>Anita</td>\n",
       "    </tr>\n",
       "  </tbody>\n",
       "</table>\n",
       "</div>"
      ],
      "text/plain": [
       "  abschluss       abschluss_date anerkennungstyp ausstellungsland entzogen  \\\n",
       "0      None                 None            None             None       []   \n",
       "1     55004  2002-10-01T00:00:00            None            10001       []   \n",
       "2     55001  1979-01-01T00:00:00            None            10001       []   \n",
       "3     55004  1990-06-16T00:00:00            None            10001       []   \n",
       "4     55004                 None            None            10001       []   \n",
       "5     55001  2000-01-01T00:00:00            None            10001       []   \n",
       "6     55004  2006-04-01T00:00:00            None            10001       []   \n",
       "7     55001  1992-01-01T00:00:00            None            10001       []   \n",
       "8     55004  2000-09-16T00:00:00            None            10001       []   \n",
       "9     55001  1985-01-01T00:00:00            None            10001       []   \n",
       "\n",
       "   geschlecht       id jahrgang keine               name  nationalität_1  \\\n",
       "0     12000.0  11036.0     1946    []  Schweizer-Vüllers         10074.0   \n",
       "1     12001.0   4452.0     1954    []              Borer         10001.0   \n",
       "2     12000.0   2249.0     1951    []           Limacher         10001.0   \n",
       "3     12000.0   2249.0     1951    []           Limacher         10001.0   \n",
       "4     12001.0   4102.0     1946    []    Pingler-Maassen         10074.0   \n",
       "5     12001.0   2686.0     1973    []     Peternac-Pfund         10001.0   \n",
       "6     12001.0   2686.0     1973    []     Peternac-Pfund         10001.0   \n",
       "7     12000.0   3094.0     1962    []            Schmutz         10001.0   \n",
       "8     12000.0   3094.0     1962    []            Schmutz         10001.0   \n",
       "9     12001.0   1373.0     1959    []         Frei-Käser         10001.0   \n",
       "\n",
       "  nationalität_2           ort   plz  sprache verweigert    vorname  \n",
       "0           None        Zürich  8032  [13000]         []    Andreas  \n",
       "1           None        Zürich  8057  [13000]         []  Christine  \n",
       "2           None        Zürich  8032  [13000]         []   Bernhard  \n",
       "3           None        Zürich  8032  [13000]         []   Bernhard  \n",
       "4           None         Aarau  5000  [13000]         []       Gila  \n",
       "5           None  Schaffhausen  8200  [13000]         []  Franziska  \n",
       "6           None  Schaffhausen  8200  [13000]         []  Franziska  \n",
       "7           None        Zürich  8053  [13000]         []   Matthias  \n",
       "8           None        Zürich  8053  [13000]         []   Matthias  \n",
       "9           None      Bettlach  2544  [13000]         []      Anita  "
      ]
     },
     "execution_count": 4,
     "metadata": {},
     "output_type": "execute_result"
    }
   ],
   "source": [
    "df.head(10)"
   ]
  },
  {
   "cell_type": "markdown",
   "metadata": {},
   "source": [
    "Das df braucht noch einige Anpassungen. Aber zuerst mal ein erster Check. "
   ]
  },
  {
   "cell_type": "code",
   "execution_count": 33,
   "metadata": {},
   "outputs": [
    {
     "data": {
      "text/plain": [
       "5604"
      ]
     },
     "execution_count": 33,
     "metadata": {},
     "output_type": "execute_result"
    }
   ],
   "source": [
    "len(df)"
   ]
  },
  {
   "cell_type": "markdown",
   "metadata": {},
   "source": [
    "Etwas stimmt nicht. Das df müsste mehr Reihen haben, da 7131 Datensätze vorhanden sind, und Leute mit mehr Bewilligungen oder mehr Abschlüssen zusätzliche Reihen generieren. \n",
    "Ein Versuch, den Code anzupassen. "
   ]
  },
  {
   "cell_type": "code",
   "execution_count": 17,
   "metadata": {},
   "outputs": [
    {
     "ename": "SyntaxError",
     "evalue": "invalid syntax (<ipython-input-17-6e57dc2b9527>, line 25)",
     "output_type": "error",
     "traceback": [
      "\u001b[0;36m  File \u001b[0;32m\"<ipython-input-17-6e57dc2b9527>\"\u001b[0;36m, line \u001b[0;32m25\u001b[0m\n\u001b[0;31m    for abschluss in data['abschluesse']:\u001b[0m\n\u001b[0m      ^\u001b[0m\n\u001b[0;31mSyntaxError\u001b[0m\u001b[0;31m:\u001b[0m invalid syntax\n"
     ]
    }
   ],
   "source": [
    "import pandas as pd\n",
    "import numpy as np\n",
    "import glob\n",
    "import json\n",
    "%matplotlib inline\n",
    "\n",
    "path = 'psyreg_output/'\n",
    "filenames = glob.glob(path + '*.json')\n",
    "\n",
    "df = pd.DataFrame()\n",
    "for file in filenames:\n",
    "    with open(file) as json_data:\n",
    "        data = json.load(json_data)\n",
    "        \n",
    "        row = pd.Series({\n",
    "            'id': data['idPerson'],\n",
    "            'name': data['name'],\n",
    "            'vorname': data['vorname'],\n",
    "            'geschlecht': data['geschlechtId'],\n",
    "            'jahrgang': data['jahrgang'],\n",
    "            'sprache': data['sprachkompetenzIds'],\n",
    "            'nationalität_1': data['nationalitaet1Id'],\n",
    "            'nationalität_2': data['nationalitaet2Id'],\n",
    "\n",
    "        for abschluss in data['abschluesse']:\n",
    "            'abschluss': abschluss['abschlussId'],\n",
    "            'abschluss_date': abschluss['ausstellungsdatum'],\n",
    "            'ausstellungsland': abschluss['ausstellungslandId'],\n",
    "            'anerkennungstyp': abschluss['anerkennungstypId'],\n",
    "        \n",
    "        for tätig_in in data['adressenBewilligungen']:\n",
    "            'plz': tätig_in['plz'],\n",
    "            'ort': tätig_in['ort'],\n",
    "            'entzogen': data['bewilligungenEntzogen'],\n",
    "            'verweigert': data['bewilligungenVerweigert'],\n",
    "            'keine' : data['bewilligungenKeineBewilligung']\n",
    "            })\n",
    "        \n",
    "        df = df.append(row, ignore_index=True)"
   ]
  },
  {
   "cell_type": "code",
   "execution_count": 36,
   "metadata": {},
   "outputs": [
    {
     "data": {
      "text/plain": [
       "array([None, 10001, 10002, 10032, 10052, 10069, 10082, 10077, 10059,\n",
       "       10062, 10058, 10076, 10075, 10055, 10085, 10066, 10005, 10064,\n",
       "       10023], dtype=object)"
      ]
     },
     "execution_count": 36,
     "metadata": {},
     "output_type": "execute_result"
    }
   ],
   "source": [
    "df['ausstellungsland'].unique()"
   ]
  },
  {
   "cell_type": "code",
   "execution_count": 37,
   "metadata": {},
   "outputs": [
    {
     "data": {
      "text/plain": [
       "10001    5114\n",
       "10002     182\n",
       "10052      23\n",
       "10032      22\n",
       "10085       4\n",
       "10062       3\n",
       "10069       2\n",
       "10066       2\n",
       "10075       2\n",
       "10076       2\n",
       "10077       2\n",
       "10064       1\n",
       "10082       1\n",
       "10058       1\n",
       "10055       1\n",
       "10023       1\n",
       "10005       1\n",
       "10059       1\n",
       "Name: ausstellungsland, dtype: int64"
      ]
     },
     "execution_count": 37,
     "metadata": {},
     "output_type": "execute_result"
    }
   ],
   "source": [
    "df['ausstellungsland'].value_counts()"
   ]
  },
  {
   "cell_type": "code",
   "execution_count": 42,
   "metadata": {},
   "outputs": [
    {
     "data": {
      "text/plain": [
       "10001.0    4612\n",
       "10002.0     396\n",
       "10074.0     374\n",
       "13000.0      53\n",
       "10052.0      45\n",
       "10032.0      27\n",
       "10077.0      13\n",
       "10049.0       8\n",
       "10025.0       7\n",
       "10023.0       7\n",
       "10075.0       7\n",
       "10066.0       6\n",
       "10064.0       6\n",
       "10044.0       4\n",
       "10014.0       4\n",
       "10069.0       4\n",
       "10055.0       4\n",
       "10059.0       3\n",
       "10192.0       3\n",
       "10026.0       3\n",
       "10005.0       2\n",
       "10016.0       2\n",
       "10013.0       2\n",
       "10085.0       2\n",
       "10033.0       2\n",
       "10050.0       2\n",
       "10058.0       2\n",
       "10045.0       2\n",
       "10007.0       1\n",
       "10063.0       1\n",
       "Name: nationalität_1, dtype: int64"
      ]
     },
     "execution_count": 42,
     "metadata": {},
     "output_type": "execute_result"
    }
   ],
   "source": [
    "df['nationalität_1'].value_counts()"
   ]
  },
  {
   "cell_type": "code",
   "execution_count": 43,
   "metadata": {},
   "outputs": [
    {
     "data": {
      "text/plain": [
       "10002    49\n",
       "10032    23\n",
       "10077     9\n",
       "10001     7\n",
       "10072     6\n",
       "10044     4\n",
       "10007     4\n",
       "10026     4\n",
       "10037     4\n",
       "10076     4\n",
       "10085     3\n",
       "10049     2\n",
       "10052     2\n",
       "10033     2\n",
       "10060     2\n",
       "10023     2\n",
       "10017     2\n",
       "10013     2\n",
       "10010     2\n",
       "10063     2\n",
       "10098     2\n",
       "10056     1\n",
       "10022     1\n",
       "Name: nationalität_2, dtype: int64"
      ]
     },
     "execution_count": 43,
     "metadata": {},
     "output_type": "execute_result"
    }
   ],
   "source": [
    "df['nationalität_2'].value_counts()"
   ]
  },
  {
   "cell_type": "code",
   "execution_count": 5,
   "metadata": {},
   "outputs": [
    {
     "data": {
      "text/plain": [
       "27018    133\n",
       "27021     52\n",
       "27041     25\n",
       "27040     19\n",
       "27042      8\n",
       "27039      5\n",
       "Name: anerkennungstyp, dtype: int64"
      ]
     },
     "execution_count": 5,
     "metadata": {},
     "output_type": "execute_result"
    }
   ],
   "source": [
    "df['anerkennungstyp'].value_counts()"
   ]
  },
  {
   "cell_type": "markdown",
   "metadata": {},
   "source": [
    "# So macht es Plotti - die Daten flachmachen (flatten)\n"
   ]
  },
  {
   "cell_type": "code",
   "execution_count": 7,
   "metadata": {},
   "outputs": [
    {
     "data": {
      "text/plain": [
       "{'idPerson': 11036,\n",
       " 'name': 'Schweizer-Vüllers',\n",
       " 'vorname': 'Andreas',\n",
       " 'geschlechtId': 12000,\n",
       " 'geburtsdatum': None,\n",
       " 'jahrgang': 1946,\n",
       " 'sprachkompetenzIds': [13000],\n",
       " 'nationalitaet1Id': 10074,\n",
       " 'nationalitaet2Id': None,\n",
       " 'gln': '7601007633722',\n",
       " 'uid': None,\n",
       " 'adressenBewilligungen': [{'kantonId': 11020,\n",
       "   'praxisname': '-',\n",
       "   'strasse': 'Gemeindestrasse 27',\n",
       "   'plz': '8032',\n",
       "   'ort': 'Zürich',\n",
       "   'telefon1': '+41 44 252 00 37',\n",
       "   'emailadresse': 'an-schweizer@bluewin.ch',\n",
       "   'zusatz1': None,\n",
       "   'zusatz2': ''}],\n",
       " 'adressenNeunzigTageDienstleister': [],\n",
       " 'bewilligungenErteilt': [{'kantonId': 11020,\n",
       "   'auflageEinschraenkungen': [{'typId': 8003,\n",
       "     'datumEntscheid': '1999-09-23T00:00:00',\n",
       "     'datumBefristung': '2022-07-23T00:00:00'}],\n",
       "   'datumEntscheid': '1999-09-23T00:00:00',\n",
       "   'datumErteilung': '2018-10-23T15:26:48.997',\n",
       "   'datumBefristung': '2019-06-28T13:53:35.347'}],\n",
       " 'bewilligungenEntzogen': [],\n",
       " 'bewilligungenVerweigert': [],\n",
       " 'bewilligungenKeineBewilligung': [],\n",
       " 'neunzigTageDienstleister': [],\n",
       " 'abschluesse': [{'berufsbezeichnungId': 54007,\n",
       "   'abschlussId': None,\n",
       "   'ausstellungsdatum': None,\n",
       "   'ausstellungslandId': None,\n",
       "   'anerkennungstypId': None,\n",
       "   'anerkennungsdatum': None,\n",
       "   'datumNachpruefung': None,\n",
       "   'weiterbildungsgangId': None,\n",
       "   'weiterbildungstitelArtId': 1054,\n",
       "   'organisationName': None,\n",
       "   'organisationPlz': None,\n",
       "   'organisationOrt': None}],\n",
       " 'canDoMutationsantrag': False,\n",
       " 'canHaveBewilligungen': True}"
      ]
     },
     "execution_count": 7,
     "metadata": {},
     "output_type": "execute_result"
    }
   ],
   "source": [
    "data = []\n",
    "with open(filenames[0]) as json_data:\n",
    "    data = json.load(json_data)\n",
    "data"
   ]
  },
  {
   "cell_type": "markdown",
   "metadata": {},
   "source": [
    "Test von Codefragment. \n",
    "https://stackoverflow.com/questions/6027558/flatten-nested-dictionaries-compressing-keys"
   ]
  },
  {
   "cell_type": "code",
   "execution_count": 5,
   "metadata": {},
   "outputs": [
    {
     "name": "stdout",
     "output_type": "stream",
     "text": [
      "0 , 1\n",
      "1 , 3\n",
      "2 , 5\n",
      "3 , 7\n",
      "4 , 9\n"
     ]
    }
   ],
   "source": [
    "# Python3 code to iterate over a list \n",
    "list = [1, 3, 5, 7, 9] \n",
    "   \n",
    "# Using enumerate()  \n",
    "for i, val in enumerate(list): \n",
    "    print (i, \",\",val) "
   ]
  },
  {
   "cell_type": "markdown",
   "metadata": {},
   "source": [
    "Das Problem mit den Daten ist, dass sie mehrfach verschachtelt sind. Das kostet auch Plotti einige Testrunden mit Code ab. "
   ]
  },
  {
   "cell_type": "code",
   "execution_count": 8,
   "metadata": {
    "scrolled": false
   },
   "outputs": [
    {
     "data": {
      "text/plain": [
       "{'idPerson': 11036,\n",
       " 'name': 'Schweizer-Vüllers',\n",
       " 'vorname': 'Andreas',\n",
       " 'geschlechtId': 12000,\n",
       " 'geburtsdatum': None,\n",
       " 'jahrgang': 1946,\n",
       " 'sprachkompetenzIds': [13000],\n",
       " 'nationalitaet1Id': 10074,\n",
       " 'nationalitaet2Id': None,\n",
       " 'gln': '7601007633722',\n",
       " 'uid': None,\n",
       " 'adressenBewilligungen': [{'kantonId': 11020,\n",
       "   'praxisname': '-',\n",
       "   'strasse': 'Gemeindestrasse 27',\n",
       "   'plz': '8032',\n",
       "   'ort': 'Zürich',\n",
       "   'telefon1': '+41 44 252 00 37',\n",
       "   'emailadresse': 'an-schweizer@bluewin.ch',\n",
       "   'zusatz1': None,\n",
       "   'zusatz2': ''}],\n",
       " 'adressenNeunzigTageDienstleister': [],\n",
       " 'bewilligungenErteilt': [{'kantonId': 11020,\n",
       "   'auflageEinschraenkungen': [{'typId': 8003,\n",
       "     'datumEntscheid': '1999-09-23T00:00:00',\n",
       "     'datumBefristung': '2022-07-23T00:00:00'}],\n",
       "   'datumEntscheid': '1999-09-23T00:00:00',\n",
       "   'datumErteilung': '2018-10-23T15:26:48.997',\n",
       "   'datumBefristung': '2019-06-28T13:53:35.347'}],\n",
       " 'bewilligungenEntzogen': [],\n",
       " 'bewilligungenVerweigert': [],\n",
       " 'bewilligungenKeineBewilligung': [],\n",
       " 'neunzigTageDienstleister': [],\n",
       " 'abschluesse': [{'berufsbezeichnungId': 54007,\n",
       "   'abschlussId': None,\n",
       "   'ausstellungsdatum': None,\n",
       "   'ausstellungslandId': None,\n",
       "   'anerkennungstypId': None,\n",
       "   'anerkennungsdatum': None,\n",
       "   'datumNachpruefung': None,\n",
       "   'weiterbildungsgangId': None,\n",
       "   'weiterbildungstitelArtId': 1054,\n",
       "   'organisationName': None,\n",
       "   'organisationPlz': None,\n",
       "   'organisationOrt': None}],\n",
       " 'canDoMutationsantrag': False,\n",
       " 'canHaveBewilligungen': True}"
      ]
     },
     "execution_count": 8,
     "metadata": {},
     "output_type": "execute_result"
    }
   ],
   "source": [
    "data"
   ]
  },
  {
   "cell_type": "markdown",
   "metadata": {},
   "source": [
    "Eine der verschachtelten Listen von Dicts ist zum Beispiel das Feld 'bewilligungErteilt'. "
   ]
  },
  {
   "cell_type": "code",
   "execution_count": 9,
   "metadata": {
    "scrolled": true
   },
   "outputs": [
    {
     "data": {
      "text/plain": [
       "True"
      ]
     },
     "execution_count": 9,
     "metadata": {},
     "output_type": "execute_result"
    }
   ],
   "source": [
    "type(data[\"bewilligungenErteilt\"]) == type([])"
   ]
  },
  {
   "cell_type": "code",
   "execution_count": 22,
   "metadata": {},
   "outputs": [
    {
     "name": "stdout",
     "output_type": "stream",
     "text": [
      "outer\n",
      "outer\n",
      "outer\n",
      "outer\n",
      "outer\n",
      "outer\n",
      "been here int\n",
      "[]\n",
      "[]\n",
      "outer\n",
      "outer\n",
      "outer\n",
      "outer\n",
      "been here\n",
      "['kantonId']\n",
      "['kantonId', 'praxisname']\n",
      "['kantonId', 'praxisname', 'strasse']\n",
      "['kantonId', 'praxisname', 'strasse', 'plz']\n",
      "['kantonId', 'praxisname', 'strasse', 'plz', 'ort']\n",
      "['kantonId', 'praxisname', 'strasse', 'plz', 'ort', 'telefon1']\n",
      "['kantonId', 'praxisname', 'strasse', 'plz', 'ort', 'telefon1', 'emailadresse']\n",
      "['kantonId', 'praxisname', 'strasse', 'plz', 'ort', 'telefon1', 'emailadresse', 'zusatz1']\n",
      "['kantonId', 'praxisname', 'strasse', 'plz', 'ort', 'telefon1', 'emailadresse', 'zusatz1', 'zusatz2']\n",
      "['kantonId', 'praxisname', 'strasse', 'plz', 'ort', 'telefon1', 'emailadresse', 'zusatz1', 'zusatz2']\n",
      "['kantonId', 'praxisname', 'strasse', 'plz', 'ort', 'telefon1', 'emailadresse', 'zusatz1', 'zusatz2']\n",
      "[]\n",
      "[]\n",
      "[]\n",
      "been here\n",
      "['kantonId']\n",
      "['kantonId', 'auflageEinschraenkungen']\n",
      "['kantonId', 'auflageEinschraenkungen', 'auflageEinschraenkungen-typId']\n",
      "['kantonId', 'auflageEinschraenkungen', 'auflageEinschraenkungen-typId', 'auflageEinschraenkungen-datumEntscheid']\n",
      "['kantonId', 'auflageEinschraenkungen', 'auflageEinschraenkungen-typId', 'auflageEinschraenkungen-datumEntscheid', 'auflageEinschraenkungen-datumBefristung']\n",
      "['kantonId', 'auflageEinschraenkungen', 'auflageEinschraenkungen-typId', 'auflageEinschraenkungen-datumEntscheid', 'auflageEinschraenkungen-datumBefristung', 'datumEntscheid']\n",
      "['kantonId', 'auflageEinschraenkungen', 'auflageEinschraenkungen-typId', 'auflageEinschraenkungen-datumEntscheid', 'auflageEinschraenkungen-datumBefristung', 'datumEntscheid', 'datumErteilung']\n",
      "['kantonId', 'auflageEinschraenkungen', 'auflageEinschraenkungen-typId', 'auflageEinschraenkungen-datumEntscheid', 'auflageEinschraenkungen-datumBefristung', 'datumEntscheid', 'datumErteilung', 'datumBefristung']\n",
      "['kantonId', 'auflageEinschraenkungen', 'auflageEinschraenkungen-typId', 'auflageEinschraenkungen-datumEntscheid', 'auflageEinschraenkungen-datumBefristung', 'datumEntscheid', 'datumErteilung', 'datumBefristung']\n",
      "['kantonId', 'auflageEinschraenkungen', 'auflageEinschraenkungen-typId', 'auflageEinschraenkungen-datumEntscheid', 'auflageEinschraenkungen-datumBefristung', 'datumEntscheid', 'datumErteilung', 'datumBefristung']\n",
      "[]\n",
      "[]\n",
      "[]\n",
      "[]\n",
      "[]\n",
      "[]\n",
      "[]\n",
      "[]\n",
      "[]\n",
      "[]\n",
      "[]\n",
      "[]\n",
      "been here\n",
      "['berufsbezeichnungId']\n",
      "['berufsbezeichnungId', 'abschlussId']\n",
      "['berufsbezeichnungId', 'abschlussId', 'ausstellungsdatum']\n",
      "['berufsbezeichnungId', 'abschlussId', 'ausstellungsdatum', 'ausstellungslandId']\n",
      "['berufsbezeichnungId', 'abschlussId', 'ausstellungsdatum', 'ausstellungslandId', 'anerkennungstypId']\n",
      "['berufsbezeichnungId', 'abschlussId', 'ausstellungsdatum', 'ausstellungslandId', 'anerkennungstypId', 'anerkennungsdatum']\n",
      "['berufsbezeichnungId', 'abschlussId', 'ausstellungsdatum', 'ausstellungslandId', 'anerkennungstypId', 'anerkennungsdatum', 'datumNachpruefung']\n",
      "['berufsbezeichnungId', 'abschlussId', 'ausstellungsdatum', 'ausstellungslandId', 'anerkennungstypId', 'anerkennungsdatum', 'datumNachpruefung', 'weiterbildungsgangId']\n",
      "['berufsbezeichnungId', 'abschlussId', 'ausstellungsdatum', 'ausstellungslandId', 'anerkennungstypId', 'anerkennungsdatum', 'datumNachpruefung', 'weiterbildungsgangId', 'weiterbildungstitelArtId']\n",
      "['berufsbezeichnungId', 'abschlussId', 'ausstellungsdatum', 'ausstellungslandId', 'anerkennungstypId', 'anerkennungsdatum', 'datumNachpruefung', 'weiterbildungsgangId', 'weiterbildungstitelArtId', 'organisationName']\n",
      "['berufsbezeichnungId', 'abschlussId', 'ausstellungsdatum', 'ausstellungslandId', 'anerkennungstypId', 'anerkennungsdatum', 'datumNachpruefung', 'weiterbildungsgangId', 'weiterbildungstitelArtId', 'organisationName', 'organisationPlz']\n",
      "['berufsbezeichnungId', 'abschlussId', 'ausstellungsdatum', 'ausstellungslandId', 'anerkennungstypId', 'anerkennungsdatum', 'datumNachpruefung', 'weiterbildungsgangId', 'weiterbildungstitelArtId', 'organisationName', 'organisationPlz', 'organisationOrt']\n",
      "['berufsbezeichnungId', 'abschlussId', 'ausstellungsdatum', 'ausstellungslandId', 'anerkennungstypId', 'anerkennungsdatum', 'datumNachpruefung', 'weiterbildungsgangId', 'weiterbildungstitelArtId', 'organisationName', 'organisationPlz', 'organisationOrt']\n",
      "['berufsbezeichnungId', 'abschlussId', 'ausstellungsdatum', 'ausstellungslandId', 'anerkennungstypId', 'anerkennungsdatum', 'datumNachpruefung', 'weiterbildungsgangId', 'weiterbildungstitelArtId', 'organisationName', 'organisationPlz', 'organisationOrt']\n",
      "outer\n",
      "outer\n"
     ]
    },
    {
     "data": {
      "text/plain": [
       "Index(['idPerson', 'name', 'vorname', 'geschlechtId', 'geburtsdatum',\n",
       "       'jahrgang', 'sprachkompetenzIds', 'nationalitaet1Id',\n",
       "       'nationalitaet2Id', 'gln', 'uid', 'adressenBewilligungen-0-kantonId',\n",
       "       'adressenBewilligungen-0-praxisname', 'adressenBewilligungen-0-strasse',\n",
       "       'adressenBewilligungen-0-plz', 'adressenBewilligungen-0-ort',\n",
       "       'adressenBewilligungen-0-telefon1',\n",
       "       'adressenBewilligungen-0-emailadresse',\n",
       "       'adressenBewilligungen-0-zusatz1', 'adressenBewilligungen-0-zusatz2',\n",
       "       'adressenBewilligungen-1-kantonId',\n",
       "       'adressenBewilligungen-1-praxisname', 'adressenBewilligungen-1-strasse',\n",
       "       'adressenBewilligungen-1-plz', 'adressenBewilligungen-1-ort',\n",
       "       'adressenBewilligungen-1-telefon1',\n",
       "       'adressenBewilligungen-1-emailadresse',\n",
       "       'adressenBewilligungen-1-zusatz1', 'adressenBewilligungen-1-zusatz2',\n",
       "       'adressenBewilligungen-2-kantonId',\n",
       "       'adressenBewilligungen-2-praxisname', 'adressenBewilligungen-2-strasse',\n",
       "       'adressenBewilligungen-2-plz', 'adressenBewilligungen-2-ort',\n",
       "       'adressenBewilligungen-2-telefon1',\n",
       "       'adressenBewilligungen-2-emailadresse',\n",
       "       'adressenBewilligungen-2-zusatz1', 'adressenBewilligungen-2-zusatz2',\n",
       "       'bewilligungenErteilt-0-kantonId',\n",
       "       'bewilligungenErteilt-0-auflageEinschraenkungen-typId',\n",
       "       'bewilligungenErteilt-0-auflageEinschraenkungen-datumEntscheid',\n",
       "       'bewilligungenErteilt-0-auflageEinschraenkungen-datumBefristung',\n",
       "       'bewilligungenErteilt-0-datumEntscheid',\n",
       "       'bewilligungenErteilt-0-datumErteilung',\n",
       "       'bewilligungenErteilt-0-datumBefristung',\n",
       "       'bewilligungenErteilt-1-kantonId',\n",
       "       'bewilligungenErteilt-1-auflageEinschraenkungen',\n",
       "       'bewilligungenErteilt-1-auflageEinschraenkungen-typId',\n",
       "       'bewilligungenErteilt-1-auflageEinschraenkungen-datumEntscheid',\n",
       "       'bewilligungenErteilt-1-auflageEinschraenkungen-datumBefristung',\n",
       "       'bewilligungenErteilt-1-datumEntscheid',\n",
       "       'bewilligungenErteilt-1-datumErteilung',\n",
       "       'bewilligungenErteilt-1-datumBefristung',\n",
       "       'bewilligungenErteilt-2-kantonId',\n",
       "       'bewilligungenErteilt-2-auflageEinschraenkungen',\n",
       "       'bewilligungenErteilt-2-auflageEinschraenkungen-typId',\n",
       "       'bewilligungenErteilt-2-auflageEinschraenkungen-datumEntscheid',\n",
       "       'bewilligungenErteilt-2-auflageEinschraenkungen-datumBefristung',\n",
       "       'bewilligungenErteilt-2-datumEntscheid',\n",
       "       'bewilligungenErteilt-2-datumErteilung',\n",
       "       'bewilligungenErteilt-2-datumBefristung',\n",
       "       'abschluesse-0-berufsbezeichnungId', 'abschluesse-0-abschlussId',\n",
       "       'abschluesse-0-ausstellungsdatum', 'abschluesse-0-ausstellungslandId',\n",
       "       'abschluesse-0-anerkennungstypId', 'abschluesse-0-anerkennungsdatum',\n",
       "       'abschluesse-0-datumNachpruefung', 'abschluesse-0-weiterbildungsgangId',\n",
       "       'abschluesse-0-weiterbildungstitelArtId',\n",
       "       'abschluesse-0-organisationName', 'abschluesse-0-organisationPlz',\n",
       "       'abschluesse-0-organisationOrt', 'abschluesse-1-berufsbezeichnungId',\n",
       "       'abschluesse-1-abschlussId', 'abschluesse-1-ausstellungsdatum',\n",
       "       'abschluesse-1-ausstellungslandId', 'abschluesse-1-anerkennungstypId',\n",
       "       'abschluesse-1-anerkennungsdatum', 'abschluesse-1-datumNachpruefung',\n",
       "       'abschluesse-1-weiterbildungsgangId',\n",
       "       'abschluesse-1-weiterbildungstitelArtId',\n",
       "       'abschluesse-1-organisationName', 'abschluesse-1-organisationPlz',\n",
       "       'abschluesse-1-organisationOrt', 'abschluesse-2-berufsbezeichnungId',\n",
       "       'abschluesse-2-abschlussId', 'abschluesse-2-ausstellungsdatum',\n",
       "       'abschluesse-2-ausstellungslandId', 'abschluesse-2-anerkennungstypId',\n",
       "       'abschluesse-2-anerkennungsdatum', 'abschluesse-2-datumNachpruefung',\n",
       "       'abschluesse-2-weiterbildungsgangId',\n",
       "       'abschluesse-2-weiterbildungstitelArtId',\n",
       "       'abschluesse-2-organisationName', 'abschluesse-2-organisationPlz',\n",
       "       'abschluesse-2-organisationOrt', 'canDoMutationsantrag',\n",
       "       'canHaveBewilligungen'],\n",
       "      dtype='object')"
      ]
     },
     "execution_count": 22,
     "metadata": {},
     "output_type": "execute_result"
    }
   ],
   "source": [
    "output = {}\n",
    "for k,v in data.items(): #k für Key, v = value #.items holt k und v\n",
    "    if type(v) == type([]):\n",
    "        dummy_keys = []\n",
    "        for i in range(0,3):\n",
    "            try:\n",
    "                element = v[i]\n",
    "                if len(dummy_keys) > 0:\n",
    "                    dummy_keys = []\n",
    "                if type(element) == int:\n",
    "                    print(\"been here int\")\n",
    "                    output[k] = element\n",
    "                else:\n",
    "                    print(\"been here\")\n",
    "                    for k_inside, v_inside in element.items():\n",
    "                        dummy_keys.append(k_inside)\n",
    "                        print(dummy_keys)\n",
    "                        if type(v_inside) == type([]):\n",
    "                            for inner_element in v_inside:\n",
    "                                for k_inside_inside,v_inside_inside in inner_element.items():\n",
    "                                    dummy_keys.append(k_inside+\"-\"+k_inside_inside)\n",
    "                                    print(dummy_keys)\n",
    "                                    output[k+\"-\"+str(i)+\"-\"+k_inside+\"-\"+k_inside_inside] = v_inside_inside\n",
    "                        else:\n",
    "                            output[k+\"-\"+str(i)+\"-\"+k_inside] = v_inside\n",
    "            except:\n",
    "                print(dummy_keys)\n",
    "                for key in dummy_keys:\n",
    "                    output[k+\"-\"+str(i)+\"-\"+ key] = ''\n",
    "    else:\n",
    "        print(\"outer\")\n",
    "        output[k] = v\n",
    "pd.DataFrame(output,index=[0]).columns"
   ]
  },
  {
   "cell_type": "code",
   "execution_count": 23,
   "metadata": {},
   "outputs": [
    {
     "data": {
      "text/html": [
       "<div>\n",
       "<style scoped>\n",
       "    .dataframe tbody tr th:only-of-type {\n",
       "        vertical-align: middle;\n",
       "    }\n",
       "\n",
       "    .dataframe tbody tr th {\n",
       "        vertical-align: top;\n",
       "    }\n",
       "\n",
       "    .dataframe thead th {\n",
       "        text-align: right;\n",
       "    }\n",
       "</style>\n",
       "<table border=\"1\" class=\"dataframe\">\n",
       "  <thead>\n",
       "    <tr style=\"text-align: right;\">\n",
       "      <th></th>\n",
       "      <th>0</th>\n",
       "    </tr>\n",
       "  </thead>\n",
       "  <tbody>\n",
       "    <tr>\n",
       "      <th>idPerson</th>\n",
       "      <td>11036</td>\n",
       "    </tr>\n",
       "    <tr>\n",
       "      <th>name</th>\n",
       "      <td>Schweizer-Vüllers</td>\n",
       "    </tr>\n",
       "    <tr>\n",
       "      <th>vorname</th>\n",
       "      <td>Andreas</td>\n",
       "    </tr>\n",
       "    <tr>\n",
       "      <th>geschlechtId</th>\n",
       "      <td>12000</td>\n",
       "    </tr>\n",
       "    <tr>\n",
       "      <th>geburtsdatum</th>\n",
       "      <td>None</td>\n",
       "    </tr>\n",
       "    <tr>\n",
       "      <th>...</th>\n",
       "      <td>...</td>\n",
       "    </tr>\n",
       "    <tr>\n",
       "      <th>abschluesse-2-organisationName</th>\n",
       "      <td></td>\n",
       "    </tr>\n",
       "    <tr>\n",
       "      <th>abschluesse-2-organisationPlz</th>\n",
       "      <td></td>\n",
       "    </tr>\n",
       "    <tr>\n",
       "      <th>abschluesse-2-organisationOrt</th>\n",
       "      <td></td>\n",
       "    </tr>\n",
       "    <tr>\n",
       "      <th>canDoMutationsantrag</th>\n",
       "      <td>False</td>\n",
       "    </tr>\n",
       "    <tr>\n",
       "      <th>canHaveBewilligungen</th>\n",
       "      <td>True</td>\n",
       "    </tr>\n",
       "  </tbody>\n",
       "</table>\n",
       "<p>99 rows × 1 columns</p>\n",
       "</div>"
      ],
      "text/plain": [
       "                                                0\n",
       "idPerson                                    11036\n",
       "name                            Schweizer-Vüllers\n",
       "vorname                                   Andreas\n",
       "geschlechtId                                12000\n",
       "geburtsdatum                                 None\n",
       "...                                           ...\n",
       "abschluesse-2-organisationName                   \n",
       "abschluesse-2-organisationPlz                    \n",
       "abschluesse-2-organisationOrt                    \n",
       "canDoMutationsantrag                        False\n",
       "canHaveBewilligungen                         True\n",
       "\n",
       "[99 rows x 1 columns]"
      ]
     },
     "execution_count": 23,
     "metadata": {},
     "output_type": "execute_result"
    }
   ],
   "source": [
    "pd.DataFrame(output,index=[0]).T"
   ]
  },
  {
   "cell_type": "markdown",
   "metadata": {},
   "source": [
    "Dank zwei Sessions mit Plotti haben wir jetzt den Code soweit genagelt, damit er flache Daten erzeugt und dabei auch berücksichtigt, dass es pro Unterkategorie bis zu drei Einträge haben kann. \n",
    "\n",
    "In einem nächsten Schritt geht es darum die einzelnen Daten einzulesen und in einer Datei zu speichern. "
   ]
  },
  {
   "cell_type": "code",
   "execution_count": null,
   "metadata": {},
   "outputs": [],
   "source": []
  }
 ],
 "metadata": {
  "kernelspec": {
   "display_name": "Python 3",
   "language": "python",
   "name": "python3"
  },
  "language_info": {
   "codemirror_mode": {
    "name": "ipython",
    "version": 3
   },
   "file_extension": ".py",
   "mimetype": "text/x-python",
   "name": "python",
   "nbconvert_exporter": "python",
   "pygments_lexer": "ipython3",
   "version": "3.7.4"
  }
 },
 "nbformat": 4,
 "nbformat_minor": 2
}
