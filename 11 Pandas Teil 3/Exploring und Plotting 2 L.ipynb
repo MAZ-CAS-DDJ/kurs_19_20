{
 "cells": [
  {
   "cell_type": "markdown",
   "metadata": {},
   "source": [
    "# Exploring und Plotting 2"
   ]
  },
  {
   "cell_type": "markdown",
   "metadata": {},
   "source": [
    "**Inhalt:** Selbständige Übung in Gruppen\n",
    "\n",
    "**Nötige Skills:** Time Series\n",
    "\n",
    "**Lernziele:**\n",
    "- Selbständig Daten explorieren und Storyideen testen"
   ]
  },
  {
   "cell_type": "markdown",
   "metadata": {},
   "source": [
    "# Das Beispiel"
   ]
  },
  {
   "cell_type": "markdown",
   "metadata": {},
   "source": [
    "Börsenkurse aller Bluechips-Firmen an der Schweizer Börse.\n",
    "\n",
    "Korpus: https://www.six-group.com/exchanges/shares/explorer/swiss_blue_chips/closings_de.html\n",
    "\n",
    "Die Daten stammen von dieser Quelle: https://finance.yahoo.com/ und wurden zu einem File kompiliert.\n",
    "\n",
    "Kompilierungsfile: `dataprojects/Boersenkurse/Börsenkurse kompilieren.ipnyb`\n",
    "\n",
    "Kompilierte Daten: `dataprojects/Boersenkurse/smi_members.csv`"
   ]
  },
  {
   "cell_type": "markdown",
   "metadata": {},
   "source": [
    "## Vorbereitung"
   ]
  },
  {
   "cell_type": "markdown",
   "metadata": {},
   "source": [
    "Entscheiden Sie selbst, welche Libraries Sie brauchen!"
   ]
  },
  {
   "cell_type": "code",
   "execution_count": 2,
   "metadata": {},
   "outputs": [],
   "source": [
    "import pandas as pd"
   ]
  },
  {
   "cell_type": "code",
   "execution_count": 3,
   "metadata": {},
   "outputs": [],
   "source": [
    "%matplotlib inline"
   ]
  },
  {
   "cell_type": "code",
   "execution_count": null,
   "metadata": {},
   "outputs": [],
   "source": []
  },
  {
   "cell_type": "markdown",
   "metadata": {},
   "source": [
    "## Datenfile laden"
   ]
  },
  {
   "cell_type": "markdown",
   "metadata": {},
   "source": [
    "Wie ist die Datei strukturiert? Was müssen wir beim Laden beachten?\n",
    "\n",
    "**Tipp:** `index_col=0` verwenden."
   ]
  },
  {
   "cell_type": "code",
   "execution_count": 60,
   "metadata": {},
   "outputs": [],
   "source": [
    "df = pd.read_csv('dataprojects/Boersenkurse/smi_members.csv', index_col=0)"
   ]
  },
  {
   "cell_type": "code",
   "execution_count": 61,
   "metadata": {},
   "outputs": [
    {
     "data": {
      "text/html": [
       "<div>\n",
       "<style scoped>\n",
       "    .dataframe tbody tr th:only-of-type {\n",
       "        vertical-align: middle;\n",
       "    }\n",
       "\n",
       "    .dataframe tbody tr th {\n",
       "        vertical-align: top;\n",
       "    }\n",
       "\n",
       "    .dataframe thead th {\n",
       "        text-align: right;\n",
       "    }\n",
       "</style>\n",
       "<table border=\"1\" class=\"dataframe\">\n",
       "  <thead>\n",
       "    <tr style=\"text-align: right;\">\n",
       "      <th></th>\n",
       "      <th>ABB LTD</th>\n",
       "      <th>ADECCO</th>\n",
       "      <th>ALCON</th>\n",
       "      <th>AMS</th>\n",
       "      <th>CLARIANT</th>\n",
       "      <th>CS GROUP</th>\n",
       "      <th>GEBERIT</th>\n",
       "      <th>GIVAUDAN</th>\n",
       "      <th>JULIUS BAER</th>\n",
       "      <th>KUEHNE+NAGEL INT</th>\n",
       "      <th>...</th>\n",
       "      <th>SIKA</th>\n",
       "      <th>SONOVA</th>\n",
       "      <th>SWATCH GROUP</th>\n",
       "      <th>SWISS LIFE HOLDING</th>\n",
       "      <th>SWISS RE</th>\n",
       "      <th>SWISSCOM</th>\n",
       "      <th>TEMENOS</th>\n",
       "      <th>UBS GROUP</th>\n",
       "      <th>VIFOR</th>\n",
       "      <th>ZURICH INSURANCE</th>\n",
       "    </tr>\n",
       "  </thead>\n",
       "  <tbody>\n",
       "    <tr>\n",
       "      <td>2014-10-13</td>\n",
       "      <td>19.65</td>\n",
       "      <td>60.400002</td>\n",
       "      <td>NaN</td>\n",
       "      <td>NaN</td>\n",
       "      <td>15.54</td>\n",
       "      <td>23.689699</td>\n",
       "      <td>289.799988</td>\n",
       "      <td>1461.0</td>\n",
       "      <td>39.500000</td>\n",
       "      <td>117.300003</td>\n",
       "      <td>...</td>\n",
       "      <td>51.849998</td>\n",
       "      <td>143.899994</td>\n",
       "      <td>436.100006</td>\n",
       "      <td>211.899994</td>\n",
       "      <td>73.650002</td>\n",
       "      <td>531.5</td>\n",
       "      <td>32.000000</td>\n",
       "      <td>15.30</td>\n",
       "      <td>74.449997</td>\n",
       "      <td>279.000000</td>\n",
       "    </tr>\n",
       "    <tr>\n",
       "      <td>2014-10-14</td>\n",
       "      <td>19.76</td>\n",
       "      <td>60.700001</td>\n",
       "      <td>NaN</td>\n",
       "      <td>NaN</td>\n",
       "      <td>15.58</td>\n",
       "      <td>23.689699</td>\n",
       "      <td>294.399994</td>\n",
       "      <td>1478.0</td>\n",
       "      <td>39.770000</td>\n",
       "      <td>118.400002</td>\n",
       "      <td>...</td>\n",
       "      <td>52.716702</td>\n",
       "      <td>138.399994</td>\n",
       "      <td>435.299988</td>\n",
       "      <td>211.100006</td>\n",
       "      <td>73.050003</td>\n",
       "      <td>530.0</td>\n",
       "      <td>32.500000</td>\n",
       "      <td>15.33</td>\n",
       "      <td>75.000000</td>\n",
       "      <td>277.600006</td>\n",
       "    </tr>\n",
       "    <tr>\n",
       "      <td>2014-10-15</td>\n",
       "      <td>19.16</td>\n",
       "      <td>58.849998</td>\n",
       "      <td>NaN</td>\n",
       "      <td>NaN</td>\n",
       "      <td>15.16</td>\n",
       "      <td>22.817499</td>\n",
       "      <td>288.000000</td>\n",
       "      <td>1458.0</td>\n",
       "      <td>37.459999</td>\n",
       "      <td>115.900002</td>\n",
       "      <td>...</td>\n",
       "      <td>51.799999</td>\n",
       "      <td>134.600006</td>\n",
       "      <td>429.500000</td>\n",
       "      <td>205.699997</td>\n",
       "      <td>72.050003</td>\n",
       "      <td>515.5</td>\n",
       "      <td>32.200001</td>\n",
       "      <td>14.73</td>\n",
       "      <td>73.900002</td>\n",
       "      <td>270.399994</td>\n",
       "    </tr>\n",
       "    <tr>\n",
       "      <td>2014-10-16</td>\n",
       "      <td>19.26</td>\n",
       "      <td>59.500000</td>\n",
       "      <td>NaN</td>\n",
       "      <td>NaN</td>\n",
       "      <td>15.06</td>\n",
       "      <td>22.292299</td>\n",
       "      <td>288.000000</td>\n",
       "      <td>1466.0</td>\n",
       "      <td>37.509998</td>\n",
       "      <td>117.099998</td>\n",
       "      <td>...</td>\n",
       "      <td>51.783298</td>\n",
       "      <td>133.699997</td>\n",
       "      <td>431.500000</td>\n",
       "      <td>200.500000</td>\n",
       "      <td>71.050003</td>\n",
       "      <td>507.5</td>\n",
       "      <td>31.650000</td>\n",
       "      <td>14.50</td>\n",
       "      <td>72.849998</td>\n",
       "      <td>265.899994</td>\n",
       "    </tr>\n",
       "    <tr>\n",
       "      <td>2014-10-17</td>\n",
       "      <td>19.40</td>\n",
       "      <td>60.950001</td>\n",
       "      <td>NaN</td>\n",
       "      <td>NaN</td>\n",
       "      <td>15.38</td>\n",
       "      <td>22.751900</td>\n",
       "      <td>297.200012</td>\n",
       "      <td>1494.0</td>\n",
       "      <td>39.119999</td>\n",
       "      <td>117.500000</td>\n",
       "      <td>...</td>\n",
       "      <td>53.333302</td>\n",
       "      <td>138.399994</td>\n",
       "      <td>438.500000</td>\n",
       "      <td>208.500000</td>\n",
       "      <td>71.699997</td>\n",
       "      <td>515.5</td>\n",
       "      <td>32.500000</td>\n",
       "      <td>15.05</td>\n",
       "      <td>75.849998</td>\n",
       "      <td>271.899994</td>\n",
       "    </tr>\n",
       "  </tbody>\n",
       "</table>\n",
       "<p>5 rows × 30 columns</p>\n",
       "</div>"
      ],
      "text/plain": [
       "            ABB LTD     ADECCO  ALCON  AMS  CLARIANT   CS GROUP     GEBERIT  \\\n",
       "2014-10-13    19.65  60.400002    NaN  NaN     15.54  23.689699  289.799988   \n",
       "2014-10-14    19.76  60.700001    NaN  NaN     15.58  23.689699  294.399994   \n",
       "2014-10-15    19.16  58.849998    NaN  NaN     15.16  22.817499  288.000000   \n",
       "2014-10-16    19.26  59.500000    NaN  NaN     15.06  22.292299  288.000000   \n",
       "2014-10-17    19.40  60.950001    NaN  NaN     15.38  22.751900  297.200012   \n",
       "\n",
       "            GIVAUDAN  JULIUS BAER  KUEHNE+NAGEL INT  ...       SIKA  \\\n",
       "2014-10-13    1461.0    39.500000        117.300003  ...  51.849998   \n",
       "2014-10-14    1478.0    39.770000        118.400002  ...  52.716702   \n",
       "2014-10-15    1458.0    37.459999        115.900002  ...  51.799999   \n",
       "2014-10-16    1466.0    37.509998        117.099998  ...  51.783298   \n",
       "2014-10-17    1494.0    39.119999        117.500000  ...  53.333302   \n",
       "\n",
       "                SONOVA  SWATCH GROUP  SWISS LIFE HOLDING   SWISS RE  SWISSCOM  \\\n",
       "2014-10-13  143.899994    436.100006          211.899994  73.650002     531.5   \n",
       "2014-10-14  138.399994    435.299988          211.100006  73.050003     530.0   \n",
       "2014-10-15  134.600006    429.500000          205.699997  72.050003     515.5   \n",
       "2014-10-16  133.699997    431.500000          200.500000  71.050003     507.5   \n",
       "2014-10-17  138.399994    438.500000          208.500000  71.699997     515.5   \n",
       "\n",
       "              TEMENOS  UBS GROUP      VIFOR  ZURICH INSURANCE  \n",
       "2014-10-13  32.000000      15.30  74.449997        279.000000  \n",
       "2014-10-14  32.500000      15.33  75.000000        277.600006  \n",
       "2014-10-15  32.200001      14.73  73.900002        270.399994  \n",
       "2014-10-16  31.650000      14.50  72.849998        265.899994  \n",
       "2014-10-17  32.500000      15.05  75.849998        271.899994  \n",
       "\n",
       "[5 rows x 30 columns]"
      ]
     },
     "execution_count": 61,
     "metadata": {},
     "output_type": "execute_result"
    }
   ],
   "source": [
    "df.head()"
   ]
  },
  {
   "cell_type": "code",
   "execution_count": null,
   "metadata": {},
   "outputs": [],
   "source": []
  },
  {
   "cell_type": "code",
   "execution_count": null,
   "metadata": {},
   "outputs": [],
   "source": []
  },
  {
   "cell_type": "markdown",
   "metadata": {},
   "source": [
    "## Daten checken"
   ]
  },
  {
   "cell_type": "markdown",
   "metadata": {},
   "source": [
    "**Länge, Spalten, Integrität**"
   ]
  },
  {
   "cell_type": "code",
   "execution_count": 62,
   "metadata": {},
   "outputs": [
    {
     "data": {
      "text/plain": [
       "(1255, 30)"
      ]
     },
     "execution_count": 62,
     "metadata": {},
     "output_type": "execute_result"
    }
   ],
   "source": [
    "df.shape"
   ]
  },
  {
   "cell_type": "code",
   "execution_count": 63,
   "metadata": {},
   "outputs": [
    {
     "data": {
      "text/plain": [
       "ABB LTD               float64\n",
       "ADECCO                float64\n",
       "ALCON                 float64\n",
       "AMS                   float64\n",
       "CLARIANT              float64\n",
       "CS GROUP              float64\n",
       "GEBERIT               float64\n",
       "GIVAUDAN              float64\n",
       "JULIUS BAER           float64\n",
       "KUEHNE+NAGEL INT      float64\n",
       "LAFARGEHOLCIM         float64\n",
       "LOGITECH              float64\n",
       "LONZA                 float64\n",
       "NESTLE                float64\n",
       "NOVARTIS              float64\n",
       "PARTNERS GROUP        float64\n",
       "RICHEMONT             float64\n",
       "ROCHE                 float64\n",
       "SCHINDLER             float64\n",
       "SGS                   float64\n",
       "SIKA                  float64\n",
       "SONOVA                float64\n",
       "SWATCH GROUP          float64\n",
       "SWISS LIFE HOLDING    float64\n",
       "SWISS RE              float64\n",
       "SWISSCOM              float64\n",
       "TEMENOS               float64\n",
       "UBS GROUP             float64\n",
       "VIFOR                 float64\n",
       "ZURICH INSURANCE      float64\n",
       "dtype: object"
      ]
     },
     "execution_count": 63,
     "metadata": {},
     "output_type": "execute_result"
    }
   ],
   "source": [
    "df.dtypes"
   ]
  },
  {
   "cell_type": "code",
   "execution_count": null,
   "metadata": {},
   "outputs": [],
   "source": []
  },
  {
   "cell_type": "code",
   "execution_count": null,
   "metadata": {},
   "outputs": [],
   "source": []
  },
  {
   "cell_type": "markdown",
   "metadata": {},
   "source": [
    "## Vorbereitung"
   ]
  },
  {
   "cell_type": "markdown",
   "metadata": {},
   "source": [
    "Mit welchem Typ von Daten haben wir es hier zu tun? Was müssen wir für Eigenschaften des Dataframe modifizieren, um optimal damit arbeiten zu können?\n",
    "\n",
    "**Tipp:** mit `df.index` können Sie auf die Index-Spalte zugreifen"
   ]
  },
  {
   "cell_type": "code",
   "execution_count": 64,
   "metadata": {},
   "outputs": [],
   "source": [
    "# Wir müssen die Indexspalte als Datetime \n",
    "df.index = pd.to_datetime(df.index)"
   ]
  },
  {
   "cell_type": "code",
   "execution_count": null,
   "metadata": {},
   "outputs": [],
   "source": []
  },
  {
   "cell_type": "markdown",
   "metadata": {},
   "source": [
    "## Explorieren"
   ]
  },
  {
   "cell_type": "markdown",
   "metadata": {},
   "source": [
    "Ihr Ziel ist, aus den Börsendaten eine einfache Story zu generieren.\n",
    "\n",
    "Überlegen Sie sich dazu:\n",
    "- Was sind mögliche interessante Fragen?\n",
    "- Welche Auswertungen sind nötig, um die Fragen zu beanworten?\n",
    "- Wie stellen Sie die Resultate mittels Grafiken dar?\n",
    "\n",
    "Arbeiten Sie in Gruppen, um ein Ergebnis zu erarbeiten!"
   ]
  },
  {
   "cell_type": "code",
   "execution_count": null,
   "metadata": {},
   "outputs": [],
   "source": []
  },
  {
   "cell_type": "markdown",
   "metadata": {},
   "source": [
    "**Beispiel 1:** Wertsteigerung der Firmen in den letzten fünf Jahren: 5 beste und 5 schlechteste"
   ]
  },
  {
   "cell_type": "code",
   "execution_count": 65,
   "metadata": {},
   "outputs": [],
   "source": [
    "# Wir wählen die erste Zeile aus und dividieren sämtliche Zeilen durch sie"
   ]
  },
  {
   "cell_type": "code",
   "execution_count": 66,
   "metadata": {},
   "outputs": [],
   "source": [
    "s_first = df.iloc[0]"
   ]
  },
  {
   "cell_type": "code",
   "execution_count": 67,
   "metadata": {},
   "outputs": [],
   "source": [
    "df_indexed = ((df / s_first) - 1) * 100"
   ]
  },
  {
   "cell_type": "code",
   "execution_count": 68,
   "metadata": {},
   "outputs": [],
   "source": [
    "# Die letzte Zeile gibt uns die gesamte Veränderung an"
   ]
  },
  {
   "cell_type": "code",
   "execution_count": 69,
   "metadata": {},
   "outputs": [],
   "source": [
    "s_5y_chg = df_indexed.iloc[-1].sort_values(ascending=False)"
   ]
  },
  {
   "cell_type": "code",
   "execution_count": 70,
   "metadata": {},
   "outputs": [],
   "source": [
    "# Beste 5 Firmen:"
   ]
  },
  {
   "cell_type": "code",
   "execution_count": 74,
   "metadata": {},
   "outputs": [
    {
     "data": {
      "text/plain": [
       "<matplotlib.axes._subplots.AxesSubplot at 0x115b7a9e8>"
      ]
     },
     "execution_count": 74,
     "metadata": {},
     "output_type": "execute_result"
    },
    {
     "data": {
      "image/png": "[encoded data removed]",
      "text/plain": [
       "<Figure size 432x288 with 1 Axes>"
      ]
     },
     "metadata": {
      "needs_background": "light"
     },
     "output_type": "display_data"
    }
   ],
   "source": [
    "s_5y_chg.head(5).plot(kind='bar', title='Kursveränderung in Prozent: Top 5')"
   ]
  },
  {
   "cell_type": "code",
   "execution_count": 72,
   "metadata": {},
   "outputs": [],
   "source": [
    "# Schlechteste 5 Firmen:"
   ]
  },
  {
   "cell_type": "code",
   "execution_count": 75,
   "metadata": {},
   "outputs": [
    {
     "data": {
      "text/plain": [
       "<matplotlib.axes._subplots.AxesSubplot at 0x115196cf8>"
      ]
     },
     "execution_count": 75,
     "metadata": {},
     "output_type": "execute_result"
    },
    {
     "data": {
      "image/png": "[encoded data removed]",
      "text/plain": [
       "<Figure size 432x288 with 1 Axes>"
      ]
     },
     "metadata": {
      "needs_background": "light"
     },
     "output_type": "display_data"
    }
   ],
   "source": [
    "s_5y_chg.sort_values().head(5).plot(kind='bar', title='Kursveränderung in Prozent: Bottom 5')"
   ]
  },
  {
   "cell_type": "code",
   "execution_count": null,
   "metadata": {},
   "outputs": [],
   "source": []
  },
  {
   "cell_type": "markdown",
   "metadata": {},
   "source": [
    "**Beispiel 2:** Firmen, deren Jahresperformance 2019 (bis dato) gegenüber der Performance 2018 am meisten verbessert hat"
   ]
  },
  {
   "cell_type": "code",
   "execution_count": 104,
   "metadata": {},
   "outputs": [],
   "source": [
    "# Jahresendkurse"
   ]
  },
  {
   "cell_type": "code",
   "execution_count": 105,
   "metadata": {},
   "outputs": [],
   "source": [
    "df_end = df.resample('A').last()"
   ]
  },
  {
   "cell_type": "code",
   "execution_count": 106,
   "metadata": {},
   "outputs": [
    {
     "data": {
      "text/html": [
       "<div>\n",
       "<style scoped>\n",
       "    .dataframe tbody tr th:only-of-type {\n",
       "        vertical-align: middle;\n",
       "    }\n",
       "\n",
       "    .dataframe tbody tr th {\n",
       "        vertical-align: top;\n",
       "    }\n",
       "\n",
       "    .dataframe thead th {\n",
       "        text-align: right;\n",
       "    }\n",
       "</style>\n",
       "<table border=\"1\" class=\"dataframe\">\n",
       "  <thead>\n",
       "    <tr style=\"text-align: right;\">\n",
       "      <th></th>\n",
       "      <th>ABB LTD</th>\n",
       "      <th>ADECCO</th>\n",
       "      <th>ALCON</th>\n",
       "      <th>AMS</th>\n",
       "      <th>CLARIANT</th>\n",
       "      <th>CS GROUP</th>\n",
       "      <th>GEBERIT</th>\n",
       "      <th>GIVAUDAN</th>\n",
       "      <th>JULIUS BAER</th>\n",
       "      <th>KUEHNE+NAGEL INT</th>\n",
       "      <th>...</th>\n",
       "      <th>SIKA</th>\n",
       "      <th>SONOVA</th>\n",
       "      <th>SWATCH GROUP</th>\n",
       "      <th>SWISS LIFE HOLDING</th>\n",
       "      <th>SWISS RE</th>\n",
       "      <th>SWISSCOM</th>\n",
       "      <th>TEMENOS</th>\n",
       "      <th>UBS GROUP</th>\n",
       "      <th>VIFOR</th>\n",
       "      <th>ZURICH INSURANCE</th>\n",
       "    </tr>\n",
       "  </thead>\n",
       "  <tbody>\n",
       "    <tr>\n",
       "      <td>2014-12-31</td>\n",
       "      <td>21.139999</td>\n",
       "      <td>68.849998</td>\n",
       "      <td>NaN</td>\n",
       "      <td>NaN</td>\n",
       "      <td>16.719999</td>\n",
       "      <td>23.520901</td>\n",
       "      <td>338.399994</td>\n",
       "      <td>1793.0</td>\n",
       "      <td>45.810001</td>\n",
       "      <td>135.300003</td>\n",
       "      <td>...</td>\n",
       "      <td>48.933300</td>\n",
       "      <td>146.899994</td>\n",
       "      <td>444.200012</td>\n",
       "      <td>236.399994</td>\n",
       "      <td>83.650002</td>\n",
       "      <td>522.500000</td>\n",
       "      <td>35.500000</td>\n",
       "      <td>17.090000</td>\n",
       "      <td>79.199997</td>\n",
       "      <td>311.700012</td>\n",
       "    </tr>\n",
       "    <tr>\n",
       "      <td>2015-12-31</td>\n",
       "      <td>17.959999</td>\n",
       "      <td>68.900002</td>\n",
       "      <td>NaN</td>\n",
       "      <td>NaN</td>\n",
       "      <td>19.010000</td>\n",
       "      <td>20.929100</td>\n",
       "      <td>340.200012</td>\n",
       "      <td>1823.0</td>\n",
       "      <td>48.660000</td>\n",
       "      <td>137.800003</td>\n",
       "      <td>...</td>\n",
       "      <td>60.333302</td>\n",
       "      <td>127.300003</td>\n",
       "      <td>350.200012</td>\n",
       "      <td>271.299988</td>\n",
       "      <td>98.150002</td>\n",
       "      <td>503.000000</td>\n",
       "      <td>51.950001</td>\n",
       "      <td>19.520000</td>\n",
       "      <td>157.399994</td>\n",
       "      <td>258.399994</td>\n",
       "    </tr>\n",
       "    <tr>\n",
       "      <td>2016-12-31</td>\n",
       "      <td>21.480000</td>\n",
       "      <td>66.650002</td>\n",
       "      <td>NaN</td>\n",
       "      <td>NaN</td>\n",
       "      <td>17.570000</td>\n",
       "      <td>14.097500</td>\n",
       "      <td>408.200012</td>\n",
       "      <td>1866.0</td>\n",
       "      <td>45.230000</td>\n",
       "      <td>134.600006</td>\n",
       "      <td>...</td>\n",
       "      <td>81.533302</td>\n",
       "      <td>123.400002</td>\n",
       "      <td>316.700012</td>\n",
       "      <td>288.200012</td>\n",
       "      <td>96.500000</td>\n",
       "      <td>456.100006</td>\n",
       "      <td>70.900002</td>\n",
       "      <td>15.950000</td>\n",
       "      <td>114.900002</td>\n",
       "      <td>280.399994</td>\n",
       "    </tr>\n",
       "    <tr>\n",
       "      <td>2017-12-31</td>\n",
       "      <td>26.120001</td>\n",
       "      <td>74.550003</td>\n",
       "      <td>NaN</td>\n",
       "      <td>NaN</td>\n",
       "      <td>27.250000</td>\n",
       "      <td>17.400000</td>\n",
       "      <td>429.100006</td>\n",
       "      <td>2252.0</td>\n",
       "      <td>59.599998</td>\n",
       "      <td>172.500000</td>\n",
       "      <td>...</td>\n",
       "      <td>129.000000</td>\n",
       "      <td>152.199997</td>\n",
       "      <td>397.399994</td>\n",
       "      <td>345.000000</td>\n",
       "      <td>91.250000</td>\n",
       "      <td>518.500000</td>\n",
       "      <td>125.000000</td>\n",
       "      <td>17.940001</td>\n",
       "      <td>124.900002</td>\n",
       "      <td>296.600006</td>\n",
       "    </tr>\n",
       "    <tr>\n",
       "      <td>2018-12-31</td>\n",
       "      <td>18.695000</td>\n",
       "      <td>45.930000</td>\n",
       "      <td>NaN</td>\n",
       "      <td>NaN</td>\n",
       "      <td>18.090000</td>\n",
       "      <td>10.800000</td>\n",
       "      <td>382.299988</td>\n",
       "      <td>2276.0</td>\n",
       "      <td>35.009998</td>\n",
       "      <td>126.349998</td>\n",
       "      <td>...</td>\n",
       "      <td>124.599998</td>\n",
       "      <td>160.600006</td>\n",
       "      <td>286.700012</td>\n",
       "      <td>378.600006</td>\n",
       "      <td>90.120003</td>\n",
       "      <td>469.700012</td>\n",
       "      <td>117.900002</td>\n",
       "      <td>12.235000</td>\n",
       "      <td>106.900002</td>\n",
       "      <td>293.100006</td>\n",
       "    </tr>\n",
       "    <tr>\n",
       "      <td>2019-12-31</td>\n",
       "      <td>18.475000</td>\n",
       "      <td>56.139999</td>\n",
       "      <td>56.200001</td>\n",
       "      <td>44.259998</td>\n",
       "      <td>20.690001</td>\n",
       "      <td>12.055000</td>\n",
       "      <td>472.799988</td>\n",
       "      <td>2840.0</td>\n",
       "      <td>44.139999</td>\n",
       "      <td>151.800003</td>\n",
       "      <td>...</td>\n",
       "      <td>157.300003</td>\n",
       "      <td>227.500000</td>\n",
       "      <td>262.799988</td>\n",
       "      <td>482.100006</td>\n",
       "      <td>103.550003</td>\n",
       "      <td>506.000000</td>\n",
       "      <td>171.050003</td>\n",
       "      <td>11.105000</td>\n",
       "      <td>155.949997</td>\n",
       "      <td>388.799988</td>\n",
       "    </tr>\n",
       "  </tbody>\n",
       "</table>\n",
       "<p>6 rows × 30 columns</p>\n",
       "</div>"
      ],
      "text/plain": [
       "              ABB LTD     ADECCO      ALCON        AMS   CLARIANT   CS GROUP  \\\n",
       "2014-12-31  21.139999  68.849998        NaN        NaN  16.719999  23.520901   \n",
       "2015-12-31  17.959999  68.900002        NaN        NaN  19.010000  20.929100   \n",
       "2016-12-31  21.480000  66.650002        NaN        NaN  17.570000  14.097500   \n",
       "2017-12-31  26.120001  74.550003        NaN        NaN  27.250000  17.400000   \n",
       "2018-12-31  18.695000  45.930000        NaN        NaN  18.090000  10.800000   \n",
       "2019-12-31  18.475000  56.139999  56.200001  44.259998  20.690001  12.055000   \n",
       "\n",
       "               GEBERIT  GIVAUDAN  JULIUS BAER  KUEHNE+NAGEL INT  ...  \\\n",
       "2014-12-31  338.399994    1793.0    45.810001        135.300003  ...   \n",
       "2015-12-31  340.200012    1823.0    48.660000        137.800003  ...   \n",
       "2016-12-31  408.200012    1866.0    45.230000        134.600006  ...   \n",
       "2017-12-31  429.100006    2252.0    59.599998        172.500000  ...   \n",
       "2018-12-31  382.299988    2276.0    35.009998        126.349998  ...   \n",
       "2019-12-31  472.799988    2840.0    44.139999        151.800003  ...   \n",
       "\n",
       "                  SIKA      SONOVA  SWATCH GROUP  SWISS LIFE HOLDING  \\\n",
       "2014-12-31   48.933300  146.899994    444.200012          236.399994   \n",
       "2015-12-31   60.333302  127.300003    350.200012          271.299988   \n",
       "2016-12-31   81.533302  123.400002    316.700012          288.200012   \n",
       "2017-12-31  129.000000  152.199997    397.399994          345.000000   \n",
       "2018-12-31  124.599998  160.600006    286.700012          378.600006   \n",
       "2019-12-31  157.300003  227.500000    262.799988          482.100006   \n",
       "\n",
       "              SWISS RE    SWISSCOM     TEMENOS  UBS GROUP       VIFOR  \\\n",
       "2014-12-31   83.650002  522.500000   35.500000  17.090000   79.199997   \n",
       "2015-12-31   98.150002  503.000000   51.950001  19.520000  157.399994   \n",
       "2016-12-31   96.500000  456.100006   70.900002  15.950000  114.900002   \n",
       "2017-12-31   91.250000  518.500000  125.000000  17.940001  124.900002   \n",
       "2018-12-31   90.120003  469.700012  117.900002  12.235000  106.900002   \n",
       "2019-12-31  103.550003  506.000000  171.050003  11.105000  155.949997   \n",
       "\n",
       "            ZURICH INSURANCE  \n",
       "2014-12-31        311.700012  \n",
       "2015-12-31        258.399994  \n",
       "2016-12-31        280.399994  \n",
       "2017-12-31        296.600006  \n",
       "2018-12-31        293.100006  \n",
       "2019-12-31        388.799988  \n",
       "\n",
       "[6 rows x 30 columns]"
      ]
     },
     "execution_count": 106,
     "metadata": {},
     "output_type": "execute_result"
    }
   ],
   "source": [
    "df_end"
   ]
  },
  {
   "cell_type": "code",
   "execution_count": 107,
   "metadata": {},
   "outputs": [],
   "source": [
    "# Veränderungen 2019 resp 2018"
   ]
  },
  {
   "cell_type": "code",
   "execution_count": 120,
   "metadata": {},
   "outputs": [],
   "source": [
    "s_2019 = (df_end.loc['2019-12-31'] / df_end.loc['2018-12-31'] - 1) * 100"
   ]
  },
  {
   "cell_type": "code",
   "execution_count": 121,
   "metadata": {},
   "outputs": [],
   "source": [
    "s_2018 = (df_end.loc['2018-12-31'] / df_end.loc['2017-12-31'] - 1) * 100"
   ]
  },
  {
   "cell_type": "code",
   "execution_count": 122,
   "metadata": {},
   "outputs": [],
   "source": [
    "# Differenz"
   ]
  },
  {
   "cell_type": "code",
   "execution_count": 123,
   "metadata": {},
   "outputs": [],
   "source": [
    "s_chg_2018_19 = s_2019 - s_2018"
   ]
  },
  {
   "cell_type": "code",
   "execution_count": 124,
   "metadata": {},
   "outputs": [
    {
     "data": {
      "text/plain": [
       "JULIUS BAER           67.336658\n",
       "ADECCO                60.619822\n",
       "VIFOR                 60.295527\n",
       "TEMENOS               50.760575\n",
       "CS GROUP              49.551405\n",
       "CLARIANT              47.987266\n",
       "KUEHNE+NAGEL INT      46.896090\n",
       "LAFARGEHOLCIM         43.555899\n",
       "RICHEMONT             43.001532\n",
       "PARTNERS GROUP        39.134148\n",
       "NESTLE                38.582787\n",
       "SONOVA                36.137224\n",
       "GEBERIT               34.579062\n",
       "ZURICH INSURANCE      33.831006\n",
       "LONZA                 33.615665\n",
       "SIKA                  29.654839\n",
       "SCHINDLER             27.731798\n",
       "ABB LTD               27.249711\n",
       "SGS                   24.836322\n",
       "GIVAUDAN              23.714597\n",
       "UBS GROUP             22.564651\n",
       "ROCHE                 20.115454\n",
       "SWATCH GROUP          19.519812\n",
       "SWISS LIFE HOLDING    17.598427\n",
       "SWISSCOM              17.140097\n",
       "SWISS RE              16.140705\n",
       "NOVARTIS              14.700021\n",
       "ALCON                       NaN\n",
       "AMS                         NaN\n",
       "LOGITECH                    NaN\n",
       "dtype: float64"
      ]
     },
     "execution_count": 124,
     "metadata": {},
     "output_type": "execute_result"
    }
   ],
   "source": [
    "s_chg_2018_19.sort_values(ascending=False)"
   ]
  },
  {
   "cell_type": "code",
   "execution_count": 125,
   "metadata": {},
   "outputs": [],
   "source": [
    "# Top 10 Verbesserungen"
   ]
  },
  {
   "cell_type": "code",
   "execution_count": 126,
   "metadata": {},
   "outputs": [
    {
     "data": {
      "text/plain": [
       "<matplotlib.axes._subplots.AxesSubplot at 0x1164bd278>"
      ]
     },
     "execution_count": 126,
     "metadata": {},
     "output_type": "execute_result"
    },
    {
     "data": {
      "image/png": "[encoded data removed]",
      "text/plain": [
       "<Figure size 432x288 with 1 Axes>"
      ]
     },
     "metadata": {
      "needs_background": "light"
     },
     "output_type": "display_data"
    }
   ],
   "source": [
    "s_chg_2018_19.sort_values(ascending=False).head(10).plot(kind='bar')"
   ]
  },
  {
   "cell_type": "code",
   "execution_count": null,
   "metadata": {},
   "outputs": [],
   "source": []
  },
  {
   "cell_type": "markdown",
   "metadata": {},
   "source": [
    "## Die Story\n",
    "Wählen Sie eine ihrer Fragen aus, die Sie bearbeitet haben.\n",
    "- Drei bis vier Sätze, welche die Story zusammenfassen\n",
    "- eine oder mehrere Grafiken, die das Ergebnis illustrieren"
   ]
  },
  {
   "cell_type": "code",
   "execution_count": null,
   "metadata": {},
   "outputs": [],
   "source": []
  },
  {
   "cell_type": "code",
   "execution_count": null,
   "metadata": {},
   "outputs": [],
   "source": []
  },
  {
   "cell_type": "code",
   "execution_count": null,
   "metadata": {},
   "outputs": [],
   "source": []
  },
  {
   "cell_type": "code",
   "execution_count": null,
   "metadata": {},
   "outputs": [],
   "source": []
  },
  {
   "cell_type": "code",
   "execution_count": null,
   "metadata": {},
   "outputs": [],
   "source": []
  },
  {
   "cell_type": "code",
   "execution_count": null,
   "metadata": {},
   "outputs": [],
   "source": []
  },
  {
   "cell_type": "code",
   "execution_count": null,
   "metadata": {},
   "outputs": [],
   "source": []
  },
  {
   "cell_type": "code",
   "execution_count": null,
   "metadata": {},
   "outputs": [],
   "source": []
  }
 ],
 "metadata": {
  "kernelspec": {
   "display_name": "Python 3",
   "language": "python",
   "name": "python3"
  },
  "language_info": {
   "codemirror_mode": {
    "name": "ipython",
    "version": 3
   },
   "file_extension": ".py",
   "mimetype": "text/x-python",
   "name": "python",
   "nbconvert_exporter": "python",
   "pygments_lexer": "ipython3",
   "version": "3.7.3"
  }
 },
 "nbformat": 4,
 "nbformat_minor": 2
}
