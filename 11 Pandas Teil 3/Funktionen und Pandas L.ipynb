{
 "cells": [
  {
   "cell_type": "markdown",
   "metadata": {},
   "source": [
    "# Funktionen und Pandas"
   ]
  },
  {
   "cell_type": "markdown",
   "metadata": {},
   "source": [
    "**Inhalt:** Komplexere Zellen- und Spalten-Operationen\n",
    "\n",
    "**Nötige Skills:** Einführung in Pandas\n",
    "\n",
    "**Lernziele:**\n",
    "- Mehrere Codezeilen zu Funktionen zusammenfassen\n",
    "- Funktionen auf bestimmte Bestandteile von Dataframes ausführen (apply, lambda)"
   ]
  },
  {
   "cell_type": "markdown",
   "metadata": {},
   "source": [
    "## Vorbereitung"
   ]
  },
  {
   "cell_type": "code",
   "execution_count": 1,
   "metadata": {
    "collapsed": true
   },
   "outputs": [],
   "source": [
    "import pandas as pd"
   ]
  },
  {
   "cell_type": "code",
   "execution_count": 2,
   "metadata": {
    "collapsed": true
   },
   "outputs": [],
   "source": [
    "# Platz für weitere Libraries, die Sie brauchen möchten...\n",
    "import requests"
   ]
  },
  {
   "cell_type": "code",
   "execution_count": 3,
   "metadata": {
    "collapsed": true
   },
   "outputs": [],
   "source": [
    "from bs4 import BeautifulSoup"
   ]
  },
  {
   "cell_type": "markdown",
   "metadata": {},
   "source": [
    "## Review: eine einfache Funktion schreiben"
   ]
  },
  {
   "cell_type": "markdown",
   "metadata": {},
   "source": [
    "Zum Start kreieren wir uns eine Reihe von Funktionen, die wir später anwenden wollen. Be creative!"
   ]
  },
  {
   "cell_type": "markdown",
   "metadata": {},
   "source": [
    "Zum Beispiel:\n",
    "- eine Zalhlenoperation, die nicht auf einer Zeile platz hat (wenn, dann, etc.)\n",
    "- einen Input nehmen, eine API damit befragen\n",
    "- einen String durchsuchen und/oder modifizieren\n",
    "- Zahlen und Text nach einem bestimmten Muster formatieren"
   ]
  },
  {
   "cell_type": "markdown",
   "metadata": {},
   "source": [
    "**To Do:** Schreiben und beschreiben Sie eine Funktion (eine auswählen, Code testen und in Slack!)"
   ]
  },
  {
   "cell_type": "markdown",
   "metadata": {},
   "source": [
    "**Eine Funktion, die etwas mit einer Zahl macht**"
   ]
  },
  {
   "cell_type": "code",
   "execution_count": 4,
   "metadata": {
    "collapsed": true
   },
   "outputs": [],
   "source": [
    "# Spuckt eine formatierte Zahl aus, je nach Grösse\n",
    "def mach_was_mit_zahl(zahl):\n",
    "\n",
    "    if zahl < 1000:\n",
    "        zahl_formatted = str(round(zahl))\n",
    "    elif zahl < 1000000:\n",
    "        zahl_formatted = str(round(zahl / 1000)) +  \"K\"\n",
    "    else:\n",
    "        zahl_formatted = \"zu gross!\"\n",
    "    \n",
    "    return zahl_formatted"
   ]
  },
  {
   "cell_type": "markdown",
   "metadata": {},
   "source": [
    "Zum Testen:"
   ]
  },
  {
   "cell_type": "code",
   "execution_count": 5,
   "metadata": {},
   "outputs": [
    {
     "data": {
      "text/plain": [
       "'365K'"
      ]
     },
     "execution_count": 5,
     "metadata": {},
     "output_type": "execute_result"
    }
   ],
   "source": [
    "mach_was_mit_zahl(365000)"
   ]
  },
  {
   "cell_type": "code",
   "execution_count": null,
   "metadata": {
    "collapsed": true
   },
   "outputs": [],
   "source": []
  },
  {
   "cell_type": "markdown",
   "metadata": {},
   "source": [
    "**Eine Funktion, die etwas mit einem Wort macht**"
   ]
  },
  {
   "cell_type": "code",
   "execution_count": 6,
   "metadata": {
    "collapsed": true
   },
   "outputs": [],
   "source": [
    "# Checkt, wie viele Einträge es bei tel.search.ch gibt\n",
    "def mach_was_mit_wort(wort):\n",
    "    \n",
    "    url_start = \"https://tel.search.ch/api/?was=\"\n",
    "    url_end = \"&count_only=yes\"\n",
    "    \n",
    "    url = url_start + wort + url_end\n",
    "    \n",
    "    response = requests.get(url)\n",
    "    doc = BeautifulSoup(response.text, \"html.parser\")\n",
    "    \n",
    "    n_results = int(doc.find('opensearch:totalresults').text)\n",
    "       \n",
    "    return n_results"
   ]
  },
  {
   "cell_type": "markdown",
   "metadata": {},
   "source": [
    "Zum Testen:"
   ]
  },
  {
   "cell_type": "code",
   "execution_count": 7,
   "metadata": {},
   "outputs": [
    {
     "data": {
      "text/plain": [
       "11"
      ]
     },
     "execution_count": 7,
     "metadata": {},
     "output_type": "execute_result"
    }
   ],
   "source": [
    "mach_was_mit_wort(\"Schneider-Ammann\")"
   ]
  },
  {
   "cell_type": "code",
   "execution_count": null,
   "metadata": {
    "collapsed": true
   },
   "outputs": [],
   "source": []
  },
  {
   "cell_type": "markdown",
   "metadata": {},
   "source": [
    "**Eine Funktion, die etwas mit einem längeren Text macht**"
   ]
  },
  {
   "cell_type": "markdown",
   "metadata": {},
   "source": [
    "Zum Beispiel mit diesem hier:"
   ]
  },
  {
   "cell_type": "code",
   "execution_count": 8,
   "metadata": {
    "collapsed": true
   },
   "outputs": [],
   "source": [
    "my_text = open('dataprojects/Songtexte/Züri West - I schänke dir mis Härz.txt', 'r').read()"
   ]
  },
  {
   "cell_type": "markdown",
   "metadata": {},
   "source": [
    "Für Ideen, hier eine Liste von Python's String-Funktionen: https://www.w3schools.com/python/python_ref_string.asp"
   ]
  },
  {
   "cell_type": "code",
   "execution_count": 9,
   "metadata": {
    "collapsed": true
   },
   "outputs": [],
   "source": [
    "# Textanalyse: Anzahl u's und Anzahl i's im Text zählen (allein stehende wörter)\n",
    "def mach_was_mit_text(text):\n",
    "    \n",
    "    n_u = text.lower().count(' u ')\n",
    "    n_i = text.lower().count(' i ')\n",
    "    \n",
    "    textanalyse = \"Enhält \" + str(n_u) + \" u's und \" + str(n_i) + \" i's.\"\n",
    "        \n",
    "    return textanalyse"
   ]
  },
  {
   "cell_type": "markdown",
   "metadata": {},
   "source": [
    "Zum Testen:"
   ]
  },
  {
   "cell_type": "code",
   "execution_count": 10,
   "metadata": {},
   "outputs": [
    {
     "data": {
      "text/plain": [
       "\"Enhält 5 u's und 12 i's.\""
      ]
     },
     "execution_count": 10,
     "metadata": {},
     "output_type": "execute_result"
    }
   ],
   "source": [
    "mach_was_mit_text(my_text)"
   ]
  },
  {
   "cell_type": "code",
   "execution_count": null,
   "metadata": {
    "collapsed": true
   },
   "outputs": [],
   "source": []
  },
  {
   "cell_type": "code",
   "execution_count": null,
   "metadata": {
    "collapsed": true
   },
   "outputs": [],
   "source": []
  },
  {
   "cell_type": "markdown",
   "metadata": {},
   "source": [
    "**Eine Funktion, die etwas mit einem Dictionary macht**"
   ]
  },
  {
   "cell_type": "markdown",
   "metadata": {},
   "source": [
    "Zum Beispiel mit diesem hier:"
   ]
  },
  {
   "cell_type": "code",
   "execution_count": 11,
   "metadata": {
    "collapsed": true
   },
   "outputs": [],
   "source": [
    "my_dictionary = {\n",
    "    'Rang': 20,\n",
    "    'Artist': 'Baschi',\n",
    "    'Titel': 'Bring en hei',\n",
    "    'Eintritt': '28.05.2006',\n",
    "    'Wochen': 100,\n",
    "    'Peak': 1,\n",
    "    'Punkte': 5356,\n",
    "    'Link': '/song/Baschi/Bring-en-hei-193080'\n",
    "}"
   ]
  },
  {
   "cell_type": "code",
   "execution_count": 12,
   "metadata": {
    "collapsed": true
   },
   "outputs": [],
   "source": [
    "# Formatiert die Infos nach einem bestimmten Muster\n",
    "def mach_was_mit_dictionary(dic):\n",
    "    \n",
    "    str_out = \"Die Single '\" + dic['Titel'] + \"' von \" + dic['Artist']\n",
    "    str_out += \" ist am \" + dic['Eintritt'] + \" in die Charts eingestiegen. \"\n",
    "    str_out += \"Sie blieb dort \" + str(dic['Wochen']) + \" Wochen und schaffte es auf Platz \" + str(dic['Peak']) + \".\"\n",
    "      \n",
    "    return str_out"
   ]
  },
  {
   "cell_type": "code",
   "execution_count": 13,
   "metadata": {},
   "outputs": [
    {
     "data": {
      "text/plain": [
       "\"Die Single 'Bring en hei' von Baschi ist am 28.05.2006 in die Charts eingestiegen. Sie blieb dort 100 Wochen und schaffte es auf Platz 1.\""
      ]
     },
     "execution_count": 13,
     "metadata": {},
     "output_type": "execute_result"
    }
   ],
   "source": [
    "mach_was_mit_dictionary(my_dictionary)"
   ]
  },
  {
   "cell_type": "code",
   "execution_count": null,
   "metadata": {
    "collapsed": true
   },
   "outputs": [],
   "source": []
  },
  {
   "cell_type": "markdown",
   "metadata": {},
   "source": [
    "## Funktion ausführen 1: List Comprehension"
   ]
  },
  {
   "cell_type": "markdown",
   "metadata": {},
   "source": [
    "Das kennen wir bereits: Wir wollen dieselbe Funktion auf alle Elemente in einer Liste anwenden!"
   ]
  },
  {
   "cell_type": "markdown",
   "metadata": {},
   "source": [
    "Zum Beispiel auf eine von diesen Listen: **Zahlen**"
   ]
  },
  {
   "cell_type": "code",
   "execution_count": 14,
   "metadata": {
    "collapsed": true
   },
   "outputs": [],
   "source": [
    "zahlen = [10, 957, 4.73, 333888, 0.00013]"
   ]
  },
  {
   "cell_type": "code",
   "execution_count": 15,
   "metadata": {},
   "outputs": [
    {
     "data": {
      "text/plain": [
       "['10', '957', '5', '334K', '0']"
      ]
     },
     "execution_count": 15,
     "metadata": {},
     "output_type": "execute_result"
    }
   ],
   "source": [
    "[mach_was_mit_zahl(zahl) for zahl in zahlen]"
   ]
  },
  {
   "cell_type": "markdown",
   "metadata": {},
   "source": [
    "**Wörter:**"
   ]
  },
  {
   "cell_type": "code",
   "execution_count": 16,
   "metadata": {
    "collapsed": true
   },
   "outputs": [],
   "source": [
    "woerter = [\"Meier\", \"Schmidt\", \"orange\", \"Wauwau\", \"Milchstrasse\", \"Schneider-Ammann\"]"
   ]
  },
  {
   "cell_type": "code",
   "execution_count": 17,
   "metadata": {},
   "outputs": [
    {
     "data": {
      "text/plain": [
       "[18611, 2424, 97, 4, 1, 11]"
      ]
     },
     "execution_count": 17,
     "metadata": {},
     "output_type": "execute_result"
    }
   ],
   "source": [
    "[mach_was_mit_wort(wort) for wort in woerter]"
   ]
  },
  {
   "cell_type": "markdown",
   "metadata": {},
   "source": [
    "**Texte:**"
   ]
  },
  {
   "cell_type": "code",
   "execution_count": 18,
   "metadata": {
    "collapsed": true
   },
   "outputs": [],
   "source": [
    "files = [\n",
    "    'Züri West - I schänke dir mis Härz.txt',\n",
    "    'Patent Ochsner - Venus vo Bümpliz.txt',\n",
    "    'DJ Bobo - Chihuahua.txt'\n",
    "]"
   ]
  },
  {
   "cell_type": "code",
   "execution_count": 19,
   "metadata": {
    "collapsed": true
   },
   "outputs": [],
   "source": [
    "texts = [open('dataprojects/Songtexte/' + file, \"r\").read() for file in files]"
   ]
  },
  {
   "cell_type": "code",
   "execution_count": 20,
   "metadata": {},
   "outputs": [
    {
     "data": {
      "text/plain": [
       "'I schänke dir mis Härz\\nMeh han i nid\\nDu chasch es ha, we dä wosch\\nEs isch es guets\\nU es git no mängi, wos würd näh,\\nAber dir würdis gäh\\nD szene isch ä chlini Bar\\nIrgenwo i dere Stadt\\nUnd i bsteue ä Whisky\\nHocke irgendwo ab\\nWos ke Platz u luege so chli ume\\nWär so umänang hocket\\nAber kenne tuä-ni niemer hie inne\\nÜberall hocke Lüt\\nhinger de Schampus-Chüble\\nGeng ä Frou u ne Typ\\nU nippe amne Flûte u hange angenang a\\nu rede öppis über nüt\\nU nume ig bi allei hie\\nu da wächslet ds\\'Liecht\\nHie u da verschwinde wider zwöi irgendwo\\nU irgendeinisch geit hinde\\nÄ dunkublaue Vorhang uuf\\nHinger em Vorhang hets ä Bühni\\nUf dr Bühni steit ä Frou\\nWo i dä Ungerhose irgendsone Show zeigt\\nI luege so chli zue\\nU i hocke so chli da\\nU gspüre plötzlech\\nDass i irgendsone Hang ufem Chnöi ha\\nU dräie mi um\\nU näbe mir hocket eini\\nWoni nie voher ha gseh\\nU fragt, ob ig alleini sig\\nU sie sig ou allei\\nI söu nid überlege\\nI gfaui re no so\\nu si wöu eifach chli rede\\nViellech sött i hie no säge\\nSie gseht schön us\\nSie isch ä schöni mit schöne, länge Haar\\nU klar bin i närvös worde\\nKlar han i drunke\\nU mit jedem Schlunk het sie mi no chli schöner afa dünke\\nU nach jedem Glas Champagner\\nHet sie gäng no eis wöue\\nI ha zaut u zaut\\nBis i eifach nüm ha chönne\\nU ha gseit:\"Hey,\\nWei mer nid zu mir oder so?\"\\nU sie het gseit:\\n\"I chönnt di so verwöhne.\\nSo ire haub Stung chönnti cho -\\nu jitz säg mer eifach numeno wiviu\\nSäg wiviu,\\nWiviu gisch mer, wenn i chume?\"\\nI schänke dir mis Härz meh han i nid\\nDu chasch es ha, we de wosch\\nes isch es guets und es git\\nno mängi, wos würd näh\\nAber dir würd is gä\\n'"
      ]
     },
     "execution_count": 20,
     "metadata": {},
     "output_type": "execute_result"
    }
   ],
   "source": [
    "texts[0]"
   ]
  },
  {
   "cell_type": "code",
   "execution_count": 21,
   "metadata": {},
   "outputs": [
    {
     "data": {
      "text/plain": [
       "[\"Enhält 5 u's und 12 i's.\",\n",
       " \"Enhält 3 u's und 9 i's.\",\n",
       " \"Enhält 0 u's und 2 i's.\"]"
      ]
     },
     "execution_count": 21,
     "metadata": {},
     "output_type": "execute_result"
    }
   ],
   "source": [
    "[mach_was_mit_text(text) for text in texts]"
   ]
  },
  {
   "cell_type": "code",
   "execution_count": null,
   "metadata": {
    "collapsed": true
   },
   "outputs": [],
   "source": []
  },
  {
   "cell_type": "code",
   "execution_count": null,
   "metadata": {
    "collapsed": true
   },
   "outputs": [],
   "source": []
  },
  {
   "cell_type": "markdown",
   "metadata": {},
   "source": [
    "## Funktion ausführen 2: Apply"
   ]
  },
  {
   "cell_type": "markdown",
   "metadata": {},
   "source": [
    "Apply ist ein ähnliches Prinzip wie List Comprehension - aber in Pandas.\n",
    "\n",
    "Um es auszuprobieren, stellen wir uns eine kleine Datenbank der besten alltime-Singles aus der Schweizer Hitparade zusammen und scrapen die Songtexte dazu.\n",
    "\n",
    "Quelle: https://hitparade.ch/charts/best/singles\n",
    "\n",
    "Quelle: https://www.songtexte.com/"
   ]
  },
  {
   "cell_type": "markdown",
   "metadata": {},
   "source": [
    "Das Scrape-File dazu findet sich hier: `dataprojects/Songtexte/scraper.ipynb`\n",
    "\n",
    "Das Daten-File hier: `dataprojects/Songtexte/charts_mit_texten.csv`"
   ]
  },
  {
   "cell_type": "code",
   "execution_count": 22,
   "metadata": {
    "collapsed": true
   },
   "outputs": [],
   "source": [
    "df = pd.read_csv('dataprojects/Songtexte/charts_mit_texten.csv')"
   ]
  },
  {
   "cell_type": "code",
   "execution_count": 23,
   "metadata": {},
   "outputs": [
    {
     "data": {
      "text/html": [
       "<div>\n",
       "<style scoped>\n",
       "    .dataframe tbody tr th:only-of-type {\n",
       "        vertical-align: middle;\n",
       "    }\n",
       "\n",
       "    .dataframe tbody tr th {\n",
       "        vertical-align: top;\n",
       "    }\n",
       "\n",
       "    .dataframe thead th {\n",
       "        text-align: right;\n",
       "    }\n",
       "</style>\n",
       "<table border=\"1\" class=\"dataframe\">\n",
       "  <thead>\n",
       "    <tr style=\"text-align: right;\">\n",
       "      <th></th>\n",
       "      <th>Rang</th>\n",
       "      <th>Artist</th>\n",
       "      <th>Titel</th>\n",
       "      <th>Eintritt</th>\n",
       "      <th>Wochen</th>\n",
       "      <th>Peak</th>\n",
       "      <th>Punkte</th>\n",
       "      <th>Link</th>\n",
       "      <th>Songtext</th>\n",
       "    </tr>\n",
       "  </thead>\n",
       "  <tbody>\n",
       "    <tr>\n",
       "      <th>0</th>\n",
       "      <td>1</td>\n",
       "      <td>DJ Ötzi &amp; Nik P.</td>\n",
       "      <td>Ein Stern (... der deinen Namen trägt)</td>\n",
       "      <td>18.02.2007</td>\n",
       "      <td>118</td>\n",
       "      <td>2</td>\n",
       "      <td>8109</td>\n",
       "      <td>/song/DJ-Oetzi-&amp;-Nik-P./Ein-Stern-(...-der-dei...</td>\n",
       "      <td>Einen Stern, der deinen Namen trägt\\nHoch am H...</td>\n",
       "    </tr>\n",
       "    <tr>\n",
       "      <th>1</th>\n",
       "      <td>2</td>\n",
       "      <td>Ed Sheeran</td>\n",
       "      <td>Shape Of You</td>\n",
       "      <td>15.01.2017</td>\n",
       "      <td>93</td>\n",
       "      <td>1</td>\n",
       "      <td>7196</td>\n",
       "      <td>/song/Ed-Sheeran/Shape-Of-You-1622943</td>\n",
       "      <td>The club isn't the best place to find a lover\\...</td>\n",
       "    </tr>\n",
       "    <tr>\n",
       "      <th>2</th>\n",
       "      <td>3</td>\n",
       "      <td>Luis Fonsi feat. Daddy Yankee</td>\n",
       "      <td>Despacito</td>\n",
       "      <td>22.01.2017</td>\n",
       "      <td>90</td>\n",
       "      <td>1</td>\n",
       "      <td>6854</td>\n",
       "      <td>/song/Luis-Fonsi-feat.-Daddy-Yankee/Despacito-...</td>\n",
       "      <td>Ay\\nFonsi, DY\\nOh, oh no, oh no (ey)\\nHey, yea...</td>\n",
       "    </tr>\n",
       "    <tr>\n",
       "      <th>3</th>\n",
       "      <td>4</td>\n",
       "      <td>DJ Antoine feat. The Beat Shakers</td>\n",
       "      <td>\"Ma chérie\"</td>\n",
       "      <td>06.06.2010</td>\n",
       "      <td>99</td>\n",
       "      <td>2</td>\n",
       "      <td>6745</td>\n",
       "      <td>/song/DJ-Antoine-feat.-The-Beat-Shakers/Ma-che...</td>\n",
       "      <td>When I look into your eyes\\nI see rainbows in ...</td>\n",
       "    </tr>\n",
       "    <tr>\n",
       "      <th>4</th>\n",
       "      <td>5</td>\n",
       "      <td>Adele</td>\n",
       "      <td>Rolling In The Deep</td>\n",
       "      <td>30.01.2011</td>\n",
       "      <td>93</td>\n",
       "      <td>1</td>\n",
       "      <td>6588</td>\n",
       "      <td>/song/Adele/Rolling-In-The-Deep-767937</td>\n",
       "      <td>There's a fire starting in my heart\\nReaching ...</td>\n",
       "    </tr>\n",
       "  </tbody>\n",
       "</table>\n",
       "</div>"
      ],
      "text/plain": [
       "   Rang                             Artist  \\\n",
       "0     1                   DJ Ötzi & Nik P.   \n",
       "1     2                         Ed Sheeran   \n",
       "2     3      Luis Fonsi feat. Daddy Yankee   \n",
       "3     4  DJ Antoine feat. The Beat Shakers   \n",
       "4     5                              Adele   \n",
       "\n",
       "                                    Titel    Eintritt  Wochen  Peak  Punkte  \\\n",
       "0  Ein Stern (... der deinen Namen trägt)  18.02.2007     118     2    8109   \n",
       "1                            Shape Of You  15.01.2017      93     1    7196   \n",
       "2                               Despacito  22.01.2017      90     1    6854   \n",
       "3                             \"Ma chérie\"  06.06.2010      99     2    6745   \n",
       "4                     Rolling In The Deep  30.01.2011      93     1    6588   \n",
       "\n",
       "                                                Link  \\\n",
       "0  /song/DJ-Oetzi-&-Nik-P./Ein-Stern-(...-der-dei...   \n",
       "1              /song/Ed-Sheeran/Shape-Of-You-1622943   \n",
       "2  /song/Luis-Fonsi-feat.-Daddy-Yankee/Despacito-...   \n",
       "3  /song/DJ-Antoine-feat.-The-Beat-Shakers/Ma-che...   \n",
       "4             /song/Adele/Rolling-In-The-Deep-767937   \n",
       "\n",
       "                                            Songtext  \n",
       "0  Einen Stern, der deinen Namen trägt\\nHoch am H...  \n",
       "1  The club isn't the best place to find a lover\\...  \n",
       "2  Ay\\nFonsi, DY\\nOh, oh no, oh no (ey)\\nHey, yea...  \n",
       "3  When I look into your eyes\\nI see rainbows in ...  \n",
       "4  There's a fire starting in my heart\\nReaching ...  "
      ]
     },
     "execution_count": 23,
     "metadata": {},
     "output_type": "execute_result"
    }
   ],
   "source": [
    "df.head()"
   ]
  },
  {
   "cell_type": "markdown",
   "metadata": {},
   "source": [
    "### Apply mit einzelnen Einträgen"
   ]
  },
  {
   "cell_type": "markdown",
   "metadata": {},
   "source": [
    "Wir probieren jetz an diesem Datenset unsere obigen Funktionen aus.\n",
    "\n",
    "Das Prinzip: Wir nehmen eine Spalte, und wenden auf jeden einzelnen Eitrag darin eine Funktion an.\n",
    "\n",
    "Zum Beispiel auf alle Einträge in der Spalte \"Punkte\":"
   ]
  },
  {
   "cell_type": "code",
   "execution_count": 24,
   "metadata": {},
   "outputs": [
    {
     "data": {
      "text/plain": [
       "0     8K\n",
       "1     7K\n",
       "2     7K\n",
       "3     7K\n",
       "4     7K\n",
       "5     7K\n",
       "6     6K\n",
       "7     6K\n",
       "8     6K\n",
       "9     6K\n",
       "10    6K\n",
       "11    6K\n",
       "12    6K\n",
       "13    6K\n",
       "14    6K\n",
       "15    6K\n",
       "16    6K\n",
       "17    5K\n",
       "18    5K\n",
       "19    5K\n",
       "20    5K\n",
       "21    5K\n",
       "22    5K\n",
       "23    5K\n",
       "24    5K\n",
       "25    5K\n",
       "26    5K\n",
       "27    5K\n",
       "28    5K\n",
       "29    5K\n",
       "      ..\n",
       "70    4K\n",
       "71    4K\n",
       "72    4K\n",
       "73    4K\n",
       "74    4K\n",
       "75    4K\n",
       "76    4K\n",
       "77    4K\n",
       "78    4K\n",
       "79    4K\n",
       "80    4K\n",
       "81    4K\n",
       "82    4K\n",
       "83    4K\n",
       "84    4K\n",
       "85    4K\n",
       "86    4K\n",
       "87    4K\n",
       "88    4K\n",
       "89    4K\n",
       "90    4K\n",
       "91    4K\n",
       "92    4K\n",
       "93    4K\n",
       "94    4K\n",
       "95    4K\n",
       "96    4K\n",
       "97    4K\n",
       "98    4K\n",
       "99    4K\n",
       "Name: Punkte, Length: 100, dtype: object"
      ]
     },
     "execution_count": 24,
     "metadata": {},
     "output_type": "execute_result"
    }
   ],
   "source": [
    "df['Punkte'].apply(mach_was_mit_zahl)"
   ]
  },
  {
   "cell_type": "markdown",
   "metadata": {},
   "source": [
    "Warum funktioniert das hier nicht?"
   ]
  },
  {
   "cell_type": "code",
   "execution_count": 25,
   "metadata": {},
   "outputs": [
    {
     "ename": "ValueError",
     "evalue": "The truth value of a Series is ambiguous. Use a.empty, a.bool(), a.item(), a.any() or a.all().",
     "output_type": "error",
     "traceback": [
      "\u001b[0;31m---------------------------------------------------------------------------\u001b[0m",
      "\u001b[0;31mValueError\u001b[0m                                Traceback (most recent call last)",
      "\u001b[0;32m<ipython-input-25-447570c762bf>\u001b[0m in \u001b[0;36m<module>\u001b[0;34m()\u001b[0m\n\u001b[0;32m----> 1\u001b[0;31m \u001b[0mmach_was_mit_zahl\u001b[0m\u001b[0;34m(\u001b[0m\u001b[0mdf\u001b[0m\u001b[0;34m[\u001b[0m\u001b[0;34m'Punkte'\u001b[0m\u001b[0;34m]\u001b[0m\u001b[0;34m)\u001b[0m\u001b[0;34m\u001b[0m\u001b[0m\n\u001b[0m",
      "\u001b[0;32m<ipython-input-4-3728814a19b9>\u001b[0m in \u001b[0;36mmach_was_mit_zahl\u001b[0;34m(zahl)\u001b[0m\n\u001b[1;32m      2\u001b[0m \u001b[0;32mdef\u001b[0m \u001b[0mmach_was_mit_zahl\u001b[0m\u001b[0;34m(\u001b[0m\u001b[0mzahl\u001b[0m\u001b[0;34m)\u001b[0m\u001b[0;34m:\u001b[0m\u001b[0;34m\u001b[0m\u001b[0m\n\u001b[1;32m      3\u001b[0m \u001b[0;34m\u001b[0m\u001b[0m\n\u001b[0;32m----> 4\u001b[0;31m     \u001b[0;32mif\u001b[0m \u001b[0mzahl\u001b[0m \u001b[0;34m<\u001b[0m \u001b[0;36m1000\u001b[0m\u001b[0;34m:\u001b[0m\u001b[0;34m\u001b[0m\u001b[0m\n\u001b[0m\u001b[1;32m      5\u001b[0m         \u001b[0mzahl_formatted\u001b[0m \u001b[0;34m=\u001b[0m \u001b[0mstr\u001b[0m\u001b[0;34m(\u001b[0m\u001b[0mround\u001b[0m\u001b[0;34m(\u001b[0m\u001b[0mzahl\u001b[0m\u001b[0;34m)\u001b[0m\u001b[0;34m)\u001b[0m\u001b[0;34m\u001b[0m\u001b[0m\n\u001b[1;32m      6\u001b[0m     \u001b[0;32melif\u001b[0m \u001b[0mzahl\u001b[0m \u001b[0;34m<\u001b[0m \u001b[0;36m1000000\u001b[0m\u001b[0;34m:\u001b[0m\u001b[0;34m\u001b[0m\u001b[0m\n",
      "\u001b[0;32m/usr/local/lib/python3.6/site-packages/pandas/core/generic.py\u001b[0m in \u001b[0;36m__nonzero__\u001b[0;34m(self)\u001b[0m\n\u001b[1;32m   1574\u001b[0m         raise ValueError(\"The truth value of a {0} is ambiguous. \"\n\u001b[1;32m   1575\u001b[0m                          \u001b[0;34m\"Use a.empty, a.bool(), a.item(), a.any() or a.all().\"\u001b[0m\u001b[0;34m\u001b[0m\u001b[0m\n\u001b[0;32m-> 1576\u001b[0;31m                          .format(self.__class__.__name__))\n\u001b[0m\u001b[1;32m   1577\u001b[0m \u001b[0;34m\u001b[0m\u001b[0m\n\u001b[1;32m   1578\u001b[0m     \u001b[0m__bool__\u001b[0m \u001b[0;34m=\u001b[0m \u001b[0m__nonzero__\u001b[0m\u001b[0;34m\u001b[0m\u001b[0m\n",
      "\u001b[0;31mValueError\u001b[0m: The truth value of a Series is ambiguous. Use a.empty, a.bool(), a.item(), a.any() or a.all()."
     ]
    }
   ],
   "source": [
    "mach_was_mit_zahl(df['Punkte'])"
   ]
  },
  {
   "cell_type": "markdown",
   "metadata": {},
   "source": [
    "Wenn die Funktion `apply()` auf eine Serie angewendet wird, generiert sie - eine Serie. Wir können diese Serie als Spalte an die Tabelle anfügen.\n",
    "\n",
    "Zum Beispiel mit unserer Zahlen-Funktion:"
   ]
  },
  {
   "cell_type": "code",
   "execution_count": 26,
   "metadata": {
    "collapsed": true
   },
   "outputs": [],
   "source": [
    "df['Punkte_Formatiert'] = df['Punkte'].apply(mach_was_mit_zahl)"
   ]
  },
  {
   "cell_type": "code",
   "execution_count": 27,
   "metadata": {},
   "outputs": [
    {
     "data": {
      "text/html": [
       "<div>\n",
       "<style scoped>\n",
       "    .dataframe tbody tr th:only-of-type {\n",
       "        vertical-align: middle;\n",
       "    }\n",
       "\n",
       "    .dataframe tbody tr th {\n",
       "        vertical-align: top;\n",
       "    }\n",
       "\n",
       "    .dataframe thead th {\n",
       "        text-align: right;\n",
       "    }\n",
       "</style>\n",
       "<table border=\"1\" class=\"dataframe\">\n",
       "  <thead>\n",
       "    <tr style=\"text-align: right;\">\n",
       "      <th></th>\n",
       "      <th>Rang</th>\n",
       "      <th>Artist</th>\n",
       "      <th>Titel</th>\n",
       "      <th>Eintritt</th>\n",
       "      <th>Wochen</th>\n",
       "      <th>Peak</th>\n",
       "      <th>Punkte</th>\n",
       "      <th>Link</th>\n",
       "      <th>Songtext</th>\n",
       "      <th>Punkte_Formatiert</th>\n",
       "    </tr>\n",
       "  </thead>\n",
       "  <tbody>\n",
       "    <tr>\n",
       "      <th>0</th>\n",
       "      <td>1</td>\n",
       "      <td>DJ Ötzi &amp; Nik P.</td>\n",
       "      <td>Ein Stern (... der deinen Namen trägt)</td>\n",
       "      <td>18.02.2007</td>\n",
       "      <td>118</td>\n",
       "      <td>2</td>\n",
       "      <td>8109</td>\n",
       "      <td>/song/DJ-Oetzi-&amp;-Nik-P./Ein-Stern-(...-der-dei...</td>\n",
       "      <td>Einen Stern, der deinen Namen trägt\\nHoch am H...</td>\n",
       "      <td>8K</td>\n",
       "    </tr>\n",
       "    <tr>\n",
       "      <th>1</th>\n",
       "      <td>2</td>\n",
       "      <td>Ed Sheeran</td>\n",
       "      <td>Shape Of You</td>\n",
       "      <td>15.01.2017</td>\n",
       "      <td>93</td>\n",
       "      <td>1</td>\n",
       "      <td>7196</td>\n",
       "      <td>/song/Ed-Sheeran/Shape-Of-You-1622943</td>\n",
       "      <td>The club isn't the best place to find a lover\\...</td>\n",
       "      <td>7K</td>\n",
       "    </tr>\n",
       "    <tr>\n",
       "      <th>2</th>\n",
       "      <td>3</td>\n",
       "      <td>Luis Fonsi feat. Daddy Yankee</td>\n",
       "      <td>Despacito</td>\n",
       "      <td>22.01.2017</td>\n",
       "      <td>90</td>\n",
       "      <td>1</td>\n",
       "      <td>6854</td>\n",
       "      <td>/song/Luis-Fonsi-feat.-Daddy-Yankee/Despacito-...</td>\n",
       "      <td>Ay\\nFonsi, DY\\nOh, oh no, oh no (ey)\\nHey, yea...</td>\n",
       "      <td>7K</td>\n",
       "    </tr>\n",
       "    <tr>\n",
       "      <th>3</th>\n",
       "      <td>4</td>\n",
       "      <td>DJ Antoine feat. The Beat Shakers</td>\n",
       "      <td>\"Ma chérie\"</td>\n",
       "      <td>06.06.2010</td>\n",
       "      <td>99</td>\n",
       "      <td>2</td>\n",
       "      <td>6745</td>\n",
       "      <td>/song/DJ-Antoine-feat.-The-Beat-Shakers/Ma-che...</td>\n",
       "      <td>When I look into your eyes\\nI see rainbows in ...</td>\n",
       "      <td>7K</td>\n",
       "    </tr>\n",
       "    <tr>\n",
       "      <th>4</th>\n",
       "      <td>5</td>\n",
       "      <td>Adele</td>\n",
       "      <td>Rolling In The Deep</td>\n",
       "      <td>30.01.2011</td>\n",
       "      <td>93</td>\n",
       "      <td>1</td>\n",
       "      <td>6588</td>\n",
       "      <td>/song/Adele/Rolling-In-The-Deep-767937</td>\n",
       "      <td>There's a fire starting in my heart\\nReaching ...</td>\n",
       "      <td>7K</td>\n",
       "    </tr>\n",
       "  </tbody>\n",
       "</table>\n",
       "</div>"
      ],
      "text/plain": [
       "   Rang                             Artist  \\\n",
       "0     1                   DJ Ötzi & Nik P.   \n",
       "1     2                         Ed Sheeran   \n",
       "2     3      Luis Fonsi feat. Daddy Yankee   \n",
       "3     4  DJ Antoine feat. The Beat Shakers   \n",
       "4     5                              Adele   \n",
       "\n",
       "                                    Titel    Eintritt  Wochen  Peak  Punkte  \\\n",
       "0  Ein Stern (... der deinen Namen trägt)  18.02.2007     118     2    8109   \n",
       "1                            Shape Of You  15.01.2017      93     1    7196   \n",
       "2                               Despacito  22.01.2017      90     1    6854   \n",
       "3                             \"Ma chérie\"  06.06.2010      99     2    6745   \n",
       "4                     Rolling In The Deep  30.01.2011      93     1    6588   \n",
       "\n",
       "                                                Link  \\\n",
       "0  /song/DJ-Oetzi-&-Nik-P./Ein-Stern-(...-der-dei...   \n",
       "1              /song/Ed-Sheeran/Shape-Of-You-1622943   \n",
       "2  /song/Luis-Fonsi-feat.-Daddy-Yankee/Despacito-...   \n",
       "3  /song/DJ-Antoine-feat.-The-Beat-Shakers/Ma-che...   \n",
       "4             /song/Adele/Rolling-In-The-Deep-767937   \n",
       "\n",
       "                                            Songtext Punkte_Formatiert  \n",
       "0  Einen Stern, der deinen Namen trägt\\nHoch am H...                8K  \n",
       "1  The club isn't the best place to find a lover\\...                7K  \n",
       "2  Ay\\nFonsi, DY\\nOh, oh no, oh no (ey)\\nHey, yea...                7K  \n",
       "3  When I look into your eyes\\nI see rainbows in ...                7K  \n",
       "4  There's a fire starting in my heart\\nReaching ...                7K  "
      ]
     },
     "execution_count": 27,
     "metadata": {},
     "output_type": "execute_result"
    }
   ],
   "source": [
    "df.head()"
   ]
  },
  {
   "cell_type": "markdown",
   "metadata": {},
   "source": [
    "Oder mit der Wort-Funktion:"
   ]
  },
  {
   "cell_type": "code",
   "execution_count": 28,
   "metadata": {
    "collapsed": true
   },
   "outputs": [],
   "source": [
    "#Testen Sie hier Ihre Wort-Funktion\n",
    "df['Anzahl Telefonbucheinträge'] = df['Artist'].apply(mach_was_mit_wort)"
   ]
  },
  {
   "cell_type": "code",
   "execution_count": 29,
   "metadata": {},
   "outputs": [
    {
     "data": {
      "text/html": [
       "<div>\n",
       "<style scoped>\n",
       "    .dataframe tbody tr th:only-of-type {\n",
       "        vertical-align: middle;\n",
       "    }\n",
       "\n",
       "    .dataframe tbody tr th {\n",
       "        vertical-align: top;\n",
       "    }\n",
       "\n",
       "    .dataframe thead th {\n",
       "        text-align: right;\n",
       "    }\n",
       "</style>\n",
       "<table border=\"1\" class=\"dataframe\">\n",
       "  <thead>\n",
       "    <tr style=\"text-align: right;\">\n",
       "      <th></th>\n",
       "      <th>Rang</th>\n",
       "      <th>Artist</th>\n",
       "      <th>Titel</th>\n",
       "      <th>Eintritt</th>\n",
       "      <th>Wochen</th>\n",
       "      <th>Peak</th>\n",
       "      <th>Punkte</th>\n",
       "      <th>Link</th>\n",
       "      <th>Songtext</th>\n",
       "      <th>Punkte_Formatiert</th>\n",
       "      <th>Anzahl Telefonbucheinträge</th>\n",
       "    </tr>\n",
       "  </thead>\n",
       "  <tbody>\n",
       "    <tr>\n",
       "      <th>35</th>\n",
       "      <td>36</td>\n",
       "      <td>Sia</td>\n",
       "      <td>Chandelier</td>\n",
       "      <td>25.05.2014</td>\n",
       "      <td>63</td>\n",
       "      <td>2</td>\n",
       "      <td>4683</td>\n",
       "      <td>/song/Sia/Chandelier-1264547</td>\n",
       "      <td>Party girls don't get hurt, can't feel anythin...</td>\n",
       "      <td>5K</td>\n",
       "      <td>5531</td>\n",
       "    </tr>\n",
       "    <tr>\n",
       "      <th>45</th>\n",
       "      <td>46</td>\n",
       "      <td>Sia</td>\n",
       "      <td>Cheap Thrills</td>\n",
       "      <td>27.12.2015</td>\n",
       "      <td>62</td>\n",
       "      <td>2</td>\n",
       "      <td>4569</td>\n",
       "      <td>/song/Sia/Cheap-Thrills-1505888</td>\n",
       "      <td>Come on, come on, turn the radio on\\nIt's Frid...</td>\n",
       "      <td>5K</td>\n",
       "      <td>5531</td>\n",
       "    </tr>\n",
       "    <tr>\n",
       "      <th>19</th>\n",
       "      <td>20</td>\n",
       "      <td>Baschi</td>\n",
       "      <td>Bring en hei</td>\n",
       "      <td>28.05.2006</td>\n",
       "      <td>100</td>\n",
       "      <td>1</td>\n",
       "      <td>5356</td>\n",
       "      <td>/song/Baschi/Bring-en-hei-193080</td>\n",
       "      <td>Chum bring en hei, chum bring en\\nChum bring e...</td>\n",
       "      <td>5K</td>\n",
       "      <td>886</td>\n",
       "    </tr>\n",
       "    <tr>\n",
       "      <th>14</th>\n",
       "      <td>15</td>\n",
       "      <td>Adele</td>\n",
       "      <td>Someone Like You</td>\n",
       "      <td>05.06.2011</td>\n",
       "      <td>95</td>\n",
       "      <td>1</td>\n",
       "      <td>5627</td>\n",
       "      <td>/song/Adele/Someone-Like-You-792468</td>\n",
       "      <td>I heard that you're settled down\\nThat you fou...</td>\n",
       "      <td>6K</td>\n",
       "      <td>397</td>\n",
       "    </tr>\n",
       "    <tr>\n",
       "      <th>73</th>\n",
       "      <td>74</td>\n",
       "      <td>Adele</td>\n",
       "      <td>Set Fire To The Rain</td>\n",
       "      <td>13.02.2011</td>\n",
       "      <td>57</td>\n",
       "      <td>4</td>\n",
       "      <td>4152</td>\n",
       "      <td>/song/Adele/Set-Fire-To-The-Rain-792463</td>\n",
       "      <td>I set fire...\\nFire, fire, fire...\\nLet it bur...</td>\n",
       "      <td>4K</td>\n",
       "      <td>397</td>\n",
       "    </tr>\n",
       "    <tr>\n",
       "      <th>4</th>\n",
       "      <td>5</td>\n",
       "      <td>Adele</td>\n",
       "      <td>Rolling In The Deep</td>\n",
       "      <td>30.01.2011</td>\n",
       "      <td>93</td>\n",
       "      <td>1</td>\n",
       "      <td>6588</td>\n",
       "      <td>/song/Adele/Rolling-In-The-Deep-767937</td>\n",
       "      <td>There's a fire starting in my heart\\nReaching ...</td>\n",
       "      <td>7K</td>\n",
       "      <td>397</td>\n",
       "    </tr>\n",
       "    <tr>\n",
       "      <th>26</th>\n",
       "      <td>27</td>\n",
       "      <td>Mika</td>\n",
       "      <td>Relax (Take It Easy)</td>\n",
       "      <td>04.03.2007</td>\n",
       "      <td>75</td>\n",
       "      <td>2</td>\n",
       "      <td>4969</td>\n",
       "      <td>/song/Mika/Relax-(Take-It-Easy)-267008</td>\n",
       "      <td>Took a ride to the end of the line\\nWhere no o...</td>\n",
       "      <td>5K</td>\n",
       "      <td>323</td>\n",
       "    </tr>\n",
       "    <tr>\n",
       "      <th>49</th>\n",
       "      <td>50</td>\n",
       "      <td>K-Maro</td>\n",
       "      <td>Femme Like U (Donne-moi ton corps)</td>\n",
       "      <td>04.07.2004</td>\n",
       "      <td>59</td>\n",
       "      <td>1</td>\n",
       "      <td>4521</td>\n",
       "      <td>/song/K-Maro/Femme-Like-U-(Donne-moi-ton-corps...</td>\n",
       "      <td>NaN</td>\n",
       "      <td>5K</td>\n",
       "      <td>175</td>\n",
       "    </tr>\n",
       "    <tr>\n",
       "      <th>60</th>\n",
       "      <td>61</td>\n",
       "      <td>Omi</td>\n",
       "      <td>Cheerleader (Felix Jaehn Remix)</td>\n",
       "      <td>08.02.2015</td>\n",
       "      <td>54</td>\n",
       "      <td>1</td>\n",
       "      <td>4307</td>\n",
       "      <td>/song/Omi/Cheerleader-(Felix-Jaehn-Remix)-1347101</td>\n",
       "      <td>When I need motivation\\nMy one solution is my ...</td>\n",
       "      <td>4K</td>\n",
       "      <td>95</td>\n",
       "    </tr>\n",
       "    <tr>\n",
       "      <th>44</th>\n",
       "      <td>45</td>\n",
       "      <td>Alizée</td>\n",
       "      <td>Moi... Lolita</td>\n",
       "      <td>06.08.2000</td>\n",
       "      <td>73</td>\n",
       "      <td>11</td>\n",
       "      <td>4574</td>\n",
       "      <td>/song/Alizee/Moi...-Lolita-4377</td>\n",
       "      <td>Moi je m'appelle Lolita\\nLo ou bien Lola\\nDu p...</td>\n",
       "      <td>5K</td>\n",
       "      <td>54</td>\n",
       "    </tr>\n",
       "  </tbody>\n",
       "</table>\n",
       "</div>"
      ],
      "text/plain": [
       "    Rang  Artist                               Titel    Eintritt  Wochen  \\\n",
       "35    36     Sia                          Chandelier  25.05.2014      63   \n",
       "45    46     Sia                       Cheap Thrills  27.12.2015      62   \n",
       "19    20  Baschi                        Bring en hei  28.05.2006     100   \n",
       "14    15   Adele                    Someone Like You  05.06.2011      95   \n",
       "73    74   Adele                Set Fire To The Rain  13.02.2011      57   \n",
       "4      5   Adele                 Rolling In The Deep  30.01.2011      93   \n",
       "26    27    Mika                Relax (Take It Easy)  04.03.2007      75   \n",
       "49    50  K-Maro  Femme Like U (Donne-moi ton corps)  04.07.2004      59   \n",
       "60    61     Omi     Cheerleader (Felix Jaehn Remix)  08.02.2015      54   \n",
       "44    45  Alizée                       Moi... Lolita  06.08.2000      73   \n",
       "\n",
       "    Peak  Punkte                                               Link  \\\n",
       "35     2    4683                       /song/Sia/Chandelier-1264547   \n",
       "45     2    4569                    /song/Sia/Cheap-Thrills-1505888   \n",
       "19     1    5356                   /song/Baschi/Bring-en-hei-193080   \n",
       "14     1    5627                /song/Adele/Someone-Like-You-792468   \n",
       "73     4    4152            /song/Adele/Set-Fire-To-The-Rain-792463   \n",
       "4      1    6588             /song/Adele/Rolling-In-The-Deep-767937   \n",
       "26     2    4969             /song/Mika/Relax-(Take-It-Easy)-267008   \n",
       "49     1    4521  /song/K-Maro/Femme-Like-U-(Donne-moi-ton-corps...   \n",
       "60     1    4307  /song/Omi/Cheerleader-(Felix-Jaehn-Remix)-1347101   \n",
       "44    11    4574                    /song/Alizee/Moi...-Lolita-4377   \n",
       "\n",
       "                                             Songtext Punkte_Formatiert  \\\n",
       "35  Party girls don't get hurt, can't feel anythin...                5K   \n",
       "45  Come on, come on, turn the radio on\\nIt's Frid...                5K   \n",
       "19  Chum bring en hei, chum bring en\\nChum bring e...                5K   \n",
       "14  I heard that you're settled down\\nThat you fou...                6K   \n",
       "73  I set fire...\\nFire, fire, fire...\\nLet it bur...                4K   \n",
       "4   There's a fire starting in my heart\\nReaching ...                7K   \n",
       "26  Took a ride to the end of the line\\nWhere no o...                5K   \n",
       "49                                                NaN                5K   \n",
       "60  When I need motivation\\nMy one solution is my ...                4K   \n",
       "44  Moi je m'appelle Lolita\\nLo ou bien Lola\\nDu p...                5K   \n",
       "\n",
       "    Anzahl Telefonbucheinträge  \n",
       "35                        5531  \n",
       "45                        5531  \n",
       "19                         886  \n",
       "14                         397  \n",
       "73                         397  \n",
       "4                          397  \n",
       "26                         323  \n",
       "49                         175  \n",
       "60                          95  \n",
       "44                          54  "
      ]
     },
     "execution_count": 29,
     "metadata": {},
     "output_type": "execute_result"
    }
   ],
   "source": [
    "df.sort_values('Anzahl Telefonbucheinträge', ascending=False).head(10)"
   ]
  },
  {
   "cell_type": "markdown",
   "metadata": {},
   "source": [
    "Oder mit der Text-Funktion:"
   ]
  },
  {
   "cell_type": "code",
   "execution_count": 33,
   "metadata": {
    "collapsed": true
   },
   "outputs": [],
   "source": [
    "#Testen Sie hier Ihre Text-Funktion\n",
    "df['Textanalyse'] = df['Songtext'].astype(str).apply(mach_was_mit_text)"
   ]
  },
  {
   "cell_type": "code",
   "execution_count": 34,
   "metadata": {},
   "outputs": [
    {
     "data": {
      "text/html": [
       "<div>\n",
       "<style scoped>\n",
       "    .dataframe tbody tr th:only-of-type {\n",
       "        vertical-align: middle;\n",
       "    }\n",
       "\n",
       "    .dataframe tbody tr th {\n",
       "        vertical-align: top;\n",
       "    }\n",
       "\n",
       "    .dataframe thead th {\n",
       "        text-align: right;\n",
       "    }\n",
       "</style>\n",
       "<table border=\"1\" class=\"dataframe\">\n",
       "  <thead>\n",
       "    <tr style=\"text-align: right;\">\n",
       "      <th></th>\n",
       "      <th>Rang</th>\n",
       "      <th>Artist</th>\n",
       "      <th>Titel</th>\n",
       "      <th>Eintritt</th>\n",
       "      <th>Wochen</th>\n",
       "      <th>Peak</th>\n",
       "      <th>Punkte</th>\n",
       "      <th>Link</th>\n",
       "      <th>Songtext</th>\n",
       "      <th>Punkte_Formatiert</th>\n",
       "      <th>Anzahl Telefonbucheinträge</th>\n",
       "      <th>Textanalyse</th>\n",
       "    </tr>\n",
       "  </thead>\n",
       "  <tbody>\n",
       "    <tr>\n",
       "      <th>0</th>\n",
       "      <td>1</td>\n",
       "      <td>DJ Ötzi &amp; Nik P.</td>\n",
       "      <td>Ein Stern (... der deinen Namen trägt)</td>\n",
       "      <td>18.02.2007</td>\n",
       "      <td>118</td>\n",
       "      <td>2</td>\n",
       "      <td>8109</td>\n",
       "      <td>/song/DJ-Oetzi-&amp;-Nik-P./Ein-Stern-(...-der-dei...</td>\n",
       "      <td>Einen Stern, der deinen Namen trägt\\nHoch am H...</td>\n",
       "      <td>8K</td>\n",
       "      <td>0</td>\n",
       "      <td>Enhält 0 u's und 0 i's.</td>\n",
       "    </tr>\n",
       "    <tr>\n",
       "      <th>1</th>\n",
       "      <td>2</td>\n",
       "      <td>Ed Sheeran</td>\n",
       "      <td>Shape Of You</td>\n",
       "      <td>15.01.2017</td>\n",
       "      <td>93</td>\n",
       "      <td>1</td>\n",
       "      <td>7196</td>\n",
       "      <td>/song/Ed-Sheeran/Shape-Of-You-1622943</td>\n",
       "      <td>The club isn't the best place to find a lover\\...</td>\n",
       "      <td>7K</td>\n",
       "      <td>0</td>\n",
       "      <td>Enhält 0 u's und 2 i's.</td>\n",
       "    </tr>\n",
       "    <tr>\n",
       "      <th>2</th>\n",
       "      <td>3</td>\n",
       "      <td>Luis Fonsi feat. Daddy Yankee</td>\n",
       "      <td>Despacito</td>\n",
       "      <td>22.01.2017</td>\n",
       "      <td>90</td>\n",
       "      <td>1</td>\n",
       "      <td>6854</td>\n",
       "      <td>/song/Luis-Fonsi-feat.-Daddy-Yankee/Despacito-...</td>\n",
       "      <td>Ay\\nFonsi, DY\\nOh, oh no, oh no (ey)\\nHey, yea...</td>\n",
       "      <td>7K</td>\n",
       "      <td>0</td>\n",
       "      <td>Enhält 0 u's und 0 i's.</td>\n",
       "    </tr>\n",
       "    <tr>\n",
       "      <th>3</th>\n",
       "      <td>4</td>\n",
       "      <td>DJ Antoine feat. The Beat Shakers</td>\n",
       "      <td>\"Ma chérie\"</td>\n",
       "      <td>06.06.2010</td>\n",
       "      <td>99</td>\n",
       "      <td>2</td>\n",
       "      <td>6745</td>\n",
       "      <td>/song/DJ-Antoine-feat.-The-Beat-Shakers/Ma-che...</td>\n",
       "      <td>When I look into your eyes\\nI see rainbows in ...</td>\n",
       "      <td>7K</td>\n",
       "      <td>0</td>\n",
       "      <td>Enhält 0 u's und 5 i's.</td>\n",
       "    </tr>\n",
       "    <tr>\n",
       "      <th>4</th>\n",
       "      <td>5</td>\n",
       "      <td>Adele</td>\n",
       "      <td>Rolling In The Deep</td>\n",
       "      <td>30.01.2011</td>\n",
       "      <td>93</td>\n",
       "      <td>1</td>\n",
       "      <td>6588</td>\n",
       "      <td>/song/Adele/Rolling-In-The-Deep-767937</td>\n",
       "      <td>There's a fire starting in my heart\\nReaching ...</td>\n",
       "      <td>7K</td>\n",
       "      <td>397</td>\n",
       "      <td>Enhält 0 u's und 3 i's.</td>\n",
       "    </tr>\n",
       "  </tbody>\n",
       "</table>\n",
       "</div>"
      ],
      "text/plain": [
       "   Rang                             Artist  \\\n",
       "0     1                   DJ Ötzi & Nik P.   \n",
       "1     2                         Ed Sheeran   \n",
       "2     3      Luis Fonsi feat. Daddy Yankee   \n",
       "3     4  DJ Antoine feat. The Beat Shakers   \n",
       "4     5                              Adele   \n",
       "\n",
       "                                    Titel    Eintritt  Wochen  Peak  Punkte  \\\n",
       "0  Ein Stern (... der deinen Namen trägt)  18.02.2007     118     2    8109   \n",
       "1                            Shape Of You  15.01.2017      93     1    7196   \n",
       "2                               Despacito  22.01.2017      90     1    6854   \n",
       "3                             \"Ma chérie\"  06.06.2010      99     2    6745   \n",
       "4                     Rolling In The Deep  30.01.2011      93     1    6588   \n",
       "\n",
       "                                                Link  \\\n",
       "0  /song/DJ-Oetzi-&-Nik-P./Ein-Stern-(...-der-dei...   \n",
       "1              /song/Ed-Sheeran/Shape-Of-You-1622943   \n",
       "2  /song/Luis-Fonsi-feat.-Daddy-Yankee/Despacito-...   \n",
       "3  /song/DJ-Antoine-feat.-The-Beat-Shakers/Ma-che...   \n",
       "4             /song/Adele/Rolling-In-The-Deep-767937   \n",
       "\n",
       "                                            Songtext Punkte_Formatiert  \\\n",
       "0  Einen Stern, der deinen Namen trägt\\nHoch am H...                8K   \n",
       "1  The club isn't the best place to find a lover\\...                7K   \n",
       "2  Ay\\nFonsi, DY\\nOh, oh no, oh no (ey)\\nHey, yea...                7K   \n",
       "3  When I look into your eyes\\nI see rainbows in ...                7K   \n",
       "4  There's a fire starting in my heart\\nReaching ...                7K   \n",
       "\n",
       "   Anzahl Telefonbucheinträge              Textanalyse  \n",
       "0                           0  Enhält 0 u's und 0 i's.  \n",
       "1                           0  Enhält 0 u's und 2 i's.  \n",
       "2                           0  Enhält 0 u's und 0 i's.  \n",
       "3                           0  Enhält 0 u's und 5 i's.  \n",
       "4                         397  Enhält 0 u's und 3 i's.  "
      ]
     },
     "execution_count": 34,
     "metadata": {},
     "output_type": "execute_result"
    }
   ],
   "source": [
    "df.head()"
   ]
  },
  {
   "cell_type": "code",
   "execution_count": null,
   "metadata": {
    "collapsed": true
   },
   "outputs": [],
   "source": []
  },
  {
   "cell_type": "code",
   "execution_count": null,
   "metadata": {
    "collapsed": true
   },
   "outputs": [],
   "source": []
  },
  {
   "cell_type": "code",
   "execution_count": null,
   "metadata": {
    "collapsed": true
   },
   "outputs": [],
   "source": []
  },
  {
   "cell_type": "markdown",
   "metadata": {},
   "source": [
    "### Apply mit ganzen Zeilen"
   ]
  },
  {
   "cell_type": "markdown",
   "metadata": {},
   "source": [
    "Apply funktioniert nicht nur mit einzelnen Spalten und deren Einträgen, sondern auch mit mehreren Spalten und deren Einträgen auf einmal."
   ]
  },
  {
   "cell_type": "code",
   "execution_count": 36,
   "metadata": {
    "collapsed": true
   },
   "outputs": [],
   "source": [
    "pd.set_option(\"display.max_colwidth\", 200)"
   ]
  },
  {
   "cell_type": "code",
   "execution_count": 37,
   "metadata": {},
   "outputs": [
    {
     "data": {
      "text/plain": [
       "0                     Die Single 'Ein Stern (... der deinen Namen trägt)' von DJ Ötzi & Nik P. ist am 18.02.2007 in die Charts eingestiegen. Sie blieb dort 118 Wochen und schaffte es auf Platz 2.\n",
       "1                                                      Die Single 'Shape Of You' von Ed Sheeran ist am 15.01.2017 in die Charts eingestiegen. Sie blieb dort 93 Wochen und schaffte es auf Platz 1.\n",
       "2                                      Die Single 'Despacito' von Luis Fonsi feat. Daddy Yankee ist am 22.01.2017 in die Charts eingestiegen. Sie blieb dort 90 Wochen und schaffte es auf Platz 1.\n",
       "3                                Die Single '\"Ma chérie\"' von DJ Antoine feat. The Beat Shakers ist am 06.06.2010 in die Charts eingestiegen. Sie blieb dort 99 Wochen und schaffte es auf Platz 2.\n",
       "4                                                    Die Single 'Rolling In The Deep' von Adele ist am 30.01.2011 in die Charts eingestiegen. Sie blieb dort 93 Wochen und schaffte es auf Platz 1.\n",
       "5                                                        Die Single 'All Of Me' von John Legend ist am 02.02.2014 in die Charts eingestiegen. Sie blieb dort 97 Wochen und schaffte es auf Platz 1.\n",
       "6                                               Die Single 'This Is The Life' von Amy Macdonald ist am 23.03.2008 in die Charts eingestiegen. Sie blieb dort 94 Wochen und schaffte es auf Platz 2.\n",
       "7                                          Die Single 'I Gotta Feeling' von The Black Eyed Peas ist am 19.07.2009 in die Charts eingestiegen. Sie blieb dort 87 Wochen und schaffte es auf Platz 1.\n",
       "8                 Die Single 'Waka Waka (This Time For Africa)' von Shakira feat. Freshlyground ist am 23.05.2010 in die Charts eingestiegen. Sie blieb dort 86 Wochen und schaffte es auf Platz 1.\n",
       "9                                              Die Single 'Infinity 2008' von Guru Josh Project ist am 28.09.2008 in die Charts eingestiegen. Sie blieb dort 85 Wochen und schaffte es auf Platz 2.\n",
       "10                                                   Die Single 'Sonnentanz' von Klangkarussell ist am 26.08.2012 in die Charts eingestiegen. Sie blieb dort 87 Wochen und schaffte es auf Platz 3.\n",
       "11                                      Die Single 'Atemlos durch die Nacht' von Helene Fischer ist am 20.10.2013 in die Charts eingestiegen. Sie blieb dort 80 Wochen und schaffte es auf Platz 2.\n",
       "12                                                          Die Single 'Heavy Cross' von Gossip ist am 21.06.2009 in die Charts eingestiegen. Sie blieb dort 80 Wochen und schaffte es auf Platz 2.\n",
       "13                                                     Die Single 'Happy' von Pharrell Williams ist am 08.12.2013 in die Charts eingestiegen. Sie blieb dort 80 Wochen und schaffte es auf Platz 1.\n",
       "14                                                      Die Single 'Someone Like You' von Adele ist am 05.06.2011 in die Charts eingestiegen. Sie blieb dort 95 Wochen und schaffte es auf Platz 1.\n",
       "15                                                        Die Single 'Poker Face' von Lady Gaga ist am 11.01.2009 in die Charts eingestiegen. Sie blieb dort 72 Wochen und schaffte es auf Platz 1.\n",
       "16                                    Die Single 'Apologize' von Timbaland Presents OneRepublic ist am 04.11.2007 in die Charts eingestiegen. Sie blieb dort 89 Wochen und schaffte es auf Platz 1.\n",
       "17                                                           Die Single 'Faded' von Alan Walker ist am 17.01.2016 in die Charts eingestiegen. Sie blieb dort 86 Wochen und schaffte es auf Platz 1.\n",
       "18                                                        Die Single 'Let Her Go' von Passenger ist am 03.03.2013 in die Charts eingestiegen. Sie blieb dort 88 Wochen und schaffte es auf Platz 1.\n",
       "19                                                        Die Single 'Bring en hei' von Baschi ist am 28.05.2006 in die Charts eingestiegen. Sie blieb dort 100 Wochen und schaffte es auf Platz 1.\n",
       "20                                          Die Single 'Sexy Bitch' von David Guetta feat. Akon ist am 09.08.2009 in die Charts eingestiegen. Sie blieb dort 77 Wochen und schaffte es auf Platz 2.\n",
       "21                                                        Die Single 'Rehab' von Amy Winehouse ist am 18.03.2007 in die Charts eingestiegen. Sie blieb dort 88 Wochen und schaffte es auf Platz 11.\n",
       "22                                     Die Single 'Lean On' von Major Lazer & DJ Snake feat. MØ ist am 29.03.2015 in die Charts eingestiegen. Sie blieb dort 65 Wochen und schaffte es auf Platz 1.\n",
       "23    Die Single 'Prayer In C (Robin Schulz Remix)' von Lilly Wood & The Prick and Robin Schulz ist am 15.06.2014 in die Charts eingestiegen. Sie blieb dort 68 Wochen und schaffte es auf Platz 1.\n",
       "24                                                          Die Single 'Perfect' von Ed Sheeran ist am 12.03.2017 in die Charts eingestiegen. Sie blieb dort 57 Wochen und schaffte es auf Platz 1.\n",
       "25                                                Die Single 'You're Beautiful' von James Blunt ist am 21.08.2005 in die Charts eingestiegen. Sie blieb dort 97 Wochen und schaffte es auf Platz 2.\n",
       "26                                                   Die Single 'Relax (Take It Easy)' von Mika ist am 04.03.2007 in die Charts eingestiegen. Sie blieb dort 75 Wochen und schaffte es auf Platz 2.\n",
       "27                                              Die Single 'Up In The Sky' von 77 Bombay Street ist am 24.04.2011 in die Charts eingestiegen. Sie blieb dort 82 Wochen und schaffte es auf Platz 7.\n",
       "28                                                          Die Single 'Wake Me Up!' von Avicii ist am 30.06.2013 in die Charts eingestiegen. Sie blieb dort 68 Wochen und schaffte es auf Platz 1.\n",
       "29                                                    Die Single 'Take Me To Church' von Hozier ist am 28.09.2014 in die Charts eingestiegen. Sie blieb dort 68 Wochen und schaffte es auf Platz 1.\n",
       "                                                                                                  ...                                                                                              \n",
       "70                                                    Die Single 'Believer' von Imagine Dragons ist am 12.02.2017 in die Charts eingestiegen. Sie blieb dort 67 Wochen und schaffte es auf Platz 6.\n",
       "71                                                   Die Single 'Stolen Dance' von Milky Chance ist am 27.10.2013 in die Charts eingestiegen. Sie blieb dort 60 Wochen und schaffte es auf Platz 1.\n",
       "72                                                   Die Single 'Chasing Cars' von Snow Patrol ist am 26.11.2006 in die Charts eingestiegen. Sie blieb dort 106 Wochen und schaffte es auf Platz 4.\n",
       "73                                                  Die Single 'Set Fire To The Rain' von Adele ist am 13.02.2011 in die Charts eingestiegen. Sie blieb dort 57 Wochen und schaffte es auf Platz 4.\n",
       "74                                            Die Single 'Are You With Me' von Lost Frequencies ist am 08.02.2015 in die Charts eingestiegen. Sie blieb dort 56 Wochen und schaffte es auf Platz 1.\n",
       "75                                              Die Single 'Somebody Dance With Me' von DJ BoBo ist am 10.01.1993 in die Charts eingestiegen. Sie blieb dort 48 Wochen und schaffte es auf Platz 1.\n",
       "76                                                    Die Single 'I Follow Rivers' von Lykke Li ist am 01.04.2012 in die Charts eingestiegen. Sie blieb dort 61 Wochen und schaffte es auf Platz 2.\n",
       "77                                                             Die Single 'Run' von Leona Lewis ist am 14.12.2008 in die Charts eingestiegen. Sie blieb dort 72 Wochen und schaffte es auf Platz 2.\n",
       "78                   Die Single 'Welcome To St. Tropez' von DJ Antoine vs. Timati feat. Kalenna ist am 17.04.2011 in die Charts eingestiegen. Sie blieb dort 53 Wochen und schaffte es auf Platz 2.\n",
       "79                               Die Single 'Love Is Gone' von David Guetta feat. Chris Willis ist am 13.05.2007 in die Charts eingestiegen. Sie blieb dort 75 Wochen und schaffte es auf Platz 11.\n",
       "80                                 Die Single 'Get Lucky' von Daft Punk feat. Pharrell Williams ist am 05.05.2013 in die Charts eingestiegen. Sie blieb dort 56 Wochen und schaffte es auf Platz 1.\n",
       "81                                      Die Single 'Stole The Show' von Kygo feat. Parson James ist am 05.04.2015 in die Charts eingestiegen. Sie blieb dort 56 Wochen und schaffte es auf Platz 3.\n",
       "82                                                Die Single 'Mr Rock & Roll' von Amy Macdonald ist am 17.02.2008 in die Charts eingestiegen. Sie blieb dort 65 Wochen und schaffte es auf Platz 3.\n",
       "83                                    Die Single 'Sugar' von Robin Schulz feat. Francesco Yates ist am 26.07.2015 in die Charts eingestiegen. Sie blieb dort 51 Wochen und schaffte es auf Platz 1.\n",
       "84                                             Die Single 'My Heart Will Go On' von Céline Dion ist am 18.01.1998 in die Charts eingestiegen. Sie blieb dort 49 Wochen und schaffte es auf Platz 1.\n",
       "85                                                     Die Single 'Thunder' von Imagine Dragons ist am 07.05.2017 in die Charts eingestiegen. Sie blieb dort 54 Wochen und schaffte es auf Platz 2.\n",
       "86                     Die Single 'Party Rock Anthem' von LMFAO feat. Lauren Bennett & GoonRock ist am 17.04.2011 in die Charts eingestiegen. Sie blieb dort 54 Wochen und schaffte es auf Platz 1.\n",
       "87                                                        Die Single 'Rise Up' von Yves Larock ist am 07.10.2007 in die Charts eingestiegen. Sie blieb dort 88 Wochen und schaffte es auf Platz 16.\n",
       "88                                                          Die Single 'Sofia' von Alvaro Soler ist am 24.04.2016 in die Charts eingestiegen. Sie blieb dort 71 Wochen und schaffte es auf Platz 1.\n",
       "89                             Die Single 'Somebody That I Used To Know' von Gotye feat. Kimbra ist am 25.12.2011 in die Charts eingestiegen. Sie blieb dort 58 Wochen und schaffte es auf Platz 2.\n",
       "90                                      Die Single 'Havana' von Camila Cabello feat. Young Thug ist am 20.08.2017 in die Charts eingestiegen. Sie blieb dort 58 Wochen und schaffte es auf Platz 2.\n",
       "91                                              Die Single 'Tage wie diese' von Die Toten Hosen ist am 08.04.2012 in die Charts eingestiegen. Sie blieb dort 62 Wochen und schaffte es auf Platz 4.\n",
       "92                              Die Single 'All Good Things (Come To An End)' von Nelly Furtado ist am 10.12.2006 in die Charts eingestiegen. Sie blieb dort 62 Wochen und schaffte es auf Platz 1.\n",
       "93                                         Die Single 'One Dance' von Drake feat. Wizkid & Kyla ist am 10.04.2016 in die Charts eingestiegen. Sie blieb dort 51 Wochen und schaffte es auf Platz 1.\n",
       "94                                                       Die Single 'Hot N Cold' von Katy Perry ist am 09.11.2008 in die Charts eingestiegen. Sie blieb dort 62 Wochen und schaffte es auf Platz 1.\n",
       "95                                                      Die Single 'Maneater' von Nelly Furtado ist am 11.06.2006 in die Charts eingestiegen. Sie blieb dort 63 Wochen und schaffte es auf Platz 3.\n",
       "96                                   Die Single 'On The Floor' von Jennifer Lopez feat. Pitbull ist am 13.03.2011 in die Charts eingestiegen. Sie blieb dort 51 Wochen und schaffte es auf Platz 1.\n",
       "97                                    Die Single 'Hips Don't Lie' von Shakira feat. Wyclef Jean ist am 30.04.2006 in die Charts eingestiegen. Sie blieb dort 65 Wochen und schaffte es auf Platz 1.\n",
       "98                                   Die Single 'Can't Stop The Feeling!' von Justin Timberlake ist am 15.05.2016 in die Charts eingestiegen. Sie blieb dort 62 Wochen und schaffte es auf Platz 1.\n",
       "99                                            Die Single 'Right Round' von Flo Rida feat. Ke$ha ist am 15.03.2009 in die Charts eingestiegen. Sie blieb dort 59 Wochen und schaffte es auf Platz 2.\n",
       "Length: 100, dtype: object"
      ]
     },
     "execution_count": 37,
     "metadata": {},
     "output_type": "execute_result"
    }
   ],
   "source": [
    "df.apply(mach_was_mit_dictionary, axis=1)"
   ]
  },
  {
   "cell_type": "markdown",
   "metadata": {},
   "source": [
    "Warum funktioniert das?\n",
    "- Checken wir nochmal den Dictionary, mit dem wir vorher unsere Funktion getestet haben"
   ]
  },
  {
   "cell_type": "code",
   "execution_count": 40,
   "metadata": {},
   "outputs": [
    {
     "data": {
      "text/plain": [
       "{'Artist': 'Baschi',\n",
       " 'Eintritt': '28.05.2006',\n",
       " 'Link': '/song/Baschi/Bring-en-hei-193080',\n",
       " 'Peak': 1,\n",
       " 'Punkte': 5356,\n",
       " 'Rang': 20,\n",
       " 'Titel': 'Bring en hei',\n",
       " 'Wochen': 100}"
      ]
     },
     "execution_count": 40,
     "metadata": {},
     "output_type": "execute_result"
    }
   ],
   "source": [
    "my_dictionary"
   ]
  },
  {
   "cell_type": "markdown",
   "metadata": {},
   "source": [
    "- und nun: eine beliebige Zeile (sagen wir, Nr. 19) aus dem Dataframe:"
   ]
  },
  {
   "cell_type": "code",
   "execution_count": 41,
   "metadata": {},
   "outputs": [
    {
     "data": {
      "text/plain": [
       "Rang                                                                                                                                                                                                                               20\n",
       "Artist                                                                                                                                                                                                                         Baschi\n",
       "Titel                                                                                                                                                                                                                    Bring en hei\n",
       "Eintritt                                                                                                                                                                                                                   28.05.2006\n",
       "Wochen                                                                                                                                                                                                                            100\n",
       "Peak                                                                                                                                                                                                                                1\n",
       "Punkte                                                                                                                                                                                                                           5356\n",
       "Link                                                                                                                                                                                                 /song/Baschi/Bring-en-hei-193080\n",
       "Songtext                      Chum bring en hei, chum bring en\\nChum bring en hei, chum bring en\\nChum bring en hei, zu mir...\\n(1, 2, 3, 4, 5, 6, 7, 11)\\nS'ganze Lebe nume für 90 Minute\\nEs wartet alles nur uf di\\nDas isch mi...\n",
       "Punkte_Formatiert                                                                                                                                                                                                                  5K\n",
       "Anzahl Telefonbucheinträge                                                                                                                                                                                                        886\n",
       "Textanalyse                                                                                                                                                                                                   Enhält 0 u's und 1 i's.\n",
       "Out_Text                                                                                    Die Single 'Bring en hei' von Baschi ist am 28.05.2006 in die Charts eingestiegen. Sie blieb dort 100 Wochen und schaffte es auf Platz 1.\n",
       "Name: 19, dtype: object"
      ]
     },
     "execution_count": 41,
     "metadata": {},
     "output_type": "execute_result"
    }
   ],
   "source": [
    "df.loc[19]"
   ]
  },
  {
   "cell_type": "markdown",
   "metadata": {},
   "source": [
    "=> Die Sache klappt, weil die Keys im Test-Dictionary denselben Namen haben wie die Spalten in unserem Dataframe"
   ]
  },
  {
   "cell_type": "markdown",
   "metadata": {},
   "source": [
    "Das gute an `apply()` ist: man kann nicht nur Spalten addieren (also einfache Operationen anwenden), sondern beliebig komplizierte Prozeduren implementieren, um eine neue Spalte zu generieren.\n",
    "\n",
    "Zum Beispiel können wir unsere eigenen Coolness_Punkte als Alternative zum Punktesystem der Hitparade testen."
   ]
  },
  {
   "cell_type": "code",
   "execution_count": 42,
   "metadata": {
    "collapsed": true
   },
   "outputs": [],
   "source": [
    "def coolness_punkte(row):\n",
    "    if row['Artist'] == 'DJ BoBo':\n",
    "        score = 0\n",
    "    else:\n",
    "        score = row['Peak'] * row['Wochen'] * 52\n",
    "    return score"
   ]
  },
  {
   "cell_type": "code",
   "execution_count": 43,
   "metadata": {
    "collapsed": true
   },
   "outputs": [],
   "source": [
    "df['Coolness_Punkte'] = df.apply(coolness_punkte, axis=1)"
   ]
  },
  {
   "cell_type": "code",
   "execution_count": 44,
   "metadata": {},
   "outputs": [
    {
     "data": {
      "text/html": [
       "<div>\n",
       "<style scoped>\n",
       "    .dataframe tbody tr th:only-of-type {\n",
       "        vertical-align: middle;\n",
       "    }\n",
       "\n",
       "    .dataframe tbody tr th {\n",
       "        vertical-align: top;\n",
       "    }\n",
       "\n",
       "    .dataframe thead th {\n",
       "        text-align: right;\n",
       "    }\n",
       "</style>\n",
       "<table border=\"1\" class=\"dataframe\">\n",
       "  <thead>\n",
       "    <tr style=\"text-align: right;\">\n",
       "      <th></th>\n",
       "      <th>Rang</th>\n",
       "      <th>Artist</th>\n",
       "      <th>Titel</th>\n",
       "      <th>Eintritt</th>\n",
       "      <th>Wochen</th>\n",
       "      <th>Peak</th>\n",
       "      <th>Punkte</th>\n",
       "      <th>Link</th>\n",
       "      <th>Songtext</th>\n",
       "      <th>Punkte_Formatiert</th>\n",
       "      <th>Anzahl Telefonbucheinträge</th>\n",
       "      <th>Textanalyse</th>\n",
       "      <th>Out_Text</th>\n",
       "      <th>Coolness_Punkte</th>\n",
       "    </tr>\n",
       "  </thead>\n",
       "  <tbody>\n",
       "    <tr>\n",
       "      <th>75</th>\n",
       "      <td>76</td>\n",
       "      <td>DJ BoBo</td>\n",
       "      <td>Somebody Dance With Me</td>\n",
       "      <td>10.01.1993</td>\n",
       "      <td>48</td>\n",
       "      <td>1</td>\n",
       "      <td>4131</td>\n",
       "      <td>/song/DJ-BoBo/Somebody-Dance-With-Me-2561</td>\n",
       "      <td>I'm back again on a higher stage\\nListen to the party beat and get in range\\n'Cause you know when I flow and I show you so\\nWhich way is better which way you got to go\\nTo make a fun house party a...</td>\n",
       "      <td>4K</td>\n",
       "      <td>1</td>\n",
       "      <td>Enhält 0 u's und 7 i's.</td>\n",
       "      <td>Die Single 'Somebody Dance With Me' von DJ BoBo ist am 10.01.1993 in die Charts eingestiegen. Sie blieb dort 48 Wochen und schaffte es auf Platz 1.</td>\n",
       "      <td>0</td>\n",
       "    </tr>\n",
       "  </tbody>\n",
       "</table>\n",
       "</div>"
      ],
      "text/plain": [
       "    Rang   Artist                   Titel    Eintritt  Wochen  Peak  Punkte  \\\n",
       "75    76  DJ BoBo  Somebody Dance With Me  10.01.1993      48     1    4131   \n",
       "\n",
       "                                         Link  \\\n",
       "75  /song/DJ-BoBo/Somebody-Dance-With-Me-2561   \n",
       "\n",
       "                                                                                                                                                                                                   Songtext  \\\n",
       "75  I'm back again on a higher stage\\nListen to the party beat and get in range\\n'Cause you know when I flow and I show you so\\nWhich way is better which way you got to go\\nTo make a fun house party a...   \n",
       "\n",
       "   Punkte_Formatiert  Anzahl Telefonbucheinträge              Textanalyse  \\\n",
       "75                4K                           1  Enhält 0 u's und 7 i's.   \n",
       "\n",
       "                                                                                                                                               Out_Text  \\\n",
       "75  Die Single 'Somebody Dance With Me' von DJ BoBo ist am 10.01.1993 in die Charts eingestiegen. Sie blieb dort 48 Wochen und schaffte es auf Platz 1.   \n",
       "\n",
       "    Coolness_Punkte  \n",
       "75                0  "
      ]
     },
     "execution_count": 44,
     "metadata": {},
     "output_type": "execute_result"
    }
   ],
   "source": [
    "df[df['Artist'] == 'DJ BoBo']"
   ]
  },
  {
   "cell_type": "code",
   "execution_count": 45,
   "metadata": {},
   "outputs": [
    {
     "data": {
      "text/html": [
       "<div>\n",
       "<style scoped>\n",
       "    .dataframe tbody tr th:only-of-type {\n",
       "        vertical-align: middle;\n",
       "    }\n",
       "\n",
       "    .dataframe tbody tr th {\n",
       "        vertical-align: top;\n",
       "    }\n",
       "\n",
       "    .dataframe thead th {\n",
       "        text-align: right;\n",
       "    }\n",
       "</style>\n",
       "<table border=\"1\" class=\"dataframe\">\n",
       "  <thead>\n",
       "    <tr style=\"text-align: right;\">\n",
       "      <th></th>\n",
       "      <th>Rang</th>\n",
       "      <th>Artist</th>\n",
       "      <th>Titel</th>\n",
       "      <th>Eintritt</th>\n",
       "      <th>Wochen</th>\n",
       "      <th>Peak</th>\n",
       "      <th>Punkte</th>\n",
       "      <th>Link</th>\n",
       "      <th>Songtext</th>\n",
       "      <th>Punkte_Formatiert</th>\n",
       "      <th>Anzahl Telefonbucheinträge</th>\n",
       "      <th>Textanalyse</th>\n",
       "      <th>Out_Text</th>\n",
       "      <th>Coolness_Punkte</th>\n",
       "    </tr>\n",
       "  </thead>\n",
       "  <tbody>\n",
       "    <tr>\n",
       "      <th>0</th>\n",
       "      <td>1</td>\n",
       "      <td>DJ Ötzi &amp; Nik P.</td>\n",
       "      <td>Ein Stern (... der deinen Namen trägt)</td>\n",
       "      <td>18.02.2007</td>\n",
       "      <td>118</td>\n",
       "      <td>2</td>\n",
       "      <td>8109</td>\n",
       "      <td>/song/DJ-Oetzi-&amp;-Nik-P./Ein-Stern-(...-der-deinen-Namen-traegt)-283118</td>\n",
       "      <td>Einen Stern, der deinen Namen trägt\\nHoch am Himmelszelt\\nDen schenk ich Dir heut' Nacht\\nEinen Stern, der deinen Namen trägt\\nAlle Zeiten überlebt\\nUnd über unsere Liebe wacht\\n\\nSeit Jahren scho...</td>\n",
       "      <td>8K</td>\n",
       "      <td>0</td>\n",
       "      <td>Enhält 0 u's und 0 i's.</td>\n",
       "      <td>Die Single 'Ein Stern (... der deinen Namen trägt)' von DJ Ötzi &amp; Nik P. ist am 18.02.2007 in die Charts eingestiegen. Sie blieb dort 118 Wochen und schaffte es auf Platz 2.</td>\n",
       "      <td>12272</td>\n",
       "    </tr>\n",
       "    <tr>\n",
       "      <th>1</th>\n",
       "      <td>2</td>\n",
       "      <td>Ed Sheeran</td>\n",
       "      <td>Shape Of You</td>\n",
       "      <td>15.01.2017</td>\n",
       "      <td>93</td>\n",
       "      <td>1</td>\n",
       "      <td>7196</td>\n",
       "      <td>/song/Ed-Sheeran/Shape-Of-You-1622943</td>\n",
       "      <td>The club isn't the best place to find a lover\\nSo the bar is where I go\\nMe and my friends at the table doing shots\\nDrinking fast and then we talk slow\\n\\nCome over and start up a conversation wi...</td>\n",
       "      <td>7K</td>\n",
       "      <td>0</td>\n",
       "      <td>Enhält 0 u's und 2 i's.</td>\n",
       "      <td>Die Single 'Shape Of You' von Ed Sheeran ist am 15.01.2017 in die Charts eingestiegen. Sie blieb dort 93 Wochen und schaffte es auf Platz 1.</td>\n",
       "      <td>4836</td>\n",
       "    </tr>\n",
       "    <tr>\n",
       "      <th>2</th>\n",
       "      <td>3</td>\n",
       "      <td>Luis Fonsi feat. Daddy Yankee</td>\n",
       "      <td>Despacito</td>\n",
       "      <td>22.01.2017</td>\n",
       "      <td>90</td>\n",
       "      <td>1</td>\n",
       "      <td>6854</td>\n",
       "      <td>/song/Luis-Fonsi-feat.-Daddy-Yankee/Despacito-1625640</td>\n",
       "      <td>Ay\\nFonsi, DY\\nOh, oh no, oh no (ey)\\nHey, yeah, diri-diri-diriridi, Daddy, go!\\n\\nSí, sabes que ya llevo un rato mirándote\\nTengo que bailar contigo hoy (DY)\\nVi que tu mirada ya estaba llamándom...</td>\n",
       "      <td>7K</td>\n",
       "      <td>0</td>\n",
       "      <td>Enhält 0 u's und 0 i's.</td>\n",
       "      <td>Die Single 'Despacito' von Luis Fonsi feat. Daddy Yankee ist am 22.01.2017 in die Charts eingestiegen. Sie blieb dort 90 Wochen und schaffte es auf Platz 1.</td>\n",
       "      <td>4680</td>\n",
       "    </tr>\n",
       "    <tr>\n",
       "      <th>3</th>\n",
       "      <td>4</td>\n",
       "      <td>DJ Antoine feat. The Beat Shakers</td>\n",
       "      <td>\"Ma chérie\"</td>\n",
       "      <td>06.06.2010</td>\n",
       "      <td>99</td>\n",
       "      <td>2</td>\n",
       "      <td>6745</td>\n",
       "      <td>/song/DJ-Antoine-feat.-The-Beat-Shakers/Ma-cherie-711060</td>\n",
       "      <td>When I look into your eyes\\nI see rainbows in the skies.\\nBaby when you're close to me\\nI know you are ma cherie.\\n\\nWe are gonna dance into the sea\\nAll I want is you - you're ma cherie\\nNever se...</td>\n",
       "      <td>7K</td>\n",
       "      <td>0</td>\n",
       "      <td>Enhält 0 u's und 5 i's.</td>\n",
       "      <td>Die Single '\"Ma chérie\"' von DJ Antoine feat. The Beat Shakers ist am 06.06.2010 in die Charts eingestiegen. Sie blieb dort 99 Wochen und schaffte es auf Platz 2.</td>\n",
       "      <td>10296</td>\n",
       "    </tr>\n",
       "    <tr>\n",
       "      <th>4</th>\n",
       "      <td>5</td>\n",
       "      <td>Adele</td>\n",
       "      <td>Rolling In The Deep</td>\n",
       "      <td>30.01.2011</td>\n",
       "      <td>93</td>\n",
       "      <td>1</td>\n",
       "      <td>6588</td>\n",
       "      <td>/song/Adele/Rolling-In-The-Deep-767937</td>\n",
       "      <td>There's a fire starting in my heart\\nReaching a fever pitch and it's bring me out the dark\\nFinally, I can see you crystal clear\\nGo ahead and sell me out and I'll lay your ship bare\\n\\nSee how I'...</td>\n",
       "      <td>7K</td>\n",
       "      <td>397</td>\n",
       "      <td>Enhält 0 u's und 3 i's.</td>\n",
       "      <td>Die Single 'Rolling In The Deep' von Adele ist am 30.01.2011 in die Charts eingestiegen. Sie blieb dort 93 Wochen und schaffte es auf Platz 1.</td>\n",
       "      <td>4836</td>\n",
       "    </tr>\n",
       "  </tbody>\n",
       "</table>\n",
       "</div>"
      ],
      "text/plain": [
       "   Rang                             Artist  \\\n",
       "0     1                   DJ Ötzi & Nik P.   \n",
       "1     2                         Ed Sheeran   \n",
       "2     3      Luis Fonsi feat. Daddy Yankee   \n",
       "3     4  DJ Antoine feat. The Beat Shakers   \n",
       "4     5                              Adele   \n",
       "\n",
       "                                    Titel    Eintritt  Wochen  Peak  Punkte  \\\n",
       "0  Ein Stern (... der deinen Namen trägt)  18.02.2007     118     2    8109   \n",
       "1                            Shape Of You  15.01.2017      93     1    7196   \n",
       "2                               Despacito  22.01.2017      90     1    6854   \n",
       "3                             \"Ma chérie\"  06.06.2010      99     2    6745   \n",
       "4                     Rolling In The Deep  30.01.2011      93     1    6588   \n",
       "\n",
       "                                                                     Link  \\\n",
       "0  /song/DJ-Oetzi-&-Nik-P./Ein-Stern-(...-der-deinen-Namen-traegt)-283118   \n",
       "1                                   /song/Ed-Sheeran/Shape-Of-You-1622943   \n",
       "2                   /song/Luis-Fonsi-feat.-Daddy-Yankee/Despacito-1625640   \n",
       "3                /song/DJ-Antoine-feat.-The-Beat-Shakers/Ma-cherie-711060   \n",
       "4                                  /song/Adele/Rolling-In-The-Deep-767937   \n",
       "\n",
       "                                                                                                                                                                                                  Songtext  \\\n",
       "0  Einen Stern, der deinen Namen trägt\\nHoch am Himmelszelt\\nDen schenk ich Dir heut' Nacht\\nEinen Stern, der deinen Namen trägt\\nAlle Zeiten überlebt\\nUnd über unsere Liebe wacht\\n\\nSeit Jahren scho...   \n",
       "1  The club isn't the best place to find a lover\\nSo the bar is where I go\\nMe and my friends at the table doing shots\\nDrinking fast and then we talk slow\\n\\nCome over and start up a conversation wi...   \n",
       "2  Ay\\nFonsi, DY\\nOh, oh no, oh no (ey)\\nHey, yeah, diri-diri-diriridi, Daddy, go!\\n\\nSí, sabes que ya llevo un rato mirándote\\nTengo que bailar contigo hoy (DY)\\nVi que tu mirada ya estaba llamándom...   \n",
       "3  When I look into your eyes\\nI see rainbows in the skies.\\nBaby when you're close to me\\nI know you are ma cherie.\\n\\nWe are gonna dance into the sea\\nAll I want is you - you're ma cherie\\nNever se...   \n",
       "4  There's a fire starting in my heart\\nReaching a fever pitch and it's bring me out the dark\\nFinally, I can see you crystal clear\\nGo ahead and sell me out and I'll lay your ship bare\\n\\nSee how I'...   \n",
       "\n",
       "  Punkte_Formatiert  Anzahl Telefonbucheinträge              Textanalyse  \\\n",
       "0                8K                           0  Enhält 0 u's und 0 i's.   \n",
       "1                7K                           0  Enhält 0 u's und 2 i's.   \n",
       "2                7K                           0  Enhält 0 u's und 0 i's.   \n",
       "3                7K                           0  Enhält 0 u's und 5 i's.   \n",
       "4                7K                         397  Enhält 0 u's und 3 i's.   \n",
       "\n",
       "                                                                                                                                                                        Out_Text  \\\n",
       "0  Die Single 'Ein Stern (... der deinen Namen trägt)' von DJ Ötzi & Nik P. ist am 18.02.2007 in die Charts eingestiegen. Sie blieb dort 118 Wochen und schaffte es auf Platz 2.   \n",
       "1                                   Die Single 'Shape Of You' von Ed Sheeran ist am 15.01.2017 in die Charts eingestiegen. Sie blieb dort 93 Wochen und schaffte es auf Platz 1.   \n",
       "2                   Die Single 'Despacito' von Luis Fonsi feat. Daddy Yankee ist am 22.01.2017 in die Charts eingestiegen. Sie blieb dort 90 Wochen und schaffte es auf Platz 1.   \n",
       "3             Die Single '\"Ma chérie\"' von DJ Antoine feat. The Beat Shakers ist am 06.06.2010 in die Charts eingestiegen. Sie blieb dort 99 Wochen und schaffte es auf Platz 2.   \n",
       "4                                 Die Single 'Rolling In The Deep' von Adele ist am 30.01.2011 in die Charts eingestiegen. Sie blieb dort 93 Wochen und schaffte es auf Platz 1.   \n",
       "\n",
       "   Coolness_Punkte  \n",
       "0            12272  \n",
       "1             4836  \n",
       "2             4680  \n",
       "3            10296  \n",
       "4             4836  "
      ]
     },
     "execution_count": 45,
     "metadata": {},
     "output_type": "execute_result"
    }
   ],
   "source": [
    "df.head(5)"
   ]
  },
  {
   "cell_type": "code",
   "execution_count": null,
   "metadata": {
    "collapsed": true
   },
   "outputs": [],
   "source": []
  },
  {
   "cell_type": "code",
   "execution_count": null,
   "metadata": {
    "collapsed": true
   },
   "outputs": [],
   "source": []
  },
  {
   "cell_type": "markdown",
   "metadata": {},
   "source": [
    "## Funktionen ausführen 3: Lambda"
   ]
  },
  {
   "cell_type": "markdown",
   "metadata": {},
   "source": [
    "Nehmen wir an, wir haben eine Funktion von jemandem erhalten, die wir gerne benutzen würden."
   ]
  },
  {
   "cell_type": "markdown",
   "metadata": {},
   "source": [
    "Sie nimmt zwei Zahlen als Inputs und gibt die grössere davon zurück."
   ]
  },
  {
   "cell_type": "code",
   "execution_count": 46,
   "metadata": {
    "collapsed": true
   },
   "outputs": [],
   "source": [
    "def groessere_zahl(zahl1, zahl2):\n",
    "    if zahl1 < zahl2:\n",
    "        return zahl2\n",
    "    else:\n",
    "        return zahl1"
   ]
  },
  {
   "cell_type": "code",
   "execution_count": 47,
   "metadata": {},
   "outputs": [
    {
     "data": {
      "text/plain": [
       "5"
      ]
     },
     "execution_count": 47,
     "metadata": {},
     "output_type": "execute_result"
    }
   ],
   "source": [
    "groessere_zahl(4, 5)"
   ]
  },
  {
   "cell_type": "markdown",
   "metadata": {},
   "source": [
    "Was tun, wenn wir diese Funktion innerhalb vom einem Dataframe benutzen wollen?\n",
    "\n",
    "Zum Beispiel, um die zwei Spalten \"Punkte\" und \"Coolness_Punkte\" in unseren Single-Charts zu vergleichen?"
   ]
  },
  {
   "cell_type": "markdown",
   "metadata": {},
   "source": [
    "Eine Option wäre: Eine Hilfsfunktion zu schreiben, die eine Zeile im Dataframe als Input nimmt, und diese mit `apply()` aufzurufen:"
   ]
  },
  {
   "cell_type": "code",
   "execution_count": 50,
   "metadata": {
    "collapsed": true
   },
   "outputs": [],
   "source": [
    "def hilfsfunktion(row):\n",
    "    return groessere_zahl(row['Punkte'], row['Coolness_Punkte'])    "
   ]
  },
  {
   "cell_type": "code",
   "execution_count": 51,
   "metadata": {},
   "outputs": [
    {
     "data": {
      "text/plain": [
       "0     12272\n",
       "1      7196\n",
       "2      6854\n",
       "3     10296\n",
       "4      6588\n",
       "5      6547\n",
       "6      9776\n",
       "7      6085\n",
       "8      6004\n",
       "9      8840\n",
       "10    13572\n",
       "11     8320\n",
       "12     8320\n",
       "13     5663\n",
       "14     5627\n",
       "15     5562\n",
       "16     5536\n",
       "17     5495\n",
       "18     5365\n",
       "19     5356\n",
       "20     8008\n",
       "21    50336\n",
       "22     5158\n",
       "23     5156\n",
       "24     5114\n",
       "25    10088\n",
       "26     7800\n",
       "27    29848\n",
       "28     4894\n",
       "29     4858\n",
       "      ...  \n",
       "70    20904\n",
       "71     4158\n",
       "72    22048\n",
       "73    11856\n",
       "74     4150\n",
       "75     4131\n",
       "76     6344\n",
       "77     7488\n",
       "78     5512\n",
       "79    42900\n",
       "80     4044\n",
       "81     8736\n",
       "82    10140\n",
       "83     4013\n",
       "84     3998\n",
       "85     5616\n",
       "86     3992\n",
       "87    73216\n",
       "88     3979\n",
       "89     6032\n",
       "90     6032\n",
       "91    12896\n",
       "92     3934\n",
       "93     3930\n",
       "94     3922\n",
       "95     9828\n",
       "96     3899\n",
       "97     3894\n",
       "98     3877\n",
       "99     6136\n",
       "Length: 100, dtype: int64"
      ]
     },
     "execution_count": 51,
     "metadata": {},
     "output_type": "execute_result"
    }
   ],
   "source": [
    "df.apply(hilfsfunktion, axis=1)"
   ]
  },
  {
   "cell_type": "markdown",
   "metadata": {},
   "source": [
    "Wir können uns die Definition dieser Hilfsfunktion aber auch sparen, indem wir eine anonyme Funktion on the spot definiteren.\n",
    "\n",
    "Dazu verwenden wir das Keyword `lambda`:"
   ]
  },
  {
   "cell_type": "code",
   "execution_count": 52,
   "metadata": {},
   "outputs": [
    {
     "data": {
      "text/plain": [
       "0     12272\n",
       "1      7196\n",
       "2      6854\n",
       "3     10296\n",
       "4      6588\n",
       "5      6547\n",
       "6      9776\n",
       "7      6085\n",
       "8      6004\n",
       "9      8840\n",
       "10    13572\n",
       "11     8320\n",
       "12     8320\n",
       "13     5663\n",
       "14     5627\n",
       "15     5562\n",
       "16     5536\n",
       "17     5495\n",
       "18     5365\n",
       "19     5356\n",
       "20     8008\n",
       "21    50336\n",
       "22     5158\n",
       "23     5156\n",
       "24     5114\n",
       "25    10088\n",
       "26     7800\n",
       "27    29848\n",
       "28     4894\n",
       "29     4858\n",
       "      ...  \n",
       "70    20904\n",
       "71     4158\n",
       "72    22048\n",
       "73    11856\n",
       "74     4150\n",
       "75     4131\n",
       "76     6344\n",
       "77     7488\n",
       "78     5512\n",
       "79    42900\n",
       "80     4044\n",
       "81     8736\n",
       "82    10140\n",
       "83     4013\n",
       "84     3998\n",
       "85     5616\n",
       "86     3992\n",
       "87    73216\n",
       "88     3979\n",
       "89     6032\n",
       "90     6032\n",
       "91    12896\n",
       "92     3934\n",
       "93     3930\n",
       "94     3922\n",
       "95     9828\n",
       "96     3899\n",
       "97     3894\n",
       "98     3877\n",
       "99     6136\n",
       "Length: 100, dtype: int64"
      ]
     },
     "execution_count": 52,
     "metadata": {},
     "output_type": "execute_result"
    }
   ],
   "source": [
    "df.apply(lambda row: groessere_zahl(row['Punkte'], row['Coolness_Punkte']), axis=1)"
   ]
  },
  {
   "cell_type": "markdown",
   "metadata": {},
   "source": [
    "### Im Detail... was hat es genau mit diesem Lambda auf sich?"
   ]
  },
  {
   "cell_type": "markdown",
   "metadata": {},
   "source": [
    " https://www.programiz.com/python-programming/anonymous-function"
   ]
  },
  {
   "cell_type": "markdown",
   "metadata": {},
   "source": [
    "=> Eine Funktion, die keinen Namen trägt! (würde DJ Ötzi sagen)"
   ]
  },
  {
   "cell_type": "code",
   "execution_count": 53,
   "metadata": {},
   "outputs": [
    {
     "data": {
      "text/plain": [
       "7"
      ]
     },
     "execution_count": 53,
     "metadata": {},
     "output_type": "execute_result"
    }
   ],
   "source": [
    "(lambda x: x + 5)(2)"
   ]
  },
  {
   "cell_type": "markdown",
   "metadata": {},
   "source": [
    "Der Gag an Lambda-Funktionen ist, dass man Sie im selben Moment definieren und benutzen kann. Den Variablennamen nach dem Lambda können wir frei wählen. noch ein Beispiel für eine Lambda-Funktion, die eine Liste verarbeitet:"
   ]
  },
  {
   "cell_type": "code",
   "execution_count": 59,
   "metadata": {
    "collapsed": true
   },
   "outputs": [],
   "source": [
    "my_list = [2, 3]"
   ]
  },
  {
   "cell_type": "code",
   "execution_count": 61,
   "metadata": {},
   "outputs": [
    {
     "data": {
      "text/plain": [
       "5"
      ]
     },
     "execution_count": 61,
     "metadata": {},
     "output_type": "execute_result"
    }
   ],
   "source": [
    "(lambda liste: liste[0] + liste[1])(my_list)"
   ]
  },
  {
   "cell_type": "markdown",
   "metadata": {},
   "source": [
    "Wir brauchen diese anonymen Funktionen bei Pandas eigentlich nur im Zusammenspiel mit `apply()` - und zwar genau dann, wenn wir auf alle Elemente in einer Tablle eine bestimmte Funktion anwenden wollen, die mehr als ein Argument braucht."
   ]
  },
  {
   "cell_type": "code",
   "execution_count": 54,
   "metadata": {
    "collapsed": true
   },
   "outputs": [],
   "source": [
    "df['Groessere Punktzahl'] = df.apply(lambda row: groessere_zahl(row['Punkte'], row['Coolness_Punkte']), axis=1)"
   ]
  },
  {
   "cell_type": "code",
   "execution_count": 55,
   "metadata": {},
   "outputs": [
    {
     "data": {
      "text/html": [
       "<div>\n",
       "<style scoped>\n",
       "    .dataframe tbody tr th:only-of-type {\n",
       "        vertical-align: middle;\n",
       "    }\n",
       "\n",
       "    .dataframe tbody tr th {\n",
       "        vertical-align: top;\n",
       "    }\n",
       "\n",
       "    .dataframe thead th {\n",
       "        text-align: right;\n",
       "    }\n",
       "</style>\n",
       "<table border=\"1\" class=\"dataframe\">\n",
       "  <thead>\n",
       "    <tr style=\"text-align: right;\">\n",
       "      <th></th>\n",
       "      <th>Rang</th>\n",
       "      <th>Artist</th>\n",
       "      <th>Titel</th>\n",
       "      <th>Eintritt</th>\n",
       "      <th>Wochen</th>\n",
       "      <th>Peak</th>\n",
       "      <th>Punkte</th>\n",
       "      <th>Link</th>\n",
       "      <th>Songtext</th>\n",
       "      <th>Punkte_Formatiert</th>\n",
       "      <th>Anzahl Telefonbucheinträge</th>\n",
       "      <th>Textanalyse</th>\n",
       "      <th>Out_Text</th>\n",
       "      <th>Coolness_Punkte</th>\n",
       "      <th>Groessere Punktzahl</th>\n",
       "    </tr>\n",
       "  </thead>\n",
       "  <tbody>\n",
       "    <tr>\n",
       "      <th>0</th>\n",
       "      <td>1</td>\n",
       "      <td>DJ Ötzi &amp; Nik P.</td>\n",
       "      <td>Ein Stern (... der deinen Namen trägt)</td>\n",
       "      <td>18.02.2007</td>\n",
       "      <td>118</td>\n",
       "      <td>2</td>\n",
       "      <td>8109</td>\n",
       "      <td>/song/DJ-Oetzi-&amp;-Nik-P./Ein-Stern-(...-der-deinen-Namen-traegt)-283118</td>\n",
       "      <td>Einen Stern, der deinen Namen trägt\\nHoch am Himmelszelt\\nDen schenk ich Dir heut' Nacht\\nEinen Stern, der deinen Namen trägt\\nAlle Zeiten überlebt\\nUnd über unsere Liebe wacht\\n\\nSeit Jahren scho...</td>\n",
       "      <td>8K</td>\n",
       "      <td>0</td>\n",
       "      <td>Enhält 0 u's und 0 i's.</td>\n",
       "      <td>Die Single 'Ein Stern (... der deinen Namen trägt)' von DJ Ötzi &amp; Nik P. ist am 18.02.2007 in die Charts eingestiegen. Sie blieb dort 118 Wochen und schaffte es auf Platz 2.</td>\n",
       "      <td>12272</td>\n",
       "      <td>12272</td>\n",
       "    </tr>\n",
       "    <tr>\n",
       "      <th>1</th>\n",
       "      <td>2</td>\n",
       "      <td>Ed Sheeran</td>\n",
       "      <td>Shape Of You</td>\n",
       "      <td>15.01.2017</td>\n",
       "      <td>93</td>\n",
       "      <td>1</td>\n",
       "      <td>7196</td>\n",
       "      <td>/song/Ed-Sheeran/Shape-Of-You-1622943</td>\n",
       "      <td>The club isn't the best place to find a lover\\nSo the bar is where I go\\nMe and my friends at the table doing shots\\nDrinking fast and then we talk slow\\n\\nCome over and start up a conversation wi...</td>\n",
       "      <td>7K</td>\n",
       "      <td>0</td>\n",
       "      <td>Enhält 0 u's und 2 i's.</td>\n",
       "      <td>Die Single 'Shape Of You' von Ed Sheeran ist am 15.01.2017 in die Charts eingestiegen. Sie blieb dort 93 Wochen und schaffte es auf Platz 1.</td>\n",
       "      <td>4836</td>\n",
       "      <td>7196</td>\n",
       "    </tr>\n",
       "    <tr>\n",
       "      <th>2</th>\n",
       "      <td>3</td>\n",
       "      <td>Luis Fonsi feat. Daddy Yankee</td>\n",
       "      <td>Despacito</td>\n",
       "      <td>22.01.2017</td>\n",
       "      <td>90</td>\n",
       "      <td>1</td>\n",
       "      <td>6854</td>\n",
       "      <td>/song/Luis-Fonsi-feat.-Daddy-Yankee/Despacito-1625640</td>\n",
       "      <td>Ay\\nFonsi, DY\\nOh, oh no, oh no (ey)\\nHey, yeah, diri-diri-diriridi, Daddy, go!\\n\\nSí, sabes que ya llevo un rato mirándote\\nTengo que bailar contigo hoy (DY)\\nVi que tu mirada ya estaba llamándom...</td>\n",
       "      <td>7K</td>\n",
       "      <td>0</td>\n",
       "      <td>Enhält 0 u's und 0 i's.</td>\n",
       "      <td>Die Single 'Despacito' von Luis Fonsi feat. Daddy Yankee ist am 22.01.2017 in die Charts eingestiegen. Sie blieb dort 90 Wochen und schaffte es auf Platz 1.</td>\n",
       "      <td>4680</td>\n",
       "      <td>6854</td>\n",
       "    </tr>\n",
       "    <tr>\n",
       "      <th>3</th>\n",
       "      <td>4</td>\n",
       "      <td>DJ Antoine feat. The Beat Shakers</td>\n",
       "      <td>\"Ma chérie\"</td>\n",
       "      <td>06.06.2010</td>\n",
       "      <td>99</td>\n",
       "      <td>2</td>\n",
       "      <td>6745</td>\n",
       "      <td>/song/DJ-Antoine-feat.-The-Beat-Shakers/Ma-cherie-711060</td>\n",
       "      <td>When I look into your eyes\\nI see rainbows in the skies.\\nBaby when you're close to me\\nI know you are ma cherie.\\n\\nWe are gonna dance into the sea\\nAll I want is you - you're ma cherie\\nNever se...</td>\n",
       "      <td>7K</td>\n",
       "      <td>0</td>\n",
       "      <td>Enhält 0 u's und 5 i's.</td>\n",
       "      <td>Die Single '\"Ma chérie\"' von DJ Antoine feat. The Beat Shakers ist am 06.06.2010 in die Charts eingestiegen. Sie blieb dort 99 Wochen und schaffte es auf Platz 2.</td>\n",
       "      <td>10296</td>\n",
       "      <td>10296</td>\n",
       "    </tr>\n",
       "    <tr>\n",
       "      <th>4</th>\n",
       "      <td>5</td>\n",
       "      <td>Adele</td>\n",
       "      <td>Rolling In The Deep</td>\n",
       "      <td>30.01.2011</td>\n",
       "      <td>93</td>\n",
       "      <td>1</td>\n",
       "      <td>6588</td>\n",
       "      <td>/song/Adele/Rolling-In-The-Deep-767937</td>\n",
       "      <td>There's a fire starting in my heart\\nReaching a fever pitch and it's bring me out the dark\\nFinally, I can see you crystal clear\\nGo ahead and sell me out and I'll lay your ship bare\\n\\nSee how I'...</td>\n",
       "      <td>7K</td>\n",
       "      <td>397</td>\n",
       "      <td>Enhält 0 u's und 3 i's.</td>\n",
       "      <td>Die Single 'Rolling In The Deep' von Adele ist am 30.01.2011 in die Charts eingestiegen. Sie blieb dort 93 Wochen und schaffte es auf Platz 1.</td>\n",
       "      <td>4836</td>\n",
       "      <td>6588</td>\n",
       "    </tr>\n",
       "    <tr>\n",
       "      <th>5</th>\n",
       "      <td>6</td>\n",
       "      <td>John Legend</td>\n",
       "      <td>All Of Me</td>\n",
       "      <td>02.02.2014</td>\n",
       "      <td>97</td>\n",
       "      <td>1</td>\n",
       "      <td>6547</td>\n",
       "      <td>/song/John-Legend/All-Of-Me-1183051</td>\n",
       "      <td>What would I do without your smart mouth?\\nDrawing me in, and you kicking me out\\nYou've got my head spinning, no kidding, I can't pin you down\\nWhat's going on in that beautiful mind\\nI'm on your...</td>\n",
       "      <td>7K</td>\n",
       "      <td>0</td>\n",
       "      <td>Enhält 0 u's und 9 i's.</td>\n",
       "      <td>Die Single 'All Of Me' von John Legend ist am 02.02.2014 in die Charts eingestiegen. Sie blieb dort 97 Wochen und schaffte es auf Platz 1.</td>\n",
       "      <td>5044</td>\n",
       "      <td>6547</td>\n",
       "    </tr>\n",
       "    <tr>\n",
       "      <th>6</th>\n",
       "      <td>7</td>\n",
       "      <td>Amy Macdonald</td>\n",
       "      <td>This Is The Life</td>\n",
       "      <td>23.03.2008</td>\n",
       "      <td>94</td>\n",
       "      <td>2</td>\n",
       "      <td>6125</td>\n",
       "      <td>/song/Amy-Macdonald/This-Is-The-Life-349688</td>\n",
       "      <td>Oh the wind whistles down\\nThe cold dark street tonight\\nAnd the people they were dancing to the music vibe\\nAnd the boys chase the girls with the curls in their hair\\n\\nWhile the shy tormented yo...</td>\n",
       "      <td>6K</td>\n",
       "      <td>0</td>\n",
       "      <td>Enhält 0 u's und 0 i's.</td>\n",
       "      <td>Die Single 'This Is The Life' von Amy Macdonald ist am 23.03.2008 in die Charts eingestiegen. Sie blieb dort 94 Wochen und schaffte es auf Platz 2.</td>\n",
       "      <td>9776</td>\n",
       "      <td>9776</td>\n",
       "    </tr>\n",
       "    <tr>\n",
       "      <th>7</th>\n",
       "      <td>8</td>\n",
       "      <td>The Black Eyed Peas</td>\n",
       "      <td>I Gotta Feeling</td>\n",
       "      <td>19.07.2009</td>\n",
       "      <td>87</td>\n",
       "      <td>1</td>\n",
       "      <td>6085</td>\n",
       "      <td>/song/The-Black-Eyed-Peas/I-Gotta-Feeling-584715</td>\n",
       "      <td>I gotta feeling\\nThat tonight's gonna be a good night\\nThat tonight's gonna be a good night\\nThat tonight's gonna be a good, good night\\n\\nA feeling\\nThat tonight's gonna be a good night\\nThat ton...</td>\n",
       "      <td>6K</td>\n",
       "      <td>0</td>\n",
       "      <td>Enhält 0 u's und 1 i's.</td>\n",
       "      <td>Die Single 'I Gotta Feeling' von The Black Eyed Peas ist am 19.07.2009 in die Charts eingestiegen. Sie blieb dort 87 Wochen und schaffte es auf Platz 1.</td>\n",
       "      <td>4524</td>\n",
       "      <td>6085</td>\n",
       "    </tr>\n",
       "    <tr>\n",
       "      <th>8</th>\n",
       "      <td>9</td>\n",
       "      <td>Shakira feat. Freshlyground</td>\n",
       "      <td>Waka Waka (This Time For Africa)</td>\n",
       "      <td>23.05.2010</td>\n",
       "      <td>86</td>\n",
       "      <td>1</td>\n",
       "      <td>6004</td>\n",
       "      <td>/song/Shakira-feat.-Freshlyground/Waka-Waka-(This-Time-For-Africa)-700659</td>\n",
       "      <td>You're a good soldier\\nChoosing your battles\\nPick yourself up\\nDust yourself off\\nAnd get back in the saddle\\n\\nYou're on the front line\\nEveryone's watching\\nYou know it's serious\\nWe are gettin...</td>\n",
       "      <td>6K</td>\n",
       "      <td>0</td>\n",
       "      <td>Enhält 0 u's und 0 i's.</td>\n",
       "      <td>Die Single 'Waka Waka (This Time For Africa)' von Shakira feat. Freshlyground ist am 23.05.2010 in die Charts eingestiegen. Sie blieb dort 86 Wochen und schaffte es auf Platz 1.</td>\n",
       "      <td>4472</td>\n",
       "      <td>6004</td>\n",
       "    </tr>\n",
       "    <tr>\n",
       "      <th>9</th>\n",
       "      <td>10</td>\n",
       "      <td>Guru Josh Project</td>\n",
       "      <td>Infinity 2008</td>\n",
       "      <td>28.09.2008</td>\n",
       "      <td>85</td>\n",
       "      <td>2</td>\n",
       "      <td>6001</td>\n",
       "      <td>/song/Guru-Josh-Project/Infinity-2008-484499</td>\n",
       "      <td>Here's my key\\nPhilosophy\\nA freak like me\\nJust needs infinity\\n\\nRelax\\nTake your time\\n\\nAnd take your time\\nTo trust in me\\nAnd you will find\\nInfinity, infinity\\n\\nAnd take your time\\nTo trus...</td>\n",
       "      <td>6K</td>\n",
       "      <td>0</td>\n",
       "      <td>Enhält 0 u's und 0 i's.</td>\n",
       "      <td>Die Single 'Infinity 2008' von Guru Josh Project ist am 28.09.2008 in die Charts eingestiegen. Sie blieb dort 85 Wochen und schaffte es auf Platz 2.</td>\n",
       "      <td>8840</td>\n",
       "      <td>8840</td>\n",
       "    </tr>\n",
       "  </tbody>\n",
       "</table>\n",
       "</div>"
      ],
      "text/plain": [
       "   Rang                             Artist  \\\n",
       "0     1                   DJ Ötzi & Nik P.   \n",
       "1     2                         Ed Sheeran   \n",
       "2     3      Luis Fonsi feat. Daddy Yankee   \n",
       "3     4  DJ Antoine feat. The Beat Shakers   \n",
       "4     5                              Adele   \n",
       "5     6                        John Legend   \n",
       "6     7                      Amy Macdonald   \n",
       "7     8                The Black Eyed Peas   \n",
       "8     9        Shakira feat. Freshlyground   \n",
       "9    10                  Guru Josh Project   \n",
       "\n",
       "                                    Titel    Eintritt  Wochen  Peak  Punkte  \\\n",
       "0  Ein Stern (... der deinen Namen trägt)  18.02.2007     118     2    8109   \n",
       "1                            Shape Of You  15.01.2017      93     1    7196   \n",
       "2                               Despacito  22.01.2017      90     1    6854   \n",
       "3                             \"Ma chérie\"  06.06.2010      99     2    6745   \n",
       "4                     Rolling In The Deep  30.01.2011      93     1    6588   \n",
       "5                               All Of Me  02.02.2014      97     1    6547   \n",
       "6                        This Is The Life  23.03.2008      94     2    6125   \n",
       "7                         I Gotta Feeling  19.07.2009      87     1    6085   \n",
       "8        Waka Waka (This Time For Africa)  23.05.2010      86     1    6004   \n",
       "9                           Infinity 2008  28.09.2008      85     2    6001   \n",
       "\n",
       "                                                                        Link  \\\n",
       "0     /song/DJ-Oetzi-&-Nik-P./Ein-Stern-(...-der-deinen-Namen-traegt)-283118   \n",
       "1                                      /song/Ed-Sheeran/Shape-Of-You-1622943   \n",
       "2                      /song/Luis-Fonsi-feat.-Daddy-Yankee/Despacito-1625640   \n",
       "3                   /song/DJ-Antoine-feat.-The-Beat-Shakers/Ma-cherie-711060   \n",
       "4                                     /song/Adele/Rolling-In-The-Deep-767937   \n",
       "5                                        /song/John-Legend/All-Of-Me-1183051   \n",
       "6                                /song/Amy-Macdonald/This-Is-The-Life-349688   \n",
       "7                           /song/The-Black-Eyed-Peas/I-Gotta-Feeling-584715   \n",
       "8  /song/Shakira-feat.-Freshlyground/Waka-Waka-(This-Time-For-Africa)-700659   \n",
       "9                               /song/Guru-Josh-Project/Infinity-2008-484499   \n",
       "\n",
       "                                                                                                                                                                                                  Songtext  \\\n",
       "0  Einen Stern, der deinen Namen trägt\\nHoch am Himmelszelt\\nDen schenk ich Dir heut' Nacht\\nEinen Stern, der deinen Namen trägt\\nAlle Zeiten überlebt\\nUnd über unsere Liebe wacht\\n\\nSeit Jahren scho...   \n",
       "1  The club isn't the best place to find a lover\\nSo the bar is where I go\\nMe and my friends at the table doing shots\\nDrinking fast and then we talk slow\\n\\nCome over and start up a conversation wi...   \n",
       "2  Ay\\nFonsi, DY\\nOh, oh no, oh no (ey)\\nHey, yeah, diri-diri-diriridi, Daddy, go!\\n\\nSí, sabes que ya llevo un rato mirándote\\nTengo que bailar contigo hoy (DY)\\nVi que tu mirada ya estaba llamándom...   \n",
       "3  When I look into your eyes\\nI see rainbows in the skies.\\nBaby when you're close to me\\nI know you are ma cherie.\\n\\nWe are gonna dance into the sea\\nAll I want is you - you're ma cherie\\nNever se...   \n",
       "4  There's a fire starting in my heart\\nReaching a fever pitch and it's bring me out the dark\\nFinally, I can see you crystal clear\\nGo ahead and sell me out and I'll lay your ship bare\\n\\nSee how I'...   \n",
       "5  What would I do without your smart mouth?\\nDrawing me in, and you kicking me out\\nYou've got my head spinning, no kidding, I can't pin you down\\nWhat's going on in that beautiful mind\\nI'm on your...   \n",
       "6  Oh the wind whistles down\\nThe cold dark street tonight\\nAnd the people they were dancing to the music vibe\\nAnd the boys chase the girls with the curls in their hair\\n\\nWhile the shy tormented yo...   \n",
       "7  I gotta feeling\\nThat tonight's gonna be a good night\\nThat tonight's gonna be a good night\\nThat tonight's gonna be a good, good night\\n\\nA feeling\\nThat tonight's gonna be a good night\\nThat ton...   \n",
       "8  You're a good soldier\\nChoosing your battles\\nPick yourself up\\nDust yourself off\\nAnd get back in the saddle\\n\\nYou're on the front line\\nEveryone's watching\\nYou know it's serious\\nWe are gettin...   \n",
       "9  Here's my key\\nPhilosophy\\nA freak like me\\nJust needs infinity\\n\\nRelax\\nTake your time\\n\\nAnd take your time\\nTo trust in me\\nAnd you will find\\nInfinity, infinity\\n\\nAnd take your time\\nTo trus...   \n",
       "\n",
       "  Punkte_Formatiert  Anzahl Telefonbucheinträge              Textanalyse  \\\n",
       "0                8K                           0  Enhält 0 u's und 0 i's.   \n",
       "1                7K                           0  Enhält 0 u's und 2 i's.   \n",
       "2                7K                           0  Enhält 0 u's und 0 i's.   \n",
       "3                7K                           0  Enhält 0 u's und 5 i's.   \n",
       "4                7K                         397  Enhält 0 u's und 3 i's.   \n",
       "5                7K                           0  Enhält 0 u's und 9 i's.   \n",
       "6                6K                           0  Enhält 0 u's und 0 i's.   \n",
       "7                6K                           0  Enhält 0 u's und 1 i's.   \n",
       "8                6K                           0  Enhält 0 u's und 0 i's.   \n",
       "9                6K                           0  Enhält 0 u's und 0 i's.   \n",
       "\n",
       "                                                                                                                                                                            Out_Text  \\\n",
       "0      Die Single 'Ein Stern (... der deinen Namen trägt)' von DJ Ötzi & Nik P. ist am 18.02.2007 in die Charts eingestiegen. Sie blieb dort 118 Wochen und schaffte es auf Platz 2.   \n",
       "1                                       Die Single 'Shape Of You' von Ed Sheeran ist am 15.01.2017 in die Charts eingestiegen. Sie blieb dort 93 Wochen und schaffte es auf Platz 1.   \n",
       "2                       Die Single 'Despacito' von Luis Fonsi feat. Daddy Yankee ist am 22.01.2017 in die Charts eingestiegen. Sie blieb dort 90 Wochen und schaffte es auf Platz 1.   \n",
       "3                 Die Single '\"Ma chérie\"' von DJ Antoine feat. The Beat Shakers ist am 06.06.2010 in die Charts eingestiegen. Sie blieb dort 99 Wochen und schaffte es auf Platz 2.   \n",
       "4                                     Die Single 'Rolling In The Deep' von Adele ist am 30.01.2011 in die Charts eingestiegen. Sie blieb dort 93 Wochen und schaffte es auf Platz 1.   \n",
       "5                                         Die Single 'All Of Me' von John Legend ist am 02.02.2014 in die Charts eingestiegen. Sie blieb dort 97 Wochen und schaffte es auf Platz 1.   \n",
       "6                                Die Single 'This Is The Life' von Amy Macdonald ist am 23.03.2008 in die Charts eingestiegen. Sie blieb dort 94 Wochen und schaffte es auf Platz 2.   \n",
       "7                           Die Single 'I Gotta Feeling' von The Black Eyed Peas ist am 19.07.2009 in die Charts eingestiegen. Sie blieb dort 87 Wochen und schaffte es auf Platz 1.   \n",
       "8  Die Single 'Waka Waka (This Time For Africa)' von Shakira feat. Freshlyground ist am 23.05.2010 in die Charts eingestiegen. Sie blieb dort 86 Wochen und schaffte es auf Platz 1.   \n",
       "9                               Die Single 'Infinity 2008' von Guru Josh Project ist am 28.09.2008 in die Charts eingestiegen. Sie blieb dort 85 Wochen und schaffte es auf Platz 2.   \n",
       "\n",
       "   Coolness_Punkte  Groessere Punktzahl  \n",
       "0            12272                12272  \n",
       "1             4836                 7196  \n",
       "2             4680                 6854  \n",
       "3            10296                10296  \n",
       "4             4836                 6588  \n",
       "5             5044                 6547  \n",
       "6             9776                 9776  \n",
       "7             4524                 6085  \n",
       "8             4472                 6004  \n",
       "9             8840                 8840  "
      ]
     },
     "execution_count": 55,
     "metadata": {},
     "output_type": "execute_result"
    }
   ],
   "source": [
    "df.head(10)"
   ]
  },
  {
   "cell_type": "code",
   "execution_count": null,
   "metadata": {
    "collapsed": true
   },
   "outputs": [],
   "source": []
  }
 ],
 "metadata": {
  "kernelspec": {
   "display_name": "Python 3",
   "language": "python",
   "name": "python3"
  },
  "language_info": {
   "codemirror_mode": {
    "name": "ipython",
    "version": 3
   },
   "file_extension": ".py",
   "mimetype": "text/x-python",
   "name": "python",
   "nbconvert_exporter": "python",
   "pygments_lexer": "ipython3",
   "version": "3.6.1"
  }
 },
 "nbformat": 4,
 "nbformat_minor": 2
}
