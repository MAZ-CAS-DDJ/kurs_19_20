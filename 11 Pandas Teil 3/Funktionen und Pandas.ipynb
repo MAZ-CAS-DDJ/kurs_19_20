{
 "cells": [
  {
   "cell_type": "markdown",
   "metadata": {},
   "source": [
    "# Funktionen und Pandas"
   ]
  },
  {
   "cell_type": "markdown",
   "metadata": {},
   "source": [
    "**Inhalt:** Komplexere Zellen- und Spalten-Operationen\n",
    "\n",
    "**Nötige Skills:** Einführung in Pandas\n",
    "\n",
    "**Lernziele:**\n",
    "- Mehrere Codezeilen zu Funktionen zusammenfassen\n",
    "- Funktionen auf bestimmte Bestandteile von Dataframes ausführen (apply, lambda)"
   ]
  },
  {
   "cell_type": "markdown",
   "metadata": {},
   "source": [
    "## Vorbereitung"
   ]
  },
  {
   "cell_type": "code",
   "execution_count": null,
   "metadata": {
    "collapsed": true
   },
   "outputs": [],
   "source": [
    "import pandas as pd"
   ]
  },
  {
   "cell_type": "code",
   "execution_count": null,
   "metadata": {
    "collapsed": true
   },
   "outputs": [],
   "source": [
    "# Platz für weitere Libraries, die Sie brauchen möchten...\n",
    "import requests"
   ]
  },
  {
   "cell_type": "code",
   "execution_count": null,
   "metadata": {
    "collapsed": true
   },
   "outputs": [],
   "source": [
    "from bs4 import BeautifulSoup"
   ]
  },
  {
   "cell_type": "markdown",
   "metadata": {},
   "source": [
    "## Review: eine einfache Funktion schreiben"
   ]
  },
  {
   "cell_type": "markdown",
   "metadata": {},
   "source": [
    "Zum Start kreieren wir uns eine Reihe von Funktionen, die wir später anwenden wollen. Be creative!"
   ]
  },
  {
   "cell_type": "markdown",
   "metadata": {},
   "source": [
    "Zum Beispiel:\n",
    "- eine Zalhlenoperation, die nicht auf einer Zeile platz hat (wenn, dann, etc.)\n",
    "- einen Input nehmen, eine API damit befragen\n",
    "- einen String durchsuchen und/oder modifizieren\n",
    "- Zahlen und Text nach einem bestimmten Muster formatieren\n",
    "\n",
    "Wichtig: Die Funktion muss irgendwas zurückgeben!!"
   ]
  },
  {
   "cell_type": "markdown",
   "metadata": {},
   "source": [
    "**To Do:** Schreiben und beschreiben Sie eine Funktion (eine auswählen, Code testen und in Slack!)"
   ]
  },
  {
   "cell_type": "markdown",
   "metadata": {},
   "source": [
    "**Eine Funktion, die etwas mit einer Zahl macht**"
   ]
  },
  {
   "cell_type": "code",
   "execution_count": null,
   "metadata": {
    "collapsed": true
   },
   "outputs": [],
   "source": [
    "# Hier Beschreibung einfügen\n",
    "def mach_was_mit_zahl(zahl):\n",
    "\n",
    "   \n",
    "    return ..."
   ]
  },
  {
   "cell_type": "markdown",
   "metadata": {},
   "source": [
    "Zum Testen:"
   ]
  },
  {
   "cell_type": "code",
   "execution_count": null,
   "metadata": {},
   "outputs": [],
   "source": [
    "mach_was_mit_zahl(365000)"
   ]
  },
  {
   "cell_type": "code",
   "execution_count": null,
   "metadata": {
    "collapsed": true
   },
   "outputs": [],
   "source": []
  },
  {
   "cell_type": "markdown",
   "metadata": {},
   "source": [
    "**Eine Funktion, die etwas mit einem Wort macht**"
   ]
  },
  {
   "cell_type": "code",
   "execution_count": null,
   "metadata": {
    "collapsed": true
   },
   "outputs": [],
   "source": [
    "# Hier Beschreibung einfügen\n",
    "def mach_was_mit_wort(wort):\n",
    "    \n",
    "       \n",
    "    return ..."
   ]
  },
  {
   "cell_type": "markdown",
   "metadata": {},
   "source": [
    "Zum Testen:"
   ]
  },
  {
   "cell_type": "code",
   "execution_count": null,
   "metadata": {},
   "outputs": [],
   "source": [
    "mach_was_mit_wort(\"Schneider-Ammann\")"
   ]
  },
  {
   "cell_type": "code",
   "execution_count": null,
   "metadata": {
    "collapsed": true
   },
   "outputs": [],
   "source": []
  },
  {
   "cell_type": "markdown",
   "metadata": {},
   "source": [
    "**Eine Funktion, die etwas mit einem längeren Text macht**"
   ]
  },
  {
   "cell_type": "markdown",
   "metadata": {},
   "source": [
    "Zum Beispiel mit diesem hier:"
   ]
  },
  {
   "cell_type": "code",
   "execution_count": null,
   "metadata": {
    "collapsed": true
   },
   "outputs": [],
   "source": [
    "my_text = open('dataprojects/Songtexte/Züri West - I schänke dir mis Härz.txt', 'r').read()"
   ]
  },
  {
   "cell_type": "markdown",
   "metadata": {},
   "source": [
    "Für Ideen, hier eine Liste von Python's String-Funktionen: https://www.w3schools.com/python/python_ref_string.asp"
   ]
  },
  {
   "cell_type": "code",
   "execution_count": null,
   "metadata": {
    "collapsed": true
   },
   "outputs": [],
   "source": [
    "# Hier Beschreibung einfügen\n",
    "def mach_was_mit_text(text):\n",
    "    \n",
    "        \n",
    "    return ..."
   ]
  },
  {
   "cell_type": "markdown",
   "metadata": {},
   "source": [
    "Zum Testen:"
   ]
  },
  {
   "cell_type": "code",
   "execution_count": null,
   "metadata": {},
   "outputs": [],
   "source": [
    "mach_was_mit_text(my_text)"
   ]
  },
  {
   "cell_type": "code",
   "execution_count": null,
   "metadata": {
    "collapsed": true
   },
   "outputs": [],
   "source": []
  },
  {
   "cell_type": "code",
   "execution_count": null,
   "metadata": {
    "collapsed": true
   },
   "outputs": [],
   "source": []
  },
  {
   "cell_type": "markdown",
   "metadata": {},
   "source": [
    "**Eine Funktion, die etwas mit einem Dictionary macht**"
   ]
  },
  {
   "cell_type": "markdown",
   "metadata": {},
   "source": [
    "Zum Beispiel mit diesem hier:"
   ]
  },
  {
   "cell_type": "code",
   "execution_count": null,
   "metadata": {
    "collapsed": true
   },
   "outputs": [],
   "source": [
    "my_dictionary = {\n",
    "    'Rang': 20,\n",
    "    'Artist': 'Baschi',\n",
    "    'Titel': 'Bring en hei',\n",
    "    'Eintritt': '28.05.2006',\n",
    "    'Wochen': 100,\n",
    "    'Peak': 1,\n",
    "    'Punkte': 5356,\n",
    "    'Link': '/song/Baschi/Bring-en-hei-193080'\n",
    "}"
   ]
  },
  {
   "cell_type": "code",
   "execution_count": null,
   "metadata": {
    "collapsed": true
   },
   "outputs": [],
   "source": [
    "# Hier Beschreibung einfügen\n",
    "def mach_was_mit_dictionary(dic):\n",
    "    \n",
    "      \n",
    "    return ..."
   ]
  },
  {
   "cell_type": "code",
   "execution_count": null,
   "metadata": {},
   "outputs": [],
   "source": [
    "mach_was_mit_dictionary(my_dictionary)"
   ]
  },
  {
   "cell_type": "code",
   "execution_count": null,
   "metadata": {
    "collapsed": true
   },
   "outputs": [],
   "source": []
  },
  {
   "cell_type": "markdown",
   "metadata": {},
   "source": [
    "## Funktion ausführen 1: List Comprehension"
   ]
  },
  {
   "cell_type": "markdown",
   "metadata": {},
   "source": [
    "Das kennen wir bereits: Wir wollen dieselbe Funktion auf alle Elemente in einer Liste anwenden!"
   ]
  },
  {
   "cell_type": "markdown",
   "metadata": {},
   "source": [
    "Zum Beispiel auf eine von diesen Listen: **Zahlen**"
   ]
  },
  {
   "cell_type": "code",
   "execution_count": null,
   "metadata": {
    "collapsed": true
   },
   "outputs": [],
   "source": [
    "zahlen = [10, 957, 4.73, 333888, 0.00013]"
   ]
  },
  {
   "cell_type": "code",
   "execution_count": null,
   "metadata": {},
   "outputs": [],
   "source": [
    "[mach_was_mit_zahl(zahl) for zahl in zahlen]"
   ]
  },
  {
   "cell_type": "markdown",
   "metadata": {},
   "source": [
    "**Wörter:**"
   ]
  },
  {
   "cell_type": "code",
   "execution_count": null,
   "metadata": {
    "collapsed": true
   },
   "outputs": [],
   "source": [
    "woerter = [\"Meier\", \"Schmidt\", \"orange\", \"Wauwau\", \"Milchstrasse\", \"Schneider-Ammann\"]"
   ]
  },
  {
   "cell_type": "code",
   "execution_count": null,
   "metadata": {},
   "outputs": [],
   "source": [
    "[mach_was_mit_wort(wort) for wort in woerter]"
   ]
  },
  {
   "cell_type": "markdown",
   "metadata": {},
   "source": [
    "**Texte:**"
   ]
  },
  {
   "cell_type": "code",
   "execution_count": null,
   "metadata": {
    "collapsed": true
   },
   "outputs": [],
   "source": [
    "files = [\n",
    "    'Züri West - I schänke dir mis Härz.txt',\n",
    "    'Patent Ochsner - Venus vo Bümpliz.txt',\n",
    "    'DJ Bobo - Chihuahua.txt'\n",
    "]"
   ]
  },
  {
   "cell_type": "code",
   "execution_count": null,
   "metadata": {
    "collapsed": true
   },
   "outputs": [],
   "source": [
    "texts = [open('dataprojects/Songtexte/' + file, \"r\").read() for file in files]"
   ]
  },
  {
   "cell_type": "code",
   "execution_count": null,
   "metadata": {},
   "outputs": [],
   "source": [
    "texts[0]"
   ]
  },
  {
   "cell_type": "code",
   "execution_count": null,
   "metadata": {},
   "outputs": [],
   "source": [
    "[mach_was_mit_text(text) for text in texts]"
   ]
  },
  {
   "cell_type": "code",
   "execution_count": null,
   "metadata": {
    "collapsed": true
   },
   "outputs": [],
   "source": []
  },
  {
   "cell_type": "code",
   "execution_count": null,
   "metadata": {
    "collapsed": true
   },
   "outputs": [],
   "source": []
  },
  {
   "cell_type": "markdown",
   "metadata": {},
   "source": [
    "## Funktion ausführen 2: Apply"
   ]
  },
  {
   "cell_type": "markdown",
   "metadata": {},
   "source": [
    "Apply ist ein ähnliches Prinzip wie List Comprehension - aber in Pandas.\n",
    "\n",
    "Um es auszuprobieren, stellen wir uns eine kleine Datenbank der besten alltime-Singles aus der Schweizer Hitparade zusammen und scrapen die Songtexte dazu.\n",
    "\n",
    "Quelle: https://hitparade.ch/charts/best/singles\n",
    "\n",
    "Quelle: https://www.songtexte.com/"
   ]
  },
  {
   "cell_type": "markdown",
   "metadata": {},
   "source": [
    "Das Scrape-File dazu findet sich hier: `dataprojects/Songtexte/scraper.ipynb`\n",
    "\n",
    "Das Daten-File hier: `dataprojects/Songtexte/charts_mit_texten.csv`"
   ]
  },
  {
   "cell_type": "code",
   "execution_count": null,
   "metadata": {
    "collapsed": true
   },
   "outputs": [],
   "source": [
    "df = pd.read_csv('dataprojects/Songtexte/charts_mit_texten.csv')"
   ]
  },
  {
   "cell_type": "code",
   "execution_count": null,
   "metadata": {},
   "outputs": [],
   "source": [
    "df.head()"
   ]
  },
  {
   "cell_type": "markdown",
   "metadata": {},
   "source": [
    "### Apply mit einzelnen Einträgen"
   ]
  },
  {
   "cell_type": "markdown",
   "metadata": {},
   "source": [
    "Wir probieren jetz an diesem Datenset unsere obigen Funktionen aus.\n",
    "\n",
    "Das Prinzip: Wir nehmen eine Spalte, und wenden auf jeden einzelnen Eitrag darin eine Funktion an.\n",
    "\n",
    "Zum Beispiel auf alle Einträge in der Spalte \"Punkte\":"
   ]
  },
  {
   "cell_type": "code",
   "execution_count": null,
   "metadata": {},
   "outputs": [],
   "source": [
    "df['Punkte'].apply(mach_was_mit_zahl)"
   ]
  },
  {
   "cell_type": "markdown",
   "metadata": {},
   "source": [
    "Warum funktioniert das hier nicht?"
   ]
  },
  {
   "cell_type": "code",
   "execution_count": null,
   "metadata": {},
   "outputs": [],
   "source": [
    "mach_was_mit_zahl(df['Punkte'])"
   ]
  },
  {
   "cell_type": "markdown",
   "metadata": {},
   "source": [
    "Wenn die Funktion `apply()` auf eine Serie angewendet wird, generiert sie - eine Serie. Wir können diese Serie als Spalte an die Tabelle anfügen.\n",
    "\n",
    "Zum Beispiel mit unserer Zahlen-Funktion:"
   ]
  },
  {
   "cell_type": "code",
   "execution_count": null,
   "metadata": {
    "collapsed": true
   },
   "outputs": [],
   "source": [
    "df['Punkte_Formatiert'] = df['Punkte'].apply(mach_was_mit_zahl)"
   ]
  },
  {
   "cell_type": "code",
   "execution_count": null,
   "metadata": {},
   "outputs": [],
   "source": [
    "df.head()"
   ]
  },
  {
   "cell_type": "markdown",
   "metadata": {},
   "source": [
    "Oder mit der Wort-Funktion:"
   ]
  },
  {
   "cell_type": "code",
   "execution_count": null,
   "metadata": {
    "collapsed": true
   },
   "outputs": [],
   "source": [
    "#Testen Sie hier Ihre Wort-Funktion\n",
    "df['Anzahl Telefonbucheinträge'] = df['Artist'].apply(mach_was_mit_wort)"
   ]
  },
  {
   "cell_type": "code",
   "execution_count": null,
   "metadata": {},
   "outputs": [],
   "source": [
    "df.sort_values('Anzahl Telefonbucheinträge', ascending=False).head(10)"
   ]
  },
  {
   "cell_type": "markdown",
   "metadata": {},
   "source": [
    "Oder mit der Text-Funktion:"
   ]
  },
  {
   "cell_type": "code",
   "execution_count": null,
   "metadata": {
    "collapsed": true
   },
   "outputs": [],
   "source": [
    "#Testen Sie hier Ihre Text-Funktion\n",
    "df['Textanalyse'] = df['Songtext'].astype(str).apply(mach_was_mit_text)"
   ]
  },
  {
   "cell_type": "code",
   "execution_count": null,
   "metadata": {},
   "outputs": [],
   "source": [
    "df.head()"
   ]
  },
  {
   "cell_type": "code",
   "execution_count": null,
   "metadata": {
    "collapsed": true
   },
   "outputs": [],
   "source": []
  },
  {
   "cell_type": "code",
   "execution_count": null,
   "metadata": {
    "collapsed": true
   },
   "outputs": [],
   "source": []
  },
  {
   "cell_type": "code",
   "execution_count": null,
   "metadata": {
    "collapsed": true
   },
   "outputs": [],
   "source": []
  },
  {
   "cell_type": "markdown",
   "metadata": {},
   "source": [
    "### Apply mit ganzen Zeilen"
   ]
  },
  {
   "cell_type": "markdown",
   "metadata": {},
   "source": [
    "Apply funktioniert nicht nur mit einzelnen Spalten und deren Einträgen, sondern auch mit mehreren Spalten und deren Einträgen auf einmal."
   ]
  },
  {
   "cell_type": "code",
   "execution_count": null,
   "metadata": {
    "collapsed": true
   },
   "outputs": [],
   "source": [
    "# Brauchen wir, damit es den Inhalt der Einträge vollständig anzeigt...\n",
    "pd.set_option(\"display.max_colwidth\", 200)"
   ]
  },
  {
   "cell_type": "code",
   "execution_count": null,
   "metadata": {},
   "outputs": [],
   "source": [
    "df.apply(mach_was_mit_dictionary, axis=1)"
   ]
  },
  {
   "cell_type": "markdown",
   "metadata": {},
   "source": [
    "Warum funktioniert das?\n",
    "- Checken wir nochmal den Dictionary, mit dem wir vorher unsere Funktion getestet haben"
   ]
  },
  {
   "cell_type": "code",
   "execution_count": null,
   "metadata": {},
   "outputs": [],
   "source": [
    "my_dictionary"
   ]
  },
  {
   "cell_type": "markdown",
   "metadata": {},
   "source": [
    "- und nun: eine beliebige Zeile (sagen wir, Nr. 19) aus dem Dataframe:"
   ]
  },
  {
   "cell_type": "code",
   "execution_count": null,
   "metadata": {},
   "outputs": [],
   "source": [
    "df.loc[19]"
   ]
  },
  {
   "cell_type": "markdown",
   "metadata": {},
   "source": [
    "=> Die Sache klappt, weil die Keys im Test-Dictionary denselben Namen haben wie die Spalten in unserem Dataframe"
   ]
  },
  {
   "cell_type": "markdown",
   "metadata": {},
   "source": [
    "### Warum apply()??"
   ]
  },
  {
   "cell_type": "markdown",
   "metadata": {},
   "source": [
    "Einen Grund haben wir soeben gesehen: Man kann mehrere Spalten auf einmal verarbeiten."
   ]
  },
  {
   "cell_type": "markdown",
   "metadata": {},
   "source": [
    "Ein anderer Grund ist: Mann kann beliebig komplizierte Prozeduren implementieren, um eine neue Spalte zu generieren.\n",
    "\n",
    "Zum Beispiel können wir unsere eigenen Coolness_Punkte als Alternative zum Punktesystem der Hitparade testen."
   ]
  },
  {
   "cell_type": "code",
   "execution_count": null,
   "metadata": {
    "collapsed": true
   },
   "outputs": [],
   "source": [
    "def coolness_punkte(row):\n",
    "    if row['Artist'] == 'DJ BoBo':\n",
    "        score = 0\n",
    "    else:\n",
    "        score = row['Peak'] * row['Wochen'] * 52\n",
    "    return score"
   ]
  },
  {
   "cell_type": "code",
   "execution_count": null,
   "metadata": {
    "collapsed": true
   },
   "outputs": [],
   "source": [
    "df['Coolness_Punkte'] = df.apply(coolness_punkte, axis=1)"
   ]
  },
  {
   "cell_type": "code",
   "execution_count": null,
   "metadata": {},
   "outputs": [],
   "source": [
    "df[df['Artist'] == 'DJ BoBo']"
   ]
  },
  {
   "cell_type": "code",
   "execution_count": null,
   "metadata": {},
   "outputs": [],
   "source": [
    "df.head(5)"
   ]
  },
  {
   "cell_type": "code",
   "execution_count": null,
   "metadata": {
    "collapsed": true
   },
   "outputs": [],
   "source": []
  },
  {
   "cell_type": "code",
   "execution_count": null,
   "metadata": {
    "collapsed": true
   },
   "outputs": [],
   "source": []
  },
  {
   "cell_type": "markdown",
   "metadata": {},
   "source": [
    "## Funktionen ausführen 3: Lambda"
   ]
  },
  {
   "cell_type": "markdown",
   "metadata": {},
   "source": [
    "Nehmen wir an, wir haben eine Funktion von jemandem erhalten, die wir gerne benutzen würden."
   ]
  },
  {
   "cell_type": "markdown",
   "metadata": {},
   "source": [
    "Sie nimmt zwei Zahlen als Inputs und gibt die grössere davon zurück."
   ]
  },
  {
   "cell_type": "code",
   "execution_count": null,
   "metadata": {
    "collapsed": true
   },
   "outputs": [],
   "source": [
    "def groessere_zahl(zahl1, zahl2):\n",
    "    if zahl1 < zahl2:\n",
    "        return zahl2\n",
    "    else:\n",
    "        return zahl1"
   ]
  },
  {
   "cell_type": "code",
   "execution_count": null,
   "metadata": {},
   "outputs": [],
   "source": [
    "groessere_zahl(4, 5)"
   ]
  },
  {
   "cell_type": "markdown",
   "metadata": {},
   "source": [
    "Was tun, wenn wir diese Funktion innerhalb vom einem Dataframe benutzen wollen?\n",
    "\n",
    "Zum Beispiel, um die zwei Spalten \"Punkte\" und \"Coolness_Punkte\" in unseren Single-Charts zu vergleichen?"
   ]
  },
  {
   "cell_type": "markdown",
   "metadata": {},
   "source": [
    "Eine Option wäre: Eine Hilfsfunktion zu schreiben, die eine Zeile im Dataframe als Input nimmt, und diese mit `apply()` aufzurufen:"
   ]
  },
  {
   "cell_type": "code",
   "execution_count": null,
   "metadata": {
    "collapsed": true
   },
   "outputs": [],
   "source": [
    "def hilfsfunktion(row):\n",
    "    return groessere_zahl(row['Punkte'], row['Coolness_Punkte'])    "
   ]
  },
  {
   "cell_type": "code",
   "execution_count": null,
   "metadata": {},
   "outputs": [],
   "source": [
    "df.apply(hilfsfunktion, axis=1)"
   ]
  },
  {
   "cell_type": "markdown",
   "metadata": {},
   "source": [
    "Wir können uns die Definition dieser Hilfsfunktion aber auch sparen, indem wir eine anonyme Funktion on the spot definiteren.\n",
    "\n",
    "Dazu verwenden wir das Keyword `lambda`:"
   ]
  },
  {
   "cell_type": "code",
   "execution_count": null,
   "metadata": {},
   "outputs": [],
   "source": [
    "df.apply(lambda row: groessere_zahl(row['Punkte'], row['Coolness_Punkte']), axis=1)"
   ]
  },
  {
   "cell_type": "markdown",
   "metadata": {},
   "source": [
    "### Im Detail... was hat es genau mit diesem Lambda auf sich?"
   ]
  },
  {
   "cell_type": "markdown",
   "metadata": {},
   "source": [
    " https://www.programiz.com/python-programming/anonymous-function"
   ]
  },
  {
   "cell_type": "markdown",
   "metadata": {},
   "source": [
    "=> Eine Funktion, die keinen Namen trägt! (würde DJ Ötzi sagen)"
   ]
  },
  {
   "cell_type": "code",
   "execution_count": null,
   "metadata": {},
   "outputs": [],
   "source": [
    "(lambda x: x + 5)(2)"
   ]
  },
  {
   "cell_type": "markdown",
   "metadata": {},
   "source": [
    "Der Gag an Lambda-Funktionen ist, dass man Sie im selben Moment definieren und benutzen kann. Den Variablennamen nach dem Lambda können wir frei wählen. noch ein Beispiel für eine Lambda-Funktion, die eine Liste verarbeitet:"
   ]
  },
  {
   "cell_type": "code",
   "execution_count": null,
   "metadata": {
    "collapsed": true
   },
   "outputs": [],
   "source": [
    "my_list = [2, 3]"
   ]
  },
  {
   "cell_type": "code",
   "execution_count": null,
   "metadata": {},
   "outputs": [],
   "source": [
    "(lambda liste: liste[0] + liste[1])(my_list)"
   ]
  },
  {
   "cell_type": "markdown",
   "metadata": {},
   "source": [
    "Wir brauchen diese anonymen Funktionen bei Pandas eigentlich nur im Zusammenspiel mit `apply()` - und zwar genau dann, wenn wir auf alle Elemente in einer Tablle eine bestimmte Funktion anwenden wollen, die mehr als ein Argument braucht."
   ]
  },
  {
   "cell_type": "code",
   "execution_count": null,
   "metadata": {
    "collapsed": true
   },
   "outputs": [],
   "source": [
    "df['Groessere Punktzahl'] = df.apply(lambda row: groessere_zahl(row['Punkte'], row['Coolness_Punkte']), axis=1)"
   ]
  },
  {
   "cell_type": "code",
   "execution_count": null,
   "metadata": {},
   "outputs": [],
   "source": [
    "df.head(10)"
   ]
  },
  {
   "cell_type": "code",
   "execution_count": null,
   "metadata": {
    "collapsed": true
   },
   "outputs": [],
   "source": []
  }
 ],
 "metadata": {
  "kernelspec": {
   "display_name": "Python 3",
   "language": "python",
   "name": "python3"
  },
  "language_info": {
   "codemirror_mode": {
    "name": "ipython",
    "version": 3
   },
   "file_extension": ".py",
   "mimetype": "text/x-python",
   "name": "python",
   "nbconvert_exporter": "python",
   "pygments_lexer": "ipython3",
   "version": "3.6.1"
  }
 },
 "nbformat": 4,
 "nbformat_minor": 2
}
