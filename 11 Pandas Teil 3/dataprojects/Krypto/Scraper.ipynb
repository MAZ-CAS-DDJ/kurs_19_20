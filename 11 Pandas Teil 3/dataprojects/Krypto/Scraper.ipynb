{
 "cells": [
  {
   "cell_type": "markdown",
   "metadata": {},
   "source": [
    "## Scraper für Krypto-Kurse"
   ]
  },
  {
   "cell_type": "markdown",
   "metadata": {},
   "source": [
    "Wir interessieren uns in diesem Notebook für Krypto-Coins.\n",
    "\n",
    "Die Webseite https://coinmarketcap.com/ führt Marktdaten zu den hundert wichtigsten Coins auf.\n",
    "\n",
    "Mit einem einfachen Scraper werden wir diese Daten beschaffen und rudimentär analysieren."
   ]
  },
  {
   "cell_type": "markdown",
   "metadata": {},
   "source": [
    "## Vorbereitung"
   ]
  },
  {
   "cell_type": "code",
   "execution_count": 1,
   "metadata": {},
   "outputs": [],
   "source": [
    "import requests\n",
    "from bs4 import BeautifulSoup"
   ]
  },
  {
   "cell_type": "code",
   "execution_count": 2,
   "metadata": {},
   "outputs": [],
   "source": [
    "import pandas as pd"
   ]
  },
  {
   "cell_type": "code",
   "execution_count": 39,
   "metadata": {},
   "outputs": [],
   "source": [
    "import time"
   ]
  },
  {
   "cell_type": "markdown",
   "metadata": {},
   "source": [
    "## Scraper"
   ]
  },
  {
   "cell_type": "code",
   "execution_count": 17,
   "metadata": {},
   "outputs": [],
   "source": [
    "path = ''"
   ]
  },
  {
   "cell_type": "markdown",
   "metadata": {},
   "source": [
    "### Liste von allen Kryptowährungen"
   ]
  },
  {
   "cell_type": "markdown",
   "metadata": {},
   "source": [
    "Zuerst kucken wir auf der Seite, welches die 100 grössten Kryptowährungen sind, und laden uns Namen und Links derselbigen."
   ]
  },
  {
   "cell_type": "code",
   "execution_count": 4,
   "metadata": {},
   "outputs": [],
   "source": [
    "base_url = 'https://coinmarketcap.com/'"
   ]
  },
  {
   "cell_type": "code",
   "execution_count": 5,
   "metadata": {},
   "outputs": [],
   "source": [
    "response = requests.get(base_url)\n",
    "doc = BeautifulSoup(response.text, \"html.parser\")"
   ]
  },
  {
   "cell_type": "code",
   "execution_count": 6,
   "metadata": {},
   "outputs": [],
   "source": [
    "currencies = doc.find_all('a', class_='currency-name-container link-secondary')"
   ]
  },
  {
   "cell_type": "code",
   "execution_count": 8,
   "metadata": {},
   "outputs": [
    {
     "data": {
      "text/plain": [
       "<a class=\"currency-name-container link-secondary\" href=\"/currencies/bitcoin/\">Bitcoin</a>"
      ]
     },
     "execution_count": 8,
     "metadata": {},
     "output_type": "execute_result"
    }
   ],
   "source": [
    "currencies[0]"
   ]
  },
  {
   "cell_type": "code",
   "execution_count": 9,
   "metadata": {},
   "outputs": [
    {
     "data": {
      "text/plain": [
       "100"
      ]
     },
     "execution_count": 9,
     "metadata": {},
     "output_type": "execute_result"
    }
   ],
   "source": [
    "len(currencies)"
   ]
  },
  {
   "cell_type": "code",
   "execution_count": 10,
   "metadata": {},
   "outputs": [],
   "source": [
    "currency_list = []"
   ]
  },
  {
   "cell_type": "code",
   "execution_count": 11,
   "metadata": {},
   "outputs": [],
   "source": [
    "for currency in currencies:\n",
    "    this_currency = {}\n",
    "    this_currency['name'] = currency.text\n",
    "    this_currency['link'] = currency['href']\n",
    "    currency_list.append(this_currency)"
   ]
  },
  {
   "cell_type": "code",
   "execution_count": 12,
   "metadata": {},
   "outputs": [],
   "source": [
    "df_currencies = pd.DataFrame(currency_list)"
   ]
  },
  {
   "cell_type": "code",
   "execution_count": 13,
   "metadata": {},
   "outputs": [
    {
     "data": {
      "text/html": [
       "<div>\n",
       "<style scoped>\n",
       "    .dataframe tbody tr th:only-of-type {\n",
       "        vertical-align: middle;\n",
       "    }\n",
       "\n",
       "    .dataframe tbody tr th {\n",
       "        vertical-align: top;\n",
       "    }\n",
       "\n",
       "    .dataframe thead th {\n",
       "        text-align: right;\n",
       "    }\n",
       "</style>\n",
       "<table border=\"1\" class=\"dataframe\">\n",
       "  <thead>\n",
       "    <tr style=\"text-align: right;\">\n",
       "      <th></th>\n",
       "      <th>name</th>\n",
       "      <th>link</th>\n",
       "    </tr>\n",
       "  </thead>\n",
       "  <tbody>\n",
       "    <tr>\n",
       "      <td>0</td>\n",
       "      <td>Bitcoin</td>\n",
       "      <td>/currencies/bitcoin/</td>\n",
       "    </tr>\n",
       "    <tr>\n",
       "      <td>1</td>\n",
       "      <td>Ethereum</td>\n",
       "      <td>/currencies/ethereum/</td>\n",
       "    </tr>\n",
       "  </tbody>\n",
       "</table>\n",
       "</div>"
      ],
      "text/plain": [
       "       name                   link\n",
       "0   Bitcoin   /currencies/bitcoin/\n",
       "1  Ethereum  /currencies/ethereum/"
      ]
     },
     "execution_count": 13,
     "metadata": {},
     "output_type": "execute_result"
    }
   ],
   "source": [
    "df_currencies.head(2)"
   ]
  },
  {
   "cell_type": "code",
   "execution_count": 14,
   "metadata": {},
   "outputs": [],
   "source": [
    "df_currencies['link'] = df_currencies['link'].str.extract('/currencies/(.+)/')"
   ]
  },
  {
   "cell_type": "code",
   "execution_count": 15,
   "metadata": {},
   "outputs": [
    {
     "data": {
      "text/html": [
       "<div>\n",
       "<style scoped>\n",
       "    .dataframe tbody tr th:only-of-type {\n",
       "        vertical-align: middle;\n",
       "    }\n",
       "\n",
       "    .dataframe tbody tr th {\n",
       "        vertical-align: top;\n",
       "    }\n",
       "\n",
       "    .dataframe thead th {\n",
       "        text-align: right;\n",
       "    }\n",
       "</style>\n",
       "<table border=\"1\" class=\"dataframe\">\n",
       "  <thead>\n",
       "    <tr style=\"text-align: right;\">\n",
       "      <th></th>\n",
       "      <th>name</th>\n",
       "      <th>link</th>\n",
       "    </tr>\n",
       "  </thead>\n",
       "  <tbody>\n",
       "    <tr>\n",
       "      <td>0</td>\n",
       "      <td>Bitcoin</td>\n",
       "      <td>bitcoin</td>\n",
       "    </tr>\n",
       "    <tr>\n",
       "      <td>1</td>\n",
       "      <td>Ethereum</td>\n",
       "      <td>ethereum</td>\n",
       "    </tr>\n",
       "  </tbody>\n",
       "</table>\n",
       "</div>"
      ],
      "text/plain": [
       "       name      link\n",
       "0   Bitcoin   bitcoin\n",
       "1  Ethereum  ethereum"
      ]
     },
     "execution_count": 15,
     "metadata": {},
     "output_type": "execute_result"
    }
   ],
   "source": [
    "df_currencies.head(2)"
   ]
  },
  {
   "cell_type": "code",
   "execution_count": 18,
   "metadata": {},
   "outputs": [],
   "source": [
    "df_currencies.to_csv(path + 'currencies.csv', index=False)"
   ]
  },
  {
   "cell_type": "markdown",
   "metadata": {},
   "source": [
    "### Daten von den einzelnen Währungen"
   ]
  },
  {
   "cell_type": "markdown",
   "metadata": {},
   "source": [
    "Zuerst testen wir mit einer Probewährung aus, wie wir an die Informationen kommen."
   ]
  },
  {
   "cell_type": "code",
   "execution_count": 19,
   "metadata": {},
   "outputs": [],
   "source": [
    "base_url = 'https://coinmarketcap.com/currencies/bitcoin/historical-data/?start=20181012&end=20191012'"
   ]
  },
  {
   "cell_type": "code",
   "execution_count": 20,
   "metadata": {},
   "outputs": [],
   "source": [
    "response = requests.get(base_url)\n",
    "doc = BeautifulSoup(response.text, \"html.parser\")"
   ]
  },
  {
   "cell_type": "code",
   "execution_count": 21,
   "metadata": {},
   "outputs": [],
   "source": [
    "days = doc.find_all('tr', class_='text-right')"
   ]
  },
  {
   "cell_type": "code",
   "execution_count": 22,
   "metadata": {},
   "outputs": [],
   "source": [
    "days_list = []"
   ]
  },
  {
   "cell_type": "code",
   "execution_count": 23,
   "metadata": {},
   "outputs": [],
   "source": [
    "cells = days[0].find_all('td')"
   ]
  },
  {
   "cell_type": "code",
   "execution_count": 24,
   "metadata": {},
   "outputs": [
    {
     "data": {
      "text/plain": [
       "[<td class=\"text-left\">Oct 12, 2019</td>,\n",
       " <td data-format-fiat=\"\" data-format-value=\"8315.66465289\">8315.66</td>,\n",
       " <td data-format-fiat=\"\" data-format-value=\"8415.24222171\">8415.24</td>,\n",
       " <td data-format-fiat=\"\" data-format-value=\"8313.34130028\">8313.34</td>,\n",
       " <td data-format-fiat=\"\" data-format-value=\"8336.55527417\">8336.56</td>,\n",
       " <td data-format-market-cap=\"\" data-format-value=\"14532641604.5\">14,532,641,605</td>,\n",
       " <td data-format-market-cap=\"\" data-format-value=\"1.49965767624e+11\">149,965,767,624</td>]"
      ]
     },
     "execution_count": 24,
     "metadata": {},
     "output_type": "execute_result"
    }
   ],
   "source": [
    "cells"
   ]
  },
  {
   "cell_type": "code",
   "execution_count": 25,
   "metadata": {},
   "outputs": [],
   "source": [
    "this_day = {}"
   ]
  },
  {
   "cell_type": "code",
   "execution_count": 26,
   "metadata": {},
   "outputs": [],
   "source": [
    "this_day['date'] = cells[0].text\n",
    "this_day['open'] = cells[1].text\n",
    "this_day['high'] = cells[2].text\n",
    "this_day['low'] = cells[3].text\n",
    "this_day['close'] = cells[4].text\n",
    "this_day['volume'] = cells[5].text\n",
    "this_day['marketcap'] = cells[6].text"
   ]
  },
  {
   "cell_type": "code",
   "execution_count": 27,
   "metadata": {},
   "outputs": [
    {
     "data": {
      "text/plain": [
       "{'date': 'Oct 12, 2019',\n",
       " 'open': '8315.66',\n",
       " 'high': '8415.24',\n",
       " 'low': '8313.34',\n",
       " 'close': '8336.56',\n",
       " 'volume': '14,532,641,605',\n",
       " 'marketcap': '149,965,767,624'}"
      ]
     },
     "execution_count": 27,
     "metadata": {},
     "output_type": "execute_result"
    }
   ],
   "source": [
    "this_day"
   ]
  },
  {
   "cell_type": "code",
   "execution_count": 28,
   "metadata": {},
   "outputs": [],
   "source": [
    "for day in days:\n",
    "    this_day = {}\n",
    "    cells = day.find_all('td')\n",
    "    this_day['date'] = cells[0].text\n",
    "    this_day['open'] = cells[1].text\n",
    "    this_day['high'] = cells[2].text\n",
    "    this_day['low'] = cells[3].text\n",
    "    this_day['close'] = cells[4].text\n",
    "    this_day['volume'] = cells[5].text\n",
    "    this_day['marketcap'] = cells[6].text\n",
    "    days_list.append(this_day)"
   ]
  },
  {
   "cell_type": "code",
   "execution_count": 29,
   "metadata": {},
   "outputs": [],
   "source": [
    "df = pd.DataFrame(days_list)"
   ]
  },
  {
   "cell_type": "code",
   "execution_count": 30,
   "metadata": {},
   "outputs": [
    {
     "data": {
      "text/html": [
       "<div>\n",
       "<style scoped>\n",
       "    .dataframe tbody tr th:only-of-type {\n",
       "        vertical-align: middle;\n",
       "    }\n",
       "\n",
       "    .dataframe tbody tr th {\n",
       "        vertical-align: top;\n",
       "    }\n",
       "\n",
       "    .dataframe thead th {\n",
       "        text-align: right;\n",
       "    }\n",
       "</style>\n",
       "<table border=\"1\" class=\"dataframe\">\n",
       "  <thead>\n",
       "    <tr style=\"text-align: right;\">\n",
       "      <th></th>\n",
       "      <th>date</th>\n",
       "      <th>open</th>\n",
       "      <th>high</th>\n",
       "      <th>low</th>\n",
       "      <th>close</th>\n",
       "      <th>volume</th>\n",
       "      <th>marketcap</th>\n",
       "    </tr>\n",
       "  </thead>\n",
       "  <tbody>\n",
       "    <tr>\n",
       "      <td>0</td>\n",
       "      <td>Oct 12, 2019</td>\n",
       "      <td>8315.66</td>\n",
       "      <td>8415.24</td>\n",
       "      <td>8313.34</td>\n",
       "      <td>8336.56</td>\n",
       "      <td>14,532,641,605</td>\n",
       "      <td>149,965,767,624</td>\n",
       "    </tr>\n",
       "    <tr>\n",
       "      <td>1</td>\n",
       "      <td>Oct 11, 2019</td>\n",
       "      <td>8585.26</td>\n",
       "      <td>8721.78</td>\n",
       "      <td>8316.18</td>\n",
       "      <td>8321.76</td>\n",
       "      <td>19,604,381,101</td>\n",
       "      <td>149,685,618,275</td>\n",
       "    </tr>\n",
       "  </tbody>\n",
       "</table>\n",
       "</div>"
      ],
      "text/plain": [
       "           date     open     high      low    close          volume  \\\n",
       "0  Oct 12, 2019  8315.66  8415.24  8313.34  8336.56  14,532,641,605   \n",
       "1  Oct 11, 2019  8585.26  8721.78  8316.18  8321.76  19,604,381,101   \n",
       "\n",
       "         marketcap  \n",
       "0  149,965,767,624  \n",
       "1  149,685,618,275  "
      ]
     },
     "execution_count": 30,
     "metadata": {},
     "output_type": "execute_result"
    }
   ],
   "source": [
    "df.head(2)"
   ]
  },
  {
   "cell_type": "markdown",
   "metadata": {},
   "source": [
    "Nun wenden wir den Scraper auf alle Währungen an"
   ]
  },
  {
   "cell_type": "code",
   "execution_count": 33,
   "metadata": {},
   "outputs": [],
   "source": [
    "df_currencies = pd.read_csv(path + 'currencies.csv')"
   ]
  },
  {
   "cell_type": "code",
   "execution_count": 34,
   "metadata": {},
   "outputs": [
    {
     "data": {
      "text/html": [
       "<div>\n",
       "<style scoped>\n",
       "    .dataframe tbody tr th:only-of-type {\n",
       "        vertical-align: middle;\n",
       "    }\n",
       "\n",
       "    .dataframe tbody tr th {\n",
       "        vertical-align: top;\n",
       "    }\n",
       "\n",
       "    .dataframe thead th {\n",
       "        text-align: right;\n",
       "    }\n",
       "</style>\n",
       "<table border=\"1\" class=\"dataframe\">\n",
       "  <thead>\n",
       "    <tr style=\"text-align: right;\">\n",
       "      <th></th>\n",
       "      <th>name</th>\n",
       "      <th>link</th>\n",
       "    </tr>\n",
       "  </thead>\n",
       "  <tbody>\n",
       "    <tr>\n",
       "      <td>0</td>\n",
       "      <td>Bitcoin</td>\n",
       "      <td>bitcoin</td>\n",
       "    </tr>\n",
       "    <tr>\n",
       "      <td>1</td>\n",
       "      <td>Ethereum</td>\n",
       "      <td>ethereum</td>\n",
       "    </tr>\n",
       "  </tbody>\n",
       "</table>\n",
       "</div>"
      ],
      "text/plain": [
       "       name      link\n",
       "0   Bitcoin   bitcoin\n",
       "1  Ethereum  ethereum"
      ]
     },
     "execution_count": 34,
     "metadata": {},
     "output_type": "execute_result"
    }
   ],
   "source": [
    "df_currencies.head(2)"
   ]
  },
  {
   "cell_type": "code",
   "execution_count": 35,
   "metadata": {},
   "outputs": [
    {
     "data": {
      "text/plain": [
       "100"
      ]
     },
     "execution_count": 35,
     "metadata": {},
     "output_type": "execute_result"
    }
   ],
   "source": [
    "len(df_currencies)"
   ]
  },
  {
   "cell_type": "code",
   "execution_count": 36,
   "metadata": {},
   "outputs": [],
   "source": [
    "currencies = df_currencies.to_dict(orient='records')"
   ]
  },
  {
   "cell_type": "code",
   "execution_count": 37,
   "metadata": {},
   "outputs": [],
   "source": [
    "url_start = 'https://coinmarketcap.com/currencies/'\n",
    "url_end = '/historical-data/?start=20181012&end=20191012'"
   ]
  },
  {
   "cell_type": "code",
   "execution_count": 42,
   "metadata": {},
   "outputs": [
    {
     "name": "stdout",
     "output_type": "stream",
     "text": [
      "working on: Bitcoin\n",
      "working on: Ethereum\n",
      "working on: XRP\n",
      "working on: Tether\n",
      "working on: Bitcoin Cash\n",
      "working on: Litecoin\n",
      "working on: EOS\n",
      "working on: Binance Coin\n",
      "working on: Bitcoin SV\n",
      "working on: Stellar\n",
      "working on: TRON\n",
      "working on: Cardano\n",
      "working on: UNUS SED LEO\n",
      "working on: Monero\n",
      "working on: Chainlink\n",
      "working on: Huobi Token\n",
      "working on: IOTA\n",
      "working on: Dash\n",
      "working on: Tezos\n",
      "working on: Ethereum Classic\n",
      "working on: Cosmos\n",
      "working on: NEO\n",
      "working on: Maker\n",
      "working on: USD Coin\n",
      "working on: Crypto.com Coin\n",
      "working on: NEM\n",
      "working on: Ontology\n",
      "working on: Dogecoin\n",
      "working on: Zcash\n",
      "working on: Basic Attenti...\n",
      "working on: Paxos Standard\n",
      "working on: HedgeTrade\n",
      "working on: VeChain\n",
      "working on: TrueUSD\n",
      "working on: Qtum\n",
      "working on: Decred\n",
      "working on: Ravencoin\n",
      "working on: 0x\n",
      "working on: V Systems\n",
      "working on: ZB\n",
      "working on: Bitcoin Gold\n",
      "working on: Holo\n",
      "working on: ABBC Coin\n",
      "working on: EDUCare\n",
      "working on: OmiseGO\n",
      "working on: Swipe\n",
      "working on: DigiByte\n",
      "working on: Centrality\n",
      "working on: Algorand\n",
      "working on: Nano\n",
      "working on: KuCoin Shares\n",
      "working on: Lisk\n",
      "working on: Siacoin\n",
      "working on: BitTorrent\n",
      "working on: Bitcoin Diamond\n",
      "working on: Augur\n",
      "working on: Waves\n",
      "working on: Dai\n",
      "working on: ICON\n",
      "working on: Bytecoin\n",
      "working on: THETA\n",
      "working on: MonaCoin\n",
      "working on: BitShares\n",
      "working on: Synthetix Net...\n",
      "working on: Quant\n",
      "working on: Komodo\n",
      "working on: MaidSafeCoin\n",
      "working on: HyperCash\n",
      "working on: IOST\n",
      "working on: Verge\n",
      "working on: MCO\n",
      "working on: Bytom\n",
      "working on: Crypterium\n",
      "working on: Energi\n",
      "working on: Ardor\n",
      "working on: RIF Token\n",
      "working on: Nexo\n",
      "working on: Aeternity\n",
      "working on: Golem\n",
      "working on: Aurora\n",
      "working on: Zilliqa\n",
      "working on: Pundi X\n",
      "working on: Enjin Coin\n",
      "working on: Ren\n",
      "working on: Steem\n",
      "working on: Zcoin\n",
      "working on: Status\n",
      "working on: aelf\n",
      "working on: Nash Exchange\n",
      "working on: Jewel\n",
      "working on: Seele\n",
      "working on: Electroneum\n",
      "working on: BitCapitalVendor\n",
      "working on: Newton\n",
      "working on: STASIS EURO\n",
      "working on: Factom\n",
      "working on: Stratis\n",
      "working on: Decentraland\n",
      "working on: XMax\n",
      "working on: Dentacoin\n",
      "Done\n"
     ]
    }
   ],
   "source": [
    "for currency in currencies:\n",
    "    print ('working on: ' + currency['name'])\n",
    "    \n",
    "    url = url_start + currency['link'] + url_end\n",
    "    response = requests.get(url)\n",
    "    doc = BeautifulSoup(response.text, \"html.parser\")\n",
    "    \n",
    "    # print (doc)\n",
    "    \n",
    "    days = doc.find_all('tr', class_='text-right')\n",
    "    days_list = []\n",
    "    \n",
    "    this_day = {}\n",
    "    for day in days:\n",
    "        this_day = {}\n",
    "        cells = day.find_all('td')\n",
    "        this_day['date'] = cells[0].text\n",
    "        this_day['open'] = cells[1].text\n",
    "        this_day['high'] = cells[2].text\n",
    "        this_day['low'] = cells[3].text\n",
    "        this_day['close'] = cells[4].text\n",
    "        this_day['volume'] = cells[5].text\n",
    "        this_day['marketcap'] = cells[6].text\n",
    "        days_list.append(this_day)\n",
    "        \n",
    "    df = pd.DataFrame(days_list)\n",
    "    filename = currency['name'] + '.csv'\n",
    "    df.to_csv(path + 'data/' + filename, index=False)\n",
    "    \n",
    "    time.sleep(10)\n",
    "    \n",
    "print('Done')"
   ]
  },
  {
   "cell_type": "markdown",
   "metadata": {
    "collapsed": true
   },
   "source": [
    "Am Ende haben wir eine Liste von Dateien: Zu jeder Kryptowährung existiert eine Tabelle mit den Marktdaten über den definierten Zeitraum.\n",
    "\n",
    "Die Daten sind im Unterordner `data/` abgelegt."
   ]
  },
  {
   "cell_type": "code",
   "execution_count": null,
   "metadata": {},
   "outputs": [],
   "source": []
  }
 ],
 "metadata": {
  "kernelspec": {
   "display_name": "Python 3",
   "language": "python",
   "name": "python3"
  },
  "language_info": {
   "codemirror_mode": {
    "name": "ipython",
    "version": 3
   },
   "file_extension": ".py",
   "mimetype": "text/x-python",
   "name": "python",
   "nbconvert_exporter": "python",
   "pygments_lexer": "ipython3",
   "version": "3.7.3"
  }
 },
 "nbformat": 4,
 "nbformat_minor": 2
}
