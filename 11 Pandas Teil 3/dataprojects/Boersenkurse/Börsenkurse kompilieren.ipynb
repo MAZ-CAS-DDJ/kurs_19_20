{
 "cells": [
  {
   "cell_type": "markdown",
   "metadata": {},
   "source": [
    "# Börsenkurse kompilieren"
   ]
  },
  {
   "cell_type": "code",
   "execution_count": 20,
   "metadata": {},
   "outputs": [],
   "source": [
    "import pandas as pd"
   ]
  },
  {
   "cell_type": "code",
   "execution_count": 21,
   "metadata": {},
   "outputs": [],
   "source": [
    "import glob"
   ]
  },
  {
   "cell_type": "markdown",
   "metadata": {},
   "source": [
    "## Dateien laden"
   ]
  },
  {
   "cell_type": "markdown",
   "metadata": {},
   "source": [
    "**Liste der Dateien erstellen**"
   ]
  },
  {
   "cell_type": "code",
   "execution_count": 22,
   "metadata": {},
   "outputs": [],
   "source": [
    "path = 'Bluechips/'"
   ]
  },
  {
   "cell_type": "code",
   "execution_count": 23,
   "metadata": {},
   "outputs": [],
   "source": [
    "filenames = glob.glob(path + '*.csv')"
   ]
  },
  {
   "cell_type": "code",
   "execution_count": 24,
   "metadata": {},
   "outputs": [
    {
     "data": {
      "text/plain": [
       "'Bluechips/ZURN.SW.csv'"
      ]
     },
     "execution_count": 24,
     "metadata": {},
     "output_type": "execute_result"
    }
   ],
   "source": [
    "filenames[0]"
   ]
  },
  {
   "cell_type": "markdown",
   "metadata": {},
   "source": [
    "**Liste von Dataframes mit den Dateien**"
   ]
  },
  {
   "cell_type": "code",
   "execution_count": 25,
   "metadata": {},
   "outputs": [],
   "source": [
    "dfs = []"
   ]
  },
  {
   "cell_type": "code",
   "execution_count": 26,
   "metadata": {},
   "outputs": [],
   "source": [
    "dfs = [pd.read_csv(filename) for filename in filenames]"
   ]
  },
  {
   "cell_type": "markdown",
   "metadata": {},
   "source": [
    "## Daten aggregieren"
   ]
  },
  {
   "cell_type": "markdown",
   "metadata": {},
   "source": [
    "**Spalte mit Company Name hinzufügen**"
   ]
  },
  {
   "cell_type": "code",
   "execution_count": 27,
   "metadata": {},
   "outputs": [],
   "source": [
    "for df, filename in zip(dfs, filenames):\n",
    "    df['Ticker'] = filename\n",
    "    df['Ticker'] = df['Ticker'].str.extract(path + '(.+).SW.csv')"
   ]
  },
  {
   "cell_type": "code",
   "execution_count": 28,
   "metadata": {},
   "outputs": [
    {
     "data": {
      "text/html": [
       "<div>\n",
       "<style scoped>\n",
       "    .dataframe tbody tr th:only-of-type {\n",
       "        vertical-align: middle;\n",
       "    }\n",
       "\n",
       "    .dataframe tbody tr th {\n",
       "        vertical-align: top;\n",
       "    }\n",
       "\n",
       "    .dataframe thead th {\n",
       "        text-align: right;\n",
       "    }\n",
       "</style>\n",
       "<table border=\"1\" class=\"dataframe\">\n",
       "  <thead>\n",
       "    <tr style=\"text-align: right;\">\n",
       "      <th></th>\n",
       "      <th>Date</th>\n",
       "      <th>Open</th>\n",
       "      <th>High</th>\n",
       "      <th>Low</th>\n",
       "      <th>Close</th>\n",
       "      <th>Adj Close</th>\n",
       "      <th>Volume</th>\n",
       "      <th>Ticker</th>\n",
       "    </tr>\n",
       "  </thead>\n",
       "  <tbody>\n",
       "    <tr>\n",
       "      <td>0</td>\n",
       "      <td>2014-10-13</td>\n",
       "      <td>276.600006</td>\n",
       "      <td>280.100006</td>\n",
       "      <td>275.700012</td>\n",
       "      <td>279.000000</td>\n",
       "      <td>208.469727</td>\n",
       "      <td>508243</td>\n",
       "      <td>ZURN</td>\n",
       "    </tr>\n",
       "    <tr>\n",
       "      <td>1</td>\n",
       "      <td>2014-10-14</td>\n",
       "      <td>277.500000</td>\n",
       "      <td>278.500000</td>\n",
       "      <td>275.299988</td>\n",
       "      <td>277.600006</td>\n",
       "      <td>207.423630</td>\n",
       "      <td>669957</td>\n",
       "      <td>ZURN</td>\n",
       "    </tr>\n",
       "  </tbody>\n",
       "</table>\n",
       "</div>"
      ],
      "text/plain": [
       "         Date        Open        High         Low       Close   Adj Close  \\\n",
       "0  2014-10-13  276.600006  280.100006  275.700012  279.000000  208.469727   \n",
       "1  2014-10-14  277.500000  278.500000  275.299988  277.600006  207.423630   \n",
       "\n",
       "   Volume Ticker  \n",
       "0  508243   ZURN  \n",
       "1  669957   ZURN  "
      ]
     },
     "execution_count": 28,
     "metadata": {},
     "output_type": "execute_result"
    }
   ],
   "source": [
    "dfs[0].head(2)"
   ]
  },
  {
   "cell_type": "markdown",
   "metadata": {},
   "source": [
    "**Daten aneinanderreihen**"
   ]
  },
  {
   "cell_type": "code",
   "execution_count": 34,
   "metadata": {},
   "outputs": [],
   "source": [
    "df_all = pd.concat(dfs, ignore_index=True)"
   ]
  },
  {
   "cell_type": "code",
   "execution_count": 35,
   "metadata": {},
   "outputs": [
    {
     "data": {
      "text/html": [
       "<div>\n",
       "<style scoped>\n",
       "    .dataframe tbody tr th:only-of-type {\n",
       "        vertical-align: middle;\n",
       "    }\n",
       "\n",
       "    .dataframe tbody tr th {\n",
       "        vertical-align: top;\n",
       "    }\n",
       "\n",
       "    .dataframe thead th {\n",
       "        text-align: right;\n",
       "    }\n",
       "</style>\n",
       "<table border=\"1\" class=\"dataframe\">\n",
       "  <thead>\n",
       "    <tr style=\"text-align: right;\">\n",
       "      <th></th>\n",
       "      <th>Date</th>\n",
       "      <th>Open</th>\n",
       "      <th>High</th>\n",
       "      <th>Low</th>\n",
       "      <th>Close</th>\n",
       "      <th>Adj Close</th>\n",
       "      <th>Volume</th>\n",
       "      <th>Ticker</th>\n",
       "    </tr>\n",
       "  </thead>\n",
       "  <tbody>\n",
       "    <tr>\n",
       "      <td>0</td>\n",
       "      <td>2014-10-13</td>\n",
       "      <td>276.600006</td>\n",
       "      <td>280.100006</td>\n",
       "      <td>275.700012</td>\n",
       "      <td>279.000000</td>\n",
       "      <td>208.469727</td>\n",
       "      <td>508243.0</td>\n",
       "      <td>ZURN</td>\n",
       "    </tr>\n",
       "    <tr>\n",
       "      <td>1</td>\n",
       "      <td>2014-10-14</td>\n",
       "      <td>277.500000</td>\n",
       "      <td>278.500000</td>\n",
       "      <td>275.299988</td>\n",
       "      <td>277.600006</td>\n",
       "      <td>207.423630</td>\n",
       "      <td>669957.0</td>\n",
       "      <td>ZURN</td>\n",
       "    </tr>\n",
       "  </tbody>\n",
       "</table>\n",
       "</div>"
      ],
      "text/plain": [
       "         Date        Open        High         Low       Close   Adj Close  \\\n",
       "0  2014-10-13  276.600006  280.100006  275.700012  279.000000  208.469727   \n",
       "1  2014-10-14  277.500000  278.500000  275.299988  277.600006  207.423630   \n",
       "\n",
       "     Volume Ticker  \n",
       "0  508243.0   ZURN  \n",
       "1  669957.0   ZURN  "
      ]
     },
     "execution_count": 35,
     "metadata": {},
     "output_type": "execute_result"
    }
   ],
   "source": [
    "df_all.head(2)"
   ]
  },
  {
   "cell_type": "code",
   "execution_count": 36,
   "metadata": {},
   "outputs": [
    {
     "data": {
      "text/html": [
       "<div>\n",
       "<style scoped>\n",
       "    .dataframe tbody tr th:only-of-type {\n",
       "        vertical-align: middle;\n",
       "    }\n",
       "\n",
       "    .dataframe tbody tr th {\n",
       "        vertical-align: top;\n",
       "    }\n",
       "\n",
       "    .dataframe thead th {\n",
       "        text-align: right;\n",
       "    }\n",
       "</style>\n",
       "<table border=\"1\" class=\"dataframe\">\n",
       "  <thead>\n",
       "    <tr style=\"text-align: right;\">\n",
       "      <th></th>\n",
       "      <th>Date</th>\n",
       "      <th>Open</th>\n",
       "      <th>High</th>\n",
       "      <th>Low</th>\n",
       "      <th>Close</th>\n",
       "      <th>Adj Close</th>\n",
       "      <th>Volume</th>\n",
       "      <th>Ticker</th>\n",
       "    </tr>\n",
       "  </thead>\n",
       "  <tbody>\n",
       "    <tr>\n",
       "      <td>34265</td>\n",
       "      <td>2019-10-10</td>\n",
       "      <td>260.000000</td>\n",
       "      <td>261.899994</td>\n",
       "      <td>253.500000</td>\n",
       "      <td>256.700012</td>\n",
       "      <td>256.700012</td>\n",
       "      <td>415185.0</td>\n",
       "      <td>UHR</td>\n",
       "    </tr>\n",
       "    <tr>\n",
       "      <td>34266</td>\n",
       "      <td>2019-10-11</td>\n",
       "      <td>257.899994</td>\n",
       "      <td>263.500000</td>\n",
       "      <td>254.800003</td>\n",
       "      <td>262.799988</td>\n",
       "      <td>262.799988</td>\n",
       "      <td>477140.0</td>\n",
       "      <td>UHR</td>\n",
       "    </tr>\n",
       "  </tbody>\n",
       "</table>\n",
       "</div>"
      ],
      "text/plain": [
       "             Date        Open        High         Low       Close   Adj Close  \\\n",
       "34265  2019-10-10  260.000000  261.899994  253.500000  256.700012  256.700012   \n",
       "34266  2019-10-11  257.899994  263.500000  254.800003  262.799988  262.799988   \n",
       "\n",
       "         Volume Ticker  \n",
       "34265  415185.0    UHR  \n",
       "34266  477140.0    UHR  "
      ]
     },
     "execution_count": 36,
     "metadata": {},
     "output_type": "execute_result"
    }
   ],
   "source": [
    "df_all.tail(2)"
   ]
  },
  {
   "cell_type": "markdown",
   "metadata": {},
   "source": [
    "**Name für Ticker hinzufügen**"
   ]
  },
  {
   "cell_type": "code",
   "execution_count": 37,
   "metadata": {},
   "outputs": [],
   "source": [
    "df_names = pd.read_csv('company_names.csv')"
   ]
  },
  {
   "cell_type": "code",
   "execution_count": 38,
   "metadata": {},
   "outputs": [
    {
     "data": {
      "text/html": [
       "<div>\n",
       "<style scoped>\n",
       "    .dataframe tbody tr th:only-of-type {\n",
       "        vertical-align: middle;\n",
       "    }\n",
       "\n",
       "    .dataframe tbody tr th {\n",
       "        vertical-align: top;\n",
       "    }\n",
       "\n",
       "    .dataframe thead th {\n",
       "        text-align: right;\n",
       "    }\n",
       "</style>\n",
       "<table border=\"1\" class=\"dataframe\">\n",
       "  <thead>\n",
       "    <tr style=\"text-align: right;\">\n",
       "      <th></th>\n",
       "      <th>Company</th>\n",
       "      <th>Ticker</th>\n",
       "    </tr>\n",
       "  </thead>\n",
       "  <tbody>\n",
       "    <tr>\n",
       "      <td>0</td>\n",
       "      <td>ABB LTD</td>\n",
       "      <td>ABBN</td>\n",
       "    </tr>\n",
       "    <tr>\n",
       "      <td>1</td>\n",
       "      <td>ADECCO</td>\n",
       "      <td>ADEN</td>\n",
       "    </tr>\n",
       "  </tbody>\n",
       "</table>\n",
       "</div>"
      ],
      "text/plain": [
       "   Company Ticker\n",
       "0  ABB LTD   ABBN\n",
       "1   ADECCO   ADEN"
      ]
     },
     "execution_count": 38,
     "metadata": {},
     "output_type": "execute_result"
    }
   ],
   "source": [
    "df_names.head(2)"
   ]
  },
  {
   "cell_type": "code",
   "execution_count": 40,
   "metadata": {},
   "outputs": [],
   "source": [
    "df_all_m = df_all.merge(df_names, how='left', on='Ticker')"
   ]
  },
  {
   "cell_type": "markdown",
   "metadata": {},
   "source": [
    "**Spalte Close auswählen und Pivot**"
   ]
  },
  {
   "cell_type": "code",
   "execution_count": 43,
   "metadata": {},
   "outputs": [],
   "source": [
    "df_pivoted = df_all_m.pivot(index='Date', columns='Company', values='Close')"
   ]
  },
  {
   "cell_type": "code",
   "execution_count": 44,
   "metadata": {},
   "outputs": [
    {
     "data": {
      "text/html": [
       "<div>\n",
       "<style scoped>\n",
       "    .dataframe tbody tr th:only-of-type {\n",
       "        vertical-align: middle;\n",
       "    }\n",
       "\n",
       "    .dataframe tbody tr th {\n",
       "        vertical-align: top;\n",
       "    }\n",
       "\n",
       "    .dataframe thead th {\n",
       "        text-align: right;\n",
       "    }\n",
       "</style>\n",
       "<table border=\"1\" class=\"dataframe\">\n",
       "  <thead>\n",
       "    <tr style=\"text-align: right;\">\n",
       "      <th>Company</th>\n",
       "      <th>ABB LTD</th>\n",
       "      <th>ADECCO</th>\n",
       "      <th>ALCON</th>\n",
       "      <th>AMS</th>\n",
       "      <th>CLARIANT</th>\n",
       "      <th>CS GROUP</th>\n",
       "      <th>GEBERIT</th>\n",
       "      <th>GIVAUDAN</th>\n",
       "      <th>JULIUS BAER</th>\n",
       "      <th>KUEHNE+NAGEL INT</th>\n",
       "      <th>...</th>\n",
       "      <th>SIKA</th>\n",
       "      <th>SONOVA</th>\n",
       "      <th>SWATCH GROUP</th>\n",
       "      <th>SWISS LIFE HOLDING</th>\n",
       "      <th>SWISS RE</th>\n",
       "      <th>SWISSCOM</th>\n",
       "      <th>TEMENOS</th>\n",
       "      <th>UBS GROUP</th>\n",
       "      <th>VIFOR</th>\n",
       "      <th>ZURICH INSURANCE</th>\n",
       "    </tr>\n",
       "    <tr>\n",
       "      <th>Date</th>\n",
       "      <th></th>\n",
       "      <th></th>\n",
       "      <th></th>\n",
       "      <th></th>\n",
       "      <th></th>\n",
       "      <th></th>\n",
       "      <th></th>\n",
       "      <th></th>\n",
       "      <th></th>\n",
       "      <th></th>\n",
       "      <th></th>\n",
       "      <th></th>\n",
       "      <th></th>\n",
       "      <th></th>\n",
       "      <th></th>\n",
       "      <th></th>\n",
       "      <th></th>\n",
       "      <th></th>\n",
       "      <th></th>\n",
       "      <th></th>\n",
       "      <th></th>\n",
       "    </tr>\n",
       "  </thead>\n",
       "  <tbody>\n",
       "    <tr>\n",
       "      <td>2014-10-13</td>\n",
       "      <td>19.65</td>\n",
       "      <td>60.400002</td>\n",
       "      <td>NaN</td>\n",
       "      <td>NaN</td>\n",
       "      <td>15.54</td>\n",
       "      <td>23.689699</td>\n",
       "      <td>289.799988</td>\n",
       "      <td>1461.0</td>\n",
       "      <td>39.50</td>\n",
       "      <td>117.300003</td>\n",
       "      <td>...</td>\n",
       "      <td>51.849998</td>\n",
       "      <td>143.899994</td>\n",
       "      <td>436.100006</td>\n",
       "      <td>211.899994</td>\n",
       "      <td>73.650002</td>\n",
       "      <td>531.5</td>\n",
       "      <td>32.0</td>\n",
       "      <td>15.30</td>\n",
       "      <td>74.449997</td>\n",
       "      <td>279.000000</td>\n",
       "    </tr>\n",
       "    <tr>\n",
       "      <td>2014-10-14</td>\n",
       "      <td>19.76</td>\n",
       "      <td>60.700001</td>\n",
       "      <td>NaN</td>\n",
       "      <td>NaN</td>\n",
       "      <td>15.58</td>\n",
       "      <td>23.689699</td>\n",
       "      <td>294.399994</td>\n",
       "      <td>1478.0</td>\n",
       "      <td>39.77</td>\n",
       "      <td>118.400002</td>\n",
       "      <td>...</td>\n",
       "      <td>52.716702</td>\n",
       "      <td>138.399994</td>\n",
       "      <td>435.299988</td>\n",
       "      <td>211.100006</td>\n",
       "      <td>73.050003</td>\n",
       "      <td>530.0</td>\n",
       "      <td>32.5</td>\n",
       "      <td>15.33</td>\n",
       "      <td>75.000000</td>\n",
       "      <td>277.600006</td>\n",
       "    </tr>\n",
       "  </tbody>\n",
       "</table>\n",
       "<p>2 rows × 30 columns</p>\n",
       "</div>"
      ],
      "text/plain": [
       "Company     ABB LTD     ADECCO  ALCON  AMS  CLARIANT   CS GROUP     GEBERIT  \\\n",
       "Date                                                                          \n",
       "2014-10-13    19.65  60.400002    NaN  NaN     15.54  23.689699  289.799988   \n",
       "2014-10-14    19.76  60.700001    NaN  NaN     15.58  23.689699  294.399994   \n",
       "\n",
       "Company     GIVAUDAN  JULIUS BAER  KUEHNE+NAGEL INT  ...       SIKA  \\\n",
       "Date                                                 ...              \n",
       "2014-10-13    1461.0        39.50        117.300003  ...  51.849998   \n",
       "2014-10-14    1478.0        39.77        118.400002  ...  52.716702   \n",
       "\n",
       "Company         SONOVA  SWATCH GROUP  SWISS LIFE HOLDING   SWISS RE  SWISSCOM  \\\n",
       "Date                                                                            \n",
       "2014-10-13  143.899994    436.100006          211.899994  73.650002     531.5   \n",
       "2014-10-14  138.399994    435.299988          211.100006  73.050003     530.0   \n",
       "\n",
       "Company     TEMENOS  UBS GROUP      VIFOR  ZURICH INSURANCE  \n",
       "Date                                                         \n",
       "2014-10-13     32.0      15.30  74.449997        279.000000  \n",
       "2014-10-14     32.5      15.33  75.000000        277.600006  \n",
       "\n",
       "[2 rows x 30 columns]"
      ]
     },
     "execution_count": 44,
     "metadata": {},
     "output_type": "execute_result"
    }
   ],
   "source": [
    "df_pivoted.head(2)"
   ]
  },
  {
   "cell_type": "code",
   "execution_count": 45,
   "metadata": {},
   "outputs": [],
   "source": [
    "df_pivoted.rename_axis(None, inplace=True)"
   ]
  },
  {
   "cell_type": "code",
   "execution_count": 46,
   "metadata": {},
   "outputs": [],
   "source": [
    "df_pivoted.rename_axis(None, inplace=True)"
   ]
  },
  {
   "cell_type": "code",
   "execution_count": 47,
   "metadata": {},
   "outputs": [
    {
     "data": {
      "text/html": [
       "<div>\n",
       "<style scoped>\n",
       "    .dataframe tbody tr th:only-of-type {\n",
       "        vertical-align: middle;\n",
       "    }\n",
       "\n",
       "    .dataframe tbody tr th {\n",
       "        vertical-align: top;\n",
       "    }\n",
       "\n",
       "    .dataframe thead th {\n",
       "        text-align: right;\n",
       "    }\n",
       "</style>\n",
       "<table border=\"1\" class=\"dataframe\">\n",
       "  <thead>\n",
       "    <tr style=\"text-align: right;\">\n",
       "      <th>Company</th>\n",
       "      <th>ABB LTD</th>\n",
       "      <th>ADECCO</th>\n",
       "      <th>ALCON</th>\n",
       "      <th>AMS</th>\n",
       "      <th>CLARIANT</th>\n",
       "      <th>CS GROUP</th>\n",
       "      <th>GEBERIT</th>\n",
       "      <th>GIVAUDAN</th>\n",
       "      <th>JULIUS BAER</th>\n",
       "      <th>KUEHNE+NAGEL INT</th>\n",
       "      <th>...</th>\n",
       "      <th>SIKA</th>\n",
       "      <th>SONOVA</th>\n",
       "      <th>SWATCH GROUP</th>\n",
       "      <th>SWISS LIFE HOLDING</th>\n",
       "      <th>SWISS RE</th>\n",
       "      <th>SWISSCOM</th>\n",
       "      <th>TEMENOS</th>\n",
       "      <th>UBS GROUP</th>\n",
       "      <th>VIFOR</th>\n",
       "      <th>ZURICH INSURANCE</th>\n",
       "    </tr>\n",
       "  </thead>\n",
       "  <tbody>\n",
       "    <tr>\n",
       "      <td>2014-10-13</td>\n",
       "      <td>19.65</td>\n",
       "      <td>60.400002</td>\n",
       "      <td>NaN</td>\n",
       "      <td>NaN</td>\n",
       "      <td>15.54</td>\n",
       "      <td>23.689699</td>\n",
       "      <td>289.799988</td>\n",
       "      <td>1461.0</td>\n",
       "      <td>39.50</td>\n",
       "      <td>117.300003</td>\n",
       "      <td>...</td>\n",
       "      <td>51.849998</td>\n",
       "      <td>143.899994</td>\n",
       "      <td>436.100006</td>\n",
       "      <td>211.899994</td>\n",
       "      <td>73.650002</td>\n",
       "      <td>531.5</td>\n",
       "      <td>32.0</td>\n",
       "      <td>15.30</td>\n",
       "      <td>74.449997</td>\n",
       "      <td>279.000000</td>\n",
       "    </tr>\n",
       "    <tr>\n",
       "      <td>2014-10-14</td>\n",
       "      <td>19.76</td>\n",
       "      <td>60.700001</td>\n",
       "      <td>NaN</td>\n",
       "      <td>NaN</td>\n",
       "      <td>15.58</td>\n",
       "      <td>23.689699</td>\n",
       "      <td>294.399994</td>\n",
       "      <td>1478.0</td>\n",
       "      <td>39.77</td>\n",
       "      <td>118.400002</td>\n",
       "      <td>...</td>\n",
       "      <td>52.716702</td>\n",
       "      <td>138.399994</td>\n",
       "      <td>435.299988</td>\n",
       "      <td>211.100006</td>\n",
       "      <td>73.050003</td>\n",
       "      <td>530.0</td>\n",
       "      <td>32.5</td>\n",
       "      <td>15.33</td>\n",
       "      <td>75.000000</td>\n",
       "      <td>277.600006</td>\n",
       "    </tr>\n",
       "  </tbody>\n",
       "</table>\n",
       "<p>2 rows × 30 columns</p>\n",
       "</div>"
      ],
      "text/plain": [
       "Company     ABB LTD     ADECCO  ALCON  AMS  CLARIANT   CS GROUP     GEBERIT  \\\n",
       "2014-10-13    19.65  60.400002    NaN  NaN     15.54  23.689699  289.799988   \n",
       "2014-10-14    19.76  60.700001    NaN  NaN     15.58  23.689699  294.399994   \n",
       "\n",
       "Company     GIVAUDAN  JULIUS BAER  KUEHNE+NAGEL INT  ...       SIKA  \\\n",
       "2014-10-13    1461.0        39.50        117.300003  ...  51.849998   \n",
       "2014-10-14    1478.0        39.77        118.400002  ...  52.716702   \n",
       "\n",
       "Company         SONOVA  SWATCH GROUP  SWISS LIFE HOLDING   SWISS RE  SWISSCOM  \\\n",
       "2014-10-13  143.899994    436.100006          211.899994  73.650002     531.5   \n",
       "2014-10-14  138.399994    435.299988          211.100006  73.050003     530.0   \n",
       "\n",
       "Company     TEMENOS  UBS GROUP      VIFOR  ZURICH INSURANCE  \n",
       "2014-10-13     32.0      15.30  74.449997        279.000000  \n",
       "2014-10-14     32.5      15.33  75.000000        277.600006  \n",
       "\n",
       "[2 rows x 30 columns]"
      ]
     },
     "execution_count": 47,
     "metadata": {},
     "output_type": "execute_result"
    }
   ],
   "source": [
    "df_pivoted.head(2)"
   ]
  },
  {
   "cell_type": "code",
   "execution_count": 48,
   "metadata": {},
   "outputs": [
    {
     "data": {
      "text/html": [
       "<div>\n",
       "<style scoped>\n",
       "    .dataframe tbody tr th:only-of-type {\n",
       "        vertical-align: middle;\n",
       "    }\n",
       "\n",
       "    .dataframe tbody tr th {\n",
       "        vertical-align: top;\n",
       "    }\n",
       "\n",
       "    .dataframe thead th {\n",
       "        text-align: right;\n",
       "    }\n",
       "</style>\n",
       "<table border=\"1\" class=\"dataframe\">\n",
       "  <thead>\n",
       "    <tr style=\"text-align: right;\">\n",
       "      <th>Company</th>\n",
       "      <th>ABB LTD</th>\n",
       "      <th>ADECCO</th>\n",
       "      <th>ALCON</th>\n",
       "      <th>AMS</th>\n",
       "      <th>CLARIANT</th>\n",
       "      <th>CS GROUP</th>\n",
       "      <th>GEBERIT</th>\n",
       "      <th>GIVAUDAN</th>\n",
       "      <th>JULIUS BAER</th>\n",
       "      <th>KUEHNE+NAGEL INT</th>\n",
       "      <th>...</th>\n",
       "      <th>SIKA</th>\n",
       "      <th>SONOVA</th>\n",
       "      <th>SWATCH GROUP</th>\n",
       "      <th>SWISS LIFE HOLDING</th>\n",
       "      <th>SWISS RE</th>\n",
       "      <th>SWISSCOM</th>\n",
       "      <th>TEMENOS</th>\n",
       "      <th>UBS GROUP</th>\n",
       "      <th>VIFOR</th>\n",
       "      <th>ZURICH INSURANCE</th>\n",
       "    </tr>\n",
       "  </thead>\n",
       "  <tbody>\n",
       "    <tr>\n",
       "      <td>2019-10-10</td>\n",
       "      <td>18.125</td>\n",
       "      <td>54.119999</td>\n",
       "      <td>56.060001</td>\n",
       "      <td>42.970001</td>\n",
       "      <td>20.150000</td>\n",
       "      <td>11.610</td>\n",
       "      <td>466.000000</td>\n",
       "      <td>2795.0</td>\n",
       "      <td>42.240002</td>\n",
       "      <td>148.949997</td>\n",
       "      <td>...</td>\n",
       "      <td>153.149994</td>\n",
       "      <td>224.5</td>\n",
       "      <td>256.700012</td>\n",
       "      <td>470.600006</td>\n",
       "      <td>103.000000</td>\n",
       "      <td>500.399994</td>\n",
       "      <td>164.750000</td>\n",
       "      <td>10.720</td>\n",
       "      <td>160.949997</td>\n",
       "      <td>383.000000</td>\n",
       "    </tr>\n",
       "    <tr>\n",
       "      <td>2019-10-11</td>\n",
       "      <td>18.475</td>\n",
       "      <td>56.139999</td>\n",
       "      <td>56.200001</td>\n",
       "      <td>44.259998</td>\n",
       "      <td>20.690001</td>\n",
       "      <td>12.055</td>\n",
       "      <td>472.799988</td>\n",
       "      <td>2840.0</td>\n",
       "      <td>44.139999</td>\n",
       "      <td>151.800003</td>\n",
       "      <td>...</td>\n",
       "      <td>157.300003</td>\n",
       "      <td>227.5</td>\n",
       "      <td>262.799988</td>\n",
       "      <td>482.100006</td>\n",
       "      <td>103.550003</td>\n",
       "      <td>506.000000</td>\n",
       "      <td>171.050003</td>\n",
       "      <td>11.105</td>\n",
       "      <td>155.949997</td>\n",
       "      <td>388.799988</td>\n",
       "    </tr>\n",
       "  </tbody>\n",
       "</table>\n",
       "<p>2 rows × 30 columns</p>\n",
       "</div>"
      ],
      "text/plain": [
       "Company     ABB LTD     ADECCO      ALCON        AMS   CLARIANT  CS GROUP  \\\n",
       "2019-10-10   18.125  54.119999  56.060001  42.970001  20.150000    11.610   \n",
       "2019-10-11   18.475  56.139999  56.200001  44.259998  20.690001    12.055   \n",
       "\n",
       "Company        GEBERIT  GIVAUDAN  JULIUS BAER  KUEHNE+NAGEL INT  ...  \\\n",
       "2019-10-10  466.000000    2795.0    42.240002        148.949997  ...   \n",
       "2019-10-11  472.799988    2840.0    44.139999        151.800003  ...   \n",
       "\n",
       "Company           SIKA  SONOVA  SWATCH GROUP  SWISS LIFE HOLDING    SWISS RE  \\\n",
       "2019-10-10  153.149994   224.5    256.700012          470.600006  103.000000   \n",
       "2019-10-11  157.300003   227.5    262.799988          482.100006  103.550003   \n",
       "\n",
       "Company       SWISSCOM     TEMENOS  UBS GROUP       VIFOR  ZURICH INSURANCE  \n",
       "2019-10-10  500.399994  164.750000     10.720  160.949997        383.000000  \n",
       "2019-10-11  506.000000  171.050003     11.105  155.949997        388.799988  \n",
       "\n",
       "[2 rows x 30 columns]"
      ]
     },
     "execution_count": 48,
     "metadata": {},
     "output_type": "execute_result"
    }
   ],
   "source": [
    "df_pivoted.tail(2)"
   ]
  },
  {
   "cell_type": "markdown",
   "metadata": {},
   "source": [
    "## Daten exportieren"
   ]
  },
  {
   "cell_type": "code",
   "execution_count": 49,
   "metadata": {},
   "outputs": [],
   "source": [
    "df_pivoted.to_csv('smi_members.csv')"
   ]
  },
  {
   "cell_type": "code",
   "execution_count": null,
   "metadata": {},
   "outputs": [],
   "source": []
  }
 ],
 "metadata": {
  "kernelspec": {
   "display_name": "Python 3",
   "language": "python",
   "name": "python3"
  },
  "language_info": {
   "codemirror_mode": {
    "name": "ipython",
    "version": 3
   },
   "file_extension": ".py",
   "mimetype": "text/x-python",
   "name": "python",
   "nbconvert_exporter": "python",
   "pygments_lexer": "ipython3",
   "version": "3.7.3"
  }
 },
 "nbformat": 4,
 "nbformat_minor": 2
}
