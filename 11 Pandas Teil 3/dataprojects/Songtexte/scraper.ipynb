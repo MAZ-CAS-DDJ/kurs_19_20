{
 "cells": [
  {
   "cell_type": "markdown",
   "metadata": {},
   "source": [
    "## Vorbereitung"
   ]
  },
  {
   "cell_type": "code",
   "execution_count": 1,
   "metadata": {
    "collapsed": true
   },
   "outputs": [],
   "source": [
    "import pandas as pd"
   ]
  },
  {
   "cell_type": "code",
   "execution_count": 2,
   "metadata": {
    "collapsed": true
   },
   "outputs": [],
   "source": [
    "# Platz für weitere Libraries, die Sie brauchen möchten...\n",
    "import requests"
   ]
  },
  {
   "cell_type": "code",
   "execution_count": 3,
   "metadata": {
    "collapsed": true
   },
   "outputs": [],
   "source": [
    "from bs4 import BeautifulSoup"
   ]
  },
  {
   "cell_type": "code",
   "execution_count": 170,
   "metadata": {
    "collapsed": true
   },
   "outputs": [],
   "source": [
    "from urllib.parse import quote"
   ]
  },
  {
   "cell_type": "markdown",
   "metadata": {},
   "source": [
    "Wir scrapen die hundert All-Time High Songs der Schweizer Hitparade\n",
    "\n",
    "Quelle: https://hitparade.ch/charts/best/singles\n",
    "\n",
    "Und suchen uns dann die Songtexte dazu:\n",
    "\n",
    "Quelle: https://www.songtexte.com/"
   ]
  },
  {
   "cell_type": "markdown",
   "metadata": {},
   "source": [
    "### Song-Infos"
   ]
  },
  {
   "cell_type": "code",
   "execution_count": 27,
   "metadata": {
    "collapsed": true
   },
   "outputs": [],
   "source": [
    "url = 'https://hitparade.ch/charts/best/singles'\n",
    "response = requests.get(url)\n",
    "doc2 = BeautifulSoup(response.text, \"lxml\")\n",
    "trs = doc2.find_all('table', class_='content')[0].find_all('tr')[2:]"
   ]
  },
  {
   "cell_type": "code",
   "execution_count": 28,
   "metadata": {
    "collapsed": true
   },
   "outputs": [],
   "source": [
    "songs = []\n",
    "for tr in trs:\n",
    "    song = {}\n",
    "    tds = tr.find_all('td')\n",
    "    song['Rang'] = tds[0].text\n",
    "    song['Link'] = tds[2].find('a')['href']\n",
    "    song['Artist'] = tds[2].find('a').text\n",
    "    song['Titel'] = tds[2].contents[-1]\n",
    "    song['Eintritt'] = tds[3].text\n",
    "    song['Peak'] = tds[4].text\n",
    "    song['Wochen'] = tds[5].text\n",
    "    song['Punkte'] = tds[6].text\n",
    "    songs.append(song)    "
   ]
  },
  {
   "cell_type": "code",
   "execution_count": 44,
   "metadata": {
    "collapsed": true
   },
   "outputs": [],
   "source": [
    "df = pd.DataFrame(songs)"
   ]
  },
  {
   "cell_type": "code",
   "execution_count": 45,
   "metadata": {
    "collapsed": true
   },
   "outputs": [],
   "source": [
    "df['Rang'] = df.index + 1\n",
    "df['Punkte'] = df['Punkte'].astype(int)\n",
    "df['Peak'] = df['Peak'].astype(int)\n",
    "df['Rang'] = df['Rang'].astype(int)\n",
    "df['Wochen'] = df['Wochen'].astype(int)"
   ]
  },
  {
   "cell_type": "code",
   "execution_count": 46,
   "metadata": {
    "collapsed": true
   },
   "outputs": [],
   "source": [
    "df = df[['Rang', 'Artist', 'Titel', 'Eintritt', 'Wochen', 'Peak', 'Punkte', 'Link']]"
   ]
  },
  {
   "cell_type": "code",
   "execution_count": 47,
   "metadata": {},
   "outputs": [
    {
     "data": {
      "text/html": [
       "<div>\n",
       "<style scoped>\n",
       "    .dataframe tbody tr th:only-of-type {\n",
       "        vertical-align: middle;\n",
       "    }\n",
       "\n",
       "    .dataframe tbody tr th {\n",
       "        vertical-align: top;\n",
       "    }\n",
       "\n",
       "    .dataframe thead th {\n",
       "        text-align: right;\n",
       "    }\n",
       "</style>\n",
       "<table border=\"1\" class=\"dataframe\">\n",
       "  <thead>\n",
       "    <tr style=\"text-align: right;\">\n",
       "      <th></th>\n",
       "      <th>Rang</th>\n",
       "      <th>Artist</th>\n",
       "      <th>Titel</th>\n",
       "      <th>Eintritt</th>\n",
       "      <th>Wochen</th>\n",
       "      <th>Peak</th>\n",
       "      <th>Punkte</th>\n",
       "      <th>Link</th>\n",
       "    </tr>\n",
       "  </thead>\n",
       "  <tbody>\n",
       "    <tr>\n",
       "      <th>0</th>\n",
       "      <td>1</td>\n",
       "      <td>DJ Ötzi &amp; Nik P.</td>\n",
       "      <td>Ein Stern (... der deinen Namen trägt)</td>\n",
       "      <td>18.02.2007</td>\n",
       "      <td>118</td>\n",
       "      <td>2</td>\n",
       "      <td>8109</td>\n",
       "      <td>/song/DJ-Oetzi-&amp;-Nik-P./Ein-Stern-(...-der-dei...</td>\n",
       "    </tr>\n",
       "    <tr>\n",
       "      <th>1</th>\n",
       "      <td>2</td>\n",
       "      <td>Ed Sheeran</td>\n",
       "      <td>Shape Of You</td>\n",
       "      <td>15.01.2017</td>\n",
       "      <td>93</td>\n",
       "      <td>1</td>\n",
       "      <td>7196</td>\n",
       "      <td>/song/Ed-Sheeran/Shape-Of-You-1622943</td>\n",
       "    </tr>\n",
       "  </tbody>\n",
       "</table>\n",
       "</div>"
      ],
      "text/plain": [
       "   Rang            Artist                                   Titel    Eintritt  \\\n",
       "0     1  DJ Ötzi & Nik P.  Ein Stern (... der deinen Namen trägt)  18.02.2007   \n",
       "1     2        Ed Sheeran                            Shape Of You  15.01.2017   \n",
       "\n",
       "   Wochen  Peak  Punkte                                               Link  \n",
       "0     118     2    8109  /song/DJ-Oetzi-&-Nik-P./Ein-Stern-(...-der-dei...  \n",
       "1      93     1    7196              /song/Ed-Sheeran/Shape-Of-You-1622943  "
      ]
     },
     "execution_count": 47,
     "metadata": {},
     "output_type": "execute_result"
    }
   ],
   "source": [
    "df.head(2)"
   ]
  },
  {
   "cell_type": "code",
   "execution_count": 48,
   "metadata": {
    "collapsed": true
   },
   "outputs": [],
   "source": [
    "df.to_csv('charts.csv', index=False)"
   ]
  },
  {
   "cell_type": "code",
   "execution_count": 164,
   "metadata": {
    "collapsed": true
   },
   "outputs": [],
   "source": [
    "df = pd.read_csv('charts.csv')"
   ]
  },
  {
   "cell_type": "code",
   "execution_count": 165,
   "metadata": {},
   "outputs": [
    {
     "data": {
      "text/html": [
       "<div>\n",
       "<style scoped>\n",
       "    .dataframe tbody tr th:only-of-type {\n",
       "        vertical-align: middle;\n",
       "    }\n",
       "\n",
       "    .dataframe tbody tr th {\n",
       "        vertical-align: top;\n",
       "    }\n",
       "\n",
       "    .dataframe thead th {\n",
       "        text-align: right;\n",
       "    }\n",
       "</style>\n",
       "<table border=\"1\" class=\"dataframe\">\n",
       "  <thead>\n",
       "    <tr style=\"text-align: right;\">\n",
       "      <th></th>\n",
       "      <th>Rang</th>\n",
       "      <th>Artist</th>\n",
       "      <th>Titel</th>\n",
       "      <th>Eintritt</th>\n",
       "      <th>Wochen</th>\n",
       "      <th>Peak</th>\n",
       "      <th>Punkte</th>\n",
       "      <th>Link</th>\n",
       "    </tr>\n",
       "  </thead>\n",
       "  <tbody>\n",
       "    <tr>\n",
       "      <th>0</th>\n",
       "      <td>1</td>\n",
       "      <td>DJ Ötzi &amp; Nik P.</td>\n",
       "      <td>Ein Stern (... der deinen Namen trägt)</td>\n",
       "      <td>18.02.2007</td>\n",
       "      <td>118</td>\n",
       "      <td>2</td>\n",
       "      <td>8109</td>\n",
       "      <td>/song/DJ-Oetzi-&amp;-Nik-P./Ein-Stern-(...-der-dei...</td>\n",
       "    </tr>\n",
       "    <tr>\n",
       "      <th>1</th>\n",
       "      <td>2</td>\n",
       "      <td>Ed Sheeran</td>\n",
       "      <td>Shape Of You</td>\n",
       "      <td>15.01.2017</td>\n",
       "      <td>93</td>\n",
       "      <td>1</td>\n",
       "      <td>7196</td>\n",
       "      <td>/song/Ed-Sheeran/Shape-Of-You-1622943</td>\n",
       "    </tr>\n",
       "    <tr>\n",
       "      <th>2</th>\n",
       "      <td>3</td>\n",
       "      <td>Luis Fonsi feat. Daddy Yankee</td>\n",
       "      <td>Despacito</td>\n",
       "      <td>22.01.2017</td>\n",
       "      <td>90</td>\n",
       "      <td>1</td>\n",
       "      <td>6854</td>\n",
       "      <td>/song/Luis-Fonsi-feat.-Daddy-Yankee/Despacito-...</td>\n",
       "    </tr>\n",
       "    <tr>\n",
       "      <th>3</th>\n",
       "      <td>4</td>\n",
       "      <td>DJ Antoine feat. The Beat Shakers</td>\n",
       "      <td>\"Ma chérie\"</td>\n",
       "      <td>06.06.2010</td>\n",
       "      <td>99</td>\n",
       "      <td>2</td>\n",
       "      <td>6745</td>\n",
       "      <td>/song/DJ-Antoine-feat.-The-Beat-Shakers/Ma-che...</td>\n",
       "    </tr>\n",
       "    <tr>\n",
       "      <th>4</th>\n",
       "      <td>5</td>\n",
       "      <td>Adele</td>\n",
       "      <td>Rolling In The Deep</td>\n",
       "      <td>30.01.2011</td>\n",
       "      <td>93</td>\n",
       "      <td>1</td>\n",
       "      <td>6588</td>\n",
       "      <td>/song/Adele/Rolling-In-The-Deep-767937</td>\n",
       "    </tr>\n",
       "    <tr>\n",
       "      <th>5</th>\n",
       "      <td>6</td>\n",
       "      <td>John Legend</td>\n",
       "      <td>All Of Me</td>\n",
       "      <td>02.02.2014</td>\n",
       "      <td>97</td>\n",
       "      <td>1</td>\n",
       "      <td>6547</td>\n",
       "      <td>/song/John-Legend/All-Of-Me-1183051</td>\n",
       "    </tr>\n",
       "    <tr>\n",
       "      <th>6</th>\n",
       "      <td>7</td>\n",
       "      <td>Amy Macdonald</td>\n",
       "      <td>This Is The Life</td>\n",
       "      <td>23.03.2008</td>\n",
       "      <td>94</td>\n",
       "      <td>2</td>\n",
       "      <td>6125</td>\n",
       "      <td>/song/Amy-Macdonald/This-Is-The-Life-349688</td>\n",
       "    </tr>\n",
       "    <tr>\n",
       "      <th>7</th>\n",
       "      <td>8</td>\n",
       "      <td>The Black Eyed Peas</td>\n",
       "      <td>I Gotta Feeling</td>\n",
       "      <td>19.07.2009</td>\n",
       "      <td>87</td>\n",
       "      <td>1</td>\n",
       "      <td>6085</td>\n",
       "      <td>/song/The-Black-Eyed-Peas/I-Gotta-Feeling-584715</td>\n",
       "    </tr>\n",
       "    <tr>\n",
       "      <th>8</th>\n",
       "      <td>9</td>\n",
       "      <td>Shakira feat. Freshlyground</td>\n",
       "      <td>Waka Waka (This Time For Africa)</td>\n",
       "      <td>23.05.2010</td>\n",
       "      <td>86</td>\n",
       "      <td>1</td>\n",
       "      <td>6004</td>\n",
       "      <td>/song/Shakira-feat.-Freshlyground/Waka-Waka-(T...</td>\n",
       "    </tr>\n",
       "    <tr>\n",
       "      <th>9</th>\n",
       "      <td>10</td>\n",
       "      <td>Guru Josh Project</td>\n",
       "      <td>Infinity 2008</td>\n",
       "      <td>28.09.2008</td>\n",
       "      <td>85</td>\n",
       "      <td>2</td>\n",
       "      <td>6001</td>\n",
       "      <td>/song/Guru-Josh-Project/Infinity-2008-484499</td>\n",
       "    </tr>\n",
       "  </tbody>\n",
       "</table>\n",
       "</div>"
      ],
      "text/plain": [
       "   Rang                             Artist  \\\n",
       "0     1                   DJ Ötzi & Nik P.   \n",
       "1     2                         Ed Sheeran   \n",
       "2     3      Luis Fonsi feat. Daddy Yankee   \n",
       "3     4  DJ Antoine feat. The Beat Shakers   \n",
       "4     5                              Adele   \n",
       "5     6                        John Legend   \n",
       "6     7                      Amy Macdonald   \n",
       "7     8                The Black Eyed Peas   \n",
       "8     9        Shakira feat. Freshlyground   \n",
       "9    10                  Guru Josh Project   \n",
       "\n",
       "                                    Titel    Eintritt  Wochen  Peak  Punkte  \\\n",
       "0  Ein Stern (... der deinen Namen trägt)  18.02.2007     118     2    8109   \n",
       "1                            Shape Of You  15.01.2017      93     1    7196   \n",
       "2                               Despacito  22.01.2017      90     1    6854   \n",
       "3                             \"Ma chérie\"  06.06.2010      99     2    6745   \n",
       "4                     Rolling In The Deep  30.01.2011      93     1    6588   \n",
       "5                               All Of Me  02.02.2014      97     1    6547   \n",
       "6                        This Is The Life  23.03.2008      94     2    6125   \n",
       "7                         I Gotta Feeling  19.07.2009      87     1    6085   \n",
       "8        Waka Waka (This Time For Africa)  23.05.2010      86     1    6004   \n",
       "9                           Infinity 2008  28.09.2008      85     2    6001   \n",
       "\n",
       "                                                Link  \n",
       "0  /song/DJ-Oetzi-&-Nik-P./Ein-Stern-(...-der-dei...  \n",
       "1              /song/Ed-Sheeran/Shape-Of-You-1622943  \n",
       "2  /song/Luis-Fonsi-feat.-Daddy-Yankee/Despacito-...  \n",
       "3  /song/DJ-Antoine-feat.-The-Beat-Shakers/Ma-che...  \n",
       "4             /song/Adele/Rolling-In-The-Deep-767937  \n",
       "5                /song/John-Legend/All-Of-Me-1183051  \n",
       "6        /song/Amy-Macdonald/This-Is-The-Life-349688  \n",
       "7   /song/The-Black-Eyed-Peas/I-Gotta-Feeling-584715  \n",
       "8  /song/Shakira-feat.-Freshlyground/Waka-Waka-(T...  \n",
       "9       /song/Guru-Josh-Project/Infinity-2008-484499  "
      ]
     },
     "execution_count": 165,
     "metadata": {},
     "output_type": "execute_result"
    }
   ],
   "source": [
    "df.head(10)"
   ]
  },
  {
   "cell_type": "markdown",
   "metadata": {},
   "source": [
    "### Song-Texte"
   ]
  },
  {
   "cell_type": "code",
   "execution_count": 82,
   "metadata": {
    "collapsed": true
   },
   "outputs": [],
   "source": [
    "url_start = 'https://www.songtexte.com/search?q='\n",
    "url_end = '&c=all'"
   ]
  },
  {
   "cell_type": "markdown",
   "metadata": {},
   "source": [
    "Ein Probesong"
   ]
  },
  {
   "cell_type": "code",
   "execution_count": 153,
   "metadata": {
    "collapsed": true
   },
   "outputs": [],
   "source": [
    "url = url_start + \"DJ+Ötzi+%26+Nik+P.+Ein+Stern+(...+der+deinen+Namen+trägt)\" + url_end\n",
    "url = url_start + \"DJ+Ötzi+&+Nik+P.+Ein+Stern+(...+der+deinen+Namen+trägt)"
   ]
  },
  {
   "cell_type": "code",
   "execution_count": 154,
   "metadata": {
    "collapsed": true
   },
   "outputs": [],
   "source": [
    "response = requests.get(url)\n",
    "doc = BeautifulSoup(response.text, \"lxml\")"
   ]
  },
  {
   "cell_type": "code",
   "execution_count": 155,
   "metadata": {
    "collapsed": true
   },
   "outputs": [],
   "source": [
    "link = doc.find('a', class_='topHitLink')['href']"
   ]
  },
  {
   "cell_type": "code",
   "execution_count": 143,
   "metadata": {},
   "outputs": [
    {
     "data": {
      "text/plain": [
       "'songtext/dj-otzi/ein-stern-der-deinen-namen-tragt-23db68e7.html'"
      ]
     },
     "execution_count": 143,
     "metadata": {},
     "output_type": "execute_result"
    }
   ],
   "source": [
    "link"
   ]
  },
  {
   "cell_type": "code",
   "execution_count": 130,
   "metadata": {
    "collapsed": true
   },
   "outputs": [],
   "source": [
    "url2 = 'https://www.songtexte.com/' + link"
   ]
  },
  {
   "cell_type": "code",
   "execution_count": 131,
   "metadata": {
    "collapsed": true
   },
   "outputs": [],
   "source": [
    "response = requests.get(url2)\n",
    "doc2 = BeautifulSoup(response.text, \"lxml\")"
   ]
  },
  {
   "cell_type": "code",
   "execution_count": 132,
   "metadata": {
    "collapsed": true
   },
   "outputs": [],
   "source": [
    "lyrics = doc2.find('div', {'id': 'lyrics'}).text"
   ]
  },
  {
   "cell_type": "code",
   "execution_count": 133,
   "metadata": {},
   "outputs": [
    {
     "data": {
      "text/plain": [
       "\"Einen Stern, der deinen Namen trägt\\nHoch am Himmelszelt\\nDen schenk ich Dir heut' Nacht\\nEinen Stern, der deinen Namen trägt\\nAlle Zeiten überlebt\\nUnd über unsere Liebe wacht\\n\\nSeit Jahren schon leb ich mit Dir\\nUnd ich danke Gott dafür\\ndass er mir Dich gegeben hat\\nAls Erinnerung an unser Leben\\nMöchte ich Dir heut' etwas geben\\nEin Geschenk für alle Ewigkeit\\n\\nEinen Stern, der deinen Namen trägt\\nHoch am Himmelszelt\\nDen schenk ich Dir heut' Nacht\\nEinen Stern, der deinen Namen trägt\\nAlle Zeiten überlebt\\nUnd über unsere Liebe wacht\\n\\nIrgendwann ist es vorbei\\nUnd im Himmel wird Platz für uns zwei\\nDoch Dein Stern bleibt oben für immer und ewig stehn\\nUnd auch noch in 1000 Jahren\\nWird er deinen Namen tragen\\nUnd immer noch der schönste von allen sein\\n\\nEinen Stern, der deinen Namen trägt\\nHoch am Himmelszelt\\nDen schenk ich Dir heut' Nacht\\nEinen Stern, der deinen Namen trägt\\nAlle Zeiten überlebt\\nUnd über unsere Liebe wacht\\n\\nFünf, Vier, Drei, Zwo, Eins, Zero\\n\\nEinen Stern, der deinen Namen trägt\\nHoch am Himmelszelt\\nDen schenk ich Dir heut' Nacht (Einen Stern)\\nEinen Stern, der deinen Namen trägt\\nAlle Zeiten überlebt\\nUnd über unsere Liebe wacht\\n(Einen Stern, einen Stern)\""
      ]
     },
     "execution_count": 133,
     "metadata": {},
     "output_type": "execute_result"
    }
   ],
   "source": [
    "lyrics"
   ]
  },
  {
   "cell_type": "markdown",
   "metadata": {},
   "source": [
    "Alle Songtexte:"
   ]
  },
  {
   "cell_type": "code",
   "execution_count": 173,
   "metadata": {
    "collapsed": true
   },
   "outputs": [],
   "source": [
    "def scrape_songtexts(artist, title):\n",
    "    \n",
    "    searchstr = (artist + \" \" + title).replace(' ', '+')\n",
    "    searchstr = quote(searchstr)\n",
    "\n",
    "    url_start = 'https://www.songtexte.com/search?q='\n",
    "    url_end = '&c=all'\n",
    "    url = url_start + searchstr + url_end\n",
    "\n",
    "    response = requests.get(url)\n",
    "    doc = BeautifulSoup(response.text, \"lxml\")\n",
    "    \n",
    "    if doc.find('a', class_='topHitLink'):\n",
    "        link = doc.find('a', class_='topHitLink')['href']\n",
    "    else:\n",
    "        return \"\"\n",
    "\n",
    "    url2 = 'https://www.songtexte.com/' + link\n",
    "\n",
    "    response = requests.get(url2)\n",
    "    doc2 = BeautifulSoup(response.text, \"lxml\")\n",
    "\n",
    "    if doc2.find('div', {'id': 'lyrics'}):\n",
    "        return doc2.find('div', {'id': 'lyrics'}).text\n",
    "    else:\n",
    "        return \"\""
   ]
  },
  {
   "cell_type": "code",
   "execution_count": 175,
   "metadata": {
    "collapsed": true
   },
   "outputs": [],
   "source": [
    "df['Songtext'] = df.apply(lambda row: scrape_songtexts(row['Artist'], row['Titel']), axis=1)"
   ]
  },
  {
   "cell_type": "code",
   "execution_count": 176,
   "metadata": {},
   "outputs": [
    {
     "data": {
      "text/html": [
       "<div>\n",
       "<style scoped>\n",
       "    .dataframe tbody tr th:only-of-type {\n",
       "        vertical-align: middle;\n",
       "    }\n",
       "\n",
       "    .dataframe tbody tr th {\n",
       "        vertical-align: top;\n",
       "    }\n",
       "\n",
       "    .dataframe thead th {\n",
       "        text-align: right;\n",
       "    }\n",
       "</style>\n",
       "<table border=\"1\" class=\"dataframe\">\n",
       "  <thead>\n",
       "    <tr style=\"text-align: right;\">\n",
       "      <th></th>\n",
       "      <th>Rang</th>\n",
       "      <th>Artist</th>\n",
       "      <th>Titel</th>\n",
       "      <th>Eintritt</th>\n",
       "      <th>Wochen</th>\n",
       "      <th>Peak</th>\n",
       "      <th>Punkte</th>\n",
       "      <th>Link</th>\n",
       "      <th>Songtext</th>\n",
       "    </tr>\n",
       "  </thead>\n",
       "  <tbody>\n",
       "    <tr>\n",
       "      <th>0</th>\n",
       "      <td>1</td>\n",
       "      <td>DJ Ötzi &amp; Nik P.</td>\n",
       "      <td>Ein Stern (... der deinen Namen trägt)</td>\n",
       "      <td>18.02.2007</td>\n",
       "      <td>118</td>\n",
       "      <td>2</td>\n",
       "      <td>8109</td>\n",
       "      <td>/song/DJ-Oetzi-&amp;-Nik-P./Ein-Stern-(...-der-dei...</td>\n",
       "      <td>Einen Stern, der deinen Namen trägt\\nHoch am H...</td>\n",
       "    </tr>\n",
       "    <tr>\n",
       "      <th>1</th>\n",
       "      <td>2</td>\n",
       "      <td>Ed Sheeran</td>\n",
       "      <td>Shape Of You</td>\n",
       "      <td>15.01.2017</td>\n",
       "      <td>93</td>\n",
       "      <td>1</td>\n",
       "      <td>7196</td>\n",
       "      <td>/song/Ed-Sheeran/Shape-Of-You-1622943</td>\n",
       "      <td>The club isn't the best place to find a lover\\...</td>\n",
       "    </tr>\n",
       "    <tr>\n",
       "      <th>2</th>\n",
       "      <td>3</td>\n",
       "      <td>Luis Fonsi feat. Daddy Yankee</td>\n",
       "      <td>Despacito</td>\n",
       "      <td>22.01.2017</td>\n",
       "      <td>90</td>\n",
       "      <td>1</td>\n",
       "      <td>6854</td>\n",
       "      <td>/song/Luis-Fonsi-feat.-Daddy-Yankee/Despacito-...</td>\n",
       "      <td>Ay\\nFonsi, DY\\nOh, oh no, oh no (ey)\\nHey, yea...</td>\n",
       "    </tr>\n",
       "    <tr>\n",
       "      <th>3</th>\n",
       "      <td>4</td>\n",
       "      <td>DJ Antoine feat. The Beat Shakers</td>\n",
       "      <td>\"Ma chérie\"</td>\n",
       "      <td>06.06.2010</td>\n",
       "      <td>99</td>\n",
       "      <td>2</td>\n",
       "      <td>6745</td>\n",
       "      <td>/song/DJ-Antoine-feat.-The-Beat-Shakers/Ma-che...</td>\n",
       "      <td>When I look into your eyes\\nI see rainbows in ...</td>\n",
       "    </tr>\n",
       "    <tr>\n",
       "      <th>4</th>\n",
       "      <td>5</td>\n",
       "      <td>Adele</td>\n",
       "      <td>Rolling In The Deep</td>\n",
       "      <td>30.01.2011</td>\n",
       "      <td>93</td>\n",
       "      <td>1</td>\n",
       "      <td>6588</td>\n",
       "      <td>/song/Adele/Rolling-In-The-Deep-767937</td>\n",
       "      <td>There's a fire starting in my heart\\nReaching ...</td>\n",
       "    </tr>\n",
       "  </tbody>\n",
       "</table>\n",
       "</div>"
      ],
      "text/plain": [
       "   Rang                             Artist  \\\n",
       "0     1                   DJ Ötzi & Nik P.   \n",
       "1     2                         Ed Sheeran   \n",
       "2     3      Luis Fonsi feat. Daddy Yankee   \n",
       "3     4  DJ Antoine feat. The Beat Shakers   \n",
       "4     5                              Adele   \n",
       "\n",
       "                                    Titel    Eintritt  Wochen  Peak  Punkte  \\\n",
       "0  Ein Stern (... der deinen Namen trägt)  18.02.2007     118     2    8109   \n",
       "1                            Shape Of You  15.01.2017      93     1    7196   \n",
       "2                               Despacito  22.01.2017      90     1    6854   \n",
       "3                             \"Ma chérie\"  06.06.2010      99     2    6745   \n",
       "4                     Rolling In The Deep  30.01.2011      93     1    6588   \n",
       "\n",
       "                                                Link  \\\n",
       "0  /song/DJ-Oetzi-&-Nik-P./Ein-Stern-(...-der-dei...   \n",
       "1              /song/Ed-Sheeran/Shape-Of-You-1622943   \n",
       "2  /song/Luis-Fonsi-feat.-Daddy-Yankee/Despacito-...   \n",
       "3  /song/DJ-Antoine-feat.-The-Beat-Shakers/Ma-che...   \n",
       "4             /song/Adele/Rolling-In-The-Deep-767937   \n",
       "\n",
       "                                            Songtext  \n",
       "0  Einen Stern, der deinen Namen trägt\\nHoch am H...  \n",
       "1  The club isn't the best place to find a lover\\...  \n",
       "2  Ay\\nFonsi, DY\\nOh, oh no, oh no (ey)\\nHey, yea...  \n",
       "3  When I look into your eyes\\nI see rainbows in ...  \n",
       "4  There's a fire starting in my heart\\nReaching ...  "
      ]
     },
     "execution_count": 176,
     "metadata": {},
     "output_type": "execute_result"
    }
   ],
   "source": [
    "df.head()"
   ]
  },
  {
   "cell_type": "code",
   "execution_count": 177,
   "metadata": {},
   "outputs": [
    {
     "data": {
      "text/html": [
       "<div>\n",
       "<style scoped>\n",
       "    .dataframe tbody tr th:only-of-type {\n",
       "        vertical-align: middle;\n",
       "    }\n",
       "\n",
       "    .dataframe tbody tr th {\n",
       "        vertical-align: top;\n",
       "    }\n",
       "\n",
       "    .dataframe thead th {\n",
       "        text-align: right;\n",
       "    }\n",
       "</style>\n",
       "<table border=\"1\" class=\"dataframe\">\n",
       "  <thead>\n",
       "    <tr style=\"text-align: right;\">\n",
       "      <th></th>\n",
       "      <th>Rang</th>\n",
       "      <th>Artist</th>\n",
       "      <th>Titel</th>\n",
       "      <th>Eintritt</th>\n",
       "      <th>Wochen</th>\n",
       "      <th>Peak</th>\n",
       "      <th>Punkte</th>\n",
       "      <th>Link</th>\n",
       "      <th>Songtext</th>\n",
       "    </tr>\n",
       "  </thead>\n",
       "  <tbody>\n",
       "    <tr>\n",
       "      <th>33</th>\n",
       "      <td>34</td>\n",
       "      <td>Stromae</td>\n",
       "      <td>Alors on danse</td>\n",
       "      <td>21.02.2010</td>\n",
       "      <td>69</td>\n",
       "      <td>1</td>\n",
       "      <td>4709</td>\n",
       "      <td>/song/Stromae/Alors-on-danse-604548</td>\n",
       "      <td></td>\n",
       "    </tr>\n",
       "    <tr>\n",
       "      <th>49</th>\n",
       "      <td>50</td>\n",
       "      <td>K-Maro</td>\n",
       "      <td>Femme Like U (Donne-moi ton corps)</td>\n",
       "      <td>04.07.2004</td>\n",
       "      <td>59</td>\n",
       "      <td>1</td>\n",
       "      <td>4521</td>\n",
       "      <td>/song/K-Maro/Femme-Like-U-(Donne-moi-ton-corps...</td>\n",
       "      <td></td>\n",
       "    </tr>\n",
       "    <tr>\n",
       "      <th>50</th>\n",
       "      <td>51</td>\n",
       "      <td>Rag'n'Bone Man</td>\n",
       "      <td>Human</td>\n",
       "      <td>14.08.2016</td>\n",
       "      <td>71</td>\n",
       "      <td>1</td>\n",
       "      <td>4513</td>\n",
       "      <td>/song/Rag'n'Bone-Man/Human-1572490</td>\n",
       "      <td></td>\n",
       "    </tr>\n",
       "    <tr>\n",
       "      <th>51</th>\n",
       "      <td>52</td>\n",
       "      <td>Bob Sinclar presents Goleo VI feat. Gary \"Nest...</td>\n",
       "      <td>Love Generation</td>\n",
       "      <td>11.12.2005</td>\n",
       "      <td>78</td>\n",
       "      <td>2</td>\n",
       "      <td>4500</td>\n",
       "      <td>/song/Bob-Sinclar-presents-Goleo-VI-feat.-Gary...</td>\n",
       "      <td></td>\n",
       "    </tr>\n",
       "    <tr>\n",
       "      <th>62</th>\n",
       "      <td>63</td>\n",
       "      <td>Tiziano Ferro</td>\n",
       "      <td>Xdono</td>\n",
       "      <td>30.09.2001</td>\n",
       "      <td>61</td>\n",
       "      <td>4</td>\n",
       "      <td>4290</td>\n",
       "      <td>/song/Tiziano-Ferro/Xdono-4883</td>\n",
       "      <td></td>\n",
       "    </tr>\n",
       "    <tr>\n",
       "      <th>66</th>\n",
       "      <td>67</td>\n",
       "      <td>Stromae</td>\n",
       "      <td>Papaoutai</td>\n",
       "      <td>23.06.2013</td>\n",
       "      <td>58</td>\n",
       "      <td>4</td>\n",
       "      <td>4218</td>\n",
       "      <td>/song/Stromae/Papaoutai-1142159</td>\n",
       "      <td></td>\n",
       "    </tr>\n",
       "    <tr>\n",
       "      <th>90</th>\n",
       "      <td>91</td>\n",
       "      <td>Camila Cabello feat. Young Thug</td>\n",
       "      <td>Havana</td>\n",
       "      <td>20.08.2017</td>\n",
       "      <td>58</td>\n",
       "      <td>2</td>\n",
       "      <td>3955</td>\n",
       "      <td>/song/Camila-Cabello-feat.-Young-Thug/Havana-1...</td>\n",
       "      <td></td>\n",
       "    </tr>\n",
       "    <tr>\n",
       "      <th>91</th>\n",
       "      <td>92</td>\n",
       "      <td>Die Toten Hosen</td>\n",
       "      <td>Tage wie diese</td>\n",
       "      <td>08.04.2012</td>\n",
       "      <td>62</td>\n",
       "      <td>4</td>\n",
       "      <td>3939</td>\n",
       "      <td>/song/Die-Toten-Hosen/Tage-wie-diese-977738</td>\n",
       "      <td></td>\n",
       "    </tr>\n",
       "  </tbody>\n",
       "</table>\n",
       "</div>"
      ],
      "text/plain": [
       "    Rang                                             Artist  \\\n",
       "33    34                                            Stromae   \n",
       "49    50                                             K-Maro   \n",
       "50    51                                     Rag'n'Bone Man   \n",
       "51    52  Bob Sinclar presents Goleo VI feat. Gary \"Nest...   \n",
       "62    63                                      Tiziano Ferro   \n",
       "66    67                                            Stromae   \n",
       "90    91                    Camila Cabello feat. Young Thug   \n",
       "91    92                                    Die Toten Hosen   \n",
       "\n",
       "                                 Titel    Eintritt  Wochen  Peak  Punkte  \\\n",
       "33                      Alors on danse  21.02.2010      69     1    4709   \n",
       "49  Femme Like U (Donne-moi ton corps)  04.07.2004      59     1    4521   \n",
       "50                               Human  14.08.2016      71     1    4513   \n",
       "51                     Love Generation  11.12.2005      78     2    4500   \n",
       "62                               Xdono  30.09.2001      61     4    4290   \n",
       "66                           Papaoutai  23.06.2013      58     4    4218   \n",
       "90                              Havana  20.08.2017      58     2    3955   \n",
       "91                      Tage wie diese  08.04.2012      62     4    3939   \n",
       "\n",
       "                                                 Link Songtext  \n",
       "33                /song/Stromae/Alors-on-danse-604548           \n",
       "49  /song/K-Maro/Femme-Like-U-(Donne-moi-ton-corps...           \n",
       "50                 /song/Rag'n'Bone-Man/Human-1572490           \n",
       "51  /song/Bob-Sinclar-presents-Goleo-VI-feat.-Gary...           \n",
       "62                     /song/Tiziano-Ferro/Xdono-4883           \n",
       "66                    /song/Stromae/Papaoutai-1142159           \n",
       "90  /song/Camila-Cabello-feat.-Young-Thug/Havana-1...           \n",
       "91        /song/Die-Toten-Hosen/Tage-wie-diese-977738           "
      ]
     },
     "execution_count": 177,
     "metadata": {},
     "output_type": "execute_result"
    }
   ],
   "source": [
    "df[df['Songtext'] == '']"
   ]
  },
  {
   "cell_type": "code",
   "execution_count": 178,
   "metadata": {
    "collapsed": true
   },
   "outputs": [],
   "source": [
    "df.to_csv('dataprojects/Songtexte/charts_mit_texten.csv', index=False)"
   ]
  },
  {
   "cell_type": "code",
   "execution_count": 1,
   "metadata": {},
   "outputs": [
    {
     "ename": "NameError",
     "evalue": "name 'pd' is not defined",
     "output_type": "error",
     "traceback": [
      "\u001b[0;31m---------------------------------------------------------------------------\u001b[0m",
      "\u001b[0;31mNameError\u001b[0m                                 Traceback (most recent call last)",
      "\u001b[0;32m<ipython-input-1-ff24772d7076>\u001b[0m in \u001b[0;36m<module>\u001b[0;34m()\u001b[0m\n\u001b[0;32m----> 1\u001b[0;31m \u001b[0mdf\u001b[0m \u001b[0;34m=\u001b[0m \u001b[0mpd\u001b[0m\u001b[0;34m.\u001b[0m\u001b[0mread_csv\u001b[0m\u001b[0;34m(\u001b[0m\u001b[0;34m'dataprojects/Songtexte/charts_mit_texten.csv'\u001b[0m\u001b[0;34m)\u001b[0m\u001b[0;34m\u001b[0m\u001b[0m\n\u001b[0m",
      "\u001b[0;31mNameError\u001b[0m: name 'pd' is not defined"
     ]
    }
   ],
   "source": [
    "df = pd.read_csv('dataprojects/Songtexte/charts_mit_texten.csv')"
   ]
  },
  {
   "cell_type": "code",
   "execution_count": null,
   "metadata": {
    "collapsed": true
   },
   "outputs": [],
   "source": [
    "df.head()"
   ]
  }
 ],
 "metadata": {
  "kernelspec": {
   "display_name": "Python 3",
   "language": "python",
   "name": "python3"
  },
  "language_info": {
   "codemirror_mode": {
    "name": "ipython",
    "version": 3
   },
   "file_extension": ".py",
   "mimetype": "text/x-python",
   "name": "python",
   "nbconvert_exporter": "python",
   "pygments_lexer": "ipython3",
   "version": "3.6.1"
  }
 },
 "nbformat": 4,
 "nbformat_minor": 2
}
