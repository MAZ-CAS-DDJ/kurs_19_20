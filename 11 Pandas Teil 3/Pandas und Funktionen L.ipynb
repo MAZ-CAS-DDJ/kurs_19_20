{
 "cells": [
  {
   "cell_type": "markdown",
   "metadata": {},
   "source": [
    "# Pandas und Funktionen"
   ]
  },
  {
   "cell_type": "markdown",
   "metadata": {},
   "source": [
    "**Inhalt:** Komplexere Zellen- und Spalten-Operationen\n",
    "\n",
    "**Nötige Skills:** Einführung in Pandas\n",
    "\n",
    "**Lernziele:**\n",
    "- Review: Mehrere Codezeilen zu Funktionen zusammenfassen\n",
    "- Review: Funktionen aus Listen heraus abrufen (list comprehension)\n",
    "- Funktionen auf bestimmte Bestandteile von Dataframes ausführen (apply)"
   ]
  },
  {
   "cell_type": "markdown",
   "metadata": {},
   "source": [
    "## Das Beispiel"
   ]
  },
  {
   "cell_type": "markdown",
   "metadata": {},
   "source": [
    "Eine kleine Datenbank der besten alltime-Singles aus der Schweizer Hitparade und den Songtexten dazu.\n",
    "\n",
    "Quellen:\n",
    "- https://hitparade.ch/charts/best/singles\n",
    "- https://www.songtexte.com/"
   ]
  },
  {
   "cell_type": "markdown",
   "metadata": {},
   "source": [
    "Das Scrape-File dazu findet sich hier: `dataprojects/Songtexte/scraper.ipynb`\n",
    "\n",
    "Das Daten-File hier: `dataprojects/Songtexte/charts_mit_texten.csv`"
   ]
  },
  {
   "cell_type": "code",
   "execution_count": null,
   "metadata": {},
   "outputs": [],
   "source": []
  },
  {
   "cell_type": "markdown",
   "metadata": {},
   "source": [
    "## Vorbereitung"
   ]
  },
  {
   "cell_type": "code",
   "execution_count": 1,
   "metadata": {},
   "outputs": [],
   "source": [
    "import pandas as pd"
   ]
  },
  {
   "cell_type": "code",
   "execution_count": 2,
   "metadata": {},
   "outputs": [],
   "source": [
    "pd.set_option('display.max_colwidth', 200)"
   ]
  },
  {
   "cell_type": "code",
   "execution_count": null,
   "metadata": {},
   "outputs": [],
   "source": []
  },
  {
   "cell_type": "markdown",
   "metadata": {},
   "source": [
    "## Eine einfache Funktion schreiben (review)"
   ]
  },
  {
   "cell_type": "markdown",
   "metadata": {},
   "source": [
    "Zum Start kreieren wir uns eine Funktion, die wir später anwenden wollen.\n",
    "\n",
    "Der Input ist ein Extrakt eines Sontexts. Zum Beispiel dieser hier:"
   ]
  },
  {
   "cell_type": "code",
   "execution_count": 3,
   "metadata": {},
   "outputs": [],
   "source": [
    "my_text = '''\n",
    "I schänke dir mis Härz\n",
    "Meh han i nid\n",
    "Du chasch es ha, we dä wosch\n",
    "Es isch es guets\n",
    "U es git no mängi, wos würd näh,\n",
    "Aber dir würdis gäh\n",
    "'''"
   ]
  },
  {
   "cell_type": "markdown",
   "metadata": {},
   "source": [
    "Der Output kann irgendwas sein. Be creative! Zum Beispiel:\n",
    "- Buchstaben austauschen\n",
    "- Wörterreihenfolge rückwärts\n",
    "- Alles in Grossbuchstaben\n",
    "- Bestimmte Wörter Zählen\n",
    "- Bestimmte Buchstaben zählen\n",
    "- ...\n",
    "\n",
    "Für Ideen, hier eine Liste von Python's String-Funktionen: https://www.w3schools.com/python/python_ref_string.asp\n",
    "\n",
    "Zur Erinnerung: Den Outpur spucken wir aus mit dem Befehl `return ...`"
   ]
  },
  {
   "cell_type": "markdown",
   "metadata": {},
   "source": [
    "**To Do:** Schreiben und beschreiben Sie eine Funktion."
   ]
  },
  {
   "cell_type": "code",
   "execution_count": 4,
   "metadata": {},
   "outputs": [],
   "source": [
    "def mach_was_mit_text(text):\n",
    "    \n",
    "    # Hier Code der Funktion...\n",
    "    \n",
    "    return"
   ]
  },
  {
   "cell_type": "code",
   "execution_count": 5,
   "metadata": {},
   "outputs": [],
   "source": [
    "# Beispiel: Anzahl u's im Text zählen\n",
    "def mach_was_mit_text(text):\n",
    "    \n",
    "    n_u = text.lower().count('u')\n",
    "    n_i = text.lower().count('i')\n",
    "    \n",
    "    textanalyse = \"Enhält \" + str(n_u) + \" u's \"\n",
    "        \n",
    "    return textanalyse"
   ]
  },
  {
   "cell_type": "code",
   "execution_count": null,
   "metadata": {},
   "outputs": [],
   "source": []
  },
  {
   "cell_type": "markdown",
   "metadata": {},
   "source": [
    "Zum Testen:"
   ]
  },
  {
   "cell_type": "code",
   "execution_count": 6,
   "metadata": {},
   "outputs": [
    {
     "data": {
      "text/plain": [
       "\"Enhält 3 u's \""
      ]
     },
     "execution_count": 6,
     "metadata": {},
     "output_type": "execute_result"
    }
   ],
   "source": [
    "mach_was_mit_text(my_text)"
   ]
  },
  {
   "cell_type": "code",
   "execution_count": null,
   "metadata": {},
   "outputs": [],
   "source": []
  },
  {
   "cell_type": "markdown",
   "metadata": {},
   "source": [
    "## Funktion ausführen 1: List Comprehension (review)"
   ]
  },
  {
   "cell_type": "markdown",
   "metadata": {},
   "source": [
    "Das kennen wir bereits: Wir wollen dieselbe Funktion auf alle Elemente in einer Liste anwenden!"
   ]
  },
  {
   "cell_type": "code",
   "execution_count": 7,
   "metadata": {},
   "outputs": [],
   "source": [
    "def mach_weiblich(name):\n",
    "    return name + \"a\""
   ]
  },
  {
   "cell_type": "code",
   "execution_count": 8,
   "metadata": {},
   "outputs": [
    {
     "data": {
      "text/plain": [
       "'Michaela'"
      ]
     },
     "execution_count": 8,
     "metadata": {},
     "output_type": "execute_result"
    }
   ],
   "source": [
    "mach_weiblich('Michael')"
   ]
  },
  {
   "cell_type": "code",
   "execution_count": 9,
   "metadata": {},
   "outputs": [],
   "source": [
    "names = ['Michael', 'Paul', 'Simon']"
   ]
  },
  {
   "cell_type": "code",
   "execution_count": 10,
   "metadata": {},
   "outputs": [
    {
     "data": {
      "text/plain": [
       "['Michaela', 'Paula', 'Simona']"
      ]
     },
     "execution_count": 10,
     "metadata": {},
     "output_type": "execute_result"
    }
   ],
   "source": [
    "[mach_weiblich(name) for name in names]"
   ]
  },
  {
   "cell_type": "markdown",
   "metadata": {},
   "source": [
    "Unsere Liste besteht in diesem Fall aus drei Songtexten. Sie sind in den folgenden Dateien gespeichert:"
   ]
  },
  {
   "cell_type": "code",
   "execution_count": 11,
   "metadata": {},
   "outputs": [],
   "source": [
    "files = [\n",
    "    'Züri West - I schänke dir mis Härz.txt',\n",
    "    'Patent Ochsner - Venus vo Bümpliz.txt',\n",
    "    'DJ Bobo - Chihuahua.txt'\n",
    "]"
   ]
  },
  {
   "cell_type": "markdown",
   "metadata": {},
   "source": [
    "Eine einzelne Textdatei einzulesen, geht so:"
   ]
  },
  {
   "cell_type": "code",
   "execution_count": 12,
   "metadata": {},
   "outputs": [
    {
     "data": {
      "text/plain": [
       "'I schänke dir mis Härz\\nMeh han i nid\\nDu chasch es ha, we dä wosch\\nEs isch es guets\\nU es git no mängi, wos würd näh,\\nAber dir würdis gäh\\nD szene isch ä chlini Bar\\nIrgenwo i dere Stadt\\nUnd i bsteue ä Whisky\\nHocke irgendwo ab\\nWos ke Platz u luege so chli ume\\nWär so umänang hocket\\nAber kenne tuä-ni niemer hie inne\\nÜberall hocke Lüt\\nhinger de Schampus-Chüble\\nGeng ä Frou u ne Typ\\nU nippe amne Flûte u hange angenang a\\nu rede öppis über nüt\\nU nume ig bi allei hie\\nu da wächslet ds\\'Liecht\\nHie u da verschwinde wider zwöi irgendwo\\nU irgendeinisch geit hinde\\nÄ dunkublaue Vorhang uuf\\nHinger em Vorhang hets ä Bühni\\nUf dr Bühni steit ä Frou\\nWo i dä Ungerhose irgendsone Show zeigt\\nI luege so chli zue\\nU i hocke so chli da\\nU gspüre plötzlech\\nDass i irgendsone Hang ufem Chnöi ha\\nU dräie mi um\\nU näbe mir hocket eini\\nWoni nie voher ha gseh\\nU fragt, ob ig alleini sig\\nU sie sig ou allei\\nI söu nid überlege\\nI gfaui re no so\\nu si wöu eifach chli rede\\nViellech sött i hie no säge\\nSie gseht schön us\\nSie isch ä schöni mit schöne, länge Haar\\nU klar bin i närvös worde\\nKlar han i drunke\\nU mit jedem Schlunk het sie mi no chli schöner afa dünke\\nU nach jedem Glas Champagner\\nHet sie gäng no eis wöue\\nI ha zaut u zaut\\nBis i eifach nüm ha chönne\\nU ha gseit:\"Hey,\\nWei mer nid zu mir oder so?\"\\nU sie het gseit:\\n\"I chönnt di so verwöhne.\\nSo ire haub Stung chönnti cho -\\nu jitz säg mer eifach numeno wiviu\\nSäg wiviu,\\nWiviu gisch mer, wenn i chume?\"\\nI schänke dir mis Härz meh han i nid\\nDu chasch es ha, we de wosch\\nes isch es guets und es git\\nno mängi, wos würd näh\\nAber dir würd is gä\\n'"
      ]
     },
     "execution_count": 12,
     "metadata": {},
     "output_type": "execute_result"
    }
   ],
   "source": [
    "open('dataprojects/Songtexte/Züri West - I schänke dir mis Härz.txt', \"r\").read()"
   ]
  },
  {
   "cell_type": "markdown",
   "metadata": {},
   "source": [
    "Um die ganze Liste einzulesen, verwenden wir list comprehension!"
   ]
  },
  {
   "cell_type": "code",
   "execution_count": 13,
   "metadata": {},
   "outputs": [],
   "source": [
    "texts = [open('dataprojects/Songtexte/' + file, \"r\").read() for file in files]"
   ]
  },
  {
   "cell_type": "code",
   "execution_count": 14,
   "metadata": {},
   "outputs": [
    {
     "data": {
      "text/plain": [
       "'I schänke dir mis Härz\\nMeh han i nid\\nDu chasch es ha, we dä wosch\\nEs isch es guets\\nU es git no mängi, wos würd näh,\\nAber dir würdis gäh\\nD szene isch ä chlini Bar\\nIrgenwo i dere Stadt\\nUnd i bsteue ä Whisky\\nHocke irgendwo ab\\nWos ke Platz u luege so chli ume\\nWär so umänang hocket\\nAber kenne tuä-ni niemer hie inne\\nÜberall hocke Lüt\\nhinger de Schampus-Chüble\\nGeng ä Frou u ne Typ\\nU nippe amne Flûte u hange angenang a\\nu rede öppis über nüt\\nU nume ig bi allei hie\\nu da wächslet ds\\'Liecht\\nHie u da verschwinde wider zwöi irgendwo\\nU irgendeinisch geit hinde\\nÄ dunkublaue Vorhang uuf\\nHinger em Vorhang hets ä Bühni\\nUf dr Bühni steit ä Frou\\nWo i dä Ungerhose irgendsone Show zeigt\\nI luege so chli zue\\nU i hocke so chli da\\nU gspüre plötzlech\\nDass i irgendsone Hang ufem Chnöi ha\\nU dräie mi um\\nU näbe mir hocket eini\\nWoni nie voher ha gseh\\nU fragt, ob ig alleini sig\\nU sie sig ou allei\\nI söu nid überlege\\nI gfaui re no so\\nu si wöu eifach chli rede\\nViellech sött i hie no säge\\nSie gseht schön us\\nSie isch ä schöni mit schöne, länge Haar\\nU klar bin i närvös worde\\nKlar han i drunke\\nU mit jedem Schlunk het sie mi no chli schöner afa dünke\\nU nach jedem Glas Champagner\\nHet sie gäng no eis wöue\\nI ha zaut u zaut\\nBis i eifach nüm ha chönne\\nU ha gseit:\"Hey,\\nWei mer nid zu mir oder so?\"\\nU sie het gseit:\\n\"I chönnt di so verwöhne.\\nSo ire haub Stung chönnti cho -\\nu jitz säg mer eifach numeno wiviu\\nSäg wiviu,\\nWiviu gisch mer, wenn i chume?\"\\nI schänke dir mis Härz meh han i nid\\nDu chasch es ha, we de wosch\\nes isch es guets und es git\\nno mängi, wos würd näh\\nAber dir würd is gä\\n'"
      ]
     },
     "execution_count": 14,
     "metadata": {},
     "output_type": "execute_result"
    }
   ],
   "source": [
    "texts[0]"
   ]
  },
  {
   "cell_type": "markdown",
   "metadata": {},
   "source": [
    "Mit list comprehension können wir nun unsere Funktion auf alle Texte ausführen:"
   ]
  },
  {
   "cell_type": "code",
   "execution_count": 15,
   "metadata": {},
   "outputs": [
    {
     "data": {
      "text/plain": [
       "[\"Enhält 68 u's \", \"Enhält 41 u's \", \"Enhält 100 u's \"]"
      ]
     },
     "execution_count": 15,
     "metadata": {},
     "output_type": "execute_result"
    }
   ],
   "source": [
    "[mach_was_mit_text(text) for text in texts]"
   ]
  },
  {
   "cell_type": "code",
   "execution_count": null,
   "metadata": {},
   "outputs": [],
   "source": []
  },
  {
   "cell_type": "code",
   "execution_count": null,
   "metadata": {},
   "outputs": [],
   "source": []
  },
  {
   "cell_type": "markdown",
   "metadata": {},
   "source": [
    "## Funktion ausführen 2: Apply"
   ]
  },
  {
   "cell_type": "markdown",
   "metadata": {},
   "source": [
    "Apply ist ein ähnliches Prinzip wie List Comprehension - aber in Pandas.\n",
    "\n",
    "Wir wollen unsere Funktion nun auf Texte anwenden, die in der Hitparaden-Datenbank drin sind."
   ]
  },
  {
   "cell_type": "code",
   "execution_count": 16,
   "metadata": {},
   "outputs": [],
   "source": [
    "df = pd.read_csv('dataprojects/Songtexte/charts_mit_texten.csv')"
   ]
  },
  {
   "cell_type": "code",
   "execution_count": 17,
   "metadata": {},
   "outputs": [
    {
     "data": {
      "text/plain": [
       "(100, 9)"
      ]
     },
     "execution_count": 17,
     "metadata": {},
     "output_type": "execute_result"
    }
   ],
   "source": [
    "df.shape"
   ]
  },
  {
   "cell_type": "code",
   "execution_count": 18,
   "metadata": {},
   "outputs": [
    {
     "data": {
      "text/html": [
       "<div>\n",
       "<style scoped>\n",
       "    .dataframe tbody tr th:only-of-type {\n",
       "        vertical-align: middle;\n",
       "    }\n",
       "\n",
       "    .dataframe tbody tr th {\n",
       "        vertical-align: top;\n",
       "    }\n",
       "\n",
       "    .dataframe thead th {\n",
       "        text-align: right;\n",
       "    }\n",
       "</style>\n",
       "<table border=\"1\" class=\"dataframe\">\n",
       "  <thead>\n",
       "    <tr style=\"text-align: right;\">\n",
       "      <th></th>\n",
       "      <th>Rang</th>\n",
       "      <th>Artist</th>\n",
       "      <th>Titel</th>\n",
       "      <th>Eintritt</th>\n",
       "      <th>Wochen</th>\n",
       "      <th>Peak</th>\n",
       "      <th>Punkte</th>\n",
       "      <th>Link</th>\n",
       "      <th>Songtext</th>\n",
       "    </tr>\n",
       "  </thead>\n",
       "  <tbody>\n",
       "    <tr>\n",
       "      <td>0</td>\n",
       "      <td>1</td>\n",
       "      <td>DJ Ötzi &amp; Nik P.</td>\n",
       "      <td>Ein Stern (... der deinen Namen trägt)</td>\n",
       "      <td>18.02.2007</td>\n",
       "      <td>118</td>\n",
       "      <td>2</td>\n",
       "      <td>8109</td>\n",
       "      <td>/song/DJ-Oetzi-&amp;-Nik-P./Ein-Stern-(...-der-deinen-Namen-traegt)-283118</td>\n",
       "      <td>Einen Stern, der deinen Namen trägt\\nHoch am Himmelszelt\\nDen schenk ich Dir heut' Nacht\\nEinen Stern, der deinen Namen trägt\\nAlle Zeiten überlebt\\nUnd über unsere Liebe wacht\\n\\nSeit Jahren scho...</td>\n",
       "    </tr>\n",
       "    <tr>\n",
       "      <td>1</td>\n",
       "      <td>2</td>\n",
       "      <td>Ed Sheeran</td>\n",
       "      <td>Shape Of You</td>\n",
       "      <td>15.01.2017</td>\n",
       "      <td>93</td>\n",
       "      <td>1</td>\n",
       "      <td>7196</td>\n",
       "      <td>/song/Ed-Sheeran/Shape-Of-You-1622943</td>\n",
       "      <td>The club isn't the best place to find a lover\\nSo the bar is where I go\\nMe and my friends at the table doing shots\\nDrinking fast and then we talk slow\\n\\nCome over and start up a conversation wi...</td>\n",
       "    </tr>\n",
       "    <tr>\n",
       "      <td>2</td>\n",
       "      <td>3</td>\n",
       "      <td>Luis Fonsi feat. Daddy Yankee</td>\n",
       "      <td>Despacito</td>\n",
       "      <td>22.01.2017</td>\n",
       "      <td>90</td>\n",
       "      <td>1</td>\n",
       "      <td>6854</td>\n",
       "      <td>/song/Luis-Fonsi-feat.-Daddy-Yankee/Despacito-1625640</td>\n",
       "      <td>Ay\\nFonsi, DY\\nOh, oh no, oh no (ey)\\nHey, yeah, diri-diri-diriridi, Daddy, go!\\n\\nSí, sabes que ya llevo un rato mirándote\\nTengo que bailar contigo hoy (DY)\\nVi que tu mirada ya estaba llamándom...</td>\n",
       "    </tr>\n",
       "    <tr>\n",
       "      <td>3</td>\n",
       "      <td>4</td>\n",
       "      <td>DJ Antoine feat. The Beat Shakers</td>\n",
       "      <td>\"Ma chérie\"</td>\n",
       "      <td>06.06.2010</td>\n",
       "      <td>99</td>\n",
       "      <td>2</td>\n",
       "      <td>6745</td>\n",
       "      <td>/song/DJ-Antoine-feat.-The-Beat-Shakers/Ma-cherie-711060</td>\n",
       "      <td>When I look into your eyes\\nI see rainbows in the skies.\\nBaby when you're close to me\\nI know you are ma cherie.\\n\\nWe are gonna dance into the sea\\nAll I want is you - you're ma cherie\\nNever se...</td>\n",
       "    </tr>\n",
       "    <tr>\n",
       "      <td>4</td>\n",
       "      <td>5</td>\n",
       "      <td>Adele</td>\n",
       "      <td>Rolling In The Deep</td>\n",
       "      <td>30.01.2011</td>\n",
       "      <td>93</td>\n",
       "      <td>1</td>\n",
       "      <td>6588</td>\n",
       "      <td>/song/Adele/Rolling-In-The-Deep-767937</td>\n",
       "      <td>There's a fire starting in my heart\\nReaching a fever pitch and it's bring me out the dark\\nFinally, I can see you crystal clear\\nGo ahead and sell me out and I'll lay your ship bare\\n\\nSee how I'...</td>\n",
       "    </tr>\n",
       "  </tbody>\n",
       "</table>\n",
       "</div>"
      ],
      "text/plain": [
       "   Rang                             Artist  \\\n",
       "0     1                   DJ Ötzi & Nik P.   \n",
       "1     2                         Ed Sheeran   \n",
       "2     3      Luis Fonsi feat. Daddy Yankee   \n",
       "3     4  DJ Antoine feat. The Beat Shakers   \n",
       "4     5                              Adele   \n",
       "\n",
       "                                    Titel    Eintritt  Wochen  Peak  Punkte  \\\n",
       "0  Ein Stern (... der deinen Namen trägt)  18.02.2007     118     2    8109   \n",
       "1                            Shape Of You  15.01.2017      93     1    7196   \n",
       "2                               Despacito  22.01.2017      90     1    6854   \n",
       "3                             \"Ma chérie\"  06.06.2010      99     2    6745   \n",
       "4                     Rolling In The Deep  30.01.2011      93     1    6588   \n",
       "\n",
       "                                                                     Link  \\\n",
       "0  /song/DJ-Oetzi-&-Nik-P./Ein-Stern-(...-der-deinen-Namen-traegt)-283118   \n",
       "1                                   /song/Ed-Sheeran/Shape-Of-You-1622943   \n",
       "2                   /song/Luis-Fonsi-feat.-Daddy-Yankee/Despacito-1625640   \n",
       "3                /song/DJ-Antoine-feat.-The-Beat-Shakers/Ma-cherie-711060   \n",
       "4                                  /song/Adele/Rolling-In-The-Deep-767937   \n",
       "\n",
       "                                                                                                                                                                                                  Songtext  \n",
       "0  Einen Stern, der deinen Namen trägt\\nHoch am Himmelszelt\\nDen schenk ich Dir heut' Nacht\\nEinen Stern, der deinen Namen trägt\\nAlle Zeiten überlebt\\nUnd über unsere Liebe wacht\\n\\nSeit Jahren scho...  \n",
       "1  The club isn't the best place to find a lover\\nSo the bar is where I go\\nMe and my friends at the table doing shots\\nDrinking fast and then we talk slow\\n\\nCome over and start up a conversation wi...  \n",
       "2  Ay\\nFonsi, DY\\nOh, oh no, oh no (ey)\\nHey, yeah, diri-diri-diriridi, Daddy, go!\\n\\nSí, sabes que ya llevo un rato mirándote\\nTengo que bailar contigo hoy (DY)\\nVi que tu mirada ya estaba llamándom...  \n",
       "3  When I look into your eyes\\nI see rainbows in the skies.\\nBaby when you're close to me\\nI know you are ma cherie.\\n\\nWe are gonna dance into the sea\\nAll I want is you - you're ma cherie\\nNever se...  \n",
       "4  There's a fire starting in my heart\\nReaching a fever pitch and it's bring me out the dark\\nFinally, I can see you crystal clear\\nGo ahead and sell me out and I'll lay your ship bare\\n\\nSee how I'...  "
      ]
     },
     "execution_count": 18,
     "metadata": {},
     "output_type": "execute_result"
    }
   ],
   "source": [
    "df.head()"
   ]
  },
  {
   "cell_type": "markdown",
   "metadata": {},
   "source": [
    "### Apply mit einzelnen Einträgen"
   ]
  },
  {
   "cell_type": "markdown",
   "metadata": {},
   "source": [
    "Und das geht so:"
   ]
  },
  {
   "cell_type": "code",
   "execution_count": 19,
   "metadata": {},
   "outputs": [
    {
     "data": {
      "text/plain": [
       "0      Enhält 22 u's \n",
       "1      Enhält 41 u's \n",
       "2     Enhält 114 u's \n",
       "3      Enhält 18 u's \n",
       "4      Enhält 81 u's \n",
       "           ...       \n",
       "95     Enhält 95 u's \n",
       "96     Enhält 29 u's \n",
       "97     Enhält 56 u's \n",
       "98     Enhält 62 u's \n",
       "99     Enhält 99 u's \n",
       "Name: Songtext, Length: 100, dtype: object"
      ]
     },
     "execution_count": 19,
     "metadata": {},
     "output_type": "execute_result"
    }
   ],
   "source": [
    "#Testen Sie hier Ihre Text-Funktion\n",
    "df['Songtext'].astype(str).apply(mach_was_mit_text)"
   ]
  },
  {
   "cell_type": "markdown",
   "metadata": {},
   "source": [
    "Das Resultat können wir auch als separate Spalte speichern:"
   ]
  },
  {
   "cell_type": "code",
   "execution_count": 20,
   "metadata": {},
   "outputs": [],
   "source": [
    "df['Textanalyse'] = df['Songtext'].astype(str).apply(mach_was_mit_text)"
   ]
  },
  {
   "cell_type": "code",
   "execution_count": 21,
   "metadata": {},
   "outputs": [
    {
     "data": {
      "text/html": [
       "<div>\n",
       "<style scoped>\n",
       "    .dataframe tbody tr th:only-of-type {\n",
       "        vertical-align: middle;\n",
       "    }\n",
       "\n",
       "    .dataframe tbody tr th {\n",
       "        vertical-align: top;\n",
       "    }\n",
       "\n",
       "    .dataframe thead th {\n",
       "        text-align: right;\n",
       "    }\n",
       "</style>\n",
       "<table border=\"1\" class=\"dataframe\">\n",
       "  <thead>\n",
       "    <tr style=\"text-align: right;\">\n",
       "      <th></th>\n",
       "      <th>Rang</th>\n",
       "      <th>Artist</th>\n",
       "      <th>Titel</th>\n",
       "      <th>Eintritt</th>\n",
       "      <th>Wochen</th>\n",
       "      <th>Peak</th>\n",
       "      <th>Punkte</th>\n",
       "      <th>Link</th>\n",
       "      <th>Songtext</th>\n",
       "      <th>Textanalyse</th>\n",
       "    </tr>\n",
       "  </thead>\n",
       "  <tbody>\n",
       "    <tr>\n",
       "      <td>0</td>\n",
       "      <td>1</td>\n",
       "      <td>DJ Ötzi &amp; Nik P.</td>\n",
       "      <td>Ein Stern (... der deinen Namen trägt)</td>\n",
       "      <td>18.02.2007</td>\n",
       "      <td>118</td>\n",
       "      <td>2</td>\n",
       "      <td>8109</td>\n",
       "      <td>/song/DJ-Oetzi-&amp;-Nik-P./Ein-Stern-(...-der-deinen-Namen-traegt)-283118</td>\n",
       "      <td>Einen Stern, der deinen Namen trägt\\nHoch am Himmelszelt\\nDen schenk ich Dir heut' Nacht\\nEinen Stern, der deinen Namen trägt\\nAlle Zeiten überlebt\\nUnd über unsere Liebe wacht\\n\\nSeit Jahren scho...</td>\n",
       "      <td>Enhält 22 u's</td>\n",
       "    </tr>\n",
       "    <tr>\n",
       "      <td>1</td>\n",
       "      <td>2</td>\n",
       "      <td>Ed Sheeran</td>\n",
       "      <td>Shape Of You</td>\n",
       "      <td>15.01.2017</td>\n",
       "      <td>93</td>\n",
       "      <td>1</td>\n",
       "      <td>7196</td>\n",
       "      <td>/song/Ed-Sheeran/Shape-Of-You-1622943</td>\n",
       "      <td>The club isn't the best place to find a lover\\nSo the bar is where I go\\nMe and my friends at the table doing shots\\nDrinking fast and then we talk slow\\n\\nCome over and start up a conversation wi...</td>\n",
       "      <td>Enhält 41 u's</td>\n",
       "    </tr>\n",
       "    <tr>\n",
       "      <td>2</td>\n",
       "      <td>3</td>\n",
       "      <td>Luis Fonsi feat. Daddy Yankee</td>\n",
       "      <td>Despacito</td>\n",
       "      <td>22.01.2017</td>\n",
       "      <td>90</td>\n",
       "      <td>1</td>\n",
       "      <td>6854</td>\n",
       "      <td>/song/Luis-Fonsi-feat.-Daddy-Yankee/Despacito-1625640</td>\n",
       "      <td>Ay\\nFonsi, DY\\nOh, oh no, oh no (ey)\\nHey, yeah, diri-diri-diriridi, Daddy, go!\\n\\nSí, sabes que ya llevo un rato mirándote\\nTengo que bailar contigo hoy (DY)\\nVi que tu mirada ya estaba llamándom...</td>\n",
       "      <td>Enhält 114 u's</td>\n",
       "    </tr>\n",
       "    <tr>\n",
       "      <td>3</td>\n",
       "      <td>4</td>\n",
       "      <td>DJ Antoine feat. The Beat Shakers</td>\n",
       "      <td>\"Ma chérie\"</td>\n",
       "      <td>06.06.2010</td>\n",
       "      <td>99</td>\n",
       "      <td>2</td>\n",
       "      <td>6745</td>\n",
       "      <td>/song/DJ-Antoine-feat.-The-Beat-Shakers/Ma-cherie-711060</td>\n",
       "      <td>When I look into your eyes\\nI see rainbows in the skies.\\nBaby when you're close to me\\nI know you are ma cherie.\\n\\nWe are gonna dance into the sea\\nAll I want is you - you're ma cherie\\nNever se...</td>\n",
       "      <td>Enhält 18 u's</td>\n",
       "    </tr>\n",
       "    <tr>\n",
       "      <td>4</td>\n",
       "      <td>5</td>\n",
       "      <td>Adele</td>\n",
       "      <td>Rolling In The Deep</td>\n",
       "      <td>30.01.2011</td>\n",
       "      <td>93</td>\n",
       "      <td>1</td>\n",
       "      <td>6588</td>\n",
       "      <td>/song/Adele/Rolling-In-The-Deep-767937</td>\n",
       "      <td>There's a fire starting in my heart\\nReaching a fever pitch and it's bring me out the dark\\nFinally, I can see you crystal clear\\nGo ahead and sell me out and I'll lay your ship bare\\n\\nSee how I'...</td>\n",
       "      <td>Enhält 81 u's</td>\n",
       "    </tr>\n",
       "  </tbody>\n",
       "</table>\n",
       "</div>"
      ],
      "text/plain": [
       "   Rang                             Artist  \\\n",
       "0     1                   DJ Ötzi & Nik P.   \n",
       "1     2                         Ed Sheeran   \n",
       "2     3      Luis Fonsi feat. Daddy Yankee   \n",
       "3     4  DJ Antoine feat. The Beat Shakers   \n",
       "4     5                              Adele   \n",
       "\n",
       "                                    Titel    Eintritt  Wochen  Peak  Punkte  \\\n",
       "0  Ein Stern (... der deinen Namen trägt)  18.02.2007     118     2    8109   \n",
       "1                            Shape Of You  15.01.2017      93     1    7196   \n",
       "2                               Despacito  22.01.2017      90     1    6854   \n",
       "3                             \"Ma chérie\"  06.06.2010      99     2    6745   \n",
       "4                     Rolling In The Deep  30.01.2011      93     1    6588   \n",
       "\n",
       "                                                                     Link  \\\n",
       "0  /song/DJ-Oetzi-&-Nik-P./Ein-Stern-(...-der-deinen-Namen-traegt)-283118   \n",
       "1                                   /song/Ed-Sheeran/Shape-Of-You-1622943   \n",
       "2                   /song/Luis-Fonsi-feat.-Daddy-Yankee/Despacito-1625640   \n",
       "3                /song/DJ-Antoine-feat.-The-Beat-Shakers/Ma-cherie-711060   \n",
       "4                                  /song/Adele/Rolling-In-The-Deep-767937   \n",
       "\n",
       "                                                                                                                                                                                                  Songtext  \\\n",
       "0  Einen Stern, der deinen Namen trägt\\nHoch am Himmelszelt\\nDen schenk ich Dir heut' Nacht\\nEinen Stern, der deinen Namen trägt\\nAlle Zeiten überlebt\\nUnd über unsere Liebe wacht\\n\\nSeit Jahren scho...   \n",
       "1  The club isn't the best place to find a lover\\nSo the bar is where I go\\nMe and my friends at the table doing shots\\nDrinking fast and then we talk slow\\n\\nCome over and start up a conversation wi...   \n",
       "2  Ay\\nFonsi, DY\\nOh, oh no, oh no (ey)\\nHey, yeah, diri-diri-diriridi, Daddy, go!\\n\\nSí, sabes que ya llevo un rato mirándote\\nTengo que bailar contigo hoy (DY)\\nVi que tu mirada ya estaba llamándom...   \n",
       "3  When I look into your eyes\\nI see rainbows in the skies.\\nBaby when you're close to me\\nI know you are ma cherie.\\n\\nWe are gonna dance into the sea\\nAll I want is you - you're ma cherie\\nNever se...   \n",
       "4  There's a fire starting in my heart\\nReaching a fever pitch and it's bring me out the dark\\nFinally, I can see you crystal clear\\nGo ahead and sell me out and I'll lay your ship bare\\n\\nSee how I'...   \n",
       "\n",
       "       Textanalyse  \n",
       "0   Enhält 22 u's   \n",
       "1   Enhält 41 u's   \n",
       "2  Enhält 114 u's   \n",
       "3   Enhält 18 u's   \n",
       "4   Enhält 81 u's   "
      ]
     },
     "execution_count": 21,
     "metadata": {},
     "output_type": "execute_result"
    }
   ],
   "source": [
    "df.head()"
   ]
  },
  {
   "cell_type": "code",
   "execution_count": null,
   "metadata": {},
   "outputs": [],
   "source": []
  },
  {
   "cell_type": "code",
   "execution_count": null,
   "metadata": {},
   "outputs": [],
   "source": []
  },
  {
   "cell_type": "code",
   "execution_count": null,
   "metadata": {},
   "outputs": [],
   "source": []
  },
  {
   "cell_type": "markdown",
   "metadata": {},
   "source": [
    "### Apply mit ganzen Zeilen"
   ]
  },
  {
   "cell_type": "markdown",
   "metadata": {},
   "source": [
    "Bis jetzt haben wir `apply()` benutzt, um eine Funktion auf eine einzelne Spalte anzuwenden.\n",
    "\n",
    "Wir können mit `apply()` aber auch den Inhalt von mehreren Spalten bearbeiten.\n",
    "\n",
    "Dazu müssen wir eine Funktion schreiben, die etwas mit einem Dictionary macht."
   ]
  },
  {
   "cell_type": "markdown",
   "metadata": {},
   "source": [
    "Zum Beispiel mit diesem hier - er ist nach unserem Songtexte-Dataframe nachgebildet:"
   ]
  },
  {
   "cell_type": "code",
   "execution_count": 22,
   "metadata": {},
   "outputs": [],
   "source": [
    "my_dictionary = {\n",
    "    'Rang': 20,\n",
    "    'Artist': 'Baschi',\n",
    "    'Titel': 'Bring en hei',\n",
    "    'Eintritt': '28.05.2006',\n",
    "    'Wochen': 100,\n",
    "    'Peak': 1,\n",
    "    'Punkte': 5356,\n",
    "    'Link': '/song/Baschi/Bring-en-hei-193080'\n",
    "}"
   ]
  },
  {
   "cell_type": "markdown",
   "metadata": {},
   "source": [
    "Unsere Funktion formatiert die Infos in diesem Dictionary nach einem bestimmten Muster"
   ]
  },
  {
   "cell_type": "code",
   "execution_count": 23,
   "metadata": {},
   "outputs": [],
   "source": [
    "def mach_was_mit_dictionary(dic):\n",
    "    \n",
    "    str_out = \"Die Single '\" + dic['Titel'] + \"' von \" + dic['Artist']\n",
    "    str_out += \" ist am \" + dic['Eintritt'] + \" in die Charts eingestiegen. \"\n",
    "    str_out += \"Sie blieb dort \" + str(dic['Wochen']) + \" Wochen und schaffte es auf Platz \" + str(dic['Peak']) + \".\"\n",
    "      \n",
    "    return str_out"
   ]
  },
  {
   "cell_type": "markdown",
   "metadata": {},
   "source": [
    "Das sieht testweise dann so aus:"
   ]
  },
  {
   "cell_type": "code",
   "execution_count": 24,
   "metadata": {
    "scrolled": true
   },
   "outputs": [
    {
     "data": {
      "text/plain": [
       "\"Die Single 'Bring en hei' von Baschi ist am 28.05.2006 in die Charts eingestiegen. Sie blieb dort 100 Wochen und schaffte es auf Platz 1.\""
      ]
     },
     "execution_count": 24,
     "metadata": {},
     "output_type": "execute_result"
    }
   ],
   "source": [
    "mach_was_mit_dictionary(my_dictionary)"
   ]
  },
  {
   "cell_type": "markdown",
   "metadata": {},
   "source": [
    "Um die Funktion auf die Zeilen im Dataframe anzuwenden, brauchen wir wiederum `apply()`.\n",
    "\n",
    "Wichtig ist der Parameter `axis=1` (Dataframe zeilenweise abarbeiten, nicht spaltenweise)."
   ]
  },
  {
   "cell_type": "markdown",
   "metadata": {},
   "source": [
    "=> Die Sache klappt, weil die Keys im Test-Dictionary denselben Namen haben wie die Spalten in unserem Dataframe"
   ]
  },
  {
   "cell_type": "code",
   "execution_count": 25,
   "metadata": {},
   "outputs": [
    {
     "data": {
      "text/plain": [
       "0     Die Single 'Ein Stern (... der deinen Namen trägt)' von DJ Ötzi & Nik P. ist am 18.02.2007 in die Charts eingestiegen. Sie blieb dort 118 Wochen und schaffte es auf Platz 2.\n",
       "1                                      Die Single 'Shape Of You' von Ed Sheeran ist am 15.01.2017 in die Charts eingestiegen. Sie blieb dort 93 Wochen und schaffte es auf Platz 1.\n",
       "2                      Die Single 'Despacito' von Luis Fonsi feat. Daddy Yankee ist am 22.01.2017 in die Charts eingestiegen. Sie blieb dort 90 Wochen und schaffte es auf Platz 1.\n",
       "3                Die Single '\"Ma chérie\"' von DJ Antoine feat. The Beat Shakers ist am 06.06.2010 in die Charts eingestiegen. Sie blieb dort 99 Wochen und schaffte es auf Platz 2.\n",
       "4                                    Die Single 'Rolling In The Deep' von Adele ist am 30.01.2011 in die Charts eingestiegen. Sie blieb dort 93 Wochen und schaffte es auf Platz 1.\n",
       "                                                                                          ...                                                                                      \n",
       "95                                      Die Single 'Maneater' von Nelly Furtado ist am 11.06.2006 in die Charts eingestiegen. Sie blieb dort 63 Wochen und schaffte es auf Platz 3.\n",
       "96                   Die Single 'On The Floor' von Jennifer Lopez feat. Pitbull ist am 13.03.2011 in die Charts eingestiegen. Sie blieb dort 51 Wochen und schaffte es auf Platz 1.\n",
       "97                    Die Single 'Hips Don't Lie' von Shakira feat. Wyclef Jean ist am 30.04.2006 in die Charts eingestiegen. Sie blieb dort 65 Wochen und schaffte es auf Platz 1.\n",
       "98                   Die Single 'Can't Stop The Feeling!' von Justin Timberlake ist am 15.05.2016 in die Charts eingestiegen. Sie blieb dort 62 Wochen und schaffte es auf Platz 1.\n",
       "99                            Die Single 'Right Round' von Flo Rida feat. Ke$ha ist am 15.03.2009 in die Charts eingestiegen. Sie blieb dort 59 Wochen und schaffte es auf Platz 2.\n",
       "Length: 100, dtype: object"
      ]
     },
     "execution_count": 25,
     "metadata": {},
     "output_type": "execute_result"
    }
   ],
   "source": [
    "df.apply(mach_was_mit_dictionary, axis=1)"
   ]
  },
  {
   "cell_type": "code",
   "execution_count": null,
   "metadata": {},
   "outputs": [],
   "source": []
  },
  {
   "cell_type": "code",
   "execution_count": null,
   "metadata": {},
   "outputs": [],
   "source": []
  },
  {
   "cell_type": "markdown",
   "metadata": {},
   "source": [
    "## Übung"
   ]
  },
  {
   "cell_type": "markdown",
   "metadata": {},
   "source": [
    "Das gute an `apply()` ist: man kann beliebig komplizierte Prozeduren implementieren, um eine neue Spalte zu generieren.\n",
    "\n",
    "Wir können uns zum Beispiel eine eigene Hitparaden-Metrik überlegen anhand der Infos, die in unserem Dataframe drin sind.\n",
    "\n",
    "Die aktuelle (uns unbekannte) Metrik ist in der Spalte \"Punkte\" angegeben. Sie bestimmt den Rang in der Allzeit-Liste."
   ]
  },
  {
   "cell_type": "code",
   "execution_count": 26,
   "metadata": {},
   "outputs": [
    {
     "data": {
      "text/html": [
       "<div>\n",
       "<style scoped>\n",
       "    .dataframe tbody tr th:only-of-type {\n",
       "        vertical-align: middle;\n",
       "    }\n",
       "\n",
       "    .dataframe tbody tr th {\n",
       "        vertical-align: top;\n",
       "    }\n",
       "\n",
       "    .dataframe thead th {\n",
       "        text-align: right;\n",
       "    }\n",
       "</style>\n",
       "<table border=\"1\" class=\"dataframe\">\n",
       "  <thead>\n",
       "    <tr style=\"text-align: right;\">\n",
       "      <th></th>\n",
       "      <th>Rang</th>\n",
       "      <th>Artist</th>\n",
       "      <th>Titel</th>\n",
       "      <th>Eintritt</th>\n",
       "      <th>Wochen</th>\n",
       "      <th>Peak</th>\n",
       "      <th>Punkte</th>\n",
       "      <th>Link</th>\n",
       "      <th>Songtext</th>\n",
       "      <th>Textanalyse</th>\n",
       "    </tr>\n",
       "  </thead>\n",
       "  <tbody>\n",
       "    <tr>\n",
       "      <td>0</td>\n",
       "      <td>1</td>\n",
       "      <td>DJ Ötzi &amp; Nik P.</td>\n",
       "      <td>Ein Stern (... der deinen Namen trägt)</td>\n",
       "      <td>18.02.2007</td>\n",
       "      <td>118</td>\n",
       "      <td>2</td>\n",
       "      <td>8109</td>\n",
       "      <td>/song/DJ-Oetzi-&amp;-Nik-P./Ein-Stern-(...-der-deinen-Namen-traegt)-283118</td>\n",
       "      <td>Einen Stern, der deinen Namen trägt\\nHoch am Himmelszelt\\nDen schenk ich Dir heut' Nacht\\nEinen Stern, der deinen Namen trägt\\nAlle Zeiten überlebt\\nUnd über unsere Liebe wacht\\n\\nSeit Jahren scho...</td>\n",
       "      <td>Enhält 22 u's</td>\n",
       "    </tr>\n",
       "    <tr>\n",
       "      <td>1</td>\n",
       "      <td>2</td>\n",
       "      <td>Ed Sheeran</td>\n",
       "      <td>Shape Of You</td>\n",
       "      <td>15.01.2017</td>\n",
       "      <td>93</td>\n",
       "      <td>1</td>\n",
       "      <td>7196</td>\n",
       "      <td>/song/Ed-Sheeran/Shape-Of-You-1622943</td>\n",
       "      <td>The club isn't the best place to find a lover\\nSo the bar is where I go\\nMe and my friends at the table doing shots\\nDrinking fast and then we talk slow\\n\\nCome over and start up a conversation wi...</td>\n",
       "      <td>Enhält 41 u's</td>\n",
       "    </tr>\n",
       "    <tr>\n",
       "      <td>2</td>\n",
       "      <td>3</td>\n",
       "      <td>Luis Fonsi feat. Daddy Yankee</td>\n",
       "      <td>Despacito</td>\n",
       "      <td>22.01.2017</td>\n",
       "      <td>90</td>\n",
       "      <td>1</td>\n",
       "      <td>6854</td>\n",
       "      <td>/song/Luis-Fonsi-feat.-Daddy-Yankee/Despacito-1625640</td>\n",
       "      <td>Ay\\nFonsi, DY\\nOh, oh no, oh no (ey)\\nHey, yeah, diri-diri-diriridi, Daddy, go!\\n\\nSí, sabes que ya llevo un rato mirándote\\nTengo que bailar contigo hoy (DY)\\nVi que tu mirada ya estaba llamándom...</td>\n",
       "      <td>Enhält 114 u's</td>\n",
       "    </tr>\n",
       "    <tr>\n",
       "      <td>3</td>\n",
       "      <td>4</td>\n",
       "      <td>DJ Antoine feat. The Beat Shakers</td>\n",
       "      <td>\"Ma chérie\"</td>\n",
       "      <td>06.06.2010</td>\n",
       "      <td>99</td>\n",
       "      <td>2</td>\n",
       "      <td>6745</td>\n",
       "      <td>/song/DJ-Antoine-feat.-The-Beat-Shakers/Ma-cherie-711060</td>\n",
       "      <td>When I look into your eyes\\nI see rainbows in the skies.\\nBaby when you're close to me\\nI know you are ma cherie.\\n\\nWe are gonna dance into the sea\\nAll I want is you - you're ma cherie\\nNever se...</td>\n",
       "      <td>Enhält 18 u's</td>\n",
       "    </tr>\n",
       "    <tr>\n",
       "      <td>4</td>\n",
       "      <td>5</td>\n",
       "      <td>Adele</td>\n",
       "      <td>Rolling In The Deep</td>\n",
       "      <td>30.01.2011</td>\n",
       "      <td>93</td>\n",
       "      <td>1</td>\n",
       "      <td>6588</td>\n",
       "      <td>/song/Adele/Rolling-In-The-Deep-767937</td>\n",
       "      <td>There's a fire starting in my heart\\nReaching a fever pitch and it's bring me out the dark\\nFinally, I can see you crystal clear\\nGo ahead and sell me out and I'll lay your ship bare\\n\\nSee how I'...</td>\n",
       "      <td>Enhält 81 u's</td>\n",
       "    </tr>\n",
       "    <tr>\n",
       "      <td>5</td>\n",
       "      <td>6</td>\n",
       "      <td>John Legend</td>\n",
       "      <td>All Of Me</td>\n",
       "      <td>02.02.2014</td>\n",
       "      <td>97</td>\n",
       "      <td>1</td>\n",
       "      <td>6547</td>\n",
       "      <td>/song/John-Legend/All-Of-Me-1183051</td>\n",
       "      <td>What would I do without your smart mouth?\\nDrawing me in, and you kicking me out\\nYou've got my head spinning, no kidding, I can't pin you down\\nWhat's going on in that beautiful mind\\nI'm on your...</td>\n",
       "      <td>Enhält 77 u's</td>\n",
       "    </tr>\n",
       "    <tr>\n",
       "      <td>6</td>\n",
       "      <td>7</td>\n",
       "      <td>Amy Macdonald</td>\n",
       "      <td>This Is The Life</td>\n",
       "      <td>23.03.2008</td>\n",
       "      <td>94</td>\n",
       "      <td>2</td>\n",
       "      <td>6125</td>\n",
       "      <td>/song/Amy-Macdonald/This-Is-The-Life-349688</td>\n",
       "      <td>Oh the wind whistles down\\nThe cold dark street tonight\\nAnd the people they were dancing to the music vibe\\nAnd the boys chase the girls with the curls in their hair\\n\\nWhile the shy tormented yo...</td>\n",
       "      <td>Enhält 74 u's</td>\n",
       "    </tr>\n",
       "    <tr>\n",
       "      <td>7</td>\n",
       "      <td>8</td>\n",
       "      <td>The Black Eyed Peas</td>\n",
       "      <td>I Gotta Feeling</td>\n",
       "      <td>19.07.2009</td>\n",
       "      <td>87</td>\n",
       "      <td>1</td>\n",
       "      <td>6085</td>\n",
       "      <td>/song/The-Black-Eyed-Peas/I-Gotta-Feeling-584715</td>\n",
       "      <td>I gotta feeling\\nThat tonight's gonna be a good night\\nThat tonight's gonna be a good night\\nThat tonight's gonna be a good, good night\\n\\nA feeling\\nThat tonight's gonna be a good night\\nThat ton...</td>\n",
       "      <td>Enhält 39 u's</td>\n",
       "    </tr>\n",
       "    <tr>\n",
       "      <td>8</td>\n",
       "      <td>9</td>\n",
       "      <td>Shakira feat. Freshlyground</td>\n",
       "      <td>Waka Waka (This Time For Africa)</td>\n",
       "      <td>23.05.2010</td>\n",
       "      <td>86</td>\n",
       "      <td>1</td>\n",
       "      <td>6004</td>\n",
       "      <td>/song/Shakira-feat.-Freshlyground/Waka-Waka-(This-Time-For-Africa)-700659</td>\n",
       "      <td>You're a good soldier\\nChoosing your battles\\nPick yourself up\\nDust yourself off\\nAnd get back in the saddle\\n\\nYou're on the front line\\nEveryone's watching\\nYou know it's serious\\nWe are gettin...</td>\n",
       "      <td>Enhält 35 u's</td>\n",
       "    </tr>\n",
       "    <tr>\n",
       "      <td>9</td>\n",
       "      <td>10</td>\n",
       "      <td>Guru Josh Project</td>\n",
       "      <td>Infinity 2008</td>\n",
       "      <td>28.09.2008</td>\n",
       "      <td>85</td>\n",
       "      <td>2</td>\n",
       "      <td>6001</td>\n",
       "      <td>/song/Guru-Josh-Project/Infinity-2008-484499</td>\n",
       "      <td>Here's my key\\nPhilosophy\\nA freak like me\\nJust needs infinity\\n\\nRelax\\nTake your time\\n\\nAnd take your time\\nTo trust in me\\nAnd you will find\\nInfinity, infinity\\n\\nAnd take your time\\nTo trus...</td>\n",
       "      <td>Enhält 20 u's</td>\n",
       "    </tr>\n",
       "  </tbody>\n",
       "</table>\n",
       "</div>"
      ],
      "text/plain": [
       "   Rang                             Artist  \\\n",
       "0     1                   DJ Ötzi & Nik P.   \n",
       "1     2                         Ed Sheeran   \n",
       "2     3      Luis Fonsi feat. Daddy Yankee   \n",
       "3     4  DJ Antoine feat. The Beat Shakers   \n",
       "4     5                              Adele   \n",
       "5     6                        John Legend   \n",
       "6     7                      Amy Macdonald   \n",
       "7     8                The Black Eyed Peas   \n",
       "8     9        Shakira feat. Freshlyground   \n",
       "9    10                  Guru Josh Project   \n",
       "\n",
       "                                    Titel    Eintritt  Wochen  Peak  Punkte  \\\n",
       "0  Ein Stern (... der deinen Namen trägt)  18.02.2007     118     2    8109   \n",
       "1                            Shape Of You  15.01.2017      93     1    7196   \n",
       "2                               Despacito  22.01.2017      90     1    6854   \n",
       "3                             \"Ma chérie\"  06.06.2010      99     2    6745   \n",
       "4                     Rolling In The Deep  30.01.2011      93     1    6588   \n",
       "5                               All Of Me  02.02.2014      97     1    6547   \n",
       "6                        This Is The Life  23.03.2008      94     2    6125   \n",
       "7                         I Gotta Feeling  19.07.2009      87     1    6085   \n",
       "8        Waka Waka (This Time For Africa)  23.05.2010      86     1    6004   \n",
       "9                           Infinity 2008  28.09.2008      85     2    6001   \n",
       "\n",
       "                                                                        Link  \\\n",
       "0     /song/DJ-Oetzi-&-Nik-P./Ein-Stern-(...-der-deinen-Namen-traegt)-283118   \n",
       "1                                      /song/Ed-Sheeran/Shape-Of-You-1622943   \n",
       "2                      /song/Luis-Fonsi-feat.-Daddy-Yankee/Despacito-1625640   \n",
       "3                   /song/DJ-Antoine-feat.-The-Beat-Shakers/Ma-cherie-711060   \n",
       "4                                     /song/Adele/Rolling-In-The-Deep-767937   \n",
       "5                                        /song/John-Legend/All-Of-Me-1183051   \n",
       "6                                /song/Amy-Macdonald/This-Is-The-Life-349688   \n",
       "7                           /song/The-Black-Eyed-Peas/I-Gotta-Feeling-584715   \n",
       "8  /song/Shakira-feat.-Freshlyground/Waka-Waka-(This-Time-For-Africa)-700659   \n",
       "9                               /song/Guru-Josh-Project/Infinity-2008-484499   \n",
       "\n",
       "                                                                                                                                                                                                  Songtext  \\\n",
       "0  Einen Stern, der deinen Namen trägt\\nHoch am Himmelszelt\\nDen schenk ich Dir heut' Nacht\\nEinen Stern, der deinen Namen trägt\\nAlle Zeiten überlebt\\nUnd über unsere Liebe wacht\\n\\nSeit Jahren scho...   \n",
       "1  The club isn't the best place to find a lover\\nSo the bar is where I go\\nMe and my friends at the table doing shots\\nDrinking fast and then we talk slow\\n\\nCome over and start up a conversation wi...   \n",
       "2  Ay\\nFonsi, DY\\nOh, oh no, oh no (ey)\\nHey, yeah, diri-diri-diriridi, Daddy, go!\\n\\nSí, sabes que ya llevo un rato mirándote\\nTengo que bailar contigo hoy (DY)\\nVi que tu mirada ya estaba llamándom...   \n",
       "3  When I look into your eyes\\nI see rainbows in the skies.\\nBaby when you're close to me\\nI know you are ma cherie.\\n\\nWe are gonna dance into the sea\\nAll I want is you - you're ma cherie\\nNever se...   \n",
       "4  There's a fire starting in my heart\\nReaching a fever pitch and it's bring me out the dark\\nFinally, I can see you crystal clear\\nGo ahead and sell me out and I'll lay your ship bare\\n\\nSee how I'...   \n",
       "5  What would I do without your smart mouth?\\nDrawing me in, and you kicking me out\\nYou've got my head spinning, no kidding, I can't pin you down\\nWhat's going on in that beautiful mind\\nI'm on your...   \n",
       "6  Oh the wind whistles down\\nThe cold dark street tonight\\nAnd the people they were dancing to the music vibe\\nAnd the boys chase the girls with the curls in their hair\\n\\nWhile the shy tormented yo...   \n",
       "7  I gotta feeling\\nThat tonight's gonna be a good night\\nThat tonight's gonna be a good night\\nThat tonight's gonna be a good, good night\\n\\nA feeling\\nThat tonight's gonna be a good night\\nThat ton...   \n",
       "8  You're a good soldier\\nChoosing your battles\\nPick yourself up\\nDust yourself off\\nAnd get back in the saddle\\n\\nYou're on the front line\\nEveryone's watching\\nYou know it's serious\\nWe are gettin...   \n",
       "9  Here's my key\\nPhilosophy\\nA freak like me\\nJust needs infinity\\n\\nRelax\\nTake your time\\n\\nAnd take your time\\nTo trust in me\\nAnd you will find\\nInfinity, infinity\\n\\nAnd take your time\\nTo trus...   \n",
       "\n",
       "       Textanalyse  \n",
       "0   Enhält 22 u's   \n",
       "1   Enhält 41 u's   \n",
       "2  Enhält 114 u's   \n",
       "3   Enhält 18 u's   \n",
       "4   Enhält 81 u's   \n",
       "5   Enhält 77 u's   \n",
       "6   Enhält 74 u's   \n",
       "7   Enhält 39 u's   \n",
       "8   Enhält 35 u's   \n",
       "9   Enhält 20 u's   "
      ]
     },
     "execution_count": 26,
     "metadata": {},
     "output_type": "execute_result"
    }
   ],
   "source": [
    "df.head(10)"
   ]
  },
  {
   "cell_type": "markdown",
   "metadata": {},
   "source": [
    "Wie wäre es, wenn wir anhand der restlichen Infos unsere eigene Metrik entwickeln würden?"
   ]
  },
  {
   "cell_type": "markdown",
   "metadata": {},
   "source": [
    "Was wir dazu tun müssen:\n",
    "1. eine Funktion definieren, welche die Metrik anhand der einzelnen Spalten berechnet\n",
    "1. die Funktion auf das Dataframe anwenden"
   ]
  },
  {
   "cell_type": "code",
   "execution_count": 27,
   "metadata": {},
   "outputs": [],
   "source": [
    "# Schreiben Sie hier Ihre Funktion...\n",
    "# Beispiellösung\n",
    "def meine_metrik(dic):\n",
    "    \n",
    "    #Falls der Song von DJ Bobo ist: Score = 0\n",
    "    if dic['Artist'] == 'DJ BoBo':\n",
    "        score = 0\n",
    "        \n",
    "    #Falls anderer Künstler: Score = Wochen in der HP / Höchststand in der HP\n",
    "    else:\n",
    "        score = dic['Wochen'] / dic['Peak']\n",
    "        \n",
    "    return score"
   ]
  },
  {
   "cell_type": "code",
   "execution_count": 28,
   "metadata": {},
   "outputs": [],
   "source": [
    "# ... und wenden Sie sie hier an:\n",
    "df['Meine Metrik'] = df.apply(meine_metrik, axis=1)"
   ]
  },
  {
   "cell_type": "markdown",
   "metadata": {},
   "source": [
    "Wie sieht das Ergebnis aus? Welches sind die Alltime Top 10?\n",
    "\n",
    "Sortieren Sie dazu das Dataframe nach der neuen Metrik und zeigen Sie die obersten zehn Spalten an:"
   ]
  },
  {
   "cell_type": "code",
   "execution_count": 29,
   "metadata": {},
   "outputs": [
    {
     "data": {
      "text/html": [
       "<div>\n",
       "<style scoped>\n",
       "    .dataframe tbody tr th:only-of-type {\n",
       "        vertical-align: middle;\n",
       "    }\n",
       "\n",
       "    .dataframe tbody tr th {\n",
       "        vertical-align: top;\n",
       "    }\n",
       "\n",
       "    .dataframe thead th {\n",
       "        text-align: right;\n",
       "    }\n",
       "</style>\n",
       "<table border=\"1\" class=\"dataframe\">\n",
       "  <thead>\n",
       "    <tr style=\"text-align: right;\">\n",
       "      <th></th>\n",
       "      <th>Rang</th>\n",
       "      <th>Artist</th>\n",
       "      <th>Titel</th>\n",
       "      <th>Eintritt</th>\n",
       "      <th>Wochen</th>\n",
       "      <th>Peak</th>\n",
       "      <th>Punkte</th>\n",
       "      <th>Link</th>\n",
       "      <th>Songtext</th>\n",
       "      <th>Textanalyse</th>\n",
       "      <th>Meine Metrik</th>\n",
       "    </tr>\n",
       "  </thead>\n",
       "  <tbody>\n",
       "    <tr>\n",
       "      <td>19</td>\n",
       "      <td>20</td>\n",
       "      <td>Baschi</td>\n",
       "      <td>Bring en hei</td>\n",
       "      <td>28.05.2006</td>\n",
       "      <td>100</td>\n",
       "      <td>1</td>\n",
       "      <td>5356</td>\n",
       "      <td>/song/Baschi/Bring-en-hei-193080</td>\n",
       "      <td>Chum bring en hei, chum bring en\\nChum bring en hei, chum bring en\\nChum bring en hei, zu mir...\\n(1, 2, 3, 4, 5, 6, 7, 11)\\nS'ganze Lebe nume für 90 Minute\\nEs wartet alles nur uf di\\nDas isch mi...</td>\n",
       "      <td>Enhält 37 u's</td>\n",
       "      <td>100.0</td>\n",
       "    </tr>\n",
       "    <tr>\n",
       "      <td>53</td>\n",
       "      <td>54</td>\n",
       "      <td>Madonna</td>\n",
       "      <td>Hung Up</td>\n",
       "      <td>20.11.2005</td>\n",
       "      <td>99</td>\n",
       "      <td>1</td>\n",
       "      <td>4462</td>\n",
       "      <td>/song/Madonna/Hung-Up-141765</td>\n",
       "      <td>Time goes by so slowly\\nTime goes by so slowly\\nTime goes by so slowly\\nTime goes by so slowly\\nTime goes by so slowly\\nTime goes by so slowly\\n\\nEvery little thing that you say or do\\nI'm hung up...</td>\n",
       "      <td>Enhält 86 u's</td>\n",
       "      <td>99.0</td>\n",
       "    </tr>\n",
       "    <tr>\n",
       "      <td>5</td>\n",
       "      <td>6</td>\n",
       "      <td>John Legend</td>\n",
       "      <td>All Of Me</td>\n",
       "      <td>02.02.2014</td>\n",
       "      <td>97</td>\n",
       "      <td>1</td>\n",
       "      <td>6547</td>\n",
       "      <td>/song/John-Legend/All-Of-Me-1183051</td>\n",
       "      <td>What would I do without your smart mouth?\\nDrawing me in, and you kicking me out\\nYou've got my head spinning, no kidding, I can't pin you down\\nWhat's going on in that beautiful mind\\nI'm on your...</td>\n",
       "      <td>Enhält 77 u's</td>\n",
       "      <td>97.0</td>\n",
       "    </tr>\n",
       "    <tr>\n",
       "      <td>14</td>\n",
       "      <td>15</td>\n",
       "      <td>Adele</td>\n",
       "      <td>Someone Like You</td>\n",
       "      <td>05.06.2011</td>\n",
       "      <td>95</td>\n",
       "      <td>1</td>\n",
       "      <td>5627</td>\n",
       "      <td>/song/Adele/Someone-Like-You-792468</td>\n",
       "      <td>I heard that you're settled down\\nThat you found a girl\\nAnd you're married now (ow ow)\\nI heard that your dreams came true\\nGuess she gave you things\\nI didn't give to you ooh ooh\\nOld friend why...</td>\n",
       "      <td>Enhält 67 u's</td>\n",
       "      <td>95.0</td>\n",
       "    </tr>\n",
       "    <tr>\n",
       "      <td>1</td>\n",
       "      <td>2</td>\n",
       "      <td>Ed Sheeran</td>\n",
       "      <td>Shape Of You</td>\n",
       "      <td>15.01.2017</td>\n",
       "      <td>93</td>\n",
       "      <td>1</td>\n",
       "      <td>7196</td>\n",
       "      <td>/song/Ed-Sheeran/Shape-Of-You-1622943</td>\n",
       "      <td>The club isn't the best place to find a lover\\nSo the bar is where I go\\nMe and my friends at the table doing shots\\nDrinking fast and then we talk slow\\n\\nCome over and start up a conversation wi...</td>\n",
       "      <td>Enhält 41 u's</td>\n",
       "      <td>93.0</td>\n",
       "    </tr>\n",
       "    <tr>\n",
       "      <td>4</td>\n",
       "      <td>5</td>\n",
       "      <td>Adele</td>\n",
       "      <td>Rolling In The Deep</td>\n",
       "      <td>30.01.2011</td>\n",
       "      <td>93</td>\n",
       "      <td>1</td>\n",
       "      <td>6588</td>\n",
       "      <td>/song/Adele/Rolling-In-The-Deep-767937</td>\n",
       "      <td>There's a fire starting in my heart\\nReaching a fever pitch and it's bring me out the dark\\nFinally, I can see you crystal clear\\nGo ahead and sell me out and I'll lay your ship bare\\n\\nSee how I'...</td>\n",
       "      <td>Enhält 81 u's</td>\n",
       "      <td>93.0</td>\n",
       "    </tr>\n",
       "    <tr>\n",
       "      <td>2</td>\n",
       "      <td>3</td>\n",
       "      <td>Luis Fonsi feat. Daddy Yankee</td>\n",
       "      <td>Despacito</td>\n",
       "      <td>22.01.2017</td>\n",
       "      <td>90</td>\n",
       "      <td>1</td>\n",
       "      <td>6854</td>\n",
       "      <td>/song/Luis-Fonsi-feat.-Daddy-Yankee/Despacito-1625640</td>\n",
       "      <td>Ay\\nFonsi, DY\\nOh, oh no, oh no (ey)\\nHey, yeah, diri-diri-diriridi, Daddy, go!\\n\\nSí, sabes que ya llevo un rato mirándote\\nTengo que bailar contigo hoy (DY)\\nVi que tu mirada ya estaba llamándom...</td>\n",
       "      <td>Enhält 114 u's</td>\n",
       "      <td>90.0</td>\n",
       "    </tr>\n",
       "    <tr>\n",
       "      <td>16</td>\n",
       "      <td>17</td>\n",
       "      <td>Timbaland Presents OneRepublic</td>\n",
       "      <td>Apologize</td>\n",
       "      <td>04.11.2007</td>\n",
       "      <td>89</td>\n",
       "      <td>1</td>\n",
       "      <td>5536</td>\n",
       "      <td>/song/Timbaland-Presents-OneRepublic/Apologize-303692</td>\n",
       "      <td>I'm holding on your rope\\nGot me ten feet off the ground\\nAnd I'm hearing what you say\\nBut I just can't make a sound\\n\\nYou tell me that you need me\\nThen you go and cut me down, but wait\\nYou te...</td>\n",
       "      <td>Enhält 26 u's</td>\n",
       "      <td>89.0</td>\n",
       "    </tr>\n",
       "    <tr>\n",
       "      <td>18</td>\n",
       "      <td>19</td>\n",
       "      <td>Passenger</td>\n",
       "      <td>Let Her Go</td>\n",
       "      <td>03.03.2013</td>\n",
       "      <td>88</td>\n",
       "      <td>1</td>\n",
       "      <td>5365</td>\n",
       "      <td>/song/Passenger/Let-Her-Go-995382</td>\n",
       "      <td>Well, you only need the light when it's burning low\\nOnly miss the sun when it starts to snow\\nOnly know you love her when you let her go\\n\\nOnly know you've been high when you're feeling low\\nOnl...</td>\n",
       "      <td>Enhält 79 u's</td>\n",
       "      <td>88.0</td>\n",
       "    </tr>\n",
       "    <tr>\n",
       "      <td>7</td>\n",
       "      <td>8</td>\n",
       "      <td>The Black Eyed Peas</td>\n",
       "      <td>I Gotta Feeling</td>\n",
       "      <td>19.07.2009</td>\n",
       "      <td>87</td>\n",
       "      <td>1</td>\n",
       "      <td>6085</td>\n",
       "      <td>/song/The-Black-Eyed-Peas/I-Gotta-Feeling-584715</td>\n",
       "      <td>I gotta feeling\\nThat tonight's gonna be a good night\\nThat tonight's gonna be a good night\\nThat tonight's gonna be a good, good night\\n\\nA feeling\\nThat tonight's gonna be a good night\\nThat ton...</td>\n",
       "      <td>Enhält 39 u's</td>\n",
       "      <td>87.0</td>\n",
       "    </tr>\n",
       "  </tbody>\n",
       "</table>\n",
       "</div>"
      ],
      "text/plain": [
       "    Rang                          Artist                Titel    Eintritt  \\\n",
       "19    20                          Baschi         Bring en hei  28.05.2006   \n",
       "53    54                         Madonna              Hung Up  20.11.2005   \n",
       "5      6                     John Legend            All Of Me  02.02.2014   \n",
       "14    15                           Adele     Someone Like You  05.06.2011   \n",
       "1      2                      Ed Sheeran         Shape Of You  15.01.2017   \n",
       "4      5                           Adele  Rolling In The Deep  30.01.2011   \n",
       "2      3   Luis Fonsi feat. Daddy Yankee            Despacito  22.01.2017   \n",
       "16    17  Timbaland Presents OneRepublic            Apologize  04.11.2007   \n",
       "18    19                       Passenger           Let Her Go  03.03.2013   \n",
       "7      8             The Black Eyed Peas      I Gotta Feeling  19.07.2009   \n",
       "\n",
       "    Wochen  Peak  Punkte  \\\n",
       "19     100     1    5356   \n",
       "53      99     1    4462   \n",
       "5       97     1    6547   \n",
       "14      95     1    5627   \n",
       "1       93     1    7196   \n",
       "4       93     1    6588   \n",
       "2       90     1    6854   \n",
       "16      89     1    5536   \n",
       "18      88     1    5365   \n",
       "7       87     1    6085   \n",
       "\n",
       "                                                     Link  \\\n",
       "19                       /song/Baschi/Bring-en-hei-193080   \n",
       "53                           /song/Madonna/Hung-Up-141765   \n",
       "5                     /song/John-Legend/All-Of-Me-1183051   \n",
       "14                    /song/Adele/Someone-Like-You-792468   \n",
       "1                   /song/Ed-Sheeran/Shape-Of-You-1622943   \n",
       "4                  /song/Adele/Rolling-In-The-Deep-767937   \n",
       "2   /song/Luis-Fonsi-feat.-Daddy-Yankee/Despacito-1625640   \n",
       "16  /song/Timbaland-Presents-OneRepublic/Apologize-303692   \n",
       "18                      /song/Passenger/Let-Her-Go-995382   \n",
       "7        /song/The-Black-Eyed-Peas/I-Gotta-Feeling-584715   \n",
       "\n",
       "                                                                                                                                                                                                   Songtext  \\\n",
       "19  Chum bring en hei, chum bring en\\nChum bring en hei, chum bring en\\nChum bring en hei, zu mir...\\n(1, 2, 3, 4, 5, 6, 7, 11)\\nS'ganze Lebe nume für 90 Minute\\nEs wartet alles nur uf di\\nDas isch mi...   \n",
       "53  Time goes by so slowly\\nTime goes by so slowly\\nTime goes by so slowly\\nTime goes by so slowly\\nTime goes by so slowly\\nTime goes by so slowly\\n\\nEvery little thing that you say or do\\nI'm hung up...   \n",
       "5   What would I do without your smart mouth?\\nDrawing me in, and you kicking me out\\nYou've got my head spinning, no kidding, I can't pin you down\\nWhat's going on in that beautiful mind\\nI'm on your...   \n",
       "14  I heard that you're settled down\\nThat you found a girl\\nAnd you're married now (ow ow)\\nI heard that your dreams came true\\nGuess she gave you things\\nI didn't give to you ooh ooh\\nOld friend why...   \n",
       "1   The club isn't the best place to find a lover\\nSo the bar is where I go\\nMe and my friends at the table doing shots\\nDrinking fast and then we talk slow\\n\\nCome over and start up a conversation wi...   \n",
       "4   There's a fire starting in my heart\\nReaching a fever pitch and it's bring me out the dark\\nFinally, I can see you crystal clear\\nGo ahead and sell me out and I'll lay your ship bare\\n\\nSee how I'...   \n",
       "2   Ay\\nFonsi, DY\\nOh, oh no, oh no (ey)\\nHey, yeah, diri-diri-diriridi, Daddy, go!\\n\\nSí, sabes que ya llevo un rato mirándote\\nTengo que bailar contigo hoy (DY)\\nVi que tu mirada ya estaba llamándom...   \n",
       "16  I'm holding on your rope\\nGot me ten feet off the ground\\nAnd I'm hearing what you say\\nBut I just can't make a sound\\n\\nYou tell me that you need me\\nThen you go and cut me down, but wait\\nYou te...   \n",
       "18  Well, you only need the light when it's burning low\\nOnly miss the sun when it starts to snow\\nOnly know you love her when you let her go\\n\\nOnly know you've been high when you're feeling low\\nOnl...   \n",
       "7   I gotta feeling\\nThat tonight's gonna be a good night\\nThat tonight's gonna be a good night\\nThat tonight's gonna be a good, good night\\n\\nA feeling\\nThat tonight's gonna be a good night\\nThat ton...   \n",
       "\n",
       "        Textanalyse  Meine Metrik  \n",
       "19   Enhält 37 u's          100.0  \n",
       "53   Enhält 86 u's           99.0  \n",
       "5    Enhält 77 u's           97.0  \n",
       "14   Enhält 67 u's           95.0  \n",
       "1    Enhält 41 u's           93.0  \n",
       "4    Enhält 81 u's           93.0  \n",
       "2   Enhält 114 u's           90.0  \n",
       "16   Enhält 26 u's           89.0  \n",
       "18   Enhält 79 u's           88.0  \n",
       "7    Enhält 39 u's           87.0  "
      ]
     },
     "execution_count": 29,
     "metadata": {},
     "output_type": "execute_result"
    }
   ],
   "source": [
    "df.sort_values('Meine Metrik', ascending=False).head(10)"
   ]
  },
  {
   "cell_type": "code",
   "execution_count": null,
   "metadata": {},
   "outputs": [],
   "source": []
  },
  {
   "cell_type": "code",
   "execution_count": null,
   "metadata": {},
   "outputs": [],
   "source": []
  },
  {
   "cell_type": "code",
   "execution_count": null,
   "metadata": {},
   "outputs": [],
   "source": []
  }
 ],
 "metadata": {
  "kernelspec": {
   "display_name": "Python 3",
   "language": "python",
   "name": "python3"
  },
  "language_info": {
   "codemirror_mode": {
    "name": "ipython",
    "version": 3
   },
   "file_extension": ".py",
   "mimetype": "text/x-python",
   "name": "python",
   "nbconvert_exporter": "python",
   "pygments_lexer": "ipython3",
   "version": "3.7.3"
  }
 },
 "nbformat": 4,
 "nbformat_minor": 2
}
