{
 "cells": [
  {
   "cell_type": "markdown",
   "metadata": {},
   "source": [
    "# Bereiten wir das Script vor"
   ]
  },
  {
   "cell_type": "code",
   "execution_count": 1,
   "metadata": {},
   "outputs": [],
   "source": [
    "#Imports\n",
    "import os #Files in listen abgreifen\n",
    "import tqdm #anzeigen, wo wir stehen\n",
    "import textract\n",
    "import pandas as pd\n"
   ]
  },
  {
   "cell_type": "markdown",
   "metadata": {},
   "source": [
    "## Vorbereitung"
   ]
  },
  {
   "cell_type": "code",
   "execution_count": 2,
   "metadata": {},
   "outputs": [],
   "source": [
    "#Als Vorbereitung, machen aus dem Inhalt des Folders eine Liste. Es handelt sich hierbei\n",
    "#um eine Liste aller pdfs im Ordner pdfs. Es sind die Swissmedic Recalls (#ImplantFiles)\n",
    "pdfs = os.listdir('pdfs')"
   ]
  },
  {
   "cell_type": "markdown",
   "metadata": {},
   "source": [
    "## Fortschritt anzeigen"
   ]
  },
  {
   "cell_type": "code",
   "execution_count": 3,
   "metadata": {},
   "outputs": [
    {
     "name": "stderr",
     "output_type": "stream",
     "text": [
      "100%|██████████| 1000000/1000000 [00:00<00:00, 2171845.01it/s]\n"
     ]
    }
   ],
   "source": [
    "from tqdm import tqdm\n",
    "for i in tqdm(range(1000000)): #1000000000\n",
    "    elem = i"
   ]
  },
  {
   "cell_type": "markdown",
   "metadata": {},
   "source": [
    "## Ein File auslesen"
   ]
  },
  {
   "cell_type": "code",
   "execution_count": 22,
   "metadata": {},
   "outputs": [],
   "source": [
    "text = textract.process(\"pdfs/\"+pdfs[1], method='pdfminer', encoding='ISO-8859-1') #method='pdfminer', encoding='ISO-8859-1'"
   ]
  },
  {
   "cell_type": "code",
   "execution_count": 16,
   "metadata": {},
   "outputs": [
    {
     "data": {
      "text/plain": [
       "'Vk_20180514_49documents0.pdf'"
      ]
     },
     "execution_count": 16,
     "metadata": {},
     "output_type": "execute_result"
    }
   ],
   "source": [
    "pdfs[0]"
   ]
  },
  {
   "cell_type": "code",
   "execution_count": 10,
   "metadata": {},
   "outputs": [
    {
     "name": "stdout",
     "output_type": "stream",
     "text": [
      "pdfs/Vk_20180514_49documents0.pdf\n"
     ]
    }
   ],
   "source": [
    "print(\"pdfs/\"+pdfs[0])"
   ]
  },
  {
   "cell_type": "code",
   "execution_count": 17,
   "metadata": {},
   "outputs": [],
   "source": [
    "text = textract.process(\"pdfs/\"+pdfs[1])"
   ]
  },
  {
   "cell_type": "code",
   "execution_count": 18,
   "metadata": {},
   "outputs": [
    {
     "data": {
      "text/plain": [
       "bytes"
      ]
     },
     "execution_count": 18,
     "metadata": {},
     "output_type": "execute_result"
    }
   ],
   "source": [
    "type(text)"
   ]
  },
  {
   "cell_type": "code",
   "execution_count": 20,
   "metadata": {},
   "outputs": [],
   "source": [
    "text_string = str(text)"
   ]
  },
  {
   "cell_type": "code",
   "execution_count": 21,
   "metadata": {},
   "outputs": [
    {
     "data": {
      "text/plain": [
       "str"
      ]
     },
     "execution_count": 21,
     "metadata": {},
     "output_type": "execute_result"
    }
   ],
   "source": [
    "type(text_string)"
   ]
  },
  {
   "cell_type": "code",
   "execution_count": null,
   "metadata": {},
   "outputs": [],
   "source": []
  },
  {
   "cell_type": "markdown",
   "metadata": {},
   "source": [
    "## Alle Files auslesen"
   ]
  },
  {
   "cell_type": "code",
   "execution_count": 23,
   "metadata": {},
   "outputs": [
    {
     "data": {
      "text/plain": [
       "82"
      ]
     },
     "execution_count": 23,
     "metadata": {},
     "output_type": "execute_result"
    }
   ],
   "source": [
    "len(pdfs)"
   ]
  },
  {
   "cell_type": "code",
   "execution_count": 24,
   "metadata": {
    "scrolled": true
   },
   "outputs": [
    {
     "name": "stderr",
     "output_type": "stream",
     "text": [
      "100%|██████████| 82/82 [01:48<00:00,  1.20it/s]\n"
     ]
    }
   ],
   "source": [
    "lst = []\n",
    "mistakes = []\n",
    "for pdf in tqdm(pdfs):\n",
    "    try:\n",
    "        text = textract.process(\"pdfs/\"+pdf, method='pdfminer', encoding='ISO-8859-1')\n",
    "        lst.append(text)\n",
    "    except:\n",
    "        mistakes.append(pdf)"
   ]
  },
  {
   "cell_type": "code",
   "execution_count": 26,
   "metadata": {},
   "outputs": [
    {
     "data": {
      "text/plain": [
       "['Vk_20180517_12documents0.pdf']"
      ]
     },
     "execution_count": 26,
     "metadata": {},
     "output_type": "execute_result"
    }
   ],
   "source": [
    "mistakes"
   ]
  },
  {
   "cell_type": "code",
   "execution_count": null,
   "metadata": {},
   "outputs": [],
   "source": []
  },
  {
   "cell_type": "markdown",
   "metadata": {},
   "source": [
    "## Bilder auslesen"
   ]
  },
  {
   "cell_type": "code",
   "execution_count": 27,
   "metadata": {},
   "outputs": [],
   "source": [
    "text = textract.process(\"pdfs/\"+pdfs[0], method='tesseract') #Nicht ideal, aber gut"
   ]
  },
  {
   "cell_type": "markdown",
   "metadata": {},
   "source": [
    "## Alles zusammen"
   ]
  },
  {
   "cell_type": "code",
   "execution_count": 32,
   "metadata": {
    "scrolled": true
   },
   "outputs": [
    {
     "name": "stderr",
     "output_type": "stream",
     "text": [
      "100%|██████████| 82/82 [03:11<00:00,  1.07it/s]\n"
     ]
    }
   ],
   "source": [
    "lst = []\n",
    "#Rohe Analyse\n",
    "for pdf in tqdm(pdfs):\n",
    "    try:\n",
    "        text = textract.process(\"pdfs/\"+pdf, method='pdfminer', encoding='ISO-8859-1')\n",
    "        text = str(text).replace(\"\\n\", \" \")\n",
    "        if len(text) < 40:\n",
    "            text = textract.process(\"pdfs/\"+pdf, method='tesseract', encoding='ISO-8859-1')\n",
    "            text = text.decode(\"ISO-8859-1\").replace(\"\\n\", \" \")\n",
    "            \n",
    "        mini_dict = {'Text':text,\n",
    "                     'File':pdf}\n",
    "        lst.append(mini_dict)\n",
    "    except:\n",
    "        mini_dict = {'Text':'Fehlermeldung',\n",
    "                     'File':pdf}\n",
    "        lst.append(mini_dict)"
   ]
  },
  {
   "cell_type": "code",
   "execution_count": 34,
   "metadata": {},
   "outputs": [],
   "source": [
    "df = pd.DataFrame(lst)"
   ]
  },
  {
   "cell_type": "code",
   "execution_count": 36,
   "metadata": {},
   "outputs": [],
   "source": [
    "def length(elem):\n",
    "    elem = len(elem)\n",
    "    return elem\n",
    "df['Text Länge'] = df['Text'].apply(length)"
   ]
  },
  {
   "cell_type": "code",
   "execution_count": 37,
   "metadata": {},
   "outputs": [
    {
     "data": {
      "text/html": [
       "<div>\n",
       "<style scoped>\n",
       "    .dataframe tbody tr th:only-of-type {\n",
       "        vertical-align: middle;\n",
       "    }\n",
       "\n",
       "    .dataframe tbody tr th {\n",
       "        vertical-align: top;\n",
       "    }\n",
       "\n",
       "    .dataframe thead th {\n",
       "        text-align: right;\n",
       "    }\n",
       "</style>\n",
       "<table border=\"1\" class=\"dataframe\">\n",
       "  <thead>\n",
       "    <tr style=\"text-align: right;\">\n",
       "      <th></th>\n",
       "      <th>File</th>\n",
       "      <th>Text</th>\n",
       "      <th>Text Länge</th>\n",
       "    </tr>\n",
       "  </thead>\n",
       "  <tbody>\n",
       "    <tr>\n",
       "      <th>0</th>\n",
       "      <td>Vk_20180514_49documents0.pdf</td>\n",
       "      <td>WaSSCnBURG Hedical  Wassenburg Medical B.V. Ed...</td>\n",
       "      <td>5792</td>\n",
       "    </tr>\n",
       "    <tr>\n",
       "      <th>1</th>\n",
       "      <td>Vk_20180522_02documents1.pdf</td>\n",
       "      <td>b\"Information urgente relative \\xe0 la s\\xe9cu...</td>\n",
       "      <td>4957</td>\n",
       "    </tr>\n",
       "    <tr>\n",
       "      <th>2</th>\n",
       "      <td>Vk_20180413_17documents3.pdf</td>\n",
       "      <td>b'Dr\\xe4ger Schweiz AG, CH-3097 Liebefeld \\n\\n...</td>\n",
       "      <td>23816</td>\n",
       "    </tr>\n",
       "    <tr>\n",
       "      <th>3</th>\n",
       "      <td>Vk_20180525_03documents1.pdf</td>\n",
       "      <td>b\"BIBRAUN \\n\\nB. Braun Medical SA \\nSeesatz 17...</td>\n",
       "      <td>4937</td>\n",
       "    </tr>\n",
       "    <tr>\n",
       "      <th>4</th>\n",
       "      <td>Vk_20180529_02documents2.pdf</td>\n",
       "      <td>b' \\n\\n \\n\\n \\n\\n \\n\\n \\n\\n \\n\\n \\n\\n \\n\\n \\n ...</td>\n",
       "      <td>4860</td>\n",
       "    </tr>\n",
       "    <tr>\n",
       "      <th>5</th>\n",
       "      <td>Vk_20180517_02documents2.pdf</td>\n",
       "      <td>b\" \\nSmith &amp; Nephew Orthopaedics AG \\nOberneuh...</td>\n",
       "      <td>6253</td>\n",
       "    </tr>\n",
       "    <tr>\n",
       "      <th>6</th>\n",
       "      <td>Vk_20180517_02documents3.pdf</td>\n",
       "      <td>Smith &amp; Nephew Orthopaedics AGT +41 (0)41 766 ...</td>\n",
       "      <td>4915</td>\n",
       "    </tr>\n",
       "    <tr>\n",
       "      <th>7</th>\n",
       "      <td>Vk_20180525_03documents0.pdf</td>\n",
       "      <td>b\"DIDRAUN \\n\\nB. Braun Medical  AG \\nSeesatz  ...</td>\n",
       "      <td>4598</td>\n",
       "    </tr>\n",
       "    <tr>\n",
       "      <th>8</th>\n",
       "      <td>Vk_20180413_17documents2.pdf</td>\n",
       "      <td>b'Dr\\xe4ger Schweiz AG, CH-3097 Liebefeld \\n\\n...</td>\n",
       "      <td>21043</td>\n",
       "    </tr>\n",
       "    <tr>\n",
       "      <th>9</th>\n",
       "      <td>Vk_20180522_02documents0.pdf</td>\n",
       "      <td>b'Dringende Sicherheitsinformation  R\\xfcckruf...</td>\n",
       "      <td>3328</td>\n",
       "    </tr>\n",
       "    <tr>\n",
       "      <th>10</th>\n",
       "      <td>Vk_20180514_49documents1.pdf</td>\n",
       "      <td>| URGENT: AVIS DE SECURITE  WaSSeEnBUuRG  Wass...</td>\n",
       "      <td>5895</td>\n",
       "    </tr>\n",
       "    <tr>\n",
       "      <th>11</th>\n",
       "      <td>Vk_20180517_06documents0.pdf</td>\n",
       "      <td>b' \\n \\n \\n \\n \\n \\n \\n \\n  \\n \\n\\xabFirmennam...</td>\n",
       "      <td>12887</td>\n",
       "    </tr>\n",
       "    <tr>\n",
       "      <th>12</th>\n",
       "      <td>Vk_20180522_02documents2.pdf</td>\n",
       "      <td>b'Informazione urgente per la sicurezza  ritir...</td>\n",
       "      <td>4396</td>\n",
       "    </tr>\n",
       "    <tr>\n",
       "      <th>13</th>\n",
       "      <td>Vk_20180413_17documents0.pdf</td>\n",
       "      <td>b'Dr\\xe4ger Schweiz AG, CH-3097 Liebefeld \\n\\n...</td>\n",
       "      <td>19332</td>\n",
       "    </tr>\n",
       "    <tr>\n",
       "      <th>14</th>\n",
       "      <td>Vk_20180525_03documents2.pdf</td>\n",
       "      <td>b\"BIBRAUN \\n\\nB. Braun Medical  AG \\nSeesatz  ...</td>\n",
       "      <td>4673</td>\n",
       "    </tr>\n",
       "    <tr>\n",
       "      <th>15</th>\n",
       "      <td>Vk_20180517_02documents1.pdf</td>\n",
       "      <td>b' \\nSmith &amp; Nephew Orthopaedics AG \\nOberneuh...</td>\n",
       "      <td>6668</td>\n",
       "    </tr>\n",
       "    <tr>\n",
       "      <th>16</th>\n",
       "      <td>Vk_20180529_02documents1.pdf</td>\n",
       "      <td>b\" \\n\\n \\n\\n \\n\\n \\n\\n \\n\\n \\n\\n \\n\\n \\n\\nInfo...</td>\n",
       "      <td>5220</td>\n",
       "    </tr>\n",
       "    <tr>\n",
       "      <th>17</th>\n",
       "      <td>Vk_20180417_10documents0.pdf</td>\n",
       "      <td>b' \\n\\n \\n\\n \\n\\nCook Medical Europe \\nOHallor...</td>\n",
       "      <td>8732</td>\n",
       "    </tr>\n",
       "    <tr>\n",
       "      <th>18</th>\n",
       "      <td>Vk_20180417_10documents1.pdf</td>\n",
       "      <td>b' \\n\\nCOOK\\n\\n \\n \\n \\n \\n \\n \\n\\xae \\n \\nAvi...</td>\n",
       "      <td>5096</td>\n",
       "    </tr>\n",
       "    <tr>\n",
       "      <th>19</th>\n",
       "      <td>Vk_20180517_02documents0.pdf</td>\n",
       "      <td>b\" \\nSmith &amp; Nephew Orthopaedics AG \\nOberneuh...</td>\n",
       "      <td>6274</td>\n",
       "    </tr>\n",
       "    <tr>\n",
       "      <th>20</th>\n",
       "      <td>Vk_20180529_02documents0.pdf</td>\n",
       "      <td>b' \\n\\n \\n\\n \\n\\n \\n\\n \\n\\n \\n\\n \\n\\n \\n\\n \\n ...</td>\n",
       "      <td>4622</td>\n",
       "    </tr>\n",
       "    <tr>\n",
       "      <th>21</th>\n",
       "      <td>Vk_20180413_17documents1.pdf</td>\n",
       "      <td>b'Dr\\xe4ger Schweiz AG, CH-3097 Liebefeld \\n\\n...</td>\n",
       "      <td>21658</td>\n",
       "    </tr>\n",
       "    <tr>\n",
       "      <th>22</th>\n",
       "      <td>Vk_20180514_49documents2.pdf</td>\n",
       "      <td>WaSSCnBURG edical  Wassenburg Medical B.V. Edi...</td>\n",
       "      <td>6187</td>\n",
       "    </tr>\n",
       "    <tr>\n",
       "      <th>23</th>\n",
       "      <td>Vk_20180528_08documents1.pdf</td>\n",
       "      <td>b'[41  Berlin Heart* \\n\\nUrgent safety informa...</td>\n",
       "      <td>18327</td>\n",
       "    </tr>\n",
       "    <tr>\n",
       "      <th>24</th>\n",
       "      <td>Vk_20180509_08documents0.pdf</td>\n",
       "      <td>b' \\n+49(0)36205/98-250 \\n \\n \\nMadame / Monsi...</td>\n",
       "      <td>7163</td>\n",
       "    </tr>\n",
       "    <tr>\n",
       "      <th>25</th>\n",
       "      <td>Vk_20180517_12documents0.pdf</td>\n",
       "      <td>Fehlermeldung</td>\n",
       "      <td>13</td>\n",
       "    </tr>\n",
       "    <tr>\n",
       "      <th>26</th>\n",
       "      <td>Vk_20180522_05documents3.pdf</td>\n",
       "      <td>Field Safety Notice GETINGE xe 2018-05-14 |...</td>\n",
       "      <td>4015</td>\n",
       "    </tr>\n",
       "    <tr>\n",
       "      <th>27</th>\n",
       "      <td>Vk_20180530_09documents0.pdf</td>\n",
       "      <td>b' \\n \\n\\n \\n\\nDringende Sicherheitsbenachrich...</td>\n",
       "      <td>9535</td>\n",
       "    </tr>\n",
       "    <tr>\n",
       "      <th>28</th>\n",
       "      <td>Vk_20180530_09documents1.pdf</td>\n",
       "      <td>b' \\n \\n\\n \\n\\nUrgent Field Safety Notice \\n\\n...</td>\n",
       "      <td>8971</td>\n",
       "    </tr>\n",
       "    <tr>\n",
       "      <th>29</th>\n",
       "      <td>Vk_20180522_05documents2.pdf</td>\n",
       "      <td>b'Avviso di sicurezza \\n2018-05-14 | MSA-2018-...</td>\n",
       "      <td>5233</td>\n",
       "    </tr>\n",
       "    <tr>\n",
       "      <th>...</th>\n",
       "      <td>...</td>\n",
       "      <td>...</td>\n",
       "      <td>...</td>\n",
       "    </tr>\n",
       "    <tr>\n",
       "      <th>52</th>\n",
       "      <td>Vk_20180525_26documents1.pdf</td>\n",
       "      <td>b\" \\n \\n \\n \\n \\n\\n \\n\\n \\n\\n \\n\\n \\n\\n \\n\\n \\...</td>\n",
       "      <td>9597</td>\n",
       "    </tr>\n",
       "    <tr>\n",
       "      <th>53</th>\n",
       "      <td>Vk_20180525_26documents0.pdf</td>\n",
       "      <td>b' \\n\\n \\n \\n \\n \\n \\n\\n \\n\\n \\n\\n \\n\\n \\n\\n \\...</td>\n",
       "      <td>10456</td>\n",
       "    </tr>\n",
       "    <tr>\n",
       "      <th>54</th>\n",
       "      <td>Vk_20180522_23documents1.pdf</td>\n",
       "      <td>From Eye to Insight Jteica  MICROSYSTEMS  AVIS...</td>\n",
       "      <td>5398</td>\n",
       "    </tr>\n",
       "    <tr>\n",
       "      <th>55</th>\n",
       "      <td>Vk_20180524_02documents1.pdf</td>\n",
       "      <td>b' \\n\\n \\n\\n \\n\\nAvis de s\\xe9curit\\xe9 sur le...</td>\n",
       "      <td>74247</td>\n",
       "    </tr>\n",
       "    <tr>\n",
       "      <th>56</th>\n",
       "      <td>Vk_20180530_11documents2.pdf</td>\n",
       "      <td>b' \\n \\n \\n \\n \\n \\n \\n \\n  \\n \\nAdresszeile 1...</td>\n",
       "      <td>6333</td>\n",
       "    </tr>\n",
       "    <tr>\n",
       "      <th>57</th>\n",
       "      <td>Vk_20180530_11documents3.pdf</td>\n",
       "      <td>b' \\n\\nURGENT FIELD SAFETY NOTICE \\n\\nMegadyne...</td>\n",
       "      <td>5940</td>\n",
       "    </tr>\n",
       "    <tr>\n",
       "      <th>58</th>\n",
       "      <td>Vk_20180524_02documents0.pdf</td>\n",
       "      <td>b' \\n\\n \\n\\nSicherheitsinformation PR 1457388 ...</td>\n",
       "      <td>73806</td>\n",
       "    </tr>\n",
       "    <tr>\n",
       "      <th>59</th>\n",
       "      <td>Vk_20180326_03documents0.pdf</td>\n",
       "      <td>b\" \\n\\n \\n\\n \\nSiemens Healthcare SA, 8047 Zur...</td>\n",
       "      <td>8590</td>\n",
       "    </tr>\n",
       "    <tr>\n",
       "      <th>60</th>\n",
       "      <td>Vk_20180516_07documents2.pdf</td>\n",
       "      <td>b' \\n\\n  \\n\\n \\n \\n \\n\\nFIELD SAFETY NOTICE (F...</td>\n",
       "      <td>2485</td>\n",
       "    </tr>\n",
       "    <tr>\n",
       "      <th>61</th>\n",
       "      <td>Vk_20180516_07documents0.pdf</td>\n",
       "      <td>b\" \\n\\n  \\n\\n \\n \\n \\n\\nSICHERHEITSINFORMATION...</td>\n",
       "      <td>2534</td>\n",
       "    </tr>\n",
       "    <tr>\n",
       "      <th>62</th>\n",
       "      <td>Vk_20180516_14documents1.pdf</td>\n",
       "      <td>SIEMENS. Healthineers     Siemens Shanghai Med...</td>\n",
       "      <td>5515</td>\n",
       "    </tr>\n",
       "    <tr>\n",
       "      <th>63</th>\n",
       "      <td>Vk_20180524_02documents2.pdf</td>\n",
       "      <td>b' \\n\\nField Safety Notice PR 1457388  \\n \\n23...</td>\n",
       "      <td>71976</td>\n",
       "    </tr>\n",
       "    <tr>\n",
       "      <th>64</th>\n",
       "      <td>Vk_20180530_11documents1.pdf</td>\n",
       "      <td>b\" \\n \\n \\n \\n \\n \\n \\n \\n  \\n \\nAdresszeile 1...</td>\n",
       "      <td>6525</td>\n",
       "    </tr>\n",
       "    <tr>\n",
       "      <th>65</th>\n",
       "      <td>Vk_20180530_11documents0.pdf</td>\n",
       "      <td>b' \\n \\n \\n \\n \\n \\n \\n \\n  \\n \\n\\xabFirmennam...</td>\n",
       "      <td>7168</td>\n",
       "    </tr>\n",
       "    <tr>\n",
       "      <th>66</th>\n",
       "      <td>Vk_20180516_14documents0.pdf</td>\n",
       "      <td>b' \\n \\n\\n \\nSiemens Shanghai Medical Equipmen...</td>\n",
       "      <td>11330</td>\n",
       "    </tr>\n",
       "    <tr>\n",
       "      <th>67</th>\n",
       "      <td>Vk_20180516_07documents1.pdf</td>\n",
       "      <td>b' \\n\\n  \\n\\n \\n \\n \\n\\nINFORMATION DE SECURIT...</td>\n",
       "      <td>2683</td>\n",
       "    </tr>\n",
       "    <tr>\n",
       "      <th>68</th>\n",
       "      <td>Vk_20180530_08documents1.pdf</td>\n",
       "      <td>b' \\n\\nNotification de s\\xe9curit\\xe9 produit ...</td>\n",
       "      <td>8693</td>\n",
       "    </tr>\n",
       "    <tr>\n",
       "      <th>69</th>\n",
       "      <td>Vk_20180530_08documents0.pdf</td>\n",
       "      <td>b' \\n\\nSicherheitsmitteilung \\n \\nBU IGT Syste...</td>\n",
       "      <td>8600</td>\n",
       "    </tr>\n",
       "    <tr>\n",
       "      <th>70</th>\n",
       "      <td>Vk_20180226_08documents2.pdf</td>\n",
       "      <td>b\" \\n\\n \\n \\n \\n \\n \\n \\n \\n\\n \\n\\n \\n\\nCook M...</td>\n",
       "      <td>4518</td>\n",
       "    </tr>\n",
       "    <tr>\n",
       "      <th>71</th>\n",
       "      <td>Vk_20180226_08documents0.pdf</td>\n",
       "      <td>b' \\n\\n \\n\\n \\n\\nCook Medical Europe \\nOHallor...</td>\n",
       "      <td>4930</td>\n",
       "    </tr>\n",
       "    <tr>\n",
       "      <th>72</th>\n",
       "      <td>Vk_20180524_08documents0.pdf</td>\n",
       "      <td>b\" \\n \\n \\n \\n \\n \\n \\nMedtronic (Suisse) SA \\...</td>\n",
       "      <td>4394</td>\n",
       "    </tr>\n",
       "    <tr>\n",
       "      <th>73</th>\n",
       "      <td>Vk_20180530_08documents2.pdf</td>\n",
       "      <td>b\" \\n\\nField Safety Notice \\n \\nBU IGT Systems...</td>\n",
       "      <td>6302</td>\n",
       "    </tr>\n",
       "    <tr>\n",
       "      <th>74</th>\n",
       "      <td>Vk_20180522_13documents1.pdf</td>\n",
       "      <td>LSI Medience Corporation THE KAITEKI COMPANY ...</td>\n",
       "      <td>4519</td>\n",
       "    </tr>\n",
       "    <tr>\n",
       "      <th>75</th>\n",
       "      <td>Vk_20180523_09documents0.pdf</td>\n",
       "      <td>b' \\n\\n \\n\\nZu H\\xe4nden: Die/der verantwortli...</td>\n",
       "      <td>8579</td>\n",
       "    </tr>\n",
       "    <tr>\n",
       "      <th>76</th>\n",
       "      <td>Vk_20180523_09documents1.pdf</td>\n",
       "      <td>b' \\n\\n \\n\\nTo the attention of Quality Assura...</td>\n",
       "      <td>8181</td>\n",
       "    </tr>\n",
       "    <tr>\n",
       "      <th>77</th>\n",
       "      <td>Vk_20180522_13documents0.pdf</td>\n",
       "      <td>b' \\n\\nAdresse \\n \\n \\n \\n \\n \\n \\nReichenbach...</td>\n",
       "      <td>8632</td>\n",
       "    </tr>\n",
       "    <tr>\n",
       "      <th>78</th>\n",
       "      <td>Vk_20180226_08documents1.pdf</td>\n",
       "      <td>b' \\n\\nCOOK\\n\\n \\n \\n \\n \\n \\n \\n\\xae \\n \\nAvi...</td>\n",
       "      <td>4886</td>\n",
       "    </tr>\n",
       "    <tr>\n",
       "      <th>79</th>\n",
       "      <td>Vk_20180521_01documents1.pdf</td>\n",
       "      <td>b\"Avis de s\\xe9curit\\xe9 urgentFSN\\n\\nNom comm...</td>\n",
       "      <td>3193</td>\n",
       "    </tr>\n",
       "    <tr>\n",
       "      <th>80</th>\n",
       "      <td>Vk_20180521_01documents0.pdf</td>\n",
       "      <td>b'Dringender Sicherheitshinweis (FSN)\\nHandels...</td>\n",
       "      <td>3536</td>\n",
       "    </tr>\n",
       "    <tr>\n",
       "      <th>81</th>\n",
       "      <td>Vk_20180521_01documents2.pdf</td>\n",
       "      <td>b\"Avviso urgente di sicurezza sul campoFSN\\n\\n...</td>\n",
       "      <td>3020</td>\n",
       "    </tr>\n",
       "  </tbody>\n",
       "</table>\n",
       "<p>82 rows × 3 columns</p>\n",
       "</div>"
      ],
      "text/plain": [
       "                            File  \\\n",
       "0   Vk_20180514_49documents0.pdf   \n",
       "1   Vk_20180522_02documents1.pdf   \n",
       "2   Vk_20180413_17documents3.pdf   \n",
       "3   Vk_20180525_03documents1.pdf   \n",
       "4   Vk_20180529_02documents2.pdf   \n",
       "5   Vk_20180517_02documents2.pdf   \n",
       "6   Vk_20180517_02documents3.pdf   \n",
       "7   Vk_20180525_03documents0.pdf   \n",
       "8   Vk_20180413_17documents2.pdf   \n",
       "9   Vk_20180522_02documents0.pdf   \n",
       "10  Vk_20180514_49documents1.pdf   \n",
       "11  Vk_20180517_06documents0.pdf   \n",
       "12  Vk_20180522_02documents2.pdf   \n",
       "13  Vk_20180413_17documents0.pdf   \n",
       "14  Vk_20180525_03documents2.pdf   \n",
       "15  Vk_20180517_02documents1.pdf   \n",
       "16  Vk_20180529_02documents1.pdf   \n",
       "17  Vk_20180417_10documents0.pdf   \n",
       "18  Vk_20180417_10documents1.pdf   \n",
       "19  Vk_20180517_02documents0.pdf   \n",
       "20  Vk_20180529_02documents0.pdf   \n",
       "21  Vk_20180413_17documents1.pdf   \n",
       "22  Vk_20180514_49documents2.pdf   \n",
       "23  Vk_20180528_08documents1.pdf   \n",
       "24  Vk_20180509_08documents0.pdf   \n",
       "25  Vk_20180517_12documents0.pdf   \n",
       "26  Vk_20180522_05documents3.pdf   \n",
       "27  Vk_20180530_09documents0.pdf   \n",
       "28  Vk_20180530_09documents1.pdf   \n",
       "29  Vk_20180522_05documents2.pdf   \n",
       "..                           ...   \n",
       "52  Vk_20180525_26documents1.pdf   \n",
       "53  Vk_20180525_26documents0.pdf   \n",
       "54  Vk_20180522_23documents1.pdf   \n",
       "55  Vk_20180524_02documents1.pdf   \n",
       "56  Vk_20180530_11documents2.pdf   \n",
       "57  Vk_20180530_11documents3.pdf   \n",
       "58  Vk_20180524_02documents0.pdf   \n",
       "59  Vk_20180326_03documents0.pdf   \n",
       "60  Vk_20180516_07documents2.pdf   \n",
       "61  Vk_20180516_07documents0.pdf   \n",
       "62  Vk_20180516_14documents1.pdf   \n",
       "63  Vk_20180524_02documents2.pdf   \n",
       "64  Vk_20180530_11documents1.pdf   \n",
       "65  Vk_20180530_11documents0.pdf   \n",
       "66  Vk_20180516_14documents0.pdf   \n",
       "67  Vk_20180516_07documents1.pdf   \n",
       "68  Vk_20180530_08documents1.pdf   \n",
       "69  Vk_20180530_08documents0.pdf   \n",
       "70  Vk_20180226_08documents2.pdf   \n",
       "71  Vk_20180226_08documents0.pdf   \n",
       "72  Vk_20180524_08documents0.pdf   \n",
       "73  Vk_20180530_08documents2.pdf   \n",
       "74  Vk_20180522_13documents1.pdf   \n",
       "75  Vk_20180523_09documents0.pdf   \n",
       "76  Vk_20180523_09documents1.pdf   \n",
       "77  Vk_20180522_13documents0.pdf   \n",
       "78  Vk_20180226_08documents1.pdf   \n",
       "79  Vk_20180521_01documents1.pdf   \n",
       "80  Vk_20180521_01documents0.pdf   \n",
       "81  Vk_20180521_01documents2.pdf   \n",
       "\n",
       "                                                 Text  Text Länge  \n",
       "0   WaSSCnBURG Hedical  Wassenburg Medical B.V. Ed...        5792  \n",
       "1   b\"Information urgente relative \\xe0 la s\\xe9cu...        4957  \n",
       "2   b'Dr\\xe4ger Schweiz AG, CH-3097 Liebefeld \\n\\n...       23816  \n",
       "3   b\"BIBRAUN \\n\\nB. Braun Medical SA \\nSeesatz 17...        4937  \n",
       "4   b' \\n\\n \\n\\n \\n\\n \\n\\n \\n\\n \\n\\n \\n\\n \\n\\n \\n ...        4860  \n",
       "5   b\" \\nSmith & Nephew Orthopaedics AG \\nOberneuh...        6253  \n",
       "6   Smith & Nephew Orthopaedics AGT +41 (0)41 766 ...        4915  \n",
       "7   b\"DIDRAUN \\n\\nB. Braun Medical  AG \\nSeesatz  ...        4598  \n",
       "8   b'Dr\\xe4ger Schweiz AG, CH-3097 Liebefeld \\n\\n...       21043  \n",
       "9   b'Dringende Sicherheitsinformation  R\\xfcckruf...        3328  \n",
       "10  | URGENT: AVIS DE SECURITE  WaSSeEnBUuRG  Wass...        5895  \n",
       "11  b' \\n \\n \\n \\n \\n \\n \\n \\n  \\n \\n\\xabFirmennam...       12887  \n",
       "12  b'Informazione urgente per la sicurezza  ritir...        4396  \n",
       "13  b'Dr\\xe4ger Schweiz AG, CH-3097 Liebefeld \\n\\n...       19332  \n",
       "14  b\"BIBRAUN \\n\\nB. Braun Medical  AG \\nSeesatz  ...        4673  \n",
       "15  b' \\nSmith & Nephew Orthopaedics AG \\nOberneuh...        6668  \n",
       "16  b\" \\n\\n \\n\\n \\n\\n \\n\\n \\n\\n \\n\\n \\n\\n \\n\\nInfo...        5220  \n",
       "17  b' \\n\\n \\n\\n \\n\\nCook Medical Europe \\nOHallor...        8732  \n",
       "18  b' \\n\\nCOOK\\n\\n \\n \\n \\n \\n \\n \\n\\xae \\n \\nAvi...        5096  \n",
       "19  b\" \\nSmith & Nephew Orthopaedics AG \\nOberneuh...        6274  \n",
       "20  b' \\n\\n \\n\\n \\n\\n \\n\\n \\n\\n \\n\\n \\n\\n \\n\\n \\n ...        4622  \n",
       "21  b'Dr\\xe4ger Schweiz AG, CH-3097 Liebefeld \\n\\n...       21658  \n",
       "22  WaSSCnBURG edical  Wassenburg Medical B.V. Edi...        6187  \n",
       "23  b'[41  Berlin Heart* \\n\\nUrgent safety informa...       18327  \n",
       "24  b' \\n+49(0)36205/98-250 \\n \\n \\nMadame / Monsi...        7163  \n",
       "25                                      Fehlermeldung          13  \n",
       "26     Field Safety Notice GETINGE xe 2018-05-14 |...        4015  \n",
       "27  b' \\n \\n\\n \\n\\nDringende Sicherheitsbenachrich...        9535  \n",
       "28  b' \\n \\n\\n \\n\\nUrgent Field Safety Notice \\n\\n...        8971  \n",
       "29  b'Avviso di sicurezza \\n2018-05-14 | MSA-2018-...        5233  \n",
       "..                                                ...         ...  \n",
       "52  b\" \\n \\n \\n \\n \\n\\n \\n\\n \\n\\n \\n\\n \\n\\n \\n\\n \\...        9597  \n",
       "53  b' \\n\\n \\n \\n \\n \\n \\n\\n \\n\\n \\n\\n \\n\\n \\n\\n \\...       10456  \n",
       "54  From Eye to Insight Jteica  MICROSYSTEMS  AVIS...        5398  \n",
       "55  b' \\n\\n \\n\\n \\n\\nAvis de s\\xe9curit\\xe9 sur le...       74247  \n",
       "56  b' \\n \\n \\n \\n \\n \\n \\n \\n  \\n \\nAdresszeile 1...        6333  \n",
       "57  b' \\n\\nURGENT FIELD SAFETY NOTICE \\n\\nMegadyne...        5940  \n",
       "58  b' \\n\\n \\n\\nSicherheitsinformation PR 1457388 ...       73806  \n",
       "59  b\" \\n\\n \\n\\n \\nSiemens Healthcare SA, 8047 Zur...        8590  \n",
       "60  b' \\n\\n  \\n\\n \\n \\n \\n\\nFIELD SAFETY NOTICE (F...        2485  \n",
       "61  b\" \\n\\n  \\n\\n \\n \\n \\n\\nSICHERHEITSINFORMATION...        2534  \n",
       "62  SIEMENS. Healthineers     Siemens Shanghai Med...        5515  \n",
       "63  b' \\n\\nField Safety Notice PR 1457388  \\n \\n23...       71976  \n",
       "64  b\" \\n \\n \\n \\n \\n \\n \\n \\n  \\n \\nAdresszeile 1...        6525  \n",
       "65  b' \\n \\n \\n \\n \\n \\n \\n \\n  \\n \\n\\xabFirmennam...        7168  \n",
       "66  b' \\n \\n\\n \\nSiemens Shanghai Medical Equipmen...       11330  \n",
       "67  b' \\n\\n  \\n\\n \\n \\n \\n\\nINFORMATION DE SECURIT...        2683  \n",
       "68  b' \\n\\nNotification de s\\xe9curit\\xe9 produit ...        8693  \n",
       "69  b' \\n\\nSicherheitsmitteilung \\n \\nBU IGT Syste...        8600  \n",
       "70  b\" \\n\\n \\n \\n \\n \\n \\n \\n \\n\\n \\n\\n \\n\\nCook M...        4518  \n",
       "71  b' \\n\\n \\n\\n \\n\\nCook Medical Europe \\nOHallor...        4930  \n",
       "72  b\" \\n \\n \\n \\n \\n \\n \\nMedtronic (Suisse) SA \\...        4394  \n",
       "73  b\" \\n\\nField Safety Notice \\n \\nBU IGT Systems...        6302  \n",
       "74   LSI Medience Corporation THE KAITEKI COMPANY ...        4519  \n",
       "75  b' \\n\\n \\n\\nZu H\\xe4nden: Die/der verantwortli...        8579  \n",
       "76  b' \\n\\n \\n\\nTo the attention of Quality Assura...        8181  \n",
       "77  b' \\n\\nAdresse \\n \\n \\n \\n \\n \\n \\nReichenbach...        8632  \n",
       "78  b' \\n\\nCOOK\\n\\n \\n \\n \\n \\n \\n \\n\\xae \\n \\nAvi...        4886  \n",
       "79  b\"Avis de s\\xe9curit\\xe9 urgentFSN\\n\\nNom comm...        3193  \n",
       "80  b'Dringender Sicherheitshinweis (FSN)\\nHandels...        3536  \n",
       "81  b\"Avviso urgente di sicurezza sul campoFSN\\n\\n...        3020  \n",
       "\n",
       "[82 rows x 3 columns]"
      ]
     },
     "execution_count": 37,
     "metadata": {},
     "output_type": "execute_result"
    }
   ],
   "source": [
    "df"
   ]
  },
  {
   "cell_type": "code",
   "execution_count": null,
   "metadata": {},
   "outputs": [],
   "source": []
  },
  {
   "cell_type": "code",
   "execution_count": null,
   "metadata": {},
   "outputs": [],
   "source": []
  },
  {
   "cell_type": "code",
   "execution_count": null,
   "metadata": {},
   "outputs": [],
   "source": []
  },
  {
   "cell_type": "code",
   "execution_count": null,
   "metadata": {},
   "outputs": [],
   "source": [
    "#Erste Säuberung\n",
    "df = pd.DataFrame(lst)\n",
    "def date(elem):\n",
    "    elem = elem[3:11]\n",
    "    return elem\n",
    "df['date'] = df['File'].apply(date)\n",
    "df['date'] = pd.to_datetime(df['date'], format='%Y%m%d')\n",
    "df.index = df['date']\n",
    "#Suchen wir noch nach Implantaten\n",
    "df['implant'] = df['Text'].str.contains('implant')\n",
    "df.to_csv('datafile.csv')"
   ]
  },
  {
   "cell_type": "code",
   "execution_count": null,
   "metadata": {},
   "outputs": [],
   "source": []
  }
 ],
 "metadata": {
  "kernelspec": {
   "display_name": "Python 3",
   "language": "python",
   "name": "python3"
  },
  "language_info": {
   "codemirror_mode": {
    "name": "ipython",
    "version": 3
   },
   "file_extension": ".py",
   "mimetype": "text/x-python",
   "name": "python",
   "nbconvert_exporter": "python",
   "pygments_lexer": "ipython3",
   "version": "3.7.3"
  }
 },
 "nbformat": 4,
 "nbformat_minor": 2
}
