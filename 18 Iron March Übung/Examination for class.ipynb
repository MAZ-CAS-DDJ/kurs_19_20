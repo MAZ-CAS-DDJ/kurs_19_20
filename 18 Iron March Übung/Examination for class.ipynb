{
 "cells": [
  {
   "cell_type": "code",
   "execution_count": 198,
   "metadata": {},
   "outputs": [],
   "source": [
    "import pandas as pd\n",
    "import os\n",
    "from datetime import datetime\n",
    "import matplotlib.pyplot as plt\n",
    "import matplotlib\n",
    "import re\n",
    "plt.style.use('fivethirtyeight')\n",
    "%matplotlib inline"
   ]
  },
  {
   "cell_type": "code",
   "execution_count": 220,
   "metadata": {},
   "outputs": [],
   "source": [
    "import math\n",
    "from pprint import pprint\n",
    "import numpy as np\n",
    "import nltk\n",
    "from nltk.sentiment.vader import SentimentIntensityAnalyzer as SIA\n",
    "import matplotlib.pyplot as plt"
   ]
  },
  {
   "cell_type": "markdown",
   "metadata": {},
   "source": [
    "**Untersuchung der Iron March**\n",
    "\n",
    "1. Aus wievielen CSVs besteht die Datenbank?\n",
    "2. Wieviele Mitglieder hat die Community?\n",
    "3. Welcher Mail-Service ist in dieser Community am beliebtesten?\n",
    "4. Wie alt sind die Mitglieder im Durchschnitt?\n",
    "5. Wie alt sind die Mitglieder im Durchschnitt bei Anmeldung?\n",
    "6. Welche Nutzer sind die Ältesten?\n",
    "7. Welche Nutzer sind die aktivsten?\n",
    "8. Posten jüngere Nutzer mehr Meldungen als Ältere?\n",
    "9. Welches sind die beliebtesten Emoticons der Gemeinschaft?\n",
    "10. Suche das CSV mit den geposteten Meldungen?\n",
    "11. Stelle dar, wie sich die Schreibwut der Gemeinschaft entwickelt hat.\n",
    "12. Wende den Vader Sentiment Classifier auf die Meldungen an?\n",
    "Ressourcen:\n",
    "https://www.learndatasci.com/tutorials/sentiment-analysis-reddit-headlines-pythons-nltk/\n",
    "https://github.com/apanimesh061/VaderSentimentJava"
   ]
  },
  {
   "cell_type": "markdown",
   "metadata": {},
   "source": [
    "### 1 Aus wievielen CSVs besteht die Datenbank?"
   ]
  },
  {
   "cell_type": "code",
   "execution_count": 115,
   "metadata": {},
   "outputs": [
    {
     "data": {
      "text/plain": [
       "99"
      ]
     },
     "execution_count": 115,
     "metadata": {},
     "output_type": "execute_result"
    }
   ],
   "source": [
    "len(os.listdir('csv'))"
   ]
  },
  {
   "cell_type": "markdown",
   "metadata": {},
   "source": [
    "### 2 Wieviele Mitglieder hat die Community"
   ]
  },
  {
   "cell_type": "code",
   "execution_count": 116,
   "metadata": {},
   "outputs": [
    {
     "data": {
      "text/plain": [
       "1632"
      ]
     },
     "execution_count": 116,
     "metadata": {},
     "output_type": "execute_result"
    }
   ],
   "source": [
    "df_core = pd.read_csv(\"csv/core_members.csv\")\n",
    "df_orig = pd.read_csv(\"csv/orig_members.csv\")\n",
    "longlist = list(df_core['name']) + list(df_orig['name'])\n",
    "len(set(longlist))"
   ]
  },
  {
   "cell_type": "markdown",
   "metadata": {},
   "source": [
    "### 3 Welcher Mail-Service ist in dieser Community am beliebtesten?"
   ]
  },
  {
   "cell_type": "code",
   "execution_count": 117,
   "metadata": {},
   "outputs": [
    {
     "data": {
      "text/plain": [
       "gmail.com         807\n",
       "hotmail.com       176\n",
       "yahoo.com         158\n",
       "protonmail.com     88\n",
       "outlook.com        42\n",
       "tutanota.com       30\n",
       "live.com           19\n",
       "hotmail.co.uk      15\n",
       "yahoo.co.uk        13\n",
       "aol.com            12\n",
       "Name: email provider, dtype: int64"
      ]
     },
     "execution_count": 117,
     "metadata": {},
     "output_type": "execute_result"
    }
   ],
   "source": [
    "def mailsplit(elem):\n",
    "    return elem.split(\"@\")[1]\n",
    "df_mail_core = df_core[['name', 'email']].copy() #hier kopiere ich die Spalten, die mich interessieren heraus\n",
    "df_mail_orig = df_orig[['name', 'email']].copy()\n",
    "frames = [df_mail_core, df_mail_orig]\n",
    "mail = pd.concat(frames)\n",
    "mail = mail.drop_duplicates(subset='name')\n",
    "mail = mail.reset_index()\n",
    "del mail['index']\n",
    "mail['email provider'] = mail['email'].apply(mailsplit)\n",
    "mail['email provider'].value_counts().head(10)"
   ]
  },
  {
   "cell_type": "markdown",
   "metadata": {},
   "source": [
    "### 4 Wie alt sind die Mitglieder im Durchschnitt? (heute, der Leak stammt von Mitte Jahr)"
   ]
  },
  {
   "cell_type": "code",
   "execution_count": 141,
   "metadata": {},
   "outputs": [
    {
     "data": {
      "text/plain": [
       "29"
      ]
     },
     "execution_count": 141,
     "metadata": {},
     "output_type": "execute_result"
    }
   ],
   "source": [
    "df_alter_orig = df_orig[['name', 'joined', 'bday_year']].copy() #hier kopiere ich die Spalten, die mich interessieren heraus\n",
    "df_alter_core = df_core[['name', 'joined', 'bday_year']].copy()\n",
    "frames = [df_alter_orig, df_alter_core]\n",
    "alter = pd.concat(frames)\n",
    "alter = alter.dropna()\n",
    "alter = alter.drop_duplicates(subset='name')\n",
    "alter['bday_year'] = alter['bday_year'].astype(int)\n",
    "\n",
    "alter = alter[alter['bday_year']!=0]\n",
    "int(round((alter['bday_year'].mean() - 2019) * -1))"
   ]
  },
  {
   "cell_type": "markdown",
   "metadata": {},
   "source": [
    "### 5 Wie alt waren die Mitglieder im Durchschnitt bei Anmeldung?"
   ]
  },
  {
   "cell_type": "code",
   "execution_count": 142,
   "metadata": {},
   "outputs": [
    {
     "data": {
      "text/plain": [
       "<matplotlib.axes._subplots.AxesSubplot at 0x117f25f98>"
      ]
     },
     "execution_count": 142,
     "metadata": {},
     "output_type": "execute_result"
    },
    {
     "data": {
      "image/png": "[encoded data removed]",
      "text/plain": [
       "<Figure size 432x288 with 1 Axes>"
      ]
     },
     "metadata": {
      "needs_background": "light"
     },
     "output_type": "display_data"
    }
   ],
   "source": [
    "def YEAR(timestamp):\n",
    "    dt_object = datetime.fromtimestamp(timestamp)\n",
    "    return dt_object.year\n",
    "alter['year joined'] = alter['joined'].apply(YEAR)\n",
    "alter['age joined'] = alter['year joined'] - alter['bday_year']\n",
    "alter['age joined'].hist() #Wie sind die Werte verteilt."
   ]
  },
  {
   "cell_type": "code",
   "execution_count": 143,
   "metadata": {},
   "outputs": [
    {
     "data": {
      "text/plain": [
       "23.0"
      ]
     },
     "execution_count": 143,
     "metadata": {},
     "output_type": "execute_result"
    }
   ],
   "source": [
    "round(alter[alter['age joined'] < 100]['age joined'].mean())"
   ]
  },
  {
   "cell_type": "markdown",
   "metadata": {},
   "source": [
    "### 6 Welche Nutzer sind die Ältesten?"
   ]
  },
  {
   "cell_type": "code",
   "execution_count": 147,
   "metadata": {
    "scrolled": true
   },
   "outputs": [
    {
     "data": {
      "text/html": [
       "<div>\n",
       "<style scoped>\n",
       "    .dataframe tbody tr th:only-of-type {\n",
       "        vertical-align: middle;\n",
       "    }\n",
       "\n",
       "    .dataframe tbody tr th {\n",
       "        vertical-align: top;\n",
       "    }\n",
       "\n",
       "    .dataframe thead th {\n",
       "        text-align: right;\n",
       "    }\n",
       "</style>\n",
       "<table border=\"1\" class=\"dataframe\">\n",
       "  <thead>\n",
       "    <tr style=\"text-align: right;\">\n",
       "      <th></th>\n",
       "      <th>name</th>\n",
       "      <th>joined</th>\n",
       "      <th>bday_year</th>\n",
       "      <th>year joined</th>\n",
       "      <th>age joined</th>\n",
       "    </tr>\n",
       "  </thead>\n",
       "  <tbody>\n",
       "    <tr>\n",
       "      <th>923</th>\n",
       "      <td>Tiwaz</td>\n",
       "      <td>1493255733</td>\n",
       "      <td>1871</td>\n",
       "      <td>2017</td>\n",
       "      <td>146</td>\n",
       "    </tr>\n",
       "    <tr>\n",
       "      <th>296</th>\n",
       "      <td>Venezuelan Revolutionary</td>\n",
       "      <td>1422497760</td>\n",
       "      <td>1869</td>\n",
       "      <td>2015</td>\n",
       "      <td>146</td>\n",
       "    </tr>\n",
       "    <tr>\n",
       "      <th>776</th>\n",
       "      <td>miserablist</td>\n",
       "      <td>1486365853</td>\n",
       "      <td>1911</td>\n",
       "      <td>2017</td>\n",
       "      <td>106</td>\n",
       "    </tr>\n",
       "    <tr>\n",
       "      <th>579</th>\n",
       "      <td>Riftbolt</td>\n",
       "      <td>1436321868</td>\n",
       "      <td>1933</td>\n",
       "      <td>2015</td>\n",
       "      <td>82</td>\n",
       "    </tr>\n",
       "    <tr>\n",
       "      <th>199</th>\n",
       "      <td>Enrichallwhoinsultylilauta</td>\n",
       "      <td>1352460091</td>\n",
       "      <td>1933</td>\n",
       "      <td>2012</td>\n",
       "      <td>79</td>\n",
       "    </tr>\n",
       "    <tr>\n",
       "      <th>304</th>\n",
       "      <td>José Churruca</td>\n",
       "      <td>1424815568</td>\n",
       "      <td>1936</td>\n",
       "      <td>2015</td>\n",
       "      <td>79</td>\n",
       "    </tr>\n",
       "    <tr>\n",
       "      <th>308</th>\n",
       "      <td>RammStein</td>\n",
       "      <td>1374297645</td>\n",
       "      <td>1936</td>\n",
       "      <td>2013</td>\n",
       "      <td>77</td>\n",
       "    </tr>\n",
       "    <tr>\n",
       "      <th>496</th>\n",
       "      <td>Lost Viking</td>\n",
       "      <td>1423584532</td>\n",
       "      <td>1945</td>\n",
       "      <td>2015</td>\n",
       "      <td>70</td>\n",
       "    </tr>\n",
       "    <tr>\n",
       "      <th>930</th>\n",
       "      <td>TexasVet</td>\n",
       "      <td>1493694851</td>\n",
       "      <td>1965</td>\n",
       "      <td>2017</td>\n",
       "      <td>52</td>\n",
       "    </tr>\n",
       "    <tr>\n",
       "      <th>298</th>\n",
       "      <td>calvinist-fascist</td>\n",
       "      <td>1371664961</td>\n",
       "      <td>1962</td>\n",
       "      <td>2013</td>\n",
       "      <td>51</td>\n",
       "    </tr>\n",
       "  </tbody>\n",
       "</table>\n",
       "</div>"
      ],
      "text/plain": [
       "                           name      joined  bday_year  year joined  \\\n",
       "923                       Tiwaz  1493255733       1871         2017   \n",
       "296    Venezuelan Revolutionary  1422497760       1869         2015   \n",
       "776                 miserablist  1486365853       1911         2017   \n",
       "579                    Riftbolt  1436321868       1933         2015   \n",
       "199  Enrichallwhoinsultylilauta  1352460091       1933         2012   \n",
       "304               José Churruca  1424815568       1936         2015   \n",
       "308                   RammStein  1374297645       1936         2013   \n",
       "496                 Lost Viking  1423584532       1945         2015   \n",
       "930                    TexasVet  1493694851       1965         2017   \n",
       "298           calvinist-fascist  1371664961       1962         2013   \n",
       "\n",
       "     age joined  \n",
       "923         146  \n",
       "296         146  \n",
       "776         106  \n",
       "579          82  \n",
       "199          79  \n",
       "304          79  \n",
       "308          77  \n",
       "496          70  \n",
       "930          52  \n",
       "298          51  "
      ]
     },
     "execution_count": 147,
     "metadata": {},
     "output_type": "execute_result"
    }
   ],
   "source": [
    "alter.sort_values(by='age joined', ascending=False).head(10)"
   ]
  },
  {
   "cell_type": "markdown",
   "metadata": {},
   "source": [
    "### 7 Welche Nutzer sind die aktivsten?"
   ]
  },
  {
   "cell_type": "code",
   "execution_count": 153,
   "metadata": {},
   "outputs": [
    {
     "data": {
      "text/html": [
       "<div>\n",
       "<style scoped>\n",
       "    .dataframe tbody tr th:only-of-type {\n",
       "        vertical-align: middle;\n",
       "    }\n",
       "\n",
       "    .dataframe tbody tr th {\n",
       "        vertical-align: top;\n",
       "    }\n",
       "\n",
       "    .dataframe thead th {\n",
       "        text-align: right;\n",
       "    }\n",
       "</style>\n",
       "<table border=\"1\" class=\"dataframe\">\n",
       "  <thead>\n",
       "    <tr style=\"text-align: right;\">\n",
       "      <th></th>\n",
       "      <th>name</th>\n",
       "      <th>msg_count_total</th>\n",
       "    </tr>\n",
       "  </thead>\n",
       "  <tbody>\n",
       "    <tr>\n",
       "      <th>156</th>\n",
       "      <td>Bozovski</td>\n",
       "      <td>58</td>\n",
       "    </tr>\n",
       "    <tr>\n",
       "      <th>235</th>\n",
       "      <td>Odin</td>\n",
       "      <td>56</td>\n",
       "    </tr>\n",
       "    <tr>\n",
       "      <th>1</th>\n",
       "      <td>Kacen</td>\n",
       "      <td>52</td>\n",
       "    </tr>\n",
       "    <tr>\n",
       "      <th>182</th>\n",
       "      <td>Raycis</td>\n",
       "      <td>52</td>\n",
       "    </tr>\n",
       "    <tr>\n",
       "      <th>5</th>\n",
       "      <td>Daddy Terror</td>\n",
       "      <td>52</td>\n",
       "    </tr>\n",
       "    <tr>\n",
       "      <th>1</th>\n",
       "      <td>PhalNat</td>\n",
       "      <td>52</td>\n",
       "    </tr>\n",
       "    <tr>\n",
       "      <th>306</th>\n",
       "      <td>Fidena</td>\n",
       "      <td>52</td>\n",
       "    </tr>\n",
       "    <tr>\n",
       "      <th>79</th>\n",
       "      <td>Clive Bissel</td>\n",
       "      <td>51</td>\n",
       "    </tr>\n",
       "    <tr>\n",
       "      <th>225</th>\n",
       "      <td>Bear</td>\n",
       "      <td>51</td>\n",
       "    </tr>\n",
       "    <tr>\n",
       "      <th>334</th>\n",
       "      <td>HermannTheGerman</td>\n",
       "      <td>51</td>\n",
       "    </tr>\n",
       "  </tbody>\n",
       "</table>\n",
       "</div>"
      ],
      "text/plain": [
       "                 name  msg_count_total\n",
       "156          Bozovski               58\n",
       "235              Odin               56\n",
       "1               Kacen               52\n",
       "182            Raycis               52\n",
       "5        Daddy Terror               52\n",
       "1             PhalNat               52\n",
       "306            Fidena               52\n",
       "79       Clive Bissel               51\n",
       "225              Bear               51\n",
       "334  HermannTheGerman               51"
      ]
     },
     "execution_count": 153,
     "metadata": {},
     "output_type": "execute_result"
    }
   ],
   "source": [
    "df_core_active = df_core[['name','msg_count_total']].copy()\n",
    "df_orig_active = df_orig[['name','msg_count_total']].copy()\n",
    "frames = [df_core_active,df_orig_active ]\n",
    "active = pd.concat(frames)\n",
    "active = active.drop_duplicates(subset='name')\n",
    "active.sort_values(by='msg_count_total', ascending=False).head(10)"
   ]
  },
  {
   "cell_type": "markdown",
   "metadata": {},
   "source": [
    "### 8 Posten jüngere Nutzer mehr Meldungen als Ältere?"
   ]
  },
  {
   "cell_type": "code",
   "execution_count": 154,
   "metadata": {},
   "outputs": [],
   "source": [
    "#Hier merge ich das alters df mit den zu den Anzahl Meldungen \n",
    "act_age = active.merge(alter, left_on='name', right_on='name')"
   ]
  },
  {
   "cell_type": "code",
   "execution_count": 158,
   "metadata": {},
   "outputs": [
    {
     "data": {
      "text/plain": [
       "<matplotlib.axes._subplots.AxesSubplot at 0x1186d7e80>"
      ]
     },
     "execution_count": 158,
     "metadata": {},
     "output_type": "execute_result"
    },
    {
     "data": {
      "image/png": "[encoded data removed]",
      "text/plain": [
       "<Figure size 432x288 with 1 Axes>"
      ]
     },
     "metadata": {
      "needs_background": "light"
     },
     "output_type": "display_data"
    }
   ],
   "source": [
    "act_age.plot(kind='scatter', x='age joined', y='msg_count_total')"
   ]
  },
  {
   "cell_type": "markdown",
   "metadata": {},
   "source": [
    "### 9 Welches sind die beliebtesten Emoticons der Gemeinschaft?"
   ]
  },
  {
   "cell_type": "code",
   "execution_count": 162,
   "metadata": {},
   "outputs": [],
   "source": [
    "df_emo = pd.read_csv('csv/core_emoticons.csv')"
   ]
  },
  {
   "cell_type": "code",
   "execution_count": 171,
   "metadata": {},
   "outputs": [
    {
     "data": {
      "text/html": [
       "<div>\n",
       "<style scoped>\n",
       "    .dataframe tbody tr th:only-of-type {\n",
       "        vertical-align: middle;\n",
       "    }\n",
       "\n",
       "    .dataframe tbody tr th {\n",
       "        vertical-align: top;\n",
       "    }\n",
       "\n",
       "    .dataframe thead th {\n",
       "        text-align: right;\n",
       "    }\n",
       "</style>\n",
       "<table border=\"1\" class=\"dataframe\">\n",
       "  <thead>\n",
       "    <tr style=\"text-align: right;\">\n",
       "      <th></th>\n",
       "      <th>id</th>\n",
       "      <th>typed</th>\n",
       "      <th>image</th>\n",
       "      <th>clickable</th>\n",
       "      <th>emo_set</th>\n",
       "      <th>emo_position</th>\n",
       "      <th>emo_set_position</th>\n",
       "      <th>image_2x</th>\n",
       "      <th>width</th>\n",
       "      <th>height</th>\n",
       "    </tr>\n",
       "  </thead>\n",
       "  <tbody>\n",
       "    <tr>\n",
       "      <th>67</th>\n",
       "      <td>164</td>\n",
       "      <td>:crest:</td>\n",
       "      <td>emoticons/crest.png</td>\n",
       "      <td>1</td>\n",
       "      <td>ebad4264c1c40dd74f6fd2479414fbaa</td>\n",
       "      <td>1</td>\n",
       "      <td>1</td>\n",
       "      <td>NaN</td>\n",
       "      <td>0</td>\n",
       "      <td>0</td>\n",
       "    </tr>\n",
       "    <tr>\n",
       "      <th>75</th>\n",
       "      <td>172</td>\n",
       "      <td>:skellyM:</td>\n",
       "      <td>emoticons/skellyM.png</td>\n",
       "      <td>1</td>\n",
       "      <td>ebad4264c1c40dd74f6fd2479414fbaa</td>\n",
       "      <td>2</td>\n",
       "      <td>1</td>\n",
       "      <td>NaN</td>\n",
       "      <td>0</td>\n",
       "      <td>0</td>\n",
       "    </tr>\n",
       "    <tr>\n",
       "      <th>71</th>\n",
       "      <td>168</td>\n",
       "      <td>:IMMH:</td>\n",
       "      <td>emoticons/IMMH.png</td>\n",
       "      <td>1</td>\n",
       "      <td>ebad4264c1c40dd74f6fd2479414fbaa</td>\n",
       "      <td>3</td>\n",
       "      <td>1</td>\n",
       "      <td>NaN</td>\n",
       "      <td>0</td>\n",
       "      <td>0</td>\n",
       "    </tr>\n",
       "    <tr>\n",
       "      <th>73</th>\n",
       "      <td>170</td>\n",
       "      <td>:pride:</td>\n",
       "      <td>emoticons/pride.png</td>\n",
       "      <td>1</td>\n",
       "      <td>ebad4264c1c40dd74f6fd2479414fbaa</td>\n",
       "      <td>4</td>\n",
       "      <td>1</td>\n",
       "      <td>NaN</td>\n",
       "      <td>0</td>\n",
       "      <td>0</td>\n",
       "    </tr>\n",
       "    <tr>\n",
       "      <th>64</th>\n",
       "      <td>161</td>\n",
       "      <td>:alma:</td>\n",
       "      <td>emoticons/alma.png</td>\n",
       "      <td>1</td>\n",
       "      <td>ebad4264c1c40dd74f6fd2479414fbaa</td>\n",
       "      <td>5</td>\n",
       "      <td>1</td>\n",
       "      <td>NaN</td>\n",
       "      <td>0</td>\n",
       "      <td>0</td>\n",
       "    </tr>\n",
       "  </tbody>\n",
       "</table>\n",
       "</div>"
      ],
      "text/plain": [
       "     id      typed                  image  clickable  \\\n",
       "67  164    :crest:    emoticons/crest.png          1   \n",
       "75  172  :skellyM:  emoticons/skellyM.png          1   \n",
       "71  168     :IMMH:     emoticons/IMMH.png          1   \n",
       "73  170    :pride:    emoticons/pride.png          1   \n",
       "64  161     :alma:     emoticons/alma.png          1   \n",
       "\n",
       "                             emo_set  emo_position  emo_set_position  \\\n",
       "67  ebad4264c1c40dd74f6fd2479414fbaa             1                 1   \n",
       "75  ebad4264c1c40dd74f6fd2479414fbaa             2                 1   \n",
       "71  ebad4264c1c40dd74f6fd2479414fbaa             3                 1   \n",
       "73  ebad4264c1c40dd74f6fd2479414fbaa             4                 1   \n",
       "64  ebad4264c1c40dd74f6fd2479414fbaa             5                 1   \n",
       "\n",
       "    image_2x  width  height  \n",
       "67       NaN      0       0  \n",
       "75       NaN      0       0  \n",
       "71       NaN      0       0  \n",
       "73       NaN      0       0  \n",
       "64       NaN      0       0  "
      ]
     },
     "execution_count": 171,
     "metadata": {},
     "output_type": "execute_result"
    }
   ],
   "source": [
    "df_emo.sort_values(['emo_set_position', 'emo_position'], ascending=[True, True]).head() #Nach zwei Kolonnen sortieren. Hier zuerst nach der\n",
    "                                             #Emo-Set-Position und dann der Position des Emoticons \n",
    "                                             #in diesem Set. Unklar bleibt allerdings, ob hier die \n",
    "                                             #Beliebtheit ausgedrückt ist, oder es lediglich die\n",
    "                                             #Position ist.\n"
   ]
  },
  {
   "cell_type": "markdown",
   "metadata": {},
   "source": [
    "Um die beliebtesten Emoticons zu finden, muss wohl der Text danach abgesucht werden. "
   ]
  },
  {
   "cell_type": "markdown",
   "metadata": {},
   "source": [
    "### 10 Suche das CSV mit den geposteten Meldungen?"
   ]
  },
  {
   "cell_type": "code",
   "execution_count": 194,
   "metadata": {},
   "outputs": [
    {
     "data": {
      "text/plain": [
       "0                                                                                                                                                                                                                                                                                                                                                                                                                                                                                                                                                                                                                                                                                                                                                                                                                                                                                                        <p>The best first post to make on our forums is the one where you introduce yourself to the community. Check the Introductions forum to do this.</p>\n",
       "1                                                                                                                                                                                                                                                                                                                                                                                                                                                                                                                                                                                                                                                                                                                                                                                                                                                                                                                                  \\n<p>Who are we hosting this forum from?</p>\\n<p>I like it a lot, it feels very fluid and the software is very good.</p>\\n\n",
       "2                                                                                                                                                                                                                                                                                                                                                                                                                                                                                                                                                                                                                                                                                                                                                                                                                            <p>Crisis Host - they basically provide hosting for free speech projects, ergo why they were fine with hosting fascists. And the forum platform I bought from Invision Powe Boards and then installed it myself to the site.</p>\n",
       "3                                                                                                                                                                                                                                                                                                                                                                                                                                                                                                                                                                                                                                                                                                                                                                                                                                                                                                                                                       <p>Thank you, I'll make a note of it, I am very impressed by this style of forum, very impressed.</p>\n",
       "4                                                                                                                                                                                                                                                                                                                                                                                                                                                                                                                                                                                                                                                                                                                                                                                                                                                                                                   <p>If you mean the dark+orange skin then that's a skin I also had to purchase. But if you mean the functionality and etc, then yeah, that's IPB 3.2.2</p>\n",
       "5                                                                                                                                                                                                                                                                                                                                                                                                                                                                                                                                                                                                                                                                                                                                                                                                                                                                                                                                                                                                       <p>The functionality mostly, thanks for the info.</p>\n",
       "6                                                                                                                                                                                                                                                                                                                                                                                                                                                                                                                                                                                                                                                                                                                                                                                                                                                                                                                                                                                        <p>I don't see why one would want to resuscitate Religio Romana.</p>\n",
       "7                                                                                                                                                                                                                                                                                                                                                                                                   \\n<blockquote data-ipsquote=\"\" class=\"ipsQuote\" data-ipsquote-username=\"Talleyrand\" data-cite=\"Talleyrand\" data-ipsquote-timestamp=\"1316223829\" data-ipsquote-contentapp=\"core\" data-ipsquote-contenttype=\"messaging\" data-ipsquote-contentid=\"3\" data-ipsquote-contentclass=\"core_Messenger_Conversation\"><div><p>I don't see why one would want to resuscitate Religio Romana.</p></div></blockquote>\\n<p>The same reason Reconstructionist paganism thrives today: because they believe in it. I don't mean the brevity to be rude BTW; I just don't know were to go with your question beyond what I've addressed.</p>\\n<p>Regards,</p>\\n<p>Dux</p>\\n\n",
       "8                                                                                                                                                                                                                                                                                                                                                                                                                                                                                                                                                                                                                                                                                                                                                                                                                                                                                                        <p>The best first post to make on our forums is the one where you introduce yourself to the community. Check the Introductions forum to do this.</p>\n",
       "9                                                                                                                                                                                                                                                                                                                                                                                                                                                                                                                                                                                                                                                                                                                                                                                                                                                                                                                                                                 <p>Done and done. I meant to post something there but i am awfully forgetful sometimes.</p>\n",
       "10                                                                                                                                                                                                                                                                                                                                                                                                                                                                                                                                                                                                                                                                                                                                                                                                                                                                                                                                                                                                                                  <p>silent_guy@mail.ru</p>\n",
       "11                                                                                                                                                                                                                                                                                                                                                                                                                                                                                                                                                                                                                                                                                                                                                                                                                                                                                                                                                                                                                 <a rel=\"external nofollow\">FSJ@live.ie</a>\n",
       "12                                                                                                                                                                                                                                                                                                                                                                                                                                                                                                                                                                                                                                                                                                                                                                                                                                                                                                                                \\n<p>My Skype: Gravitorbox</p>\\n<p>My AIM: Kacen752</p>\\n<p>My MSN: illuminatienlightened@hotmail.com (Also my email)</p>\\n\n",
       "13                                                                                                                                                                                                                                                                                                                                                                                                                                                                                                                                                                                                                                                                                                                                                                                                                                                                                                                                                                                                                     <p>I have you on MSN, I'll get on.</p>\n",
       "14                                                                                                                                                                                                                                                                                                                                                                                                                                                                                                                                                                                                                                                                                                                                                                                      <p>Evidently you're offline. You have me, I'm eleigios@hotmail.com. You also have me on Facebook, I'm on there at the moment but that's somewhat rare. I get on MSN somewhat randomly, but I'll stay on as long as I can if you'd like to discuss or collaborate.</p>\n",
       "15                                                                                                                                                                                                                                                                                                                                                                                                                                                                                                                                                                                                                                                                                                                                                                                                                                                                                                                                  <p>Ah, I kinda wish you had Skype. I don't use MSN as much...come to think of it, was probably stupid I mentioned it.</p>\n",
       "16                                                                                                                                                                                                                                                                                                                                                                                                                                                                                                                                                                                                                                                                                                     <p>I don't have Skype, but I can Download it and probably should; with all the plans I have that require collaboration it would make my life easier, and it's cheaper than making long-distance phone calls as well. I lent my microphone to a friend recently but I could have it back by tomorrow if you're interested anyway. Just let me know.</p>\n",
       "17                                                                                                                                                                                                                                                                                                                                                                                                                                                                                                                                                                                                                                                                                                                                                                                                                                                                                                                           <p>You should download Skype it is a good service. Also you can use it just like MSN; you can type, I type most of the time.</p>\n",
       "18                                                                                                                                                                                                                                                                                                                                                                                                                                                                                                                                                                                                                                                                                                                                                                                                                                                                                                                                                                                     <p>Hmm, I'll get on that right now and then shoot you my username.</p>\n",
       "19                                                                                                                                                                                                                                                                                                                                                                                                                                                                                                                                                                                                                                                                                                                                                                                                                                                                                                                                                                                                                          <p>Roger, mine is Gravitorbox</p>\n",
       "20                                                                                                                                                                                                                                                                                                                                                                                                                                                                                                                                                                                                                                                                                                                                                                                                                                                                                                       <p>The best first post to make on our forums is the one where you introduce yourself to the community. Check the Introductions forum to do this.</p>\n",
       "21                                                                                                                                                                                                                                                                                                                                                                                                                                                                                                                                                                                                                                                                                                                                                                                                                                                                                                       <p>The best first post to make on our forums is the one where you introduce yourself to the community. Check the Introductions forum to do this.</p>\n",
       "22                                                                                                                                                                                                                                                                                                                                                                                                                                                                                       \\n<blockquote data-ipsquote=\"\" class=\"ipsQuote\" data-ipsquote-username=\"Alexander Slavros\" data-cite=\"Alexander Slavros\" data-ipsquote-timestamp=\"1316857239\" data-ipsquote-contentapp=\"core\" data-ipsquote-contenttype=\"messaging\" data-ipsquote-contentid=\"11\" data-ipsquote-contentclass=\"core_Messenger_Conversation\"><div><p>The best first post to make on our forums is the one where you introduce yourself to the community. Check the Introductions forum to do this.</p></div></blockquote>\\n<p>Easy, cowboy! Patience is a revolutionary virtue...</p>\\n\n",
       "23                                                                                                                                                                                                                                                                                                                                                                                                                                                                                                                                                                                                                                                                                                                                                                                                                                                                                                                                                                                                       <p>Reading rules before posting is a virtue too.</p>\n",
       "24                                                                                                                                                                                                                                                                                                                                                                                                                                                                                                                                                                                                                                                                                                                                                                                                                                                                                                                                                                             \\n<p>I believe the above says it all. Welcome back, comrade!</p>\\n<p>Dux</p>\\n\n",
       "25                                                                                                                                                                                                                                                                                                                                                                                                                                                                                                                                                                                                                                                                                                                                                                                                                                                                                                                                                        \\n<p>You could upload it or send it to me in email:</p>\\n<p>illuminatienlightened@hotmail.com</p>\\n\n",
       "26                                                                                                                                                                                                                                                                                                                                                                                                                                                                                                                                                                                                                                                                                                                                                                                                                                                                                                                               <p>I appreciate the warm welcome friend, I hope all is well with you. I trust you've recovered well from your surgeries.</p>\n",
       "27                                                                                                                                                                                                                                                                                                                                                                                                                                                                       \\n<blockquote data-ipsquote=\"\" class=\"ipsQuote\" data-ipsquote-username=\"American_Blackshirt\" data-cite=\"American_Blackshirt\" data-ipsquote-timestamp=\"1317037403\" data-ipsquote-contentapp=\"core\" data-ipsquote-contenttype=\"messaging\" data-ipsquote-contentid=\"12\" data-ipsquote-contentclass=\"core_Messenger_Conversation\"><div><p>I appreciate the warm welcome friend, I hope all is well with you. I trust you've recovered well from your surgeries.</p></div></blockquote>\\n<p>Indeed; although I'm having another one this Friday. Should go well though.</p>\\n<p>Dux</p>\\n\n",
       "28                                                                                                                                                                                                                                                                                                                                                                                                                                                                                                                                                                                                                                                                                                                                                                                                                                                                                                                                         \\n<p>I was wondering how exactly you got a copy of the book?</p>\\n<p>I would like a copy for myself you see.</p>\\n\n",
       "29                                                                                                                                                                                                                                                                                                                                                                                                                                                                                                                                                                                                                                                                                                                                                                                                                                                                                                                  <p>My friend had gotten me a gift card to Barnes and Noble so I bought it online off of there. It's a little over $20 after shipping.</p>\n",
       "30                                                                                                                                                                                                                                                                                                                                                                                                                                                                                                                                                                                                                                                                                                                                                                                                                                                                                                                                                                                                                              <p>Ah, excellent, thanks.</p>\n",
       "31                                                                                                                                                                                                                                                                                                                                                                                                                                                                                                                                                                                                                                                                                                                                                                                                                                                                                                                                         <p>No problem, friend. <img src=\"<fileStore.core_Emoticons>/emoticons/GeneralIMemoticons_cool.png\" alt=\"B)\" /></p>\n",
       "32                                                                                                                                                                                                                                                                                                                                                                                                                                                                                                                                                                                                                                                                                                                                                                                                                                                                                                                                                                                                                            <p>No formatting necessary.</p>\n",
       "33                                                                                                                                                                                                                                                                                                                                                                                                                                                                                                                                                                                                       \\n<blockquote data-ipsquote=\"\" class=\"ipsQuote\" data-ipsquote-username=\"Kacen\" data-cite=\"Kacen\" data-ipsquote-timestamp=\"1317158332\" data-ipsquote-contentapp=\"core\" data-ipsquote-contenttype=\"messaging\" data-ipsquote-contentid=\"16\" data-ipsquote-contentclass=\"core_Messenger_Conversation\"><div><p>No formatting necessary.</p></div></blockquote>\\n<p>Well, I was trying to imbed, which I've never done before, and apparently can't.</p>\\n\n",
       "34                                                                                                                                                                                                                                                                                                                                                                                                                                                                                                                                                                                                                                                                                                                                                                                                                                                                                                                                                                                   <p>I fixed it. It automatically embeds when you post a youtube link.</p>\n",
       "35                                                                                                                                                                                                                                                                                                                                                                                                                                                                                                                                                                                                                         \\n<blockquote data-ipsquote=\"\" class=\"ipsQuote\" data-ipsquote-username=\"Kacen\" data-cite=\"Kacen\" data-ipsquote-timestamp=\"1317162768\" data-ipsquote-contentapp=\"core\" data-ipsquote-contenttype=\"messaging\" data-ipsquote-contentid=\"16\" data-ipsquote-contentclass=\"core_Messenger_Conversation\"><div><p>I fixed it. It automatically embeds when you post a youtube link.</p></div></blockquote>\\n<p>That's handy, thanks.</p>\\n\n",
       "36                                                                                                                                                                                                                                                                                                                                                                                                                                                                                                                                                                                                                                                                                                                                                                                                                                                                                                                                                                 <p>Are you going to be watching the presidential debate on The Late Late Show tonight?</p>\n",
       "37                                                                                                                                                                                                                                                                                                                                                                                                                                                                                                                                                                 \\n<p>have you been able to come across any other online versions of Codreanus book, 'to my legionaries\" where the text isn't run together? Eh, then again I suppose you'd post it you found one.</p>\\n<p>Also, I remember reading somewhere you are a fan of punk rock, or were.</p>\\n<p>I just want to point out that GG Allin is the epitomy of the genre and the shining light that humanity needs to reddem itself culturally XD</p>\\n<p>Of course I'm joking...</p>\\n<p>maybe..</p>\\n\n",
       "38    \\n<blockquote data-ipsquote=\"\" class=\"ipsQuote\" data-ipsquote-username=\"American_Blackshirt\" data-cite=\"American_Blackshirt\" data-ipsquote-timestamp=\"1317382951\" data-ipsquote-contentapp=\"core\" data-ipsquote-contenttype=\"messaging\" data-ipsquote-contentid=\"18\" data-ipsquote-contentclass=\"core_Messenger_Conversation\"><div>\\n<p>have you been able to come across any other online versions of Codreanus book, 'to my legionaries\" where the text isn't run together? Eh, then again I suppose you'd post it you found one.</p>\\n<p>Also, I remember reading somewhere you are a fan of punk rock, or were.</p>\\n<p>I just want to point out that GG Allin is the epitomy of the genre and the shining light that humanity needs to reddem itself culturally XD</p>\\n<p>Of course I'm joking...</p>\\n<p>maybe..</p>\\n</div></blockquote>\\n<p>Hey there, no, unfortunately this is the only version of Codreanu's book I found online.</p>\\n<p>Yes, I'm a punk rock fan, but never saw GG Alin as a shining light, LOL!</p>\\n<p>Hails, WiB</p>\\n\n",
       "39                                                                                                                                                                                                                                                                                                                                                                                                                                                                                                                                                                                                                                                                                                                                                                                                                                                                                                                                                                                                                     <p>333Revolution777Conservative333</p>\n",
       "40                                                                                                                                                                                                                                                                                                                                                                                                                                                                                                                                                                                                                                                                                                                                                                                                                                                                 <p>Pragmatic, we still insist on making introduction topics, even for old ITPF forum members. Please proceed to the Introductions forum and make an introduction topic about yourself.</p>\n",
       "41                                                                                                                                                                                                                                                                                                                                                                                                  <p>Alright... Off-hand, I think I've tried to discuss with you before the topic of alliances and foreign policy, but I don't think it ever developed. Have you considered the potential for who would make the best ally for Russia, or what the form of such an alliance would require? Not to bolster your national ego, but Russia will likely be an important hinge player in the next generation or so, though I don't see the glory days of the Soviet Union being revived in your influence. Part of the problem we've had in America is not courting Russia enough, alongside not recognizing the emerging threat to our hegemony from China.</p>\n",
       "42                                                                                                                                                                                                                                                                                                                                 \\n<blockquote data-ipsquote=\"\" class=\"ipsQuote\" data-ipsquote-username=\"Four Suited Jack\" data-cite=\"Four Suited Jack\" data-ipsquote-timestamp=\"1317367590\" data-ipsquote-contentapp=\"core\" data-ipsquote-contenttype=\"messaging\" data-ipsquote-contentid=\"17\" data-ipsquote-contentclass=\"core_Messenger_Conversation\"><div><p>Are you going to be watching the presidential debate on The Late Late Show tonight?</p></div></blockquote>\\n<p>I never watched it although I've a fair idea what each candidate is going to say before they even open their mouths.  I must say It's a sad excuse of a presidential race.  I wouldn't pinpoint any of the candidates as a maybe even personally.  Best of a bad lot?</p>\\n\n",
       "43                                                                                                                                                                                                                                                                                                                                                                                                                                                                                                                                                                                                                                                                                                                                                                                            <p>Hello, I'm planning on doing summations of some of Giovanni Gentiles books, but would you also appreciate one from a book on Chinese Corporatism (not Communism)?  Not exactly Fascism, so I don't know what forum it would go in if you would value it.</p>\n",
       "44                                                                                                                                                                                                                                                                                                                                                                                                                                                                                                                                                                                            \\n<p>Hello,</p>\\n<p>First of all I'd suggest creating an introduction topic where you tell us a bit about yourself.</p>\\n<p>Materials related to Giovanni Gentile would go into the External Materials Archive forum, as for the Chinese Corporatism book - you'll have to give more details on that or better yet provide a link or what have you to the book so we can do a short review and tell exactly where would be the place for it on our forum.</p>\\n\n",
       "45                                                                                                                                                                                                                                                                                                                                                                                                                                                                               \\n<p><a href=\"http://ips.cap.anu.edu.au/psc/ccc/publications/papers/JUAC_China_Corporatism.pdf\" rel=\"external nofollow\">http://ips.cap.anu.edu.au/psc/ccc/publications/papers/JUAC_China_Corporatism.pdf</a></p>\\n<p>This journal (about 25 pages) provides a good amount of information on the corporatist idea in the first pages.  I am reading it because of my interest in China, but I haven't gotten far enough to tell you what it says about it's China.  I know that fascists have some interest in Corporatism so I thought they might find it interesting.</p>\\n\n",
       "46                                                                                                                                                                                                                                                                                                                                                                                                                                                                                                                                                                                                                                                                                                                                                                         \\n<p>I typically send the same message to people who make a first post on the forum and its not an introduction topic, but I already told you this, so your message will be an exclusive version:</p>\\n<p>Make an introduction topic before continuing posting on the forum.</p>\\n\n",
       "47                                                                                                                                                                                                                                                                                                                                                                                                                                                                                                                                                                         \\n<p>AS for the book you sent a link to: it is interesting but doesn't have anything to do with corporatism, just in the sense of corporate bodies being involved in government.</p>\\n<p>For the time being you may post it in the Fascist Economics subforum <a href=\"<___base_url___>/index.php?/forum/25-fascist-economics/\" rel=\"\">http://ironmarch.org/index.php?/forum/25-fascist-economics/</a> , and if we decide that it doesn't belong it will be moved elsewhere.</p>\\n\n",
       "48                                                                                                                                                                                                                                                                                                                                             \\n<blockquote data-ipsquote=\"\" class=\"ipsQuote\" data-ipsquote-username=\"Alexander Slavros\" data-cite=\"Alexander Slavros\" data-ipsquote-timestamp=\"1317710873\" data-ipsquote-contentapp=\"core\" data-ipsquote-contenttype=\"messaging\" data-ipsquote-contentid=\"25\" data-ipsquote-contentclass=\"core_Messenger_Conversation\"><div><p>For the time being you may post it in the Fascist Economics subforum <a href=\"<___base_url___>/index.php?/forum/25-fascist-economics/\" rel=\"\">http://ironmarch.org...cist-economics/</a> , and if we decide that it doesn't belong it will be moved elsewhere.</p></div></blockquote>\\n<p>I'll post it when I make out a summation as to it's relation to Corporatism.</p>\\n\n",
       "49                                                                                                                                                                                                                                                                                                                                                                                                                                                                                                                                                                                                                                                                                                                                                                                                                                <a href=\"http://img.photobucket.com/albums/v342/MarinaRay/OuroborosEyeofProvidenceCrossedSabers.png\" rel=\"external nofollow\">http://img.photobucket.com/albums/v342/MarinaRay/OuroborosEyeofProvidenceCrossedSabers.png</a>\n",
       "Name: msg_post, dtype: object"
      ]
     },
     "execution_count": 194,
     "metadata": {},
     "output_type": "execute_result"
    }
   ],
   "source": [
    "df = pd.read_csv('csv/core_message_posts.csv')\n",
    "pd.set_option('max_colwidth', 4000)\n",
    "df['msg_post'].head(50) #Eine Durchsicht der ersten 50 Meldungen zeigt, dass Emoticons im Text\n",
    "                        #entweder nicht benutzt sind, oder hier nicht gespeichert werden. "
   ]
  },
  {
   "cell_type": "markdown",
   "metadata": {},
   "source": [
    "### 11 Stelle dar, wie sich die Schreibwut der Gemeinschaft entwickelt hat?"
   ]
  },
  {
   "cell_type": "code",
   "execution_count": 197,
   "metadata": {},
   "outputs": [],
   "source": [
    "#ZUerst das Datu bestimmen\n",
    "def YEAR(timestamp):\n",
    "    dt_object = datetime.fromtimestamp(timestamp)\n",
    "    return dt_object\n",
    "#Und jetzt mache ich aus dem Datum den Index\n",
    "df.index = df['msg_date'].apply(YEAR)"
   ]
  },
  {
   "cell_type": "code",
   "execution_count": 204,
   "metadata": {},
   "outputs": [],
   "source": [
    "#Nun will ich die Anzahl Charaktere pro Meldung zählen.\n",
    "def counting(elem):\n",
    "    elem = elem.replace(\"</p>\",\"\").replace(\"\\n\",\"\")\n",
    "    elem = elem.replace(\"\\t\",\"\")\n",
    "    try:\n",
    "        pattern = re.match('href.*', elem).group()\n",
    "        elem = elem.replace(pattern,\"\")\n",
    "        return len(elem)\n",
    "    except:\n",
    "        return len(elem)\n",
    "df['msg_post_length'] = df['msg_post'].apply(counting)"
   ]
  },
  {
   "cell_type": "code",
   "execution_count": 209,
   "metadata": {},
   "outputs": [
    {
     "data": {
      "text/plain": [
       "<matplotlib.axes._subplots.AxesSubplot at 0x11b139e10>"
      ]
     },
     "execution_count": 209,
     "metadata": {},
     "output_type": "execute_result"
    },
    {
     "data": {
      "image/png": "[encoded data removed]",
      "text/plain": [
       "<Figure size 432x288 with 1 Axes>"
      ]
     },
     "metadata": {
      "needs_background": "light"
     },
     "output_type": "display_data"
    }
   ],
   "source": [
    "df.resample('Q')['msg_post_length'].sum().plot()"
   ]
  },
  {
   "cell_type": "code",
   "execution_count": 221,
   "metadata": {},
   "outputs": [
    {
     "data": {
      "text/html": [
       "<div>\n",
       "<style scoped>\n",
       "    .dataframe tbody tr th:only-of-type {\n",
       "        vertical-align: middle;\n",
       "    }\n",
       "\n",
       "    .dataframe tbody tr th {\n",
       "        vertical-align: top;\n",
       "    }\n",
       "\n",
       "    .dataframe thead th {\n",
       "        text-align: right;\n",
       "    }\n",
       "</style>\n",
       "<table border=\"1\" class=\"dataframe\">\n",
       "  <thead>\n",
       "    <tr style=\"text-align: right;\">\n",
       "      <th></th>\n",
       "      <th>msg_id</th>\n",
       "      <th>msg_topic_id</th>\n",
       "      <th>msg_date</th>\n",
       "      <th>msg_post</th>\n",
       "      <th>msg_post_key</th>\n",
       "      <th>msg_author_id</th>\n",
       "      <th>msg_ip_address</th>\n",
       "      <th>msg_is_first_post</th>\n",
       "      <th>msg_post_length</th>\n",
       "    </tr>\n",
       "    <tr>\n",
       "      <th>msg_date</th>\n",
       "      <th></th>\n",
       "      <th></th>\n",
       "      <th></th>\n",
       "      <th></th>\n",
       "      <th></th>\n",
       "      <th></th>\n",
       "      <th></th>\n",
       "      <th></th>\n",
       "      <th></th>\n",
       "    </tr>\n",
       "  </thead>\n",
       "  <tbody>\n",
       "    <tr>\n",
       "      <th>2011-09-16 05:49:58</th>\n",
       "      <td>1</td>\n",
       "      <td>1</td>\n",
       "      <td>1316144998</td>\n",
       "      <td>&lt;p&gt;The best first post to make on our forums is the one where you introduce yourself to the community. Check the Introductions forum to do this.&lt;/p&gt;</td>\n",
       "      <td>3320f7f06c422ef0fb77342724b4fd24</td>\n",
       "      <td>1</td>\n",
       "      <td>178.140.119.217</td>\n",
       "      <td>1</td>\n",
       "      <td>144</td>\n",
       "    </tr>\n",
       "    <tr>\n",
       "      <th>2011-09-16 13:54:08</th>\n",
       "      <td>2</td>\n",
       "      <td>2</td>\n",
       "      <td>1316174048</td>\n",
       "      <td>\\n&lt;p&gt;Who are we hosting this forum from?&lt;/p&gt;\\n&lt;p&gt;I like it a lot, it feels very fluid and the software is very good.&lt;/p&gt;\\n</td>\n",
       "      <td>9204e4883321af2275a37138d054a3f1</td>\n",
       "      <td>11</td>\n",
       "      <td>109.78.212.13</td>\n",
       "      <td>1</td>\n",
       "      <td>108</td>\n",
       "    </tr>\n",
       "    <tr>\n",
       "      <th>2011-09-16 16:39:59</th>\n",
       "      <td>3</td>\n",
       "      <td>2</td>\n",
       "      <td>1316183999</td>\n",
       "      <td>&lt;p&gt;Crisis Host - they basically provide hosting for free speech projects, ergo why they were fine with hosting fascists. And the forum platform I bought from Invision Powe Boards and then installed it myself to the site.&lt;/p&gt;</td>\n",
       "      <td>12fd0309239711d02b39127de3502c51</td>\n",
       "      <td>1</td>\n",
       "      <td>178.140.119.217</td>\n",
       "      <td>0</td>\n",
       "      <td>220</td>\n",
       "    </tr>\n",
       "    <tr>\n",
       "      <th>2011-09-16 17:29:01</th>\n",
       "      <td>4</td>\n",
       "      <td>2</td>\n",
       "      <td>1316186941</td>\n",
       "      <td>&lt;p&gt;Thank you, I'll make a note of it, I am very impressed by this style of forum, very impressed.&lt;/p&gt;</td>\n",
       "      <td>0658c6f99ac18d90609ea074ae5eefe6</td>\n",
       "      <td>11</td>\n",
       "      <td>109.78.212.13</td>\n",
       "      <td>0</td>\n",
       "      <td>97</td>\n",
       "    </tr>\n",
       "    <tr>\n",
       "      <th>2011-09-16 17:32:58</th>\n",
       "      <td>5</td>\n",
       "      <td>2</td>\n",
       "      <td>1316187178</td>\n",
       "      <td>&lt;p&gt;If you mean the dark+orange skin then that's a skin I also had to purchase. But if you mean the functionality and etc, then yeah, that's IPB 3.2.2&lt;/p&gt;</td>\n",
       "      <td>570257864e3cb812eebc2de5e5919080</td>\n",
       "      <td>1</td>\n",
       "      <td>178.140.119.217</td>\n",
       "      <td>0</td>\n",
       "      <td>149</td>\n",
       "    </tr>\n",
       "    <tr>\n",
       "      <th>...</th>\n",
       "      <td>...</td>\n",
       "      <td>...</td>\n",
       "      <td>...</td>\n",
       "      <td>...</td>\n",
       "      <td>...</td>\n",
       "      <td>...</td>\n",
       "      <td>...</td>\n",
       "      <td>...</td>\n",
       "      <td>...</td>\n",
       "    </tr>\n",
       "    <tr>\n",
       "      <th>2017-11-20 22:30:41</th>\n",
       "      <td>26558</td>\n",
       "      <td>5795</td>\n",
       "      <td>1511213441</td>\n",
       "      <td>\\n&lt;p&gt;\\n\\tOf course I know the Akbaria, it's a sufi group, one of the most important. When I went to Syria; I visited the \"maquam\" of Ibn Arabi. But I coudln't help you unfortunately my friend.\\n&lt;/p&gt;\\n\\n&lt;p&gt;\\n\\tI hope you will have all good energy to win in your life. (and one day, If you want to go in Algeria, tell me)\\n&lt;/p&gt;\\n\\n&lt;p&gt;\\n\\tKind regards\\n&lt;/p&gt;\\n\\n&lt;p&gt;\\n\\t \\n&lt;/p&gt;\\n\\n&lt;p&gt;\\n\\tSH!\\n&lt;/p&gt;\\n</td>\n",
       "      <td>0</td>\n",
       "      <td>13298</td>\n",
       "      <td>141.101.104.54</td>\n",
       "      <td>0</td>\n",
       "      <td>324</td>\n",
       "    </tr>\n",
       "    <tr>\n",
       "      <th>2017-11-21 00:28:09</th>\n",
       "      <td>26559</td>\n",
       "      <td>5975</td>\n",
       "      <td>1511220489</td>\n",
       "      <td>\\n&lt;p&gt;\\n\\t&lt;a href=\"https://scottishnationalistsociety.wordpress.com/\" rel=\"external nofollow\"&gt;https://scottishnationalistsociety.wordpress.com/&lt;/a&gt;\\n&lt;/p&gt;\\n\\n&lt;p&gt;\\n\\t \\n&lt;/p&gt;\\n\\n&lt;p&gt;\\n\\twelcome to Ironmarch, 88\\n&lt;/p&gt;\\n</td>\n",
       "      <td>0</td>\n",
       "      <td>9792</td>\n",
       "      <td>141.101.107.205</td>\n",
       "      <td>1</td>\n",
       "      <td>171</td>\n",
       "    </tr>\n",
       "    <tr>\n",
       "      <th>2017-11-21 01:08:15</th>\n",
       "      <td>26560</td>\n",
       "      <td>5743</td>\n",
       "      <td>1511222895</td>\n",
       "      <td>\\n&lt;p&gt;\\n\\tВидя ли се в The Independent? :D\\n&lt;/p&gt;\\n\\n&lt;p&gt;\\n\\t \\n&lt;/p&gt;\\n\\n&lt;p&gt;\\n\\t&lt;a href=\"http://www.independent.co.uk/news/world/americas/charles-manson-death-dead-serial-killer-neo-nazis-resurrect-fascist-movement-cult-family-universal-a8065781.html\" rel=\"external nofollow\"&gt;http://www.independent.co.uk/news/world/americas/charles-manson-death-dead-serial-killer-neo-nazis-resurrect-fascist-movement-cult-family-universal-a8065781.html&lt;/a&gt;\\n&lt;/p&gt;\\n</td>\n",
       "      <td>0</td>\n",
       "      <td>14702</td>\n",
       "      <td>162.158.34.41</td>\n",
       "      <td>0</td>\n",
       "      <td>403</td>\n",
       "    </tr>\n",
       "    <tr>\n",
       "      <th>2017-11-21 04:49:12</th>\n",
       "      <td>26561</td>\n",
       "      <td>5973</td>\n",
       "      <td>1511236152</td>\n",
       "      <td>&lt;p&gt;\\n\\t/Orthodox/ general and a couple of shitpost servers I have with my Twitter friends\\n&lt;/p&gt;</td>\n",
       "      <td>0</td>\n",
       "      <td>14072</td>\n",
       "      <td>172.68.189.140</td>\n",
       "      <td>0</td>\n",
       "      <td>85</td>\n",
       "    </tr>\n",
       "    <tr>\n",
       "      <th>2017-11-21 05:00:38</th>\n",
       "      <td>26562</td>\n",
       "      <td>5976</td>\n",
       "      <td>1511236838</td>\n",
       "      <td>&lt;p&gt;\\n\\tcan i get in that chess club discord thanks\\n&lt;/p&gt;</td>\n",
       "      <td>0</td>\n",
       "      <td>13861</td>\n",
       "      <td>162.158.62.46</td>\n",
       "      <td>1</td>\n",
       "      <td>46</td>\n",
       "    </tr>\n",
       "  </tbody>\n",
       "</table>\n",
       "<p>21715 rows × 9 columns</p>\n",
       "</div>"
      ],
      "text/plain": [
       "                     msg_id  msg_topic_id    msg_date  \\\n",
       "msg_date                                                \n",
       "2011-09-16 05:49:58       1             1  1316144998   \n",
       "2011-09-16 13:54:08       2             2  1316174048   \n",
       "2011-09-16 16:39:59       3             2  1316183999   \n",
       "2011-09-16 17:29:01       4             2  1316186941   \n",
       "2011-09-16 17:32:58       5             2  1316187178   \n",
       "...                     ...           ...         ...   \n",
       "2017-11-20 22:30:41   26558          5795  1511213441   \n",
       "2017-11-21 00:28:09   26559          5975  1511220489   \n",
       "2017-11-21 01:08:15   26560          5743  1511222895   \n",
       "2017-11-21 04:49:12   26561          5973  1511236152   \n",
       "2017-11-21 05:00:38   26562          5976  1511236838   \n",
       "\n",
       "                                                                                                                                                                                                                                                                                                                                                                                                                                                                          msg_post  \\\n",
       "msg_date                                                                                                                                                                                                                                                                                                                                                                                                                                                                             \n",
       "2011-09-16 05:49:58                                                                                                                                                                                                                                                                                                           <p>The best first post to make on our forums is the one where you introduce yourself to the community. Check the Introductions forum to do this.</p>   \n",
       "2011-09-16 13:54:08                                                                                                                                                                                                                                                                                                                                     \\n<p>Who are we hosting this forum from?</p>\\n<p>I like it a lot, it feels very fluid and the software is very good.</p>\\n   \n",
       "2011-09-16 16:39:59                                                                                                                                                                                                                               <p>Crisis Host - they basically provide hosting for free speech projects, ergo why they were fine with hosting fascists. And the forum platform I bought from Invision Powe Boards and then installed it myself to the site.</p>   \n",
       "2011-09-16 17:29:01                                                                                                                                                                                                                                                                                                                                                          <p>Thank you, I'll make a note of it, I am very impressed by this style of forum, very impressed.</p>   \n",
       "2011-09-16 17:32:58                                                                                                                                                                                                                                                                                                      <p>If you mean the dark+orange skin then that's a skin I also had to purchase. But if you mean the functionality and etc, then yeah, that's IPB 3.2.2</p>   \n",
       "...                                                                                                                                                                                                                                                                                                                                                                                                                                                                            ...   \n",
       "2017-11-20 22:30:41                                                     \\n<p>\\n\\tOf course I know the Akbaria, it's a sufi group, one of the most important. When I went to Syria; I visited the \"maquam\" of Ibn Arabi. But I coudln't help you unfortunately my friend.\\n</p>\\n\\n<p>\\n\\tI hope you will have all good energy to win in your life. (and one day, If you want to go in Algeria, tell me)\\n</p>\\n\\n<p>\\n\\tKind regards\\n</p>\\n\\n<p>\\n\\t \\n</p>\\n\\n<p>\\n\\tSH!\\n</p>\\n   \n",
       "2017-11-21 00:28:09                                                                                                                                                                                                                                          \\n<p>\\n\\t<a href=\"https://scottishnationalistsociety.wordpress.com/\" rel=\"external nofollow\">https://scottishnationalistsociety.wordpress.com/</a>\\n</p>\\n\\n<p>\\n\\t \\n</p>\\n\\n<p>\\n\\twelcome to Ironmarch, 88\\n</p>\\n   \n",
       "2017-11-21 01:08:15  \\n<p>\\n\\tВидя ли се в The Independent? :D\\n</p>\\n\\n<p>\\n\\t \\n</p>\\n\\n<p>\\n\\t<a href=\"http://www.independent.co.uk/news/world/americas/charles-manson-death-dead-serial-killer-neo-nazis-resurrect-fascist-movement-cult-family-universal-a8065781.html\" rel=\"external nofollow\">http://www.independent.co.uk/news/world/americas/charles-manson-death-dead-serial-killer-neo-nazis-resurrect-fascist-movement-cult-family-universal-a8065781.html</a>\\n</p>\\n   \n",
       "2017-11-21 04:49:12                                                                                                                                                                                                                                                                                                                                                                <p>\\n\\t/Orthodox/ general and a couple of shitpost servers I have with my Twitter friends\\n</p>   \n",
       "2017-11-21 05:00:38                                                                                                                                                                                                                                                                                                                                                                                                       <p>\\n\\tcan i get in that chess club discord thanks\\n</p>   \n",
       "\n",
       "                                         msg_post_key  msg_author_id  \\\n",
       "msg_date                                                               \n",
       "2011-09-16 05:49:58  3320f7f06c422ef0fb77342724b4fd24              1   \n",
       "2011-09-16 13:54:08  9204e4883321af2275a37138d054a3f1             11   \n",
       "2011-09-16 16:39:59  12fd0309239711d02b39127de3502c51              1   \n",
       "2011-09-16 17:29:01  0658c6f99ac18d90609ea074ae5eefe6             11   \n",
       "2011-09-16 17:32:58  570257864e3cb812eebc2de5e5919080              1   \n",
       "...                                               ...            ...   \n",
       "2017-11-20 22:30:41                                 0          13298   \n",
       "2017-11-21 00:28:09                                 0           9792   \n",
       "2017-11-21 01:08:15                                 0          14702   \n",
       "2017-11-21 04:49:12                                 0          14072   \n",
       "2017-11-21 05:00:38                                 0          13861   \n",
       "\n",
       "                      msg_ip_address  msg_is_first_post  msg_post_length  \n",
       "msg_date                                                                  \n",
       "2011-09-16 05:49:58  178.140.119.217                  1              144  \n",
       "2011-09-16 13:54:08    109.78.212.13                  1              108  \n",
       "2011-09-16 16:39:59  178.140.119.217                  0              220  \n",
       "2011-09-16 17:29:01    109.78.212.13                  0               97  \n",
       "2011-09-16 17:32:58  178.140.119.217                  0              149  \n",
       "...                              ...                ...              ...  \n",
       "2017-11-20 22:30:41   141.101.104.54                  0              324  \n",
       "2017-11-21 00:28:09  141.101.107.205                  1              171  \n",
       "2017-11-21 01:08:15    162.158.34.41                  0              403  \n",
       "2017-11-21 04:49:12   172.68.189.140                  0               85  \n",
       "2017-11-21 05:00:38    162.158.62.46                  1               46  \n",
       "\n",
       "[21715 rows x 9 columns]"
      ]
     },
     "execution_count": 221,
     "metadata": {},
     "output_type": "execute_result"
    }
   ],
   "source": [
    "df"
   ]
  },
  {
   "cell_type": "markdown",
   "metadata": {},
   "source": [
    "### Wende den Vader Sentiment Classifier auf die Meldungen an?"
   ]
  },
  {
   "cell_type": "code",
   "execution_count": 222,
   "metadata": {},
   "outputs": [],
   "source": [
    "sia = SIA()\n",
    "results = []\n",
    "\n",
    "for line in list(df['msg_post']):\n",
    "    pol_score = sia.polarity_scores(line)\n",
    "    pol_score['headline'] = line\n",
    "    results.append(pol_score)\n",
    "pd.set_option('max_colwidth', 320)\n",
    "df_sent = pd.DataFrame(results)\n",
    "df_sent = df_sent.sort_values(by='compound').reset_index()\n",
    "del df_sent['index']\n",
    "df_sent = df_sent.drop_duplicates()"
   ]
  },
  {
   "cell_type": "code",
   "execution_count": 225,
   "metadata": {},
   "outputs": [
    {
     "data": {
      "text/html": [
       "<div>\n",
       "<style scoped>\n",
       "    .dataframe tbody tr th:only-of-type {\n",
       "        vertical-align: middle;\n",
       "    }\n",
       "\n",
       "    .dataframe tbody tr th {\n",
       "        vertical-align: top;\n",
       "    }\n",
       "\n",
       "    .dataframe thead th {\n",
       "        text-align: right;\n",
       "    }\n",
       "</style>\n",
       "<table border=\"1\" class=\"dataframe\">\n",
       "  <thead>\n",
       "    <tr style=\"text-align: right;\">\n",
       "      <th></th>\n",
       "      <th>neg</th>\n",
       "      <th>neu</th>\n",
       "      <th>pos</th>\n",
       "      <th>compound</th>\n",
       "      <th>headline</th>\n",
       "    </tr>\n",
       "  </thead>\n",
       "  <tbody>\n",
       "    <tr>\n",
       "      <th>0</th>\n",
       "      <td>0.116</td>\n",
       "      <td>0.829</td>\n",
       "      <td>0.055</td>\n",
       "      <td>-0.9999</td>\n",
       "      <td>\\n&lt;p&gt;\\n\\tCorrection, Ernst Niekisch.\\n&lt;/p&gt;\\n\\n&lt;p&gt;\\n\\tThere is the worst parts of chapter one\\n&lt;/p&gt;\\n\\n&lt;p&gt;\\n\\t&lt;br /&gt;\\n\\tPág 5: &lt;br /&gt;\\n\\tIn German.&lt;br /&gt;\\n\\t''Wer die Welt beherrschen will, kann nicht in der Bindung einer »Scholle« ruhen. Der Imperator muß über allen Dingen, über die er gebietet, muß auch über dem A...</td>\n",
       "    </tr>\n",
       "    <tr>\n",
       "      <th>1</th>\n",
       "      <td>0.113</td>\n",
       "      <td>0.841</td>\n",
       "      <td>0.045</td>\n",
       "      <td>-0.9998</td>\n",
       "      <td>\\n&lt;p&gt;\\n\\t Is a book, that i'm translating for Iron March... it was wrotted by Ernst Niekisch in German, is about European History and Politics. Its pretty long, but right know i just need to translate just some awfull Parts.  It is not that long, its just that I put the parts in english to help you to make it easie...</td>\n",
       "    </tr>\n",
       "    <tr>\n",
       "      <th>2</th>\n",
       "      <td>0.202</td>\n",
       "      <td>0.679</td>\n",
       "      <td>0.118</td>\n",
       "      <td>-0.9985</td>\n",
       "      <td>\\n&lt;p&gt;&lt;a href=\"&lt;___base_url___&gt;/index.php?/topic/243-posters-central/?p=81363\" rel=\"\"&gt;http://ironmarch.org/index.php?/topic/243-posters-central/?p=81363&lt;/a&gt;&lt;/p&gt;\\n&lt;p&gt; &lt;/p&gt;\\n&lt;p&gt;Here are some of their posters.&lt;/p&gt;\\n&lt;p&gt; &lt;/p&gt;\\n&lt;p&gt;After the war they were handed over to Yugo commies by the British and commies brutally mass...</td>\n",
       "    </tr>\n",
       "    <tr>\n",
       "      <th>3</th>\n",
       "      <td>0.155</td>\n",
       "      <td>0.757</td>\n",
       "      <td>0.088</td>\n",
       "      <td>-0.9985</td>\n",
       "      <td>\\n&lt;p&gt;\\n\\tHere's the conversation we had which should settle this nonsense, it's basically an issue of communicating the point:\\n&lt;/p&gt;\\n\\n&lt;p&gt;\\n\\tZmaj: &lt;span style=\"font-family:Whitney, 'Helvetica Neue', Helvetica, Arial, sans-serif;font-size:15px;font-style:normal;font-weight:normal;letter-spacing:normal;line-height:...</td>\n",
       "    </tr>\n",
       "    <tr>\n",
       "      <th>4</th>\n",
       "      <td>0.171</td>\n",
       "      <td>0.773</td>\n",
       "      <td>0.056</td>\n",
       "      <td>-0.9985</td>\n",
       "      <td>\\n&lt;blockquote class=\"ipsQuote\" data-ipsquote=\"\" data-ipsquote-contentapp=\"core\" data-ipsquote-contentclass=\"core_Messenger_Conversation\" data-ipsquote-contentcommentid=\"25334\" data-ipsquote-contentid=\"5697\" data-ipsquote-contenttype=\"messaging\" data-ipsquote-timestamp=\"1499489161\" data-ipsquote-userid=\"14105\" data-...</td>\n",
       "    </tr>\n",
       "    <tr>\n",
       "      <th>...</th>\n",
       "      <td>...</td>\n",
       "      <td>...</td>\n",
       "      <td>...</td>\n",
       "      <td>...</td>\n",
       "      <td>...</td>\n",
       "    </tr>\n",
       "    <tr>\n",
       "      <th>21709</th>\n",
       "      <td>0.063</td>\n",
       "      <td>0.826</td>\n",
       "      <td>0.111</td>\n",
       "      <td>0.9998</td>\n",
       "      <td>\\n&lt;p&gt;\\n\\tWew lad… between the Christmas holiday, and school preparation, and work-related issues, I had almost zero time I could spend on IronMarch. I hope you understand. But, now I'm back again. And in response to your kind Christmas wish, I guess I could say:\\n&lt;/p&gt;\\n\\n&lt;p&gt;\\n\\t \\n&lt;/p&gt;\\n\\n&lt;p style=\"text-align:cente...</td>\n",
       "    </tr>\n",
       "    <tr>\n",
       "      <th>21712</th>\n",
       "      <td>0.059</td>\n",
       "      <td>0.823</td>\n",
       "      <td>0.118</td>\n",
       "      <td>0.9999</td>\n",
       "      <td>\\n&lt;p&gt;[2012-02-25 19:24:08] [iNFO] Now logging to &amp;lt;file:///home/william/.mozilla/firefox/lr0rxq3q.default/chatzilla/logs/irc.foonetic.net/channels/%23AmericanFascism.2012-02-25.log&amp;gt;.&lt;/p&gt;\\n&lt;p&gt;[2012-02-25 19:24:11] &amp;lt;ProPatriaMori[iM]&amp;gt; Sounds about right to me.&lt;/p&gt;\\n&lt;p&gt;[2012-02-25 19:24:30] &amp;lt;Elegos_[iM]&amp;...</td>\n",
       "    </tr>\n",
       "    <tr>\n",
       "      <th>21713</th>\n",
       "      <td>0.060</td>\n",
       "      <td>0.821</td>\n",
       "      <td>0.119</td>\n",
       "      <td>0.9999</td>\n",
       "      <td>\\n&lt;blockquote class=\"ipsQuote\" data-ipsquote=\"\" data-ipsquote-contentapp=\"core\" data-ipsquote-contentclass=\"core_Messenger_Conversation\" data-ipsquote-contentcommentid=\"21964\" data-ipsquote-contentid=\"5123\" data-ipsquote-contenttype=\"messaging\" data-ipsquote-timestamp=\"1484542385\" data-ipsquote-userid=\"13461\" data-...</td>\n",
       "    </tr>\n",
       "    <tr>\n",
       "      <th>21711</th>\n",
       "      <td>0.086</td>\n",
       "      <td>0.796</td>\n",
       "      <td>0.119</td>\n",
       "      <td>0.9999</td>\n",
       "      <td>\\n&lt;p&gt;\\n\\tMan, I hope you can pardon this extremely long delay. I really do apologize.\\n&lt;/p&gt;\\n\\n&lt;p&gt;\\n\\tThe delay wasn’t without reason though. To be honest, I almost tried thinking of some excuses as to why it took so long, but eventually I decided to just be straight-up frank with you about it: basically, the total...</td>\n",
       "    </tr>\n",
       "    <tr>\n",
       "      <th>21714</th>\n",
       "      <td>0.071</td>\n",
       "      <td>0.812</td>\n",
       "      <td>0.117</td>\n",
       "      <td>1.0000</td>\n",
       "      <td>\\n&lt;p style=\"text-align:center;\"&gt;\\n\\t&lt;strong&gt;&lt;span style=\"font-size:20px;\"&gt;&lt;span&gt;HAHAHA HOLY HEAVENS OF HITLER,&lt;/span&gt;&lt;/span&gt;&lt;/strong&gt;\\n&lt;/p&gt;\\n\\n&lt;p style=\"text-align:center;\"&gt;\\n\\t&lt;strong&gt;&lt;span style=\"font-size:20px;\"&gt;THAT WAS BETTER THAN CHRISTMAS!&lt;/span&gt;&lt;/strong&gt;\\n&lt;/p&gt;\\n\\n&lt;p style=\"text-align:center;\"&gt;\\n\\t&lt;img alt=\"...</td>\n",
       "    </tr>\n",
       "  </tbody>\n",
       "</table>\n",
       "<p>20876 rows × 5 columns</p>\n",
       "</div>"
      ],
      "text/plain": [
       "         neg    neu    pos  compound  \\\n",
       "0      0.116  0.829  0.055   -0.9999   \n",
       "1      0.113  0.841  0.045   -0.9998   \n",
       "2      0.202  0.679  0.118   -0.9985   \n",
       "3      0.155  0.757  0.088   -0.9985   \n",
       "4      0.171  0.773  0.056   -0.9985   \n",
       "...      ...    ...    ...       ...   \n",
       "21709  0.063  0.826  0.111    0.9998   \n",
       "21712  0.059  0.823  0.118    0.9999   \n",
       "21713  0.060  0.821  0.119    0.9999   \n",
       "21711  0.086  0.796  0.119    0.9999   \n",
       "21714  0.071  0.812  0.117    1.0000   \n",
       "\n",
       "                                                                                                                                                                                                                                                                                                                              headline  \n",
       "0      \\n<p>\\n\\tCorrection, Ernst Niekisch.\\n</p>\\n\\n<p>\\n\\tThere is the worst parts of chapter one\\n</p>\\n\\n<p>\\n\\t<br />\\n\\tPág 5: <br />\\n\\tIn German.<br />\\n\\t''Wer die Welt beherrschen will, kann nicht in der Bindung einer »Scholle« ruhen. Der Imperator muß über allen Dingen, über die er gebietet, muß auch über dem A...  \n",
       "1      \\n<p>\\n\\t Is a book, that i'm translating for Iron March... it was wrotted by Ernst Niekisch in German, is about European History and Politics. Its pretty long, but right know i just need to translate just some awfull Parts.  It is not that long, its just that I put the parts in english to help you to make it easie...  \n",
       "2      \\n<p><a href=\"<___base_url___>/index.php?/topic/243-posters-central/?p=81363\" rel=\"\">http://ironmarch.org/index.php?/topic/243-posters-central/?p=81363</a></p>\\n<p> </p>\\n<p>Here are some of their posters.</p>\\n<p> </p>\\n<p>After the war they were handed over to Yugo commies by the British and commies brutally mass...  \n",
       "3      \\n<p>\\n\\tHere's the conversation we had which should settle this nonsense, it's basically an issue of communicating the point:\\n</p>\\n\\n<p>\\n\\tZmaj: <span style=\"font-family:Whitney, 'Helvetica Neue', Helvetica, Arial, sans-serif;font-size:15px;font-style:normal;font-weight:normal;letter-spacing:normal;line-height:...  \n",
       "4      \\n<blockquote class=\"ipsQuote\" data-ipsquote=\"\" data-ipsquote-contentapp=\"core\" data-ipsquote-contentclass=\"core_Messenger_Conversation\" data-ipsquote-contentcommentid=\"25334\" data-ipsquote-contentid=\"5697\" data-ipsquote-contenttype=\"messaging\" data-ipsquote-timestamp=\"1499489161\" data-ipsquote-userid=\"14105\" data-...  \n",
       "...                                                                                                                                                                                                                                                                                                                                ...  \n",
       "21709  \\n<p>\\n\\tWew lad… between the Christmas holiday, and school preparation, and work-related issues, I had almost zero time I could spend on IronMarch. I hope you understand. But, now I'm back again. And in response to your kind Christmas wish, I guess I could say:\\n</p>\\n\\n<p>\\n\\t \\n</p>\\n\\n<p style=\"text-align:cente...  \n",
       "21712  \\n<p>[2012-02-25 19:24:08] [iNFO] Now logging to &lt;file:///home/william/.mozilla/firefox/lr0rxq3q.default/chatzilla/logs/irc.foonetic.net/channels/%23AmericanFascism.2012-02-25.log&gt;.</p>\\n<p>[2012-02-25 19:24:11] &lt;ProPatriaMori[iM]&gt; Sounds about right to me.</p>\\n<p>[2012-02-25 19:24:30] &lt;Elegos_[iM]&...  \n",
       "21713  \\n<blockquote class=\"ipsQuote\" data-ipsquote=\"\" data-ipsquote-contentapp=\"core\" data-ipsquote-contentclass=\"core_Messenger_Conversation\" data-ipsquote-contentcommentid=\"21964\" data-ipsquote-contentid=\"5123\" data-ipsquote-contenttype=\"messaging\" data-ipsquote-timestamp=\"1484542385\" data-ipsquote-userid=\"13461\" data-...  \n",
       "21711  \\n<p>\\n\\tMan, I hope you can pardon this extremely long delay. I really do apologize.\\n</p>\\n\\n<p>\\n\\tThe delay wasn’t without reason though. To be honest, I almost tried thinking of some excuses as to why it took so long, but eventually I decided to just be straight-up frank with you about it: basically, the total...  \n",
       "21714  \\n<p style=\"text-align:center;\">\\n\\t<strong><span style=\"font-size:20px;\"><span>HAHAHA HOLY HEAVENS OF HITLER,</span></span></strong>\\n</p>\\n\\n<p style=\"text-align:center;\">\\n\\t<strong><span style=\"font-size:20px;\">THAT WAS BETTER THAN CHRISTMAS!</span></strong>\\n</p>\\n\\n<p style=\"text-align:center;\">\\n\\t<img alt=\"...  \n",
       "\n",
       "[20876 rows x 5 columns]"
      ]
     },
     "execution_count": 225,
     "metadata": {},
     "output_type": "execute_result"
    }
   ],
   "source": [
    "df_sent.sort_values(by='compound')"
   ]
  },
  {
   "cell_type": "code",
   "execution_count": 226,
   "metadata": {},
   "outputs": [
    {
     "data": {
      "text/plain": [
       "<matplotlib.axes._subplots.AxesSubplot at 0x11c3a4518>"
      ]
     },
     "execution_count": 226,
     "metadata": {},
     "output_type": "execute_result"
    },
    {
     "data": {
      "image/png": "[encoded data removed]",
      "text/plain": [
       "<Figure size 432x288 with 1 Axes>"
      ]
     },
     "metadata": {
      "needs_background": "light"
     },
     "output_type": "display_data"
    }
   ],
   "source": [
    "#Erstaunlicherweise sind die meiten Meldungen, die grosse Merheit, positiv. \n",
    "#Viele fallen in die Kategorie leicht negativ. GAnz eindeutig negativ sind nur\n",
    "#rund 2000, also 10 Pozent. Als nächstes in die Meldungen reingehen, um die \n",
    "#Kategorisierung zu verstehen. \n",
    "df_sent['compound'].hist()"
   ]
  },
  {
   "cell_type": "code",
   "execution_count": null,
   "metadata": {},
   "outputs": [],
   "source": []
  },
  {
   "cell_type": "code",
   "execution_count": null,
   "metadata": {},
   "outputs": [],
   "source": []
  },
  {
   "cell_type": "code",
   "execution_count": null,
   "metadata": {},
   "outputs": [],
   "source": []
  },
  {
   "cell_type": "code",
   "execution_count": null,
   "metadata": {},
   "outputs": [],
   "source": []
  }
 ],
 "metadata": {
  "kernelspec": {
   "display_name": "Python 3",
   "language": "python",
   "name": "python3"
  },
  "language_info": {
   "codemirror_mode": {
    "name": "ipython",
    "version": 3
   },
   "file_extension": ".py",
   "mimetype": "text/x-python",
   "name": "python",
   "nbconvert_exporter": "python",
   "pygments_lexer": "ipython3",
   "version": "3.7.3"
  }
 },
 "nbformat": 4,
 "nbformat_minor": 2
}
