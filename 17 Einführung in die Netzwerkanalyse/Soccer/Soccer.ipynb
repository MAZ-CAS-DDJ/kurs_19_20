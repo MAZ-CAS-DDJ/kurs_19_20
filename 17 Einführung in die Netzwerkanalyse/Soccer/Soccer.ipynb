{
 "cells": [
  {
   "cell_type": "markdown",
   "metadata": {},
   "source": [
    "# Fußball als Netzwerk daten analysieren\n",
    "\n",
    "- Fußball ist eines der am besten getrackten Spiele überhaupt. Siehe https://statsbomb.com/statsbombiq/\n",
    "- Ich habe einen kleinen freien Datensatz gefunden https://github.com/statsbomb/open-data\n",
    "- Auch interessant https://spielverlagerung.com/bundesliga/"
   ]
  },
  {
   "cell_type": "code",
   "execution_count": 1,
   "metadata": {},
   "outputs": [],
   "source": [
    "import json\n",
    "import networkx as nx\n",
    "import re"
   ]
  },
  {
   "cell_type": "markdown",
   "metadata": {},
   "source": [
    "## Daten importieren"
   ]
  },
  {
   "cell_type": "code",
   "execution_count": 2,
   "metadata": {},
   "outputs": [],
   "source": [
    "with open('19714.json') as f:\n",
    "    data = json.load(f)"
   ]
  },
  {
   "cell_type": "markdown",
   "metadata": {},
   "source": [
    "## Wie sehen die Daten eigentlich aus?"
   ]
  },
  {
   "cell_type": "code",
   "execution_count": 5,
   "metadata": {},
   "outputs": [
    {
     "data": {
      "text/plain": [
       "{u'duration': 1.752473,\n",
       " u'id': u'c2676078-a261-4f1a-bb66-bc8c3b71b310',\n",
       " u'index': 124,\n",
       " u'location': [10.0, 57.0],\n",
       " u'minute': 3,\n",
       " u'off_camera': False,\n",
       " u'pass': {u'angle': 0.16514868,\n",
       "  u'body_part': {u'id': 40, u'name': u'Right Foot'},\n",
       "  u'end_location': [34.0, 61.0],\n",
       "  u'height': {u'id': 1, u'name': u'Ground Pass'},\n",
       "  u'length': 24.33105,\n",
       "  u'outcome': {u'id': 9, u'name': u'Incomplete'}},\n",
       " u'period': 1,\n",
       " u'play_pattern': {u'id': 4, u'name': u'From Throw In'},\n",
       " u'player': {u'id': 17524, u'name': u'Jennifer Beattie'},\n",
       " u'position': {u'id': 5, u'name': u'Left Center Back'},\n",
       " u'possession': 7,\n",
       " u'possession_team': {u'id': 746, u'name': u'Manchester City WFC'},\n",
       " u'related_events': [u'1f523ab1-f91c-4bda-be6c-c2bfa431027a'],\n",
       " u'second': 17,\n",
       " u'team': {u'id': 746, u'name': u'Manchester City WFC'},\n",
       " u'timestamp': u'00:03:17.166',\n",
       " u'type': {u'id': 30, u'name': u'Pass'}}"
      ]
     },
     "execution_count": 5,
     "metadata": {},
     "output_type": "execute_result"
    }
   ],
   "source": [
    "data[123]"
   ]
  },
  {
   "cell_type": "markdown",
   "metadata": {},
   "source": [
    "# Spieler  \n",
    "- Sie sind unsere Knoten"
   ]
  },
  {
   "cell_type": "markdown",
   "metadata": {},
   "source": [
    "### Spieler Team 1"
   ]
  },
  {
   "cell_type": "code",
   "execution_count": 3,
   "metadata": {},
   "outputs": [
    {
     "data": {
      "text/plain": [
       "{u'Bethany England': u'Right Wing',\n",
       " 'Drew Spence': 'Einwechsel',\n",
       " 'Erin Cuthbert': 'Einwechsel',\n",
       " 'Francesca Kirby': 'Einwechsel',\n",
       " u'Jessica Carter': u'Right Back',\n",
       " u'Jonna Andersson': u'Left Back',\n",
       " u'Karen Julia Carney': u'Left Wing',\n",
       " u'Magdalena Ericsson': u'Left Center Back',\n",
       " u'Maren N\\xe6vdal Mjelde': u'Left Defensive Midfield',\n",
       " u'Millie Bright': u'Right Center Back',\n",
       " u'Ramona Bachmann': u'Center Forward',\n",
       " u'Rut Hedvig Lindahl': u'Goalkeeper',\n",
       " u'So-yun Ji': u'Center Attacking Midfield',\n",
       " u'Sophie Ingle': u'Right Defensive Midfield'}"
      ]
     },
     "execution_count": 3,
     "metadata": {},
     "output_type": "execute_result"
    }
   ],
   "source": [
    "players1 = {}\n",
    "for player in data[0][\"tactics\"][\"lineup\"]:\n",
    "    players1[player[\"player\"][\"name\"]] = player[\"position\"][\"name\"]\n",
    "players1[\"Drew Spence\"] = \"Einwechsel\"\n",
    "players1['Francesca Kirby'] = \"Einwechsel\"\n",
    "players1[\"Erin Cuthbert\"] = \"Einwechsel\"\n",
    "players1"
   ]
  },
  {
   "cell_type": "markdown",
   "metadata": {},
   "source": [
    "### Spieler Team 2"
   ]
  },
  {
   "cell_type": "code",
   "execution_count": 4,
   "metadata": {},
   "outputs": [
    {
     "data": {
      "text/plain": [
       "{u'Abbie McManus': u'Left Back',\n",
       " u'Gemma Bonner': u'Right Back',\n",
       " u'Georgia Stanway': u'Left Center Midfield',\n",
       " 'Janine Beckie': 'Einwechsel',\n",
       " u'Jennifer Beattie': u'Left Center Back',\n",
       " u'Jill Louise Scott': u'Right Center Midfield',\n",
       " u'Karen Louise Bardsley': u'Goalkeeper',\n",
       " u'Keira Walsh': u'Center Midfield',\n",
       " u'Lauren Hemp': u'Right Center Forward',\n",
       " u'Melissa Lawley': u'Left Center Forward',\n",
       " 'Nadia Nadim': 'Einwechsel',\n",
       " u'Nikita Parris': u'Center Forward',\n",
       " u'Stephanie Houghton': u'Right Center Back'}"
      ]
     },
     "execution_count": 4,
     "metadata": {},
     "output_type": "execute_result"
    }
   ],
   "source": [
    "players2 = {}\n",
    "for player in data[1][\"tactics\"][\"lineup\"]:\n",
    "    players2[player[\"player\"][\"name\"]] = player[\"position\"][\"name\"]\n",
    "players2['Nadia Nadim']  = \"Einwechsel\"\n",
    "players2['Janine Beckie'] = \"Einwechsel\"\n",
    "players2"
   ]
  },
  {
   "cell_type": "markdown",
   "metadata": {},
   "source": [
    "## Einwechselspieler"
   ]
  },
  {
   "cell_type": "code",
   "execution_count": 10,
   "metadata": {},
   "outputs": [
    {
     "data": {
      "text/plain": [
       "[]"
      ]
     },
     "execution_count": 10,
     "metadata": {},
     "output_type": "execute_result"
    }
   ],
   "source": [
    "list(set(players)-set(players1)-set(players2))"
   ]
  },
  {
   "cell_type": "markdown",
   "metadata": {},
   "source": [
    "## Pässe\n",
    "- Sie sind unsere Kanten"
   ]
  },
  {
   "cell_type": "code",
   "execution_count": 6,
   "metadata": {},
   "outputs": [],
   "source": [
    "out = []\n",
    "for r in data:\n",
    "    if \"pass\" in r.keys():\n",
    "        out.append(r)"
   ]
  },
  {
   "cell_type": "code",
   "execution_count": 7,
   "metadata": {},
   "outputs": [
    {
     "data": {
      "text/plain": [
       "947"
      ]
     },
     "execution_count": 7,
     "metadata": {},
     "output_type": "execute_result"
    }
   ],
   "source": [
    "len(out)"
   ]
  },
  {
   "cell_type": "code",
   "execution_count": 8,
   "metadata": {},
   "outputs": [
    {
     "data": {
      "text/plain": [
       "{u'duration': 2.184795,\n",
       " u'id': u'b26f20e7-67ee-4f4f-8f4f-99741fd63039',\n",
       " u'index': 362,\n",
       " u'location': [24.0, 21.0],\n",
       " u'minute': 11,\n",
       " u'off_camera': False,\n",
       " u'pass': {u'angle': 2.329174,\n",
       "  u'body_part': {u'id': 38, u'name': u'Left Foot'},\n",
       "  u'end_location': [6.0, 40.0],\n",
       "  u'height': {u'id': 1, u'name': u'Ground Pass'},\n",
       "  u'length': 26.172504,\n",
       "  u'recipient': {u'id': 4640, u'name': u'Rut Hedvig Lindahl'}},\n",
       " u'period': 1,\n",
       " u'play_pattern': {u'id': 4, u'name': u'From Throw In'},\n",
       " u'player': {u'id': 4633, u'name': u'Magdalena Ericsson'},\n",
       " u'position': {u'id': 5, u'name': u'Left Center Back'},\n",
       " u'possession': 23,\n",
       " u'possession_team': {u'id': 971, u'name': u'Chelsea LFC'},\n",
       " u'related_events': [u'6b4d4fed-a68b-4821-bec4-d5c273c740b1'],\n",
       " u'second': 35,\n",
       " u'team': {u'id': 971, u'name': u'Chelsea LFC'},\n",
       " u'timestamp': u'00:11:35.842',\n",
       " u'type': {u'id': 30, u'name': u'Pass'}}"
      ]
     },
     "execution_count": 8,
     "metadata": {},
     "output_type": "execute_result"
    }
   ],
   "source": [
    "out[123]"
   ]
  },
  {
   "cell_type": "markdown",
   "metadata": {},
   "source": [
    "## Pässe \"zählen\""
   ]
  },
  {
   "cell_type": "code",
   "execution_count": 13,
   "metadata": {},
   "outputs": [],
   "source": [
    "r = {}\n",
    "players = []\n",
    "for row in out:\n",
    "    if \"recipient\" in row[\"pass\"].keys():\n",
    "        players.append(row[\"player\"][\"name\"])\n",
    "        players.append(row[\"pass\"][\"recipient\"][\"name\"])\n",
    "        from_player = row[\"player\"][\"name\"]\n",
    "        to_player = row[\"pass\"][\"recipient\"][\"name\"]\n",
    "        if from_player+\",\"+to_player in r:\n",
    "            r[from_player+\",\"+to_player] = r[from_player+\",\"+to_player] + 1\n",
    "        else:\n",
    "            r[from_player+\",\"+to_player] = 1\n",
    "#players"
   ]
  },
  {
   "cell_type": "markdown",
   "metadata": {},
   "source": [
    "# Netzwerkdaten erzeugen"
   ]
  },
  {
   "cell_type": "code",
   "execution_count": 158,
   "metadata": {},
   "outputs": [],
   "source": [
    "G  = nx.DiGraph(name=\"team1\")\n",
    "G2 = nx.DiGraph(name=\"team2\")\n",
    "\n",
    "for item in list(set(players)):\n",
    "    item_clean = re.sub(r\"[^A-Za-z0-9]+\", '',item)\n",
    "    if item in players1:\n",
    "        G.add_node(item_clean, size=1,label=item+\" (\" + players1[item] + \")\", position=players1[item])\n",
    "    elif item in players2:\n",
    "        G2.add_node(item_clean, size=1,label=item+\" (\" + players2[item] + \")\", position=players2[item])\n",
    "j = 0\n",
    "i = 0\n",
    "for item,v in r.items():\n",
    "    source = re.sub(r\"[^A-Za-z0-9]+\", '',item.split(\",\")[0])\n",
    "    target = re.sub(r\"[^A-Za-z0-9]+\", '',item.split(\",\")[1])\n",
    "    if item.split(\",\")[0] in players1:\n",
    "        G.add_edge(source,target,weight=v) \n",
    "    elif item.split(\",\")[1] in players2:\n",
    "        G2.add_edge(source,target,weight=v)\n",
    "    else:\n",
    "        print(item)\n",
    "\n",
    "    \n",
    "nx.write_gexf(G,\"Team1.gexf\")\n",
    "nx.write_gexf(G2,\"Team2.gexf\")"
   ]
  }
 ],
 "metadata": {
  "kernelspec": {
   "display_name": "Python 3",
   "language": "python",
   "name": "python3"
  },
  "language_info": {
   "codemirror_mode": {
    "name": "ipython",
    "version": 2
   },
   "file_extension": ".py",
   "mimetype": "text/x-python",
   "name": "python",
   "nbconvert_exporter": "python",
   "pygments_lexer": "ipython2",
   "version": "2.7.10"
  }
 },
 "nbformat": 4,
 "nbformat_minor": 2
}
