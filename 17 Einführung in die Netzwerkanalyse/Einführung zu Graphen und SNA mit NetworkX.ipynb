{
 "cells": [
  {
   "cell_type": "markdown",
   "metadata": {},
   "source": [
    "# Netzwerke und Netzwerkanalyse mit Python und NetworkX\n",
    "\n",
    "- Mit NetworkX kann man vor allem gut Netzwerkdaten erzeugen. \n",
    "- Mit NetworkX kann man auch SNA betreiben. \n",
    "- Man kann aber wie wir auch morgen sehen werden für vieles Gephi nutzen. \n",
    "- SNA lässt sich für viele verschiedene Anwendungsszenarien einsetzen. \n",
    "- Doch dafür muss man wissen was es ist und was es nicht ist. Deswegen machen wir heute eine kleine Intro dazu. \n",
    "\n",
    "\n",
    "- Installieren:\n",
    "- ```pip install networkx```\n",
    "- ```pip install seaborn``` # visualisierung"
   ]
  },
  {
   "cell_type": "code",
   "execution_count": 1,
   "metadata": {},
   "outputs": [
    {
     "name": "stdout",
     "output_type": "stream",
     "text": [
      "Requirement already satisfied: networkx in /usr/local/lib/python3.7/site-packages (2.3)\n",
      "Requirement already satisfied: decorator>=4.3.0 in /usr/local/lib/python3.7/site-packages (from networkx) (4.3.0)\n",
      "\u001b[33mYou are using pip version 19.0.2, however version 19.3.1 is available.\n",
      "You should consider upgrading via the 'pip install --upgrade pip' command.\u001b[0m\n"
     ]
    }
   ],
   "source": [
    "!pip install networkx"
   ]
  },
  {
   "cell_type": "markdown",
   "metadata": {},
   "source": [
    "## Agenda\n",
    "\n",
    "1. Eine Mini Einführung zu Graphen\n",
    "2. Graphen erstellen und manipulieren mit NetworkX\n",
    "    * Daten Strukturen: Graphs, DiGraphs, MultiGraphs and MultiDiGraphs.\n",
    "    * Knoten und Kanten hinzufügen\n",
    "    * Attribute für Knoten und Kanten\n",
    "    * Graphen generatoren. \n",
    "    * Graphen visualisieren mit Matplotlib. \n",
    "    * Übliche Formate zum Lesen und Schreiben von Graphen. \n",
    "3. Netzwerkanalyse (SNA)\n",
    "    * Einfachste Konzepte: Degree.\n",
    "    * Distanzmetriken: paths and shortest paths.\n",
    "    * Verschiedene Metriken für Zentralität.\n"
   ]
  },
  {
   "cell_type": "markdown",
   "metadata": {},
   "source": [
    "## Eine mini Einleitung zu Graphen"
   ]
  },
  {
   "cell_type": "markdown",
   "metadata": {},
   "source": [
    "![1](img/1.png)\n",
    "![1](img/2.png)\n",
    "![1](img/3.png)\n",
    "![1](img/4.png)\n",
    "![1](img/5.png)\n",
    "![1](img/6.png)\n",
    "![1](img/7.png)\n",
    "![1](img/8.png)\n",
    "![1](img/9.png)\n",
    "![1](img/10.png)\n",
    "![1](img/11.png)\n",
    "![1](img/12.png)"
   ]
  },
  {
   "cell_type": "markdown",
   "metadata": {},
   "source": [
    "Soziale Netzwerkanalyse ist der analytische Versuch soziale Strukuren und Phänmente in Form von Graphen auszudrücken. Der Ansatz ist relational, d.h. man fokussiert sich nicht auf die Akteure sondern auf ihre Beziehungen untereinander. \n",
    "\n",
    "Die untersuchten Netzwerke bestehen immer aus Knoten und Kanten. Knoten können sein: individuelle Personen, Firmen, Länder, Twitter-Accounts... Kanten können sein: Interaktionen, Geldflüsse, Emails, Telefonate, Handelsbeziehungen, etc...\n",
    "\n",
    "Wir werden Graph und Netzwerk synonym gebrauchen. \n",
    "\n",
    "* Ein **Graph**   besteht aus einem Satz Knoten und und Kanten, die jeweils die Knoten verbinden. Die Größe des Graphes ist die Anzahl seiner Kanten. Zwei Knoten sind benachbart wenn sie durch eine Kante verbunden sind. \n",
    "\n",
    "\n",
    "* Der **küzreste Pfad** zwischen zwei Knoten ist der Pfad mit der minimalen Anzahl an Kanten. \n",
    "\n",
    "\n",
    "* Die **Entfernung** zwischen zwei Knoten ist die länge des kürzesten Pfades. \n",
    "\n",
    "\n",
    "* Der **Durchmesser** eines Graphen ist dir längste kürzeste Pfad zwischen zwei Knoten. \n",
    "\n",
    "\n",
    "* Die **Dichte** eines Graphen misst wie viele Kanten im Verhältniss zur maximal möglichen Anzahl aller Knoten im Graphen vorhanden sind. \n",
    "\n",
    "\n",
    "* Der **Grad** eines Knotens wird durch die Anzahl der Kanten bestimmt die mit ihm verbunden sind. "
   ]
  },
  {
   "cell_type": "markdown",
   "metadata": {},
   "source": [
    "## Graphen erstellen mit NetworkX\n",
    "\n",
    "NetworkX ist ein Paket für die Erstellung, Manipulation und Analyse von komplexen Netzwerken. \n"
   ]
  },
  {
   "cell_type": "code",
   "execution_count": 2,
   "metadata": {},
   "outputs": [
    {
     "name": "stdout",
     "output_type": "stream",
     "text": [
      "NetworkX version: 2.3\n"
     ]
    }
   ],
   "source": [
    "import warnings\n",
    "warnings.filterwarnings('ignore')\n",
    "\n",
    "import networkx as nx\n",
    "import matplotlib.pyplot as plt\n",
    "%matplotlib inline\n",
    "print('NetworkX version: {}'.format(nx.__version__))"
   ]
  },
  {
   "cell_type": "markdown",
   "metadata": {},
   "source": [
    "### Daten Strukturen: Graphen,DiGraphs, MultiGraphs und MultiDiGraphs\n",
    "\n",
    "* **Graph**: Undirektionaler Graph # z.B. Facebook\n",
    "\n",
    "* **DiGraph**: Direktionaler Graph # z.B. Twitter\n",
    "\n",
    "* **MultiGraph**: Unidirektionaler Graph mit mehreren Kanten # z.B. Freundschaften und Sex zwischen Personen\n",
    "\n",
    "* **MultiDiGraph**: Direktionaler Graph mit mehrern Kanten # z.B. Emails und Whatsapp Nachrichten zwischen Personen"
   ]
  },
  {
   "cell_type": "code",
   "execution_count": 3,
   "metadata": {},
   "outputs": [],
   "source": [
    "G = nx.Graph()\n",
    "D = nx.DiGraph()\n",
    "MG = nx.MultiGraph()\n",
    "MDG = nx.MultiDiGraph()"
   ]
  },
  {
   "cell_type": "markdown",
   "metadata": {},
   "source": [
    "#### Beispiel eines einfachen Graphen"
   ]
  },
  {
   "cell_type": "code",
   "execution_count": 6,
   "metadata": {},
   "outputs": [
    {
     "data": {
      "image/png": "[encoded data removed]",
      "text/plain": [
       "<Figure size 432x288 with 1 Axes>"
      ]
     },
     "metadata": {},
     "output_type": "display_data"
    }
   ],
   "source": [
    "G = nx.Graph()\n",
    "G.add_edges_from([('A', 'B'), ('A', 'C'), ('B', 'C')])\n",
    "nx.draw(G, node_size=800, node_color='white', with_labels=True)"
   ]
  },
  {
   "cell_type": "markdown",
   "metadata": {},
   "source": [
    "Es gibt drei Arten Graphen zu darzustellen. Als:\n",
    "\n",
    "**Adjacency Matrix** A $n x n$ matrix:\n",
    "\n",
    "        0  1  1        G = [[0, 1, 1],\n",
    "        1  0  1             [1, 0, 1],\n",
    "        1  1  0             [1, 1, 0]]\n",
    "\n",
    "Hier sind in jeder Reihe und Spalte jeweils die Personen. \n",
    "\n",
    "**Adjacency List** A list of neighbors:\n",
    "\n",
    "        A: B, C        G = {'A': ['B', 'C'],\n",
    "        B: A, C             'B': ['A', 'C'],\n",
    "        C: A, B             'C': ['A', 'B']} \n",
    "\n",
    "Hier speichert man pro Person die Kanten ab. \n",
    "\n",
    "**Edge List** A list of edges:\n",
    "\n",
    "        A B            G = [['A', 'B'],\n",
    "        A C                 ['A', 'C'],\n",
    "        B C                 ['B', 'C']]\n",
    "\n",
    "Hier speichert man nur die Kanten ab und folgert so drauss dass Knoten existieren müssen. \n",
    "\n",
    "Network X speichert Graphen als Adjecency Listen ab, das ist schnell und recht leichtgewichtig. \n",
    "\n",
    "Wir können z.B. solche einfachen Sachen machen:\n",
    "\n",
    "* **n in G** um zu schauen ob Knoten n sich im Graphen befindet\n",
    "* **for n in G** über alle Knoten loopen\n",
    "* **G[n]** alle Nachbarn von n holen \n",
    "* **len(G)** die Anzahl der Knoten in G holen \n",
    "\n",
    "Im Grunde funktioniert es so ein bisschen wie ein Dictionairy. "
   ]
  },
  {
   "cell_type": "code",
   "execution_count": 7,
   "metadata": {},
   "outputs": [
    {
     "name": "stdout",
     "output_type": "stream",
     "text": [
      "{'A': {'B': {}, 'C': {}}, 'B': {'A': {}, 'C': {}}, 'C': {'A': {}, 'B': {}}}\n"
     ]
    }
   ],
   "source": [
    "print(G.adj)"
   ]
  },
  {
   "cell_type": "code",
   "execution_count": 8,
   "metadata": {},
   "outputs": [
    {
     "data": {
      "text/plain": [
       "True"
      ]
     },
     "execution_count": 8,
     "metadata": {},
     "output_type": "execute_result"
    }
   ],
   "source": [
    "'A' in G"
   ]
  },
  {
   "cell_type": "code",
   "execution_count": 9,
   "metadata": {},
   "outputs": [
    {
     "name": "stdout",
     "output_type": "stream",
     "text": [
      "A\n",
      "B\n",
      "C\n"
     ]
    }
   ],
   "source": [
    "for n in G:\n",
    "    print(n)"
   ]
  },
  {
   "cell_type": "code",
   "execution_count": 10,
   "metadata": {},
   "outputs": [
    {
     "data": {
      "text/plain": [
       "AtlasView({'B': {}, 'C': {}})"
      ]
     },
     "execution_count": 10,
     "metadata": {},
     "output_type": "execute_result"
    }
   ],
   "source": [
    "G['A']"
   ]
  },
  {
   "cell_type": "code",
   "execution_count": 11,
   "metadata": {},
   "outputs": [
    {
     "data": {
      "text/plain": [
       "3"
      ]
     },
     "execution_count": 11,
     "metadata": {},
     "output_type": "execute_result"
    }
   ],
   "source": [
    "len(G)"
   ]
  },
  {
   "cell_type": "markdown",
   "metadata": {
    "collapsed": true
   },
   "source": [
    "### Graphen erstellen und Knoten und Kanten hinzufügen\n",
    "\n",
    "Einen Graphen kann man auf zwei Weisen erstellen:\n",
    "\n",
    "* Knoten hinzufügen mit: \n",
    "    - **G.add_node** : Einen Knoten hinzufügen\n",
    "    - **G.add_nodes_from** : Gleich mehrere Knoten hinzufügen\n",
    "* Kanten hinzufügen mit: \n",
    "    - **G.add_edge**: Eine Kante hinzufügen \n",
    "    - **G.add_edges_from** : Gleich mehrere Kanten hinzufügen\n"
   ]
  },
  {
   "cell_type": "code",
   "execution_count": 12,
   "metadata": {},
   "outputs": [],
   "source": [
    "# Create an undirected Graph\n",
    "G = nx.Graph()\n",
    "# Einen Knoten\n",
    "G.add_node(1)  \n",
    "# Mehrere Knoten\n",
    "G.add_nodes_from([2, 3])"
   ]
  },
  {
   "cell_type": "markdown",
   "metadata": {},
   "source": [
    "Ein Graph kann auch durch das hinzufügen von Kanten erstellt werden. \n",
    "\n",
    "Falls die Kante schon existiert gibt es keinen Fehler. \n",
    "\n",
    "Falls die Knoten die zwischen denen die Kante exisiteren soll nicht existieren werden sie automatisch hinzugefügt. "
   ]
  },
  {
   "cell_type": "code",
   "execution_count": 13,
   "metadata": {},
   "outputs": [],
   "source": [
    "# Eine Kante\n",
    "G.add_edge(1, 2)\n",
    "# Mehrere Kanten\n",
    "G.add_edges_from([(1, 2), (1, 3)])"
   ]
  },
  {
   "cell_type": "markdown",
   "metadata": {},
   "source": [
    "Genau gleich kann man auch Knoten und Kanten entfernen. \n",
    "\n",
    "* Removing nodes with:\n",
    "    - **G.remove_node** : Einen Knoten \n",
    "    - **G.remove_nodes_from** : Mehrere Knoten \n",
    "* Adding edges with:\n",
    "    - **G.remove_edge**: Eine Kante \n",
    "    - **G.remove_edges_from** : Mehrere Kanten\n"
   ]
  },
  {
   "cell_type": "markdown",
   "metadata": {},
   "source": [
    "### Attribute für Graphen, Knoten und Kanten \n",
    "Ein Graph, Knoten und Kanten können auch Attribute haben. So ähnlich wie ein Dict. "
   ]
  },
  {
   "cell_type": "code",
   "execution_count": 47,
   "metadata": {},
   "outputs": [
    {
     "ename": "AttributeError",
     "evalue": "'list' object has no attribute 'edges'",
     "output_type": "error",
     "traceback": [
      "\u001b[0;31m---------------------------------------------------------------------------\u001b[0m",
      "\u001b[0;31mAttributeError\u001b[0m                            Traceback (most recent call last)",
      "\u001b[0;32m<ipython-input-47-17c1402afb94>\u001b[0m in \u001b[0;36m<module>\u001b[0;34m\u001b[0m\n\u001b[1;32m      1\u001b[0m \u001b[0mG\u001b[0m \u001b[0;34m=\u001b[0m \u001b[0;34m[\u001b[0m\u001b[0;34m(\u001b[0m\u001b[0;34m'A'\u001b[0m\u001b[0;34m,\u001b[0m \u001b[0;34m'B'\u001b[0m\u001b[0;34m)\u001b[0m\u001b[0;34m,\u001b[0m\u001b[0;34m(\u001b[0m\u001b[0;34m'A'\u001b[0m\u001b[0;34m,\u001b[0m \u001b[0;34m'C'\u001b[0m\u001b[0;34m)\u001b[0m\u001b[0;34m,\u001b[0m\u001b[0;34m(\u001b[0m\u001b[0;34m'B'\u001b[0m\u001b[0;34m,\u001b[0m \u001b[0;34m'C'\u001b[0m\u001b[0;34m)\u001b[0m\u001b[0;34m]\u001b[0m\u001b[0;34m\u001b[0m\u001b[0;34m\u001b[0m\u001b[0m\n\u001b[0;32m----> 2\u001b[0;31m \u001b[0mnx\u001b[0m\u001b[0;34m.\u001b[0m\u001b[0mdraw\u001b[0m\u001b[0;34m(\u001b[0m\u001b[0mG\u001b[0m\u001b[0;34m,\u001b[0m \u001b[0mnode_size\u001b[0m\u001b[0;34m=\u001b[0m\u001b[0;36m800\u001b[0m\u001b[0;34m,\u001b[0m \u001b[0mnode_color\u001b[0m\u001b[0;34m=\u001b[0m\u001b[0;34m'red'\u001b[0m\u001b[0;34m,\u001b[0m \u001b[0mwith_labels\u001b[0m\u001b[0;34m=\u001b[0m\u001b[0;32mTrue\u001b[0m\u001b[0;34m)\u001b[0m\u001b[0;34m\u001b[0m\u001b[0;34m\u001b[0m\u001b[0m\n\u001b[0m",
      "\u001b[0;32m/usr/local/lib/python3.7/site-packages/networkx/drawing/nx_pylab.py\u001b[0m in \u001b[0;36mdraw\u001b[0;34m(G, pos, ax, **kwds)\u001b[0m\n\u001b[1;32m    126\u001b[0m \u001b[0;34m\u001b[0m\u001b[0m\n\u001b[1;32m    127\u001b[0m     \u001b[0;32mtry\u001b[0m\u001b[0;34m:\u001b[0m\u001b[0;34m\u001b[0m\u001b[0;34m\u001b[0m\u001b[0m\n\u001b[0;32m--> 128\u001b[0;31m         \u001b[0mdraw_networkx\u001b[0m\u001b[0;34m(\u001b[0m\u001b[0mG\u001b[0m\u001b[0;34m,\u001b[0m \u001b[0mpos\u001b[0m\u001b[0;34m=\u001b[0m\u001b[0mpos\u001b[0m\u001b[0;34m,\u001b[0m \u001b[0max\u001b[0m\u001b[0;34m=\u001b[0m\u001b[0max\u001b[0m\u001b[0;34m,\u001b[0m \u001b[0;34m**\u001b[0m\u001b[0mkwds\u001b[0m\u001b[0;34m)\u001b[0m\u001b[0;34m\u001b[0m\u001b[0;34m\u001b[0m\u001b[0m\n\u001b[0m\u001b[1;32m    129\u001b[0m         \u001b[0max\u001b[0m\u001b[0;34m.\u001b[0m\u001b[0mset_axis_off\u001b[0m\u001b[0;34m(\u001b[0m\u001b[0;34m)\u001b[0m\u001b[0;34m\u001b[0m\u001b[0;34m\u001b[0m\u001b[0m\n\u001b[1;32m    130\u001b[0m         \u001b[0mplt\u001b[0m\u001b[0;34m.\u001b[0m\u001b[0mdraw_if_interactive\u001b[0m\u001b[0;34m(\u001b[0m\u001b[0;34m)\u001b[0m\u001b[0;34m\u001b[0m\u001b[0;34m\u001b[0m\u001b[0m\n",
      "\u001b[0;32m/usr/local/lib/python3.7/site-packages/networkx/drawing/nx_pylab.py\u001b[0m in \u001b[0;36mdraw_networkx\u001b[0;34m(G, pos, arrows, with_labels, **kwds)\u001b[0m\n\u001b[1;32m    278\u001b[0m \u001b[0;34m\u001b[0m\u001b[0m\n\u001b[1;32m    279\u001b[0m     \u001b[0mnode_collection\u001b[0m \u001b[0;34m=\u001b[0m \u001b[0mdraw_networkx_nodes\u001b[0m\u001b[0;34m(\u001b[0m\u001b[0mG\u001b[0m\u001b[0;34m,\u001b[0m \u001b[0mpos\u001b[0m\u001b[0;34m,\u001b[0m \u001b[0;34m**\u001b[0m\u001b[0mkwds\u001b[0m\u001b[0;34m)\u001b[0m\u001b[0;34m\u001b[0m\u001b[0;34m\u001b[0m\u001b[0m\n\u001b[0;32m--> 280\u001b[0;31m     \u001b[0medge_collection\u001b[0m \u001b[0;34m=\u001b[0m \u001b[0mdraw_networkx_edges\u001b[0m\u001b[0;34m(\u001b[0m\u001b[0mG\u001b[0m\u001b[0;34m,\u001b[0m \u001b[0mpos\u001b[0m\u001b[0;34m,\u001b[0m \u001b[0marrows\u001b[0m\u001b[0;34m=\u001b[0m\u001b[0marrows\u001b[0m\u001b[0;34m,\u001b[0m \u001b[0;34m**\u001b[0m\u001b[0mkwds\u001b[0m\u001b[0;34m)\u001b[0m\u001b[0;34m\u001b[0m\u001b[0;34m\u001b[0m\u001b[0m\n\u001b[0m\u001b[1;32m    281\u001b[0m     \u001b[0;32mif\u001b[0m \u001b[0mwith_labels\u001b[0m\u001b[0;34m:\u001b[0m\u001b[0;34m\u001b[0m\u001b[0;34m\u001b[0m\u001b[0m\n\u001b[1;32m    282\u001b[0m         \u001b[0mdraw_networkx_labels\u001b[0m\u001b[0;34m(\u001b[0m\u001b[0mG\u001b[0m\u001b[0;34m,\u001b[0m \u001b[0mpos\u001b[0m\u001b[0;34m,\u001b[0m \u001b[0;34m**\u001b[0m\u001b[0mkwds\u001b[0m\u001b[0;34m)\u001b[0m\u001b[0;34m\u001b[0m\u001b[0;34m\u001b[0m\u001b[0m\n",
      "\u001b[0;32m/usr/local/lib/python3.7/site-packages/networkx/drawing/nx_pylab.py\u001b[0m in \u001b[0;36mdraw_networkx_edges\u001b[0;34m(G, pos, edgelist, width, edge_color, style, alpha, arrowstyle, arrowsize, edge_cmap, edge_vmin, edge_vmax, ax, arrows, label, node_size, nodelist, node_shape, connectionstyle, **kwds)\u001b[0m\n\u001b[1;32m    566\u001b[0m \u001b[0;34m\u001b[0m\u001b[0m\n\u001b[1;32m    567\u001b[0m     \u001b[0;32mif\u001b[0m \u001b[0medgelist\u001b[0m \u001b[0;32mis\u001b[0m \u001b[0;32mNone\u001b[0m\u001b[0;34m:\u001b[0m\u001b[0;34m\u001b[0m\u001b[0;34m\u001b[0m\u001b[0m\n\u001b[0;32m--> 568\u001b[0;31m         \u001b[0medgelist\u001b[0m \u001b[0;34m=\u001b[0m \u001b[0mlist\u001b[0m\u001b[0;34m(\u001b[0m\u001b[0mG\u001b[0m\u001b[0;34m.\u001b[0m\u001b[0medges\u001b[0m\u001b[0;34m(\u001b[0m\u001b[0;34m)\u001b[0m\u001b[0;34m)\u001b[0m\u001b[0;34m\u001b[0m\u001b[0;34m\u001b[0m\u001b[0m\n\u001b[0m\u001b[1;32m    569\u001b[0m \u001b[0;34m\u001b[0m\u001b[0m\n\u001b[1;32m    570\u001b[0m     \u001b[0;32mif\u001b[0m \u001b[0;32mnot\u001b[0m \u001b[0medgelist\u001b[0m \u001b[0;32mor\u001b[0m \u001b[0mlen\u001b[0m\u001b[0;34m(\u001b[0m\u001b[0medgelist\u001b[0m\u001b[0;34m)\u001b[0m \u001b[0;34m==\u001b[0m \u001b[0;36m0\u001b[0m\u001b[0;34m:\u001b[0m  \u001b[0;31m# no edges!\u001b[0m\u001b[0;34m\u001b[0m\u001b[0;34m\u001b[0m\u001b[0m\n",
      "\u001b[0;31mAttributeError\u001b[0m: 'list' object has no attribute 'edges'"
     ]
    },
    {
     "data": {
      "image/png": "[encoded data removed]",
      "text/plain": [
       "<Figure size 432x288 with 1 Axes>"
      ]
     },
     "metadata": {},
     "output_type": "display_data"
    }
   ],
   "source": [
    "G = [('A', 'B'),('A', 'C'),('B', 'C')]\n",
    "nx.draw(G, node_size=800, node_color='red', with_labels=True)"
   ]
  },
  {
   "cell_type": "code",
   "execution_count": 19,
   "metadata": {},
   "outputs": [
    {
     "data": {
      "text/plain": [
       "{'day': 'Friday', 'name': 'My Graph'}"
      ]
     },
     "execution_count": 19,
     "metadata": {},
     "output_type": "execute_result"
    }
   ],
   "source": [
    "# Dem Graphen Attribute geben \n",
    "G = nx.Graph(day='Friday', name='My Graph')\n",
    "G.graph"
   ]
  },
  {
   "cell_type": "code",
   "execution_count": 20,
   "metadata": {},
   "outputs": [
    {
     "data": {
      "text/plain": [
       "{'day': 'Monday', 'name': 'My Graph'}"
      ]
     },
     "execution_count": 20,
     "metadata": {},
     "output_type": "execute_result"
    }
   ],
   "source": [
    "# Verändern\n",
    "G.graph['day']='Monday'\n",
    "G.graph"
   ]
  },
  {
   "cell_type": "markdown",
   "metadata": {},
   "source": [
    "#### Knoten Attribute\n",
    "\n",
    "Die bisherigen Methoden können **G.add_node** und **G.add_nodes_from** können weiter benutzt werden. "
   ]
  },
  {
   "cell_type": "code",
   "execution_count": 22,
   "metadata": {},
   "outputs": [],
   "source": [
    "G.add_node(1, time='5pm')\n",
    "G.add_nodes_from([3], time='2pm') # mehrere Knoten\n",
    "G.node[1]['room'] = 714 # neues attribut hinzufügen"
   ]
  },
  {
   "cell_type": "markdown",
   "metadata": {},
   "source": [
    "Man kann Knoten mit ihren Attributen einfach überschreiben, es schmeisst keinen Fehler. "
   ]
  },
  {
   "cell_type": "code",
   "execution_count": null,
   "metadata": {},
   "outputs": [],
   "source": [
    "G.add_node(3, room=715)"
   ]
  },
  {
   "cell_type": "markdown",
   "metadata": {},
   "source": [
    "Man kann die Attribute natürlich auch wieder auslesen:"
   ]
  },
  {
   "cell_type": "code",
   "execution_count": 23,
   "metadata": {},
   "outputs": [
    {
     "data": {
      "text/plain": [
       "'5pm'"
      ]
     },
     "execution_count": 23,
     "metadata": {},
     "output_type": "execute_result"
    }
   ],
   "source": [
    "G.node[1]['time']"
   ]
  },
  {
   "cell_type": "code",
   "execution_count": 24,
   "metadata": {},
   "outputs": [
    {
     "data": {
      "text/plain": [
       "{'time': '5pm', 'room': 714}"
      ]
     },
     "execution_count": 24,
     "metadata": {},
     "output_type": "execute_result"
    }
   ],
   "source": [
    "#Die attribute sind ein normales dict\n",
    "G.node[1]"
   ]
  },
  {
   "cell_type": "markdown",
   "metadata": {},
   "source": [
    "Normalerweise iterieren wir über die Knoten und ihre Attribute"
   ]
  },
  {
   "cell_type": "code",
   "execution_count": 25,
   "metadata": {},
   "outputs": [
    {
     "data": {
      "text/plain": [
       "[1, 3]"
      ]
     },
     "execution_count": 25,
     "metadata": {},
     "output_type": "execute_result"
    }
   ],
   "source": [
    "# Ohne dass wir es networkx sagen gibt er die attribute nicht aus\n",
    "list(G.nodes())"
   ]
  },
  {
   "cell_type": "code",
   "execution_count": 26,
   "metadata": {},
   "outputs": [
    {
     "data": {
      "text/plain": [
       "[(1, {'time': '5pm', 'room': 714}), (3, {'time': '2pm'})]"
      ]
     },
     "execution_count": 26,
     "metadata": {},
     "output_type": "execute_result"
    }
   ],
   "source": [
    "# Mit data=True\n",
    "list(G.nodes(data=True))"
   ]
  },
  {
   "cell_type": "code",
   "execution_count": 27,
   "metadata": {},
   "outputs": [
    {
     "name": "stdout",
     "output_type": "stream",
     "text": [
      "[(1, 714), (3, None)]\n"
     ]
    }
   ],
   "source": [
    "# Man kann auch das Attribut nennen an dem man interessiert ist\n",
    "print(list(G.nodes(data='room')))"
   ]
  },
  {
   "cell_type": "markdown",
   "metadata": {},
   "source": [
    "#### Kanten Attribute\n",
    "\n",
    "Funktioniert analog:"
   ]
  },
  {
   "cell_type": "code",
   "execution_count": 28,
   "metadata": {},
   "outputs": [],
   "source": [
    "G.add_edge(1, 2, weight=4.0 )\n",
    "G.add_edges_from([(3, 4),(4, 5)], color='red')\n",
    "G.add_edges_from([(1, 2, {'color':'blue'}), (2, 3, {'weight':8})])\n",
    "G[1][2]['weight'] = 4.0 #man kann auch existierenden kanten auch attribute geben"
   ]
  },
  {
   "cell_type": "markdown",
   "metadata": {},
   "source": [
    "oder auch überschreiben, wenn man die Kante nochmals erzeugt"
   ]
  },
  {
   "cell_type": "code",
   "execution_count": 29,
   "metadata": {},
   "outputs": [],
   "source": [
    "G.add_edge(3, 4, weight=12)"
   ]
  },
  {
   "cell_type": "markdown",
   "metadata": {},
   "source": [
    "Um die Attribute rauszuholen gehts analog:"
   ]
  },
  {
   "cell_type": "code",
   "execution_count": 30,
   "metadata": {},
   "outputs": [
    {
     "data": {
      "text/plain": [
       "4.0"
      ]
     },
     "execution_count": 30,
     "metadata": {},
     "output_type": "execute_result"
    }
   ],
   "source": [
    "G[1][2]['weight'] # or  G.edge[1][2]['weight']"
   ]
  },
  {
   "cell_type": "code",
   "execution_count": 31,
   "metadata": {},
   "outputs": [
    {
     "data": {
      "text/plain": [
       "{'weight': 4.0, 'color': 'blue'}"
      ]
     },
     "execution_count": 31,
     "metadata": {},
     "output_type": "execute_result"
    }
   ],
   "source": [
    "# Oder alle attribute bekommen\n",
    "G[1][2] "
   ]
  },
  {
   "cell_type": "markdown",
   "metadata": {},
   "source": [
    "In der Praxis iterieren wir einfach über Kanten und ihre Attribute"
   ]
  },
  {
   "cell_type": "code",
   "execution_count": 32,
   "metadata": {},
   "outputs": [
    {
     "data": {
      "text/plain": [
       "[(1, 2), (3, 4), (3, 2), (4, 5)]"
      ]
     },
     "execution_count": 32,
     "metadata": {},
     "output_type": "execute_result"
    }
   ],
   "source": [
    "# Edges without attributes\n",
    "list(G.edges())"
   ]
  },
  {
   "cell_type": "code",
   "execution_count": 33,
   "metadata": {},
   "outputs": [
    {
     "data": {
      "text/plain": [
       "[(1, 2, {'weight': 4.0, 'color': 'blue'}),\n",
       " (3, 4, {'color': 'red', 'weight': 12}),\n",
       " (3, 2, {'weight': 8}),\n",
       " (4, 5, {'color': 'red'})]"
      ]
     },
     "execution_count": 33,
     "metadata": {},
     "output_type": "execute_result"
    }
   ],
   "source": [
    "# Edges as tuples of nodes and edge attributes\n",
    "list(G.edges(data=True))"
   ]
  },
  {
   "cell_type": "code",
   "execution_count": null,
   "metadata": {},
   "outputs": [],
   "source": [
    "# Analog kann man auch das Attribut angeben an dem man interessiert ist:\n",
    "print(list(G.edges(data='weight')))"
   ]
  },
  {
   "cell_type": "markdown",
   "metadata": {},
   "source": [
    "Ein ganz praktischer Befehl ist: **nx.info**"
   ]
  },
  {
   "cell_type": "code",
   "execution_count": 34,
   "metadata": {},
   "outputs": [
    {
     "name": "stdout",
     "output_type": "stream",
     "text": [
      "Name: My Graph\n",
      "Type: Graph\n",
      "Number of nodes: 5\n",
      "Number of edges: 4\n",
      "Average degree:   1.6000\n"
     ]
    }
   ],
   "source": [
    "print(nx.info(G))"
   ]
  },
  {
   "cell_type": "markdown",
   "metadata": {},
   "source": [
    "### Aufgabe: Graphen bauen\n",
    "\n",
    "Baut einen Graphen mit 50 Knoten."
   ]
  },
  {
   "cell_type": "code",
   "execution_count": 104,
   "metadata": {},
   "outputs": [
    {
     "data": {
      "image/png": "[encoded data removed]",
      "text/plain": [
       "<Figure size 432x288 with 1 Axes>"
      ]
     },
     "metadata": {},
     "output_type": "display_data"
    }
   ],
   "source": [
    "# Dein code hier\n",
    "G1 = nx.Graph()\n",
    "G1.add_edges_from([('Plotti', 'Katrin'), (\"Plotti\", \"Sven\"), (\"Zoe\",\"Jörg\"), (\"Zoe\", \"Plotti\"),  (\"Jörg\", \"Sven\"), (\"Sven\",\"Fabian\"), (\"Fabian\",\"Sandra\"), (\"Sandra\", \"Manuela\"), (\"Manuela\", \"Martin\"), (\"Martin\",\"Reto\"), (\"Reto\", \"Marius\"), ('Marius', 'Katrin'), ('Katrin', 'Plotti')])\n",
    "nx.draw(G1, node_size=800, node_color='red', with_labels=True)"
   ]
  },
  {
   "cell_type": "markdown",
   "metadata": {},
   "source": [
    "Fügt zufällig 50 kanten zwischen den Knoten hinzu:"
   ]
  },
  {
   "cell_type": "code",
   "execution_count": null,
   "metadata": {},
   "outputs": [],
   "source": [
    "# Dein code hier"
   ]
  },
  {
   "cell_type": "markdown",
   "metadata": {},
   "source": [
    "### Es gibt auch mehr Wege mit Graphen zu arbeiten\n",
    "\n",
    "Hier ein paar Beispiele"
   ]
  },
  {
   "cell_type": "markdown",
   "metadata": {},
   "source": [
    "* **nx.subgraph(G, node_list)** : gib mir nur einen Teil des Graphen in dem diese Knoten drin sind\n",
    "* **nx.union(G1,G2)** : vereinige zwei Graphen\n",
    "* **nx.compose(G1,G2)**:  vereinige zwei Graphen in der Schnittmenge der Knoten"
   ]
  },
  {
   "cell_type": "markdown",
   "metadata": {},
   "source": [
    "### Graph Generators\n",
    "\n",
    "NetworkX hat auch ein paar Beispielgraphen [hier](https://networkx.github.io/documentation/networkx-1.10/reference/generators.html). \n",
    "\n",
    "Für uns nicht weiter wichtig, aber diese Graphen haben teilweise besondere Eigenschaften die Wissenschaftler interessieren. \n",
    "\n",
    "Hier zwei Beispiele für sog. Small World Networks: \n",
    "https://www.netlogoweb.org/launch#https://www.netlogoweb.org/assets/modelslib/Sample%20Models/Networks/Preferential%20Attachment.nlogo\n",
    "https://www.netlogoweb.org/launch#https://www.netlogoweb.org/assets/modelslib/Sample%20Models/Networks/Small%20Worlds.nlogo\n",
    "\n",
    "Beispiele in nx:"
   ]
  },
  {
   "cell_type": "code",
   "execution_count": null,
   "metadata": {},
   "outputs": [],
   "source": [
    "# small graphs\n",
    "petersen = nx.petersen_graph()\n",
    "tutte = nx.tutte_graph()\n",
    "maze = nx.sedgewick_maze_graph()\n",
    "tet = nx.tetrahedral_graph()\n",
    "\n",
    "# classic graphs\n",
    "K_5 = nx.complete_graph(5)\n",
    "K_3_5 = nx.complete_bipartite_graph(3, 5)\n",
    "barbell = nx.barbell_graph(10, 10)\n",
    "lollipop = nx.lollipop_graph(10, 20)\n",
    "\n",
    "# random graphs\n",
    "er = nx.erdos_renyi_graph(100, 0.15)\n",
    "ws = nx.watts_strogatz_graph(30, 3, 0.1)\n",
    "ba = nx.barabasi_albert_graph(100, 5)\n",
    "red = nx.random_lobster(100, 0.9, 0.9)"
   ]
  },
  {
   "cell_type": "markdown",
   "metadata": {},
   "source": [
    "### Graphen mit Matplotlib zeichnen. \n",
    "\n",
    "NetworkX ist nicht dazu gedacht Graphen zu visualisieren, man kann aber mit Matplotlib so einiges hinbekommen, vor allem wenn die Graphen einfach sind. Wenn sie groß werden nutzen wir dann Gephi.\n",
    "\n",
    "Nehmen wir einen Beispielgraph, die Florentinischen Familien von Romeo und Julia:"
   ]
  },
  {
   "cell_type": "code",
   "execution_count": 90,
   "metadata": {},
   "outputs": [],
   "source": [
    "G = nx.florentine_families_graph()"
   ]
  },
  {
   "cell_type": "code",
   "execution_count": 92,
   "metadata": {},
   "outputs": [
    {
     "data": {
      "image/png": "[encoded data removed]",
      "text/plain": [
       "<Figure size 432x288 with 1 Axes>"
      ]
     },
     "metadata": {},
     "output_type": "display_data"
    }
   ],
   "source": [
    "# The function nx.draw is main entry point for NetworkX plotting functions\n",
    "nx.draw(G,with_labels=True)"
   ]
  },
  {
   "cell_type": "markdown",
   "metadata": {},
   "source": [
    "Der default Layout ist der sog. spring Layout. Hier stoßen sich die Knoten gegenseitig ab und er versucht ein Layout zu finden bei dem jeder Knoten an seiner \"optimalen\" position liegt. \n",
    "\n",
    "Man kann aber auch andere Layouts vorrausberechten und sie dann zur  **nx.draw** Funktion übergeben. "
   ]
  },
  {
   "cell_type": "code",
   "execution_count": 93,
   "metadata": {},
   "outputs": [
    {
     "data": {
      "text/plain": [
       "{'Acciaiuoli': array([ 0.18089039, -0.51510291]),\n",
       " 'Medici': array([ 0.01609655, -0.24947107]),\n",
       " 'Castellani': array([0.49844762, 0.18912853]),\n",
       " 'Peruzzi': array([0.37141473, 0.44157995]),\n",
       " 'Strozzi': array([0.26838979, 0.26992914]),\n",
       " 'Barbadori': array([ 0.37552563, -0.11809968]),\n",
       " 'Ridolfi': array([7.67639764e-02, 5.72702829e-05]),\n",
       " 'Tornabuoni': array([-0.18555584, -0.04274685]),\n",
       " 'Albizzi': array([-0.22183421,  0.13545327]),\n",
       " 'Salviati': array([-0.04850498, -0.68035533]),\n",
       " 'Pazzi': array([-0.05706996, -1.        ]),\n",
       " 'Bischeri': array([0.05292389, 0.42669638]),\n",
       " 'Guadagni': array([-0.32735701,  0.27670793]),\n",
       " 'Ginori': array([-0.33236087,  0.48995612]),\n",
       " 'Lamberteschi': array([-0.66776971,  0.37626727])}"
      ]
     },
     "execution_count": 93,
     "metadata": {},
     "output_type": "execute_result"
    }
   ],
   "source": [
    "pos_spring = nx.spring_layout(G)\n",
    "pos_fr = nx.fruchterman_reingold_layout(G)\n",
    "pos_fr"
   ]
  },
  {
   "cell_type": "code",
   "execution_count": 101,
   "metadata": {},
   "outputs": [
    {
     "data": {
      "image/png": "[encoded data removed]",
      "text/plain": [
       "<Figure size 432x288 with 1 Axes>"
      ]
     },
     "metadata": {},
     "output_type": "display_data"
    }
   ],
   "source": [
    "nx.draw(G, pos=pos_fr,with_labels=True)"
   ]
  },
  {
   "cell_type": "code",
   "execution_count": 102,
   "metadata": {},
   "outputs": [
    {
     "data": {
      "image/png": "[encoded data removed]",
      "text/plain": [
       "<Figure size 432x288 with 1 Axes>"
      ]
     },
     "metadata": {},
     "output_type": "display_data"
    }
   ],
   "source": [
    "nx.draw(G, pos=pos_spring,with_labels=True)"
   ]
  },
  {
   "cell_type": "markdown",
   "metadata": {},
   "source": [
    "Wir können auch die Farbe sowie Beschriftung der Knoten und Kanten anpassen mit den Parametern von **nx.draw**:"
   ]
  },
  {
   "cell_type": "code",
   "execution_count": 103,
   "metadata": {},
   "outputs": [
    {
     "data": {
      "image/png": "[encoded data removed]",
      "text/plain": [
       "<Figure size 864x864 with 1 Axes>"
      ]
     },
     "metadata": {},
     "output_type": "display_data"
    }
   ],
   "source": [
    "plt.figure(figsize=(12,12))\n",
    "nx.draw(G, pos=pos_fr, node_size=3000, node_color='white', with_labels=True)"
   ]
  },
  {
   "cell_type": "markdown",
   "metadata": {},
   "source": [
    "Wenn man komplexere Plots machen möchte, zb. Knoten bestimmte Farben oder Größen geben oder bestimmte Kanten hervorheben geht das mit den folgenden Funktionen: \n",
    "\n",
    "* **nx.draw_networkx_nodes**\n",
    "* **nx.draw_networkx_edges**\n",
    "* **nx.draw_networkx_lables**\n",
    "* **nx.draw_networkx_edge_lables**"
   ]
  },
  {
   "cell_type": "code",
   "execution_count": null,
   "metadata": {},
   "outputs": [],
   "source": [
    "plt.figure(figsize=(10,10))\n",
    "big_and_green_nodes = {'Medici', 'Albizzi', 'Strozzi'}\n",
    "other_nodes = set(G) - big_and_green_nodes\n",
    "thick_edges = {('Medici', 'Albizzi'), ('Medici', 'Salviati')}\n",
    "other_edges = set(G.edges()) - thick_edges\n",
    "# Plot nodes\n",
    "nx.draw_networkx_nodes(G, pos=pos_fr, nodelist=big_and_green_nodes, node_size=2000, node_color='green')\n",
    "nx.draw_networkx_nodes(G, pos=pos_fr, nodelist=other_nodes, node_size=500, node_color='white')\n",
    "# Plot edges \n",
    "nx.draw_networkx_edges(G, pos=pos_fr, edgelist=thick_edges, width=3, edge_color='blue')\n",
    "nx.draw_networkx_edges(G, pos=pos_fr, edge_list=other_edges)\n",
    "# Plot node labels\n",
    "nx.draw_networkx_labels(G, pos=pos_fr, labels={n: n for n in big_and_green_nodes})\n",
    "# Plot edge labels\n",
    "nx.draw_networkx_edge_labels(G, pos=pos_fr, edge_labels={e: i for i, e in enumerate(thick_edges)})\n",
    "# Remove axes\n",
    "ax = plt.gca()\n",
    "ax.set_axis_off()"
   ]
  },
  {
   "cell_type": "markdown",
   "metadata": {},
   "source": [
    "### Übliche Formate um Graphen zu lesen und zu schreiben\n",
    "\n",
    "Die komplette Liste [aller Formate](https://networkx.github.io/documentation/stable/reference/readwrite/index.html) findet sich online. \n",
    "\n",
    "Hier ein paar Beispiele:\n",
    "\n",
    "* **Adjacency list** Einfaches Format, keine Attribute\n",
    "    - **nx.read_adjlist**\n",
    "    - **nx.write_adjlist**\n",
    "* **Edge list** Einfaches Format, keine Attribute\n",
    "    - **nx.read_edgelist**\n",
    "    - **nx.write_adjlist**\n",
    "* **GEXF** Entworfen als standard exchange format für graphen (Gephi)\n",
    "    - **nx.read_gexf**\n",
    "    - **nx.write_gexf**\n",
    "* **Pickle** Python standard Modul um Daten auf Festplatte zu schreiben\n",
    "    - **nx.read_gpickle**\n",
    "    - **nx.write_gpickle**\n",
    "* **GraphML** An XML-based Format für graphen \n",
    "    - **nx.read_graphml**\n",
    "    - **nx.write_graphml**\n",
    "* **Pajek** Format für Pajek, eines der Urprogramme für SNA\n",
    "    - **nx.read_pajek**\n",
    "    - **nx.write_pajek**"
   ]
  },
  {
   "cell_type": "code",
   "execution_count": 105,
   "metadata": {},
   "outputs": [],
   "source": [
    "nx.write_gexf(G1,\"plotti.gexf\")"
   ]
  },
  {
   "cell_type": "markdown",
   "metadata": {},
   "source": [
    "## Netzwerkanalyse\n",
    "\n",
    "Jetzt probieren wir ein paar einfache Analysetechniken aus, die uns etwas über die Struktur des Graphen und der Wichtigkeit der Knoten verrraten. "
   ]
  },
  {
   "cell_type": "markdown",
   "metadata": {},
   "source": [
    "### Basic : Degree\n",
    "\n",
    "Der degree ist die Anzahl der Kanten die mit dem Knoten verbunden sind. \n",
    "\n",
    "* **undirected graphs** gleich der Anzahl der Nachbarn. \n",
    "\n",
    "* **directed graphs** müssen wir zwischen rein-kommenden und raus-gehenden Kanten unterscheiden.\n",
    "    - **In-degree** Number of predecessors\n",
    "    - **Out-degree** Nuber of successors"
   ]
  },
  {
   "cell_type": "markdown",
   "metadata": {},
   "source": [
    "#### Undirected Graphs"
   ]
  },
  {
   "cell_type": "code",
   "execution_count": 106,
   "metadata": {},
   "outputs": [
    {
     "data": {
      "text/plain": [
       "{0: 3, 1: 2, 2: 2, 3: 2, 4: 2, 5: 1}"
      ]
     },
     "execution_count": 106,
     "metadata": {},
     "output_type": "execute_result"
    },
    {
     "data": {
      "image/png": "[encoded data removed]",
      "text/plain": [
       "<Figure size 432x288 with 1 Axes>"
      ]
     },
     "metadata": {},
     "output_type": "display_data"
    }
   ],
   "source": [
    "G = nx.cycle_graph(5)\n",
    "G.add_edge(0, 5)\n",
    "nx.draw(G, pos=nx.fruchterman_reingold_layout(G), with_labels=True)\n",
    "dict(G.degree())"
   ]
  },
  {
   "cell_type": "code",
   "execution_count": null,
   "metadata": {},
   "outputs": [],
   "source": [
    "# Man kann auch den degree für einen einzelenn Knoten haben\n",
    "G.degree(5)"
   ]
  },
  {
   "cell_type": "markdown",
   "metadata": {},
   "source": [
    "#### Kleine Beispiele\n",
    "Wie bekommt man den Knoten mit dem höchsten degree?"
   ]
  },
  {
   "cell_type": "code",
   "execution_count": 107,
   "metadata": {},
   "outputs": [
    {
     "data": {
      "text/plain": [
       "0"
      ]
     },
     "execution_count": 107,
     "metadata": {},
     "output_type": "execute_result"
    }
   ],
   "source": [
    "max(G, key=G.degree)"
   ]
  },
  {
   "cell_type": "markdown",
   "metadata": {},
   "source": [
    "Wie bekommt man alle Nachbarn von Knoten 0?"
   ]
  },
  {
   "cell_type": "code",
   "execution_count": 108,
   "metadata": {},
   "outputs": [
    {
     "data": {
      "text/plain": [
       "[1, 4, 5]"
      ]
     },
     "execution_count": 108,
     "metadata": {},
     "output_type": "execute_result"
    }
   ],
   "source": [
    "list(G.neighbors(0))"
   ]
  },
  {
   "cell_type": "markdown",
   "metadata": {},
   "source": [
    "#### Directed Graphs"
   ]
  },
  {
   "cell_type": "code",
   "execution_count": 114,
   "metadata": {},
   "outputs": [
    {
     "data": {
      "image/png": "[encoded data removed]",
      "text/plain": [
       "<Figure size 432x288 with 1 Axes>"
      ]
     },
     "metadata": {},
     "output_type": "display_data"
    }
   ],
   "source": [
    "D = nx.cycle_graph(5, create_using=nx.DiGraph())\n",
    "D.add_edge(0, 5)\n",
    "nx.draw(D, pos=nx.fruchterman_reingold_layout(D), with_labels=True)"
   ]
  },
  {
   "cell_type": "code",
   "execution_count": 115,
   "metadata": {},
   "outputs": [
    {
     "data": {
      "text/plain": [
       "{0: 1, 1: 1, 2: 1, 3: 1, 4: 1, 5: 1}"
      ]
     },
     "execution_count": 115,
     "metadata": {},
     "output_type": "execute_result"
    }
   ],
   "source": [
    "dict(D.in_degree())"
   ]
  },
  {
   "cell_type": "code",
   "execution_count": 116,
   "metadata": {},
   "outputs": [
    {
     "data": {
      "text/plain": [
       "{0: 2, 1: 1, 2: 1, 3: 1, 4: 1, 5: 0}"
      ]
     },
     "execution_count": 116,
     "metadata": {},
     "output_type": "execute_result"
    }
   ],
   "source": [
    "dict(D.out_degree())"
   ]
  },
  {
   "cell_type": "markdown",
   "metadata": {},
   "source": [
    "#### Kleine Beispiele"
   ]
  },
  {
   "cell_type": "markdown",
   "metadata": {},
   "source": [
    "Wie bekommen wir alle \"Nachfolger\" des Knoten 0?"
   ]
  },
  {
   "cell_type": "code",
   "execution_count": 117,
   "metadata": {},
   "outputs": [
    {
     "data": {
      "text/plain": [
       "[1, 5]"
      ]
     },
     "execution_count": 117,
     "metadata": {},
     "output_type": "execute_result"
    }
   ],
   "source": [
    "list(D.successors(0))"
   ]
  },
  {
   "cell_type": "code",
   "execution_count": 118,
   "metadata": {},
   "outputs": [
    {
     "data": {
      "text/plain": [
       "[4]"
      ]
     },
     "execution_count": 118,
     "metadata": {},
     "output_type": "execute_result"
    }
   ],
   "source": [
    "# oder Vorgänger?\n",
    "list(D.predecessors(0))"
   ]
  },
  {
   "cell_type": "markdown",
   "metadata": {},
   "source": [
    "#### Gewichtete Graphen und gewichteter degree \n",
    "\n",
    "Kanten können Attribute haben und das wichtigste ist **weight** mit dem man angibt wie stark die Kante ist. \n",
    "\n",
    "Der gewichtete degree eines Knotens ist eben die summe der gewichteten Kanten. "
   ]
  },
  {
   "cell_type": "code",
   "execution_count": 125,
   "metadata": {},
   "outputs": [
    {
     "data": {
      "text/plain": [
       "{(0, 1): Text(0.6015595382450478, -0.3722603355142145, '1'),\n",
       " (0, 4): Text(0.5338360546504872, 0.543891919697512, '2'),\n",
       " (1, 2): Text(-0.21997791075963427, -0.7449902226336369, '3'),\n",
       " (2, 3): Text(-0.6353955928955349, -0.05541246300856997, '4'),\n",
       " (3, 4): Text(-0.2800220892403656, 0.6287711014589091, '5')}"
      ]
     },
     "execution_count": 125,
     "metadata": {},
     "output_type": "execute_result"
    },
    {
     "data": {
      "image/png": "[encoded data removed]",
      "text/plain": [
       "<Figure size 432x288 with 1 Axes>"
      ]
     },
     "metadata": {},
     "output_type": "display_data"
    }
   ],
   "source": [
    "W = nx.cycle_graph(5)\n",
    "for i, (u, v) in enumerate(W.edges(), 1):\n",
    "    W[u][v]['weight'] = i\n",
    "pos = nx.spring_layout(W)\n",
    "nx.draw(W, pos=pos, with_labels=True)\n",
    "nx.draw_networkx_edge_labels(W, pos, edge_labels=nx.get_edge_attributes(W, 'weight'))"
   ]
  },
  {
   "cell_type": "code",
   "execution_count": 120,
   "metadata": {},
   "outputs": [
    {
     "data": {
      "text/plain": [
       "{0: 2, 1: 2, 2: 2, 3: 2, 4: 2}"
      ]
     },
     "execution_count": 120,
     "metadata": {},
     "output_type": "execute_result"
    }
   ],
   "source": [
    "dict(W.degree())"
   ]
  },
  {
   "cell_type": "code",
   "execution_count": 121,
   "metadata": {},
   "outputs": [
    {
     "data": {
      "text/plain": [
       "{0: 3, 1: 4, 2: 7, 3: 9, 4: 7}"
      ]
     },
     "execution_count": 121,
     "metadata": {},
     "output_type": "execute_result"
    }
   ],
   "source": [
    "dict(W.degree(weight='weight'))"
   ]
  },
  {
   "cell_type": "markdown",
   "metadata": {},
   "source": [
    "#### Kleine Beispiele\n",
    "\n",
    "Wie können wir den Knoten mit dem größten gewichteten Degree bekommen?"
   ]
  },
  {
   "cell_type": "code",
   "execution_count": null,
   "metadata": {},
   "outputs": [],
   "source": [
    "wdegree = dict(W.degree(weight='weight'))\n",
    "max(W, key=wdegree.get)"
   ]
  },
  {
   "cell_type": "markdown",
   "metadata": {},
   "source": [
    "### Pfade und kürzeste Pfade\n",
    "\n",
    "Mit NetworkX können wir bestimmen ob Knoten auf einem Pfad liegen oder wo die kürzesten Pfade lang laufen."
   ]
  },
  {
   "cell_type": "code",
   "execution_count": null,
   "metadata": {},
   "outputs": [],
   "source": [
    "nx.draw(G, pos=nx.fruchterman_reingold_layout(G), with_labels=True)"
   ]
  },
  {
   "cell_type": "markdown",
   "metadata": {},
   "source": [
    "#### Undirected Graphs"
   ]
  },
  {
   "cell_type": "code",
   "execution_count": null,
   "metadata": {},
   "outputs": [],
   "source": [
    "nx.has_path(G, 0, 3)"
   ]
  },
  {
   "cell_type": "code",
   "execution_count": null,
   "metadata": {},
   "outputs": [],
   "source": [
    "nx.shortest_path(G, 0, 3)"
   ]
  },
  {
   "cell_type": "code",
   "execution_count": null,
   "metadata": {},
   "outputs": [],
   "source": [
    "nx.shortest_path_length(G, 0, 3)"
   ]
  },
  {
   "cell_type": "markdown",
   "metadata": {},
   "source": [
    "Man kann auch alle Kanten die auf diesem Pfad liegen bestimmen:"
   ]
  },
  {
   "cell_type": "code",
   "execution_count": null,
   "metadata": {},
   "outputs": [],
   "source": [
    "path = nx.shortest_path(G, 0, 3)\n",
    "path_edges = list(zip(path, path[1:]))\n",
    "print(\"nodes in path: {}\".format(path))\n",
    "print(\"edges in path: {}\".format(path_edges))"
   ]
  },
  {
   "cell_type": "markdown",
   "metadata": {},
   "source": [
    "Man kann auch alle möglichen kürzesten Pfade für einen Knoten zu den anderen Knoten bestimmen."
   ]
  },
  {
   "cell_type": "code",
   "execution_count": null,
   "metadata": {},
   "outputs": [],
   "source": [
    "nx.single_source_shortest_path(G, 0)"
   ]
  },
  {
   "cell_type": "markdown",
   "metadata": {},
   "source": [
    "#### Directed Graphs\n",
    "\n",
    "Für gerictete Graphen müssen wir den Kantenrichtung folgen"
   ]
  },
  {
   "cell_type": "code",
   "execution_count": null,
   "metadata": {},
   "outputs": [],
   "source": [
    "nx.draw(D, pos=nx.fruchterman_reingold_layout(G), with_labels=True)"
   ]
  },
  {
   "cell_type": "code",
   "execution_count": null,
   "metadata": {},
   "outputs": [],
   "source": [
    "nx.has_path(D, 0, 3)"
   ]
  },
  {
   "cell_type": "code",
   "execution_count": null,
   "metadata": {},
   "outputs": [],
   "source": [
    "list(nx.all_simple_paths(D, 0, 3))"
   ]
  },
  {
   "cell_type": "code",
   "execution_count": null,
   "metadata": {},
   "outputs": [],
   "source": [
    "nx.shortest_path(D, 0, 3)"
   ]
  },
  {
   "cell_type": "code",
   "execution_count": null,
   "metadata": {},
   "outputs": [],
   "source": [
    "nx.shortest_path_length(D, 0, 3)"
   ]
  },
  {
   "cell_type": "code",
   "execution_count": null,
   "metadata": {},
   "outputs": [],
   "source": [
    "nx.single_source_shortest_path(D, 0)"
   ]
  },
  {
   "cell_type": "markdown",
   "metadata": {},
   "source": [
    "#### Weighted Graphs\n",
    "\n",
    "Für gewichtete Grpahen müssen wir natürlich das Gewicht berücksichtigen. Der kürzeste Pfad liegt ja damit somit nicht mehr immer dort wo man am wenigsten Knoten passieren muss. \n",
    "\n",
    "Für gewichtete Graphen müssen wir das Gewicht in Form von **weight** mitgeben:"
   ]
  },
  {
   "cell_type": "code",
   "execution_count": null,
   "metadata": {},
   "outputs": [],
   "source": [
    "W = nx.Graph()\n",
    "W.add_edge('a', 'b', weight=0.3)\n",
    "W.add_edge('b', 'c', weight=0.5)\n",
    "W.add_edge('a', 'c', weight=2.0)\n",
    "W.add_edge('c', 'd', weight=1.0)\n",
    "pos = nx.fruchterman_reingold_layout(W)\n",
    "nx.draw(W, pos=pos, with_labels=True)\n",
    "nx.draw_networkx_edge_labels(W, pos, edge_labels=nx.get_edge_attributes(W, 'weight'))"
   ]
  },
  {
   "cell_type": "code",
   "execution_count": null,
   "metadata": {},
   "outputs": [],
   "source": [
    "nx.shortest_path(W, 'a', 'd')"
   ]
  },
  {
   "cell_type": "code",
   "execution_count": null,
   "metadata": {},
   "outputs": [],
   "source": [
    "nx.shortest_path(W, 'a', 'd',weight='weight')"
   ]
  },
  {
   "cell_type": "code",
   "execution_count": null,
   "metadata": {},
   "outputs": [],
   "source": [
    "nx.shortest_path_length(W, 'a', 'd',weight='weight')"
   ]
  },
  {
   "cell_type": "markdown",
   "metadata": {},
   "source": [
    "### Beispiel für die Florentinischen Familien\n",
    "\n",
    "Kürzeste Pfade müssen nicht unique sein, es gibt mehrere Wege zum Ziel. Mit \n",
    "**nx.all_shortest_paths** bekommt man alle kürzesten Pfade. "
   ]
  },
  {
   "cell_type": "code",
   "execution_count": null,
   "metadata": {},
   "outputs": [],
   "source": [
    "G = nx.florentine_families_graph()\n",
    "plt.figure(figsize=(12,12))\n",
    "nx.draw(G, pos=pos_fr, node_size=3000, node_color='white', with_labels=True)"
   ]
  },
  {
   "cell_type": "code",
   "execution_count": null,
   "metadata": {},
   "outputs": [],
   "source": [
    "source = 'Medici'\n",
    "target = 'Peruzzi'\n",
    "nx.shortest_path(G, source, target)"
   ]
  },
  {
   "cell_type": "code",
   "execution_count": null,
   "metadata": {},
   "outputs": [],
   "source": [
    "# Shortest paths are not unique\n",
    "list(nx.all_shortest_paths(G, source, target))"
   ]
  },
  {
   "cell_type": "code",
   "execution_count": null,
   "metadata": {},
   "outputs": [],
   "source": [
    "def plot_paths(G, paths):\n",
    "    plt.figure(figsize=(12,12))\n",
    "    pos = nx.fruchterman_reingold_layout(G)\n",
    "    nx.draw_networkx_nodes(G, pos=pos, node_size=3000, node_color='white')\n",
    "    nx.draw_networkx_labels(G, pos=pos, labels={n: n for n in G})\n",
    "    # Draw edges\n",
    "    nx.draw_networkx_edges(G, pos=pos)\n",
    "    for path in paths:\n",
    "        edges = list(zip(path, path[1:]))\n",
    "        nx.draw_networkx_edges(G, pos=pos, edgelist=edges, edge_color='red', width=3)\n",
    "    ax = plt.gca()\n",
    "    ax.set_axis_off()\n",
    "    ax.grid(None)"
   ]
  },
  {
   "cell_type": "code",
   "execution_count": null,
   "metadata": {},
   "outputs": [],
   "source": [
    "plot_paths(G, [nx.shortest_path(G, source, target)])"
   ]
  },
  {
   "cell_type": "code",
   "execution_count": null,
   "metadata": {},
   "outputs": [],
   "source": [
    "plot_paths(G, nx.all_shortest_paths(G, source, target))"
   ]
  },
  {
   "cell_type": "markdown",
   "metadata": {},
   "source": [
    "### Node centrality Analyse\n",
    "\n",
    "Die Zentralitätsanalyse erlaubt uns die wichtigsten - zentralsten - Akteure des Netzwerks zu bestimmen. Es gibt einen [Haufen](https://networkx.github.io/documentation/stable/reference/algorithms/centrality.html)  verschiedener Zentralitätsmaße, sie kommen zu unterschiedlichen Resultaten - je nachdem was uns interessiert. \n",
    "\n",
    "Wir schauen uns das mal bei den Familien an, hier bedeutet eine Kante dass eine Hochzeit zwischen zwei Familien stattgefunden hat. \n",
    "\n",
    "Anfang des 14 Jahrhunderts waren die Medici nicht nur die reichsten aber auch eine der mächtigsten Familien in Florenz. \n",
    "\n",
    "Mit Hilfe der Netzwerkanalyse können wir zeigen, dass ihre zentrale Position dafür verantwortlich war. "
   ]
  },
  {
   "cell_type": "code",
   "execution_count": 127,
   "metadata": {},
   "outputs": [],
   "source": [
    "G = nx.florentine_families_graph()"
   ]
  },
  {
   "cell_type": "markdown",
   "metadata": {},
   "source": [
    "### Degree Centrality\n",
    "\n",
    "Degree centrality ist die Anzahl der Kanten eines Knotens. Wieviele Nachbarn habe ich im Verhältniss zu wieviele könnte ich maximal haben. \n",
    "\n",
    "Der Output von **nx.degree_centrality** ist ein dict, bei dem der value die degree centrality enthält. "
   ]
  },
  {
   "cell_type": "code",
   "execution_count": 131,
   "metadata": {},
   "outputs": [
    {
     "data": {
      "image/png": "[encoded data removed]",
      "text/plain": [
       "<Figure size 432x288 with 1 Axes>"
      ]
     },
     "metadata": {},
     "output_type": "display_data"
    }
   ],
   "source": [
    "nx.draw(G,with_labels=True)"
   ]
  },
  {
   "cell_type": "code",
   "execution_count": 128,
   "metadata": {},
   "outputs": [],
   "source": [
    "from operator import itemgetter"
   ]
  },
  {
   "cell_type": "code",
   "execution_count": 129,
   "metadata": {},
   "outputs": [
    {
     "data": {
      "text/plain": [
       "[('Medici', 0.42857142857142855),\n",
       " ('Strozzi', 0.2857142857142857),\n",
       " ('Guadagni', 0.2857142857142857),\n",
       " ('Castellani', 0.21428571428571427),\n",
       " ('Peruzzi', 0.21428571428571427),\n",
       " ('Ridolfi', 0.21428571428571427),\n",
       " ('Tornabuoni', 0.21428571428571427),\n",
       " ('Albizzi', 0.21428571428571427),\n",
       " ('Bischeri', 0.21428571428571427),\n",
       " ('Barbadori', 0.14285714285714285),\n",
       " ('Salviati', 0.14285714285714285),\n",
       " ('Acciaiuoli', 0.07142857142857142),\n",
       " ('Pazzi', 0.07142857142857142),\n",
       " ('Ginori', 0.07142857142857142),\n",
       " ('Lamberteschi', 0.07142857142857142)]"
      ]
     },
     "execution_count": 129,
     "metadata": {},
     "output_type": "execute_result"
    }
   ],
   "source": [
    "degc = nx.degree_centrality(G)\n",
    "# let's list the scores\n",
    "sorted(degc.items(), key=itemgetter(1), reverse=True)"
   ]
  },
  {
   "cell_type": "markdown",
   "metadata": {},
   "source": [
    "### Betweenness centrality\n",
    "\n",
    "Die Betweenness centrality eines Knotens  `v` enspricht der Summe der Anteile aller kürzesten Pfade die durch diesen Knoten laufen: \n",
    "\n",
    "$$ c_B(v) =\\sum_{s,t \\in V} \\frac{\\sigma(s, t|v)}{\\sigma(s, t)} $$\n",
    "\n",
    " `V` sind die Knoten,  $\\sigma(s, t)$ ist die Summe der Kürzesten Pfade `(s, t)`,  and $\\sigma(s, t|v)$ is the Summe der kürzesten Pfade die durch `v` verlaufen.\n",
    " \n",
    " Kurz gesagt Knoten die mehrere Personen verbinden, oder oft dazwischen liegen haben eine hohe Betweenness. "
   ]
  },
  {
   "cell_type": "code",
   "execution_count": 132,
   "metadata": {},
   "outputs": [
    {
     "data": {
      "text/plain": [
       "[('Medici', 0.521978021978022),\n",
       " ('Guadagni', 0.2545787545787546),\n",
       " ('Albizzi', 0.21245421245421245),\n",
       " ('Salviati', 0.14285714285714288),\n",
       " ('Ridolfi', 0.11355311355311355),\n",
       " ('Bischeri', 0.1043956043956044),\n",
       " ('Strozzi', 0.10256410256410257),\n",
       " ('Barbadori', 0.09340659340659341),\n",
       " ('Tornabuoni', 0.09157509157509157),\n",
       " ('Castellani', 0.05494505494505495),\n",
       " ('Peruzzi', 0.02197802197802198),\n",
       " ('Acciaiuoli', 0.0),\n",
       " ('Pazzi', 0.0),\n",
       " ('Ginori', 0.0),\n",
       " ('Lamberteschi', 0.0)]"
      ]
     },
     "execution_count": 132,
     "metadata": {},
     "output_type": "execute_result"
    }
   ],
   "source": [
    "bet = nx.betweenness_centrality(G)\n",
    "# let's list the scores\n",
    "sorted(bet.items(), key=itemgetter(1), reverse=True)"
   ]
  },
  {
   "cell_type": "markdown",
   "metadata": {},
   "source": [
    "### Closeness centrality\n",
    "\n",
    "Closness centrality ist die summe der Kürzesten Pfade vom Knoten zu allen anderen Knoten. Da diese Summe von der Anzahl der Knoten im Graphen abhängt wird sie durch die Summe aller möglichen Entfernungen normiert. \n",
    "\n",
    "$$C(u) = \\frac{n - 1}{\\sum_{v=1}^{n-1} d(v, u)}$$\n",
    "\n",
    "wo `d(v, u)` der kürzeste Pfad zwischen `v` und `u` ist und `n` ist die Anzahl der Knoten im Graphen. Höhere Werte enstprechen höherer closness centrality. \n"
   ]
  },
  {
   "cell_type": "code",
   "execution_count": 134,
   "metadata": {},
   "outputs": [
    {
     "data": {
      "text/plain": [
       "[('Medici', 0.56),\n",
       " ('Ridolfi', 0.5),\n",
       " ('Tornabuoni', 0.4827586206896552),\n",
       " ('Albizzi', 0.4827586206896552),\n",
       " ('Guadagni', 0.4666666666666667),\n",
       " ('Strozzi', 0.4375),\n",
       " ('Barbadori', 0.4375),\n",
       " ('Bischeri', 0.4),\n",
       " ('Castellani', 0.3888888888888889),\n",
       " ('Salviati', 0.3888888888888889),\n",
       " ('Acciaiuoli', 0.3684210526315789),\n",
       " ('Peruzzi', 0.3684210526315789),\n",
       " ('Ginori', 0.3333333333333333),\n",
       " ('Lamberteschi', 0.32558139534883723),\n",
       " ('Pazzi', 0.2857142857142857)]"
      ]
     },
     "execution_count": 134,
     "metadata": {},
     "output_type": "execute_result"
    }
   ],
   "source": [
    "clos = nx.closeness_centrality(G)\n",
    "# let's list the scores\n",
    "sorted(clos.items(), key=itemgetter(1), reverse=True)"
   ]
  },
  {
   "cell_type": "markdown",
   "metadata": {},
   "source": [
    "### Eigenvector Centrality\n",
    "\n",
    "Eigenvector centrality gibt jedem Knoten relative gewichte, basierend auf der Idee dass Knoten mit hohen Gewichten auch viel zur Zentrelität beitragen als Knoten mit niedrigen Gewichten.  \n",
    "\n",
    "Googles pagerank ist eine variante der Eigenvektor zentralität. (NetworkX kann auch pagerank)\n",
    "![1](img/corleone.png)"
   ]
  },
  {
   "cell_type": "code",
   "execution_count": 143,
   "metadata": {},
   "outputs": [
    {
     "data": {
      "text/plain": [
       "[('Medici', 0.4303154258349923),\n",
       " ('Strozzi', 0.3559730326460451),\n",
       " ('Ridolfi', 0.3415544259074365),\n",
       " ('Tornabuoni', 0.325846704169574),\n",
       " ('Guadagni', 0.2891171573226501),\n",
       " ('Bischeri', 0.2827943958713356),\n",
       " ('Peruzzi', 0.2757224374104833),\n",
       " ('Castellani', 0.2590200378423514),\n",
       " ('Albizzi', 0.2439605296754477),\n",
       " ('Barbadori', 0.2117057470647985),\n",
       " ('Salviati', 0.14592084164171834),\n",
       " ('Acciaiuoli', 0.1321573195285342),\n",
       " ('Lamberteschi', 0.08879253113499548),\n",
       " ('Ginori', 0.0749245316027793),\n",
       " ('Pazzi', 0.044814939703863084)]"
      ]
     },
     "execution_count": 143,
     "metadata": {},
     "output_type": "execute_result"
    }
   ],
   "source": [
    "eig = nx.eigenvector_centrality(G)\n",
    "# let's list the scores\n",
    "sorted(eig.items(), key=itemgetter(1), reverse=True)"
   ]
  },
  {
   "cell_type": "markdown",
   "metadata": {},
   "source": [
    "### Korrelation zwichen Zentralitätsmaßen\n",
    "\n",
    "Wir sehen dass die Medici in vier Maßen die höchste Zentralität hatten, das muss aber nicht immer der Fall sein. \n",
    "\n",
    "In der Praxis ist es nützlich sich die Korrelation zwichen den Zentralitätsmaßen ausgeben zu lassen um zu schauen ob sie unterschiedliche Aspekte beleuchten oder nicht. Am einfachsten geht es mit pandas. "
   ]
  },
  {
   "cell_type": "code",
   "execution_count": 146,
   "metadata": {},
   "outputs": [
    {
     "name": "stdout",
     "output_type": "stream",
     "text": [
      "Requirement already satisfied: seaborn in /usr/local/lib/python3.7/site-packages (0.9.0)\n",
      "Requirement already satisfied: scipy>=0.14.0 in /usr/local/lib/python3.7/site-packages (from seaborn) (1.2.0)\n",
      "Requirement already satisfied: pandas>=0.15.2 in /usr/local/lib/python3.7/site-packages (from seaborn) (0.23.4)\n",
      "Requirement already satisfied: matplotlib>=1.4.3 in /usr/local/lib/python3.7/site-packages (from seaborn) (3.0.2)\n",
      "Requirement already satisfied: numpy>=1.9.3 in /usr/local/lib/python3.7/site-packages (from seaborn) (1.15.4)\n",
      "Requirement already satisfied: python-dateutil>=2.5.0 in /usr/local/lib/python3.7/site-packages (from pandas>=0.15.2->seaborn) (2.8.1)\n",
      "Requirement already satisfied: pytz>=2011k in /usr/local/lib/python3.7/site-packages (from pandas>=0.15.2->seaborn) (2019.3)\n",
      "Requirement already satisfied: pyparsing!=2.0.4,!=2.1.2,!=2.1.6,>=2.0.1 in /usr/local/lib/python3.7/site-packages (from matplotlib>=1.4.3->seaborn) (2.3.1)\n",
      "Requirement already satisfied: kiwisolver>=1.0.1 in /usr/local/lib/python3.7/site-packages (from matplotlib>=1.4.3->seaborn) (1.0.1)\n",
      "Requirement already satisfied: cycler>=0.10 in /usr/local/lib/python3.7/site-packages (from matplotlib>=1.4.3->seaborn) (0.10.0)\n",
      "Requirement already satisfied: six>=1.5 in /usr/local/lib/python3.7/site-packages (from python-dateutil>=2.5.0->pandas>=0.15.2->seaborn) (1.12.0)\n",
      "Requirement already satisfied: setuptools in /usr/local/lib/python3.7/site-packages (from kiwisolver>=1.0.1->matplotlib>=1.4.3->seaborn) (41.0.1)\n",
      "\u001b[33mYou are using pip version 19.0.2, however version 19.3.1 is available.\n",
      "You should consider upgrading via the 'pip install --upgrade pip' command.\u001b[0m\n"
     ]
    }
   ],
   "source": [
    "!pip install seaborn"
   ]
  },
  {
   "cell_type": "code",
   "execution_count": 144,
   "metadata": {},
   "outputs": [],
   "source": [
    "import pandas as pd\n",
    "import seaborn as sns"
   ]
  },
  {
   "cell_type": "code",
   "execution_count": 145,
   "metadata": {},
   "outputs": [
    {
     "data": {
      "text/html": [
       "<div>\n",
       "<style scoped>\n",
       "    .dataframe tbody tr th:only-of-type {\n",
       "        vertical-align: middle;\n",
       "    }\n",
       "\n",
       "    .dataframe tbody tr th {\n",
       "        vertical-align: top;\n",
       "    }\n",
       "\n",
       "    .dataframe thead th {\n",
       "        text-align: right;\n",
       "    }\n",
       "</style>\n",
       "<table border=\"1\" class=\"dataframe\">\n",
       "  <thead>\n",
       "    <tr style=\"text-align: right;\">\n",
       "      <th></th>\n",
       "      <th>degree</th>\n",
       "      <th>betweenness</th>\n",
       "      <th>closeness</th>\n",
       "      <th>eigenvector</th>\n",
       "    </tr>\n",
       "  </thead>\n",
       "  <tbody>\n",
       "    <tr>\n",
       "      <th>Acciaiuoli</th>\n",
       "      <td>0.071429</td>\n",
       "      <td>0.000000</td>\n",
       "      <td>0.368421</td>\n",
       "      <td>0.132157</td>\n",
       "    </tr>\n",
       "    <tr>\n",
       "      <th>Albizzi</th>\n",
       "      <td>0.214286</td>\n",
       "      <td>0.212454</td>\n",
       "      <td>0.482759</td>\n",
       "      <td>0.243961</td>\n",
       "    </tr>\n",
       "    <tr>\n",
       "      <th>Barbadori</th>\n",
       "      <td>0.142857</td>\n",
       "      <td>0.093407</td>\n",
       "      <td>0.437500</td>\n",
       "      <td>0.211706</td>\n",
       "    </tr>\n",
       "    <tr>\n",
       "      <th>Bischeri</th>\n",
       "      <td>0.214286</td>\n",
       "      <td>0.104396</td>\n",
       "      <td>0.400000</td>\n",
       "      <td>0.282794</td>\n",
       "    </tr>\n",
       "    <tr>\n",
       "      <th>Castellani</th>\n",
       "      <td>0.214286</td>\n",
       "      <td>0.054945</td>\n",
       "      <td>0.388889</td>\n",
       "      <td>0.259020</td>\n",
       "    </tr>\n",
       "    <tr>\n",
       "      <th>Ginori</th>\n",
       "      <td>0.071429</td>\n",
       "      <td>0.000000</td>\n",
       "      <td>0.333333</td>\n",
       "      <td>0.074925</td>\n",
       "    </tr>\n",
       "    <tr>\n",
       "      <th>Guadagni</th>\n",
       "      <td>0.285714</td>\n",
       "      <td>0.254579</td>\n",
       "      <td>0.466667</td>\n",
       "      <td>0.289117</td>\n",
       "    </tr>\n",
       "    <tr>\n",
       "      <th>Lamberteschi</th>\n",
       "      <td>0.071429</td>\n",
       "      <td>0.000000</td>\n",
       "      <td>0.325581</td>\n",
       "      <td>0.088793</td>\n",
       "    </tr>\n",
       "    <tr>\n",
       "      <th>Medici</th>\n",
       "      <td>0.428571</td>\n",
       "      <td>0.521978</td>\n",
       "      <td>0.560000</td>\n",
       "      <td>0.430315</td>\n",
       "    </tr>\n",
       "    <tr>\n",
       "      <th>Pazzi</th>\n",
       "      <td>0.071429</td>\n",
       "      <td>0.000000</td>\n",
       "      <td>0.285714</td>\n",
       "      <td>0.044815</td>\n",
       "    </tr>\n",
       "    <tr>\n",
       "      <th>Peruzzi</th>\n",
       "      <td>0.214286</td>\n",
       "      <td>0.021978</td>\n",
       "      <td>0.368421</td>\n",
       "      <td>0.275722</td>\n",
       "    </tr>\n",
       "    <tr>\n",
       "      <th>Ridolfi</th>\n",
       "      <td>0.214286</td>\n",
       "      <td>0.113553</td>\n",
       "      <td>0.500000</td>\n",
       "      <td>0.341554</td>\n",
       "    </tr>\n",
       "    <tr>\n",
       "      <th>Salviati</th>\n",
       "      <td>0.142857</td>\n",
       "      <td>0.142857</td>\n",
       "      <td>0.388889</td>\n",
       "      <td>0.145921</td>\n",
       "    </tr>\n",
       "    <tr>\n",
       "      <th>Strozzi</th>\n",
       "      <td>0.285714</td>\n",
       "      <td>0.102564</td>\n",
       "      <td>0.437500</td>\n",
       "      <td>0.355973</td>\n",
       "    </tr>\n",
       "    <tr>\n",
       "      <th>Tornabuoni</th>\n",
       "      <td>0.214286</td>\n",
       "      <td>0.091575</td>\n",
       "      <td>0.482759</td>\n",
       "      <td>0.325847</td>\n",
       "    </tr>\n",
       "  </tbody>\n",
       "</table>\n",
       "</div>"
      ],
      "text/plain": [
       "                degree  betweenness  closeness  eigenvector\n",
       "Acciaiuoli    0.071429     0.000000   0.368421     0.132157\n",
       "Albizzi       0.214286     0.212454   0.482759     0.243961\n",
       "Barbadori     0.142857     0.093407   0.437500     0.211706\n",
       "Bischeri      0.214286     0.104396   0.400000     0.282794\n",
       "Castellani    0.214286     0.054945   0.388889     0.259020\n",
       "Ginori        0.071429     0.000000   0.333333     0.074925\n",
       "Guadagni      0.285714     0.254579   0.466667     0.289117\n",
       "Lamberteschi  0.071429     0.000000   0.325581     0.088793\n",
       "Medici        0.428571     0.521978   0.560000     0.430315\n",
       "Pazzi         0.071429     0.000000   0.285714     0.044815\n",
       "Peruzzi       0.214286     0.021978   0.368421     0.275722\n",
       "Ridolfi       0.214286     0.113553   0.500000     0.341554\n",
       "Salviati      0.142857     0.142857   0.388889     0.145921\n",
       "Strozzi       0.285714     0.102564   0.437500     0.355973\n",
       "Tornabuoni    0.214286     0.091575   0.482759     0.325847"
      ]
     },
     "execution_count": 145,
     "metadata": {},
     "output_type": "execute_result"
    }
   ],
   "source": [
    "centrality_measures = {\n",
    "    'degree': degc,\n",
    "    'betweenness': bet,\n",
    "    'closeness': clos,\n",
    "    'eigenvector': eig,\n",
    "}\n",
    "centrality = pd.DataFrame(centrality_measures)\n",
    "centrality"
   ]
  },
  {
   "cell_type": "code",
   "execution_count": 147,
   "metadata": {},
   "outputs": [
    {
     "data": {
      "text/plain": [
       "<seaborn.axisgrid.PairGrid at 0x1283bfe10>"
      ]
     },
     "execution_count": 147,
     "metadata": {},
     "output_type": "execute_result"
    },
    {
     "data": {
      "image/png": "[encoded data removed]",
      "text/plain": [
       "<Figure size 720x720 with 20 Axes>"
      ]
     },
     "metadata": {
      "needs_background": "light"
     },
     "output_type": "display_data"
    }
   ],
   "source": [
    "sns.pairplot(centrality)"
   ]
  },
  {
   "cell_type": "markdown",
   "metadata": {
    "collapsed": true
   },
   "source": [
    "#### Ein Beispiel mit nicht hoch korrelierten Zentraltitätsmaßen\n",
    "\n",
    "Ein Graph mit zwei Comminities die über eine Person verbunden werden. Diese Person hat einen hohe Betweeness und Closenss aber eben eine niedrigen Degree und Eigenvektor Zentralität."
   ]
  },
  {
   "cell_type": "code",
   "execution_count": 148,
   "metadata": {},
   "outputs": [
    {
     "data": {
      "image/png": "[encoded data removed]",
      "text/plain": [
       "<Figure size 432x288 with 1 Axes>"
      ]
     },
     "metadata": {},
     "output_type": "display_data"
    }
   ],
   "source": [
    "done = False\n",
    "while not done:\n",
    "    B = nx.disjoint_union(nx.fast_gnp_random_graph(10, 0.5), nx.fast_gnp_random_graph(10, 0.5))\n",
    "    B.add_edges_from([('A', 0), ('A', 15)])\n",
    "    try:\n",
    "        eig = nx.eigenvector_centrality(B)\n",
    "        if nx.is_connected(B):\n",
    "            done = True\n",
    "    except:\n",
    "        pass\n",
    "nx.draw(B, node_size=400, node_color='white', with_labels=True)"
   ]
  },
  {
   "cell_type": "markdown",
   "metadata": {},
   "source": [
    "#### Aufgabe\n",
    "\n",
    "Analysiert die Zentralitätsmaße und macht einen ähnlichen Vergleich wie oben. "
   ]
  },
  {
   "cell_type": "code",
   "execution_count": 156,
   "metadata": {},
   "outputs": [],
   "source": [
    "# Degree Centrality\n",
    "degc = nx.degree_centrality(B)\n",
    "#sorted(degc.items(), key=itemgetter(1), reverse=True)"
   ]
  },
  {
   "cell_type": "code",
   "execution_count": 157,
   "metadata": {},
   "outputs": [],
   "source": [
    "# Betweenness Centrality\n",
    "bet = nx.betweenness_centrality(B)\n",
    "#sorted(bet.items(), key=itemgetter(1), reverse=True)"
   ]
  },
  {
   "cell_type": "code",
   "execution_count": 158,
   "metadata": {},
   "outputs": [],
   "source": [
    "# Closeness centrality\n",
    "clos = nx.closeness_centrality(B)\n",
    "#sorted(clos.items(), key=itemgetter(1), reverse=True)"
   ]
  },
  {
   "cell_type": "code",
   "execution_count": 159,
   "metadata": {},
   "outputs": [],
   "source": [
    "# Eigenvector centrality\n",
    "eig = nx.eigenvector_centrality(B)\n",
    "#sorted(eig.items(), key=itemgetter(1), reverse=True)"
   ]
  },
  {
   "cell_type": "code",
   "execution_count": 154,
   "metadata": {},
   "outputs": [
    {
     "data": {
      "text/html": [
       "<div>\n",
       "<style scoped>\n",
       "    .dataframe tbody tr th:only-of-type {\n",
       "        vertical-align: middle;\n",
       "    }\n",
       "\n",
       "    .dataframe tbody tr th {\n",
       "        vertical-align: top;\n",
       "    }\n",
       "\n",
       "    .dataframe thead th {\n",
       "        text-align: right;\n",
       "    }\n",
       "</style>\n",
       "<table border=\"1\" class=\"dataframe\">\n",
       "  <thead>\n",
       "    <tr style=\"text-align: right;\">\n",
       "      <th></th>\n",
       "      <th>degree</th>\n",
       "      <th>betweenness</th>\n",
       "      <th>closeness</th>\n",
       "      <th>eigenvector</th>\n",
       "    </tr>\n",
       "  </thead>\n",
       "  <tbody>\n",
       "    <tr>\n",
       "      <th>0</th>\n",
       "      <td>0.20</td>\n",
       "      <td>0.521053</td>\n",
       "      <td>0.400000</td>\n",
       "      <td>0.011855</td>\n",
       "    </tr>\n",
       "    <tr>\n",
       "      <th>1</th>\n",
       "      <td>0.10</td>\n",
       "      <td>0.000000</td>\n",
       "      <td>0.227273</td>\n",
       "      <td>0.000252</td>\n",
       "    </tr>\n",
       "    <tr>\n",
       "      <th>2</th>\n",
       "      <td>0.25</td>\n",
       "      <td>0.239474</td>\n",
       "      <td>0.350877</td>\n",
       "      <td>0.003354</td>\n",
       "    </tr>\n",
       "    <tr>\n",
       "      <th>3</th>\n",
       "      <td>0.10</td>\n",
       "      <td>0.047368</td>\n",
       "      <td>0.273973</td>\n",
       "      <td>0.000606</td>\n",
       "    </tr>\n",
       "    <tr>\n",
       "      <th>4</th>\n",
       "      <td>0.15</td>\n",
       "      <td>0.052632</td>\n",
       "      <td>0.277778</td>\n",
       "      <td>0.000740</td>\n",
       "    </tr>\n",
       "    <tr>\n",
       "      <th>5</th>\n",
       "      <td>0.15</td>\n",
       "      <td>0.000000</td>\n",
       "      <td>0.327869</td>\n",
       "      <td>0.003158</td>\n",
       "    </tr>\n",
       "    <tr>\n",
       "      <th>6</th>\n",
       "      <td>0.25</td>\n",
       "      <td>0.239474</td>\n",
       "      <td>0.350877</td>\n",
       "      <td>0.003354</td>\n",
       "    </tr>\n",
       "    <tr>\n",
       "      <th>7</th>\n",
       "      <td>0.10</td>\n",
       "      <td>0.047368</td>\n",
       "      <td>0.273973</td>\n",
       "      <td>0.000606</td>\n",
       "    </tr>\n",
       "    <tr>\n",
       "      <th>8</th>\n",
       "      <td>0.15</td>\n",
       "      <td>0.052632</td>\n",
       "      <td>0.277778</td>\n",
       "      <td>0.000740</td>\n",
       "    </tr>\n",
       "    <tr>\n",
       "      <th>9</th>\n",
       "      <td>0.10</td>\n",
       "      <td>0.005263</td>\n",
       "      <td>0.227273</td>\n",
       "      <td>0.000206</td>\n",
       "    </tr>\n",
       "    <tr>\n",
       "      <th>10</th>\n",
       "      <td>0.45</td>\n",
       "      <td>0.082281</td>\n",
       "      <td>0.344828</td>\n",
       "      <td>0.450035</td>\n",
       "    </tr>\n",
       "    <tr>\n",
       "      <th>11</th>\n",
       "      <td>0.25</td>\n",
       "      <td>0.019912</td>\n",
       "      <td>0.322581</td>\n",
       "      <td>0.286156</td>\n",
       "    </tr>\n",
       "    <tr>\n",
       "      <th>12</th>\n",
       "      <td>0.30</td>\n",
       "      <td>0.050088</td>\n",
       "      <td>0.327869</td>\n",
       "      <td>0.335042</td>\n",
       "    </tr>\n",
       "    <tr>\n",
       "      <th>13</th>\n",
       "      <td>0.30</td>\n",
       "      <td>0.011579</td>\n",
       "      <td>0.277778</td>\n",
       "      <td>0.320899</td>\n",
       "    </tr>\n",
       "    <tr>\n",
       "      <th>14</th>\n",
       "      <td>0.20</td>\n",
       "      <td>0.002632</td>\n",
       "      <td>0.270270</td>\n",
       "      <td>0.232641</td>\n",
       "    </tr>\n",
       "    <tr>\n",
       "      <th>15</th>\n",
       "      <td>0.35</td>\n",
       "      <td>0.529737</td>\n",
       "      <td>0.400000</td>\n",
       "      <td>0.340174</td>\n",
       "    </tr>\n",
       "    <tr>\n",
       "      <th>16</th>\n",
       "      <td>0.20</td>\n",
       "      <td>0.029737</td>\n",
       "      <td>0.317460</td>\n",
       "      <td>0.233513</td>\n",
       "    </tr>\n",
       "    <tr>\n",
       "      <th>17</th>\n",
       "      <td>0.25</td>\n",
       "      <td>0.015439</td>\n",
       "      <td>0.322581</td>\n",
       "      <td>0.295489</td>\n",
       "    </tr>\n",
       "    <tr>\n",
       "      <th>18</th>\n",
       "      <td>0.25</td>\n",
       "      <td>0.008947</td>\n",
       "      <td>0.273973</td>\n",
       "      <td>0.262349</td>\n",
       "    </tr>\n",
       "    <tr>\n",
       "      <th>19</th>\n",
       "      <td>0.30</td>\n",
       "      <td>0.033860</td>\n",
       "      <td>0.327869</td>\n",
       "      <td>0.340715</td>\n",
       "    </tr>\n",
       "    <tr>\n",
       "      <th>A</th>\n",
       "      <td>0.10</td>\n",
       "      <td>0.526316</td>\n",
       "      <td>0.408163</td>\n",
       "      <td>0.059852</td>\n",
       "    </tr>\n",
       "  </tbody>\n",
       "</table>\n",
       "</div>"
      ],
      "text/plain": [
       "    degree  betweenness  closeness  eigenvector\n",
       "0     0.20     0.521053   0.400000     0.011855\n",
       "1     0.10     0.000000   0.227273     0.000252\n",
       "2     0.25     0.239474   0.350877     0.003354\n",
       "3     0.10     0.047368   0.273973     0.000606\n",
       "4     0.15     0.052632   0.277778     0.000740\n",
       "5     0.15     0.000000   0.327869     0.003158\n",
       "6     0.25     0.239474   0.350877     0.003354\n",
       "7     0.10     0.047368   0.273973     0.000606\n",
       "8     0.15     0.052632   0.277778     0.000740\n",
       "9     0.10     0.005263   0.227273     0.000206\n",
       "10    0.45     0.082281   0.344828     0.450035\n",
       "11    0.25     0.019912   0.322581     0.286156\n",
       "12    0.30     0.050088   0.327869     0.335042\n",
       "13    0.30     0.011579   0.277778     0.320899\n",
       "14    0.20     0.002632   0.270270     0.232641\n",
       "15    0.35     0.529737   0.400000     0.340174\n",
       "16    0.20     0.029737   0.317460     0.233513\n",
       "17    0.25     0.015439   0.322581     0.295489\n",
       "18    0.25     0.008947   0.273973     0.262349\n",
       "19    0.30     0.033860   0.327869     0.340715\n",
       "A     0.10     0.526316   0.408163     0.059852"
      ]
     },
     "execution_count": 154,
     "metadata": {},
     "output_type": "execute_result"
    }
   ],
   "source": [
    "# Build a pandas DataFrame with nodes as rows and centrality scores as columns\n",
    "centrality_measures = {\n",
    "    'degree': nx.degree_centrality(B),\n",
    "    'betweenness': nx.betweenness_centrality(B),\n",
    "    'closeness': nx.closeness_centrality(B),\n",
    "    'eigenvector': nx.eigenvector_centrality(B),\n",
    "}\n",
    "centrality = pd.DataFrame(centrality_measures)\n",
    "centrality"
   ]
  },
  {
   "cell_type": "code",
   "execution_count": 160,
   "metadata": {},
   "outputs": [
    {
     "data": {
      "text/plain": [
       "<seaborn.axisgrid.PairGrid at 0x128cfd910>"
      ]
     },
     "execution_count": 160,
     "metadata": {},
     "output_type": "execute_result"
    },
    {
     "data": {
      "image/png": "[encoded data removed]",
      "text/plain": [
       "<Figure size 720x720 with 20 Axes>"
      ]
     },
     "metadata": {
      "needs_background": "light"
     },
     "output_type": "display_data"
    }
   ],
   "source": [
    "# Plot a pairplot of the centrality scores to see their correlation\n",
    "sns.pairplot(centrality)"
   ]
  },
  {
   "cell_type": "markdown",
   "metadata": {
    "collapsed": true
   },
   "source": [
    "# Community detection\n",
    "- Man kann auch mit Zusatzmodulen automatisch Communities detecten, was sehr praktisch ist. Aber in Gephi geht das ganze noch schöner...\n",
    "- ```pip3 install python-louvain```"
   ]
  },
  {
   "cell_type": "code",
   "execution_count": 161,
   "metadata": {},
   "outputs": [
    {
     "name": "stdout",
     "output_type": "stream",
     "text": [
      "Collecting python-louvain\n",
      "  Downloading https://files.pythonhosted.org/packages/96/b2/c74bb9023c8d4bf94f5049e3d705b3064c6f180a38d772055d20ba5a8d06/python-louvain-0.13.tar.gz\n",
      "Requirement already satisfied: networkx in /usr/local/lib/python3.7/site-packages (from python-louvain) (2.3)\n",
      "Requirement already satisfied: decorator>=4.3.0 in /usr/local/lib/python3.7/site-packages (from networkx->python-louvain) (4.3.0)\n",
      "Building wheels for collected packages: python-louvain\n",
      "  Building wheel for python-louvain (setup.py) ... \u001b[?25ldone\n",
      "\u001b[?25h  Stored in directory: /Users/plotti/Library/Caches/pip/wheels/f9/74/a9/14f051b00dddd46d71529db15507796da13a43ee2c0bc39def\n",
      "Successfully built python-louvain\n",
      "Installing collected packages: python-louvain\n",
      "Successfully installed python-louvain-0.13\n",
      "\u001b[33mYou are using pip version 19.0.2, however version 19.3.1 is available.\n",
      "You should consider upgrading via the 'pip install --upgrade pip' command.\u001b[0m\n"
     ]
    }
   ],
   "source": [
    "!pip install python-louvain"
   ]
  },
  {
   "cell_type": "code",
   "execution_count": 163,
   "metadata": {},
   "outputs": [
    {
     "name": "stdout",
     "output_type": "stream",
     "text": [
      "34 nodes, 78 edges\n"
     ]
    },
    {
     "data": {
      "image/png": "[encoded data removed]",
      "text/plain": [
       "<Figure size 432x288 with 1 Axes>"
      ]
     },
     "metadata": {},
     "output_type": "display_data"
    }
   ],
   "source": [
    "import networkx as nx\n",
    "import community\n",
    "import matplotlib.pyplot as plt\n",
    " \n",
    "# Load standard \"Karate club\" graph\n",
    "G = nx.karate_club_graph()\n",
    "\n",
    "print(\"%d nodes, %d edges\" % ( len(G.nodes()), len(G.edges()) ))\n",
    "\n",
    "# Apply Louvain algorithm\n",
    "partition = community.best_partition(G)\n",
    "\n",
    "#drawing\n",
    "size = float(len(set(partition.values())))\n",
    "pos = nx.spring_layout(G)\n",
    "count = 0.\n",
    "for com in set(partition.values()) :\n",
    "    count = count + 1.\n",
    "    list_nodes = [nodes for nodes in partition.keys()\n",
    "                                if partition[nodes] == com]\n",
    "    nx.draw_networkx_nodes(G, pos, list_nodes, node_size = 20,\n",
    "                                node_color = str(count / size))\n",
    "\n",
    "\n",
    "nx.draw_networkx_edges(G, pos, alpha=0.5)\n",
    "plt.show()"
   ]
  },
  {
   "cell_type": "markdown",
   "metadata": {},
   "source": [
    "# Weiterführende Literatur"
   ]
  },
  {
   "cell_type": "markdown",
   "metadata": {},
   "source": [
    "- http://www.yasiv.com/#/Search?q=social%20network%20analysis&category=Books&lang=US\n",
    "![1](img/yassiv.png)"
   ]
  },
  {
   "cell_type": "code",
   "execution_count": null,
   "metadata": {},
   "outputs": [],
   "source": []
  }
 ],
 "metadata": {
  "kernelspec": {
   "display_name": "Python 3",
   "language": "python",
   "name": "python3"
  },
  "language_info": {
   "codemirror_mode": {
    "name": "ipython",
    "version": 3
   },
   "file_extension": ".py",
   "mimetype": "text/x-python",
   "name": "python",
   "nbconvert_exporter": "python",
   "pygments_lexer": "ipython3",
   "version": "3.7.4"
  }
 },
 "nbformat": 4,
 "nbformat_minor": 1
}
